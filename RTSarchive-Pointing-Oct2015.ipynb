{
 "cells": [
  {
   "cell_type": "code",
   "execution_count": 13,
   "metadata": {
    "collapsed": true
   },
   "outputs": [],
   "source": [
    "import katarchive\n",
    "import datetime\n"
   ]
  },
  {
   "cell_type": "code",
   "execution_count": 14,
   "metadata": {
    "collapsed": true
   },
   "outputs": [],
   "source": [
    "#%matplotlib inline\n",
    "import numpy as np"
   ]
  },
  {
   "cell_type": "code",
   "execution_count": 15,
   "metadata": {
    "collapsed": true
   },
   "outputs": [],
   "source": [
    "#import matplotlib.pyplot as plt"
   ]
  },
  {
   "cell_type": "code",
   "execution_count": 16,
   "metadata": {
    "collapsed": false
   },
   "outputs": [],
   "source": [
    "import katdal as katfile\n",
    "#import katfile\n",
    "import datetime\n",
    "\n",
    "#import logging\n",
    "#logging.root.setLevel(logging.ERROR)"
   ]
  },
  {
   "cell_type": "code",
   "execution_count": 17,
   "metadata": {
    "collapsed": true
   },
   "outputs": [],
   "source": [
    "katarchive.product_filter.only_rts()"
   ]
  },
  {
   "cell_type": "code",
   "execution_count": 18,
   "metadata": {
    "collapsed": false,
    "scrolled": true
   },
   "outputs": [],
   "source": [
    "#print katarchive.search_archive(startdate='1/11/2015',enddate='31/11/2015')"
   ]
  },
  {
   "cell_type": "code",
   "execution_count": 19,
   "metadata": {
    "collapsed": true
   },
   "outputs": [],
   "source": [
    "start=\"1/10/2015\"\n",
    "end=\"31/10/2015\""
   ]
  },
  {
   "cell_type": "code",
   "execution_count": 20,
   "metadata": {
    "collapsed": false
   },
   "outputs": [
    {
     "name": "stdout",
     "output_type": "stream",
     "text": [
      "Searched using: CAS.ProductTypeName:(RTSTelescopeProduct) AND CAS.ProductTransferStatus:RECEIVED AND Description:Point AND StartTime:[2015-09-30T22:00:00Z TO 2015-10-31T21:59:59Z]\n",
      "Returning 42 results\n"
     ]
    }
   ],
   "source": [
    "#Look for pointing\n",
    "\n",
    "f=katarchive.search_archive(description=\"Point\",startdate=start,enddate=end)\n",
    "\n",
    "start = datetime.datetime.strptime(f[-1].__str__().split('\\'')[3],'%Y-%m-%d %H:%M:%S %Z')\n",
    "end = datetime.datetime.strptime(f[0].__str__().split('\\'')[3],'%Y-%m-%d %H:%M:%S %Z')"
   ]
  },
  {
   "cell_type": "code",
   "execution_count": 21,
   "metadata": {
    "collapsed": false
   },
   "outputs": [
    {
     "name": "stdout",
     "output_type": "stream",
     "text": [
      "First file in run:  2015-10-02T11:40:37\n",
      "Last file in run:  2015-10-28T05:12:50\n"
     ]
    }
   ],
   "source": [
    "print 'First file in run: ' , start.isoformat()\n",
    "print 'Last file in run: ' , end.isoformat()"
   ]
  },
  {
   "cell_type": "code",
   "execution_count": 22,
   "metadata": {
    "collapsed": true
   },
   "outputs": [],
   "source": [
    "f.sort(reverse=1) # newest to the bottom"
   ]
  },
  {
   "cell_type": "code",
   "execution_count": 23,
   "metadata": {
    "collapsed": false
   },
   "outputs": [
    {
     "name": "stdout",
     "output_type": "stream",
     "text": [
      "RTS: 2.7.1 Ku-band Pointing\n",
      "/var/kat/archive/data/RTS/telescope_products/2015/10/02\n",
      "1443778836.h5\n",
      "[u'm062', u'm063']\n",
      "[u'offset_7', u'offset_12', u'offset_10', u'3C279', u'offset_11', u'offset_9', u'1424-418', u'offset_8', u'0727-115', u'offset_4', u'offset_5', u'offset_6', u'offset_3', u'offset_13', u'offset_1', u'offset_2', u'3C273']\n",
      "/home/kat/RTS/2.7-Pointing/offset_test_scan.py /home/kat/RTS/sources_bright_Ku.csv -f 12500.5 -r 1 -n off --fine --number-sources=10 --stow-when-done --proposal-id=COMM-RTS --stow-when-done --product=c856M4k --sb-id-code=20151002-0004 --description=RTS: 2.7.1 Ku-band Pointing --observer=RTS\n",
      "........................................................................................\n",
      "RTS: 2.7.1 Ku-band Pointing\n",
      "/var/kat/archive/data/RTS/telescope_products/2015/10/02\n",
      "1443786560.h5\n",
      "[u'm062', u'm063']\n",
      "[u'1830-210', u'offset_16', u'offset_17', u'offset_14', u'offset_15', u'offset_12', u'offset_13', u'offset_10', u'offset_11', u'offset_18', u'offset_19', u'1424-418', u'3C279', u'3C273', u'1921-293', u'offset_20', u'offset_8', u'offset_9', u'offset_4', u'offset_5', u'offset_6', u'offset_7', u'offset_1', u'offset_2', u'offset_3']\n",
      "/home/kat/RTS/2.7-Pointing/offset_test_scan.py /home/kat/RTS/sources_bright_Ku.csv -f 12500.5 -r 1 -n off --fine --number-sources=10 --stow-when-done --proposal-id=COMM-RTS --stow-when-done --product=c856M4k --sb-id-code=20151002-0005 --description=RTS: 2.7.1 Ku-band Pointing --observer=RTS\n",
      "........................................................................................\n",
      "RTS: 2.7.1 Ku-band Pointing\n",
      "/var/kat/archive/data/RTS/telescope_products/2015/10/02\n",
      "1443797319.h5\n",
      "[u'm062', u'm063']\n",
      "[u'1830-210', u'offset_22', u'offset_16', u'offset_17', u'offset_14', u'offset_15', u'offset_12', u'offset_13', u'offset_10', u'offset_11', u'offset_18', u'offset_19', u'1424-418', u'3C279', u'3C454.3', u'3C446', u'offset_3', u'offset_28', u'offset_23', u'1921-293', u'offset_21', u'offset_20', u'offset_27', u'offset_26', u'offset_25', u'offset_24', u'offset_8', u'offset_9', u'offset_4', u'offset_5', u'offset_6', u'offset_7', u'offset_1', u'offset_2', u'2134 004']\n",
      "/home/kat/RTS/2.7-Pointing/offset_test_scan.py /home/kat/RTS/sources_bright_Ku.csv -f 12500.5 -r 1 -n off --fine --number-sources=10 --stow-when-done --proposal-id=COMM-RTS --stow-when-done --product=c856M4k --sb-id-code=20151002-0006 --description=RTS: 2.7.1 Ku-band Pointing --observer=RTS\n",
      "........................................................................................\n",
      "RTS: 2.7.2 - Ku-band Pointing Jitter\n",
      "/var/kat/archive/data/RTS/telescope_products/2015/10/02\n",
      "1443811063.h5\n",
      "[u'm062', u'm063']\n",
      "[u'1830-210']\n",
      "/home/kat/RTS/2.6-Linearity/linearity_scan.py /home/kat/RTS/sources_bright_Ku.csv -f 12500.5 --repeat -t 300 -n off -m 1200 --number-of-steps=10 --max-extent=0.2 --horizon=20 --stow-when-done --proposal-id=COMM-RTS -r 2 --stow-when-done --product=c856M4k --sb-id-code=20151002-0007 --description=RTS: 2.7.2 - Ku-band Pointing Jitter --observer=RTS\n",
      "........................................................................................\n",
      "RTS: 2.7.1 Ku-band Pointing\n",
      "/var/kat/archive/data/RTS/telescope_products/2015/10/02\n",
      "1443814246.h5\n",
      "[u'm062', u'm063']\n",
      "[u'1830-210', u'offset_22', u'offset_16', u'offset_17', u'offset_14', u'offset_15', u'1921-293', u'offset_13', u'offset_10', u'offset_11', u'offset_18', u'offset_19', u'3C454.3', u'3C446', u'offset_3', u'0521-365', u'offset_23', u'offset_12', u'offset_21', u'offset_20', u'offset_24', u'offset_8', u'offset_9', u'offset_4', u'offset_5', u'offset_6', u'offset_7', u'offset_1', u'offset_2', u'2134 004']\n",
      "/home/kat/RTS/2.7-Pointing/offset_test_scan.py /home/kat/RTS/sources_bright_Ku.csv -f 12500.5 -r 1 -n off --fine --number-sources=10 --stow-when-done --proposal-id=COMM-RTS --stow-when-done --product=c856M4k --sb-id-code=20151002-0008 --description=RTS: 2.7.1 Ku-band Pointing --observer=RTS\n",
      "........................................................................................\n",
      "RTS: 2.7.2 - Ku-band Pointing Jitter\n",
      "/var/kat/archive/data/RTS/telescope_products/2015/10/02\n",
      "1443825405.h5\n",
      "[u'm062', u'm063']\n",
      "[u'0521-365']\n",
      "/home/kat/RTS/2.6-Linearity/linearity_scan.py /home/kat/RTS/sources_bright_Ku.csv -f 12500.5 --repeat -t 300 -n off -m 1200 --number-of-steps=10 --max-extent=0.2 --horizon=20 --stow-when-done --proposal-id=COMM-RTS -r 2 --stow-when-done --product=c856M4k --sb-id-code=20151002-0009 --description=RTS: 2.7.2 - Ku-band Pointing Jitter --observer=RTS\n",
      "........................................................................................\n",
      "RTS: 2.7.1 Ku-band Pointing\n",
      "/var/kat/archive/data/RTS/telescope_products/2015/10/02\n",
      "1443828505.h5\n",
      "[u'm062', u'm063']\n",
      "[u'0723-008', u'offset_20', u'offset_16', u'offset_17', u'offset_14', u'offset_15', u'offset_12', u'offset_13', u'offset_10', u'offset_11', u'offset_18', u'offset_19', u'3C446', u'0727-115', u'0521-365', u'3C123', u'offset_8', u'offset_9', u'offset_4', u'offset_5', u'offset_6', u'offset_7', u'offset_1', u'offset_2', u'offset_3']\n",
      "/home/kat/RTS/2.7-Pointing/offset_test_scan.py /home/kat/RTS/sources_bright_Ku.csv -f 12500.5 -r 1 -n off --fine --number-sources=10 --stow-when-done --proposal-id=COMM-RTS --stow-when-done --product=c856M4k --sb-id-code=20151002-0010 --description=RTS: 2.7.1 Ku-band Pointing --observer=RTS\n",
      "........................................................................................\n",
      "RTS: 2.7.2 - Ku-band Pointing Jitter\n",
      "/var/kat/archive/data/RTS/telescope_products/2015/10/03\n",
      "1443837897.h5\n",
      "[u'm062', u'm063']\n",
      "[u'3C123']\n",
      "/home/kat/RTS/2.6-Linearity/linearity_scan.py /home/kat/RTS/sources_bright_Ku.csv -f 12500.5 --repeat -t 300 -n off -m 1200 --number-of-steps=10 --max-extent=0.2 --horizon=20 --stow-when-done --proposal-id=COMM-RTS -r 2 --stow-when-done --product=c856M4k --sb-id-code=20151002-0011 --description=RTS: 2.7.2 - Ku-band Pointing Jitter --observer=RTS\n",
      "........................................................................................\n",
      "RTS: 2.7.1 Ku-band Pointing\n",
      "/var/kat/archive/data/RTS/telescope_products/2015/10/03\n",
      "1443841038.h5\n",
      "[u'm062', u'm063']\n",
      "[u'offset_16', u'offset_14', u'offset_7', u'offset_12', u'offset_13', u'offset_10', u'offset_11', u'0521-365', u'offset_9', u'offset_15', u'offset_8', u'0723-008', u'0727-115', u'offset_4', u'offset_5', u'offset_6', u'3C123', u'offset_1', u'offset_2', u'offset_3']\n",
      "/home/kat/RTS/2.7-Pointing/offset_test_scan.py /home/kat/RTS/sources_bright_Ku.csv -f 12500.5 -r 1 -n off --fine --number-sources=10 --stow-when-done --proposal-id=COMM-RTS --stow-when-done --product=c856M4k --sb-id-code=20151002-0012 --description=RTS: 2.7.1 Ku-band Pointing --observer=RTS\n",
      "........................................................................................\n",
      "RTS: 2.7.2 - Ku-band Pointing Jitter\n",
      "/var/kat/archive/data/RTS/telescope_products/2015/10/03\n",
      "1443863779.h5\n",
      "[u'm062', u'm063']\n",
      "[u'0723-008']\n",
      "/home/kat/RTS/2.6-Linearity/linearity_scan.py /home/kat/RTS/sources_bright_Ku.csv -f 12500.5 --repeat -t 300 -n off -m 1200 --number-of-steps=10 --max-extent=0.2 --horizon=20 --stow-when-done --proposal-id=COMM-RTS -r 2 --stow-when-done --product=c856M4k --sb-id-code=20151002-0013 --description=RTS: 2.7.2 - Ku-band Pointing Jitter --observer=RTS\n",
      "........................................................................................\n",
      "RTS: 2.7.2 - Ku-band Pointing Jitter\n",
      "/var/kat/archive/data/RTS/telescope_products/2015/10/03\n",
      "1443872509.h5\n",
      "[u'm062', u'm063']\n",
      "[u'3C273']\n",
      "/home/kat/RTS/2.6-Linearity/linearity_scan.py /home/kat/RTS/sources_bright_Ku.csv -f 12500.5 --repeat -t 300 -n off -m 1200 --number-of-steps=10 --max-extent=0.2 --horizon=20 --stow-when-done --proposal-id=COMM-RTS -r 2 --stow-when-done --product=c856M4k --sb-id-code=20151002-0017 --description=RTS: 2.7.2 - Ku-band Pointing Jitter --observer=RTS\n",
      "........................................................................................\n",
      "RTS: 2.7.1 Ku-band Pointing\n",
      "/var/kat/archive/data/RTS/telescope_products/2015/10/03\n",
      "1443875628.h5\n",
      "[u'm062', u'm063']\n",
      "[u'1830-210', u'offset_22', u'offset_16', u'offset_17', u'offset_14', u'offset_15', u'offset_12', u'offset_13', u'offset_10', u'offset_11', u'offset_18', u'offset_19', u'1424-418', u'2134 004', u'3C279', u'3C446', u'3C273', u'offset_28', u'offset_23', u'1921-293', u'offset_21', u'offset_20', u'offset_27', u'offset_26', u'offset_25', u'offset_24', u'offset_8', u'offset_9', u'offset_4', u'offset_5', u'offset_6', u'offset_7', u'offset_1', u'offset_2', u'offset_3']\n",
      "/home/kat/RTS/2.7-Pointing/offset_test_scan.py /home/kat/RTS/sources_bright_Ku.csv -f 12500.5 -r 1 -n off --fine --number-sources=10 --stow-when-done --proposal-id=COMM-RTS --stow-when-done --product=c856M4k --sb-id-code=20151002-0016 --description=RTS: 2.7.1 Ku-band Pointing --observer=RTS\n",
      "........................................................................................\n",
      "RTS: 2.7.1 Ku-band Pointing\n",
      "/var/kat/archive/data/RTS/telescope_products/2015/10/03\n",
      "1443888909.h5\n",
      "[u'm062', u'm063']\n",
      "[u'1830-210', u'offset_36', u'0723-008', u'offset_22', u'offset_34', u'offset_35', u'offset_20', u'offset_30', u'offset_31', u'offset_32', u'offset_33', u'offset_16', u'offset_17', u'offset_14', u'offset_15', u'1921-293', u'offset_13', u'1424-418', u'3C279', u'0727-115', u'3C273', u'0521-365', u'offset_29', u'offset_28', u'offset_23', u'offset_12', u'offset_21', u'3C123', u'offset_27', u'offset_26', u'offset_25', u'offset_24', u'offset_8', u'offset_9', u'offset_4', u'offset_5', u'offset_6', u'offset_7', u'offset_1', u'offset_2', u'offset_3']\n",
      "/home/kat/RTS/2.7-Pointing/offset_test_scan.py /home/kat/RTS/sources_bright_Ku.csv -f 12500.5 -r 1 -n off --fine --number-sources=10 --stow-when-done --proposal-id=COMM-RTS --stow-when-done --product=c856M4k --sb-id-code=20151002-0018 --description=RTS: 2.7.1 Ku-band Pointing --observer=RTS\n",
      "........................................................................................\n",
      "RTS: 2.7.2 - Ku-band Pointing Jitter\n",
      "/var/kat/archive/data/RTS/telescope_products/2015/10/04\n",
      "1443953855.h5\n",
      "[u'm062']\n",
      "[u'3C273']\n",
      "/home/kat/RTS/2.6-Linearity/linearity_scan.py /home/kat/RTS/sources_bright_Ku.csv -f 12500.5 --repeat -t 300 -n off -m 1200 --number-of-steps=10 --max-extent=0.2 --horizon=20 --stow-when-done --proposal-id=COMM-RTS -r 2 --stow-when-done --product=c856M4k --sb-id-code=20151002-0019 --description=RTS: 2.7.2 - Ku-band Pointing Jitter --observer=RTS\n",
      "........................................................................................\n",
      "RTS: 2.7.1 Ku-band Pointing\n",
      "/var/kat/archive/data/RTS/telescope_products/2015/10/04\n",
      "1443954620.h5\n",
      "[u'm062', u'm063']\n",
      "[u'1830-210', u'offset_16', u'offset_17', u'offset_14', u'offset_15', u'offset_12', u'offset_13', u'offset_10', u'offset_11', u'offset_18', u'offset_19', u'1424-418', u'3C279', u'3C273', u'1921-293', u'offset_20', u'offset_8', u'offset_9', u'offset_4', u'offset_5', u'offset_6', u'offset_7', u'offset_1', u'offset_2', u'offset_3']\n",
      "/home/kat/RTS/2.7-Pointing/offset_test_scan.py /home/kat/RTS/sources_bright_Ku.csv -f 12500.5 -r 1 -n off --fine --number-sources=10 --stow-when-done --proposal-id=COMM-RTS --stow-when-done --product=c856M4k --sb-id-code=20151002-0020 --description=RTS: 2.7.1 Ku-band Pointing --observer=RTS\n",
      "........................................................................................\n",
      "RTS: 2.7.2 - Ku-band Pointing Jitter\n",
      "/var/kat/archive/data/RTS/telescope_products/2015/10/04\n",
      "1443964194.h5\n",
      "[u'm062', u'm063']\n",
      "[u'3C273']\n",
      "/home/kat/RTS/2.6-Linearity/linearity_scan.py /home/kat/RTS/sources_bright_Ku.csv -f 12500.5 --repeat -t 300 -n off -m 1200 --number-of-steps=10 --max-extent=0.2 --horizon=20 --stow-when-done --proposal-id=COMM-RTS -r 2 --stow-when-done --product=c856M4k --sb-id-code=20151004-0001 --description=RTS: 2.7.2 - Ku-band Pointing Jitter --observer=RTS\n",
      "........................................................................................\n",
      "RTS: 2.7.2 - Ku-band Pointing Jitter\n",
      "/var/kat/archive/data/RTS/telescope_products/2015/10/04\n",
      "1443967424.h5\n",
      "[u'm062', u'm063']\n",
      "[u'3C273']\n",
      "/home/kat/RTS/2.6-Linearity/linearity_scan.py /home/kat/RTS/sources_bright_Ku.csv -f 12500.5 --repeat -t 300 -n off -m 1200 --number-of-steps=10 --max-extent=0.2 --horizon=20 --stow-when-done --proposal-id=COMM-RTS -r 2 --stow-when-done --product=c856M4k --sb-id-code=20151002-0021 --description=RTS: 2.7.2 - Ku-band Pointing Jitter --observer=RTS\n",
      "........................................................................................\n",
      "RTS: 2.7.2 - Ku-band Pointing Jitter\n",
      "/var/kat/archive/data/RTS/telescope_products/2015/10/04\n",
      "1443970520.h5\n",
      "[u'm062', u'm063']\n",
      "[u'3C279']\n",
      "/home/kat/RTS/2.6-Linearity/linearity_scan.py /home/kat/RTS/sources_bright_Ku.csv -f 12500.5 --repeat -t 300 -n off -m 1200 --number-of-steps=10 --max-extent=0.2 --horizon=20 --stow-when-done --proposal-id=COMM-RTS -r 2 --stow-when-done --product=c856M4k --sb-id-code=20151003-0001 --description=RTS: 2.7.2 - Ku-band Pointing Jitter --observer=RTS\n",
      "........................................................................................\n",
      "RTS: 2.7.2 - Ku-band Pointing Jitter\n",
      "/var/kat/archive/data/RTS/telescope_products/2015/10/04\n",
      "1443973630.h5\n",
      "[u'm062', u'm063']\n",
      "[u'1424-418']\n",
      "/home/kat/RTS/2.6-Linearity/linearity_scan.py /home/kat/RTS/sources_bright_Ku.csv -f 12500.5 --repeat -t 300 -n off -m 1200 --number-of-steps=10 --max-extent=0.2 --horizon=20 --stow-when-done --proposal-id=COMM-RTS -r 2 --stow-when-done --product=c856M4k --sb-id-code=20151003-0002 --description=RTS: 2.7.2 - Ku-band Pointing Jitter --observer=RTS\n",
      "........................................................................................\n",
      "RTS: 2.7.2 - Ku-band Pointing Jitter\n",
      "/var/kat/archive/data/RTS/telescope_products/2015/10/04\n",
      "1443976781.h5\n",
      "[u'm062', u'm063']\n",
      "[u'1424-418']\n",
      "/home/kat/RTS/2.6-Linearity/linearity_scan.py /home/kat/RTS/sources_bright_Ku.csv -f 12500.5 --repeat -t 300 -n off -m 1200 --number-of-steps=10 --max-extent=0.2 --horizon=20 --stow-when-done --proposal-id=COMM-RTS -r 2 --stow-when-done --product=c856M4k --sb-id-code=20151003-0004 --description=RTS: 2.7.2 - Ku-band Pointing Jitter --observer=RTS\n",
      "........................................................................................\n",
      "RTS: 2.7.1 Ku-band Pointing\n",
      "/var/kat/archive/data/RTS/telescope_products/2015/10/04\n",
      "1443979875.h5\n",
      "[u'm062', u'm063']\n",
      "[u'1830-210', u'offset_22', u'offset_16', u'offset_17', u'offset_14', u'offset_15', u'1921-293', u'offset_13', u'offset_10', u'offset_11', u'offset_18', u'offset_19', u'1424-418', u'3C454.3', u'3C446', u'offset_3', u'offset_23', u'offset_12', u'offset_21', u'offset_20', u'offset_24', u'offset_8', u'offset_9', u'offset_4', u'offset_5', u'offset_6', u'offset_7', u'offset_1', u'offset_2', u'2134 004']\n",
      "/home/kat/RTS/2.7-Pointing/offset_test_scan.py /home/kat/RTS/sources_bright_Ku.csv -f 12500.5 -r 1 -n off --fine --number-sources=10 --stow-when-done --proposal-id=COMM-RTS --stow-when-done --product=c856M4k --sb-id-code=20151003-0003 --description=RTS: 2.7.1 Ku-band Pointing --observer=RTS\n",
      "........................................................................................\n",
      "RTS: 2.7.1 Ku-band Pointing\n",
      "/var/kat/archive/data/RTS/telescope_products/2015/10/05\n",
      "1444036712.h5\n",
      "[u'm062']\n",
      "[u'1830-210', u'0723-008', u'offset_16', u'offset_17', u'offset_14', u'offset_15', u'offset_12', u'offset_13', u'offset_10', u'offset_11', u'offset_18', u'offset_19', u'1424-418', u'3C279', u'1921-293', u'0727-115', u'3C273', u'offset_28', u'offset_23', u'offset_22', u'offset_21', u'offset_20', u'offset_27', u'offset_26', u'offset_25', u'offset_24', u'offset_8', u'offset_9', u'offset_4', u'offset_5', u'offset_6', u'offset_1', u'offset_2']\n",
      "/home/kat/RTS/2.7-Pointing/offset_test_scan.py /home/kat/RTS/sources_bright_Ku.csv -f 12500.5 -r 1 -n off --fine --number-sources=10 --stow-when-done --proposal-id=COMM-RTS --stow-when-done --product=c856M4k --sb-id-code=20151005-0004 --description=RTS: 2.7.1 Ku-band Pointing --observer=RTS\n",
      "........................................................................................\n",
      "RTS: 2.7.1 Ku-band Pointing\n",
      "/var/kat/archive/data/RTS/telescope_products/2015/10/05\n",
      "1444055140.h5\n",
      "[u'm062']\n",
      "[u'1830-210', u'offset_22', u'offset_16', u'offset_17', u'offset_14', u'offset_15', u'offset_12', u'offset_13', u'offset_10', u'offset_11', u'offset_18', u'offset_19', u'1424-418', u'3C279', u'3C454.3', u'3C446', u'offset_3', u'offset_28', u'offset_23', u'1921-293', u'offset_21', u'offset_20', u'offset_27', u'offset_26', u'offset_25', u'offset_24', u'offset_8', u'offset_9', u'offset_4', u'offset_5', u'offset_6', u'offset_7', u'offset_1', u'offset_2', u'2134 004']\n",
      "/home/kat/RTS/2.7-Pointing/offset_test_scan.py /home/kat/RTS/sources_bright_Ku.csv -f 12500.5 -r 1 -n off --fine --number-sources=10 --proposal-id=COMM-RTS --product=c856M4k --sb-id-code=20151005-0016 --description=RTS: 2.7.1 Ku-band Pointing --observer=RTS\n",
      "........................................................................................\n",
      "RTS: 2.7.1 Ku-band Pointing\n",
      "/var/kat/archive/data/RTS/telescope_products/2015/10/05\n",
      "1444068599.h5\n",
      "[u'm062']\n",
      "[u'1830-210', u'offset_16', u'offset_17', u'offset_14', u'offset_15', u'1921-293', u'offset_13', u'offset_10', u'offset_11', u'offset_18', u'offset_19', u'3C454.3', u'3C446', u'offset_3', u'offset_12', u'offset_20', u'offset_8', u'offset_9', u'offset_4', u'offset_5', u'offset_6', u'offset_7', u'offset_1', u'offset_2', u'2134 004']\n",
      "/home/kat/RTS/2.7-Pointing/offset_test_scan.py /home/kat/RTS/sources_bright_Ku.csv -f 12500.5 -r 1 -n off --fine --number-sources=10 --proposal-id=COMM-RTS --product=c856M4k --sb-id-code=20151005-0015 --description=RTS: 2.7.1 Ku-band Pointing --observer=RTS\n",
      "........................................................................................\n",
      "RTS: 2.7.1 Ku-band Pointing\n",
      "/var/kat/archive/data/RTS/telescope_products/2015/10/05\n",
      "1444077969.h5\n",
      "[u'm062']\n",
      "[u'1830-210', u'offset_22', u'offset_16', u'offset_17', u'offset_14', u'offset_15', u'1921-293', u'offset_13', u'offset_10', u'offset_11', u'offset_18', u'offset_19', u'3C454.3', u'3C446', u'offset_3', u'0521-365', u'offset_23', u'offset_12', u'offset_21', u'offset_20', u'offset_24', u'offset_8', u'offset_9', u'offset_4', u'offset_5', u'offset_6', u'offset_7', u'offset_1', u'offset_2', u'2134 004']\n",
      "/home/kat/RTS/2.7-Pointing/offset_test_scan.py /home/kat/RTS/sources_bright_Ku.csv -f 12500.5 -r 1 -n off --fine --number-sources=10 --proposal-id=COMM-RTS --product=c856M4k --sb-id-code=20151005-0014 --description=RTS: 2.7.1 Ku-band Pointing --observer=RTS\n",
      "........................................................................................\n",
      "RTS: 2.7.1 Ku-band Pointing\n",
      "/var/kat/archive/data/RTS/telescope_products/2015/10/05\n",
      "1444089163.h5\n",
      "[u'm062']\n",
      "[u'offset_16', u'offset_14', u'offset_7', u'offset_12', u'offset_13', u'offset_10', u'offset_11', u'0521-365', u'offset_9', u'offset_15', u'offset_8', u'0723-008', u'0727-115', u'offset_4', u'offset_5', u'offset_6', u'3C123', u'offset_1', u'offset_2', u'offset_3']\n",
      "/home/kat/RTS/2.7-Pointing/offset_test_scan.py /home/kat/RTS/sources_bright_Ku.csv -f 12500.5 -r 1 -n off --fine --number-sources=10 --proposal-id=COMM-RTS --product=c856M4k --sb-id-code=20151005-0017 --description=RTS: 2.7.1 Ku-band Pointing --observer=RTS\n",
      "........................................................................................\n",
      "RTS: 2.7.1 Ku-band Pointing\n",
      "/var/kat/archive/data/RTS/telescope_products/2015/10/06\n",
      "1444096600.h5\n",
      "[u'm062']\n",
      "[u'offset_16', u'offset_14', u'offset_7', u'offset_12', u'offset_13', u'offset_10', u'offset_11', u'0521-365', u'offset_9', u'offset_15', u'offset_8', u'0723-008', u'0727-115', u'offset_4', u'offset_5', u'offset_6', u'3C123', u'offset_1', u'offset_2', u'offset_3']\n",
      "/home/kat/RTS/2.7-Pointing/offset_test_scan.py /home/kat/RTS/sources_bright_Ku.csv -f 12500.5 -r 1 -n off --fine --number-sources=10 --proposal-id=COMM-RTS --product=c856M4k --sb-id-code=20151005-0018 --description=RTS: 2.7.1 Ku-band Pointing --observer=RTS\n",
      "........................................................................................\n",
      "RTS: 2.7.1 Ku-band Pointing\n",
      "/var/kat/archive/data/RTS/telescope_products/2015/10/06\n",
      "1444104357.h5\n",
      "[u'm062']\n",
      "[u'0723-008', u'offset_20', u'offset_16', u'offset_17', u'offset_14', u'offset_15', u'offset_12', u'offset_13', u'offset_10', u'offset_11', u'offset_18', u'offset_19', u'1424-418', u'3C279', u'0727-115', u'3C273', u'0521-365', u'offset_28', u'offset_23', u'offset_22', u'offset_21', u'3C123', u'offset_27', u'offset_26', u'offset_25', u'offset_24', u'offset_8', u'offset_9', u'offset_4', u'offset_5', u'offset_6', u'offset_7', u'offset_1', u'offset_2', u'offset_3']\n",
      "/home/kat/RTS/2.7-Pointing/offset_test_scan.py /home/kat/RTS/sources_bright_Ku.csv -f 12500.5 -r 1 -n off --fine --number-sources=10 --proposal-id=COMM-RTS --product=c856M4k --sb-id-code=20151005-0020 --description=RTS: 2.7.1 Ku-band Pointing --observer=RTS\n",
      "........................................................................................\n",
      "RTS: 2.7 L-band Pointing\n",
      "/var/kat/archive/data/RTS/telescope_products/2015/10/09\n",
      "1444396975.h5\n",
      "[u'm062']\n",
      "[u'3C 409', u'3C 279', u'3C 358', u'PKS 2153-69', u'3C 48', u'3C 273', u'Her A', u'PKS 2104-25', u'Ori A', u'Pic A', u'PKS 1814-63', u'3C 433', u'3C 353', u'PKS 1934-63', u'PKS 0521-36', u'PKS 0408-65', u'PKS 1610-60', u'For A', u'3C 454.3', u'PKS 0410-75']\n",
      "/home/kat/RTS/2.7-Pointing/point_source_scan.py /home/kat/RTS/sources_pnt_L.csv -r 1 -n coupler,10,10,180 -m 33000 --product=c856M4k -f 1284 --horizon=16 --proposal-id=COMM-RTS --sb-id-code=20151009-0006 --description=RTS: 2.7 L-band Pointing --observer=RTS\n",
      "........................................................................................\n",
      "Raster scans for pointing\n",
      "/var/kat/archive/data/RTS/telescope_products/2015/10/15\n",
      "1444917120.h5\n",
      "[u'm062', u'm063']\n",
      "[u'INTELSAT 12 (IS-12)']\n",
      "/home/kat/sdpscripts/observation/raster_scan.py INTELSAT 12 (IS-12) -n OFF --dump-rate=1 --proposal-id=RTS --num-scans=7 --scan-duration=60 --scan-extent=4.0 --scan-spacing=0.05 --sb-id-code=20151015-0004 --description=Raster scans for pointing --observer=RTS\n",
      "........................................................................................\n",
      "Raster scans for pointing\n",
      "/var/kat/archive/data/RTS/telescope_products/2015/10/15\n",
      "1444918785.h5\n",
      "[u'm062', u'm063']\n",
      "[u'INTELSAT 12 (IS-12)']\n",
      "/home/kat/sdpscripts/observation/raster_scan.py INTELSAT 12 (IS-12) -n OFF --dump-rate=1 --proposal-id=RTS --num-scans=15 --scan-duration=60 --scan-extent=4.0 --scan-spacing=0.05 --sb-id-code=20151015-0006 --description=Raster scans for pointing --observer=RTS\n",
      "........................................................................................\n",
      "Raster scans for pointing\n",
      "/var/kat/archive/data/RTS/telescope_products/2015/10/15\n",
      "1444933703.h5\n",
      "[u'm062', u'm063']\n",
      "[u'INTELSAT 12 (IS-12)']\n",
      "/home/kat/sdpscripts/observation/raster_scan.py INTELSAT 12 (IS-12) -n OFF --dump-rate=1 --proposal-id=RTS --num-scans=15 --scan-duration=60 --scan-extent=4.0 --scan-spacing=0.05 --sb-id-code=20151015-0011 --description=Raster scans for pointing --observer=RTS\n",
      "........................................................................................\n",
      "Raster scans for pointing\n",
      "/var/kat/archive/data/RTS/telescope_products/2015/10/15\n",
      "1444937085.h5\n",
      "[u'm062', u'm063']\n",
      "[u'INTELSAT 12 (IS-12)']\n",
      "/home/kat/sdpscripts/observation/raster_scan.py INTELSAT 12 (IS-12) -n OFF --dump-rate=1 --proposal-id=RTS --num-scans=15 --scan-duration=60 --scan-extent=4.0 --scan-spacing=0.05 --sb-id-code=20151015-0013 --description=Raster scans for pointing --observer=RTS\n",
      "........................................................................................\n",
      "RTS: 2.7.2 - Ku-band Pointing Jitter\n",
      "/var/kat/archive/data/RTS/telescope_products/2015/10/22\n",
      "1445534292.h5\n",
      "[u'm062']\n",
      "[u'1830-210']\n",
      "/home/kat/RTS/2.6-Linearity/linearity_scan.py /home/kat/RTS/sources_bright_Ku.csv -f 12500.5 --repeat -t 300 -n off -m 1200 --number-of-steps=10 --max-extent=0.2 --horizon=20 --proposal-id=COMM-RTS -r 2 --product=c856M4k --sb-id-code=20151022-0003 --description=RTS: 2.7.2 - Ku-band Pointing Jitter --observer=RTS\n",
      "........................................................................................\n",
      "Raster scans for pointing\n",
      "/var/kat/archive/data/RTS/telescope_products/2015/10/15\n",
      "1444935439.h5\n",
      "[u'm062', u'm063']\n",
      "[u'INTELSAT 12 (IS-12)']\n",
      "/home/kat/sdpscripts/observation/raster_scan.py INTELSAT 12 (IS-12) -n OFF --dump-rate=1 --proposal-id=RTS --num-scans=15 --scan-duration=60 --scan-extent=4.0 --scan-spacing=0.05 --sb-id-code=20151015-0012 --description=Raster scans for pointing --observer=RTS\n",
      "........................................................................................\n",
      "RTS: 2.7.1 Ku-band Pointing\n",
      "/var/kat/archive/data/RTS/telescope_products/2015/10/22\n",
      "1445537496.h5\n",
      "[u'm062']\n",
      "[u'1830-210', u'offset_22', u'offset_16', u'offset_17', u'offset_14', u'offset_15', u'1921-293', u'offset_13', u'offset_10', u'offset_11', u'offset_18', u'offset_19', u'3C454.3', u'3C446', u'offset_3', u'0521-365', u'offset_23', u'offset_12', u'offset_21', u'offset_20', u'offset_24', u'offset_8', u'offset_9', u'offset_4', u'offset_5', u'offset_6', u'offset_7', u'offset_1', u'offset_2', u'2134 004']\n",
      "/home/kat/RTS/2.7-Pointing/offset_test_scan.py /home/kat/RTS/sources_bright_Ku.csv -f 12500.5 -r 1 -n off --fine --number-sources=10 --proposal-id=COMM-RTS --product=c856M4k --sb-id-code=20151022-0002 --description=RTS: 2.7.1 Ku-band Pointing --observer=RTS\n",
      "........................................................................................\n",
      "RTS: 2.7 L-band Pointing\n",
      "/var/kat/archive/data/RTS/telescope_products/2015/10/20\n",
      "1445351715.h5\n",
      "[u'm062']\n",
      "[u'3C 409', u'3C 161', u'3C 358', u'PKS 2153-69', u'3C 48', u'PKS 0410-75', u'Her A', u'PKS 2104-25', u'Ori A', u'Pic A', u'PKS 1814-63', u'3C 433', u'3C 353', u'PKS 1934-63', u'PKS 0521-36', u'PKS 0408-65', u'PKS 1610-60', u'Tau A', u'For A', u'3C 454.3', u'3C 123']\n",
      "/home/kat/RTS/2.7-Pointing/point_source_scan.py /home/kat/RTS/sources_pnt_L.csv -r 1 -n coupler,10,10,180 -m 33000 --product=c856M4k -f 1284 --horizon=16 --stow-when-done --proposal-id=COMM-RTS --sb-id-code=20151020-0003 --description=RTS: 2.7 L-band Pointing --observer=RTS\n",
      "........................................................................................\n",
      "RTS: 2.7 Ku-band Pointing\n",
      "/var/kat/archive/data/RTS/telescope_products/2015/10/22\n",
      "1445548313.h5\n",
      "[u'm062']\n",
      "[u'0430 052', u'0420-014', u'0130-171', u'0605-085', u'2255-282', u'0003-066', u'0454-463', u'3C138', u'0458-020', u'0451-282', u'0653-033', u'1127-145', u'1055 018', u'0238-084', u'0537-441', u'0637-752', u'0208-512', u'CenB', u'0727-115', u'0607-157', u'0521-365', u'2355-534', u'0402-362', u'0426-380', u'2153-699', u'3C123', u'0332-403', u'0454-234', u'0252-549', u'1057-797', u'J1152-0841', u'0823 033', u'0648-165', u'0106 013', u'0723-008']\n",
      "/home/kat/RTS/2.7-Pointing/point_source_scan.py /home/kat/RTS/sources_pnt_Ku.csv -f 12500.5 -r 1 -n off -m 33000 --fine --product=c856M4k --horizon=16 --proposal-id=COMM-RTS --sb-id-code=20151022-0001 --description=RTS: 2.7 Ku-band Pointing --observer=RTS\n",
      "........................................................................................\n",
      "RTS: 2.7 Ku-band Pointing\n",
      "/var/kat/archive/data/RTS/telescope_products/2015/10/23\n",
      "1445623746.h5\n",
      "[u'm062', u'm063']\n",
      "[u'0430 052', u'0420-014', u'0130-171', u'0605-085', u'1830-210', u'2255-282', u'0003-066', u'1954-388', u'3C138', u'0458-020', u'2145 067', u'0451-282', u'1921-293', u'2128-123', u'0637-752', u'1613-586', u'2131-021', u'0238-084', u'0537-441', u'1920-211', u'1824-582', u'1908-201', u'0208-512', u'2203-188', u'3C446', u'0727-115', u'2052-474', u'0607-157', u'0521-365', u'1958-179', u'2355-534', u'0402-362', u'1718-649', u'0426-380', u'2153-699', u'3C123', u'0332-403', u'0454-234', u'0252-549', u'1057-797', u'0653-033', u'2223-052', u'0648-165', u'2155-152', u'2134 004', u'0106 013', u'0454-463']\n",
      "/home/kat/RTS/2.7-Pointing/point_source_scan.py /home/kat/RTS/sources_pnt_Ku.csv -f 12500.5 -r 1 -n off -m 33000 --fine --product=c856M4k --horizon=16 --proposal-id=COMM-RTS --sb-id-code=20151023-0004 --description=RTS: 2.7 Ku-band Pointing --observer=RTS\n",
      "........................................................................................\n",
      "RTS: 2.7 L-band Pointing\n",
      "/var/kat/archive/data/RTS/telescope_products/2015/10/16\n",
      "1445001142.h5\n",
      "[u'm062', u'm063']\n",
      "[u'3C 273', u'Her A', u'PKS 1610-60', u'3C 353']\n",
      "/home/kat/RTS/2.7-Pointing/point_source_scan.py /home/kat/RTS/sources_pnt_L.csv -r 1 -n coupler,10,10,180 -m 33000 --product=c856M4k -f 1284 --horizon=16 --stow-when-done --proposal-id=COMM-RTS --sb-id-code=20151016-0025 --description=RTS: 2.7 L-band Pointing --observer=RTS\n",
      "........................................................................................\n",
      "RTS: 2.7 Ku-band Pointing\n",
      "/var/kat/archive/data/RTS/telescope_products/2015/10/27\n",
      "1445967964.h5\n",
      "[u'm062', u'm063']\n",
      "[u'0430 052', u'0420-014', u'0130-171', u'0605-085', u'1830-210', u'2255-282', u'0003-066', u'1954-388', u'3C138', u'0458-020', u'2145 067', u'0451-282', u'1921-293', u'2128-123', u'1824-582', u'1613-586', u'2131-021', u'0238-084', u'0537-441', u'1920-211', u'0637-752', u'1908-201', u'0208-512', u'2203-188', u'3C446', u'0727-115', u'2052-474', u'0607-157', u'0521-365', u'1958-179', u'2355-534', u'0402-362', u'1718-649', u'0426-380', u'2153-699', u'3C123', u'0332-403', u'0454-234', u'0252-549', u'1057-797', u'0653-033', u'2223-052', u'0648-165', u'2155-152', u'2134 004', u'0106 013', u'0454-463']\n",
      "/home/kat/RTS/2.7-Pointing/point_source_scan.py /home/kat/RTS/sources_pnt_Ku.csv -f 12500.5 -r 1 -n off -m 33000 --fine --product=c856M4k --horizon=16 --proposal-id=COMM-RTS --sb-id-code=20151027-0010 --description=RTS: 2.7 Ku-band Pointing --observer=RTS\n",
      "........................................................................................\n",
      "RTS: 2.7 Ku-band Pointing\n",
      "/var/kat/archive/data/RTS/telescope_products/2015/10/28\n",
      "1446001969.h5\n",
      "[u'm062', u'm063']\n",
      "[u'0252-549', u'1055 018', u'0537-441', u'0402-362', u'0637-752', u'0208-512', u'0332-403', u'0454-463']\n",
      "/home/kat/RTS/2.7-Pointing/point_source_scan.py /home/kat/RTS/sources_pnt_Ku.csv -f 12500.5 -r 1 -n off -m 33000 --fine --product=c856M4k --horizon=16 --proposal-id=COMM-RTS --sb-id-code=20151027-0011 --description=RTS: 2.7 Ku-band Pointing --observer=RTS\n",
      "........................................................................................\n"
     ]
    }
   ],
   "source": [
    "for fi in f:\n",
    "    print fi.metadata.Description\n",
    "    print fi.metadata.FileLocation\n",
    "    print fi.metadata.Filename\n",
    "    print fi.metadata.Antennas\n",
    "    print fi.metadata.Targets\n",
    "    print fi.metadata.InstructionSet\n",
    "    print \".\"*88\n",
    "    "
   ]
  },
  {
   "cell_type": "code",
   "execution_count": 25,
   "metadata": {
    "collapsed": false
   },
   "outputs": [
    {
     "data": {
      "text/plain": [
       "[['1443778836.h5', '2015-10-02 11:40:37 SAST', 'RTS', 2728016969],\n",
       " ['1443786560.h5', '2015-10-02 13:49:21 SAST', 'RTS', 4238326268],\n",
       " ['1443797319.h5', '2015-10-02 16:48:40 SAST', 'RTS', 6101343539],\n",
       " ['1443811063.h5', '2015-10-02 20:37:44 SAST', 'RTS', 2788917589],\n",
       " ['1443814246.h5', '2015-10-02 21:30:47 SAST', 'RTS', 4947832721],\n",
       " ['1443825405.h5', '2015-10-03 00:36:46 SAST', 'RTS', 2719032880],\n",
       " ['1443828505.h5', '2015-10-03 01:28:26 SAST', 'RTS', 4154592783],\n",
       " ['1443837897.h5', '2015-10-03 04:04:58 SAST', 'RTS', 2751072099],\n",
       " ['1443841038.h5', '2015-10-03 04:57:20 SAST', 'RTS', 3752801659],\n",
       " ['1443863779.h5', '2015-10-03 11:16:19 SAST', 'RTS', 1709947985],\n",
       " ['1443872509.h5', '2015-10-03 13:41:50 SAST', 'RTS', 2750637242],\n",
       " ['1443875628.h5', '2015-10-03 14:33:49 SAST', 'RTS', 5896038338],\n",
       " ['1443888909.h5', '2015-10-03 18:15:10 SAST', 'RTS', 28908954186],\n",
       " ['1443953855.h5', '2015-10-04 12:17:36 SAST', 'RTS', 158438643],\n",
       " ['1443954620.h5', '2015-10-04 12:30:21 SAST', 'RTS', 4251331261],\n",
       " ['1443964194.h5', '2015-10-04 15:09:55 SAST', 'RTS', 2830946922],\n",
       " ['1443967424.h5', '2015-10-04 16:03:45 SAST', 'RTS', 2716980693],\n",
       " ['1443970520.h5', '2015-10-04 16:55:21 SAST', 'RTS', 2728558853],\n",
       " ['1443973630.h5', '2015-10-04 17:47:11 SAST', 'RTS', 2764174594],\n",
       " ['1443976781.h5', '2015-10-04 18:39:41 SAST', 'RTS', 2713418705],\n",
       " ['1443979875.h5', '2015-10-04 19:31:16 SAST', 'RTS', 5045124793],\n",
       " ['1444036712.h5', '2015-10-05 11:18:33 SAST', 'RTS', 2008057002],\n",
       " ['1444055140.h5', '2015-10-05 16:25:41 SAST', 'RTS', 1999644988],\n",
       " ['1444068599.h5', '2015-10-05 20:10:00 SAST', 'RTS', 1390502333],\n",
       " ['1444077969.h5', '2015-10-05 22:46:10 SAST', 'RTS', 1661767326],\n",
       " ['1444089163.h5', '2015-10-06 01:52:44 SAST', 'RTS', 1102105724],\n",
       " ['1444096600.h5', '2015-10-06 03:56:41 SAST', 'RTS', 1149488666],\n",
       " ['1444104357.h5', '2015-10-06 06:05:57 SAST', 'RTS', 1927510818],\n",
       " ['1444396975.h5', '2015-10-09 15:22:56 SAST', 'RTS', 4961868292],\n",
       " ['1444917120.h5', '2015-10-15 15:52:01 SAST', 'RTS', 208073949],\n",
       " ['1444918785.h5', '2015-10-15 16:19:46 SAST', 'RTS', 443253350],\n",
       " ['1444933703.h5', '2015-10-15 20:28:24 SAST', 'RTS', 445035013],\n",
       " ['1444937085.h5', '2015-10-15 21:24:45 SAST', 'RTS', 445034369],\n",
       " ['1445534292.h5', '2015-10-22 19:18:12 SAST', 'RTS', 941194226],\n",
       " ['1444935439.h5', '2015-10-15 20:57:20 SAST', 'RTS', 447258661],\n",
       " ['1445537496.h5', '2015-10-22 20:11:37 SAST', 'RTS', 1605732433],\n",
       " ['1445351715.h5', '2015-10-20 16:35:16 SAST', 'RTS', 4965050558],\n",
       " ['1445548313.h5', '2015-10-22 23:11:54 SAST', 'RTS', 4941282500],\n",
       " ['1445623746.h5', '2015-10-23 20:09:07 SAST', 'RTS', 15114989971],\n",
       " ['1445001142.h5', '2015-10-16 15:12:23 SAST', 'RTS', 689571431],\n",
       " ['1445967964.h5', '2015-10-27 19:46:05 SAST', 'RTS', 15128417472],\n",
       " ['1446001969.h5', '2015-10-28 05:12:50 SAST', 'RTS', 9497874840]]"
      ]
     },
     "execution_count": 25,
     "metadata": {},
     "output_type": "execute_result"
    }
   ],
   "source": [
    "f"
   ]
  },
  {
   "cell_type": "code",
   "execution_count": 26,
   "metadata": {
    "collapsed": true
   },
   "outputs": [],
   "source": [
    "f.sort(key=lambda k: k.metadata.StartTime, reverse=True)"
   ]
  },
  {
   "cell_type": "code",
   "execution_count": 27,
   "metadata": {
    "collapsed": false
   },
   "outputs": [
    {
     "data": {
      "text/plain": [
       "[['1446001969.h5', '2015-10-28 05:12:50 SAST', 'RTS', 9497874840],\n",
       " ['1445967964.h5', '2015-10-27 19:46:05 SAST', 'RTS', 15128417472],\n",
       " ['1445623746.h5', '2015-10-23 20:09:07 SAST', 'RTS', 15114989971],\n",
       " ['1445548313.h5', '2015-10-22 23:11:54 SAST', 'RTS', 4941282500],\n",
       " ['1445537496.h5', '2015-10-22 20:11:37 SAST', 'RTS', 1605732433],\n",
       " ['1445534292.h5', '2015-10-22 19:18:12 SAST', 'RTS', 941194226],\n",
       " ['1445351715.h5', '2015-10-20 16:35:16 SAST', 'RTS', 4965050558],\n",
       " ['1445001142.h5', '2015-10-16 15:12:23 SAST', 'RTS', 689571431],\n",
       " ['1444937085.h5', '2015-10-15 21:24:45 SAST', 'RTS', 445034369],\n",
       " ['1444935439.h5', '2015-10-15 20:57:20 SAST', 'RTS', 447258661],\n",
       " ['1444933703.h5', '2015-10-15 20:28:24 SAST', 'RTS', 445035013],\n",
       " ['1444918785.h5', '2015-10-15 16:19:46 SAST', 'RTS', 443253350],\n",
       " ['1444917120.h5', '2015-10-15 15:52:01 SAST', 'RTS', 208073949],\n",
       " ['1444396975.h5', '2015-10-09 15:22:56 SAST', 'RTS', 4961868292],\n",
       " ['1444104357.h5', '2015-10-06 06:05:57 SAST', 'RTS', 1927510818],\n",
       " ['1444096600.h5', '2015-10-06 03:56:41 SAST', 'RTS', 1149488666],\n",
       " ['1444089163.h5', '2015-10-06 01:52:44 SAST', 'RTS', 1102105724],\n",
       " ['1444077969.h5', '2015-10-05 22:46:10 SAST', 'RTS', 1661767326],\n",
       " ['1444068599.h5', '2015-10-05 20:10:00 SAST', 'RTS', 1390502333],\n",
       " ['1444055140.h5', '2015-10-05 16:25:41 SAST', 'RTS', 1999644988],\n",
       " ['1444036712.h5', '2015-10-05 11:18:33 SAST', 'RTS', 2008057002],\n",
       " ['1443979875.h5', '2015-10-04 19:31:16 SAST', 'RTS', 5045124793],\n",
       " ['1443976781.h5', '2015-10-04 18:39:41 SAST', 'RTS', 2713418705],\n",
       " ['1443973630.h5', '2015-10-04 17:47:11 SAST', 'RTS', 2764174594],\n",
       " ['1443970520.h5', '2015-10-04 16:55:21 SAST', 'RTS', 2728558853],\n",
       " ['1443967424.h5', '2015-10-04 16:03:45 SAST', 'RTS', 2716980693],\n",
       " ['1443964194.h5', '2015-10-04 15:09:55 SAST', 'RTS', 2830946922],\n",
       " ['1443954620.h5', '2015-10-04 12:30:21 SAST', 'RTS', 4251331261],\n",
       " ['1443953855.h5', '2015-10-04 12:17:36 SAST', 'RTS', 158438643],\n",
       " ['1443888909.h5', '2015-10-03 18:15:10 SAST', 'RTS', 28908954186],\n",
       " ['1443875628.h5', '2015-10-03 14:33:49 SAST', 'RTS', 5896038338],\n",
       " ['1443872509.h5', '2015-10-03 13:41:50 SAST', 'RTS', 2750637242],\n",
       " ['1443863779.h5', '2015-10-03 11:16:19 SAST', 'RTS', 1709947985],\n",
       " ['1443841038.h5', '2015-10-03 04:57:20 SAST', 'RTS', 3752801659],\n",
       " ['1443837897.h5', '2015-10-03 04:04:58 SAST', 'RTS', 2751072099],\n",
       " ['1443828505.h5', '2015-10-03 01:28:26 SAST', 'RTS', 4154592783],\n",
       " ['1443825405.h5', '2015-10-03 00:36:46 SAST', 'RTS', 2719032880],\n",
       " ['1443814246.h5', '2015-10-02 21:30:47 SAST', 'RTS', 4947832721],\n",
       " ['1443811063.h5', '2015-10-02 20:37:44 SAST', 'RTS', 2788917589],\n",
       " ['1443797319.h5', '2015-10-02 16:48:40 SAST', 'RTS', 6101343539],\n",
       " ['1443786560.h5', '2015-10-02 13:49:21 SAST', 'RTS', 4238326268],\n",
       " ['1443778836.h5', '2015-10-02 11:40:37 SAST', 'RTS', 2728016969]]"
      ]
     },
     "execution_count": 27,
     "metadata": {},
     "output_type": "execute_result"
    }
   ],
   "source": [
    "f"
   ]
  },
  {
   "cell_type": "code",
   "execution_count": 29,
   "metadata": {
    "collapsed": false
   },
   "outputs": [
    {
     "data": {
      "text/plain": [
       "[['1443778836.h5', '2015-10-02 11:40:37 SAST', 'RTS', 2728016969],\n",
       " ['1443786560.h5', '2015-10-02 13:49:21 SAST', 'RTS', 4238326268],\n",
       " ['1443797319.h5', '2015-10-02 16:48:40 SAST', 'RTS', 6101343539],\n",
       " ['1443811063.h5', '2015-10-02 20:37:44 SAST', 'RTS', 2788917589],\n",
       " ['1443814246.h5', '2015-10-02 21:30:47 SAST', 'RTS', 4947832721],\n",
       " ['1443825405.h5', '2015-10-03 00:36:46 SAST', 'RTS', 2719032880],\n",
       " ['1443828505.h5', '2015-10-03 01:28:26 SAST', 'RTS', 4154592783],\n",
       " ['1443837897.h5', '2015-10-03 04:04:58 SAST', 'RTS', 2751072099],\n",
       " ['1443841038.h5', '2015-10-03 04:57:20 SAST', 'RTS', 3752801659],\n",
       " ['1443863779.h5', '2015-10-03 11:16:19 SAST', 'RTS', 1709947985],\n",
       " ['1443872509.h5', '2015-10-03 13:41:50 SAST', 'RTS', 2750637242],\n",
       " ['1443875628.h5', '2015-10-03 14:33:49 SAST', 'RTS', 5896038338],\n",
       " ['1443888909.h5', '2015-10-03 18:15:10 SAST', 'RTS', 28908954186],\n",
       " ['1443953855.h5', '2015-10-04 12:17:36 SAST', 'RTS', 158438643],\n",
       " ['1443954620.h5', '2015-10-04 12:30:21 SAST', 'RTS', 4251331261],\n",
       " ['1443964194.h5', '2015-10-04 15:09:55 SAST', 'RTS', 2830946922],\n",
       " ['1443967424.h5', '2015-10-04 16:03:45 SAST', 'RTS', 2716980693],\n",
       " ['1443970520.h5', '2015-10-04 16:55:21 SAST', 'RTS', 2728558853],\n",
       " ['1443973630.h5', '2015-10-04 17:47:11 SAST', 'RTS', 2764174594],\n",
       " ['1443976781.h5', '2015-10-04 18:39:41 SAST', 'RTS', 2713418705],\n",
       " ['1443979875.h5', '2015-10-04 19:31:16 SAST', 'RTS', 5045124793],\n",
       " ['1444036712.h5', '2015-10-05 11:18:33 SAST', 'RTS', 2008057002],\n",
       " ['1444055140.h5', '2015-10-05 16:25:41 SAST', 'RTS', 1999644988],\n",
       " ['1444068599.h5', '2015-10-05 20:10:00 SAST', 'RTS', 1390502333],\n",
       " ['1444077969.h5', '2015-10-05 22:46:10 SAST', 'RTS', 1661767326],\n",
       " ['1444089163.h5', '2015-10-06 01:52:44 SAST', 'RTS', 1102105724],\n",
       " ['1444096600.h5', '2015-10-06 03:56:41 SAST', 'RTS', 1149488666],\n",
       " ['1444104357.h5', '2015-10-06 06:05:57 SAST', 'RTS', 1927510818],\n",
       " ['1444396975.h5', '2015-10-09 15:22:56 SAST', 'RTS', 4961868292],\n",
       " ['1444917120.h5', '2015-10-15 15:52:01 SAST', 'RTS', 208073949],\n",
       " ['1444918785.h5', '2015-10-15 16:19:46 SAST', 'RTS', 443253350],\n",
       " ['1444933703.h5', '2015-10-15 20:28:24 SAST', 'RTS', 445035013],\n",
       " ['1444935439.h5', '2015-10-15 20:57:20 SAST', 'RTS', 447258661],\n",
       " ['1444937085.h5', '2015-10-15 21:24:45 SAST', 'RTS', 445034369],\n",
       " ['1445001142.h5', '2015-10-16 15:12:23 SAST', 'RTS', 689571431],\n",
       " ['1445351715.h5', '2015-10-20 16:35:16 SAST', 'RTS', 4965050558],\n",
       " ['1445534292.h5', '2015-10-22 19:18:12 SAST', 'RTS', 941194226],\n",
       " ['1445537496.h5', '2015-10-22 20:11:37 SAST', 'RTS', 1605732433],\n",
       " ['1445548313.h5', '2015-10-22 23:11:54 SAST', 'RTS', 4941282500],\n",
       " ['1445623746.h5', '2015-10-23 20:09:07 SAST', 'RTS', 15114989971],\n",
       " ['1445967964.h5', '2015-10-27 19:46:05 SAST', 'RTS', 15128417472],\n",
       " ['1446001969.h5', '2015-10-28 05:12:50 SAST', 'RTS', 9497874840]]"
      ]
     },
     "execution_count": 29,
     "metadata": {},
     "output_type": "execute_result"
    }
   ],
   "source": [
    "f.sort(key=lambda k: k.metadata.StartTime)\n",
    "f"
   ]
  }
 ],
 "metadata": {
  "kernelspec": {
   "display_name": "Python 2",
   "language": "python",
   "name": "python2"
  },
  "language_info": {
   "codemirror_mode": {
    "name": "ipython",
    "version": 2
   },
   "file_extension": ".py",
   "mimetype": "text/x-python",
   "name": "python",
   "nbconvert_exporter": "python",
   "pygments_lexer": "ipython2",
   "version": "2.7.3"
  }
 },
 "nbformat": 4,
 "nbformat_minor": 0
}
