{
 "cells": [
  {
   "cell_type": "code",
   "execution_count": 14,
   "metadata": {},
   "outputs": [],
   "source": [
    "import ephem"
   ]
  },
  {
   "cell_type": "code",
   "execution_count": 15,
   "metadata": {},
   "outputs": [
    {
     "name": "stdout",
     "output_type": "stream",
     "text": [
      "19:34:53.06 -21:59:12.3 -2.6\n"
     ]
    }
   ],
   "source": [
    "j1=ephem.Jupiter('2020/07/17 17:08') # Rising above 20deg\n",
    "print('%s %s %s' % (j1.ra, j1.dec, j1.mag))"
   ]
  },
  {
   "cell_type": "code",
   "execution_count": 16,
   "metadata": {},
   "outputs": [
    {
     "name": "stdout",
     "output_type": "stream",
     "text": [
      "19:34:38.72 -21:59:48.2 -2.6\n"
     ]
    }
   ],
   "source": [
    "j2=ephem.Jupiter('2020/07/18 03:39') #setting below 20 deg\n",
    "print('%s %s %s' % (j2.ra, j2.dec, j.mag))"
   ]
  },
  {
   "cell_type": "code",
   "execution_count": 17,
   "metadata": {},
   "outputs": [],
   "source": [
    "def hpos(body): return body.hlon, body.hlat"
   ]
  },
  {
   "cell_type": "code",
   "execution_count": 18,
   "metadata": {},
   "outputs": [
    {
     "name": "stdout",
     "output_type": "stream",
     "text": [
      "0:02:13.4\n"
     ]
    }
   ],
   "source": [
    "print(ephem.separation(hpos(j1), hpos(j2)))"
   ]
  },
  {
   "cell_type": "code",
   "execution_count": 23,
   "metadata": {},
   "outputs": [
    {
     "name": "stdout",
     "output_type": "stream",
     "text": [
      "133.40 arcserc\n"
     ]
    }
   ],
   "source": [
    "x=ephem.separation(hpos(j1), hpos(j2))\n",
    "print(\"%6.2f arcserc\")%(206265*x)"
   ]
  }
 ],
 "metadata": {
  "kernelspec": {
   "display_name": "Python 2",
   "language": "python",
   "name": "python2"
  },
  "language_info": {
   "codemirror_mode": {
    "name": "ipython",
    "version": 2
   },
   "file_extension": ".py",
   "mimetype": "text/x-python",
   "name": "python",
   "nbconvert_exporter": "python",
   "pygments_lexer": "ipython2",
   "version": "2.7.17"
  }
 },
 "nbformat": 4,
 "nbformat_minor": 2
}
