{
 "metadata": {
  "name": "",
  "signature": "sha256:b3ab9f73c6859d293fd9616e058f3be7ed0a4d32f18b25b9a6e1fdcf71ce2163"
 },
 "nbformat": 3,
 "nbformat_minor": 0,
 "worksheets": [
  {
   "cells": [
    {
     "cell_type": "code",
     "collapsed": false,
     "input": [
      "import numpy as np\n",
      "%pylab inline"
     ],
     "language": "python",
     "metadata": {},
     "outputs": [
      {
       "output_type": "stream",
       "stream": "stdout",
       "text": [
        "Populating the interactive namespace from numpy and matplotlib\n"
       ]
      }
     ],
     "prompt_number": 195
    },
    {
     "cell_type": "code",
     "collapsed": false,
     "input": [
      "def gau(x,sig=1,mu=0):\n",
      "    gauss=np.exp(((-(x-mu)**2))/sig**2)\n",
      "    return gauss"
     ],
     "language": "python",
     "metadata": {},
     "outputs": [],
     "prompt_number": 196
    },
    {
     "cell_type": "code",
     "collapsed": false,
     "input": [
      "x=np.arange(-3,3,0.01)\n",
      "#print x"
     ],
     "language": "python",
     "metadata": {},
     "outputs": [],
     "prompt_number": 197
    },
    {
     "cell_type": "code",
     "collapsed": false,
     "input": [
      "y=gau(x)"
     ],
     "language": "python",
     "metadata": {},
     "outputs": [],
     "prompt_number": 198
    },
    {
     "cell_type": "code",
     "collapsed": false,
     "input": [
      "pylab.plot(x,y)"
     ],
     "language": "python",
     "metadata": {},
     "outputs": [
      {
       "metadata": {},
       "output_type": "pyout",
       "prompt_number": 199,
       "text": [
        "[<matplotlib.lines.Line2D at 0xcf14410>]"
       ]
      },
      {
       "metadata": {},
       "output_type": "display_data",
       "png": "[encoded data removed]",
       "text": [
        "<matplotlib.figure.Figure at 0xcd6c090>"
       ]
      }
     ],
     "prompt_number": 199
    },
    {
     "cell_type": "code",
     "collapsed": false,
     "input": [
      "z=y**2\n",
      "pylab.plot(x,z)"
     ],
     "language": "python",
     "metadata": {},
     "outputs": [
      {
       "metadata": {},
       "output_type": "pyout",
       "prompt_number": 200,
       "text": [
        "[<matplotlib.lines.Line2D at 0xd12f690>]"
       ]
      },
      {
       "metadata": {},
       "output_type": "display_data",
       "png": "[encoded data removed]",
       "text": [
        "<matplotlib.figure.Figure at 0xcf03d10>"
       ]
      }
     ],
     "prompt_number": 200
    },
    {
     "cell_type": "code",
     "collapsed": false,
     "input": [
      "#r=np.random.normal\n",
      "numvals=5000"
     ],
     "language": "python",
     "metadata": {},
     "outputs": [],
     "prompt_number": 201
    },
    {
     "cell_type": "code",
     "collapsed": false,
     "input": [
      "r=np.random.normal(scale=2.22,size=numvals)"
     ],
     "language": "python",
     "metadata": {},
     "outputs": [],
     "prompt_number": 202
    },
    {
     "cell_type": "code",
     "collapsed": false,
     "input": [
      "#pylab.hist(r,18)\n",
      "pylab.hist(r**2,64)"
     ],
     "language": "python",
     "metadata": {},
     "outputs": [
      {
       "metadata": {},
       "output_type": "pyout",
       "prompt_number": 203,
       "text": [
        "(array([1941,  692,  485,  365,  274,  195,  179,  141,  124,  104,   72,\n",
        "          63,   46,   61,   41,   40,   18,   22,   27,   15,   14,   14,\n",
        "           7,    6,    6,    9,    4,    5,    7,    5,    4,    4,    0,\n",
        "           1,    0,    2,    2,    1,    0,    0,    0,    1,    0,    0,\n",
        "           0,    0,    0,    1,    0,    0,    0,    0,    0,    0,    1,\n",
        "           0,    0,    0,    0,    0,    0,    0,    0,    1]),\n",
        " array([  6.92182953e-08,   1.35711473e+00,   2.71422939e+00,\n",
        "          4.07134405e+00,   5.42845871e+00,   6.78557336e+00,\n",
        "          8.14268802e+00,   9.49980268e+00,   1.08569173e+01,\n",
        "          1.22140320e+01,   1.35711467e+01,   1.49282613e+01,\n",
        "          1.62853760e+01,   1.76424906e+01,   1.89996053e+01,\n",
        "          2.03567200e+01,   2.17138346e+01,   2.30709493e+01,\n",
        "          2.44280639e+01,   2.57851786e+01,   2.71422932e+01,\n",
        "          2.84994079e+01,   2.98565226e+01,   3.12136372e+01,\n",
        "          3.25707519e+01,   3.39278665e+01,   3.52849812e+01,\n",
        "          3.66420959e+01,   3.79992105e+01,   3.93563252e+01,\n",
        "          4.07134398e+01,   4.20705545e+01,   4.34276692e+01,\n",
        "          4.47847838e+01,   4.61418985e+01,   4.74990131e+01,\n",
        "          4.88561278e+01,   5.02132425e+01,   5.15703571e+01,\n",
        "          5.29274718e+01,   5.42845864e+01,   5.56417011e+01,\n",
        "          5.69988157e+01,   5.83559304e+01,   5.97130451e+01,\n",
        "          6.10701597e+01,   6.24272744e+01,   6.37843890e+01,\n",
        "          6.51415037e+01,   6.64986184e+01,   6.78557330e+01,\n",
        "          6.92128477e+01,   7.05699623e+01,   7.19270770e+01,\n",
        "          7.32841917e+01,   7.46413063e+01,   7.59984210e+01,\n",
        "          7.73555356e+01,   7.87126503e+01,   8.00697649e+01,\n",
        "          8.14268796e+01,   8.27839943e+01,   8.41411089e+01,\n",
        "          8.54982236e+01,   8.68553382e+01]),\n",
        " <a list of 64 Patch objects>)"
       ]
      },
      {
       "metadata": {},
       "output_type": "display_data",
       "png": "[encoded data removed]",
       "text": [
        "<matplotlib.figure.Figure at 0xd1220d0>"
       ]
      }
     ],
     "prompt_number": 203
    },
    {
     "cell_type": "code",
     "collapsed": false,
     "input": [
      "print min(r),max(r)"
     ],
     "language": "python",
     "metadata": {},
     "outputs": [
      {
       "output_type": "stream",
       "stream": "stdout",
       "text": [
        "-8.62344711504 9.31962114273\n"
       ]
      }
     ],
     "prompt_number": 204
    },
    {
     "cell_type": "code",
     "collapsed": false,
     "input": [
      "print min(r**2),max(r**2)"
     ],
     "language": "python",
     "metadata": {},
     "outputs": [
      {
       "output_type": "stream",
       "stream": "stdout",
       "text": [
        "6.92182952963e-08 86.8553382439\n"
       ]
      }
     ],
     "prompt_number": 205
    },
    {
     "cell_type": "code",
     "collapsed": false,
     "input": [
      "off=r-min(r)\n",
      "print min(off),max(off), min(off**2), max(off**2)"
     ],
     "language": "python",
     "metadata": {},
     "outputs": [
      {
       "output_type": "stream",
       "stream": "stdout",
       "text": [
        "0.0 17.9430682578 0.0 321.953698503\n"
       ]
      }
     ],
     "prompt_number": 206
    },
    {
     "cell_type": "code",
     "collapsed": false,
     "input": [
      "#pylab.hist(off,18)\n",
      "pylab.hist(off**2./np.sqrt(numvals),64)"
     ],
     "language": "python",
     "metadata": {},
     "outputs": [
      {
       "metadata": {},
       "output_type": "pyout",
       "prompt_number": 207,
       "text": [
        "(array([  8,  21,  55,  93, 107, 150, 144, 209, 210, 252, 272, 249, 291,\n",
        "        261, 249, 245, 239, 198, 207, 186, 173, 154, 137, 153, 107, 103,\n",
        "         89,  66,  65,  69,  38,  32,  16,  42,  20,  16,  16,   8,   4,\n",
        "         11,   5,   4,   4,   6,   7,   2,   0,   1,   3,   1,   0,   1,\n",
        "          0,   0,   0,   0,   0,   0,   0,   0,   0,   0,   0,   1]),\n",
        " array([ 0.        ,  0.07114239,  0.14228478,  0.21342717,  0.28456955,\n",
        "         0.35571194,  0.42685433,  0.49799672,  0.56913911,  0.6402815 ,\n",
        "         0.71142389,  0.78256627,  0.85370866,  0.92485105,  0.99599344,\n",
        "         1.06713583,  1.13827822,  1.20942061,  1.28056299,  1.35170538,\n",
        "         1.42284777,  1.49399016,  1.56513255,  1.63627494,  1.70741733,\n",
        "         1.77855971,  1.8497021 ,  1.92084449,  1.99198688,  2.06312927,\n",
        "         2.13427166,  2.20541405,  2.27655643,  2.34769882,  2.41884121,\n",
        "         2.4899836 ,  2.56112599,  2.63226838,  2.70341077,  2.77455315,\n",
        "         2.84569554,  2.91683793,  2.98798032,  3.05912271,  3.1302651 ,\n",
        "         3.20140749,  3.27254987,  3.34369226,  3.41483465,  3.48597704,\n",
        "         3.55711943,  3.62826182,  3.69940421,  3.77054659,  3.84168898,\n",
        "         3.91283137,  3.98397376,  4.05511615,  4.12625854,  4.19740093,\n",
        "         4.26854331,  4.3396857 ,  4.41082809,  4.48197048,  4.55311287]),\n",
        " <a list of 64 Patch objects>)"
       ]
      },
      {
       "metadata": {},
       "output_type": "display_data",
       "png": "[encoded data removed]",
       "text": [
        "<matplotlib.figure.Figure at 0xc9e9390>"
       ]
      }
     ],
     "prompt_number": 207
    },
    {
     "cell_type": "code",
     "collapsed": false,
     "input": [
      "import scipy.stats as stats"
     ],
     "language": "python",
     "metadata": {},
     "outputs": [],
     "prompt_number": 208
    },
    {
     "cell_type": "code",
     "collapsed": false,
     "input": [
      "df=1\n",
      "# \n",
      "rv = stats.chi2(df)\n",
      "#pylab.hist(r**2./np.sqrt(numvals),64)\n",
      "pylab.plot(x, rv.pdf(x), 'k-', lw=2, label='frozen pdf')\n"
     ],
     "language": "python",
     "metadata": {},
     "outputs": [
      {
       "metadata": {},
       "output_type": "pyout",
       "prompt_number": 209,
       "text": [
        "[<matplotlib.lines.Line2D at 0xda93490>]"
       ]
      },
      {
       "metadata": {},
       "output_type": "display_data",
       "png": "[encoded data removed]",
       "text": [
        "<matplotlib.figure.Figure at 0xd8b57d0>"
       ]
      }
     ],
     "prompt_number": 209
    },
    {
     "cell_type": "code",
     "collapsed": false,
     "input": [],
     "language": "python",
     "metadata": {},
     "outputs": [],
     "prompt_number": 210
    }
   ],
   "metadata": {}
  }
 ]
}