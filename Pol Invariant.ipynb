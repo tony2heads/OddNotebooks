{
 "cells": [
  {
   "cell_type": "code",
   "execution_count": 50,
   "metadata": {
    "collapsed": false,
    "deletable": true,
    "editable": true
   },
   "outputs": [],
   "source": [
    "from sympy import *\n",
    "i,q,u,v,xx,xy,yx,yy=symbols('i,q,u,v,xx,xy,yx,yy')\n",
    "i=xx+yy\n",
    "q=xx-yy\n",
    "u=xy+yx\n",
    "v=I*(xy-yx)  # I is the imaginary unit\n",
    "expr=(i*i - (q**2 + u**2 + v**2))/4"
   ]
  },
  {
   "cell_type": "code",
   "execution_count": 51,
   "metadata": {
    "collapsed": false,
    "deletable": true,
    "editable": true
   },
   "outputs": [
    {
     "name": "stdout",
     "output_type": "stream",
     "text": [
      "-(xx - yy)**2/4 + (xx + yy)**2/4 + (xy - yx)**2/4 - (xy + yx)**2/4\n"
     ]
    }
   ],
   "source": [
    "print expr\n",
    "#print inv"
   ]
  },
  {
   "cell_type": "code",
   "execution_count": 52,
   "metadata": {
    "collapsed": false,
    "deletable": true,
    "editable": true
   },
   "outputs": [
    {
     "name": "stdout",
     "output_type": "stream",
     "text": [
      "xx*yy - xy*yx\n"
     ]
    }
   ],
   "source": [
    "invar=expr.simplify()\n",
    "print invar"
   ]
  },
  {
   "cell_type": "code",
   "execution_count": 53,
   "metadata": {
    "collapsed": false,
    "deletable": true,
    "editable": true
   },
   "outputs": [],
   "source": [
    "pa=symbols('pa') # parallactic angle\n",
    "xx=i+(q*cos(pa) +u*sin(pa))\n",
    "yy=i-(q*cos(pa) +u*sin(pa))\n",
    "xy= (u*cos(pa) +q*sin(-pa)) - I*v\n",
    "yx= (u*cos(pa) +q*sin(-pa)) + I*v\n"
   ]
  },
  {
   "cell_type": "code",
   "execution_count": 54,
   "metadata": {
    "collapsed": false,
    "deletable": true,
    "editable": true
   },
   "outputs": [
    {
     "name": "stdout",
     "output_type": "stream",
     "text": [
      "xx*yy - xy*yx\n"
     ]
    }
   ],
   "source": [
    "expr2= (xx*yy -xy*yx)/4\n",
    "#print expr2\n",
    "inv2=expr2.simplify()\n",
    "print inv2"
   ]
  }
 ],
 "metadata": {
  "kernelspec": {
   "display_name": "Python 2",
   "language": "python",
   "name": "python2"
  },
  "language_info": {
   "codemirror_mode": {
    "name": "ipython",
    "version": 2
   },
   "file_extension": ".py",
   "mimetype": "text/x-python",
   "name": "python",
   "nbconvert_exporter": "python",
   "pygments_lexer": "ipython2",
   "version": "2.7.6"
  }
 },
 "nbformat": 4,
 "nbformat_minor": 0
}
