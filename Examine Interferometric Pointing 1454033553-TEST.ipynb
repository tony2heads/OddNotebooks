{
 "cells": [
  {
   "cell_type": "code",
   "execution_count": null,
   "metadata": {
    "collapsed": false
   },
   "outputs": [],
   "source": [
    "import pylab as plt\n",
    "%pylab inline"
   ]
  },
  {
   "cell_type": "code",
   "execution_count": null,
   "metadata": {
    "collapsed": false
   },
   "outputs": [],
   "source": [
    "import katdal\n",
    "import katpoint\n",
    "import scape\n",
    "import logging\n",
    "logger = logging.getLogger()\n",
    "logger.setLevel(logging.ERROR)"
   ]
  },
  {
   "cell_type": "code",
   "execution_count": null,
   "metadata": {
    "collapsed": false
   },
   "outputs": [],
   "source": [
    "#n='/var/kat/archive/data/RTS/telescope_products/2016/01/29/1454054353.h5'\n",
    "\n",
    "n='/var/kat/archive/data/RTS/telescope_products/2016/01/29/1454033553.h5'\n",
    "#n = '/var/kat/archive/data/RTS/telescope_products/2015/12/19/1450486821.h5'\n",
    "#n = '/var/kat/archive/data/RTS/telescope_products/2015/12/03/1449138207.h5'\n",
    "#n = '/var/kat/archive/data/RTS/telescope_products/2015/11/26/1448574519.h5'\n",
    "#n = '/var/kat/archive/data/RTS/telescope_products/2015/11/26/1448581975.h5'\n",
    "#n = '/var/kat/archive/data/RTS/telescope_products/2015/11/27/1448589427.h5'\n",
    "#n = '/var/kat/archive/data/RTS/telescope_products/2015/11/27/1448597061.h5'\n",
    "#n = '/var/kat/archive/data/RTS/telescope_products/2015/12/03/1449137265.h5'\n",
    "#n= '/var/kat/archive/data/RTS/telescope_products/2015/12/03/1449140896.h5'"
   ]
  },
  {
   "cell_type": "code",
   "execution_count": null,
   "metadata": {
    "collapsed": false,
    "scrolled": false
   },
   "outputs": [],
   "source": [
    "h5 = katdal.open(n,centre_freq=12500.5e6)\n",
    "print h5"
   ]
  },
  {
   "cell_type": "code",
   "execution_count": null,
   "metadata": {
    "collapsed": false
   },
   "outputs": [],
   "source": [
    "N = len(h5.compscan_indices)\n",
    "print N"
   ]
  },
  {
   "cell_type": "code",
   "execution_count": null,
   "metadata": {
    "collapsed": false
   },
   "outputs": [],
   "source": [
    "h5.select(scans='~slew',channels=slice(1024,1024+2048),corrprods = 'cross')\n",
    "print h5.compscan_indices\n"
   ]
  },
  {
   "cell_type": "code",
   "execution_count": null,
   "metadata": {
    "collapsed": false,
    "scrolled": false
   },
   "outputs": [],
   "source": [
    "\n",
    "h5.select()\n",
    "ants = h5.ants\n",
    "N = len(h5.compscan_indices)\n",
    "h5.select(scans='track,scan',channels=slice(1024,1024+2048),corrprods = 'cross')\n",
    "print h5.compscan_indices\n",
    "for c in h5.compscans():\n",
    "    d = scape.DataSet(h5,baseline = 'm025,m024')\n",
    "    #for i in range(len(d.scans)):\n",
    "    #    d.scans[i].data = scape.stats.remove_spikes(d.scans[i].data,axis=1,spike_width=3,outlier_sigma=5.)    \n",
    "    d.average()\n",
    "    print \"Busy\",\n",
    "    d.fit_beams_and_baselines()\n",
    "    plt.figure(figsize=(15,5))\n",
    "    scape.plot_compound_scan_in_time(d.compscans[0])\n",
    "    #pl_title = str(d.compscans[0].target) + '. Compscan %d in %d'%(c[0],N)  '. Beamfit valid: %s'%str(d.compscans[0].beam.is_valid) \n",
    "    pl_title = str(d.compscans[0].target)\n",
    "    plt.title(pl_title) \n",
    "    plt.figure(figsize=(15,5))\n",
    "    scape.plot_compound_scan_on_target(d.compscans[0])\n",
    "    #print pl_title, d.compscans[0].beam.center"
   ]
  },
  {
   "cell_type": "code",
   "execution_count": null,
   "metadata": {
    "collapsed": false
   },
   "outputs": [],
   "source": [
    "print d.compscans[0].beam_centre"
   ]
  },
  {
   "cell_type": "code",
   "execution_count": null,
   "metadata": {
    "collapsed": false,
    "scrolled": false
   },
   "outputs": [],
   "source": [
    "\n",
    "h5.select()\n",
    "ants = h5.ants\n",
    "N = len(h5.compscan_indices)\n",
    "h5.select(scans='track,scan',channels=slice(1024,1024+2048),ants='m024')\n",
    "print h5.compscan_indices\n",
    "for c in h5.compscans():\n",
    "    d = scape.DataSet(h5)\n",
    "    #for i in range(len(d.scans)):\n",
    "    #    d.scans[i].data = scape.stats.remove_spikes(d.scans[i].data,axis=1,spike_width=3,outlier_sigma=5.)    \n",
    "    d.average()\n",
    "    d.fit_beams_and_baselines()\n",
    "    figure(figsize=(15,5))\n",
    "    scape.plot_compound_scan_in_time(d.compscans[0])\n",
    "    #pl_title = str(d.compscans[0].target) + '. Compscan %d in %d'%(c[0],N) + '. Beamfit valid: %s'%str(d.compscans[0].beam.is_valid) \n",
    "    pl_title = str(d.compscans[0].target)\n",
    "    title(pl_title)\n",
    "    figure(figsize=(15,5))\n",
    "    scape.plot_compound_scan_on_target(d.compscans[0])\n",
    "    print pl_title, d.compscans[0].beam.center"
   ]
  },
  {
   "cell_type": "code",
   "execution_count": null,
   "metadata": {
    "collapsed": false,
    "scrolled": false
   },
   "outputs": [],
   "source": [
    "\n",
    "h5.select()\n",
    "ants = h5.ants\n",
    "N = len(h5.compscan_indices)\n",
    "h5.select(scans='track,scan',channels=slice(1024,1024+2048),ants='m025')\n",
    "print h5.compscan_indices\n",
    "for c in h5.compscans():\n",
    "    d = scape.DataSet(h5)\n",
    "    #for i in range(len(d.scans)):\n",
    "    #    d.scans[i].data = scape.stats.remove_spikes(d.scans[i].data,axis=1,spike_width=3,outlier_sigma=5.)    \n",
    "    d.average()\n",
    "    d.fit_beams_and_baselines()\n",
    "    figure(figsize=(15,5))\n",
    "    scape.plot_compound_scan_in_time(d.compscans[0])\n",
    "    #pl_title = str(d.compscans[0].target) + '. Compscan %d in %d'%(c[0],N) + '. Beamfit valid: %s'%str(d.compscans[0].beam.is_valid) \n",
    "    pl_title = str(d.compscans[0].target)\n",
    "    title(pl_title)\n",
    "    figure(figsize=(15,5))\n",
    "    scape.plot_compound_scan_on_target(d.compscans[0])\n",
    "    print pl_title, d.compscans[0].beam.center"
   ]
  },
  {
   "cell_type": "code",
   "execution_count": null,
   "metadata": {
    "collapsed": true
   },
   "outputs": [],
   "source": []
  }
 ],
 "metadata": {
  "kernelspec": {
   "display_name": "Python 2",
   "language": "python",
   "name": "python2"
  }
 },
 "nbformat": 4,
 "nbformat_minor": 0
}
