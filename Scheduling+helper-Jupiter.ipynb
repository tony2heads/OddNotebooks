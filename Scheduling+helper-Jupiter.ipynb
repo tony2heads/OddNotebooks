{
 "cells": [
  {
   "cell_type": "code",
   "execution_count": 29,
   "metadata": {},
   "outputs": [
    {
     "name": "stdout",
     "output_type": "stream",
     "text": [
      "Populating the interactive namespace from numpy and matplotlib\n"
     ]
    }
   ],
   "source": [
    "%pylab inline"
   ]
  },
  {
   "cell_type": "code",
   "execution_count": 30,
   "metadata": {},
   "outputs": [],
   "source": [
    "import katpoint\n",
    "from IPython.core.display import display, HTML\n"
   ]
  },
  {
   "cell_type": "markdown",
   "metadata": {},
   "source": [
    "This notebook can be used each week to plan the scheduling of observations on MeerKAT. \n",
    "\n",
    "It will generate an obs table, with times in SAST, that can be used to block off times in the Google calendar\n",
    "\n",
    "See https://en.wikipedia.org/wiki/Sidereal_time for a discussion of siderial time\n",
    "\n",
    "Some useful points to check your scheduling sanity:\n",
    "* The RA of a target is equal to the LST when the target is at its highest elevation (when it tranits)... this is useful because if you are doing scheduling the best is to observe equally on either side of this time\n",
    "* LST will change by roughy 4 mins per day ... so a target will transit 4 mins earlier each day\n",
    "* MeerKAT LST matches SAST on roughly 30 Sep each year ... it is 6 hrs after SAST on about 30 Dec, 12 hrs difference in March and 6 hrs before in June \n",
    "\n",
    "You can also look at the following pyephem doc page for more ways to use the ant.ref_observer object. http://rhodesmill.org/pyephem/quick.html"
   ]
  },
  {
   "cell_type": "markdown",
   "metadata": {},
   "source": [
    "Link to the MeerKAT observation calendar\n",
    "\n",
    "https://calendar.google.com/calendar/embed?src=ska.ac.za_hd1ilp7tkoffoa9f2gh0j6l0q8%40group.calendar.google.com&ctz=Africa/Johannesburg"
   ]
  },
  {
   "cell_type": "code",
   "execution_count": 31,
   "metadata": {},
   "outputs": [],
   "source": [
    "ant = katpoint.Antenna('ant1, -30:42:39.8, 21:26:38.0, 1035.0') # the MeerKAT reference point\n",
    "ant.ref_observer.horizon = '20:00:00' # horizon set to 20 degrees\n",
    "SAST = matplotlib.dateutil.relativedelta.relativedelta(hours=2) # useful to convert to SAST (UTC + 2)"
   ]
  },
  {
   "cell_type": "code",
   "execution_count": 32,
   "metadata": {},
   "outputs": [],
   "source": [
    "# catalogue cell\n",
    "\n",
    "cat = katpoint.Catalogue()\n",
    "# MeerKAT main bp calibrators\n",
    "cat.add(katpoint.Target('Jupiter, special'))\n",
    "cat.add(katpoint.Target('Sun,special'))         \n",
    "cat.add(katpoint.Target('PKS 1934-63, radec bpcal, 19:39:25.03, -63:42:45.7'))\n",
    "cat.add(katpoint.Target('3C286,radec bpcal,13:31:08.288,+30:30:32.959'))"
   ]
  },
  {
   "cell_type": "code",
   "execution_count": 33,
   "metadata": {},
   "outputs": [],
   "source": [
    "### start time cell\n",
    "\n",
    "# select the timestamp to be used to generate the obs table \n",
    "# comment out one of the following two lines\n",
    "#start_timestamp = katpoint.Timestamp() # use NOW as the start time for the obs table\n",
    "start_timestamp = katpoint.Timestamp('2020-07-17 17:00') # use a specific time as the start time (in UTC ... )"
   ]
  },
  {
   "cell_type": "code",
   "execution_count": 34,
   "metadata": {},
   "outputs": [],
   "source": [
    "# pyephem version of the katpoint timestamp for the ref_observer object\n",
    "start_ed = start_timestamp.to_ephem_date()"
   ]
  },
  {
   "cell_type": "code",
   "execution_count": 35,
   "metadata": {},
   "outputs": [
    {
     "data": {
      "text/html": [
       "<table><tr><td colspan='4'>Obs table for 2020-07-17 19:00</td></tr><tr><td>Target<td>Next Rise<td>Next Transit<td>Next Set</tr><tr><td> Jupiter <td> 2020-07-17 19:08 <td> 2020-07-18 00:24 <td> 2020-07-18 05:39 </tr><tr><td> Sun <td> 2020-07-18 09:21 <td> 2020-07-18 12:40 <td> 2020-07-18 15:59 </tr><tr><td> PKS 1934-63 <td> 2020-07-18 17:17 <td> 2020-07-18 00:30 <td> 2020-07-18 07:40 </tr><tr><td> 3C286 <td> 2020-07-18 15:55 <td> 2020-07-18 18:18 <td> 2020-07-17 20:45 </tr><tr><td colspan='4'>These times are in SAST</td></tr></table>"
      ],
      "text/plain": [
       "<IPython.core.display.HTML object>"
      ]
     },
     "metadata": {},
     "output_type": "display_data"
    }
   ],
   "source": [
    "# generate an html table for displaying\n",
    "# only the first 16 characters [:16] are shown for the time string\n",
    "# for readability\n",
    "\n",
    "h = '<table>'\n",
    "h += \"<tr><td colspan='4'>Obs table for %s</td></tr>\"%str(start_timestamp+7200)[:16]\n",
    "h += \"<tr><td>Target<td>Next Rise<td>Next Transit<td>Next Set</tr>\"\n",
    "for tar in cat.targets:\n",
    "    h += '<tr><td> %s <td> %s <td> %s <td> %s </tr>'%(tar.name,\n",
    "                                str((ant.ref_observer.next_rising(tar.body,start_ed).datetime()+SAST))[:16],\n",
    "                                str((ant.ref_observer.next_transit(tar.body,start_ed).datetime()+SAST))[:16],\n",
    "                                str((ant.ref_observer.next_setting(tar.body,start_ed).datetime()+SAST))[:16])\n",
    "h += \"<tr><td colspan='4'>These times are in SAST</td></tr>\"\n",
    "h += \"</table>\"\n",
    "display(HTML(h))"
   ]
  },
  {
   "cell_type": "markdown",
   "metadata": {},
   "source": [
    "Recomended scheduling steps:\n",
    "0. Make copy of this notebook\n",
    "1. Get the target coordinates\n",
    "2. Get the required duration for the time on target ... call this (m)\n",
    "3. Get the obs priority order from the Tuesday Comm meeting options are \n",
    " * has to be observed this week\n",
    " * was missed last week\n",
    " * no priority\n",
    "4. Edit the catalogue and start-time cells to generate the obs table\n",
    "5. For the first target of interest, is the calendar free for m/2 either side of the transit time? If yes the book that time.\n",
    "6. If the block time in the previous step is not available can you slide the block forward or backward between the rise and set time to find a free block? If you find a gap then book that time.\n",
    "7. If you need to choose a day later in the week then remember that the times are about 4 mins earlier for each day after the obs table is generated ... this is usually not that significant (at most 30 mins) in a week \n",
    "8. Repeat until all the targets are scheduled\n",
    "9. Fill in the gaps with filler observations like pointing or baseline cal"
   ]
  },
  {
   "cell_type": "code",
   "execution_count": 36,
   "metadata": {},
   "outputs": [
    {
     "name": "stdout",
     "output_type": "stream",
     "text": [
      "2020/7/17 17:08:47\n",
      "2020/7/18 03:39:39\n"
     ]
    }
   ],
   "source": [
    "target=cat.targets[0] # Jupiter\n",
    "print ant.ref_observer.next_rising(target.body,start_ed)\n",
    "print ant.ref_observer.next_setting(target.body,start_ed)"
   ]
  },
  {
   "cell_type": "code",
   "execution_count": 41,
   "metadata": {
    "scrolled": true
   },
   "outputs": [
    {
     "name": "stdout",
     "output_type": "stream",
     "text": [
      "Duration  10.51 Hours\n"
     ]
    }
   ],
   "source": [
    "print \"Duration %6.2f Hours\" %((ant.ref_observer.next_setting(target.body,start_ed)\\\n",
    "                  - ant.ref_observer.next_rising(target.body,start_ed))*24)"
   ]
  },
  {
   "cell_type": "code",
   "execution_count": 42,
   "metadata": {},
   "outputs": [],
   "source": [
    "import matplotlib.pyplot as plt\n",
    "from matplotlib.ticker import MaxNLocator, MultipleLocator\n",
    "import matplotlib.dates as mdates\n",
    "from matplotlib.font_manager import FontProperties\n",
    "from astropy.time import Time"
   ]
  },
  {
   "cell_type": "code",
   "execution_count": 43,
   "metadata": {
    "scrolled": true
   },
   "outputs": [
    {
     "name": "stdout",
     "output_type": "stream",
     "text": [
      "1595005200.0\n"
     ]
    }
   ],
   "source": [
    "lst= ant.ref_observer.sidereal_time()\n",
    "start_ed = start_timestamp.to_ephem_date()\n",
    "print(start_timestamp.secs)\n",
    "#print(target.antenna.local_sidereal_time(start_ed))"
   ]
  },
  {
   "cell_type": "code",
   "execution_count": null,
   "metadata": {},
   "outputs": [],
   "source": []
  }
 ],
 "metadata": {
  "kernelspec": {
   "display_name": "Python 2",
   "language": "python",
   "name": "python2"
  },
  "language_info": {
   "codemirror_mode": {
    "name": "ipython",
    "version": 2
   },
   "file_extension": ".py",
   "mimetype": "text/x-python",
   "name": "python",
   "nbconvert_exporter": "python",
   "pygments_lexer": "ipython2",
   "version": "2.7.17"
  }
 },
 "nbformat": 4,
 "nbformat_minor": 1
}
