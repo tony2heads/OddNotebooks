{
 "cells": [
  {
   "cell_type": "code",
   "execution_count": 1,
   "metadata": {
    "collapsed": true,
    "scrolled": true
   },
   "outputs": [],
   "source": [
    "import numpy as np, matplotlib.pyplot as plt, healpy as hp\n",
    "from radiono import rm, utils as ut\n",
    "%matplotlib inline "
   ]
  },
  {
   "cell_type": "markdown",
   "metadata": {},
   "source": [
    "`radionopy` is a natural next step from existing codes that calculate the RM for a given pointing on the sky for radio telescopes. Instead of a single pointing being printed to file, it holds all data in python arrays, which themselves are called from an IonoMap object.\n",
    "\n",
    "The code's heritage is mainly from ionFR (http://sourceforge.net/projects/ionfr), which unfortunately includes bugs (e.g. RMs are always positive) and requires some inelegant string arguments. While radionopy is under active  development (most [all?] bugs found & removed), some of this heritage in terms of function arguments has not yet been superseded.\n",
    "\n",
    "In this tutorial, I will give a flavour of different use cases for radionopy by manipulating the IonoMap object. It assumes one has executed `python setup.py develop` in the repo, which will compile the geomagnetic field model.\n",
    "\n",
    "This tutorial actually generates Figure 5 in Moore et al 2017 at the end."
   ]
  },
  {
   "cell_type": "markdown",
   "metadata": {
    "collapsed": true
   },
   "source": [
    "`#1`: Choose what day you want to get data for.\n",
    "\n",
    "`#2`: State your latitude and longitude, since the B-field projection depends on your location. Note the funny way of stating negative values - the final character for this Southern-hemisphere site (the PAPER/HERA site, actually) is denoted with an \"s\" for south. Use \"n\" for north. Same for \"e\" and \"w\" for longitude. No minus-signs used. This will be simplified in later releases.\n",
    "\n",
    "`#3`: Under the hood, `rm.IonoMap` is doing an anonymous ftp to the IONEX server to obtain TEC data for that night. For an overview of IONEX files, see `radionopy/docs/ionex_memo.pdf`. Unless specified in an argument to the call, the IONEX file will be placed in a directory named \"TEC\". If the file already exists, no ftp will occur."
   ]
  },
  {
   "cell_type": "code",
   "execution_count": 2,
   "metadata": {
    "scrolled": true
   },
   "outputs": [
    {
     "name": "stdout",
     "output_type": "stream",
     "text": [
      "rm: cannot remove ‘TEC’: No such file or directory\r\n"
     ]
    }
   ],
   "source": [
    "#rm TEC"
   ]
  },
  {
   "cell_type": "code",
   "execution_count": 5,
   "metadata": {
    "collapsed": true,
    "scrolled": true
   },
   "outputs": [],
   "source": [
    "YYYY,MM,DD = '2018','09','23' #1 \n",
    "\n",
    "obsLat,obsLon = '30d43m17.5ss','21d25m41.9se' #2\n",
    "\n",
    "IM = rm.IonoMap(obsLat,obsLon,['%s-%s-%s'%(YYYY,MM,DD)]) #3"
   ]
  },
  {
   "cell_type": "code",
   "execution_count": 21,
   "metadata": {},
   "outputs": [
    {
     "name": "stdout",
     "output_type": "stream",
     "text": [
      "[[[53. 53. 53. ... 52. 53. 53.]\n",
      "  [57. 57. 57. ... 56. 56. 57.]\n",
      "  [58. 59. 59. ... 57. 57. 58.]\n",
      "  ...\n",
      "  [42. 41. 41. ... 43. 43. 42.]\n",
      "  [34. 33. 33. ... 35. 34. 34.]\n",
      "  [25. 25. 24. ... 26. 25. 25.]]\n",
      "\n",
      " [[53. 53. 53. ... 53. 53. 53.]\n",
      "  [56. 56. 56. ... 56. 56. 56.]\n",
      "  [56. 56. 56. ... 56. 56. 56.]\n",
      "  ...\n",
      "  [38. 37. 37. ... 39. 38. 38.]\n",
      "  [31. 30. 30. ... 31. 31. 31.]\n",
      "  [23. 23. 23. ... 23. 23. 23.]]\n",
      "\n",
      " [[50. 50. 50. ... 50. 50. 50.]\n",
      "  [51. 51. 51. ... 51. 51. 51.]\n",
      "  [50. 50. 50. ... 50. 50. 50.]\n",
      "  ...\n",
      "  [36. 35. 35. ... 36. 36. 36.]\n",
      "  [30. 30. 30. ... 30. 30. 30.]\n",
      "  [24. 24. 24. ... 24. 24. 24.]]\n",
      "\n",
      " ...\n",
      "\n",
      " [[25. 26. 26. ... 25. 25. 25.]\n",
      "  [29. 30. 30. ... 28. 29. 29.]\n",
      "  [32. 33. 34. ... 30. 31. 32.]\n",
      "  ...\n",
      "  [56. 57. 58. ... 52. 54. 56.]\n",
      "  [44. 45. 46. ... 41. 43. 44.]\n",
      "  [31. 31. 32. ... 29. 30. 31.]]\n",
      "\n",
      " [[25. 26. 26. ... 25. 25. 25.]\n",
      "  [29. 30. 31. ... 28. 28. 29.]\n",
      "  [32. 33. 35. ... 29. 30. 32.]\n",
      "  ...\n",
      "  [52. 52. 52. ... 51. 51. 52.]\n",
      "  [39. 39. 39. ... 38. 38. 39.]\n",
      "  [24. 25. 25. ... 24. 24. 24.]]\n",
      "\n",
      " [[30. 31. 31. ... 30. 30. 30.]\n",
      "  [35. 35. 36. ... 33. 34. 35.]\n",
      "  [37. 38. 39. ... 35. 36. 37.]\n",
      "  ...\n",
      "  [45. 44. 44. ... 47. 46. 45.]\n",
      "  [35. 35. 34. ... 35. 35. 35.]\n",
      "  [24. 24. 23. ... 24. 24. 24.]]]\n"
     ]
    }
   ],
   "source": [
    "print (IM.ionex_data(YYYY,MM,DD))[0]\n"
   ]
  },
  {
   "cell_type": "code",
   "execution_count": 13,
   "metadata": {
    "scrolled": true
   },
   "outputs": [
    {
     "name": "stdout",
     "output_type": "stream",
     "text": [
      "(25, 71, 73)\n"
     ]
    },
    {
     "ename": "ValueError",
     "evalue": "Wrong pixel number (it is not 12*nside**2)",
     "output_type": "error",
     "traceback": [
      "\u001b[0;31m---------------------------------------------------------------------------\u001b[0m",
      "\u001b[0;31mValueError\u001b[0m                                Traceback (most recent call last)",
      "\u001b[0;32m<ipython-input-13-b81d5ccfe305>\u001b[0m in \u001b[0;36m<module>\u001b[0;34m()\u001b[0m\n\u001b[1;32m      9\u001b[0m \u001b[0;34m\u001b[0m\u001b[0m\n\u001b[1;32m     10\u001b[0m \u001b[0mmc\u001b[0m \u001b[0;34m=\u001b[0m \u001b[0mBasemap\u001b[0m\u001b[0;34m(\u001b[0m\u001b[0mprojection\u001b[0m\u001b[0;34m=\u001b[0m\u001b[0;34m'cyl'\u001b[0m\u001b[0;34m,\u001b[0m \u001b[0mresolution\u001b[0m\u001b[0;34m=\u001b[0m\u001b[0;34m'c'\u001b[0m\u001b[0;34m)\u001b[0m\u001b[0;34m\u001b[0m\u001b[0m\n\u001b[0;32m---> 11\u001b[0;31m \u001b[0mtecuUT\u001b[0m\u001b[0;34m=\u001b[0m\u001b[0mhp\u001b[0m\u001b[0;34m.\u001b[0m\u001b[0mcartview\u001b[0m\u001b[0;34m(\u001b[0m\u001b[0mtecu\u001b[0m\u001b[0;34m[\u001b[0m\u001b[0;36m0\u001b[0m\u001b[0;34m,\u001b[0m\u001b[0;34m:\u001b[0m\u001b[0;34m]\u001b[0m\u001b[0;34m,\u001b[0m\u001b[0mflip\u001b[0m\u001b[0;34m=\u001b[0m\u001b[0;34m'geo'\u001b[0m\u001b[0;34m,\u001b[0m\u001b[0mmax\u001b[0m\u001b[0;34m=\u001b[0m\u001b[0;36m90\u001b[0m\u001b[0;34m,\u001b[0m\u001b[0mmin\u001b[0m\u001b[0;34m=\u001b[0m\u001b[0;36m0\u001b[0m\u001b[0;34m,\u001b[0m\u001b[0mreturn_projected_map\u001b[0m\u001b[0;34m=\u001b[0m\u001b[0mTrue\u001b[0m\u001b[0;34m)\u001b[0m \u001b[0;31m# get map for UT=0 hr\u001b[0m\u001b[0;34m\u001b[0m\u001b[0m\n\u001b[0m\u001b[1;32m     12\u001b[0m \u001b[0mmc\u001b[0m\u001b[0;34m.\u001b[0m\u001b[0mdrawcoastlines\u001b[0m\u001b[0;34m(\u001b[0m\u001b[0;34m)\u001b[0m\u001b[0;34m\u001b[0m\u001b[0m\n\u001b[1;32m     13\u001b[0m \u001b[0m_tecu\u001b[0m \u001b[0;34m=\u001b[0m \u001b[0mmc\u001b[0m\u001b[0;34m.\u001b[0m\u001b[0mimshow\u001b[0m\u001b[0;34m(\u001b[0m\u001b[0mtecuUT\u001b[0m\u001b[0;34m,\u001b[0m \u001b[0malpha\u001b[0m\u001b[0;34m=\u001b[0m\u001b[0;36m0.6\u001b[0m\u001b[0;34m,\u001b[0m\u001b[0mvmax\u001b[0m\u001b[0;34m=\u001b[0m\u001b[0;36m90\u001b[0m\u001b[0;34m,\u001b[0m\u001b[0mvmin\u001b[0m\u001b[0;34m=\u001b[0m\u001b[0;36m0\u001b[0m\u001b[0;34m)\u001b[0m\u001b[0;34m\u001b[0m\u001b[0m\n",
      "\u001b[0;32m/usr/local/lib/python2.7/dist-packages/healpy-1.11.0-py2.7-linux-x86_64.egg/healpy/visufunc.pyc\u001b[0m in \u001b[0;36mcartview\u001b[0;34m(map, fig, rot, zat, coord, unit, xsize, ysize, lonra, latra, title, nest, remove_dip, remove_mono, gal_cut, min, max, flip, format, cbar, cmap, norm, aspect, hold, sub, margins, notext, return_projected_map)\u001b[0m\n\u001b[1;32m    540\u001b[0m         img = ax.projmap(map,nest=nest,coord=coord,vmin=min,vmax=max,\n\u001b[1;32m    541\u001b[0m                    \u001b[0mxsize\u001b[0m\u001b[0;34m=\u001b[0m\u001b[0mxsize\u001b[0m\u001b[0;34m,\u001b[0m\u001b[0mysize\u001b[0m\u001b[0;34m=\u001b[0m\u001b[0mysize\u001b[0m\u001b[0;34m,\u001b[0m\u001b[0mlonra\u001b[0m\u001b[0;34m=\u001b[0m\u001b[0mlonra\u001b[0m\u001b[0;34m,\u001b[0m\u001b[0mlatra\u001b[0m\u001b[0;34m=\u001b[0m\u001b[0mlatra\u001b[0m\u001b[0;34m,\u001b[0m\u001b[0;34m\u001b[0m\u001b[0m\n\u001b[0;32m--> 542\u001b[0;31m                    cmap=cmap,norm=norm,aspect=aspect)\n\u001b[0m\u001b[1;32m    543\u001b[0m         \u001b[0;32mif\u001b[0m \u001b[0mcbar\u001b[0m\u001b[0;34m:\u001b[0m\u001b[0;34m\u001b[0m\u001b[0m\n\u001b[1;32m    544\u001b[0m             \u001b[0mim\u001b[0m \u001b[0;34m=\u001b[0m \u001b[0max\u001b[0m\u001b[0;34m.\u001b[0m\u001b[0mget_images\u001b[0m\u001b[0;34m(\u001b[0m\u001b[0;34m)\u001b[0m\u001b[0;34m[\u001b[0m\u001b[0;36m0\u001b[0m\u001b[0;34m]\u001b[0m\u001b[0;34m\u001b[0m\u001b[0m\n",
      "\u001b[0;32m/usr/local/lib/python2.7/dist-packages/healpy-1.11.0-py2.7-linux-x86_64.egg/healpy/projaxes.pyc\u001b[0m in \u001b[0;36mprojmap\u001b[0;34m(self, map, nest, **kwds)\u001b[0m\n\u001b[1;32m    669\u001b[0m \u001b[0;32mclass\u001b[0m \u001b[0mHpxCartesianAxes\u001b[0m\u001b[0;34m(\u001b[0m\u001b[0mCartesianAxes\u001b[0m\u001b[0;34m)\u001b[0m\u001b[0;34m:\u001b[0m\u001b[0;34m\u001b[0m\u001b[0m\n\u001b[1;32m    670\u001b[0m     \u001b[0;32mdef\u001b[0m \u001b[0mprojmap\u001b[0m\u001b[0;34m(\u001b[0m\u001b[0mself\u001b[0m\u001b[0;34m,\u001b[0m\u001b[0mmap\u001b[0m\u001b[0;34m,\u001b[0m\u001b[0mnest\u001b[0m\u001b[0;34m=\u001b[0m\u001b[0mFalse\u001b[0m\u001b[0;34m,\u001b[0m\u001b[0;34m**\u001b[0m\u001b[0mkwds\u001b[0m\u001b[0;34m)\u001b[0m\u001b[0;34m:\u001b[0m\u001b[0;34m\u001b[0m\u001b[0m\n\u001b[0;32m--> 671\u001b[0;31m         \u001b[0mnside\u001b[0m \u001b[0;34m=\u001b[0m \u001b[0mpixelfunc\u001b[0m\u001b[0;34m.\u001b[0m\u001b[0mnpix2nside\u001b[0m\u001b[0;34m(\u001b[0m\u001b[0mpixelfunc\u001b[0m\u001b[0;34m.\u001b[0m\u001b[0mget_map_size\u001b[0m\u001b[0;34m(\u001b[0m\u001b[0mmap\u001b[0m\u001b[0;34m)\u001b[0m\u001b[0;34m)\u001b[0m\u001b[0;34m\u001b[0m\u001b[0m\n\u001b[0m\u001b[1;32m    672\u001b[0m         \u001b[0mf\u001b[0m \u001b[0;34m=\u001b[0m \u001b[0;32mlambda\u001b[0m \u001b[0mx\u001b[0m\u001b[0;34m,\u001b[0m\u001b[0my\u001b[0m\u001b[0;34m,\u001b[0m\u001b[0mz\u001b[0m\u001b[0;34m:\u001b[0m \u001b[0mpixelfunc\u001b[0m\u001b[0;34m.\u001b[0m\u001b[0mvec2pix\u001b[0m\u001b[0;34m(\u001b[0m\u001b[0mnside\u001b[0m\u001b[0;34m,\u001b[0m\u001b[0mx\u001b[0m\u001b[0;34m,\u001b[0m\u001b[0my\u001b[0m\u001b[0;34m,\u001b[0m\u001b[0mz\u001b[0m\u001b[0;34m,\u001b[0m\u001b[0mnest\u001b[0m\u001b[0;34m=\u001b[0m\u001b[0mnest\u001b[0m\u001b[0;34m)\u001b[0m\u001b[0;34m\u001b[0m\u001b[0m\n\u001b[1;32m    673\u001b[0m         \u001b[0;32mreturn\u001b[0m \u001b[0msuper\u001b[0m\u001b[0;34m(\u001b[0m\u001b[0mHpxCartesianAxes\u001b[0m\u001b[0;34m,\u001b[0m\u001b[0mself\u001b[0m\u001b[0;34m)\u001b[0m\u001b[0;34m.\u001b[0m\u001b[0mprojmap\u001b[0m\u001b[0;34m(\u001b[0m\u001b[0mmap\u001b[0m\u001b[0;34m,\u001b[0m\u001b[0mf\u001b[0m\u001b[0;34m,\u001b[0m\u001b[0;34m**\u001b[0m\u001b[0mkwds\u001b[0m\u001b[0;34m)\u001b[0m\u001b[0;34m\u001b[0m\u001b[0m\n",
      "\u001b[0;32m/usr/local/lib/python2.7/dist-packages/healpy-1.11.0-py2.7-linux-x86_64.egg/healpy/pixelfunc.pyc\u001b[0m in \u001b[0;36mget_map_size\u001b[0;34m(m)\u001b[0m\n\u001b[1;32m   1651\u001b[0m             \u001b[0;32mreturn\u001b[0m \u001b[0mlen\u001b[0m\u001b[0;34m(\u001b[0m\u001b[0mm\u001b[0m\u001b[0;34m)\u001b[0m\u001b[0;34m\u001b[0m\u001b[0m\n\u001b[1;32m   1652\u001b[0m         \u001b[0;32melse\u001b[0m\u001b[0;34m:\u001b[0m\u001b[0;34m\u001b[0m\u001b[0m\n\u001b[0;32m-> 1653\u001b[0;31m             \u001b[0;32mraise\u001b[0m \u001b[0mValueError\u001b[0m\u001b[0;34m(\u001b[0m\u001b[0;34m\"Wrong pixel number (it is not 12*nside**2)\"\u001b[0m\u001b[0;34m)\u001b[0m\u001b[0;34m\u001b[0m\u001b[0m\n\u001b[0m\u001b[1;32m   1654\u001b[0m \u001b[0;34m\u001b[0m\u001b[0m\n\u001b[1;32m   1655\u001b[0m \u001b[0;32mdef\u001b[0m \u001b[0mget_min_valid_nside\u001b[0m\u001b[0;34m(\u001b[0m\u001b[0mnpix\u001b[0m\u001b[0;34m)\u001b[0m\u001b[0;34m:\u001b[0m\u001b[0;34m\u001b[0m\u001b[0m\n",
      "\u001b[0;31mValueError\u001b[0m: Wrong pixel number (it is not 12*nside**2)"
     ]
    },
    {
     "data": {
      "image/png": "[encoded data removed]",
      "text/plain": [
       "<matplotlib.figure.Figure at 0x7f8a84597b50>"
      ]
     },
     "metadata": {},
     "output_type": "display_data"
    }
   ],
   "source": [
    "from mpl_toolkits.basemap import Basemap\n",
    "\n",
    "# TEC and rms(TEC) are contained in the raw IONEX file as a spherical harmonic decomposition,\n",
    "# making it a natural step to display as a full-sky map. ionh is the height of the ionosphere.\n",
    "blaaah,tec,rmstec,ionh= IM.ionex_data(YYYY,MM,DD)\n",
    "\n",
    "print tec.shape # UT hours, npix\n",
    "tecu = 0.1*tec # convert to TECU\n",
    "\n",
    "mc = Basemap(projection='cyl', resolution='c')\n",
    "tecuUT=hp.cartview(tecu[0,:],flip='geo',max=90,min=0,return_projected_map=True) # get map for UT=0 hr\n",
    "mc.drawcoastlines()\n",
    "_tecu = mc.imshow(tecuUT, alpha=0.6,vmax=90,vmin=0)\n",
    "mc.colorbar(location='bottom')\n",
    "plt.show()"
   ]
  },
  {
   "cell_type": "code",
   "execution_count": null,
   "metadata": {
    "scrolled": false
   },
   "outputs": [],
   "source": [
    "blah0,blah1,blah2,blah3=IM.ionex_data('2012','02','13')\n",
    "print blah0\n",
    "print blah1\n",
    "print blah2\n",
    "print blah3\n",
    "#print blah4\n",
    "#print blah5"
   ]
  },
  {
   "cell_type": "markdown",
   "metadata": {},
   "source": [
    "`radionopy` uses the International Geomagnetic Reference Field v11 (IGRF; Finlay et al. 2010), projecting it onto the IONEX TEC values and integrating, to calculate an RM for every ra,dec asked for. This can be a single (RA,Dec), the whole sphere, or anything inbetween. I'll show an example of each end:"
   ]
  },
  {
   "cell_type": "code",
   "execution_count": 18,
   "metadata": {
    "scrolled": false
   },
   "outputs": [
    {
     "ename": "IndexError",
     "evalue": "list index out of range",
     "output_type": "error",
     "traceback": [
      "\u001b[0;31m---------------------------------------------------------------------------\u001b[0m",
      "\u001b[0;31mIndexError\u001b[0m                                Traceback (most recent call last)",
      "\u001b[0;32m<ipython-input-18-78bb7a395c3e>\u001b[0m in \u001b[0;36m<module>\u001b[0;34m()\u001b[0m\n\u001b[1;32m      3\u001b[0m \u001b[0;31m# approximate position of Fornax A (OK for an example method...). Note radians.\u001b[0m\u001b[0;34m\u001b[0m\u001b[0;34m\u001b[0m\u001b[0m\n\u001b[1;32m      4\u001b[0m \u001b[0mra\u001b[0m\u001b[0;34m,\u001b[0m\u001b[0mdec\u001b[0m \u001b[0;34m=\u001b[0m \u001b[0mnp\u001b[0m\u001b[0;34m.\u001b[0m\u001b[0mradians\u001b[0m\u001b[0;34m(\u001b[0m\u001b[0;34m[\u001b[0m\u001b[0;36m50.67\u001b[0m\u001b[0;34m,\u001b[0m\u001b[0;34m-\u001b[0m\u001b[0;36m37.21\u001b[0m\u001b[0;34m]\u001b[0m\u001b[0;34m)\u001b[0m\u001b[0;34m\u001b[0m\u001b[0m\n\u001b[0;32m----> 5\u001b[0;31m \u001b[0mIM\u001b[0m\u001b[0;34m.\u001b[0m\u001b[0mcalc_radec_rm\u001b[0m\u001b[0;34m(\u001b[0m\u001b[0;34m[\u001b[0m\u001b[0mra\u001b[0m\u001b[0;34m]\u001b[0m\u001b[0;34m,\u001b[0m\u001b[0;34m[\u001b[0m\u001b[0mdec\u001b[0m\u001b[0;34m]\u001b[0m\u001b[0;34m)\u001b[0m\u001b[0;34m\u001b[0m\u001b[0m\n\u001b[0m\u001b[1;32m      6\u001b[0m \u001b[0;34m\u001b[0m\u001b[0m\n\u001b[1;32m      7\u001b[0m \u001b[0;31m# the IonoMap object will now contain arrays IM.RM, IM.dRM, and more.\u001b[0m\u001b[0;34m\u001b[0m\u001b[0;34m\u001b[0m\u001b[0m\n",
      "\u001b[0;32m/usr/local/src/radionopy-master/radiono/rm.pyc\u001b[0m in \u001b[0;36mcalc_radec_rm\u001b[0;34m(self, ras, decs, verbose)\u001b[0m\n\u001b[1;32m    167\u001b[0m             \u001b[0;31m# time logic\u001b[0m\u001b[0;34m\u001b[0m\u001b[0;34m\u001b[0m\u001b[0m\n\u001b[1;32m    168\u001b[0m             \u001b[0mgroup\u001b[0m \u001b[0;34m=\u001b[0m \u001b[0mself\u001b[0m\u001b[0;34m.\u001b[0m\u001b[0mday_groups\u001b[0m\u001b[0;34m[\u001b[0m\u001b[0muday\u001b[0m\u001b[0;34m]\u001b[0m\u001b[0;34m\u001b[0m\u001b[0m\n\u001b[0;32m--> 169\u001b[0;31m             \u001b[0mtime_strs\u001b[0m \u001b[0;34m=\u001b[0m \u001b[0;34m[\u001b[0m\u001b[0mitem\u001b[0m\u001b[0;34m.\u001b[0m\u001b[0msplit\u001b[0m\u001b[0;34m(\u001b[0m\u001b[0;34m' '\u001b[0m\u001b[0;34m)\u001b[0m\u001b[0;34m[\u001b[0m\u001b[0;36m1\u001b[0m\u001b[0;34m]\u001b[0m \u001b[0;32mfor\u001b[0m \u001b[0mitem\u001b[0m \u001b[0;32min\u001b[0m \u001b[0mgroup\u001b[0m\u001b[0;34m]\u001b[0m\u001b[0;34m\u001b[0m\u001b[0m\n\u001b[0m\u001b[1;32m    170\u001b[0m             \u001b[0mUTs_dec\u001b[0m \u001b[0;34m=\u001b[0m \u001b[0;34m[\u001b[0m\u001b[0;34m]\u001b[0m\u001b[0;34m\u001b[0m\u001b[0m\n\u001b[1;32m    171\u001b[0m             \u001b[0;32mfor\u001b[0m \u001b[0mtime_str\u001b[0m \u001b[0;32min\u001b[0m \u001b[0mtime_strs\u001b[0m\u001b[0;34m:\u001b[0m\u001b[0;34m\u001b[0m\u001b[0m\n",
      "\u001b[0;31mIndexError\u001b[0m: list index out of range"
     ]
    }
   ],
   "source": [
    "## SINGLE POINTING (Fornax A from PAPER/HERA site)\n",
    "\n",
    "# approximate position of Fornax A (OK for an example method...). Note radians.\n",
    "ra,dec = np.radians([50.67,-37.21]) \n",
    "IM.calc_radec_rm([ra],[dec])\n",
    "\n",
    "# the IonoMap object will now contain arrays IM.RM, IM.dRM, and more. \n",
    "# They are len(ra) x UT hours shapes.\n",
    "plt.errorbar(range(24), IM.RMs[0,:], yerr=IM.dRMs[0,:], fmt='bo', ecolor='b')\n",
    "plt.xlabel(r'UT Time [Hours]')\n",
    "plt.ylabel(r'$\\phi_{\\rm ion}$ [rad m$^{-2}$]')\n",
    "plt.suptitle(r'%s'%('/'.join([DD,MM,YYYY])))\n",
    "plt.show()"
   ]
  },
  {
   "cell_type": "code",
   "execution_count": null,
   "metadata": {
    "collapsed": true,
    "scrolled": true
   },
   "outputs": [],
   "source": [
    "## HEALPix GRID (all-sky RM from the PAPER/HERA site)\n",
    "\n",
    "# simple generator function for ra, dec coords on a HealPix sphere\n",
    "ras,decs = ut.nsideToRaDec(16) \n",
    "\n",
    "# NOTE: if we called this in the same cell as above before plotting,\n",
    "# things would go wrong, since it will overwrite\n",
    "# the arrays with new ones based on the argument supplied.\n",
    "IM.calc_radec_rm(ras,decs)"
   ]
  },
  {
   "cell_type": "code",
   "execution_count": null,
   "metadata": {
    "collapsed": true,
    "scrolled": true
   },
   "outputs": [],
   "source": [
    "# To show \n",
    "mp = IM.RMs[0,0,:]\n",
    "mp[np.where(IM.alt_src[0,0,:] < 0)]=0.\n",
    "hp.orthview(mp,rot=[-IM.lst[0][0],30.712])"
   ]
  },
  {
   "cell_type": "code",
   "execution_count": null,
   "metadata": {
    "collapsed": true,
    "scrolled": true
   },
   "outputs": [],
   "source": [
    "# This generates the pngs\n",
    "for i,lst in enumerate(IM.lst[0]):\n",
    "    mp = IM.RMs[0,i,:]\n",
    "    mp[np.where(IM.alt_src[0,i,:] < 0)]=0.\n",
    "    hp.orthview(mp,rot=[-lst,30.712],title='UT%i hr, 2012-02-13'%i,min=-1,max=1,half_sky=True,unit=r'$rad\\,m$')\n",
    "    plt.savefig('RM_map_UT'+str(i).zfill(2)+'.png')"
   ]
  },
  {
   "cell_type": "code",
   "execution_count": null,
   "metadata": {
    "collapsed": true,
    "scrolled": true
   },
   "outputs": [],
   "source": []
  }
 ],
 "metadata": {
  "anaconda-cloud": {},
  "kernelspec": {
   "display_name": "Python 2",
   "language": "python",
   "name": "python2"
  },
  "language_info": {
   "codemirror_mode": {
    "name": "ipython",
    "version": 2
   },
   "file_extension": ".py",
   "mimetype": "text/x-python",
   "name": "python",
   "nbconvert_exporter": "python",
   "pygments_lexer": "ipython2",
   "version": "2.7.6"
  }
 },
 "nbformat": 4,
 "nbformat_minor": 1
}
