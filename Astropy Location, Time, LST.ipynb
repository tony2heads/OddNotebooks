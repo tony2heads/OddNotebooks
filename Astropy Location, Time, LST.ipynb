{
 "cells": [
  {
   "cell_type": "code",
   "execution_count": 1,
   "metadata": {},
   "outputs": [],
   "source": [
    "from astropy.coordinates import EarthLocation\n",
    "from astropy import time\n"
   ]
  },
  {
   "cell_type": "code",
   "execution_count": 2,
   "metadata": {},
   "outputs": [],
   "source": [
    "kat=EarthLocation.from_geodetic( 21.388, -30.7148, 1054) # East longitude, Lastitude, Height above ellipsoid"
   ]
  },
  {
   "cell_type": "code",
   "execution_count": 3,
   "metadata": {},
   "outputs": [
    {
     "name": "stdout",
     "output_type": "stream",
     "text": [
      "(<Quantity 5111091.727446815 m>, <Quantity 2001780.177602171 m>, <Quantity -3239288.436903668 m>)\n"
     ]
    }
   ],
   "source": [
    "print kat.geocentric"
   ]
  },
  {
   "cell_type": "code",
   "execution_count": 4,
   "metadata": {},
   "outputs": [],
   "source": [
    "t0= 1474416515 # A unix time for a file"
   ]
  },
  {
   "cell_type": "code",
   "execution_count": 5,
   "metadata": {},
   "outputs": [
    {
     "name": "stdout",
     "output_type": "stream",
     "text": [
      "2016-09-21 00:08:35.000 \n",
      "57652.0059606 \n",
      "2016-09-21 00:08:35\n"
     ]
    }
   ],
   "source": [
    "t=time.Time(1474416515,format='unix',location=kat.to_geocentric())\n",
    "\n",
    "print t.iso, '\\n', t.mjd,'\\n', t.datetime"
   ]
  },
  {
   "cell_type": "code",
   "execution_count": 6,
   "metadata": {},
   "outputs": [
    {
     "name": "stdout",
     "output_type": "stream",
     "text": [
      "Downloading https://maia.usno.navy.mil/ser7/finals2000A.all [Done]\n",
      "1h35m21.365s\n"
     ]
    }
   ],
   "source": [
    "last=t.sidereal_time('apparent')\n",
    "print last"
   ]
  },
  {
   "cell_type": "code",
   "execution_count": 7,
   "metadata": {},
   "outputs": [
    {
     "name": "stdout",
     "output_type": "stream",
     "text": [
      "1.58926806161\n"
     ]
    }
   ],
   "source": [
    "print last.hour"
   ]
  },
  {
   "cell_type": "code",
   "execution_count": 8,
   "metadata": {},
   "outputs": [
    {
     "name": "stdout",
     "output_type": "stream",
     "text": [
      "(-160.41629212,  366.72162939,  0.27457854) m / s\n"
     ]
    }
   ],
   "source": [
    "print kat.get_gcrs_posvel(t)[1]"
   ]
  },
  {
   "cell_type": "code",
   "execution_count": 9,
   "metadata": {},
   "outputs": [],
   "source": [
    "import astropy.coordinates.solar_system as ss\n"
   ]
  },
  {
   "cell_type": "code",
   "execution_count": 10,
   "metadata": {},
   "outputs": [
    {
     "name": "stdout",
     "output_type": "stream",
     "text": [
      "<SkyCoord (GCRS: obstime=1474416515.0, obsgeoloc=( 5023784.33311783,  2200001.27527692, -3247300.02722621) m, obsgeovel=(-160.41629212,  366.72162939,  0.27457854) m / s): (ra, dec, distance) in (deg, deg, km)\n",
      "    ( 55.66435964,  15.08022802,  361840.63483528)> \n",
      "======\n",
      "(-160.41629212,  366.72162939,  0.27457854) m / s\n",
      "361840.634835 km\n"
     ]
    }
   ],
   "source": [
    "moon=ss.get_moon(t,kat)\n",
    "\n",
    "print moon, \"\\n======\"\n",
    "\n",
    "print moon.obsgeovel\n",
    "print moon.distance\n",
    "\n"
   ]
  },
  {
   "cell_type": "code",
   "execution_count": 11,
   "metadata": {},
   "outputs": [
    {
     "name": "stdout",
     "output_type": "stream",
     "text": [
      "<SkyCoord (GCRS: obstime=1474416515.0, obsgeoloc=( 5023784.33311783,  2200001.27527692, -3247300.02722621) m, obsgeovel=(-160.41629212,  366.72162939,  0.27457854) m / s): (ra, dec, distance) in (deg, deg, AU)\n",
      "    ( 178.35937995,  0.71280393,  1.00398727)> \n",
      "=========\n",
      "( 1.00707852, -0.0256237, -0.01128561) AU\n"
     ]
    }
   ],
   "source": [
    "print ss.get_body('sun',t,ska),'\\n========='\n",
    "\n",
    "print ss.get_body_barycentric('earth',t)\n"
   ]
  }
 ],
 "metadata": {
  "kernelspec": {
   "display_name": "Python 2",
   "language": "python",
   "name": "python2"
  },
  "language_info": {
   "codemirror_mode": {
    "name": "ipython",
    "version": 2
   },
   "file_extension": ".py",
   "mimetype": "text/x-python",
   "name": "python",
   "nbconvert_exporter": "python",
   "pygments_lexer": "ipython2",
   "version": "2.7.15+"
  }
 },
 "nbformat": 4,
 "nbformat_minor": 1
}
