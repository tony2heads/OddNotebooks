{
 "cells": [
  {
   "cell_type": "code",
   "execution_count": 2,
   "metadata": {
    "collapsed": true
   },
   "outputs": [],
   "source": [
    "from astropy.coordinates import EarthLocation\n",
    "from astropy import time\n"
   ]
  },
  {
   "cell_type": "code",
   "execution_count": 3,
   "metadata": {
    "collapsed": true
   },
   "outputs": [],
   "source": [
    "kat=EarthLocation.from_geodetic( 21.388, -30.7148, 1054) # East longitude, Lastitude, Height above ellipsoid"
   ]
  },
  {
   "cell_type": "code",
   "execution_count": 14,
   "metadata": {
    "collapsed": false
   },
   "outputs": [
    {
     "name": "stdout",
     "output_type": "stream",
     "text": [
      "(<Quantity 5111091.727446815 m>, <Quantity 2001780.177602171 m>, <Quantity -3239288.436903668 m>)\n"
     ]
    }
   ],
   "source": [
    "print kat.geocentric"
   ]
  },
  {
   "cell_type": "code",
   "execution_count": 4,
   "metadata": {
    "collapsed": true
   },
   "outputs": [],
   "source": [
    "t0= 1474416515 # A unix time for a file"
   ]
  },
  {
   "cell_type": "code",
   "execution_count": 8,
   "metadata": {
    "collapsed": false
   },
   "outputs": [
    {
     "name": "stdout",
     "output_type": "stream",
     "text": [
      "2016-09-21 00:08:35.000 \n",
      "57652.0059606 \n",
      "2016-09-21 00:08:35\n"
     ]
    }
   ],
   "source": [
    "t=time.Time(1474416515,format='unix',location=kat.to_geocentric())\n",
    "\n",
    "print t.iso, '\\n', t.mjd,'\\n', t.datetime"
   ]
  },
  {
   "cell_type": "code",
   "execution_count": 9,
   "metadata": {
    "collapsed": false
   },
   "outputs": [
    {
     "name": "stdout",
     "output_type": "stream",
     "text": [
      "1h35m21.3651s\n"
     ]
    }
   ],
   "source": [
    "last=t.sidereal_time('apparent')\n",
    "print last"
   ]
  },
  {
   "cell_type": "code",
   "execution_count": 13,
   "metadata": {
    "collapsed": false
   },
   "outputs": [
    {
     "name": "stdout",
     "output_type": "stream",
     "text": [
      "1.589268083\n"
     ]
    }
   ],
   "source": [
    "print last.hour"
   ]
  },
  {
   "cell_type": "code",
   "execution_count": 16,
   "metadata": {
    "collapsed": false
   },
   "outputs": [
    {
     "name": "stdout",
     "output_type": "stream",
     "text": [
      "[-160.42664391  366.34017305    0.        ] m / s\n"
     ]
    }
   ],
   "source": [
    "print kat.get_gcrs_posvel(t)[1]"
   ]
  },
  {
   "cell_type": "code",
   "execution_count": 20,
   "metadata": {
    "collapsed": true
   },
   "outputs": [],
   "source": [
    "import astropy.coordinates.solar_system as ss\n"
   ]
  },
  {
   "cell_type": "code",
   "execution_count": 29,
   "metadata": {
    "collapsed": false
   },
   "outputs": [
    {
     "name": "stdout",
     "output_type": "stream",
     "text": [
      "<SkyCoord (GCRS: obstime=1474416515.0, obsgeoloc=[ 5023784.32158451  2200001.30402822 -3247300.02552118] m, obsgeovel=[-160.42664391  366.34017305    0.        ] m / s): (ra, dec, distance) in (deg, deg, AU)\n",
      "    (55.6656622, 15.08250306, 0.00241876)> \n",
      "======\n",
      "[-160.42664391  366.34017305    0.        ] m / s\n",
      "0.00241875681207 AU\n"
     ]
    }
   ],
   "source": [
    "moon=ss.get_moon(t,kat)\n",
    "\n",
    "print moon, \"\\n======\"\n",
    "\n",
    "print moon.obsgeovel\n",
    "print moon.distance\n",
    "\n"
   ]
  },
  {
   "cell_type": "code",
   "execution_count": 25,
   "metadata": {
    "collapsed": false
   },
   "outputs": [
    {
     "name": "stdout",
     "output_type": "stream",
     "text": [
      "<SkyCoord (GCRS: obstime=1474416515.0, obsgeoloc=[ 5023784.32158451  2200001.30402822 -3247300.02552118] m, obsgeovel=[-160.42664391  366.34017305    0.        ] m / s): (ra, dec, distance) in (deg, deg, AU)\n",
      "    (178.35938002, 0.71280388, 1.00398727)> \n",
      "=========\n",
      "(1.007078517162211, -0.0256236955232552, -0.011285608721228812) AU\n"
     ]
    }
   ],
   "source": [
    "print ss.get_body('sun',t,kat),'\\n========='\n",
    "\n",
    "print ss.get_body_barycentric('earth',t)\n"
   ]
  }
 ],
 "metadata": {
  "kernelspec": {
   "display_name": "Python 2",
   "language": "python",
   "name": "python2"
  },
  "language_info": {
   "codemirror_mode": {
    "name": "ipython",
    "version": 2
   },
   "file_extension": ".py",
   "mimetype": "text/x-python",
   "name": "python",
   "nbconvert_exporter": "python",
   "pygments_lexer": "ipython2",
   "version": "2.7.6"
  }
 },
 "nbformat": 4,
 "nbformat_minor": 0
}
