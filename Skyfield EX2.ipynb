{
 "cells": [
  {
   "cell_type": "code",
   "execution_count": 2,
   "metadata": {
    "collapsed": false
   },
   "outputs": [
    {
     "ename": "IndexError",
     "evalue": "tuple index out of range",
     "output_type": "error",
     "traceback": [
      "\u001b[0;31m---------------------------------------------------------------------------\u001b[0m",
      "\u001b[0;31mIndexError\u001b[0m                                Traceback (most recent call last)",
      "\u001b[0;32m<ipython-input-2-52600ca5294d>\u001b[0m in \u001b[0;36m<module>\u001b[0;34m()\u001b[0m\n\u001b[1;32m      4\u001b[0m \u001b[0mdata\u001b[0m \u001b[0;34m=\u001b[0m \u001b[0mload\u001b[0m\u001b[0;34m(\u001b[0m\u001b[0;34m'de421.bsp'\u001b[0m\u001b[0;34m)\u001b[0m\u001b[0;34m\u001b[0m\u001b[0m\n\u001b[1;32m      5\u001b[0m \u001b[0msun\u001b[0m  \u001b[0;34m=\u001b[0m \u001b[0mdata\u001b[0m\u001b[0;34m[\u001b[0m\u001b[0;34m'sun'\u001b[0m\u001b[0;34m]\u001b[0m\u001b[0;34m\u001b[0m\u001b[0m\n\u001b[0;32m----> 6\u001b[0;31m \u001b[0mbary\u001b[0m \u001b[0;34m=\u001b[0m \u001b[0mdata\u001b[0m\u001b[0;34m[\u001b[0m\u001b[0;34m'solar system barycenter'\u001b[0m\u001b[0;34m]\u001b[0m\u001b[0;34m\u001b[0m\u001b[0m\n\u001b[0m\u001b[1;32m      7\u001b[0m \u001b[0;34m\u001b[0m\u001b[0m\n\u001b[1;32m      8\u001b[0m \u001b[0myears\u001b[0m \u001b[0;34m=\u001b[0m \u001b[0;34m[\u001b[0m\u001b[0;36m1975\u001b[0m\u001b[0;34m+\u001b[0m\u001b[0mi\u001b[0m \u001b[0;32mfor\u001b[0m \u001b[0mi\u001b[0m \u001b[0;32min\u001b[0m \u001b[0mrange\u001b[0m\u001b[0;34m(\u001b[0m\u001b[0;36m51\u001b[0m\u001b[0;34m)\u001b[0m\u001b[0;34m]\u001b[0m\u001b[0;34m\u001b[0m\u001b[0m\n",
      "\u001b[0;32m/usr/local/lib/python2.7/dist-packages/skyfield/jpllib.pyc\u001b[0m in \u001b[0;36m__getitem__\u001b[0;34m(self, target)\u001b[0m\n\u001b[1;32m    161\u001b[0m             \u001b[0;32mreturn\u001b[0m \u001b[0mchain\u001b[0m\u001b[0;34m[\u001b[0m\u001b[0;36m0\u001b[0m\u001b[0;34m]\u001b[0m\u001b[0;34m\u001b[0m\u001b[0m\n\u001b[1;32m    162\u001b[0m         \u001b[0mchain\u001b[0m \u001b[0;34m=\u001b[0m \u001b[0mchain\u001b[0m\u001b[0;34m[\u001b[0m\u001b[0;34m:\u001b[0m\u001b[0;34m:\u001b[0m\u001b[0;34m-\u001b[0m\u001b[0;36m1\u001b[0m\u001b[0;34m]\u001b[0m\u001b[0;34m\u001b[0m\u001b[0m\n\u001b[0;32m--> 163\u001b[0;31m         \u001b[0mcenter\u001b[0m \u001b[0;34m=\u001b[0m \u001b[0mchain\u001b[0m\u001b[0;34m[\u001b[0m\u001b[0;36m0\u001b[0m\u001b[0;34m]\u001b[0m\u001b[0;34m.\u001b[0m\u001b[0mcenter\u001b[0m\u001b[0;34m\u001b[0m\u001b[0m\n\u001b[0m\u001b[1;32m    164\u001b[0m         \u001b[0mtarget\u001b[0m \u001b[0;34m=\u001b[0m \u001b[0mchain\u001b[0m\u001b[0;34m[\u001b[0m\u001b[0;34m-\u001b[0m\u001b[0;36m1\u001b[0m\u001b[0;34m]\u001b[0m\u001b[0;34m.\u001b[0m\u001b[0mtarget\u001b[0m\u001b[0;34m\u001b[0m\u001b[0m\n\u001b[1;32m    165\u001b[0m         \u001b[0mcenter_name\u001b[0m \u001b[0;34m=\u001b[0m \u001b[0m_format_code_and_name\u001b[0m\u001b[0;34m(\u001b[0m\u001b[0mcenter\u001b[0m\u001b[0;34m)\u001b[0m\u001b[0;34m\u001b[0m\u001b[0m\n",
      "\u001b[0;31mIndexError\u001b[0m: tuple index out of range"
     ]
    }
   ],
   "source": [
    "import matplotlib.pyplot as plt\n",
    "from skyfield.api import load, JulianDate\n",
    "\n",
    "data = load('de421.bsp')\n",
    "sun  = data['sun']\n",
    "bary = data['solar system barycenter']\n",
    "\n",
    "years = [1975+i for i in range(51)]\n",
    "sunpos, barypos = [], []\n",
    "\n",
    "for year in years:\n",
    "    jd = JulianDate(utc=(year, 1, 1))\n",
    "    sunpos.append(sun.at(jd).position.km)\n",
    "    barypos.append(bary.at(jd).position.km)\n",
    "\n",
    "plt.figure()\n",
    "x, y, z = zip(*sunpos)\n",
    "plt.plot(years, x)\n",
    "plt.plot(years, y)\n",
    "plt.plot(years, z)\n",
    "# x, y, z = zip(*barypos)\n",
    "# plt.plot(years, x, '-k')\n",
    "# plt.plot(years, y, '-k')\n",
    "# plt.plot(years, z, '-k')\n",
    "\n",
    "plt.title('suns motion in barycentric frame')\n",
    "plt.savefig('bary one')\n",
    "plt.show()"
   ]
  },
  {
   "cell_type": "code",
   "execution_count": 16,
   "metadata": {
    "collapsed": false
   },
   "outputs": [
    {
     "data": {
      "text/plain": [
       "<Segment 'de421.bsp' 0 SOLAR SYSTEM BARYCENTER -> 5 JUPITER BARYCENTER>"
      ]
     },
     "execution_count": 16,
     "metadata": {},
     "output_type": "execute_result"
    }
   ],
   "source": [
    "data['jupiter barycenter']\n"
   ]
  },
  {
   "cell_type": "code",
   "execution_count": 22,
   "metadata": {
    "collapsed": false
   },
   "outputs": [
    {
     "name": "stdout",
     "output_type": "stream",
     "text": [
      "SPICE kernel file 'de421.bsp' has 15 segments\n",
      "  JD 2414864.50 - JD 2471184.50  (1899-07-28 through 2053-10-08)\n",
      "      0 -> 1    SOLAR SYSTEM BARYCENTER -> MERCURY BARYCENTER\n",
      "      0 -> 2    SOLAR SYSTEM BARYCENTER -> VENUS BARYCENTER\n",
      "      0 -> 3    SOLAR SYSTEM BARYCENTER -> EARTH BARYCENTER\n",
      "      0 -> 4    SOLAR SYSTEM BARYCENTER -> MARS BARYCENTER\n",
      "      0 -> 5    SOLAR SYSTEM BARYCENTER -> JUPITER BARYCENTER\n",
      "      0 -> 6    SOLAR SYSTEM BARYCENTER -> SATURN BARYCENTER\n",
      "      0 -> 7    SOLAR SYSTEM BARYCENTER -> URANUS BARYCENTER\n",
      "      0 -> 8    SOLAR SYSTEM BARYCENTER -> NEPTUNE BARYCENTER\n",
      "      0 -> 9    SOLAR SYSTEM BARYCENTER -> PLUTO BARYCENTER\n",
      "      0 -> 10   SOLAR SYSTEM BARYCENTER -> SUN\n",
      "      3 -> 301  EARTH BARYCENTER -> MOON\n",
      "      3 -> 399  EARTH BARYCENTER -> EARTH\n",
      "      1 -> 199  MERCURY BARYCENTER -> MERCURY\n",
      "      2 -> 299  VENUS BARYCENTER -> VENUS\n",
      "      4 -> 499  MARS BARYCENTER -> MARS\n"
     ]
    }
   ],
   "source": [
    "planets = data\n",
    "print planets"
   ]
  }
 ],
 "metadata": {
  "kernelspec": {
   "display_name": "Python 2",
   "language": "python",
   "name": "python2"
  },
  "language_info": {
   "codemirror_mode": {
    "name": "ipython",
    "version": 2
   },
   "file_extension": ".py",
   "mimetype": "text/x-python",
   "name": "python",
   "nbconvert_exporter": "python",
   "pygments_lexer": "ipython2",
   "version": "2.7.6"
  }
 },
 "nbformat": 4,
 "nbformat_minor": 2
}
