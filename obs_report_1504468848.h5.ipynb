{
 "cells": [
  {
   "cell_type": "code",
   "execution_count": null,
   "metadata": {
    "collapsed": false
   },
   "outputs": [],
   "source": [
    "print 'Report Started:'\n",
    "!date"
   ]
  },
  {
   "cell_type": "markdown",
   "metadata": {},
   "source": [
    "# AR1 Observation report"
   ]
  },
  {
   "cell_type": "markdown",
   "metadata": {},
   "source": [
    "## File to be processed"
   ]
  },
  {
   "cell_type": "code",
   "execution_count": null,
   "metadata": {
    "collapsed": false
   },
   "outputs": [],
   "source": [
    "filename = '/var/kat/archive2/data/MeerKATAR1/telescope_products/2017/09/03/1504468848.h5'"
   ]
  },
  {
   "cell_type": "markdown",
   "metadata": {},
   "source": [
    "## Set up environment"
   ]
  },
  {
   "cell_type": "code",
   "execution_count": null,
   "metadata": {
    "collapsed": false
   },
   "outputs": [],
   "source": [
    "%pylab inline"
   ]
  },
  {
   "cell_type": "code",
   "execution_count": null,
   "metadata": {
    "collapsed": false
   },
   "outputs": [],
   "source": [
    "import katdal\n",
    "import scape\n",
    "import pickle\n",
    "import katpoint\n",
    "import pysolr\n",
    "import h5py"
   ]
  },
  {
   "cell_type": "code",
   "execution_count": null,
   "metadata": {
    "collapsed": true
   },
   "outputs": [],
   "source": [
    "import warnings\n",
    "warnings.simplefilter('ignore')\n",
    "scape._logger.setLevel('ERROR')"
   ]
  },
  {
   "cell_type": "code",
   "execution_count": null,
   "metadata": {
    "collapsed": true
   },
   "outputs": [],
   "source": [
    "def get_reduction_metadata(filename, reduction_name=None):\n",
    "    #Get all reduction products from filename  with given reduction_name \n",
    "    #(or all reduction products if reduction_name is None)\n",
    "    mysolr = pysolr.Solr('http://kat-archive.kat.ac.za:8983/solr/kat_core')\n",
    "    fn_search_result = mysolr.search('Filename:'+filename)\n",
    "    if fn_search_result.hits < 1:\n",
    "        return []\n",
    "    CASProductId = fn_search_result.docs[0]['CAS.ProductId']\n",
    "    reduction_products = mysolr.search('InputDataProductId:'+CASProductId)\n",
    "    if reduction_name==None:\n",
    "        return reduction_products.docs\n",
    "    else:\n",
    "        return [product for product in reduction_products.docs if product.get('ReductionName')==reduction_name]"
   ]
  },
  {
   "cell_type": "code",
   "execution_count": null,
   "metadata": {
    "collapsed": false
   },
   "outputs": [],
   "source": [
    "try:\n",
    "    res = get_reduction_metadata(filename.split('/')[-1],reduction_name = 'AR1 Generate RFI Flags');\n",
    "    flag_results = res[0]['CAS.ReferenceDatastore']\n",
    "    for fl in flag_results:\n",
    "        if fl.endswith('flags.h5'):\n",
    "            flag_filename = fl.split(':')[-1]\n",
    "    print flag_filename\n",
    "    h5_flags = h5py.File(flag_filename,'r')\n",
    "    h5_flags['flags'].shape\n",
    "    cal_flags = True\n",
    "except:\n",
    "    print \"no calibration pipeline flags found\"\n",
    "    cal_flags=False\n"
   ]
  },
  {
   "cell_type": "markdown",
   "metadata": {},
   "source": [
    "## Load data"
   ]
  },
  {
   "cell_type": "code",
   "execution_count": null,
   "metadata": {
    "collapsed": false
   },
   "outputs": [],
   "source": [
    "data = katdal.open(filename)\n",
    "if cal_flags:\n",
    "    data._flags = h5_flags['flags']\n"
   ]
  },
  {
   "cell_type": "code",
   "execution_count": null,
   "metadata": {
    "collapsed": false
   },
   "outputs": [],
   "source": [
    "N = data.shape[0]\n",
    "ext = 930\n",
    "step = max(int(floor(N/ext)),1)\n",
    "print step"
   ]
  },
  {
   "cell_type": "code",
   "execution_count": null,
   "metadata": {
    "collapsed": false,
    "scrolled": true
   },
   "outputs": [],
   "source": [
    "print data"
   ]
  },
  {
   "cell_type": "code",
   "execution_count": null,
   "metadata": {
    "collapsed": false
   },
   "outputs": [],
   "source": [
    "data.obs_params"
   ]
  },
  {
   "cell_type": "markdown",
   "metadata": {},
   "source": [
    "## Load flags"
   ]
  },
  {
   "cell_type": "code",
   "execution_count": null,
   "metadata": {
    "collapsed": false
   },
   "outputs": [],
   "source": [
    "\n",
    "data.select()\n",
    "M = 4 * data.shape[1] / 4096\n",
    "\n",
    "start_chan = 2200*M//4\n",
    "end_chan = 2800*M//4\n",
    "if data.receivers[data.receivers.keys()[0]][0] == 'u' : \n",
    "    start_chan = 0#2200*M//4\n",
    "    end_chan = data.shape[1]#2800*M//4    \n",
    "data.select(channels=slice(start_chan,end_chan))"
   ]
  },
  {
   "cell_type": "code",
   "execution_count": null,
   "metadata": {
    "collapsed": false
   },
   "outputs": [],
   "source": [
    "flags = data.flags[:]\n",
    "\n",
    "figure(figsize=(10,5))\n",
    "pcolormesh(data.timestamps-data.timestamps[0],data.channel_freqs/1e6,sum(flags,axis=2).T)\n",
    "title('Flags in \"quiet\" part of the band')\n",
    "xlabel('Time (s), since %s' % (katpoint.Timestamp(data.start_time).local(),))\n",
    "ylabel('Frequency/[MHz]')\n",
    "xlim(0,data.timestamps[-1]-data.timestamps[0])\n",
    "ylim(data.channel_freqs[0]/1e6,data.channel_freqs[-1]/1e6)"
   ]
  },
  {
   "cell_type": "code",
   "execution_count": null,
   "metadata": {
    "collapsed": true
   },
   "outputs": [],
   "source": [
    "dat = data.file['Data/flags'][:,slice(start_chan,end_chan),:].flatten()\n",
    "labels =  list(data.file['/Data/flags_description'][:,0])\n",
    "plt.xticks(range(len(labels)), labels, rotation='vertical')\n",
    "plt.ylabel('Percentage Flagged')\n",
    "plt.title('Flag Types (%i samples)'%(dat.shape[0]))\n",
    "plt.plot(np.unpackbits(dat[:,np.newaxis],axis=1).sum(axis=0)/np.float(dat.shape[0])*100, '*')\n",
    "plt.grid()"
   ]
  },
  {
   "cell_type": "markdown",
   "metadata": {},
   "source": [
    "## Plot timeseries, spectrograph and spectrum for each antenna"
   ]
  },
  {
   "cell_type": "code",
   "execution_count": null,
   "metadata": {
    "collapsed": false
   },
   "outputs": [],
   "source": [
    "activity = []\n",
    "for ant in data.ants:\n",
    "    activity.append(data.sensor['Antennas/%s/activity'%ant.name])\n",
    "scan_types = set(hstack(activity))\n",
    "\n",
    "activity_count = zeros([len(scan_types),len(data.ants)])\n",
    "for s,st in enumerate(scan_types):\n",
    "    for i in range(len(data.ants)):\n",
    "        activity_count[s,i] = sum(vstack(activity)[i,:]==st)\n",
    "\n",
    "figure(figsize=(12,2))\n",
    "for s,st in enumerate(scan_types):\n",
    "    plot(np.arange(len(data.ants)),activity_count[s,:],\"o\",label=st)\n",
    "plt.xticks(np.arange(len(data.ants)), [ant.name for ant in data.ants])\n",
    "legend(loc=5)\n",
    "grid()\n",
    "xlim(-1,len(data.ants)+2)\n",
    "title('Number of dumps in each scan state')"
   ]
  },
  {
   "cell_type": "code",
   "execution_count": null,
   "metadata": {
    "collapsed": false,
    "scrolled": false
   },
   "outputs": [],
   "source": [
    "mpl.rc(\"savefig\", dpi=300)\n",
    "for p,active_pol in enumerate(['H','V']):\n",
    "    data.select()\n",
    "    data.select(pol=active_pol,scans=['scan','track'],dumps=slice(0,-1,step),channels=slice(0,-1,M))\n",
    "    num_ants = len(data.ants)\n",
    "    baseline_names = [('%s - %s' % (inpA[:-1], inpB[:-1])) for inpA, inpB in data.corr_products[num_ants:]]\n",
    "    \n",
    "    \n",
    "    num_bls = data.shape[2] - num_ants\n",
    "    \n",
    "    scan_targets, scan_az, scan_el, scan_timestamps, scan_vis = [], [], [], [], []\n",
    "    for scan_ind, state, target in data.scans():\n",
    "        num_ts = data.shape[0]\n",
    "        ts = data.timestamps\n",
    "        vis = data.vis[:]\n",
    "        flags = data.flags[:]\n",
    "        #vis[:,:,:num_ants][flags[:,:,:num_ants]] = np.nan\n",
    "        vis[flags] = np.nan\n",
    "        scan_vis.append(vis)\n",
    "        scan_az.append(median(data.az,axis=0))\n",
    "        scan_el.append(median(data.el,axis=0))\n",
    "        scan_timestamps.append(ts - data.start_time.secs)\n",
    "    num_chans, sample_period = len(data.channel_freqs), data.dump_period\n",
    "    scan_freqinds = [np.arange(num_bls * num_chans)] * len(scan_timestamps)\n",
    "    scan_phase = [np.angle(vis[:,:,num_ants:]).T.reshape(-1, vis.shape[0]) for vis in scan_vis]\n",
    "    scan_autos = [np.abs(vis[:,:,:num_ants]) for vis in scan_vis]\n",
    "    x1,x2 = scan_timestamps[0][0],scan_timestamps[-1][-1]\n",
    "    y1,y2 = scan_freqinds[0][0]-0.5,scan_freqinds[0][-1]+0.5\n",
    "    f1,f2 = data.channel_freqs[0]/1e6, data.channel_freqs[-1]/1e6\n",
    "    for i in range(num_ants):\n",
    "        ant_name = data.corr_products[i][0]\n",
    "        amp = vstack([scan[:,:,i] for scan in scan_autos])\n",
    "        az = hstack([a[i] for a in scan_az])\n",
    "        el = hstack([e[i] for e in scan_el])\n",
    "        fig, [[ax1, ax2], [ax3, ax4]] = subplots(2, 2, figsize=(12, 8))\n",
    "        fig.suptitle('Ant: %s'%(ant_name), fontsize=16)\n",
    "        fig.subplots_adjust(top=0.95)\n",
    "\n",
    "        ax1.errorbar(hstack(scan_timestamps),nanmean(amp,axis=1),nanstd(amp,axis=1),color='grey')\n",
    "        ax1.fill_between(hstack(scan_timestamps), np.nanmin(amp,axis=1), np.nanmax(amp,axis=1),color='lightgrey')\n",
    "        ax1.plot(hstack(scan_timestamps),np.nanmean(amp,axis=1),color='b')\n",
    "        ax1.set_title('Time series')\n",
    "        ax1.set_xlabel('Time (s), since %s' % (katpoint.Timestamp(data.start_time).local(),))\n",
    "        ax1.set_ylabel('Correlator counts')\n",
    "        ax1.set_ylim(0,4000)\n",
    "        ax1.set_xlim(x1,x2)\n",
    "        for t in scan_timestamps:\n",
    "            ax1.axvline(t[0],linestyle='dotted',color='mistyrose',linewidth=1)\n",
    "        \n",
    "        ma_amp = ma.masked_where(np.isnan(amp.T),amp.T)\n",
    "        ax2.pcolormesh(hstack(scan_timestamps),data.channel_freqs/1e6,10*log10(ma_amp))\n",
    "        ax2.set_title('Spectrogram')\n",
    "        ax2.set_xlabel('Time (s), since %s' % (katpoint.Timestamp(data.start_time).local(),))\n",
    "        ax2.set_xlim(x1,x2)\n",
    "        ax2.set_ylabel('Frequency/[MHz]')\n",
    "        ax2.set_ylim(f1,f2)\n",
    "        \n",
    "        ax3.errorbar(data.channel_freqs/1e6,nanmean(amp,axis=0),nanstd(amp,axis=0),color='grey')\n",
    "        ax3.fill_between(data.channel_freqs/1e6, np.nanmin(amp,axis=0), np.nanmax(amp,axis=0),color='lightgrey')\n",
    "        ax3.plot(data.channel_freqs/1e6,nanmean(amp,axis=0),color='b')\n",
    "        ax3.set_title('Spectrum')\n",
    "        ax3.set_xlabel('Frequency/[MHz]')\n",
    "        ax3.set_xlim(f1,f2)\n",
    "        ax3.set_ylabel('Correlator counts')\n",
    "        ax3.set_ylim(0,4000)\n",
    "        \n",
    "        ax4.plot(az,el,\"*\")\n",
    "        ax4.set_title('Pointing')\n",
    "        ax4.set_xlabel('Azimuth/[Degrees]')\n",
    "        ax4.set_ylabel('Elevation/[Degrees]')\n",
    "        \n",
    "    #An 'inch' per baseline\n",
    "    if num_bls > 0 :\n",
    "        figure(0,figsize=(12,num_bls),tight_layout=True)\n",
    "    else :\n",
    "        figure(0,figsize=(12,1),tight_layout=True)\n",
    "    #Put plots side-by-side if there are <10 scans.     \n",
    "    if len(scan_vis)<10:\n",
    "        subplot (1,2,p+1)\n",
    "    else:\n",
    "        subplot(2,1,p+1)\n",
    "    #segms, labels, lines = scape.plots_basic.plot_segments(scan_timestamps, scan_freqinds, scan_phase, labels=scan_targets,add_breaks=False)\n",
    "    #imshow(hstack(scan_phase),aspect='auto',origin='lower',extent=[x1,x2,y1,y2],interpolation='none')\n",
    "    sp=hstack(scan_phase)\n",
    "    imshow(sp[~np.all(np.isnan(sp),axis=1)],aspect='auto',origin='lower',extent=[x1,x2,y1,y2],interpolation='nearest')\n",
    "    plt.xlabel('Time (s), since %s' % (katpoint.Timestamp(data.start_time).local(),))\n",
    "    if p == 1 and len(scan_vis) < 10:\n",
    "        plt.yticks(np.arange(num_chans // 2, num_bls * num_chans, num_chans), repeat('',num_bls))\n",
    "    else:\n",
    "        plt.yticks(np.arange(num_chans // 2, num_bls * num_chans, num_chans), baseline_names)\n",
    "    for yval in range(0, num_bls * num_chans, num_chans):\n",
    "        plt.axhline(yval, color='k', lw=2)\n",
    "    plt.title('Raw visibility phase per baseline, Pol %s'%active_pol)"
   ]
  },
  {
   "cell_type": "code",
   "execution_count": null,
   "metadata": {
    "collapsed": false
   },
   "outputs": [],
   "source": [
    "data.timestamps[1] - data.timestamps[0]"
   ]
  },
  {
   "cell_type": "code",
   "execution_count": null,
   "metadata": {
    "collapsed": false
   },
   "outputs": [],
   "source": [
    "for ant in data.ants:\n",
    "    print ant.description"
   ]
  },
  {
   "cell_type": "code",
   "execution_count": null,
   "metadata": {
    "collapsed": false
   },
   "outputs": [],
   "source": [
    "print \"Scape version: %s\"%scape.__version__\n",
    "print \"katdal version: %s\"%katdal.__version__\n",
    "print \"katpoint version: %s\"%katpoint.__version__"
   ]
  },
  {
   "cell_type": "code",
   "execution_count": null,
   "metadata": {
    "collapsed": false
   },
   "outputs": [],
   "source": [
    "print 'Report Ended:'\n",
    "!date"
   ]
  }
 ],
 "metadata": {
  "kernelspec": {
   "display_name": "Python 2",
   "language": "python",
   "name": "python2"
  },
  "language_info": {
   "codemirror_mode": {
    "name": "ipython",
    "version": 2
   },
   "file_extension": ".py",
   "mimetype": "text/x-python",
   "name": "python",
   "nbconvert_exporter": "python",
   "pygments_lexer": "ipython2",
   "version": "2.7.6"
  }
 },
 "nbformat": 4,
 "nbformat_minor": 0
}
