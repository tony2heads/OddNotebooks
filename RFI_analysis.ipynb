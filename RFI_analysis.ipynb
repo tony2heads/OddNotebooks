{
 "cells": [
  {
   "cell_type": "code",
   "execution_count": 71,
   "metadata": {
    "collapsed": false
   },
   "outputs": [
    {
     "name": "stdout",
     "output_type": "stream",
     "text": [
      "Populating the interactive namespace from numpy and matplotlib\n"
     ]
    }
   ],
   "source": [
    "%pylab inline \n",
    "\n",
    "import scape\n",
    "import katpoint\n",
    "import time\n",
    "import os\n",
    "import katdal\n",
    "\n",
    "import matplotlib.pyplot as plt\n",
    "import numpy as np\n",
    "import h5py \n",
    "import optparse\n",
    "import string\n",
    "import sys\n",
    "import logging\n",
    "\n",
    "from katsdpscripts.RTS import rfilib\n",
    "from matplotlib.backends.backend_pdf import PdfPages"
   ]
  },
  {
   "cell_type": "code",
   "execution_count": 72,
   "metadata": {
    "collapsed": false
   },
   "outputs": [
    {
     "name": "stderr",
     "output_type": "stream",
     "text": [
      "WARNING:katdal.dataset:Extending flux density model frequency range of 'Tau A' from 1400-10000 MHz to 855-10000 MHz\n"
     ]
    },
    {
     "name": "stdout",
     "output_type": "stream",
     "text": [
      "Opening 1432642618.h5 using katfile, this might take a while\n",
      "RTS: Drift scan Tau A\n"
     ]
    }
   ],
   "source": [
    "filename = '1432642618.h5'\n",
    "print \"Opening %s using katfile, this might take a while\" % (filename,)\n",
    "h5 = katdal.open(filename)\n",
    "h5_n = katdal.open('1433768565.h5')\n",
    "\n",
    "print h5.description"
   ]
  },
  {
   "cell_type": "code",
   "execution_count": 73,
   "metadata": {
    "collapsed": false
   },
   "outputs": [],
   "source": [
    "h5.select()\n",
    "h5.select(ants='m063',pol='HH')\n",
    "h5_n.select()\n",
    "h5_n.select(ants='m063',pol='HH')"
   ]
  },
  {
   "cell_type": "code",
   "execution_count": 74,
   "metadata": {
    "collapsed": false
   },
   "outputs": [],
   "source": [
    "flags = h5.flags()[:]\n",
    "flags_n = h5_n.flags()[:]"
   ]
  },
  {
   "cell_type": "code",
   "execution_count": 75,
   "metadata": {
    "collapsed": false
   },
   "outputs": [],
   "source": [
    "#getting vis for future\n",
    "#data0_vis = np.mean(np.mean(np.abs(h5.vis[:]),2),0)\n",
    "#Get vis here\n",
    "#data_vis_new = np.mean(np.mean(np.abs(h5_n.vis[:]),2),0)"
   ]
  },
  {
   "cell_type": "code",
   "execution_count": 76,
   "metadata": {
    "collapsed": false
   },
   "outputs": [],
   "source": [
    "Day0 = np.mean(np.mean(flags,2,dtype=np.bool),0,dtype=np.bool) # average in time \n",
    "Day1 = np.mean(np.mean(flags_n,2,dtype=np.bool),0,dtype=np.bool)"
   ]
  },
  {
   "cell_type": "code",
   "execution_count": 77,
   "metadata": {
    "collapsed": false
   },
   "outputs": [],
   "source": [
    "def get_new_rfi_flag(data0,data_new):\n",
    "    dummy = np.zeros(data0.shape,dtype=np.bool)\n",
    "    for i,data in enumerate(zip(data0,data_new)):\n",
    "        if data[0]==False and data[1]==True:\n",
    "            dummy[i]=True\n",
    "    return dummy"
   ]
  },
  {
   "cell_type": "code",
   "execution_count": 78,
   "metadata": {
    "collapsed": false
   },
   "outputs": [],
   "source": [
    "Dummy = get_new_rfi_flag(Day0,Day1)"
   ]
  },
  {
   "cell_type": "code",
   "execution_count": 79,
   "metadata": {
    "collapsed": false
   },
   "outputs": [],
   "source": [
    "with PdfPages(filename[:-3]+'new_rfi.pdf') as pdf:\n",
    "    ax1 = plt.subplot(311)\n",
    "    plt.step(h5.channel_freqs[:],Day0)\n",
    "    plt.title('RFI detection from flags')\n",
    "    plt.ylabel('Template')\n",
    "\n",
    "    ax2 = plt.subplot(312,sharex=ax1)\n",
    "    plt.step(h5.channel_freqs[:],Day1,'r')\n",
    "    plt.ylabel('New Day')\n",
    "\n",
    "    ax3 = plt.subplot(313,sharex=ax2)\n",
    "    plt.step(h5.channel_freqs[:],Dummy,'g')\n",
    "    plt.xlabel('Frequency [Hz]')\n",
    "    plt.ylabel('New Flags')\n",
    "    pdf.savefig()  # saves the current figure into a pdf page\n",
    "    plt.close()\n"
   ]
  },
  {
   "cell_type": "code",
   "execution_count": 80,
   "metadata": {
    "collapsed": false
   },
   "outputs": [],
   "source": [
    "new_freq = h5.channel_freqs[np.where(Dummy==1)]"
   ]
  },
  {
   "cell_type": "code",
   "execution_count": 81,
   "metadata": {
    "collapsed": false
   },
   "outputs": [],
   "source": [
    "# Updating template here\n",
    "new_template = np.zeros(Day0.shape,dtype=np.bool)\n",
    "new_template = Day0+Day1"
   ]
  },
  {
   "cell_type": "code",
   "execution_count": 82,
   "metadata": {
    "collapsed": false
   },
   "outputs": [
    {
     "name": "stderr",
     "output_type": "stream",
     "text": [
      "WARNING:katdal.dataset:Extending flux density model frequency range of 'Tau A' from 1400-10000 MHz to 855-10000 MHz\n"
     ]
    }
   ],
   "source": [
    "newfile = '1433767483.h5' # put new filename here\n",
    "h5_n1 = katdal.open(newfile)"
   ]
  },
  {
   "cell_type": "code",
   "execution_count": 83,
   "metadata": {
    "collapsed": false
   },
   "outputs": [],
   "source": [
    "h5_n.select()\n",
    "h5_n.select(ants='m063',pol='HH')\n",
    "flags_n = h5_n.flags()[:]\n",
    "\n",
    "Day1 = np.mean(np.mean(flags_n,2,dtype=np.bool),0,dtype=np.bool)"
   ]
  },
  {
   "cell_type": "code",
   "execution_count": 84,
   "metadata": {
    "collapsed": false
   },
   "outputs": [],
   "source": [
    "Dummy = get_new_rfi_flag(new_template,Day1)"
   ]
  },
  {
   "cell_type": "code",
   "execution_count": 85,
   "metadata": {
    "collapsed": false
   },
   "outputs": [],
   "source": [
    "with PdfPages(newfile[:-3]+'new_rfi.pdf') as pdf:\n",
    "    ax1 = plt.subplot(311)\n",
    "    plt.step(h5.channel_freqs[:],new_template)\n",
    "    plt.title('RFI detection from flags')\n",
    "    plt.ylabel('Template')\n",
    "\n",
    "    ax2 = plt.subplot(312,sharex=ax1)\n",
    "    plt.step(h5.channel_freqs[:],Day1,'r')\n",
    "    plt.ylabel('New Day')\n",
    "\n",
    "    ax3 = plt.subplot(313,sharex=ax2)\n",
    "    plt.step(h5.channel_freqs[:],Dummy,'g')\n",
    "    plt.xlabel('Frequency [Hz]')\n",
    "    plt.ylabel('New Flags')\n",
    "    pdf.savefig()  # saves the current figure into a pdf page\n",
    "    plt.close()\n"
   ]
  },
  {
   "cell_type": "code",
   "execution_count": 86,
   "metadata": {
    "collapsed": false
   },
   "outputs": [],
   "source": [
    "new_template = new_template+Day1"
   ]
  },
  {
   "cell_type": "code",
   "execution_count": 86,
   "metadata": {
    "collapsed": false
   },
   "outputs": [],
   "source": []
  },
  {
   "cell_type": "code",
   "execution_count": 86,
   "metadata": {
    "collapsed": false
   },
   "outputs": [],
   "source": []
  },
  {
   "cell_type": "code",
   "execution_count": 86,
   "metadata": {
    "collapsed": false
   },
   "outputs": [],
   "source": []
  }
 ],
 "metadata": {
  "kernelspec": {
   "display_name": "Python 2",
   "language": "python",
   "name": "python2"
  },
  "language_info": {
   "codemirror_mode": {
    "name": "ipython",
    "version": 2
   },
   "file_extension": ".py",
   "mimetype": "text/x-python",
   "name": "python",
   "nbconvert_exporter": "python",
   "pygments_lexer": "ipython2",
   "version": "2.7.3"
  }
 },
 "nbformat": 4,
 "nbformat_minor": 0
}
