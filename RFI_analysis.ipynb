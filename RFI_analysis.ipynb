{
 "metadata": {
  "name": "RFI_analysis"
 },
 "nbformat": 3,
 "nbformat_minor": 0,
 "worksheets": [
  {
   "cells": [
    {
     "cell_type": "code",
     "collapsed": false,
     "input": "%pylab inline \n\nimport scape\nimport katpoint\nimport time\nimport os\nimport katdal\n\nimport matplotlib.pyplot as plt\nimport numpy as np\nimport h5py \nimport optparse\nimport string\nimport sys\nimport logging\n\nfrom katsdpscripts.RTS import rfilib\nfrom matplotlib.backends.backend_pdf import PdfPages",
     "language": "python",
     "metadata": {},
     "outputs": [
      {
       "output_type": "stream",
       "stream": "stdout",
       "text": "Populating the interactive namespace from numpy and matplotlib\n"
      }
     ],
     "prompt_number": 71
    },
    {
     "cell_type": "code",
     "collapsed": false,
     "input": "filename = '1432642618.h5'\nprint \"Opening %s using katfile, this might take a while\" % (filename,)\nh5 = katdal.open(filename)\nh5_n = katdal.open('1433768565.h5')\n\nprint h5.description",
     "language": "python",
     "metadata": {},
     "outputs": [
      {
       "output_type": "stream",
       "stream": "stderr",
       "text": "WARNING:katdal.dataset:Extending flux density model frequency range of 'Tau A' from 1400-10000 MHz to 855-10000 MHz\n"
      },
      {
       "output_type": "stream",
       "stream": "stdout",
       "text": "Opening 1432642618.h5 using katfile, this might take a while\nRTS: Drift scan Tau A\n"
      }
     ],
     "prompt_number": 72
    },
    {
     "cell_type": "code",
     "collapsed": false,
     "input": "h5.select()\nh5.select(ants='m063',pol='HH')\nh5_n.select()\nh5_n.select(ants='m063',pol='HH')",
     "language": "python",
     "metadata": {},
     "outputs": [],
     "prompt_number": 73
    },
    {
     "cell_type": "code",
     "collapsed": false,
     "input": "flags = h5.flags()[:]\nflags_n = h5_n.flags()[:]",
     "language": "python",
     "metadata": {},
     "outputs": [],
     "prompt_number": 74
    },
    {
     "cell_type": "code",
     "collapsed": false,
     "input": "#getting vis for future\n#data0_vis = np.mean(np.mean(np.abs(h5.vis[:]),2),0)\n#Get vis here\n#data_vis_new = np.mean(np.mean(np.abs(h5_n.vis[:]),2),0)",
     "language": "python",
     "metadata": {},
     "outputs": [],
     "prompt_number": 75
    },
    {
     "cell_type": "code",
     "collapsed": false,
     "input": "Day0 = np.mean(np.mean(flags,2,dtype=np.bool),0,dtype=np.bool) # average in time \nDay1 = np.mean(np.mean(flags_n,2,dtype=np.bool),0,dtype=np.bool)",
     "language": "python",
     "metadata": {},
     "outputs": [],
     "prompt_number": 76
    },
    {
     "cell_type": "code",
     "collapsed": false,
     "input": "def get_new_rfi_flag(data0,data_new):\n    dummy = np.zeros(data0.shape,dtype=np.bool)\n    for i,data in enumerate(zip(data0,data_new)):\n        if data[0]==False and data[1]==True:\n            dummy[i]=True\n    return dummy",
     "language": "python",
     "metadata": {},
     "outputs": [],
     "prompt_number": 77
    },
    {
     "cell_type": "code",
     "collapsed": false,
     "input": "Dummy = get_new_rfi_flag(Day0,Day1)",
     "language": "python",
     "metadata": {},
     "outputs": [],
     "prompt_number": 78
    },
    {
     "cell_type": "code",
     "collapsed": false,
     "input": "with PdfPages(filename[:-3]+'new_rfi.pdf') as pdf:\n    ax1 = plt.subplot(311)\n    plt.step(h5.channel_freqs[:],Day0)\n    plt.title('RFI detection from flags')\n    plt.ylabel('Template')\n\n    ax2 = plt.subplot(312,sharex=ax1)\n    plt.step(h5.channel_freqs[:],Day1,'r')\n    plt.ylabel('New Day')\n\n    ax3 = plt.subplot(313,sharex=ax2)\n    plt.step(h5.channel_freqs[:],Dummy,'g')\n    plt.xlabel('Frequency [Hz]')\n    plt.ylabel('New Flags')\n    pdf.savefig()  # saves the current figure into a pdf page\n    plt.close()\n",
     "language": "python",
     "metadata": {},
     "outputs": [],
     "prompt_number": 79
    },
    {
     "cell_type": "code",
     "collapsed": false,
     "input": "new_freq = h5.channel_freqs[np.where(Dummy==1)]",
     "language": "python",
     "metadata": {},
     "outputs": [],
     "prompt_number": 80
    },
    {
     "cell_type": "code",
     "collapsed": false,
     "input": "# Updating template here\nnew_template = np.zeros(Day0.shape,dtype=np.bool)\nnew_template = Day0+Day1",
     "language": "python",
     "metadata": {},
     "outputs": [],
     "prompt_number": 81
    },
    {
     "cell_type": "code",
     "collapsed": false,
     "input": "newfile = '1433767483.h5' # put new filename here\nh5_n1 = katdal.open(newfile)",
     "language": "python",
     "metadata": {},
     "outputs": [
      {
       "output_type": "stream",
       "stream": "stderr",
       "text": "WARNING:katdal.dataset:Extending flux density model frequency range of 'Tau A' from 1400-10000 MHz to 855-10000 MHz\n"
      }
     ],
     "prompt_number": 82
    },
    {
     "cell_type": "code",
     "collapsed": false,
     "input": "h5_n.select()\nh5_n.select(ants='m063',pol='HH')\nflags_n = h5_n.flags()[:]\n\nDay1 = np.mean(np.mean(flags_n,2,dtype=np.bool),0,dtype=np.bool)",
     "language": "python",
     "metadata": {},
     "outputs": [],
     "prompt_number": 83
    },
    {
     "cell_type": "code",
     "collapsed": false,
     "input": "Dummy = get_new_rfi_flag(new_template,Day1)",
     "language": "python",
     "metadata": {},
     "outputs": [],
     "prompt_number": 84
    },
    {
     "cell_type": "code",
     "collapsed": false,
     "input": "with PdfPages(newfile[:-3]+'new_rfi.pdf') as pdf:\n    ax1 = plt.subplot(311)\n    plt.step(h5.channel_freqs[:],new_template)\n    plt.title('RFI detection from flags')\n    plt.ylabel('Template')\n\n    ax2 = plt.subplot(312,sharex=ax1)\n    plt.step(h5.channel_freqs[:],Day1,'r')\n    plt.ylabel('New Day')\n\n    ax3 = plt.subplot(313,sharex=ax2)\n    plt.step(h5.channel_freqs[:],Dummy,'g')\n    plt.xlabel('Frequency [Hz]')\n    plt.ylabel('New Flags')\n    pdf.savefig()  # saves the current figure into a pdf page\n    plt.close()\n",
     "language": "python",
     "metadata": {},
     "outputs": [],
     "prompt_number": 85
    },
    {
     "cell_type": "code",
     "collapsed": false,
     "input": "new_template = new_template+Day1",
     "language": "python",
     "metadata": {},
     "outputs": [],
     "prompt_number": 86
    },
    {
     "cell_type": "code",
     "collapsed": false,
     "input": "",
     "language": "python",
     "metadata": {},
     "outputs": [],
     "prompt_number": 86
    },
    {
     "cell_type": "code",
     "collapsed": false,
     "input": "",
     "language": "python",
     "metadata": {},
     "outputs": [],
     "prompt_number": 86
    },
    {
     "cell_type": "code",
     "collapsed": false,
     "input": "",
     "language": "python",
     "metadata": {},
     "outputs": [],
     "prompt_number": 86
    }
   ],
   "metadata": {}
  }
 ]
}