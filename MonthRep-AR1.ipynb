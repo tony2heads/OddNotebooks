{
 "cells": [
  {
   "cell_type": "code",
   "execution_count": 12,
   "metadata": {
    "collapsed": false
   },
   "outputs": [
    {
     "name": "stdout",
     "output_type": "stream",
     "text": [
      "Populating the interactive namespace from numpy and matplotlib\n"
     ]
    },
    {
     "name": "stderr",
     "output_type": "stream",
     "text": [
      "WARNING: pylab import has clobbered these variables: ['norm', 'f']\n",
      "`%matplotlib` prevents importing * from pylab and numpy\n"
     ]
    }
   ],
   "source": [
    "%pylab inline\n",
    "\n",
    "import katarchive\n",
    "import datetime\n",
    "import katpoint\n",
    "import calendar\n",
    "\n",
    "import logging\n",
    "\n",
    "# needed to supress search outputs\n",
    "from contextlib import contextmanager\n",
    "import sys, os\n",
    "\n",
    "katarchive.product_filter.only_ar1()\n",
    " \n",
    "@contextmanager\n",
    "def suppress_stdout():\n",
    "    with open(os.devnull, \"w\") as devnull:\n",
    "        old_stdout = sys.stdout\n",
    "        sys.stdout = devnull\n",
    "        try:  \n",
    "            yield\n",
    "        finally:\n",
    "            sys.stdout = old_stdout"
   ]
  },
  {
   "cell_type": "code",
   "execution_count": 13,
   "metadata": {
    "collapsed": true
   },
   "outputs": [],
   "source": [
    "year=\"2016\"\n",
    "month=\"10\""
   ]
  },
  {
   "cell_type": "code",
   "execution_count": 14,
   "metadata": {
    "collapsed": true
   },
   "outputs": [],
   "source": [
    "def findh5(det):   # uses detail list to get h5 name\n",
    "    pos=det.find(\"staging/\")\n",
    "    if pos >0  :\n",
    "        pr2=det[pos+8:pos+18]\n",
    "        h5name=pr2\n",
    "    return h5name"
   ]
  },
  {
   "cell_type": "code",
   "execution_count": 15,
   "metadata": {
    "collapsed": false
   },
   "outputs": [
    {
     "name": "stdout",
     "output_type": "stream",
     "text": [
      "Searched using: CAS.ProductTypeName:(MeerKATAR1TelescopeProduct) AND CAS.ProductTransferStatus:RECEIVED AND StartTime:[2016-09-30T22:00:00Z TO 2016-10-31T21:59:59Z]\n",
      "Returning 208 results\n"
     ]
    }
   ],
   "source": [
    "f = katarchive.search_archive(startdate='01/10/2016',enddate='31/10/2016')\n",
    "start = datetime.datetime.strptime(f[-1].metadata.StartTime,'%Y-%m-%d %H:%M:%S %Z')\n",
    "end = datetime.datetime.strptime(f[0].metadata.StartTime,'%Y-%m-%d %H:%M:%S %Z')"
   ]
  },
  {
   "cell_type": "code",
   "execution_count": 16,
   "metadata": {
    "collapsed": false
   },
   "outputs": [],
   "source": [
    "f.sort(key=lambda k: k.metadata.StartTime)"
   ]
  },
  {
   "cell_type": "code",
   "execution_count": 17,
   "metadata": {
    "collapsed": false
   },
   "outputs": [
    {
     "name": "stdout",
     "output_type": "stream",
     "text": [
      "2016-10-02 23:21:53 SAST\n",
      "2016-10-25 05:50:17 SAST\n",
      "2016-10-02 23:21:53\n",
      "2016-10-25 05:50:17\n",
      "736239\n",
      "736262\n"
     ]
    }
   ],
   "source": [
    "print f[0].metadata.StartTime\n",
    "print f[-1].metadata.StartTime\n",
    "print datetime.datetime.strptime(f[0].metadata.StartTime,'%Y-%m-%d %H:%M:%S %Z')\n",
    "print datetime.datetime.strptime(f[-1].metadata.StartTime,'%Y-%m-%d %H:%M:%S %Z')\n",
    "print start.toordinal()\n",
    "print end.toordinal()"
   ]
  },
  {
   "cell_type": "code",
   "execution_count": 18,
   "metadata": {
    "collapsed": false
   },
   "outputs": [
    {
     "name": "stdout",
     "output_type": "stream",
     "text": [
      "Percentage system usage: 29.44%\n"
     ]
    }
   ],
   "source": [
    "program_id = []\n",
    "duration = []\n",
    "antennas = []\n",
    "for fi in f:\n",
    "    # now try extract the project-id from the instruction-set string\n",
    "    script = fi.metadata.InstructionSet.encode('ascii','ignore') \n",
    "    spl = script.split()\n",
    "    for i,s in enumerate(spl):\n",
    "        if '--project-id' in s or '--proposal-id' in s:\n",
    "            if '=' in s: #some people use --project-id=yyyymmddNN-01 and some --project-id yyyymmddNN-01\n",
    "                if s[-1] == '=':\n",
    "                    p = spl[i+1]\n",
    "                    break\n",
    "                p = s.split('=')[-1]\n",
    "                break\n",
    "            else:\n",
    "                if spl[i+1][0] == '=' and len(spl[i+1]) > 1:\n",
    "                    p = spl[i+1][1:]\n",
    "                    break\n",
    "                elif spl[i+1][0] == '=' and len(spl[i+1]) == 1:\n",
    "                    p = spl[i+2]\n",
    "                    break\n",
    "                p = spl[i+1]\n",
    "            break\n",
    "        else:\n",
    "            p = 'No-project-id' \n",
    "    program_id.append(p)\n",
    "    duration.append(fi.metadata.Duration)\n",
    "    antennas.append(len(fi.metadata.Antennas))\n",
    "program_id = array(program_id)\n",
    "duration = array(duration)\n",
    "antennas = array(antennas)\n",
    "p_cent = (sum(duration)/((end.toordinal()-start.toordinal())*24*3600))*100\n",
    "\n",
    "print 'Percentage system usage: %4.2f%%'%p_cent"
   ]
  },
  {
   "cell_type": "code",
   "execution_count": 19,
   "metadata": {
    "collapsed": false
   },
   "outputs": [
    {
     "name": "stdout",
     "output_type": "stream",
     "text": [
      "584934.59\n"
     ]
    }
   ],
   "source": [
    "print sum(duration)"
   ]
  },
  {
   "cell_type": "code",
   "execution_count": 20,
   "metadata": {
    "collapsed": false
   },
   "outputs": [
    {
     "name": "stdout",
     "output_type": "stream",
     "text": [
      "Percentage system usage with 1 antennas: 0.12%\n",
      "Percentage system usage with 2 antennas: 0.22%\n",
      "Percentage system usage with 3 antennas: 0.00%\n",
      "Percentage system usage with 4 antennas: 0.03%\n",
      "Percentage system usage with 5 antennas: 0.16%\n",
      "Percentage system usage with 6 antennas: 0.45%\n",
      "Percentage system usage with 7 antennas: 0.59%\n",
      "Percentage system usage with 8 antennas: 0.27%\n",
      "Percentage system usage with 9 antennas: 11.16%\n",
      "Percentage system usage with 10 antennas: 8.11%\n",
      "Percentage system usage with 11 antennas: 8.16%\n",
      "Percentage system usage with 12 antennas: 0.17%\n",
      "Percentage system usage with 13 antennas: 0.00%\n",
      "Percentage system usage with 14 antennas: 0.00%\n",
      "Percentage system usage with 15 antennas: 0.00%\n"
     ]
    }
   ],
   "source": [
    "for i in range(1,16):\n",
    "    ind = antennas == i\n",
    "    p_cent = (sum(duration[ind])/((end.toordinal()-start.toordinal())*24*3600))*100\n",
    "    print 'Percentage system usage with %i antennas: %4.2f%%'%(i, p_cent)"
   ]
  },
  {
   "cell_type": "code",
   "execution_count": null,
   "metadata": {
    "collapsed": true
   },
   "outputs": [],
   "source": []
  },
  {
   "cell_type": "code",
   "execution_count": 21,
   "metadata": {
    "collapsed": false
   },
   "outputs": [
    {
     "data": {
      "image/png": "[encoded data removed]",
      "text/plain": [
       "<matplotlib.figure.Figure at 0x7f7799992090>"
      ]
     },
     "metadata": {},
     "output_type": "display_data"
    }
   ],
   "source": [
    "month = int(month)\n",
    "#day = int(day)\n",
    "year = int(year)\n",
    "mdays = calendar.monthrange(year,month)[1]\n",
    "\n",
    "if month == 1:\n",
    "    l_year = year - 1\n",
    "    last_m = 12\n",
    "else:\n",
    "    l_year = year\n",
    "    last_m = month - 1\n",
    "\n",
    "last_mdays = calendar.monthrange(l_year,last_m)[1]\n",
    "\n",
    "c = [ 'k','k','k','k','k','k','k','k','k','k','r','b','g','c','m','r','r','r','k','b','g']\n",
    "percent = []\n",
    "days = range(1,mdays + 1)\n",
    "\n",
    "# read the last file in the previous month and see if it ran over to the first day\n",
    "# if it did run over then calculate by how much\n",
    "with suppress_stdout():\n",
    "    f = katarchive.search_archive(startdate=str(last_mdays)+'/'+str(last_m)+'/'+str(l_year),enddate=str(last_mdays)+'/'+str(last_m)+'/'+str(l_year));\n",
    "if len(f)>0:\n",
    "    ts = katpoint.Timestamp(int(f[0].metadata.Filename[:-3])).to_mjd()\n",
    "    du = f[0].metadata.Duration\n",
    "    temp = np.floor(ts) + 1 - 7200.0/86400\n",
    "    start = ((ts + du/86400) - temp) * 86400\n",
    "    l = len(f[0].metadata.Antennas) # how many antennas were used in the observation\n",
    "else:\n",
    "    start = 0\n",
    "    l = 0\n",
    "\n",
    "# cycle through all the days in the month\n",
    "for d in days:\n",
    "    col = [c[l]]\n",
    "    # return the file statistics for the day of interest from the archive\n",
    "    with suppress_stdout():\n",
    "        f = katarchive.search_archive(startdate=str(d)+'/'+str(month)+'/'+str(year),enddate=str(d)+'/'+str(month)+'/'+str(year));\n",
    "    if len(f) == 0: #if there are no files recorded on that day\n",
    "        p=0.0\n",
    "        percent.append(0)\n",
    "        plt.figure(2,figsize=(15,8))\n",
    "        plt.subplot(mdays,1,d)\n",
    "        ax = plt.gca()\n",
    "        ax.set_xticks([])\n",
    "        ax.set_yticks([])\n",
    "        ax.yaxis.set_label_coords(-0.05, 0)\n",
    "        plt.ylabel(str(d)+':   0.0%',rotation='horizontal')\n",
    "        continue\n",
    "    t = start if start > 0 else 0 # the overlap from the previous day\n",
    "    yranges=[(0,start/86400)] # start time and duration in fractions of a day\n",
    "    # process all but the last file ... the archive returns the files in reverse order !\n",
    "    for m in f[1:]:\n",
    "        ts = katpoint.Timestamp(int(m.metadata.Filename[:-3])).to_mjd() + 7200.0/86400\n",
    "        #ts=katpoint.Timestamp(int(findh5(m.metadata.Details))).to_mjd() + 7200.0/86400\n",
    "        du = m.metadata.Duration/86400.\n",
    "        l = len(m.metadata.Antennas)\n",
    "        col.append(c[l])\n",
    "        yranges.append((ts%1,du)) # mod the MJD with 1 to get the fractional part\n",
    "        t = t + du * 86400\n",
    "    # process the last file to see if it runs over into the next day\n",
    "    ts=katpoint.Timestamp(int(findh5(m.metadata.Details))).to_mjd() + 7200.0/86400\n",
    "    du = f[0].metadata.Duration\n",
    "    temp = np.floor(ts) + 1 - 7200.0/86400\n",
    "    start = ((ts + du/86400) - temp) * 86400\n",
    "    p = t + du if start < 0 else t + du - start \n",
    "    s = du if start < 0 else du - start\n",
    "    yranges.append(((ts+7200.0/86400)%1,s/86400.)) # a list of start times and durations in fractions of a day\n",
    "    l = len(f[0].metadata.Antennas)\n",
    "    col.append(c[l])\n",
    "    percent.append(100*p/86400)\n",
    "    # plot the data\n",
    "    plt.figure(2,figsize=(15,8))\n",
    "    plt.subplot(mdays,1,d)\n",
    "    plt.subplots_adjust(wspace=0., hspace=0.)\n",
    "    ax = plt.gca()\n",
    "    ax.broken_barh(yranges,(0,1), facecolors=col) # plot the data as bars \n",
    "    ax.set_xticks([])\n",
    "    ax.set_yticks([])\n",
    "    plt.xlim(0,1)\n",
    "    plt.ylim(0,1)\n",
    "    ax.yaxis.set_label_coords(-0.05, 0)\n",
    "    ystr=(\"%2d:  %04.1f%%\") %(d,100.*p/86400 )\n",
    "    #plt.ylabel(str(d)+': '+str(np.round(100.*p/86400., 1))+'%',rotation='horizontal')\n",
    "    plt.ylabel(ystr,rotation='horizontal')\n",
    "plt.subplot(mdays,1,mdays)\n",
    "plt.xlabel('Time/[SAST]')\n",
    "plt.xticks(np.arange(0,1,0.25),['0','6','12','18','24'])\n",
    "plt.subplot(mdays,1,1)\n",
    "plt.title('System usage for '+calendar.month_name[month]+' in '+str(year)+' ... Average usage: '+str(np.floor(np.sum(percent)/len(percent)))+'%')\n",
    "plt.subplots_adjust(bottom=0.1, right=0.8, top=0.9)\n",
    "cax = plt.axes([0.85, 0.1, 0.05, 0.8])\n",
    "cmap = mpl.colors.ListedColormap(['k', 'r', 'b', 'g', 'c','m'])\n",
    "cmap.set_over('0.25')\n",
    "cmap.set_under('0.75')\n",
    "bounds = [9,10,11,12,13,14]\n",
    "norm = mpl.colors.BoundaryNorm(bounds, cmap.N)\n",
    "cb2 = mpl.colorbar.ColorbarBase(cax, cmap=cmap,\n",
    "                    norm=norm,\n",
    "                    # to use 'extend', you must\n",
    "                    # specify two extra boundaries:http://localhost:8888/notebooks/MonthRep-AR1.ipynb#\n",
    "                    boundaries=bounds,\n",
    "                    #extend='both',\n",
    "                    ticks=bounds, # optional\n",
    "                    spacing='proportional',\n",
    "                    orientation='vertical')\n",
    "cb2.set_label('Number of ants used')\n",
    "plt.suptitle('Day:%',x=0.1,y=0.92)\n",
    "plt.show()"
   ]
  }
 ],
 "metadata": {
  "kernelspec": {
   "display_name": "Python 2",
   "language": "python",
   "name": "python2"
  },
  "language_info": {
   "codemirror_mode": {
    "name": "ipython",
    "version": 2
   },
   "file_extension": ".py",
   "mimetype": "text/x-python",
   "name": "python",
   "nbconvert_exporter": "python",
   "pygments_lexer": "ipython2",
   "version": "2.7.6"
  }
 },
 "nbformat": 4,
 "nbformat_minor": 0
}
