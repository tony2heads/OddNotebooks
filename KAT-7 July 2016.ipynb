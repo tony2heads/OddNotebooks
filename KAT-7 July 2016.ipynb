{
 "cells": [
  {
   "cell_type": "code",
   "execution_count": 1,
   "metadata": {
    "collapsed": false
   },
   "outputs": [],
   "source": [
    "import numpy as np"
   ]
  },
  {
   "cell_type": "code",
   "execution_count": 2,
   "metadata": {
    "collapsed": false
   },
   "outputs": [],
   "source": [
    "import katarchive\n",
    "\n",
    "import datetime\n",
    "\n",
    "import logging\n",
    "logging.root.setLevel(logging.ERROR)\n"
   ]
  },
  {
   "cell_type": "code",
   "execution_count": 3,
   "metadata": {
    "collapsed": false
   },
   "outputs": [],
   "source": [
    "#today=datetime.datetime.today()\n",
    "#ago=datetime.timedelta(-14)   #  days is a fortnight\n",
    "#lastweek=today+ago\n",
    "#print today,lastweek\n",
    "#begin=lastweek.strftime(format=\"%d/%m/%Y\")\n",
    "begin=\"30/06/2016\"\n",
    "#end=today.strftime(format=\"%d/%m/%Y\")\n",
    "end=\"31/07/2016\""
   ]
  },
  {
   "cell_type": "code",
   "execution_count": 4,
   "metadata": {
    "collapsed": true
   },
   "outputs": [],
   "source": [
    "def findh5(det):   # uses detail list to get h5 name\n",
    "    pos=det.find(\"Name:\")\n",
    "    if pos >0  :\n",
    "        pr2=det[pos+37:pos+53].split()\n",
    "        h5name=pr2[0].lstrip(\"/ng\")\n",
    "    return h5name"
   ]
  },
  {
   "cell_type": "code",
   "execution_count": 5,
   "metadata": {
    "collapsed": false
   },
   "outputs": [],
   "source": [
    "def findproj(text):\n",
    "    found='Unknown'        # default\n",
    "    chx=text.find('prop')\n",
    "    if chx >0  :\n",
    "        pr2=text[chx+11:chx+38].split()\n",
    "        code=pr2[0]\n",
    "        found=code.replace(\"=\",\"\")\n",
    "    else:\n",
    "        if text.find('maser') >0:\n",
    "            found=\"Maser monitoring\"\n",
    "            #print text\n",
    "    return found"
   ]
  },
  {
   "cell_type": "code",
   "execution_count": 6,
   "metadata": {
    "collapsed": true
   },
   "outputs": [],
   "source": [
    "def listpr(x):\n",
    "    \"\"\"\n",
    "    takes a list and prints as string\n",
    "    \"\"\"\n",
    "    li=\" \".join(map(str,x))\n",
    "    return li"
   ]
  },
  {
   "cell_type": "code",
   "execution_count": 7,
   "metadata": {
    "collapsed": false
   },
   "outputs": [
    {
     "name": "stdout",
     "output_type": "stream",
     "text": [
      "Searched using: CAS.ProductTypeName:(KatFile) AND CAS.ProductTransferStatus:RECEIVED AND StartTime:[2016-06-29T22:00:00Z TO 2016-07-31T21:59:59Z]\n",
      "Returning 151 results\n"
     ]
    }
   ],
   "source": [
    "f = katarchive.search_archive(startdate=begin,enddate=end)\n",
    "start = datetime.datetime.strptime(f[-1].__str__().split('\\'')[3],'%Y-%m-%d %H:%M:%S %Z')\n",
    "end = datetime.datetime.strptime(f[0].__str__().split('\\'')[3],'%Y-%m-%d %H:%M:%S %Z')"
   ]
  },
  {
   "cell_type": "code",
   "execution_count": 8,
   "metadata": {
    "collapsed": false
   },
   "outputs": [],
   "source": [
    "#print 'First file in run: ' , start.isoformat()\n",
    "#print 'Last file in run: ' , end.isoformat()"
   ]
  },
  {
   "cell_type": "code",
   "execution_count": 9,
   "metadata": {
    "collapsed": false
   },
   "outputs": [
    {
     "name": "stdout",
     "output_type": "stream",
     "text": [
      "2 COMM_Atten 109.01 Auto atten 5\n",
      "2 COMM_Image_NO 43980.61 Imaging Calibration 5\n",
      "2 COMM_Atten 109.01 Auto atten 5\n",
      "2 COMM_Image_NO 18070.25 Imaging Calibration 5\n",
      "2 COMM_Atten 78.01 Auto atten 5\n",
      "2 Unknown 595.05 Beamformer observation 5\n",
      "2 Unknown 567.04 Beamformer observation 5\n",
      "2 COMM_Image_NO 6530.09 Imaging Calibration 5\n",
      "2 COMM_Atten 42.0 Auto atten 5\n",
      "2 COMM_Atten 108.01 Auto atten 5\n",
      "2 COMM_RFI_SP 5976.47 Basic RFI Scan: RFI SCAN 5\n",
      "2 COMM_Atten 108.01 Auto atten 5\n",
      "2 COMM_Atten 139.01 Auto atten 5\n",
      "2 20150619TF-01 18050.25 3C279 5\n",
      "2 COMM_Atten 108.01 Auto atten 5\n",
      "2 COMM_Image_NO 7460.1 Imaging Calibration 5\n",
      "2 COMM_Atten 86.01 Auto atten 5\n",
      "2 20130822NO-01 28960.4 W2332_5056 5\n",
      "2 COMM_Atten 110.01 Auto atten 5\n",
      "2 COMM_Image_NO 24330.34 Imaging Calibration 5\n",
      "2 COMM_Atten 75.01 Auto atten 5\n",
      "2 Unknown 626.05 Beamformer observation 5\n",
      "2 COMM_Image_NO 15070.21 Imaging Calibration 5\n",
      "2 COMM_Atten 93.01 Auto atten 5\n",
      "2 COMM_RFI_SP 5974.47 Basic RFI Scan: RFI SCAN 5\n",
      "2 COMM_Atten 41.0 Auto atten 5\n",
      "2 COMM_Atten 93.01 Auto atten 5\n",
      "2 COMM_RFI_SP 1294.1 Basic RFI Scan: RFI SCAN 1\n",
      "2 COMM_Atten 54.0 Auto atten 1\n",
      "2 Unknown 433.03 Beamformer observation 1\n",
      "2 Unknown 30.0 Beamformer observation 1\n",
      "2 Unknown 31.0 Beamformer observation 1\n",
      "2 Unknown 70.01 Beamformer observation 1\n",
      "2 Unknown 72.01 Beamformer observation 5\n",
      "2 Unknown 35.0 Beamformer observation 5\n",
      "2 Unknown 56.0 Beamformer observation 5\n",
      "2 Unknown 72.01 Beamformer observation 5\n",
      "2 Unknown 94.01 Beamformer observation 5\n",
      "2 Unknown 41.0 Auto atten 5\n",
      "2 COMM_Atten 65.01 Auto atten 5\n",
      "2 COMM_Image_NO 13310.18 Imaging Calibration 5\n",
      "2 COMM_Atten 108.01 Auto atten 5\n",
      "2 20130822NO-01 14780.2 W2332_5056 5\n",
      "2 COMM_Atten 108.01 Auto atten 5\n",
      "2 COMM_Image_NO 14950.21 Imaging Calibration 5\n",
      "2 COMM_Atten 75.01 Auto atten 5\n",
      "2 COMM_Bandpass_TF 42819.4 Interferometric Pointining 5\n",
      "2 COMM_Atten 101.01 Auto atten 5\n",
      "2 COMM_Bandpass_TF 14490.2 Bandpass Calibrators 5\n",
      "2 COMM_Atten 158.01 Auto atten 5\n",
      "2 20141111IM-01 14790.2 LS5039_2 5\n",
      "2 COMM_Point_LM 1997.16 Pointing Observation 5\n",
      "2 COMM_Atten 40.0 Auto atten 5\n",
      "2 COMM_Atten 107.01 Auto atten 5\n",
      "2 COMM_Image_NO 7340.1 Imaging Calibration 5\n",
      "2 COMM_Atten 44.0 Auto atten 5\n",
      "2 COMM_Atten 58.0 Auto atten 5\n",
      "2 COMM_Tipping_NO 3105.25 Tipping Curve 5\n",
      "2 COMM_Atten 108.01 Auto atten 5\n",
      "2 COMM_RFI_SP 5974.47 Basic RFI Scan: RFI SCAN 5\n",
      "2 COMM_Atten 44.0 Auto atten 5\n",
      "2 COMM_Atten 41.0 Auto atten 5\n",
      "2 COMM_Atten 93.01 Auto atten 5\n",
      "2 COMM_RFI_SP 1527.12 Basic RFI Scan: RFI SCAN 5\n",
      "2 COMM_Atten 107.01 Auto atten 5\n",
      "2 COMM_Point_LM 3656.29 Pointing Observation 5\n",
      "2 COMM_Point_LM 3823.3 Pointing Observation 5\n",
      "2 COMM_Atten 40.0 Auto atten 5\n",
      "2 COMM_Atten 108.01 Auto atten 5\n",
      "2 COMM_Image_NO 18670.26 Imaging Calibration 5\n",
      "2 COMM_Image_NO 64840.9 Imaging Calibration 5\n",
      "2 COMM_Atten 40.0 Auto atten 5\n",
      "2 COMM_Atten 69.46 Auto atten 5\n",
      "2 COMM_Image_NO 890.01 Imaging Calibration 5\n",
      "2 COMM_Atten 43.0 Auto atten 5\n",
      "2 COMM_Atten 43.29 Auto atten 5\n",
      "2 COMM_Atten 139.92 Auto atten 5\n",
      "2 COMM_Image_NO 54900.76 Imaging Calibration 5\n",
      "2 COMM_Point_LM 10982.87 Pointing Observation 5\n",
      "2 COMM_Atten 107.01 Auto atten 5\n",
      "2 COMM_Image_NO 64890.9 Imaging Calibration 5\n",
      "2 COMM_Image_NO 64870.9 Imaging Calibration 5\n",
      "2 COMM_Atten 128.01 Auto atten 5\n",
      "2 COMM_RFI_SP 9073.1 RFI Scan in c16n25M4k 4\n",
      "2 COMM_Atten 104.69 Auto atten 4\n",
      "2 COMM_Image_NO 65080.9 Imaging Calibration 5\n",
      "2 COMM_Image_NO 65040.9 Imaging Calibration 5\n",
      "2 COMM_Image_NO 65000.9 Imaging Calibration 5\n",
      "2 COMM_Image_NO 64960.9 Imaging Calibration 5\n",
      "2 COMM_Atten 40.0 Auto atten 5\n",
      "2 COMM_Atten 40.0 Auto atten 5\n",
      "2 COMM_Atten 41.0 Auto atten 5\n",
      "2 COMM_Atten 40.0 Auto atten 5\n",
      "2 COMM_Atten 40.0 Auto atten 5\n",
      "2 COMM_Atten 85.01 Auto atten 5\n",
      "2 COMM_Image_NO 64870.9 Imaging Calibration 5\n",
      "2 COMM_Atten 60.0 Auto atten 5\n",
      "2 Unknown 72.01 Beamformer observation 5\n",
      "2 Unknown 110.0 Target track 5\n",
      "2 COMM_Image_NO 14410.2 Imaging Calibration 5\n",
      "2 COMM_Atten 107.01 Auto atten 5\n",
      "2 COMM_Image_NO 35330.49 Imaging Calibration 5\n",
      "2 COMM_Atten 108.01 Auto atten 5\n",
      "2 COMM_RFI_SP 15031.19 Basic RFI Scan: RFI SCAN 5\n",
      "2 COMM_Atten 126.01 Auto atten 5\n",
      "2 COMM_Image_NO 18770.26 Imaging Calibration 4\n",
      "2 COMM_Atten 103.01 Auto atten 4\n",
      "2 COMM_RFI_SP 7483.59 Basic RFI Scan: RFI SCAN 4\n",
      "2 COMM_Atten 103.01 Auto atten 4\n",
      "2 COMM_RFI_SP 5886.47 Basic RFI Scan: RFI SCAN 5\n",
      "2 COMM_Atten 80.01 Auto atten 5\n",
      "2 Maser monitoring 11435.35 G9.62 0.20 daily monitoring 5\n",
      "2 COMM_Atten 110.73 Auto atten 5\n",
      "2 COMM_Atten 42.28 Auto atten 5\n",
      "2 COMM_Atten 109.72 Auto atten 5\n",
      "2 20130822NO-01 14620.2 W2332_5056 4\n",
      "2 COMM_Atten 82.01 Auto atten 4\n",
      "2 Maser monitoring 35272.51 G9.62 0.20 daily monitoring 4\n",
      "2 COMM_Atten 136.9 Auto atten 4\n",
      "2 20150619TF-01 18080.25 3C279 4\n",
      "2 COMM_Atten 54.0 Auto atten 4\n",
      "2 COMM_RFI_SP 9073.1 RFI Scan in c16n25M4k 4\n",
      "2 COMM_Atten 105.7 Auto atten 4\n",
      "2 20130822NO-01 25600.35 W2332_5056 4\n",
      "2 COMM_Atten 87.01 Auto atten 4\n",
      "2 Maser monitoring 28341.82 G9.62 0.20 daily monitoring 4\n",
      "2 COMM_Atten 147.98 Auto atten 4\n",
      "2 20150619TF-01 18580.26 3C279 4\n",
      "2 COMM_Atten 93.01 Auto atten 4\n",
      "2 COMM_Bandpass_TF 14480.2 Bandpass Calibrators 4\n",
      "2 COMM_Atten 79.01 Auto atten 4\n",
      "2 20141219SS-01 26070.36 W2332 Low 4\n",
      "2 COMM_Atten 89.01 Auto atten 4\n",
      "2 Maser monitoring 29157.2 G9.62 0.20 daily monitoring 4\n",
      "2 COMM_Atten 105.7 Auto atten 4\n",
      "2 COMM_Bandpass_TF 4930.07 Bandpass Calibrators 4\n",
      "2 COMM_Atten 42.0 Auto atten 4\n",
      "2 COMM_Health_LM 431.53 New health 4\n",
      "2 COMM_Bandpass_TF 10780.86 Interferometric Pointining 4\n",
      "2 COMM_Atten 102.01 Auto atten 4\n",
      "2 20141219SS-01 14920.21 W2332 Low 4\n",
      "2 COMM_Atten 101.01 Auto atten 4\n",
      "2 Maser monitoring 10856.54 G9.62 0.20 daily monitoring 4\n",
      "2 COMM_Atten 146.97 Auto atten 4\n",
      "2 20131211NO-01 10930.15 PKS1510-089 4\n",
      "2 COMM_Atten 37.0 Auto atten 4\n",
      "2 COMM_Atten 103.01 Auto atten 4\n",
      "2 COMM_Atten 109.01 Auto atten 5\n",
      "2 COMM_Health_LM 82.01 New health 3\n",
      "2 COMM_Tipping_NO 3834.3 Tipping Curve 3\n",
      "2 COMM_Atten 97.01 Auto atten 3\n"
     ]
    }
   ],
   "source": [
    "for fi in f:\n",
    "    txts=fi.metadata.InstructionSet\n",
    "    p=findproj(txts)\n",
    "    print fi.metadata.ExperimentID, p, fi.metadata.Duration, fi.metadata.Description, len(fi.metadata.Antennas)\n"
   ]
  },
  {
   "cell_type": "markdown",
   "metadata": {},
   "source": [
    "Only select observations that are longer than 1 hrs then extract the project id from the script parameters. If there is no project id then allocated No_project_id "
   ]
  },
  {
   "cell_type": "code",
   "execution_count": 10,
   "metadata": {
    "collapsed": false
   },
   "outputs": [],
   "source": [
    "sbd = [] #Experiment ID\n",
    "pid = [] #project ID\n",
    "fnd = [] #Filename\n",
    "dud = [] #Duration\n",
    "antsd = [] #number of antennas\n",
    "scrd = [] #script  -NOT USED NOW\n",
    "\n",
    "for fi in f:\n",
    "    if fi.metadata.Duration < 3600: #only pick hour long or greater observations for analysis\n",
    "        continue\n",
    "    # now try extract the project-id from the instruction-set string\n",
    "    \"\"\"\n",
    "    script = fi.metadata.InstructionSet\n",
    "    scrd.append(script)\n",
    "    spl = script.split()\n",
    "    \"\"\"\n",
    "    txts=fi.metadata.InstructionSet\n",
    "    p=findproj(txts)\n",
    "    if p == \"Unknown\":\n",
    "        p=\"Maser Monitoring\"\n",
    "    sbd.append(fi.metadata.ExperimentID)\n",
    "    pid.append(p)\n",
    "    fnd.append(fi.metadata.Filename)\n",
    "    dud.append(fi.metadata.Duration)\n",
    "    antsd.append(len(fi.metadata.Antennas))\n"
   ]
  },
  {
   "cell_type": "code",
   "execution_count": 11,
   "metadata": {
    "collapsed": false
   },
   "outputs": [
    {
     "name": "stdout",
     "output_type": "stream",
     "text": [
      "Percentage system usage:  58.0 %\n"
     ]
    }
   ],
   "source": [
    "pi = np.array(pid)\n",
    "sb = np.array(sbd)\n",
    "du = np.array(dud)\n",
    "ants = np.array(antsd)\n",
    "\n",
    "p_cent = (sum(du)/((end.toordinal()-start.toordinal())*24*3600))*100\n",
    "\n",
    "print 'Percentage system usage: ', np.floor(p_cent),'%'\n"
   ]
  },
  {
   "cell_type": "code",
   "execution_count": 12,
   "metadata": {
    "collapsed": false
   },
   "outputs": [
    {
     "name": "stdout",
     "output_type": "stream",
     "text": [
      "20141111IM-01 4.11\n",
      "COMM_Tipping_NO 1.07\n",
      "20130822NO-01 23.32\n",
      "COMM_Bandpass_TF 24.31\n",
      "20150619TF-01 15.2\n",
      "20141219SS-01 11.39\n",
      "COMM_RFI_SP 17.91\n",
      "COMM_Image_NO 225.74\n",
      "COMM_Point_LM 5.13\n",
      "20131211NO-01 3.04\n",
      "Maser monitoring 31.96\n"
     ]
    }
   ],
   "source": [
    "a_id = []\n",
    "a_time = []\n",
    "for p in set(pi):\n",
    "    ind = pi == p\n",
    "    print p,round(sum(du[ind])/3600,2)\n",
    "    a_id.append(p)\n",
    "    a_time.append(round(sum(du[ind])/3600,2))"
   ]
  },
  {
   "cell_type": "code",
   "execution_count": 13,
   "metadata": {
    "collapsed": false
   },
   "outputs": [
    {
     "name": "stdout",
     "output_type": "stream",
     "text": [
      "20130822NO-01     23.3 5\n",
      "20131211NO-01      3.0 5\n",
      "20141111IM-01      4.1 5\n",
      "20141219SS-01     11.4 5\n",
      "20150619TF-01     15.2 5\n",
      "COMM_Bandpass_TF  24.3 5\n",
      "COMM_Image_NO    225.7 5\n",
      "COMM_Point_LM      5.1 5\n",
      "COMM_RFI_SP       17.9 5\n",
      "COMM_Tipping_NO    1.1 5\n",
      "Maser monitoring  32.0 5\n"
     ]
    }
   ],
   "source": [
    "ind = np.argsort(a_id)\n",
    "for i in ind:\n",
    "    print (\"%-16s %5.1f %d\") %(a_id[i],a_time[i],ants[i])"
   ]
  },
  {
   "cell_type": "markdown",
   "metadata": {},
   "source": [
    "Find the unique project ids and determine the total observation duration."
   ]
  },
  {
   "cell_type": "markdown",
   "metadata": {},
   "source": [
    "Sort ID and time for display"
   ]
  },
  {
   "cell_type": "code",
   "execution_count": 14,
   "metadata": {
    "collapsed": false
   },
   "outputs": [
    {
     "name": "stdout",
     "output_type": "stream",
     "text": [
      "26 1469518626.h5 Auto atten ant1 ant2 ant3 ant5 ant6\n",
      "25 1469471407.h5 Imaging Calibration ant1 ant2 ant3 ant5 ant6\n",
      "25 1469471170.h5 Auto atten ant1 ant2 ant3 ant5 ant6\n",
      "25 1469452203.h5 Imaging Calibration ant1 ant2 ant3 ant5 ant6\n",
      "25 1469452067.h5 Auto atten ant1 ant2 ant3 ant5 ant6\n",
      "25 1469450387.h5 Beamformer observation ant1 ant2 ant3 ant5 ant6\n",
      "25 1469447953.h5 Beamformer observation ant1 ant2 ant3 ant5 ant6\n",
      "25 1469440026.h5 Imaging Calibration ant1 ant2 ant3 ant5 ant6\n",
      "25 1469439826.h5 Auto atten ant1 ant2 ant3 ant5 ant6\n",
      "25 1469439596.h5 Auto atten ant1 ant2 ant3 ant5 ant6\n",
      "25 1469431714.h5 Basic RFI Scan: RFI SCAN ant1 ant2 ant3 ant5 ant6\n",
      "25 1469431560.h5 Auto atten ant1 ant2 ant3 ant5 ant6\n",
      "23 1469310974.h5 Auto atten ant1 ant2 ant3 ant5 ant6\n",
      "23 1469268009.h5 3C279 ant1 ant2 ant3 ant5 ant6\n",
      "23 1469267770.h5 Auto atten ant1 ant2 ant3 ant5 ant6\n",
      "23 1469257606.h5 Imaging Calibration ant1 ant2 ant3 ant5 ant6\n",
      "23 1469257485.h5 Auto atten ant1 ant2 ant3 ant5 ant6\n",
      "23 1469228476.h5 W2332_5056 ant1 ant2 ant3 ant5 ant6\n",
      "23 1469228332.h5 Auto atten ant1 ant2 ant3 ant5 ant6\n",
      "22 1469203954.h5 Imaging Calibration ant1 ant2 ant3 ant5 ant6\n",
      "22 1469203845.h5 Auto atten ant1 ant2 ant3 ant5 ant6\n",
      "22 1469202985.h5 Beamformer observation ant1 ant2 ant3 ant5 ant6\n",
      "22 1469185728.h5 Imaging Calibration ant1 ant2 ant3 ant5 ant6\n",
      "22 1469185601.h5 Auto atten ant1 ant2 ant3 ant5 ant6\n",
      "22 1469179592.h5 Basic RFI Scan: RFI SCAN ant1 ant2 ant3 ant5 ant6\n",
      "22 1469179412.h5 Auto atten ant1 ant2 ant3 ant5 ant6\n",
      "22 1469179194.h5 Auto atten ant1 ant2 ant3 ant5 ant6\n",
      "22 1469171706.h5 Basic RFI Scan: RFI SCAN ant1\n",
      "22 1469171422.h5 Auto atten ant1\n",
      "21 1469111989.h5 Beamformer observation ant1\n",
      "21 1469111450.h5 Beamformer observation ant1\n",
      "21 1469111260.h5 Beamformer observation ant1\n",
      "21 1469110743.h5 Beamformer observation ant1\n",
      "21 1469107627.h5 Beamformer observation ant1 ant2 ant3 ant5 ant6\n",
      "21 1469107411.h5 Beamformer observation ant1 ant2 ant3 ant5 ant6\n",
      "21 1469107216.h5 Beamformer observation ant1 ant2 ant3 ant5 ant6\n",
      "21 1469105760.h5 Beamformer observation ant1 ant2 ant3 ant5 ant6\n",
      "21 1469102771.h5 Beamformer observation ant1 ant2 ant3 ant5 ant6\n",
      "21 1469102055.h5 Auto atten ant1 ant2 ant3 ant5 ant6\n",
      "21 1469100299.h5 Auto atten ant1 ant2 ant3 ant5 ant6\n",
      "21 1469086699.h5 Imaging Calibration ant1 ant2 ant3 ant5 ant6\n",
      "21 1469086546.h5 Auto atten ant1 ant2 ant3 ant5 ant6\n",
      "21 1469071183.h5 W2332_5056 ant1 ant2 ant3 ant5 ant6\n",
      "21 1469071032.h5 Auto atten ant1 ant2 ant3 ant5 ant6\n",
      "21 1469056032.h5 Imaging Calibration ant1 ant2 ant3 ant5 ant6\n",
      "21 1469055911.h5 Auto atten ant1 ant2 ant3 ant5 ant6\n",
      "20 1469013050.h5 Interferometric Pointining ant1 ant2 ant3 ant5 ant6\n",
      "20 1469012907.h5 Auto atten ant1 ant2 ant3 ant5 ant6\n",
      "20 1468998365.h5 Bandpass Calibrators ant1 ant2 ant3 ant5 ant6\n",
      "20 1468998163.h5 Auto atten ant1 ant2 ant3 ant5 ant6\n",
      "19 1468951205.h5 LS5039_2 ant1 ant2 ant3 ant5 ant6\n",
      "19 1468940671.h5 Pointing Observation ant1 ant2 ant3 ant5 ant6\n",
      "19 1468940589.h5 Auto atten ant1 ant2 ant3 ant5 ant6\n",
      "19 1468940161.h5 Auto atten ant1 ant2 ant3 ant5 ant6\n",
      "19 1468931580.h5 Imaging Calibration ant1 ant2 ant3 ant5 ant6\n",
      "19 1468931390.h5 Auto atten ant1 ant2 ant3 ant5 ant6\n",
      "19 1468931064.h5 Auto atten ant1 ant2 ant3 ant5 ant6\n",
      "18 1468839188.h5 Tipping Curve ant1 ant2 ant3 ant5 ant6\n",
      "18 1468838975.h5 Auto atten ant1 ant2 ant3 ant5 ant6\n",
      "18 1468830840.h5 Basic RFI Scan: RFI SCAN ant1 ant2 ant3 ant5 ant6\n",
      "18 1468830586.h5 Auto atten ant1 ant2 ant3 ant5 ant6\n",
      "18 1468830424.h5 Auto atten ant1 ant2 ant3 ant5 ant6\n",
      "18 1468830052.h5 Auto atten ant1 ant2 ant3 ant5 ant6\n",
      "18 1468827967.h5 Basic RFI Scan: RFI SCAN ant1 ant2 ant3 ant5 ant6\n",
      "18 1468827148.h5 Auto atten ant1 ant2 ant3 ant5 ant6\n",
      "16 1468667954.h5 Pointing Observation ant1 ant2 ant3 ant5 ant6\n",
      "16 1468663099.h5 Pointing Observation ant1 ant2 ant3 ant5 ant6\n",
      "16 1468663017.h5 Auto atten ant1 ant2 ant3 ant5 ant6\n",
      "16 1468662795.h5 Auto atten ant1 ant2 ant3 ant5 ant6\n",
      "16 1468643768.h5 Imaging Calibration ant1 ant2 ant3 ant5 ant6\n",
      "15 1468575734.h5 Imaging Calibration ant1 ant2 ant3 ant5 ant6\n",
      "15 1468575269.h5 Auto atten ant1 ant2 ant3 ant5 ant6\n",
      "15 1468574837.h5 Auto atten ant1 ant2 ant3 ant5 ant6\n",
      "15 1468571287.h5 Imaging Calibration ant1 ant2 ant3 ant5 ant6\n",
      "15 1468569584.h5 Auto atten ant1 ant2 ant3 ant5 ant6\n",
      "15 1468569139.h5 Auto atten ant1 ant2 ant3 ant5 ant6\n",
      "15 1468568881.h5 Auto atten ant1 ant2 ant3 ant5 ant6\n",
      "14 1468513290.h5 Imaging Calibration ant1 ant2 ant3 ant5 ant6\n",
      "14 1468496459.h5 Pointing Observation ant1 ant2 ant3 ant5 ant6\n",
      "14 1468496034.h5 Auto atten ant1 ant2 ant3 ant5 ant6\n",
      "13 1468392422.h5 Imaging Calibration ant1 ant2 ant3 ant5 ant6\n",
      "12 1468327481.h5 Imaging Calibration ant1 ant2 ant3 ant5 ant6\n",
      "12 1468327224.h5 Auto atten ant1 ant2 ant3 ant5 ant6\n",
      "12 1468316912.h5 RFI Scan in c16n25M4k ant1 ant2 ant5 ant6\n",
      "12 1468316684.h5 Auto atten ant1 ant2 ant5 ant6\n",
      "11 1468251091.h5 Imaging Calibration ant1 ant2 ant3 ant5 ant6\n",
      "10 1468185984.h5 Imaging Calibration ant1 ant2 ant3 ant5 ant6\n",
      "10 1468120926.h5 Imaging Calibration ant1 ant2 ant3 ant5 ant6\n",
      "09 1468055910.h5 Imaging Calibration ant1 ant2 ant3 ant5 ant6\n",
      "09 1468055828.h5 Auto atten ant1 ant2 ant3 ant5 ant6\n",
      "09 1468055745.h5 Auto atten ant1 ant2 ant3 ant5 ant6\n",
      "09 1468055662.h5 Auto atten ant1 ant2 ant3 ant5 ant6\n",
      "09 1468055578.h5 Auto atten ant1 ant2 ant3 ant5 ant6\n",
      "09 1468055501.h5 Auto atten ant1 ant2 ant3 ant5 ant6\n",
      "09 1468055373.h5 Auto atten ant1 ant2 ant3 ant5 ant6\n",
      "08 1467990453.h5 Imaging Calibration ant1 ant2 ant3 ant5 ant6\n",
      "08 1467990336.h5 Auto atten ant1 ant2 ant3 ant5 ant6\n",
      "08 1467974832.h5 Beamformer observation ant1 ant2 ant3 ant5 ant6\n",
      "08 1467974170.h5 Target track ant1 ant2 ant3 ant5 ant6\n",
      "08 1467957907.h5 Imaging Calibration ant1 ant2 ant3 ant5 ant6\n",
      "08 1467957665.h5 Auto atten ant1 ant2 ant3 ant5 ant6\n",
      "06 1467835211.h5 Imaging Calibration ant1 ant2 ant3 ant5 ant6\n",
      "06 1467834969.h5 Auto atten ant1 ant2 ant3 ant5 ant6\n",
      "06 1467819009.h5 Basic RFI Scan: RFI SCAN ant1 ant2 ant3 ant5 ant6\n",
      "06 1467818732.h5 Auto atten ant1 ant2 ant3 ant5 ant6\n",
      "06 1467799507.h5 Imaging Calibration ant1 ant2 ant5 ant6\n",
      "06 1467799265.h5 Auto atten ant1 ant2 ant5 ant6\n",
      "06 1467791108.h5 Basic RFI Scan: RFI SCAN ant1 ant2 ant5 ant6\n",
      "06 1467790866.h5 Auto atten ant1 ant2 ant5 ant6\n",
      "06 1467780306.h5 Basic RFI Scan: RFI SCAN ant1 ant2 ant3 ant5 ant6\n",
      "06 1467780145.h5 Auto atten ant1 ant2 ant3 ant5 ant6\n",
      "05 1467749409.h5 G9.62 0.20 daily monitoring ant1 ant2 ant3 ant5 ant6\n",
      "05 1467749155.h5 Auto atten ant1 ant2 ant3 ant5 ant6\n",
      "05 1467729148.h5 Auto atten ant1 ant2 ant3 ant5 ant6\n",
      "05 1467727675.h5 Auto atten ant1 ant2 ant3 ant5 ant6\n",
      "05 1467687604.h5 W2332_5056 ant1 ant2 ant5 ant6\n",
      "05 1467687445.h5 Auto atten ant1 ant2 ant5 ant6\n",
      "04 1467650528.h5 G9.62 0.20 daily monitoring ant1 ant2 ant5 ant6\n",
      "04 1467645497.h5 Auto atten ant1 ant2 ant5 ant6\n",
      "03 1467546908.h5 3C279 ant1 ant2 ant5 ant6\n",
      "03 1467546742.h5 Auto atten ant1 ant2 ant5 ant6\n",
      "03 1467536409.h5 RFI Scan in c16n25M4k ant1 ant2 ant5 ant6\n",
      "03 1467536231.h5 Auto atten ant1 ant2 ant5 ant6\n",
      "03 1467510309.h5 W2332_5056 ant1 ant2 ant5 ant6\n",
      "03 1467510146.h5 Auto atten ant1 ant2 ant5 ant6\n",
      "02 1467481330.h5 G9.62 0.20 daily monitoring ant1 ant2 ant5 ant6\n",
      "02 1467481140.h5 Auto atten ant1 ant2 ant5 ant6\n",
      "02 1467462418.h5 3C279 ant1 ant2 ant5 ant6\n",
      "02 1467462281.h5 Auto atten ant1 ant2 ant5 ant6\n",
      "02 1467447750.h5 Bandpass Calibrators ant1 ant2 ant5 ant6\n",
      "02 1467447631.h5 Auto atten ant1 ant2 ant5 ant6\n",
      "02 1467421507.h5 W2332 Low ant1 ant2 ant5 ant6\n",
      "02 1467421341.h5 Auto atten ant1 ant2 ant5 ant6\n",
      "01 1467392047.h5 G9.62 0.20 daily monitoring ant1 ant2 ant5 ant6\n",
      "01 1467391878.h5 Auto atten ant1 ant2 ant5 ant6\n",
      "01 1467375306.h5 Bandpass Calibrators ant1 ant2 ant5 ant6\n",
      "01 1467375141.h5 Auto atten ant1 ant2 ant5 ant6\n",
      "01 1467359399.h5 New health ant1 ant2 ant5 ant6\n",
      "01 1467344709.h5 Interferometric Pointining ant1 ant2 ant5 ant6\n",
      "01 1467344466.h5 Auto atten ant1 ant2 ant5 ant6\n",
      "01 1467329408.h5 W2332 Low ant1 ant2 ant5 ant6\n",
      "01 1467329245.h5 Auto atten ant1 ant2 ant5 ant6\n",
      "30 1467317708.h5 G9.62 0.20 daily monitoring ant1 ant2 ant5 ant6\n",
      "30 1467316336.h5 Auto atten ant1 ant2 ant5 ant6\n",
      "30 1467305206.h5 PKS1510-089 ant1 ant2 ant5 ant6\n",
      "30 1467305126.h5 Auto atten ant1 ant2 ant5 ant6\n",
      "30 1467304352.h5 Auto atten ant1 ant2 ant5 ant6\n",
      "30 1467296869.h5 Auto atten ant1 ant2 ant3 ant5 ant6\n",
      "30 1467292710.h5 New health ant2 ant5 ant6\n",
      "30 1467284134.h5 Tipping Curve ant2 ant5 ant6\n",
      "30 1467283841.h5 Auto atten ant2 ant5 ant6\n"
     ]
    }
   ],
   "source": [
    "for fi in f:\n",
    "    x= repr(fi)\n",
    "    pr=x.split(\",\")\n",
    "    print pr[1][10:12],findh5(fi.metadata.Details) , fi.metadata.Description, listpr(fi.metadata.Antennas)"
   ]
  },
  {
   "cell_type": "code",
   "execution_count": 15,
   "metadata": {
    "collapsed": false
   },
   "outputs": [],
   "source": [
    "f.sort(key=lambda k: k.metadata.StartTime) #Sort in ascending time+++++++++++++++++++++++++++++"
   ]
  },
  {
   "cell_type": "code",
   "execution_count": 16,
   "metadata": {
    "collapsed": false
   },
   "outputs": [
    {
     "name": "stdout",
     "output_type": "stream",
     "text": [
      "Filename\t\t\t\t\t\t Project \tTitle\n",
      "/var/kat/archive/data/comm/2016/07/05/1467749409.h5  Maser monitoring   G9.62 0.20 daily monitoring\n",
      "/var/kat/archive/data/comm/2016/07/06/1467835211.h5  COMM_Image_NO      Imaging Calibration\n",
      "/var/kat/archive/data/comm/2016/07/08/1467957907.h5  COMM_Image_NO      Imaging Calibration\n",
      "/var/kat/archive/data/comm/2016/07/08/1467974170.h5  Unknown            Target track\n",
      "/var/kat/archive/data/comm/2016/07/08/1467974832.h5  Unknown            Beamformer observation\n",
      "/var/kat/archive/data/comm/2016/07/08/1467990453.h5  COMM_Image_NO      Imaging Calibration\n",
      "/var/kat/archive/data/comm/2016/07/09/1468055910.h5  COMM_Image_NO      Imaging Calibration\n",
      "/var/kat/archive/data/comm/2016/07/10/1468120926.h5  COMM_Image_NO      Imaging Calibration\n",
      "/var/kat/archive/data/comm/2016/07/10/1468185984.h5  COMM_Image_NO      Imaging Calibration\n",
      "/var/kat/archive/data/comm/2016/07/11/1468251091.h5  COMM_Image_NO      Imaging Calibration\n",
      "/var/kat/archive/data/comm/2016/07/12/1468327481.h5  COMM_Image_NO      Imaging Calibration\n",
      "/var/kat/archive/data/comm/2016/07/13/1468392422.h5  COMM_Image_NO      Imaging Calibration\n",
      "/var/kat/archive/data/comm/2016/07/14/1468513290.h5  COMM_Image_NO      Imaging Calibration\n",
      "/var/kat/archive/data/comm/2016/07/15/1468571287.h5  COMM_Image_NO      Imaging Calibration\n",
      "/var/kat/archive/data/comm/2016/07/15/1468575734.h5  COMM_Image_NO      Imaging Calibration\n",
      "/var/kat/archive/data/comm/2016/07/16/1468643768.h5  COMM_Image_NO      Imaging Calibration\n",
      "/var/kat/archive/data/comm/2016/07/19/1468931580.h5  COMM_Image_NO      Imaging Calibration\n",
      "/var/kat/archive/data/comm/2016/07/19/1468951205.h5  20141111IM-01      LS5039_2\n",
      "/var/kat/archive/data/comm/2016/07/20/1468998365.h5  COMM_Bandpass_TF   Bandpass Calibrators\n",
      "/var/kat/archive/data/comm/2016/07/20/1469013050.h5  COMM_Bandpass_TF   Interferometric Pointining\n",
      "/var/kat/archive/data/comm/2016/07/20/1469056032.h5  COMM_Image_NO      Imaging Calibration\n",
      "/var/kat/archive/data/comm/2016/07/21/1469071183.h5  20130822NO-01      W2332_5056\n",
      "/var/kat/archive/data/comm/2016/07/21/1469086699.h5  COMM_Image_NO      Imaging Calibration\n",
      "/var/kat/archive/data/comm/2016/07/21/1469102771.h5  Unknown            Beamformer observation\n",
      "/var/kat/archive/data/comm/2016/07/21/1469105760.h5  Unknown            Beamformer observation\n",
      "/var/kat/archive/data/comm/2016/07/21/1469107216.h5  Unknown            Beamformer observation\n",
      "/var/kat/archive/data/comm/2016/07/21/1469107411.h5  Unknown            Beamformer observation\n",
      "/var/kat/archive/data/comm/2016/07/21/1469107627.h5  Unknown            Beamformer observation\n",
      "/var/kat/archive/data/comm/2016/07/22/1469185728.h5  COMM_Image_NO      Imaging Calibration\n",
      "/var/kat/archive/data/comm/2016/07/22/1469202985.h5  Unknown            Beamformer observation\n",
      "/var/kat/archive/data/comm/2016/07/22/1469203954.h5  COMM_Image_NO      Imaging Calibration\n",
      "/var/kat/archive/data/comm/2016/07/22/1469228476.h5  20130822NO-01      W2332_5056\n",
      "/var/kat/archive/data/comm/2016/07/23/1469257606.h5  COMM_Image_NO      Imaging Calibration\n",
      "/var/kat/archive/data/comm/2016/07/23/1469268009.h5  20150619TF-01      3C279\n",
      "/var/kat/archive/data/comm/2016/07/25/1469440026.h5  COMM_Image_NO      Imaging Calibration\n",
      "/var/kat/archive/data/comm/2016/07/25/1469447953.h5  Unknown            Beamformer observation\n",
      "/var/kat/archive/data/comm/2016/07/25/1469450387.h5  Unknown            Beamformer observation\n",
      "/var/kat/archive/data/comm/2016/07/25/1469452203.h5  COMM_Image_NO      Imaging Calibration\n",
      "/var/kat/archive/data/comm/2016/07/25/1469471407.h5  COMM_Image_NO      Imaging Calibration\n"
     ]
    }
   ],
   "source": [
    "print \"Filename\\t\\t\\t\\t\\t\\t Project \\tTitle\"\n",
    "for fi in f:\n",
    "    x= repr(fi)\n",
    "    pr=x.split(\",\")\n",
    "    nrant=len(fi.metadata.Antennas) # number of antennas\n",
    "    proj=findproj(fi.metadata.InstructionSet)\n",
    "    if fi.metadata.Description.find('Auto') <0 and  fi.metadata.Description.find('RFI') <0 and \\\n",
    "      fi.metadata.Description.find('Pointing') <0  and  fi.metadata.Description.find('Delay') <0  and \\\n",
    "      fi.metadata.Description.find('Tipping') <0  and nrant>4 :  # not auto attenuate, more than 5 antenna\n",
    "        print(\"%s/%s  %-18s %s\") %(fi.metadata.FileLocation,findh5(fi.metadata.Details),proj,fi.metadata.Description )"
   ]
  }
 ],
 "metadata": {
  "kernelspec": {
   "display_name": "Python 2",
   "language": "python",
   "name": "python2"
  },
  "language_info": {
   "codemirror_mode": {
    "name": "ipython",
    "version": 2
   },
   "file_extension": ".py",
   "mimetype": "text/x-python",
   "name": "python",
   "nbconvert_exporter": "python",
   "pygments_lexer": "ipython2",
   "version": "2.7.6"
  }
 },
 "nbformat": 4,
 "nbformat_minor": 0
}
