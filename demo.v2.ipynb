{
 "cells": [
  {
   "cell_type": "code",
   "execution_count": 14,
   "metadata": {
    "collapsed": false
   },
   "outputs": [
    {
     "name": "stdout",
     "output_type": "stream",
     "text": [
      "Populating the interactive namespace from numpy and matplotlib\n"
     ]
    },
    {
     "name": "stderr",
     "output_type": "stream",
     "text": [
      "WARNING: pylab import has clobbered these variables: ['show_config', 'log2', 'arccos', 'arctanh', 'linalg', 'draw_if_interactive', 'arcsin', 'sqrt', '__version__', 'power', 'fft', 'log', 'log10', 'test']\n",
      "`%matplotlib` prevents importing * from pylab and numpy\n"
     ]
    }
   ],
   "source": [
    "from scipy import *\n",
    "\n",
    "#from pylab import *\n",
    "%pylab inline"
   ]
  },
  {
   "cell_type": "code",
   "execution_count": 15,
   "metadata": {
    "collapsed": false
   },
   "outputs": [
    {
     "name": "stdout",
     "output_type": "stream",
     "text": [
      "hello, world!\n"
     ]
    }
   ],
   "source": [
    "print 'hello, world!'"
   ]
  },
  {
   "cell_type": "code",
   "execution_count": 16,
   "metadata": {
    "collapsed": false
   },
   "outputs": [
    {
     "name": "stdout",
     "output_type": "stream",
     "text": [
      "i is 0\n",
      "i is 1\n",
      "i is 2\n",
      "i is 3\n",
      "i is 4\n"
     ]
    },
    {
     "data": {
      "text/plain": [
       "['the ', ' is ', ' for ', ' foo']"
      ]
     },
     "execution_count": 16,
     "metadata": {},
     "output_type": "execute_result"
    }
   ],
   "source": [
    "for i in range(5):\n",
    "\n",
    "    print 'i is', i\n",
    "\n",
    "    \n",
    "\n",
    "import re\n",
    "\n",
    "re.split('\\d', 'the 1 is 2 for 3 foo')"
   ]
  },
  {
   "cell_type": "code",
   "execution_count": 17,
   "metadata": {
    "collapsed": false
   },
   "outputs": [
    {
     "data": {
      "image/png": "[encoded data removed]",
      "text/plain": [
       "<matplotlib.figure.Figure at 0x7fb6d59f6b90>"
      ]
     },
     "metadata": {},
     "output_type": "display_data"
    }
   ],
   "source": [
    "x = linspace(0, 3*pi, 500)\n",
    "\n",
    "plot(x, sin(x**2))\n",
    "\n",
    "title('A simple chirp');"
   ]
  },
  {
   "cell_type": "code",
   "execution_count": 18,
   "metadata": {
    "collapsed": false
   },
   "outputs": [
    {
     "name": "stdout",
     "output_type": "stream",
     "text": [
      "Be careful not to fall off!\n"
     ]
    }
   ],
   "source": [
    "the_world_is_flat = 1\n",
    "\n",
    "if the_world_is_flat:\n",
    "\n",
    "    print \"Be careful not to fall off!\""
   ]
  },
  {
   "cell_type": "code",
   "execution_count": 19,
   "metadata": {
    "collapsed": false
   },
   "outputs": [
    {
     "data": {
      "text/plain": [
       "<function open>"
      ]
     },
     "execution_count": 19,
     "metadata": {},
     "output_type": "execute_result"
    }
   ],
   "source": [
    "# You can do tab completions, ask for help, and get details:\n",
    "\n",
    "open"
   ]
  },
  {
   "cell_type": "code",
   "execution_count": 20,
   "metadata": {
    "collapsed": true
   },
   "outputs": [],
   "source": [
    "# ## Markdown cells can contain formatted text and code\n",
    "\n",
    "# \n",
    "\n",
    "# You can *italicize*, **boldface**\n",
    "\n",
    "# \n",
    "\n",
    "# * build\n",
    "\n",
    "# * lists\n",
    "\n",
    "# \n",
    "\n",
    "# and embed code meant for illustration instead of execution in Python:\n",
    "\n",
    "# \n",
    "\n",
    "#     def f(x):\n",
    "\n",
    "#         \"\"\"a docstring\"\"\"\n",
    "\n",
    "#         return x**2\n",
    "\n",
    "# \n",
    "\n",
    "# or other languages:\n",
    "\n",
    "# \n",
    "\n",
    "#     if (i=0; i<n; i++) {\n",
    "\n",
    "#       printf(\"hello %d\\n\", i);\n",
    "\n",
    "#       x += 4;\n",
    "\n",
    "#     }"
   ]
  },
  {
   "cell_type": "code",
   "execution_count": 21,
   "metadata": {
    "collapsed": false
   },
   "outputs": [
    {
     "name": "stdout",
     "output_type": "stream",
     "text": [
      "0 1 2 3 4 5 6 7\n"
     ]
    }
   ],
   "source": [
    "import time, sys\n",
    "\n",
    "for i in range(8):\n",
    "\n",
    "    print i,\n",
    "\n",
    "    time.sleep(0.5)"
   ]
  },
  {
   "cell_type": "markdown",
   "metadata": {},
   "source": [
    "\n",
    "\n",
    "# Courtesy of MathJax, you can include mathematical expressions both inline: \n",
    "\n",
    "# $e^{i\\pi} + 1 = 0$  and displayed:\n",
    "\n",
    "# \n",
    "\n",
    "# $$e^x=\\sum_{i=0}^\\infty \\frac{1}{i!}x^i$$"
   ]
  },
  {
   "cell_type": "code",
   "execution_count": 22,
   "metadata": {
    "collapsed": false
   },
   "outputs": [
    {
     "name": "stdout",
     "output_type": "stream",
     "text": [
      "/home/tony/Desktop/PythonScripts/Notebooks\n",
      "The IPython notebook is great!\n"
     ]
    }
   ],
   "source": [
    "\n",
    "\n",
    "!pwd\n",
    "\n",
    "\n",
    "\n",
    "message = 'The IPython notebook is great!'\n",
    "\n",
    "# note: the echo command does not run on Windows, it's a unix command.\n",
    "\n",
    "!echo $message"
   ]
  },
  {
   "cell_type": "code",
   "execution_count": 35,
   "metadata": {
    "collapsed": false
   },
   "outputs": [
    {
     "data": {
      "text/html": [
       "<iframe src=http://en.m.wikipedia.org/?useformat=mobile width=700 height=350>"
      ],
      "text/plain": [
       "<IPython.core.display.HTML object>"
      ]
     },
     "execution_count": 35,
     "metadata": {},
     "output_type": "execute_result"
    }
   ],
   "source": [
    "from IPython.core.display import HTML\n",
    "\n",
    "HTML('<iframe src=http://en.m.wikipedia.org/?useformat=mobile width=700 height=350>')"
   ]
  },
  {
   "cell_type": "code",
   "execution_count": 32,
   "metadata": {
    "collapsed": false
   },
   "outputs": [
    {
     "data": {
      "image/png": "[encoded data removed]",
      "text/plain": [
       "<matplotlib.figure.Figure at 0x7fb6d90dba90>"
      ]
     },
     "metadata": {},
     "output_type": "display_data"
    }
   ],
   "source": [
    "# %load http://matplotlib.org/mpl_examples/showcase/integral_demo.py\n",
    "\"\"\"\n",
    "Plot demonstrating the integral as the area under a curve.\n",
    "\n",
    "Although this is a simple example, it demonstrates some important tweaks:\n",
    "\n",
    "    * A simple line plot with custom color and line width.\n",
    "    * A shaded region created using a Polygon patch.\n",
    "    * A text label with mathtext rendering.\n",
    "    * figtext calls to label the x- and y-axes.\n",
    "    * Use of axis spines to hide the top and right spines.\n",
    "    * Custom tick placement and labels.\n",
    "\"\"\"\n",
    "import numpy as np\n",
    "import matplotlib.pyplot as plt\n",
    "from matplotlib.patches import Polygon\n",
    "\n",
    "\n",
    "def func(x):\n",
    "    return (x - 3) * (x - 5) * (x - 7) + 85\n",
    "\n",
    "\n",
    "a, b = 2, 9  # integral limits\n",
    "x = np.linspace(0, 10)\n",
    "y = func(x)\n",
    "\n",
    "fig, ax = plt.subplots()\n",
    "plt.plot(x, y, 'r', linewidth=2)\n",
    "plt.ylim(ymin=0)\n",
    "\n",
    "# Make the shaded region\n",
    "ix = np.linspace(a, b)\n",
    "iy = func(ix)\n",
    "verts = [(a, 0)] + list(zip(ix, iy)) + [(b, 0)]\n",
    "poly = Polygon(verts, facecolor='0.9', edgecolor='0.5')\n",
    "ax.add_patch(poly)\n",
    "\n",
    "plt.text(0.5 * (a + b), 30, r\"$\\int_a^b f(x)\\mathrm{d}x$\",\n",
    "         horizontalalignment='center', fontsize=20)\n",
    "\n",
    "plt.figtext(0.9, 0.05, '$x$')\n",
    "plt.figtext(0.1, 0.9, '$y$')\n",
    "\n",
    "ax.spines['right'].set_visible(False)\n",
    "ax.spines['top'].set_visible(False)\n",
    "ax.xaxis.set_ticks_position('bottom')\n",
    "\n",
    "ax.set_xticks((a, b))\n",
    "ax.set_xticklabels(('$a$', '$b$'))\n",
    "ax.set_yticks([])\n",
    "\n",
    "plt.show()\n"
   ]
  },
  {
   "cell_type": "code",
   "execution_count": 33,
   "metadata": {
    "collapsed": false
   },
   "outputs": [
    {
     "data": {
      "image/png": "[encoded data removed]",
      "text/plain": [
       "<matplotlib.figure.Figure at 0x7fb6f39732d0>"
      ]
     },
     "metadata": {},
     "output_type": "display_data"
    }
   ],
   "source": [
    "#!/usr/bin/env python\n",
    "\n",
    "\n",
    "\n",
    "# implement the example graphs/integral from pyx\n",
    "\n",
    "from pylab import *\n",
    "\n",
    "from matplotlib.patches import Polygon\n",
    "\n",
    "\n",
    "\n",
    "def func(x):\n",
    "\n",
    "    return (x-3)*(x-5)*(x-7)+85\n",
    "\n",
    "\n",
    "\n",
    "ax = subplot(111)\n",
    "\n",
    "\n",
    "\n",
    "a, b = 2, 9 # integral area\n",
    "\n",
    "x = arange(0, 10, 0.01)\n",
    "\n",
    "y = func(x)\n",
    "\n",
    "plot(x, y, linewidth=1)\n",
    "\n",
    "\n",
    "\n",
    "# make the shaded region\n",
    "\n",
    "ix = arange(a, b, 0.01)\n",
    "\n",
    "iy = func(ix)\n",
    "\n",
    "verts = [(a,0)] + list(zip(ix,iy)) + [(b,0)]\n",
    "\n",
    "poly = Polygon(verts, facecolor='0.8', edgecolor='k')\n",
    "\n",
    "ax.add_patch(poly)\n",
    "\n",
    "\n",
    "\n",
    "text(0.5 * (a + b), 30,\n",
    "\n",
    "     r\"$\\int_a^b f(x)\\mathrm{d}x$\", horizontalalignment='center',\n",
    "\n",
    "     fontsize=20)\n",
    "\n",
    "\n",
    "\n",
    "axis([0,10, 0, 180])\n",
    "\n",
    "figtext(0.9, 0.05, 'x')\n",
    "\n",
    "figtext(0.1, 0.9, 'y')\n",
    "\n",
    "ax.set_xticks((a,b))\n",
    "\n",
    "ax.set_xticklabels(('a','b'))\n",
    "\n",
    "ax.set_yticks([])\n",
    "\n",
    "show()\n"
   ]
  },
  {
   "cell_type": "code",
   "execution_count": 34,
   "metadata": {
    "collapsed": false
   },
   "outputs": [
    {
     "data": {
      "image/png": "[encoded data removed]",
      "text/plain": [
       "<matplotlib.figure.Figure at 0x7fb6d59e7850>"
      ]
     },
     "metadata": {},
     "output_type": "display_data"
    }
   ],
   "source": [
    "#!/usr/bin/env python\n",
    "\n",
    "\n",
    "\n",
    "# implement the example graphs/integral from pyx\n",
    "\n",
    "from pylab import *\n",
    "\n",
    "from matplotlib.patches import Polygon\n",
    "\n",
    "\n",
    "\n",
    "def func(x):\n",
    "\n",
    "    return (x-3)*(x-5)*(x-7)+85\n",
    "\n",
    "\n",
    "\n",
    "ax = subplot(111)\n",
    "\n",
    "\n",
    "\n",
    "a, b = 2, 9 # integral area\n",
    "\n",
    "x = arange(0, 10, 0.01)\n",
    "\n",
    "y = func(x)\n",
    "\n",
    "plot(x, y, linewidth=1)\n",
    "\n",
    "\n",
    "\n",
    "# make the shaded region\n",
    "\n",
    "ix = arange(a, b, 0.01)\n",
    "\n",
    "iy = func(ix)\n",
    "\n",
    "verts = [(a,0)] + list(zip(ix,iy)) + [(b,0)]\n",
    "\n",
    "poly = Polygon(verts, facecolor='0.8', edgecolor='k')\n",
    "\n",
    "ax.add_patch(poly)\n",
    "\n",
    "\n",
    "\n",
    "text(0.5 * (a + b), 30,\n",
    "\n",
    "     r\"$\\int_a^b f(x)\\mathrm{d}x$\", horizontalalignment='center',\n",
    "\n",
    "     fontsize=20)\n",
    "\n",
    "\n",
    "\n",
    "axis([0,10, 0, 180])\n",
    "\n",
    "figtext(0.9, 0.05, 'x')\n",
    "\n",
    "figtext(0.1, 0.9, 'y')\n",
    "\n",
    "ax.set_xticks((a,b))\n",
    "\n",
    "ax.set_xticklabels(('a','b'))\n",
    "\n",
    "ax.set_yticks([])\n",
    "\n",
    "show()"
   ]
  },
  {
   "cell_type": "code",
   "execution_count": null,
   "metadata": {
    "collapsed": true
   },
   "outputs": [],
   "source": []
  }
 ],
 "metadata": {
  "kernelspec": {
   "display_name": "Python 2",
   "language": "python",
   "name": "python2"
  },
  "language_info": {
   "codemirror_mode": {
    "name": "ipython",
    "version": 2
   },
   "file_extension": ".py",
   "mimetype": "text/x-python",
   "name": "python",
   "nbconvert_exporter": "python",
   "pygments_lexer": "ipython2",
   "version": "2.7.6"
  }
 },
 "nbformat": 4,
 "nbformat_minor": 0
}
