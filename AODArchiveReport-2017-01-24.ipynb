{
 "cells": [
  {
   "cell_type": "code",
   "execution_count": 26,
   "metadata": {
    "collapsed": true
   },
   "outputs": [],
   "source": [
    "import pysolr"
   ]
  },
  {
   "cell_type": "code",
   "execution_count": 27,
   "metadata": {
    "collapsed": true
   },
   "outputs": [],
   "source": [
    "search_string = ''#['basic_health.py']\n",
    "#search_string = ''"
   ]
  },
  {
   "cell_type": "code",
   "execution_count": 28,
   "metadata": {
    "collapsed": false
   },
   "outputs": [
    {
     "name": "stdout",
     "output_type": "stream",
     "text": [
      "127\n"
     ]
    }
   ],
   "source": [
    "archive = pysolr.Solr('http://kat-archive.kat.ac.za:8983/solr/kat_core')\n",
    "search_str = []\n",
    "search_str.append('InstructionSet:\"%s\"'%search_string)\n",
    "#search_str.append('NumFreqChannels:%d'%(1024*32))\n",
    "search_str.append('CAS.ProductTypeName:MeerKATAR1TelescopeProduct')\n",
    "#search_str.append('CAS.ProductTypeName:KatFile')\n",
    "search_str.append('StartTime:[2017-01-24T00:00:00Z TO 2017-02-01T00:00:00Z]')\n",
    "search_string = ' AND '.join(search_str)\n",
    "ar_res = archive.search( search_string ,rows=10000,**{'sort':'StartTime asc'})\n",
    "print ar_res.hits"
   ]
  },
  {
   "cell_type": "code",
   "execution_count": 29,
   "metadata": {
    "collapsed": false
   },
   "outputs": [
    {
     "name": "stdout",
     "output_type": "stream",
     "text": [
      "Simphiwe|2017-01-24T16:13:55Z|20170124-0019|AR1: Basic functionality test|4096|11| 3.44|/var/kat/archive2/data/MeerKATAR1/telescope_products/2017/01/24/1485274430.h5\n",
      "Simphiwe|2017-01-24T16:37:09Z|20170124-0021|Generic AR1 phaseup|4096|11| 0.73|/var/kat/archive2/data/MeerKATAR1/telescope_products/2017/01/24/1485275825.h5\n",
      "Maciej|2017-01-24T16:46:50Z|20170124-0022|Comm: COMM-173 PKS 0408-65 drift scan|4096|11| 6.87|/var/kat/archive2/data/MeerKATAR1/telescope_products/2017/01/24/1485276378.h5\n",
      "Maciej|2017-01-24T17:46:14Z|20170124-0025|AR1: MKAIV-214 Phase-up 0408-65|4096|10| 0.84|/var/kat/archive2/data/MeerKATAR1/telescope_products/2017/01/24/1485279973.h5\n",
      "Maciej|2017-01-24T17:54:16Z|20170124-0026|Comm: COMM-173 PKS 0408-65 drift scan|4096|10| 5.07|/var/kat/archive2/data/MeerKATAR1/telescope_products/2017/01/24/1485280435.h5\n",
      "Maciej|2017-01-24T18:37:51Z|20170124-0030|AR1: MKAIV-214 Phase-up 0408-65|4096|10| 0.87|/var/kat/archive2/data/MeerKATAR1/telescope_products/2017/01/24/1485283069.h5\n",
      "Maciej|2017-01-24T18:48:01Z|20170124-0031|Comm: COMM-173 Tau A drift scan|4096|10| 5.09|/var/kat/archive2/data/MeerKATAR1/telescope_products/2017/01/24/1485283566.h5\n",
      "sarah|2017-01-24T20:03:58Z|20170124-0032|AR1: MKAIV-214 Phase-up 0408-65|4096|10| 1.03|/var/kat/archive2/data/MeerKATAR1/telescope_products/2017/01/24/1485288233.h5\n",
      "Lindsay|2017-01-24T20:37:41Z|20170124-0028|Generic Phaseup for all targets|4096|10| 0.62|/var/kat/archive2/data/MeerKATAR1/telescope_products/2017/01/24/1485290254.h5\n",
      "AR1|2017-01-24T20:43:07Z|20170124-0029|AR1: MKAIV-295 Calibrator Imaging observation|4096|10|57.18|/var/kat/archive2/data/MeerKATAR1/telescope_products/2017/01/24/1485290581.h5\n",
      "benjamin|2017-01-24T21:16:42Z|20170124-0003|Radial holography Ku Band scanning m020, INTELSAT 22 (IS-22), num-scans 62, scan-duration 26, 36 cycles|4096|2|153.95|/var/kat/archive/data/MeerKATAR1/telescope_products/2017/01/24/1485292601.h5\n",
      "CAM|2017-01-25T09:24:14Z|20170125-0008|AR1: MKAIV-388 CBF J1644-4559|4096|8| 0.02|/var/kat/archive2/data/MeerKATAR1/telescope_products/2017/01/25/1485335941.h5\n",
      "sarah|2017-01-25T09:39:59Z|20170125-0012|AR1: MKAIV-387 CBF J1644-4559|4096|4| 0.05|/var/kat/archive2/data/MeerKATAR1/telescope_products/2017/01/25/1485337164.h5\n",
      "CAM|2017-01-25T09:54:19Z|20170125-0013|AR1: MKAIV-387 CBF J1644-4559|4096|4| 0.02|/var/kat/archive2/data/MeerKATAR1/telescope_products/2017/01/25/1485338024.h5\n",
      "CAM|2017-01-25T09:56:29Z|20170125-0014|AR1: MKAIV-387 CBF J1644-4559|4096|4| 0.05|/var/kat/archive2/data/MeerKATAR1/telescope_products/2017/01/25/1485338160.h5\n",
      "CAM|2017-01-25T10:02:52Z|20170125-0016|AR1: MKAIV-387 CBF J1644-4559|4096|4| 0.05|/var/kat/archive2/data/MeerKATAR1/telescope_products/2017/01/25/1485338540.h5\n",
      "sarah|2017-01-25T10:06:22Z|20170125-0015|AR1: MKAIV-387 CBF J1644-4559|4096|4| 0.05|/var/kat/archive2/data/MeerKATAR1/telescope_products/2017/01/25/1485338757.h5\n",
      "sarah|2017-01-25T10:11:02Z|20170125-0017|AR1: MKAIV-387 CBF J1644-4559|4096|4| 0.05|/var/kat/archive2/data/MeerKATAR1/telescope_products/2017/01/25/1485339034.h5\n",
      "Tiyani|2017-01-25T15:42:14Z|20170125-0018|Generic AR1 phaseup|4096|12| 1.25|/var/kat/archive2/data/MeerKATAR1/telescope_products/2017/01/25/1485358928.h5\n",
      "Tiyani|2017-01-25T15:51:45Z|20170125-0020|AR1: MKAIV-216 Phase-down|4096|12| 0.77|/var/kat/archive2/data/MeerKATAR1/telescope_products/2017/01/25/1485359497.h5\n",
      "Tiyani|2017-01-25T15:56:43Z|20170125-0019|AR1: Basic functionality test|4096|12| 4.06|/var/kat/archive2/data/MeerKATAR1/telescope_products/2017/01/25/1485359796.h5\n",
      "Tiyani|2017-01-25T16:20:21Z|20170125-0021|Generic AR1 phaseup|4096|12| 0.90|/var/kat/archive2/data/MeerKATAR1/telescope_products/2017/01/25/1485361215.h5\n",
      "AR1|2017-01-25T16:29:28Z|20170125-0022|AR1: MKAIV-111 L-band Pointing L Band|4096|12|54.48|/var/kat/archive2/data/MeerKATAR1/telescope_products/2017/01/25/1485361760.h5\n",
      "AR1|2017-01-25T21:40:12Z|20170125-0026|Generic AR1 phaseup|4096|12| 1.02|/var/kat/archive2/data/MeerKATAR1/telescope_products/2017/01/25/1485380405.h5\n",
      "AR1|2017-01-25T22:00:14Z|20170125-0024|Gain_Stability|4096|12|108.37|/var/kat/archive2/data/MeerKATAR1/telescope_products/2017/01/25/1485381607.h5\n",
      "benjamin|2017-01-25T22:20:00Z|20170125-0004|Radial holography Ku Band scanning m018, INTELSAT 22 (IS-22), num-scans 62, scan-duration 26, 36 cycles|4096|2|41.88|/var/kat/archive/data/MeerKATAR1/telescope_products/2017/01/25/1485382797.h5\n",
      "AR1|2017-01-26T08:31:45Z|20170126-0005|Generic AR1 phaseup|4096|11| 0.68|/var/kat/archive2/data/MeerKATAR1/telescope_products/2017/01/26/1485419465.h5\n",
      "AR1|2017-01-26T08:36:57Z|20170126-0003|AR1: MKAIV-295 Calibrator Imaging observation|4096|11|55.02|/var/kat/archive2/data/MeerKATAR1/telescope_products/2017/01/26/1485419809.h5\n",
      "Tiyani|2017-01-26T15:22:47Z|20170126-0006|AR1: Basic functionality test|4096|12| 0.53|/var/kat/archive2/data/MeerKATAR1/telescope_products/2017/01/26/1485443962.h5\n",
      "Tiyani|2017-01-26T15:31:21Z|20170126-0007|AR1: Basic functionality test|4096|12| 0.66|/var/kat/archive2/data/MeerKATAR1/telescope_products/2017/01/26/1485444675.h5\n",
      "Tiyani|2017-01-26T15:48:25Z|20170126-0008|Generic AR1 phaseup|4096|12| 0.65|/var/kat/archive2/data/MeerKATAR1/telescope_products/2017/01/26/1485445699.h5\n",
      "Tiyani|2017-01-26T15:54:28Z|20170126-0009|Generic AR1 phaseup|4096|12| 0.65|/var/kat/archive2/data/MeerKATAR1/telescope_products/2017/01/26/1485446062.h5\n",
      "Tiyani|2017-01-26T16:02:25Z|20170126-0010|Generic AR1 phaseup|4096|12| 0.65|/var/kat/archive2/data/MeerKATAR1/telescope_products/2017/01/26/1485446538.h5\n",
      "sarah|2017-01-26T16:48:22Z|20170126-0011|AR1: MKAIV-214 Phase-up 0408-65|4096|11| 0.83|/var/kat/archive2/data/MeerKATAR1/telescope_products/2017/01/26/1485449295.h5\n",
      "Tiyani|2017-01-26T16:59:31Z|20170126-0012|Generic AR1 phaseup|4096|11| 0.82|/var/kat/archive2/data/MeerKATAR1/telescope_products/2017/01/26/1485449965.h5\n",
      "Tiyani|2017-01-26T17:17:14Z|20170126-0013|Generic AR1 phaseup|4096|12| 0.96|/var/kat/archive2/data/MeerKATAR1/telescope_products/2017/01/26/1485451028.h5\n",
      "Tiyani|2017-01-26T17:24:50Z|20170126-0014|AR1: Basic functionality test|4096|12| 4.02|/var/kat/archive2/data/MeerKATAR1/telescope_products/2017/01/26/1485451483.h5\n",
      "Maciej|2017-01-26T18:33:48Z|20170126-0017|AR1: MKAIV-214 Phase-up 0408-65|4096|10| 0.85|/var/kat/archive2/data/MeerKATAR1/telescope_products/2017/01/26/1485455625.h5\n",
      "Maciej|2017-01-26T18:43:09Z|20170126-0018|Comm: COMM-173 Tau A drift scan|4096|10| 5.07|/var/kat/archive2/data/MeerKATAR1/telescope_products/2017/01/26/1485456072.h5\n",
      "Tiyani|2017-01-26T20:15:34Z|20170126-0023|AR1: Basic functionality test|4096|12| 4.04|/var/kat/archive2/data/MeerKATAR1/telescope_products/2017/01/26/1485461661.h5\n",
      "AR1|2017-01-26T20:41:22Z|20170126-0024|AR1: MKAIV-216 Phase-down|4096|12| 0.77|/var/kat/archive2/data/MeerKATAR1/telescope_products/2017/01/26/1485463275.h5\n",
      "AR1|2017-01-26T20:49:41Z|20170126-0028|AR1: MKAIV-216 Phase-down|4096|12| 0.67|/var/kat/archive2/data/MeerKATAR1/telescope_products/2017/01/26/1485463775.h5\n",
      "AR1|2017-01-26T20:54:25Z|20170126-0025|AR1: MKAIV-232 Baseline calibration|4096|12|64.98|/var/kat/archive2/data/MeerKATAR1/telescope_products/2017/01/26/1485464059.h5\n",
      "AR1|2017-01-27T03:04:09Z|20170126-0026|Generic AR1 phaseup|4096|12| 1.06|/var/kat/archive2/data/MeerKATAR1/telescope_products/2017/01/27/1485486242.h5\n",
      "AR1|2017-01-27T03:11:02Z|20170126-0027|Interferometric Pointing Calibration|4096|12|65.38|/var/kat/archive2/data/MeerKATAR1/telescope_products/2017/01/27/1485486655.h5\n",
      "RTS|2017-01-27T07:12:51Z|20170127-0001|RTS: 2.7 Ku-band Pointing|4096|2| 2.90|/var/kat/archive/data/MeerKATAR1/telescope_products/2017/01/27/1485501170.h5\n",
      "benjamin|2017-01-27T09:09:53Z|20170127-0003|Hotload and Coldload observation:RTS: 2.2 L-band T_sys_T_nd|4096|1| 0.04|/var/kat/archive/data/MeerKATAR1/telescope_products/2017/01/27/1485508191.h5\n",
      "sarah|2017-01-27T09:46:57Z|20170127-0007|AR1: MKAIV-214 Phase-up 1934|4096|11| 0.85|/var/kat/archive2/data/MeerKATAR1/telescope_products/2017/01/27/1485510322.h5\n",
      "sarah|2017-01-27T09:55:15Z|20170127-0012|AR1: MKAIV-388 CBF J1327-6222|4096|11| 1.57|/var/kat/archive2/data/MeerKATAR1/telescope_products/2017/01/27/1485510854.h5\n",
      "sarah|2017-01-27T10:08:30Z|20170127-0013|AR1: MKAIV-388 CBF J1939 2134 |4096|11| 1.57|/var/kat/archive2/data/MeerKATAR1/telescope_products/2017/01/27/1485511572.h5\n",
      "sarah|2017-01-27T10:19:28Z|20170127-0014|AR1: MKAIV-214 Phase-up 1934|4096|11| 1.27|/var/kat/archive2/data/MeerKATAR1/telescope_products/2017/01/27/1485512360.h5\n",
      "sarah|2017-01-27T10:30:44Z|20170127-0015|AR1: MKAIV-388 CBF J1559-4438|4096|11| 1.59|/var/kat/archive2/data/MeerKATAR1/telescope_products/2017/01/27/1485512990.h5\n",
      "sarah|2017-01-27T10:42:46Z|20170127-0016|AR1: MKAIV-388 CBF J1644-4559|4096|11| 1.59|/var/kat/archive2/data/MeerKATAR1/telescope_products/2017/01/27/1485513730.h5\n",
      "sarah|2017-01-27T10:55:15Z|20170127-0017|AR1: MKAIV-214 Phase-up 1934|4096|11| 1.12|/var/kat/archive2/data/MeerKATAR1/telescope_products/2017/01/27/1485514506.h5\n",
      "sarah|2017-01-27T11:04:49Z|20170127-0018|AR1: MKAIV-388 CBF J1939 2134 |4096|11| 1.61|/var/kat/archive2/data/MeerKATAR1/telescope_products/2017/01/27/1485514987.h5\n",
      "sarah|2017-01-27T11:17:02Z|20170127-0019|AR1: MKAIV-388 CBF J1909-3744|4096|11| 1.61|/var/kat/archive2/data/MeerKATAR1/telescope_products/2017/01/27/1485515748.h5\n",
      "AR1|2017-01-27T11:28:01Z|20170127-0020|AR1: Basic functionality test|4096|11| 3.52|/var/kat/archive2/data/MeerKATAR1/telescope_products/2017/01/27/1485516473.h5\n",
      "Buntu|2017-01-27T12:10:17Z|20170127-0021|AR1: MKAIV-214 Phase-up 1934|4096|1| 0.00|/var/kat/archive2/data/MeerKATAR1/telescope_products/2017/01/27/1485519015.h5\n",
      "Buntu|2017-01-27T12:13:59Z|20170127-0022|AR1 BF obs of 1934|4096|1| 0.00|/var/kat/archive2/data/MeerKATAR1/telescope_products/2017/01/27/1485519228.h5\n",
      "Buntu|2017-01-27T12:41:59Z|20170127-0023|AR1 BF obs of 1934|4096|7| 0.03|/var/kat/archive2/data/MeerKATAR1/telescope_products/2017/01/27/1485520897.h5\n",
      "Buntu|2017-01-27T12:46:23Z|20170127-0024|AR1 BF obs of 1934|4096|7| 0.03|/var/kat/archive2/data/MeerKATAR1/telescope_products/2017/01/27/1485521168.h5\n",
      "Sarah|2017-01-27T12:59:29Z|20170127-0026|AR1: MKAIV-214 Phase-up 1934|4096|7| 0.42|/var/kat/archive2/data/MeerKATAR1/telescope_products/2017/01/27/1485521966.h5\n",
      "Buntu|2017-01-27T13:06:40Z|20170127-0027|AR1 BF obs of 1934|4096|7| 0.04|/var/kat/archive2/data/MeerKATAR1/telescope_products/2017/01/27/1485522387.h5\n",
      "Buntu|2017-01-27T13:08:29Z|20170127-0028|AR1 BF obs of 1934|4096|7| 0.04|/var/kat/archive2/data/MeerKATAR1/telescope_products/2017/01/27/1485522496.h5\n",
      "Buntu|2017-01-27T13:23:17Z|20170127-0036|AR1 BF obs of 1934|4096|7| 0.04|/var/kat/archive2/data/MeerKATAR1/telescope_products/2017/01/27/1485523378.h5\n",
      "Buntu|2017-01-27T13:38:21Z|20170127-0037|AR1 BF obs of 1934|4096|7| 0.05|/var/kat/archive2/data/MeerKATAR1/telescope_products/2017/01/27/1485524282.h5\n",
      "Sarah|2017-01-27T13:46:12Z|20170127-0039|AR1: MKAIV-214 Phase-up 1934|4096|7| 0.45|/var/kat/archive2/data/MeerKATAR1/telescope_products/2017/01/27/1485524768.h5\n",
      "Sarah|2017-01-27T13:53:30Z|20170127-0040|AR1: MKAIV-214 Phase-up 1934|4096|7| 0.45|/var/kat/archive2/data/MeerKATAR1/telescope_products/2017/01/27/1485525207.h5\n",
      "Buntu|2017-01-27T14:00:45Z|20170127-0041|AR1 BF obs of 1934|4096|7| 0.06|/var/kat/archive2/data/MeerKATAR1/telescope_products/2017/01/27/1485525633.h5\n",
      "Sarah|2017-01-27T14:08:06Z|20170127-0042|AR1: MKAIV-214 Phase-up 1934|4096|7| 0.46|/var/kat/archive2/data/MeerKATAR1/telescope_products/2017/01/27/1485526083.h5\n",
      "Buntu|2017-01-27T14:15:15Z|20170127-0043|AR1 BF obs of 1934|4096|7| 0.07|/var/kat/archive2/data/MeerKATAR1/telescope_products/2017/01/27/1485526503.h5\n",
      "Tiyani|2017-01-27T14:55:48Z|20170127-0046|Generic AR1 phaseup|4096|11| 0.95|/var/kat/archive2/data/MeerKATAR1/telescope_products/2017/01/27/1485528942.h5\n",
      "Tiyani|2017-01-27T15:15:17Z|20170127-0047|Generic AR1 phaseup|4096|11| 0.71|/var/kat/archive2/data/MeerKATAR1/telescope_products/2017/01/27/1485530110.h5\n",
      "sarah|2017-01-27T16:15:44Z|20170127-0048|AR1: MKAIV-214 Phase-up 0408-65|4096|11| 1.02|/var/kat/archive2/data/MeerKATAR1/telescope_products/2017/01/27/1485533737.h5\n",
      "sarah|2017-01-27T16:23:58Z|20170127-0056|AR1: MKAIV-214 Phase-up 0408-65|4096|11| 1.03|/var/kat/archive2/data/MeerKATAR1/telescope_products/2017/01/27/1485534231.h5\n",
      "sarah|2017-01-27T16:32:12Z|20170127-0049|AR1: MKAIV-387 CBF J0437-4715|4096|11| 1.57|/var/kat/archive2/data/MeerKATAR1/telescope_products/2017/01/27/1485534687.h5\n",
      "sarah|2017-01-27T16:44:08Z|20170127-0050|AR1: MKAIV-387 CBF J0738-4042|4096|11| 1.58|/var/kat/archive2/data/MeerKATAR1/telescope_products/2017/01/27/1485535388.h5\n",
      "sarah|2017-01-27T16:55:07Z|20170127-0051|AR1: MKAIV-214 Phase-up 0408-65|4096|11| 1.12|/var/kat/archive2/data/MeerKATAR1/telescope_products/2017/01/27/1485536099.h5\n",
      "sarah|2017-01-27T17:04:00Z|20170127-0052|AR1: MKAIV-387 CBF J0742-2822|4096|11| 1.59|/var/kat/archive2/data/MeerKATAR1/telescope_products/2017/01/27/1485536580.h5\n",
      "AR1|2017-01-27T17:15:37Z|20170127-0053|AR1: MKAIV-387 CBF J0835-4510|4096|11| 1.60|/var/kat/archive2/data/MeerKATAR1/telescope_products/2017/01/27/1485537296.h5\n",
      "sarah|2017-01-27T17:26:35Z|20170127-0054|AR1: MKAIV-214 Phase-up 0408-65|4096|11| 1.14|/var/kat/archive2/data/MeerKATAR1/telescope_products/2017/01/27/1485537986.h5\n",
      "sarah|2017-01-27T17:35:13Z|20170127-0055|AR1: MKAIV-387 CBF J0437-4715|4096|11| 3.13|/var/kat/archive2/data/MeerKATAR1/telescope_products/2017/01/27/1485538469.h5\n",
      "AR1|2017-01-27T18:50:13Z|20170127-0058|Generic AR1 phaseup|4096|11| 0.83|/var/kat/archive2/data/MeerKATAR1/telescope_products/2017/01/27/1485543005.h5\n",
      "Tiyani|2017-01-27T19:07:58Z|20170127-0060|Generic AR1 phaseup|4096|11| 0.80|/var/kat/archive2/data/MeerKATAR1/telescope_products/2017/01/27/1485544070.h5\n",
      "Shamila|2017-01-27T19:13:46Z|20170127-0062|COMM-163: L-band gain curve|4096|11|96.32|/var/kat/archive2/data/MeerKATAR1/telescope_products/2017/01/27/1485544418.h5\n",
      "AR1|2017-01-28T07:27:58Z|20170128-0005|Generic AR1 phaseup|4096|11| 1.29|/var/kat/archive2/data/MeerKATAR1/telescope_products/2017/01/28/1485588471.h5\n",
      "Tony|2017-01-28T07:38:56Z|20170128-0006|AR1 Imaging Calibrator LST 00-06|4096|11|60.19|/var/kat/archive2/data/MeerKATAR1/telescope_products/2017/01/28/1485589130.h5\n",
      "AR1|2017-01-28T14:33:22Z|20170128-0007|Generic AR1 phaseup|4096|8| 0.41|/var/kat/archive2/data/MeerKATAR1/telescope_products/2017/01/28/1485613995.h5\n",
      "AR1|2017-01-28T14:38:56Z|20170128-0008|AR1: MKAIV-295 Calibrator Imaging observation|4096|8|30.22|/var/kat/archive2/data/MeerKATAR1/telescope_products/2017/01/28/1485614329.h5\n",
      "AR1|2017-01-29T07:32:09Z|20170129-0001|AR1: Basic functionality test|4096|11| 3.67|/var/kat/archive2/data/MeerKATAR1/telescope_products/2017/01/29/1485675123.h5\n",
      "AR1|2017-01-29T08:01:51Z|20170129-0002|AR1: MKAIV-78 Quick Check Point Source Scan|4096|11| 7.17|/var/kat/archive2/data/MeerKATAR1/telescope_products/2017/01/29/1485676904.h5\n",
      "AR1|2017-01-29T08:52:23Z|20170129-0003|Generic AR1 phaseup|4096|11| 2.20|/var/kat/archive2/data/MeerKATAR1/telescope_products/2017/01/29/1485679936.h5\n",
      "AR1|2017-01-29T09:19:51Z|20170129-0004|AR1: MKAIV-216 Phase-down|4096|10| 0.32|/var/kat/archive2/data/MeerKATAR1/telescope_products/2017/01/29/1485681518.h5\n",
      "Lindsay|2017-01-29T09:23:07Z|20170129-0005|Baseline Calibration (Delay model calculation)|4096|10| 5.08|/var/kat/archive2/data/MeerKATAR1/telescope_products/2017/01/29/1485681780.h5\n",
      "AR1|2017-01-29T10:12:08Z|20170129-0010|AR1: MKAIV-216 Phase-down|4096|10| 0.56|/var/kat/archive2/data/MeerKATAR1/telescope_products/2017/01/29/1485684721.h5\n",
      "AR1|2017-01-29T10:17:14Z|20170129-0012|AR1: MKAIV-232 Baseline calibration|4096|10|45.95|/var/kat/archive2/data/MeerKATAR1/telescope_products/2017/01/29/1485685028.h5\n",
      "AR1|2017-01-29T16:20:32Z|20170129-0006|Generic AR1 phaseup|4096|10| 0.88|/var/kat/archive2/data/MeerKATAR1/telescope_products/2017/01/29/1485706825.h5\n",
      "AR1|2017-01-29T16:27:45Z|20170129-0007|Interferometric Pointing Calibration|4096|10|46.29|/var/kat/archive2/data/MeerKATAR1/telescope_products/2017/01/29/1485707258.h5\n",
      "AR1|2017-01-29T22:33:18Z|20170129-0008|Generic AR1 phaseup|4096|10| 1.95|/var/kat/archive2/data/MeerKATAR1/telescope_products/2017/01/29/1485729192.h5\n",
      "AR1|2017-01-29T22:48:33Z|20170129-0009|Gain_Stability|4096|10|76.73|/var/kat/archive2/data/MeerKATAR1/telescope_products/2017/01/29/1485730107.h5\n",
      "AR1|2017-01-30T09:12:24Z|20170130-0002|Generic AR1 phaseup|4096|9| 0.26|/var/kat/archive2/data/MeerKATAR1/telescope_products/2017/01/30/1485767441.h5\n",
      "AR1|2017-01-30T09:19:06Z|20170130-0003|AR1: MKAIV-295 Calibrator Imaging observation|4096|9| 0.62|/var/kat/archive2/data/MeerKATAR1/telescope_products/2017/01/30/1485767941.h5\n",
      "AR1|2017-01-30T09:34:14Z|20170130-0005|Generic AR1 phaseup|4096|9| 0.52|/var/kat/archive2/data/MeerKATAR1/telescope_products/2017/01/30/1485768849.h5\n",
      "AR1|2017-01-30T09:40:59Z|20170130-0006|AR1: MKAIV-295 Calibrator Imaging observation|4096|9|35.12|/var/kat/archive2/data/MeerKATAR1/telescope_products/2017/01/30/1485769253.h5\n",
      "AR1|2017-01-30T16:21:59Z|20170130-0007|AR1: Basic functionality test|4096|10| 2.87|/var/kat/archive2/data/MeerKATAR1/telescope_products/2017/01/30/1485793204.h5\n",
      "sarah|2017-01-30T18:00:13Z|20170130-0008|AR1: MKAIV-214 Phase-up 0408-65|4096|10| 0.88|/var/kat/archive2/data/MeerKATAR1/telescope_products/2017/01/30/1485799209.h5\n",
      "sarah|2017-01-30T18:08:36Z|20170130-0009|AR1: MKAIV-387 CBF J0437-4715|4096|10| 1.34|/var/kat/archive2/data/MeerKATAR1/telescope_products/2017/01/30/1485799670.h5\n",
      "sarah|2017-01-30T18:20:33Z|20170130-0010|AR1: MKAIV-387 CBF J0738-4042|4096|10| 1.34|/var/kat/archive2/data/MeerKATAR1/telescope_products/2017/01/30/1485800378.h5\n",
      "sarah|2017-01-30T18:31:33Z|20170130-0011|AR1: MKAIV-214 Phase-up 0408-65|4096|10| 0.97|/var/kat/archive2/data/MeerKATAR1/telescope_products/2017/01/30/1485801086.h5\n",
      "sarah|2017-01-30T18:40:51Z|20170130-0012|AR1: MKAIV-387 CBF J0742-2822|4096|10| 1.36|/var/kat/archive2/data/MeerKATAR1/telescope_products/2017/01/30/1485801578.h5\n",
      "AR1|2017-01-30T18:52:36Z|20170130-0013|AR1: MKAIV-387 CBF J0835-4510|4096|10| 1.37|/var/kat/archive2/data/MeerKATAR1/telescope_products/2017/01/30/1485802314.h5\n",
      "sarah|2017-01-30T19:03:33Z|20170130-0014|AR1: MKAIV-214 Phase-up 0408-65|4096|10| 0.99|/var/kat/archive2/data/MeerKATAR1/telescope_products/2017/01/30/1485803006.h5\n",
      "sarah|2017-01-30T19:12:19Z|20170130-0015|AR1: MKAIV-387 CBF J0437-4715|4096|10| 2.65|/var/kat/archive2/data/MeerKATAR1/telescope_products/2017/01/30/1485803494.h5\n",
      "sarah|2017-01-30T19:53:22Z|20170130-0026|AR1: MKAIV-387 CBF J1644-4559|4096|10| 0.46|/var/kat/archive2/data/MeerKATAR1/telescope_products/2017/01/30/1485805971.h5\n",
      "Sarah|2017-01-30T19:57:32Z|20170130-0027|AR1: MKAIV-387 CBF J1644-4559|4096|10| 0.54|/var/kat/archive2/data/MeerKATAR1/telescope_products/2017/01/30/1485806228.h5\n",
      "sarah|2017-01-30T20:03:45Z|20170130-0028|AR1: MKAIV-387 CBF J1644-4559|4096|10| 0.76|/var/kat/archive2/data/MeerKATAR1/telescope_products/2017/01/30/1485806548.h5\n",
      "sarah|2017-01-30T22:00:15Z|20170130-0016|AR1: MKAIV-214 Phase-up 0408-65|4096|10| 1.04|/var/kat/archive2/data/MeerKATAR1/telescope_products/2017/01/30/1485813608.h5\n",
      "sarah|2017-01-30T22:15:54Z|20170130-0017|AR1: MKAIV-387 CBF J0437-4715|4096|10| 1.41|/var/kat/archive2/data/MeerKATAR1/telescope_products/2017/01/30/1485814514.h5\n",
      "sarah|2017-01-30T22:31:15Z|20170130-0018|AR1: MKAIV-387 CBF J0738-4042|4096|10| 1.42|/var/kat/archive2/data/MeerKATAR1/telescope_products/2017/01/30/1485815416.h5\n",
      "sarah|2017-01-30T22:45:13Z|20170130-0019|AR1: MKAIV-214 Phase-up 0408-65|4096|10| 1.05|/var/kat/archive2/data/MeerKATAR1/telescope_products/2017/01/30/1485816306.h5\n",
      "sarah|2017-01-30T23:01:18Z|20170130-0020|AR1: MKAIV-387 CBF J0742-2822|4096|10| 1.43|/var/kat/archive2/data/MeerKATAR1/telescope_products/2017/01/30/1485817215.h5\n",
      "AR1|2017-01-30T23:16:12Z|20170130-0021|AR1: MKAIV-387 CBF J0835-4510|4096|10| 1.44|/var/kat/archive2/data/MeerKATAR1/telescope_products/2017/01/30/1485818114.h5\n",
      "sarah|2017-01-30T23:30:15Z|20170130-0022|AR1: MKAIV-214 Phase-up 0408-65|4096|10| 1.08|/var/kat/archive2/data/MeerKATAR1/telescope_products/2017/01/30/1485819008.h5\n",
      "sarah|2017-01-30T23:45:56Z|20170130-0023|AR1: MKAIV-387 CBF J0437-4715|4096|10| 2.72|/var/kat/archive2/data/MeerKATAR1/telescope_products/2017/01/30/1485819917.h5\n",
      "AR1|2017-01-31T00:06:59Z|20170130-0024|AR1: MKAIV-216 Phase-down|4096|10| 0.69|/var/kat/archive2/data/MeerKATAR1/telescope_products/2017/01/31/1485821213.h5\n",
      "AR1|2017-01-31T00:11:58Z|20170130-0025|AR1: MKAIV-232 Baseline calibration|4096|10|45.83|/var/kat/archive2/data/MeerKATAR1/telescope_products/2017/01/31/1485821512.h5\n",
      "AR1|2017-01-31T06:17:37Z|20170131-0001|AR1: Basic functionality test|4096|10| 3.08|/var/kat/archive2/data/MeerKATAR1/telescope_products/2017/01/31/1485843452.h5\n"
     ]
    }
   ],
   "source": [
    "for r in ar_res.docs:\n",
    "    try:\n",
    "        print \"%s|%s|%s|%s|%d|%d|%5.2f|%s\"%(r['Observer'],r['StartTime'],r['ScheduleBlockIdCode'],r['Description'], r['NumFreqChannels'],len(r['Antennas']),r['FileSize'][0]/1024.0**3,r['CAS.ReferenceDatastore'][0][5:])\n",
    "    except:\n",
    "        continue"
   ]
  },
  {
   "cell_type": "code",
   "execution_count": null,
   "metadata": {
    "collapsed": true
   },
   "outputs": [],
   "source": []
  }
 ],
 "metadata": {
  "kernelspec": {
   "display_name": "Python 2",
   "language": "python",
   "name": "python2"
  },
  "language_info": {
   "codemirror_mode": {
    "name": "ipython",
    "version": 2
   },
   "file_extension": ".py",
   "mimetype": "text/x-python",
   "name": "python",
   "nbconvert_exporter": "python",
   "pygments_lexer": "ipython2",
   "version": "2.7.6"
  }
 },
 "nbformat": 4,
 "nbformat_minor": 2
}
