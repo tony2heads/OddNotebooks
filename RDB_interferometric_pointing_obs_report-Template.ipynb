{
 "cells": [
  {
   "cell_type": "code",
   "execution_count": null,
   "metadata": {},
   "outputs": [],
   "source": [
    "#!wget http://stgr1.sdp.mkat.chpc.kat.ac.za:7480/1541541733/1541541733_sdp_l0.full.rdb"
   ]
  },
  {
   "cell_type": "code",
   "execution_count": null,
   "metadata": {
    "scrolled": true
   },
   "outputs": [],
   "source": [
    "\n",
    "rdb='1541541733_sdp_l0.full.rdb'\n",
    "%env rdb=1541541733_sdp_l0.full.rdb\n",
    "tmp=rdb[:10]\n",
    "print "
   ]
  },
  {
   "cell_type": "code",
   "execution_count": null,
   "metadata": {},
   "outputs": [],
   "source": [
    "print tmp\n",
    "!echo $rdb"
   ]
  },
  {
   "cell_type": "code",
   "execution_count": null,
   "metadata": {},
   "outputs": [],
   "source": [
    "%pylab inline"
   ]
  },
  {
   "cell_type": "code",
   "execution_count": null,
   "metadata": {},
   "outputs": [],
   "source": [
    "import scape\n",
    "import katdal\n",
    "import katpoint\n",
    "import katsdpscripts\n",
    "import glob"
   ]
  },
  {
   "cell_type": "code",
   "execution_count": null,
   "metadata": {},
   "outputs": [],
   "source": [
    "print \"Scape version: %s\"%scape.__version__\n",
    "print \"katdal version: %s\"%katdal.__version__\n",
    "print \"katpoint version: %s\"%katpoint.__version__\n",
    "print \"katsdpscripts version: %s\"%katsdpscripts.__version__"
   ]
  },
  {
   "cell_type": "code",
   "execution_count": null,
   "metadata": {
    "scrolled": true
   },
   "outputs": [],
   "source": [
    "run -i /var/kat/katsdpscripts/reduction/analyse_interferometric_pointing.py -h"
   ]
  },
  {
   "cell_type": "code",
   "execution_count": null,
   "metadata": {},
   "outputs": [],
   "source": [
    "import logging\n",
    "logging.root.setLevel('INFO')"
   ]
  },
  {
   "cell_type": "code",
   "execution_count": null,
   "metadata": {
    "scrolled": true
   },
   "outputs": [],
   "source": [
    "data=katdal.open(rdb)"
   ]
  },
  {
   "cell_type": "code",
   "execution_count": null,
   "metadata": {
    "scrolled": true
   },
   "outputs": [],
   "source": [
    "print data"
   ]
  },
  {
   "cell_type": "code",
   "execution_count": null,
   "metadata": {},
   "outputs": [],
   "source": [
    "#!ls -l /var/kat/katsdpscripts/RTS/rfi_mask.pickle"
   ]
  },
  {
   "cell_type": "code",
   "execution_count": null,
   "metadata": {
    "scrolled": true
   },
   "outputs": [],
   "source": [
    "run -i /var/kat/katsdpscripts/reduction/analyse_interferometric_pointing.py \\\n",
    "-c /var/kat/katsdpscripts/RTS/rfi_mask.pickle --exclude-ants='m027,m028,m046' $rdb"
   ]
  },
  {
   "cell_type": "code",
   "execution_count": null,
   "metadata": {},
   "outputs": [],
   "source": [
    "run -i /var/kat/katsdpscripts/reduction/analyse_interferometric_pointing.py \\\n",
    "-c /var/kat/katsdpscripts/RTS/rfi_mask.pickle --use-weights \\\n",
    "--exclude-ants='m027,m028,m046' $rdb"
   ]
  },
  {
   "cell_type": "code",
   "execution_count": null,
   "metadata": {},
   "outputs": [],
   "source": [
    "gl = glob.glob(\"%s*.csv\"%tmp)"
   ]
  },
  {
   "cell_type": "code",
   "execution_count": null,
   "metadata": {},
   "outputs": [],
   "source": [
    "!pwd\n",
    "for g in sorted(gl):\n",
    "    print g"
   ]
  },
  {
   "cell_type": "markdown",
   "metadata": {},
   "source": [
    "# Delete wildly discepant points"
   ]
  },
  {
   "cell_type": "code",
   "execution_count": null,
   "metadata": {},
   "outputs": [],
   "source": [
    "!sed -i /Nothing/d 1541541733_sdp_l0_interferometric_pointing_m0*.csv\n",
    "!sed -i /inf/d   1541541733_sdp_l0_interferometric_pointing_m0*.csv"
   ]
  },
  {
   "cell_type": "code",
   "execution_count": null,
   "metadata": {},
   "outputs": [],
   "source": [
    "matplotlib.rcParams['figure.figsize'] = (15.0, 10.0)"
   ]
  },
  {
   "cell_type": "code",
   "execution_count": null,
   "metadata": {
    "scrolled": false
   },
   "outputs": [],
   "source": [
    "for fl in sorted(gl):\n",
    "    figure(figsize=[15.0,10.0])\n",
    "    %run /var/kat/katsdpscripts/reduction/fit_pointing_model.py -m 1.0 $fl\n",
    "    "
   ]
  }
 ],
 "metadata": {
  "kernelspec": {
   "display_name": "Python 2",
   "language": "python",
   "name": "python2"
  },
  "language_info": {
   "codemirror_mode": {
    "name": "ipython",
    "version": 2
   },
   "file_extension": ".py",
   "mimetype": "text/x-python",
   "name": "python",
   "nbconvert_exporter": "python",
   "pygments_lexer": "ipython2",
   "version": "2.7.12"
  }
 },
 "nbformat": 4,
 "nbformat_minor": 1
}
