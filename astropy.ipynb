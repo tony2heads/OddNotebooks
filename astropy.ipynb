{
 "cells": [
  {
   "cell_type": "code",
   "execution_count": 1,
   "metadata": {
    "collapsed": false
   },
   "outputs": [
    {
     "name": "stdout",
     "output_type": "stream",
     "text": [
      "  Name   = Gravitational constant\n",
      "  Value  = 6.67384e-11\n",
      "  Uncertainty  = 8e-15\n",
      "  Unit  = m3 / (kg s2)\n",
      "  Reference = CODATA 2010\n"
     ]
    }
   ],
   "source": [
    "from astropy import units as u\n",
    "from astropy import constants as c\n",
    "print c.G"
   ]
  },
  {
   "cell_type": "code",
   "execution_count": 2,
   "metadata": {
    "collapsed": false
   },
   "outputs": [
    {
     "name": "stdout",
     "output_type": "stream",
     "text": [
      "0.0158179542881 N 3.53998270507e+20 kg m3 / (AU2 s2)\n"
     ]
    }
   ],
   "source": [
    "F=(c.G* (3*c.M_sun)*(2*u.kg)/(1.5*u.au)**2)\n",
    "x=F.to(u.N)\n",
    "print x,F"
   ]
  },
  {
   "cell_type": "code",
   "execution_count": 3,
   "metadata": {
    "collapsed": false
   },
   "outputs": [
    {
     "name": "stdout",
     "output_type": "stream",
     "text": [
      "2010-06-01 00:00:00.000 2455348.5 2010-06-01 00:01:06.184 2455348.50077\n"
     ]
    }
   ],
   "source": [
    "from astropy.time import Time\n",
    "t=Time(\"2010-06-01 00:00:00\",format=\"iso\",scale=\"utc\")\n",
    "print t, t.jd, t.tt, t.tt.jd"
   ]
  },
  {
   "cell_type": "code",
   "execution_count": 4,
   "metadata": {
    "collapsed": false
   },
   "outputs": [
    {
     "name": "stdout",
     "output_type": "stream",
     "text": [
      "20d45m31.5s -41d32m11s hms_tuple(h=1.0, m=23.0, s=2.1000000000008612)\n",
      "Galactic 280d43m50.5045s -74d12m06.4645s\n",
      "M32 00:42:41.825 +40:51:54.6098\n"
     ]
    }
   ],
   "source": [
    "\n",
    "from astropy.coordinates import SkyCoord\n",
    "c=SkyCoord(\"01:23:02.1 -41:32:11\",unit=(u.hourangle, u.deg),frame='icrs')\n",
    "print c.ra,c.dec, c.ra.hms\n",
    "print \"Galactic\", c.galactic.l, c.galactic.b\n",
    "m32=SkyCoord.from_name(\"M32\") #simbad lookup\n",
    "print \"M32\", m32.to_string('hmsdms',sep=\":\")"
   ]
  },
  {
   "cell_type": "code",
   "execution_count": 5,
   "metadata": {
    "collapsed": false
   },
   "outputs": [
    {
     "name": "stdout",
     "output_type": "stream",
     "text": [
      "01:23:02.1 -41:32:11\n"
     ]
    }
   ],
   "source": [
    "print c.to_string('hmsdms',sep=\":\")"
   ]
  },
  {
   "cell_type": "code",
   "execution_count": 6,
   "metadata": {
    "collapsed": false
   },
   "outputs": [
    {
     "name": "stdout",
     "output_type": "stream",
     "text": [
      "280.7306957\n"
     ]
    }
   ],
   "source": [
    "g = c.galactic\n",
    "lat=g.l\n",
    "print lat.degree"
   ]
  },
  {
   "cell_type": "code",
   "execution_count": 7,
   "metadata": {
    "collapsed": false
   },
   "outputs": [
    {
     "name": "stdout",
     "output_type": "stream",
     "text": [
      "FlatLambdaCDM(H0=68 km / (Mpc s), Om0=0.3, Tcmb0=2.725 K, Neff=3.04, m_nu=[ 0.  0.  0.] eV, Ob0=None) 13.8573145662 Gyr\n",
      "2.75063274945e+12 Mpc3\n",
      "8.41248887702 kpc / arcmin\n"
     ]
    }
   ],
   "source": [
    "from astropy.cosmology import FlatLambdaCDM\n",
    "cosmo=FlatLambdaCDM(H0=68, Om0=0.3)\n",
    "print cosmo,cosmo.age(0)\n",
    "print cosmo.comoving_volume(6.5) #z=6.5\n",
    "print cosmo.kpc_proper_per_arcmin(1.1)*1/60 #1arcseconds at z=1.1"
   ]
  },
  {
   "cell_type": "code",
   "execution_count": null,
   "metadata": {
    "collapsed": true
   },
   "outputs": [],
   "source": [
    "\n"
   ]
  }
 ],
 "metadata": {
  "kernelspec": {
   "display_name": "Python 2",
   "language": "python",
   "name": "python2"
  },
  "language_info": {
   "codemirror_mode": {
    "name": "ipython",
    "version": 2
   },
   "file_extension": ".py",
   "mimetype": "text/x-python",
   "name": "python",
   "nbconvert_exporter": "python",
   "pygments_lexer": "ipython2",
   "version": "2.7.6"
  }
 },
 "nbformat": 4,
 "nbformat_minor": 0
}
