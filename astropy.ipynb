{
 "metadata": {
  "name": "astropy"
 }, 
 "nbformat": 2, 
 "worksheets": [
  {
   "cells": [
    {
     "cell_type": "code", 
     "collapsed": false, 
     "input": [
      "from astropy import units as u", 
      "from astropy import constants as c", 
      "print c.G"
     ], 
     "language": "python", 
     "outputs": [
      {
       "output_type": "stream", 
       "stream": "stdout", 
       "text": [
        "  Name   = Gravitational constant", 
        "  Value  = 6.67384e-11", 
        "  Error  = 8e-15", 
        "  Units  = m3 / (kg s2)", 
        "  Reference = CODATA 2010"
       ]
      }
     ], 
     "prompt_number": 31
    }, 
    {
     "cell_type": "code", 
     "collapsed": false, 
     "input": [
      "F=(c.G* (3*c.M_sun)*(2*u.kg)/(1.5*u.au)**2)", 
      "x=F.to(u.N)", 
      "print x,F"
     ], 
     "language": "python", 
     "outputs": [
      {
       "output_type": "stream", 
       "stream": "stdout", 
       "text": [
        "0.0158179542881 N 3.53998270507e+20 kg m3 / (AU2 s2)"
       ]
      }
     ], 
     "prompt_number": 32
    }, 
    {
     "cell_type": "code", 
     "collapsed": false, 
     "input": [
      "from astropy.time import Time", 
      "t=Time(\"2010-06-01 00:00:00\",format=\"iso\",scale=\"utc\")", 
      "print t, t.jd, t.tt, t.tt.jd"
     ], 
     "language": "python", 
     "outputs": [
      {
       "output_type": "stream", 
       "stream": "stdout", 
       "text": [
        "2010-06-01 00:00:00.000 2455348.5 2010-06-01 00:01:06.184 2455348.50077"
       ]
      }
     ], 
     "prompt_number": 33
    }, 
    {
     "cell_type": "code", 
     "collapsed": false, 
     "input": [
      "import astropy.coordinates as coords", 
      "c=coords.ICRSCoordinates(\"00h42m44.3s +41d16m9s\")", 
      "print c.ra,c.dec, c.ra.hms", 
      "print c.galactic.l, c.galactic.b", 
      "m32=coords.ICRSCoordinates.from_name(\"M32\") #simbad lookup", 
      "print m32"
     ], 
     "language": "python", 
     "outputs": [
      {
       "output_type": "stream", 
       "stream": "stdout", 
       "text": [
        "10d41m04.50000s 41d16m09.00000s (0.0, 42, 44.299999999999784)", 
        "121d10m27.49869s -21d34m22.09254s", 
        "<ICRSCoordinates RA=10.67427 deg, Dec=40.86517 deg>"
       ]
      }, 
      {
       "output_type": "stream", 
       "stream": "stdout", 
       "text": []
      }
     ], 
     "prompt_number": 34
    }, 
    {
     "cell_type": "code", 
     "collapsed": false, 
     "input": [
      "g = c.transform_to(coords.GalacticCoordinates)", 
      "lat=g.l.format(u.degree, sep=\":\", precision=3)", 
      "print lat"
     ], 
     "language": "python", 
     "outputs": [
      {
       "output_type": "stream", 
       "stream": "stdout", 
       "text": [
        "121:10:27.499"
       ]
      }
     ], 
     "prompt_number": 35
    }, 
    {
     "cell_type": "code", 
     "collapsed": false, 
     "input": [
      "from astropy.cosmology import FlatLambdaCDM", 
      "cosmo=FlatLambdaCDM(H0=68, Om0=0.3)", 
      "print cosmo,cosmo.age(0)", 
      "print cosmo.comoving_volume(6.5) #z=6.5", 
      "print cosmo.kpc_proper_per_arcmin(1.1)*1/60 #1arcseconds at z=1.1"
     ], 
     "language": "python", 
     "outputs": [
      {
       "output_type": "stream", 
       "stream": "stdout", 
       "text": [
        "FlatLambdaCDM(H0=68 km / (Mpc s), Om0=0.3, Tcmb0=2.725 K, Neff=3.04, m_nu=[ 0.  0.  0.] eV) 13.8573145662 Gyr", 
        "2.75063274945e+12 Mpc3", 
        "8.41248887702 kpc / arcmin"
       ]
      }
     ], 
     "prompt_number": 4
    }, 
    {
     "cell_type": "code", 
     "collapsed": true, 
     "input": [], 
     "language": "python", 
     "outputs": [], 
     "prompt_number": 36
    }
   ]
  }
 ]
}