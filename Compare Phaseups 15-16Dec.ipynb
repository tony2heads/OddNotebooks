{
 "cells": [
  {
   "cell_type": "code",
   "execution_count": 1,
   "metadata": {
    "collapsed": true,
    "deletable": true,
    "editable": true
   },
   "outputs": [],
   "source": [
    "import katdal\n",
    "import matplotlib.pylab as plt\n",
    "%matplotlib inline\n",
    "import numpy as np\n",
    "import pickle"
   ]
  },
  {
   "cell_type": "code",
   "execution_count": 2,
   "metadata": {
    "collapsed": true,
    "deletable": true,
    "editable": true
   },
   "outputs": [],
   "source": [
    "np.set_printoptions(precision=4,suppress=True)"
   ]
  },
  {
   "cell_type": "code",
   "execution_count": 3,
   "metadata": {
    "collapsed": true,
    "deletable": true,
    "editable": true
   },
   "outputs": [],
   "source": [
    "filename='/var/kat/archive2/data/MeerKATAR1/telescope_products/2016/12/15/1481815509.h5' #PKS1934-63"
   ]
  },
  {
   "cell_type": "code",
   "execution_count": 4,
   "metadata": {
    "collapsed": true,
    "deletable": true,
    "editable": true
   },
   "outputs": [],
   "source": [
    "h = katdal.open(filename)"
   ]
  },
  {
   "cell_type": "code",
   "execution_count": 5,
   "metadata": {
    "collapsed": false,
    "deletable": true,
    "editable": true
   },
   "outputs": [
    {
     "name": "stdout",
     "output_type": "stream",
     "text": [
      "Solutions:\n",
      "    Product             Number of solutions\n",
      "    cal_product_B  ---  1\n",
      "    cal_product_K  ---  1\n",
      "    cal_product_G  ---  2\n"
     ]
    }
   ],
   "source": [
    "# check what cal products we have\n",
    "print 'Solutions:'\n",
    "print '    Product             Number of solutions'\n",
    "for k in h.file['TelescopeState'].keys():\n",
    "    if 'cal_product' in k:\n",
    "        print '   ', k, ' --- ' , len(h.file['TelescopeState'][k])"
   ]
  },
  {
   "cell_type": "markdown",
   "metadata": {
    "deletable": true,
    "editable": true
   },
   "source": [
    "# Antennas"
   ]
  },
  {
   "cell_type": "code",
   "execution_count": 6,
   "metadata": {
    "collapsed": false,
    "deletable": true,
    "editable": true
   },
   "outputs": [
    {
     "name": "stdout",
     "output_type": "stream",
     "text": [
      "[['m006', 'm007', 'm008', 'm010', 'm014', 'm015', 'm021', 'm022', 'm025', 'm031', 'm062', 'm063']]\n",
      "['m006' 'm007' 'm008' 'm010' 'm014' 'm015' 'm021' 'm022' 'm025' 'm031'\n",
      " 'm062' 'm063']\n",
      "['m006' 'm007' 'm008' 'm010' 'm014' 'm015' 'm021' 'm022' 'm025' 'm031'\n",
      " 'm062' 'm063']\n"
     ]
    }
   ],
   "source": [
    "a_list=[]\n",
    "aa=h.file['TelescopeState']['cal_antlist']\n",
    "for i,ai in enumerate(aa):\n",
    "    a_list.append(pickle.loads(ai[1]))\n",
    "a_array=np.array(a_list)\n",
    "print a_list\n",
    "print a_array[0]\n",
    "labels=a_array[0]\n",
    "print labels"
   ]
  },
  {
   "cell_type": "markdown",
   "metadata": {
    "deletable": true,
    "editable": true
   },
   "source": [
    "# Delays"
   ]
  },
  {
   "cell_type": "code",
   "execution_count": 7,
   "metadata": {
    "collapsed": true,
    "deletable": true,
    "editable": true
   },
   "outputs": [],
   "source": [
    "k = h.file['TelescopeState']['cal_product_K']\n",
    "k_list = []\n",
    "for i, ki in enumerate(k):\n",
    "    k_list.append(pickle.loads(ki[1]))\n",
    "k_array = np.array(k_list)\n",
    "\n",
    "k_0 = k_array[:,0,:]*1e9\n",
    "k_1 = k_array[:,1,:]*1e9"
   ]
  },
  {
   "cell_type": "code",
   "execution_count": 8,
   "metadata": {
    "collapsed": false,
    "deletable": true,
    "editable": true
   },
   "outputs": [
    {
     "data": {
      "text/plain": [
       "(1, 2, 12)"
      ]
     },
     "execution_count": 8,
     "metadata": {},
     "output_type": "execute_result"
    }
   ],
   "source": [
    "k_array.shape #Times,Pols,Antennas"
   ]
  },
  {
   "cell_type": "code",
   "execution_count": 9,
   "metadata": {
    "collapsed": false,
    "deletable": true,
    "editable": true
   },
   "outputs": [
    {
     "name": "stdout",
     "output_type": "stream",
     "text": [
      "POL 0: \n",
      "[ 139.1905   42.1241  107.6369   14.957    81.8807  122.574   485.4966\n",
      "  467.8722   -0.     -140.5337  106.7198  104.1275] \n",
      "[ 139.1905   42.1241  107.6369   14.957    81.8807  122.574   485.4966\n",
      "  467.8722   -0.     -140.5337  106.7198  104.1275]\n",
      "POL 1: \n",
      "[ 141.1116   40.3584  106.6584  107.2526   82.0427  120.8542  483.2259\n",
      "  465.5732   -0.     -140.6611  101.4475   98.7109] \n",
      "[ 141.1116   40.3584  106.6584  107.2526   82.0427  120.8542  483.2259\n",
      "  465.5732   -0.     -140.6611  101.4475   98.7109]\n",
      "Differences\n",
      "Pol 0: [ 0.  0.  0.  0.  0.  0.  0.  0.  0.  0.  0.  0.] \n",
      "Pol 1:  [ 0.  0.  0.  0.  0.  0.  0.  0.  0.  0.  0.  0.]\n"
     ]
    }
   ],
   "source": [
    "# print delays at start and end\n",
    "print 'POL 0: \\n', k_0[0], \"\\n\",k_0[-1]\n",
    "print 'POL 1: \\n', k_1[0],\"\\n\" ,k_1[-1]\n",
    "print \"Differences\\nPol 0:\", k_0[-1]-k_0[0],\"\\nPol 1: \",k_1[-1]- k_1[0]"
   ]
  },
  {
   "cell_type": "markdown",
   "metadata": {
    "deletable": true,
    "editable": true
   },
   "source": [
    "# Gains"
   ]
  },
  {
   "cell_type": "code",
   "execution_count": 10,
   "metadata": {
    "collapsed": false,
    "deletable": true,
    "editable": true
   },
   "outputs": [
    {
     "name": "stdout",
     "output_type": "stream",
     "text": [
      "(2, 2, 12)\n"
     ]
    }
   ],
   "source": [
    "g = h.file['TelescopeState']['cal_product_G']\n",
    "g_list = []\n",
    "for i, gi in enumerate(g):\n",
    "    g_list.append(pickle.loads(gi[1]))\n",
    "g_array = np.array(g_list)\n",
    "print g_array.shape\n",
    "\n",
    "g_0 = g_array[:,0,:]\n",
    "g_1 = g_array[:,1,:]"
   ]
  },
  {
   "cell_type": "code",
   "execution_count": 11,
   "metadata": {
    "collapsed": false,
    "deletable": true,
    "editable": true
   },
   "outputs": [
    {
     "name": "stdout",
     "output_type": "stream",
     "text": [
      "Pol 0\n",
      "[ 0.9992  1.002   0.9998  1.0013  0.9992  1.0003  0.9993  1.0001  1.0005\n",
      "  1.0009  1.0011  1.002 ] \n",
      "[ 0.9986  1.0007  0.9977  1.0023  1.0027  0.9976  0.9966  0.9981  0.9998\n",
      "  1.0001  0.9975  0.9955]\n",
      "Pol 1\n",
      "[ 0.9985  1.0013  1.001   1.0013  0.9998  1.      0.9988  1.0007  0.9997\n",
      "  1.0006  1.0012  1.0036] \n",
      "[ 1.0003  1.0019  0.9986  1.0005  1.001   0.9996  0.9974  0.9998  0.9992\n",
      "  0.9991  0.9955  0.9887]\n"
     ]
    }
   ],
   "source": [
    "# Print values of gain at start and end\n",
    "\n",
    "print \"Pol 0\\n\",np.abs(g_0)[0],\"\\n\",np.abs(g_0)[-1]\n",
    "print \"Pol 1\\n\",np.abs(g_1)[0],\"\\n\",np.abs(g_1)[-1]"
   ]
  },
  {
   "cell_type": "markdown",
   "metadata": {
    "deletable": true,
    "editable": true
   },
   "source": [
    "# Phases"
   ]
  },
  {
   "cell_type": "code",
   "execution_count": 12,
   "metadata": {
    "collapsed": false,
    "deletable": true,
    "editable": true
   },
   "outputs": [
    {
     "name": "stdout",
     "output_type": "stream",
     "text": [
      "Pol 0\n",
      "[  57.3417   69.689   133.4294   58.0222  142.1045   79.9885  120.3601\n",
      "   67.9277   -0.      -13.8514  115.8707  -15.7258] \n",
      "[  57.7161   70.4728  133.8514   57.5877  141.1171   79.3808  120.7162\n",
      "   69.2219    0.      -13.9343  116.3089  -15.1749]\n",
      "Pol 1\n",
      "[  40.5693   95.8538  100.7889   70.8848   71.1169   60.5218  107.0404\n",
      "   52.6632    0.       39.6722   47.3099   70.2098] \n",
      "[  40.8881   96.6884  101.2249   70.5253   70.1222   59.945   107.4587\n",
      "   54.0389    0.       39.6002   47.7814   70.808 ]\n"
     ]
    }
   ],
   "source": [
    "#Before \n",
    "print \"Pol 0\\n\",np.rad2deg(np.angle(g_0)[0]),\"\\n\",np.rad2deg(np.angle(g_0)[-1])\n",
    "print \"Pol 1\\n\",np.rad2deg(np.angle(g_1)[0]),\"\\n\",np.rad2deg(np.angle(g_1)[-1])"
   ]
  },
  {
   "cell_type": "code",
   "execution_count": 13,
   "metadata": {
    "collapsed": true,
    "deletable": true,
    "editable": true
   },
   "outputs": [],
   "source": [
    "DelayH=k_0\n",
    "DelayV=k_1\n",
    "AmpH_Start=np.abs(g_0)[0]\n",
    "AmpH_End=np.abs(g_0)[-1]\n",
    "AmpV_Start=np.abs(g_1)[0]\n",
    "AmpV_End=np.abs(g_1)[-1]\n",
    "PhaseH_Start=np.rad2deg(np.angle(g_0)[0])\n",
    "PhaseH_End=np.rad2deg(np.angle(g_0)[-1])\n",
    "PhaseV_Start=np.rad2deg(np.angle(g_1)[0])\n",
    "PhaseV_End=np.rad2deg(np.angle(g_1)[-1])"
   ]
  },
  {
   "cell_type": "code",
   "execution_count": 14,
   "metadata": {
    "collapsed": false,
    "deletable": true,
    "editable": true
   },
   "outputs": [
    {
     "name": "stdout",
     "output_type": "stream",
     "text": [
      "[ 16.7724 -26.1648  32.6405 -12.8626  70.9876  19.4666  13.3197  15.2644\n",
      "  -0.     -53.5236  68.5608 -85.9355]\n",
      "[ 16.8281 -26.2156  32.6264 -12.9377  70.9949  19.4359  13.2575  15.1831\n",
      "   0.     -53.5345  68.5275 -85.983 ]\n"
     ]
    }
   ],
   "source": [
    "print PhaseH_Start-PhaseV_Start\n",
    "print PhaseH_End-PhaseV_End"
   ]
  },
  {
   "cell_type": "code",
   "execution_count": 15,
   "metadata": {
    "collapsed": true,
    "deletable": true,
    "editable": true
   },
   "outputs": [],
   "source": [
    "#filename='/var/kat/archive2/data/MeerKATAR1/telescope_products/2016/12/16/1481853606.h5'  # BAD !!\n",
    "filename='/var/kat/archive2/data/MeerKATAR1/telescope_products/2016/12/16/1481893206.h5' #PKS1934-63\n",
    "h = katdal.open(filename)"
   ]
  },
  {
   "cell_type": "code",
   "execution_count": 16,
   "metadata": {
    "collapsed": true,
    "deletable": true,
    "editable": true
   },
   "outputs": [],
   "source": [
    "k = h.file['TelescopeState']['cal_product_K']\n",
    "k_list = []\n",
    "for i, ki in enumerate(k):\n",
    "    k_list.append(pickle.loads(ki[1]))\n",
    "k_array = np.array(k_list)\n",
    "\n",
    "k_0 = k_array[:,0,:]*1e9\n",
    "k_1 = k_array[:,1,:]*1e9"
   ]
  },
  {
   "cell_type": "code",
   "execution_count": 17,
   "metadata": {
    "collapsed": false,
    "deletable": true,
    "editable": true
   },
   "outputs": [
    {
     "name": "stdout",
     "output_type": "stream",
     "text": [
      "(16, 2, 12)\n"
     ]
    }
   ],
   "source": [
    "g = h.file['TelescopeState']['cal_product_G']\n",
    "g_list = []\n",
    "for i, gi in enumerate(g):\n",
    "    g_list.append(pickle.loads(gi[1]))\n",
    "g_array = np.array(g_list)\n",
    "print g_array.shape\n",
    "\n",
    "g_0 = g_array[:,0,:]\n",
    "g_1 = g_array[:,1,:]"
   ]
  },
  {
   "cell_type": "code",
   "execution_count": 18,
   "metadata": {
    "collapsed": false,
    "deletable": true,
    "editable": true
   },
   "outputs": [],
   "source": [
    "dH=np.vstack((DelayH,k_0))\n",
    "dV=np.vstack((DelayV,k_1))\n",
    "aHS=np.vstack((AmpH_Start,np.abs(g_0)[0]))\n",
    "aHE=np.vstack((AmpH_End,np.abs(g_0)[-1]))\n",
    "aVS=np.vstack((AmpV_Start,np.abs(g_1)[-1]))\n",
    "aVE=np.vstack((AmpV_End,np.abs(g_1)[-1]))\n",
    "pHS=np.vstack((PhaseH_Start,np.rad2deg(np.angle(g_0)[0])))\n",
    "pHE=np.vstack((PhaseH_Start,np.rad2deg(np.angle(g_0)[-1])))\n",
    "pVS=np.vstack((PhaseH_Start,np.rad2deg(np.angle(g_1)[0])))\n",
    "pVE=np.vstack((PhaseH_Start,np.rad2deg(np.angle(g_1)[-1])))"
   ]
  },
  {
   "cell_type": "code",
   "execution_count": 19,
   "metadata": {
    "collapsed": false,
    "deletable": true,
    "editable": true
   },
   "outputs": [
    {
     "name": "stdout",
     "output_type": "stream",
     "text": [
      "[[  57.3417   69.689   133.4294   58.0222  142.1045   79.9885  120.3601\n",
      "    67.9277   -0.      -13.8514  115.8707  -15.7258]\n",
      " [  61.1163   73.6873  124.4256   62.2384  138.6618   75.7357  124.566\n",
      "    69.0931    0.       -6.8527  145.8431   29.6805]] \n",
      "\n",
      "[[  57.3417   69.689   133.4294   58.0222  142.1045   79.9885  120.3601\n",
      "    67.9277   -0.      -13.8514  115.8707  -15.7258]\n",
      " [  71.9142   76.7162  132.3263   77.0473  150.8744   78.8461  112.4293\n",
      "    57.8154    0.        7.7902  137.0078   45.7573]]\n"
     ]
    }
   ],
   "source": [
    "print pHS,\"\\n\\n\",pHE"
   ]
  },
  {
   "cell_type": "code",
   "execution_count": null,
   "metadata": {
    "collapsed": true,
    "deletable": true,
    "editable": true
   },
   "outputs": [],
   "source": []
  },
  {
   "cell_type": "code",
   "execution_count": null,
   "metadata": {
    "collapsed": true,
    "deletable": true,
    "editable": true
   },
   "outputs": [],
   "source": []
  },
  {
   "cell_type": "code",
   "execution_count": null,
   "metadata": {
    "collapsed": true,
    "deletable": true,
    "editable": true
   },
   "outputs": [],
   "source": []
  }
 ],
 "metadata": {
  "kernelspec": {
   "display_name": "Python 2",
   "language": "python",
   "name": "python2"
  },
  "language_info": {
   "codemirror_mode": {
    "name": "ipython",
    "version": 2
   },
   "file_extension": ".py",
   "mimetype": "text/x-python",
   "name": "python",
   "nbconvert_exporter": "python",
   "pygments_lexer": "ipython2",
   "version": "2.7.6"
  }
 },
 "nbformat": 4,
 "nbformat_minor": 0
}
