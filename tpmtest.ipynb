{
 "metadata": {
  "name": "",
  "signature": "sha256:163e3954524dd469a8cf9d4dacae532c580c1933cd3b0f873b2bbffbb20f78ec"
 },
 "nbformat": 3,
 "nbformat_minor": 0,
 "worksheets": [
  {
   "cells": [
    {
     "cell_type": "code",
     "collapsed": true,
     "input": [
      "#%loadpy /home/tony/Desktop/PythonScripts/Coords/tpmtest.py"
     ],
     "language": "python",
     "metadata": {},
     "outputs": [],
     "prompt_number": 60
    },
    {
     "cell_type": "code",
     "collapsed": false,
     "input": [
      "# Take coordinates of M100 through all states.\n",
      "from pytpm import tpm\n",
      "\"\"\"\n",
      "States\n",
      " 0 Null\n",
      " 1 helio mean FK4\n",
      " 2 helio mean FK5\n",
      " 3 IAU 1980 ecliptic\n",
      " 4 IAU 1958 Galactic  \n",
      " 5 Helio. mean FK4              USE THIS FOR B1950\n",
      " 6 Helio. mean FK5 (like 03??)  USE THIS FOR J2000\n",
      " 7 Geoc. mean FK5\n",
      " 8 S07 + Light Defl.\n",
      " 9 S08 + Aberration \n",
      "10 S09 + Precession\n",
      "11 Geoc. app. FK5  \n",
      "12 Topo. mean FK5\n",
      "13 S12 + Light Defl.\n",
      "14 S13 + Aberration \n",
      "15 S14 + Precession\n",
      "16 Topo. app. FK5\n",
      "17 Topo. app. HA/Dec\n",
      "18 Topo. app. Az/El\n",
      "19 Topo. obs. Az/El\n",
      "20 Topo. obs. HA/Dec \n",
      "21 Topo. obs. WHAM  (only relevant to WHAM telescope)\n",
      "\n",
      "\"\"\"\n",
      "\n",
      "\n",
      "#ra = tpm.h2r(12+22/60.0+54.899/3600.0)   # setup source\n",
      "ra = tpm.h2r(19 + 39/60. + 25.03/3600.)\n",
      "#de = tpm.d2r(15+49/60.0+20.57/3600.0)\n",
      "de = tpm.d2r( -1*(63+42/60.0 + 45.63/3600.0))\n",
      "#PKS 1934-638 \n",
      "ep = tpm.J2000\n",
      "eq = tpm.J2000\n",
      "s1 = tpm.TPM_S06  #heliocentric mean FK5 J2000\n",
      "s2 = tpm.TPM_S00  # null\n",
      "tstate = tpm.TSTATE()\n",
      "pvec = tpm.PVEC()\n",
      " \n",
      "\n",
      "for i in range(tpm.N_TPM_STATES):\n",
      "    tpm.tpm_data(tstate, tpm.TPM_INIT)\n",
      "    tstate.utc = tpm.J2000\n",
      "    #tstate.lon = tpm.d2r(-111.598333) # lonitude of KPNO deg West)\n",
      "    #tstate.lat = tpm.d2r(31.956389)   # latitude of KPNO deg (North)\n",
      "    #tstate.alt = 2093.093             # altitude of KPNO m\n",
      "    tstate.lon=tpm.d2r(21.41068) #longitude of KAT \n",
      "    tstate.lat=tpm.d2r(-30.72148) # latitude of KAT\n",
      "    tstate.alt=1038. #altitiude of KAT\n",
      "    tstate.utc= tpm.utc_now()+7 +1.2/24  # next week 1.2 hrs later\n",
      "    tstate.delta_ut = tpm.delta_UT(tstate.utc)\n",
      "    \n",
      "    tpm.tpm_data(tstate, tpm.TPM_ALL) #every correction except refraction\n",
      "\n",
      "    v6 = tpm.V6S()\n",
      "    v6.r = 1e9\n",
      "    v6.alpha = ra\n",
      "    v6.delta = de\n",
      "\n",
      "\n",
      "    pvec[s1] = v6.s2c()\n",
      "    s2 = i\n",
      "    tpm.tpm(pvec, s1, s2, ep, eq, tstate)\n",
      "    v6 = pvec[s2].c2s()\n",
      "\n",
      "    ra1 = v6.alpha\n",
      "    de1 = v6.delta\n",
      "    ra1_d = tpm.r2d(ra1)\n",
      "    if ra1_d < 0.0 : ra1_d += 360.0\n",
      "    de1_d = tpm.r2d(de1)\n",
      "    if de1_d < 0.0 : de1_d += 360.0\n",
      "\n",
      "    s = \"{0:02d}-{1:02d} {2:<17s} {3:s} {4:s} {5:8.4f} {6:8.4f}\"\n",
      "    print s.format(s1, s2, tpm.tpm_state(s2),\n",
      "                   tpm.fmt_alpha(ra1), tpm.fmt_delta(de1), ra1_d,\n",
      "                   de1_d)\n",
      "print tstate.utc, tstate.last, tstate.gmst\n"
     ],
     "language": "python",
     "metadata": {},
     "outputs": [
      {
       "output_type": "stream",
       "stream": "stdout",
       "text": [
        "06-00 null               19H 39M 25.029S -63D 42' 45.630\" 294.8543 296.2873\n",
        "06-01 Helio. mean FK4    19H 39M 24.902S -63D 42' 45.711\" 294.8538 296.2873\n",
        "06-02 Helio. mean FK5    19H 39M 25.029S -63D 42' 45.630\" 294.8543 296.2873\n",
        "06-03 IAU 1980 Ecliptic  18H 57M 34.509S -41D 30' 42.916\" 284.3938 318.4881\n",
        "06-04 IAU 1958 Galactic  22H 10M 59.077S -29D 23' 21.770\" 332.7462 330.6106\n",
        "06-05 Helio. mean FK4    19H 34M 47.617S -63D 49' 37.690\" 293.6984 296.1729\n",
        "06-06 Helio. mean FK5    19H 39M 25.029S -63D 42' 45.630\" 294.8543 296.2873\n",
        "06-07 Geoc. mean FK5     19H 39M 25.029S -63D 42' 45.630\" 294.8543 296.2873\n",
        "06-08 S07 + Light Defl.  19H 39M 25.030S -63D 42' 45.628\" 294.8543 296.2873\n",
        "06-09 S08 + Aberration   19H 39M 27.917S -63D 42' 46.866\" 294.8663 296.2870\n",
        "06-10 S09 + Precession   19H 40M 48.457S -63D 40' 43.215\" 295.2019 296.3213\n",
        "06-11 Geoc. app. FK5     19H 40M 48.846S -63D 40' 34.085\" 295.2035 296.3239\n",
        "06-12 Topo. mean FK5     19H 39M 25.029S -63D 42' 45.630\" 294.8543 296.2873\n",
        "06-13 S12 + Light Defl.  19H 39M 25.030S -63D 42' 45.628\" 294.8543 296.2873\n",
        "06-14 S13 + Aberration   19H 39M 27.921S -63D 42' 46.620\" 294.8663 296.2870\n",
        "06-15 S14 + Precession   19H 40M 48.461S -63D 40' 42.969\" 295.2019 296.3214\n",
        "06-16 Topo. app. FK5     19H 40M 48.849S -63D 40' 33.840\" 295.2035 296.3239\n",
        "06-17 Topo. app. HA/Dec  18H 19M 01.740S -63D 40' 33.840\" 274.7573 296.3239\n",
        "06-18 Topo. app. Az/El   09H 58M 11.999S +29D 18' 28.942\" 149.5500  29.3080\n",
        "06-19 Topo. obs. Az/El   09H 58M 11.999S +29D 20' 16.022\" 149.5500  29.3378\n",
        "06-20 Topo. obs. HA/Dec  18H 19M 17.559S -63D 40' 53.757\" 274.8232 296.3184\n",
        "06-21 Topo. obs. WHAM    21H 11M 50.249S -48D 43' 16.190\" 317.9594 311.2788\n",
        "2456870.16486 3.66450714918 3.29078456056\n"
       ]
      }
     ],
     "prompt_number": 61
    },
    {
     "cell_type": "code",
     "collapsed": true,
     "input": [
      "print tstate.obs_m.x , tstate.obs_m.y , tstate.obs_m.z"
     ],
     "language": "python",
     "metadata": {},
     "outputs": [
      {
       "output_type": "stream",
       "stream": "stdout",
       "text": [
        "3.41577984112e-05 1.33936402757e-05 -2.16575078139e-05\n"
       ]
      }
     ],
     "prompt_number": 62
    },
    {
     "cell_type": "code",
     "collapsed": false,
     "input": [
      "v6.rdot # AU/day??"
     ],
     "language": "python",
     "metadata": {},
     "outputs": [
      {
       "metadata": {},
       "output_type": "pyout",
       "prompt_number": 63,
       "text": [
        "0.005102710543231839"
       ]
      }
     ],
     "prompt_number": 63
    },
    {
     "cell_type": "code",
     "collapsed": false,
     "input": [
      "v6.r"
     ],
     "language": "python",
     "metadata": {},
     "outputs": [
      {
       "metadata": {},
       "output_type": "pyout",
       "prompt_number": 64,
       "text": [
        "999970524.1573066"
       ]
      }
     ],
     "prompt_number": 64
    },
    {
     "cell_type": "code",
     "collapsed": false,
     "input": [
      "tstate.utc - tpm.utc_now() "
     ],
     "language": "python",
     "metadata": {},
     "outputs": [
      {
       "metadata": {},
       "output_type": "pyout",
       "prompt_number": 65,
       "text": [
        "7.0499884258024395"
       ]
      }
     ],
     "prompt_number": 65
    },
    {
     "cell_type": "code",
     "collapsed": false,
     "input": [
      "v6.rdot* 150e6/(24*60*60)"
     ],
     "language": "python",
     "metadata": {},
     "outputs": [
      {
       "metadata": {},
       "output_type": "pyout",
       "prompt_number": 66,
       "text": [
        "8.858872470888608"
       ]
      }
     ],
     "prompt_number": 66
    },
    {
     "cell_type": "code",
     "collapsed": false,
     "input": [
      "tpm.j2y(tstate.utc)"
     ],
     "language": "python",
     "metadata": {},
     "outputs": [
      {
       "metadata": {},
       "output_type": "pyout",
       "prompt_number": 67,
       "text": [
        "2014.5826434550986"
       ]
      }
     ],
     "prompt_number": 67
    },
    {
     "cell_type": "code",
     "collapsed": false,
     "input": [
      "tpm.j2gcal(tstate.utc)"
     ],
     "language": "python",
     "metadata": {},
     "outputs": [
      {
       "metadata": {},
       "output_type": "pyout",
       "prompt_number": 68,
       "text": [
        "{'dd': 31, 'm': 7, 'y': 2014}"
       ]
      }
     ],
     "prompt_number": 68
    },
    {
     "cell_type": "code",
     "collapsed": false,
     "input": [
      "tpm.j2dow(tstate.utc)"
     ],
     "language": "python",
     "metadata": {},
     "outputs": [
      {
       "metadata": {},
       "output_type": "pyout",
       "prompt_number": 69,
       "text": [
        "4"
       ]
      }
     ],
     "prompt_number": 69
    },
    {
     "cell_type": "code",
     "collapsed": false,
     "input": [],
     "language": "python",
     "metadata": {},
     "outputs": [],
     "prompt_number": 69
    },
    {
     "cell_type": "code",
     "collapsed": false,
     "input": [],
     "language": "python",
     "metadata": {},
     "outputs": [],
     "prompt_number": 69
    }
   ],
   "metadata": {}
  }
 ]
}