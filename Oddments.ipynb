{
 "metadata": {
  "name": "",
  "signature": "sha256:d9cb7e5921f2e60edf5e3e75b74b0957c1a061f4559eda527adfaa3bd0fdf852"
 },
 "nbformat": 3,
 "nbformat_minor": 0,
 "worksheets": [
  {
   "cells": [
    {
     "cell_type": "code",
     "collapsed": false,
     "input": [
      "\"\"\"\n",
      "Odd formulae\n",
      "To do with sensitivity, beam etc,\n",
      "\"\"\"\n",
      "import math as m\n",
      "\n",
      "lat=-30.7 #degrees south\n",
      "\n",
      "slat=m.sin(m.radians(lat))\n",
      "clat=m.cos(m.radians(lat))\n",
      "#\n",
      "\n",
      "dec=-50.\n",
      "ha=-33.\n",
      "\n",
      "sdec=m.sin(m.radians(dec))\n",
      "cdec=m.cos(m.radians(dec))\n",
      "cha=m.cos(m.radians(ha))\n",
      "sha=m.sin(m.radians(ha))\n",
      "#print clat,slat,sdec,cdec,cha,sha"
     ],
     "language": "python",
     "metadata": {},
     "outputs": [],
     "prompt_number": 56
    },
    {
     "cell_type": "code",
     "collapsed": false,
     "input": [],
     "language": "python",
     "metadata": {},
     "outputs": [],
     "prompt_number": 56
    },
    {
     "cell_type": "code",
     "collapsed": false,
     "input": [
      "parallac=m.atan2(sha*clat,(cdec*slat-sdec*clat*cha))\n",
      "x=sdec*slat+cdec*cha*clat\n",
      "elev=m.asin(x)\n",
      "az=cdec*sha/m.sqrt(1-x*x)\n",
      "#az=(elev-sdec*slat)/(cdec*clat)\n",
      "az=az+m.pi\n",
      "#print m.degrees(parallac), m.degrees(elev), m.degrees(az)\n",
      "print (\"Azimuth %6.3f Elevation %6.3f Parallactic angle %6.3f\") %(m.degrees(az),m.degrees(elev) , m.degrees(parallac))"
     ],
     "language": "python",
     "metadata": {},
     "outputs": [
      {
       "output_type": "stream",
       "stream": "stdout",
       "text": [
        "Azimuth 141.369 Elevation 58.719 Parallactic angle -64.413\n"
       ]
      }
     ],
     "prompt_number": 57
    },
    {
     "cell_type": "code",
     "collapsed": false,
     "input": [
      "min=15. #minimum elevation\n",
      "\n",
      "smin=m.sin(m.radians(min))\n",
      "y=(smin-sdec*slat)/(cdec*clat)\n",
      "#print y\n",
      "if y <1.0 and y > -1.0:\n",
      "    amin=m.acos(y)\n",
      "    print (\"Minimum elevation reached at HA %6.3f\") %(m.degrees(amin))\n",
      "    print (\"Total time up %6.2fhr\") %((m.degrees(amin))*2/15)\n",
      "else:\n",
      "    print(\"Circumpolar\")"
     ],
     "language": "python",
     "metadata": {},
     "outputs": [
      {
       "output_type": "stream",
       "stream": "stdout",
       "text": [
        "Minimum elevation reached at HA 103.847\n",
        "Total time up  13.85hr\n"
       ]
      }
     ],
     "prompt_number": 58
    },
    {
     "cell_type": "code",
     "collapsed": false,
     "input": [
      "\"\"\"\n",
      "Bandwidth,integration, baselines, freq\n",
      "delay beams, fringe beams\n",
      "\n",
      "\"\"\"\n",
      "# a few constants\n",
      "ar= 3600*m.degrees(1) #arcseconds per radian - about 206265\n",
      "day=23.9344696*3600 # sideral day in sec\n",
      "c=299792.458 #km/s\n",
      "#print ar,day,c\n",
      "\n",
      "\n",
      "\n",
      "bw=400. #MHz\n",
      "t=5. #sec\n",
      "d=8.0 #km\n",
      "f=1.4 #GHz\n",
      "\n",
      "lam=0.0001*c/f #wavelength/cm\n",
      "\n",
      "res=lam*0.00001*ar/d  #arcsec\n",
      "print (\"Wavelength %6.2fcm  \\t resolution %6.2f\\\"\") %(lam,res) "
     ],
     "language": "python",
     "metadata": {},
     "outputs": [
      {
       "output_type": "stream",
       "stream": "stdout",
       "text": [
        "Wavelength  21.41cm  \t resolution   5.52\"\n"
       ]
      }
     ],
     "prompt_number": 59
    },
    {
     "cell_type": "code",
     "collapsed": false,
     "input": [
      "delaybeam=c*ar*0.000001/(d*bw)  #arcseconds\n",
      "print delaybeam"
     ],
     "language": "python",
     "metadata": {},
     "outputs": [
      {
       "output_type": "stream",
       "stream": "stdout",
       "text": [
        "19.3239478949\n"
       ]
      }
     ],
     "prompt_number": 60
    },
    {
     "cell_type": "markdown",
     "metadata": {},
     "source": [
      "If field size is $\\theta$ basline B wavelength $\\lambda$  then the maximum difference in fringe rate (Hz) and there are DAY seconds per day\n",
      "\n",
      "$df = \\frac{B}{\\lambda} \\theta \\frac{2\\pi}{DAY}$\n",
      "\n"
     ]
    },
    {
     "cell_type": "code",
     "collapsed": false,
     "input": [
      "theta=3600 #arcseonds\n",
      "df=d*theta*2*m.pi*1e5/(lam*ar*day)\n",
      "print (\"Peak difference in fringe rate %5.3f Hz\") %(df) \n",
      "#maximum integration time = quarter period\n",
      "tmax=0.25/df\n",
      "print (\"Maximum integration time %5.1fs\") %(tmax)\n",
      "\"\"\"\n",
      "or the other way about\n",
      "\n",
      "df=d*theta*2*m.pi*1e5/(lam*ar*day) = 0.25/tmax\n",
      "\"\"\"\n",
      "\n",
      "size= 0.25 *lam*ar*day/(d*2*m.pi*1e5*t)\n",
      "print (\"field size for no smearing at integration time %4.1fs is %6.2fdeg\") %(t,size/3600)\n"
     ],
     "language": "python",
     "metadata": {},
     "outputs": [
      {
       "output_type": "stream",
       "stream": "stdout",
       "text": [
        "Peak difference in fringe rate 0.048 Hz\n",
        "Maximum integration time   5.3s\n",
        "field size for no smearing at integration time  5.0s is   1.05deg\n"
       ]
      }
     ],
     "prompt_number": 61
    },
    {
     "cell_type": "code",
     "collapsed": false,
     "input": [
      "delaybm2=61838/(d*bw)\n",
      "print (\"Delay beam estimates %6.2f %6.2f arcsec\") %( delaybeam, delaybm2)"
     ],
     "language": "python",
     "metadata": {},
     "outputs": [
      {
       "output_type": "stream",
       "stream": "stdout",
       "text": [
        "Delay beam estimates  19.32  19.32 arcsec\n"
       ]
      }
     ],
     "prompt_number": 62
    },
    {
     "cell_type": "code",
     "collapsed": false,
     "input": [
      "wbig= m.sqrt(res/(ar)*m.pi)*ar\n",
      "print wbig, \"Arcsec\""
     ],
     "language": "python",
     "metadata": {},
     "outputs": [
      {
       "output_type": "stream",
       "stream": "stdout",
       "text": [
        "1891.47850227 Arcsec\n"
       ]
      }
     ],
     "prompt_number": 63
    },
    {
     "cell_type": "code",
     "collapsed": false,
     "input": [
      "print(\"Delay beam %6.2fdeg  and W significant at %6.2fdeg \") %(delaybeam/3600,wbig/3600)"
     ],
     "language": "python",
     "metadata": {},
     "outputs": [
      {
       "output_type": "stream",
       "stream": "stdout",
       "text": [
        "Delay beam   0.01deg  and W significant at   0.53deg \n"
       ]
      }
     ],
     "prompt_number": 64
    },
    {
     "cell_type": "code",
     "collapsed": false,
     "input": [
      "\"\"\"\n",
      "Field size, averaging period\n",
      "\"\"\"\n",
      "field=3600            #1 degree\n",
      "period= 7090*lam/(d*field)\n",
      "print(\"Max aveaging time %6.1fs For 1/4 period of fringe beating\") %(period)"
     ],
     "language": "python",
     "metadata": {},
     "outputs": [
      {
       "output_type": "stream",
       "stream": "stdout",
       "text": [
        "Max aveaging time    5.3s For 1/4 period of fringe beating\n"
       ]
      }
     ],
     "prompt_number": 65
    },
    {
     "cell_type": "code",
     "collapsed": false,
     "input": [
      "\"\"\"\n",
      "Telescope diam, Tsys,Efficiency\n",
      "\n",
      "\"\"\"\n",
      "diam=13.5  #m\n",
      "eff=0.7    #fractional efficiency\n",
      "Tsys=20       #K\n",
      "gain=diam*diam*0.00028*eff #K/Jy - uses various things like boltzmann constant, speed of light\n",
      "sefd=Tsys/gain #Jy\n",
      "ae_tsys = m.pi*diam*diam*eff/(4*Tsys)\n",
      "print (\"Gain %6.4fK/Jy \\t SEFD %6.1fJy\\t Ae/Tsys %6.2fK/m^2\") %(gain,sefd,ae_tsys)   # for a single dish"
     ],
     "language": "python",
     "metadata": {},
     "outputs": [
      {
       "output_type": "stream",
       "stream": "stdout",
       "text": [
        "Gain 0.0357K/Jy \t SEFD  559.9Jy\t Ae/Tsys   5.01K/m^2\n"
       ]
      }
     ],
     "prompt_number": 66
    },
    {
     "cell_type": "code",
     "collapsed": false,
     "input": [
      "\"\"\"\n",
      "sensitivity per baseline, per integration, per bandwidth\n",
      "\"\"\"\n",
      "mjy=1.1*sefd/(m.sqrt(bw*t)) # in one integration per bandwidth\n",
      "print(\"Sensitivity %6.2fmJy\") %(mjy)"
     ],
     "language": "python",
     "metadata": {},
     "outputs": [
      {
       "output_type": "stream",
       "stream": "stdout",
       "text": [
        "Sensitivity  13.77mJy\n"
       ]
      }
     ],
     "prompt_number": 67
    },
    {
     "cell_type": "code",
     "collapsed": false,
     "input": [
      "\"\"\"\n",
      "array values\n",
      "\"\"\"\n",
      "nants=64\n",
      "\n",
      "print(\"Gain = %6.2fK/Jy  \\tSEFD = %6.2f \\t  Ae/Tsys  %6.2f \\t Sensitivity per integration %6.4fmJy \") \\\n",
      "%(gain*nants,sefd/nants, ae_tsys*nants, mjy/m.sqrt(nants*(nants-1)/2) )"
     ],
     "language": "python",
     "metadata": {},
     "outputs": [
      {
       "output_type": "stream",
       "stream": "stdout",
       "text": [
        "Gain =   2.29K/Jy  \tSEFD =   8.75 \t  Ae/Tsys  320.63 \t Sensitivity per integration 0.3067mJy \n"
       ]
      }
     ],
     "prompt_number": 70
    },
    {
     "cell_type": "code",
     "collapsed": false,
     "input": [],
     "language": "python",
     "metadata": {},
     "outputs": []
    }
   ],
   "metadata": {}
  }
 ]
}