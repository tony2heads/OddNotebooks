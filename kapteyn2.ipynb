{
 "metadata": {
  "name": "kapteyn"
 }, 
 "name": "kapteyn", 
 "nbformat": 2, 
 "worksheets": [
  {
   "cells": [
    {
     "cell_type": "code", 
     "collapsed": false, 
     "input": "import numpy as np\nfrom kapteyn.celestial import *\nimport kapteyn.wcs as wcs\nxyz = np.asmatrix( (0,0,1.0), 'd' ).T\nxyz2 = dotrans(skymatrix(j2000,icrs), xyz)\nprint xyz2\n#[[ -8.05614894e-08],\n#[ -3.30604145e-08],\n#[  1.00000000e+00]]\n\nprint xyz2[0,0]*(180/n.pi)*3600000\n#-16.6170004827\nprint xyz2[1,0]*(180/n.pi)*3600000\n#-6.8191988238", 
     "language": "python", 
     "outputs": [
      {
       "output_type": "stream", 
       "stream": "stdout", 
       "text": "[[ -8.05614917e-08]\n [ -3.30604088e-08]\n [  1.00000000e+00]]\n-16.6170004827\n-6.8191988238"
      }
     ], 
     "prompt_number": 8
    }, 
    {
     "cell_type": "code", 
     "collapsed": false, 
     "input": "m = skymatrix((eq,'b1950',fk4), gal)[0]\nprint np.array2string(np.array(m), precision=12)\n#[-0.066988739415 -0.872755765852 -0.483538914632]\n#[ 0.492728466075 -0.45034695802   0.744584633283]\n#[-0.867600811151 -0.188374601723  0.460199784784]", 
     "language": "python", 
     "outputs": [
      {
       "output_type": "stream", 
       "stream": "stdout", 
       "text": "[[-0.066988739415 -0.872755765852 -0.483538914632]\n [ 0.492728466075 -0.45034695802   0.744584633283]\n [-0.867600811151 -0.188374601723  0.460199784784]]"
      }
     ], 
     "prompt_number": 9
    }, 
    {
     "cell_type": "code", 
     "collapsed": false, 
     "input": "world_eq = (192.25, 27.4)   # FK4 coordinates of galactic pole\ntran = wcs.Transformation(\"equatorial fk4_no_e B1950.0\", \"galactic\")\nprint tran(world_eq)", 
     "language": "python", 
     "outputs": [
      {
       "output_type": "stream", 
       "stream": "stdout", 
       "text": "(0.0, 90.0)"
      }
     ], 
     "prompt_number": 10
    }, 
    {
     "cell_type": "code", 
     "collapsed": false, 
     "input": "world_eq = np.array([192.25, 27.4])     # FK4 coordinates of galactic pole\ntran1 = wcs.Transformation(\"equatorial fk4_no_e B1950.0\", \"galactic\")\ntran2 = wcs.Transformation((wcs.equatorial, wcs.fk4_no_e, 'B1950.0'), wcs.galactic)\nprint tran1(world_eq)-tran2(world_eq)\n#[ 0.  0.]", 
     "language": "python", 
     "outputs": [
      {
       "output_type": "stream", 
       "stream": "stdout", 
       "text": "[ 0.  0.]"
      }
     ], 
     "prompt_number": 13
    }, 
    {
     "cell_type": "code", 
     "collapsed": false, 
     "input": "for s in skyrefsystems.skyrefs_list:\n    print s.fullname, s.description, s.idnum", 
     "language": "python", 
     "outputs": [
      {
       "output_type": "stream", 
       "stream": "stdout", 
       "text": "EQUATORIAL Equatorial 0\nECLIPTIC Ecliptic 1\nGALACTIC Galactic II 2\nSUPERGALACTIC Supergalactic 3\nFK4 Fourth Fundamental Catalogue 4\nFK4_NO_E FK4 without E-terms 5\nFK5 Fifth Fundamental Catalogue  6\nICRS International Celestial Reference System 7\nDYNJ2000 Dynamic J2000 8"
      }
     ], 
     "prompt_number": 15
    }, 
    {
     "cell_type": "code", 
     "collapsed": false, 
     "input": "ra = 359.9999\ndec = 0.0000123\nprint lon2hms(ra),  lat2dms(dec) # default precision\n#    00h 00m  0.0s +00d 00m  0.0s\nprint lon2hms(ra, 2),  lat2dms(dec, 2)\n#    23h 59m 59.98s +00d 00m  0.04s\nprint lon2hms(ra, 4),  lat2dms(dec, 4)\n#    23h 59m 59.9760s +00d 00m  0.0443s", 
     "language": "python", 
     "outputs": [
      {
       "output_type": "stream", 
       "stream": "stdout", 
       "text": "00h00m00.0s  00d00m00.0s\n23h59m59.98s  00d00m00.04s\n23h59m59.9760s  00d00m00.0443s"
      }
     ], 
     "prompt_number": 20
    }, 
    {
     "cell_type": "code", 
     "collapsed": false, 
     "input": "print MatrixEpoch12Epoch2(1940, 1960, fk4, fk5, 1950)\n#matrix([[  9.99988107e-01,  -4.47301372e-03,  -1.94362889e-03],\n#        [  4.47301372e-03,   9.99989996e-01,  -4.34712255e-06],\n#        [  1.94362889e-03,  -4.34680782e-06,   9.99998111e-01]])", 
     "language": "python", 
     "outputs": [
      {
       "output_type": "stream", 
       "stream": "stdout", 
       "text": "[[  9.99988107e-01  -4.47301372e-03  -1.94362889e-03]\n [  4.47301372e-03   9.99989996e-01  -4.34712255e-06]\n [  1.94362889e-03  -4.34680782e-06   9.99998111e-01]]"
      }
     ], 
     "prompt_number": 22
    }, 
    {
     "cell_type": "code", 
     "collapsed": false, 
     "input": "\"\"\"\nThis function illustrates the core use of module celestial. First it converts \nthe input of world coordinates into a matrix. This matrix is converted to spatial\npositions (X,Y,Z) with function longlat2xyz(). The function dotrans() transforms\nthese positions (X,Y,Z) to positions (X2,Y2,Z2) in the output sky system. \nThen the function xyz2longlat() converts these positions into longitudes \nand latitudes and finally a matrix with these values is returned\n\"\"\"\n\nM = sky2sky( (eq, fk5), gal, (0,0,1.0), (10,20,20) )\nprint M\n#matrix([[ 102.6262244 ,  -50.83256452],\n#        [ 106.78021643,  -41.25289649],\n#        [ 107.9914125 ,  -41.49143448]])\nprint M[2,0]\n#107.99141249678289\nprint M[0]         # Extract first transformed long, lat\n#matrix([[ 102.6262244 ,  -50.83256452]])\nprint M[:,1]       # Extract second column with latitudes\n#matrix([[-50.83256452],\n#        [-41.25289649],\n#        [-41.49143448]])", 
     "language": "python", 
     "outputs": [
      {
       "output_type": "stream", 
       "stream": "stdout", 
       "text": "[[ 102.6262244   -50.83256452]\n [ 106.78021643  -41.25289649]\n [ 107.9914125   -41.49143448]]\n107.991412497\n[[ 102.6262244   -50.83256452]]\n[[-50.83256452]\n [-41.25289649]\n [-41.49143448]]"
      }
     ], 
     "prompt_number": 23
    }, 
    {
     "cell_type": "code", 
     "collapsed": false, 
     "input": "# F for FITS style\n#j for \n#B for \n\nprint epochs('F2008-03-31T8:09')  # should return:\n#    (2008.2474210134737, 2008.2459673739454, 2454556.8395833336)\nprint epochs('F2007-01-14T13:18:59.9')\n#    (2007.0378545262108, 2007.0364267212976, 2454115.0548599539)\nprint epochs(\"j2007.0364267212976\")\n#    (2007.0378545262108, 2007.0364267212976, 2454115.0548599539)\nprint epochs(\"b2007.0378545262108\")\n#    (2007.0378545262108, 2007.0364267212976, 2454115.0548599539)", 
     "language": "python", 
     "outputs": [
      {
       "output_type": "stream", 
       "stream": "stdout", 
       "text": "(2008.2474210134737, 2008.2459673739454, 2454556.8395833336)\n(2007.0378545262108, 2007.0364267212976, 2454115.054859954)\n(2007.0378545262108, 2007.0364267212976, 2454115.054859954)\n(2007.0378545262108, 2007.0364267212976, 2454115.054859954)"
      }
     ], 
     "prompt_number": 25
    }, 
    {
     "cell_type": "code", 
     "collapsed": false, 
     "input": "ep = ['J2000', 'j2000', 'j 2000.5', 'B 2000', 'JD2450123.7',\n      'mJD 24034', 'MJD50123.2', 'rJD50123.2', 'Rjd 23433',\n      'F29/11/57', 'F2000-01-01', 'F2002-04-04T09:42:42.1']\n\nfor epoch in ep:\n   B, J, JD = wcs.epochs(epoch)\n   print \"%24s = B%f, J%f, JD %f\" % (epoch, B, J, JD)", 
     "language": "python", 
     "outputs": [
      {
       "output_type": "stream", 
       "stream": "stdout", 
       "text": "                   J2000 = B2000.001278, J2000.000000, JD 2451545.000000\n                   j2000 = B2000.001278, J2000.000000, JD 2451545.000000\n                j 2000.5 = B2000.501288, J2000.500000, JD 2451727.625000\n                  B 2000 = B2000.000000, J1999.998723, JD 2451544.533398\n             JD2450123.7 = B1996.109887, J1996.108693, JD 2450123.700000\n               mJD 24034 = B1924.680025, J1924.680356, JD 2424034.500000\n              MJD50123.2 = B1996.109887, J1996.108693, JD 2450123.700000\n              rJD50123.2 = B1996.108518, J1996.107324, JD 2450123.200000\n               Rjd 23433 = B1923.033172, J1923.033539, JD 2423433.000000\n               F29/11/57 = B1957.910029, J1957.909651, JD 2436171.500000\n             F2000-01-01 = B1999.999909, J1999.998631, JD 2451544.500000\n  F2002-04-04T09:42:42.1 = B2002.257054, J2002.255728, JD 2452368.904654"
      }
     ], 
     "prompt_number": 26
    }, 
    {
     "cell_type": "code", 
     "collapsed": true, 
     "input": "", 
     "language": "python", 
     "outputs": []
    }
   ]
  }
 ]
}