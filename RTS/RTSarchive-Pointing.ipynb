{
 "cells": [
  {
   "cell_type": "code",
   "execution_count": 82,
   "metadata": {
    "collapsed": true
   },
   "outputs": [],
   "source": [
    "import katarchive\n",
    "import datetime\n"
   ]
  },
  {
   "cell_type": "code",
   "execution_count": 83,
   "metadata": {
    "collapsed": true
   },
   "outputs": [],
   "source": [
    "#%matplotlib inline\n",
    "import numpy as np"
   ]
  },
  {
   "cell_type": "code",
   "execution_count": 84,
   "metadata": {
    "collapsed": true
   },
   "outputs": [],
   "source": [
    "#import matplotlib.pyplot as plt"
   ]
  },
  {
   "cell_type": "code",
   "execution_count": 85,
   "metadata": {
    "collapsed": false
   },
   "outputs": [],
   "source": [
    "import katdal as katfile\n",
    "#import katfile\n",
    "import datetime\n",
    "\n",
    "#import logging\n",
    "#logging.root.setLevel(logging.ERROR)"
   ]
  },
  {
   "cell_type": "code",
   "execution_count": 86,
   "metadata": {
    "collapsed": true
   },
   "outputs": [],
   "source": [
    "katarchive.product_filter.only_rts()"
   ]
  },
  {
   "cell_type": "code",
   "execution_count": 87,
   "metadata": {
    "collapsed": false,
    "scrolled": true
   },
   "outputs": [],
   "source": [
    "#print katarchive.search_archive(startdate='1/11/2015',enddate='31/11/2015')"
   ]
  },
  {
   "cell_type": "code",
   "execution_count": 88,
   "metadata": {
    "collapsed": true
   },
   "outputs": [],
   "source": [
    "start=\"1/11/2015\"\n",
    "end=\"31/11/2015\""
   ]
  },
  {
   "cell_type": "code",
   "execution_count": 89,
   "metadata": {
    "collapsed": false
   },
   "outputs": [
    {
     "name": "stdout",
     "output_type": "stream",
     "text": [
      "Searched using: CAS.ProductTypeName:(RTSTelescopeProduct) AND CAS.ProductTransferStatus:RECEIVED AND Description:Point AND StartTime:[2015-10-31T22:00:00Z TO 2015-11-30T21:59:59Z]\n",
      "Returning 15 results\n"
     ]
    }
   ],
   "source": [
    "#Look for pointing\n",
    "\n",
    "f=katarchive.search_archive(description=\"Point\",startdate=start,enddate=end)\n",
    "\n",
    "start = datetime.datetime.strptime(f[-1].__str__().split('\\'')[3],'%Y-%m-%d %H:%M:%S %Z')\n",
    "end = datetime.datetime.strptime(f[0].__str__().split('\\'')[3],'%Y-%m-%d %H:%M:%S %Z')"
   ]
  },
  {
   "cell_type": "code",
   "execution_count": 90,
   "metadata": {
    "collapsed": false
   },
   "outputs": [
    {
     "name": "stdout",
     "output_type": "stream",
     "text": [
      "First file in run:  2015-11-04T11:30:14\n",
      "Last file in run:  2015-11-23T15:13:09\n"
     ]
    }
   ],
   "source": [
    "print 'First file in run: ' , start.isoformat()\n",
    "print 'Last file in run: ' , end.isoformat()"
   ]
  },
  {
   "cell_type": "code",
   "execution_count": 91,
   "metadata": {
    "collapsed": true
   },
   "outputs": [],
   "source": [
    "f.sort(reverse=1) # newest to the bottom"
   ]
  },
  {
   "cell_type": "code",
   "execution_count": 92,
   "metadata": {
    "collapsed": false
   },
   "outputs": [
    {
     "name": "stdout",
     "output_type": "stream",
     "text": [
      "Offset pointing test using horizon to horizon sources\n",
      "/var/kat/archive/data/RTS/telescope_products/2015/11/04\n",
      "1446629413.h5\n",
      "[u'm062', u'm063']\n",
      "[u'1921-293', u'1830-210']\n",
      "/home/kat/RTS/2.4-Gain_Curve/point_source_scan.py -f 12500.5 -r 1 -n off -m 50400 --stow-when-done --proposal-id=COMM-RTS --product=c856M4k --horizon 16 --fine /home/kat/RTS/models/offset_pointing_two_source_test.csv --sb-id-code=20151104-0002 --description=Offset pointing test using horizon to horizon sources --observer=RTS\n",
      "........................................................................................\n",
      "RTS: 2.7 Ku-band Pointing\n",
      "/var/kat/archive/data/RTS/telescope_products/2015/11/04\n",
      "1446671884.h5\n",
      "[u'm062', u'm063']\n",
      "[u'0430 052', u'0420-014', u'0130-171', u'0605-085', u'0003-066', u'0454-463', u'3C138', u'0458-020', u'0451-282', u'0653-033', u'0238-084', u'0537-441', u'0637-752', u'0208-512', u'0727-115', u'0607-157', u'0521-365', u'0402-362', u'0426-380', u'3C123', u'0332-403', u'0454-234', u'0252-549', u'0823 033', u'0648-165', u'0106 013', u'0723-008']\n",
      "/home/kat/RTS/2.7-Pointing/point_source_scan.py /home/kat/RTS/sources_pnt_Ku.csv -f 12500.5 -r 1 -n off -m 10800 --fine --product=c856M4k --horizon=16 --stow-when-done --proposal-id=COMM-RTS --sb-id-code=20151104-0008 --description=RTS: 2.7 Ku-band Pointing --observer=RTS\n",
      "........................................................................................\n",
      "RTS: 2.7 L-band Pointing\n",
      "/var/kat/archive/data/RTS/telescope_products/2015/11/06\n",
      "1446819560.h5\n",
      "[u'm062', u'm063']\n",
      "[u'3C 409', u'3C 161', u'3C 358', u'PKS 2153-69', u'3C 48', u'PKS 0410-75', u'Her A', u'PKS 2104-25', u'Ori A', u'Pic A', u'PKS 1814-63', u'3C 433', u'3C 353', u'PKS 1934-63', u'PKS 0521-36', u'PKS 0408-65', u'PKS 1610-60', u'Tau A', u'For A', u'3C 454.3', u'3C 123']\n",
      "/home/kat/RTS/2.7-Pointing/point_source_scan.py /home/kat/RTS/sources_pnt_L.csv -r 1 -n coupler,10,10,180 -m 33000 --product=c856M4k -f 1284 --horizon=16 --stow-when-done --proposal-id=COMM-RTS --sb-id-code=20151106-0008 --description=RTS: 2.7 L-band Pointing --observer=RTS\n",
      "........................................................................................\n",
      "RTS: 2.7.2 - Ku-band Pointing Jitter\n",
      "/var/kat/archive/data/RTS/telescope_products/2015/11/17\n",
      "1447743092.h5\n",
      "[u'm063']\n",
      "['None']\n",
      "/home/kat/RTS/2.7-Pointing/jitter_scan.py /home/kat/RTS/sources_bright_Ku.csv -f 12500.5 -n off -m 3000 --stow-when-done --proposal-id=COMM-RTS -r 2 --product=c856M4k --sb-id-code=20151117-0001 --description=RTS: 2.7.2 - Ku-band Pointing Jitter --observer=RTS\n",
      "........................................................................................\n",
      "RTS: 2.7.2 - Ku-band Pointing Jitter\n",
      "/var/kat/archive/data/RTS/telescope_products/2015/11/17\n",
      "1447774617.h5\n",
      "[u'm063']\n",
      "['None']\n",
      "/home/kat/RTS/2.7-Pointing/jitter_scan.py /home/kat/RTS/sources_bright_Ku.csv -f 12500.5 -n off -m 3000 --stow-when-done --proposal-id=COMM-RTS -r 2 --product=c856M4k --sb-id-code=20151117-0004 --description=RTS: 2.7.2 - Ku-band Pointing Jitter --observer=RTS\n",
      "........................................................................................\n",
      "RTS: 2.7.2 - Ku-band Pointing Jitter\n",
      "/var/kat/archive/data/RTS/telescope_products/2015/11/17\n",
      "1447768726.h5\n",
      "[u'm063']\n",
      "['None']\n",
      "/home/kat/RTS/2.7-Pointing/jitter_scan.py /home/kat/RTS/sources_bright_Ku.csv -f 12500.5 -n off -m 3000 --stow-when-done --proposal-id=COMM-RTS -r 2 --product=c856M4k --sb-id-code=20151117-0003 --description=RTS: 2.7.2 - Ku-band Pointing Jitter --observer=RTS\n",
      "........................................................................................\n",
      "RTS: 2.7 L-band Pointing\n",
      "/var/kat/archive/data/RTS/telescope_products/2015/11/06\n",
      "1446853030.h5\n",
      "[u'm062', u'm063']\n",
      "[u'3C 286', u'3C 161', u'3C 358', u'3C 279', u'PKS 2153-69', u'3C 273', u'For A', u'3C 353', u'Pic A', u'PKS 0410-75', u'Vir A', u'Ori A', u'PKS 0521-36', u'PKS 0408-65', u'PKS 1610-60', u'Tau A', u'Her A', u'PKS 1814-63', u'Hyd A', u'3C 123']\n",
      "/home/kat/RTS/2.7-Pointing/point_source_scan.py /home/kat/RTS/sources_pnt_L.csv -r 1 -n coupler,10,10,180 -m 33000 --product=c856M4k -f 1284 --horizon=16 --stow-when-done --proposal-id=COMM-RTS --sb-id-code=20151106-0007 --description=RTS: 2.7 L-band Pointing --observer=RTS\n",
      "........................................................................................\n",
      "RTS: 2.7.2 - Ku-band Pointing Jitter\n",
      "/var/kat/archive/data/RTS/telescope_products/2015/11/17\n",
      "1447779848.h5\n",
      "[u'm063']\n",
      "['None']\n",
      "/home/kat/RTS/2.7-Pointing/jitter_scan.py /home/kat/RTS/sources_bright_Ku.csv -f 12500.5 -n off -m 3000 --stow-when-done --proposal-id=COMM-RTS -r 2 --product=c856M4k --sb-id-code=20151117-0006 --description=RTS: 2.7.2 - Ku-band Pointing Jitter --observer=RTS\n",
      "........................................................................................\n",
      "RTS: 2.7.2 - Ku-band Pointing Jitter\n",
      "/var/kat/archive/data/RTS/telescope_products/2015/11/17\n",
      "1447803525.h5\n",
      "[u'm063']\n",
      "['None']\n",
      "/home/kat/RTS/2.7-Pointing/jitter_scan.py /home/kat/RTS/sources_bright_Ku.csv -f 12500.5 -n off -m 3000 --stow-when-done --proposal-id=COMM-RTS -r 2 --product=c856M4k --sb-id-code=20151117-0009 --description=RTS: 2.7.2 - Ku-band Pointing Jitter --observer=RTS\n",
      "........................................................................................\n",
      "RTS: 2.7.2 - Ku-band Pointing Jitter\n",
      "/var/kat/archive/data/RTS/telescope_products/2015/11/17\n",
      "1447791505.h5\n",
      "[u'm063']\n",
      "['None']\n",
      "/home/kat/RTS/2.7-Pointing/jitter_scan.py /home/kat/RTS/sources_bright_Ku.csv -f 12500.5 -n off -m 3000 --stow-when-done --proposal-id=COMM-RTS -r 2 --product=c856M4k --sb-id-code=20151117-0005 --description=RTS: 2.7.2 - Ku-band Pointing Jitter --observer=RTS\n",
      "........................................................................................\n",
      "RTS: 2.7.2 - Ku-band Pointing Jitter\n",
      "/var/kat/archive/data/RTS/telescope_products/2015/11/17\n",
      "1447797425.h5\n",
      "[u'm063']\n",
      "['None']\n",
      "/home/kat/RTS/2.7-Pointing/jitter_scan.py /home/kat/RTS/sources_bright_Ku.csv -f 12500.5 -n off -m 3000 --stow-when-done --proposal-id=COMM-RTS -r 2 --product=c856M4k --sb-id-code=20151117-0008 --description=RTS: 2.7.2 - Ku-band Pointing Jitter --observer=RTS\n",
      "........................................................................................\n",
      "RTS: 2.7.2 - Ku-band Pointing Jitter\n",
      "/var/kat/archive/data/RTS/telescope_products/2015/11/18\n",
      "1447809848.h5\n",
      "[u'm063']\n",
      "['None']\n",
      "/home/kat/RTS/2.7-Pointing/jitter_scan.py /home/kat/RTS/sources_bright_Ku.csv -f 12500.5 -n off -m 3000 --stow-when-done --proposal-id=COMM-RTS -r 2 --product=c856M4k --sb-id-code=20151117-0010 --description=RTS: 2.7.2 - Ku-band Pointing Jitter --observer=RTS\n",
      "........................................................................................\n",
      "RTS: 2.7 Ku-band Pointing\n",
      "/var/kat/archive/data/RTS/telescope_products/2015/11/20\n",
      "1448048200.h5\n",
      "[u'm063']\n",
      "['None']\n",
      "/home/kat/RTS/2.7-Pointing/point_source_scan.py /home/kat/RTS/sources_pnt_Ku.csv -f 12500.5 -r 1 -n off -m 33000 --fine --product=c856M4k --horizon=16 --stow-when-done --proposal-id=COMM-RTS --sb-id-code=20151120-0013 --description=RTS: 2.7 Ku-band Pointing --observer=RTS\n",
      "........................................................................................\n",
      "RTS: 2.7 Ku-band Pointing\n",
      "/var/kat/archive/data/RTS/telescope_products/2015/11/23\n",
      "1448271407.h5\n",
      "[u'm063']\n",
      "['None']\n",
      "/home/kat/RTS/2.7-Pointing/point_source_scan.py /home/kat/RTS/sources_pnt_Ku.csv -f 12500.5 -r 1 -n off -m 33000 --fine --product=c856M4k --horizon=16 --stow-when-done --proposal-id=COMM-RTS --sb-id-code=20151123-0010 --description=RTS: 2.7 Ku-band Pointing --observer=RTS\n",
      "........................................................................................\n",
      "RTS: 2.7 Ku-band Pointing\n",
      "/var/kat/archive/data/RTS/telescope_products/2015/11/23\n",
      "1448284388.h5\n",
      "[u'm063']\n",
      "['None']\n",
      "/home/kat/RTS/2.7-Pointing/point_source_scan.py /home/kat/RTS/sources_pnt_Ku.csv -f 12500.5 -r 1 -n off -m 33000 --fine --product=c856M4k --horizon=16 --stow-when-done --proposal-id=COMM-RTS --sb-id-code=20151123-0011 --description=RTS: 2.7 Ku-band Pointing --observer=RTS\n",
      "........................................................................................\n"
     ]
    }
   ],
   "source": [
    "for fi in f:\n",
    "    print fi.metadata.Description\n",
    "    print fi.metadata.FileLocation\n",
    "    print fi.metadata.Filename\n",
    "    print fi.metadata.Antennas\n",
    "    print fi.metadata.Targets\n",
    "    print fi.metadata.InstructionSet\n",
    "    print \".\"*88\n",
    "    "
   ]
  },
  {
   "cell_type": "code",
   "execution_count": 94,
   "metadata": {
    "collapsed": false
   },
   "outputs": [
    {
     "data": {
      "text/plain": [
       "[['1446629413.h5', '2015-11-04 11:30:14 SAST', 'RTS', 17428369458],\n",
       " ['1446671884.h5', '2015-11-04 23:18:05 SAST', 'RTS', 4963769934],\n",
       " ['1446819560.h5', '2015-11-06 16:19:21 SAST', 'RTS', 14888304455],\n",
       " ['1447743092.h5', '2015-11-17 08:51:33 SAST', 'RTS', 1747350296],\n",
       " ['1447774617.h5', '2015-11-17 17:36:58 SAST', 'RTS', 1542830080],\n",
       " ['1447768726.h5', '2015-11-17 15:58:47 SAST', 'RTS', 1739391110],\n",
       " ['1446853030.h5', '2015-11-07 01:37:11 SAST', 'RTS', 14772430626],\n",
       " ['1447779848.h5', '2015-11-17 19:04:09 SAST', 'RTS', 1728663314],\n",
       " ['1447803525.h5', '2015-11-18 01:38:46 SAST', 'RTS', 1868131208],\n",
       " ['1447791505.h5', '2015-11-17 22:18:26 SAST', 'RTS', 1747414628],\n",
       " ['1447797425.h5', '2015-11-17 23:57:06 SAST', 'RTS', 1800707481],\n",
       " ['1447809848.h5', '2015-11-18 03:24:08 SAST', 'RTS', 1755009254],\n",
       " ['1448048200.h5', '2015-11-20 21:36:41 SAST', 'RTS', 4952583090],\n",
       " ['1448271407.h5', '2015-11-23 11:36:48 SAST', 'RTS', 1752177149],\n",
       " ['1448284388.h5', '2015-11-23 15:13:09 SAST', 'RTS', 4944778445]]"
      ]
     },
     "execution_count": 94,
     "metadata": {},
     "output_type": "execute_result"
    }
   ],
   "source": [
    "yy=sorted(f,reverse=True)\n",
    "yy"
   ]
  },
  {
   "cell_type": "code",
   "execution_count": 95,
   "metadata": {
    "collapsed": false
   },
   "outputs": [
    {
     "data": {
      "text/plain": [
       "katarchive.make_table.make_table.ArchiveProduct"
      ]
     },
     "execution_count": 95,
     "metadata": {},
     "output_type": "execute_result"
    }
   ],
   "source": [
    "type(f[0])"
   ]
  }
 ],
 "metadata": {
  "kernelspec": {
   "display_name": "Python 2",
   "language": "python",
   "name": "python2"
  },
  "language_info": {
   "codemirror_mode": {
    "name": "ipython",
    "version": 2
   },
   "file_extension": ".py",
   "mimetype": "text/x-python",
   "name": "python",
   "nbconvert_exporter": "python",
   "pygments_lexer": "ipython2",
   "version": "2.7.3"
  }
 },
 "nbformat": 4,
 "nbformat_minor": 0
}
