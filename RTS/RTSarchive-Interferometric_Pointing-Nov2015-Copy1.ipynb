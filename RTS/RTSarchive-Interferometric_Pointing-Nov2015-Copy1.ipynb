{
 "cells": [
  {
   "cell_type": "code",
   "execution_count": 43,
   "metadata": {
    "collapsed": true
   },
   "outputs": [],
   "source": [
    "import katarchive\n",
    "import datetime\n"
   ]
  },
  {
   "cell_type": "code",
   "execution_count": 44,
   "metadata": {
    "collapsed": true
   },
   "outputs": [],
   "source": [
    "#%matplotlib inline\n",
    "import numpy as np"
   ]
  },
  {
   "cell_type": "code",
   "execution_count": 45,
   "metadata": {
    "collapsed": true
   },
   "outputs": [],
   "source": [
    "#import matplotlib.pyplot as plt"
   ]
  },
  {
   "cell_type": "code",
   "execution_count": 46,
   "metadata": {
    "collapsed": false
   },
   "outputs": [],
   "source": [
    "import katdal as katfile\n",
    "#import katfile\n",
    "import datetime\n",
    "\n",
    "#import logging\n",
    "#logging.root.setLevel(logging.ERROR)"
   ]
  },
  {
   "cell_type": "code",
   "execution_count": 47,
   "metadata": {
    "collapsed": true
   },
   "outputs": [],
   "source": [
    "katarchive.product_filter.only_rts()"
   ]
  },
  {
   "cell_type": "code",
   "execution_count": 48,
   "metadata": {
    "collapsed": false
   },
   "outputs": [],
   "source": [
    "#f=katarchive.search_archive(description=\"Interferometric_Pointing\")\n",
    "#print f"
   ]
  },
  {
   "cell_type": "code",
   "execution_count": 49,
   "metadata": {
    "collapsed": false,
    "scrolled": true
   },
   "outputs": [],
   "source": [
    "#print katarchive.search_archive(startdate='1/11/2015',enddate='31/11/2015')"
   ]
  },
  {
   "cell_type": "code",
   "execution_count": 50,
   "metadata": {
    "collapsed": true
   },
   "outputs": [],
   "source": [
    "start='1/11/2015'\n",
    "end='31/11/2015'"
   ]
  },
  {
   "cell_type": "code",
   "execution_count": 51,
   "metadata": {
    "collapsed": false
   },
   "outputs": [
    {
     "name": "stdout",
     "output_type": "stream",
     "text": [
      "Searched using: CAS.ProductTypeName:(RTSTelescopeProduct) AND CAS.ProductTransferStatus:RECEIVED AND Description:Interferometric_Pointing AND StartTime:[2015-10-31T22:00:00Z TO 2015-11-30T21:59:59Z]\n",
      "Returning 4 results\n"
     ]
    }
   ],
   "source": [
    "#Look for pointing\n",
    "\n",
    "f=katarchive.search_archive(description=\"Interferometric_Pointing\",startdate=start,enddate=end)\n",
    "\n",
    "start = datetime.datetime.strptime(f[-1].__str__().split('\\'')[3],'%Y-%m-%d %H:%M:%S %Z')\n",
    "end = datetime.datetime.strptime(f[0].__str__().split('\\'')[3],'%Y-%m-%d %H:%M:%S %Z')"
   ]
  },
  {
   "cell_type": "code",
   "execution_count": 52,
   "metadata": {
    "collapsed": false
   },
   "outputs": [
    {
     "name": "stdout",
     "output_type": "stream",
     "text": [
      "First file in run:  2015-11-26T23:48:40\n",
      "Last file in run:  2015-11-27T06:04:22\n"
     ]
    }
   ],
   "source": [
    "print 'First file in run: ' , start.isoformat()\n",
    "print 'Last file in run: ' , end.isoformat()"
   ]
  },
  {
   "cell_type": "code",
   "execution_count": 53,
   "metadata": {
    "collapsed": true
   },
   "outputs": [],
   "source": [
    "\n",
    "f.sort(key=lambda k: k.metadata.StartTime)"
   ]
  },
  {
   "cell_type": "code",
   "execution_count": 54,
   "metadata": {
    "collapsed": false
   },
   "outputs": [
    {
     "name": "stdout",
     "output_type": "stream",
     "text": [
      "RTS: 3.4 Interferometric_Pointing\n",
      "/var/kat/archive/data/RTS/telescope_products/2015/11/26\n",
      "1448574519.h5\n",
      "[u'm062', u'm063']\n",
      "[u'0521-365', u'3C123', u'0723-008', u'0727-115']\n",
      "/home/kat/RTS/3.4-Interferometric_Pointing/radial_holography_scan.py --scan-ants=m062 --num-scans=6 --scan-duration=60 --scan-extent=2 --dump-rate=1 -n OFF -m 7200 /home/kat/RTS/sources_bright_Ku.csv -f 12500.5 --stow-when-done --proposal-id=COMM-RTS --sb-id-code=20151126-0016 --description=RTS: 3.4 Interferometric_Pointing --observer=RTS\n",
      "........................................................................................\n",
      "RTS: 3.4 Interferometric_Pointing\n",
      "/var/kat/archive/data/RTS/telescope_products/2015/11/26\n",
      "1448581975.h5\n",
      "[u'm062', u'm063']\n",
      "[u'0521-365', u'3C123', u'0723-008', u'0727-115']\n",
      "/home/kat/RTS/3.4-Interferometric_Pointing/radial_holography_scan.py --scan-ants=m062 --num-scans=6 --scan-duration=60 --scan-extent=2 --dump-rate=1 -n OFF -m 7200 /home/kat/RTS/sources_bright_Ku.csv -f 12500.5 --stow-when-done --proposal-id=COMM-RTS --sb-id-code=20151126-0015 --description=RTS: 3.4 Interferometric_Pointing --observer=RTS\n",
      "........................................................................................\n",
      "RTS: 3.4 Interferometric_Pointing\n",
      "/var/kat/archive/data/RTS/telescope_products/2015/11/27\n",
      "1448589427.h5\n",
      "[u'm062', u'm063']\n",
      "[u'0521-365', u'1424-418', u'3C279', u'3C273', u'0727-115', u'0723-008']\n",
      "/home/kat/RTS/3.4-Interferometric_Pointing/radial_holography_scan.py --scan-ants=m062 --num-scans=6 --scan-duration=60 --scan-extent=2 --dump-rate=1 -n OFF -m 7200 /home/kat/RTS/sources_bright_Ku.csv -f 12500.5 --stow-when-done --proposal-id=COMM-RTS --sb-id-code=20151126-0013 --description=RTS: 3.4 Interferometric_Pointing --observer=RTS\n",
      "........................................................................................\n",
      "RTS: 3.4 Interferometric_Pointing\n",
      "/var/kat/archive/data/RTS/telescope_products/2015/11/27\n",
      "1448597061.h5\n",
      "[u'm062', u'm063']\n",
      "[u'0521-365', u'1424-418', u'3C279', u'3C273', u'0727-115', u'0723-008']\n",
      "/home/kat/RTS/3.4-Interferometric_Pointing/radial_holography_scan.py --scan-ants=m062 --num-scans=6 --scan-duration=60 --scan-extent=2 --dump-rate=1 -n OFF -m 7200 /home/kat/RTS/sources_bright_Ku.csv -f 12500.5 --stow-when-done --proposal-id=COMM-RTS --sb-id-code=20151126-0014 --description=RTS: 3.4 Interferometric_Pointing --observer=RTS\n",
      "........................................................................................\n"
     ]
    }
   ],
   "source": [
    "for fi in f:\n",
    "    print fi.metadata.Description\n",
    "    print fi.metadata.FileLocation\n",
    "    print fi.metadata.Filename\n",
    "    print fi.metadata.Antennas\n",
    "    print fi.metadata.Targets\n",
    "    print fi.metadata.InstructionSet\n",
    "    print \".\"*88\n",
    "    "
   ]
  },
  {
   "cell_type": "code",
   "execution_count": 56,
   "metadata": {
    "collapsed": false
   },
   "outputs": [
    {
     "data": {
      "text/plain": [
       "[['1448574519.h5', '2015-11-26 23:48:40 SAST', 'RTS', 3297100087],\n",
       " ['1448581975.h5', '2015-11-27 01:52:55 SAST', 'RTS', 3295764616],\n",
       " ['1448589427.h5', '2015-11-27 03:57:07 SAST', 'RTS', 3376820750],\n",
       " ['1448597061.h5', '2015-11-27 06:04:22 SAST', 'RTS', 3239628396]]"
      ]
     },
     "execution_count": 56,
     "metadata": {},
     "output_type": "execute_result"
    }
   ],
   "source": [
    "\n",
    "f"
   ]
  }
 ],
 "metadata": {
  "kernelspec": {
   "display_name": "Python 2",
   "language": "python",
   "name": "python2"
  },
  "language_info": {
   "codemirror_mode": {
    "name": "ipython",
    "version": 2
   },
   "file_extension": ".py",
   "mimetype": "text/x-python",
   "name": "python",
   "nbconvert_exporter": "python",
   "pygments_lexer": "ipython2",
   "version": "2.7.3"
  }
 },
 "nbformat": 4,
 "nbformat_minor": 0
}
