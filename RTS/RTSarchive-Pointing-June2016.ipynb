{
 "cells": [
  {
   "cell_type": "code",
   "execution_count": 1,
   "metadata": {
    "collapsed": false
   },
   "outputs": [],
   "source": [
    "import katarchive\n",
    "import datetime\n"
   ]
  },
  {
   "cell_type": "code",
   "execution_count": 2,
   "metadata": {
    "collapsed": true
   },
   "outputs": [],
   "source": [
    "katarchive.product_filter.only_rts()"
   ]
  },
  {
   "cell_type": "code",
   "execution_count": 3,
   "metadata": {
    "collapsed": false
   },
   "outputs": [],
   "source": [
    "def findh5(det):   # uses detail list to get h5 name\n",
    "    pos=det.find(\"Name:\")\n",
    "    if pos >0  :\n",
    "        pr2=det[pos+37:pos+53].split()\n",
    "        h5name=pr2[0].lstrip(\"/ng\")\n",
    "    return h5name"
   ]
  },
  {
   "cell_type": "code",
   "execution_count": 4,
   "metadata": {
    "collapsed": false
   },
   "outputs": [],
   "source": [
    "def listpr(x):\n",
    "    \"\"\"\n",
    "    takes a list and prints as string\n",
    "    \"\"\"\n",
    "    li=\" \".join(map(str,x))\n",
    "    return li"
   ]
  },
  {
   "cell_type": "code",
   "execution_count": 5,
   "metadata": {
    "collapsed": true
   },
   "outputs": [],
   "source": [
    "start=\"1/06/2016\"\n",
    "end=\"30/06/2016\" "
   ]
  },
  {
   "cell_type": "code",
   "execution_count": 6,
   "metadata": {
    "collapsed": false
   },
   "outputs": [
    {
     "name": "stdout",
     "output_type": "stream",
     "text": [
      "Searched using: CAS.ProductTypeName:(RTSTelescopeProduct) AND CAS.ProductTransferStatus:RECEIVED AND Description:Point AND StartTime:[2016-05-31T22:00:00Z TO 2016-06-30T21:59:59Z]\n",
      "Returning 8 results\n"
     ]
    }
   ],
   "source": [
    "#Look for pointing\n",
    "\n",
    "f=katarchive.search_archive(description=\"Point\",startdate=start,enddate=end)\n",
    "\n",
    "#start = datetime.datetime.strptime(f[-1].__str__().split('\\'')[3],'%Y-%m-%d %H:%M:%S %Z')\n",
    "#end = datetime.datetime.strptime(f[0].__str__().split('\\'')[3],'%Y-%m-%d %H:%M:%S %Z')"
   ]
  },
  {
   "cell_type": "code",
   "execution_count": 7,
   "metadata": {
    "collapsed": true
   },
   "outputs": [],
   "source": [
    "f.sort(key=lambda k: k.metadata.StartTime)"
   ]
  },
  {
   "cell_type": "code",
   "execution_count": 8,
   "metadata": {
    "collapsed": false
   },
   "outputs": [
    {
     "name": "stdout",
     "output_type": "stream",
     "text": [
      "RTS: 2.7 L-band Pointing L Band\n",
      "m021 m022\n",
      "/var/kat/archive/data/RTS/telescope_products/2016/06/03 1464945544.h5\n",
      "/home/kat/RTS/2.7-Pointing/point_source_scan.py /home/kat/RTS/sources_pnt_L.csv -r 1 -n off -m 32400 --product=c856M4k -f 1284 --horizon=16 --proposal-id=COMM-RTS --sb-id-code=20160603-0002 --description=RTS: 2.7 L-band Pointing L Band --observer=RTS \n",
      "\n",
      "3C 161 PKS 2153-69 For A Pic A PKS 0410-75 Ori A PKS 0521-36 PKS 0408-65 Tau A Hyd A 3C 123\n",
      "........................................................................................\n",
      "RTS: 2.7 L-band Pointing L Band\n",
      "m021 m022\n",
      "/var/kat/archive/data/RTS/telescope_products/2016/06/03 1464950999.h5\n",
      "/home/kat/RTS/2.7-Pointing/point_source_scan.py /home/kat/RTS/sources_pnt_L.csv -r 1 -n off -m 32400 --product=c856M4k -f 1284 --horizon=16 --proposal-id=COMM-RTS --sb-id-code=20160603-0004 --description=RTS: 2.7 L-band Pointing L Band --observer=RTS \n",
      "\n",
      "3C 161 For A Pic A PKS 0410-75 Ori A PKS 0521-36 PKS 0408-65 Tau A Hyd A 3C 123\n",
      "........................................................................................\n",
      "RTS: 2.7 Ku-band Pointing\n",
      "m021 m022\n",
      "/var/kat/archive/data/RTS/telescope_products/2016/06/06 1465205632.h5\n",
      "/home/kat/RTS/2.7-Pointing/point_source_scan.py /home/kat/RTS/sources_pnt_Ku.csv -f 12499.5 -r 1 -n off -m 18000 --fine --product=c856M4k --horizon=16 --proposal-id=COMM-RTS --sb-id-code=20160606-0002 --description=RTS: 2.7 Ku-band Pointing --observer=RTS \n",
      "\n",
      "0451-282 0420-014 0454-234 2E820 4C01.02 2E1720 NRAO5 OJ287 2E1608 OI-147 1055 018 0208-512 0648-165 3C120 2E1203 0454-463\n",
      "........................................................................................\n",
      "RTS: 2.7 Ku-band Pointing\n",
      "m021 m022\n",
      "/var/kat/archive/data/RTS/telescope_products/2016/06/06 1465231087.h5\n",
      "/home/kat/RTS/2.7-Pointing/point_source_scan.py /home/kat/RTS/sources_pnt_Ku.csv -f 12499.5 -r 1 -n off -m 50400 --fine --product=c856M4k --horizon=16 --proposal-id=COMM-RTS --sb-id-code=20160606-0005 --description=RTS: 2.7 Ku-band Pointing --observer=RTS \n",
      "\n",
      "2E1720\n",
      "........................................................................................\n",
      "RTS: 2.7 Ku-band Pointing\n",
      "m021 m022\n",
      "/var/kat/archive/data/RTS/telescope_products/2016/06/06 1465231476.h5\n",
      "/home/kat/RTS/2.7-Pointing/point_source_scan.py /home/kat/RTS/sources_pnt_Ku.csv -f 12499.5 -r 1 -n off -m 50400 --fine --product=c856M4k --horizon=16 --proposal-id=COMM-RTS --sb-id-code=20160606-0006 --description=RTS: 2.7 Ku-band Pointing --observer=RTS \n",
      "\n",
      "1334-127 NRAO5 2E1720 1830-210 0420-014 1741-038 NGC6328 1954-388 OI-147 0451-282 1730-130 2E820 1613-586 1055 018 1421-490 1920-211 1908-201 3C279 3C454.3 2326-477 3C273 1622-253 2052-474 2355-534 2E3390 WMAP16 4C11.69 2E3408 3C286 1127-145 OV236 4C-02.81 0454-234 4C05.64 4C09.57 2E4542 0208-512 OJ287 0648-165 4C01.02 WMAP12 4C06.69 0454-463\n",
      "........................................................................................\n",
      "RTS: 2.7 L-band Pointing L Band\n",
      "m036\n",
      "/var/kat/archive/data/RTS/telescope_products/2016/06/14 1465941559.h5\n",
      "/home/kat/RTS/2.7-Pointing/point_source_scan.py /home/kat/RTS/sources_pnt_L.csv -r 1 -n off -m 21600 --product=c856M4k -f 1284 --horizon=16 --proposal-id=COMM-RTS --sb-id-code=20160614-0015 --description=RTS: 2.7 L-band Pointing L Band --observer=RTS \n",
      "\n",
      "3C 409 3C 279 3C 358 PKS 2153-69 PKS 0410-75 Her A PKS 2104-25 PKS 1814-63 3C 433 3C 353 PKS 1934-63 PKS 0408-65 PKS 1610-60 For A 3C 454.3\n",
      "........................................................................................\n",
      "RTS: 2.7 L-band Pointing L Band\n",
      "m036\n",
      "/var/kat/archive/data/RTS/telescope_products/2016/06/15 1465986035.h5\n",
      "/home/kat/RTS/2.7-Pointing/point_source_scan.py /home/kat/RTS/sources_pnt_L.csv -r 1 -n off -m 12000 --product=c856M4k -f 1284 --horizon=16 --proposal-id=COMM-RTS --sb-id-code=20160615-0001 --description=RTS: 2.7 L-band Pointing L Band --observer=RTS \n",
      "\n",
      "Ori A For A 3C 123 Tau A Pic A\n",
      "........................................................................................\n",
      "RTS: 2.7 L-band Pointing L Band\n",
      "m036\n",
      "/var/kat/archive/data/RTS/telescope_products/2016/06/15 1465992386.h5\n",
      "/home/kat/RTS/2.7-Pointing/point_source_scan.py /home/kat/RTS/sources_pnt_L.csv -r 1 -n off -m 7200 --product=c856M4k -f 1284 --horizon=16 --proposal-id=COMM-RTS --sb-id-code=20160615-0018 --description=RTS: 2.7 L-band Pointing L Band --observer=RTS \n",
      "\n",
      "3C 161 3C 279 3C 273 For A Pic A PKS 0410-75 Vir A Ori A PKS 0521-36 PKS 0408-65 Tau A Hyd A\n",
      "........................................................................................\n"
     ]
    }
   ],
   "source": [
    "for fi in f:\n",
    "    print fi.metadata.Description\n",
    "    print listpr(fi.metadata.Antennas)\n",
    "    print fi.metadata.FileLocation, findh5(fi.metadata.Details)\n",
    "    print fi.metadata.InstructionSet,\"\\n\"\n",
    "    print listpr(fi.metadata.Targets)\n",
    "    print \".\"*88\n",
    "    "
   ]
  },
  {
   "cell_type": "code",
   "execution_count": 9,
   "metadata": {
    "collapsed": false
   },
   "outputs": [
    {
     "data": {
      "text/plain": [
       "[['1', '2016-06-03 11:19:05 SAST', 'RTS', [2359471542]],\n",
       " ['1', '2016-06-03 12:50:00 SAST', 'RTS', [5229087415]],\n",
       " ['1', '2016-06-06 11:33:53 SAST', 'RTS', [7337894060]],\n",
       " ['1', '2016-06-06 18:38:08 SAST', 'RTS', [2291948]],\n",
       " ['1', '2016-06-06 18:44:37 SAST', 'RTS', [21543484476]],\n",
       " ['1', '2016-06-14 23:59:20 SAST', 'RTS', [3221321078]],\n",
       " ['1', '2016-06-15 12:20:35 SAST', 'RTS', [238411067]],\n",
       " ['1', '2016-06-15 14:06:27 SAST', 'RTS', [1093371925]]]"
      ]
     },
     "execution_count": 9,
     "metadata": {},
     "output_type": "execute_result"
    }
   ],
   "source": [
    "f"
   ]
  },
  {
   "cell_type": "code",
   "execution_count": 10,
   "metadata": {
    "collapsed": false
   },
   "outputs": [
    {
     "name": "stdout",
     "output_type": "stream",
     "text": [
      "03 1464945544.h5 RTS: 2.7 L-band Pointing L Band m021 m022\n",
      "03 1464950999.h5 RTS: 2.7 L-band Pointing L Band m021 m022\n",
      "06 1465205632.h5 RTS: 2.7 Ku-band Pointing m021 m022\n",
      "06 1465231087.h5 RTS: 2.7 Ku-band Pointing m021 m022\n",
      "06 1465231476.h5 RTS: 2.7 Ku-band Pointing m021 m022\n",
      "14 1465941559.h5 RTS: 2.7 L-band Pointing L Band m036\n",
      "15 1465986035.h5 RTS: 2.7 L-band Pointing L Band m036\n",
      "15 1465992386.h5 RTS: 2.7 L-band Pointing L Band m036\n"
     ]
    }
   ],
   "source": [
    "for fi in f:\n",
    "    x= repr(fi)\n",
    "    pr=x.split(\",\")\n",
    "    print pr[1][10:12],findh5(fi.metadata.Details) , fi.metadata.Description, listpr(fi.metadata.Antennas)"
   ]
  },
  {
   "cell_type": "code",
   "execution_count": 11,
   "metadata": {
    "collapsed": false
   },
   "outputs": [
    {
     "name": "stdout",
     "output_type": "stream",
     "text": [
      "Searched using: CAS.ProductTypeName:(RTSTelescopeProduct) AND CAS.ProductTransferStatus:RECEIVED AND Description:Interferometric_Pointing AND StartTime:[2016-05-31T22:00:00Z TO 2016-06-30T21:59:59Z]\n",
      "Returning 0 results\n"
     ]
    },
    {
     "data": {
      "text/plain": [
       "[]"
      ]
     },
     "execution_count": 11,
     "metadata": {},
     "output_type": "execute_result"
    }
   ],
   "source": [
    "\n",
    "f2=katarchive.search_archive(description=\"Interferometric_Pointing\",startdate=start,enddate=end)\n",
    "\n",
    "f2.sort(key=lambda k: k.metadata.StartTime)\n",
    "f2"
   ]
  },
  {
   "cell_type": "code",
   "execution_count": 12,
   "metadata": {
    "collapsed": false
   },
   "outputs": [],
   "source": [
    "for fi in f2:\n",
    "    print fi.metadata.Description\n",
    "    print listpr(fi.metadata.Antennas)\n",
    "    print fi.metadata.FileLocation, findh5(fi.metadata.Details)\n",
    "    print fi.metadata.InstructionSet,\"\\n\"\n",
    "    print listpr(fi.metadata.Targets)\n",
    "    print \".\"*88"
   ]
  },
  {
   "cell_type": "code",
   "execution_count": 13,
   "metadata": {
    "collapsed": false,
    "scrolled": true
   },
   "outputs": [
    {
     "data": {
      "text/plain": [
       "[]"
      ]
     },
     "execution_count": 13,
     "metadata": {},
     "output_type": "execute_result"
    }
   ],
   "source": [
    "f2.sort(key=lambda k: k.metadata.StartTime)\n",
    "f2"
   ]
  },
  {
   "cell_type": "code",
   "execution_count": 14,
   "metadata": {
    "collapsed": false
   },
   "outputs": [],
   "source": [
    "for fi in f2:\n",
    "    x= repr(fi)\n",
    "    pr=x.split(\",\")\n",
    "    print pr[1][10:12],findh5(fi.metadata.Details),fi.metadata.Description,listpr(fi.metadata.Antennas)"
   ]
  }
 ],
 "metadata": {
  "kernelspec": {
   "display_name": "Python 2",
   "language": "python",
   "name": "python2"
  },
  "language_info": {
   "codemirror_mode": {
    "name": "ipython",
    "version": 2
   },
   "file_extension": ".py",
   "mimetype": "text/x-python",
   "name": "python",
   "nbconvert_exporter": "python",
   "pygments_lexer": "ipython2",
   "version": "2.7.6"
  }
 },
 "nbformat": 4,
 "nbformat_minor": 0
}
