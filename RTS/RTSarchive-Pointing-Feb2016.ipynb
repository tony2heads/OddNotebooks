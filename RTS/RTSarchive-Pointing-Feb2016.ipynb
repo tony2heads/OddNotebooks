{
 "cells": [
  {
   "cell_type": "code",
   "execution_count": 1,
   "metadata": {
    "collapsed": false
   },
   "outputs": [],
   "source": [
    "import katarchive\n",
    "import datetime\n"
   ]
  },
  {
   "cell_type": "code",
   "execution_count": 2,
   "metadata": {
    "collapsed": true
   },
   "outputs": [],
   "source": [
    "katarchive.product_filter.only_rts()"
   ]
  },
  {
   "cell_type": "code",
   "execution_count": 3,
   "metadata": {
    "collapsed": false
   },
   "outputs": [],
   "source": [
    "def findh5(det):   # uses detail list to get h5 name\n",
    "    pos=det.find(\"Name:\")\n",
    "    if pos >0  :\n",
    "        pr2=det[pos+37:pos+53].split()\n",
    "        h5name=pr2[0].lstrip(\"/ng\")\n",
    "    return h5name"
   ]
  },
  {
   "cell_type": "code",
   "execution_count": 4,
   "metadata": {
    "collapsed": false
   },
   "outputs": [],
   "source": [
    "def listpr(x):\n",
    "    \"\"\"\n",
    "    takes a list and prints as string\n",
    "    \"\"\"\n",
    "    li=\" \".join(map(str,x))\n",
    "    return li"
   ]
  },
  {
   "cell_type": "code",
   "execution_count": 5,
   "metadata": {
    "collapsed": true
   },
   "outputs": [],
   "source": [
    "start=\"1/02/2016\"\n",
    "end=\"31/02/2016\" "
   ]
  },
  {
   "cell_type": "code",
   "execution_count": 6,
   "metadata": {
    "collapsed": false
   },
   "outputs": [
    {
     "name": "stdout",
     "output_type": "stream",
     "text": [
      "Searched using: CAS.ProductTypeName:(RTSTelescopeProduct) AND CAS.ProductTransferStatus:RECEIVED AND Description:Point AND StartTime:[2016-01-31T22:00:00Z TO 2016-02-29T21:59:59Z]\n",
      "Returning 42 results\n"
     ]
    }
   ],
   "source": [
    "#Look for pointing\n",
    "\n",
    "f=katarchive.search_archive(description=\"Point\",startdate=start,enddate=end)\n",
    "\n",
    "#start = datetime.datetime.strptime(f[-1].__str__().split('\\'')[3],'%Y-%m-%d %H:%M:%S %Z')\n",
    "#end = datetime.datetime.strptime(f[0].__str__().split('\\'')[3],'%Y-%m-%d %H:%M:%S %Z')"
   ]
  },
  {
   "cell_type": "code",
   "execution_count": 7,
   "metadata": {
    "collapsed": true
   },
   "outputs": [],
   "source": [
    "f.sort(key=lambda k: k.metadata.StartTime)"
   ]
  },
  {
   "cell_type": "code",
   "execution_count": 8,
   "metadata": {
    "collapsed": false
   },
   "outputs": [
    {
     "name": "stdout",
     "output_type": "stream",
     "text": [
      "RTS: 2.7.1 Ku-band Offset Pointing\n",
      "m024 m025\n",
      "/var/kat/archive/data/RTS/telescope_products/2016/01/31 1454284381.h5\n",
      "/home/kat/RTS/2.7-Pointing/offset_test_scan.py /home/kat/RTS/sources_bright_Ku.csv -f 12500.5 -r 1 -n off --fine --number-sources=10 --stow-when-done --proposal-id=COMM-RTS --product=c856M4k --sb-id-code=20160131-0001 --description=RTS: 2.7.1 Ku-band Offset Pointing --observer=RTS \n",
      "\n",
      "0723-008 offset_16 offset_17 offset_14 offset_15 offset_12 offset_13 offset_10 offset_11 offset_18 offset_19 1424-418 3C279 0727-115 3C273 0521-365 offset_23 offset_22 offset_21 offset_20 offset_24 offset_8 offset_9 offset_4 offset_5 offset_6 offset_7 offset_1 offset_2 offset_3\n",
      "........................................................................................\n",
      "RTS: 2.7.1 Ku-band Offset Pointing\n",
      "m024 m025\n",
      "/var/kat/archive/data/RTS/telescope_products/2016/02/01 1454295552.h5\n",
      "/home/kat/RTS/2.7-Pointing/offset_test_scan.py /home/kat/RTS/sources_bright_Ku.csv -f 12500.5 -r 1 -n off --fine --number-sources=10 --stow-when-done --proposal-id=COMM-RTS --product=c856M4k --sb-id-code=20160131-0003 --description=RTS: 2.7.1 Ku-band Offset Pointing --observer=RTS \n",
      "\n",
      "1830-210 offset_16 offset_17 offset_14 offset_15 offset_12 offset_13 offset_10 offset_11 offset_18 offset_19 1424-418 3C279 3C273 1921-293 offset_20 offset_8 offset_9 offset_4 offset_5 offset_6 offset_7 offset_1 offset_2 offset_3\n",
      "........................................................................................\n",
      "RTS: 2.7.1 Ku-band Offset Pointing\n",
      "m024 m025\n",
      "/var/kat/archive/data/RTS/telescope_products/2016/02/01 1454304786.h5\n",
      "/home/kat/RTS/2.7-Pointing/offset_test_scan.py /home/kat/RTS/sources_bright_Ku.csv -f 12500.5 -r 1 -n off --fine --number-sources=10 --stow-when-done --proposal-id=COMM-RTS --product=c856M4k --sb-id-code=20160131-0004 --description=RTS: 2.7.1 Ku-band Offset Pointing --observer=RTS \n",
      "\n",
      "1830-210 offset_22 offset_16 offset_17 offset_14 offset_15 offset_12 offset_13 offset_10 offset_11 offset_18 offset_19 1424-418 2134 004 3C279 3C446 3C273 offset_28 offset_23 1921-293 offset_21 offset_20 offset_27 offset_26 offset_25 offset_24 offset_8 offset_9 offset_4 offset_5 offset_6 offset_7 offset_1 offset_2 offset_3\n",
      "........................................................................................\n",
      "Offset pointing test using horizon to horizon sources\n",
      "m024 m025\n",
      "/var/kat/archive/data/RTS/telescope_products/2016/02/01 1454325720.h5\n",
      "/home/kat/RTS/2.4-Gain_Curve/point_source_scan.py -f 12500.5 -r 1 -n off -m 50400 --stow-when-done --proposal-id=COMM-RTS --product=c856M4k --horizon 16 --fine /home/kat/RTS/models/offset_pointing_two_source_test.csv --sb-id-code=20160201-0003 --description=Offset pointing test using horizon to horizon sources --observer=RTS \n",
      "\n",
      "1921-293 1830-210\n",
      "........................................................................................\n",
      "RTS: 2.7.1 Ku-band Offset Pointing\n",
      "m024 m025\n",
      "/var/kat/archive/data/RTS/telescope_products/2016/02/01 1454360311.h5\n",
      "/home/kat/RTS/2.7-Pointing/offset_test_scan.py /home/kat/RTS/sources_bright_Ku.csv -f 12500.5 -r 1 -n off --fine --number-sources=10 --stow-when-done --proposal-id=COMM-RTS --product=c856M4k --sb-id-code=20160201-0007 --description=RTS: 2.7.1 Ku-band Offset Pointing --observer=RTS \n",
      "\n",
      "2E1488 OA129 offset_30 offset_31 offset_32 offset_16 offset_17 offset_14 offset_15 offset_12 offset_13 offset_10 offset_11 offset_18 offset_19 OP158.3 3C279 OL93 offset_9 2E2471 offset_29 offset_28 offset_23 offset_22 offset_21 offset_20 offset_27 offset_26 offset_25 offset_24 0454-234 offset_8 OJ287 offset_4 offset_5 offset_6 offset_7 offset_1 offset_2 offset_3\n",
      "........................................................................................\n",
      "Offset pointing test using horizon to horizon sources\n",
      "m024 m025\n",
      "/var/kat/archive/data/RTS/telescope_products/2016/02/02 1454385623.h5\n",
      "/home/kat/RTS/2.4-Gain_Curve/point_source_scan.py -f 12500.5 -r 1 -n off -m 50400 --stow-when-done --proposal-id=COMM-RTS --product=c856M4k --horizon 16 --fine /home/kat/RTS/models/offset_pointing_two_source_test.csv --sb-id-code=20160201-0004 --description=Offset pointing test using horizon to horizon sources --observer=RTS \n",
      "\n",
      "1921-293 1830-210\n",
      "........................................................................................\n",
      "Offset pointing test using horizon to horizon sources\n",
      "m024 m025\n",
      "/var/kat/archive/data/RTS/telescope_products/2016/02/02 1454403021.h5\n",
      "/home/kat/RTS/2.4-Gain_Curve/point_source_scan.py -f 12500.5 -r 1 -n off -m 50400 --stow-when-done --proposal-id=COMM-RTS --product=c856M4k --horizon 16 --fine /home/kat/RTS/models/offset_pointing_two_source_test.csv --sb-id-code=20160202-0001 --description=Offset pointing test using horizon to horizon sources --observer=RTS \n",
      "\n",
      "1921-293 1830-210\n",
      "........................................................................................\n",
      "RTS: 2.7.1 Ku-band Offset Pointing\n",
      "m024 m025\n",
      "/var/kat/archive/data/RTS/telescope_products/2016/02/04 1454596715.h5\n",
      "/home/kat/RTS/2.7-Pointing/offset_test_scan.py /home/kat/RTS/sources_bright_Ku.csv -f 12500.5 -r 1 -n off --fine --number-sources=10 --stow-when-done --proposal-id=COMM-RTS --product=c856M4k --sb-id-code=20160204-0005 --description=RTS: 2.7.1 Ku-band Offset Pointing --observer=RTS \n",
      "\n",
      "0454-234 offset_12 offset_10 offset_11 2E1488 offset_7 offset_8 offset_9 offset_4 offset_5 offset_6 OA129 offset_1 offset_2 offset_3\n",
      "........................................................................................\n",
      "RTS: 2.7.1 Ku-band Offset Pointing\n",
      "m024 m025\n",
      "/var/kat/archive/data/RTS/telescope_products/2016/02/04 1454602187.h5\n",
      "/home/kat/RTS/2.7-Pointing/offset_test_scan.py /home/kat/RTS/sources_bright_Ku.csv -f 12500.5 -r 1 -n off --fine --number-sources=10 --stow-when-done --proposal-id=COMM-RTS --product=c856M4k --sb-id-code=20160204-0007 --description=RTS: 2.7.1 Ku-band Offset Pointing --observer=RTS \n",
      "\n",
      "0454-234 offset_12 offset_10 offset_11 2E1488 offset_7 offset_8 offset_9 offset_4 offset_5 offset_6 OA129 offset_1 offset_2 offset_3\n",
      "........................................................................................\n",
      "RTS: 2.7.1 Ku-band Offset Pointing\n",
      "m024 m025\n",
      "/var/kat/archive/data/RTS/telescope_products/2016/02/04 1454607735.h5\n",
      "/home/kat/RTS/2.7-Pointing/offset_test_scan.py /home/kat/RTS/sources_bright_Ku.csv -f 12500.5 -r 1 -n off --fine --number-sources=10 --stow-when-done --proposal-id=COMM-RTS --product=c856M4k --sb-id-code=20160204-0006 --description=RTS: 2.7.1 Ku-band Offset Pointing --observer=RTS \n",
      "\n",
      "0454-234 offset_12 offset_10 offset_11 2E1488 offset_7 offset_8 offset_9 offset_4 offset_5 offset_6 OA129 offset_1 offset_2 offset_3\n",
      "........................................................................................\n",
      "RTS: 2.7.2 - Ku-band Pointing Jitter\n",
      "m024 m025\n",
      "/var/kat/archive/data/RTS/telescope_products/2016/02/04 1454613457.h5\n",
      "/home/kat/RTS/2.7-Pointing/jitter_scan.py /home/kat/RTS/sources_bright_Ku.csv -f 12500.5 -n off -m 3000 --stow-when-done --proposal-id=COMM-RTS -r 2 --product=c856M4k --sb-id-code=20160204-0009 --description=RTS: 2.7.2 - Ku-band Pointing Jitter --observer=RTS \n",
      "\n",
      "OA129\n",
      "........................................................................................\n",
      "RTS: 2.7.1 Ku-band Offset Pointing\n",
      "m024 m025\n",
      "/var/kat/archive/data/RTS/telescope_products/2016/02/04 1454616513.h5\n",
      "/home/kat/RTS/2.7-Pointing/offset_test_scan.py /home/kat/RTS/sources_bright_Ku.csv -f 12500.5 -r 1 -n off --fine --number-sources=10 --stow-when-done --proposal-id=COMM-RTS --product=c856M4k --sb-id-code=20160204-0011 --description=RTS: 2.7.1 Ku-band Offset Pointing --observer=RTS \n",
      "\n",
      "2E1488 OA129 offset_30 offset_31 offset_32 offset_16 offset_17 offset_14 offset_15 offset_12 offset_13 offset_10 offset_11 offset_18 offset_19 OP158.3 3C279 OL93 offset_9 2E2471 offset_29 offset_28 offset_23 offset_22 offset_21 offset_20 offset_27 offset_26 offset_25 offset_24 0454-234 offset_8 OJ287 offset_4 offset_5 offset_6 offset_7 offset_1 offset_2 offset_3\n",
      "........................................................................................\n",
      "RTS: 2.7.1 Ku-band Offset Pointing\n",
      "m024 m025\n",
      "/var/kat/archive/data/RTS/telescope_products/2016/02/05 1454630900.h5\n",
      "/home/kat/RTS/2.7-Pointing/offset_test_scan.py /home/kat/RTS/sources_bright_Ku.csv -f 12500.5 -r 1 -n off --fine --number-sources=10 --stow-when-done --proposal-id=COMM-RTS --product=c856M4k --sb-id-code=20160204-0012 --description=RTS: 2.7.1 Ku-band Offset Pointing --observer=RTS \n",
      "\n",
      "2E1488 offset_19 offset_30 offset_31 offset_32 offset_16 offset_17 offset_14 offset_15 offset_12 offset_13 offset_10 offset_11 offset_18 2E2471 OP158.3 3C279 OL93 OJ287 offset_29 offset_28 offset_23 offset_22 offset_21 offset_20 offset_27 offset_26 offset_25 offset_24 OT-151 OV236 offset_8 offset_9 offset_4 offset_5 offset_6 offset_7 offset_1 offset_2 offset_3\n",
      "........................................................................................\n",
      "RTS: 2.7.1 Ku-band Offset Pointing\n",
      "m024 m025\n",
      "/var/kat/archive/data/RTS/telescope_products/2016/02/05 1454645709.h5\n",
      "/home/kat/RTS/2.7-Pointing/offset_test_scan.py /home/kat/RTS/sources_bright_Ku.csv -f 12500.5 -r 1 -n off --fine --number-sources=10 --stow-when-done --proposal-id=COMM-RTS --product=c856M4k --sb-id-code=20160204-0010 --description=RTS: 2.7.1 Ku-band Offset Pointing --observer=RTS \n",
      "\n",
      "OP158.3 offset_16 offset_17 offset_14 offset_15 offset_12 offset_13 offset_10 offset_11 offset_18 2E2471 3C279 OL93 offset_23 offset_22 offset_21 offset_20 OV236 offset_24 offset_19 OT-151 offset_8 offset_9 offset_4 offset_5 offset_6 offset_7 offset_1 offset_2 offset_3\n",
      "........................................................................................\n",
      "RTS: 2.7.1 Ku-band Offset Pointing\n",
      "m024 m025\n",
      "/var/kat/archive/data/RTS/telescope_products/2016/02/05 1454657860.h5\n",
      "/home/kat/RTS/2.7-Pointing/offset_test_scan.py /home/kat/RTS/sources_bright_Ku.csv -f 12500.5 -r 1 -n off --fine --number-sources=10 --stow-when-done --proposal-id=COMM-RTS --product=c856M4k --sb-id-code=20160204-0015 --description=RTS: 2.7.1 Ku-band Offset Pointing --observer=RTS \n",
      "\n",
      "offset_16 offset_14 OT-151 offset_12 offset_10 OV236 offset_11 OP158.3 offset_15 offset_8 offset_9 3C454.3 offset_4 offset_5 offset_6 offset_7 offset_13 offset_1 offset_2 offset_3\n",
      "........................................................................................\n",
      "RTS: 2.7.1 Ku-band Offset Pointing\n",
      "m024 m025\n",
      "/var/kat/archive/data/RTS/telescope_products/2016/02/05 1454666087.h5\n",
      "/home/kat/RTS/2.7-Pointing/offset_test_scan.py /home/kat/RTS/sources_bright_Ku.csv -f 12500.5 -r 1 -n off --fine --number-sources=10 --stow-when-done --proposal-id=COMM-RTS --product=c856M4k --sb-id-code=20160204-0013 --description=RTS: 2.7.1 Ku-band Offset Pointing --observer=RTS \n",
      "\n",
      "OT-151 offset_12 offset_10 offset_11 offset_1 offset_8 offset_9 3C454.3 offset_4 offset_5 offset_6 offset_7 OV236 offset_2 offset_3\n",
      "........................................................................................\n",
      "RTS: 2.7.1 Ku-band Offset Pointing\n",
      "m024 m025\n",
      "/var/kat/archive/data/RTS/telescope_products/2016/02/11 1455205920.h5\n",
      "/home/kat/RTS/2.7-Pointing/offset_test_scan.py /home/kat/RTS/sources_bright_Ku.csv -f 12500.5 -r 1 -n off --fine --number-sources=10 --stow-when-done --proposal-id=COMM-RTS --product=c856M4k --sb-id-code=20160211-0004 --description=RTS: 2.7.1 Ku-band Offset Pointing --observer=RTS \n",
      "\n",
      "0454-234 offset_12 offset_10 offset_11 2E1488 offset_7 offset_8 offset_9 offset_4 offset_5 offset_6 OA129 offset_1 offset_2 offset_3\n",
      "........................................................................................\n",
      "RTS: 2.7.1 Ku-band Offset Pointing\n",
      "m024 m025\n",
      "/var/kat/archive/data/RTS/telescope_products/2016/02/11 1455211407.h5\n",
      "/home/kat/RTS/2.7-Pointing/offset_test_scan.py /home/kat/RTS/sources_bright_Ku.csv -f 12500.5 -r 1 -n off --fine --number-sources=10 --stow-when-done --proposal-id=COMM-RTS --product=c856M4k --sb-id-code=20160211-0005 --description=RTS: 2.7.1 Ku-band Offset Pointing --observer=RTS \n",
      "\n",
      "OA129\n",
      "........................................................................................\n",
      "RTS: 2.7.1 Ku-band Offset Pointing\n",
      "m024 m025\n",
      "/var/kat/archive/data/RTS/telescope_products/2016/02/11 1455212283.h5\n",
      "/home/kat/RTS/2.7-Pointing/offset_test_scan.py /home/kat/RTS/sources_bright_Ku.csv -f 12500.5 -r 1 -n off --fine --number-sources=10 --stow-when-done --proposal-id=COMM-RTS --product=c856M4k --sb-id-code=20160211-0006 --description=RTS: 2.7.1 Ku-band Offset Pointing --observer=RTS \n",
      "\n",
      "offset_16 offset_14 0454-234 offset_12 offset_13 offset_10 offset_11 2E1488 OJ287 offset_7 offset_15 offset_8 offset_9 offset_4 offset_5 offset_6 OA129 offset_1 offset_2 offset_3\n",
      "........................................................................................\n",
      "RTS: 2.7.1 Ku-band Offset Pointing\n",
      "m024 m025\n",
      "/var/kat/archive/data/RTS/telescope_products/2016/02/11 1455219930.h5\n",
      "/home/kat/RTS/2.7-Pointing/offset_test_scan.py /home/kat/RTS/sources_bright_Ku.csv -f 12500.5 -r 1 -n off --fine --number-sources=10 --stow-when-done --proposal-id=COMM-RTS --product=c856M4k --sb-id-code=20160211-0007 --description=RTS: 2.7.1 Ku-band Offset Pointing --observer=RTS \n",
      "\n",
      "2E1488 OA129 offset_30 offset_31 offset_32 offset_16 offset_17 offset_14 offset_15 offset_12 offset_13 offset_10 offset_11 offset_18 offset_19 OP158.3 3C279 OL93 offset_9 2E2471 offset_29 offset_28 offset_23 offset_22 offset_21 offset_20 offset_27 offset_26 offset_25 offset_24 0454-234 offset_8 OJ287 offset_4 offset_5 offset_6 offset_7 offset_1 offset_2 offset_3\n",
      "........................................................................................\n",
      "RTS: 2.7.1 Ku-band Offset Pointing\n",
      "m024 m025\n",
      "/var/kat/archive/data/RTS/telescope_products/2016/02/11 1455234382.h5\n",
      "/home/kat/RTS/2.7-Pointing/offset_test_scan.py /home/kat/RTS/sources_bright_Ku.csv -f 12500.5 -r 1 -n off --fine --number-sources=10 --stow-when-done --proposal-id=COMM-RTS --product=c856M4k --sb-id-code=20160211-0009 --description=RTS: 2.7.1 Ku-band Offset Pointing --observer=RTS \n",
      "\n",
      "2E1488 offset_19 offset_30 offset_31 offset_32 offset_16 offset_17 offset_14 offset_15 offset_12 offset_13 offset_10 offset_11 offset_18 2E2471 OP158.3 3C279 OL93 OJ287 offset_29 offset_28 offset_23 offset_22 offset_21 offset_20 offset_27 offset_26 offset_25 offset_24 OT-151 OV236 offset_8 offset_9 offset_4 offset_5 offset_6 offset_7 offset_1 offset_2 offset_3\n",
      "........................................................................................\n",
      "RTS: 2.7.1 Ku-band Offset Pointing\n",
      "m024 m025\n",
      "/var/kat/archive/data/RTS/telescope_products/2016/02/12 1455249038.h5\n",
      "/home/kat/RTS/2.7-Pointing/offset_test_scan.py /home/kat/RTS/sources_bright_Ku.csv -f 12500.5 -r 1 -n off --fine --number-sources=10 --stow-when-done --proposal-id=COMM-RTS --product=c856M4k --sb-id-code=20160211-0010 --description=RTS: 2.7.1 Ku-band Offset Pointing --observer=RTS \n",
      "\n",
      "2E2471 offset_5 offset_4 OL93 offset_6 offset_7 offset_1 offset_2 offset_3\n",
      "........................................................................................\n",
      "RTS: 2.7.1 Ku-band Offset Pointing\n",
      "m024 m025\n",
      "/var/kat/archive/data/RTS/telescope_products/2016/02/12 1455252018.h5\n",
      "/home/kat/RTS/2.7-Pointing/offset_test_scan.py /home/kat/RTS/sources_bright_Ku.csv -f 12500.5 -r 1 -n off --fine --number-sources=10 --stow-when-done --proposal-id=COMM-RTS --product=c856M4k --sb-id-code=20160211-0008 --description=RTS: 2.7.1 Ku-band Offset Pointing --observer=RTS \n",
      "\n",
      "offset_10 offset_9 2E2471 OP158.3 offset_8 3C279 offset_4 offset_5 offset_6 offset_7 offset_1 offset_2 offset_3\n",
      "........................................................................................\n",
      "RTS: 2.7.2 - Ku-band Pointing Jitter\n",
      "m024 m025\n",
      "/var/kat/archive/data/RTS/telescope_products/2016/02/14 1455465340.h5\n",
      "/home/kat/RTS/2.7-Pointing/jitter_scan.py /home/kat/RTS/sources_bright_Ku.csv -f 12500.5 -n off -m 3000 --stow-when-done --proposal-id=COMM-RTS -r 2 --product=c856M4k --sb-id-code=20160214-0008 --description=RTS: 2.7.2 - Ku-band Pointing Jitter --observer=RTS \n",
      "\n",
      "OA129\n",
      "........................................................................................\n",
      "RTS: 2.7.1 Ku-band Offset Pointing\n",
      "m024 m025\n",
      "/var/kat/archive/data/RTS/telescope_products/2016/02/14 1455468406.h5\n",
      "/home/kat/RTS/2.7-Pointing/offset_test_scan.py /home/kat/RTS/sources_bright_Ku.csv -f 12500.5 -r 1 -n off --fine --number-sources=10 --stow-when-done --proposal-id=COMM-RTS --product=c856M4k --sb-id-code=20160214-0006 --description=RTS: 2.7.1 Ku-band Offset Pointing --observer=RTS \n",
      "\n",
      "0454-234 offset_12 offset_10 offset_11 2E1488 offset_7 offset_8 offset_9 offset_4 offset_5 offset_6 OA129 offset_1 offset_2 offset_3\n",
      "........................................................................................\n",
      "RTS: 2.7.2 - Ku-band Pointing Jitter\n",
      "m024 m025\n",
      "/var/kat/archive/data/RTS/telescope_products/2016/02/14 1455473971.h5\n",
      "/home/kat/RTS/2.7-Pointing/jitter_scan.py /home/kat/RTS/sources_bright_Ku.csv -f 12500.5 -n off -m 3000 --stow-when-done --proposal-id=COMM-RTS -r 2 --product=c856M4k --sb-id-code=20160214-0009 --description=RTS: 2.7.2 - Ku-band Pointing Jitter --observer=RTS \n",
      "\n",
      "OA129 0454-234\n",
      "........................................................................................\n",
      "RTS: 2.7.1 Ku-band Offset Pointing\n",
      "m024 m025\n",
      "/var/kat/archive/data/RTS/telescope_products/2016/02/14 1455479944.h5\n",
      "/home/kat/RTS/2.7-Pointing/offset_test_scan.py /home/kat/RTS/sources_bright_Ku.csv -f 12500.5 -r 1 -n off --fine --number-sources=10 --stow-when-done --proposal-id=COMM-RTS --product=c856M4k --sb-id-code=20160214-0007 --description=RTS: 2.7.1 Ku-band Offset Pointing --observer=RTS \n",
      "\n",
      "2E1488 OA129 offset_30 offset_31 offset_32 offset_16 offset_17 offset_14 offset_15 offset_12 offset_13 offset_10 offset_11 offset_18 offset_19 OP158.3 3C279 OL93 offset_9 2E2471 offset_29 offset_28 offset_23 offset_22 offset_21 offset_20 offset_27 offset_26 offset_25 offset_24 0454-234 offset_8 OJ287 offset_4 offset_5 offset_6 offset_7 offset_1 offset_2 offset_3\n",
      "........................................................................................\n",
      "RTS: 2.7.2 - Ku-band Pointing Jitter\n",
      "m024 m025\n",
      "/var/kat/archive/data/RTS/telescope_products/2016/02/15 1455494408.h5\n",
      "/home/kat/RTS/2.7-Pointing/jitter_scan.py /home/kat/RTS/sources_bright_Ku.csv -f 12500.5 -n off -m 3000 --stow-when-done --proposal-id=COMM-RTS -r 2 --product=c856M4k --sb-id-code=20160214-0010 --description=RTS: 2.7.2 - Ku-band Pointing Jitter --observer=RTS \n",
      "\n",
      "2E1488 OJ287\n",
      "........................................................................................\n",
      "RTS: 2.7.1 Ku-band Offset Pointing\n",
      "m024 m025\n",
      "/var/kat/archive/data/RTS/telescope_products/2016/02/15 1455500469.h5\n",
      "/home/kat/RTS/2.7-Pointing/offset_test_scan.py /home/kat/RTS/sources_bright_Ku.csv -f 12500.5 -r 1 -n off --fine --number-sources=10 --stow-when-done --proposal-id=COMM-RTS --product=c856M4k --sb-id-code=20160214-0005 --description=RTS: 2.7.1 Ku-band Offset Pointing --observer=RTS \n",
      "\n",
      "OP158.3 offset_16 offset_17 offset_14 offset_15 offset_12 offset_13 offset_10 offset_11 offset_18 2E2471 3C279 OL93 offset_23 offset_22 offset_21 offset_20 OV236 offset_24 offset_19 OT-151 offset_8 offset_9 offset_4 offset_5 offset_6 offset_7 offset_1 offset_2 offset_3\n",
      "........................................................................................\n",
      "RTS: 2.7 L-band Pointing L Band\n",
      "m031 m034\n",
      "/var/kat/archive/data/RTS/telescope_products/2016/02/15 1455548694.h5\n",
      "/home/kat/RTS/2.7-Pointing/point_source_scan.py /home/kat/RTS/sources_pnt_L.csv -r 1 -n coupler,10,10,180 -m 33000 --product=c856M4k -f 1284 --horizon=16 --stow-when-done --proposal-id=COMM-RTS --sb-id-code=20160215-0019 --description=RTS: 2.7 L-band Pointing L Band --observer=RTS \n",
      "\n",
      "3C 161 PKS 2153-69 3C 48 For A Pic A PKS 0410-75 Ori A PKS 0521-36 PKS 0408-65 Tau A 3C 123\n",
      "........................................................................................\n",
      "RTS: 2.7 L-band Pointing L Band\n",
      "m034\n",
      "/var/kat/archive/data/RTS/telescope_products/2016/02/15 1455571168.h5\n",
      "/home/kat/RTS/2.7-Pointing/point_source_scan.py /home/kat/RTS/sources_pnt_L.csv -r 1 -n coupler,10,10,180 -m 33000 --product=c856M4k -f 1284 --horizon=16 --stow-when-done --proposal-id=COMM-RTS --sb-id-code=20160215-0027 --description=RTS: 2.7 L-band Pointing L Band --observer=RTS \n",
      "\n",
      "3C 286 PKS 1934-63 3C 161 3C 358 3C 279 PKS 2153-69 3C 273 For A PKS 2104-25 3C 353 Pic A PKS 0410-75 Vir A Ori A PKS 0521-36 PKS 0408-65 PKS 1610-60 Her A PKS 1814-63 Hyd A\n",
      "........................................................................................\n",
      "RTS: 2.7 L-band Pointing L Band\n",
      "m031 m034\n",
      "/var/kat/archive/data/RTS/telescope_products/2016/02/18 1455837181.h5\n",
      "/home/kat/RTS/2.7-Pointing/point_source_scan.py /home/kat/RTS/sources_pnt_L.csv -r 1 -n coupler,10,10,180 -m 33000 --product=c856M4k -f 1284 --horizon=16 --stow-when-done --proposal-id=COMM-RTS --sb-id-code=20160218-0005 --description=RTS: 2.7 L-band Pointing L Band --observer=RTS \n",
      "\n",
      "3C 286 3C 279 3C 358 PKS 2153-69 3C 273 Her A 3C 353 Pic A PKS 0410-75 Vir A PKS 1934-63 PKS 1610-60 PKS 1814-63 Hyd A\n",
      "........................................................................................\n",
      "RTS: 2.7 L-band Pointing L Band\n",
      "m031 m034\n",
      "/var/kat/archive/data/RTS/telescope_products/2016/02/26 1456494625.h5\n",
      "/home/kat/RTS/2.7-Pointing/point_source_scan.py /home/kat/RTS/sources_pnt_L.csv -r 1 -n coupler,10,10,180 -m 33000 --product=c856M4k -f 1284 --horizon=16 --stow-when-done --proposal-id=COMM-RTS --sb-id-code=20160226-0004 --description=RTS: 2.7 L-band Pointing L Band --observer=RTS \n",
      "\n",
      "3C 161 PKS 2153-69 3C 48 For A Pic A PKS 0410-75 Ori A PKS 0521-36 PKS 0408-65 Tau A Hyd A 3C 123\n",
      "........................................................................................\n",
      "RTS: 2.7.1 Ku-band Offset Pointing\n",
      "m024 m025\n",
      "/var/kat/archive/data/RTS/telescope_products/2016/02/27 1456541286.h5\n",
      "/home/kat/RTS/2.7-Pointing/offset_test_scan.py /home/kat/RTS/sources_bright_Ku.csv -f 12500.5 -r 1 -n off --fine --number-sources=10 --proposal-id=COMM-RTS --product=c856M4k --sb-id-code=20160226-0019 --description=RTS: 2.7.1 Ku-band Offset Pointing --observer=RTS \n",
      "\n",
      "OP158.3 offset_16 offset_17 offset_14 offset_15 offset_12 offset_13 offset_10 offset_11 offset_18 2E2471 3C279 OL93 offset_23 offset_22 offset_21 offset_20 OV236 offset_24 offset_19 OT-151 offset_8 offset_9 offset_4 offset_5 offset_6 offset_7 offset_1 offset_2 offset_3\n",
      "........................................................................................\n",
      "RTS: 2.7.1 Ku-band Offset Pointing\n",
      "m024 m025\n",
      "/var/kat/archive/data/RTS/telescope_products/2016/02/27 1456552251.h5\n",
      "/home/kat/RTS/2.7-Pointing/offset_test_scan.py /home/kat/RTS/sources_bright_Ku.csv -f 12500.5 -r 1 -n off --fine --number-sources=10 --proposal-id=COMM-RTS --product=c856M4k --sb-id-code=20160226-0021 --description=RTS: 2.7.1 Ku-band Offset Pointing --observer=RTS \n",
      "\n",
      "OT-151 offset_12 offset_10 OV236 offset_11 OP158.3 offset_8 offset_9 offset_4 offset_5 offset_6 offset_7 offset_1 offset_2 offset_3\n",
      "........................................................................................\n",
      "RTS: 2.7.1 Ku-band Offset Pointing\n",
      "m024 m025\n",
      "/var/kat/archive/data/RTS/telescope_products/2016/02/27 1456558147.h5\n",
      "/home/kat/RTS/2.7-Pointing/offset_test_scan.py /home/kat/RTS/sources_bright_Ku.csv -f 12500.5 -r 1 -n off --fine --number-sources=10 --proposal-id=COMM-RTS --product=c856M4k --sb-id-code=20160226-0020 --description=RTS: 2.7.1 Ku-band Offset Pointing --observer=RTS \n",
      "\n",
      "OT-151 offset_12 offset_10 offset_11 offset_1 offset_8 offset_9 3C454.3 offset_4 offset_5 offset_6 offset_7 OV236 offset_2 offset_3\n",
      "........................................................................................\n",
      "RTS: 2.7.1 Ku-band Offset Pointing\n",
      "m024 m025\n",
      "/var/kat/archive/data/RTS/telescope_products/2016/02/27 1456563780.h5\n",
      "/home/kat/RTS/2.7-Pointing/offset_test_scan.py /home/kat/RTS/sources_bright_Ku.csv -f 12500.5 -r 1 -n off --fine --number-sources=10 --proposal-id=COMM-RTS --product=c856M4k --sb-id-code=20160226-0023 --description=RTS: 2.7.1 Ku-band Offset Pointing --observer=RTS \n",
      "\n",
      "OT-151 offset_12 offset_10 offset_11 offset_1 offset_8 offset_9 3C454.3 offset_4 offset_5 offset_6 offset_7 OV236 offset_2 offset_3\n",
      "........................................................................................\n",
      "RTS: 2.7.1 Ku-band Offset Pointing\n",
      "m024 m025\n",
      "/var/kat/archive/data/RTS/telescope_products/2016/02/27 1456569368.h5\n",
      "/home/kat/RTS/2.7-Pointing/offset_test_scan.py /home/kat/RTS/sources_bright_Ku.csv -f 12500.5 -r 1 -n off --fine --number-sources=10 --proposal-id=COMM-RTS --product=c856M4k --sb-id-code=20160226-0022 --description=RTS: 2.7.1 Ku-band Offset Pointing --observer=RTS \n",
      "\n",
      "offset_1 offset_8 3C454.3 offset_4 offset_5 offset_6 offset_7 OV236 offset_2 offset_3\n",
      "........................................................................................\n",
      "RTS: 2.7 L-band Pointing L Band\n",
      "m031 m034\n",
      "/var/kat/archive/data/RTS/telescope_products/2016/02/27 1456577978.h5\n",
      "/home/kat/RTS/2.7-Pointing/point_source_scan.py /home/kat/RTS/sources_pnt_L.csv -r 1 -n coupler,10,10,180 -m 33000 --product=c856M4k -f 1284 --horizon=16 --proposal-id=COMM-RTS --sb-id-code=20160227-0014 --description=RTS: 2.7 L-band Pointing L Band --observer=RTS \n",
      "\n",
      "PKS 1934-63 3C 161 PKS 2153-69 3C 48 For A PKS 2104-25 Pic A PKS 0410-75 Ori A PKS 0521-36 PKS 0408-65 3C 454.3 Tau A 3C 123\n",
      "........................................................................................\n",
      "RTS: 2.7 L-band Pointing L Band\n",
      "m031 m034\n",
      "/var/kat/archive/data/RTS/telescope_products/2016/02/28 1456674632.h5\n",
      "/home/kat/RTS/2.7-Pointing/point_source_scan.py /home/kat/RTS/sources_pnt_L.csv -r 1 -n coupler,10,10,180 -m 33000 --product=c856M4k -f 1284 --horizon=16 --proposal-id=COMM-RTS --sb-id-code=20160228-0001 --description=RTS: 2.7 L-band Pointing L Band --observer=RTS \n",
      "\n",
      "3C 161 PKS 2153-69 For A Pic A PKS 0410-75 Ori A PKS 0521-36 PKS 0408-65 Tau A Hyd A 3C 123\n",
      "........................................................................................\n",
      "RTS: 2.7 L-band Pointing L Band\n",
      "m031 m034\n",
      "/var/kat/archive/data/RTS/telescope_products/2016/02/29 1456707585.h5\n",
      "/home/kat/RTS/2.7-Pointing/point_source_scan.py /home/kat/RTS/sources_pnt_L.csv -r 1 -n coupler,10,10,180 -m 33000 --product=c856M4k -f 1284 --horizon=16 --proposal-id=COMM-RTS --sb-id-code=20160228-0019 --description=RTS: 2.7 L-band Pointing L Band --observer=RTS \n",
      "\n",
      "3C 286 Vir A 3C 279 3C 358 PKS 2153-69 3C 409 3C 273 Her A PKS 2104-25 PKS 1814-63 3C 353 PKS 1934-63 PKS 1610-60 Hyd A\n",
      "........................................................................................\n",
      "RTS: 2.7 L-band Pointing L Band\n",
      "m031 m034\n",
      "/var/kat/archive/data/RTS/telescope_products/2016/02/29 1456746685.h5\n",
      "/home/kat/RTS/2.7-Pointing/point_source_scan.py /home/kat/RTS/sources_pnt_L.csv -r 1 -n off -m 33000 --product=c856M4k -f 1284 --horizon=16 --proposal-id=COMM-RTS --sb-id-code=20160229-0007 --description=RTS: 2.7 L-band Pointing L Band --observer=RTS \n",
      "\n",
      "Ori A PKS 2153-69 3C 48 For A PKS 2104-25 Pic A PKS 0410-75 PKS 1814-63 PKS 1934-63 PKS 0521-36 PKS 0408-65 3C 454.3\n",
      "........................................................................................\n"
     ]
    }
   ],
   "source": [
    "for fi in f:\n",
    "    print fi.metadata.Description\n",
    "    print listpr(fi.metadata.Antennas)\n",
    "    print fi.metadata.FileLocation, findh5(fi.metadata.Details)\n",
    "    print fi.metadata.InstructionSet,\"\\n\"\n",
    "    print listpr(fi.metadata.Targets)\n",
    "    print \".\"*88\n",
    "    "
   ]
  },
  {
   "cell_type": "code",
   "execution_count": 9,
   "metadata": {
    "collapsed": false
   },
   "outputs": [
    {
     "data": {
      "text/plain": [
       "[['1', '2016-02-01 01:53:02 SAST', 'RTS', [4952908116]],\n",
       " ['1', '2016-02-01 04:59:13 SAST', 'RTS', [4090538830]],\n",
       " ['1', '2016-02-01 07:33:07 SAST', 'RTS', [5760889399]],\n",
       " ['1', '2016-02-01 13:22:01 SAST', 'RTS', [310798334]],\n",
       " ['1', '2016-02-01 22:58:32 SAST', 'RTS', [6515978269]],\n",
       " ['1', '2016-02-02 06:00:25 SAST', 'RTS', [7318140222]],\n",
       " ['1', '2016-02-02 10:50:23 SAST', 'RTS', [9045064621]],\n",
       " ['1', '2016-02-04 16:38:36 SAST', 'RTS', [2413904318]],\n",
       " ['1', '2016-02-04 18:09:48 SAST', 'RTS', [2448651574]],\n",
       " ['1', '2016-02-04 19:42:16 SAST', 'RTS', [2526604229]],\n",
       " ['1', '2016-02-04 21:17:38 SAST', 'RTS', [2672735888]],\n",
       " ['1', '2016-02-04 22:08:34 SAST', 'RTS', [6386821933]],\n",
       " ['1', '2016-02-05 02:08:21 SAST', 'RTS', [6575227153]],\n",
       " ['1', '2016-02-05 06:15:10 SAST', 'RTS', [4932440892]],\n",
       " ['1', '2016-02-05 09:37:41 SAST', 'RTS', [3646883696]],\n",
       " ['1', '2016-02-05 11:54:48 SAST', 'RTS', [2455344295]],\n",
       " ['1', '2016-02-11 17:52:01 SAST', 'RTS', [2421177839]],\n",
       " ['1', '2016-02-11 19:23:28 SAST', 'RTS', [141275480]],\n",
       " ['1', '2016-02-11 19:38:04 SAST', 'RTS', [3382056547]],\n",
       " ['1', '2016-02-11 21:45:32 SAST', 'RTS', [6414346416]],\n",
       " ['1', '2016-02-12 01:46:23 SAST', 'RTS', [6506718701]],\n",
       " ['1', '2016-02-12 05:50:39 SAST', 'RTS', [1303888351]],\n",
       " ['1', '2016-02-12 06:40:19 SAST', 'RTS', [2084750882]],\n",
       " ['1', '2016-02-14 17:55:41 SAST', 'RTS', [2681665009]],\n",
       " ['1', '2016-02-14 18:46:47 SAST', 'RTS', [2455362952]],\n",
       " ['1', '2016-02-14 20:19:32 SAST', 'RTS', [5273742401]],\n",
       " ['1', '2016-02-14 21:59:06 SAST', 'RTS', [6420661334]],\n",
       " ['1', '2016-02-15 02:00:09 SAST', 'RTS', [5349428367]],\n",
       " ['1', '2016-02-15 03:41:10 SAST', 'RTS', [4860286245]],\n",
       " ['1', '2016-02-15 17:04:55 SAST', 'RTS', [9423632261]],\n",
       " ['1', '2016-02-15 23:19:29 SAST', 'RTS', [4762885072]],\n",
       " ['1', '2016-02-19 01:13:02 SAST', 'RTS', [14711753928]],\n",
       " ['1', '2016-02-26 15:50:26 SAST', 'RTS', [8075970209]],\n",
       " ['1', '2016-02-27 04:48:07 SAST', 'RTS', [4861225598]],\n",
       " ['1', '2016-02-27 07:50:52 SAST', 'RTS', [2602793843]],\n",
       " ['1', '2016-02-27 09:29:08 SAST', 'RTS', [2485185189]],\n",
       " ['1', '2016-02-27 11:03:01 SAST', 'RTS', [2466012579]],\n",
       " ['1', '2016-02-27 12:36:09 SAST', 'RTS', [1654898397]],\n",
       " ['1', '2016-02-27 14:59:40 SAST', 'RTS', [6089303702]],\n",
       " ['1', '2016-02-28 17:50:33 SAST', 'RTS', [2248666379]],\n",
       " ['1', '2016-02-29 02:59:46 SAST', 'RTS', [8772170891]],\n",
       " ['1', '2016-02-29 13:51:27 SAST', 'RTS', [3568998100]]]"
      ]
     },
     "execution_count": 9,
     "metadata": {},
     "output_type": "execute_result"
    }
   ],
   "source": [
    "f"
   ]
  },
  {
   "cell_type": "code",
   "execution_count": 10,
   "metadata": {
    "collapsed": false
   },
   "outputs": [
    {
     "name": "stdout",
     "output_type": "stream",
     "text": [
      "01 1454284381.h5 RTS: 2.7.1 Ku-band Offset Pointing m024 m025\n",
      "01 1454295552.h5 RTS: 2.7.1 Ku-band Offset Pointing m024 m025\n",
      "01 1454304786.h5 RTS: 2.7.1 Ku-band Offset Pointing m024 m025\n",
      "01 1454325720.h5 Offset pointing test using horizon to horizon sources m024 m025\n",
      "01 1454360311.h5 RTS: 2.7.1 Ku-band Offset Pointing m024 m025\n",
      "02 1454385623.h5 Offset pointing test using horizon to horizon sources m024 m025\n",
      "02 1454403021.h5 Offset pointing test using horizon to horizon sources m024 m025\n",
      "04 1454596715.h5 RTS: 2.7.1 Ku-band Offset Pointing m024 m025\n",
      "04 1454602187.h5 RTS: 2.7.1 Ku-band Offset Pointing m024 m025\n",
      "04 1454607735.h5 RTS: 2.7.1 Ku-band Offset Pointing m024 m025\n",
      "04 1454613457.h5 RTS: 2.7.2 - Ku-band Pointing Jitter m024 m025\n",
      "04 1454616513.h5 RTS: 2.7.1 Ku-band Offset Pointing m024 m025\n",
      "05 1454630900.h5 RTS: 2.7.1 Ku-band Offset Pointing m024 m025\n",
      "05 1454645709.h5 RTS: 2.7.1 Ku-band Offset Pointing m024 m025\n",
      "05 1454657860.h5 RTS: 2.7.1 Ku-band Offset Pointing m024 m025\n",
      "05 1454666087.h5 RTS: 2.7.1 Ku-band Offset Pointing m024 m025\n",
      "11 1455205920.h5 RTS: 2.7.1 Ku-band Offset Pointing m024 m025\n",
      "11 1455211407.h5 RTS: 2.7.1 Ku-band Offset Pointing m024 m025\n",
      "11 1455212283.h5 RTS: 2.7.1 Ku-band Offset Pointing m024 m025\n",
      "11 1455219930.h5 RTS: 2.7.1 Ku-band Offset Pointing m024 m025\n",
      "12 1455234382.h5 RTS: 2.7.1 Ku-band Offset Pointing m024 m025\n",
      "12 1455249038.h5 RTS: 2.7.1 Ku-band Offset Pointing m024 m025\n",
      "12 1455252018.h5 RTS: 2.7.1 Ku-band Offset Pointing m024 m025\n",
      "14 1455465340.h5 RTS: 2.7.2 - Ku-band Pointing Jitter m024 m025\n",
      "14 1455468406.h5 RTS: 2.7.1 Ku-band Offset Pointing m024 m025\n",
      "14 1455473971.h5 RTS: 2.7.2 - Ku-band Pointing Jitter m024 m025\n",
      "14 1455479944.h5 RTS: 2.7.1 Ku-band Offset Pointing m024 m025\n",
      "15 1455494408.h5 RTS: 2.7.2 - Ku-band Pointing Jitter m024 m025\n",
      "15 1455500469.h5 RTS: 2.7.1 Ku-band Offset Pointing m024 m025\n",
      "15 1455548694.h5 RTS: 2.7 L-band Pointing L Band m031 m034\n",
      "15 1455571168.h5 RTS: 2.7 L-band Pointing L Band m034\n",
      "19 1455837181.h5 RTS: 2.7 L-band Pointing L Band m031 m034\n",
      "26 1456494625.h5 RTS: 2.7 L-band Pointing L Band m031 m034\n",
      "27 1456541286.h5 RTS: 2.7.1 Ku-band Offset Pointing m024 m025\n",
      "27 1456552251.h5 RTS: 2.7.1 Ku-band Offset Pointing m024 m025\n",
      "27 1456558147.h5 RTS: 2.7.1 Ku-band Offset Pointing m024 m025\n",
      "27 1456563780.h5 RTS: 2.7.1 Ku-band Offset Pointing m024 m025\n",
      "27 1456569368.h5 RTS: 2.7.1 Ku-band Offset Pointing m024 m025\n",
      "27 1456577978.h5 RTS: 2.7 L-band Pointing L Band m031 m034\n",
      "28 1456674632.h5 RTS: 2.7 L-band Pointing L Band m031 m034\n",
      "29 1456707585.h5 RTS: 2.7 L-band Pointing L Band m031 m034\n",
      "29 1456746685.h5 RTS: 2.7 L-band Pointing L Band m031 m034\n"
     ]
    }
   ],
   "source": [
    "for fi in f:\n",
    "    x= repr(fi)\n",
    "    pr=x.split(\",\")\n",
    "    print pr[1][10:12],findh5(fi.metadata.Details) , fi.metadata.Description, listpr(fi.metadata.Antennas)"
   ]
  },
  {
   "cell_type": "code",
   "execution_count": 11,
   "metadata": {
    "collapsed": false
   },
   "outputs": [
    {
     "name": "stdout",
     "output_type": "stream",
     "text": [
      "Searched using: CAS.ProductTypeName:(RTSTelescopeProduct) AND CAS.ProductTransferStatus:RECEIVED AND Description:Interferometric_Pointing AND StartTime:[2016-01-31T22:00:00Z TO 2016-02-29T21:59:59Z]\n",
      "Returning 0 results\n"
     ]
    },
    {
     "data": {
      "text/plain": [
       "[]"
      ]
     },
     "execution_count": 11,
     "metadata": {},
     "output_type": "execute_result"
    }
   ],
   "source": [
    "\n",
    "f2=katarchive.search_archive(description=\"Interferometric_Pointing\",startdate=start,enddate=end)\n",
    "\n",
    "f2.sort(key=lambda k: k.metadata.StartTime)\n",
    "f2"
   ]
  },
  {
   "cell_type": "code",
   "execution_count": 12,
   "metadata": {
    "collapsed": false
   },
   "outputs": [],
   "source": [
    "for fi in f2:\n",
    "    print fi.metadata.Description\n",
    "    print listpr(fi.metadata.Antennas)\n",
    "    print fi.metadata.FileLocation, findh5(fi.metadata.Details)\n",
    "    print fi.metadata.InstructionSet,\"\\n\"\n",
    "    print listpr(fi.metadata.Targets)\n",
    "    print \".\"*88"
   ]
  },
  {
   "cell_type": "code",
   "execution_count": 13,
   "metadata": {
    "collapsed": false,
    "scrolled": true
   },
   "outputs": [
    {
     "data": {
      "text/plain": [
       "[]"
      ]
     },
     "execution_count": 13,
     "metadata": {},
     "output_type": "execute_result"
    }
   ],
   "source": [
    "f2.sort(key=lambda k: k.metadata.StartTime)\n",
    "f2"
   ]
  },
  {
   "cell_type": "code",
   "execution_count": 14,
   "metadata": {
    "collapsed": false
   },
   "outputs": [],
   "source": [
    "for fi in f2:\n",
    "    x= repr(fi)\n",
    "    pr=x.split(\",\")\n",
    "    print pr[1][10:12],findh5(fi.metadata.Details),fi.metadata.Description,listpr(fi.metadata.Antennas)"
   ]
  }
 ],
 "metadata": {
  "kernelspec": {
   "display_name": "Python 2",
   "language": "python",
   "name": "python2"
  },
  "language_info": {
   "codemirror_mode": {
    "name": "ipython",
    "version": 2
   },
   "file_extension": ".py",
   "mimetype": "text/x-python",
   "name": "python",
   "nbconvert_exporter": "python",
   "pygments_lexer": "ipython2",
   "version": "2.7.6"
  }
 },
 "nbformat": 4,
 "nbformat_minor": 0
}
