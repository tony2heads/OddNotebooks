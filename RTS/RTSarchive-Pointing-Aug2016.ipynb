{
 "cells": [
  {
   "cell_type": "code",
   "execution_count": 1,
   "metadata": {
    "collapsed": false
   },
   "outputs": [],
   "source": [
    "import katarchive\n",
    "import datetime\n"
   ]
  },
  {
   "cell_type": "code",
   "execution_count": 2,
   "metadata": {
    "collapsed": true
   },
   "outputs": [],
   "source": [
    "katarchive.product_filter.only_rts()"
   ]
  },
  {
   "cell_type": "code",
   "execution_count": 3,
   "metadata": {
    "collapsed": false
   },
   "outputs": [],
   "source": [
    "def findh5(det):   # uses detail list to get h5 name\n",
    "    pos=det.find(\"Name:\")\n",
    "    if pos >0  :\n",
    "        pr2=det[pos+37:pos+53].split()\n",
    "        h5name=pr2[0].lstrip(\"/ng\")\n",
    "    return h5name"
   ]
  },
  {
   "cell_type": "code",
   "execution_count": 4,
   "metadata": {
    "collapsed": false
   },
   "outputs": [],
   "source": [
    "def listpr(x):\n",
    "    \"\"\"\n",
    "    takes a list and prints as string\n",
    "    \"\"\"\n",
    "    li=\" \".join(map(str,x))\n",
    "    return li"
   ]
  },
  {
   "cell_type": "code",
   "execution_count": 5,
   "metadata": {
    "collapsed": true
   },
   "outputs": [],
   "source": [
    "start=\"1/08/2016\"\n",
    "end=\"31/08/2016\" "
   ]
  },
  {
   "cell_type": "code",
   "execution_count": 6,
   "metadata": {
    "collapsed": false
   },
   "outputs": [
    {
     "name": "stdout",
     "output_type": "stream",
     "text": [
      "Searched using: CAS.ProductTypeName:(RTSTelescopeProduct) AND CAS.ProductTransferStatus:RECEIVED AND Description:Point AND StartTime:[2016-07-31T22:00:00Z TO 2016-08-31T21:59:59Z]\n",
      "Returning 8 results\n"
     ]
    }
   ],
   "source": [
    "#Look for pointing\n",
    "\n",
    "f=katarchive.search_archive(description=\"Point\",startdate=start,enddate=end)\n",
    "\n",
    "#start = datetime.datetime.strptime(f[-1].__str__().split('\\'')[3],'%Y-%m-%d %H:%M:%S %Z')\n",
    "#end = datetime.datetime.strptime(f[0].__str__().split('\\'')[3],'%Y-%m-%d %H:%M:%S %Z')"
   ]
  },
  {
   "cell_type": "code",
   "execution_count": 7,
   "metadata": {
    "collapsed": true
   },
   "outputs": [],
   "source": [
    "f.sort(key=lambda k: k.metadata.StartTime)"
   ]
  },
  {
   "cell_type": "code",
   "execution_count": 8,
   "metadata": {
    "collapsed": false
   },
   "outputs": [
    {
     "name": "stdout",
     "output_type": "stream",
     "text": [
      "RTS: 2.7 L-band Pointing L Band\n",
      "m017\n",
      "/var/kat/archive/data/RTS/telescope_products/2016/08/18 1471521874.h5\n",
      "/home/kat/RTS/2.7-Pointing/point_source_scan.py /home/kat/RTS/sources_pnt_L.csv -n off -m 33000 --horizon=16 -f 1284 --proposal-id=COMM-RTS --sb-id-code=20160818-0006 --description=RTS: 2.7 L-band Pointing L Band --observer=RTS --config-label=d5cb506,f8b3932 \n",
      "\n",
      "3C 286 3C 409 3C 279 3C 358 PKS 2153-69 3C 273 Her A PKS 2104-25 3C 353 PKS 0410-75 Vir A PKS 1934-63 PKS 1610-60 PKS 1814-63 Hyd A\n",
      "........................................................................................\n",
      "RTS: 2.7 L-band Pointing L Band\n",
      "m017\n",
      "/var/kat/archive/data/RTS/telescope_products/2016/08/19 1471611869.h5\n",
      "/home/kat/RTS/2.7-Pointing/point_source_scan.py /home/kat/RTS/sources_pnt_L.csv -n off -m 33000 --horizon=16 -f 1284 --proposal-id=COMM-RTS --sb-id-code=20160819-0003 --description=RTS: 2.7 L-band Pointing L Band --observer=RTS --config-label=7d32b60,2424f35 \n",
      "\n",
      "3C 273 Hyd A PKS 1610-60 Vir A\n",
      "........................................................................................\n",
      "RTS: 2.7.1 Ku-band Offset Pointing\n",
      "m021\n",
      "/var/kat/archive/data/RTS/telescope_products/2016/08/23 1471950150.h5\n",
      "/home/kat/RTS/2.7-Pointing/offset_test_scan.py /home/kat/RTS/sources_bright_Ku.csv -f 12500.5 -m 62000 -n off --fine --number-sources=10000 --proposal-id=COMM-RTS --sb-id-code=20160823-0002 --description=RTS: 2.7.1 Ku-band Offset Pointing --observer=RTS --config-label=4f0aabe,c4bedac \n",
      "\n",
      "OJ287 offset_1\n",
      "........................................................................................\n",
      "RTS: 2.7 Ku-band Pointing\n",
      "m021\n",
      "/var/kat/archive/data/RTS/telescope_products/2016/08/23 1471951010.h5\n",
      "/home/kat/RTS/2.7-Pointing/point_source_scan.py /home/kat/RTS/sources_pnt_Ku.csv -f 12500.5 -n off -m 33000 --fine --horizon=16 --proposal-id=COMM-RTS --sb-id-code=20160823-0003 --description=RTS: 2.7 Ku-band Pointing --observer=RTS --config-label=4f0aabe,c4bedac \n",
      "\n",
      "1334-127 1055 018 2E3390 2E1720 1421-490 2E1608 OJ287 3C286 OI-147 3C279 0648-165 1127-145 3C273\n",
      "........................................................................................\n",
      "RTS: 2.7 UHF-band Pointing UHF Band\n",
      "m017\n",
      "/var/kat/archive/data/RTS/telescope_products/2016/08/24 1472047825.h5\n",
      "/home/kat/RTS/2.7-Pointing/point_source_scan.py /home/kat/RTS/sources_pnt_L.csv -n off -m 33000 --horizon=16 -f 1284 --proposal-id=COMM-RTS --sb-id-code=20160824-0006 --description=RTS: 2.7 UHF-band Pointing UHF Band --observer=benjamin --config-label=ca2a73d,808b3c4 \n",
      "\n",
      "3C 286 Vir A 3C 279 3C 358 PKS 2153-69 3C 409 3C 273 Her A PKS 2104-25 PKS 1814-63 3C 433 3C 353 PKS 1934-63 PKS 0408-65 PKS 1610-60 For A 3C 454.3 Hyd A PKS 0410-75\n",
      "........................................................................................\n",
      "RTS: 2.7 UHF-band Pointing UHF Band\n",
      "m017\n",
      "/var/kat/archive/data/RTS/telescope_products/2016/08/29 1472471531.h5\n",
      "/home/kat/RTS/2.7-Pointing/point_source_scan.py /home/kat/RTS/sources_pnt_L.csv -n off -m 33000 --horizon=16 --style uhf -f 428 --proposal-id=COMM-RTS --sb-id-code=20160825-0021 --description=RTS: 2.7 UHF-band Pointing UHF Band --observer=benjamin --config-label=f902bcd,6f17d6e \n",
      "\n",
      "3C 286 3C 279 3C 358 3C 273 Her A 3C 353 PKS 1814-63 Vir A PKS 1934-63 PKS 1610-60 Hyd A\n",
      "........................................................................................\n",
      "RTS: 2.7 UHF-band Pointing UHF Band\n",
      "m017\n",
      "/var/kat/archive/data/RTS/telescope_products/2016/08/29 1472480403.h5\n",
      "/home/kat/RTS/2.7-Pointing/point_source_scan.py /home/kat/RTS/sources_pnt_L.csv -n off -m 33000 --horizon=16 --style uhf -f 428 --proposal-id=COMM-RTS --sb-id-code=20160829-0002 --description=RTS: 2.7 UHF-band Pointing UHF Band --observer=benjamin --config-label=f902bcd,6f17d6e \n",
      "\n",
      "3C 286 3C 409 3C 279 3C 358 PKS 2153-69 3C 273 Her A PKS 2104-25 PKS 1814-63 3C 353 PKS 1934-63 PKS 1610-60 Vir A\n",
      "........................................................................................\n",
      "RTS: 2.7 UHF-band Pointing UHF Band\n",
      "m017\n",
      "/var/kat/archive/data/RTS/telescope_products/2016/08/29 1472510855.h5\n",
      "/home/kat/RTS/2.7-Pointing/point_source_scan.py /home/kat/RTS/sources_pnt_L.csv -n off -m 33000 --horizon=16 --style uhf -f 428 --proposal-id=COMM-RTS --sb-id-code=20160829-0003 --description=RTS: 2.7 UHF-band Pointing UHF Band --observer=benjamin --config-label=f902bcd,6f17d6e \n",
      "\n",
      "Ori A 3C 161 PKS 2153-69 3C 48 For A PKS 2104-25 Pic A PKS 0410-75 3C 433 PKS 1814-63 PKS 1934-63 PKS 0521-36 PKS 0408-65 3C 454.3 Tau A Hyd A 3C 123\n",
      "........................................................................................\n"
     ]
    }
   ],
   "source": [
    "for fi in f:\n",
    "    print fi.metadata.Description\n",
    "    print listpr(fi.metadata.Antennas)\n",
    "    print fi.metadata.FileLocation, findh5(fi.metadata.Details)\n",
    "    print fi.metadata.InstructionSet,\"\\n\"\n",
    "    print listpr(fi.metadata.Targets)\n",
    "    print \".\"*88\n",
    "    "
   ]
  },
  {
   "cell_type": "code",
   "execution_count": 9,
   "metadata": {
    "collapsed": false
   },
   "outputs": [
    {
     "data": {
      "text/plain": [
       "[['1', '2016-08-18 14:04:36 SAST', 'RTS', [4454337485]],\n",
       " ['1', '2016-08-19 15:04:31 SAST', 'RTS', [197446787]],\n",
       " ['1', '2016-08-23 13:02:31 SAST', 'RTS', [123044357]],\n",
       " ['1', '2016-08-23 13:16:51 SAST', 'RTS', [664589827]],\n",
       " ['1', '2016-08-24 16:10:27 SAST', 'benjamin', [5426780675]],\n",
       " ['1', '2016-08-29 13:52:13 SAST', 'benjamin', [1158130525]],\n",
       " ['1', '2016-08-29 16:20:05 SAST', 'benjamin', [2657953208]],\n",
       " ['1', '2016-08-30 00:47:37 SAST', 'benjamin', [4846401434]]]"
      ]
     },
     "execution_count": 9,
     "metadata": {},
     "output_type": "execute_result"
    }
   ],
   "source": [
    "f"
   ]
  },
  {
   "cell_type": "code",
   "execution_count": 10,
   "metadata": {
    "collapsed": false
   },
   "outputs": [
    {
     "name": "stdout",
     "output_type": "stream",
     "text": [
      "18 1471521874.h5 RTS: 2.7 L-band Pointing L Band m017\n",
      "19 1471611869.h5 RTS: 2.7 L-band Pointing L Band m017\n",
      "23 1471950150.h5 RTS: 2.7.1 Ku-band Offset Pointing m021\n",
      "23 1471951010.h5 RTS: 2.7 Ku-band Pointing m021\n",
      "24 1472047825.h5 RTS: 2.7 UHF-band Pointing UHF Band m017\n",
      "29 1472471531.h5 RTS: 2.7 UHF-band Pointing UHF Band m017\n",
      "29 1472480403.h5 RTS: 2.7 UHF-band Pointing UHF Band m017\n",
      "30 1472510855.h5 RTS: 2.7 UHF-band Pointing UHF Band m017\n"
     ]
    }
   ],
   "source": [
    "for fi in f:\n",
    "    x= repr(fi)\n",
    "    pr=x.split(\",\")\n",
    "    print pr[1][10:12],findh5(fi.metadata.Details) , fi.metadata.Description, listpr(fi.metadata.Antennas)"
   ]
  },
  {
   "cell_type": "code",
   "execution_count": 11,
   "metadata": {
    "collapsed": false
   },
   "outputs": [
    {
     "name": "stdout",
     "output_type": "stream",
     "text": [
      "Searched using: CAS.ProductTypeName:(RTSTelescopeProduct) AND CAS.ProductTransferStatus:RECEIVED AND Description:Interferometric_Pointing AND StartTime:[2016-07-31T22:00:00Z TO 2016-08-31T21:59:59Z]\n",
      "Returning 0 results\n"
     ]
    },
    {
     "data": {
      "text/plain": [
       "[]"
      ]
     },
     "execution_count": 11,
     "metadata": {},
     "output_type": "execute_result"
    }
   ],
   "source": [
    "\n",
    "f2=katarchive.search_archive(description=\"Interferometric_Pointing\",startdate=start,enddate=end)\n",
    "\n",
    "f2.sort(key=lambda k: k.metadata.StartTime)\n",
    "f2"
   ]
  },
  {
   "cell_type": "code",
   "execution_count": 12,
   "metadata": {
    "collapsed": false
   },
   "outputs": [],
   "source": [
    "for fi in f2:\n",
    "    print fi.metadata.Description\n",
    "    print listpr(fi.metadata.Antennas)\n",
    "    print fi.metadata.FileLocation, findh5(fi.metadata.Details)\n",
    "    print fi.metadata.InstructionSet,\"\\n\"\n",
    "    print listpr(fi.metadata.Targets)\n",
    "    print \".\"*88"
   ]
  },
  {
   "cell_type": "code",
   "execution_count": 13,
   "metadata": {
    "collapsed": false,
    "scrolled": true
   },
   "outputs": [
    {
     "data": {
      "text/plain": [
       "[]"
      ]
     },
     "execution_count": 13,
     "metadata": {},
     "output_type": "execute_result"
    }
   ],
   "source": [
    "f2.sort(key=lambda k: k.metadata.StartTime)\n",
    "f2"
   ]
  },
  {
   "cell_type": "code",
   "execution_count": 14,
   "metadata": {
    "collapsed": false
   },
   "outputs": [],
   "source": [
    "for fi in f2:\n",
    "    x= repr(fi)\n",
    "    pr=x.split(\",\")\n",
    "    print pr[1][10:12],findh5(fi.metadata.Details),fi.metadata.Description,listpr(fi.metadata.Antennas)"
   ]
  }
 ],
 "metadata": {
  "kernelspec": {
   "display_name": "Python 2",
   "language": "python",
   "name": "python2"
  },
  "language_info": {
   "codemirror_mode": {
    "name": "ipython",
    "version": 2
   },
   "file_extension": ".py",
   "mimetype": "text/x-python",
   "name": "python",
   "nbconvert_exporter": "python",
   "pygments_lexer": "ipython2",
   "version": "2.7.6"
  }
 },
 "nbformat": 4,
 "nbformat_minor": 0
}
