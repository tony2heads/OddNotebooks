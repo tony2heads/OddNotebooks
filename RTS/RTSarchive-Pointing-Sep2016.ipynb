{
 "cells": [
  {
   "cell_type": "code",
   "execution_count": 1,
   "metadata": {
    "collapsed": false
   },
   "outputs": [],
   "source": [
    "import katarchive\n",
    "import datetime\n"
   ]
  },
  {
   "cell_type": "code",
   "execution_count": 2,
   "metadata": {
    "collapsed": true
   },
   "outputs": [],
   "source": [
    "katarchive.product_filter.only_rts()"
   ]
  },
  {
   "cell_type": "code",
   "execution_count": 3,
   "metadata": {
    "collapsed": false
   },
   "outputs": [],
   "source": [
    "def findh5(det):   # uses detail list to get h5 name\n",
    "    pos=det.find(\"Name:\")\n",
    "    if pos >0  :\n",
    "        pr2=det[pos+37:pos+53].split()\n",
    "        h5name=pr2[0].lstrip(\"/ng\")\n",
    "    return h5name"
   ]
  },
  {
   "cell_type": "code",
   "execution_count": 4,
   "metadata": {
    "collapsed": false
   },
   "outputs": [],
   "source": [
    "def listpr(x):\n",
    "    \"\"\"\n",
    "    takes a list and prints as string\n",
    "    \"\"\"\n",
    "    li=\" \".join(map(str,x))\n",
    "    return li"
   ]
  },
  {
   "cell_type": "code",
   "execution_count": 5,
   "metadata": {
    "collapsed": true
   },
   "outputs": [],
   "source": [
    "start=\"1/09/2016\"\n",
    "end=\"30/09/2016\" "
   ]
  },
  {
   "cell_type": "code",
   "execution_count": 6,
   "metadata": {
    "collapsed": false
   },
   "outputs": [
    {
     "name": "stdout",
     "output_type": "stream",
     "text": [
      "Searched using: CAS.ProductTypeName:(RTSTelescopeProduct) AND CAS.ProductTransferStatus:RECEIVED AND Description:Point AND StartTime:[2016-08-31T22:00:00Z TO 2016-09-30T21:59:59Z]\n",
      "Returning 8 results\n"
     ]
    }
   ],
   "source": [
    "#Look for pointing\n",
    "\n",
    "f=katarchive.search_archive(description=\"Point\",startdate=start,enddate=end)\n",
    "\n",
    "#start = datetime.datetime.strptime(f[-1].__str__().split('\\'')[3],'%Y-%m-%d %H:%M:%S %Z')\n",
    "#end = datetime.datetime.strptime(f[0].__str__().split('\\'')[3],'%Y-%m-%d %H:%M:%S %Z')"
   ]
  },
  {
   "cell_type": "code",
   "execution_count": 7,
   "metadata": {
    "collapsed": true
   },
   "outputs": [],
   "source": [
    "f.sort(key=lambda k: k.metadata.StartTime)"
   ]
  },
  {
   "cell_type": "code",
   "execution_count": 8,
   "metadata": {
    "collapsed": false
   },
   "outputs": [
    {
     "name": "stdout",
     "output_type": "stream",
     "text": [
      "RTS: 2.7 L-band Pointing L Band\n",
      "m017 m021 m022 m036\n",
      "/var/kat/archive/data/RTS/telescope_products/2016/09/13 1473748024.h5\n",
      "/home/kat/RTS/2.7-Pointing/point_source_scan.py /home/kat/RTS/sources_pnt_L.csv -n off -m 36000 -f 1284 --horizon=16 --proposal-id=COMM-RTS --sb-id-code=20160913-0001 --description=RTS: 2.7 L-band Pointing L Band --observer=RTS --config-label=9130c19,0a5a462 \n",
      "\n",
      "3C 286 3C 161 3C 358 3C 279 3C 273 For A Pic A PKS 0410-75 Vir A Ori A PKS 0521-36 PKS 0408-65 PKS 1610-60 Tau A PKS 1814-63 Hyd A\n",
      "........................................................................................\n",
      "RTS: 2.7 L-band Pointing L Band\n",
      "m017 m021 m022 m036\n",
      "/var/kat/archive/data/RTS/telescope_products/2016/09/14 1473888426.h5\n",
      "/home/kat/RTS/2.7-Pointing/point_source_scan.py /home/kat/RTS/sources_pnt_L.csv -n off -m 36000 -f 1284 --horizon=16 --proposal-id=COMM-RTS --sb-id-code=20160914-0001 --description=RTS: 2.7 L-band Pointing L Band --observer=benjamin --config-label=4dfa5f7,18ee572 \n",
      "\n",
      "Ori A 3C 161 PKS 2153-69 3C 48 3C 273 For A PKS 2104-25 Pic A PKS 0410-75 3C 433 PKS 1814-63 PKS 1934-63 PKS 0521-36 PKS 0408-65 PKS 1610-60 Tau A 3C 454.3 Hyd A 3C 123\n",
      "........................................................................................\n",
      "RTS: 2.7 Ku-band Pointing\n",
      "m021 m022\n",
      "/var/kat/archive/data/RTS/telescope_products/2016/09/19 1474271928.h5\n",
      "/home/kat/RTS/2.7-Pointing/point_source_scan.py /home/kat/RTS/sources_pnt_Ku.csv -f 12500.5 -n off -m 62000 --fine --horizon=16 --proposal-id=COMM-RTS --sb-id-code=20160919-0001 --description=RTS: 2.7 Ku-band Pointing --observer=RTS --config-label=c328131,9fc459a \n",
      "\n",
      "1334-127 2E1720 1830-210 1741-038 NGC6328 0454-463 OI-147 0451-282 1730-130 1613-586 1055 018 1421-490 1920-211 1908-201 3C279 3C273 1622-253 2E3390 2E3408 3C286 1127-145 2E1608 0454-234 4C05.64 4C09.57 OJ287 0648-165\n",
      "........................................................................................\n",
      "RTS: 2.7 L-band Pointing L Band\n",
      "m017 m021 m036\n",
      "/var/kat/archive/data/RTS/telescope_products/2016/09/21 1474443064.h5\n",
      "/home/kat/RTS/2.7-Pointing/point_source_scan.py /home/kat/RTS/sources_pnt_L.csv -n off -m 36000 -f 1284 --horizon=16 --proposal-id=COMM-RTS --sb-id-code=20160921-0001 --description=RTS: 2.7 L-band Pointing L Band --observer=benjamin --config-label=099baf7,a4baee0 \n",
      "\n",
      "Pic A\n",
      "........................................................................................\n",
      "RTS: 2.7 L-band Pointing L Band\n",
      "m017 m021 m036\n",
      "/var/kat/archive/data/RTS/telescope_products/2016/09/21 1474443280.h5\n",
      "/home/kat/RTS/2.7-Pointing/point_source_scan.py /home/kat/RTS/sources_pnt_L.csv -n off -m 36000 -f 1284 --horizon=16 --proposal-id=COMM-RTS --sb-id-code=20160921-0002 --description=RTS: 2.7 L-band Pointing L Band --observer=benjamin --config-label=099baf7,8e7aae1 \n",
      "\n",
      "Ori A Hyd A Pic A\n",
      "........................................................................................\n",
      "RTS: 2.7 L-band Pointing L Band\n",
      "m017 m021 m036\n",
      "/var/kat/archive/data/RTS/telescope_products/2016/09/22 1474587813.h5\n",
      "/home/kat/RTS/2.7-Pointing/point_source_scan.py /home/kat/RTS/sources_pnt_L.csv -n off -m 36000 -f 1284 --horizon=16 --proposal-id=COMM-RTS --sb-id-code=20160922-0006 --description=RTS: 2.7 L-band Pointing L Band --observer=RTS --config-label=b6a0ec8,6ed7f02 \n",
      "\n",
      "PKS 1934-63 3C 161 3C 279 PKS 2153-69 3C 48 3C 273 For A PKS 2104-25 Pic A PKS 0410-75 Vir A Ori A PKS 0521-36 PKS 0408-65 PKS 1610-60 Tau A Hyd A 3C 123\n",
      "........................................................................................\n",
      "RTS: 2.7.1 Ku-band Offset Pointing\n",
      "m017 m021 m036\n",
      "/var/kat/archive/data/RTS/telescope_products/2016/09/23 1474624096.h5\n",
      "/home/kat/RTS/2.7-Pointing/offset_test_scan.py /home/kat/RTS/sources_bright_Ku.csv -f 12500.5 -m 86400 -n off --fine --number-sources=10000 --proposal-id=COMM-RTS --sb-id-code=20160909-0001 --description=RTS: 2.7.1 Ku-band Offset Pointing --observer=RTS --config-label=a391f62,fe5899f \n",
      "\n",
      "OJ287 offset_4 offset_5 offset_3 offset_1 offset_2 3C273\n",
      "........................................................................................\n",
      "RTS: 2.7 Ku-band Pointing\n",
      "m021 m022\n",
      "/var/kat/archive/data/RTS/telescope_products/2016/09/23 1474629819.h5\n",
      "/home/kat/RTS/2.7-Pointing/point_source_scan.py /home/kat/RTS/sources_pnt_Ku.csv -f 12500.5 -n off -m 62000 --fine --horizon=16 --proposal-id=COMM-RTS --sb-id-code=20160923-0003 --description=RTS: 2.7 Ku-band Pointing --observer=RTS --config-label=840ef2f,fe5899f \n",
      "\n",
      "1055 018 2E1720\n",
      "........................................................................................\n"
     ]
    }
   ],
   "source": [
    "for fi in f:\n",
    "    print fi.metadata.Description\n",
    "    print listpr(fi.metadata.Antennas)\n",
    "    print fi.metadata.FileLocation, findh5(fi.metadata.Details)\n",
    "    print fi.metadata.InstructionSet,\"\\n\"\n",
    "    print listpr(fi.metadata.Targets)\n",
    "    print \".\"*88\n",
    "    "
   ]
  },
  {
   "cell_type": "code",
   "execution_count": 9,
   "metadata": {
    "collapsed": false
   },
   "outputs": [
    {
     "data": {
      "text/plain": [
       "[['1473748024.h5', '2016-09-13 08:27:06 SAST', 'RTS', 30046971456],\n",
       " ['1473888426.h5', '2016-09-14 23:27:08 SAST', 'benjamin', 53734447051],\n",
       " ['1474271928.h5', '2016-09-19 09:58:50 SAST', 'RTS', 9249746533],\n",
       " ['1474443064.h5', '2016-09-21 09:31:06 SAST', 'benjamin', 72374234],\n",
       " ['1474443280.h5', '2016-09-21 09:34:42 SAST', 'benjamin', 404156840],\n",
       " ['1474587813.h5', '2016-09-23 01:43:34 SAST', 'RTS', 30106661882],\n",
       " ['1474624096.h5', '2016-09-23 11:48:18 SAST', 'RTS', 2392961287],\n",
       " ['1474629819.h5', '2016-09-23 13:23:40 SAST', 'RTS', 272748869]]"
      ]
     },
     "execution_count": 9,
     "metadata": {},
     "output_type": "execute_result"
    }
   ],
   "source": [
    "f"
   ]
  },
  {
   "cell_type": "code",
   "execution_count": 10,
   "metadata": {
    "collapsed": false
   },
   "outputs": [
    {
     "name": "stdout",
     "output_type": "stream",
     "text": [
      "13 1473748024.h5 RTS: 2.7 L-band Pointing L Band m017 m021 m022 m036\n",
      "14 1473888426.h5 RTS: 2.7 L-band Pointing L Band m017 m021 m022 m036\n",
      "19 1474271928.h5 RTS: 2.7 Ku-band Pointing m021 m022\n",
      "21 1474443064.h5 RTS: 2.7 L-band Pointing L Band m017 m021 m036\n",
      "21 1474443280.h5 RTS: 2.7 L-band Pointing L Band m017 m021 m036\n",
      "23 1474587813.h5 RTS: 2.7 L-band Pointing L Band m017 m021 m036\n",
      "23 1474624096.h5 RTS: 2.7.1 Ku-band Offset Pointing m017 m021 m036\n",
      "23 1474629819.h5 RTS: 2.7 Ku-band Pointing m021 m022\n"
     ]
    }
   ],
   "source": [
    "for fi in f:\n",
    "    x= repr(fi)\n",
    "    pr=x.split(\",\")\n",
    "    print pr[1][10:12],findh5(fi.metadata.Details) , fi.metadata.Description, listpr(fi.metadata.Antennas)"
   ]
  },
  {
   "cell_type": "code",
   "execution_count": 11,
   "metadata": {
    "collapsed": false
   },
   "outputs": [
    {
     "name": "stdout",
     "output_type": "stream",
     "text": [
      "Searched using: CAS.ProductTypeName:(RTSTelescopeProduct) AND CAS.ProductTransferStatus:RECEIVED AND Description:Interferometric_Pointing AND StartTime:[2016-08-31T22:00:00Z TO 2016-09-30T21:59:59Z]\n",
      "Returning 0 results\n"
     ]
    },
    {
     "data": {
      "text/plain": [
       "[]"
      ]
     },
     "execution_count": 11,
     "metadata": {},
     "output_type": "execute_result"
    }
   ],
   "source": [
    "\n",
    "f2=katarchive.search_archive(description=\"Interferometric_Pointing\",startdate=start,enddate=end)\n",
    "\n",
    "f2.sort(key=lambda k: k.metadata.StartTime)\n",
    "f2"
   ]
  },
  {
   "cell_type": "code",
   "execution_count": 12,
   "metadata": {
    "collapsed": false
   },
   "outputs": [],
   "source": [
    "for fi in f2:\n",
    "    print fi.metadata.Description\n",
    "    print listpr(fi.metadata.Antennas)\n",
    "    print fi.metadata.FileLocation, findh5(fi.metadata.Details)\n",
    "    print fi.metadata.InstructionSet,\"\\n\"\n",
    "    print listpr(fi.metadata.Targets)\n",
    "    print \".\"*88"
   ]
  },
  {
   "cell_type": "code",
   "execution_count": 13,
   "metadata": {
    "collapsed": false,
    "scrolled": true
   },
   "outputs": [
    {
     "data": {
      "text/plain": [
       "[]"
      ]
     },
     "execution_count": 13,
     "metadata": {},
     "output_type": "execute_result"
    }
   ],
   "source": [
    "f2.sort(key=lambda k: k.metadata.StartTime)\n",
    "f2"
   ]
  },
  {
   "cell_type": "code",
   "execution_count": 14,
   "metadata": {
    "collapsed": false
   },
   "outputs": [],
   "source": [
    "for fi in f2:\n",
    "    x= repr(fi)\n",
    "    pr=x.split(\",\")\n",
    "    print pr[1][10:12],findh5(fi.metadata.Details),fi.metadata.Description,listpr(fi.metadata.Antennas)"
   ]
  }
 ],
 "metadata": {
  "kernelspec": {
   "display_name": "Python 2",
   "language": "python",
   "name": "python2"
  },
  "language_info": {
   "codemirror_mode": {
    "name": "ipython",
    "version": 2
   },
   "file_extension": ".py",
   "mimetype": "text/x-python",
   "name": "python",
   "nbconvert_exporter": "python",
   "pygments_lexer": "ipython2",
   "version": "2.7.6"
  }
 },
 "nbformat": 4,
 "nbformat_minor": 0
}
