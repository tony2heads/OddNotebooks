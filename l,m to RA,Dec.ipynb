{
 "cells": [
  {
   "cell_type": "markdown",
   "metadata": {},
   "source": [
    "# These are for relative coordinates, small angle approximation"
   ]
  },
  {
   "cell_type": "code",
   "execution_count": 55,
   "metadata": {
    "collapsed": true
   },
   "outputs": [],
   "source": [
    "#import astropy.coordinates as SkyCoord"
   ]
  },
  {
   "cell_type": "code",
   "execution_count": 56,
   "metadata": {
    "collapsed": true
   },
   "outputs": [],
   "source": [
    "import numpy as np"
   ]
  },
  {
   "cell_type": "code",
   "execution_count": 57,
   "metadata": {
    "collapsed": true
   },
   "outputs": [],
   "source": [
    "from astropy.coordinates import SkyCoord\n",
    "from astropy.coordinates import ICRS, Galactic, FK4, FK5 \n",
    "from astropy.coordinates import Angle, Latitude, Longitude\n",
    "import astropy.units as u"
   ]
  },
  {
   "cell_type": "code",
   "execution_count": 58,
   "metadata": {
    "collapsed": true
   },
   "outputs": [],
   "source": [
    "coords=[\"13h31m08.288s\", \"30d30m32.959s\"] # 3C286\n",
    "c = SkyCoord('13h31m08.287984s', '+30d30m32.9958850s', frame=\"icrs\")"
   ]
  },
  {
   "cell_type": "code",
   "execution_count": 59,
   "metadata": {},
   "outputs": [
    {
     "name": "stdout",
     "output_type": "stream",
     "text": [
      "202.784533267 30.5091655236\n"
     ]
    }
   ],
   "source": [
    "print c.ra.degree, c.dec.degree"
   ]
  },
  {
   "cell_type": "code",
   "execution_count": 60,
   "metadata": {
    "collapsed": true
   },
   "outputs": [],
   "source": [
    "RA0=c.ra.degree\n",
    "Dec0=c.dec.degree"
   ]
  },
  {
   "cell_type": "code",
   "execution_count": 61,
   "metadata": {
    "collapsed": true
   },
   "outputs": [],
   "source": [
    "cosdec=np.cos(np.radians(Dec0))"
   ]
  },
  {
   "cell_type": "code",
   "execution_count": 62,
   "metadata": {},
   "outputs": [
    {
     "name": "stdout",
     "output_type": "stream",
     "text": [
      "732133.00976 110837.90802102299\n"
     ]
    }
   ],
   "source": [
    "l=2108.69*u.arcsec\n",
    "m=865.78*u.arcsec\n",
    "\n",
    "x=l\n",
    "y=m\n",
    "\n",
    "r1=c.ra.arcsec +2108.69\n",
    "d1=c.dec.arcsec +865.78/cosdec\n",
    "\n",
    "print r1,d1"
   ]
  },
  {
   "cell_type": "code",
   "execution_count": 63,
   "metadata": {
    "collapsed": true
   },
   "outputs": [],
   "source": [
    "c = SkyCoord(r1*u.arcsec, d1*u.arcsec, frame=\"icrs\")"
   ]
  },
  {
   "cell_type": "code",
   "execution_count": 64,
   "metadata": {},
   "outputs": [
    {
     "name": "stdout",
     "output_type": "stream",
     "text": [
      "13:33:28.9 +30:47:17.9\n"
     ]
    }
   ],
   "source": [
    "#print c.icrs.ra.hms , c.icrs.dec.dms\n",
    "print c.icrs.to_string('hmsdms',sep=':',precision=1)"
   ]
  },
  {
   "cell_type": "code",
   "execution_count": 65,
   "metadata": {
    "collapsed": true
   },
   "outputs": [],
   "source": [
    "def lm2radec(c,l,m):\n",
    "    # c is a coordinate\n",
    "    Dec0=c.dec.degree\n",
    "    cosdec=np.cos(np.radians(Dec0))\n",
    "    r1=c.ra.arcsec- l/cosdec\n",
    "    d1=c.dec.arcsec+ m\n",
    "    #print r1,d1,cosdec\n",
    "    c2=SkyCoord(r1*u.arcsec, d1*u.arcsec, frame=\"icrs\")\n",
    "    print c2.icrs.to_string('hmsdms',sep=':',precision=1)\n",
    "    "
   ]
  },
  {
   "cell_type": "code",
   "execution_count": 66,
   "metadata": {},
   "outputs": [
    {
     "name": "stdout",
     "output_type": "stream",
     "text": [
      "13:31:48.5 +30:31:48.0\n"
     ]
    }
   ],
   "source": [
    "c = SkyCoord('13h31m08.287984s', '+30d30m32.9958850s', frame=\"icrs\") #3C286\n",
    "l=-519.04\n",
    "m=74.98\n",
    "lm2radec(c,l,m)"
   ]
  },
  {
   "cell_type": "code",
   "execution_count": null,
   "metadata": {
    "collapsed": true
   },
   "outputs": [],
   "source": [
    "# yes 13:31:48.447,+30:31:46.17"
   ]
  },
  {
   "cell_type": "code",
   "execution_count": 67,
   "metadata": {},
   "outputs": [
    {
     "name": "stdout",
     "output_type": "stream",
     "text": [
      "13:31:48.7 +30:24:29.0\n"
     ]
    }
   ],
   "source": [
    "l=-522.60 # From WSRT 21cm model\n",
    "m=-364.00\n",
    "lm2radec(c,l,m)"
   ]
  },
  {
   "cell_type": "code",
   "execution_count": null,
   "metadata": {
    "collapsed": true
   },
   "outputs": [],
   "source": [
    "# yes 13:31:48.712,+30:24:25.42"
   ]
  },
  {
   "cell_type": "code",
   "execution_count": 68,
   "metadata": {},
   "outputs": [
    {
     "name": "stdout",
     "output_type": "stream",
     "text": [
      "13:28:25.2 +30:44:58.8\n"
     ]
    }
   ],
   "source": [
    "l,m=2107.69,865.78\n",
    "lm2radec(c,l,m)"
   ]
  },
  {
   "cell_type": "code",
   "execution_count": null,
   "metadata": {
    "collapsed": true
   },
   "outputs": [],
   "source": [
    "# yes 13:28:24.151,+30:44:06.68"
   ]
  },
  {
   "cell_type": "code",
   "execution_count": 69,
   "metadata": {},
   "outputs": [
    {
     "name": "stdout",
     "output_type": "stream",
     "text": [
      "13:29:21.9 +31:05:42.4\n"
     ]
    }
   ],
   "source": [
    "l,m=1374.32,2109.40\n",
    "lm2radec(c,l,m)"
   ]
  },
  {
   "cell_type": "code",
   "execution_count": null,
   "metadata": {
    "collapsed": true
   },
   "outputs": [],
   "source": [
    "#yes 13:29:20.841,+31:04:51.41"
   ]
  },
  {
   "cell_type": "code",
   "execution_count": 71,
   "metadata": {},
   "outputs": [
    {
     "name": "stdout",
     "output_type": "stream",
     "text": [
      "13:30:53.8 +30:38:01.0\n"
     ]
    }
   ],
   "source": [
    "l,m=187.32,448.03\n",
    "lm2radec(c,l,m)"
   ]
  },
  {
   "cell_type": "code",
   "execution_count": 72,
   "metadata": {},
   "outputs": [
    {
     "name": "stdout",
     "output_type": "stream",
     "text": [
      "13:30:06.3 +30:54:31.6\n"
     ]
    }
   ],
   "source": [
    "l,m=800.49,1438.60\n",
    "lm2radec(c,l,m)"
   ]
  }
 ],
 "metadata": {
  "kernelspec": {
   "display_name": "Python 2",
   "language": "python",
   "name": "python2"
  },
  "language_info": {
   "codemirror_mode": {
    "name": "ipython",
    "version": 2
   },
   "file_extension": ".py",
   "mimetype": "text/x-python",
   "name": "python",
   "nbconvert_exporter": "python",
   "pygments_lexer": "ipython2",
   "version": "2.7.6"
  }
 },
 "nbformat": 4,
 "nbformat_minor": 2
}
