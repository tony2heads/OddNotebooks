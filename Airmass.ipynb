{
 "cells": [
  {
   "cell_type": "code",
   "execution_count": null,
   "metadata": {},
   "outputs": [],
   "source": [
    "import numpy as np\n",
    "\n",
    "\"\"\"\n",
    "Plots of airmass functions\n",
    "give zenith angles in degrees\n",
    "\"\"\"\n",
    "R=6378160. # radius of earth in m\n",
    "h= 8000.  #scale height of atmsophere in m\n",
    "air=1.00031 #refractive index of air\n",
    "\n",
    "\n",
    "    "
   ]
  },
  {
   "cell_type": "code",
   "execution_count": null,
   "metadata": {},
   "outputs": [],
   "source": [
    "def simple(za):\n",
    "    # plane parallel atmosphere on flat earth\n",
    "    zenr=np.radians(za)\n",
    "    return 1./cos(zenr)"
   ]
  },
  {
   "cell_type": "code",
   "execution_count": null,
   "metadata": {},
   "outputs": [],
   "source": [
    "def spher(za):\n",
    "    #spherical earth but uniform atmosphere\n",
    "    z=np.radians(za)\n",
    "    cosz=np.cos(z)\n",
    "    r=R/h # to scale this all\n",
    "    am=np.sqrt((r*cosz)**2 +2*r +1) -r*cosz\n",
    "    return am"
   ]
  },
  {
   "cell_type": "code",
   "execution_count": null,
   "metadata": {},
   "outputs": [],
   "source": [
    "\"\"\"\n",
    "According to WSRT the refractive index for radio is about 1.00031\n",
    "refraction = airmass*(1-refractive index)\n",
    "\n",
    "There is something wrong in this formula\n",
    "\"\"\"\n",
    "def Fz(za):\n",
    "    z=np.radians(za)\n",
    "    #d83=1.4486232\n",
    "    d83=1.45263 # where the crossover is\n",
    "    #f0=0*z[z<d83]\n",
    "    #f1=2.454 - 20.794*np.cos(z[z>=d83]) # 83deg   \n",
    "    f0=0*z[z<d83]\n",
    "    f1=2.454 - 20.794*np.cos(z[z>=d83])\n",
    "    #f2=0.175 +23.5*cos(z[z>1.50009]) # 86 deg\n",
    "    fa=np.append(f0,f1)\n",
    "    print fa\n",
    "    return fa\n",
    "\n",
    "def WSRT(za):\n",
    "    z=np.radians(za)\n",
    "    cosz=np.cos(z)\n",
    "    Rz=R*cosz\n",
    "    airmass= 1/cosz - Fz(za)*( (Rz)**2 + 2*h/R - np.sqrt((Rz)**2 + 2*h/R)/h  - Rz/h)\n",
    "    return airmass"
   ]
  },
  {
   "cell_type": "code",
   "execution_count": null,
   "metadata": {},
   "outputs": [],
   "source": [
    "\"\"\"\n",
    "Kasten and Young formula\n",
    "F. Kasten and A. T. Young, `Revised optical air mass tables and approximation formula',\n",
    "Applied Optics 28(22), 4735{4738 (1989).\n",
    "\n",
    "96.07995 degrees =  1.6769114726515257 radians\n",
    "\"\"\"\n",
    "def ky(za):\n",
    "    z=np.radians(za)\n",
    "    den=np.cos(z) + 0.50572*( 96.07995 - za)**(-1.6364)\n",
    "    am=1.0/den\n",
    "    return am"
   ]
  },
  {
   "cell_type": "code",
   "execution_count": null,
   "metadata": {},
   "outputs": [],
   "source": [
    "print ky(90.0)"
   ]
  },
  {
   "cell_type": "code",
   "execution_count": null,
   "metadata": {},
   "outputs": [],
   "source": [
    "\"\"\"\n",
    "Bemporad formula\n",
    "\"\"\"\n",
    "def bemporad(za):\n",
    "    z=np.radians(za)\n",
    "    sec=1.0/cos(z) # secant\n",
    "    am= -0.0045 +1.00672*sec -0.002234*sec**2 - 0.0006247*sec**3\n",
    "    return am\n",
    "    "
   ]
  },
  {
   "cell_type": "code",
   "execution_count": null,
   "metadata": {},
   "outputs": [],
   "source": [
    "\"\"\"\n",
    "Formula from Young \n",
    "A. T. Young, `Air mass and refraction', Applied Optics 33(6), 1108{1110 (1994).\n",
    "using True zenith angle (NOT apparent)\n",
    "\"\"\"\n",
    "def young(za):\n",
    "    z=np.radians(za)\n",
    "    cosz=np.cos(z)\n",
    "    am=(1.003198*cosz + 0.101632)/( cosz**2  + 0.090560*cosz + 0.003198)\n",
    "    return am"
   ]
  },
  {
   "cell_type": "code",
   "execution_count": null,
   "metadata": {},
   "outputs": [],
   "source": [
    "\"\"\"\n",
    "Ron Maddelena formula for GBT\n",
    "http://www.gb.nrao.edu/~rmaddale/GBT/Calibration_Nov2012a.pdf\n",
    "\"\"\"\n",
    "def GBT(za):\n",
    "    elev=90.-za # all in degrees\n",
    "    am=-0.0234 +1.014/(np.sin(np.radians(elev+(5.18/(elev+3.35)))))\n",
    "    return am\n",
    "print GBT(89)"
   ]
  },
  {
   "cell_type": "code",
   "execution_count": null,
   "metadata": {},
   "outputs": [],
   "source": [
    "def saao(za):\n",
    "    \"\"\"\n",
    "    Krisciunas & Schaefer formula from \n",
    "    http://arxiv.org/pdf/1409.2996.pdf\n",
    "    \"\"\"\n",
    "    zeta=np.radians(za)\n",
    "    am=1./np.sqrt(1 - 0.96*np.sin(zeta)**2)\n",
    "    return am"
   ]
  },
  {
   "cell_type": "code",
   "execution_count": null,
   "metadata": {},
   "outputs": [],
   "source": []
  },
  {
   "cell_type": "code",
   "execution_count": null,
   "metadata": {},
   "outputs": [],
   "source": [
    "def vr(za):\n",
    "    \"\"\"\n",
    "    Van rhijn formula\n",
    "    \"\"\"\n",
    "    zeta=np.radians(za)\n",
    "    am=1- ((R*np.sin(zeta))/(R+h))**2\n",
    "    am=1/np.sqrt(am)\n",
    "    return am"
   ]
  },
  {
   "cell_type": "code",
   "execution_count": null,
   "metadata": {},
   "outputs": [],
   "source": [
    "def paranal(za):\n",
    "    \"\"\"\n",
    "    Rozenberg formula\n",
    "    from http://www.aanda.org/articles/aa/pdf/2012/07/aa19040-12.pdf\n",
    "    \"\"\"\n",
    "    ze=np.radians(za)\n",
    "    c=np.cos(ze)\n",
    "    am=1/(c + 0.025*np.exp( -11*c))\n",
    "    return am"
   ]
  },
  {
   "cell_type": "code",
   "execution_count": null,
   "metadata": {},
   "outputs": [],
   "source": [
    "%pylab inline\n",
    "za=np.linspace(85,88,100)\n",
    "pylab.figure(1,figsize(12,12))\n",
    "pylab.xlabel('Zenith angle/deg')\n",
    "pylab.ylabel('airmass')\n",
    "#pylab.plot(za,simple(za),label='simplistic')\n",
    "pylab.plot(za,spher(za),label='spherical')\n",
    "#pylab.plot(za, WSRT(za),label=\"WSRT\")\n",
    "pylab.plot(za,ky(za),label='Kasten and Young')\n",
    "pylab.plot(za,young(za),label='Young')\n",
    "#pylab.plot(za,bemporad(za),label='Bemporad and Schoenberg')\n",
    "pylab.plot(za,GBT(za),label='Maddalena')\n",
    "pylab.plot(za, vr(za),label='Van Rhijn ')\n",
    "pylab.plot(za,paranal(za), label='Paranal')\n",
    "pylab.legend(loc='upper left')\n",
    "pylab.grid()\n",
    "pylab.show()"
   ]
  },
  {
   "cell_type": "markdown",
   "metadata": {},
   "source": [
    "\n",
    "\n",
    "$\\Delta E = C(n_0-1)f(E_{obs})  $\n",
    "\n",
    "$\\Delta E = C(n_0-1) g (E_{true})$\n",
    "\n",
    "approimate values:\n",
    "$n_0 -1 = 3 \\times 10^{-4}$"
   ]
  },
  {
   "cell_type": "code",
   "execution_count": null,
   "metadata": {},
   "outputs": [],
   "source": [
    "\"\"\"\n",
    "\n",
    "\n",
    "\"\"\""
   ]
  },
  {
   "cell_type": "code",
   "execution_count": null,
   "metadata": {},
   "outputs": [],
   "source": []
  }
 ],
 "metadata": {
  "kernelspec": {
   "display_name": "Python 2",
   "language": "python",
   "name": "python2"
  },
  "language_info": {
   "codemirror_mode": {
    "name": "ipython",
    "version": 2
   },
   "file_extension": ".py",
   "mimetype": "text/x-python",
   "name": "python",
   "nbconvert_exporter": "python",
   "pygments_lexer": "ipython2",
   "version": "2.7.6"
  }
 },
 "nbformat": 4,
 "nbformat_minor": 1
}
