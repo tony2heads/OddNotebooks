{
 "cells": [
  {
   "cell_type": "code",
   "execution_count": 1,
   "metadata": {
    "collapsed": true
   },
   "outputs": [],
   "source": [
    "import katarchive\n",
    "import datetime\n"
   ]
  },
  {
   "cell_type": "code",
   "execution_count": 2,
   "metadata": {
    "collapsed": true
   },
   "outputs": [],
   "source": [
    "%matplotlib inline\n",
    "import numpy as np"
   ]
  },
  {
   "cell_type": "code",
   "execution_count": 3,
   "metadata": {
    "collapsed": true
   },
   "outputs": [],
   "source": [
    "import matplotlib.pyplot as plt"
   ]
  },
  {
   "cell_type": "code",
   "execution_count": 4,
   "metadata": {
    "collapsed": true
   },
   "outputs": [],
   "source": [
    "import katdal as katfile\n",
    "import katfile\n",
    "import datetime\n",
    "\n",
    "import logging\n",
    "logging.root.setLevel(logging.ERROR)"
   ]
  },
  {
   "cell_type": "code",
   "execution_count": 5,
   "metadata": {
    "collapsed": true
   },
   "outputs": [],
   "source": [
    "katarchive.product_filter.only_rts()"
   ]
  },
  {
   "cell_type": "code",
   "execution_count": 6,
   "metadata": {
    "collapsed": false,
    "scrolled": true
   },
   "outputs": [
    {
     "name": "stdout",
     "output_type": "stream",
     "text": [
      "Searched using: CAS.ProductTypeName:(RTSTelescopeProduct) AND CAS.ProductTransferStatus:RECEIVED AND StartTime:[2015-07-09T22:00:00Z TO 2015-07-13T21:59:59Z]\n",
      "Returning 22 results\n",
      "[['1436784776.h5', '2015-07-13 12:52:57 SAST', 'schwardt', 54796046], ['1436713314.h5', '2015-07-12 17:01:55 SAST', 'RTS', 14747239281], ['1436710289.h5', '2015-07-12 16:11:29 SAST', 'schwardt', 4091394072], ['1436710182.h5', '2015-07-12 16:09:43 SAST', 'schwardt', 111310678], ['1436668158.h5', '2015-07-12 04:29:20 SAST', 'RTS', 14837542655], ['1436627487.h5', '2015-07-11 17:11:28 SAST', 'mattieu', 3906713108], ['1436625153.h5', '2015-07-11 16:32:34 SAST', 'mattieu', 3934746651], ['1436622844.h5', '2015-07-11 15:54:05 SAST', 'mattieu', 3908937029], ['1436621114.h5', '2015-07-11 15:25:15 SAST', 'mattieu', 2629417736], ['1436617892.h5', '2015-07-11 14:31:32 SAST', 'mattieu', 5524456116], ['1436613876.h5', '2015-07-11 13:24:37 SAST', 'mattieu', 6643228193], ['1436609680.h5', '2015-07-11 12:14:40 SAST', 'mattieu', 6521825161], ['1436605489.h5', '2015-07-11 11:04:50 SAST', 'mattieu', 7174950173], ['1436599987.h5', '2015-07-11 09:33:08 SAST', 'mattieu', 7109086107], ['1436597436.h5', '2015-07-11 08:50:36 SAST', 'mattieu', 3909819564], ['1436586065.h5', '2015-07-11 05:41:06 SAST', 'schwardt', 223464860], ['1436547758.h5', '2015-07-10 19:02:38 SAST', 'schwardt', 7108646165], ['1436543534.h5', '2015-07-10 17:52:14 SAST', 'schwardt', 1776353489], ['1436539240.h5', '2015-07-10 16:40:41 SAST', 'schwardt', 7151369069], ['1436538020.h5', '2015-07-10 16:20:21 SAST', 'schwardt', 596859601], ['1436530610.h5', '2015-07-10 14:16:51 SAST', 'schwardt', 1721498060], ['1436528311.h5', '2015-07-10 13:38:32 SAST', 'schwardt', 91285570]]\n"
     ]
    }
   ],
   "source": [
    "print katarchive.search_archive(startdate='10/07/2015',enddate='13/07/2015')"
   ]
  },
  {
   "cell_type": "code",
   "execution_count": 7,
   "metadata": {
    "collapsed": false
   },
   "outputs": [
    {
     "name": "stdout",
     "output_type": "stream",
     "text": [
      "Searched using: CAS.ProductTypeName:(RTSTelescopeProduct) AND CAS.ProductTransferStatus:RECEIVED AND StartTime:[2015-07-09T22:00:00Z TO 2015-07-13T21:59:59Z]\n",
      "Returning 22 results\n"
     ]
    }
   ],
   "source": [
    "f = katarchive.search_archive(startdate='10/07/2015')\n",
    "start = datetime.datetime.strptime(f[-1].__str__().split('\\'')[3],'%Y-%m-%d %H:%M:%S %Z')\n",
    "end = datetime.datetime.strptime(f[0].__str__().split('\\'')[3],'%Y-%m-%d %H:%M:%S %Z')"
   ]
  },
  {
   "cell_type": "code",
   "execution_count": 8,
   "metadata": {
    "collapsed": false
   },
   "outputs": [
    {
     "name": "stdout",
     "output_type": "stream",
     "text": [
      "First file in run:  2015-07-10T13:38:32\n",
      "Last file in run:  2015-07-13T12:52:57\n"
     ]
    }
   ],
   "source": [
    "print 'First file in run: ' , start.isoformat()\n",
    "print 'Last file in run: ' , end.isoformat()"
   ]
  },
  {
   "cell_type": "code",
   "execution_count": 9,
   "metadata": {
    "collapsed": false
   },
   "outputs": [
    {
     "name": "stdout",
     "output_type": "stream",
     "text": [
      "RTS Holography: 4k 5deg 4Hz m063 60sec 60 scans \n",
      "radial_holography_scan.py --product=c856M4k --sb-id-code=20150713-0001 -o schwardt --proposal-id=COMM-RTS --program-block-id=RTS -r 4 -n off --no-delays -d RTS Holography: 4k 5deg 4Hz m063 60sec 60 scans EUTELSAT 36B -f 12500.5 --scan-ants=m063 --num-scans=60 --scan-duration=60 --scan-extent=5 \n",
      "==========\n",
      "\n",
      "RTS: 2.7 Ku-band Pointing \n",
      "/home/kat/RTS/2.7-Pointing/point_source_scan.py /home/kat/RTS/sources_pnt_Ku.csv -f 12500.5 -r 1 -n off -m 33000 --fine --product=c856M4k --horizon=16 --stow-when-done --proposal-id=COMM-RTS --stow-when-done --sb-id-code=20150711-0003 --description=RTS: 2.7 Ku-band Pointing --observer=RTS \n",
      "==========\n",
      "\n",
      "RTS Holography: 4k 4deg 4Hz m062 30sec 60 scans \n",
      "radial_holography_scan.py --product=c856M4k --sb-id-code=20150712-0002 -o schwardt --proposal-id=COMM-RTS --program-block-id=RTS -r 4 -n off --no-delays -d RTS Holography: 4k 4deg 4Hz m062 30sec 60 scans EUTELSAT 36B -f 12500.5 --scan-ants=m062 --num-scans=60 --scan-duration=30 --scan-extent=4 -m 1200 \n",
      "==========\n",
      "\n",
      "RTS Holography: 4k 4deg 4Hz m062 30sec 60 scans \n",
      "radial_holography_scan.py --product=c856M4k --sb-id-code=20150712-0002 -o schwardt --proposal-id=COMM-RTS --program-block-id=RTS -r 4 -n off --no-delays -d RTS Holography: 4k 4deg 4Hz m062 30sec 60 scans EUTELSAT 36B -f 12500.5 --scan-ants=m062 --num-scans=60 --scan-duration=30 --scan-extent=4 -m 1200 \n",
      "==========\n",
      "\n",
      "RTS: 2.7 Ku-band Pointing \n",
      "/home/kat/RTS/2.7-Pointing/point_source_scan.py /home/kat/RTS/sources_pnt_Ku.csv -f 12500.5 -r 1 -n off -m 33000 --fine --product=c856M4k --horizon=16 --stow-when-done --proposal-id=COMM-RTS --stow-when-done --sb-id-code=20150711-0002 --description=RTS: 2.7 Ku-band Pointing --observer=RTS \n",
      "==========\n",
      "\n",
      "RTS Holography: 4k 4deg 4Hz m063 30sec 60 scans \n",
      "radial_holography_scan.py --product=c856M4k --sb-id-code=20150710-0003 -o mattieu --proposal-id=COMM-RTS --program-block-id=RTS -r 4 -n off --no-delays -d RTS Holography: 4k 4deg 4Hz m063 30sec 60 scans EUTELSAT 36B -f 12500.5 --scan-ants=m063 --num-scans=60 --scan-duration=30 --scan-extent=4 -m 1200 \n",
      "==========\n",
      "\n",
      "RTS Holography: 4k 5deg 4Hz m062 30sec 60 scans \n",
      "radial_holography_scan.py --product=c856M4k --sb-id-code=20150710-0003 -o mattieu --proposal-id=COMM-RTS --program-block-id=RTS -r 4 -n off --no-delays -d RTS Holography: 4k 5deg 4Hz m062 30sec 60 scans EUTELSAT 36B -f 12500.5 --scan-ants=m062 --num-scans=60 --scan-duration=30 --scan-extent=5 -m 1200 \n",
      "==========\n",
      "\n",
      "RTS Holography: 4k 5deg 4Hz m063 30sec 60 scans \n",
      "radial_holography_scan.py --product=c856M4k --sb-id-code=20150710-0003 -o mattieu --proposal-id=COMM-RTS --program-block-id=RTS -r 4 -n off --no-delays -d RTS Holography: 4k 5deg 4Hz m063 30sec 60 scans EUTELSAT 36B -f 12500.5 --scan-ants=m063 --num-scans=60 --scan-duration=30 --scan-extent=5 -m 1200 \n",
      "==========\n",
      "\n",
      "RTS Holography: 4k 5deg 4Hz m063 30sec 40 scans \n",
      "radial_holography_scan.py --product=c856M4k --sb-id-code=20150710-0003 -o mattieu --proposal-id=COMM-RTS --program-block-id=RTS -r 4 -n off --no-delays -d RTS Holography: 4k 5deg 4Hz m063 30sec 40 scans EUTELSAT 36B -f 12500.5 --scan-ants=m063 --num-scans=40 --scan-duration=30 --scan-extent=5 -m 1200 \n",
      "==========\n",
      "\n",
      "RTS Holography: 4k 5deg 4Hz m062 30sec 40 scans \n",
      "radial_holography_scan.py --product=c856M4k --sb-id-code=20150710-0003 -o mattieu --proposal-id=COMM-RTS --program-block-id=RTS -r 4 -n off --no-delays -d RTS Holography: 4k 5deg 4Hz m062 30sec 40 scans EUTELSAT 36B -f 12500.5 --scan-ants=m062 --num-scans=40 --scan-duration=30 --scan-extent=5 -m 1640 \n",
      "==========\n",
      "\n",
      "RTS Holography: 4k 5deg 4Hz m063 40sec 80 scans \n",
      "radial_holography_scan.py --product=c856M4k --sb-id-code=20150710-0003 -o mattieu --proposal-id=COMM-RTS --program-block-id=RTS -r 4 -n off --no-delays -d RTS Holography: 4k 5deg 4Hz m063 40sec 80 scans EUTELSAT 36B -f 12500.5 --scan-ants=m063 --num-scans=80 --scan-duration=40 --scan-extent=5 -m 2640 \n",
      "==========\n",
      "\n",
      "RTS Holography: 4k 5deg 4Hz m062 30sec 100 scans \n",
      "radial_holography_scan.py --product=c856M4k --sb-id-code=20150710-0003 -o mattieu --proposal-id=COMM-RTS --program-block-id=RTS -r 4 -n off --no-delays -d RTS Holography: 4k 5deg 4Hz m062 30sec 100 scans EUTELSAT 36B -f 12500.5 --scan-ants=m062 --num-scans=100 --scan-duration=30 --scan-extent=5 -m 2640 \n",
      "==========\n",
      "\n",
      "RTS Holography: 4k 8deg 4Hz m063 \n",
      "radial_holography_scan.py --product=c856M4k --sb-id-code=20150710-0003 -o mattieu --proposal-id=COMM-RTS --program-block-id=RTS -r 4 -n off --no-delays -d RTS Holography: 4k 8deg 4Hz m063 EUTELSAT 36B -f 12500.5 --scan-ants=m063 --num-scans=60 --scan-duration=60 --scan-extent=8 -m 2640 \n",
      "==========\n",
      "\n",
      "RTS Holography: 4k 6deg 4Hz m063 \n",
      "radial_holography_scan.py --product=c856M4k --sb-id-code=20150710-0003 -o mattieu --proposal-id=COMM-RTS --program-block-id=RTS -r 4 -n off --no-delays -d RTS Holography: 4k 6deg 4Hz m063 EUTELSAT 36B -f 12500.5 --scan-ants=m063 --num-scans=60 --scan-duration=60 --scan-extent=6 -m 2640 \n",
      "==========\n",
      "\n",
      "RTS Holography: 4k 4deg 4Hz m063 30s scans  \n",
      "radial_holography_scan.py --product=c856M4k --sb-id-code=20150710-0003 -o mattieu --proposal-id=COMM-RTS --program-block-id=RTS -r 4 -n off --no-delays -d RTS Holography: 4k 4deg 4Hz m063 30s scans  EUTELSAT 36B -f 12500.5 --scan-ants=m063 --num-scans=60 --scan-duration=30 --scan-extent=4 -m 1320 \n",
      "==========\n",
      "\n",
      "RTS Holography: 4k 5deg 4Hz m063 \n",
      "radial_holography_scan.py --product=c856M4k --sb-id-code=20150710-0003 -o schwardt --proposal-id=COMM-RTS --program-block-id=RTS -r 4 -n off --no-delays -d RTS Holography: 4k 5deg 4Hz m063 EUTELSAT 36B -f 12500.5 --scan-ants=m063 --num-scans=60 --scan-duration=60 --scan-extent=5 -m 2640 \n",
      "==========\n",
      "\n",
      "RTS Holography: 4k 5deg 4Hz m062 \n",
      "radial_holography_scan.py --product=c856M4k --sb-id-code=20150710-0003 -o schwardt --proposal-id=COMM-RTS --program-block-id=RTS -r 4 -n off --no-delays -d RTS Holography: 4k 5deg 4Hz m062 EUTELSAT 36B -f 12500.5 --scan-ants=m062 --num-scans=60 --scan-duration=60 --scan-extent=5 -m 2640 \n",
      "==========\n",
      "\n",
      "RTS Holography: 4k 1deg 1Hz \n",
      "radial_holography_scan.py --product=c856M4k --sb-id-code=20150710-0003 -o schwardt --proposal-id=COMM-RTS --program-block-id=RTS -r 1 -n off --no-delays -d RTS Holography: 4k 1deg 1Hz EUTELSAT 36B -f 12500.5 --scan-ants=m063 --num-scans=60 --scan-duration=60 --scan-extent=1 -m 2640 \n",
      "==========\n",
      "\n",
      "RTS Holography: 4k 4deg 4Hz \n",
      "radial_holography_scan.py --product=c856M4k --sb-id-code=20150710-0003 -o schwardt --proposal-id=COMM-RTS --program-block-id=RTS -r 4 -n off --no-delays -d RTS Holography: 4k 4deg 4Hz EUTELSAT 36B -f 12500.5 --scan-ants=m063 --num-scans=60 --scan-duration=60 --scan-extent=4 -m 2640 \n",
      "==========\n",
      "\n",
      "Improving holograpy pointing \n",
      "point_source_scan.py --product=c856M4k --sb-id-code=20150710-0003 -o schwardt --proposal-id=blah --program-block-id=blah -r 4 -n off --no-delays --fine -d Improving holograpy pointing EUTELSAT 36B \n",
      "==========\n",
      "\n",
      "Improving holograpy pointing \n",
      "point_source_scan.py --product=c856M4k --sb-id-code=20150710-0003 -o schwardt --proposal-id=blah --program-block-id=blah -r 4 -n off --no-delays --search-fine -d Improving holograpy pointing EUTELSAT 36B \n",
      "==========\n",
      "\n",
      "Improving holograpy pointing \n",
      "point_source_scan.py --product=c856M4k --sb-id-code=20150710-0003 -o schwardt --proposal-id=blah --program-block-id=blah -r 4 -n off --no-delays --search-fine -d Improving holograpy pointing EUTELSAT 36B \n",
      "==========\n",
      "\n"
     ]
    }
   ],
   "source": [
    "sbd = []\n",
    "pid = []\n",
    "fnd = []\n",
    "dud = []\n",
    "antsd = []\n",
    "scrd = []\n",
    "\n",
    "for fi in f:\n",
    "    print fi.metadata.Description,\"\\n\", fi.metadata.InstructionSet,\"\\n==========\\n\""
   ]
  },
  {
   "cell_type": "code",
   "execution_count": 10,
   "metadata": {
    "collapsed": false
   },
   "outputs": [
    {
     "name": "stdout",
     "output_type": "stream",
     "text": [
      "===============================================================================\n",
      "Name: /var/kat/data/staging/1436528311.h5 (version 3.0)\n",
      "===============================================================================\n",
      "Observer: schwardt  Experiment ID: 20150710-0003\n",
      "Description: 'Improving holograpy pointing'\n",
      "Observed from 2015-07-10 13:38:32.487 SAST to 2015-07-10 13:39:23.715 SAST\n",
      "Dump rate / period: 4.00169 Hz / 0.250 s\n",
      "Subarrays: 1\n",
      "  ID  Antennas                            Inputs  Corrprods\n",
      "   0  m062,m063                            4       12\n",
      "Spectral Windows: 1\n",
      "  ID  Product    CentreFreq(MHz)  Bandwidth(MHz)  Channels  ChannelWidth(kHz)\n",
      "   0  c856M4k     1284.000         856.000          4096      208.984\n",
      "-------------------------------------------------------------------------------\n",
      "Data selected according to the following criteria:\n",
      "  subarray=0\n",
      "  ants=['m062', 'm063']\n",
      "  spw=0\n",
      "-------------------------------------------------------------------------------\n",
      "Shape: (205 dumps, 4096 channels, 12 correlation products) => Size: 80.609 MB\n",
      "Antennas: *m062,m063  Inputs: 4  Autocorr: yes  Crosscorr: yes\n",
      "Channels: 4096 (index 0 - 4095,  856.000 MHz - 1711.791 MHz), each 208.984 kHz wide\n",
      "Targets: 1 selected out of 1 in catalogue\n",
      "  ID  Name          Type      RA(J2000)     DEC(J2000)  Tags  Dumps  ModelFlux(Jy)\n",
      "   0  EUTELSAT 36B  tle                 -            -  GEO     205  \n",
      "Scans: 4 selected out of 4 total       Compscans: 1 selected out of 1 total\n",
      "  Date        Timerange(UTC)       ScanState  CompScanLabel  Dumps  Target\n",
      "  10-Jul-2015/11:38:32 - 11:38:37    0:slew     0:raster        19    0:EUTELSAT 36B\n",
      "              11:38:37 - 11:38:38    1:stop     0:raster         4    0:EUTELSAT 36B\n",
      "              11:38:38 - 11:38:42    2:slew     0:raster        19    0:EUTELSAT 36B\n",
      "              11:38:43 - 11:39:23    3:scan     0:raster       163    0:EUTELSAT 36B\n",
      "-------------------------------------------------------------------------------\n",
      "Process log:\n",
      "  RFIThreshold2:  axis=0   n_sigma=11.0   spike_width=6\n",
      "          Scale:  scale_factor=1.0\n",
      "       VanVleck:  accum_per_int=52224.0\n"
     ]
    }
   ],
   "source": [
    "print fi.metadata.Details"
   ]
  },
  {
   "cell_type": "code",
   "execution_count": 11,
   "metadata": {
    "collapsed": false
   },
   "outputs": [
    {
     "name": "stdout",
     "output_type": "stream",
     "text": [
      "===============================================================================\n",
      "Name: /var/kat/data/staging/1436528311.h5 (version 3.0)\n",
      "===============================================================================\n",
      "Observer: schwardt  Experiment ID: 20150710-0003\n",
      "Description: 'Improving holograpy pointing'\n",
      "Observed from 2015-07-10 13:38:32.487 SAST to 2015-07-10 13:39:23.715 SAST\n",
      "Dump rate / period: 4.00169 Hz / 0.250 s\n",
      "Subarrays: 1\n",
      "  ID  Antennas                            Inputs  Corrprods\n",
      "   0  m062,m063                            4       12\n",
      "Spectral Windows: 1\n",
      "  ID  Product    CentreFreq(MHz)  Bandwidth(MHz)  Channels  ChannelWidth(kHz)\n",
      "   0  c856M4k     1284.000         856.000          4096      208.984\n",
      "-------------------------------------------------------------------------------\n",
      "Data selected according to the following criteria:\n",
      "  subarray=0\n",
      "  ants=['m062', 'm063']\n",
      "  spw=0\n",
      "-------------------------------------------------------------------------------\n",
      "Shape: (205 dumps, 4096 channels, 12 correlation products) => Size: 80.609 MB\n",
      "Antennas: *m062,m063  Inputs: 4  Autocorr: yes  Crosscorr: yes\n",
      "Channels: 4096 (index 0 - 4095,  856.000 MHz - 1711.791 MHz), each 208.984 kHz wide\n",
      "Targets: 1 selected out of 1 in catalogue\n",
      "  ID  Name          Type      RA(J2000)     DEC(J2000)  Tags  Dumps  ModelFlux(Jy)\n",
      "   0  EUTELSAT 36B  tle                 -            -  GEO     205  \n",
      "Scans: 4 selected out of 4 total       Compscans: 1 selected out of 1 total\n",
      "  Date        Timerange(UTC)       ScanState  CompScanLabel  Dumps  Target\n",
      "  10-Jul-2015/11:38:32 - 11:38:37    0:slew     0:raster        19    0:EUTELSAT 36B\n",
      "              11:38:37 - 11:38:38    1:stop     0:raster         4    0:EUTELSAT 36B\n",
      "              11:38:38 - 11:38:42    2:slew     0:raster        19    0:EUTELSAT 36B\n",
      "              11:38:43 - 11:39:23    3:scan     0:raster       163    0:EUTELSAT 36B\n",
      "-------------------------------------------------------------------------------\n",
      "Process log:\n",
      "  RFIThreshold2:  axis=0   n_sigma=11.0   spike_width=6\n",
      "          Scale:  scale_factor=1.0\n",
      "       VanVleck:  accum_per_int=52224.0\n"
     ]
    }
   ],
   "source": [
    "det=fi.metadata.Details\n",
    "for line in det.splitlines():\n",
    "    print line"
   ]
  },
  {
   "cell_type": "code",
   "execution_count": 14,
   "metadata": {
    "collapsed": false
   },
   "outputs": [
    {
     "name": "stdout",
     "output_type": "stream",
     "text": [
      "Observed from 2015-07-10 13:38:32.487 SAST to 2015-07-10 13:39:23.715 SAST\n"
     ]
    }
   ],
   "source": [
    "ls=det.splitlines()\n",
    "print ls[5]"
   ]
  },
  {
   "cell_type": "code",
   "execution_count": null,
   "metadata": {
    "collapsed": true
   },
   "outputs": [],
   "source": []
  }
 ],
 "metadata": {
  "kernelspec": {
   "display_name": "Python 2",
   "language": "python",
   "name": "python2"
  },
  "language_info": {
   "codemirror_mode": {
    "name": "ipython",
    "version": 2
   },
   "file_extension": ".py",
   "mimetype": "text/x-python",
   "name": "python",
   "nbconvert_exporter": "python",
   "pygments_lexer": "ipython2",
   "version": "2.7.3"
  }
 },
 "nbformat": 4,
 "nbformat_minor": 0
}
