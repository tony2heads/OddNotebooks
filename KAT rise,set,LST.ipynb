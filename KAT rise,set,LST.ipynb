{
 "cells": [
  {
   "cell_type": "code",
   "execution_count": 1,
   "metadata": {
    "collapsed": false
   },
   "outputs": [
    {
     "name": "stdout",
     "output_type": "stream",
     "text": [
      "2016/09/27\n"
     ]
    }
   ],
   "source": [
    "from time import *\n",
    "from ephem import *\n",
    "import math\n",
    "#\n",
    "today=strftime(\"%Y/%m/%d\")\n",
    "horizon='15:00' # can also give in radians,\n",
    "KAT=Observer()\n",
    "KAT.long,KAT.lat='21:24:38.46','-30:43:17.34' # positive East,North\n",
    "KAT.date=today\n",
    "KAT.epoch=today\n",
    "# print KAT.epoch\n",
    "KAT.elev=1038            #metres above MSL\n",
    "KAT.temp=14             # temperature in C Winter !\n",
    "KAT.pressure=0         # pressure in mbar set to zero to ignore refraction\n",
    "KAT.horizon=horizon    # minimum elevation\n",
    "dd=KAT.date.tuple()\n",
    "print today"
   ]
  },
  {
   "cell_type": "code",
   "execution_count": 2,
   "metadata": {
    "collapsed": false
   },
   "outputs": [
    {
     "name": "stdout",
     "output_type": "stream",
     "text": [
      "Date 2016/9/27 UT 00:00  LST 1:50:30.00 Horizon 15:00:00.0\n",
      "Source                 Position        UT Rise  UT Transit   UT Set   Hours Up\n",
      "Sun           12:15:50.33   -1:42:46.2 05:29:40  10:25:11  15:21:06  \n",
      "Moon          9:24:04.07    13:36:46.5 03:26:01  07:45:46  12:09:02  \n",
      "\n",
      "dec40          7:01:08.74   39:58:19.3 03:22:06  05:09:48  06:57:30    3.59 \n",
      "dec20          7:00:58.67   19:58:26.4 01:20:00  05:09:38  08:59:16    7.65 \n",
      "dec0           7:00:50.93   -0:01:26.6 00:20:19  05:09:30  09:58:41    9.64 \n",
      "dec-20         7:00:43.19  -20:01:20.6 23:30:13  05:09:22  10:44:36   11.24 \n",
      "dec-40         7:00:33.03  -40:01:16.3 22:42:01  05:09:12  11:32:28   12.84 \n",
      "dec-60         7:00:13.87  -60:01:14.1 21:24:57  05:08:53  12:48:54   15.40 \n"
     ]
    },
    {
     "name": "stderr",
     "output_type": "stream",
     "text": [
      "/usr/local/lib/python2.7/dist-packages/ipykernel/__main__.py:33: DeprecationWarning: the ephem.Body attributes 'rise_time', 'rise_az', 'transit_time', 'transit_alt', 'set_time', 'set_az', 'circumpolar', and 'never_up' are deprecated; please convert your program to use the ephem.Observer functions next_rising(), previous_rising(), next_transit(), and so forth\n",
      "\n"
     ]
    }
   ],
   "source": [
    "print \"Date %d/%d/%d UT %02d:%02d  LST %s Horizon %s\"\\\n",
    "      %(dd[0],dd[1],dd[2],dd[3],dd[4],KAT.sidereal_time(),str(KAT.horizon))\n",
    "print \"Source\"+17*\" \"+\"Position\"+8*\" \"+\"UT Rise\"+2*\" \"+\"UT Transit\"+3*\" \"+\"UT Set\"+\"   Hours Up\"\n",
    "#\n",
    "sun=Sun()\n",
    "sun.compute(KAT)\n",
    "#print \"Sun  Alt\",  sun.alt, \"Az\", sun.az\n",
    "print \"Sun          %12s %12s %-9s %-9s %-9s \" \\\n",
    "      %(sun.ra,sun.dec,str(KAT.next_rising(sun))[-8:],str(KAT.next_transit(sun))[-8:],str(KAT.next_setting(sun))[-8:])\n",
    "#\n",
    "moon=Moon()\n",
    "moon.compute(KAT)\n",
    "#print \"Moon Alt\", moon.alt,\"Az\", moon.az\n",
    "\n",
    "print \"Moon          %-12s%12s %-9s %-9s %-9s \" \\\n",
    "            % (moon.ra,moon.dec,str(KAT.next_rising(moon))[-8:],str(KAT.next_transit(moon))[-8:],str(KAT.next_setting(moon))[-8:])\n",
    "print \n",
    "#\n",
    "#\n",
    "#inp=(\"testsource, J2000, 01:02:14.3213,-11:33:11.9\", \"test2, B1950, 17:31:43, -83:13:44\")\n",
    "inp=(\"dec40, J2000,7:00:00,40:00:00\", \"dec20, J2000, 7:00:00,20:00:00\", \"dec0, J2000, 7:00:00,00:00:00\"\\\n",
    "     , \"dec-20, J2000,7:00:00,-20:00:00\", \"dec-40, J2000,7:00:00,-40:00:00\", \"dec-60, J2000,7:00:00,-60:00:00\")\n",
    "for line in inp:\n",
    "  if line[0] != \"#\":\n",
    "    s=line.split(\",\") # split the line into strings\n",
    "    source=s[0]\n",
    "# next item is 'radec...'    \n",
    "    ra=s[2]\n",
    "    dec=s[3]\n",
    "    dbline='\"'+source+\",f|J|Q,\"+ra+\",\"+dec+\",,2000\"+'\"'\n",
    "#    print dbline\n",
    "    p=readdb(dbline)\n",
    "#    p=FixedBody()\n",
    "#    p._ra,p._dec=ra,dec\n",
    "#    p._epoch='2000'\n",
    "    p.compute(KAT)\n",
    "    if p.neverup == True:\n",
    "       print \"%-11s  %12s %12s           Never Rises           \" %(source,p.ra,p.dec)\n",
    "    if p.circumpolar == True:\n",
    "       transit=str(KAT.next_transit(p))[-8:]\n",
    "       print \"%-11s  %12s %12s          %9s  Circumpolar \"  %(source,p.ra,p.dec,transit)\n",
    "    if p.neverup == False and p.circumpolar == False:  # Source rises and sets\n",
    "#      print source, p.ra, p.dec, p.alt, p.az,\n",
    "      rises=str(KAT.next_rising(p))[-8:]\n",
    "      transit=str(KAT.next_transit(p))[-8:]\n",
    "      sets=str(KAT.next_setting(p))[-8:]\n",
    "      uptime=((KAT.next_setting(p)-KAT.next_rising(p))%1)*24  # \n",
    "#calculation is in days, so make modulo 1 day, times 24 for hours.\n",
    "      print \"%-12s %12s %12s %-9s %-9s %-9s  %5.2f \" % (source,p.ra,p.dec,rises,transit,sets,uptime)\n",
    "#    for n in range(3,len(s)):    #comments at the end of the input line\n",
    "#         print s[n],\n",
    "#    print \"\"\n"
   ]
  },
  {
   "cell_type": "code",
   "execution_count": 3,
   "metadata": {
    "collapsed": false
   },
   "outputs": [
    {
     "name": "stdout",
     "output_type": "stream",
     "text": [
      "2016/09/27\n"
     ]
    }
   ],
   "source": [
    "print today"
   ]
  },
  {
   "cell_type": "code",
   "execution_count": 4,
   "metadata": {
    "collapsed": false
   },
   "outputs": [
    {
     "name": "stdout",
     "output_type": "stream",
     "text": [
      "15:00:00.0 152:07:10.2\n"
     ]
    }
   ],
   "source": [
    "print p.alt,p.az"
   ]
  },
  {
   "cell_type": "code",
   "execution_count": 5,
   "metadata": {
    "collapsed": false
   },
   "outputs": [
    {
     "data": {
      "text/plain": [
       "<ephem.Observer date='2016/9/27 00:00:00' epoch='2016/9/27 00:00:00' lon='21:24:38.5' lat='-30:43:17.3' elevation=1038.0m horizon=15:00:00.0 temp=14.0C pressure=0.0mBar>"
      ]
     },
     "execution_count": 5,
     "metadata": {},
     "output_type": "execute_result"
    }
   ],
   "source": [
    "KAT"
   ]
  },
  {
   "cell_type": "code",
   "execution_count": 6,
   "metadata": {
    "collapsed": true
   },
   "outputs": [],
   "source": [
    "def LST(ut):\n",
    "    \"\"\" \n",
    "    Requires date and time in YYYY/MM/DD hh:mm:ss format\n",
    "    Set the time string to Hours:Minutes:Seconds\n",
    "    \"\"\"\n",
    "    KAT.date=ut\n",
    "    lst=str(KAT.sidereal_time())[:8]\n",
    "    return lst\n"
   ]
  },
  {
   "cell_type": "code",
   "execution_count": 7,
   "metadata": {
    "collapsed": true
   },
   "outputs": [],
   "source": [
    "def JD(ut):\n",
    "    \"\"\" \n",
    "    Requires date and time in YYYY/MM/DD hh:mm:ss format\n",
    "    returns jd\n",
    "    \"\"\"\n",
    "    jd=julian_date(ut)\n",
    "    return jd"
   ]
  },
  {
   "cell_type": "code",
   "execution_count": 8,
   "metadata": {
    "collapsed": false
   },
   "outputs": [
    {
     "name": "stdout",
     "output_type": "stream",
     "text": [
      "19:32:23\n",
      "2457659.23542\n"
     ]
    }
   ],
   "source": [
    "ut=today+\" 17:39:00\"\n",
    "print LST(ut)\n",
    "print JD(ut)"
   ]
  },
  {
   "cell_type": "code",
   "execution_count": 9,
   "metadata": {
    "collapsed": false
   },
   "outputs": [
    {
     "name": "stdout",
     "output_type": "stream",
     "text": [
      "17:08:17\n"
     ]
    }
   ],
   "source": [
    "KAT.date=now()\n",
    "print LST(KAT.date)"
   ]
  },
  {
   "cell_type": "code",
   "execution_count": 10,
   "metadata": {
    "collapsed": false
   },
   "outputs": [
    {
     "data": {
      "text/plain": [
       "'2016-09-27 17:15:17.000001'"
      ]
     },
     "execution_count": 10,
     "metadata": {},
     "output_type": "execute_result"
    }
   ],
   "source": [
    "str(localtime(now()))"
   ]
  },
  {
   "cell_type": "code",
   "execution_count": 11,
   "metadata": {
    "collapsed": false
   },
   "outputs": [
    {
     "data": {
      "text/plain": [
       "42639.135613425926"
      ]
     },
     "execution_count": 11,
     "metadata": {},
     "output_type": "execute_result"
    }
   ],
   "source": [
    "now()"
   ]
  },
  {
   "cell_type": "code",
   "execution_count": 12,
   "metadata": {
    "collapsed": false
   },
   "outputs": [
    {
     "data": {
      "text/plain": [
       "0.09980324050411582"
      ]
     },
     "execution_count": 12,
     "metadata": {},
     "output_type": "execute_result"
    }
   ],
   "source": [
    "JD(ut)-now()-JD(\"1899/12/31 12:00:00\")"
   ]
  },
  {
   "cell_type": "code",
   "execution_count": 13,
   "metadata": {
    "collapsed": false
   },
   "outputs": [
    {
     "data": {
      "text/plain": [
       "2457149.0"
      ]
     },
     "execution_count": 13,
     "metadata": {},
     "output_type": "execute_result"
    }
   ],
   "source": [
    "JD(\"2015/05/06 12:00:00\")"
   ]
  },
  {
   "cell_type": "code",
   "execution_count": 14,
   "metadata": {
    "collapsed": false
   },
   "outputs": [
    {
     "name": "stdout",
     "output_type": "stream",
     "text": [
      "2415020.0 20:04:25\n"
     ]
    }
   ],
   "source": [
    "print JD(\"1899/12/31 12:00:00\"), LST(\"1899/12/31 12:00:00\")"
   ]
  },
  {
   "cell_type": "code",
   "execution_count": 15,
   "metadata": {
    "collapsed": false
   },
   "outputs": [
    {
     "data": {
      "text/plain": [
       "'2016/9/27 15:15:18'"
      ]
     },
     "execution_count": 15,
     "metadata": {},
     "output_type": "execute_result"
    }
   ],
   "source": [
    "str(now()) # UT time now"
   ]
  },
  {
   "cell_type": "code",
   "execution_count": 16,
   "metadata": {
    "collapsed": false
   },
   "outputs": [
    {
     "data": {
      "text/plain": [
       "2415019.9995392594"
      ]
     },
     "execution_count": 16,
     "metadata": {},
     "output_type": "execute_result"
    }
   ],
   "source": [
    "2457149.08403 -42129.084490740745"
   ]
  }
 ],
 "metadata": {
  "kernelspec": {
   "display_name": "Python 2",
   "language": "python",
   "name": "python2"
  },
  "language_info": {
   "codemirror_mode": {
    "name": "ipython",
    "version": 2
   },
   "file_extension": ".py",
   "mimetype": "text/x-python",
   "name": "python",
   "nbconvert_exporter": "python",
   "pygments_lexer": "ipython2",
   "version": "2.7.6"
  }
 },
 "nbformat": 4,
 "nbformat_minor": 0
}
