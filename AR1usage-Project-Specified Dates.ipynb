{
 "cells": [
  {
   "cell_type": "code",
   "execution_count": 143,
   "metadata": {
    "collapsed": true
   },
   "outputs": [],
   "source": [
    "%matplotlib inline\n",
    "import numpy as np"
   ]
  },
  {
   "cell_type": "code",
   "execution_count": 144,
   "metadata": {
    "collapsed": true
   },
   "outputs": [],
   "source": [
    "import matplotlib.pyplot as plt"
   ]
  },
  {
   "cell_type": "code",
   "execution_count": 145,
   "metadata": {
    "collapsed": true
   },
   "outputs": [],
   "source": [
    "import katarchive\n",
    "#import katdal as katfile\n",
    "#import katfile\n",
    "import datetime\n",
    "\n",
    "import logging\n",
    "logging.root.setLevel(logging.ERROR)\n",
    "katarchive.product_filter.only_ar1()\n"
   ]
  },
  {
   "cell_type": "code",
   "execution_count": 146,
   "metadata": {
    "collapsed": true
   },
   "outputs": [],
   "source": [
    "def findproj(text):\n",
    "    chx=text.find('--pro')  # matches 'project-id and proposal-id'\n",
    "    if chx >0  :\n",
    "        pr2=text[chx+13:chx+40].split()\n",
    "        code=pr2[0]\n",
    "        found=code.replace(\"=\",\"\")\n",
    "    else:\n",
    "        found='Unknown'\n",
    "    return found\n"
   ]
  },
  {
   "cell_type": "code",
   "execution_count": 147,
   "metadata": {
    "collapsed": true
   },
   "outputs": [],
   "source": [
    "def channels(details):\n",
    "    ch32k=\"32768\"\n",
    "    mode=\"4k\" # default\n",
    "    if ch32k in details:\n",
    "        mode=\"32k\"\n",
    "    return mode\n"
   ]
  },
  {
   "cell_type": "code",
   "execution_count": 148,
   "metadata": {
    "collapsed": true
   },
   "outputs": [],
   "source": [
    "begindate=\"27/04/2018\"\n",
    "#projectname=\"20130905MS-01\"\n",
    "#projectname=\"20141111-CR01\"\n",
    "#projectname=\"20150317AR-01\"\n",
    "lastday=\"02/05/2018\" # arbitary in future"
   ]
  },
  {
   "cell_type": "code",
   "execution_count": 149,
   "metadata": {
    "collapsed": true
   },
   "outputs": [],
   "source": [
    "#today=datetime.datetime.today()\n",
    "#print today\n",
    "#end=today.strftime(format=\"%d/%m/%Y\")\n"
   ]
  },
  {
   "cell_type": "code",
   "execution_count": 150,
   "metadata": {
    "collapsed": true
   },
   "outputs": [],
   "source": [
    "#print katarchive.search_archive(startdate=begindate,enddate=end)\n"
   ]
  },
  {
   "cell_type": "code",
   "execution_count": 151,
   "metadata": {},
   "outputs": [
    {
     "name": "stdout",
     "output_type": "stream",
     "text": [
      "Searched using: CAS.ProductTypeName:(MeerKATAR1TelescopeProduct) AND CAS.ProductTransferStatus:RECEIVED AND StartTime:[2018-04-26T22:00:00Z TO 2018-05-02T21:59:59Z]\n",
      "Returning 52 results\n"
     ]
    }
   ],
   "source": [
    "f = katarchive.search_archive(startdate=begindate,enddate=lastday)\n",
    "start = datetime.datetime.strptime(f[-1].__str__().split('\\'')[3],'%Y-%m-%d %H:%M:%S %Z')\n",
    "end = datetime.datetime.strptime(f[0].__str__().split('\\'')[3],'%Y-%m-%d %H:%M:%S %Z')"
   ]
  },
  {
   "cell_type": "code",
   "execution_count": 152,
   "metadata": {
    "scrolled": true
   },
   "outputs": [
    {
     "name": "stdout",
     "output_type": "stream",
     "text": [
      "First file in run:  2018-04-27T05:01:49\n",
      "Last file in run:  2018-05-02T10:22:56\n"
     ]
    }
   ],
   "source": [
    "print 'First file in run: ' , start.isoformat()\n",
    "print 'Last file in run: ' , end.isoformat()"
   ]
  },
  {
   "cell_type": "code",
   "execution_count": 153,
   "metadata": {
    "collapsed": true
   },
   "outputs": [],
   "source": [
    "def findproj(text):\n",
    "    chx=text.find('--pro')  # matches 'project-id and proposal-id'\n",
    "    if chx >0  :\n",
    "        pr2=text[chx+13:chx+40].split()\n",
    "        code=pr2[0]\n",
    "        found=code.replace(\"=\",\"\")\n",
    "    else:\n",
    "        found='Unknown'\n",
    "    return found\n"
   ]
  },
  {
   "cell_type": "code",
   "execution_count": 154,
   "metadata": {
    "collapsed": true
   },
   "outputs": [],
   "source": [
    "def fproj(f,p):\n",
    "    total=0.0\n",
    "    for fi in f:\n",
    "        txts=fi.metadata.InstructionSet\n",
    "        p=findproj(txts)\n",
    "        #print txts\n",
    "        #print p\n",
    "        if  projectname in p:  \n",
    "            #print \"Found\",p,\"=======================\"\n",
    "            total=total+fi.metadata.Duration\n",
    "            print (\"%s %s %6.2f\") %(p,fi.metadata.StartTime, fi.metadata.Duration/3600.)\n",
    "    print \"Total\",total/3600., \"Hours\"\n"
   ]
  },
  {
   "cell_type": "code",
   "execution_count": 155,
   "metadata": {
    "collapsed": true
   },
   "outputs": [],
   "source": [
    "projectname=\"20170914RD-01\""
   ]
  },
  {
   "cell_type": "code",
   "execution_count": 156,
   "metadata": {},
   "outputs": [
    {
     "name": "stdout",
     "output_type": "stream",
     "text": [
      "Total 0.0 Hours\n"
     ]
    }
   ],
   "source": [
    "fproj(f,\"20170914RD-01\")"
   ]
  },
  {
   "cell_type": "markdown",
   "metadata": {},
   "source": [
    "Only select observations that are longer than 1 hrs then extract the project id from the script parameters. If there is no project id then allocated No_project_id "
   ]
  },
  {
   "cell_type": "code",
   "execution_count": 157,
   "metadata": {},
   "outputs": [
    {
     "name": "stdout",
     "output_type": "stream",
     "text": [
      "Total 0.0 Hours\n"
     ]
    }
   ],
   "source": [
    "total=0.0\n",
    "for fi in f:\n",
    "    txts=fi.metadata.InstructionSet\n",
    "    p=findproj(txts)\n",
    "    #print p\n",
    "    if  projectname in p:  \n",
    "        #print \"Found\",p,\"=======================\"\n",
    "        total=total+fi.metadata.Duration\n",
    "        print (\"%s %s %6.2f\") %(p,fi.metadata.StartTime, fi.metadata.Duration/3600.)\n",
    "        \n",
    "print \"Total\",total/3600., \"Hours\"\n"
   ]
  },
  {
   "cell_type": "code",
   "execution_count": 158,
   "metadata": {},
   "outputs": [
    {
     "name": "stdout",
     "output_type": "stream",
     "text": [
      "0.569758333333\n"
     ]
    }
   ],
   "source": [
    "print fi.metadata.Duration/3600.\n"
   ]
  },
  {
   "cell_type": "code",
   "execution_count": 159,
   "metadata": {
    "collapsed": true
   },
   "outputs": [],
   "source": [
    "sbd = [] #Experiment ID\n",
    "pid = [] #project ID\n",
    "fnd = [] #Filename\n",
    "dud = [] #Duration\n",
    "antsd = [] #number of antennas\n",
    "scrd = [] #script  -NOT USED NOW\n",
    "\n",
    "for fi in f:\n",
    "    if fi.metadata.Duration < 3600: #only pick hour long or greater observations for analysis\n",
    "        continue\n",
    "    # now try extract the project-id from the instruction-set string\n",
    "    \"\"\"\n",
    "    script = fi.metadata.InstructionSet\n",
    "    scrd.append(script)\n",
    "    spl = script.split()\n",
    "    \"\"\"\n",
    "    \n",
    "    txts=fi.metadata.InstructionSet\n",
    "    p=findproj(txts)\n",
    "    if p == \"0170914RD-01\": # for typo\n",
    "        p=\"20170914RD-01\"\n",
    "    sbd.append(fi.metadata.ExperimentID)\n",
    "    pid.append(p)\n",
    "    fnd.append(fi.metadata.Filename)\n",
    "    dud.append(fi.metadata.Duration)\n",
    "    antsd.append(len(fi.metadata.Antennas))\n"
   ]
  },
  {
   "cell_type": "code",
   "execution_count": 160,
   "metadata": {},
   "outputs": [],
   "source": [
    "pi = np.array(pid)\n",
    "sb = np.array(sbd)\n",
    "du = np.array(dud)\n",
    "ants = np.array(antsd)\n",
    "\n",
    "#p_cent = (sum(du)/((end.toordinal()-start.toordinal())*24*3600))*100\n",
    "\n",
    "#print 'Percentage system usage: ', np.floor(p_cent),'%'\n"
   ]
  },
  {
   "cell_type": "code",
   "execution_count": 161,
   "metadata": {},
   "outputs": [
    {
     "name": "stdout",
     "output_type": "stream",
     "text": [
      "20180223MB-01 6.27\n",
      "MKAIV-393 7.44\n",
      "20170317SS-01 6.75\n",
      "20180213RK-01 12.21\n",
      "circinus 2.45\n",
      "20170313LM-01 2.0\n",
      "20180329TM-01 10.3\n",
      "MKAIV-232 6.05\n",
      "20180212BH-01 3.01\n"
     ]
    }
   ],
   "source": [
    "a_id = []\n",
    "a_time = []\n",
    "for p in set(pi):\n",
    "    ind = pi == p\n",
    "    print p,round(sum(du[ind])/3600,2)\n",
    "    a_id.append(p)\n",
    "    a_time.append(round(sum(du[ind])/3600,2))"
   ]
  },
  {
   "cell_type": "code",
   "execution_count": 162,
   "metadata": {},
   "outputs": [
    {
     "name": "stdout",
     "output_type": "stream",
     "text": [
      "20170313LM-01      2.0 16\n",
      "20170317SS-01      6.8 16\n",
      "20180212BH-01      3.0 16\n",
      "20180213RK-01     12.2 16\n",
      "20180223MB-01      6.3 16\n",
      "20180329TM-01     10.3 16\n",
      "MKAIV-232          6.0 16\n",
      "MKAIV-393          7.4 16\n",
      "circinus           2.5 16\n"
     ]
    }
   ],
   "source": [
    "ind = np.argsort(a_id)\n",
    "for i in ind:\n",
    "    print (\"%-16s %5.1f %d\") %(a_id[i],a_time[i],ants[i])"
   ]
  },
  {
   "cell_type": "markdown",
   "metadata": {},
   "source": [
    "Find the unique project ids and determine the total observation duration."
   ]
  },
  {
   "cell_type": "markdown",
   "metadata": {},
   "source": [
    "Sort ID and time for display"
   ]
  },
  {
   "cell_type": "markdown",
   "metadata": {},
   "source": [
    "Plot as pie-chart"
   ]
  },
  {
   "cell_type": "code",
   "execution_count": 163,
   "metadata": {},
   "outputs": [
    {
     "data": {
      "image/png": "[encoded data removed]",
      "text/plain": [
       "<matplotlib.figure.Figure at 0x7f66bb0d0750>"
      ]
     },
     "metadata": {},
     "output_type": "display_data"
    }
   ],
   "source": [
    "plt.figure(figsize=(15,15))\n",
    "plt.pie(a_time,labels=a_id,autopct='%1.1f%%');"
   ]
  },
  {
   "cell_type": "code",
   "execution_count": 164,
   "metadata": {
    "collapsed": true
   },
   "outputs": [],
   "source": [
    "plt.show()"
   ]
  },
  {
   "cell_type": "code",
   "execution_count": 165,
   "metadata": {},
   "outputs": [
    {
     "data": {
      "text/plain": [
       "21"
      ]
     },
     "execution_count": 165,
     "metadata": {},
     "output_type": "execute_result"
    }
   ],
   "source": [
    "len(antsd)"
   ]
  },
  {
   "cell_type": "code",
   "execution_count": 166,
   "metadata": {},
   "outputs": [
    {
     "name": "stdout",
     "output_type": "stream",
     "text": [
      "16 11\n",
      "51 4\n",
      "61 6\n",
      "[11, 4, 6]\n",
      "63\n"
     ]
    }
   ],
   "source": [
    "allobs=0\n",
    "numberofn=[]\n",
    "for nant in range(1,64): # from 1 to 64 antennas\n",
    "    if antsd.count(nant) > 0 :\n",
    "        print nant, antsd.count(nant)       # how many have that count\n",
    "        numberofn.append(antsd.count(nant))\n",
    "        allobs=allobs+antsd.count(nant)\n",
    "print numberofn\n",
    "print nant\n",
    "            "
   ]
  },
  {
   "cell_type": "code",
   "execution_count": 167,
   "metadata": {},
   "outputs": [
    {
     "ename": "SyntaxError",
     "evalue": "invalid syntax (<ipython-input-167-5033e865796e>, line 8)",
     "output_type": "error",
     "traceback": [
      "\u001b[0;36m  File \u001b[0;32m\"<ipython-input-167-5033e865796e>\"\u001b[0;36m, line \u001b[0;32m8\u001b[0m\n\u001b[0;31m    y=np.array(numberofn)\u001b[0m\n\u001b[0m    ^\u001b[0m\n\u001b[0;31mSyntaxError\u001b[0m\u001b[0;31m:\u001b[0m invalid syntax\n"
     ]
    }
   ],
   "source": [
    "labs=[]\n",
    "for n in range(63):\n",
    "    labs.append(str(n+1)+\" Antennas\")\n",
    "\n",
    "#cmap = plt.cm.prism\n",
    "colors = cmap(np.linspace(0., 1., 63\n",
    "#colors=['yellowgreen', 'gold', 'lightskyblue', 'lightcoral','khaki','orange','cyan']\n",
    "y=np.array(numberofn)\n",
    "plt.figure(figsize=(15,15))\n",
    "plt.pie(y,labels=labs,colors=colors, autopct='%1.1f%%')\n",
    "plt.show()"
   ]
  },
  {
   "cell_type": "code",
   "execution_count": null,
   "metadata": {
    "collapsed": true
   },
   "outputs": [],
   "source": []
  },
  {
   "cell_type": "code",
   "execution_count": null,
   "metadata": {
    "collapsed": true
   },
   "outputs": [],
   "source": []
  }
 ],
 "metadata": {
  "kernelspec": {
   "display_name": "Python 2",
   "language": "python",
   "name": "python2"
  },
  "language_info": {
   "codemirror_mode": {
    "name": "ipython",
    "version": 2
   },
   "file_extension": ".py",
   "mimetype": "text/x-python",
   "name": "python",
   "nbconvert_exporter": "python",
   "pygments_lexer": "ipython2",
   "version": "2.7.6"
  }
 },
 "nbformat": 4,
 "nbformat_minor": 1
}
