{
 "cells": [
  {
   "cell_type": "code",
   "execution_count": 1,
   "metadata": {},
   "outputs": [
    {
     "name": "stdout",
     "output_type": "stream",
     "text": [
      "Date 2018/1/5 UT 00:00  LST 8:23:47.93 Horizon 20:00:00.0\n",
      "Source\t\t  RA \t\t Dec \t  UTRise    UTTransit UTSet\n",
      "Sun \t\t19:03:19.73   -22:38:06.5 05:20:37  10:39:43  15:58:43  \n",
      "Moon \t\t9:51:59.69     14:42:02.2 22:22:34  01:30:15  05:22:29  \n"
     ]
    }
   ],
   "source": [
    "from time import *\n",
    "from ephem import *\n",
    "import math\n",
    "import datetime\n",
    "#\n",
    "today=strftime(\"%Y/%m/%d\")\n",
    "horizon='20:00' # can also give in radians,\n",
    "\n",
    "KAT=Observer()\n",
    "KAT.long,KAT.lat='21:24:38.46','-30:43:17.34' # positive East,North\n",
    "#KAT.date=today\n",
    "#KAT.epoch=today\n",
    "KAT.date='2018/01/05'\n",
    "KAT.epoch=KAT.date\n",
    "# print KAT.epoch\n",
    "KAT.elev=1038            #-metres above MSL\n",
    "KAT.temp=14             # temperature in C\n",
    "KAT.pressure=0         # pressure in mbar set to zero to ignore refraction\n",
    "KAT.horizon=horizon    # minimum elevation\n",
    "dd=KAT.date.tuple()\n",
    "print \"Date %d/%d/%d UT %02d:%02d  LST %s Horizon %s\"\\\n",
    "      %(dd[0],dd[1],dd[2],dd[3],dd[4],KAT.sidereal_time(),str(KAT.horizon))\n",
    "print \"Source\\t\\t  RA \\t\\t Dec \\t  UTRise    UTTransit UTSet\"\n",
    "#\n",
    "sun=Sun()\n",
    "sun.compute(KAT)\n",
    "#print \"Sun  Alt\",  sun.alt, \"Az\", sun.az\n",
    "print \"Sun \\t\\t%-12s %12s %-9s %-9s %-9s \" \\\n",
    "      %(sun.ra,sun.dec,str(KAT.next_rising(sun))[-8:],\\\n",
    "        str(KAT.next_transit(sun))[-8:],str(KAT.next_setting(sun))[-8:])\n",
    "#\n",
    "moon=Moon()\n",
    "moon.compute(KAT)\n",
    "#print \"Moon Alt\", moon.alt,\"Az\", moon.az\n",
    "\n",
    "print \"Moon \\t\\t%-12s %12s %-9s %-9s %-9s \" \\\n",
    "            % (moon.ra,moon.dec,str(KAT.next_rising(moon))[-8:],\\\n",
    "               str(KAT.next_transit(moon))[-8:],str(KAT.next_setting(moon))[-8:])\n",
    "\n",
    "\n"
   ]
  },
  {
   "cell_type": "code",
   "execution_count": 2,
   "metadata": {
    "collapsed": true
   },
   "outputs": [],
   "source": [
    "def SAST(utstring): #YYYY/MM/DD hh:mm:ss format\n",
    "    ut=datetime.datetime.strptime(utstring,\"%Y/%m/%d %H:%M:%S\")\n",
    "    sast=ut+datetime.timedelta(hours=2)\n",
    "    sasts= sast.strftime(\"%Y/%m/%d %H:%M:%S\") # with seconds\n",
    "    return sasts\n",
    "    "
   ]
  },
  {
   "cell_type": "code",
   "execution_count": 3,
   "metadata": {
    "collapsed": true
   },
   "outputs": [],
   "source": [
    "def UT(day,time):# format YYYY/MM/DD and hh:mm - ignore seconds\n",
    "    sast=datetime.datetime.strptime(day+time,\"%Y/%m/%d%H:%M\") # datetime format\n",
    "    ut=sast- datetime.timedelta(hours=2)\n",
    "    UTS=ut.strftime(\"%Y/%m/%d %H:%M:%S\") # neat UT string with seconds\n",
    "    return UTS\n"
   ]
  },
  {
   "cell_type": "code",
   "execution_count": 4,
   "metadata": {
    "collapsed": true
   },
   "outputs": [],
   "source": [
    "def LST(ut):\n",
    "    \"\"\" \n",
    "    Requires date and time in YYYY/MM/DD hh:mm:ss format\n",
    "    Set the time string to Hours:Minutes:Seconds\n",
    "    \"\"\"\n",
    "    KAT.date=ut\n",
    "    lst=str(KAT.sidereal_time())[:8]\n",
    "    return lst\n"
   ]
  },
  {
   "cell_type": "code",
   "execution_count": 5,
   "metadata": {
    "collapsed": true
   },
   "outputs": [],
   "source": [
    "def JD(ut):\n",
    "    \"\"\" \n",
    "    Requires date and time in YYYY/MM/DD hh:mm:ss format\n",
    "    returns jd\n",
    "    \"\"\"\n",
    "    jd=julian_date(ut)\n",
    "    return jd"
   ]
  },
  {
   "cell_type": "code",
   "execution_count": null,
   "metadata": {
    "collapsed": true
   },
   "outputs": [],
   "source": []
  },
  {
   "cell_type": "code",
   "execution_count": 6,
   "metadata": {},
   "outputs": [
    {
     "name": "stdout",
     "output_type": "stream",
     "text": [
      "13:45:00\n"
     ]
    },
    {
     "data": {
      "text/plain": [
       "datetime.time(0, 0)"
      ]
     },
     "execution_count": 6,
     "metadata": {},
     "output_type": "execute_result"
    }
   ],
   "source": [
    "local=\"13:45\"+\":00\"\n",
    "print local\n",
    "datetime.time()\n"
   ]
  },
  {
   "cell_type": "code",
   "execution_count": 7,
   "metadata": {},
   "outputs": [
    {
     "name": "stdout",
     "output_type": "stream",
     "text": [
      "2018-01-05 14:00:00\n",
      "2018-01-05 12:00:00\n",
      "SAST 2018/01/05 14:00:00  UT 2018/01/05 12:00:00\n"
     ]
    }
   ],
   "source": [
    "day=\"2018/01/05\"   #string\n",
    "time=\"14:00\"       #string\n",
    "sast=datetime.datetime.strptime(day+time,\"%Y/%m/%d%H:%M\") # datetime\n",
    "print sast\n",
    "ut=sast- datetime.timedelta(hours=2)\n",
    "print ut\n",
    "print \"SAST\",sast.strftime(\"%Y/%m/%d %H:%M:%S\"),\" UT\",ut.strftime(\"%Y/%m/%d %H:%M:%S\")\n",
    "                                \n"
   ]
  },
  {
   "cell_type": "code",
   "execution_count": 8,
   "metadata": {},
   "outputs": [
    {
     "name": "stdout",
     "output_type": "stream",
     "text": [
      "2018/01/05 16:00:00\n"
     ]
    }
   ],
   "source": [
    "print SAST(\"2018/01/05 14:00:00\")"
   ]
  },
  {
   "cell_type": "code",
   "execution_count": 9,
   "metadata": {},
   "outputs": [
    {
     "name": "stdout",
     "output_type": "stream",
     "text": [
      "2018/01/05 12:00:00\n"
     ]
    }
   ],
   "source": [
    "x=UT(\"2018/01/05\",\"14:00\")\n",
    "print x"
   ]
  },
  {
   "cell_type": "code",
   "execution_count": 26,
   "metadata": {},
   "outputs": [
    {
     "data": {
      "text/plain": [
       "'22:26:05.92'"
      ]
     },
     "execution_count": 26,
     "metadata": {},
     "output_type": "execute_result"
    }
   ],
   "source": [
    "KAT.date=\"2018/01/05 14:00:00\"   # UT string\n",
    "str(KAT.sidereal_time())\n"
   ]
  },
  {
   "cell_type": "code",
   "execution_count": 11,
   "metadata": {},
   "outputs": [
    {
     "name": "stdout",
     "output_type": "stream",
     "text": [
      "2018/01/05 12:00:00\n",
      "2018/01/05 14:00:00 2018/01/05 12:00:00 20:25:46\n"
     ]
    }
   ],
   "source": [
    "date=\"2018/01/05\"\n",
    "time=\"14:00\"\n",
    "ut_test=UT(date,time)\n",
    "print ut_test\n",
    "lst=LST(ut_test)\n",
    "print SAST(ut_test), ut_test, lst"
   ]
  },
  {
   "cell_type": "code",
   "execution_count": 12,
   "metadata": {},
   "outputs": [
    {
     "name": "stdout",
     "output_type": "stream",
     "text": [
      "dec30          7:01:09.46   29:58:17.9 20:07:20  22:33:39  00:59:58    4.88 \n",
      "dec20          7:01:04.46   19:58:17.8 19:13:04  22:33:34  01:54:04    6.68 \n",
      "dec0           7:00:56.07   -0:01:42.0 18:07:52  22:33:26  02:59:00    8.85 \n",
      "dec-20         7:00:47.85  -20:01:41.7 17:21:54  22:33:18  03:44:42   10.38 \n",
      "dec-40         7:00:37.32  -40:01:41.0 16:38:46  22:33:07  04:27:28   11.81 \n",
      "dec-60         7:00:17.86  -60:01:40.1 15:39:47  22:32:48  05:25:49   13.77 \n"
     ]
    },
    {
     "name": "stderr",
     "output_type": "stream",
     "text": [
      "/usr/local/lib/python2.7/dist-packages/ipykernel_launcher.py:16: DeprecationWarning: the ephem.Body attributes 'rise_time', 'rise_az', 'transit_time', 'transit_alt', 'set_time', 'set_az', 'circumpolar', and 'never_up' are deprecated; please convert your program to use the ephem.Observer functions next_rising(), previous_rising(), next_transit(), and so forth\n",
      "\n",
      "  app.launch_new_instance()\n"
     ]
    }
   ],
   "source": [
    "inp=(\"dec30, J2000,7:00:00,30:00:00\", \"dec20, J2000, 7:00:00,20:00:00\", \"dec0, J2000, 7:00:00,00:00:00\"\\\n",
    "     , \"dec-20, J2000,7:00:00,-20:00:00\", \"dec-40, J2000,7:00:00,-40:00:00\", \"dec-60, J2000,7:00:00,-60:00:00\")\n",
    "for line in inp:\n",
    "  if line[0] != \"#\":\n",
    "    s=line.split(\",\") # split the line into strings\n",
    "    source=s[0]\n",
    "# next item is 'radec...'    \n",
    "    ra=s[2]\n",
    "    dec=s[3]\n",
    "    dbline='\"'+source+\",f|J|Q,\"+ra+\",\"+dec+\",,2000\"+'\"'\n",
    "#    print dbline\n",
    "    p=readdb(dbline)\n",
    "#    p=FixedBody()\n",
    "#    p._ra,p._dec=ra,dec\n",
    "#    p._epoch='2000'\n",
    "    p.compute(KAT)\n",
    "    if p.neverup == True:\n",
    "       print \"%-11s  %12s %12s           Never Rises           \" %(source,p.ra,p.dec)\n",
    "    if p.circumpolar == True:\n",
    "       transit=str(KAT.next_transit(p))[-8:]\n",
    "       print \"%-11s  %12s %12s          %9s  Circumpolar \"  %(source,p.ra,p.dec,transit)\n",
    "    if p.neverup == False and p.circumpolar == False:  # Source rises and sets\n",
    "#      print source, p.ra, p.dec, p.alt, p.az,\n",
    "      rises=str(KAT.next_rising(p))[-8:]\n",
    "      transit=str(KAT.next_transit(p))[-8:]\n",
    "      sets=str(KAT.next_setting(p))[-8:]\n",
    "      uptime=((KAT.next_setting(p)-KAT.next_rising(p))%1)*24  # \n",
    "#calculation is in days, so make modulo 1 day, times 24 for hours.\n",
    "      print \"%-12s %12s %12s %-9s %-9s %-9s  %5.2f \" % (source,p.ra,p.dec,rises,transit,sets,uptime)\n",
    "#    for n in range(3,len(s)):    #comments at the end of the input line\n",
    "#         print s[n],\n",
    "#    print \"\"\n"
   ]
  },
  {
   "cell_type": "code",
   "execution_count": 13,
   "metadata": {},
   "outputs": [
    {
     "name": "stdout",
     "output_type": "stream",
     "text": [
      "20:00:00.0 148:52:38.3\n"
     ]
    }
   ],
   "source": [
    "print p.alt,p.az"
   ]
  },
  {
   "cell_type": "code",
   "execution_count": 14,
   "metadata": {},
   "outputs": [
    {
     "data": {
      "text/plain": [
       "<ephem.Observer date='2018/1/5 12:00:00' epoch='2018/1/5 00:00:00' lon='21:24:38.5' lat='-30:43:17.3' elevation=1038.0m horizon=20:00:00.0 temp=14.0C pressure=0.0mBar>"
      ]
     },
     "execution_count": 14,
     "metadata": {},
     "output_type": "execute_result"
    }
   ],
   "source": [
    "KAT"
   ]
  },
  {
   "cell_type": "code",
   "execution_count": 15,
   "metadata": {},
   "outputs": [
    {
     "name": "stdout",
     "output_type": "stream",
     "text": [
      "22:26:25\n",
      "2458124.08356\n"
     ]
    }
   ],
   "source": [
    "ut=today+\" 14:00:20\"\n",
    "print LST(ut)\n",
    "print JD(ut)"
   ]
  },
  {
   "cell_type": "code",
   "execution_count": 16,
   "metadata": {},
   "outputs": [
    {
     "name": "stdout",
     "output_type": "stream",
     "text": [
      "18:56:58\n"
     ]
    }
   ],
   "source": [
    "KAT.date=now()\n",
    "print LST(KAT.date)"
   ]
  },
  {
   "cell_type": "code",
   "execution_count": 17,
   "metadata": {},
   "outputs": [
    {
     "data": {
      "text/plain": [
       "'2018-01-05 12:31:26.000004'"
      ]
     },
     "execution_count": 17,
     "metadata": {},
     "output_type": "execute_result"
    }
   ],
   "source": [
    "str(localtime(now()))"
   ]
  },
  {
   "cell_type": "code",
   "execution_count": 18,
   "metadata": {},
   "outputs": [
    {
     "data": {
      "text/plain": [
       "43103.93850694444"
      ]
     },
     "execution_count": 18,
     "metadata": {},
     "output_type": "execute_result"
    }
   ],
   "source": [
    "now()"
   ]
  },
  {
   "cell_type": "code",
   "execution_count": 19,
   "metadata": {},
   "outputs": [
    {
     "data": {
      "text/plain": [
       "0.14505787007510662"
      ]
     },
     "execution_count": 19,
     "metadata": {},
     "output_type": "execute_result"
    }
   ],
   "source": [
    "JD(ut)-now()-JD(\"1899/12/31 12:00:00\")"
   ]
  },
  {
   "cell_type": "code",
   "execution_count": 20,
   "metadata": {},
   "outputs": [
    {
     "data": {
      "text/plain": [
       "2457149.0"
      ]
     },
     "execution_count": 20,
     "metadata": {},
     "output_type": "execute_result"
    }
   ],
   "source": [
    "JD(\"2015/05/06 12:00:00\")"
   ]
  },
  {
   "cell_type": "code",
   "execution_count": 21,
   "metadata": {},
   "outputs": [
    {
     "data": {
      "text/plain": [
       "'2018/1/5 10:31:27'"
      ]
     },
     "execution_count": 21,
     "metadata": {},
     "output_type": "execute_result"
    }
   ],
   "source": [
    "str(now()) # UT time now"
   ]
  },
  {
   "cell_type": "code",
   "execution_count": 22,
   "metadata": {
    "collapsed": true
   },
   "outputs": [],
   "source": [
    "def tomorrow():\n",
    "    tod=datetime.datetime.today().date() #today\n",
    "    tom=tod+datetime.timedelta(1) # tomorrow\n",
    "    toms=tom.strftime(\"%Y/%m/%d\")\n",
    "    return toms"
   ]
  },
  {
   "cell_type": "code",
   "execution_count": 23,
   "metadata": {},
   "outputs": [
    {
     "name": "stdout",
     "output_type": "stream",
     "text": [
      "Sunset  2018-01-05 19:38:24.000004\n",
      "Sunrise 2018-01-06 05:41:37.000005\n"
     ]
    }
   ],
   "source": [
    "KAT.horizon='00:00' # NOT 20deg like regular sources\n",
    "sun.compute(KAT)\n",
    "sunrise=KAT.next_rising(sun)\n",
    "sunset=KAT.next_setting(sun)\n",
    "print \"Sunset \",localtime(sunset)\n",
    "print \"Sunrise\",localtime(sunrise)\n",
    "#"
   ]
  },
  {
   "cell_type": "code",
   "execution_count": 24,
   "metadata": {},
   "outputs": [
    {
     "name": "stdout",
     "output_type": "stream",
     "text": [
      "2018/01/06\n",
      "2018/01/06 05:41:38\n"
     ]
    }
   ],
   "source": [
    "print tomorrow()\n",
    "tom=tomorrow()\n",
    "print SAST(str(KAT.next_rising(sun,start=tomorrow())))"
   ]
  },
  {
   "cell_type": "code",
   "execution_count": 25,
   "metadata": {},
   "outputs": [
    {
     "name": "stdout",
     "output_type": "stream",
     "text": [
      "LST at sunset  2:05:05.\n",
      "LST at sunrise 12:09:58\n",
      "SAST Sunset    2018/01/05 19:38:24\n",
      "SAST Sunrise   2018/01/06 05:41:38\n"
     ]
    }
   ],
   "source": [
    "\n",
    "print \"LST at sunset \", LST(str(sunset))\n",
    "print \"LST at sunrise\", LST(str(KAT.next_rising(sun,start=tom)))\n",
    "print \"SAST Sunset   \", SAST(str(sunset))\n",
    "print \"SAST Sunrise  \", SAST(str(KAT.next_rising(sun,start=tom)))"
   ]
  }
 ],
 "metadata": {
  "kernelspec": {
   "display_name": "Python 2",
   "language": "python",
   "name": "python2"
  },
  "language_info": {
   "codemirror_mode": {
    "name": "ipython",
    "version": 2
   },
   "file_extension": ".py",
   "mimetype": "text/x-python",
   "name": "python",
   "nbconvert_exporter": "python",
   "pygments_lexer": "ipython2",
   "version": "2.7.6"
  }
 },
 "nbformat": 4,
 "nbformat_minor": 1
}
