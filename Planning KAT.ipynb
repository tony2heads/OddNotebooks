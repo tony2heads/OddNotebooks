{
 "cells": [
  {
   "cell_type": "code",
   "execution_count": 117,
   "metadata": {},
   "outputs": [
    {
     "name": "stdout",
     "output_type": "stream",
     "text": [
      "Date 2017/5/20 UT 00:00  LST 17:17:00.25 Horizon 20:00:00.0\n",
      "Source\t\t  RA \t\t Dec \t  UTRise    UTTransit UTSet\n",
      "Sun \t\t3:47:51.57     19:58:13.9 07:08:30  10:30:53  13:53:00  \n",
      "Moon \t\t22:54:15.95    -8:00:25.5 00:52:04  05:45:13  10:34:24  \n"
     ]
    }
   ],
   "source": [
    "from time import *\n",
    "from ephem import *\n",
    "import math\n",
    "import datetime\n",
    "#\n",
    "today=strftime(\"%Y/%m/%d\")\n",
    "horizon='20:00' # can also give in radians,\n",
    "\n",
    "KAT=Observer()\n",
    "KAT.long,KAT.lat='21:24:38.46','-30:43:17.34' # positive East,North\n",
    "#KAT.date=today\n",
    "#KAT.epoch=today\n",
    "KAT.date='2017/05/20'\n",
    "KAT.epoch=KAT.date\n",
    "# print KAT.epoch\n",
    "KAT.elev=1038            #-metres above MSL\n",
    "KAT.temp=14             # temperature in C\n",
    "KAT.pressure=0         # pressure in mbar set to zero to ignore refraction\n",
    "KAT.horizon=horizon    # minimum elevation\n",
    "dd=KAT.date.tuple()\n",
    "print \"Date %d/%d/%d UT %02d:%02d  LST %s Horizon %s\"\\\n",
    "      %(dd[0],dd[1],dd[2],dd[3],dd[4],KAT.sidereal_time(),str(KAT.horizon))\n",
    "print \"Source\\t\\t  RA \\t\\t Dec \\t  UTRise    UTTransit UTSet\"\n",
    "#\n",
    "sun=Sun()\n",
    "sun.compute(KAT)\n",
    "#print \"Sun  Alt\",  sun.alt, \"Az\", sun.az\n",
    "print \"Sun \\t\\t%-12s %12s %-9s %-9s %-9s \" \\\n",
    "      %(sun.ra,sun.dec,str(KAT.next_rising(sun))[-8:],\\\n",
    "        str(KAT.next_transit(sun))[-8:],str(KAT.next_setting(sun))[-8:])\n",
    "#\n",
    "moon=Moon()\n",
    "moon.compute(KAT)\n",
    "#print \"Moon Alt\", moon.alt,\"Az\", moon.az\n",
    "\n",
    "print \"Moon \\t\\t%-12s %12s %-9s %-9s %-9s \" \\\n",
    "            % (moon.ra,moon.dec,str(KAT.next_rising(moon))[-8:],\\\n",
    "               str(KAT.next_transit(moon))[-8:],str(KAT.next_setting(moon))[-8:])\n",
    "\n",
    "\n"
   ]
  },
  {
   "cell_type": "code",
   "execution_count": 118,
   "metadata": {
    "collapsed": true
   },
   "outputs": [],
   "source": [
    "def SAST(utstring): #YYYY/MM/DD hh:mm:ss format\n",
    "    ut=datetime.datetime.strptime(utstring,\"%Y/%m/%d %H:%M:%S\")\n",
    "    sast=ut+datetime.timedelta(hours=2)\n",
    "    sasts= sast.strftime(\"%Y/%m/%d %H:%M:%S\") # with seconds\n",
    "    return sasts\n",
    "    "
   ]
  },
  {
   "cell_type": "code",
   "execution_count": 119,
   "metadata": {
    "collapsed": true
   },
   "outputs": [],
   "source": [
    "def UT(day,time):# format YYYY/MM/DD and hh:mm - ignore seconds\n",
    "    sast=datetime.datetime.strptime(day+time,\"%Y/%m/%d%H:%M\") # datetime format\n",
    "    ut=sast- datetime.timedelta(hours=2)\n",
    "    UTS=ut.strftime(\"%Y/%m/%d %H:%M:%S\") # neat UT string with seconds\n",
    "    return UTS\n"
   ]
  },
  {
   "cell_type": "code",
   "execution_count": 120,
   "metadata": {
    "collapsed": true
   },
   "outputs": [],
   "source": [
    "def LST(ut):\n",
    "    \"\"\" \n",
    "    Requires date and time in YYYY/MM/DD hh:mm:ss format\n",
    "    Set the time string to Hours:Minutes:Seconds\n",
    "    \"\"\"\n",
    "    KAT.date=ut\n",
    "    lst=str(KAT.sidereal_time())[:8]\n",
    "    return lst\n"
   ]
  },
  {
   "cell_type": "code",
   "execution_count": 121,
   "metadata": {
    "collapsed": true
   },
   "outputs": [],
   "source": [
    "def JD(ut):\n",
    "    \"\"\" \n",
    "    Requires date and time in YYYY/MM/DD hh:mm:ss format\n",
    "    returns jd\n",
    "    \"\"\"\n",
    "    jd=julian_date(ut)\n",
    "    return jd"
   ]
  },
  {
   "cell_type": "code",
   "execution_count": null,
   "metadata": {},
   "outputs": [],
   "source": []
  },
  {
   "cell_type": "code",
   "execution_count": 122,
   "metadata": {},
   "outputs": [
    {
     "name": "stdout",
     "output_type": "stream",
     "text": [
      "13:45:00\n"
     ]
    },
    {
     "data": {
      "text/plain": [
       "datetime.time(0, 0)"
      ]
     },
     "execution_count": 122,
     "metadata": {},
     "output_type": "execute_result"
    }
   ],
   "source": [
    "local=\"13:45\"+\":00\"\n",
    "print local\n",
    "datetime.time()\n"
   ]
  },
  {
   "cell_type": "code",
   "execution_count": 123,
   "metadata": {},
   "outputs": [
    {
     "name": "stdout",
     "output_type": "stream",
     "text": [
      "2017-05-19 00:15:00\n",
      "2017-05-18 22:15:00\n",
      "SAST 2017/05/19 00:15:00  UT 2017/05/18 22:15:00\n"
     ]
    }
   ],
   "source": [
    "day=\"2017/05/19\"   #string\n",
    "time=\"00:15\"       #string\n",
    "sast=datetime.datetime.strptime(day+time,\"%Y/%m/%d%H:%M\") # datetime\n",
    "print sast\n",
    "ut=sast- datetime.timedelta(hours=2)\n",
    "print ut\n",
    "print \"SAST\",sast.strftime(\"%Y/%m/%d %H:%M:%S\"),\" UT\",ut.strftime(\"%Y/%m/%d %H:%M:%S\")\n",
    "                                \n"
   ]
  },
  {
   "cell_type": "code",
   "execution_count": 124,
   "metadata": {},
   "outputs": [
    {
     "name": "stdout",
     "output_type": "stream",
     "text": [
      "2017/05/14 00:46:00\n"
     ]
    }
   ],
   "source": [
    "print SAST(\"2017/05/13 22:46:00\")"
   ]
  },
  {
   "cell_type": "code",
   "execution_count": 125,
   "metadata": {},
   "outputs": [
    {
     "name": "stdout",
     "output_type": "stream",
     "text": [
      "2017/05/16 11:00:00\n"
     ]
    }
   ],
   "source": [
    "x=UT(\"2017/05/16\",\"13:00\")\n",
    "print x"
   ]
  },
  {
   "cell_type": "code",
   "execution_count": 126,
   "metadata": {},
   "outputs": [
    {
     "data": {
      "text/plain": [
       "'11:10:47.05'"
      ]
     },
     "execution_count": 126,
     "metadata": {},
     "output_type": "execute_result"
    }
   ],
   "source": [
    "KAT.date=\"2015/05/22 17:45:00\"   # UT string\n",
    "str(KAT.sidereal_time())\n"
   ]
  },
  {
   "cell_type": "code",
   "execution_count": 127,
   "metadata": {},
   "outputs": [
    {
     "name": "stdout",
     "output_type": "stream",
     "text": [
      "2017/05/22 18:00:00\n",
      "2017/05/22 20:00:00 2017/05/22 18:00:00 11:27:50\n"
     ]
    }
   ],
   "source": [
    "date=\"2017/05/22\"\n",
    "time=\"20:00\"\n",
    "ut_test=UT(date,time)\n",
    "print ut_test\n",
    "lst=LST(ut_test)\n",
    "print SAST(ut_test), ut_test, lst"
   ]
  },
  {
   "cell_type": "code",
   "execution_count": 128,
   "metadata": {},
   "outputs": [
    {
     "name": "stdout",
     "output_type": "stream",
     "text": [
      "dec30          7:01:04.40   29:58:25.5 11:03:43  13:30:01  15:56:20    4.88 \n",
      "dec20          7:00:59.79   19:58:23.1 10:09:27  13:29:57  16:50:26    6.68 \n",
      "dec0           7:00:51.84   -0:01:41.6 09:04:15  13:29:49  17:55:23    8.85 \n",
      "dec-20         7:00:43.76  -20:01:45.9 08:18:17  13:29:41  18:45:01   10.45 \n",
      "dec-40         7:00:33.05  -40:01:49.1 07:35:09  13:29:30  19:27:47   11.88 \n",
      "dec-60         7:00:12.66  -60:01:50.8 06:36:08  13:29:10  20:26:07   13.83 \n"
     ]
    }
   ],
   "source": [
    "inp=(\"dec30, J2000,7:00:00,30:00:00\", \"dec20, J2000, 7:00:00,20:00:00\", \"dec0, J2000, 7:00:00,00:00:00\"\\\n",
    "     , \"dec-20, J2000,7:00:00,-20:00:00\", \"dec-40, J2000,7:00:00,-40:00:00\", \"dec-60, J2000,7:00:00,-60:00:00\")\n",
    "for line in inp:\n",
    "  if line[0] != \"#\":\n",
    "    s=line.split(\",\") # split the line into strings\n",
    "    source=s[0]\n",
    "# next item is 'radec...'    \n",
    "    ra=s[2]\n",
    "    dec=s[3]\n",
    "    dbline='\"'+source+\",f|J|Q,\"+ra+\",\"+dec+\",,2000\"+'\"'\n",
    "#    print dbline\n",
    "    p=readdb(dbline)\n",
    "#    p=FixedBody()\n",
    "#    p._ra,p._dec=ra,dec\n",
    "#    p._epoch='2000'\n",
    "    p.compute(KAT)\n",
    "    if p.neverup == True:\n",
    "       print \"%-11s  %12s %12s           Never Rises           \" %(source,p.ra,p.dec)\n",
    "    if p.circumpolar == True:\n",
    "       transit=str(KAT.next_transit(p))[-8:]\n",
    "       print \"%-11s  %12s %12s          %9s  Circumpolar \"  %(source,p.ra,p.dec,transit)\n",
    "    if p.neverup == False and p.circumpolar == False:  # Source rises and sets\n",
    "#      print source, p.ra, p.dec, p.alt, p.az,\n",
    "      rises=str(KAT.next_rising(p))[-8:]\n",
    "      transit=str(KAT.next_transit(p))[-8:]\n",
    "      sets=str(KAT.next_setting(p))[-8:]\n",
    "      uptime=((KAT.next_setting(p)-KAT.next_rising(p))%1)*24  # \n",
    "#calculation is in days, so make modulo 1 day, times 24 for hours.\n",
    "      print \"%-12s %12s %12s %-9s %-9s %-9s  %5.2f \" % (source,p.ra,p.dec,rises,transit,sets,uptime)\n",
    "#    for n in range(3,len(s)):    #comments at the end of the input line\n",
    "#         print s[n],\n",
    "#    print \"\"\n"
   ]
  },
  {
   "cell_type": "code",
   "execution_count": 129,
   "metadata": {},
   "outputs": [
    {
     "name": "stdout",
     "output_type": "stream",
     "text": [
      "20:00:00.0 148:52:51.2\n"
     ]
    }
   ],
   "source": [
    "print p.alt,p.az"
   ]
  },
  {
   "cell_type": "code",
   "execution_count": 130,
   "metadata": {},
   "outputs": [
    {
     "data": {
      "text/plain": [
       "<ephem.Observer date='2017/5/22 18:00:00' epoch='2017/5/20 00:00:00' lon='21:24:38.5' lat='-30:43:17.3' elevation=1038.0m horizon=20:00:00.0 temp=14.0C pressure=0.0mBar>"
      ]
     },
     "execution_count": 130,
     "metadata": {},
     "output_type": "execute_result"
    }
   ],
   "source": [
    "KAT"
   ]
  },
  {
   "cell_type": "code",
   "execution_count": 131,
   "metadata": {},
   "outputs": [
    {
     "name": "stdout",
     "output_type": "stream",
     "text": [
      "6:54:46.\n",
      "2457891.07454\n"
     ]
    }
   ],
   "source": [
    "ut=today+\" 13:47:20\"\n",
    "print LST(ut)\n",
    "print JD(ut)"
   ]
  },
  {
   "cell_type": "code",
   "execution_count": 132,
   "metadata": {},
   "outputs": [
    {
     "name": "stdout",
     "output_type": "stream",
     "text": [
      "2:30:47.\n"
     ]
    }
   ],
   "source": [
    "KAT.date=now()\n",
    "print LST(KAT.date)"
   ]
  },
  {
   "cell_type": "code",
   "execution_count": 133,
   "metadata": {},
   "outputs": [
    {
     "data": {
      "text/plain": [
       "'2017-05-17 11:24:04.000002'"
      ]
     },
     "execution_count": 133,
     "metadata": {},
     "output_type": "execute_result"
    }
   ],
   "source": [
    "str(localtime(now()))"
   ]
  },
  {
   "cell_type": "code",
   "execution_count": 134,
   "metadata": {},
   "outputs": [
    {
     "data": {
      "text/plain": [
       "42870.89171296296"
      ]
     },
     "execution_count": 134,
     "metadata": {},
     "output_type": "execute_result"
    }
   ],
   "source": [
    "now()"
   ]
  },
  {
   "cell_type": "code",
   "execution_count": 135,
   "metadata": {},
   "outputs": [
    {
     "data": {
      "text/plain": [
       "0.18282407382503152"
      ]
     },
     "execution_count": 135,
     "metadata": {},
     "output_type": "execute_result"
    }
   ],
   "source": [
    "JD(ut)-now()-JD(\"1899/12/31 12:00:00\")"
   ]
  },
  {
   "cell_type": "code",
   "execution_count": 136,
   "metadata": {},
   "outputs": [
    {
     "data": {
      "text/plain": [
       "2457149.0"
      ]
     },
     "execution_count": 136,
     "metadata": {},
     "output_type": "execute_result"
    }
   ],
   "source": [
    "JD(\"2015/05/06 12:00:00\")"
   ]
  },
  {
   "cell_type": "code",
   "execution_count": 137,
   "metadata": {},
   "outputs": [
    {
     "name": "stdout",
     "output_type": "stream",
     "text": [
      "2415020.0 20:04:25\n"
     ]
    }
   ],
   "source": [
    "print JD(\"1899/12/31 12:00:00\"), LST(\"1899/12/31 12:00:00\")"
   ]
  },
  {
   "cell_type": "code",
   "execution_count": 138,
   "metadata": {},
   "outputs": [
    {
     "data": {
      "text/plain": [
       "'2017/5/17 09:24:04'"
      ]
     },
     "execution_count": 138,
     "metadata": {},
     "output_type": "execute_result"
    }
   ],
   "source": [
    "str(now()) # UT time now"
   ]
  },
  {
   "cell_type": "code",
   "execution_count": 139,
   "metadata": {
    "collapsed": true
   },
   "outputs": [],
   "source": [
    "def tomorrow():\n",
    "    tod=datetime.datetime.today().date() #today\n",
    "    tom=tod+datetime.timedelta(1) # tomorrow\n",
    "    toms=tom.strftime(\"%Y/%m/%d\")\n",
    "    return toms"
   ]
  },
  {
   "cell_type": "code",
   "execution_count": 140,
   "metadata": {},
   "outputs": [
    {
     "name": "stdout",
     "output_type": "stream",
     "text": [
      "Sunset  1899-12-31 19:07:46.000006\n",
      "Sunrise 1900-01-01 05:07:52\n"
     ]
    }
   ],
   "source": [
    "KAT.horizon='00:00' # NOT 20deg like regular sources\n",
    "sun.compute(KAT)\n",
    "sunrise=KAT.next_rising(sun)\n",
    "sunset=KAT.next_setting(sun)\n",
    "print \"Sunset \",localtime(sunset)\n",
    "print \"Sunrise\",localtime(sunrise)\n",
    "#"
   ]
  },
  {
   "cell_type": "code",
   "execution_count": 141,
   "metadata": {},
   "outputs": [
    {
     "name": "stdout",
     "output_type": "stream",
     "text": [
      "2017/05/18\n",
      "2017/05/18 07:18:17\n"
     ]
    }
   ],
   "source": [
    "print tomorrow()\n",
    "tom=tomorrow()\n",
    "print SAST(str(KAT.next_rising(sun,start=tomorrow())))"
   ]
  },
  {
   "cell_type": "code",
   "execution_count": 142,
   "metadata": {},
   "outputs": [
    {
     "name": "stdout",
     "output_type": "stream",
     "text": [
      "LST at sunset  1:43:05.\n",
      "LST at sunrise 22:28:16\n",
      "SAST Sunset   "
     ]
    },
    {
     "ename": "ValueError",
     "evalue": "year=1899 is before 1900; the datetime strftime() methods require year >= 1900",
     "output_type": "error",
     "traceback": [
      "\u001b[0;31m---------------------------------------------------------------------------\u001b[0m",
      "\u001b[0;31mValueError\u001b[0m                                Traceback (most recent call last)",
      "\u001b[0;32m<ipython-input-142-cfe658e7a0b4>\u001b[0m in \u001b[0;36m<module>\u001b[0;34m()\u001b[0m\n\u001b[1;32m      2\u001b[0m \u001b[0;32mprint\u001b[0m \u001b[0;34m\"LST at sunset \"\u001b[0m\u001b[0;34m,\u001b[0m \u001b[0mLST\u001b[0m\u001b[0;34m(\u001b[0m\u001b[0mstr\u001b[0m\u001b[0;34m(\u001b[0m\u001b[0msunset\u001b[0m\u001b[0;34m)\u001b[0m\u001b[0;34m)\u001b[0m\u001b[0;34m\u001b[0m\u001b[0m\n\u001b[1;32m      3\u001b[0m \u001b[0;32mprint\u001b[0m \u001b[0;34m\"LST at sunrise\"\u001b[0m\u001b[0;34m,\u001b[0m \u001b[0mLST\u001b[0m\u001b[0;34m(\u001b[0m\u001b[0mstr\u001b[0m\u001b[0;34m(\u001b[0m\u001b[0mKAT\u001b[0m\u001b[0;34m.\u001b[0m\u001b[0mnext_rising\u001b[0m\u001b[0;34m(\u001b[0m\u001b[0msun\u001b[0m\u001b[0;34m,\u001b[0m\u001b[0mstart\u001b[0m\u001b[0;34m=\u001b[0m\u001b[0mtom\u001b[0m\u001b[0;34m)\u001b[0m\u001b[0;34m)\u001b[0m\u001b[0;34m)\u001b[0m\u001b[0;34m\u001b[0m\u001b[0m\n\u001b[0;32m----> 4\u001b[0;31m \u001b[0;32mprint\u001b[0m \u001b[0;34m\"SAST Sunset   \"\u001b[0m\u001b[0;34m,\u001b[0m \u001b[0mSAST\u001b[0m\u001b[0;34m(\u001b[0m\u001b[0mstr\u001b[0m\u001b[0;34m(\u001b[0m\u001b[0msunset\u001b[0m\u001b[0;34m)\u001b[0m\u001b[0;34m)\u001b[0m\u001b[0;34m\u001b[0m\u001b[0m\n\u001b[0m\u001b[1;32m      5\u001b[0m \u001b[0;32mprint\u001b[0m \u001b[0;34m\"SAST Sunrise  \"\u001b[0m\u001b[0;34m,\u001b[0m \u001b[0mSAST\u001b[0m\u001b[0;34m(\u001b[0m\u001b[0mstr\u001b[0m\u001b[0;34m(\u001b[0m\u001b[0mKAT\u001b[0m\u001b[0;34m.\u001b[0m\u001b[0mnext_rising\u001b[0m\u001b[0;34m(\u001b[0m\u001b[0msun\u001b[0m\u001b[0;34m,\u001b[0m\u001b[0mstart\u001b[0m\u001b[0;34m=\u001b[0m\u001b[0mtom\u001b[0m\u001b[0;34m)\u001b[0m\u001b[0;34m)\u001b[0m\u001b[0;34m)\u001b[0m\u001b[0;34m\u001b[0m\u001b[0m\n",
      "\u001b[0;32m<ipython-input-118-cc9c53d205fe>\u001b[0m in \u001b[0;36mSAST\u001b[0;34m(utstring)\u001b[0m\n\u001b[1;32m      2\u001b[0m     \u001b[0mut\u001b[0m\u001b[0;34m=\u001b[0m\u001b[0mdatetime\u001b[0m\u001b[0;34m.\u001b[0m\u001b[0mdatetime\u001b[0m\u001b[0;34m.\u001b[0m\u001b[0mstrptime\u001b[0m\u001b[0;34m(\u001b[0m\u001b[0mutstring\u001b[0m\u001b[0;34m,\u001b[0m\u001b[0;34m\"%Y/%m/%d %H:%M:%S\"\u001b[0m\u001b[0;34m)\u001b[0m\u001b[0;34m\u001b[0m\u001b[0m\n\u001b[1;32m      3\u001b[0m     \u001b[0msast\u001b[0m\u001b[0;34m=\u001b[0m\u001b[0mut\u001b[0m\u001b[0;34m+\u001b[0m\u001b[0mdatetime\u001b[0m\u001b[0;34m.\u001b[0m\u001b[0mtimedelta\u001b[0m\u001b[0;34m(\u001b[0m\u001b[0mhours\u001b[0m\u001b[0;34m=\u001b[0m\u001b[0;36m2\u001b[0m\u001b[0;34m)\u001b[0m\u001b[0;34m\u001b[0m\u001b[0m\n\u001b[0;32m----> 4\u001b[0;31m     \u001b[0msasts\u001b[0m\u001b[0;34m=\u001b[0m \u001b[0msast\u001b[0m\u001b[0;34m.\u001b[0m\u001b[0mstrftime\u001b[0m\u001b[0;34m(\u001b[0m\u001b[0;34m\"%Y/%m/%d %H:%M:%S\"\u001b[0m\u001b[0;34m)\u001b[0m \u001b[0;31m# with seconds\u001b[0m\u001b[0;34m\u001b[0m\u001b[0m\n\u001b[0m\u001b[1;32m      5\u001b[0m     \u001b[0;32mreturn\u001b[0m \u001b[0msasts\u001b[0m\u001b[0;34m\u001b[0m\u001b[0m\n\u001b[1;32m      6\u001b[0m \u001b[0;34m\u001b[0m\u001b[0m\n",
      "\u001b[0;31mValueError\u001b[0m: year=1899 is before 1900; the datetime strftime() methods require year >= 1900"
     ]
    }
   ],
   "source": [
    "\n",
    "print \"LST at sunset \", LST(str(sunset))\n",
    "print \"LST at sunrise\", LST(str(KAT.next_rising(sun,start=tom)))\n",
    "print \"SAST Sunset   \", SAST(str(sunset))\n",
    "print \"SAST Sunrise  \", SAST(str(KAT.next_rising(sun,start=tom)))"
   ]
  }
 ],
 "metadata": {
  "kernelspec": {
   "display_name": "Python 2",
   "language": "python",
   "name": "python2"
  },
  "language_info": {
   "codemirror_mode": {
    "name": "ipython",
    "version": 2
   },
   "file_extension": ".py",
   "mimetype": "text/x-python",
   "name": "python",
   "nbconvert_exporter": "python",
   "pygments_lexer": "ipython2",
   "version": "2.7.6"
  }
 },
 "nbformat": 4,
 "nbformat_minor": 1
}
