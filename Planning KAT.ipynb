{
 "cells": [
  {
   "cell_type": "code",
   "execution_count": 31,
   "metadata": {
    "collapsed": false,
    "deletable": true,
    "editable": true
   },
   "outputs": [
    {
     "name": "stdout",
     "output_type": "stream",
     "text": [
      "Date 2017/11/19 UT 00:00  LST 5:18:29.71 Horizon 0:00:00.0\n",
      "Source\t\t  RA \t\t Dec \t  UTRise    UTTransit UTSet\n",
      "Sun \t\t15:38:11.08   -19:26:43.5 03:29:50  10:19:47  17:10:06  \n",
      "Moon \t\t16:06:47.02   -15:15:36.8 04:18:28  11:08:14  18:01:28  \n"
     ]
    }
   ],
   "source": [
    "from time import *\n",
    "from ephem import *\n",
    "import math\n",
    "import datetime\n",
    "#\n",
    "today=strftime(\"%Y/%m/%d\")\n",
    "horizon='00:00' # can also give in radians,\n",
    "\n",
    "KAT=Observer()\n",
    "KAT.long,KAT.lat='21:24:38.46','-30:43:17.34' # positive East,North\n",
    "#KAT.date=today\n",
    "#KAT.epoch=today\n",
    "KAT.date='2017/11/19'\n",
    "KAT.epoch=KAT.date\n",
    "# print KAT.epoch\n",
    "KAT.elev=1038            #-metres above MSL\n",
    "KAT.temp=14             # temperature in C\n",
    "KAT.pressure=0         # pressure in mbar set to zero to ignore refraction\n",
    "KAT.horizon=horizon    # minimum elevation\n",
    "dd=KAT.date.tuple()\n",
    "print \"Date %d/%d/%d UT %02d:%02d  LST %s Horizon %s\"\\\n",
    "      %(dd[0],dd[1],dd[2],dd[3],dd[4],KAT.sidereal_time(),str(KAT.horizon))\n",
    "print \"Source\\t\\t  RA \\t\\t Dec \\t  UTRise    UTTransit UTSet\"\n",
    "#\n",
    "sun=Sun()\n",
    "sun.compute(KAT)\n",
    "#print \"Sun  Alt\",  sun.alt, \"Az\", sun.az\n",
    "print \"Sun \\t\\t%-12s %12s %-9s %-9s %-9s \" \\\n",
    "      %(sun.ra,sun.dec,str(KAT.next_rising(sun))[-8:],\\\n",
    "        str(KAT.next_transit(sun))[-8:],str(KAT.next_setting(sun))[-8:])\n",
    "#\n",
    "moon=Moon()\n",
    "moon.compute(KAT)\n",
    "#print \"Moon Alt\", moon.alt,\"Az\", moon.az\n",
    "\n",
    "print \"Moon \\t\\t%-12s %12s %-9s %-9s %-9s \" \\\n",
    "            % (moon.ra,moon.dec,str(KAT.next_rising(moon))[-8:],\\\n",
    "               str(KAT.next_transit(moon))[-8:],str(KAT.next_setting(moon))[-8:])\n",
    "\n",
    "\n"
   ]
  },
  {
   "cell_type": "code",
   "execution_count": 30,
   "metadata": {
    "collapsed": true,
    "deletable": true,
    "editable": true
   },
   "outputs": [],
   "source": [
    "def SAST(utstring): #YYYY/MM/DD hh:mm:ss format\n",
    "    ut=datetime.datetime.strptime(utstring,\"%Y/%m/%d %H:%M:%S\")\n",
    "    sast=ut+datetime.timedelta(hours=2)\n",
    "    sasts= sast.strftime(\"%Y/%m/%d %H:%M:%S\") # with seconds\n",
    "    return sasts\n",
    "    "
   ]
  },
  {
   "cell_type": "code",
   "execution_count": 31,
   "metadata": {
    "collapsed": true,
    "deletable": true,
    "editable": true
   },
   "outputs": [],
   "source": [
    "def UT(day,time):# format YYYY/MM/DD and hh:mm - ignore seconds\n",
    "    sast=datetime.datetime.strptime(day+time,\"%Y/%m/%d%H:%M\") # datetime format\n",
    "    ut=sast- datetime.timedelta(hours=2)\n",
    "    UTS=ut.strftime(\"%Y/%m/%d %H:%M:%S\") # neat UT string with seconds\n",
    "    return UTS\n"
   ]
  },
  {
   "cell_type": "code",
   "execution_count": 32,
   "metadata": {
    "collapsed": true,
    "deletable": true,
    "editable": true
   },
   "outputs": [],
   "source": [
    "def LST(ut):\n",
    "    \"\"\" \n",
    "    Requires date and time in YYYY/MM/DD hh:mm:ss format\n",
    "    Set the time string to Hours:Minutes:Seconds\n",
    "    \"\"\"\n",
    "    KAT.date=ut\n",
    "    lst=str(KAT.sidereal_time())[:8]\n",
    "    return lst\n"
   ]
  },
  {
   "cell_type": "code",
   "execution_count": 33,
   "metadata": {
    "collapsed": true,
    "deletable": true,
    "editable": true
   },
   "outputs": [],
   "source": [
    "def JD(ut):\n",
    "    \"\"\" \n",
    "    Requires date and time in YYYY/MM/DD hh:mm:ss format\n",
    "    returns jd\n",
    "    \"\"\"\n",
    "    jd=julian_date(ut)\n",
    "    return jd"
   ]
  },
  {
   "cell_type": "code",
   "execution_count": 34,
   "metadata": {
    "collapsed": false,
    "deletable": true,
    "editable": true
   },
   "outputs": [
    {
     "name": "stdout",
     "output_type": "stream",
     "text": [
      "Sunset  2017-09-18 18:25:44\n",
      "Sunrise 2017-09-18 06:31:35\n"
     ]
    }
   ],
   "source": [
    "sunrise=KAT.next_rising(sun)\n",
    "sunset=KAT.next_setting(sun)\n",
    "print \"Sunset \",localtime(sunset)\n",
    "print \"Sunrise\",localtime(sunrise)\n",
    "#"
   ]
  },
  {
   "cell_type": "code",
   "execution_count": null,
   "metadata": {
    "collapsed": false,
    "deletable": true,
    "editable": true
   },
   "outputs": [],
   "source": []
  },
  {
   "cell_type": "code",
   "execution_count": 35,
   "metadata": {
    "collapsed": false,
    "deletable": true,
    "editable": true
   },
   "outputs": [
    {
     "name": "stdout",
     "output_type": "stream",
     "text": [
      "13:45:00\n"
     ]
    },
    {
     "data": {
      "text/plain": [
       "datetime.time(0, 0)"
      ]
     },
     "execution_count": 35,
     "metadata": {},
     "output_type": "execute_result"
    }
   ],
   "source": [
    "local=\"13:45\"+\":00\"\n",
    "print local\n",
    "datetime.time()\n"
   ]
  },
  {
   "cell_type": "code",
   "execution_count": 36,
   "metadata": {
    "collapsed": false,
    "deletable": true,
    "editable": true
   },
   "outputs": [
    {
     "name": "stdout",
     "output_type": "stream",
     "text": [
      "2016-05-14 00:15:00\n",
      "2016-05-13 22:15:00\n",
      "SAST 2016/05/14 00:15:00  UT 2016/05/13 22:15:00\n"
     ]
    }
   ],
   "source": [
    "day=\"2016/05/14\"   #string\n",
    "time=\"00:15\"       #string\n",
    "sast=datetime.datetime.strptime(day+time,\"%Y/%m/%d%H:%M\") # datetime\n",
    "print sast\n",
    "ut=sast- datetime.timedelta(hours=2)\n",
    "print ut\n",
    "print \"SAST\",sast.strftime(\"%Y/%m/%d %H:%M:%S\"),\" UT\",ut.strftime(\"%Y/%m/%d %H:%M:%S\")\n",
    "                                \n"
   ]
  },
  {
   "cell_type": "code",
   "execution_count": 37,
   "metadata": {
    "collapsed": false,
    "deletable": true,
    "editable": true
   },
   "outputs": [
    {
     "name": "stdout",
     "output_type": "stream",
     "text": [
      "2016/05/14 00:46:00\n"
     ]
    }
   ],
   "source": [
    "print SAST(\"2016/05/13 22:46:00\")"
   ]
  },
  {
   "cell_type": "code",
   "execution_count": 38,
   "metadata": {
    "collapsed": false,
    "deletable": true,
    "editable": true
   },
   "outputs": [
    {
     "name": "stdout",
     "output_type": "stream",
     "text": [
      "2016/05/16 11:00:00\n"
     ]
    }
   ],
   "source": [
    "x=UT(\"2016/05/16\",\"13:00\")\n",
    "print x"
   ]
  },
  {
   "cell_type": "code",
   "execution_count": 39,
   "metadata": {
    "collapsed": false,
    "deletable": true,
    "editable": true
   },
   "outputs": [
    {
     "data": {
      "text/plain": [
       "'13:00:12.95'"
      ]
     },
     "execution_count": 39,
     "metadata": {},
     "output_type": "execute_result"
    }
   ],
   "source": [
    "KAT.date=\"2016/06/18 17:45:00\"   # UT string\n",
    "str(KAT.sidereal_time())\n"
   ]
  },
  {
   "cell_type": "code",
   "execution_count": 40,
   "metadata": {
    "collapsed": false,
    "deletable": true,
    "editable": true
   },
   "outputs": [
    {
     "name": "stdout",
     "output_type": "stream",
     "text": [
      "2016/12/01 18:00:00\n",
      "2016/12/01 20:00:00 2016/12/01 18:00:00 0:09:43.\n"
     ]
    }
   ],
   "source": [
    "date=\"2016/12/01\"\n",
    "time=\"20:00\"\n",
    "ut_test=UT(date,time)\n",
    "print ut_test\n",
    "lst=LST(ut_test)\n",
    "print SAST(ut_test), ut_test, lst"
   ]
  },
  {
   "cell_type": "code",
   "execution_count": 41,
   "metadata": {
    "collapsed": false,
    "deletable": true,
    "editable": true
   },
   "outputs": [
    {
     "name": "stdout",
     "output_type": "stream",
     "text": [
      "dec40          7:01:11.05   39:58:18.4 20:50:30  00:50:20  04:50:10    7.99 \n",
      "dec20          7:01:00.58   19:58:22.3 19:40:54  00:50:10  05:59:26   10.31 \n",
      "dec0           7:00:52.69   -0:01:33.7 18:50:57  00:50:02  06:49:07   11.97 \n",
      "dec-20         7:00:44.95  -20:01:30.0 18:00:59  00:49:54  07:38:49   13.63 \n",
      "dec-40         7:00:35.05  -40:01:27.4 16:47:22  00:49:44  08:48:11   16.01 \n",
      "dec-60         7:00:16.63  -60:01:25.2           00:49:26  Circumpolar \n"
     ]
    }
   ],
   "source": [
    "inp=(\"dec40, J2000,7:00:00,40:00:00\", \"dec20, J2000, 7:00:00,20:00:00\", \"dec0, J2000, 7:00:00,00:00:00\"\\\n",
    "     , \"dec-20, J2000,7:00:00,-20:00:00\", \"dec-40, J2000,7:00:00,-40:00:00\", \"dec-60, J2000,7:00:00,-60:00:00\")\n",
    "for line in inp:\n",
    "  if line[0] != \"#\":\n",
    "    s=line.split(\",\") # split the line into strings\n",
    "    source=s[0]\n",
    "# next item is 'radec...'    \n",
    "    ra=s[2]\n",
    "    dec=s[3]\n",
    "    dbline='\"'+source+\",f|J|Q,\"+ra+\",\"+dec+\",,2000\"+'\"'\n",
    "#    print dbline\n",
    "    p=readdb(dbline)\n",
    "#    p=FixedBody()\n",
    "#    p._ra,p._dec=ra,dec\n",
    "#    p._epoch='2000'\n",
    "    p.compute(KAT)\n",
    "    if p.neverup == True:\n",
    "       print \"%-11s  %12s %12s           Never Rises           \" %(source,p.ra,p.dec)\n",
    "    if p.circumpolar == True:\n",
    "       transit=str(KAT.next_transit(p))[-8:]\n",
    "       print \"%-11s  %12s %12s          %9s  Circumpolar \"  %(source,p.ra,p.dec,transit)\n",
    "    if p.neverup == False and p.circumpolar == False:  # Source rises and sets\n",
    "#      print source, p.ra, p.dec, p.alt, p.az,\n",
    "      rises=str(KAT.next_rising(p))[-8:]\n",
    "      transit=str(KAT.next_transit(p))[-8:]\n",
    "      sets=str(KAT.next_setting(p))[-8:]\n",
    "      uptime=((KAT.next_setting(p)-KAT.next_rising(p))%1)*24  # \n",
    "#calculation is in days, so make modulo 1 day, times 24 for hours.\n",
    "      print \"%-12s %12s %12s %-9s %-9s %-9s  %5.2f \" % (source,p.ra,p.dec,rises,transit,sets,uptime)\n",
    "#    for n in range(3,len(s)):    #comments at the end of the input line\n",
    "#         print s[n],\n",
    "#    print \"\"\n"
   ]
  },
  {
   "cell_type": "code",
   "execution_count": 42,
   "metadata": {
    "collapsed": false,
    "deletable": true,
    "editable": true
   },
   "outputs": [
    {
     "name": "stdout",
     "output_type": "stream",
     "text": [
      "60:41:52.1 180:00:00.0\n"
     ]
    }
   ],
   "source": [
    "print p.alt,p.az"
   ]
  },
  {
   "cell_type": "code",
   "execution_count": 43,
   "metadata": {
    "collapsed": false,
    "deletable": true,
    "editable": true
   },
   "outputs": [
    {
     "data": {
      "text/plain": [
       "<ephem.Observer date='2016/12/1 18:00:00' epoch='2017/9/18 00:00:00' lon='21:24:38.5' lat='-30:43:17.3' elevation=1038.0m horizon=0:00:00.0 temp=14.0C pressure=0.0mBar>"
      ]
     },
     "execution_count": 43,
     "metadata": {},
     "output_type": "execute_result"
    }
   ],
   "source": [
    "KAT"
   ]
  },
  {
   "cell_type": "code",
   "execution_count": 44,
   "metadata": {
    "collapsed": false,
    "deletable": true,
    "editable": true
   },
   "outputs": [
    {
     "name": "stdout",
     "output_type": "stream",
     "text": [
      "1:55:08.\n",
      "2457815.07454\n"
     ]
    }
   ],
   "source": [
    "ut=today+\" 13:47:20\"\n",
    "print LST(ut)\n",
    "print JD(ut)"
   ]
  },
  {
   "cell_type": "code",
   "execution_count": 45,
   "metadata": {
    "collapsed": false,
    "deletable": true,
    "editable": true
   },
   "outputs": [
    {
     "name": "stdout",
     "output_type": "stream",
     "text": [
      "0:30:21.\n"
     ]
    }
   ],
   "source": [
    "KAT.date=now()\n",
    "print LST(KAT.date)"
   ]
  },
  {
   "cell_type": "code",
   "execution_count": 46,
   "metadata": {
    "collapsed": false,
    "deletable": true,
    "editable": true
   },
   "outputs": [
    {
     "data": {
      "text/plain": [
       "'2017-03-02 14:22:46.000003'"
      ]
     },
     "execution_count": 46,
     "metadata": {},
     "output_type": "execute_result"
    }
   ],
   "source": [
    "str(localtime(now()))"
   ]
  },
  {
   "cell_type": "code",
   "execution_count": 47,
   "metadata": {
    "collapsed": false,
    "deletable": true,
    "editable": true
   },
   "outputs": [
    {
     "data": {
      "text/plain": [
       "42795.015821759254"
      ]
     },
     "execution_count": 47,
     "metadata": {},
     "output_type": "execute_result"
    }
   ],
   "source": [
    "now()"
   ]
  },
  {
   "cell_type": "code",
   "execution_count": 48,
   "metadata": {
    "collapsed": false,
    "deletable": true,
    "editable": true
   },
   "outputs": [
    {
     "data": {
      "text/plain": [
       "0.058715277817100286"
      ]
     },
     "execution_count": 48,
     "metadata": {},
     "output_type": "execute_result"
    }
   ],
   "source": [
    "JD(ut)-now()-JD(\"1899/12/31 12:00:00\")"
   ]
  },
  {
   "cell_type": "code",
   "execution_count": 49,
   "metadata": {
    "collapsed": false,
    "deletable": true,
    "editable": true
   },
   "outputs": [
    {
     "data": {
      "text/plain": [
       "2457149.0"
      ]
     },
     "execution_count": 49,
     "metadata": {},
     "output_type": "execute_result"
    }
   ],
   "source": [
    "JD(\"2015/05/06 12:00:00\")"
   ]
  },
  {
   "cell_type": "code",
   "execution_count": 50,
   "metadata": {
    "collapsed": false,
    "deletable": true,
    "editable": true
   },
   "outputs": [
    {
     "name": "stdout",
     "output_type": "stream",
     "text": [
      "2415020.0 20:04:25\n"
     ]
    }
   ],
   "source": [
    "print JD(\"1899/12/31 12:00:00\"), LST(\"1899/12/31 12:00:00\")"
   ]
  },
  {
   "cell_type": "code",
   "execution_count": 51,
   "metadata": {
    "collapsed": false,
    "deletable": true,
    "editable": true
   },
   "outputs": [
    {
     "data": {
      "text/plain": [
       "'2017/3/2 12:22:47'"
      ]
     },
     "execution_count": 51,
     "metadata": {},
     "output_type": "execute_result"
    }
   ],
   "source": [
    "str(now()) # UT time now"
   ]
  },
  {
   "cell_type": "code",
   "execution_count": 52,
   "metadata": {
    "collapsed": true,
    "deletable": true,
    "editable": true
   },
   "outputs": [],
   "source": [
    "def tomorrow():\n",
    "    tod=datetime.datetime.today().date() #today\n",
    "    tom=tod+datetime.timedelta(1) # tomorrow\n",
    "    toms=tom.strftime(\"%Y/%m/%d\")\n",
    "    return toms"
   ]
  },
  {
   "cell_type": "code",
   "execution_count": 53,
   "metadata": {
    "collapsed": false,
    "deletable": true,
    "editable": true
   },
   "outputs": [
    {
     "name": "stdout",
     "output_type": "stream",
     "text": [
      "2017/03/03\n",
      "2017/03/03 06:28:53\n"
     ]
    }
   ],
   "source": [
    "print tomorrow()\n",
    "tom=tomorrow()\n",
    "print SAST(str(KAT.next_rising(sun,start=tomorrow())))"
   ]
  },
  {
   "cell_type": "code",
   "execution_count": 54,
   "metadata": {
    "collapsed": false,
    "deletable": true,
    "editable": true
   },
   "outputs": [
    {
     "name": "stdout",
     "output_type": "stream",
     "text": [
      "LST at sunset  17:42:29\n",
      "LST at sunrise 16:39:06\n",
      "SAST Sunset    2017/09/18 18:25:44\n",
      "SAST Sunrise   2017/03/03 06:28:53\n"
     ]
    }
   ],
   "source": [
    "print \"LST at sunset \", LST(str(sunset))\n",
    "print \"LST at sunrise\", LST(str(KAT.next_rising(sun,start=tom)))\n",
    "print \"SAST Sunset   \", SAST(str(sunset))\n",
    "print \"SAST Sunrise  \", SAST(str(KAT.next_rising(sun,start=tom)))"
   ]
  }
 ],
 "metadata": {
  "kernelspec": {
   "display_name": "Python 2",
   "language": "python",
   "name": "python2"
  },
  "language_info": {
   "codemirror_mode": {
    "name": "ipython",
    "version": 2
   },
   "file_extension": ".py",
   "mimetype": "text/x-python",
   "name": "python",
   "nbconvert_exporter": "python",
   "pygments_lexer": "ipython2",
   "version": "2.7.6"
  }
 },
 "nbformat": 4,
 "nbformat_minor": 0
}
