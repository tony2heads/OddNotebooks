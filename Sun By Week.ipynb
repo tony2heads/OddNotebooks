{
 "cells": [
  {
   "cell_type": "code",
   "execution_count": 2,
   "metadata": {
    "collapsed": true,
    "deletable": true,
    "editable": true
   },
   "outputs": [],
   "source": [
    "import ephem"
   ]
  },
  {
   "cell_type": "code",
   "execution_count": null,
   "metadata": {
    "collapsed": true,
    "deletable": true,
    "editable": true
   },
   "outputs": [],
   "source": []
  },
  {
   "cell_type": "code",
   "execution_count": 3,
   "metadata": {
    "collapsed": false,
    "deletable": true,
    "editable": true
   },
   "outputs": [
    {
     "name": "stdout",
     "output_type": "stream",
     "text": [
      "18:46:47.21 -22:59:56.4\n"
     ]
    }
   ],
   "source": [
    "sol=ephem.Sun()\n",
    "sol.compute('2017/01/01')\n",
    "print sol.ra, sol.dec"
   ]
  },
  {
   "cell_type": "code",
   "execution_count": 4,
   "metadata": {
    "collapsed": false,
    "deletable": true,
    "editable": true
   },
   "outputs": [
    {
     "name": "stdout",
     "output_type": "stream",
     "text": [
      "42741.5\n"
     ]
    }
   ],
   "source": [
    "d=ephem.date('2017/01/01')\n",
    "print d+7\n",
    "d0=d+0.0"
   ]
  },
  {
   "cell_type": "code",
   "execution_count": 5,
   "metadata": {
    "collapsed": false,
    "deletable": true,
    "editable": true
   },
   "outputs": [
    {
     "name": "stdout",
     "output_type": "stream",
     "text": [
      "  Date\t\t  RA(J2000)  Dec(J2000)\n",
      "2017/01/01 \t18:46:47.21 -22:59:56.4\n",
      "2017/01/08 \t19:17:32.04 -22:14:21.2\n",
      "2017/01/15 \t19:47:51.06 -21:07:25.1\n",
      "2017/01/22 \t20:17:37.87 -19:40:40.3\n",
      "2017/01/29 \t20:46:47.99 -17:56:00.7\n",
      "2017/02/05 \t21:15:18.19 -15:55:38.3\n",
      "2017/02/12 \t21:43:08.23 -13:41:53.6\n",
      "2017/02/19 \t22:10:21.43 -11:17:06.2\n",
      "2017/02/26 \t22:37:02.63  -8:43:35.5\n",
      "2017/03/05 \t23:03:16.44  -6:03:43.7\n",
      "2017/03/12 \t23:29:08.30  -3:19:50.0\n",
      "2017/03/19 \t23:54:45.58  -0:34:03.8\n",
      "2017/03/26 \t 0:20:16.13   2:11:32.6\n",
      "2017/04/02 \t 0:45:46.45   4:54:54.2\n",
      "2017/04/09 \t 1:11:22.24   7:33:55.4\n",
      "2017/04/16 \t 1:37:10.06  10:06:38.7\n",
      "2017/04/23 \t 2:03:16.40  12:31:13.2\n",
      "2017/04/30 \t 2:29:45.74  14:45:45.1\n",
      "2017/05/07 \t 2:56:40.26  16:48:18.9\n",
      "2017/05/14 \t 3:24:01.85  18:37:06.8\n",
      "2017/05/21 \t 3:51:51.61  20:10:33.1\n",
      "2017/05/28 \t 4:20:08.08  21:27:08.2\n",
      "2017/06/04 \t 4:48:46.35  22:25:32.1\n",
      "2017/06/11 \t 5:17:40.70  23:04:41.8\n",
      "2017/06/18 \t 5:46:45.16  23:23:58.5\n",
      "2017/06/25 \t 6:15:52.59  23:23:03.5\n",
      "2017/07/02 \t 6:44:53.88  23:02:01.2\n",
      "2017/07/09 \t 7:13:40.82  22:21:17.8\n",
      "2017/07/16 \t 7:42:07.61  21:21:42.5\n",
      "2017/07/23 \t 8:10:10.17  20:04:20.5\n",
      "2017/07/30 \t 8:37:44.48  18:30:34.7\n",
      "2017/08/06 \t 9:04:48.41  16:41:59.0\n",
      "2017/08/13 \t 9:31:23.03  14:40:13.1\n",
      "2017/08/20 \t 9:57:31.57  12:26:58.2\n",
      "2017/08/27 \t10:23:17.13  10:04:03.2\n",
      "2017/09/03 \t10:48:43.54   7:33:21.0\n",
      "2017/09/10 \t11:13:56.59   4:56:42.2\n",
      "2017/09/17 \t11:39:03.67   2:15:53.1\n",
      "2017/09/24 \t12:04:11.31  -0:27:13.0\n",
      "2017/10/01 \t12:29:25.55  -3:10:36.0\n",
      "2017/10/08 \t12:54:53.21  -5:52:14.4\n",
      "2017/10/15 \t13:20:42.22  -8:30:10.4\n",
      "2017/10/22 \t13:46:59.12 -11:02:17.6\n",
      "2017/10/29 \t14:13:48.68 -13:26:19.0\n",
      "2017/11/05 \t14:41:14.90 -15:39:54.6\n",
      "2017/11/12 \t15:09:21.79 -17:40:49.8\n",
      "2017/11/19 \t15:38:10.85 -19:26:50.0\n",
      "2017/11/26 \t16:07:39.93 -20:55:41.4\n",
      "2017/12/03 \t16:37:44.18 -22:05:21.1\n",
      "2017/12/10 \t17:08:17.69 -22:54:10.2\n",
      "2017/12/17 \t17:39:12.28 -23:20:54.9\n",
      "2017/12/24 \t18:10:16.57 -23:24:50.0\n"
     ]
    }
   ],
   "source": [
    "print \"  Date\\t\\t  RA(J2000)  Dec(J2000)\"\n",
    "for wk in range(52):\n",
    "    day=d0+wk*7\n",
    "    sol.compute(day)\n",
    "    ymd=ephem.date(day).tuple()\n",
    "    print ('%04d/%02d/%02d \\t%11s %11s') %(ymd[0],ymd[1],ymd[2], sol.ra, sol.dec)"
   ]
  },
  {
   "cell_type": "code",
   "execution_count": 6,
   "metadata": {
    "collapsed": false,
    "deletable": true,
    "editable": true
   },
   "outputs": [
    {
     "name": "stdout",
     "output_type": "stream",
     "text": [
      "-15019.5\n"
     ]
    }
   ],
   "source": [
    "print d0-57754."
   ]
  },
  {
   "cell_type": "code",
   "execution_count": 8,
   "metadata": {
    "collapsed": false,
    "deletable": true,
    "editable": true
   },
   "outputs": [
    {
     "name": "stdout",
     "output_type": "stream",
     "text": [
      "-15019.5\n"
     ]
    }
   ],
   "source": [
    "print day -58111.\n"
   ]
  },
  {
   "cell_type": "markdown",
   "metadata": {
    "deletable": true,
    "editable": true
   },
   "source": [
    "# MJD\n",
    "modified julian day  = 'ephem.date' +15019.5"
   ]
  },
  {
   "cell_type": "code",
   "execution_count": 15,
   "metadata": {
    "collapsed": false,
    "deletable": true,
    "editable": true
   },
   "outputs": [
    {
     "data": {
      "text/plain": [
       "58111.0"
      ]
     },
     "execution_count": 15,
     "metadata": {},
     "output_type": "execute_result"
    }
   ],
   "source": [
    "ephem.julian_date('2017/12/24')-2400000.5"
   ]
  },
  {
   "cell_type": "code",
   "execution_count": 19,
   "metadata": {
    "collapsed": false,
    "deletable": true,
    "editable": true
   },
   "outputs": [
    {
     "data": {
      "text/plain": [
       "0.5"
      ]
     },
     "execution_count": 19,
     "metadata": {},
     "output_type": "execute_result"
    }
   ],
   "source": [
    "ephem.Date('1900/1/1')"
   ]
  }
 ],
 "metadata": {
  "kernelspec": {
   "display_name": "Python 2",
   "language": "python",
   "name": "python2"
  },
  "language_info": {
   "codemirror_mode": {
    "name": "ipython",
    "version": 2
   },
   "file_extension": ".py",
   "mimetype": "text/x-python",
   "name": "python",
   "nbconvert_exporter": "python",
   "pygments_lexer": "ipython2",
   "version": "2.7.6"
  }
 },
 "nbformat": 4,
 "nbformat_minor": 2
}
