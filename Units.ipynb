{
 "metadata": {
  "name": "",
  "signature": "sha256:64d8cc1db960c9a9de019b9add01ab17b5e269058ee1ac21f6d4d9745d87c179"
 },
 "nbformat": 3,
 "nbformat_minor": 0,
 "worksheets": [
  {
   "cells": [
    {
     "cell_type": "code",
     "collapsed": false,
     "input": [
      "from __future__ import print_function"
     ],
     "language": "python",
     "metadata": {},
     "outputs": [],
     "prompt_number": 3
    },
    {
     "cell_type": "markdown",
     "metadata": {},
     "source": [
      "Units\n",
      "=====\n",
      "\n",
      "Astropy has an impressive suite of unit conversion utilities."
     ]
    },
    {
     "cell_type": "code",
     "collapsed": false,
     "input": [
      "from astropy import units as u"
     ],
     "language": "python",
     "metadata": {},
     "outputs": [],
     "prompt_number": 4
    },
    {
     "cell_type": "markdown",
     "metadata": {},
     "source": [
      "A number with units can be declared by multiplying a number by a unit:"
     ]
    },
    {
     "cell_type": "code",
     "collapsed": false,
     "input": [
      "height = 2*u.m\n",
      "print(height)"
     ],
     "language": "python",
     "metadata": {},
     "outputs": [
      {
       "output_type": "stream",
       "stream": "stdout",
       "text": [
        "2.0 m\n"
       ]
      }
     ],
     "prompt_number": 5
    },
    {
     "cell_type": "markdown",
     "metadata": {},
     "source": [
      "The same can be done with arrays:"
     ]
    },
    {
     "cell_type": "code",
     "collapsed": false,
     "input": [
      "heights = np.array([1,1.5,2.,2.5])*u.m\n",
      "print(heights)"
     ],
     "language": "python",
     "metadata": {},
     "outputs": [
      {
       "output_type": "stream",
       "stream": "stdout",
       "text": [
        "[ 1.   1.5  2.   2.5] m\n"
       ]
      }
     ],
     "prompt_number": 7
    },
    {
     "cell_type": "markdown",
     "metadata": {},
     "source": [
      "These units can easily be converted to other equivalent units:"
     ]
    },
    {
     "cell_type": "code",
     "collapsed": false,
     "input": [
      "print(height.to(u.cm))\n",
      "print(heights.to(u.Mpc))"
     ],
     "language": "python",
     "metadata": {},
     "outputs": [
      {
       "output_type": "stream",
       "stream": "stdout",
       "text": [
        "200.0 cm\n",
        "[  3.24077929e-23   4.86116893e-23   6.48155858e-23   8.10194822e-23] Mpc\n"
       ]
      }
     ],
     "prompt_number": 8
    },
    {
     "cell_type": "markdown",
     "metadata": {},
     "source": [
      "Similarly, one can create composite units by multiplying them:"
     ]
    },
    {
     "cell_type": "code",
     "collapsed": false,
     "input": [
      "speed = 2 * u.km/u.s\n",
      "print(speed)\n",
      "print(speed.to(u.cm/u.s))"
     ],
     "language": "python",
     "metadata": {},
     "outputs": [
      {
       "output_type": "stream",
       "stream": "stdout",
       "text": [
        "2.0 km / s\n",
        "200000.0 cm / s\n"
       ]
      }
     ],
     "prompt_number": 15
    },
    {
     "cell_type": "markdown",
     "metadata": {},
     "source": [
      "Units can also be represented as strings as long as the strings are unambiguous:"
     ]
    },
    {
     "cell_type": "code",
     "collapsed": false,
     "input": [
      "faster_speed = 5 * u.Unit('pc/s')\n",
      "print(faster_speed)\n",
      "print(speed.to('cm/s'))"
     ],
     "language": "python",
     "metadata": {},
     "outputs": [
      {
       "output_type": "stream",
       "stream": "stdout",
       "text": [
        "5.0 pc / s\n",
        "200000.0 cm / s\n"
       ]
      }
     ],
     "prompt_number": 16
    },
    {
     "cell_type": "markdown",
     "metadata": {},
     "source": [
      "These values have different units, but they can still be compared directly:"
     ]
    },
    {
     "cell_type": "code",
     "collapsed": false,
     "input": [
      "print(speed)\n",
      "print(faster_speed)\n",
      "print(faster_speed>speed)"
     ],
     "language": "python",
     "metadata": {},
     "outputs": [
      {
       "output_type": "stream",
       "stream": "stdout",
       "text": [
        "2.0 km / s\n",
        "5.0 pc / s\n",
        "True\n"
       ]
      }
     ],
     "prompt_number": 17
    },
    {
     "cell_type": "heading",
     "level": 2,
     "metadata": {},
     "source": [
      "Equivalencies"
     ]
    },
    {
     "cell_type": "markdown",
     "metadata": {},
     "source": [
      "There are some very useful equivalencies defined.  Equivalencies tell astropy how units that are not directly equivalent can be converted.  For example, wavelength and frequency of light are equivalent."
     ]
    },
    {
     "cell_type": "code",
     "collapsed": false,
     "input": [
      "wavelength = 6563*u.angstrom\n",
      "wavelength.to(u.GHz, equivalencies=u.spectral())"
     ],
     "language": "python",
     "metadata": {},
     "outputs": [
      {
       "latex": [
        "$456792 \\; \\mathrm{GHz}$"
       ],
       "metadata": {},
       "output_type": "pyout",
       "prompt_number": 21,
       "text": [
        "<Quantity 456791.79948194424 GHz>"
       ]
      }
     ],
     "prompt_number": 21
    },
    {
     "cell_type": "markdown",
     "metadata": {},
     "source": [
      "Converting between wavelength or frequency and velocity is also straightforward, requiring only a reference frequency:"
     ]
    },
    {
     "cell_type": "code",
     "collapsed": false,
     "input": [
      "rest_wavelength = 6562.8*u.angstrom\n",
      "velocity = wavelength.to(u.km/u.s, equivalencies=u.doppler_optical(rest_wavelength))\n",
      "velocity"
     ],
     "language": "python",
     "metadata": {},
     "outputs": [
      {
       "latex": [
        "$9.13611 \\; \\mathrm{\\frac{km}{s}}$"
       ],
       "metadata": {},
       "output_type": "pyout",
       "prompt_number": 23,
       "text": [
        "<Quantity 9.136114402368305 km / s>"
       ]
      }
     ],
     "prompt_number": 23
    },
    {
     "cell_type": "code",
     "collapsed": false,
     "input": [],
     "language": "python",
     "metadata": {},
     "outputs": []
    }
   ],
   "metadata": {}
  }
 ]
}