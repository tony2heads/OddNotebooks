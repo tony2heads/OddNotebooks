{
 "metadata": {
  "kernelspec": {
   "codemirror_mode": {
    "name": "python",
    "version": 2
   },
   "display_name": "Python 2",
   "language": "python",
   "name": "python2"
  },
  "name": "",
  "signature": "sha256:b84058c20c113467d382111be47210f8d95380d854ebfcde361ea5531fdd148a"
 },
 "nbformat": 3,
 "nbformat_minor": 0,
 "worksheets": [
  {
   "cells": [
    {
     "cell_type": "markdown",
     "metadata": {},
     "source": [
      "# Interactive Curve-Fitting in the IPython Notebook\n",
      "\n",
      "**Important:** Widgets will not display in \"static\" notebooks until IPython 3.0. They must be backed by a live IPython kernel. Therefore, to view the full widget display, you must download this notebook and run it locally using IPython 2.x or greater."
     ]
    },
    {
     "cell_type": "code",
     "collapsed": false,
     "input": [
      "%matplotlib inline\n",
      "from lmfit import Model, Fitter\n",
      "import numpy as np"
     ],
     "language": "python",
     "metadata": {},
     "outputs": [],
     "prompt_number": 1
    },
    {
     "cell_type": "markdown",
     "metadata": {},
     "source": [
      "## `lmfit`\n",
      "The [lmfit package](http://cars9.uchicago.edu/software/python/lmfit/) provides layers of high-level interfaces to the nonlinear optimization and curve fitting algorithms in scipy.\n",
      "* `Parameter` objects allow fit parameters to be bounded (`min`, `max`) or held fixed (`vary=False`).\n",
      "* The `Model` class provides a general way to wrap a user-defined function as a fitting model.\n",
      "* `Fitter` provides a curve-fitting workflow akin to popular GUI-based tools while retaining programmatic access to the underlying objects.\n",
      "\n",
      "`BaseFitter` introduces no new dependencies; `MPLFitter` requires matplotlib; `NotebookFitter` uses IPython's rich display to represent each `Parameter` as a group of IPython widgets. `Fitter` will point to the richest implementation available.\n",
      "\n",
      "## Interactive Fitting Widget\n",
      "\n",
      "Select any model from the drop-down menu.\n",
      "\n",
      "Text input widgets will appear corresponding to the parameters for that model. If the model supports automatic guessing, the values will be initialized according to `model.guess(data, ...)`, and an auto-guess button will be available to re-generate these values at any time.\n",
      "\n",
      "The values in the text input widgets will serve as an initial guess, and they can be edited by the user. Text inputs for `min` and `max` appear when the associated checkboxes are checked. At all times, `fitter.current_params` is maintained in sync with the values shown in the widget.\n",
      "\n",
      "When satisfied with the initial guess, click \"Fit\". The plot will update to show the data, the initial guess fit (gray), and the best fit (red). The attribute `fitter.current_result` will contain the result object created by the latest execution of `fit`. The text widgets and the property `fitter.current_params` will be updated from the initial fit to the latest best fit."
     ]
    },
    {
     "cell_type": "code",
     "collapsed": false,
     "input": [
      "data = np.array([1,2,3,4,5,4,3,2])\n",
      "x = np.arange(len(data))\n",
      "\n",
      "fitter = Fitter(data, x=x)\n",
      "\n",
      "fitter"
     ],
     "language": "python",
     "metadata": {},
     "outputs": [
      {
       "metadata": {},
       "output_type": "display_data",
       "png": "[encoded data removed]",
       "text": [
        "<matplotlib.figure.Figure at 0x111bdc210>"
       ]
      }
     ],
     "prompt_number": 2
    },
    {
     "cell_type": "code",
     "collapsed": false,
     "input": [
      "fitter.current_result.values"
     ],
     "language": "python",
     "metadata": {},
     "outputs": [
      {
       "metadata": {},
       "output_type": "pyout",
       "prompt_number": 3,
       "text": [
        "{'amplitude': 26.028242079115383,\n",
        " 'center': 3.9949292338671754,\n",
        " 'fwhm': 5.2960363977622071,\n",
        " 'sigma': 2.2490196268768767}"
       ]
      }
     ],
     "prompt_number": 3
    },
    {
     "cell_type": "markdown",
     "metadata": {},
     "source": [
      "## Reuse the Fitter on Different Data\n",
      "\n",
      "Unlike `Model`, `Fitter` is \"stateful;\" it remembers that it has been called, and it uses each best fit as the initial guess for the next fit (unless a new guess is provided).\n",
      "\n",
      "Execute the cell below and revisit to the fitter above. (Or create a new view below; multiple views of the same instance of `fitter` all stay in sync.) Clicking \"Fit\" will use the most recent best fit to `data` as the initial guesss for fitting `other_data`."
     ]
    },
    {
     "cell_type": "code",
     "collapsed": false,
     "input": [
      "other_data = np.array([10, 11, 12, 11, 10, 8, 7, 6])\n",
      "fitter.data = other_data"
     ],
     "language": "python",
     "metadata": {},
     "outputs": [],
     "prompt_number": 4
    },
    {
     "cell_type": "markdown",
     "metadata": {},
     "source": [
      "## Select a User-Defined Model\n",
      "\n",
      "Any subclass of `Model` will be included in the drop-down menu. Look for 'UserDefinedModel' in the menu below."
     ]
    },
    {
     "cell_type": "code",
     "collapsed": false,
     "input": [
      "def func(x, a=1):\n",
      "    \"a very simple model indeed\"\n",
      "    return x + a\n",
      "\n",
      "class UserDefinedModel(Model):\n",
      "    def __init__(self, *args, **kwargs):\n",
      "        super(UserDefinedModel, self).__init__(func, *args, **kwargs)"
     ],
     "language": "python",
     "metadata": {},
     "outputs": [],
     "prompt_number": 5
    },
    {
     "cell_type": "code",
     "collapsed": false,
     "input": [
      "data = np.array([1,2,3,4,5,4,3,2])\n",
      "x = np.arange(len(data))\n",
      "\n",
      "fitter = Fitter(data, x=x)\n",
      "\n",
      "fitter"
     ],
     "language": "python",
     "metadata": {},
     "outputs": [
      {
       "metadata": {},
       "output_type": "display_data",
       "png": "[encoded data removed]",
       "text": [
        "<matplotlib.figure.Figure at 0x113c1a2d0>"
       ]
      }
     ],
     "prompt_number": 6
    },
    {
     "cell_type": "markdown",
     "metadata": {},
     "source": [
      "See the docstring for more, including complete access to the plot elements."
     ]
    }
   ],
   "metadata": {}
  }
 ]
}