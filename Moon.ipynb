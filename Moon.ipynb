{
 "cells": [
  {
   "cell_type": "code",
   "execution_count": 1,
   "metadata": {
    "collapsed": true
   },
   "outputs": [],
   "source": [
    "#%loadpy ../Coords/Moon.py"
   ]
  },
  {
   "cell_type": "code",
   "execution_count": 2,
   "metadata": {
    "collapsed": false
   },
   "outputs": [
    {
     "name": "stdout",
     "output_type": "stream",
     "text": [
      "0.694088319189\n",
      "[(42377.56287079732, 'new'), (42391.57342953903, 'full'), (42407.110359039856, 'new'), (42421.26379188869, 'full'), (42436.5795102644, 'new'), (42451.00058827817, 'full'), (42465.974769900335, 'new'), (42480.72472942439, 'full'), (42495.31216031281, 'new'), (42510.38501569252, 'full'), (42524.6247103713, 'new'), (42539.95993154999, 'full'), (42553.959017282956, 'new'), (42569.45593785527, 'full'), (42583.36424794059, 'new'), (42598.893437977145, 'full'), (42612.87714231434, 'new'), (42628.29520120599, 'full'), (42642.50790256552, 'new'), (42657.6827127014, 'full'), (42672.23485481329, 'new'), (42687.07782654691, 'full'), (42702.01266482162, 'new'), (42716.5038610489, 'full'), (42731.786936189375, 'new'), (42745.981921863684, 'full'), (42761.50488194106, 'new')]\n"
     ]
    }
   ],
   "source": [
    "#!/usr/bin/env python\n",
    "import datetime\n",
    "import ephem\n",
    "\n",
    "def get_phase_on_day(year,month,day):\n",
    "  \"\"\"Returns a floating-point number from 0-1. where 0=new, 0.5=full, 1=new\"\"\"\n",
    "  #Ephem stores its date numbers as floating points, which the following uses\n",
    "  #to conveniently extract the percent time between one new moon and the next\n",
    "  #This corresponds (somewhat roughly) to the phase of the moon.\n",
    "\n",
    "  #Use Year, Month, Day as arguments\n",
    "  date=ephem.Date(datetime.date(year,month,day))\n",
    "\n",
    "  nnm = ephem.next_new_moon    (date)\n",
    "  pnm = ephem.previous_new_moon(date)\n",
    "\n",
    "  lunation=(date-pnm)/(nnm-pnm)\n",
    "\n",
    "  #Note that there is a ephem.Moon().phase() command, but this returns the\n",
    "  #percentage of the moon which is illuminated. This is not really what we want.\n",
    "\n",
    "  return lunation\n",
    "\n",
    "def get_moons_in_year(year):\n",
    "  \"\"\"Returns a list of the full and new moons in a year. The list contains tuples\n",
    "of either the form (DATE,'full') or the form (DATE,'new')\"\"\"\n",
    "  moons=[]\n",
    "\n",
    "  date=ephem.Date(datetime.date(year,01,01))\n",
    "  while date.datetime().year==year:\n",
    "    date=ephem.next_full_moon(date)\n",
    "    moons.append( (date,'full') )\n",
    "\n",
    "  date=ephem.Date(datetime.date(year,01,01))\n",
    "  while date.datetime().year==year:\n",
    "    date=ephem.next_new_moon(date)\n",
    "    moons.append( (date,'new') )\n",
    "\n",
    "  #Note that previous_first_quarter_moon() and previous_last_quarter_moon()\n",
    "  #are also methods\n",
    "\n",
    "  moons.sort(key=lambda x: x[0])\n",
    "\n",
    "  return moons\n",
    "\n",
    "print get_phase_on_day(2016,1,1)\n",
    "\n",
    "print get_moons_in_year(2016)"
   ]
  },
  {
   "cell_type": "code",
   "execution_count": null,
   "metadata": {
    "collapsed": true
   },
   "outputs": [],
   "source": []
  }
 ],
 "metadata": {
  "kernelspec": {
   "display_name": "Python 2",
   "language": "python",
   "name": "python2"
  },
  "language_info": {
   "codemirror_mode": {
    "name": "ipython",
    "version": 2
   },
   "file_extension": ".py",
   "mimetype": "text/x-python",
   "name": "python",
   "nbconvert_exporter": "python",
   "pygments_lexer": "ipython2",
   "version": "2.7.6"
  }
 },
 "nbformat": 4,
 "nbformat_minor": 0
}
