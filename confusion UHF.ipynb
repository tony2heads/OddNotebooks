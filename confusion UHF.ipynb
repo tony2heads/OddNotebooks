{
 "cells": [
  {
   "cell_type": "code",
   "execution_count": 29,
   "metadata": {
    "collapsed": true
   },
   "outputs": [],
   "source": [
    "# Bernardi et al 2010\n",
    "# quoted by Greenhill, removing his typo\n",
    "def bernardi(beam,f):\n",
    "    x=beam*1.5 #from 3arcmin to 2 arcmin\n",
    "    nu=f/0.150 # from GHz to 150MHz\n",
    "    con=3*x*nu**(-0.7)\n",
    "    return con*2 #fudge by factor to get close to reality"
   ]
  },
  {
   "cell_type": "code",
   "execution_count": 30,
   "metadata": {
    "collapsed": true
   },
   "outputs": [],
   "source": [
    "def Spass(f,theta):\n",
    "    \"\"\"\n",
    "    f is frequency in GHz\n",
    "    theta is HPBW in arcmiutes\n",
    "    sigma in milliJansky\n",
    "    \"\"\"\n",
    "    sigma=0.2*theta**2/(f**0.7)\n",
    "    return sigma*0.2 #fudge"
   ]
  },
  {
   "cell_type": "code",
   "execution_count": 31,
   "metadata": {},
   "outputs": [
    {
     "name": "stdout",
     "output_type": "stream",
     "text": [
      "0.246965144454\n"
     ]
    }
   ],
   "source": [
    "def conf3(theta,f): #from Bernardi et al 2014 LEDA preprint\n",
    "    sig= 200*(theta/16.)**2 *(f/0.150)**(-0.7) # to mJy\n",
    "    return sig*0.2\n",
    "print conf3(3,1.8)"
   ]
  },
  {
   "cell_type": "code",
   "execution_count": 32,
   "metadata": {},
   "outputs": [
    {
     "name": "stdout",
     "output_type": "stream",
     "text": [
      "113.781817607\n",
      "113.075369659\n",
      "117.786843394\n"
     ]
    }
   ],
   "source": [
    "print Spass(1.4,60)\n",
    "print bernardi(60,1.4)\n",
    "print conf3(60,1.4)"
   ]
  },
  {
   "cell_type": "code",
   "execution_count": 33,
   "metadata": {},
   "outputs": [
    {
     "name": "stdout",
     "output_type": "stream",
     "text": [
      "823.600512426\n",
      "409.243472958\n",
      "213.147642166\n"
     ]
    }
   ],
   "source": [
    "print Spass(0.6,120)\n",
    "print bernardi(120,0.6)\n",
    "print conf3(60,0.6)"
   ]
  },
  {
   "cell_type": "code",
   "execution_count": null,
   "metadata": {
    "collapsed": true
   },
   "outputs": [],
   "source": []
  }
 ],
 "metadata": {
  "kernelspec": {
   "display_name": "Python 2",
   "language": "python",
   "name": "python2"
  },
  "language_info": {
   "codemirror_mode": {
    "name": "ipython",
    "version": 2
   },
   "file_extension": ".py",
   "mimetype": "text/x-python",
   "name": "python",
   "nbconvert_exporter": "python",
   "pygments_lexer": "ipython2",
   "version": "2.7.6"
  }
 },
 "nbformat": 4,
 "nbformat_minor": 2
}
