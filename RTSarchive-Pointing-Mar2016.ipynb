{
 "cells": [
  {
   "cell_type": "code",
   "execution_count": 1,
   "metadata": {
    "collapsed": false
   },
   "outputs": [],
   "source": [
    "import katarchive\n",
    "import datetime\n"
   ]
  },
  {
   "cell_type": "code",
   "execution_count": 2,
   "metadata": {
    "collapsed": true
   },
   "outputs": [],
   "source": [
    "katarchive.product_filter.only_rts()"
   ]
  },
  {
   "cell_type": "code",
   "execution_count": 3,
   "metadata": {
    "collapsed": false
   },
   "outputs": [],
   "source": [
    "def findh5(det):   # uses detail list to get h5 name\n",
    "    pos=det.find(\"Name:\")\n",
    "    if pos >0  :\n",
    "        pr2=det[pos+37:pos+53].split()\n",
    "        h5name=pr2[0].lstrip(\"/ng\")\n",
    "    return h5name"
   ]
  },
  {
   "cell_type": "code",
   "execution_count": 4,
   "metadata": {
    "collapsed": false
   },
   "outputs": [],
   "source": [
    "def listpr(x):\n",
    "    \"\"\"\n",
    "    takes a list and prints as string\n",
    "    \"\"\"\n",
    "    li=\" \".join(map(str,x))\n",
    "    return li"
   ]
  },
  {
   "cell_type": "code",
   "execution_count": 5,
   "metadata": {
    "collapsed": true
   },
   "outputs": [],
   "source": [
    "start=\"1/03/2016\"\n",
    "end=\"31/03/2016\" "
   ]
  },
  {
   "cell_type": "code",
   "execution_count": 6,
   "metadata": {
    "collapsed": false
   },
   "outputs": [
    {
     "name": "stdout",
     "output_type": "stream",
     "text": [
      "Searched using: CAS.ProductTypeName:(RTSTelescopeProduct) AND CAS.ProductTransferStatus:RECEIVED AND Description:Point AND StartTime:[2016-02-29T22:00:00Z TO 2016-03-31T21:59:59Z]\n",
      "Returning 39 results\n"
     ]
    }
   ],
   "source": [
    "#Look for pointing\n",
    "\n",
    "f=katarchive.search_archive(description=\"Point\",startdate=start,enddate=end)\n",
    "\n",
    "#start = datetime.datetime.strptime(f[-1].__str__().split('\\'')[3],'%Y-%m-%d %H:%M:%S %Z')\n",
    "#end = datetime.datetime.strptime(f[0].__str__().split('\\'')[3],'%Y-%m-%d %H:%M:%S %Z')"
   ]
  },
  {
   "cell_type": "code",
   "execution_count": 7,
   "metadata": {
    "collapsed": true
   },
   "outputs": [],
   "source": [
    "f.sort(key=lambda k: k.metadata.StartTime)"
   ]
  },
  {
   "cell_type": "code",
   "execution_count": 8,
   "metadata": {
    "collapsed": false
   },
   "outputs": [
    {
     "name": "stdout",
     "output_type": "stream",
     "text": [
      "RTS: 2.7 L-band Pointing L Band\n",
      "m031\n",
      "/var/kat/archive/data/RTS/telescope_products/2016/03/01 1456815604.h5\n",
      "/home/kat/RTS/2.7-Pointing/point_source_scan.py /home/kat/RTS/sources_pnt_L.csv -r 1 -n coupler,10,10,180 -m 33000 --product=c856M4k -f 1284 --horizon=16 --proposal-id=COMM-RTS --sb-id-code=20160301-0002 --description=RTS: 2.7 L-band Pointing L Band --observer=RTS \n",
      "\n",
      "3C 409 3C 358 PKS 2153-69 PKS 0410-75 Her A PKS 2104-25 PKS 1814-63 3C 433 3C 353 PKS 1934-63 PKS 1610-60 3C 454.3\n",
      "........................................................................................\n",
      "RTS: 2.7 L-band Pointing L Band\n",
      "m031 m034\n",
      "/var/kat/archive/data/RTS/telescope_products/2016/03/01 1456832984.h5\n",
      "/home/kat/RTS/2.7-Pointing/point_source_scan.py /home/kat/RTS/sources_pnt_L.csv -r 1 -n coupler,10,10,180 -m 33000 --product=c856M4k -f 1284 --horizon=16 --proposal-id=COMM-RTS --sb-id-code=20160301-0016 --description=RTS: 2.7 L-band Pointing L Band --observer=RTS \n",
      "\n",
      "Ori A PKS 2153-69 3C 48 For A PKS 2104-25 Pic A PKS 0410-75 PKS 1814-63 PKS 1934-63 PKS 0521-36 PKS 0408-65 3C 454.3\n",
      "........................................................................................\n",
      "RTS: 2.7 L-band Pointing L Band\n",
      "m031 m034\n",
      "/var/kat/archive/data/RTS/telescope_products/2016/03/01 1456838815.h5\n",
      "/home/kat/RTS/2.7-Pointing/point_source_scan.py /home/kat/RTS/sources_pnt_L.csv -r 1 -n coupler,10,10,180 -m 33000 --product=c856M4k -f 1284 --horizon=16 --proposal-id=COMM-RTS --sb-id-code=20160301-0020 --description=RTS: 2.7 L-band Pointing L Band --observer=RTS \n",
      "\n",
      "3C 161 3C 279 PKS 2153-69 3C 48 3C 273 For A Pic A PKS 0410-75 Ori A PKS 0521-36 PKS 0408-65 Tau A Hyd A 3C 123\n",
      "........................................................................................\n",
      "RTS: 2.7.1 Ku-band Offset Pointing 30 sources\n",
      "m024 m025\n",
      "/var/kat/archive/data/RTS/telescope_products/2016/03/03 1457023793.h5\n",
      "/home/kat/RTS/2.7-Pointing/offset_test_scan.py /home/kat/RTS/sources_bright_Ku.csv -f 12500.5 -r 1 -n off --fine --number-sources=30 --proposal-id=COMM-RTS --product=c856M4k --sb-id-code=20160303-0011 --description=RTS: 2.7.1 Ku-band Offset Pointing 30 sources --observer=RTS \n",
      "\n",
      "2E1488 OA129 offset_16 offset_17 offset_14 offset_15 offset_12 offset_13 offset_10 offset_11 offset_18 offset_19 OL93 offset_9 2E2471 offset_23 offset_22 offset_21 offset_20 offset_24 0454-234 offset_8 OJ287 offset_4 offset_5 offset_6 offset_7 offset_1 offset_2 offset_3\n",
      "........................................................................................\n",
      "RTS: 2.7.1 Ku-band Offset Pointing 30 sources\n",
      "m024 m025\n",
      "/var/kat/archive/data/RTS/telescope_products/2016/03/03 1457040463.h5\n",
      "/home/kat/RTS/2.7-Pointing/offset_test_scan.py /home/kat/RTS/sources_bright_Ku.csv -f 12500.5 -r 1 -n off --fine --number-sources=60 --proposal-id=COMM-RTS --product=c856M4k --sb-id-code=20160303-0015 --description=RTS: 2.7.1 Ku-band Offset Pointing 30 sources --observer=RTS \n",
      "\n",
      "2E1488 offset_19 offset_30 offset_31 offset_32 offset_16 offset_17 offset_14 offset_15 offset_12 offset_13 offset_10 offset_11 offset_18 2E2471 OP158.3 3C279 OL93 OJ287 OT-151 offset_29 offset_28 offset_23 offset_22 offset_21 offset_20 offset_27 offset_26 offset_25 offset_24 0454-234 offset_8 offset_9 offset_4 offset_5 offset_6 offset_7 offset_1 offset_2 offset_3\n",
      "........................................................................................\n",
      "RTS: 2.7.1 Ku-band Offset Pointing 30 sources\n",
      "m024 m025\n",
      "/var/kat/archive/data/RTS/telescope_products/2016/03/04 1457065957.h5\n",
      "/home/kat/RTS/2.7-Pointing/offset_test_scan.py /home/kat/RTS/sources_bright_Ku.csv -f 12500.5 -r 1 -n off --fine --number-sources=60 --proposal-id=COMM-RTS --product=c856M4k --sb-id-code=20160303-0016 --description=RTS: 2.7.1 Ku-band Offset Pointing 30 sources --observer=RTS \n",
      "\n",
      "offset_16 offset_14 OT-151 offset_12 offset_13 offset_10 offset_11 offset_9 OP158.3 offset_15 offset_8 3C279 OV236 offset_4 offset_5 offset_6 offset_7 offset_1 offset_2 offset_3\n",
      "........................................................................................\n",
      "RTS: 2.7.1 Ku-band Offset Pointing 30 sources\n",
      "m024 m025\n",
      "/var/kat/archive/data/RTS/telescope_products/2016/03/04 1457073330.h5\n",
      "/home/kat/RTS/2.7-Pointing/offset_test_scan.py /home/kat/RTS/sources_bright_Ku.csv -f 12500.5 -r 1 -n off --fine --number-sources=60 --proposal-id=COMM-RTS --product=c856M4k --sb-id-code=20160303-0017 --description=RTS: 2.7.1 Ku-band Offset Pointing 30 sources --observer=RTS \n",
      "\n",
      "OT-151 offset_12 offset_10 offset_11 offset_1 offset_8 offset_9 3C454.3 offset_4 offset_5 offset_6 offset_7 OV236 offset_2 offset_3\n",
      "........................................................................................\n",
      "RTS: 2.7.1 Ku-band Offset Pointing 30 sources\n",
      "m024 m025\n",
      "/var/kat/archive/data/RTS/telescope_products/2016/03/05 1457203140.h5\n",
      "/home/kat/RTS/2.7-Pointing/offset_test_scan.py /home/kat/RTS/sources_bright_Ku.csv -f 12500.5 -r 1 -m 43200 -n off --fine --number-sources=10000 --proposal-id=COMM-RTS --product=c856M4k --sb-id-code=20160304-0008 --description=RTS: 2.7.1 Ku-band Offset Pointing 30 sources --observer=RTS \n",
      "\n",
      "offset_58 offset_59 offset_52 offset_53 offset_50 offset_51 offset_56 offset_57 offset_54 offset_55 OT-151 offset_69 offset_68 offset_66 offset_65 offset_64 offset_63 offset_62 offset_61 offset_60 2E1488 offset_70 offset_71 offset_72 offset_73 offset_74 offset_75 offset_76 offset_77 offset_78 offset_79 OL93 offset_89 offset_88 offset_85 offset_84 offset_87 offset_86 offset_81 offset_80 offset_83 offset_82 0454-234 offset_96 offset_94 offset_95 offset_92 offset_93 offset_90 offset_91 OP158.3 offset_16 offset_17 offset_14 offset_15 offset_12 offset_13 offset_10 offset_11 offset_18 offset_19 offset_29 offset_28 offset_23 offset_22 offset_21 offset_20 offset_27 offset_26 offset_25 offset_24 OA129 offset_38 offset_39 offset_34 offset_35 offset_36 offset_37 offset_30 offset_31 offset_32 offset_33 3C279 OJ287 2E2471 offset_49 offset_48 OV236 offset_41 offset_40 offset_43 offset_42 offset_45 offset_44 offset_47 offset_46 offset_8 offset_9 offset_4 offset_5 offset_6 offset_7 offset_1 offset_2 offset_3\n",
      "........................................................................................\n",
      "RTS: 2.7.1 Ku-band Offset Pointing 30 sources\n",
      "m024 m025\n",
      "/var/kat/archive/data/RTS/telescope_products/2016/03/06 1457247629.h5\n",
      "/home/kat/RTS/2.7-Pointing/offset_test_scan.py /home/kat/RTS/sources_bright_Ku.csv -f 12500.5 -r 1 -m 43200 -n off --fine --number-sources=10000 --proposal-id=COMM-RTS --product=c856M4k --sb-id-code=20160304-0013 --description=RTS: 2.7.1 Ku-band Offset Pointing 30 sources --observer=RTS \n",
      "\n",
      "offset_58 offset_59 offset_52 offset_53 offset_50 offset_51 offset_56 offset_57 offset_54 offset_55 OT-151 offset_69 offset_68 offset_67 offset_66 offset_65 offset_64 offset_63 offset_62 offset_61 offset_60 2E1488 offset_70 offset_71 offset_72 offset_73 offset_74 offset_75 offset_76 offset_77 offset_78 offset_79 OL93 offset_89 offset_88 offset_85 offset_84 offset_87 offset_86 offset_81 offset_80 offset_83 offset_82 0454-234 offset_96 offset_94 offset_95 offset_92 offset_93 offset_90 offset_91 offset_16 offset_17 offset_14 offset_15 offset_12 offset_13 offset_10 offset_11 offset_18 offset_19 3C454.3 offset_29 offset_28 offset_23 offset_22 offset_21 offset_20 offset_27 offset_26 offset_25 offset_24 OA129 offset_38 offset_39 offset_34 offset_35 offset_36 offset_37 offset_30 offset_31 offset_32 offset_33 OJ287 offset_49 offset_48 OV236 offset_41 offset_40 offset_43 offset_42 offset_45 offset_44 offset_47 offset_46 offset_8 offset_9 offset_4 offset_5 offset_6 offset_7 offset_1 offset_2 offset_3\n",
      "........................................................................................\n",
      "RTS: 2.7.1 Ku-band Offset Pointing 30 sources\n",
      "m024 m025\n",
      "/var/kat/archive/data/RTS/telescope_products/2016/03/06 1457291800.h5\n",
      "/home/kat/RTS/2.7-Pointing/offset_test_scan.py /home/kat/RTS/sources_bright_Ku.csv -f 12500.5 -r 1 -m 43200 -n off --fine --number-sources=10000 --proposal-id=COMM-RTS --product=c856M4k --sb-id-code=20160304-0011 --description=RTS: 2.7.1 Ku-band Offset Pointing 30 sources --observer=RTS \n",
      "\n",
      "offset_58 offset_59 offset_52 offset_53 offset_50 offset_51 offset_56 offset_57 offset_54 offset_55 OT-151 offset_69 offset_68 offset_67 offset_66 offset_65 offset_64 offset_63 offset_62 offset_61 offset_60 2E1488 offset_70 offset_71 offset_72 offset_73 offset_74 offset_75 offset_76 offset_77 offset_78 offset_79 OL93 offset_89 offset_88 offset_85 offset_84 offset_87 offset_86 offset_81 offset_80 offset_83 offset_82 0454-234 offset_96 offset_94 offset_95 offset_92 offset_93 offset_90 offset_91 OP158.3 offset_16 offset_17 offset_14 offset_15 offset_12 offset_13 offset_10 offset_11 offset_18 offset_19 3C454.3 offset_29 offset_28 offset_23 offset_22 offset_21 offset_20 offset_27 offset_26 offset_25 offset_24 OA129 offset_38 offset_39 offset_34 offset_35 offset_36 offset_37 offset_30 offset_31 offset_32 offset_33 3C279 OJ287 2E2471 offset_49 offset_48 OV236 offset_41 offset_40 offset_43 offset_42 offset_45 offset_44 offset_47 offset_46 offset_8 offset_9 offset_4 offset_5 offset_6 offset_7 offset_1 offset_2 offset_3\n",
      "........................................................................................\n",
      "RTS: 2.7.1 Ku-band Offset Pointing 30 sources\n",
      "m024 m025\n",
      "/var/kat/archive/data/RTS/telescope_products/2016/03/07 1457336508.h5\n",
      "/home/kat/RTS/2.7-Pointing/offset_test_scan.py /home/kat/RTS/sources_bright_Ku.csv -f 12500.5 -r 1 -m 43200 -n off --fine --number-sources=10000 --proposal-id=COMM-RTS --product=c856M4k --sb-id-code=20160306-0002 --description=RTS: 2.7.1 Ku-band Offset Pointing 30 sources --observer=RTS \n",
      "\n",
      "offset_58 offset_59 offset_52 offset_53 offset_50 offset_51 offset_56 offset_57 offset_54 offset_55 OT-151 offset_69 offset_68 offset_67 offset_66 offset_65 offset_64 offset_63 offset_62 offset_61 offset_60 2E1488 offset_70 offset_71 offset_72 offset_73 offset_74 offset_75 offset_76 offset_77 offset_78 offset_79 OL93 offset_89 offset_88 offset_85 offset_84 offset_87 offset_86 offset_81 offset_80 offset_83 offset_82 0454-234 offset_96 offset_94 offset_95 offset_92 offset_93 offset_90 offset_91 2E2471 offset_16 offset_17 offset_14 offset_15 offset_12 offset_13 offset_10 offset_11 offset_18 offset_19 3C454.3 offset_29 offset_28 offset_23 offset_22 offset_21 offset_20 offset_27 offset_26 offset_25 offset_24 OA129 offset_38 offset_39 offset_34 offset_35 offset_36 offset_37 offset_30 offset_31 offset_32 offset_33 OJ287 offset_49 offset_48 OV236 offset_41 offset_40 offset_43 offset_42 offset_45 offset_44 offset_47 offset_46 offset_8 offset_9 offset_4 offset_5 offset_6 offset_7 offset_1 offset_2 offset_3\n",
      "........................................................................................\n",
      "RTS: 2.7.1 Ku-band Offset Pointing 30 sources\n",
      "m024 m025\n",
      "/var/kat/archive/data/RTS/telescope_products/2016/03/07 1457380354.h5\n",
      "/home/kat/RTS/2.7-Pointing/offset_test_scan.py /home/kat/RTS/sources_bright_Ku.csv -f 12500.5 -r 1 -m 43200 -n off --fine --number-sources=10000 --proposal-id=COMM-RTS --product=c856M4k --sb-id-code=20160307-0001 --description=RTS: 2.7.1 Ku-band Offset Pointing 30 sources --observer=RTS \n",
      "\n",
      "offset_58 offset_59 offset_52 offset_53 offset_50 offset_51 offset_56 offset_57 offset_54 offset_55 Az: 0:00:00.0 El: 70:00:00.0 OT-151 offset_69 offset_68 offset_67 offset_66 offset_65 offset_64 offset_63 offset_62 offset_61 offset_60 2E1488 offset_70 offset_71 offset_72 offset_73 offset_74 offset_75 offset_76 offset_77 offset_78 offset_79 OL93 offset_85 offset_84 offset_87 offset_86 offset_81 offset_80 offset_83 offset_82 0454-234 OP158.3 offset_16 offset_17 offset_14 offset_15 offset_12 offset_13 offset_10 offset_11 offset_18 offset_19 Az: -90:00:00.0 El: 70:00:00.0 offset_29 offset_28 offset_23 offset_22 offset_21 offset_20 offset_27 offset_26 offset_25 offset_24 OA129 offset_38 offset_39 offset_34 offset_35 offset_36 offset_37 offset_30 offset_31 offset_32 offset_33 3C279 OJ287 2E2471 offset_49 offset_48 OV236 offset_41 offset_40 offset_43 offset_42 offset_45 offset_44 offset_47 offset_46 offset_8 offset_9 offset_4 offset_5 offset_6 offset_7 offset_1 offset_2 offset_3\n",
      "........................................................................................\n",
      "RTS: 2.7.1 Ku-band Offset Pointing 30 sources\n",
      "m024 m025\n",
      "/var/kat/archive/data/RTS/telescope_products/2016/03/08 1457424175.h5\n",
      "/home/kat/RTS/2.7-Pointing/offset_test_scan.py /home/kat/RTS/sources_bright_Ku.csv -f 12500.5 -r 1 -m 43200 -n off --fine --number-sources=10000 --proposal-id=COMM-RTS --product=c856M4k --sb-id-code=20160307-0002 --description=RTS: 2.7.1 Ku-band Offset Pointing 30 sources --observer=RTS \n",
      "\n",
      "offset_58 offset_59 offset_52 offset_53 offset_50 offset_51 offset_56 offset_57 offset_54 offset_55 OT-151 offset_69 offset_68 offset_67 offset_66 offset_65 offset_64 offset_63 offset_62 offset_61 offset_60 2E1488 offset_70 offset_71 offset_72 offset_73 offset_74 offset_75 offset_76 offset_77 offset_78 offset_79 OL93 offset_89 offset_88 offset_85 offset_84 offset_87 offset_86 offset_81 offset_80 offset_83 offset_82 0454-234 offset_96 offset_94 offset_95 offset_92 offset_93 offset_90 offset_91 2E2471 offset_16 offset_17 offset_14 offset_15 offset_12 offset_13 offset_10 offset_11 offset_18 offset_19 3C454.3 offset_29 offset_28 offset_23 offset_22 offset_21 offset_20 offset_27 offset_26 offset_25 offset_24 OA129 offset_38 offset_39 offset_34 offset_35 offset_36 offset_37 offset_30 offset_31 offset_32 offset_33 OJ287 offset_49 offset_48 OV236 offset_41 offset_40 offset_43 offset_42 offset_45 offset_44 offset_47 offset_46 offset_8 offset_9 offset_4 offset_5 offset_6 offset_7 offset_1 offset_2 offset_3\n",
      "........................................................................................\n",
      "RTS: 2.7.1 Ku-band Offset Pointing 30 sources\n",
      "m024 m025\n",
      "/var/kat/archive/data/RTS/telescope_products/2016/03/08 1457468483.h5\n",
      "/home/kat/RTS/2.7-Pointing/offset_test_scan.py /home/kat/RTS/sources_bright_Ku.csv -f 12500.5 -r 1 -m 43200 -n off --fine --number-sources=10000 --proposal-id=COMM-RTS --product=c856M4k --sb-id-code=20160308-0002 --description=RTS: 2.7.1 Ku-band Offset Pointing 30 sources --observer=RTS \n",
      "\n",
      "offset_58 offset_59 offset_52 offset_53 offset_50 offset_51 offset_56 offset_57 offset_54 offset_55 OT-151 offset_69 offset_68 offset_67 offset_66 offset_65 offset_64 offset_63 offset_62 offset_61 offset_60 2E1488 offset_70 offset_71 offset_72 offset_73 offset_74 offset_75 offset_76 offset_77 offset_78 offset_79 OP158.3 OL93 offset_89 offset_88 offset_85 offset_84 offset_87 offset_86 offset_81 offset_80 offset_83 offset_82 0454-234 offset_96 offset_94 offset_95 offset_92 offset_93 offset_90 offset_91 2E2471 offset_16 offset_17 offset_14 offset_15 offset_12 offset_13 offset_10 offset_11 offset_18 offset_19 3C454.3 offset_29 offset_28 offset_23 offset_22 offset_21 offset_20 offset_27 offset_26 offset_25 offset_24 offset_38 offset_39 offset_34 offset_35 offset_36 offset_37 offset_30 offset_31 offset_32 offset_33 3C279 offset_9 offset_49 offset_48 OV236 offset_41 offset_40 offset_43 offset_42 offset_45 offset_44 offset_47 offset_46 offset_8 OJ287 offset_4 offset_5 offset_6 offset_7 offset_1 offset_2 offset_3\n",
      "........................................................................................\n",
      "RTS: 2.7.1 Ku-band Offset Pointing 30 sources\n",
      "m024 m025\n",
      "/var/kat/archive/data/RTS/telescope_products/2016/03/09 1457512654.h5\n",
      "/home/kat/RTS/2.7-Pointing/offset_test_scan.py /home/kat/RTS/sources_bright_Ku.csv -f 12500.5 -r 1 -m 43200 -n off --fine --number-sources=10000 --proposal-id=COMM-RTS --product=c856M4k --sb-id-code=20160309-0001 --description=RTS: 2.7.1 Ku-band Offset Pointing 30 sources --observer=RTS \n",
      "\n",
      "offset_16 offset_17 offset_14 offset_15 offset_12 offset_13 offset_10 offset_11 offset_18 offset_19 3C454.3 offset_23 offset_22 offset_21 offset_20 OV236 OT-151 offset_8 offset_9 offset_4 offset_5 offset_6 offset_7 offset_1 offset_2 offset_3\n",
      "........................................................................................\n",
      "RTS: 2.7.1 Ku-band Offset Pointing\n",
      "m024 m025\n",
      "/var/kat/archive/data/RTS/telescope_products/2016/03/09 1457523303.h5\n",
      "/home/kat/RTS/2.7-Pointing/offset_test_scan.py /home/kat/RTS/sources_bright_Ku_5arcsec.csv -f 12500.5 -r 1 -n off --fine --number-sources=10000 -m 43200 --proposal-id=COMM-RTS --product=c856M4k --sb-id-code=20160309-0002 --description=RTS: 2.7.1 Ku-band Offset Pointing --observer=RTS \n",
      "\n",
      "offset_16 offset_17 offset_14 offset_15 offset_12 offset_13 offset_10 offset_11 offset_18 offset_19 3C454.3 offset_20 OV236 offset_8 offset_9 offset_4 offset_5 offset_6 offset_7 offset_1 offset_2 offset_3\n",
      "........................................................................................\n",
      "RTS: 2.7.1 Ku-band Offset Pointing\n",
      "m024 m025\n",
      "/var/kat/archive/data/RTS/telescope_products/2016/03/09 1457553623.h5\n",
      "/home/kat/RTS/2.7-Pointing/offset_test_scan.py /home/kat/RTS/sources_bright_Ku_5arcsec.csv -f 12500.5 -r 1 -n off --fine --number-sources=10000 -m 43200 --proposal-id=COMM-RTS --product=c856M4k --sb-id-code=20160309-0004 --description=RTS: 2.7.1 Ku-band Offset Pointing --observer=RTS \n",
      "\n",
      "offset_38 offset_39 offset_34 offset_35 offset_36 offset_37 offset_30 offset_31 offset_32 offset_33 offset_16 offset_17 offset_14 offset_15 offset_12 offset_13 offset_10 offset_11 offset_52 offset_50 offset_51 offset_18 offset_19 3C279 offset_29 offset_28 offset_23 offset_22 offset_21 offset_20 offset_27 offset_26 offset_25 offset_24 offset_49 offset_48 OV236 offset_41 offset_40 offset_43 offset_42 offset_45 offset_44 offset_47 offset_46 offset_8 offset_9 offset_4 offset_5 offset_6 offset_7 offset_1 offset_2 offset_3\n",
      "........................................................................................\n",
      "RTS: 2.7.1 Ku-band Offset Pointing\n",
      "m024 m025\n",
      "/var/kat/archive/data/RTS/telescope_products/2016/03/10 1457640024.h5\n",
      "/home/kat/RTS/2.7-Pointing/offset_test_scan.py /home/kat/RTS/sources_bright_Ku_5arcsec.csv -f 12500.5 -r 1 -n off --fine --number-sources=10000 -m 43200 --proposal-id=COMM-RTS --product=c856M4k --sb-id-code=20160309-0009 --description=RTS: 2.7.1 Ku-band Offset Pointing --observer=RTS \n",
      "\n",
      "offset_58 offset_59 offset_52 offset_53 offset_50 offset_51 offset_56 offset_57 offset_54 offset_55 offset_69 offset_68 offset_67 offset_66 offset_65 offset_64 offset_63 offset_62 offset_61 offset_60 offset_70 offset_71 offset_72 offset_73 offset_74 offset_75 offset_76 offset_77 offset_78 offset_79 offset_89 offset_88 offset_85 offset_84 offset_87 offset_86 offset_81 offset_80 offset_83 offset_82 offset_96 offset_94 offset_95 offset_92 offset_93 offset_90 offset_91 offset_16 offset_17 offset_14 offset_15 offset_12 offset_13 offset_10 offset_11 offset_18 offset_19 3C454.3 offset_29 offset_28 offset_23 offset_22 offset_21 offset_20 offset_27 offset_26 offset_25 offset_24 offset_38 offset_39 offset_34 offset_35 offset_36 offset_37 offset_30 offset_31 offset_32 offset_33 3C279 offset_49 offset_48 OV236 offset_41 offset_40 offset_43 offset_42 offset_45 offset_44 offset_47 offset_46 offset_8 offset_9 offset_4 offset_5 offset_6 offset_7 offset_1 offset_2 offset_3\n",
      "........................................................................................\n",
      "RTS: 2.7.1 Ku-band Offset Pointing\n",
      "m024 m025\n",
      "/var/kat/archive/data/RTS/telescope_products/2016/03/11 1457683635.h5\n",
      "/home/kat/RTS/2.7-Pointing/offset_test_scan.py /home/kat/RTS/sources_bright_Ku_5arcsec.csv -f 12500.5 -r 1 -n off --fine --number-sources=10000 -m 43200 --proposal-id=COMM-RTS --product=c856M4k --sb-id-code=20160311-0001 --description=RTS: 2.7.1 Ku-band Offset Pointing --observer=RTS \n",
      "\n",
      "offset_38 offset_39 offset_34 offset_35 offset_36 offset_37 offset_30 offset_31 offset_32 offset_33 offset_16 offset_17 offset_14 offset_15 offset_12 offset_13 offset_10 offset_11 offset_18 offset_19 3C454.3 offset_29 offset_28 offset_26 offset_23 offset_22 offset_21 offset_20 offset_27 OV236 offset_25 offset_24 offset_41 offset_40 offset_43 offset_42 offset_44 offset_8 offset_9 offset_4 offset_5 offset_6 offset_7 offset_1 offset_2 offset_3\n",
      "........................................................................................\n",
      "RTS: 2.7.1 Ku-band Offset Pointing\n",
      "m024 m025\n",
      "/var/kat/archive/data/RTS/telescope_products/2016/03/11 1457726423.h5\n",
      "/home/kat/RTS/2.7-Pointing/offset_test_scan.py /home/kat/RTS/neil_sources/sources_bright_Ku.csv -f 12500.5 -r 1 -n off --fine --number-sources=10000 -m 86400 --proposal-id=COMM-RTS --product=c856M4k --sb-id-code=20160311-0011 --description=RTS: 2.7.1 Ku-band Offset Pointing --observer=RTS \n",
      "\n",
      "offset_58 offset_59 offset_189 offset_52 offset_53 offset_50 offset_51 offset_56 offset_57 offset_54 offset_55 offset_187 offset_186 offset_185 offset_184 offset_183 offset_182 offset_191 offset_181 offset_180 offset_188 offset_69 offset_68 offset_67 offset_66 offset_65 offset_64 offset_63 offset_62 offset_61 offset_60 offset_149 offset_148 offset_143 offset_142 offset_141 offset_140 offset_147 offset_146 offset_145 offset_144 offset_70 offset_71 offset_72 offset_73 offset_74 offset_75 offset_76 offset_77 offset_78 offset_179 offset_190 offset_138 offset_139 offset_136 offset_137 offset_134 offset_135 offset_132 offset_133 offset_130 offset_131 offset_89 offset_88 offset_85 offset_84 offset_87 offset_86 offset_81 offset_80 offset_83 offset_82 0454-234 offset_129 offset_128 offset_125 offset_124 offset_127 offset_126 offset_121 offset_120 offset_123 offset_122 offset_98 offset_99 offset_96 offset_97 offset_94 offset_95 offset_92 offset_93 offset_90 offset_91 OP158.3 offset_16 offset_17 offset_14 offset_15 offset_12 offset_13 offset_10 offset_11 offset_18 offset_19 offset_110 offset_111 offset_112 offset_113 offset_114 offset_115 offset_116 3C454.3 offset_118 offset_172 offset_173 offset_170 offset_171 offset_176 offset_177 offset_174 offset_175 offset_178 offset_117 offset_29 offset_28 offset_23 offset_22 offset_21 offset_20 offset_27 offset_26 offset_25 offset_24 offset_192 offset_107 offset_106 offset_105 offset_104 offset_103 offset_102 offset_101 offset_100 offset_109 offset_108 offset_161 offset_160 offset_163 offset_162 offset_165 offset_164 offset_167 offset_166 offset_169 offset_168 1830-210 offset_38 offset_39 offset_34 offset_35 offset_36 offset_37 offset_30 offset_31 offset_32 offset_33 3C279 3C273 offset_154 offset_155 offset_156 offset_157 offset_150 offset_151 offset_152 offset_153 offset_9 offset_158 offset_159 offset_49 offset_48 OV236 offset_41 offset_40 offset_43 offset_42 offset_45 offset_44 offset_47 offset_46 offset_8 OJ287 offset_4 offset_5 offset_6 offset_7 offset_1 offset_2 offset_3\n",
      "........................................................................................\n",
      "RTS: 2.7.1 Ku-band Offset Pointing\n",
      "m024 m025\n",
      "/var/kat/archive/data/RTS/telescope_products/2016/03/12 1457814448.h5\n",
      "/home/kat/RTS/2.7-Pointing/offset_test_scan.py /home/kat/RTS/neil_sources/sources_bright_Ku.csv -f 12500.5 -r 1 -n off --fine --number-sources=10000 -m 86400 --proposal-id=COMM-RTS --product=c856M4k --sb-id-code=20160311-0013 --description=RTS: 2.7.1 Ku-band Offset Pointing --observer=RTS \n",
      "\n",
      "offset_58 offset_59 offset_52 offset_53 offset_50 offset_51 offset_56 offset_57 offset_54 offset_55 offset_180 offset_69 offset_68 offset_66 offset_65 offset_64 offset_63 offset_62 offset_61 offset_60 offset_149 offset_148 offset_143 offset_142 offset_141 offset_140 offset_147 offset_146 offset_145 offset_144 offset_70 offset_71 offset_72 offset_73 offset_74 offset_75 offset_76 offset_77 offset_78 offset_79 offset_179 offset_138 offset_139 offset_136 offset_137 offset_134 offset_135 offset_132 offset_133 offset_130 offset_131 offset_89 offset_88 offset_85 offset_84 offset_87 offset_86 offset_81 offset_80 offset_83 offset_82 0454-234 offset_129 offset_128 offset_125 offset_124 offset_127 offset_126 offset_121 offset_120 offset_123 offset_122 offset_98 offset_99 offset_96 offset_97 offset_94 offset_95 offset_92 offset_93 offset_90 offset_91 OP158.3 offset_16 offset_17 offset_14 offset_15 offset_12 offset_13 offset_10 offset_11 offset_18 offset_19 offset_110 offset_111 offset_112 offset_113 offset_114 offset_115 offset_116 3C454.3 offset_118 offset_119 offset_172 offset_173 offset_170 offset_171 offset_176 offset_177 offset_174 offset_175 offset_178 offset_117 offset_29 offset_28 offset_23 offset_22 offset_21 offset_20 offset_27 offset_26 offset_25 offset_24 offset_107 offset_106 offset_105 offset_104 offset_103 offset_102 offset_101 offset_100 offset_109 offset_108 offset_161 offset_160 offset_163 offset_162 offset_165 offset_164 offset_167 offset_166 offset_169 offset_168 1830-210 offset_38 offset_39 offset_34 offset_35 offset_36 offset_37 offset_30 offset_31 offset_32 offset_33 3C279 3C273 offset_154 offset_155 offset_156 offset_157 offset_150 offset_151 offset_152 offset_153 offset_9 offset_158 offset_159 offset_49 offset_48 OV236 offset_41 offset_40 offset_43 offset_42 offset_45 offset_44 offset_47 offset_46 offset_8 OJ287 offset_4 offset_5 offset_6 offset_7 offset_1 offset_2 offset_3\n",
      "........................................................................................\n",
      "RTS: 2.7.1 Ku-band Offset Pointing\n",
      "m024 m025\n",
      "/var/kat/archive/data/RTS/telescope_products/2016/03/13 1457901351.h5\n",
      "/home/kat/RTS/2.7-Pointing/offset_test_scan.py /home/kat/RTS/neil_sources/sources_bright_Ku.csv -f 12500.5 -r 1 -n off --fine --number-sources=10000 -m 86400 --proposal-id=COMM-RTS --product=c856M4k --sb-id-code=20160311-0009 --description=RTS: 2.7.1 Ku-band Offset Pointing --observer=RTS \n",
      "\n",
      "offset_58 offset_59 offset_52 offset_53 offset_50 offset_51 offset_56 offset_57 offset_54 offset_55 offset_187 offset_186 offset_185 offset_184 offset_183 offset_182 offset_181 offset_180 offset_188 offset_69 offset_68 offset_67 offset_66 offset_65 offset_64 offset_63 offset_62 offset_61 offset_60 offset_149 offset_148 offset_143 offset_142 offset_141 offset_140 offset_147 offset_146 offset_145 offset_144 offset_70 offset_71 offset_72 offset_73 offset_74 offset_75 offset_76 offset_77 offset_78 offset_79 offset_179 offset_138 offset_139 offset_136 offset_137 offset_134 offset_135 offset_132 offset_133 offset_130 offset_131 offset_89 offset_88 offset_85 offset_84 offset_87 offset_86 offset_81 offset_80 offset_83 offset_82 0454-234 offset_129 offset_128 offset_125 offset_124 offset_127 offset_126 offset_121 offset_120 offset_123 offset_122 offset_98 offset_99 offset_96 offset_97 offset_94 offset_95 offset_92 offset_93 offset_90 offset_91 OP158.3 offset_16 offset_17 offset_14 offset_15 offset_12 offset_13 offset_10 offset_11 offset_18 offset_19 offset_110 offset_111 offset_112 offset_113 offset_114 offset_115 offset_116 3C454.3 offset_118 offset_119 offset_172 offset_173 offset_170 offset_171 offset_176 offset_177 offset_174 offset_175 offset_178 offset_117 offset_29 offset_28 offset_22 offset_21 offset_20 offset_27 offset_26 offset_25 offset_24 offset_107 offset_106 offset_105 offset_104 offset_103 offset_102 offset_101 offset_100 offset_109 offset_108 offset_161 offset_160 offset_163 offset_162 offset_165 offset_164 offset_167 offset_166 offset_169 offset_168 1830-210 offset_38 offset_39 offset_34 offset_35 offset_36 offset_37 offset_30 offset_31 offset_32 offset_33 3C279 3C273 offset_154 offset_155 offset_156 offset_157 offset_150 offset_151 offset_152 offset_153 offset_9 offset_158 offset_159 offset_49 offset_48 OV236 offset_41 offset_40 offset_43 offset_42 offset_45 offset_44 offset_47 offset_46 offset_8 OJ287 offset_4 offset_5 offset_6 offset_7 offset_1 offset_2 offset_3\n",
      "........................................................................................\n",
      "RTS: 2.7.1 Ku-band Offset Pointing\n",
      "m024 m025\n",
      "/var/kat/archive/data/RTS/telescope_products/2016/03/14 1457988220.h5\n",
      "/home/kat/RTS/2.7-Pointing/offset_test_scan.py /home/kat/RTS/neil_sources/sources_bright_Ku.csv -f 12500.5 -r 1 -n off --fine --number-sources=10000 -m 86400 --proposal-id=COMM-RTS --product=c856M4k --sb-id-code=20160314-0002 --description=RTS: 2.7.1 Ku-band Offset Pointing --observer=RTS \n",
      "\n",
      "offset_58 offset_59 offset_189 offset_52 offset_53 offset_50 offset_51 offset_56 offset_57 offset_54 offset_55 offset_187 offset_186 offset_185 offset_184 offset_183 offset_182 offset_191 offset_181 offset_180 offset_188 offset_69 offset_68 offset_67 offset_66 offset_65 offset_64 offset_63 offset_62 offset_61 offset_60 offset_149 offset_148 offset_143 offset_142 offset_141 offset_140 offset_147 offset_146 offset_145 offset_144 offset_70 offset_71 offset_72 offset_73 offset_74 offset_75 offset_76 offset_77 offset_78 offset_79 offset_179 offset_190 offset_138 offset_139 offset_136 offset_137 offset_134 offset_135 offset_132 offset_133 offset_130 offset_131 offset_89 offset_88 offset_85 offset_84 offset_87 offset_86 offset_81 offset_80 offset_83 offset_82 0454-234 offset_129 offset_128 offset_125 offset_124 offset_127 offset_126 offset_121 offset_120 offset_123 offset_122 offset_98 offset_99 offset_96 offset_97 offset_94 offset_95 offset_92 offset_93 offset_90 offset_91 OP158.3 offset_16 offset_17 offset_14 offset_15 offset_12 offset_13 offset_10 offset_11 offset_18 offset_19 offset_110 offset_111 offset_112 offset_113 offset_114 offset_115 offset_116 3C454.3 offset_118 offset_119 offset_172 offset_173 offset_170 offset_171 offset_176 offset_177 offset_174 offset_175 offset_178 offset_117 offset_29 offset_28 offset_23 offset_22 offset_21 offset_20 offset_27 offset_26 offset_25 offset_24 offset_192 offset_107 offset_106 offset_105 offset_104 offset_103 offset_102 offset_101 offset_100 offset_109 offset_108 offset_161 offset_160 offset_163 offset_162 offset_165 offset_164 offset_167 offset_166 offset_169 offset_168 1830-210 offset_38 offset_39 offset_34 offset_35 offset_36 offset_37 offset_30 offset_31 offset_32 offset_33 3C279 3C273 offset_154 offset_155 offset_156 offset_157 offset_150 offset_151 offset_152 offset_153 offset_9 offset_158 offset_159 offset_49 offset_48 OV236 offset_41 offset_40 offset_43 offset_42 offset_45 offset_44 offset_47 offset_46 offset_8 OJ287 offset_4 offset_5 offset_6 offset_7 offset_1 offset_2 offset_3\n",
      "........................................................................................\n",
      "RTS: 2.7.1 Ku-band Offset Pointing\n",
      "m024 m025\n",
      "/var/kat/archive/data/RTS/telescope_products/2016/03/16 1458135046.h5\n",
      "/home/kat/RTS/2.7-Pointing/offset_test_scan.py /home/kat/RTS/neil_sources/sources_bright_Ku.csv -f 12500.5 -r 1 -n off --fine --number-sources=10000 -m 86400 --proposal-id=COMM-RTS --product=c856M4k --sb-id-code=20160316-0002 --description=RTS: 2.7.1 Ku-band Offset Pointing --observer=RTS \n",
      "\n",
      "offset_58 offset_59 offset_52 offset_53 offset_50 offset_51 offset_56 offset_57 offset_54 offset_55 offset_185 offset_184 offset_183 offset_182 offset_181 offset_180 offset_69 offset_68 offset_67 offset_66 offset_65 offset_64 offset_63 offset_62 offset_61 offset_60 offset_149 offset_148 offset_143 offset_142 offset_141 offset_140 offset_147 offset_146 offset_145 offset_144 offset_70 offset_71 offset_72 offset_73 offset_74 offset_75 offset_76 offset_77 offset_78 offset_79 offset_179 offset_138 offset_139 offset_136 offset_137 offset_134 offset_135 offset_132 offset_133 offset_130 offset_131 offset_89 offset_88 offset_85 offset_84 offset_87 offset_86 offset_81 offset_80 offset_83 offset_82 0454-234 offset_129 offset_128 offset_125 offset_124 offset_127 offset_126 offset_121 offset_120 offset_123 offset_122 offset_98 offset_99 offset_96 offset_97 offset_94 offset_95 offset_92 offset_93 offset_90 offset_91 OP158.3 offset_16 offset_17 offset_14 offset_15 offset_12 offset_13 offset_10 offset_11 offset_18 offset_19 offset_110 offset_111 offset_112 offset_113 offset_114 offset_115 offset_116 offset_117 offset_118 offset_172 offset_173 offset_170 offset_171 offset_176 offset_177 offset_174 offset_175 offset_178 3C454.3 offset_29 offset_28 offset_23 offset_22 offset_21 offset_20 offset_27 offset_26 offset_25 offset_24 offset_107 offset_106 offset_105 offset_104 offset_103 offset_102 offset_101 offset_100 offset_109 offset_108 offset_161 offset_160 offset_163 offset_162 offset_165 offset_164 offset_167 offset_166 offset_169 offset_168 1830-210 offset_38 offset_39 offset_34 offset_35 offset_36 offset_37 offset_30 offset_31 offset_32 offset_33 3C279 3C273 offset_154 offset_155 offset_156 offset_157 offset_150 offset_151 offset_152 offset_153 offset_9 offset_158 offset_159 offset_49 offset_48 OV236 offset_41 offset_40 offset_43 offset_42 offset_45 offset_44 offset_47 offset_46 offset_8 OJ287 offset_4 offset_5 offset_6 offset_7 offset_1 offset_2 offset_3\n",
      "........................................................................................\n",
      "RTS: 2.7.1 Ku-band Offset Pointing\n",
      "m024 m025\n",
      "/var/kat/archive/data/RTS/telescope_products/2016/03/17 1458223401.h5\n",
      "/home/kat/RTS/2.7-Pointing/offset_test_scan.py /home/kat/RTS/neil_sources/sources_bright_Ku.csv -f 12500.5 -r 1 -n off --fine --number-sources=10000 -m 86400 --proposal-id=COMM-RTS --product=c856M4k --sb-id-code=20160317-0012 --description=RTS: 2.7.1 Ku-band Offset Pointing --observer=RTS \n",
      "\n",
      "offset_58 offset_59 offset_52 offset_53 offset_50 offset_51 offset_56 offset_57 offset_54 OV236 offset_187 offset_186 offset_185 offset_184 offset_183 offset_182 offset_181 offset_180 offset_188 offset_69 offset_68 offset_67 offset_66 offset_65 offset_64 offset_63 offset_62 offset_61 offset_60 offset_149 offset_148 offset_143 offset_142 offset_141 offset_140 offset_147 offset_146 offset_145 offset_144 offset_70 offset_71 offset_72 offset_73 offset_74 offset_75 offset_76 offset_77 offset_78 offset_79 offset_179 OJ287 offset_138 offset_139 offset_136 offset_137 offset_134 offset_135 offset_132 offset_133 offset_130 offset_131 offset_89 offset_88 offset_85 offset_84 offset_87 offset_86 offset_81 offset_80 offset_83 offset_82 0454-234 offset_129 offset_128 offset_125 offset_124 offset_127 offset_126 offset_121 offset_120 offset_123 offset_122 offset_98 offset_99 offset_96 offset_97 offset_94 offset_95 offset_92 offset_93 offset_90 offset_91 OP158.3 offset_16 offset_17 offset_14 offset_15 offset_12 offset_13 offset_10 offset_11 offset_18 offset_19 offset_110 offset_111 offset_112 offset_113 offset_114 offset_115 offset_116 offset_117 offset_118 offset_119 offset_172 offset_173 offset_170 offset_171 offset_176 offset_177 offset_174 offset_175 offset_178 3C454.3 offset_29 offset_28 offset_23 offset_22 offset_21 offset_20 offset_27 offset_26 offset_25 offset_24 offset_107 offset_106 offset_105 offset_104 offset_103 offset_102 offset_101 offset_100 offset_109 offset_108 offset_161 offset_160 offset_163 offset_162 offset_165 offset_164 offset_167 offset_166 offset_169 offset_168 1830-210 offset_38 offset_39 offset_34 offset_35 offset_36 offset_37 offset_30 offset_31 offset_32 offset_33 3C279 3C273 offset_154 offset_155 offset_156 offset_157 offset_150 offset_151 offset_152 offset_153 offset_158 offset_159 offset_49 offset_48 offset_41 offset_40 offset_43 offset_42 offset_45 offset_44 offset_47 offset_46 offset_8 offset_9 offset_4 offset_5 offset_6 offset_7 offset_1 offset_2 offset_3\n",
      "........................................................................................\n",
      "RTS: 2.7.1 Ku-band Offset Pointing\n",
      "m024 m025\n",
      "/var/kat/archive/data/RTS/telescope_products/2016/03/18 1458310410.h5\n",
      "/home/kat/RTS/2.7-Pointing/offset_test_scan.py /home/kat/RTS/neil_sources/sources_bright_Ku.csv -f 12500.5 -r 1 -n off --fine --number-sources=10000 -m 86400 --proposal-id=COMM-RTS --product=c856M4k --sb-id-code=20160317-0011 --description=RTS: 2.7.1 Ku-band Offset Pointing --observer=RTS \n",
      "\n",
      "offset_58 offset_59 offset_52 offset_53 offset_50 offset_51 offset_56 offset_57 offset_54 OV236 offset_187 offset_186 offset_185 offset_184 offset_183 offset_182 offset_181 offset_180 offset_188 offset_69 offset_68 offset_67 offset_66 offset_65 offset_64 offset_63 offset_62 offset_61 offset_60 offset_149 offset_148 offset_143 offset_142 offset_141 offset_140 offset_147 offset_146 offset_145 offset_144 offset_70 offset_71 offset_72 offset_73 offset_74 offset_75 offset_76 offset_77 offset_78 offset_79 offset_179 OJ287 offset_138 offset_139 offset_136 offset_137 offset_134 offset_135 offset_132 offset_133 offset_130 offset_131 offset_89 offset_88 offset_85 offset_84 offset_87 offset_86 offset_81 offset_80 offset_83 offset_82 0454-234 offset_129 offset_128 offset_125 offset_124 offset_127 offset_126 offset_121 offset_120 offset_123 offset_122 offset_98 offset_99 offset_96 offset_97 offset_94 offset_95 offset_92 offset_93 offset_90 offset_91 OP158.3 offset_16 offset_17 offset_14 offset_15 offset_12 offset_13 offset_10 offset_11 offset_18 offset_19 offset_110 offset_111 offset_112 offset_113 offset_114 offset_115 offset_116 offset_117 offset_118 offset_119 offset_172 offset_173 offset_170 offset_171 offset_176 offset_177 offset_174 offset_175 offset_178 3C454.3 offset_29 offset_28 offset_23 offset_22 offset_21 offset_20 offset_27 offset_26 offset_25 offset_24 offset_107 offset_106 offset_105 offset_104 offset_103 offset_102 offset_101 offset_100 offset_109 offset_108 offset_161 offset_160 offset_163 offset_162 offset_165 offset_164 offset_167 offset_166 offset_169 offset_168 1830-210 offset_38 offset_39 offset_34 offset_35 offset_36 offset_37 offset_30 offset_31 offset_32 offset_33 3C279 3C273 offset_154 offset_155 offset_156 offset_157 offset_150 offset_151 offset_152 offset_153 offset_158 offset_159 offset_49 offset_48 offset_41 offset_40 offset_43 offset_42 offset_45 offset_44 offset_47 offset_46 offset_8 offset_9 offset_4 offset_5 offset_6 offset_7 offset_1 offset_2 offset_3\n",
      "........................................................................................\n",
      "RTS: 2.7.1 Ku-band Offset Pointing\n",
      "m024 m025\n",
      "/var/kat/archive/data/RTS/telescope_products/2016/03/19 1458397230.h5\n",
      "/home/kat/RTS/2.7-Pointing/offset_test_scan.py /home/kat/RTS/neil_sources/sources_bright_Ku.csv -f 12500.5 -r 1 -n off --fine --number-sources=10000 -m 86400 --proposal-id=COMM-RTS --product=c856M4k --sb-id-code=20160317-0009 --description=RTS: 2.7.1 Ku-band Offset Pointing --observer=RTS \n",
      "\n",
      "offset_58 offset_59 offset_189 offset_52 offset_53 offset_50 offset_51 offset_56 offset_57 offset_54 offset_55 offset_187 offset_186 offset_185 offset_184 offset_183 offset_182 offset_191 offset_181 offset_180 offset_188 offset_69 offset_68 offset_67 offset_66 offset_65 offset_64 offset_63 offset_62 offset_61 offset_60 offset_149 offset_148 offset_143 offset_142 offset_141 offset_140 offset_147 offset_146 offset_145 offset_144 offset_70 offset_71 offset_72 offset_73 offset_74 offset_75 offset_76 offset_77 offset_78 offset_79 offset_179 OJ287 offset_138 offset_139 offset_136 offset_137 offset_134 offset_135 offset_132 offset_133 offset_130 offset_131 offset_89 offset_88 offset_85 offset_84 offset_87 offset_86 offset_81 offset_80 offset_83 offset_82 0454-234 offset_129 offset_128 offset_125 offset_124 offset_127 offset_126 offset_121 offset_120 offset_123 offset_122 offset_98 offset_99 offset_96 offset_97 offset_94 offset_95 offset_92 offset_93 offset_90 offset_91 OP158.3 offset_16 offset_17 offset_14 offset_15 offset_12 offset_13 offset_10 offset_11 offset_190 offset_18 offset_19 offset_110 offset_112 offset_113 offset_114 offset_115 offset_116 offset_117 offset_118 offset_119 offset_172 offset_173 offset_170 offset_171 offset_176 offset_177 offset_174 offset_175 offset_178 3C454.3 offset_29 offset_28 offset_23 offset_22 offset_21 offset_20 offset_27 offset_26 offset_25 offset_24 offset_192 offset_107 offset_106 offset_105 offset_104 offset_103 offset_102 offset_101 offset_100 offset_109 offset_108 offset_161 offset_160 offset_163 offset_162 offset_165 offset_164 offset_167 offset_166 offset_169 offset_168 1830-210 offset_38 offset_39 offset_34 offset_35 offset_36 offset_37 offset_30 offset_31 offset_32 offset_33 3C279 3C273 offset_154 offset_155 offset_156 offset_157 offset_150 offset_151 offset_152 offset_153 offset_158 offset_159 offset_49 offset_48 OV236 offset_41 offset_40 offset_43 offset_42 offset_45 offset_44 offset_47 offset_46 offset_8 offset_9 offset_4 offset_5 offset_6 offset_7 offset_1 offset_2 offset_3\n",
      "........................................................................................\n",
      "RTS: 2.7.1 Ku-band Offset Pointing\n",
      "m024 m025\n",
      "/var/kat/archive/data/RTS/telescope_products/2016/03/20 1458485380.h5\n",
      "/home/kat/RTS/2.7-Pointing/offset_test_scan.py /home/kat/RTS/neil_sources/sources_bright_Ku.csv -f 12500.5 -r 1 -n off --fine --number-sources=10000 -m 86400 --proposal-id=COMM-RTS --product=c856M4k --sb-id-code=20160317-0010 --description=RTS: 2.7.1 Ku-band Offset Pointing --observer=RTS \n",
      "\n",
      "offset_58 offset_59 offset_189 offset_52 offset_53 offset_50 offset_51 offset_56 offset_57 offset_54 offset_55 offset_187 offset_186 offset_185 offset_184 offset_183 offset_182 offset_191 offset_181 offset_180 offset_188 offset_69 offset_68 offset_67 offset_66 offset_65 offset_64 offset_63 offset_62 offset_61 offset_60 offset_149 offset_148 offset_143 offset_142 offset_141 offset_140 offset_147 offset_146 offset_145 offset_144 offset_70 offset_71 offset_72 offset_73 offset_74 offset_75 offset_76 offset_77 offset_78 offset_79 offset_179 OJ287 offset_138 offset_139 offset_136 offset_137 offset_134 offset_135 offset_132 offset_133 offset_130 offset_131 offset_89 offset_88 offset_85 offset_84 offset_87 offset_86 offset_81 offset_80 offset_83 offset_82 0454-234 offset_129 offset_128 offset_125 offset_124 offset_127 offset_126 offset_121 offset_120 offset_123 offset_122 offset_98 offset_99 offset_96 offset_97 offset_94 offset_95 offset_92 offset_93 offset_90 offset_91 OP158.3 offset_16 offset_17 offset_14 offset_15 offset_12 offset_13 offset_10 offset_11 offset_190 offset_18 offset_19 offset_110 offset_111 offset_112 offset_113 offset_114 offset_115 offset_116 offset_117 offset_118 offset_119 offset_172 offset_173 offset_170 offset_171 offset_176 offset_177 offset_174 offset_175 offset_178 3C454.3 offset_29 offset_28 offset_23 offset_22 offset_21 offset_20 offset_27 offset_26 offset_25 offset_24 offset_192 offset_106 offset_105 offset_104 offset_103 offset_102 offset_101 offset_100 offset_109 offset_108 offset_161 offset_160 offset_163 offset_162 offset_165 offset_164 offset_167 offset_166 offset_169 offset_168 1830-210 offset_38 offset_39 offset_34 offset_35 offset_36 offset_37 offset_30 offset_31 offset_32 offset_33 3C279 3C273 offset_154 offset_155 offset_156 offset_157 offset_150 offset_151 offset_152 offset_153 offset_158 offset_159 offset_49 offset_48 OV236 offset_41 offset_40 offset_43 offset_42 offset_45 offset_44 offset_47 offset_46 offset_8 offset_9 offset_4 offset_5 offset_6 offset_7 offset_1 offset_2 offset_3\n",
      "........................................................................................\n",
      "RTS: 2.7.1 Ku-band Offset Pointing\n",
      "m024 m025\n",
      "/var/kat/archive/data/RTS/telescope_products/2016/03/21 1458573342.h5\n",
      "/home/kat/RTS/2.7-Pointing/offset_test_scan.py /home/kat/RTS/neil_sources/sources_bright_Ku.csv -f 12500.5 -r 1 -n off --fine --number-sources=10000 -m 86400 --proposal-id=COMM-RTS --product=c856M4k --sb-id-code=20160317-0017 --description=RTS: 2.7.1 Ku-band Offset Pointing --observer=RTS \n",
      "\n",
      "offset_58 offset_59 offset_52 offset_53 offset_50 offset_51 offset_56 offset_57 offset_54 offset_55 offset_69 offset_68 offset_67 offset_66 offset_65 offset_64 offset_63 offset_62 offset_61 offset_60 offset_148 offset_143 offset_142 offset_141 offset_140 offset_147 offset_146 offset_145 offset_144 offset_70 offset_71 offset_72 offset_73 offset_74 offset_75 offset_76 offset_77 offset_78 offset_79 OJ287 offset_138 offset_139 offset_136 offset_137 offset_134 offset_135 offset_132 offset_133 offset_130 offset_131 offset_89 offset_88 offset_85 offset_84 offset_87 offset_86 offset_81 offset_80 offset_83 offset_82 0454-234 offset_129 offset_128 offset_125 offset_124 offset_127 offset_126 offset_121 offset_120 offset_123 offset_122 offset_98 offset_99 offset_96 offset_97 offset_94 offset_95 offset_92 offset_93 offset_90 offset_91 OP158.3 offset_16 offset_17 offset_14 offset_15 offset_12 offset_13 offset_10 offset_11 offset_18 offset_19 offset_110 offset_111 offset_112 offset_113 offset_114 offset_115 offset_116 3C454.3 offset_118 offset_119 offset_117 offset_29 offset_28 offset_26 offset_23 offset_22 offset_21 offset_20 offset_27 OV236 offset_25 offset_24 offset_107 offset_106 offset_105 offset_104 offset_102 offset_101 offset_100 offset_109 offset_108 1830-210 offset_38 offset_39 offset_34 offset_35 offset_36 offset_37 offset_30 offset_31 offset_32 offset_33 3C279 3C273 offset_49 offset_48 offset_41 offset_40 offset_43 offset_42 offset_45 offset_44 offset_47 offset_46 offset_8 offset_9 offset_4 offset_5 offset_6 offset_7 offset_1 offset_2 offset_3\n",
      "........................................................................................\n",
      "RTS: 2.7.1 Ku-band Offset Pointing\n",
      "m024 m025\n",
      "/var/kat/archive/data/RTS/telescope_products/2016/03/22 1458655681.h5\n",
      "/home/kat/RTS/2.7-Pointing/offset_test_scan.py /home/kat/RTS/neil_sources/sources_bright_Ku.csv -f 12500.5 -r 1 -n off --fine --number-sources=10000 -m 86400 --proposal-id=COMM-RTS --product=c856M4k --sb-id-code=20160322-0004 --description=RTS: 2.7.1 Ku-band Offset Pointing --observer=RTS \n",
      "\n",
      "offset_58 offset_59 offset_52 offset_53 offset_50 offset_51 offset_56 offset_57 offset_54 offset_55 offset_69 offset_68 offset_67 offset_66 offset_65 offset_64 offset_63 offset_62 offset_61 offset_60 offset_70 offset_71 offset_72 offset_73 offset_74 offset_75 offset_76 offset_77 offset_78 offset_79 OJ287 offset_89 offset_88 offset_85 offset_84 offset_87 offset_86 offset_81 offset_80 offset_83 offset_82 0454-234 offset_128 offset_125 offset_124 offset_127 offset_126 offset_121 offset_120 offset_123 offset_122 offset_98 offset_99 offset_96 offset_97 offset_94 offset_95 offset_92 offset_93 offset_90 offset_91 OP158.3 offset_16 offset_17 offset_14 offset_15 offset_12 offset_13 offset_10 offset_11 offset_18 offset_19 offset_110 offset_112 offset_113 offset_114 offset_115 offset_116 offset_117 offset_118 offset_119 offset_29 offset_28 offset_23 offset_22 offset_21 offset_20 offset_27 offset_26 offset_25 offset_24 offset_107 offset_106 offset_105 offset_104 offset_103 offset_102 offset_101 offset_100 offset_109 offset_108 1830-210 offset_38 offset_39 offset_34 offset_35 offset_36 offset_37 offset_30 offset_31 offset_32 offset_33 3C279 3C273 offset_49 offset_48 OV236 offset_41 offset_40 offset_43 offset_42 offset_45 offset_44 offset_47 offset_46 offset_8 offset_9 offset_4 offset_5 offset_6 offset_7 offset_1 offset_2 offset_3\n",
      "........................................................................................\n",
      "RTS: 2.7.1 Ku-band Offset Pointing\n",
      "m024 m025\n",
      "/var/kat/archive/data/RTS/telescope_products/2016/03/24 1458829366.h5\n",
      "/home/kat/RTS/2.7-Pointing/offset_test_scan.py /home/kat/RTS/neil_sources/sources_bright_Ku.csv -f 12500.5 -r 1 -n off --fine --number-sources=10000 -m 86400 --proposal-id=COMM-RTS --product=c856M4k --sb-id-code=20160324-0007 --description=RTS: 2.7.1 Ku-band Offset Pointing --observer=RTS \n",
      "\n",
      "offset_58 offset_59 offset_52 offset_53 offset_50 offset_51 offset_56 offset_57 offset_54 offset_55 offset_69 offset_68 offset_67 offset_66 offset_65 offset_64 offset_63 offset_62 offset_61 offset_60 offset_149 offset_148 offset_143 offset_142 offset_141 offset_140 offset_147 offset_146 offset_145 offset_144 offset_70 offset_71 offset_72 offset_73 offset_74 offset_75 offset_76 offset_77 offset_78 offset_79 OJ287 offset_138 offset_139 offset_136 offset_137 offset_134 offset_135 offset_132 offset_133 offset_130 offset_131 offset_89 offset_88 offset_85 offset_84 offset_87 offset_86 offset_81 offset_80 offset_83 offset_82 0454-234 offset_129 offset_128 offset_125 offset_124 offset_127 offset_126 offset_121 offset_120 offset_123 offset_122 offset_98 offset_99 offset_96 offset_97 offset_94 offset_95 offset_92 offset_93 offset_90 offset_91 OP158.3 offset_16 offset_17 offset_14 offset_15 offset_12 offset_13 offset_10 offset_11 offset_18 offset_19 offset_110 offset_111 offset_112 offset_113 offset_114 offset_115 offset_116 3C454.3 offset_118 offset_119 offset_117 offset_29 offset_28 offset_23 offset_22 offset_21 offset_20 offset_27 offset_26 offset_25 offset_24 offset_107 offset_106 offset_105 offset_104 offset_103 offset_102 offset_101 offset_100 offset_109 offset_108 offset_161 offset_160 offset_163 offset_162 offset_164 1830-210 offset_38 offset_39 offset_34 offset_35 offset_36 offset_37 offset_30 offset_31 offset_32 offset_33 3C279 3C273 offset_154 offset_155 offset_156 offset_157 offset_150 offset_151 offset_152 offset_153 offset_158 offset_159 offset_49 offset_48 OV236 offset_41 offset_40 offset_43 offset_42 offset_45 offset_44 offset_47 offset_46 offset_8 offset_9 offset_4 offset_5 offset_6 offset_7 offset_1 offset_2 offset_3\n",
      "........................................................................................\n",
      "RTS: 2.7.1 Ku-band Offset Pointing\n",
      "m024 m025\n",
      "/var/kat/archive/data/RTS/telescope_products/2016/03/26 1458976830.h5\n",
      "/home/kat/RTS/2.7-Pointing/offset_test_scan.py /home/kat/RTS/neil_sources/sources_bright_Ku.csv -f 12500.5 -r 1 -n off --fine --number-sources=10000 -m 48000 --proposal-id=COMM-RTS --product=c856M4k --sb-id-code=20160326-0009 --description=RTS: 2.7.1 Ku-band Offset Pointing --observer=RTS \n",
      "\n",
      "offset_58 offset_59 offset_52 offset_53 offset_50 offset_51 offset_56 offset_57 offset_54 offset_55 offset_69 offset_68 offset_67 offset_66 offset_65 offset_64 offset_63 offset_62 offset_61 offset_60 3C273 offset_70 offset_71 offset_72 offset_73 offset_74 offset_75 offset_76 offset_77 offset_78 offset_79 offset_89 offset_88 offset_85 offset_84 offset_87 offset_86 offset_81 offset_80 offset_83 offset_82 0454-234 offset_96 offset_94 offset_95 offset_92 offset_93 offset_90 offset_91 OP158.3 offset_16 offset_17 offset_14 offset_15 offset_12 offset_13 offset_10 offset_11 offset_18 offset_19 3C454.3 offset_29 offset_28 offset_23 offset_22 offset_21 offset_20 offset_27 offset_26 offset_25 offset_24 1830-210 offset_38 offset_39 offset_34 offset_35 offset_36 offset_37 offset_30 offset_31 offset_32 offset_33 3C279 offset_9 offset_49 offset_48 OV236 offset_41 offset_40 offset_43 offset_42 offset_45 offset_44 offset_47 offset_46 offset_8 OJ287 offset_4 offset_5 offset_6 offset_7 offset_1 offset_2 offset_3\n",
      "........................................................................................\n",
      "RTS: 2.7.1 Ku-band Offset Pointing\n",
      "m024 m025\n",
      "/var/kat/archive/data/RTS/telescope_products/2016/03/26 1459029923.h5\n",
      "/home/kat/RTS/2.7-Pointing/offset_test_scan.py /home/kat/RTS/neil_sources/sources_bright_Ku.csv -f 12500.5 -r 1 -n off --fine --number-sources=10000 -m 86400 --proposal-id=COMM-RTS --product=c856M4k --sb-id-code=20160326-0001 --description=RTS: 2.7.1 Ku-band Offset Pointing --observer=RTS \n",
      "\n",
      "offset_58 offset_59 offset_52 offset_53 offset_50 offset_51 offset_56 offset_57 offset_54 offset_55 offset_69 offset_68 offset_67 offset_66 offset_65 offset_64 offset_63 offset_62 offset_61 offset_60 offset_149 offset_148 offset_143 offset_142 offset_141 offset_140 offset_147 offset_146 offset_145 offset_144 offset_70 offset_71 offset_72 offset_73 offset_74 offset_75 offset_76 offset_77 offset_78 offset_79 offset_138 offset_139 offset_136 offset_137 offset_134 offset_135 offset_132 offset_133 offset_130 offset_131 offset_89 offset_88 offset_85 offset_84 offset_87 offset_86 offset_81 offset_80 offset_83 offset_82 0454-234 offset_129 offset_128 offset_125 offset_124 offset_127 offset_126 offset_121 offset_120 offset_123 offset_122 offset_98 offset_99 offset_96 offset_97 offset_94 offset_95 offset_92 offset_93 offset_90 offset_91 OP158.3 offset_16 offset_17 offset_14 offset_15 offset_12 offset_13 offset_10 offset_11 offset_18 offset_19 offset_110 offset_111 offset_112 offset_113 offset_114 offset_115 offset_116 3C454.3 offset_118 offset_119 offset_172 offset_170 offset_171 offset_117 offset_29 offset_28 offset_23 offset_22 offset_21 offset_20 offset_27 offset_26 offset_25 offset_24 offset_107 offset_106 offset_105 offset_104 offset_103 offset_102 offset_101 offset_100 offset_109 offset_108 offset_161 offset_160 offset_163 offset_162 offset_165 offset_164 offset_167 offset_166 offset_169 offset_168 1830-210 offset_38 offset_39 offset_34 offset_35 offset_36 offset_37 offset_30 offset_31 offset_32 offset_33 3C279 3C273 offset_154 offset_155 offset_156 offset_157 offset_150 offset_151 offset_152 offset_153 offset_9 offset_158 offset_159 offset_49 offset_48 OV236 offset_41 offset_40 offset_43 offset_42 offset_45 offset_44 offset_47 offset_46 offset_8 OJ287 offset_4 offset_5 offset_6 offset_7 offset_1 offset_2 offset_3\n",
      "........................................................................................\n",
      "RTS: 2.7.1 Ku-band Offset Pointing\n",
      "m024 m025\n",
      "/var/kat/archive/data/RTS/telescope_products/2016/03/27 1459118094.h5\n",
      "/home/kat/RTS/2.7-Pointing/offset_test_scan.py /home/kat/RTS/neil_sources/sources_bright_Ku.csv -f 12500.5 -r 1 -n off --fine --number-sources=10000 -m 86400 --proposal-id=COMM-RTS --product=c856M4k --sb-id-code=20160325-0012 --description=RTS: 2.7.1 Ku-band Offset Pointing --observer=RTS \n",
      "\n",
      "offset_58 offset_59 offset_53 offset_50 offset_51 offset_56 offset_57 offset_54 offset_55 offset_69 offset_68 offset_67 offset_66 offset_65 offset_64 offset_63 offset_62 offset_61 offset_60 offset_70 offset_71 offset_72 offset_73 offset_74 offset_75 offset_76 offset_77 offset_78 offset_79 offset_89 offset_88 offset_85 offset_84 offset_87 offset_86 offset_81 offset_80 offset_83 offset_82 0454-234 offset_98 offset_99 offset_96 offset_97 offset_94 offset_95 offset_92 offset_93 offset_90 offset_91 OP158.3 offset_16 offset_17 offset_14 offset_15 offset_12 offset_13 offset_10 offset_11 offset_18 offset_19 offset_110 offset_111 offset_112 offset_113 offset_114 offset_115 offset_116 offset_29 offset_28 offset_23 offset_22 offset_21 offset_20 offset_27 offset_26 offset_25 offset_24 offset_107 offset_106 offset_105 offset_104 offset_103 offset_102 offset_101 offset_100 offset_109 offset_108 1830-210 offset_38 offset_39 offset_34 offset_35 offset_36 offset_37 offset_30 offset_31 offset_32 offset_33 3C279 3C273 offset_9 offset_49 offset_48 OV236 offset_41 offset_40 offset_43 offset_42 offset_45 offset_44 offset_47 offset_46 offset_8 OJ287 offset_4 offset_5 offset_6 offset_7 offset_1 offset_2 offset_3\n",
      "........................................................................................\n",
      "RTS: 2.7.1 Ku-band Offset Pointing\n",
      "m024 m025\n",
      "/var/kat/archive/data/RTS/telescope_products/2016/03/28 1459206272.h5\n",
      "/home/kat/RTS/2.7-Pointing/offset_test_scan.py /home/kat/RTS/neil_sources/sources_bright_Ku.csv -f 12500.5 -r 1 -n off --fine --number-sources=10000 -m 86400 --proposal-id=COMM-RTS --product=c856M4k --sb-id-code=20160325-0014 --description=RTS: 2.7.1 Ku-band Offset Pointing --observer=RTS \n",
      "\n",
      "offset_64 offset_56 offset_65 1830-210 offset_61 offset_60 offset_38 offset_39 offset_34 offset_35 offset_36 offset_19 offset_30 offset_31 offset_32 offset_33 offset_16 offset_17 offset_14 offset_15 offset_12 offset_13 offset_10 offset_11 offset_52 offset_53 offset_50 offset_51 offset_37 offset_57 offset_18 OP158.3 offset_59 offset_62 3C279 3C454.3 offset_54 3C273 offset_58 offset_55 offset_63 offset_29 offset_28 offset_26 offset_23 offset_22 offset_21 offset_20 offset_27 OV236 offset_25 offset_24 offset_49 offset_48 offset_41 offset_40 offset_43 offset_42 offset_45 offset_44 offset_47 offset_46 offset_67 offset_8 offset_9 offset_66 offset_4 offset_5 offset_6 offset_7 offset_1 offset_2 offset_3\n",
      "........................................................................................\n",
      "RTS: 2.7.1 Ku-band Offset Pointing\n",
      "m024 m025\n",
      "/var/kat/archive/data/RTS/telescope_products/2016/03/29 1459240936.h5\n",
      "/home/kat/RTS/2.7-Pointing/offset_test_scan.py /home/kat/RTS/neil_sources/sources_bright_Ku.csv -f 12500.5 -r 1 -n off --fine --number-sources=10000 -m 86400 --proposal-id=COMM-RTS --product=c856M4k --sb-id-code=20160329-0001 --description=RTS: 2.7.1 Ku-band Offset Pointing --observer=RTS \n",
      "\n",
      "1830-210 offset_16 offset_17 offset_14 offset_15 offset_12 offset_13 offset_10 offset_11 offset_18 offset_19 3C454.3 OV236 0454-234 offset_8 offset_9 offset_4 offset_5 offset_6 offset_7 offset_1 offset_2 offset_3\n",
      "........................................................................................\n",
      "RTS: 2.7.1 Ku-band Offset Pointing\n",
      "m024 m025\n",
      "/var/kat/archive/data/RTS/telescope_products/2016/03/29 1459261880.h5\n",
      "/home/kat/RTS/2.7-Pointing/offset_test_scan.py /home/kat/RTS/neil_sources/sources_bright_Ku.csv -f 12500.5 -r 1 -n off --fine --number-sources=10000 -m 86400 --proposal-id=COMM-RTS --product=c856M4k --sb-id-code=20160329-0003 --description=RTS: 2.7.1 Ku-band Offset Pointing --observer=RTS \n",
      "\n",
      "offset_58 offset_59 offset_52 offset_53 offset_50 offset_51 offset_56 offset_57 offset_54 offset_55 offset_69 offset_68 offset_67 offset_66 offset_65 offset_64 offset_63 offset_62 offset_61 offset_60 offset_70 offset_71 offset_72 offset_73 offset_74 offset_75 offset_76 offset_77 offset_78 offset_79 OJ287 offset_89 offset_88 offset_85 offset_84 offset_87 offset_86 offset_81 offset_80 offset_83 offset_82 0454-234 offset_121 offset_120 offset_98 offset_99 offset_96 offset_97 offset_94 offset_95 offset_92 offset_93 offset_90 offset_91 OP158.3 offset_16 offset_17 offset_14 offset_15 offset_12 offset_13 offset_10 offset_11 offset_18 offset_19 offset_110 offset_111 offset_112 offset_113 offset_114 offset_115 offset_116 3C454.3 offset_118 offset_119 offset_117 offset_29 offset_28 offset_26 offset_23 offset_22 offset_21 offset_20 offset_27 OV236 offset_25 offset_24 offset_107 offset_106 offset_105 offset_104 offset_103 offset_102 offset_101 offset_100 offset_109 offset_108 1830-210 offset_38 offset_39 offset_34 offset_35 offset_36 offset_37 offset_30 offset_31 offset_32 offset_33 3C279 3C273 offset_49 offset_48 offset_41 offset_40 offset_43 offset_42 offset_45 offset_44 offset_47 offset_46 offset_8 offset_9 offset_4 offset_5 offset_6 offset_7 offset_1 offset_2 offset_3\n",
      "........................................................................................\n",
      "RTS: 2.7.1 Ku-band Offset Pointing\n",
      "m024 m025\n",
      "/var/kat/archive/data/RTS/telescope_products/2016/03/30 1459347258.h5\n",
      "/home/kat/RTS/2.7-Pointing/offset_test_scan.py /home/kat/RTS/neil_sources/sources_bright_Ku.csv -f 12500.5 -r 1 -n off --fine --number-sources=10000 -m 86400 --proposal-id=COMM-RTS --product=c856M4k --sb-id-code=20160330-0005 --description=RTS: 2.7.1 Ku-band Offset Pointing --observer=RTS \n",
      "\n",
      "offset_58 offset_59 offset_52 offset_53 offset_50 offset_51 offset_56 offset_57 offset_54 offset_55 offset_69 offset_68 offset_67 offset_66 offset_65 offset_64 offset_63 offset_62 offset_61 offset_60 offset_149 offset_148 offset_143 offset_142 offset_141 offset_140 offset_147 offset_146 offset_145 offset_144 offset_70 offset_71 offset_72 offset_73 offset_74 offset_75 offset_76 offset_77 offset_78 offset_79 OJ287 offset_138 offset_139 offset_136 offset_137 offset_134 offset_135 offset_132 offset_133 offset_130 offset_131 offset_89 offset_88 offset_85 offset_84 offset_87 offset_86 offset_81 offset_80 offset_83 offset_82 0454-234 offset_129 offset_128 offset_125 offset_124 offset_127 offset_126 offset_121 offset_120 offset_123 offset_122 offset_98 offset_99 offset_96 offset_97 offset_94 offset_95 offset_92 offset_93 offset_90 offset_91 OP158.3 offset_16 offset_17 offset_14 offset_15 offset_12 offset_13 offset_10 offset_11 offset_18 offset_19 offset_110 offset_111 offset_112 offset_113 offset_114 offset_115 offset_116 3C454.3 offset_118 offset_119 offset_117 offset_29 offset_28 offset_26 offset_23 offset_22 offset_21 offset_20 offset_27 OV236 offset_25 offset_24 offset_107 offset_106 offset_105 offset_104 offset_103 offset_102 offset_101 offset_100 offset_109 offset_108 offset_161 offset_160 offset_163 offset_162 offset_165 offset_164 offset_167 offset_166 offset_168 1830-210 offset_38 offset_39 offset_34 offset_35 offset_36 offset_37 offset_30 offset_31 offset_32 offset_33 3C279 3C273 offset_154 offset_156 offset_157 offset_150 offset_151 offset_152 offset_153 offset_158 offset_159 offset_49 offset_48 offset_41 offset_40 offset_43 offset_42 offset_45 offset_44 offset_47 offset_46 offset_8 offset_9 offset_4 offset_5 offset_6 offset_7 offset_1 offset_2 offset_3\n",
      "........................................................................................\n",
      "RTS: 2.7.1 Ku-band Offset Pointing\n",
      "m024 m025\n",
      "/var/kat/archive/data/RTS/telescope_products/2016/03/31 1459434348.h5\n",
      "/home/kat/RTS/2.7-Pointing/offset_test_scan.py /home/kat/RTS/neil_sources/sources_bright_Ku.csv -f 12500.5 -r 1 -n off --fine --number-sources=10000 -m 86400 --proposal-id=COMM-RTS --product=c856M4k --sb-id-code=20160331-0001 --description=RTS: 2.7.1 Ku-band Offset Pointing --observer=RTS \n",
      "\n",
      "offset_58 offset_59 offset_52 offset_53 offset_50 offset_51 offset_56 offset_57 offset_54 offset_55 offset_69 offset_68 offset_67 offset_66 offset_65 offset_64 offset_63 offset_62 offset_61 offset_60 offset_149 offset_148 offset_143 offset_142 offset_141 offset_140 offset_147 offset_146 offset_145 offset_144 offset_70 offset_71 offset_72 offset_73 offset_74 offset_75 offset_76 offset_77 offset_78 offset_79 OJ287 offset_138 offset_139 offset_136 offset_137 offset_134 offset_135 offset_132 offset_133 offset_130 offset_131 offset_89 offset_88 offset_85 offset_84 offset_87 offset_86 offset_81 offset_80 offset_83 offset_82 0454-234 offset_129 offset_128 offset_125 offset_124 offset_127 offset_126 offset_121 offset_120 offset_123 offset_122 offset_98 offset_99 offset_96 offset_97 offset_94 offset_95 offset_92 offset_93 offset_90 offset_91 OP158.3 offset_16 offset_17 offset_14 offset_15 offset_12 offset_13 offset_10 offset_11 offset_18 offset_19 offset_110 offset_111 offset_112 offset_113 offset_114 offset_115 offset_116 3C454.3 offset_118 offset_119 offset_117 offset_29 offset_28 offset_26 offset_23 offset_22 offset_21 offset_20 offset_27 OV236 offset_25 offset_24 offset_107 offset_106 offset_105 offset_104 offset_103 offset_102 offset_101 offset_100 offset_109 offset_108 1830-210 offset_38 offset_39 offset_34 offset_35 offset_36 offset_37 offset_30 offset_31 offset_32 offset_33 3C279 3C273 offset_150 offset_151 offset_152 offset_153 offset_49 offset_48 offset_41 offset_40 offset_43 offset_42 offset_45 offset_44 offset_47 offset_46 offset_8 offset_9 offset_4 offset_5 offset_6 offset_7 offset_1 offset_2 offset_3\n",
      "........................................................................................\n"
     ]
    }
   ],
   "source": [
    "for fi in f:\n",
    "    print fi.metadata.Description\n",
    "    print listpr(fi.metadata.Antennas)\n",
    "    print fi.metadata.FileLocation, findh5(fi.metadata.Details)\n",
    "    print fi.metadata.InstructionSet,\"\\n\"\n",
    "    print listpr(fi.metadata.Targets)\n",
    "    print \".\"*88\n",
    "    "
   ]
  },
  {
   "cell_type": "code",
   "execution_count": 9,
   "metadata": {
    "collapsed": false
   },
   "outputs": [
    {
     "data": {
      "text/plain": [
       "[['1', '2016-03-01 09:00:05 SAST', 'RTS', [1312532106]],\n",
       " ['1', '2016-03-01 13:49:45 SAST', 'RTS', [2187211863]],\n",
       " ['1', '2016-03-01 15:26:56 SAST', 'RTS', [11535729856]],\n",
       " ['1', '2016-03-03 18:49:54 SAST', 'RTS', [4924854447]],\n",
       " ['1', '2016-03-03 23:27:44 SAST', 'RTS', [6428677000]],\n",
       " ['1', '2016-03-04 06:32:38 SAST', 'RTS', [3261583091]],\n",
       " ['1', '2016-03-04 08:35:31 SAST', 'RTS', [2565790342]],\n",
       " ['1', '2016-03-05 20:39:01 SAST', 'RTS', [19461823476]],\n",
       " ['1', '2016-03-06 09:00:30 SAST', 'RTS', [19655953299]],\n",
       " ['1', '2016-03-06 21:16:41 SAST', 'RTS', [19798478917]],\n",
       " ['1', '2016-03-07 09:41:49 SAST', 'RTS', [19512991570]],\n",
       " ['1', '2016-03-07 21:52:35 SAST', 'RTS', [19500846726]],\n",
       " ['1', '2016-03-08 10:02:56 SAST', 'RTS', [19625296574]],\n",
       " ['1', '2016-03-08 22:21:24 SAST', 'RTS', [19657811631]],\n",
       " ['1', '2016-03-09 10:37:35 SAST', 'RTS', [4605933403]],\n",
       " ['1', '2016-03-09 13:35:05 SAST', 'RTS', [3965388778]],\n",
       " ['1', '2016-03-09 22:00:24 SAST', 'RTS', [10538804270]],\n",
       " ['1', '2016-03-10 22:00:25 SAST', 'RTS', [19407947708]],\n",
       " ['1', '2016-03-11 10:07:17 SAST', 'RTS', [8867906616]],\n",
       " ['1', '2016-03-11 22:00:24 SAST', 'RTS', [39098233147]],\n",
       " ['1', '2016-03-12 22:27:28 SAST', 'RTS', [38604057534]],\n",
       " ['1', '2016-03-13 22:35:52 SAST', 'RTS', [38586325871]],\n",
       " ['1', '2016-03-14 22:43:41 SAST', 'RTS', [39038048487]],\n",
       " ['1', '2016-03-16 15:30:47 SAST', 'RTS', [37895907076]],\n",
       " ['1', '2016-03-17 16:03:22 SAST', 'RTS', [38641618161]],\n",
       " ['1', '2016-03-18 16:13:31 SAST', 'RTS', [38556296565]],\n",
       " ['1', '2016-03-19 16:20:31 SAST', 'RTS', [39129385870]],\n",
       " ['1', '2016-03-20 16:49:41 SAST', 'RTS', [39068739141]],\n",
       " ['1', '2016-03-21 17:15:43 SAST', 'RTS', [30421033767]],\n",
       " ['1', '2016-03-22 16:08:03 SAST', 'RTS', [27471300870]],\n",
       " ['1', '2016-03-24 16:22:47 SAST', 'RTS', [38664344523]],\n",
       " ['1', '2016-03-26 09:20:31 SAST', 'RTS', [21719964619]],\n",
       " ['1', '2016-03-27 00:05:24 SAST', 'RTS', [39170674682]],\n",
       " ['1', '2016-03-28 00:34:55 SAST', 'RTS', [39171899455]],\n",
       " ['1', '2016-03-29 01:04:33 SAST', 'RTS', [15418023309]],\n",
       " ['1', '2016-03-29 10:42:18 SAST', 'RTS', [4214026293]],\n",
       " ['1', '2016-03-29 16:31:22 SAST', 'RTS', [28016383043]],\n",
       " ['1', '2016-03-30 16:14:20 SAST', 'RTS', [38684187734]],\n",
       " ['1', '2016-03-31 16:25:49 SAST', 'RTS', [35610357063]]]"
      ]
     },
     "execution_count": 9,
     "metadata": {},
     "output_type": "execute_result"
    }
   ],
   "source": [
    "f"
   ]
  },
  {
   "cell_type": "code",
   "execution_count": 10,
   "metadata": {
    "collapsed": false
   },
   "outputs": [
    {
     "name": "stdout",
     "output_type": "stream",
     "text": [
      "01 1456815604.h5 RTS: 2.7 L-band Pointing L Band m031\n",
      "01 1456832984.h5 RTS: 2.7 L-band Pointing L Band m031 m034\n",
      "01 1456838815.h5 RTS: 2.7 L-band Pointing L Band m031 m034\n",
      "03 1457023793.h5 RTS: 2.7.1 Ku-band Offset Pointing 30 sources m024 m025\n",
      "03 1457040463.h5 RTS: 2.7.1 Ku-band Offset Pointing 30 sources m024 m025\n",
      "04 1457065957.h5 RTS: 2.7.1 Ku-band Offset Pointing 30 sources m024 m025\n",
      "04 1457073330.h5 RTS: 2.7.1 Ku-band Offset Pointing 30 sources m024 m025\n",
      "05 1457203140.h5 RTS: 2.7.1 Ku-band Offset Pointing 30 sources m024 m025\n",
      "06 1457247629.h5 RTS: 2.7.1 Ku-band Offset Pointing 30 sources m024 m025\n",
      "06 1457291800.h5 RTS: 2.7.1 Ku-band Offset Pointing 30 sources m024 m025\n",
      "07 1457336508.h5 RTS: 2.7.1 Ku-band Offset Pointing 30 sources m024 m025\n",
      "07 1457380354.h5 RTS: 2.7.1 Ku-band Offset Pointing 30 sources m024 m025\n",
      "08 1457424175.h5 RTS: 2.7.1 Ku-band Offset Pointing 30 sources m024 m025\n",
      "08 1457468483.h5 RTS: 2.7.1 Ku-band Offset Pointing 30 sources m024 m025\n",
      "09 1457512654.h5 RTS: 2.7.1 Ku-band Offset Pointing 30 sources m024 m025\n",
      "09 1457523303.h5 RTS: 2.7.1 Ku-band Offset Pointing m024 m025\n",
      "09 1457553623.h5 RTS: 2.7.1 Ku-band Offset Pointing m024 m025\n",
      "10 1457640024.h5 RTS: 2.7.1 Ku-band Offset Pointing m024 m025\n",
      "11 1457683635.h5 RTS: 2.7.1 Ku-band Offset Pointing m024 m025\n",
      "11 1457726423.h5 RTS: 2.7.1 Ku-band Offset Pointing m024 m025\n",
      "12 1457814448.h5 RTS: 2.7.1 Ku-band Offset Pointing m024 m025\n",
      "13 1457901351.h5 RTS: 2.7.1 Ku-band Offset Pointing m024 m025\n",
      "14 1457988220.h5 RTS: 2.7.1 Ku-band Offset Pointing m024 m025\n",
      "16 1458135046.h5 RTS: 2.7.1 Ku-band Offset Pointing m024 m025\n",
      "17 1458223401.h5 RTS: 2.7.1 Ku-band Offset Pointing m024 m025\n",
      "18 1458310410.h5 RTS: 2.7.1 Ku-band Offset Pointing m024 m025\n",
      "19 1458397230.h5 RTS: 2.7.1 Ku-band Offset Pointing m024 m025\n",
      "20 1458485380.h5 RTS: 2.7.1 Ku-band Offset Pointing m024 m025\n",
      "21 1458573342.h5 RTS: 2.7.1 Ku-band Offset Pointing m024 m025\n",
      "22 1458655681.h5 RTS: 2.7.1 Ku-band Offset Pointing m024 m025\n",
      "24 1458829366.h5 RTS: 2.7.1 Ku-band Offset Pointing m024 m025\n",
      "26 1458976830.h5 RTS: 2.7.1 Ku-band Offset Pointing m024 m025\n",
      "27 1459029923.h5 RTS: 2.7.1 Ku-band Offset Pointing m024 m025\n",
      "28 1459118094.h5 RTS: 2.7.1 Ku-band Offset Pointing m024 m025\n",
      "29 1459206272.h5 RTS: 2.7.1 Ku-band Offset Pointing m024 m025\n",
      "29 1459240936.h5 RTS: 2.7.1 Ku-band Offset Pointing m024 m025\n",
      "29 1459261880.h5 RTS: 2.7.1 Ku-band Offset Pointing m024 m025\n",
      "30 1459347258.h5 RTS: 2.7.1 Ku-band Offset Pointing m024 m025\n",
      "31 1459434348.h5 RTS: 2.7.1 Ku-band Offset Pointing m024 m025\n"
     ]
    }
   ],
   "source": [
    "for fi in f:\n",
    "    x= repr(fi)\n",
    "    pr=x.split(\",\")\n",
    "    print pr[1][10:12],findh5(fi.metadata.Details) , fi.metadata.Description, listpr(fi.metadata.Antennas)"
   ]
  },
  {
   "cell_type": "code",
   "execution_count": 11,
   "metadata": {
    "collapsed": false
   },
   "outputs": [
    {
     "name": "stdout",
     "output_type": "stream",
     "text": [
      "Searched using: CAS.ProductTypeName:(RTSTelescopeProduct) AND CAS.ProductTransferStatus:RECEIVED AND Description:Interferometric_Pointing AND StartTime:[2016-02-29T22:00:00Z TO 2016-03-31T21:59:59Z]\n",
      "Returning 0 results\n"
     ]
    },
    {
     "data": {
      "text/plain": [
       "[]"
      ]
     },
     "execution_count": 11,
     "metadata": {},
     "output_type": "execute_result"
    }
   ],
   "source": [
    "\n",
    "f2=katarchive.search_archive(description=\"Interferometric_Pointing\",startdate=start,enddate=end)\n",
    "\n",
    "f2.sort(key=lambda k: k.metadata.StartTime)\n",
    "f2"
   ]
  },
  {
   "cell_type": "code",
   "execution_count": 12,
   "metadata": {
    "collapsed": false
   },
   "outputs": [],
   "source": [
    "for fi in f2:\n",
    "    print fi.metadata.Description\n",
    "    print listpr(fi.metadata.Antennas)\n",
    "    print fi.metadata.FileLocation, findh5(fi.metadata.Details)\n",
    "    print fi.metadata.InstructionSet,\"\\n\"\n",
    "    print listpr(fi.metadata.Targets)\n",
    "    print \".\"*88"
   ]
  },
  {
   "cell_type": "code",
   "execution_count": 13,
   "metadata": {
    "collapsed": false,
    "scrolled": true
   },
   "outputs": [
    {
     "data": {
      "text/plain": [
       "[]"
      ]
     },
     "execution_count": 13,
     "metadata": {},
     "output_type": "execute_result"
    }
   ],
   "source": [
    "f2.sort(key=lambda k: k.metadata.StartTime)\n",
    "f2"
   ]
  },
  {
   "cell_type": "code",
   "execution_count": 14,
   "metadata": {
    "collapsed": false
   },
   "outputs": [],
   "source": [
    "for fi in f2:\n",
    "    x= repr(fi)\n",
    "    pr=x.split(\",\")\n",
    "    print pr[1][10:12],findh5(fi.metadata.Details),fi.metadata.Description,listpr(fi.metadata.Antennas)"
   ]
  }
 ],
 "metadata": {
  "kernelspec": {
   "display_name": "Python 2",
   "language": "python",
   "name": "python2"
  },
  "language_info": {
   "codemirror_mode": {
    "name": "ipython",
    "version": 2
   },
   "file_extension": ".py",
   "mimetype": "text/x-python",
   "name": "python",
   "nbconvert_exporter": "python",
   "pygments_lexer": "ipython2",
   "version": "2.7.6"
  }
 },
 "nbformat": 4,
 "nbformat_minor": 0
}
