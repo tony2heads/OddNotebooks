{
 "cells": [
  {
   "cell_type": "markdown",
   "metadata": {},
   "source": [
    "# Read in catalog information from a text file and plot some parameters"
   ]
  },
  {
   "cell_type": "markdown",
   "metadata": {},
   "source": [
    "Astropy provides functionality for reading in and manipulating tabular\n",
    "data through the `astropy.table` subpackage. An additional set of\n",
    "tools for reading and writing ASCII data are provided with the\n",
    "`astropy.io.ascii` subpackage, but fundamentally use the classes and\n",
    "methods implemented in `astropy.table`.\n",
    "\n",
    "We'll start by importing the `ascii` subpackage:"
   ]
  },
  {
   "cell_type": "code",
   "execution_count": 1,
   "metadata": {
    "collapsed": false
   },
   "outputs": [],
   "source": [
    "from astropy.io import ascii"
   ]
  },
  {
   "cell_type": "markdown",
   "metadata": {},
   "source": [
    "For many cases, it is sufficient to use the `ascii.read('filename')` \n",
    "function as a black box for reading data from table-formatted text \n",
    "files. By default, this function will try to figure out how your \n",
    "data is formatted/delimited (by default, `guess=True`). For example, \n",
    "if your data are:\n",
    "\n",
    "    # name,ra,dec\n",
    "    BLG100,17:51:00.0,-29:59:48\n",
    "    BLG101,17:53:40.2,-29:49:52\n",
    "    BLG102,17:56:20.2,-29:30:51\n",
    "    BLG103,17:56:20.2,-30:06:22\n",
    "    ...\n",
    "\n",
    "(see _simple_table.csv_)\n",
    "\n",
    "`ascii.read()` will return a `Table` object:"
   ]
  },
  {
   "cell_type": "code",
   "execution_count": 24,
   "metadata": {
    "collapsed": false
   },
   "outputs": [
    {
     "data": {
      "text/html": [
       "&lt;Table length=70&gt;\n",
       "<table id=\"table140077121595984\">\n",
       "<thead><tr><th>name</th><th>type</th><th>ra</th><th>dec</th></tr></thead>\n",
       "<thead><tr><th>str10</th><th>str13</th><th>str15</th><th>str15</th></tr></thead>\n",
       "<tr><td>0003-066</td><td>radec gaincal</td><td>00:06:14</td><td>-06:23:35</td></tr>\n",
       "<tr><td>0106+013</td><td>radec gaincal</td><td>01:08:39</td><td>+01:35:00</td></tr>\n",
       "<tr><td>0130-171</td><td>radec gaincal</td><td>01:32:43</td><td>-16:54:49</td></tr>\n",
       "<tr><td>0208-512</td><td>radec gaincal</td><td>02:10:46</td><td>-51:01:02</td></tr>\n",
       "<tr><td>0238-084</td><td>radec gaincal</td><td>02:41:05</td><td>-08:15:21</td></tr>\n",
       "<tr><td>0252-549</td><td>radec gaincal</td><td>02:53:29</td><td>-54:41:51</td></tr>\n",
       "<tr><td>0332-403</td><td>radec gaincal</td><td>03:34:14</td><td>-40:08:25</td></tr>\n",
       "<tr><td>0402-362</td><td>radec gaincal</td><td>04:03:54</td><td>-36:05:02</td></tr>\n",
       "<tr><td>0420-014</td><td>radec gaincal</td><td>04:23:16</td><td>-01:20:33</td></tr>\n",
       "<tr><td>0426-380</td><td>radec gaincal</td><td>04:28:40</td><td>-37:56:20</td></tr>\n",
       "<tr><td>...</td><td>...</td><td>...</td><td>...</td></tr>\n",
       "<tr><td>2145+067</td><td>radec gaincal</td><td>21:48:05</td><td>+06:57:39</td></tr>\n",
       "<tr><td>2155-152</td><td>radec gaincal</td><td>21:58:06</td><td>-15:01:09</td></tr>\n",
       "<tr><td>2153-699</td><td>radec gaincal</td><td>21:57:05.98</td><td>-69:41:23.7</td></tr>\n",
       "<tr><td>2203-188</td><td>radec gaincal</td><td>22:06:10</td><td>-18:35:39</td></tr>\n",
       "<tr><td>2223-052</td><td>radec gaincal</td><td>22:25:47</td><td>-04:57:01</td></tr>\n",
       "<tr><td>3C446</td><td>radec gaincal</td><td>22:25:47</td><td>-04:57:01</td></tr>\n",
       "<tr><td>CTA102</td><td>radec gaincal</td><td>22:32:36</td><td>+11:43:51</td></tr>\n",
       "<tr><td>3C454.3</td><td>radec gaincal</td><td>22:53:57.748</td><td>+16:08:53.56</td></tr>\n",
       "<tr><td>2255-282</td><td>radec gaincal</td><td>22:58:06</td><td>-27:58:21</td></tr>\n",
       "<tr><td>2355-534</td><td>radec gaincal</td><td>23:57:53</td><td>-53:11:14</td></tr>\n",
       "</table>"
      ],
      "text/plain": [
       "<Table length=70>\n",
       "  name        type          ra          dec     \n",
       " str10       str13        str15        str15    \n",
       "-------- ------------- ------------ ------------\n",
       "0003-066 radec gaincal     00:06:14    -06:23:35\n",
       "0106+013 radec gaincal     01:08:39    +01:35:00\n",
       "0130-171 radec gaincal     01:32:43    -16:54:49\n",
       "0208-512 radec gaincal     02:10:46    -51:01:02\n",
       "0238-084 radec gaincal     02:41:05    -08:15:21\n",
       "0252-549 radec gaincal     02:53:29    -54:41:51\n",
       "0332-403 radec gaincal     03:34:14    -40:08:25\n",
       "0402-362 radec gaincal     04:03:54    -36:05:02\n",
       "0420-014 radec gaincal     04:23:16    -01:20:33\n",
       "0426-380 radec gaincal     04:28:40    -37:56:20\n",
       "     ...           ...          ...          ...\n",
       "2145+067 radec gaincal     21:48:05    +06:57:39\n",
       "2155-152 radec gaincal     21:58:06    -15:01:09\n",
       "2153-699 radec gaincal  21:57:05.98  -69:41:23.7\n",
       "2203-188 radec gaincal     22:06:10    -18:35:39\n",
       "2223-052 radec gaincal     22:25:47    -04:57:01\n",
       "   3C446 radec gaincal     22:25:47    -04:57:01\n",
       "  CTA102 radec gaincal     22:32:36    +11:43:51\n",
       " 3C454.3 radec gaincal 22:53:57.748 +16:08:53.56\n",
       "2255-282 radec gaincal     22:58:06    -27:58:21\n",
       "2355-534 radec gaincal     23:57:53    -53:11:14"
      ]
     },
     "execution_count": 24,
     "metadata": {},
     "output_type": "execute_result"
    }
   ],
   "source": [
    "#tbl = ascii.read(\"simple_table.csv\") # VLBA calibrator list\n",
    "#tbl=ascii.read('vlacal.csv') #vla cal list\n",
    "tbl=ascii.read('sources_pnt_tony.csv')\n",
    "tbl"
   ]
  },
  {
   "cell_type": "markdown",
   "metadata": {},
   "source": [
    "The header names are automatically parsed from the top of the file,\n",
    "and the delimiter is inferred from the rest of the file -- awesome! \n",
    "We can access the columns directly from their names as 'keys' of the\n",
    "table object:"
   ]
  },
  {
   "cell_type": "code",
   "execution_count": 30,
   "metadata": {
    "collapsed": false
   },
   "outputs": [
    {
     "data": {
      "text/html": [
       "&lt;Column name=&apos;ra&apos; dtype=&apos;str15&apos; length=70&gt;\n",
       "<table>\n",
       "<tr><td>00:06:14</td></tr>\n",
       "<tr><td>01:08:39</td></tr>\n",
       "<tr><td>01:32:43</td></tr>\n",
       "<tr><td>02:10:46</td></tr>\n",
       "<tr><td>02:41:05</td></tr>\n",
       "<tr><td>02:53:29</td></tr>\n",
       "<tr><td>03:34:14</td></tr>\n",
       "<tr><td>04:03:54</td></tr>\n",
       "<tr><td>04:23:16</td></tr>\n",
       "<tr><td>04:28:40</td></tr>\n",
       "<tr><td>04:33:11</td></tr>\n",
       "<tr><td>04:37:04.3750</td></tr>\n",
       "<tr><td>...</td></tr>\n",
       "<tr><td>21:34:10</td></tr>\n",
       "<tr><td>21:36:39</td></tr>\n",
       "<tr><td>21:48:05</td></tr>\n",
       "<tr><td>21:58:06</td></tr>\n",
       "<tr><td>21:57:05.98</td></tr>\n",
       "<tr><td>22:06:10</td></tr>\n",
       "<tr><td>22:25:47</td></tr>\n",
       "<tr><td>22:25:47</td></tr>\n",
       "<tr><td>22:32:36</td></tr>\n",
       "<tr><td>22:53:57.748</td></tr>\n",
       "<tr><td>22:58:06</td></tr>\n",
       "<tr><td>23:57:53</td></tr>\n",
       "</table>"
      ],
      "text/plain": [
       "<Column name='ra' dtype='str15' length=70>\n",
       "     00:06:14\n",
       "     01:08:39\n",
       "     01:32:43\n",
       "     02:10:46\n",
       "     02:41:05\n",
       "     02:53:29\n",
       "     03:34:14\n",
       "     04:03:54\n",
       "     04:23:16\n",
       "     04:28:40\n",
       "     04:33:11\n",
       "04:37:04.3750\n",
       "          ...\n",
       "     21:34:10\n",
       "     21:36:39\n",
       "     21:48:05\n",
       "     21:58:06\n",
       "  21:57:05.98\n",
       "     22:06:10\n",
       "     22:25:47\n",
       "     22:25:47\n",
       "     22:32:36\n",
       " 22:53:57.748\n",
       "     22:58:06\n",
       "     23:57:53"
      ]
     },
     "execution_count": 30,
     "metadata": {},
     "output_type": "execute_result"
    }
   ],
   "source": [
    "tbl[\"ra\"]"
   ]
  },
  {
   "cell_type": "markdown",
   "metadata": {},
   "source": [
    "If we want to then convert the first RA (as a sexagesimal angle) to\n",
    "decimal degrees, for example, we can pluck out the first (0th) item in\n",
    "the column and use the `coordinates` subpackage to parse the string:"
   ]
  },
  {
   "cell_type": "code",
   "execution_count": 26,
   "metadata": {
    "collapsed": false
   },
   "outputs": [
    {
     "name": "stdout",
     "output_type": "stream",
     "text": [
      "1.55833333333 -6.39305555556\n"
     ]
    }
   ],
   "source": [
    "import astropy.coordinates as coord\n",
    "import astropy.units as u\n",
    "\n",
    "first_row = tbl[0] # get the first (0th) row\n",
    "ra = coord.Angle(first_row[\"ra\"], unit=u.hour) # create an Angle object\n",
    "dec=coord.Angle(first_row[\"dec\"],unit=u.degree)\n",
    "print ra.degree,dec.degree # convert to degrees"
   ]
  },
  {
   "cell_type": "markdown",
   "metadata": {},
   "source": [
    "Now let's look at a case where this breaks, and we have to specify some\n",
    "more options to the `read()` function. Our data may look a bit messier::\n",
    "\n",
    "    ,,,,2MASS Photometry,,,,,,WISE Photometry,,,,,,,,Spectra,,,,Astrometry,,,,,,,,,,,\n",
    "    Name,Designation,RA,Dec,Jmag,J_unc,Hmag,H_unc,Kmag,K_unc,W1,W1_unc,W2,W2_unc,W3,W3_unc,W4,W4_unc,Spectral Type,Spectra (FITS),Opt Spec Refs,NIR Spec Refs,pm_ra (mas),pm_ra_unc,pm_dec (mas),pm_dec_unc,pi (mas),pi_unc,radial velocity (km/s),rv_unc,Astrometry Refs,Discovery Refs,Group/Age,Note\n",
    "    ,00 04 02.84 -64 10 35.6,1.01201,-64.18,15.79,0.07,14.83,0.07,14.01,0.05,13.37,0.03,12.94,0.03,12.18,0.24,9.16,null,L1γ,,Kirkpatrick et al. 2010,,,,,,,,,,,Kirkpatrick et al. 2010,,\n",
    "    PC 0025+04,00 27 41.97 +05 03 41.7,6.92489,5.06,16.19,0.09,15.29,0.10,14.96,0.12,14.62,0.04,14.14,0.05,12.24,null,8.89,null,M9.5β,,Mould et al. 1994,,0.0105,0.0004,-0.0008,0.0003,,,,,Faherty et al. 2009,Schneider et al. 1991,,,00 32 55.84 -44 05 05.8,8.23267,-44.08,14.78,0.04,13.86,0.03,13.27,0.04,12.82,0.03,12.49,0.03,11.73,0.19,9.29,null,L0γ,,Cruz et al. 2009,,0.1178,0.0043,-0.0916,0.0043,38.4,4.8,,,Faherty et al. 2012,Reid et al. 2008,,\n",
    "    ...\n",
    "\n",
    "(see _Young-Objects-Compilation.csv_)"
   ]
  },
  {
   "cell_type": "markdown",
   "metadata": {},
   "source": [
    "If we try to just use `ascii.read()` on this data, it fails to parse the names out, and the column names become `col` followed by the number of the column:"
   ]
  },
  {
   "cell_type": "code",
   "execution_count": 11,
   "metadata": {
    "collapsed": false
   },
   "outputs": [
    {
     "ename": "IOError",
     "evalue": "[Errno 2] No such file or directory: 'Young-Objects-Compilation.csv'",
     "output_type": "error",
     "traceback": [
      "\u001b[1;31m---------------------------------------------------------------------------\u001b[0m",
      "\u001b[1;31mIOError\u001b[0m                                   Traceback (most recent call last)",
      "\u001b[1;32m<ipython-input-11-c59676a057cc>\u001b[0m in \u001b[0;36m<module>\u001b[1;34m()\u001b[0m\n\u001b[1;32m----> 1\u001b[1;33m \u001b[0mtbl\u001b[0m \u001b[1;33m=\u001b[0m \u001b[0mascii\u001b[0m\u001b[1;33m.\u001b[0m\u001b[0mread\u001b[0m\u001b[1;33m(\u001b[0m\u001b[1;34m\"Young-Objects-Compilation.csv\"\u001b[0m\u001b[1;33m)\u001b[0m\u001b[1;33m\u001b[0m\u001b[0m\n\u001b[0m\u001b[0;32m      2\u001b[0m \u001b[0mtbl\u001b[0m\u001b[1;33m.\u001b[0m\u001b[0mcolnames\u001b[0m\u001b[1;33m\u001b[0m\u001b[0m\n",
      "\u001b[1;32m/usr/local/lib/python2.7/dist-packages/astropy/io/ascii/ui.pyc\u001b[0m in \u001b[0;36mread\u001b[1;34m(table, guess, **kwargs)\u001b[0m\n\u001b[0;32m    309\u001b[0m         \u001b[1;31m# through below to the non-guess way so that any problems result in a\u001b[0m\u001b[1;33m\u001b[0m\u001b[1;33m\u001b[0m\u001b[0m\n\u001b[0;32m    310\u001b[0m         \u001b[1;31m# more useful traceback.\u001b[0m\u001b[1;33m\u001b[0m\u001b[1;33m\u001b[0m\u001b[0m\n\u001b[1;32m--> 311\u001b[1;33m         \u001b[0mdat\u001b[0m \u001b[1;33m=\u001b[0m \u001b[0m_guess\u001b[0m\u001b[1;33m(\u001b[0m\u001b[0mtable\u001b[0m\u001b[1;33m,\u001b[0m \u001b[0mnew_kwargs\u001b[0m\u001b[1;33m,\u001b[0m \u001b[0mformat\u001b[0m\u001b[1;33m,\u001b[0m \u001b[0mfast_reader_param\u001b[0m\u001b[1;33m)\u001b[0m\u001b[1;33m\u001b[0m\u001b[0m\n\u001b[0m\u001b[0;32m    312\u001b[0m         \u001b[1;32mif\u001b[0m \u001b[0mdat\u001b[0m \u001b[1;32mis\u001b[0m \u001b[0mNone\u001b[0m\u001b[1;33m:\u001b[0m\u001b[1;33m\u001b[0m\u001b[0m\n\u001b[0;32m    313\u001b[0m             \u001b[0mguess\u001b[0m \u001b[1;33m=\u001b[0m \u001b[0mFalse\u001b[0m\u001b[1;33m\u001b[0m\u001b[0m\n",
      "\u001b[1;32m/usr/local/lib/python2.7/dist-packages/astropy/io/ascii/ui.pyc\u001b[0m in \u001b[0;36m_guess\u001b[1;34m(table, read_kwargs, format, fast_reader)\u001b[0m\n\u001b[0;32m    447\u001b[0m             \u001b[0mreader\u001b[0m \u001b[1;33m=\u001b[0m \u001b[0mget_reader\u001b[0m\u001b[1;33m(\u001b[0m\u001b[1;33m**\u001b[0m\u001b[0mguess_kwargs\u001b[0m\u001b[1;33m)\u001b[0m\u001b[1;33m\u001b[0m\u001b[0m\n\u001b[0;32m    448\u001b[0m             \u001b[0mreader\u001b[0m\u001b[1;33m.\u001b[0m\u001b[0mguessing\u001b[0m \u001b[1;33m=\u001b[0m \u001b[0mTrue\u001b[0m\u001b[1;33m\u001b[0m\u001b[0m\n\u001b[1;32m--> 449\u001b[1;33m             \u001b[0mdat\u001b[0m \u001b[1;33m=\u001b[0m \u001b[0mreader\u001b[0m\u001b[1;33m.\u001b[0m\u001b[0mread\u001b[0m\u001b[1;33m(\u001b[0m\u001b[0mtable\u001b[0m\u001b[1;33m)\u001b[0m\u001b[1;33m\u001b[0m\u001b[0m\n\u001b[0m\u001b[0;32m    450\u001b[0m             _read_trace.append({'kwargs': guess_kwargs, 'status': 'Success (guessing)',\n\u001b[0;32m    451\u001b[0m                                 'dt': '{0:.3f} ms'.format((time.time() - t0) * 1000)})\n",
      "\u001b[1;32m/usr/local/lib/python2.7/dist-packages/astropy/io/ascii/core.pyc\u001b[0m in \u001b[0;36mread\u001b[1;34m(self, table)\u001b[0m\n\u001b[0;32m   1128\u001b[0m \u001b[1;33m\u001b[0m\u001b[0m\n\u001b[0;32m   1129\u001b[0m         \u001b[1;31m# Get a list of the lines (rows) in the table\u001b[0m\u001b[1;33m\u001b[0m\u001b[1;33m\u001b[0m\u001b[0m\n\u001b[1;32m-> 1130\u001b[1;33m         \u001b[0mself\u001b[0m\u001b[1;33m.\u001b[0m\u001b[0mlines\u001b[0m \u001b[1;33m=\u001b[0m \u001b[0mself\u001b[0m\u001b[1;33m.\u001b[0m\u001b[0minputter\u001b[0m\u001b[1;33m.\u001b[0m\u001b[0mget_lines\u001b[0m\u001b[1;33m(\u001b[0m\u001b[0mtable\u001b[0m\u001b[1;33m)\u001b[0m\u001b[1;33m\u001b[0m\u001b[0m\n\u001b[0m\u001b[0;32m   1131\u001b[0m \u001b[1;33m\u001b[0m\u001b[0m\n\u001b[0;32m   1132\u001b[0m         \u001b[1;31m# Set self.data.data_lines to a slice of lines contain the data rows\u001b[0m\u001b[1;33m\u001b[0m\u001b[1;33m\u001b[0m\u001b[0m\n",
      "\u001b[1;32m/usr/local/lib/python2.7/dist-packages/astropy/io/ascii/core.pyc\u001b[0m in \u001b[0;36mget_lines\u001b[1;34m(self, table)\u001b[0m\n\u001b[0;32m    278\u001b[0m             if (hasattr(table, 'read') or\n\u001b[0;32m    279\u001b[0m                     ('\\n' not in table + '' and '\\r' not in table + '')):\n\u001b[1;32m--> 280\u001b[1;33m                 \u001b[1;32mwith\u001b[0m \u001b[0mget_readable_fileobj\u001b[0m\u001b[1;33m(\u001b[0m\u001b[0mtable\u001b[0m\u001b[1;33m)\u001b[0m \u001b[1;32mas\u001b[0m \u001b[0mfile_obj\u001b[0m\u001b[1;33m:\u001b[0m\u001b[1;33m\u001b[0m\u001b[0m\n\u001b[0m\u001b[0;32m    281\u001b[0m                     \u001b[0mtable\u001b[0m \u001b[1;33m=\u001b[0m \u001b[0mfile_obj\u001b[0m\u001b[1;33m.\u001b[0m\u001b[0mread\u001b[0m\u001b[1;33m(\u001b[0m\u001b[1;33m)\u001b[0m\u001b[1;33m\u001b[0m\u001b[0m\n\u001b[0;32m    282\u001b[0m             \u001b[0mlines\u001b[0m \u001b[1;33m=\u001b[0m \u001b[0mtable\u001b[0m\u001b[1;33m.\u001b[0m\u001b[0msplitlines\u001b[0m\u001b[1;33m(\u001b[0m\u001b[1;33m)\u001b[0m\u001b[1;33m\u001b[0m\u001b[0m\n",
      "\u001b[1;32m/usr/lib/python2.7/contextlib.pyc\u001b[0m in \u001b[0;36m__enter__\u001b[1;34m(self)\u001b[0m\n\u001b[0;32m     15\u001b[0m     \u001b[1;32mdef\u001b[0m \u001b[0m__enter__\u001b[0m\u001b[1;33m(\u001b[0m\u001b[0mself\u001b[0m\u001b[1;33m)\u001b[0m\u001b[1;33m:\u001b[0m\u001b[1;33m\u001b[0m\u001b[0m\n\u001b[0;32m     16\u001b[0m         \u001b[1;32mtry\u001b[0m\u001b[1;33m:\u001b[0m\u001b[1;33m\u001b[0m\u001b[0m\n\u001b[1;32m---> 17\u001b[1;33m             \u001b[1;32mreturn\u001b[0m \u001b[0mself\u001b[0m\u001b[1;33m.\u001b[0m\u001b[0mgen\u001b[0m\u001b[1;33m.\u001b[0m\u001b[0mnext\u001b[0m\u001b[1;33m(\u001b[0m\u001b[1;33m)\u001b[0m\u001b[1;33m\u001b[0m\u001b[0m\n\u001b[0m\u001b[0;32m     18\u001b[0m         \u001b[1;32mexcept\u001b[0m \u001b[0mStopIteration\u001b[0m\u001b[1;33m:\u001b[0m\u001b[1;33m\u001b[0m\u001b[0m\n\u001b[0;32m     19\u001b[0m             \u001b[1;32mraise\u001b[0m \u001b[0mRuntimeError\u001b[0m\u001b[1;33m(\u001b[0m\u001b[1;34m\"generator didn't yield\"\u001b[0m\u001b[1;33m)\u001b[0m\u001b[1;33m\u001b[0m\u001b[0m\n",
      "\u001b[1;32m/usr/local/lib/python2.7/dist-packages/astropy/utils/data.pyc\u001b[0m in \u001b[0;36mget_readable_fileobj\u001b[1;34m(name_or_obj, encoding, cache, show_progress, remote_timeout)\u001b[0m\n\u001b[0;32m    200\u001b[0m             \u001b[0mfileobj\u001b[0m \u001b[1;33m=\u001b[0m \u001b[0mio\u001b[0m\u001b[1;33m.\u001b[0m\u001b[0mFileIO\u001b[0m\u001b[1;33m(\u001b[0m\u001b[0mname_or_obj\u001b[0m\u001b[1;33m,\u001b[0m \u001b[1;34m'r'\u001b[0m\u001b[1;33m)\u001b[0m\u001b[1;33m\u001b[0m\u001b[0m\n\u001b[0;32m    201\u001b[0m         \u001b[1;32melif\u001b[0m \u001b[0msix\u001b[0m\u001b[1;33m.\u001b[0m\u001b[0mPY2\u001b[0m\u001b[1;33m:\u001b[0m\u001b[1;33m\u001b[0m\u001b[0m\n\u001b[1;32m--> 202\u001b[1;33m             \u001b[0mfileobj\u001b[0m \u001b[1;33m=\u001b[0m \u001b[0mopen\u001b[0m\u001b[1;33m(\u001b[0m\u001b[0mname_or_obj\u001b[0m\u001b[1;33m,\u001b[0m \u001b[1;34m'rb'\u001b[0m\u001b[1;33m)\u001b[0m\u001b[1;33m\u001b[0m\u001b[0m\n\u001b[0m\u001b[0;32m    203\u001b[0m         \u001b[1;32mif\u001b[0m \u001b[0mis_url\u001b[0m \u001b[1;32mand\u001b[0m \u001b[1;32mnot\u001b[0m \u001b[0mcache\u001b[0m\u001b[1;33m:\u001b[0m\u001b[1;33m\u001b[0m\u001b[0m\n\u001b[0;32m    204\u001b[0m             \u001b[0mdelete_fds\u001b[0m\u001b[1;33m.\u001b[0m\u001b[0mappend\u001b[0m\u001b[1;33m(\u001b[0m\u001b[0mfileobj\u001b[0m\u001b[1;33m)\u001b[0m\u001b[1;33m\u001b[0m\u001b[0m\n",
      "\u001b[1;31mIOError\u001b[0m: [Errno 2] No such file or directory: 'Young-Objects-Compilation.csv'"
     ]
    }
   ],
   "source": [
    "tbl = ascii.read(\"Young-Objects-Compilation.csv\")\n",
    "tbl.colnames"
   ]
  },
  {
   "cell_type": "markdown",
   "metadata": {},
   "source": [
    "What happened? The column names are just `col1`, `col2`, etc., the\n",
    "default names if `ascii.read()` is unable to parse out column\n",
    "names. We know it failed to read the column names, but also notice\n",
    "that the first row of data are strings -- something else went wrong!"
   ]
  },
  {
   "cell_type": "code",
   "execution_count": null,
   "metadata": {
    "collapsed": false
   },
   "outputs": [],
   "source": [
    "tbl[0]"
   ]
  },
  {
   "cell_type": "markdown",
   "metadata": {},
   "source": [
    "A few things are causing problems here. First, there are two header \n",
    "lines in the file and the header lines are not denoted by comment \n",
    "characters. The first line is actually some meta data that we don't\n",
    "care about, so we want to skip it. We can get around this problem by \n",
    "specifying the `header_start` keyword to the `ascii.read()` function. \n",
    "This keyword argument specifies the index of the row in the text file \n",
    "to read the column names from:"
   ]
  },
  {
   "cell_type": "code",
   "execution_count": null,
   "metadata": {
    "collapsed": false
   },
   "outputs": [],
   "source": [
    "tbl = ascii.read(\"Young-Objects-Compilation.csv\", header_start=1)\n",
    "tbl.colnames"
   ]
  },
  {
   "cell_type": "markdown",
   "metadata": {},
   "source": [
    "Great -- now the columns have the correct names, but there is still a\n",
    "problem: all of the columns have string data types, and the column\n",
    "names are still included as a row in the table. This is because by\n",
    "default the data are assumed to start on the second row (index=1). \n",
    "We can specify `data_start=2` to tell the reader that the data in\n",
    "this file actually start on the 3rd (index=2) row:"
   ]
  },
  {
   "cell_type": "code",
   "execution_count": null,
   "metadata": {
    "collapsed": false
   },
   "outputs": [],
   "source": [
    "tbl = ascii.read(\"Young-Objects-Compilation.csv\", header_start=1, data_start=2)"
   ]
  },
  {
   "cell_type": "markdown",
   "metadata": {},
   "source": [
    "Some of the columns have missing data, for example, some of the `RA` values are missing (denoted by -- when printed):"
   ]
  },
  {
   "cell_type": "code",
   "execution_count": null,
   "metadata": {
    "collapsed": false
   },
   "outputs": [],
   "source": [
    "print tbl['RA']"
   ]
  },
  {
   "cell_type": "markdown",
   "metadata": {},
   "source": [
    "This is called a __Masked column__ because some missing values are \n",
    "masked out upon display. If we want to use this numeric data, we have\n",
    "to tell `astropy` what to fill the missing values with. We can do this\n",
    "with the `.filled()` method. For example, to fill all of the missing\n",
    "values with `NaN`'s:"
   ]
  },
  {
   "cell_type": "code",
   "execution_count": null,
   "metadata": {
    "collapsed": false
   },
   "outputs": [],
   "source": [
    "tbl['RA'].filled(np.nan)"
   ]
  },
  {
   "cell_type": "markdown",
   "metadata": {},
   "source": [
    "Let's recap what we've done so far, then make some plots with the\n",
    "data. Our data file has an extra line above the column names, so we\n",
    "use the `header_start` keyword to tell it to start from line 1 instead\n",
    "of line 0 (remember Python is 0-indexed!). We then used had to specify\n",
    "that the data starts on line 2 using the `data_start`\n",
    "keyword. Finally, we note some columns have missing values."
   ]
  },
  {
   "cell_type": "code",
   "execution_count": null,
   "metadata": {
    "collapsed": false
   },
   "outputs": [],
   "source": [
    "data = ascii.read(\"Young-Objects-Compilation.csv\", header_start=1, data_start=2)"
   ]
  },
  {
   "cell_type": "markdown",
   "metadata": {},
   "source": [
    "__Note__: _If you are using ipython, try starting your interpreter with the\n",
    "`--pylab` flag, e.g. `ipython --pylab`. If you do that, you don't\n",
    "have to import numpy or matplotlib, and can drop all of the `plt.`\n",
    "calls below (e.g., you can just type `scatter(x,y)`)._"
   ]
  },
  {
   "cell_type": "markdown",
   "metadata": {},
   "source": [
    "Now that we have our data loaded, let's plot a color-magnitude diagram:"
   ]
  },
  {
   "cell_type": "code",
   "execution_count": null,
   "metadata": {
    "collapsed": false
   },
   "outputs": [],
   "source": [
    "# if you started the iPython notebook with --pylab, you can skip this import\n",
    "from pylab import *"
   ]
  },
  {
   "cell_type": "markdown",
   "metadata": {},
   "source": [
    "Here we simply make a scatter plot of the J-K color on the x-axis\n",
    "against the J magnitude on the y-axis. We use a trick to flip the\n",
    "y-axis `ylim(reversed(ylim()))`. Called with no arguments,\n",
    "`ylim()` or `plt.ylim()` will return a tuple with the axis bounds, \n",
    "e.g. (0,10). Calling the function _with_ arguments will set the limits \n",
    "of the axis, so we simply set the limits to be the reverse of whatever they\n",
    "were before. Using this `pylab`-style plotting is convenient for\n",
    "making quick plots and interactive use, but is not great if you need\n",
    "more control over your figures."
   ]
  },
  {
   "cell_type": "code",
   "execution_count": null,
   "metadata": {
    "collapsed": false
   },
   "outputs": [],
   "source": [
    "scatter(data[\"Jmag\"] - data[\"Kmag\"], data[\"Jmag\"]) # plot J-K vs. J\n",
    "ylim(reversed(ylim())) # flip the y-axis\n",
    "xlabel(\"$J-K_s$\", fontsize=20)\n",
    "ylabel(\"$J$\", fontsize=20)"
   ]
  },
  {
   "cell_type": "markdown",
   "metadata": {},
   "source": [
    "As a final example, we will plot the angular positions from the\n",
    "catalog on a 2D projection of the sky. Instead of using `pylab`-style\n",
    "plotting, we'll take a more object-oriented approach. We'll start by\n",
    "creating a `Figure` object and adding a single subplot to the\n",
    "figure. We can specify a projection with the `projection` keyword; in\n",
    "this example we will use a Mollweide projection.\n",
    "\n",
    "The axis object, `ax`, knows to expect angular coordinate\n",
    "values. An important fact is that it expects the values to be in\n",
    "_radians_, and it expects the azimuthal angle values to be between\n",
    "(-180º,180º). This is (currently) not customizable, so we have to\n",
    "coerce our RA data to conform to these rules! `astropy` provides a\n",
    "coordinate class for handling angular values, `astropy.coordinates.Angle`. \n",
    "We can convert our column of RA values to radians, and wrap the \n",
    "angle bounds using this class."
   ]
  },
  {
   "cell_type": "code",
   "execution_count": null,
   "metadata": {
    "collapsed": false
   },
   "outputs": [],
   "source": [
    "import astropy.coordinates as coord\n",
    "ra = coord.Angle(data['RA'].filled(np.nan)*u.degree)\n",
    "ra = ra.wrap_at(180*u.degree)\n",
    "dec = coord.Angle(data['Dec'].filled(np.nan)*u.degree)"
   ]
  },
  {
   "cell_type": "code",
   "execution_count": null,
   "metadata": {
    "collapsed": false
   },
   "outputs": [],
   "source": [
    "fig = figure(figsize=(8,6))\n",
    "ax = fig.add_subplot(111, projection=\"mollweide\")\n",
    "ax.scatter(ra.radian, dec.radian)"
   ]
  },
  {
   "cell_type": "markdown",
   "metadata": {},
   "source": [
    "By default, matplotlib will add degree ticklabels, so let's change the\n",
    "horizontal (x) tick labels to be in units of hours, and display a grid"
   ]
  },
  {
   "cell_type": "code",
   "execution_count": null,
   "metadata": {
    "collapsed": false
   },
   "outputs": [],
   "source": [
    "fig = figure(figsize=(8,6))\n",
    "ax = fig.add_subplot(111, projection=\"mollweide\")\n",
    "ax.scatter(ra.radian, dec.radian)\n",
    "ax.set_xticklabels(['14h','16h','18h','20h','22h','0h','2h','4h','6h','8h','10h'])\n",
    "ax.grid(True)"
   ]
  },
  {
   "cell_type": "markdown",
   "metadata": {},
   "source": [
    "We can save this figure as a PDF using the `savefig` function:"
   ]
  },
  {
   "cell_type": "code",
   "execution_count": null,
   "metadata": {
    "collapsed": false
   },
   "outputs": [],
   "source": [
    "fig.savefig(\"map.pdf\")"
   ]
  }
 ],
 "metadata": {
  "kernelspec": {
   "display_name": "Python 2",
   "language": "python",
   "name": "python2"
  },
  "language_info": {
   "codemirror_mode": {
    "name": "ipython",
    "version": 2
   },
   "file_extension": ".py",
   "mimetype": "text/x-python",
   "name": "python",
   "nbconvert_exporter": "python",
   "pygments_lexer": "ipython2",
   "version": "2.7.6"
  }
 },
 "nbformat": 4,
 "nbformat_minor": 0
}
