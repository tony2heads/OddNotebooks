{
 "cells": [
  {
   "cell_type": "code",
   "execution_count": 15,
   "metadata": {
    "collapsed": false
   },
   "outputs": [],
   "source": [
    "import katarchive\n",
    "import datetime\n"
   ]
  },
  {
   "cell_type": "code",
   "execution_count": 16,
   "metadata": {
    "collapsed": true
   },
   "outputs": [],
   "source": [
    "katarchive.product_filter.only_rts()"
   ]
  },
  {
   "cell_type": "code",
   "execution_count": 17,
   "metadata": {
    "collapsed": false
   },
   "outputs": [],
   "source": [
    "def findh5(det):   # uses detail list to get h5 name\n",
    "    pos=det.find(\"Name:\")\n",
    "    if pos >0  :\n",
    "        pr2=det[pos+37:pos+53].split()\n",
    "        h5name=pr2[0].lstrip(\"/ng\")\n",
    "    return h5name"
   ]
  },
  {
   "cell_type": "code",
   "execution_count": 18,
   "metadata": {
    "collapsed": false
   },
   "outputs": [],
   "source": [
    "def listpr(x):\n",
    "    \"\"\"\n",
    "    takes a list and prints as string\n",
    "    \"\"\"\n",
    "    li=\" \".join(map(str,x))\n",
    "    return li"
   ]
  },
  {
   "cell_type": "code",
   "execution_count": 19,
   "metadata": {
    "collapsed": true
   },
   "outputs": [],
   "source": [
    "start=\"1/04/2016\"\n",
    "end=\"31/04/2016\" "
   ]
  },
  {
   "cell_type": "code",
   "execution_count": 20,
   "metadata": {
    "collapsed": false
   },
   "outputs": [
    {
     "name": "stdout",
     "output_type": "stream",
     "text": [
      "Searched using: CAS.ProductTypeName:(RTSTelescopeProduct) AND CAS.ProductTransferStatus:RECEIVED AND Description:Point AND StartTime:[2016-03-31T22:00:00Z TO 2016-04-30T21:59:59Z]\n",
      "Returning 24 results\n"
     ]
    }
   ],
   "source": [
    "#Look for pointing\n",
    "\n",
    "f=katarchive.search_archive(description=\"Point\",startdate=start,enddate=end)\n",
    "\n",
    "#start = datetime.datetime.strptime(f[-1].__str__().split('\\'')[3],'%Y-%m-%d %H:%M:%S %Z')\n",
    "#end = datetime.datetime.strptime(f[0].__str__().split('\\'')[3],'%Y-%m-%d %H:%M:%S %Z')"
   ]
  },
  {
   "cell_type": "code",
   "execution_count": 21,
   "metadata": {
    "collapsed": true
   },
   "outputs": [],
   "source": [
    "f.sort(key=lambda k: k.metadata.StartTime)"
   ]
  },
  {
   "cell_type": "code",
   "execution_count": 22,
   "metadata": {
    "collapsed": false
   },
   "outputs": [
    {
     "name": "stdout",
     "output_type": "stream",
     "text": [
      "RTS: 2.7 L-band Pointing L Band\n",
      "m014\n",
      "/var/kat/archive/data/RTS/telescope_products/2016/04/01 1459541844.h5\n",
      "/home/kat/RTS/2.7-Pointing/point_source_scan.py /home/kat/RTS/sources_pnt_L.csv -r 1 -n coupler,10,10,180 -m 25200 --product=c856M4k -f 1284 --horizon=16 --proposal-id=COMM-RTS --sb-id-code=20160401-0015 --description=RTS: 2.7 L-band Pointing L Band --observer=RTS \n",
      "\n",
      "3C 286 3C 279 3C 358 PKS 2153-69 3C 273 Her A PKS 2104-25 3C 353 Pic A PKS 0410-75 Vir A PKS 1934-63 PKS 0408-65 PKS 1610-60 PKS 1814-63 Hyd A\n",
      "........................................................................................\n",
      "RTS: 2.7.1 Ku-band Offset Pointing\n",
      "m024 m025\n",
      "/var/kat/archive/data/RTS/telescope_products/2016/04/02 1459577161.h5\n",
      "/home/kat/RTS/2.7-Pointing/offset_test_scan.py /home/kat/RTS/neil_sources/sources_bright_Ku.csv -f 12500.5 -r 1 -n off --fine --number-sources=10000 -m 86400 --proposal-id=COMM-RTS --product=c856M4k --sb-id-code=20160401-0013 --description=RTS: 2.7.1 Ku-band Offset Pointing --observer=RTS \n",
      "\n",
      "offset_58 offset_59 offset_52 offset_53 offset_50 offset_51 offset_56 offset_57 offset_54 offset_55 offset_69 offset_68 offset_67 offset_66 offset_65 offset_64 offset_63 offset_62 offset_61 offset_60 offset_149 offset_148 offset_143 offset_142 offset_141 3C273 offset_147 offset_146 offset_145 offset_144 offset_140 offset_70 offset_71 offset_72 offset_73 offset_74 offset_75 offset_76 offset_77 offset_78 offset_79 offset_138 offset_139 offset_136 offset_137 offset_134 offset_135 offset_132 offset_133 offset_130 offset_131 offset_89 offset_88 offset_85 offset_84 offset_87 offset_86 offset_81 offset_80 offset_83 offset_82 0454-234 offset_129 offset_128 offset_125 offset_124 offset_127 offset_126 offset_121 offset_120 offset_123 offset_122 offset_98 offset_99 offset_96 offset_97 offset_94 offset_95 offset_92 offset_93 offset_90 offset_91 OP158.3 offset_16 offset_17 offset_14 offset_15 offset_12 offset_13 offset_10 offset_11 offset_18 offset_19 offset_110 offset_111 offset_112 offset_113 offset_114 offset_115 offset_116 3C454.3 offset_118 offset_119 offset_117 offset_29 offset_28 offset_23 offset_22 offset_21 offset_20 offset_27 offset_26 offset_25 offset_24 offset_107 offset_106 offset_105 offset_104 offset_103 offset_102 offset_101 offset_100 offset_109 offset_108 offset_161 offset_160 offset_163 offset_162 offset_165 offset_164 offset_167 offset_166 offset_168 1830-210 offset_38 offset_39 offset_34 offset_35 offset_36 offset_37 offset_30 offset_31 offset_32 offset_33 3C279 offset_9 offset_154 offset_155 offset_156 offset_157 offset_150 offset_151 offset_152 offset_153 offset_158 offset_159 offset_49 offset_48 OV236 offset_41 offset_40 offset_42 offset_45 offset_44 offset_47 offset_46 offset_8 OJ287 offset_4 offset_5 offset_6 offset_7 offset_1 offset_2 offset_3\n",
      "........................................................................................\n",
      "RTS: 2.7.1 Ku-band Offset Pointing\n",
      "m024 m025\n",
      "/var/kat/archive/data/RTS/telescope_products/2016/04/03 1459665501.h5\n",
      "/home/kat/RTS/2.7-Pointing/offset_test_scan.py /home/kat/RTS/neil_sources/sources_bright_Ku.csv -f 12500.5 -r 1 -n off --fine --number-sources=10000 -m 86400 --proposal-id=COMM-RTS --product=c856M4k --sb-id-code=20160401-0014 --description=RTS: 2.7.1 Ku-band Offset Pointing --observer=RTS \n",
      "\n",
      "offset_58 offset_59 offset_52 offset_53 offset_50 offset_51 offset_56 offset_57 offset_54 offset_55 offset_69 offset_68 offset_67 offset_66 offset_65 offset_64 offset_63 offset_62 offset_61 offset_60 offset_149 offset_148 offset_143 offset_142 offset_141 3C273 offset_147 offset_146 offset_145 offset_144 offset_140 offset_70 offset_71 offset_72 offset_73 offset_74 offset_75 offset_76 offset_77 offset_78 offset_79 offset_138 offset_139 offset_136 offset_137 offset_134 offset_135 offset_132 offset_133 offset_130 offset_131 offset_89 offset_88 offset_85 offset_84 offset_87 offset_86 offset_81 offset_80 offset_83 offset_82 0454-234 offset_129 offset_128 offset_125 offset_124 offset_127 offset_126 offset_121 offset_120 offset_123 offset_122 offset_98 offset_99 offset_96 offset_97 offset_94 offset_95 offset_92 offset_93 offset_90 offset_91 OP158.3 offset_16 offset_17 offset_14 offset_15 offset_12 offset_13 offset_10 offset_11 offset_18 offset_19 offset_110 offset_111 offset_112 offset_113 offset_114 offset_115 offset_116 3C454.3 offset_118 offset_119 offset_117 offset_29 offset_28 offset_23 offset_22 offset_21 offset_20 offset_27 offset_26 offset_25 offset_24 offset_107 offset_106 offset_105 offset_104 offset_103 offset_102 offset_101 offset_100 offset_109 offset_108 offset_161 offset_160 offset_163 offset_162 offset_165 offset_164 1830-210 offset_38 offset_39 offset_34 offset_35 offset_36 offset_37 offset_30 offset_31 offset_32 offset_33 3C279 offset_9 offset_154 offset_155 offset_156 offset_157 offset_150 offset_151 offset_152 offset_153 offset_158 offset_159 offset_49 offset_48 OV236 offset_41 offset_40 offset_43 offset_42 offset_45 offset_44 offset_47 offset_46 offset_8 OJ287 offset_4 offset_5 offset_6 offset_7 offset_1 offset_2 offset_3\n",
      "........................................................................................\n",
      "RTS: 2.7.1 Ku-band Offset Pointing\n",
      "m024 m025\n",
      "/var/kat/archive/data/RTS/telescope_products/2016/04/04 1459750904.h5\n",
      "/home/kat/RTS/2.7-Pointing/offset_test_scan.py /home/kat/RTS/neil_sources/sources_bright_Ku.csv -f 12500.5 -r 1 -n off --fine --number-sources=10000 -m 86400 --proposal-id=COMM-RTS --product=c856M4k --sb-id-code=20160404-0001 --description=RTS: 2.7.1 Ku-band Offset Pointing --observer=RTS \n",
      "\n",
      "offset_16 offset_14 offset_15 offset_12 offset_13 offset_10 offset_11 1830-210 offset_1 offset_8 offset_9 3C454.3 offset_4 offset_5 offset_6 offset_7 OV236 offset_2 offset_3\n",
      "........................................................................................\n",
      "RTS: 2.7.1 Ku-band Offset Pointing 30 sources\n",
      "m024 m025\n",
      "/var/kat/archive/data/RTS/telescope_products/2016/04/04 1459778181.h5\n",
      "/home/kat/RTS/2.7-Pointing/offset_test_scan.py /home/kat/RTS/sources_bright_Ku.csv -f 12500.5 -r 1 -m 36000 -n off --fine --number-sources=10000 --proposal-id=COMM-RTS --product=c856M4k --sb-id-code=20160404-0017 --description=RTS: 2.7.1 Ku-band Offset Pointing 30 sources --observer=RTS \n",
      "\n",
      "offset_64 3C273 offset_63 offset_65 offset_61 offset_60 offset_38 offset_39 offset_34 offset_35 offset_36 offset_37 offset_30 offset_31 offset_32 offset_33 offset_16 offset_17 offset_14 offset_15 offset_12 offset_13 offset_10 offset_11 offset_52 offset_53 offset_50 offset_51 offset_56 offset_57 offset_18 offset_19 OP158.3 offset_62 3C279 offset_72 offset_54 offset_9 offset_70 offset_59 offset_71 offset_58 offset_55 offset_29 offset_28 offset_23 offset_22 offset_21 offset_20 offset_27 offset_26 offset_25 offset_24 offset_49 offset_48 0454-234 offset_69 offset_68 offset_41 offset_40 offset_43 offset_42 offset_45 offset_44 offset_47 offset_46 offset_67 offset_8 OJ287 offset_66 offset_4 offset_5 offset_6 offset_7 offset_1 offset_2 offset_3\n",
      "........................................................................................\n",
      "RTS: 2.7.1 Ku-band Offset Pointing\n",
      "m024 m025\n",
      "/var/kat/archive/data/RTS/telescope_products/2016/04/05 1459871563.h5\n",
      "/home/kat/RTS/2.7-Pointing/offset_test_scan.py /home/kat/RTS/sources_bright_Ku.csv -f 12500.5 -r 1 -m 86400 -n off --fine --number-sources=10000 --proposal-id=COMM-RTS --product=c856M4k --sb-id-code=20160405-0022 --description=RTS: 2.7.1 Ku-band Offset Pointing --observer=RTS \n",
      "\n",
      "offset_58 offset_59 offset_52 offset_53 offset_50 offset_51 offset_56 offset_57 offset_54 offset_55 offset_69 offset_68 offset_67 offset_66 offset_65 offset_64 offset_63 offset_62 offset_61 offset_60 offset_70 offset_71 offset_72 offset_73 offset_74 offset_75 offset_76 offset_77 offset_78 offset_79 offset_89 offset_88 offset_85 offset_84 offset_87 offset_86 offset_81 offset_80 offset_83 offset_82 0454-234 offset_92 offset_90 offset_91 offset_19 offset_17 offset_14 offset_15 offset_12 offset_13 offset_10 offset_11 offset_18 OP158.3 3C454.3 offset_29 offset_28 offset_23 offset_22 offset_21 offset_20 offset_27 offset_26 offset_25 offset_24 1830-210 offset_38 offset_39 offset_34 offset_35 offset_36 offset_37 offset_30 offset_31 offset_32 offset_33 3C279 3C273 offset_9 offset_49 offset_48 OV236 offset_41 offset_40 offset_43 offset_42 offset_45 offset_44 offset_47 offset_46 offset_8 OJ287 offset_4 offset_5 offset_6 offset_7 offset_1 offset_2 offset_3\n",
      "........................................................................................\n",
      "RTS: 2.7 L-band Pointing L Band\n",
      "m014 m015\n",
      "/var/kat/archive/data/RTS/telescope_products/2016/04/08 1460107311.h5\n",
      "/home/kat/RTS/2.7-Pointing/point_source_scan.py /home/kat/RTS/sources_pnt_L.csv -r 1 -n coupler,10,10,180 -m 33000 --product=c856M4k -f 1284 --horizon=16 --proposal-id=COMM-RTS --sb-id-code=20160407-0036 --description=RTS: 2.7 L-band Pointing L Band --observer=RTS \n",
      "\n",
      "For A\n",
      "........................................................................................\n",
      "RTS: 2.7 L-band Pointing L Band\n",
      "m014 m015\n",
      "/var/kat/archive/data/RTS/telescope_products/2016/04/10 1460296825.h5\n",
      "/home/kat/RTS/2.7-Pointing/point_source_scan.py /home/kat/RTS/sources_pnt_L.csv -r 1 -n coupler,10,10,180 -m 60000 --product=c856M4k -f 1284 --horizon=16 --proposal-id=COMM-RTS --sb-id-code=20160408-0016 --description=RTS: 2.7 L-band Pointing L Band --observer=RTS \n",
      "\n",
      "3C 286 PKS 1934-63 3C 279 3C 358 PKS 2153-69 3C 409 3C 273 For A 3C 353 Pic A PKS 0410-75 Vir A Ori A PKS 1610-60 Tau A Her A PKS 1814-63 Hyd A 3C 123\n",
      "........................................................................................\n",
      "RTS: 2.7 L-band Pointing L Band\n",
      "m014 m015\n",
      "/var/kat/archive/data/RTS/telescope_products/2016/04/11 1460395224.h5\n",
      "/home/kat/RTS/2.7-Pointing/point_source_scan.py /home/kat/RTS/sources_pnt_L.csv -r 1 -n coupler,10,10,180 -m 28800 --product=c856M4k -f 1284 --horizon=16 --proposal-id=COMM-RTS --sb-id-code=20160411-0014 --description=RTS: 2.7 L-band Pointing L Band --observer=RTS \n",
      "\n",
      "3C 286 PKS 1934-63 3C 161 3C 358 3C 279 PKS 2153-69 3C 273 For A 3C 353 Pic A PKS 0410-75 Vir A Ori A PKS 0521-36 PKS 0408-65 PKS 1610-60 Tau A Her A PKS 1814-63 Hyd A\n",
      "........................................................................................\n",
      "RTS: 2.7 L-band Pointing L Band\n",
      "m014 m015\n",
      "/var/kat/archive/data/RTS/telescope_products/2016/04/13 1460574927.h5\n",
      "/home/kat/RTS/2.7-Pointing/point_source_scan.py /home/kat/RTS/sources_pnt_L.csv -r 1 -n coupler,10,10,180 -m 18000 --product=c856M4k -f 1284 --horizon=16 --proposal-id=COMM-RTS --sb-id-code=20160413-0022 --description=RTS: 2.7 L-band Pointing L Band --observer=RTS \n",
      "\n",
      "3C 286 3C 279 3C 358 PKS 2153-69 3C 273 Her A 3C 353 Pic A PKS 0410-75 Vir A PKS 1934-63 PKS 0521-36 PKS 0408-65 PKS 1610-60 PKS 1814-63 Hyd A\n",
      "........................................................................................\n",
      "RTS: 2.7 L-band Pointing L Band\n",
      "m003 m014 m015\n",
      "/var/kat/archive/data/RTS/telescope_products/2016/04/14 1460618267.h5\n",
      "/home/kat/RTS/2.7-Pointing/point_source_scan.py /home/kat/RTS/sources_pnt_L.csv -r 1 -n coupler,10,10,180 -m 30000 --product=c856M4k -f 1284 --horizon=16 --proposal-id=COMM-RTS --sb-id-code=20160414-0002 --description=RTS: 2.7 L-band Pointing L Band --observer=RTS \n",
      "\n",
      "For A PKS 1610-60 PKS 2153-69\n",
      "........................................................................................\n",
      "RTS: 2.7 L-band Pointing L Band\n",
      "m014 m015\n",
      "/var/kat/archive/data/RTS/telescope_products/2016/04/14 1460620743.h5\n",
      "/home/kat/RTS/2.7-Pointing/point_source_scan.py /home/kat/RTS/sources_pnt_L.csv -r 1 -n coupler,10,10,180 -m 30000 --product=c856M4k -f 1284 --horizon=16 --proposal-id=COMM-RTS --sb-id-code=20160414-0006 --description=RTS: 2.7 L-band Pointing L Band --observer=RTS \n",
      "\n",
      "Ori A 3C 161 PKS 2153-69 3C 48 For A PKS 2104-25 Pic A PKS 0410-75 PKS 1814-63 PKS 1934-63 PKS 0521-36 PKS 0408-65 3C 123\n",
      "........................................................................................\n",
      "RTS: 2.7 L-band Pointing L Band\n",
      "m003 m014 m015\n",
      "/var/kat/archive/data/RTS/telescope_products/2016/04/14 1460634256.h5\n",
      "/home/kat/RTS/2.7-Pointing/point_source_scan.py /home/kat/RTS/sources_pnt_L.csv -r 1 -n coupler,10,10,180 -m 30000 --product=c856M4k -f 1284 --horizon=16 --proposal-id=COMM-RTS --sb-id-code=20160414-0007 --description=RTS: 2.7 L-band Pointing L Band --observer=RTS \n",
      "\n",
      "3C 161 3C 279 PKS 2153-69 3C 273 For A Pic A PKS 0410-75 Vir A Ori A PKS 0521-36 PKS 0408-65 Tau A Hyd A 3C 123\n",
      "........................................................................................\n",
      "RTS: 2.7 L-band Pointing L Band\n",
      "m003 m014 m015\n",
      "/var/kat/archive/data/RTS/telescope_products/2016/04/16 1460796567.h5\n",
      "/home/kat/RTS/2.7-Pointing/point_source_scan.py /home/kat/RTS/sources_pnt_L.csv -r 1 -n off -m 36000 --product=c856M4k -f 1284 --horizon=16 --proposal-id=COMM-RTS --sb-id-code=20160415-0044 --description=RTS: 2.7 L-band Pointing L Band --observer=RTS \n",
      "\n",
      "Ori A 3C 161 PKS 2153-69 3C 48 3C 273 For A PKS 2104-25 Pic A PKS 0410-75 PKS 1814-63 PKS 1934-63 PKS 0521-36 PKS 0408-65 3C 454.3 Tau A Hyd A 3C 123 Vir A\n",
      "........................................................................................\n",
      "RTS: 2.7 L-band Pointing L Band\n",
      "m003 m014 m015\n",
      "/var/kat/archive/data/RTS/telescope_products/2016/04/17 1460898024.h5\n",
      "/home/kat/RTS/2.7-Pointing/point_source_scan.py /home/kat/RTS/sources_pnt_L.csv -r 1 -n off -m 15000 --product=c856M4k -f 1284 --horizon=16 --proposal-id=COMM-RTS --sb-id-code=20160415-0045 --description=RTS: 2.7 L-band Pointing L Band --observer=RTS \n",
      "\n",
      "3C 161 PKS 2153-69 For A Pic A PKS 0410-75 Ori A PKS 0521-36 PKS 0408-65 Tau A Hyd A 3C 123\n",
      "........................................................................................\n",
      "RTS: 2.7 L-band Pointing L Band\n",
      "m003 m014 m015\n",
      "/var/kat/archive/data/RTS/telescope_products/2016/04/19 1461030160.h5\n",
      "/home/kat/RTS/2.7-Pointing/point_source_scan.py /home/kat/RTS/sources_pnt_L.csv -r 1 -n off -m 15000 --product=c856M4k -f 1284 --horizon=16 --proposal-id=COMM-RTS --sb-id-code=20160418-0024 --description=RTS: 2.7 L-band Pointing L Band --observer=RTS \n",
      "\n",
      "3C 409 3C 279 3C 358 PKS 2153-69 PKS 0410-75 Her A PKS 2104-25 PKS 1814-63 3C 433 3C 353 PKS 1934-63 PKS 1610-60 3C 454.3\n",
      "........................................................................................\n",
      "RTS: 2.7 Ku-band Pointing\n",
      "m014 m015\n",
      "/var/kat/archive/data/RTS/telescope_products/2016/04/25 1461593370.h5\n",
      "/home/kat/RTS/2.7-Pointing/point_source_scan.py /home/kat/RTS/sources_pnt_Ku.csv -f 12499.5 -r 1 -n off -m 33000 --fine --product=c856M4k --horizon=16 --proposal-id=COMM-RTS --sb-id-code=20160425-0023 --description=RTS: 2.7 Ku-band Pointing --observer=RTS \n",
      "\n",
      "0420-014 2E1720 1830-210 1334-127 1741-038 2E1608 0454-463 OI-147 0451-282 1730-130 2E820 1613-586 1055 018 1421-490 0208-512 3C273 1622-253 2E3390 2E3408 3C286 3C120 3C279 1127-145 2E1203 NGC6328 0454-234 4C05.64 4C09.57 OJ287 0648-165\n",
      "........................................................................................\n",
      "RTS: 2.7 Ku-band Pointing\n",
      "m014 m015\n",
      "/var/kat/archive/data/RTS/telescope_products/2016/04/25 1461626502.h5\n",
      "/home/kat/RTS/2.7-Pointing/point_source_scan.py /home/kat/RTS/sources_pnt_Ku.csv -f 12499.5 -r 1 -n off -m 33000 --fine --product=c856M4k --horizon=16 --proposal-id=COMM-RTS --sb-id-code=20160425-0024 --description=RTS: 2.7 Ku-band Pointing --observer=RTS \n",
      "\n",
      "1334-127 NRAO5 1830-210 1741-038 NGC6328 1954-388 1730-130 1613-586 1055 018 1421-490 1920-211 1908-201 2052-474 3C454.3 2326-477 3C279 1622-253 2355-534 2E3390 WMAP16 4C11.69 2E3408 1127-145 OV236 4C05.64 4C09.57 2E4542 0208-512 4C-02.81 4C01.02 WMAP12 3C273 4C06.69\n",
      "........................................................................................\n",
      "RTS: 2.7 Ku-band Pointing\n",
      "m014 m015\n",
      "/var/kat/archive/data/RTS/telescope_products/2016/04/27 1461727933.h5\n",
      "/home/kat/RTS/2.7-Pointing/point_source_scan.py /home/kat/RTS/sources_pnt_Ku.csv -f 12499.5 -r 1 -n off -m 50400 --fine --product=c856M4k --horizon=16 --proposal-id=COMM-RTS --sb-id-code=20160426-0023 --description=RTS: 2.7 Ku-band Pointing --observer=RTS \n",
      "\n",
      "0420-014 NRAO5 2E1720 1741-038 NGC6328 0454-463 OI-147 0451-282 1730-130 2E820 1613-586 1055 018 1421-490 0208-512 4C01.02 1622-253 2E3390 2E3408 3C120 2E1203 2E1608 0454-234 4C05.64 OJ287 0648-165\n",
      "........................................................................................\n",
      "RTS: 2.7 Ku-band Pointing\n",
      "m014\n",
      "/var/kat/archive/data/RTS/telescope_products/2016/04/27 1461786199.h5\n",
      "/home/kat/RTS/2.7-Pointing/point_source_scan.py /home/kat/RTS/sources_pnt_Ku.csv -f 12499.5 -r 1 -n off -m 50400 --fine --product=c856M4k --horizon=16 --proposal-id=COMM-RTS --sb-id-code=20160427-0002 --description=RTS: 2.7 Ku-band Pointing --observer=RTS \n",
      "\n",
      "1334-127 NRAO5 2E1720 1830-210 1741-038 NGC6328 1954-388 OI-147 1730-130 1613-586 1055 018 1421-490 1920-211 1908-201 3C279 4C01.02 2326-477 3C273 1622-253 2052-474 2355-534 3C454.3 2E3390 WMAP16 4C11.69 2E3408 3C286 1127-145 OV236 4C-02.81 4C05.64 4C09.57 2E4542 0208-512 OJ287 0648-165 WMAP12 4C06.69\n",
      "........................................................................................\n",
      "RTS: 2.7 Ku-band Pointing\n",
      "m014 m015\n",
      "/var/kat/archive/data/RTS/telescope_products/2016/04/28 1461826958.h5\n",
      "/home/kat/RTS/2.7-Pointing/point_source_scan.py /home/kat/RTS/sources_pnt_Ku.csv -f 12499.5 -r 1 -n off -m 50400 --fine --product=c856M4k --horizon=16 --proposal-id=COMM-RTS --sb-id-code=20160427-0003 --description=RTS: 2.7 Ku-band Pointing --observer=RTS \n",
      "\n",
      "0420-014 4C01.02 2E1720 NGC6328 1954-388 0451-282 2E820 NRAO5 1920-211 1908-201 2052-474 3C454.3 2326-477 0208-512 2355-534 WMAP16 4C11.69 WMAP12 3C120 OV236 2E1203 2E1608 0454-234 4C-02.81 2E4542 4C06.69 0454-463\n",
      "........................................................................................\n",
      "RTS: 2.7 Ku-band Pointing\n",
      "m014 m015\n",
      "/var/kat/archive/data/RTS/telescope_products/2016/04/28 1461839225.h5\n",
      "/home/kat/RTS/2.7-Pointing/point_source_scan.py /home/kat/RTS/sources_pnt_Ku.csv -f 12499.5 -r 1 -n off -m 50400 --fine --product=c856M4k --horizon=16 --proposal-id=COMM-RTS --sb-id-code=20160428-0002 --description=RTS: 2.7 Ku-band Pointing --observer=RTS \n",
      "\n",
      "0451-282 0420-014 0454-234 2E820 2326-477 4C01.02 2E1720 NRAO5 2E1608 OI-147 WMAP12 0208-512 0648-165 3C120 2E1203 2355-534 0454-463\n",
      "........................................................................................\n",
      "RTS: 2.7 Ku-band Pointing\n",
      "m014 m015\n",
      "/var/kat/archive/data/RTS/telescope_products/2016/04/28 1461851509.h5\n",
      "/home/kat/RTS/2.7-Pointing/point_source_scan.py /home/kat/RTS/sources_pnt_Ku.csv -f 12499.5 -r 1 -n off -m 50400 --fine --product=c856M4k --horizon=16 --proposal-id=COMM-RTS --sb-id-code=20160428-0005 --description=RTS: 2.7 Ku-band Pointing --observer=RTS \n",
      "\n",
      "0451-282 0420-014 0454-234 3C273 2E820 2E1720 1421-490 1334-127 OJ287 2E1608 OI-147 1055 018 0208-512 0648-165 3C120 3C279 2E1203 1127-145 0454-463\n",
      "........................................................................................\n",
      "RTS: 2.7 Ku-band Pointing\n",
      "m014 m015\n",
      "/var/kat/archive/data/RTS/telescope_products/2016/04/29 1461940396.h5\n",
      "/home/kat/RTS/2.7-Pointing/point_source_scan.py /home/kat/RTS/sources_pnt_Ku.csv -f 12499.5 -r 1 -n off -m 18000 --fine --product=c856M4k --horizon=16 --proposal-id=COMM-RTS --sb-id-code=20160429-0014 --description=RTS: 2.7 Ku-band Pointing --observer=RTS \n",
      "\n",
      "0451-282 0420-014 0454-234 3C273 2E820 2E1720 1421-490 1334-127 OJ287 2E1608 OI-147 1055 018 0208-512 0648-165 3C120 3C279 2E1203 1127-145 0454-463\n",
      "........................................................................................\n"
     ]
    }
   ],
   "source": [
    "for fi in f:\n",
    "    print fi.metadata.Description\n",
    "    print listpr(fi.metadata.Antennas)\n",
    "    print fi.metadata.FileLocation, findh5(fi.metadata.Details)\n",
    "    print fi.metadata.InstructionSet,\"\\n\"\n",
    "    print listpr(fi.metadata.Targets)\n",
    "    print \".\"*88\n",
    "    "
   ]
  },
  {
   "cell_type": "code",
   "execution_count": 23,
   "metadata": {
    "collapsed": false
   },
   "outputs": [
    {
     "data": {
      "text/plain": [
       "[['1', '2016-04-01 22:17:25 SAST', 'RTS', [3776543793]],\n",
       " ['1', '2016-04-02 08:06:04 SAST', 'RTS', [39340898592]],\n",
       " ['1', '2016-04-03 08:38:22 SAST', 'RTS', [37932391955]],\n",
       " ['1', '2016-04-04 08:21:45 SAST', 'RTS', [3625055028]],\n",
       " ['1', '2016-04-04 15:56:22 SAST', 'RTS', [16414054282]],\n",
       " ['1', '2016-04-05 17:52:44 SAST', 'RTS', [24298484704]],\n",
       " ['1', '2016-04-08 11:21:53 SAST', 'RTS', [73571622]],\n",
       " ['1', '2016-04-10 16:00:27 SAST', 'RTS', [24317790697]],\n",
       " ['1', '2016-04-11 19:20:25 SAST', 'RTS', [12965413011]],\n",
       " ['1', '2016-04-13 21:15:28 SAST', 'RTS', [8070989867]],\n",
       " ['1', '2016-04-14 09:17:48 SAST', 'RTS', [1844285518]],\n",
       " ['1', '2016-04-14 09:59:05 SAST', 'RTS', [5996368201]],\n",
       " ['1', '2016-04-14 13:44:17 SAST', 'RTS', [22051005746]],\n",
       " ['1', '2016-04-16 10:49:29 SAST', 'RTS', [34379757032]],\n",
       " ['1', '2016-04-17 15:00:25 SAST', 'RTS', [13687451114]],\n",
       " ['1', '2016-04-19 03:42:41 SAST', 'RTS', [13634912141]],\n",
       " ['1', '2016-04-25 16:09:32 SAST', 'RTS', [14738620633]],\n",
       " ['1', '2016-04-26 01:21:43 SAST', 'RTS', [11302554724]],\n",
       " ['1', '2016-04-27 05:32:14 SAST', 'RTS', [22877482392]],\n",
       " ['1', '2016-04-27 21:43:20 SAST', 'RTS', [6026706727]],\n",
       " ['1', '2016-04-28 09:02:40 SAST', 'RTS', [5292276580]],\n",
       " ['1', '2016-04-28 12:27:06 SAST', 'RTS', [3302535507]],\n",
       " ['1', '2016-04-28 15:51:51 SAST', 'RTS', [6328824135]],\n",
       " ['1', '2016-04-29 16:33:17 SAST', 'RTS', [8250820395]]]"
      ]
     },
     "execution_count": 23,
     "metadata": {},
     "output_type": "execute_result"
    }
   ],
   "source": [
    "f"
   ]
  },
  {
   "cell_type": "code",
   "execution_count": 24,
   "metadata": {
    "collapsed": false
   },
   "outputs": [
    {
     "name": "stdout",
     "output_type": "stream",
     "text": [
      "01 1459541844.h5 RTS: 2.7 L-band Pointing L Band m014\n",
      "02 1459577161.h5 RTS: 2.7.1 Ku-band Offset Pointing m024 m025\n",
      "03 1459665501.h5 RTS: 2.7.1 Ku-band Offset Pointing m024 m025\n",
      "04 1459750904.h5 RTS: 2.7.1 Ku-band Offset Pointing m024 m025\n",
      "04 1459778181.h5 RTS: 2.7.1 Ku-band Offset Pointing 30 sources m024 m025\n",
      "05 1459871563.h5 RTS: 2.7.1 Ku-band Offset Pointing m024 m025\n",
      "08 1460107311.h5 RTS: 2.7 L-band Pointing L Band m014 m015\n",
      "10 1460296825.h5 RTS: 2.7 L-band Pointing L Band m014 m015\n",
      "11 1460395224.h5 RTS: 2.7 L-band Pointing L Band m014 m015\n",
      "13 1460574927.h5 RTS: 2.7 L-band Pointing L Band m014 m015\n",
      "14 1460618267.h5 RTS: 2.7 L-band Pointing L Band m003 m014 m015\n",
      "14 1460620743.h5 RTS: 2.7 L-band Pointing L Band m014 m015\n",
      "14 1460634256.h5 RTS: 2.7 L-band Pointing L Band m003 m014 m015\n",
      "16 1460796567.h5 RTS: 2.7 L-band Pointing L Band m003 m014 m015\n",
      "17 1460898024.h5 RTS: 2.7 L-band Pointing L Band m003 m014 m015\n",
      "19 1461030160.h5 RTS: 2.7 L-band Pointing L Band m003 m014 m015\n",
      "25 1461593370.h5 RTS: 2.7 Ku-band Pointing m014 m015\n",
      "26 1461626502.h5 RTS: 2.7 Ku-band Pointing m014 m015\n",
      "27 1461727933.h5 RTS: 2.7 Ku-band Pointing m014 m015\n",
      "27 1461786199.h5 RTS: 2.7 Ku-band Pointing m014\n",
      "28 1461826958.h5 RTS: 2.7 Ku-band Pointing m014 m015\n",
      "28 1461839225.h5 RTS: 2.7 Ku-band Pointing m014 m015\n",
      "28 1461851509.h5 RTS: 2.7 Ku-band Pointing m014 m015\n",
      "29 1461940396.h5 RTS: 2.7 Ku-band Pointing m014 m015\n"
     ]
    }
   ],
   "source": [
    "for fi in f:\n",
    "    x= repr(fi)\n",
    "    pr=x.split(\",\")\n",
    "    print pr[1][10:12],findh5(fi.metadata.Details) , fi.metadata.Description, listpr(fi.metadata.Antennas)"
   ]
  },
  {
   "cell_type": "code",
   "execution_count": 25,
   "metadata": {
    "collapsed": false
   },
   "outputs": [
    {
     "name": "stdout",
     "output_type": "stream",
     "text": [
      "Searched using: CAS.ProductTypeName:(RTSTelescopeProduct) AND CAS.ProductTransferStatus:RECEIVED AND Description:Interferometric_Pointing AND StartTime:[2016-03-31T22:00:00Z TO 2016-04-30T21:59:59Z]\n",
      "Returning 0 results\n"
     ]
    },
    {
     "data": {
      "text/plain": [
       "[]"
      ]
     },
     "execution_count": 25,
     "metadata": {},
     "output_type": "execute_result"
    }
   ],
   "source": [
    "\n",
    "f2=katarchive.search_archive(description=\"Interferometric_Pointing\",startdate=start,enddate=end)\n",
    "\n",
    "f2.sort(key=lambda k: k.metadata.StartTime)\n",
    "f2"
   ]
  },
  {
   "cell_type": "code",
   "execution_count": 26,
   "metadata": {
    "collapsed": false
   },
   "outputs": [],
   "source": [
    "for fi in f2:\n",
    "    print fi.metadata.Description\n",
    "    print listpr(fi.metadata.Antennas)\n",
    "    print fi.metadata.FileLocation, findh5(fi.metadata.Details)\n",
    "    print fi.metadata.InstructionSet,\"\\n\"\n",
    "    print listpr(fi.metadata.Targets)\n",
    "    print \".\"*88"
   ]
  },
  {
   "cell_type": "code",
   "execution_count": 27,
   "metadata": {
    "collapsed": false,
    "scrolled": true
   },
   "outputs": [
    {
     "data": {
      "text/plain": [
       "[]"
      ]
     },
     "execution_count": 27,
     "metadata": {},
     "output_type": "execute_result"
    }
   ],
   "source": [
    "f2.sort(key=lambda k: k.metadata.StartTime)\n",
    "f2"
   ]
  },
  {
   "cell_type": "code",
   "execution_count": 28,
   "metadata": {
    "collapsed": false
   },
   "outputs": [],
   "source": [
    "for fi in f2:\n",
    "    x= repr(fi)\n",
    "    pr=x.split(\",\")\n",
    "    print pr[1][10:12],findh5(fi.metadata.Details),fi.metadata.Description,listpr(fi.metadata.Antennas)"
   ]
  }
 ],
 "metadata": {
  "kernelspec": {
   "display_name": "Python 2",
   "language": "python",
   "name": "python2"
  },
  "language_info": {
   "codemirror_mode": {
    "name": "ipython",
    "version": 2
   },
   "file_extension": ".py",
   "mimetype": "text/x-python",
   "name": "python",
   "nbconvert_exporter": "python",
   "pygments_lexer": "ipython2",
   "version": "2.7.6"
  }
 },
 "nbformat": 4,
 "nbformat_minor": 0
}
