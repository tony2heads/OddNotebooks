{
 "cells": [
  {
   "cell_type": "markdown",
   "metadata": {},
   "source": [
    "# From\n",
    "https://casa.nrao.edu/Release4.1.0/doc/UserMan/UserMansu294.html\n",
    "\n",
    "Number of facets needed \n",
    "\n",
    "$N = \\frac{B_{max}\\lambda} {D^2}$\n",
    "\n",
    "B is baseline\n",
    "$\\lambda$ is wavelength\n",
    "D is dish diameter\n"
   ]
  },
  {
   "cell_type": "code",
   "execution_count": 16,
   "metadata": {},
   "outputs": [],
   "source": [
    "#Short baselines, the core\n",
    "B=1000 #m\n",
    "la=0.2 #walevength in meters\n",
    "D=13.5 # a MeerKAT dish diamter i\n"
   ]
  },
  {
   "cell_type": "code",
   "execution_count": 17,
   "metadata": {
    "collapsed": true
   },
   "outputs": [],
   "source": [
    "def l(freq):\n",
    "    \"\"\"\n",
    "    Frequency in GHz to wavelength in metres\n",
    "    \"\"\"\n",
    "    la=0.2998/freq\n",
    "    return la"
   ]
  },
  {
   "cell_type": "code",
   "execution_count": 18,
   "metadata": {
    "collapsed": true
   },
   "outputs": [],
   "source": [
    "def n(B,lam,D=13.5):\n",
    "    n=B*lam/D**2\n",
    "    return n\n"
   ]
  },
  {
   "cell_type": "code",
   "execution_count": 19,
   "metadata": {},
   "outputs": [
    {
     "name": "stdout",
     "output_type": "stream",
     "text": [
      "1.26537933945\n"
     ]
    }
   ],
   "source": [
    "print n(1000,l(1.3),13.5)"
   ]
  },
  {
   "cell_type": "markdown",
   "metadata": {},
   "source": [
    "# Dont bother with facets for the core baselines"
   ]
  },
  {
   "cell_type": "code",
   "execution_count": 20,
   "metadata": {},
   "outputs": [
    {
     "name": "stdout",
     "output_type": "stream",
     "text": [
      "9.21810699588\n"
     ]
    }
   ],
   "source": [
    "print n(8000,0.21,13.5)"
   ]
  },
  {
   "cell_type": "markdown",
   "metadata": {},
   "source": [
    "# Want them for longer baselines"
   ]
  }
 ],
 "metadata": {
  "kernelspec": {
   "display_name": "Python 2",
   "language": "python",
   "name": "python2"
  },
  "language_info": {
   "codemirror_mode": {
    "name": "ipython",
    "version": 2
   },
   "file_extension": ".py",
   "mimetype": "text/x-python",
   "name": "python",
   "nbconvert_exporter": "python",
   "pygments_lexer": "ipython2",
   "version": "2.7.6"
  }
 },
 "nbformat": 4,
 "nbformat_minor": 2
}
