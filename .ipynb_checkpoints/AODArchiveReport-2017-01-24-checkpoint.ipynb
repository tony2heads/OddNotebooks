{
 "cells": [
  {
   "cell_type": "code",
   "execution_count": 14,
   "metadata": {
    "collapsed": true
   },
   "outputs": [],
   "source": [
    "import pysolr"
   ]
  },
  {
   "cell_type": "code",
   "execution_count": 15,
   "metadata": {
    "collapsed": true
   },
   "outputs": [],
   "source": [
    "search_string = ''#['basic_health.py']\n",
    "#search_string = ''"
   ]
  },
  {
   "cell_type": "code",
   "execution_count": 16,
   "metadata": {
    "collapsed": false
   },
   "outputs": [
    {
     "name": "stdout",
     "output_type": "stream",
     "text": [
      "55\n"
     ]
    }
   ],
   "source": [
    "archive = pysolr.Solr('http://kat-archive.kat.ac.za:8983/solr/kat_core')\n",
    "search_str = []\n",
    "search_str.append('InstructionSet:\"%s\"'%search_string)\n",
    "#search_str.append('NumFreqChannels:%d'%(1024*32))\n",
    "search_str.append('CAS.ProductTypeName:MeerKATAR1TelescopeProduct')\n",
    "#search_str.append('CAS.ProductTypeName:KatFile')\n",
    "search_str.append('StartTime:[2017-01-24T00:00:00Z TO 2017-02-01T00:00:00Z]')\n",
    "search_string = ' AND '.join(search_str)\n",
    "ar_res = archive.search( search_string ,rows=10000,**{'sort':'StartTime asc'})\n",
    "print ar_res.hits"
   ]
  },
  {
   "cell_type": "code",
   "execution_count": 17,
   "metadata": {
    "collapsed": false
   },
   "outputs": [
    {
     "name": "stdout",
     "output_type": "stream",
     "text": [
      "Simphiwe|2017-01-24T16:13:55Z|20170124-0019|AR1: Basic functionality test|4096|11| 3.44|/var/kat/archive2/data/MeerKATAR1/telescope_products/2017/01/24/1485274430.h5\n",
      "Simphiwe|2017-01-24T16:37:09Z|20170124-0021|Generic AR1 phaseup|4096|11| 0.73|/var/kat/archive2/data/MeerKATAR1/telescope_products/2017/01/24/1485275825.h5\n",
      "Maciej|2017-01-24T16:46:50Z|20170124-0022|Comm: COMM-173 PKS 0408-65 drift scan|4096|11| 6.87|/var/kat/archive2/data/MeerKATAR1/telescope_products/2017/01/24/1485276378.h5\n",
      "Maciej|2017-01-24T17:46:14Z|20170124-0025|AR1: MKAIV-214 Phase-up 0408-65|4096|10| 0.84|/var/kat/archive2/data/MeerKATAR1/telescope_products/2017/01/24/1485279973.h5\n",
      "Maciej|2017-01-24T17:54:16Z|20170124-0026|Comm: COMM-173 PKS 0408-65 drift scan|4096|10| 5.07|/var/kat/archive2/data/MeerKATAR1/telescope_products/2017/01/24/1485280435.h5\n",
      "Maciej|2017-01-24T18:37:51Z|20170124-0030|AR1: MKAIV-214 Phase-up 0408-65|4096|10| 0.87|/var/kat/archive2/data/MeerKATAR1/telescope_products/2017/01/24/1485283069.h5\n",
      "Maciej|2017-01-24T18:48:01Z|20170124-0031|Comm: COMM-173 Tau A drift scan|4096|10| 5.09|/var/kat/archive2/data/MeerKATAR1/telescope_products/2017/01/24/1485283566.h5\n",
      "sarah|2017-01-24T20:03:58Z|20170124-0032|AR1: MKAIV-214 Phase-up 0408-65|4096|10| 1.03|/var/kat/archive2/data/MeerKATAR1/telescope_products/2017/01/24/1485288233.h5\n",
      "Lindsay|2017-01-24T20:37:41Z|20170124-0028|Generic Phaseup for all targets|4096|10| 0.62|/var/kat/archive2/data/MeerKATAR1/telescope_products/2017/01/24/1485290254.h5\n",
      "AR1|2017-01-24T20:43:07Z|20170124-0029|AR1: MKAIV-295 Calibrator Imaging observation|4096|10|57.18|/var/kat/archive2/data/MeerKATAR1/telescope_products/2017/01/24/1485290581.h5\n",
      "benjamin|2017-01-24T21:16:42Z|20170124-0003|Radial holography Ku Band scanning m020, INTELSAT 22 (IS-22), num-scans 62, scan-duration 26, 36 cycles|4096|2|153.95|/var/kat/archive/data/MeerKATAR1/telescope_products/2017/01/24/1485292601.h5\n",
      "CAM|2017-01-25T09:24:14Z|20170125-0008|AR1: MKAIV-388 CBF J1644-4559|4096|8| 0.02|/var/kat/archive2/data/MeerKATAR1/telescope_products/2017/01/25/1485335941.h5\n",
      "sarah|2017-01-25T09:39:59Z|20170125-0012|AR1: MKAIV-387 CBF J1644-4559|4096|4| 0.05|/var/kat/archive2/data/MeerKATAR1/telescope_products/2017/01/25/1485337164.h5\n",
      "CAM|2017-01-25T09:54:19Z|20170125-0013|AR1: MKAIV-387 CBF J1644-4559|4096|4| 0.02|/var/kat/archive2/data/MeerKATAR1/telescope_products/2017/01/25/1485338024.h5\n",
      "CAM|2017-01-25T09:56:29Z|20170125-0014|AR1: MKAIV-387 CBF J1644-4559|4096|4| 0.05|/var/kat/archive2/data/MeerKATAR1/telescope_products/2017/01/25/1485338160.h5\n",
      "CAM|2017-01-25T10:02:52Z|20170125-0016|AR1: MKAIV-387 CBF J1644-4559|4096|4| 0.05|/var/kat/archive2/data/MeerKATAR1/telescope_products/2017/01/25/1485338540.h5\n",
      "sarah|2017-01-25T10:06:22Z|20170125-0015|AR1: MKAIV-387 CBF J1644-4559|4096|4| 0.05|/var/kat/archive2/data/MeerKATAR1/telescope_products/2017/01/25/1485338757.h5\n",
      "sarah|2017-01-25T10:11:02Z|20170125-0017|AR1: MKAIV-387 CBF J1644-4559|4096|4| 0.05|/var/kat/archive2/data/MeerKATAR1/telescope_products/2017/01/25/1485339034.h5\n",
      "Tiyani|2017-01-25T15:42:14Z|20170125-0018|Generic AR1 phaseup|4096|12| 1.25|/var/kat/archive2/data/MeerKATAR1/telescope_products/2017/01/25/1485358928.h5\n",
      "Tiyani|2017-01-25T15:51:45Z|20170125-0020|AR1: MKAIV-216 Phase-down|4096|12| 0.77|/var/kat/archive2/data/MeerKATAR1/telescope_products/2017/01/25/1485359497.h5\n",
      "Tiyani|2017-01-25T15:56:43Z|20170125-0019|AR1: Basic functionality test|4096|12| 4.06|/var/kat/archive2/data/MeerKATAR1/telescope_products/2017/01/25/1485359796.h5\n",
      "Tiyani|2017-01-25T16:20:21Z|20170125-0021|Generic AR1 phaseup|4096|12| 0.90|/var/kat/archive2/data/MeerKATAR1/telescope_products/2017/01/25/1485361215.h5\n",
      "AR1|2017-01-25T16:29:28Z|20170125-0022|AR1: MKAIV-111 L-band Pointing L Band|4096|12|54.48|/var/kat/archive2/data/MeerKATAR1/telescope_products/2017/01/25/1485361760.h5\n",
      "AR1|2017-01-25T21:40:12Z|20170125-0026|Generic AR1 phaseup|4096|12| 1.02|/var/kat/archive2/data/MeerKATAR1/telescope_products/2017/01/25/1485380405.h5\n",
      "AR1|2017-01-25T22:00:14Z|20170125-0024|Gain_Stability|4096|12|108.37|/var/kat/archive2/data/MeerKATAR1/telescope_products/2017/01/25/1485381607.h5\n",
      "benjamin|2017-01-25T22:20:00Z|20170125-0004|Radial holography Ku Band scanning m018, INTELSAT 22 (IS-22), num-scans 62, scan-duration 26, 36 cycles|4096|2|41.88|/var/kat/archive/data/MeerKATAR1/telescope_products/2017/01/25/1485382797.h5\n",
      "benjamin|2017-01-26T05:10:37Z|20170126-0001|Raster Scan of NGC 6334, radec, 17 20 50.9, -36 06 54|4096|2| 1.86|/var/kat/archive/data/MeerKATAR1/telescope_products/2017/01/26/1485407436.h5\n",
      "RTS|2017-01-26T05:40:09Z|20170125-0006|Raster Scan of NGC 6334, radec, 17 20 50.9, -36 06 54|4096|2| 2.03|/var/kat/archive/data/MeerKATAR1/telescope_products/2017/01/26/1485409208.h5\n",
      "RTS|2017-01-26T06:00:10Z|20170125-0007|Raster Scan of NGC 6334, radec, 17 20 50.9, -36 06 54|4096|2| 2.05|/var/kat/archive/data/MeerKATAR1/telescope_products/2017/01/26/1485410409.h5\n",
      "RTS|2017-01-26T06:34:00Z|20170125-0008|Raster Scan of NGC 6334, radec, 17 20 50.9, -36 06 54|4096|2| 0.50|/var/kat/archive/data/MeerKATAR1/telescope_products/2017/01/26/1485412438.h5\n",
      "RTS|2017-01-26T07:00:38Z|20170126-0002|Radial holography Ku Band scanning m018, NGC 6334, num-scans 62, scan-duration 26, 4 cycles|4096|2|17.95|/var/kat/archive/data/MeerKATAR1/telescope_products/2017/01/26/1485414037.h5\n",
      "AR1|2017-01-26T08:31:45Z|20170126-0005|Generic AR1 phaseup|4096|11| 0.68|/var/kat/archive2/data/MeerKATAR1/telescope_products/2017/01/26/1485419465.h5\n",
      "AR1|2017-01-26T08:36:57Z|20170126-0003|AR1: MKAIV-295 Calibrator Imaging observation|4096|11|55.02|/var/kat/archive2/data/MeerKATAR1/telescope_products/2017/01/26/1485419809.h5\n",
      "RTS|2017-01-26T10:03:47Z|20170126-0003|Raster Scan of  NGC 6334F, radec, 17 20 53.4, -35 47 01|4096|2| 2.71|/var/kat/archive/data/MeerKATAR1/telescope_products/2017/01/26/1485425025.h5\n",
      "RTS|2017-01-26T13:42:34Z|20170126-0009|Raster Scan of INTELSAT 12|4096|2| 0.47|/var/kat/archive/data/MeerKATAR1/telescope_products/2017/01/26/1485438152.h5\n",
      "RTS|2017-01-26T14:12:49Z|20170126-0010|Radial holography Ku Band scanning m020, INTELSAT 12 (IS-12), num-scans 62, scan-duration 26, 10 cycles|4096|2| 0.23|/var/kat/archive/data/MeerKATAR1/telescope_products/2017/01/26/1485439968.h5\n",
      "RTS|2017-01-26T14:15:31Z|20170126-0011|Radial holography Ku Band scanning m018, INTELSAT 12 (IS-12), num-scans 62, scan-duration 26, 10 cycles|4096|2| 0.16|/var/kat/archive/data/MeerKATAR1/telescope_products/2017/01/26/1485440130.h5\n",
      "RTS|2017-01-26T14:17:34Z|20170126-0012|Radial holography Ku Band scanning m020, INTELSAT 12 (IS-12), num-scans 62, scan-duration 26, 10 cycles|4096|2|43.43|/var/kat/archive/data/MeerKATAR1/telescope_products/2017/01/26/1485440253.h5\n",
      "Tiyani|2017-01-26T15:22:47Z|20170126-0006|AR1: Basic functionality test|4096|12| 0.53|/var/kat/archive2/data/MeerKATAR1/telescope_products/2017/01/26/1485443962.h5\n",
      "Tiyani|2017-01-26T15:31:21Z|20170126-0007|AR1: Basic functionality test|4096|12| 0.66|/var/kat/archive2/data/MeerKATAR1/telescope_products/2017/01/26/1485444675.h5\n",
      "Tiyani|2017-01-26T15:48:25Z|20170126-0008|Generic AR1 phaseup|4096|12| 0.65|/var/kat/archive2/data/MeerKATAR1/telescope_products/2017/01/26/1485445699.h5\n",
      "Tiyani|2017-01-26T15:54:28Z|20170126-0009|Generic AR1 phaseup|4096|12| 0.65|/var/kat/archive2/data/MeerKATAR1/telescope_products/2017/01/26/1485446062.h5\n",
      "Tiyani|2017-01-26T16:02:25Z|20170126-0010|Generic AR1 phaseup|4096|12| 0.65|/var/kat/archive2/data/MeerKATAR1/telescope_products/2017/01/26/1485446538.h5\n",
      "sarah|2017-01-26T16:48:22Z|20170126-0011|AR1: MKAIV-214 Phase-up 0408-65|4096|11| 0.83|/var/kat/archive2/data/MeerKATAR1/telescope_products/2017/01/26/1485449295.h5\n",
      "Tiyani|2017-01-26T16:59:31Z|20170126-0012|Generic AR1 phaseup|4096|11| 0.82|/var/kat/archive2/data/MeerKATAR1/telescope_products/2017/01/26/1485449965.h5\n",
      "Tiyani|2017-01-26T17:17:14Z|20170126-0013|Generic AR1 phaseup|4096|12| 0.96|/var/kat/archive2/data/MeerKATAR1/telescope_products/2017/01/26/1485451028.h5\n",
      "Tiyani|2017-01-26T17:24:50Z|20170126-0014|AR1: Basic functionality test|4096|12| 4.02|/var/kat/archive2/data/MeerKATAR1/telescope_products/2017/01/26/1485451483.h5\n",
      "Maciej|2017-01-26T18:33:48Z|20170126-0017|AR1: MKAIV-214 Phase-up 0408-65|4096|10| 0.85|/var/kat/archive2/data/MeerKATAR1/telescope_products/2017/01/26/1485455625.h5\n",
      "Maciej|2017-01-26T18:43:09Z|20170126-0018|Comm: COMM-173 Tau A drift scan|4096|10| 5.07|/var/kat/archive2/data/MeerKATAR1/telescope_products/2017/01/26/1485456072.h5\n",
      "Tiyani|2017-01-26T20:15:34Z|20170126-0023|AR1: Basic functionality test|4096|12| 4.04|/var/kat/archive2/data/MeerKATAR1/telescope_products/2017/01/26/1485461661.h5\n",
      "AR1|2017-01-26T20:41:22Z|20170126-0024|AR1: MKAIV-216 Phase-down|4096|12| 0.77|/var/kat/archive2/data/MeerKATAR1/telescope_products/2017/01/26/1485463275.h5\n",
      "AR1|2017-01-26T20:49:41Z|20170126-0028|AR1: MKAIV-216 Phase-down|4096|12| 0.67|/var/kat/archive2/data/MeerKATAR1/telescope_products/2017/01/26/1485463775.h5\n",
      "AR1|2017-01-26T20:54:25Z|20170126-0025|AR1: MKAIV-232 Baseline calibration|4096|12|64.98|/var/kat/archive2/data/MeerKATAR1/telescope_products/2017/01/26/1485464059.h5\n",
      "benjamin|2017-01-26T21:21:54Z|20170126-0013|Radial holography Ku Band scanning m018, INTELSAT 12 (IS-12), num-scans 62, scan-duration 26, 10 cycles|4096|2|44.52|/var/kat/archive/data/MeerKATAR1/telescope_products/2017/01/26/1485465713.h5\n",
      "AR1|2017-01-27T03:04:09Z|20170126-0026|Generic AR1 phaseup|4096|12| 1.06|/var/kat/archive2/data/MeerKATAR1/telescope_products/2017/01/27/1485486242.h5\n"
     ]
    }
   ],
   "source": [
    "for r in ar_res.docs:\n",
    "    try:\n",
    "        print \"%s|%s|%s|%s|%d|%d|%5.2f|%s\"%(r['Observer'],r['StartTime'],r['ScheduleBlockIdCode'],r['Description'], r['NumFreqChannels'],len(r['Antennas']),r['FileSize'][0]/1024.0**3,r['CAS.ReferenceDatastore'][0][5:])\n",
    "    except:\n",
    "        continue"
   ]
  },
  {
   "cell_type": "code",
   "execution_count": null,
   "metadata": {
    "collapsed": true
   },
   "outputs": [],
   "source": []
  }
 ],
 "metadata": {
  "kernelspec": {
   "display_name": "Python 2",
   "language": "python",
   "name": "python2"
  },
  "language_info": {
   "codemirror_mode": {
    "name": "ipython",
    "version": 2
   },
   "file_extension": ".py",
   "mimetype": "text/x-python",
   "name": "python",
   "nbconvert_exporter": "python",
   "pygments_lexer": "ipython2",
   "version": "2.7.6"
  }
 },
 "nbformat": 4,
 "nbformat_minor": 2
}
