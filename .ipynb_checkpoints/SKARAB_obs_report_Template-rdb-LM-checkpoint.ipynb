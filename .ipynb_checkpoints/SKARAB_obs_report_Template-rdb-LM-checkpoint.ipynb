{
 "cells": [
  {
   "cell_type": "markdown",
   "metadata": {},
   "source": [
    "# AR1 Observation report"
   ]
  },
  {
   "cell_type": "code",
   "execution_count": 6,
   "metadata": {},
   "outputs": [
    {
     "ename": "ImportError",
     "evalue": "No module named katsdptelstate",
     "output_type": "error",
     "traceback": [
      "\u001b[0;31m\u001b[0m",
      "\u001b[0;31mImportError\u001b[0mTraceback (most recent call last)",
      "\u001b[0;32m<ipython-input-6-81bc52857c60>\u001b[0m in \u001b[0;36m<module>\u001b[0;34m()\u001b[0m\n\u001b[1;32m      1\u001b[0m \u001b[0;32mimport\u001b[0m \u001b[0mkatdal\u001b[0m\u001b[0;34m\u001b[0m\u001b[0m\n\u001b[0;32m----> 2\u001b[0;31m \u001b[0;32mimport\u001b[0m \u001b[0mkatsdptelstate\u001b[0m\u001b[0;34m\u001b[0m\u001b[0m\n\u001b[0m",
      "\u001b[0;31mImportError\u001b[0m: No module named katsdptelstate"
     ]
    }
   ],
   "source": [
    "import katdal\n",
    "import katsdptelstate"
   ]
  },
  {
   "cell_type": "code",
   "execution_count": null,
   "metadata": {
    "collapsed": true
   },
   "outputs": [],
   "source": [
    "\n",
    "rdb=\"http://stgr1.sdp.mkat.chpc.kat.ac.za:7480/1524852817/1524852817_sdp_l0.rdb\"\n",
    "\n"
   ]
  },
  {
   "cell_type": "code",
   "execution_count": null,
   "metadata": {
    "collapsed": true
   },
   "outputs": [],
   "source": [
    "data = katdal.open(rdb)\n",
    "\n",
    "ind = []\n",
    "\n",
    "for c in data.corr_products:\n",
    "\n",
    "    if ('m000h' in c[0]) and (c[-1].endswith('h')):\n",
    "\n",
    "        ind.append(True)\n",
    "\n",
    "    else:\n",
    "\n",
    "        ind.append(False)\n",
    "\n",
    "ants = data.corr_products[ind]\n",
    "\n",
    "data.select(targets=[0,2],scans='track',corrprods=ind,pol='h',channels=slice(2000,3800))\n",
    "\n",
    "vis = data.vis[:]\n",
    "\n",
    "for i in range(1,61):\n",
    "\n",
    "    subplot(6,10,i)\n",
    "\n",
    "    imshow(angle(vis[:,:,i]),aspect = 'auto')\n",
    "\n",
    "    xticks([])\n",
    "\n",
    "    yticks([])\n",
    "\n",
    "    title(ants[i][-1])"
   ]
  }
 ],
 "metadata": {
  "kernelspec": {
   "display_name": "Python 2",
   "language": "python",
   "name": "python2"
  },
  "language_info": {
   "codemirror_mode": {
    "name": "ipython",
    "version": 2
   },
   "file_extension": ".py",
   "mimetype": "text/x-python",
   "name": "python",
   "nbconvert_exporter": "python",
   "pygments_lexer": "ipython2",
   "version": "2.7.6"
  }
 },
 "nbformat": 4,
 "nbformat_minor": 1
}
