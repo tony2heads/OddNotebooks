{
 "cells": [
  {
   "cell_type": "markdown",
   "metadata": {},
   "source": [
    "# Saastamoinen tropospheric  delay model\n",
    "\n",
    "Temperature $T$\n",
    "\n",
    "pressure $p_H$\n",
    "\n",
    "Water vapour pressure $p_w$\n",
    "\n",
    "Humidity (in %) $H$\n",
    "\n",
    "Height $h$ in metres \n",
    "\n",
    "\n",
    "\n",
    "$$d_t = \\frac{0.002277}{cos(z)} [ p_H+ (\\frac{1255}{T} +0.005)p_w - tan^2(z)]$$\n",
    "\n",
    "$p_H=p_{H_0}(1-0.0000226(h-h_0)^{5.225}$ mbar\n",
    "\n",
    "$T=T_0 -0.0065(h-h_0)$ Celcius\n",
    "\n",
    "$H= H_0 e^{-0.0006396(h-h_0)} $ percent\n",
    "\n",
    "$p_w = H e^{-37.2465 +0.213166T -0.000256908T^2}$ "
   ]
  },
  {
   "cell_type": "code",
   "execution_count": 20,
   "metadata": {
    "collapsed": true
   },
   "outputs": [],
   "source": [
    "T=32. \n",
    "H=10.\n",
    "h=1038.\n",
    "h0=0.\n",
    "\n"
   ]
  },
  {
   "cell_type": "code",
   "execution_count": 21,
   "metadata": {},
   "outputs": [
    {
     "name": "stdout",
     "output_type": "stream",
     "text": [
      "pressure at height 1038.0 is 894.834413144 mbar\n",
      "temp at height 1038.0 is 23.253 Celsius\n"
     ]
    }
   ],
   "source": [
    "import numpy as np\n",
    "\n",
    "def pw(H,T):\n",
    "    w=H*np.exp(-37.2465 +0.213166*T -0.000256908*T**2)\n",
    "    return w #percent\n",
    "\n",
    "def T(t0,h,h0):\n",
    "    t=t0 -0.0065*(h-h0)\n",
    "    return t #Celsius\n",
    "\n",
    "def H(H0,h,h0):\n",
    "    H=H0*np.exp(-0.0006396*(h-h0))\n",
    "    return h #percent\n",
    "\n",
    "def ph(pH0,h,h0):\n",
    "    p=pH0*(1-0.0000226*(h-h0))**5.225\n",
    "    return p #millibar\n",
    "\n",
    "def delay(zen,ph,T,pw):\n",
    "    z=np.radians(zen)\n",
    "    d=0.002277*(ph + (1255./T +0.05)*pw - (np.tan(z))**2)\n",
    "    d=d/np.cos(z)\n",
    "    return d #metres?\n",
    "\n",
    "\n",
    "print \"pressure at height\",h,\"is\", ph(1013.,1038,0),\"mbar\"\n",
    "print \"temp at height\",h,\"is\",T(30.0, 1038,0),\"Celsius\""
   ]
  },
  {
   "cell_type": "code",
   "execution_count": 22,
   "metadata": {},
   "outputs": [
    {
     "name": "stdout",
     "output_type": "stream",
     "text": [
      "3.0029835 metre\n"
     ]
    }
   ],
   "source": [
    "print delay(zen=0,ph=900,T=30,pw=10),\"metre\""
   ]
  },
  {
   "cell_type": "markdown",
   "metadata": {},
   "source": [
    "# GALILEO model\n",
    "see\n",
    "http://www.navipedia.net/index.php/GALILEO_Tropospheric_Correction_Model\n"
   ]
  },
  {
   "cell_type": "code",
   "execution_count": 23,
   "metadata": {},
   "outputs": [
    {
     "name": "stdout",
     "output_type": "stream",
     "text": [
      "2.0576303193\n"
     ]
    }
   ],
   "source": [
    "def gm(h=1038.,lat=-30.7): # gravity at site\n",
    "    h=h/1000. # they want km above ellipsoid\n",
    "    phi=np.radians(lat)\n",
    "    g=9.784*(1-0.00266*np.cos(2*phi) -0.0028*h)\n",
    "    return g\n",
    "    \n",
    "def zhd(p=900.): # zenith hydrostatic delay\n",
    "    z=gm()/9.784\n",
    "    d=0.0022767*p/z\n",
    "    return d # in metres\n",
    "\n",
    "print zhd()"
   ]
  },
  {
   "cell_type": "code",
   "execution_count": 24,
   "metadata": {},
   "outputs": [
    {
     "name": "stdout",
     "output_type": "stream",
     "text": [
      "0.414151702024\n"
     ]
    }
   ],
   "source": [
    "def zwd(e,T,lam=0): #zenith hydrostatic wet delay\n",
    "    # e is water vapour pressure at site\n",
    "    # lam is a local climatological parameter (fudge)\n",
    "    T=T+237.1 # from Celsius to Kelvin \n",
    "    Tm=T-15 # guestimated average for air column\n",
    "    Rd=287.054 # Gas constant\n",
    "    K3=3.75463e5\n",
    "    zwd=1e-6*Rd*K3*e/(gm()*T*(lam+1))\n",
    "    return zwd\n",
    "\n",
    "print zwd(e=10,T=30,lam=0)\n",
    "    "
   ]
  }
 ],
 "metadata": {
  "kernelspec": {
   "display_name": "Python 2",
   "language": "python",
   "name": "python2"
  },
  "language_info": {
   "codemirror_mode": {
    "name": "ipython",
    "version": 2
   },
   "file_extension": ".py",
   "mimetype": "text/x-python",
   "name": "python",
   "nbconvert_exporter": "python",
   "pygments_lexer": "ipython2",
   "version": "2.7.6"
  }
 },
 "nbformat": 4,
 "nbformat_minor": 2
}
