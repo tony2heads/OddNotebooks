{
 "metadata": {
  "name": "",
  "signature": "sha256:98d3050964edf2559bdfbd66490f6f25c004f981c7f5259bfccd132615b70355"
 },
 "nbformat": 3,
 "nbformat_minor": 0,
 "worksheets": [
  {
   "cells": [
    {
     "cell_type": "code",
     "collapsed": false,
     "input": [
      "# A little script of how to plot gains with miriad-python\n",
      "# claw 26feb09\n",
      "\n",
      "import miriad, numpy, pylab\n",
      "from mirtask import readgains\n",
      "\n",
      "# read in data\n",
      "ds = miriad.Data ('/home/tony/Desktop/KATmaps/ATEL4770/2013-02-02/J1427-421.mir/').open ('rw')\n",
      "# this is just an example\n",
      "gr = readgains.GainsReader (ds)\n",
      "gr.prep ()\n",
      "\n",
      "# read data into array\n",
      "(time, gains) = gr.readAll()\n",
      "\n",
      "# each time has an average gain for reach antenna in a 86-element array (43 dual pol?).  only 2x7 populated for this obs.\n",
      "len(time), len(gains)\n",
      "len(gains[0])\n",
      "\n",
      "print len(gains[0])\n",
      "ant=1\n",
      "pol='H'\n",
      "gn=2*(ant-1)\n",
      "if pol == 'V':\n",
      "    gn=gn+1\n",
      "\n",
      "# plot phase\n",
      "pylab.plot(time,numpy.degrees(numpy.arctan2(gains[:,gn].real,gains[:,gn].imag)),'x')   # with odd jump\n",
      "#plot amp\n",
      "pylab.plot(time, numpy.sqrt((gains[:,gn].real)**2 + (gains[:,gn].imag)**2),'o')   #\n",
      "pylab.show()\n",
      "# something funny with python plot...  the phase plot isn't identical to that of miriad.  seems inverted and scaled relative to miriad.\n"
     ],
     "language": "python",
     "metadata": {},
     "outputs": [
      {
       "output_type": "stream",
       "stream": "stdout",
       "text": [
        "14\n"
       ]
      }
     ],
     "prompt_number": 20
    },
    {
     "cell_type": "code",
     "collapsed": false,
     "input": [
      "#%loadpy /home/tony/Desktop/CLaw/plotgain.py"
     ],
     "language": "python",
     "metadata": {},
     "outputs": [],
     "prompt_number": 1
    },
    {
     "cell_type": "code",
     "collapsed": false,
     "input": [
      "print len(gains[0])"
     ],
     "language": "python",
     "metadata": {},
     "outputs": [
      {
       "output_type": "stream",
       "stream": "stdout",
       "text": [
        "14\n"
       ]
      }
     ],
     "prompt_number": 6
    },
    {
     "cell_type": "code",
     "collapsed": false,
     "input": [
      "print numpy.sqrt([3])"
     ],
     "language": "python",
     "metadata": {},
     "outputs": [
      {
       "output_type": "stream",
       "stream": "stdout",
       "text": [
        "[ 1.73205081]\n"
       ]
      }
     ],
     "prompt_number": 15
    },
    {
     "cell_type": "code",
     "collapsed": false,
     "input": [],
     "language": "python",
     "metadata": {},
     "outputs": []
    }
   ],
   "metadata": {}
  }
 ]
}