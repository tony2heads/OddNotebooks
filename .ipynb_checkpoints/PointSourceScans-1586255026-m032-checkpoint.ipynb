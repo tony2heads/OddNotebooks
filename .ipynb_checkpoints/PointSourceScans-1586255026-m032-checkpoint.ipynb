{
 "cells": [
  {
   "cell_type": "markdown",
   "metadata": {},
   "source": [
    "# Antennas used\n",
    "## m036, with 1second dump time"
   ]
  },
  {
   "cell_type": "code",
   "execution_count": 10,
   "metadata": {},
   "outputs": [],
   "source": [
    "%matplotlib notebook\n",
    "from Tkinter import *\n",
    "%gui inline"
   ]
  },
  {
   "cell_type": "code",
   "execution_count": 11,
   "metadata": {
    "scrolled": true
   },
   "outputs": [],
   "source": [
    "from katsdpscripts.reduction.analyse_point_source_scans import analyse_point_source_scans"
   ]
  },
  {
   "cell_type": "code",
   "execution_count": 12,
   "metadata": {},
   "outputs": [],
   "source": [
    "class my_opts:\n",
    "    def __init__(self, **kwds):\n",
    "        self.__dict__.update(kwds)"
   ]
  },
  {
   "cell_type": "code",
   "execution_count": 13,
   "metadata": {},
   "outputs": [],
   "source": [
    "filename='1586255026_sdp_l0.full.rdb'\n",
    "#cleanchans=\"2703,2914\""
   ]
  },
  {
   "cell_type": "code",
   "execution_count": 14,
   "metadata": {
    "scrolled": false
   },
   "outputs": [
    {
     "ename": "AttributeError",
     "evalue": "'module' object has no attribute 'DataSet'",
     "output_type": "error",
     "traceback": [
      "\u001b[0;31m---------------------------------------------------------------------------\u001b[0m",
      "\u001b[0;31mAttributeError\u001b[0m                            Traceback (most recent call last)",
      "\u001b[0;32m<ipython-input-14-28b951add752>\u001b[0m in \u001b[0;36m<module>\u001b[0;34m()\u001b[0m\n\u001b[1;32m      2\u001b[0m \u001b[0mopts\u001b[0m \u001b[0;34m=\u001b[0m \u001b[0mmy_opts\u001b[0m\u001b[0;34m(\u001b[0m\u001b[0moutfilebase\u001b[0m\u001b[0;34m=\u001b[0m\u001b[0;34m'1586255026_m036'\u001b[0m\u001b[0;34m,\u001b[0m \u001b[0mkeepfilename\u001b[0m\u001b[0;34m=\u001b[0m\u001b[0mNone\u001b[0m\u001b[0;34m,\u001b[0m \u001b[0mbaseline\u001b[0m\u001b[0;34m=\u001b[0m\u001b[0mbaseline\u001b[0m\u001b[0;34m,\u001b[0m \u001b[0mmc_iterations\u001b[0m\u001b[0;34m=\u001b[0m\u001b[0;36m1\u001b[0m\u001b[0;34m,\u001b[0m \u001b[0mfreq_centre\u001b[0m\u001b[0;34m=\u001b[0m\u001b[0;36m1284.0\u001b[0m\u001b[0;34m,\u001b[0m \u001b[0mfreq_chans\u001b[0m\u001b[0;34m=\u001b[0m\u001b[0;34m\"200,4000\"\u001b[0m\u001b[0;34m,\u001b[0m\u001b[0mtime_offset\u001b[0m\u001b[0;34m=\u001b[0m\u001b[0;36m0.0\u001b[0m\u001b[0;34m,\u001b[0m \u001b[0mpointing_model\u001b[0m\u001b[0;34m=\u001b[0m\u001b[0mNone\u001b[0m\u001b[0;34m,\u001b[0m \u001b[0mold_loader\u001b[0m\u001b[0;34m=\u001b[0m\u001b[0mNone\u001b[0m\u001b[0;34m,\u001b[0m \u001b[0mnd_models\u001b[0m\u001b[0;34m=\u001b[0m\u001b[0mNone\u001b[0m\u001b[0;34m,\u001b[0m \u001b[0mku_band\u001b[0m\u001b[0;34m=\u001b[0m\u001b[0mFalse\u001b[0m\u001b[0;34m,\u001b[0m \u001b[0mchannel_mask\u001b[0m\u001b[0;34m=\u001b[0m\u001b[0;34m'./rfi_mask.pickle'\u001b[0m\u001b[0;34m,\u001b[0m\u001b[0mkeep_all\u001b[0m\u001b[0;34m=\u001b[0m\u001b[0mTrue\u001b[0m\u001b[0;34m,\u001b[0m\u001b[0mremove_spikes\u001b[0m\u001b[0;34m=\u001b[0m\u001b[0mFalse\u001b[0m\u001b[0;34m,\u001b[0m\u001b[0mbatch\u001b[0m\u001b[0;34m=\u001b[0m\u001b[0mFalse\u001b[0m\u001b[0;34m,\u001b[0m\u001b[0mplot_spectrum\u001b[0m\u001b[0;34m=\u001b[0m\u001b[0mTrue\u001b[0m\u001b[0;34m)\u001b[0m\u001b[0;34m\u001b[0m\u001b[0m\n\u001b[1;32m      3\u001b[0m \u001b[0;34m\u001b[0m\u001b[0m\n\u001b[0;32m----> 4\u001b[0;31m \u001b[0manalyse_point_source_scans\u001b[0m\u001b[0;34m(\u001b[0m\u001b[0mfilename\u001b[0m\u001b[0;34m,\u001b[0m\u001b[0mopts\u001b[0m\u001b[0;34m)\u001b[0m\u001b[0;34m\u001b[0m\u001b[0m\n\u001b[0m\u001b[1;32m      5\u001b[0m \u001b[0;32mprint\u001b[0m \u001b[0;34m\"Done\"\u001b[0m\u001b[0;34m,\u001b[0m\u001b[0mbaseline\u001b[0m\u001b[0;34m\u001b[0m\u001b[0m\n\u001b[1;32m      6\u001b[0m \u001b[0;34m\u001b[0m\u001b[0m\n",
      "\u001b[0;32m/usr/local/lib/python2.7/dist-packages/katsdpscripts-0.1.dev3221+master.3208525-py2.7-linux-x86_64.egg/katsdpscripts/reduction/analyse_point_source_scans.pyc\u001b[0m in \u001b[0;36manalyse_point_source_scans\u001b[0;34m(filename, opts)\u001b[0m\n\u001b[1;32m    367\u001b[0m     \u001b[0;31m# Load data set\u001b[0m\u001b[0;34m\u001b[0m\u001b[0;34m\u001b[0m\u001b[0m\n\u001b[1;32m    368\u001b[0m     \u001b[0mlogger\u001b[0m\u001b[0;34m.\u001b[0m\u001b[0minfo\u001b[0m\u001b[0;34m(\u001b[0m\u001b[0;34m\"Loading dataset '%s'\"\u001b[0m \u001b[0;34m%\u001b[0m \u001b[0;34m(\u001b[0m\u001b[0mfilename\u001b[0m\u001b[0;34m,\u001b[0m\u001b[0;34m)\u001b[0m\u001b[0;34m)\u001b[0m\u001b[0;34m\u001b[0m\u001b[0m\n\u001b[0;32m--> 369\u001b[0;31m     dataset = scape.DataSet(filename, baseline=opts.baseline, nd_models=opts.nd_models,\n\u001b[0m\u001b[1;32m    370\u001b[0m                             time_offset=opts.time_offset, katfile=not opts.old_loader, **kwargs)\n\u001b[1;32m    371\u001b[0m \u001b[0;34m\u001b[0m\u001b[0m\n",
      "\u001b[0;31mAttributeError\u001b[0m: 'module' object has no attribute 'DataSet'"
     ]
    }
   ],
   "source": [
    "baseline='m036'\n",
    "opts = my_opts(outfilebase='1586255026_m036', keepfilename=None, baseline=baseline, mc_iterations=1, \\\n",
    "freq_centre=1284.0, freq_chans=\"200,4000\",\\\n",
    "time_offset=0.0, pointing_model=None, old_loader=None, nd_models=None, \\\n",
    "ku_band=False, channel_mask='./rfi_mask.pickle',keep_all=True,remove_spikes=False,batch=False,plot_spectrum=True)\n",
    "\n",
    "analyse_point_source_scans(filename,opts)\n",
    "print \"Done\",baseline\n",
    "    "
   ]
  },
  {
   "cell_type": "code",
   "execution_count": 15,
   "metadata": {},
   "outputs": [],
   "source": [
    "import scape"
   ]
  },
  {
   "cell_type": "code",
   "execution_count": 16,
   "metadata": {
    "scrolled": false
   },
   "outputs": [
    {
     "name": "stdout",
     "output_type": "stream",
     "text": [
      "Usage: analyse_point_source_scans.py [opts] <HDF5 file>\n",
      "\n",
      "This processes an HDF5 dataset and extracts fitted beam parameters from the\n",
      "compound scans in it. It runs interactively by default, which allows the user\n",
      "to inspect results and discard bad scans.\n",
      "\n",
      "Options:\n",
      "  -h, --help            show this help message and exit\n",
      "  -a BASELINE, --baseline=BASELINE\n",
      "                        Baseline to load (e.g. 'ant1' for antenna 1 or\n",
      "                        'ant1,ant2' for 1-2 baseline), default is first\n",
      "                        single-dish baseline in file\n",
      "  -b, --batch           Flag to do processing in batch mode without user\n",
      "                        interaction\n",
      "  -c CHANNEL_MASK, --channel-mask=CHANNEL_MASK\n",
      "                        Optional pickle file with boolean array specifying\n",
      "                        channels to mask (default is no mask)\n",
      "  -f FREQ_CHANS, --freq-chans=FREQ_CHANS\n",
      "                        Range of frequency channels to keep (zero-based,\n",
      "                        specified as 'start,end', default is 50% of the\n",
      "                        bandpass)\n",
      "  -k KEEPFILENAME, --keep=KEEPFILENAME\n",
      "                        Name of optional CSV file used to select compound\n",
      "                        scans from dataset (implies batch mode)\n",
      "  -m MC_ITERATIONS, --monte-carlo=MC_ITERATIONS\n",
      "                        Number of Monte Carlo iterations to estimate\n",
      "                        uncertainty (20-30 suggested, default off)\n",
      "  -n ND_MODELS, --nd-models=ND_MODELS\n",
      "                        Name of optional directory containing noise diode\n",
      "                        model files\n",
      "  -o OUTFILEBASE, --output=OUTFILEBASE\n",
      "                        Base name of output files (*.csv for output data and\n",
      "                        *.log for messages, default is\n",
      "                        '<dataset_name>_point_source_scans')\n",
      "  -p POINTING_MODEL, --pointing-model=POINTING_MODEL\n",
      "                        Name of optional file containing pointing model\n",
      "                        parameters in degrees\n",
      "  -s, --plot-spectrum   Flag to include spectral plot\n",
      "  -t TIME_OFFSET, --time-offset=TIME_OFFSET\n",
      "                        Time offset to add to DBE timestamps, in seconds\n",
      "                        (default = 0.0)\n",
      "  -u, --ku-band         Force center frequency to be 12500.5 MHz\n",
      "  --old-loader          Use old SCAPE loader to open HDF5 file instead of\n",
      "                        katfile\n",
      "  --keep-all            Keep all the results if there is a beam that has been\n",
      "                        fitted\n"
     ]
    }
   ],
   "source": [
    "run -i   /home/tony/Desktop/katsdpscripts_OLD/reduction/analyse_point_source_scans.py -h"
   ]
  },
  {
   "cell_type": "code",
   "execution_count": 18,
   "metadata": {},
   "outputs": [
    {
     "name": "stdout",
     "output_type": "stream",
     "text": [
      "ls: cannot access './1586255026_sdp_l0.full.h5': No such file or directory\r\n",
      "2884 /home/tony/Desktop/PythonScripts/Notebooks/1586255026_sdp_l0.full.rdb\r\n"
     ]
    }
   ],
   "source": [
    "!ls -s /home/tony/Desktop/PythonScripts/Notebooks/1586255026_sdp_l0.full.rdb ./1586255026_sdp_l0.full.h5\n",
    "#clearly fake"
   ]
  },
  {
   "cell_type": "code",
   "execution_count": 26,
   "metadata": {},
   "outputs": [
    {
     "ename": "AttributeError",
     "evalue": "Values instance has no attribute 'freq_centre'",
     "output_type": "error",
     "traceback": [
      "\u001b[0;31m---------------------------------------------------------------------------\u001b[0m",
      "\u001b[0;31mAttributeError\u001b[0m                            Traceback (most recent call last)",
      "\u001b[0;32m/home/tony/Desktop/katsdpscripts_OLD/reduction/analyse_point_source_scans.py\u001b[0m in \u001b[0;36m<module>\u001b[0;34m()\u001b[0m\n\u001b[1;32m     43\u001b[0m     \u001b[0;32mraise\u001b[0m \u001b[0mRuntimeError\u001b[0m\u001b[0;34m(\u001b[0m\u001b[0;34m'Please specify a single HDF5 file as argument to the script'\u001b[0m\u001b[0;34m)\u001b[0m\u001b[0;34m\u001b[0m\u001b[0m\n\u001b[1;32m     44\u001b[0m \u001b[0;34m\u001b[0m\u001b[0m\n\u001b[0;32m---> 45\u001b[0;31m \u001b[0manalyse_point_source_scans\u001b[0m\u001b[0;34m(\u001b[0m\u001b[0margs\u001b[0m\u001b[0;34m[\u001b[0m\u001b[0;36m0\u001b[0m\u001b[0;34m]\u001b[0m\u001b[0;34m,\u001b[0m \u001b[0mopts\u001b[0m\u001b[0;34m)\u001b[0m\u001b[0;34m\u001b[0m\u001b[0m\n\u001b[0m",
      "\u001b[0;32m/usr/local/lib/python2.7/dist-packages/katsdpscripts-0.1.dev3221+master.3208525-py2.7-linux-x86_64.egg/katsdpscripts/reduction/analyse_point_source_scans.pyc\u001b[0m in \u001b[0;36manalyse_point_source_scans\u001b[0;34m(filename, opts)\u001b[0m\n\u001b[1;32m    331\u001b[0m         \u001b[0mkwargs\u001b[0m\u001b[0;34m[\u001b[0m\u001b[0;34m'centre_freq'\u001b[0m\u001b[0;34m]\u001b[0m \u001b[0;34m=\u001b[0m \u001b[0;36m12.5005e9\u001b[0m\u001b[0;34m\u001b[0m\u001b[0m\n\u001b[1;32m    332\u001b[0m \u001b[0;34m\u001b[0m\u001b[0m\n\u001b[0;32m--> 333\u001b[0;31m     \u001b[0;32mif\u001b[0m \u001b[0mopts\u001b[0m\u001b[0;34m.\u001b[0m\u001b[0mfreq_centre\u001b[0m \u001b[0;32mis\u001b[0m \u001b[0;32mnot\u001b[0m \u001b[0mNone\u001b[0m\u001b[0;34m:\u001b[0m\u001b[0;34m\u001b[0m\u001b[0m\n\u001b[0m\u001b[1;32m    334\u001b[0m         \u001b[0mkwargs\u001b[0m\u001b[0;34m[\u001b[0m\u001b[0;34m'centre_freq'\u001b[0m\u001b[0;34m]\u001b[0m \u001b[0;34m=\u001b[0m \u001b[0mfloat\u001b[0m\u001b[0;34m(\u001b[0m\u001b[0mopts\u001b[0m\u001b[0;34m.\u001b[0m\u001b[0mfreq_centre\u001b[0m\u001b[0;34m)\u001b[0m \u001b[0;34m*\u001b[0m \u001b[0;36m1e6\u001b[0m\u001b[0;34m\u001b[0m\u001b[0m\n\u001b[1;32m    335\u001b[0m \u001b[0;34m\u001b[0m\u001b[0m\n",
      "\u001b[0;31mAttributeError\u001b[0m: Values instance has no attribute 'freq_centre'"
     ]
    }
   ],
   "source": [
    "run -i   /home/tony/Desktop/katsdpscripts_OLD/reduction/analyse_point_source_scans.py \\\n",
    " -a 'm036' -f '2703,2914' -o '1586255026_m036' \\\n",
    "./1586255026_sdp_l0.full.h5"
   ]
  }
 ],
 "metadata": {
  "kernelspec": {
   "display_name": "Python 2",
   "language": "python",
   "name": "python2"
  },
  "language_info": {
   "codemirror_mode": {
    "name": "ipython",
    "version": 2
   },
   "file_extension": ".py",
   "mimetype": "text/x-python",
   "name": "python",
   "nbconvert_exporter": "python",
   "pygments_lexer": "ipython2",
   "version": "2.7.17"
  }
 },
 "nbformat": 4,
 "nbformat_minor": 1
}
