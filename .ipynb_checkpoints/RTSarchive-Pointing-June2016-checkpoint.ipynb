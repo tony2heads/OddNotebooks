{
 "cells": [
  {
   "cell_type": "code",
   "execution_count": 1,
   "metadata": {
    "collapsed": false
   },
   "outputs": [],
   "source": [
    "import katarchive\n",
    "import datetime\n"
   ]
  },
  {
   "cell_type": "code",
   "execution_count": 2,
   "metadata": {
    "collapsed": true
   },
   "outputs": [],
   "source": [
    "katarchive.product_filter.only_rts()"
   ]
  },
  {
   "cell_type": "code",
   "execution_count": 3,
   "metadata": {
    "collapsed": false
   },
   "outputs": [],
   "source": [
    "def findh5(det):   # uses detail list to get h5 name\n",
    "    pos=det.find(\"Name:\")\n",
    "    if pos >0  :\n",
    "        pr2=det[pos+37:pos+53].split()\n",
    "        h5name=pr2[0].lstrip(\"/ng\")\n",
    "    return h5name"
   ]
  },
  {
   "cell_type": "code",
   "execution_count": 4,
   "metadata": {
    "collapsed": false
   },
   "outputs": [],
   "source": [
    "def listpr(x):\n",
    "    \"\"\"\n",
    "    takes a list and prints as string\n",
    "    \"\"\"\n",
    "    li=\" \".join(map(str,x))\n",
    "    return li"
   ]
  },
  {
   "cell_type": "code",
   "execution_count": 5,
   "metadata": {
    "collapsed": true
   },
   "outputs": [],
   "source": [
    "start=\"1/05/2016\"\n",
    "end=\"31/05/2016\" "
   ]
  },
  {
   "cell_type": "code",
   "execution_count": 6,
   "metadata": {
    "collapsed": false
   },
   "outputs": [
    {
     "name": "stdout",
     "output_type": "stream",
     "text": [
      "Searched using: CAS.ProductTypeName:(RTSTelescopeProduct) AND CAS.ProductTransferStatus:RECEIVED AND Description:Point AND StartTime:[2016-04-30T22:00:00Z TO 2016-05-31T21:59:59Z]\n",
      "Returning 13 results\n"
     ]
    }
   ],
   "source": [
    "#Look for pointing\n",
    "\n",
    "f=katarchive.search_archive(description=\"Point\",startdate=start,enddate=end)\n",
    "\n",
    "#start = datetime.datetime.strptime(f[-1].__str__().split('\\'')[3],'%Y-%m-%d %H:%M:%S %Z')\n",
    "#end = datetime.datetime.strptime(f[0].__str__().split('\\'')[3],'%Y-%m-%d %H:%M:%S %Z')"
   ]
  },
  {
   "cell_type": "code",
   "execution_count": 7,
   "metadata": {
    "collapsed": true
   },
   "outputs": [],
   "source": [
    "f.sort(key=lambda k: k.metadata.StartTime)"
   ]
  },
  {
   "cell_type": "code",
   "execution_count": 8,
   "metadata": {
    "collapsed": false
   },
   "outputs": [
    {
     "name": "stdout",
     "output_type": "stream",
     "text": [
      "RTS: 2.7.1 Ku-band Offset Pointing\n",
      "m014 m015\n",
      "/var/kat/archive/data/RTS/telescope_products/2016/05/02 1462178624.h5\n",
      "/home/kat/RTS/2.7-Pointing/offset_test_scan.py /home/kat/RTS/sources_bright_Ku.csv -f 12500.5 -r 1 -m 84200 -n off --fine --number-sources=10000 --proposal-id=COMM-RTS --product=c856M4k --sb-id-code=20160501-0003 --description=RTS: 2.7.1 Ku-band Offset Pointing --observer=RTS \n",
      "\n",
      "offset_58 offset_59 offset_52 offset_53 offset_50 offset_51 offset_56 offset_57 offset_54 offset_55 offset_69 offset_68 offset_67 offset_66 offset_65 offset_64 offset_63 offset_62 offset_61 offset_60 offset_149 offset_148 offset_143 offset_142 offset_141 offset_140 offset_147 offset_146 offset_145 offset_144 offset_70 offset_71 offset_72 offset_73 offset_74 offset_75 offset_76 offset_77 offset_78 offset_79 offset_138 offset_139 offset_136 offset_137 offset_134 offset_135 offset_132 offset_133 offset_130 offset_131 offset_89 offset_88 offset_85 offset_84 offset_87 offset_86 offset_81 offset_80 offset_83 offset_82 0454-234 offset_129 offset_128 offset_125 offset_124 offset_127 offset_126 offset_121 offset_120 offset_123 offset_122 offset_98 offset_99 offset_96 offset_97 offset_94 offset_95 offset_92 offset_93 offset_90 offset_91 offset_19 offset_16 offset_17 offset_14 offset_15 offset_12 offset_13 offset_10 offset_11 offset_18 OP158.3 offset_110 offset_111 offset_112 offset_113 offset_114 offset_115 offset_116 3C454.3 offset_118 offset_119 offset_117 offset_29 offset_28 offset_23 offset_22 offset_21 offset_20 offset_27 offset_26 offset_25 offset_24 offset_107 offset_106 offset_105 offset_104 offset_103 offset_102 offset_101 offset_100 offset_109 offset_108 1830-210 offset_38 offset_39 offset_34 offset_35 offset_36 offset_37 offset_30 offset_31 offset_32 offset_33 3C279 3C273 offset_150 offset_151 offset_9 offset_49 offset_48 OV236 offset_41 offset_40 offset_43 offset_42 offset_45 offset_44 offset_47 offset_46 offset_8 OJ287 offset_4 offset_5 offset_6 offset_7 offset_1 offset_2 offset_3\n",
      "........................................................................................\n",
      "RTS: 2.7.1 Ku-band Offset Pointing\n",
      "m015\n",
      "/var/kat/archive/data/RTS/telescope_products/2016/05/03 1462300972.h5\n",
      "/home/kat/RTS/2.7-Pointing/offset_test_scan.py /home/kat/RTS/sources_bright_Ku.csv -f 12500.5 -r 1 -m 84200 -n off --fine --number-sources=10000 --proposal-id=COMM-RTS --product=c856M4k --sb-id-code=20160503-0006 --description=RTS: 2.7.1 Ku-band Offset Pointing --observer=RTS \n",
      "\n",
      "offset_58 offset_59 offset_52 offset_53 offset_50 offset_51 offset_56 offset_57 offset_54 offset_55 offset_69 offset_68 offset_67 offset_66 offset_65 offset_64 offset_63 offset_62 offset_61 offset_60 offset_70 offset_71 offset_72 offset_73 offset_74 offset_75 offset_76 offset_77 offset_78 offset_79 offset_89 offset_88 offset_85 offset_84 offset_87 offset_86 offset_81 offset_80 offset_83 offset_82 0454-234 offset_92 offset_93 offset_90 offset_91 OP158.3 offset_16 offset_17 offset_14 offset_15 offset_12 offset_13 offset_10 offset_11 offset_18 offset_19 3C454.3 offset_29 offset_28 offset_23 offset_22 offset_21 offset_20 offset_27 offset_26 offset_25 offset_24 1830-210 offset_38 offset_39 offset_34 offset_35 offset_36 offset_37 offset_30 offset_31 offset_32 offset_33 3C279 3C273 offset_9 offset_49 offset_48 OV236 offset_41 offset_40 offset_43 offset_42 offset_45 offset_44 offset_47 offset_46 offset_8 OJ287 offset_4 offset_5 offset_6 offset_7 offset_1 offset_2 offset_3\n",
      "........................................................................................\n",
      "RTS: 2.7 L-band Pointing L Band\n",
      "m001 m003\n",
      "/var/kat/archive/data/RTS/telescope_products/2016/05/04 1462395349.h5\n",
      "/home/kat/RTS/2.7-Pointing/point_source_scan.py /home/kat/RTS/sources_pnt_L.csv -r 1 -n off -m 24000 --product=c856M4k -f 1284 --horizon=16 --proposal-id=COMM-RTS --sb-id-code=20160504-0013 --description=RTS: 2.7 L-band Pointing L Band --observer=RTS \n",
      "\n",
      "3C 286 Vir A 3C 279 3C 358 PKS 2153-69 3C 409 3C 273 Her A PKS 2104-25 PKS 1814-63 3C 353 PKS 1934-63 PKS 1610-60 Hyd A\n",
      "........................................................................................\n",
      "RTS: 2.7 L-band Pointing L Band\n",
      "m001 m003 m006\n",
      "/var/kat/archive/data/RTS/telescope_products/2016/05/07 1462590545.h5\n",
      "/home/kat/RTS/2.7-Pointing/point_source_scan.py /home/kat/RTS/sources_pnt_L.csv -r 1 -n off -m 24000 --product=c856M4k -f 1284 --horizon=16 --proposal-id=COMM-RTS --sb-id-code=20160506-0014 --description=RTS: 2.7 L-band Pointing L Band --observer=RTS \n",
      "\n",
      "3C 409 3C 358 PKS 2153-69 3C 48 PKS 0410-75 Her A PKS 2104-25 Ori A Pic A PKS 1814-63 3C 433 3C 353 PKS 1934-63 PKS 0521-36 PKS 0408-65 PKS 1610-60 For A 3C 454.3\n",
      "........................................................................................\n",
      "RTS: 2.7 L-band Pointing L Band\n",
      "m001 m003 m006 m010\n",
      "/var/kat/archive/data/RTS/telescope_products/2016/05/09 1462810456.h5\n",
      "/home/kat/RTS/2.7-Pointing/point_source_scan.py /home/kat/RTS/sources_pnt_L.csv -r 1 -n off -m 24000 --product=c856M4k -f 1284 --horizon=16 --proposal-id=COMM-RTS --sb-id-code=20160509-0005 --description=RTS: 2.7 L-band Pointing L Band --observer=RTS \n",
      "\n",
      "3C 286 3C 161 3C 358 3C 279 3C 273 For A Pic A PKS 0410-75 Vir A Ori A PKS 0521-36 PKS 0408-65 PKS 1610-60 PKS 1814-63 Hyd A\n",
      "........................................................................................\n",
      "RTS: 2.7 L-band Pointing L Band\n",
      "m001 m006 m008 m010\n",
      "/var/kat/archive/data/RTS/telescope_products/2016/05/14 1463202025.h5\n",
      "/home/kat/RTS/2.7-Pointing/point_source_scan.py /home/kat/RTS/sources_pnt_L.csv -r 1 -n off -m 7200 --product=c856M4k -f 1284 --horizon=16 --proposal-id=COMM-RTS --sb-id-code=20160513-0022 --description=RTS: 2.7 L-band Pointing L Band --observer=RTS \n",
      "\n",
      "3C 409 3C 358 PKS 2153-69 For A PKS 2104-25 PKS 0410-75 3C 433 PKS 1814-63 PKS 1934-63 PKS 0408-65 PKS 1610-60 3C 454.3\n",
      "........................................................................................\n",
      "RTS: 2.7 L-band Pointing L Band\n",
      "m001 m006 m008 m010\n",
      "/var/kat/archive/data/RTS/telescope_products/2016/05/14 1463210427.h5\n",
      "/home/kat/RTS/2.7-Pointing/point_source_scan.py /home/kat/RTS/sources_pnt_L.csv -r 1 -n off -m 7200 --product=c856M4k -f 1284 --horizon=16 --proposal-id=COMM-RTS --sb-id-code=20160513-0023 --description=RTS: 2.7 L-band Pointing L Band --observer=RTS \n",
      "\n",
      "Ori A 3C 161 PKS 2153-69 3C 48 For A PKS 2104-25 Pic A PKS 0410-75 PKS 1814-63 PKS 1934-63 PKS 0521-36 PKS 0408-65 3C 454.3\n",
      "........................................................................................\n",
      "RTS: 2.7 L-band Pointing L Band\n",
      "m001 m006 m008 m010\n",
      "/var/kat/archive/data/RTS/telescope_products/2016/05/14 1463218104.h5\n",
      "/home/kat/RTS/2.7-Pointing/point_source_scan.py /home/kat/RTS/sources_pnt_L.csv -r 1 -n off -m 7200 --product=c856M4k -f 1284 --horizon=16 --proposal-id=COMM-RTS --sb-id-code=20160513-0024 --description=RTS: 2.7 L-band Pointing L Band --observer=RTS \n",
      "\n",
      "3C 161 PKS 2153-69 3C 48 For A Pic A PKS 0410-75 Ori A PKS 0521-36 PKS 0408-65 Tau A 3C 123\n",
      "........................................................................................\n",
      "RTS: 2.7 L-band Pointing L Band\n",
      "m001 m006 m008 m010\n",
      "/var/kat/archive/data/RTS/telescope_products/2016/05/14 1463225478.h5\n",
      "/home/kat/RTS/2.7-Pointing/point_source_scan.py /home/kat/RTS/sources_pnt_L.csv -r 1 -n off -m 7200 --product=c856M4k -f 1284 --horizon=16 --proposal-id=COMM-RTS --sb-id-code=20160513-0025 --description=RTS: 2.7 L-band Pointing L Band --observer=RTS \n",
      "\n",
      "3C 161 PKS 2153-69 For A Pic A PKS 0410-75 Ori A PKS 0521-36 PKS 0408-65 Tau A Hyd A 3C 123\n",
      "........................................................................................\n",
      "RTS: 2.7 L-band Pointing L Band\n",
      "m007 m008 m010\n",
      "/var/kat/archive/data/RTS/telescope_products/2016/05/20 1463741586.h5\n",
      "/home/kat/RTS/2.7-Pointing/point_source_scan.py /home/kat/RTS/sources_pnt_L.csv -r 1 -n off -m 7200 --product=c856M4k -f 1284 --horizon=16 --proposal-id=COMM-RTS --sb-id-code=20160520-0003 --description=RTS: 2.7 L-band Pointing L Band --observer=RTS \n",
      "\n",
      "3C 161 PKS 2153-69 For A Pic A PKS 0410-75 Ori A PKS 0521-36 PKS 0408-65 Tau A Hyd A 3C 123\n",
      "........................................................................................\n",
      "RTS: 2.7 L-band Pointing L Band\n",
      "m007 m008 m010\n",
      "/var/kat/archive/data/RTS/telescope_products/2016/05/20 1463781967.h5\n",
      "/home/kat/RTS/2.7-Pointing/point_source_scan.py /home/kat/RTS/sources_pnt_L.csv -r 1 -n off -m 21000 --product=c856M4k -f 1284 --horizon=16 --proposal-id=COMM-RTS --sb-id-code=20160520-0049 --description=RTS: 2.7 L-band Pointing L Band --observer=RTS \n",
      "\n",
      "3C 409 3C 279 3C 358 PKS 2153-69 3C 273 Her A PKS 2104-25 PKS 1814-63 3C 433 3C 353 PKS 1934-63 PKS 1610-60 3C 454.3 Vir A PKS 0410-75\n",
      "........................................................................................\n",
      "RTS: 2.7 L-band Pointing L Band\n",
      "m007 m010\n",
      "/var/kat/archive/data/RTS/telescope_products/2016/05/24 1464097978.h5\n",
      "/home/kat/RTS/2.7-Pointing/point_source_scan.py /home/kat/RTS/sources_pnt_L.csv -r 1 -n off -m 25000 --product=c856M4k -f 1284 --horizon=16 --proposal-id=COMM-RTS --sb-id-code=20160524-0001 --description=RTS: 2.7 L-band Pointing L Band --observer=RTS \n",
      "\n",
      "3C 286 PKS 1934-63 3C 161 3C 358 3C 279 3C 273 For A 3C 353 Pic A PKS 0410-75 Vir A Ori A PKS 0521-36 PKS 0408-65 PKS 1610-60 Tau A Her A PKS 1814-63 Hyd A\n",
      "........................................................................................\n",
      "RTS: 2.7 L-band Pointing L Band\n",
      "m022\n",
      "/var/kat/archive/data/RTS/telescope_products/2016/05/26 1464270782.h5\n",
      "/home/kat/RTS/2.7-Pointing/point_source_scan.py /home/kat/RTS/sources_pnt_L.csv -r 1 -n off -m 21000 --product=c856M4k -f 1284 --horizon=16 --proposal-id=COMM-RTS --sb-id-code=20160526-0013 --description=RTS: 2.7 L-band Pointing L Band --observer=RTS \n",
      "\n",
      "3C 286 PKS 1934-63 3C 161 3C 358 3C 279 3C 273 For A 3C 353 Pic A PKS 0410-75 Vir A Ori A PKS 0521-36 PKS 0408-65 PKS 1610-60 Tau A Her A PKS 1814-63 Hyd A\n",
      "........................................................................................\n"
     ]
    }
   ],
   "source": [
    "for fi in f:\n",
    "    print fi.metadata.Description\n",
    "    print listpr(fi.metadata.Antennas)\n",
    "    print fi.metadata.FileLocation, findh5(fi.metadata.Details)\n",
    "    print fi.metadata.InstructionSet,\"\\n\"\n",
    "    print listpr(fi.metadata.Targets)\n",
    "    print \".\"*88\n",
    "    "
   ]
  },
  {
   "cell_type": "code",
   "execution_count": 9,
   "metadata": {
    "collapsed": false
   },
   "outputs": [
    {
     "data": {
      "text/plain": [
       "[['1', '2016-05-02 10:43:45 SAST', 'RTS', [35103250914]],\n",
       " ['1', '2016-05-03 20:42:53 SAST', 'RTS', [8134588073]],\n",
       " ['1', '2016-05-04 22:55:50 SAST', 'RTS', [11478379950]],\n",
       " ['1', '2016-05-07 05:09:06 SAST', 'RTS', [21691356046]],\n",
       " ['1', '2016-05-09 18:14:17 SAST', 'RTS', [21791836013]],\n",
       " ['1', '2016-05-14 07:00:27 SAST', 'RTS', [12181661264]],\n",
       " ['1', '2016-05-14 09:20:29 SAST', 'RTS', [11114378696]],\n",
       " ['1', '2016-05-14 11:28:26 SAST', 'RTS', [10665796422]],\n",
       " ['1', '2016-05-14 13:31:20 SAST', 'RTS', [14711607227]],\n",
       " ['1', '2016-05-20 12:53:07 SAST', 'RTS', [6619022195]],\n",
       " ['1', '2016-05-21 00:06:08 SAST', 'RTS', [18994463741]],\n",
       " ['1', '2016-05-24 15:52:59 SAST', 'RTS', [11201540863]],\n",
       " ['1', '2016-05-26 15:53:04 SAST', 'RTS', [3179059067]]]"
      ]
     },
     "execution_count": 9,
     "metadata": {},
     "output_type": "execute_result"
    }
   ],
   "source": [
    "f"
   ]
  },
  {
   "cell_type": "code",
   "execution_count": 10,
   "metadata": {
    "collapsed": false
   },
   "outputs": [
    {
     "name": "stdout",
     "output_type": "stream",
     "text": [
      "02 1462178624.h5 RTS: 2.7.1 Ku-band Offset Pointing m014 m015\n",
      "03 1462300972.h5 RTS: 2.7.1 Ku-band Offset Pointing m015\n",
      "04 1462395349.h5 RTS: 2.7 L-band Pointing L Band m001 m003\n",
      "07 1462590545.h5 RTS: 2.7 L-band Pointing L Band m001 m003 m006\n",
      "09 1462810456.h5 RTS: 2.7 L-band Pointing L Band m001 m003 m006 m010\n",
      "14 1463202025.h5 RTS: 2.7 L-band Pointing L Band m001 m006 m008 m010\n",
      "14 1463210427.h5 RTS: 2.7 L-band Pointing L Band m001 m006 m008 m010\n",
      "14 1463218104.h5 RTS: 2.7 L-band Pointing L Band m001 m006 m008 m010\n",
      "14 1463225478.h5 RTS: 2.7 L-band Pointing L Band m001 m006 m008 m010\n",
      "20 1463741586.h5 RTS: 2.7 L-band Pointing L Band m007 m008 m010\n",
      "21 1463781967.h5 RTS: 2.7 L-band Pointing L Band m007 m008 m010\n",
      "24 1464097978.h5 RTS: 2.7 L-band Pointing L Band m007 m010\n",
      "26 1464270782.h5 RTS: 2.7 L-band Pointing L Band m022\n"
     ]
    }
   ],
   "source": [
    "for fi in f:\n",
    "    x= repr(fi)\n",
    "    pr=x.split(\",\")\n",
    "    print pr[1][10:12],findh5(fi.metadata.Details) , fi.metadata.Description, listpr(fi.metadata.Antennas)"
   ]
  },
  {
   "cell_type": "code",
   "execution_count": 11,
   "metadata": {
    "collapsed": false
   },
   "outputs": [
    {
     "name": "stdout",
     "output_type": "stream",
     "text": [
      "Searched using: CAS.ProductTypeName:(RTSTelescopeProduct) AND CAS.ProductTransferStatus:RECEIVED AND Description:Interferometric_Pointing AND StartTime:[2016-04-30T22:00:00Z TO 2016-05-31T21:59:59Z]\n",
      "Returning 0 results\n"
     ]
    },
    {
     "data": {
      "text/plain": [
       "[]"
      ]
     },
     "execution_count": 11,
     "metadata": {},
     "output_type": "execute_result"
    }
   ],
   "source": [
    "\n",
    "f2=katarchive.search_archive(description=\"Interferometric_Pointing\",startdate=start,enddate=end)\n",
    "\n",
    "f2.sort(key=lambda k: k.metadata.StartTime)\n",
    "f2"
   ]
  },
  {
   "cell_type": "code",
   "execution_count": 12,
   "metadata": {
    "collapsed": false
   },
   "outputs": [],
   "source": [
    "for fi in f2:\n",
    "    print fi.metadata.Description\n",
    "    print listpr(fi.metadata.Antennas)\n",
    "    print fi.metadata.FileLocation, findh5(fi.metadata.Details)\n",
    "    print fi.metadata.InstructionSet,\"\\n\"\n",
    "    print listpr(fi.metadata.Targets)\n",
    "    print \".\"*88"
   ]
  },
  {
   "cell_type": "code",
   "execution_count": 13,
   "metadata": {
    "collapsed": false,
    "scrolled": true
   },
   "outputs": [
    {
     "data": {
      "text/plain": [
       "[]"
      ]
     },
     "execution_count": 13,
     "metadata": {},
     "output_type": "execute_result"
    }
   ],
   "source": [
    "f2.sort(key=lambda k: k.metadata.StartTime)\n",
    "f2"
   ]
  },
  {
   "cell_type": "code",
   "execution_count": 14,
   "metadata": {
    "collapsed": false
   },
   "outputs": [],
   "source": [
    "for fi in f2:\n",
    "    x= repr(fi)\n",
    "    pr=x.split(\",\")\n",
    "    print pr[1][10:12],findh5(fi.metadata.Details),fi.metadata.Description,listpr(fi.metadata.Antennas)"
   ]
  }
 ],
 "metadata": {
  "kernelspec": {
   "display_name": "Python 2",
   "language": "python",
   "name": "python2"
  },
  "language_info": {
   "codemirror_mode": {
    "name": "ipython",
    "version": 2
   },
   "file_extension": ".py",
   "mimetype": "text/x-python",
   "name": "python",
   "nbconvert_exporter": "python",
   "pygments_lexer": "ipython2",
   "version": "2.7.6"
  }
 },
 "nbformat": 4,
 "nbformat_minor": 0
}
