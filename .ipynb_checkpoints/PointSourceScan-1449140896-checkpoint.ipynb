{
 "cells": [
  {
   "cell_type": "code",
   "execution_count": 1,
   "metadata": {
    "collapsed": true
   },
   "outputs": [],
   "source": [
    "n=\"/var/kat/archive/data/RTS/telescope_products/2015/12/03/1449140896.h5\""
   ]
  },
  {
   "cell_type": "code",
   "execution_count": 2,
   "metadata": {
    "collapsed": false
   },
   "outputs": [],
   "source": [
    "%matplotlib inline"
   ]
  },
  {
   "cell_type": "code",
   "execution_count": 3,
   "metadata": {
    "collapsed": false
   },
   "outputs": [
    {
     "name": "stderr",
     "output_type": "stream",
     "text": [
      "/usr/local/lib/python2.7/dist-packages/pkg_resources/__init__.py:187: RuntimeWarning: You have iterated over the result of pkg_resources.parse_version. This is a legacy behavior which is inconsistent with the new version class introduced in setuptools 8.0. In most cases, conversion to a tuple is unnecessary. For comparison of versions, sort the Version instances directly. If you have another use case requiring the tuple, please file a bug with the setuptools project describing that need.\n",
      "  stacklevel=1,\n"
     ]
    }
   ],
   "source": [
    "from katsdpscripts.reduction.analyse_point_source_scans import analyse_point_source_scans\n",
    "\n"
   ]
  },
  {
   "cell_type": "code",
   "execution_count": 4,
   "metadata": {
    "collapsed": true
   },
   "outputs": [],
   "source": [
    "class my_opts:\n",
    "    def __init__(self, **kwds):\n",
    "        self.__dict__.update(kwds)"
   ]
  },
  {
   "cell_type": "code",
   "execution_count": 7,
   "metadata": {
    "collapsed": true
   },
   "outputs": [],
   "source": [
    "opts = my_opts(outfilebase=None, keepfilename=None, baseline='m062,m063', \\\n",
    "        mc_iterations=1, time_offset=0.0, pointing_model=None, freq_chans=None, old_loader=None, nd_models=None, \\\n",
    "        ku_band=False, channel_mask=None,keep_all=None,remove_spikes=False,batch=False,plot_spectrum=True)"
   ]
  },
  {
   "cell_type": "code",
   "execution_count": 8,
   "metadata": {
    "collapsed": false
   },
   "outputs": [
    {
     "name": "stderr",
     "output_type": "stream",
     "text": [
      "INFO:root:Loading dataset '/var/kat/archive/data/RTS/telescope_products/2015/12/03/1449140896.h5'\n",
      "INFO:scape.kathdf5:Loading baseline 'm062,m063'\n",
      "DEBUG:katpoint.catalogue:Added '1253-055' [radec] (and 1 aliases)\n",
      "DEBUG:katpoint.catalogue:Added '1921-293' [radec] (and 1 aliases)\n",
      "INFO:scape.kathdf5:Defaulting to 'coupler' noise diode (either no or both diodes are firing)\n",
      "WARNING:scape.kathdf5:Cannot find coupler noise diode H polarisation model for antenna m062 - using default.\n",
      "WARNING:scape.kathdf5:Cannot find coupler noise diode V polarisation model for antenna m062 - using default.\n",
      "INFO:root:==== Processing compound scan 1 of 1: 'm062 1449140896 1253-055 2015-12-03 11:17:34.337' ====\n",
      "/usr/local/lib/python2.7/dist-packages/numpy/core/_methods.py:59: RuntimeWarning: Mean of empty slice.\n",
      "  warnings.warn(\"Mean of empty slice.\", RuntimeWarning)\n",
      "/usr/local/lib/python2.7/dist-packages/numpy/core/_methods.py:70: RuntimeWarning: invalid value encountered in double_scalars\n",
      "  ret = ret.dtype.type(ret / rcount)\n",
      "WARNING:scape.dataset:Empty data set - gain calibration not done\n",
      "WARNING:scape.dataset:No suitable noise diode on/off blocks were found - gain calibration not done\n",
      "DEBUG:scape.compoundscan:Fitting beam and initial baseline of degree (1, 3) to pol 'absHH' of target '1253-055':\n",
      "WARNING:scape.beam_baseline:All data marked as part of beam - scan extent too small to continue fitting (are you tracking the target?)\n",
      "DEBUG:scape.compoundscan:Fitting beam and initial baseline of degree (1, 3) to pol 'absVV' of target '1253-055':\n",
      "WARNING:scape.beam_baseline:All data marked as part of beam - scan extent too small to continue fitting (are you tracking the target?)\n",
      "DEBUG:scape.compoundscan:Fitting beam and initial baseline of degree (1, 3) to pol 'absI' of target '1253-055':\n",
      "WARNING:scape.beam_baseline:All data marked as part of beam - scan extent too small to continue fitting (are you tracking the target?)\n",
      "WARNING:scape.dataset:No suitable noise diode on/off blocks were found - gain calibration not done\n",
      "ERROR:root:Reduction interrupted by exception (AttributeError: ''NoneType' object has no attribute 'is_valid'')\n",
      "Traceback (most recent call last):\n",
      "  File \"/usr/local/lib/python2.7/dist-packages/katsdpscripts/reduction/analyse_point_source_scans.py\", line 235, in reduce_and_plot\n",
      "    opts.mc_iterations, opts.batch,keep_all =opts.keep_all, **kwargs)\n",
      "  File \"/usr/local/lib/python2.7/dist-packages/katsdpscripts/reduction/analyse_point_source_scans.py\", line 173, in reduce_compscan_with_uncertainty\n",
      "    print(\"keep_all=%s,main_compscan.beam.is_valid=%s , keep=%s \"%(keep_all,main_compscan.beam.is_valid,keep) )\n",
      "AttributeError: 'NoneType' object has no attribute 'is_valid'\n",
      "INFO:root:==== Processing compound scan 2 of 1: 'm062 1449140896 1921-293 2015-12-03 11:27:32.584' ====\n",
      "WARNING:scape.dataset:Empty data set - gain calibration not done\n",
      "WARNING:scape.dataset:No suitable noise diode on/off blocks were found - gain calibration not done\n",
      "DEBUG:scape.compoundscan:Fitting beam and initial baseline of degree (1, 3) to pol 'absHH' of target '1921-293':\n",
      "WARNING:scape.beam_baseline:All data marked as part of beam - scan extent too small to continue fitting (are you tracking the target?)\n",
      "DEBUG:scape.compoundscan:Fitting beam and initial baseline of degree (1, 3) to pol 'absVV' of target '1921-293':\n",
      "WARNING:scape.beam_baseline:All data marked as part of beam - scan extent too small to continue fitting (are you tracking the target?)\n",
      "DEBUG:scape.compoundscan:Fitting beam and initial baseline of degree (1, 3) to pol 'absI' of target '1921-293':\n",
      "WARNING:scape.beam_baseline:All data marked as part of beam - scan extent too small to continue fitting (are you tracking the target?)\n",
      "WARNING:scape.dataset:No suitable noise diode on/off blocks were found - gain calibration not done\n",
      "ERROR:root:Reduction interrupted by exception (AttributeError: ''NoneType' object has no attribute 'is_valid'')\n",
      "Traceback (most recent call last):\n",
      "  File \"/usr/local/lib/python2.7/dist-packages/katsdpscripts/reduction/analyse_point_source_scans.py\", line 282, in reduce_and_plot\n",
      "    opts.mc_iterations, opts.batch,opts.keep_all, **kwargs)\n",
      "  File \"/usr/local/lib/python2.7/dist-packages/katsdpscripts/reduction/analyse_point_source_scans.py\", line 173, in reduce_compscan_with_uncertainty\n",
      "    print(\"keep_all=%s,main_compscan.beam.is_valid=%s , keep=%s \"%(keep_all,main_compscan.beam.is_valid,keep) )\n",
      "AttributeError: 'NoneType' object has no attribute 'is_valid'\n"
     ]
    },
    {
     "data": {
      "image/png": "[encoded data removed]",
      "text/plain": [
       "<matplotlib.figure.Figure at 0x7f9871430290>"
      ]
     },
     "metadata": {},
     "output_type": "display_data"
    }
   ],
   "source": [
    "analyse_point_source_scans(n,opts)"
   ]
  },
  {
   "cell_type": "code",
   "execution_count": null,
   "metadata": {
    "collapsed": true
   },
   "outputs": [],
   "source": [
    "opts = my_opts(outfilebase=None, keepfilename=None, baseline='m062,m063',\\\n",
    "        mc_iterations=1, time_offset=0.0, pointing_model=None, freq_chans=None, old_loader=None, nd_models=None, \\\n",
    "        ku_band=True, channel_mask=None,keep_all=None,remove_spikes=False,batch=True,plot_spectrum=False)\n"
   ]
  },
  {
   "cell_type": "code",
   "execution_count": null,
   "metadata": {
    "collapsed": false
   },
   "outputs": [
    {
     "name": "stderr",
     "output_type": "stream",
     "text": [
      "INFO:root:Loading dataset '/var/kat/archive/data/RTS/telescope_products/2015/12/03/1449140896.h5'\n",
      "INFO:scape.kathdf5:Loading baseline 'm062,m063'\n",
      "DEBUG:katpoint.catalogue:Added '1253-055' [radec] (and 1 aliases)\n",
      "DEBUG:katpoint.catalogue:Added '1921-293' [radec] (and 1 aliases)\n",
      "INFO:scape.kathdf5:Defaulting to 'coupler' noise diode (either no or both diodes are firing)\n",
      "WARNING:scape.kathdf5:Cannot find coupler noise diode H polarisation model for antenna m062 - using default.\n",
      "WARNING:scape.kathdf5:Cannot find coupler noise diode V polarisation model for antenna m062 - using default.\n"
     ]
    }
   ],
   "source": [
    "analyse_point_source_scans(n,opts)"
   ]
  }
 ],
 "metadata": {
  "kernelspec": {
   "display_name": "Python 2",
   "language": "python",
   "name": "python2"
  },
  "language_info": {
   "codemirror_mode": {
    "name": "ipython",
    "version": 2
   },
   "file_extension": ".py",
   "mimetype": "text/x-python",
   "name": "python",
   "nbconvert_exporter": "python",
   "pygments_lexer": "ipython2",
   "version": "2.7.6"
  }
 },
 "nbformat": 4,
 "nbformat_minor": 0
}
