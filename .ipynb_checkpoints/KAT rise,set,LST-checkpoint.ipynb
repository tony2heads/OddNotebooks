{
 "cells": [
  {
   "cell_type": "code",
   "execution_count": 1,
   "metadata": {
    "collapsed": false
   },
   "outputs": [
    {
     "name": "stdout",
     "output_type": "stream",
     "text": [
      "2016/06/20\n"
     ]
    }
   ],
   "source": [
    "from time import *\n",
    "from ephem import *\n",
    "import math\n",
    "#\n",
    "today=strftime(\"%Y/%m/%d\")\n",
    "horizon='15:00' # can also give in radians,\n",
    "KAT=Observer()\n",
    "KAT.long,KAT.lat='21:24:38.46','-30:43:17.34' # positive East,North\n",
    "KAT.date=today\n",
    "KAT.epoch=today\n",
    "# print KAT.epoch\n",
    "KAT.elev=1038            #metres above MSL\n",
    "KAT.temp=14             # temperature in C Winter !\n",
    "KAT.pressure=0         # pressure in mbar set to zero to ignore refraction\n",
    "KAT.horizon=horizon    # minimum elevation\n",
    "dd=KAT.date.tuple()\n",
    "print today"
   ]
  },
  {
   "cell_type": "code",
   "execution_count": 2,
   "metadata": {
    "collapsed": false
   },
   "outputs": [
    {
     "name": "stdout",
     "output_type": "stream",
     "text": [
      "Date 2016/6/20 UT 00:00  LST 19:20:11.12 Horizon 15:00:00.0\n",
      "Source                 Position        UT Rise  UT Transit   UT Set   Hours Up\n",
      "Sun            5:56:05.52   23:25:55.0 06:57:49  10:36:00  14:14:11  \n",
      "Moon          17:32:22.58  -18:06:07.5 17:18:59  23:00:35  03:51:01  \n",
      "\n",
      "dec40          7:01:06.26   39:58:28.4 09:51:20  11:39:00  13:26:41    3.59 \n",
      "dec20          7:00:56.62   19:58:26.8 07:49:13  11:38:51  15:28:29    7.65 \n",
      "dec0           7:00:49.07   -0:01:35.1 06:49:32  11:38:43  16:27:54    9.64 \n",
      "dec-20         7:00:41.35  -20:01:36.9 06:03:21  11:38:35  17:13:50   11.17 \n",
      "dec-40         7:00:31.07  -40:01:38.5 05:15:08  11:38:25  18:01:42   12.78 \n",
      "dec-60         7:00:11.41  -60:01:39.5 03:58:03  11:38:06  19:18:09   15.34 \n"
     ]
    },
    {
     "name": "stderr",
     "output_type": "stream",
     "text": [
      "/usr/local/lib/python2.7/dist-packages/ipykernel/__main__.py:33: DeprecationWarning: the ephem.Body attributes 'rise_time', 'rise_az', 'transit_time', 'transit_alt', 'set_time', 'set_az', 'circumpolar', and 'never_up' are deprecated; please convert your program to use the ephem.Observer functions next_rising(), previous_rising(), next_transit(), and so forth\n",
      "\n"
     ]
    }
   ],
   "source": [
    "print \"Date %d/%d/%d UT %02d:%02d  LST %s Horizon %s\"\\\n",
    "      %(dd[0],dd[1],dd[2],dd[3],dd[4],KAT.sidereal_time(),str(KAT.horizon))\n",
    "print \"Source\"+17*\" \"+\"Position\"+8*\" \"+\"UT Rise\"+2*\" \"+\"UT Transit\"+3*\" \"+\"UT Set\"+\"   Hours Up\"\n",
    "#\n",
    "sun=Sun()\n",
    "sun.compute(KAT)\n",
    "#print \"Sun  Alt\",  sun.alt, \"Az\", sun.az\n",
    "print \"Sun          %12s %12s %-9s %-9s %-9s \" \\\n",
    "      %(sun.ra,sun.dec,str(KAT.next_rising(sun))[-8:],str(KAT.next_transit(sun))[-8:],str(KAT.next_setting(sun))[-8:])\n",
    "#\n",
    "moon=Moon()\n",
    "moon.compute(KAT)\n",
    "#print \"Moon Alt\", moon.alt,\"Az\", moon.az\n",
    "\n",
    "print \"Moon          %-12s%12s %-9s %-9s %-9s \" \\\n",
    "            % (moon.ra,moon.dec,str(KAT.next_rising(moon))[-8:],str(KAT.next_transit(moon))[-8:],str(KAT.next_setting(moon))[-8:])\n",
    "print \n",
    "#\n",
    "#\n",
    "#inp=(\"testsource, J2000, 01:02:14.3213,-11:33:11.9\", \"test2, B1950, 17:31:43, -83:13:44\")\n",
    "inp=(\"dec40, J2000,7:00:00,40:00:00\", \"dec20, J2000, 7:00:00,20:00:00\", \"dec0, J2000, 7:00:00,00:00:00\"\\\n",
    "     , \"dec-20, J2000,7:00:00,-20:00:00\", \"dec-40, J2000,7:00:00,-40:00:00\", \"dec-60, J2000,7:00:00,-60:00:00\")\n",
    "for line in inp:\n",
    "  if line[0] != \"#\":\n",
    "    s=line.split(\",\") # split the line into strings\n",
    "    source=s[0]\n",
    "# next item is 'radec...'    \n",
    "    ra=s[2]\n",
    "    dec=s[3]\n",
    "    dbline='\"'+source+\",f|J|Q,\"+ra+\",\"+dec+\",,2000\"+'\"'\n",
    "#    print dbline\n",
    "    p=readdb(dbline)\n",
    "#    p=FixedBody()\n",
    "#    p._ra,p._dec=ra,dec\n",
    "#    p._epoch='2000'\n",
    "    p.compute(KAT)\n",
    "    if p.neverup == True:\n",
    "       print \"%-11s  %12s %12s           Never Rises           \" %(source,p.ra,p.dec)\n",
    "    if p.circumpolar == True:\n",
    "       transit=str(KAT.next_transit(p))[-8:]\n",
    "       print \"%-11s  %12s %12s          %9s  Circumpolar \"  %(source,p.ra,p.dec,transit)\n",
    "    if p.neverup == False and p.circumpolar == False:  # Source rises and sets\n",
    "#      print source, p.ra, p.dec, p.alt, p.az,\n",
    "      rises=str(KAT.next_rising(p))[-8:]\n",
    "      transit=str(KAT.next_transit(p))[-8:]\n",
    "      sets=str(KAT.next_setting(p))[-8:]\n",
    "      uptime=((KAT.next_setting(p)-KAT.next_rising(p))%1)*24  # \n",
    "#calculation is in days, so make modulo 1 day, times 24 for hours.\n",
    "      print \"%-12s %12s %12s %-9s %-9s %-9s  %5.2f \" % (source,p.ra,p.dec,rises,transit,sets,uptime)\n",
    "#    for n in range(3,len(s)):    #comments at the end of the input line\n",
    "#         print s[n],\n",
    "#    print \"\"\n"
   ]
  },
  {
   "cell_type": "code",
   "execution_count": 3,
   "metadata": {
    "collapsed": false
   },
   "outputs": [
    {
     "name": "stdout",
     "output_type": "stream",
     "text": [
      "2016/06/20\n"
     ]
    }
   ],
   "source": [
    "print today"
   ]
  },
  {
   "cell_type": "code",
   "execution_count": 4,
   "metadata": {
    "collapsed": false
   },
   "outputs": [
    {
     "name": "stdout",
     "output_type": "stream",
     "text": [
      "15:00:00.0 152:07:42.9\n"
     ]
    }
   ],
   "source": [
    "print p.alt,p.az"
   ]
  },
  {
   "cell_type": "code",
   "execution_count": 5,
   "metadata": {
    "collapsed": false
   },
   "outputs": [
    {
     "data": {
      "text/plain": [
       "<ephem.Observer date='2016/6/20 00:00:00' epoch='2016/6/20 00:00:00' lon='21:24:38.5' lat='-30:43:17.3' elevation=1038.0m horizon=15:00:00.0 temp=14.0C pressure=0.0mBar>"
      ]
     },
     "execution_count": 5,
     "metadata": {},
     "output_type": "execute_result"
    }
   ],
   "source": [
    "KAT"
   ]
  },
  {
   "cell_type": "code",
   "execution_count": 6,
   "metadata": {
    "collapsed": true
   },
   "outputs": [],
   "source": [
    "def LST(ut):\n",
    "    \"\"\" \n",
    "    Requires date and time in YYYY/MM/DD hh:mm:ss format\n",
    "    Set the time string to Hours:Minutes:Seconds\n",
    "    \"\"\"\n",
    "    KAT.date=ut\n",
    "    lst=str(KAT.sidereal_time())[:8]\n",
    "    return lst\n"
   ]
  },
  {
   "cell_type": "code",
   "execution_count": 7,
   "metadata": {
    "collapsed": true
   },
   "outputs": [],
   "source": [
    "def JD(ut):\n",
    "    \"\"\" \n",
    "    Requires date and time in YYYY/MM/DD hh:mm:ss format\n",
    "    returns jd\n",
    "    \"\"\"\n",
    "    jd=julian_date(ut)\n",
    "    return jd"
   ]
  },
  {
   "cell_type": "code",
   "execution_count": 8,
   "metadata": {
    "collapsed": false
   },
   "outputs": [
    {
     "name": "stdout",
     "output_type": "stream",
     "text": [
      "13:02:05\n",
      "2457560.23542\n"
     ]
    }
   ],
   "source": [
    "ut=today+\" 17:39:00\"\n",
    "print LST(ut)\n",
    "print JD(ut)"
   ]
  },
  {
   "cell_type": "code",
   "execution_count": 9,
   "metadata": {
    "collapsed": false
   },
   "outputs": [
    {
     "name": "stdout",
     "output_type": "stream",
     "text": [
      "8:49:09.\n"
     ]
    }
   ],
   "source": [
    "KAT.date=now()\n",
    "print LST(KAT.date)"
   ]
  },
  {
   "cell_type": "code",
   "execution_count": 10,
   "metadata": {
    "collapsed": false
   },
   "outputs": [
    {
     "data": {
      "text/plain": [
       "'2016-06-20 15:26:46'"
      ]
     },
     "execution_count": 10,
     "metadata": {},
     "output_type": "execute_result"
    }
   ],
   "source": [
    "str(localtime(now()))"
   ]
  },
  {
   "cell_type": "code",
   "execution_count": 11,
   "metadata": {
    "collapsed": false
   },
   "outputs": [
    {
     "data": {
      "text/plain": [
       "42540.06025462963"
      ]
     },
     "execution_count": 11,
     "metadata": {},
     "output_type": "execute_result"
    }
   ],
   "source": [
    "now()"
   ]
  },
  {
   "cell_type": "code",
   "execution_count": 12,
   "metadata": {
    "collapsed": false
   },
   "outputs": [
    {
     "data": {
      "text/plain": [
       "0.1751504628919065"
      ]
     },
     "execution_count": 12,
     "metadata": {},
     "output_type": "execute_result"
    }
   ],
   "source": [
    "JD(ut)-now()-JD(\"1899/12/31 12:00:00\")"
   ]
  },
  {
   "cell_type": "code",
   "execution_count": 13,
   "metadata": {
    "collapsed": false
   },
   "outputs": [
    {
     "data": {
      "text/plain": [
       "2457149.0"
      ]
     },
     "execution_count": 13,
     "metadata": {},
     "output_type": "execute_result"
    }
   ],
   "source": [
    "JD(\"2015/05/06 12:00:00\")"
   ]
  },
  {
   "cell_type": "code",
   "execution_count": 14,
   "metadata": {
    "collapsed": false
   },
   "outputs": [
    {
     "name": "stdout",
     "output_type": "stream",
     "text": [
      "2415020.0 20:04:25\n"
     ]
    }
   ],
   "source": [
    "print JD(\"1899/12/31 12:00:00\"), LST(\"1899/12/31 12:00:00\")"
   ]
  },
  {
   "cell_type": "code",
   "execution_count": 15,
   "metadata": {
    "collapsed": false
   },
   "outputs": [
    {
     "data": {
      "text/plain": [
       "'2016/6/20 13:26:47'"
      ]
     },
     "execution_count": 15,
     "metadata": {},
     "output_type": "execute_result"
    }
   ],
   "source": [
    "str(now()) # UT time now"
   ]
  },
  {
   "cell_type": "code",
   "execution_count": 16,
   "metadata": {
    "collapsed": false
   },
   "outputs": [
    {
     "data": {
      "text/plain": [
       "2415019.9995392594"
      ]
     },
     "execution_count": 16,
     "metadata": {},
     "output_type": "execute_result"
    }
   ],
   "source": [
    "2457149.08403 -42129.084490740745"
   ]
  }
 ],
 "metadata": {
  "kernelspec": {
   "display_name": "Python 2",
   "language": "python",
   "name": "python2"
  },
  "language_info": {
   "codemirror_mode": {
    "name": "ipython",
    "version": 2
   },
   "file_extension": ".py",
   "mimetype": "text/x-python",
   "name": "python",
   "nbconvert_exporter": "python",
   "pygments_lexer": "ipython2",
   "version": "2.7.6"
  }
 },
 "nbformat": 4,
 "nbformat_minor": 0
}
