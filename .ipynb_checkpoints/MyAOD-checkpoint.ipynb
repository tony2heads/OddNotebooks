{
 "cells": [
  {
   "cell_type": "code",
   "execution_count": 1,
   "metadata": {
    "collapsed": true
   },
   "outputs": [],
   "source": [
    "#%matplotlib inline\n",
    "import numpy as np"
   ]
  },
  {
   "cell_type": "code",
   "execution_count": 2,
   "metadata": {
    "collapsed": true
   },
   "outputs": [],
   "source": [
    "#import matplotlib.pyplot as plt"
   ]
  },
  {
   "cell_type": "code",
   "execution_count": 3,
   "metadata": {
    "collapsed": true
   },
   "outputs": [],
   "source": [
    "import katarchive\n",
    "\n",
    "import datetime\n",
    "import string\n",
    "import logging\n",
    "logging.root.setLevel(logging.ERROR)\n"
   ]
  },
  {
   "cell_type": "code",
   "execution_count": 4,
   "metadata": {
    "collapsed": true
   },
   "outputs": [],
   "source": [
    "katarchive.product_filter.only_ar1()\n",
    "\n",
    "begin=\"27/04/2018\"\n",
    "end=\"05/05/2018\"  \n"
   ]
  },
  {
   "cell_type": "code",
   "execution_count": 5,
   "metadata": {},
   "outputs": [
    {
     "name": "stdout",
     "output_type": "stream",
     "text": [
      "2018_04_27\n"
     ]
    }
   ],
   "source": [
    "date=begin[-4:]+\"_\"+begin[3:5]+\"_\"+begin[:2]\n",
    "print date"
   ]
  },
  {
   "cell_type": "code",
   "execution_count": 6,
   "metadata": {
    "collapsed": true
   },
   "outputs": [],
   "source": [
    "Outfile=open('AOD_'+date+'.csv', 'w')"
   ]
  },
  {
   "cell_type": "code",
   "execution_count": 7,
   "metadata": {
    "collapsed": true
   },
   "outputs": [],
   "source": [
    "def channels(details):\n",
    "    ch32k=\"32768\"\n",
    "    mode=\"4k\" # default\n",
    "    if ch32k in details:\n",
    "        mode=\"32k\"\n",
    "    return mode\n"
   ]
  },
  {
   "cell_type": "code",
   "execution_count": 8,
   "metadata": {},
   "outputs": [
    {
     "name": "stdout",
     "output_type": "stream",
     "text": [
      "Searched using: CAS.ProductTypeName:(MeerKATAR1TelescopeProduct) AND CAS.ProductTransferStatus:RECEIVED AND StartTime:[2018-04-26T22:00:00Z TO 2018-05-05T21:59:59Z]\n",
      "Returning 52 results\n",
      "[['1525249374.h5', '2018-05-02 10:22:56 SAST', 'sarah', 32255606759], ['1525248543.h5', '2018-05-02 10:09:09 SAST', 'sarah', 12416080756], ['1525247945.h5', '2018-05-02 09:59:07 SAST', 'Sarah', 13190717460], ['1525247115.h5', '2018-05-02 09:45:17 SAST', 'Lindsay', 5005758098], ['1525246750.h5', '2018-05-02 09:39:23 SAST', 'Sarah', 5190577879], ['1525233976.h5', '2018-05-02 06:06:30 SAST', 'Sarah', 7872523275], ['1525224680.h5', '2018-05-02 03:31:21 SAST', 'BHugo', 60698092176], ['1525219230.h5', '2018-05-02 02:00:30 SAST', 'BHugo', 60423608736], ['1525218701.h5', '2018-05-02 01:51:41 SAST', 'BHugo', 2034629028], ['1525218278.h5', '2018-05-02 01:44:38 SAST', 'BHugo', 2583421605], ['1525214467.h5', '2018-05-02 00:41:08 SAST', 'Tony', 33313218516], ['1525207061.h5', '2018-05-01 22:37:42 SAST', 'Tony', 164329371714], ['1525199667.h5', '2018-05-01 20:34:28 SAST', 'Tony', 164134461520], ['1525192271.h5', '2018-05-01 18:31:11 SAST', 'Tony', 164132543541], ['1525184885.h5', '2018-05-01 16:28:06 SAST', 'Tony', 163939500442], ['1525177515.h5', '2018-05-01 14:25:16 SAST', 'Tony', 163598529407], ['1525170187.h5', '2018-05-01 12:23:08 SAST', 'Tony', 162710100425], ['1525169932.h5', '2018-05-01 12:18:52 SAST', 'Lindsay', 4656685251], ['1525146332.h5', '2018-05-01 05:45:33 SAST', 'Tony', 2016148462640], ['1525144166.h5', '2018-05-01 05:09:26 SAST', 'Lindsay', 27569004808], ['1525105830.h5', '2018-04-30 18:30:31 SAST', 'Sharmila', 828981801953], ['1525098030.h5', '2018-04-30 16:20:30 SAST', 'Lindsay', 161264074497], ['1525096541.h5', '2018-04-30 15:55:42 SAST', 'Lindsay', 4477881127], ['1525094823.h5', '2018-04-30 15:27:03 SAST', 'Lindsay', 4477367544], ['1525091586.h5', '2018-04-30 14:33:10 SAST', 'Sarah', 1780977785], ['1525090322.h5', '2018-04-30 14:12:04 SAST', 'Sarah', 222995380], ['1525088572.h5', '2018-04-30 13:42:55 SAST', 'sarah', 32027590911], ['1525087244.h5', '2018-04-30 13:20:52 SAST', 'Sarah', 11942302655], ['1525084205.h5', '2018-04-30 12:30:07 SAST', 'Lindsay', 16586557082], ['1525083050.h5', '2018-04-30 12:11:03 SAST', 'Sarah', 2936370801], ['1525066327.h5', '2018-04-30 07:32:08 SAST', 'Mattieu', 1007907944], ['1525057673.h5', '2018-04-30 05:07:54 SAST', 'Lindsay', 223323145817], ['1525052159.h5', '2018-04-30 03:36:04 SAST', 'Lindsay', 221257452678], ['1525046573.h5', '2018-04-30 02:02:55 SAST', 'Lindsay', 225661198527], ['1525041053.h5', '2018-04-30 00:30:53 SAST', 'Lindsay', 222239029334], ['1525039254.h5', '2018-04-30 00:00:56 SAST', 'Lindsay', 27305759746], ['1525027131.h5', '2018-04-29 20:38:54 SAST', 'Sandeep', 625446871229], ['1525021585.h5', '2018-04-29 19:06:28 SAST', 'Sandeep', 420171368236], ['1525016070.h5', '2018-04-29 17:34:32 SAST', 'Sandeep', 419239059949], ['1525010462.h5', '2018-04-29 16:01:05 SAST', 'Sandeep', 419239592643], ['1524929477.h5', '2018-04-28 17:31:19 SAST', 'Tony', 683434192965], ['1524902470.h5', '2018-04-28 10:01:13 SAST', 'Tom', 2078098891693], ['1524901803.h5', '2018-04-28 09:50:17 SAST', 'Sarah', 40316856295], ['1524811396.h5', '2018-04-27 08:43:23 SAST', 'Sarah', 110584507695], ['1524809069.h5', '2018-04-27 08:04:34 SAST', 'Sarah', 159046959092], ['1524807655.h5', '2018-04-27 07:41:17 SAST', 'sarah', 49041194961], ['1524806558.h5', '2018-04-27 07:22:45 SAST', 'sarah', 59498577902], ['1524805127.h5', '2018-04-27 06:58:54 SAST', 'sarah', 95547533909], ['1524804295.h5', '2018-04-27 06:44:58 SAST', 'sarah', 41507605049], ['1524803213.h5', '2018-04-27 06:26:58 SAST', 'sarah', 25842436854], ['1524800327.h5', '2018-04-27 05:38:48 SAST', 'Lindsay', 168744040758], ['1524798103.h5', '2018-04-27 05:01:49 SAST', 'Sarah', 121215036318]]\n"
     ]
    }
   ],
   "source": [
    "f=katarchive.search_archive(startdate=begin,enddate=end)\n",
    "print f"
   ]
  },
  {
   "cell_type": "code",
   "execution_count": 9,
   "metadata": {
    "collapsed": true
   },
   "outputs": [],
   "source": [
    "f.sort(key=lambda k: k.metadata.StartTime)"
   ]
  },
  {
   "cell_type": "code",
   "execution_count": 10,
   "metadata": {
    "scrolled": false
   },
   "outputs": [
    {
     "name": "stdout",
     "output_type": "stream",
     "text": [
      "QA,Sarah,2018-04-27 03:01:49.115 UTC,20180427-0001,COMM-305 Generic skarab delaycal,4k,61,112.890,/var/kat/archive3/data/MeerKATAR1/telescope_products/2018/04/27/1524798103.h5\n",
      "QA,Lindsay,2018-04-27 03:38:48.176 UTC,20180427-0002,MKAIV-449 Three calibrator Imaging,4k,61,157.155,/var/kat/archive3/data/MeerKATAR1/telescope_products/2018/04/27/1524800327.h5\n",
      "QA,sarah,2018-04-27 04:26:58.953 UTC,20180427-0003,COM-303 ptuse testing on skarab J1909-3744,4k,61,24.068,/var/kat/archive3/data/MeerKATAR1/telescope_products/2018/04/27/1524803213.h5\n",
      "QA,sarah,2018-04-27 04:44:58.496 UTC,20180427-0009,COM-304 skarab Generic AR1 phaseup,4k,61,38.657,/var/kat/archive3/data/MeerKATAR1/telescope_products/2018/04/27/1524804295.h5\n",
      "QA,sarah,2018-04-27 04:58:54.143 UTC,20180427-0005,COM-303 ptuse testing on skarab J1909-3744,4k,61,88.986,/var/kat/archive3/data/MeerKATAR1/telescope_products/2018/04/27/1524805127.h5\n",
      "QA,sarah,2018-04-27 05:22:45.537 UTC,20180427-0006,COM-303 ptuse testing on skarab J1909-3744,4k,61,55.412,/var/kat/archive3/data/MeerKATAR1/telescope_products/2018/04/27/1524806558.h5\n",
      "QA,sarah,2018-04-27 05:41:17.067 UTC,20180427-0010,COM-303 ptuse testing on skarab J1939 2134,4k,61,45.673,/var/kat/archive3/data/MeerKATAR1/telescope_products/2018/04/27/1524807655.h5\n",
      "QA,Sarah,2018-04-27 06:04:34.476 UTC,20180427-0011,COMM-305 Generic skarab delaycal,4k,61,148.124,/var/kat/archive3/data/MeerKATAR1/telescope_products/2018/04/27/1524809069.h5\n",
      "QA,Sarah,2018-04-27 06:43:23.491 UTC,20180426-0036,COMM-305 Generic skarab delaycal,4k,61,102.990,/var/kat/archive3/data/MeerKATAR1/telescope_products/2018/04/27/1524811396.h5\n",
      "QA,Sarah,2018-04-28 07:50:17.312 UTC,20180428-0002,COMM-305 Generic skarab delaycal,4k,61,37.548,/var/kat/archive3/data/MeerKATAR1/telescope_products/2018/04/28/1524901803.h5\n",
      "QA,Tom,2018-04-28 08:01:13.035 UTC,20180428-0004,DEEP2_off,4k,61,1935.380,/var/kat/archive3/data/MeerKATAR1/telescope_products/2018/04/28/1524902470.h5\n",
      "QA,Tony,2018-04-28 15:31:19.610 UTC,20180428-0005,Circinus mosaic,4k,61,636.498,/var/kat/archive3/data/MeerKATAR1/telescope_products/2018/04/28/1524929477.h5\n",
      "QA,Sandeep,2018-04-29 14:01:05.348 UTC,20180429-0002,MKAIV-229 Imaging full beam correction,4k,61,390.447,/var/kat/archive3/data/MeerKATAR1/telescope_products/2018/04/29/1525010462.h5\n",
      "QA,Sandeep,2018-04-29 15:34:32.976 UTC,20180429-0003,MKAIV-229 Imaging full beam correction,4k,61,390.447,/var/kat/archive3/data/MeerKATAR1/telescope_products/2018/04/29/1525016070.h5\n",
      "QA,Sandeep,2018-04-29 17:06:28.642 UTC,20180429-0004,MKAIV-229 Imaging full beam correction,4k,61,391.315,/var/kat/archive3/data/MeerKATAR1/telescope_products/2018/04/29/1525021585.h5\n",
      "QA,Sandeep,2018-04-29 18:38:54.296 UTC,20180428-0008,MKAIV-229 Imaging full beam correction,4k,61,582.493,/var/kat/archive3/data/MeerKATAR1/telescope_products/2018/04/29/1525027131.h5\n",
      "QA,Lindsay,2018-04-29 22:00:56.359 UTC,20180429-0009,MKAIV-216 Phase-down,4k,51,25.430,/var/kat/archive3/data/MeerKATAR1/telescope_products/2018/04/29/1525039254.h5\n",
      "QA,Lindsay,2018-04-29 22:30:53.599 UTC,20180429-0013,MKAIV-232 Baseline Calibration (Delay model calculation),4k,51,206.976,/var/kat/archive3/data/MeerKATAR1/telescope_products/2018/04/29/1525041053.h5\n",
      "QA,Lindsay,2018-04-30 00:02:55.263 UTC,20180429-0011,MKAIV-232 Baseline Calibration (Delay model calculation),4k,51,210.163,/var/kat/archive3/data/MeerKATAR1/telescope_products/2018/04/30/1525046573.h5\n",
      "QA,Lindsay,2018-04-30 01:36:04.898 UTC,20180429-0012,MKAIV-232 Baseline Calibration (Delay model calculation),4k,51,206.062,/var/kat/archive3/data/MeerKATAR1/telescope_products/2018/04/30/1525052159.h5\n",
      "QA,Lindsay,2018-04-30 03:07:54.567 UTC,20180429-0014,MKAIV-232 Baseline Calibration (Delay model calculation),4k,51,207.986,/var/kat/archive3/data/MeerKATAR1/telescope_products/2018/04/30/1525057673.h5\n",
      "QA,Mattieu,2018-04-30 05:32:08.765 UTC,20180430-0001,MKAIV-916: L-band holography array performance,4k,16, 0.939,/var/kat/archive3/data/MeerKATAR1/telescope_products/2018/04/30/1525066327.h5\n",
      "QA,Sarah,2018-04-30 10:11:03.907 UTC,20180430-0005,COMM-305 Generic skarab delaycal,4k,57, 2.735,/var/kat/archive3/data/MeerKATAR1/telescope_products/2018/04/30/1525083050.h5\n",
      "QA,Lindsay,2018-04-30 10:30:07.423 UTC,20180430-0003,MKAIV-449 Three calibrator Imaging,4k,57,15.447,/var/kat/archive3/data/MeerKATAR1/telescope_products/2018/04/30/1525084205.h5\n",
      "QA,Sarah,2018-04-30 11:20:52.135 UTC,20180430-0006,COMM-305 Generic skarab delaycal,4k,57,11.122,/var/kat/archive3/data/MeerKATAR1/telescope_products/2018/04/30/1525087244.h5\n",
      "QA,sarah,2018-04-30 11:42:55.575 UTC,20180430-0007,COM-304 skarab Generic AR1 phaseup,4k,57,29.828,/var/kat/archive3/data/MeerKATAR1/telescope_products/2018/04/30/1525088572.h5\n",
      "QA,Sarah,2018-04-30 12:12:04.835 UTC,20180430-0008,COMM-305 Generic skarab delaycal,4k,57, 0.208,/var/kat/archive3/data/MeerKATAR1/telescope_products/2018/04/30/1525090322.h5\n",
      "QA,Sarah,2018-04-30 12:33:10.300 UTC,20180430-0009,COMM-305 Generic skarab delaycal,4k,57, 1.659,/var/kat/archive3/data/MeerKATAR1/telescope_products/2018/04/30/1525091586.h5\n",
      "QA,Lindsay,2018-04-30 13:27:03.696 UTC,20180430-0010,MKAIV-584 Generic AR1 delaycal,32k,16, 4.170,/var/kat/archive3/data/MeerKATAR1/telescope_products/2018/04/30/1525094823.h5\n",
      "QA,Lindsay,2018-04-30 13:55:42.116 UTC,20180430-0011,MKAIV-584 Generic AR1 delaycal,32k,16, 4.170,/var/kat/archive3/data/MeerKATAR1/telescope_products/2018/04/30/1525096541.h5\n",
      "QA,Lindsay,2018-04-30 14:20:30.987 UTC,20180430-0013,MKAIV-449 Three calibrator Imaging,32k,16,150.189,/var/kat/archive3/data/MeerKATAR1/telescope_products/2018/04/30/1525098030.h5\n",
      "QA,Sharmila,2018-04-30 16:30:31.686 UTC,20180430-0012,20180329TM-01,32k,16,772.049,/var/kat/archive3/data/MeerKATAR1/telescope_products/2018/04/30/1525105830.h5\n",
      "QA,Lindsay,2018-05-01 03:09:26.704 UTC,20180430-0015,MKAIV-584 Generic AR1 delaycal,32k,16,25.676,/var/kat/archive3/data/MeerKATAR1/telescope_products/2018/05/01/1525144166.h5\n",
      "QA,Tony,2018-05-01 03:45:33.287 UTC,20180430-0016,20180223MB-01,32k,16,1877.685,/var/kat/archive3/data/MeerKATAR1/telescope_products/2018/05/01/1525146332.h5\n",
      "QA,Lindsay,2018-05-01 10:18:52.865 UTC,20180501-0001,MKAIV-584 Generic AR1 delaycal,32k,16, 4.337,/var/kat/archive3/data/MeerKATAR1/telescope_products/2018/05/01/1525169932.h5\n",
      "QA,Tony,2018-05-01 10:23:08.257 UTC,20180501-0002,20180213RK-01,32k,16,151.536,/var/kat/archive3/data/MeerKATAR1/telescope_products/2018/05/01/1525170187.h5\n",
      "QA,Tony,2018-05-01 12:25:16.157 UTC,20180501-0003,20180213RK-01,32k,16,152.363,/var/kat/archive3/data/MeerKATAR1/telescope_products/2018/05/01/1525177515.h5\n",
      "QA,Tony,2018-05-01 14:28:06.039 UTC,20180501-0004,20180213RK-01,32k,16,152.681,/var/kat/archive3/data/MeerKATAR1/telescope_products/2018/05/01/1525184885.h5\n",
      "QA,Tony,2018-05-01 16:31:11.415 UTC,20180501-0005,20180213RK-01,32k,16,152.860,/var/kat/archive3/data/MeerKATAR1/telescope_products/2018/05/01/1525192271.h5\n",
      "QA,Tony,2018-05-01 18:34:28.285 UTC,20180501-0006,20180213RK-01,32k,16,152.862,/var/kat/archive3/data/MeerKATAR1/telescope_products/2018/05/01/1525199667.h5\n",
      "QA,Tony,2018-05-01 20:37:42.157 UTC,20180501-0007,20180213RK-01,32k,16,153.044,/var/kat/archive3/data/MeerKATAR1/telescope_products/2018/05/01/1525207061.h5\n",
      "QA,Tony,2018-05-01 22:41:08.524 UTC,20180501-0008,20180213RK-01,32k,16,31.025,/var/kat/archive3/data/MeerKATAR1/telescope_products/2018/05/01/1525214467.h5\n",
      "QA,BHugo,2018-05-01 23:44:38.383 UTC,20180501-0009,MKAIV-584 Generic AR1 delaycal,4k,16, 2.406,/var/kat/archive3/data/MeerKATAR1/telescope_products/2018/05/01/1525218278.h5\n",
      "QA,BHugo,2018-05-01 23:51:41.704 UTC,20180501-0010,MKAIV-405 Generic AR1 Phaseup,4k,16, 1.895,/var/kat/archive3/data/MeerKATAR1/telescope_products/2018/05/01/1525218701.h5\n",
      "QA,BHugo,2018-05-02 00:00:30.480 UTC,20180501-0011,20180212BH-01 MACSJ 1931-2635,4k,16,56.274,/var/kat/archive3/data/MeerKATAR1/telescope_products/2018/05/02/1525219230.h5\n",
      "QA,BHugo,2018-05-02 01:31:21.174 UTC,20180501-0012,20180212BH-01 MACSJ 1931-2635,4k,16,56.530,/var/kat/archive3/data/MeerKATAR1/telescope_products/2018/05/02/1525224680.h5\n",
      "QA,Sarah,2018-05-02 04:06:30.549 UTC,20180502-0002,COMM-305 Generic skarab delaycal,4k,57, 7.332,/var/kat/archive3/data/MeerKATAR1/telescope_products/2018/05/02/1525233976.h5\n",
      "QA,Sarah,2018-05-02 07:39:23.773 UTC,20180502-0012,COMM-305 Generic skarab delaycal,4k,47, 4.834,/var/kat/archive3/data/MeerKATAR1/telescope_products/2018/05/02/1525246750.h5\n",
      "QA,Lindsay,2018-05-02 07:45:17.624 UTC,20180502-0013,MKAIV-449 Three calibrator Imaging,4k,47, 4.662,/var/kat/archive3/data/MeerKATAR1/telescope_products/2018/05/02/1525247115.h5\n",
      "QA,Sarah,2018-05-02 07:59:07.273 UTC,20180502-0014,COMM-305 Generic skarab delaycal,4k,50,12.285,/var/kat/archive3/data/MeerKATAR1/telescope_products/2018/05/02/1525247945.h5\n",
      "QA,sarah,2018-05-02 08:09:09.018 UTC,20180502-0003,COM-304 skarab Generic AR1 phaseup,4k,50,11.563,/var/kat/archive3/data/MeerKATAR1/telescope_products/2018/05/02/1525248543.h5\n",
      "QA,sarah,2018-05-02 08:22:56.668 UTC,20180502-0004,COM-303 ptuse testing on skarab J1909-3744,4k,50,30.040,/var/kat/archive3/data/MeerKATAR1/telescope_products/2018/05/02/1525249374.h5\n"
     ]
    }
   ],
   "source": [
    "for fi in f:\n",
    "    txts=fi.metadata.InstructionSet\n",
    "    arch=fi.metadata.FileLocation+\"/\"+fi.metadata.Filename\n",
    "    tgt=fi.metadata.Targets[-1].replace(' ','')\n",
    "    name=fi.metadata.Observer\n",
    "    UT=fi.metadata.Details.splitlines()[5][14:41]\n",
    "    block=fi.metadata.ExperimentID\n",
    "    desc=string.replace(fi.metadata.Description,\",\",\";\")\n",
    "    chan=channels(fi.metadata.Details)\n",
    "    nants=len(fi.metadata.Antennas) # Number of ants\n",
    "    size=(fi.metadata.FileSize)/(1024.0*1024*1024) #Number of Gigabyte\n",
    "    if tgt=='None':\n",
    "        tgt='XXXXXX NONE XXXXXX'\n",
    "    \"\"\"\n",
    "    #listing=(\"%s %s3s, %s %s\") %(fi.metadata.FileLocation,fi.metadata.Filename,\\\n",
    "    channels(fi.metadata.Details),antstr,tgt)\n",
    "    \"\"\"\n",
    "    listing=(\"QA,%s,%s,%s,%s,%s,%02d,%6.3f,%s\")%(name,UT,block,desc,chan,nants,size,arch) \n",
    "    print listing\n",
    "    Outfile.write(listing+\"\\n\")"
   ]
  },
  {
   "cell_type": "code",
   "execution_count": 11,
   "metadata": {
    "collapsed": true
   },
   "outputs": [],
   "source": [
    "Outfile.close()"
   ]
  },
  {
   "cell_type": "code",
   "execution_count": 12,
   "metadata": {},
   "outputs": [
    {
     "data": {
      "text/plain": [
       "'2018-05-02 08:22:56.668 UTC'"
      ]
     },
     "execution_count": 12,
     "metadata": {},
     "output_type": "execute_result"
    }
   ],
   "source": [
    "fi.metadata.Details.splitlines()[5][14:41]"
   ]
  }
 ],
 "metadata": {
  "kernelspec": {
   "display_name": "Python 2",
   "language": "python",
   "name": "python2"
  },
  "language_info": {
   "codemirror_mode": {
    "name": "ipython",
    "version": 2
   },
   "file_extension": ".py",
   "mimetype": "text/x-python",
   "name": "python",
   "nbconvert_exporter": "python",
   "pygments_lexer": "ipython2",
   "version": "2.7.6"
  }
 },
 "nbformat": 4,
 "nbformat_minor": 1
}
