{
 "cells": [
  {
   "cell_type": "markdown",
   "metadata": {},
   "source": [
    "# Formulae for HII regions\n",
    "\n",
    "## Brightness temperature\n",
    "$$ T_b= 3.68 \\frac{S_{1.3cm}}{mJy} \\frac{arcsec}{\\theta_M} \\frac{arcsec}{\\theta_m}$$\n",
    "where $\\theta_M$ is the angular size of the long axis and $\\theta_m$ of the shortaxis\n",
    "\n",
    "\n",
    "\n",
    "## Optical depth \n",
    "\n",
    "Assume for HII region $T_e \\sim 10^4 K$\n",
    "\n",
    "$$\\tau = \\frac{T_e}{T_b}$$\n",
    "\n",
    "\n",
    "## Emission measure (in optically thin)\n",
    "\n",
    "$$ \\frac{EM}{ cm^{-6}pc } = 12.195  \\tau {\\frac{T_e}{K}}^{1.35} {\\frac{\\nu}{GHz}}^{2.1}$$ \n",
    "\n",
    "## Density\n",
    "$$ \\frac{n_e}{cm^{-3}}  =454.08 {\\frac{EM}{cm^{-6}pc}}^{0.5} {\\frac{\\theta_{eq}}{arcsec}}^{-0.5} {\\frac{D}{pc}}^{-0.5}$$\n",
    "\n",
    "$\\theta_{eq} = \\sqrt{\\theta_M \\theta_m}$\n",
    "\n",
    "## Lyman continuum photon flux\n",
    "\n",
    "$$ \\frac{N}{s^{-1}} = 1.75\\times 10^{39}  {\\frac{\\theta_{eq}}{arcsec}}^3 {\\frac{n_e}{cm^{-3}}}^2 \\alpha {\\frac{D}{pc}}^3$$\n",
    "\n",
    "At $T_e=10^4 K$ \n",
    "\n",
    "$\\alpha= 3\\times 10^{-13} cm{-3} s^{-1}$"
   ]
  },
  {
   "cell_type": "code",
   "execution_count": null,
   "metadata": {
    "collapsed": true
   },
   "outputs": [],
   "source": []
  },
  {
   "cell_type": "code",
   "execution_count": null,
   "metadata": {
    "collapsed": true
   },
   "outputs": [],
   "source": []
  }
 ],
 "metadata": {
  "kernelspec": {
   "display_name": "Python 2",
   "language": "python",
   "name": "python2"
  },
  "language_info": {
   "codemirror_mode": {
    "name": "ipython",
    "version": 2
   },
   "file_extension": ".py",
   "mimetype": "text/x-python",
   "name": "python",
   "nbconvert_exporter": "python",
   "pygments_lexer": "ipython2",
   "version": "2.7.6"
  }
 },
 "nbformat": 4,
 "nbformat_minor": 0
}
