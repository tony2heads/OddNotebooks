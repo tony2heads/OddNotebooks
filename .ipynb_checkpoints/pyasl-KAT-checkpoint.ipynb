{
 "cells": [
  {
   "cell_type": "code",
   "execution_count": 1,
   "metadata": {},
   "outputs": [],
   "source": [
    "from PyAstronomy import pyasl\n",
    "\n",
    "# Coordinates of KAT-7\n",
    "# (Coordinates of UT1)\n",
    "longitude = 21.41068\n",
    "latitude = -30.72148\n",
    "altitude = 1038.\n",
    "\n",
    "# Coordinates of HD 12345 (J2000)\n",
    "ra2000 = 030.20313477\n",
    "dec2000 = -12.87498346\n",
    "\n",
    "# (Mid-)Time of observation\n",
    "jd = 2450528.2335\n",
    "\n",
    "kat={'alt':1038, 'lat':-30.72148, 'lon':21.41068}"
   ]
  },
  {
   "cell_type": "code",
   "execution_count": 2,
   "metadata": {},
   "outputs": [],
   "source": [
    "# Calculate barycentric correction (debug=True show\n",
    "# various intermediate results)\n",
    "#corr, hjd = pyasl.helcorr(longitude, latitude, altitude,ra2000, dec2000, jd, debug=True)\n",
    "\n",
    "#print \"Barycentric correction [km/s]: \", corr\n",
    "#print \"Heliocentric Julian day: \", hjd"
   ]
  },
  {
   "cell_type": "code",
   "execution_count": 3,
   "metadata": {},
   "outputs": [
    {
     "name": "stdout",
     "output_type": "stream",
     "text": [
      "Earth's velocity at JD:  2476468.576\n",
      "Heliocentric velocity [km/s]:  [  3.27338231 -27.22197754 -11.79786779]\n",
      "Barycentric velocity [km/s] :  [  3.26337781 -27.22561421 -11.79925053]\n",
      "Barycentric velocity of Earth toward Sirius:  -22.7886938402\n"
     ]
    }
   ],
   "source": [
    "jd = 2.476468576e6\n",
    "\n",
    "heli, bary = pyasl.baryvel(jd, deq=2000.0)\n",
    "\n",
    "print \"Earth's velocity at JD: \", jd\n",
    "print \"Heliocentric velocity [km/s]: \", heli\n",
    "print \"Barycentric velocity [km/s] : \", bary\n",
    "\n",
    "# Coordinates of Sirius\n",
    "ra  = 101.28715535\n",
    "dec = -16.71611587\n",
    "\n",
    "vh, vb = pyasl.baryCorr(jd, ra, dec, deq=2000.0)\n",
    "print \"Barycentric velocity of Earth toward Sirius: \", vb"
   ]
  },
  {
   "cell_type": "code",
   "execution_count": 4,
   "metadata": {},
   "outputs": [
    {
     "name": "stdout",
     "output_type": "stream",
     "text": [
      "Zenith angle:  0, airmass =    0.90\n",
      "Zenith angle: 10, airmass =    0.91\n",
      "Zenith angle: 20, airmass =    0.95\n",
      "Zenith angle: 30, airmass =    1.03\n",
      "Zenith angle: 40, airmass =    1.17\n",
      "Zenith angle: 50, airmass =    1.39\n",
      "Zenith angle: 60, airmass =    1.79\n",
      "Zenith angle: 70, airmass =    2.61\n",
      "Zenith angle: 80, airmass =    5.05\n"
     ]
    }
   ],
   "source": [
    "obsAlt = 1038.\n",
    "\n",
    "for za in range(0,90,10):\n",
    "  print \"Zenith angle: %2d, airmass = %7.2f\" % \\\n",
    "    (za, pyasl.airmassSpherical(za, obsAlt))"
   ]
  },
  {
   "cell_type": "code",
   "execution_count": 5,
   "metadata": {},
   "outputs": [],
   "source": [
    "#pyasl.listObservatories()"
   ]
  },
  {
   "cell_type": "code",
   "execution_count": 6,
   "metadata": {},
   "outputs": [
    {
     "name": "stdout",
     "output_type": "stream",
     "text": [
      "Get altitude and azimuth of object in DEGREES\n",
      "(89.278519999999986, -0.0)\n",
      "\n",
      "Get altitude and azimuth for a list of objects from same observer latitude\n",
      "alt:  [ 66.52        71.18757435  74.91164879  77.09172247]\n",
      "az:  [ 180.          192.79104338  210.73167203  235.0096414 ]\n"
     ]
    }
   ],
   "source": [
    "import datetime\n",
    "import numpy as np\n",
    "\n",
    "# Hour angle 0. means transiting the local meridian.\n",
    "ha = 0.\n",
    "# Declination of object\n",
    "dec = -30.\n",
    "# Latitude of the observer (here KAT-7)\n",
    "lat = -30.72148\n",
    "print \"Get altitude and azimuth of object in DEGREES\"\n",
    "print pyasl.hadec2altaz(ha, dec, lat)\n",
    "\n",
    "# List of coordinates\n",
    "ha = np.arange(0.,20.,5.)\n",
    "dec = np.arange(30.,50.,5.)\n",
    "lat = np.zeros(dec.size)+53.48\n",
    "print\n",
    "print \"Get altitude and azimuth for a list of objects from same observer latitude\"\n",
    "altaz = pyasl.hadec2altaz(ha, dec, lat)\n",
    "print \"alt: \", altaz[0]\n",
    "print \"az: \", altaz[1]"
   ]
  },
  {
   "cell_type": "code",
   "execution_count": 7,
   "metadata": {},
   "outputs": [
    {
     "name": "stdout",
     "output_type": "stream",
     "text": [
      "Populating the interactive namespace from numpy and matplotlib\n",
      "\n",
      "Get horizontal coordinates (alt, az, ha) from JD, RA,\n",
      "  and DEC for the SAAO\n",
      "(array([ 22.93559622]), array([ 248.08276233]), array([ 80.40091071]))\n",
      "\n",
      "From a list of Julian dates ...\n",
      "JD = 2.45699e+06 : alt =  21.8367,  az =  247.218,  ha =  81.0009\n",
      "JD = 2.45699e+06 : alt = -24.2447,  az =  205.374,  ha =  153.198\n",
      "JD = 2.45699e+06 : alt = -15.6021,  az =  140.165,  ha =  225.395\n",
      "JD = 2.45699e+06 : alt =  36.8843,  az =  106.237,  ha =  297.592\n",
      "JD = 2.45699e+06 : alt =  81.5167,  az =  272.929,  ha =  9.78946\n",
      "\n",
      "For one object and different times at the KAT..\n"
     ]
    },
    {
     "data": {
      "image/png": "[encoded data removed]",
      "text/plain": [
       "<matplotlib.figure.Figure at 0x7ff0f2fe9410>"
      ]
     },
     "metadata": {},
     "output_type": "display_data"
    }
   ],
   "source": [
    "%pylab inline\n",
    "# Convert calender date to JD\n",
    "# use the datetime package\n",
    "jd = datetime.datetime(2014, 12, 1)\n",
    "jd = pyasl.jdcnv(jd)\n",
    "# Specifiy RA and DEC\n",
    "ra = 10.\n",
    "dec = -30.\n",
    "print\n",
    "print \"Get horizontal coordinates (alt, az, ha) from JD, RA,\"\n",
    "print \"  and DEC for the SAAO\"\n",
    "print pyasl.eq2hor(jd, ra, dec, observatory=\"saao\")\n",
    "\n",
    "print\n",
    "print \"From a list of Julian dates ...\"\n",
    "jds = np.arange(jd,jd+1,.2)\n",
    "ras = np.zeros(jds.size) + ra\n",
    "decs = np.zeros(jds.size) + dec\n",
    "alt, az, ha = pyasl.eq2hor(jds, ras, decs, **kat)\n",
    "\n",
    "for i in range(alt.size):\n",
    "  print \"JD = %g : alt = % g,  az = % g,  ha = % g\" % (jds[i], alt[i], az[i], ha[i])\n",
    "\n",
    "\n",
    "print\n",
    "print \"For one object and different times at the KAT..\"\n",
    "jds = np.arange(jd-.25,jd+.25,.01)\n",
    "ras = np.zeros(jds.size) + 10.\n",
    "decs = np.zeros(jds.size) - 30.\n",
    "res = pyasl.eq2hor(jds, ras, decs, **kat)\n",
    "\n",
    "plt.plot(jds, res[0], label=\"El\")\n",
    "plt.plot(jds, res[1] ,label=\"Az\")\n",
    "plt.xlabel(\"Julian date\")\n",
    "#plt.ylabel(\"Altitude [deg]\")\n",
    "plt.legend()\n",
    "plt.grid()\n",
    "plt.show()"
   ]
  },
  {
   "cell_type": "code",
   "execution_count": 8,
   "metadata": {},
   "outputs": [
    {
     "name": "stdout",
     "output_type": "stream",
     "text": [
      "\n",
      "Get apparent (real) altitude of a star with observed altitude of 50.0 degrees\n",
      "  ->  Apparent altitude =  [ 49.98608883]\n",
      "\n",
      "You are not observing from sea level, but from an altitude of 5000 meter.\n",
      "Apparent altitude =  49.99162, estimated pressure [mbar] = 538.33554, estimated temperature [K] = 250.50000\n",
      "\n",
      "Convert apparent (real) altitude into observed altitude.\n",
      "Apparent altitude = 50.0 degrees  -> Observed altitude = 50.0139116888\n",
      "\n",
      "The same object observed from different observer altitudes\n",
      "Observed altitude [deg] = 30.0286, pressure [mbar] = 1010, temperature [K] = 283\n",
      "Observed altitude [deg] = 30.0282, pressure [mbar] = 994.13, temperature [K] = 282.133\n",
      "Observed altitude [deg] = 30.0279, pressure [mbar] = 978.463, temperature [K] = 281.267\n",
      "Observed altitude [deg] = 30.0275, pressure [mbar] = 962.996, temperature [K] = 280.4\n",
      "Observed altitude [deg] = 30.0272, pressure [mbar] = 947.728, temperature [K] = 279.533\n",
      "Observed altitude [deg] = 30.0268, pressure [mbar] = 932.656, temperature [K] = 278.667\n",
      "Observed altitude [deg] = 30.0265, pressure [mbar] = 917.779, temperature [K] = 277.8\n",
      "Observed altitude [deg] = 30.0261, pressure [mbar] = 903.095, temperature [K] = 276.933\n",
      "Observed altitude [deg] = 30.0258, pressure [mbar] = 888.601, temperature [K] = 276.067\n",
      "Observed altitude [deg] = 30.0255, pressure [mbar] = 874.297, temperature [K] = 275.2\n"
     ]
    }
   ],
   "source": [
    "# Assume, a star is observed at an altitude of 50 degrees\n",
    "alt = 50.\n",
    "# Now one wants to know the real altitude of the star, i.e.,\n",
    "# the altitude corrected for atmospheric refraction.\n",
    "print\n",
    "print \"Get apparent (real) altitude of a star with observed altitude of \" + \\\n",
    "      str(alt) + \" degrees\"\n",
    "print \"  ->  Apparent altitude = \", alt - pyasl.co_refract_forward(alt)\n",
    "\n",
    "print\n",
    "print \"You are not observing from sea level, but from an altitude of 5000 meter.\"\n",
    "print (\"Apparent altitude = %9.5f, estimated pressure [mbar] = %9.5f, \" + \\\n",
    "      \"estimated temperature [K] = %9.5f\") % \\\n",
    "      pyasl.co_refract(alt, observer_alt=5000, convert_to_observed=False)\n",
    "\n",
    "print\n",
    "print \"Convert apparent (real) altitude into observed altitude.\"\n",
    "print \"Apparent altitude = \" + str(alt) + \" degrees\",\n",
    "print \" -> Observed altitude = \" + str(pyasl.co_refract(alt, full_output=False,\\\n",
    "                                       convert_to_observed=True)[0])\n",
    "\n",
    "print\n",
    "print \"The same object observed from different observer altitudes\"\n",
    "apparentAltitudes = np.repeat(30.0, 10)\n",
    "obsalts = np.linspace(0.,1200.,len(apparentAltitudes))\n",
    "r = pyasl.co_refract(apparentAltitudes, observer_alt=obsalts, convert_to_observed=True)\n",
    "for i in range(len(r[0])):\n",
    "  print \"Observed altitude [deg] = %g, pressure [mbar] = %g, temperature [K] = %g\" \\\n",
    "        % (r[0][i], r[1][i], r[2][i])"
   ]
  },
  {
   "cell_type": "code",
   "execution_count": 9,
   "metadata": {},
   "outputs": [
    {
     "name": "stdout",
     "output_type": "stream",
     "text": [
      "             JD        RA       DEC         DIST    GEOLON    GEOLAT\n",
      "            [d]     [deg]     [deg]         [km]     [deg]     [deg]\n",
      "   2457023.5000   48.9669   15.1032  383565.1714   50.6074   -2.8988\n",
      "   2457024.5000   62.4468   17.2035  386948.5849   63.7157   -3.7528\n",
      "   2457025.5000   75.9545   18.3867  390277.4756   76.6450   -4.3993\n",
      "   2457026.5000   89.3651   18.6189  393523.4708   89.3962   -4.8145\n",
      "   2457027.5000  102.5380   17.9278  396629.3520  101.9660   -4.9877\n",
      "   2457028.5000  115.3553   16.3963  399496.8978  114.3516   -4.9209\n",
      "   2457029.5000  127.7522   14.1462  401985.7176  126.5570   -4.6275\n",
      "   2457030.5000  139.7271   11.3190  403922.1130  138.5974   -4.1291\n",
      "   2457031.5000  151.3381    8.0591  405115.7117  150.5029   -3.4536\n",
      "   2457032.5000  162.6900    4.5038  405381.4289  162.3197   -2.6319\n",
      "   2457033.5000  173.9210    0.7806  404564.3619  174.1100   -1.6969\n",
      "   2457034.5000  185.1913   -2.9896  402565.0388  185.9496   -0.6828\n",
      "   2457035.5000  196.6737   -6.6848  399362.3380  197.9247    0.3741\n",
      "   2457036.5000  208.5444  -10.1713  395031.8835  210.1273    1.4340\n",
      "   2457037.5000  220.9679  -13.2937  389758.3373  222.6491    2.4522\n",
      "   2457038.5000  234.0739  -15.8679  383839.5447  235.5724    3.3774\n",
      "   2457039.5000  247.9220  -17.6854  377678.4397  248.9583    4.1514\n",
      "   2457040.5000  262.4639  -18.5356  371756.7330  262.8325    4.7119\n",
      "   2457041.5000  277.5251  -18.2487  366585.9627  277.1721    4.9989\n",
      "   2457042.5000  292.8316  -16.7494  362638.4993  291.8984    4.9667\n",
      "   2457043.5000  308.0847  -14.0967  360271.4767  306.8829    4.5965\n",
      "   2457044.5000  323.0488  -10.4862  359664.5066  321.9645    3.9045\n",
      "   2457045.5000  337.6034   -6.2124  360791.4705  336.9778    2.9436\n",
      "   2457046.5000  351.7435   -1.6107  363436.2730  351.7811    1.7937\n",
      "   2457047.5000    5.5450    2.9942  367246.9095    6.2758    0.5472\n",
      "   2457048.5000   19.1205    7.3199  371809.5226   20.4130   -0.7052\n",
      "   2457049.5000   32.5805   11.1372  376720.2379   34.1864   -1.8853\n",
      "   2457050.5000   46.0041   14.2691  381637.8992   47.6188   -2.9310\n",
      "   2457051.5000   59.4197   16.5873  386310.8240   60.7483   -3.7966\n",
      "   2457052.5000   72.8006   18.0116  390579.6878   73.6170   -4.4505\n"
     ]
    }
   ],
   "source": [
    "\n",
    "# Convert calendar date to JD\n",
    "# using the datetime package\n",
    "jd = datetime.datetime(2015, 1, 1)\n",
    "jd = pyasl.jdcnv(jd)\n",
    "jd = np.arange(jd, jd + 30, 1)\n",
    "# Calculate Moon positions\n",
    "res = pyasl.moonpos(jd)\n",
    "\n",
    "print \"%15s  %8s  %8s  %11s  %8s  %8s\" % \\\n",
    "  (\"JD\", \"RA\", \"DEC\", \"DIST\", \"GEOLON\", \"GEOLAT\")\n",
    "print \"%15s  %8s  %8s  %11s  %8s  %8s\" % \\\n",
    "  (\"[d]\", \"[deg]\", \"[deg]\", \"[km]\", \"[deg]\", \"[deg]\")\n",
    "for i in range(jd.size):\n",
    "  print \"%15.4f  %8.4f  %8.4f  %11.4f  %8.4f  %8.4f\" % \\\n",
    "    (jd[i], res[0][i], res[1][i], res[2][i], res[3][i], res[4][i])"
   ]
  },
  {
   "cell_type": "code",
   "execution_count": 10,
   "metadata": {},
   "outputs": [
    {
     "name": "stdout",
     "output_type": "stream",
     "text": [
      "             JD  Moon Phase\n",
      "   2457023.5000   82%\n",
      "   2457024.5000   89%\n",
      "   2457025.5000   94%\n",
      "   2457026.5000   98%\n",
      "   2457027.5000   99%\n",
      "   2457028.5000   99%\n",
      "   2457029.5000   96%\n",
      "   2457030.5000   92%\n",
      "   2457031.5000   87%\n",
      "   2457032.5000   80%\n",
      "   2457033.5000   72%\n",
      "   2457034.5000   63%\n",
      "   2457035.5000   54%\n",
      "   2457036.5000   44%\n",
      "   2457037.5000   34%\n",
      "   2457038.5000   25%\n",
      "   2457039.5000   16%\n",
      "   2457040.5000    9%\n",
      "   2457041.5000    3%\n",
      "   2457042.5000    0%\n",
      "   2457043.5000    0%\n",
      "   2457044.5000    3%\n",
      "   2457045.5000    8%\n",
      "   2457046.5000   16%\n",
      "   2457047.5000   26%\n",
      "   2457048.5000   36%\n",
      "   2457049.5000   47%\n",
      "   2457050.5000   58%\n",
      "   2457051.5000   68%\n",
      "   2457052.5000   77%\n"
     ]
    }
   ],
   "source": [
    "jd = datetime.datetime(2015, 1, 1)\n",
    "jd = pyasl.jdcnv(jd)\n",
    "jd = np.arange(jd, jd+30,1)\n",
    "mp = pyasl.moonphase(jd)\n",
    "\n",
    "print \"%15s  %3s\" % (\"JD\", \"Moon Phase\")\n",
    "for i in range(jd.size):\n",
    "  print \"%15.4f  %3d%%\" % (jd[i], mp[i]*100.)"
   ]
  },
  {
   "cell_type": "code",
   "execution_count": 11,
   "metadata": {},
   "outputs": [
    {
     "name": "stdout",
     "output_type": "stream",
     "text": [
      "JD = 2457036.5\n",
      "Coordinates of the Sun (ra, dec): 295.329, -21.3947\n",
      "Solar elongation = 293.479 and obliquity = 23.4348\n",
      "\n",
      "At JD = 2.45704e+06: ra = 295.329, dec = -21.3947\n",
      "At JD = 2.45704e+06: ra = 300.722, dec = -20.4368\n",
      "At JD = 2.45705e+06: ra = 306.039, dec = -19.3158\n",
      "At JD = 2.45705e+06: ra = 311.272, dec = -18.0449\n",
      "At JD = 2.45706e+06: ra = 316.417, dec = -16.6377\n",
      "At JD = 2.45706e+06: ra = 321.477, dec = -15.1082\n",
      "At JD = 2.45707e+06: ra = 326.454, dec = -13.4704\n",
      "At JD = 2.45707e+06: ra = 331.354, dec = -11.7388\n",
      "At JD = 2.45708e+06: ra = 336.182, dec = -9.92871\n",
      "At JD = 2.45708e+06: ra = 340.944, dec = -8.0552\n",
      "At JD = 2.45709e+06: ra = 345.648, dec = -6.1327\n",
      "At JD = 2.45709e+06: ra = 350.306, dec = -4.17459\n",
      "At JD = 2.4571e+06: ra = 354.93, dec = -2.19382\n",
      "At JD = 2.4571e+06: ra = 359.53, dec = -0.203673\n",
      "At JD = 2.45711e+06: ra = 4.11636, dec = 1.78217\n",
      "At JD = 2.45711e+06: ra = 8.69773, dec = 3.75029\n",
      "At JD = 2.45712e+06: ra = 13.2849, dec = 5.68823\n",
      "At JD = 2.45712e+06: ra = 17.8894, dec = 7.58435\n",
      "At JD = 2.45713e+06: ra = 22.5224, dec = 9.42706\n",
      "At JD = 2.45713e+06: ra = 27.1923, dec = 11.2042\n",
      "At JD = 2.45714e+06: ra = 31.9053, dec = 12.9033\n",
      "At JD = 2.45714e+06: ra = 36.6665, dec = 14.5121\n",
      "At JD = 2.45715e+06: ra = 41.4812, dec = 16.0194\n",
      "At JD = 2.45715e+06: ra = 46.3548, dec = 17.4147\n",
      "At JD = 2.45716e+06: ra = 51.2903, dec = 18.6875\n",
      "At JD = 2.45716e+06: ra = 56.2871, dec = 19.8275\n",
      "At JD = 2.45717e+06: ra = 61.3406, dec = 20.8245\n",
      "At JD = 2.45717e+06: ra = 66.445, dec = 21.67\n",
      "At JD = 2.45718e+06: ra = 71.5942, dec = 22.3566\n",
      "At JD = 2.45718e+06: ra = 76.7815, dec = 22.8785\n"
     ]
    }
   ],
   "source": [
    "# Convert calendar date into JD\n",
    "# use the datetime package\n",
    "jd = datetime.datetime(2015, 1, 14)\n",
    "jd = pyasl.jdcnv(jd)\n",
    "print \"JD = \" + str(jd)\n",
    "pos = pyasl.sunpos(jd, full_output=True)\n",
    "print \"Coordinates of the Sun (ra, dec): %g, %g\" % (pos[1], pos[2])\n",
    "print \"Solar elongation = %g and obliquity = %g\" % (pos[3], pos[4])\n",
    "\n",
    "# Get the Sun's RA and DEC values for a period of time.\n",
    "startjd = datetime.datetime(2015, 1, 14)\n",
    "endjd = datetime.datetime(2015, 6, 14)\n",
    "# Convert into Julian dates\n",
    "startjd = pyasl.jdcnv(startjd)\n",
    "endjd = pyasl.jdcnv(endjd)\n",
    "print\n",
    "pos = pyasl.sunpos(startjd, end_jd=endjd, jd_steps=30, plot=False, full_output=True)\n",
    "\n",
    "for i in range(len(pos[0])):\n",
    "  print \"At JD = %g: ra = %g, dec = %g\" % (pos[0][i], pos[1][i], pos[2][i])"
   ]
  },
  {
   "cell_type": "code",
   "execution_count": 12,
   "metadata": {},
   "outputs": [
    {
     "name": "stdout",
     "output_type": "stream",
     "text": [
      "2019-10-14 12:21:03.055309\n",
      "2458771.01462\n"
     ]
    },
    {
     "data": {
      "text/plain": [
       "15.295754780061543"
      ]
     },
     "execution_count": 12,
     "metadata": {},
     "output_type": "execute_result"
    }
   ],
   "source": [
    "today=datetime.datetime.utcnow()\n",
    "print today\n",
    "jd = pyasl.jdcnv(today)\n",
    "print jd\n",
    "pyasl.ct2lst(jd,21.41068)"
   ]
  },
  {
   "cell_type": "code",
   "execution_count": 13,
   "metadata": {},
   "outputs": [
    {
     "data": {
      "text/plain": [
       "datetime.datetime(2019, 10, 14, 12, 21, 3, 66453)"
      ]
     },
     "execution_count": 13,
     "metadata": {},
     "output_type": "execute_result"
    }
   ],
   "source": [
    "datetime.datetime.utcnow()"
   ]
  },
  {
   "cell_type": "code",
   "execution_count": 14,
   "metadata": {},
   "outputs": [
    {
     "data": {
      "text/plain": [
       "[2015, 1, 14, 13.220160003751516]"
      ]
     },
     "execution_count": 14,
     "metadata": {},
     "output_type": "execute_result"
    }
   ],
   "source": [
    "pyasl.daycnv(2457037.05084)\n"
   ]
  },
  {
   "cell_type": "code",
   "execution_count": null,
   "metadata": {},
   "outputs": [],
   "source": []
  }
 ],
 "metadata": {
  "kernelspec": {
   "display_name": "Python 2",
   "language": "python",
   "name": "python2"
  },
  "language_info": {
   "codemirror_mode": {
    "name": "ipython",
    "version": 2
   },
   "file_extension": ".py",
   "mimetype": "text/x-python",
   "name": "python",
   "nbconvert_exporter": "python",
   "pygments_lexer": "ipython2",
   "version": "2.7.15+"
  }
 },
 "nbformat": 4,
 "nbformat_minor": 1
}
