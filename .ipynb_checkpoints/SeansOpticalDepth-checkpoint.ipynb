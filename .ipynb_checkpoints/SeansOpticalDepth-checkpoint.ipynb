{
 "cells": [
  {
   "cell_type": "markdown",
   "metadata": {},
   "source": [
    "#Note\n",
    "This is a clear sky model for zenith opacity; it does not include\n",
    "* Clouds and fog\n",
    "* Rain (BAD)"
   ]
  },
  {
   "cell_type": "code",
   "execution_count": 47,
   "metadata": {
    "collapsed": false
   },
   "outputs": [],
   "source": [
    "# %load ../Atmosphere/opacity.py\n",
    "def calc_atmospheric_opacity(T, RH, P, h, f):\n",
    "    \"\"\" \n",
    "        Calculates zenith opacity according to ITU-R P.676-9. For elevations > 10 deg.\n",
    "        Use as \"Tsky*(1-exp(-opacity/sin(el)))\" for elevation dependence.\n",
    "        T: temperature in deg C\n",
    "        RH: relative humidity, 0 < RH < 1\n",
    "        P: dry air pressure in hPa (equiv. mbar)  # WE MEASURE TOTAL: DRY=TOTAL-WET\n",
    "        h: height above sea level in km\n",
    "        f: frequency in GHz (must be < 55 GHz)\n",
    "        This function returns the return: approximate atmospheric opacity at zenith [Nepers]\n",
    "    \"\"\"\n",
    "    es = 6.1121*np.exp((18.678-T/234.5)*T/(257.14+T)) # [hPa] from A. L. Buck research manual 1996\n",
    "    rho = RH*es*216.7/(T+273.15) # [g/m^3] from A. L. Buck research manual 1996 (ITU-R ommited the factor \"RH\" - a mistake)\n",
    "    #print es, rho\n",
    "    # The following is taken directly from ITU-R P.676-9\n",
    "    \"\"\"\n",
    "    p_tot = P + es # from eq 3\n",
    "    \"\"\"\n",
    "    Pdry = P-es\n",
    "    \n",
    "    rho = rho*np.exp(h/2) # Adjust to sea level as per eq 32\n",
    "    print  \"water vapour pressure\",es,\"mbar ; density\" ,rho ,\"g/m**3\"\n",
    "    # eq 22\n",
    "    r_t = 288./(273.+T)\n",
    "    r_p = P/1013.\n",
    "    phi = lambda a, b, c, d: r_p**a*r_t**b*np.exp(c*(1-r_p)+d*(1-r_t))\n",
    "    E_1 = phi(0.0717,-1.8132,0.0156,-1.6515)\n",
    "    E_2 = phi(0.5146,-4.6368,-0.1921,-5.7416)\n",
    "    E_3 = phi(0.3414,-6.5851,0.2130,-8.5854)\n",
    "    #print E_1,E_2,E_3\n",
    "    #print r_t,r_p,f\n",
    "    # Following is valid only for f <= 54 GHz\n",
    "    yo = ( 7.2*r_t**2.8 / (f**2+0.34*r_p**2*r_t**1.6) + 0.62*E_3 / ((54-f)**(1.16*E_1)+0.83*E_2) )\\\n",
    "        * f**2 * r_p**2 *1e-3\n",
    "    #print \"YO\", yo\n",
    "    # eq 23\n",
    "    \"\"\"\n",
    "    End of dry part\n",
    "    \"\"\"\n",
    "    n_1 = 0.955*r_p*r_t**0.68 + 0.006*rho\n",
    "    n_2 = 0.735*r_p*r_t**0.5 + 0.0353*r_t**4*rho\n",
    "    g = lambda f, f_i: 1+(f-f_i)**2/(f+f_i)**2\n",
    "    yw = (  3.98*n_1*np.exp(2.23*(1-r_t))/((f-22.235)**2+9.42*n_1**2)*g(f,22)\\\n",
    "          + 11.96*n_1*np.exp(0.7*(1-r_t))/((f-183.31)**2+11.14*n_1**2)\\\n",
    "          + 0.081*n_1*np.exp(6.44*(1-r_t))/((f-321.226)**2+6.29*n_1**2)\\\n",
    "          + 3.66*n_1*np.exp(1.6*(1-r_t))/((f-325.153)**2+9.22*n_1**2)\\\n",
    "          + 25.37*n_1*np.exp(1.09*(1-r_t))/(f-380)**2\\\n",
    "          + 17.4*n_1*np.exp(1.46*(1-r_t))/(f-448)**2\\\n",
    "          + (844.6*n_1*np.exp(0.17*(1-r_t))/(f-557)**2)*g(f,557)\n",
    "          + (290*n_1*np.exp(0.41*(1-r_t))/(f-752)**2)*g(f,752)\n",
    "          + (8.3328e4*n_2*np.exp(0.99*(1-r_t))/(f-1780.)**2)*g(f,1780)\n",
    "          ) * f**2*r_t**2.5*rho*1e-4\n",
    "    \n",
    "    # eq 25\n",
    "    t_1 = 4.64/(1+0.066*r_p**-2.3) * np.exp(-((f-59.7)/(2.87+12.4*np.exp(-7.9*r_p)))**2)\n",
    "    t_2 = 0.14*np.exp(2.12*r_p) / ((f-118.75)**2+0.031*np.exp(2.2*r_p))\n",
    "    t_3 = 0.0114/(1+0.14*r_p**-2.6) * f * (-0.0247+0.0001*f+1.61e-6*f**2) / (1-0.0169*f+4.1e-5*f**2+3.2e-7*f**3)\n",
    "    ho = 6.1/(1+0.17*r_p**-1.1)*(1+t_1+t_2+t_3)\n",
    "    #print yo,yw, \"dB/km dry and wet\"\n",
    "    #print ho ,\"Dry scale height\"\n",
    "    # eq 26\n",
    "    sigma_w = 1.013/(1+np.exp(-8.6*(r_p-0.57)))\n",
    "    hw = 1.66*( 1 + 1.39*sigma_w/((f-22.235)**2+2.56*sigma_w)\\\n",
    "               + 3.37*sigma_w/((f-183.31)**2+4.69*sigma_w) + 1.58*sigma_w/((f-325.1)**2+2.89*sigma_w) )\n",
    "    #print hw, \"Wet scale height\"\n",
    "    # Attenuation from dry & wet atmosphere relative to a point outside of the atmosphere\n",
    "    #A = yo*ho*np.exp(-h/ho) + yw*hw*np.exp(-h/hw) # [dB] from equations 27, 30 & 31\n",
    "    A= yo*ho +yw*hw # Equation 27\n",
    "    # See also \n",
    "    #print A, \"dB\\n\", 10**(-0.1*A), \"Attenuation factor\"\n",
    "    return 0.1*A/np.log10(np.e)  # Convert dB to Nepers\n",
    "\n"
   ]
  },
  {
   "cell_type": "code",
   "execution_count": 48,
   "metadata": {
    "collapsed": false
   },
   "outputs": [
    {
     "name": "stdout",
     "output_type": "stream",
     "text": [
      "air_temperature 10.8464427191\n",
      "air_pressure 899.257278231\n",
      "air_relative_humidity 0.641648885643\n",
      "Height 1.03811873316\n",
      "Freq 12.5 GHz\n",
      "water vapour pressure 12.9924562579 mbar ; density 10.6895478954 g/m**3\n",
      "0.0147684182741\n",
      "Attenuation  0.985340099944 or  1.46599000559 percent\n",
      "Noise from sky about 4.03147251537 K\n"
     ]
    }
   ],
   "source": [
    "import katdal\n",
    "import numpy as np\n",
    "filename = '/var/kat/archive/data/RTS/telescope_products/2015/07/18/1437231715.h5'\n",
    "h5 = katdal.open(filename,centre_freq=12500.0e6)\n",
    "temp=h5.sensor['Enviro/air_temperature'].mean()  #Degrees C\n",
    "press=h5.sensor['Enviro/air_pressure'].mean()    # millibar\n",
    "humid=h5.sensor['Enviro/air_relative_humidity'].mean()/100.  #relative humidity in range 0-1\n",
    "\n",
    "print \"air_temperature\", temp\n",
    "print \"air_pressure\",press\n",
    "print \"air_relative_humidity\",humid\n",
    "height=h5.ants[0].position_wgs84[2]/1000. # height in km\n",
    "freq=h5.channel_freqs[1:].mean()/1e9      # freq in GHz\n",
    "print \"Height\", height\n",
    "print \"Freq\", freq, \"GHz\"\n",
    "tau = calc_atmospheric_opacity(temp,humid,press,height,freq)\n",
    "print tau\n",
    "print \"Attenuation \", np.exp(-tau), \"or \", (1- np.exp(-tau))*100,\"percent\"\n",
    "print \"Noise from sky about\", 275*(1-np.exp(-tau)),\"K\"  # not ground temperature, we need about 3km up"
   ]
  },
  {
   "cell_type": "code",
   "execution_count": 49,
   "metadata": {
    "collapsed": false
   },
   "outputs": [
    {
     "name": "stdout",
     "output_type": "stream",
     "text": [
      "0.0147684182741\n"
     ]
    }
   ],
   "source": [
    "print tau"
   ]
  },
  {
   "cell_type": "markdown",
   "metadata": {},
   "source": [
    "#Compare with GBT \n",
    "note on dynamic scheduling DS Project Note 5.2\n",
    "J. J. Condon & Dana S. Balser\n",
    "GBT Archive: DS005.2\n",
    "\n",
    "* Fig 1 Zeith opacity below 50GHz. \n",
    "$\\tau$ values at 12GHz about 0.02neper for T=288K (15C) 55% cloud cover \n",
    "* see also http://www.gb.nrao.edu/~rmaddale/Weather/opacity.html#OpacityTime12"
   ]
  },
  {
   "cell_type": "code",
   "execution_count": 50,
   "metadata": {
    "collapsed": false
   },
   "outputs": [
    {
     "name": "stdout",
     "output_type": "stream",
     "text": [
      "water vapour pressure 12.2786016958 mbar ; density 9.94788239801 g/m**3\n",
      "0.0143114479005\n",
      "0.985790474074\n"
     ]
    }
   ],
   "source": [
    "x=calc_atmospheric_opacity(10.,0.63,899.,1.038,12.5)\n",
    "print x\n",
    "print np.exp(-x)"
   ]
  },
  {
   "cell_type": "code",
   "execution_count": 51,
   "metadata": {
    "collapsed": false
   },
   "outputs": [
    {
     "name": "stdout",
     "output_type": "stream",
     "text": [
      "water vapour pressure 50.3332868346 mbar ; density 14.9664494682 g/m**3\n",
      "0.00507980195529\n",
      "0.99493307842\n"
     ]
    }
   ],
   "source": [
    "x=calc_atmospheric_opacity(33.,0.25,890.,1.038,1.5)\n",
    "print x\n",
    "print np.exp(-x)"
   ]
  },
  {
   "cell_type": "code",
   "execution_count": 52,
   "metadata": {
    "collapsed": true
   },
   "outputs": [],
   "source": [
    "def watervap(T,humid):\n",
    "    \"\"\"\n",
    "    calculates water vapour pressure in hectopascal  given a temperature and humidity\n",
    "    T in Celsius\n",
    "    humid is fractional humidity \n",
    "    \n",
    "    check at 100C and 1.0 expect 1013mbar\n",
    "    \"\"\"\n",
    "    w=6.1121*np.exp((18.678-T/234.5)*T/(257.14+T))\n",
    "    return w*humid"
   ]
  },
  {
   "cell_type": "code",
   "execution_count": 53,
   "metadata": {
    "collapsed": false
   },
   "outputs": [],
   "source": [
    "def vaisala(T,humid):\n",
    "    \"\"\"\n",
    "    calculates water vapour pressure in hectopascal a temperature and humidity\n",
    "    T in Celsius\n",
    "    humid is fractional humidity \n",
    "    valid from -20 to +50C\n",
    "    check at 100C and 1.0 expect 1013mbar\n",
    "    \"\"\"\n",
    "    A=6.116441 \n",
    "    m=7.591386 \n",
    "    Tn=240.7263 \n",
    "    p=A*10**((m*T)/(T+Tn))\n",
    "    return p*humid\n",
    "    \n",
    "    "
   ]
  },
  {
   "cell_type": "code",
   "execution_count": 54,
   "metadata": {
    "collapsed": false
   },
   "outputs": [
    {
     "name": "stdout",
     "output_type": "stream",
     "text": [
      "1013.07780897\n",
      "14.0089148636 14.0035185265\n"
     ]
    }
   ],
   "source": [
    "print watervap(100,1.0)\n",
    "print watervap(30,0.33), vaisala(30,0.33)"
   ]
  },
  {
   "cell_type": "code",
   "execution_count": 55,
   "metadata": {
    "collapsed": false
   },
   "outputs": [],
   "source": [
    "def h0(r_p,f):\n",
    "    \"\"\"\n",
    "    equivalent height for dry air for earth-space at zenith\n",
    "    r_p  is fractional pressure (P/1013)\n",
    "    f is in GHz\n",
    "    Equation 25a-e\n",
    "    valid if f<70\n",
    "    and h0 <0.7*r_p**0.3  - which is true up tp high altitude\n",
    "    \"\"\"\n",
    "    t_1= 4.64*np.exp( -((f-59.7)/(2.87+12.4*np.exp(-7.9*r_p)))**2)\n",
    "    t_2= 0.14*np.exp(2.12*r_p)/((f-118.75)**2+0.031*np.exp(2.2*r_p))\n",
    "    t_3=(-0.0247 + 0.0001*f + 1.61e-6*f**2)/(1-0.0169*f + 4.1e-5*f**2 + 3.2e-7*f**3)\n",
    "    t_3=0.0114*f*t_3/(1+0.14*r_p)\n",
    "    h=6.1*(1+t_1+ t_2+ t_3)/(1+0.17*r_p**(-1.1)) # usually about 5-6\n",
    "    return h\n"
   ]
  },
  {
   "cell_type": "code",
   "execution_count": 56,
   "metadata": {
    "collapsed": true
   },
   "outputs": [],
   "source": [
    "def hw(r_p,f):\n",
    "    \"\"\"\n",
    "    equivalent height for wet air for earth-space at zenith\n",
    "    r_p  is fractional pressure (P/1013)\n",
    "    f is in GHz\n",
    "    Equation 26a-b\n",
    "    valid if f<350GHz\n",
    "    \"\"\"\n",
    "    s=1.013/(1+np.exp(-8.6*(r_p- 0.57)))\n",
    "    t1=1.39*s/((f-22.235)**2 +2.56*s)\n",
    "    t2=3.37*s/((f-183.31)**2 +4.69*s)\n",
    "    t3=1.58*s/((f-325.1)**2  +2.89*s)\n",
    "    h=1.66*(1+t1+t2+t3)  # first term dominates -answer always near 1.6\n",
    "    return h\n"
   ]
  },
  {
   "cell_type": "code",
   "execution_count": 57,
   "metadata": {
    "collapsed": false
   },
   "outputs": [
    {
     "name": "stdout",
     "output_type": "stream",
     "text": [
      "1.68949193935 5.2126777634\n"
     ]
    }
   ],
   "source": [
    "print hw(.8,14.) , h0(1.,1.1)"
   ]
  },
  {
   "cell_type": "code",
   "execution_count": 58,
   "metadata": {
    "collapsed": true
   },
   "outputs": [],
   "source": [
    "def hs(f):\n",
    "    \"\"\"\n",
    "    Simpler version from www2.widener.edu/~rpj0001/courses/ENGR647/ClassNotes/LECT11.pdf\n",
    "    OK for 1<f<56.7\n",
    "    \"\"\"\n",
    "    h=5.386-3.332734e-2*f + 1.87185e-3*f**2 - 3.52087e-5*f**3 + 83.26/((f-60)**2+1.2)\n",
    "    return h"
   ]
  },
  {
   "cell_type": "code",
   "execution_count": 59,
   "metadata": {
    "collapsed": false
   },
   "outputs": [
    {
     "name": "stdout",
     "output_type": "stream",
     "text": [
      "5.36715152742 5.22901269148\n"
     ]
    }
   ],
   "source": [
    "print hs(1.4), hs(14)"
   ]
  },
  {
   "cell_type": "code",
   "execution_count": 60,
   "metadata": {
    "collapsed": true
   },
   "outputs": [],
   "source": [
    "def hw2(f):\n",
    "    \"\"\"\n",
    "    Simpler version from www2.widener.edu/~rpj0001/courses/ENGR647/ClassNotes/LECT11.pdf\n",
    "    OK for 1< 350\n",
    "    \"\"\"\n",
    "    h=1.65*(1 + 1.61/((f-22.3)**2+2.91) + 3.33/((f-183.3)**2 +4.58) + 1.90/((f-325.1)**2 +3.24) )\n",
    "    return h\n"
   ]
  },
  {
   "cell_type": "code",
   "execution_count": 61,
   "metadata": {
    "collapsed": false
   },
   "outputs": [
    {
     "name": "stdout",
     "output_type": "stream",
     "text": [
      "1.67706728789 1.68365768746\n",
      "5.23000014329 5.19521537781\n"
     ]
    }
   ],
   "source": [
    "print hw2(12.5), hw(1.0,12.5)\n",
    "print hs(12.5), h0(1.0,12.5)"
   ]
  },
  {
   "cell_type": "markdown",
   "metadata": {
    "collapsed": true
   },
   "source": [
    "#Cloud model\n",
    "http://www2.widener.edu/~rpj0001/courses/ENGR647/ClassNotes/LECT11.pdf \n",
    "\n",
    "## Cloud densities from wikipedia\n",
    "in g/m**3\n",
    "* cirrus 0.03\n",
    "* fog 0.05\n",
    "* stratus or cumulus 0.25-0.30\n",
    "* stratocumulus 0.45\n",
    "* cumulonimbus 1-3\n",
    "## thickness\n",
    " stratocumulus water path 20-80 g/m**2 giving thickness about 0.1 -0.4 km\n"
   ]
  },
  {
   "cell_type": "code",
   "execution_count": 69,
   "metadata": {
    "collapsed": true
   },
   "outputs": [],
   "source": [
    "# need to know cloud thickness \n",
    "\n",
    "def cloudab(f,T,l,m):\n",
    "    \"\"\"\n",
    "    f in GHz\n",
    "    T in celsius\n",
    "    l in km\n",
    "    m is water density in the cloud g/m**3\n",
    "    returns attenuation in dB\n",
    "    \"\"\"\n",
    "    theta =300/(273+T)\n",
    "    # dielctric constants\n",
    "    e0=77.6 + 103.3*(theta-1)\n",
    "    e1=5.48\n",
    "    e2=3.51\n",
    "    #\n",
    "    #Frequencies\n",
    "    fp= 20.09 - 142*(theta-1) + 294*(theta-1)**2\n",
    "    fs= 590- 1500*(theta-1)\n",
    "    # Complex permittivity\n",
    "    e_2= f*(e0-e1)/(fp*(1+(f/fp)**2)) + f*(e1-e2)/(fs*(1+(f/fs)**2))\n",
    "    e_1 = (e0-e1)/(fp*(1+(f/fp)**2)) + (e1-e2)/(fs*(1+(f/fs)**2)) +e2  \n",
    "    #\n",
    "    eta=(2+e_1)/e_2\n",
    "    k=0.819*f/(e_2*(1+eta**2))\n",
    "    attenuation=k*m*l #dB\n",
    "    return attenuation "
   ]
  },
  {
   "cell_type": "code",
   "execution_count": 72,
   "metadata": {
    "collapsed": false
   },
   "outputs": [
    {
     "name": "stdout",
     "output_type": "stream",
     "text": [
      "0.0297451065 0.9931743375\n"
     ]
    }
   ],
   "source": [
    "x= cloudab(12.5, 20, 0.4, 0.25)\n",
    "factor= 10**(-0.1*x)\n",
    "print x, factor"
   ]
  },
  {
   "cell_type": "markdown",
   "metadata": {},
   "source": [
    "#Rain\n",
    "see \n",
    "https://www.itu.int/dms_pubrec/itu-r/rec/p/R-REC-P.838-3-200503-I!!PDF-E.pdf"
   ]
  },
  {
   "cell_type": "code",
   "execution_count": 65,
   "metadata": {
    "collapsed": false
   },
   "outputs": [
    {
     "data": {
      "text/plain": [
       "80.0"
      ]
     },
     "execution_count": 65,
     "metadata": {},
     "output_type": "execute_result"
    }
   ],
   "source": [
    "\n",
    "\n"
   ]
  },
  {
   "cell_type": "code",
   "execution_count": null,
   "metadata": {
    "collapsed": true
   },
   "outputs": [],
   "source": []
  }
 ],
 "metadata": {
  "kernelspec": {
   "display_name": "Python 2",
   "language": "python",
   "name": "python2"
  },
  "language_info": {
   "codemirror_mode": {
    "name": "ipython",
    "version": 2
   },
   "file_extension": ".py",
   "mimetype": "text/x-python",
   "name": "python",
   "nbconvert_exporter": "python",
   "pygments_lexer": "ipython2",
   "version": "2.7.3"
  }
 },
 "nbformat": 4,
 "nbformat_minor": 0
}
