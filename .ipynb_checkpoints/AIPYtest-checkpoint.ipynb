{
 "cells": [
  {
   "cell_type": "code",
   "execution_count": 1,
   "metadata": {},
   "outputs": [],
   "source": [
    "#%loadpy /home/tony/Desktop/Aipy/KAT.py"
   ]
  },
  {
   "cell_type": "code",
   "execution_count": 2,
   "metadata": {},
   "outputs": [],
   "source": [
    "import aipy as a\n",
    "\n",
    "def get_aa(freqs):\n",
    "    # Define the location of your instrument\n",
    "    lat, lon = '-30.721', '21.410'\n",
    "    # Create a model of the primary beam.  BeamFlat is a minimal model \n",
    "    # that has unity gain in all directions.  \n",
    "    #beam = a.fit.Beam(freqs)\n",
    "    beam=a.fit.Beam2DGaussian(freqs,xwidth=0.0227,ywidth=0.0227)\n",
    "    # Make a list of antennas with requisite nanosecond locations, \n",
    "    # primary beams, and any other calibration parameters you wish to provide.\n",
    "    ants = [\n",
    "        a.fit.Antenna(  83.71, -30.33,  0.15, beam),\n",
    "        a.fit.Antenna( 301.14,  87.99, -0.75, beam),\n",
    "        a.fit.Antenna(  13.29,  87.99,  0.00, beam),\n",
    "        a.fit.Antenna( -72.06,  85.03,  0.06, beam),\n",
    "        a.fit.Antenna(-127.66,  -8.64,  1.30, beam),\n",
    "        a.fit.Antenna(-205.43,-265.84,  2.34, beam),\n",
    "        a.fit.Antenna(-293.49, 252.68,  0.46, beam),\n",
    "    ]\n",
    "    # Create an AntennaArray at the specified location with the listed antennas\n",
    "    aa = a.fit.AntennaArray((lat,lon), ants)\n",
    "    return aa\n",
    "\n",
    "def get_catalog(srcs=None, cutoff=None, catalogs=[]):\n",
    "    # Pass off the request for sources to the AIPY source catalog.  If desired, \n",
    "    # you can substitute your own sources or source calibrations.\n",
    "    return a.src.get_catalog(srcs=srcs, cutoff=cutoff, catalogs=catalogs)\n"
   ]
  },
  {
   "cell_type": "code",
   "execution_count": 3,
   "metadata": {},
   "outputs": [],
   "source": [
    "import numpy as np"
   ]
  },
  {
   "cell_type": "code",
   "execution_count": 4,
   "metadata": {},
   "outputs": [],
   "source": [
    "#%loadpy /home/tony/Desktop/Aipy/lst.py"
   ]
  },
  {
   "cell_type": "code",
   "execution_count": 5,
   "metadata": {},
   "outputs": [
    {
     "name": "stdout",
     "output_type": "stream",
     "text": [
      "<ephem.Observer date='2020/6/9 14:14:35' epoch='2000/1/1 12:00:00' lon='21:24:36.0' lat='-30:43:15.6' elevation=0.0m horizon=0:00:00.0 temp=15.0C pressure=0.0mBar>\n",
      "LST: 8:53:50.82\n",
      "LST radians: 2.329347112094451\n",
      "     Julian Date: 2459010.0934606483\n",
      "     Day: 2020/6/9 14:14:35\n",
      "Sun is at (RA, DEC): ('5:12:59.35', '22:59:54.2')\n",
      "Moon is at (RA, DEC): ('20:42:17.89', '-20:52:39.8')\n"
     ]
    }
   ],
   "source": [
    "#!/usr/bin/env python\n",
    "\"\"\"\n",
    "Output LST, Julian date, and Sun position at the provided location\n",
    "\"\"\"\n",
    "\n",
    "import aipy as a, sys, optparse, ephem\n",
    "\"\"\"\n",
    "o = optparse.OptionParser()\n",
    "o.set_usage('lst [options] jd1 jd2 ...')\n",
    "o.set_description(__doc__)\n",
    "a.scripting.add_standard_options(o, cal=True, src=True)\n",
    "\n",
    "\n",
    "opts, args = o.parse_args(sys.argv[1:])\n",
    "\n",
    "if not opts.src is None:\n",
    "    srclist,cutoff,catalogs = a.scripting.parse_srcs(opts.src, opts.cat)\n",
    "else: srclist,cutoff,catalogs = [], None, []\n",
    "cat = a.cal.get_catalog(opts.cal, srclist, cutoff, catalogs)\n",
    "aa = a.cal.get_aa(opts.cal, .1, .1, 1)\n",
    "sun = ephem.Sun()\n",
    "moon = ephem.Moon()\n",
    "if len(args) == 0: args = [a.phs.ephem2juldate(ephem.now())]\n",
    "\"\"\"\n",
    "catalogs='/home/tony/Desktop/SouthAfrica/SourceLists/sources_pnt.csv'\n",
    "args = [a.phs.ephem2juldate(ephem.now())]\n",
    "aa = get_aa(np.array([856.0,1712.0]))\n",
    "print (aa)\n",
    "sun = ephem.Sun()\n",
    "moon = ephem.Moon()\n",
    "#cat = a.cal.get_catalog(opts.cal, srclist, cutoff, catalogs)\n",
    "\n",
    "for jd in map(float, args):\n",
    "    aa.set_jultime(jd)\n",
    "    sun.compute(aa)\n",
    "    moon.compute(aa)\n",
    "    print ('LST:', aa.sidereal_time(),)\n",
    "    print ('LST radians:', float( aa.sidereal_time()),)\n",
    "    print ('     Julian Date:', jd,)\n",
    "    print ('     Day:', aa.date)\n",
    "    print ('Sun is at (RA, DEC):', str((str(sun.ra), str(sun.dec))))\n",
    "    print ('Moon is at (RA, DEC):', str((str(moon.ra), str(moon.dec))))\n",
    "    \"\"\"\n",
    "    cat.compute(aa)\n",
    "    for src in cat:\n",
    "        print (src, '\\tALT=%11s' % cat[src].alt,)\n",
    "        print ('\\tNEXT TRANSIT=%9.5f' % a.phs.ephem2juldate(aa.next_transit(cat[src])))\n",
    "    print ('-' * 70)\n",
    "    \"\"\"\n"
   ]
  },
  {
   "cell_type": "code",
   "execution_count": 16,
   "metadata": {},
   "outputs": [
    {
     "data": {
      "text/plain": [
       "array([[[ -80181.52      , -160363.04      ]],\n",
       "\n",
       "       [[ -23401.09010561,  -46802.18021121]],\n",
       "\n",
       "       [[ -41456.80158554,  -82913.60317108]]])"
      ]
     },
     "execution_count": 16,
     "metadata": {},
     "output_type": "execute_result"
    }
   ],
   "source": [
    "aa.gen_uvw(3,4,'z')"
   ]
  },
  {
   "cell_type": "code",
   "execution_count": 13,
   "metadata": {},
   "outputs": [],
   "source": []
  }
 ],
 "metadata": {
  "kernelspec": {
   "display_name": "Python 3",
   "language": "python",
   "name": "python3"
  },
  "language_info": {
   "codemirror_mode": {
    "name": "ipython",
    "version": 3
   },
   "file_extension": ".py",
   "mimetype": "text/x-python",
   "name": "python",
   "nbconvert_exporter": "python",
   "pygments_lexer": "ipython3",
   "version": "3.6.9"
  }
 },
 "nbformat": 4,
 "nbformat_minor": 1
}
