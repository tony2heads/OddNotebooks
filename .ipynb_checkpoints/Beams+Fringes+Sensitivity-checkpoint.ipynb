{
 "cells": [
  {
   "cell_type": "code",
   "execution_count": 45,
   "metadata": {},
   "outputs": [],
   "source": [
    "# %load Oddments.py\n",
    "\n"
   ]
  },
  {
   "cell_type": "code",
   "execution_count": 46,
   "metadata": {},
   "outputs": [],
   "source": [
    "\"\"\"\n",
    "Odd formulae\n",
    "To do with sensitivity, beam etc,\n",
    "\"\"\"\n",
    "import math as m\n",
    "\n",
    "lat=-30.7 #degrees south\n",
    "\n",
    "slat=m.sin(m.radians(lat))\n",
    "clat=m.cos(m.radians(lat))\n",
    "#\n",
    "\n",
    "dec=-50.\n",
    "ha=-33.\n",
    "\n",
    "sdec=m.sin(m.radians(dec))\n",
    "cdec=m.cos(m.radians(dec))\n",
    "cha=m.cos(m.radians(ha))\n",
    "sha=m.sin(m.radians(ha))\n",
    "#print clat,slat,sdec,cdec,cha,sha"
   ]
  },
  {
   "cell_type": "code",
   "execution_count": 47,
   "metadata": {},
   "outputs": [
    {
     "name": "stdout",
     "output_type": "stream",
     "text": [
      "Azimuth 141.369 Elev 58.719 Parallactic angle -64.413\n",
      "Azimuth 141.369 Elevation 58.719 Parallactic angle -64.413\n"
     ]
    }
   ],
   "source": [
    "\n",
    "parallac=m.atan2(sha*clat,(cdec*slat-sdec*clat*cha))\n",
    "x=sdec*slat+cdec*cha*clat\n",
    "elev=m.asin(x)\n",
    "az=cdec*sha/m.sqrt(1-x*x)\n",
    "#az=(elev-sdec*slat)/(cdec*clat)\n",
    "az=az+m.pi\n",
    "print (\"Azimuth %6.3f Elev %6.3f Parallactic angle %6.3f\" %(m.degrees(az), m.degrees(elev), m.degrees(parallac)))\n",
    "print (\"Azimuth {0:6.3f} Elevation {1:6.3f} Parallactic angle {2:6.3f}\".format(m.degrees(az),m.degrees(elev),m.degrees(parallac)))\n",
    "\n"
   ]
  },
  {
   "cell_type": "code",
   "execution_count": 48,
   "metadata": {},
   "outputs": [
    {
     "name": "stdout",
     "output_type": "stream",
     "text": [
      "Minimum elevation reached at HA   95.1\n",
      "Total time up   12.7hr\n"
     ]
    }
   ],
   "source": [
    "min=20. #minimum elevation\n",
    "\n",
    "smin=m.sin(m.radians(min))\n",
    "y=(smin-sdec*slat)/(cdec*clat)\n",
    "#print y\n",
    "if y <1.0 and y > -1.0:\n",
    "    amin=m.acos(y)\n",
    "    print (\"Minimum elevation reached at HA {0:6.1f}\".format(m.degrees(amin)))\n",
    "    print (\"Total time up {0:6.1f}hr\".format((m.degrees(amin))*2/15))\n",
    "else:\n",
    "    print(\"Circumpolar\")\n",
    "\n"
   ]
  },
  {
   "cell_type": "markdown",
   "metadata": {},
   "source": [
    "# If field size is $\\theta$ basline B wavelength $\\lambda$  then the maximum difference in fringe rate (Hz) and there are DAY seconds per day\n",
    "\n",
    "$df = \\frac{B}{\\lambda} \\theta \\frac{2\\pi}{DAY}$\n"
   ]
  },
  {
   "cell_type": "code",
   "execution_count": 49,
   "metadata": {},
   "outputs": [],
   "source": [
    "\n",
    "\"\"\"\n",
    "Bandwidth,integration, baselines, freq\n",
    "delay beams, fringe beams\n",
    "\n",
    "\"\"\"\n",
    "# a few constants\n",
    "ar= 3600*m.degrees(1) #arcseconds per radian - about 206265\n",
    "day=23.9344696*3600 # sideral day in sec\n",
    "c=299792.458 #km/s\n",
    "#print ar,day,c\n",
    "\n"
   ]
  },
  {
   "cell_type": "code",
   "execution_count": 61,
   "metadata": {},
   "outputs": [],
   "source": [
    "# Array setup\n",
    "bw=544./1024 #MHz # for UHF band\n",
    "t=8. #sec\n",
    "#d=7.6 #km\n",
    "f=0.8 #GHz\n",
    "diam=13.5 #m"
   ]
  },
  {
   "cell_type": "code",
   "execution_count": 65,
   "metadata": {},
   "outputs": [
    {
     "name": "stdout",
     "output_type": "stream",
     "text": [
      "Wavelength  37.47cm  \t resolution  20.63arcsec\n",
      "1kl is  3.747km\n",
      "delaybeam   31061.1 arccec\n",
      " or 8.628deg\n",
      "primary beam  0.028 radians\n",
      "primary beam  1.590 degrees\n"
     ]
    }
   ],
   "source": [
    "#Start calculations\n",
    "\n",
    "lam=0.0001*c/f #wavelength/cm\n",
    "\n",
    "d=lam/10 # 1kilolambda\n",
    "\n",
    "res=lam*0.00001*ar/d  #arcsec\n",
    "print (\"Wavelength {0:6.2f}cm  \\t resolution {1:6.2f}arcsec\".format(lam,res))\n",
    "print(\"1kl is {0:6.3f}km\".format(d))\n",
    "\n",
    "\n",
    "delaybeam=c*ar*0.000001/(d*bw)  #arcseconds\n",
    "print(\"delaybeam {0:9.1f} arccec\".format(delaybeam))\n",
    "dd=delaybeam/3600.\n",
    "print(\" or {dd:5.3f}deg\".format(dd=dd))\n",
    "\n",
    "#primary Beam\n",
    "primary=lam/(diam*100) #radians\n",
    "print(\"primary beam %6.3f radians\" %(primary))\n",
    "pd=primary*180/3.1415962\n",
    "print(\"primary beam %6.3f degrees\" %(pd))"
   ]
  },
  {
   "cell_type": "markdown",
   "metadata": {},
   "source": [
    "# or the other way about\n",
    "\n",
    "$df= \\frac{(d . \\theta . 2 . m.\\pi .10^5)}{\\lambda . ar . day } = \\frac{0.25}{tmax}$"
   ]
  },
  {
   "cell_type": "code",
   "execution_count": 52,
   "metadata": {},
   "outputs": [
    {
     "name": "stdout",
     "output_type": "stream",
     "text": [
      "Peak difference in fringe rate 0.025 Hz\n",
      "Maximum integration time   9.8s\n",
      "field size for no smearing at integration time  8.0s is   2.46deg\n"
     ]
    }
   ],
   "source": [
    "\n",
    "theta=2*3600 #arcseonds\n",
    "df=d*theta*2*m.pi*1e5/(lam*ar*day)\n",
    "print (\"Peak difference in fringe rate {0:5.3f} Hz\".format(df))\n",
    "#maximum integration time = quarter period\n",
    "tmax=0.25/df\n",
    "print (\"Maximum integration time {0:5.1f}s\".format(tmax))\n",
    "\"\"\"\n",
    "or the other way about\n",
    "\n",
    "df=d*theta*2*m.pi*1e5/(lam*ar*day) = 0.25/tmax\n",
    "\"\"\"\n",
    "\n",
    "size= 0.25 *lam*ar*day/(d*2*m.pi*1e5*t)\n",
    "print (\"field size for no smearing at integration time {0:4.1f}s is {1:6.2f}deg\".format(t,size/3600))\n",
    "\n"
   ]
  },
  {
   "cell_type": "code",
   "execution_count": 53,
   "metadata": {},
   "outputs": [
    {
     "name": "stdout",
     "output_type": "stream",
     "text": [
      "Delay beam estimates 31061.05 31061.74 arcsec\n",
      "3655.948501389461 Arcsec\n",
      "Delay beam   8.63deg  and W significant at   1.02deg \n"
     ]
    }
   ],
   "source": [
    "\n",
    "\n",
    "delaybm2=61838/(d*bw)\n",
    "print (\"Delay beam estimates {0:6.2f} {1:6.2f} arcsec\".format( delaybeam, delaybm2))\n",
    "\n",
    "\n",
    "# In[22]:\n",
    "\n",
    "\n",
    "wbig= m.sqrt(res/(ar)*m.pi)*ar\n",
    "print (wbig, \"Arcsec\")\n",
    "\n",
    "\n",
    "# In[23]:\n",
    "\n",
    "\n",
    "print(\"Delay beam {0:6.2f}deg  and W significant at {1:6.2f}deg \".format(delaybeam/3600,wbig/3600))\n"
   ]
  },
  {
   "cell_type": "code",
   "execution_count": 54,
   "metadata": {},
   "outputs": [
    {
     "name": "stdout",
     "output_type": "stream",
     "text": [
      "Max averaging time  9.847s For 1/4 period of fringe beating\n"
     ]
    }
   ],
   "source": [
    "\n",
    "\"\"\"\n",
    "Field size, averaging period\n",
    "\"\"\"\n",
    "field=2*3600            #2 degree\n",
    "period= 7090*lam/(d*field)\n",
    "print(\"Max averaging time {0:6.3f}s For 1/4 period of fringe beating\".format(period))\n",
    "\n"
   ]
  },
  {
   "cell_type": "code",
   "execution_count": 55,
   "metadata": {},
   "outputs": [
    {
     "name": "stdout",
     "output_type": "stream",
     "text": [
      "Gain 0.0459K/Jy \t SEFD  435.5Jy\t Ae/Tsys   6.44K/m^2\n",
      "Sensitivity 232.36mJy\n",
      "Gain =   2.94K/Jy  \tSEFD =   6.80 \t  Ae/Tsys  412.24 \t Sensitivity per integration 5.1751mJy \n"
     ]
    }
   ],
   "source": [
    "\n",
    "\"\"\"\n",
    "Telescope diam, Tsys,Efficiency\n",
    "\n",
    "\"\"\"\n",
    "diam=13.5  #m\n",
    "eff=0.9    #fractional efficiency\n",
    "Tsys=20       #K\n",
    "gain=diam*diam*0.00028*eff #K/Jy - uses various things like boltzmann constant, speed of light\n",
    "sefd=Tsys/gain #Jy\n",
    "ae_tsys = m.pi*diam*diam*eff/(4*Tsys)\n",
    "print (\"Gain {0:6.4f}K/Jy \\t SEFD {1:6.1f}Jy\\t Ae/Tsys {2:6.2f}K/m^2\".       format(gain,sefd,ae_tsys))   # for a single dish\n",
    "\n",
    "\n",
    "# In[30]:\n",
    "\n",
    "\n",
    "\"\"\"\n",
    "sensitivity per baseline, per integration, per bandwidth\n",
    "\"\"\"\n",
    "mjy=1.1*sefd/(m.sqrt(bw*t)) # in one integration per bandwidth\n",
    "print(\"Sensitivity {0:6.2f}mJy\".format(mjy))\n",
    "\n",
    "\n",
    "# In[31]:\n",
    "\n",
    "\n",
    "\"\"\"\n",
    "array values\n",
    "\"\"\"\n",
    "nants=64\n",
    "\n",
    "print(\"Gain = {0:6.2f}K/Jy  \\tSEFD = {1:6.2f} \\t  Ae/Tsys  {2:6.2f} \\t Sensitivity per integration {3:6.4f}mJy \".format(gain*nants,sefd/nants, ae_tsys*nants, mjy/m.sqrt(nants*(nants-1)/2)))\n",
    "\n"
   ]
  }
 ],
 "metadata": {
  "kernelspec": {
   "display_name": "Python 3",
   "language": "python",
   "name": "python3"
  },
  "language_info": {
   "codemirror_mode": {
    "name": "ipython",
    "version": 3
   },
   "file_extension": ".py",
   "mimetype": "text/x-python",
   "name": "python",
   "nbconvert_exporter": "python",
   "pygments_lexer": "ipython3",
   "version": "3.6.9"
  }
 },
 "nbformat": 4,
 "nbformat_minor": 2
}
