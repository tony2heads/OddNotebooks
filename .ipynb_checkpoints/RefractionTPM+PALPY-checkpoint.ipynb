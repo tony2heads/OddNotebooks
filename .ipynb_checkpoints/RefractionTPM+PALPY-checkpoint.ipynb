{
 "cells": [
  {
   "cell_type": "code",
   "execution_count": 59,
   "metadata": {},
   "outputs": [
    {
     "name": "stdout",
     "output_type": "stream",
     "text": [
      "Populating the interactive namespace from numpy and matplotlib\n"
     ]
    }
   ],
   "source": [
    "import pytpm as t\n",
    "import numpy as np\n",
    "%pylab inline"
   ]
  },
  {
   "cell_type": "code",
   "execution_count": 60,
   "metadata": {
    "collapsed": true
   },
   "outputs": [],
   "source": [
    "ZA=75. # Zenith angle in degrees \n",
    "zx=np.deg2rad(ZA)\n",
    "press=900\n",
    "lat=np.deg2rad(-30.72)\n",
    "alt=1054 #m\n",
    "T=300 #K\n",
    "rh=0.3 # relative humidity\n",
    "wavelength=207.5 # micron, but 207.5 seems to work for radio (consistent values with slalib which stops at 100)"
   ]
  },
  {
   "cell_type": "code",
   "execution_count": 61,
   "metadata": {
    "collapsed": true
   },
   "outputs": [],
   "source": [
    "a,b=t.tpm.refco(lat,alt,T,rh,wavelength,eps=1e-6)"
   ]
  },
  {
   "cell_type": "code",
   "execution_count": 62,
   "metadata": {},
   "outputs": [
    {
     "name": "stdout",
     "output_type": "stream",
     "text": [
      "-0.000274674853152 -1.1250167739e-07\n"
     ]
    }
   ],
   "source": [
    "print a,b"
   ]
  },
  {
   "cell_type": "markdown",
   "metadata": {
    "collapsed": true
   },
   "source": [
    "# slalib gives a=+0.000278155266262, b= -2.86111431379e-07\n"
   ]
  },
  {
   "cell_type": "code",
   "execution_count": 63,
   "metadata": {},
   "outputs": [
    {
     "name": "stdout",
     "output_type": "stream",
     "text": [
      "213.5424761474917 Shift in arcsec\n"
     ]
    }
   ],
   "source": [
    "dz=t.tpm.refract(zx,a,b,1) #last parma 1=0 -1 =undo\n",
    "print 3600*np.rad2deg(dz) ,\"Shift in arcsec\""
   ]
  },
  {
   "cell_type": "code",
   "execution_count": 64,
   "metadata": {},
   "outputs": [
    {
     "name": "stdout",
     "output_type": "stream",
     "text": [
      "213.02670820488242\n"
     ]
    }
   ],
   "source": [
    "def tpshift(zx,press,T,rh):    \n",
    "    lat=np.deg2rad(-30.72)\n",
    "    alt=1054.\n",
    "    eps=1.0E-6\n",
    "    wavelength=207\n",
    "    a,b=t.tpm.refco(lat,alt,T,rh,wavelength,eps=1e-6)\n",
    "    dz=t.tpm.refract(zx,a,b,1)\n",
    "    shift=3600.*np.rad2deg(dz)\n",
    "    return shift\n",
    "tps=np.vectorize(tpshift)\n",
    "print  tps(zx,press,T,rh) "
   ]
  },
  {
   "cell_type": "markdown",
   "metadata": {},
   "source": [
    "# Palpy"
   ]
  },
  {
   "cell_type": "code",
   "execution_count": 65,
   "metadata": {
    "collapsed": true
   },
   "outputs": [],
   "source": [
    "import palpy as p"
   ]
  },
  {
   "cell_type": "code",
   "execution_count": 66,
   "metadata": {},
   "outputs": [
    {
     "name": "stdout",
     "output_type": "stream",
     "text": [
      "0.000278155454965 -2.8600101016e-07\n"
     ]
    }
   ],
   "source": [
    "press=900 #mbar\n",
    "tlr=0.00654 # lapse rate K/m (expected range 0.0055 to 0.0075)\n",
    "\n",
    "wavelength=101 # like slalib\n",
    "\n",
    "a,b=p.refco(alt,T,press,rh,wavelength,lat,tlr,1e-8)\n",
    "print a,b"
   ]
  },
  {
   "cell_type": "code",
   "execution_count": 67,
   "metadata": {},
   "outputs": [
    {
     "name": "stdout",
     "output_type": "stream",
     "text": [
      "0.000278173122018 -3.02704071075e-07\n"
     ]
    }
   ],
   "source": [
    "aq,bq=p.refcoq(T,press,rh,wavelength) # approximate version\n",
    "print aq,bq"
   ]
  },
  {
   "cell_type": "code",
   "execution_count": 68,
   "metadata": {},
   "outputs": [
    {
     "name": "stdout",
     "output_type": "stream",
     "text": [
      "Shift 210.22264332186913 arcsec\n"
     ]
    }
   ],
   "source": [
    "refra=p.refz(zx,a,b)\n",
    "print \"Shift\",3600*np.rad2deg(zx-refra),\"arcsec\""
   ]
  },
  {
   "cell_type": "code",
   "execution_count": 69,
   "metadata": {},
   "outputs": [
    {
     "name": "stdout",
     "output_type": "stream",
     "text": [
      "approx Shift 210.05991463894043 arcsec\n"
     ]
    }
   ],
   "source": [
    "refra=p.refz(zx,aq,bq)\n",
    "print \"approx Shift\",3600*np.rad2deg(zx-refra),\"arcsec\""
   ]
  },
  {
   "cell_type": "code",
   "execution_count": 70,
   "metadata": {
    "collapsed": true
   },
   "outputs": [],
   "source": [
    "def palpyshift(zx,press,T,rh):\n",
    "    wavelength=101\n",
    "    a,b=p.refcoq(T,press,rh,wavelength) #quick version\n",
    "    refra=p.refz(zx,a,b)\n",
    "    shift=3600.*np.rad2deg(zx-refra)\n",
    "    return shift\n",
    "pps=np.vectorize(palpyshift)    "
   ]
  },
  {
   "cell_type": "code",
   "execution_count": 71,
   "metadata": {},
   "outputs": [
    {
     "name": "stdout",
     "output_type": "stream",
     "text": [
      "210.05991463894043\n"
     ]
    }
   ],
   "source": [
    "print pps(zx,press,T,rh)"
   ]
  },
  {
   "cell_type": "markdown",
   "metadata": {},
   "source": [
    "# Astropy"
   ]
  },
  {
   "cell_type": "code",
   "execution_count": 72,
   "metadata": {
    "collapsed": true
   },
   "outputs": [],
   "source": [
    "import astropy._erfa as erfa\n",
    "\n",
    "#print press,T,rh,wavelength"
   ]
  },
  {
   "cell_type": "code",
   "execution_count": 73,
   "metadata": {},
   "outputs": [
    {
     "name": "stdout",
     "output_type": "stream",
     "text": [
      "0.0002781731220177921 -3.0270407107516097e-07\n"
     ]
    }
   ],
   "source": [
    "a,b=erfa.refco(press,T-273.15,rh,wavelength)\n",
    "print a,b"
   ]
  },
  {
   "cell_type": "code",
   "execution_count": 74,
   "metadata": {},
   "outputs": [
    {
     "name": "stdout",
     "output_type": "stream",
     "text": [
      "Shift 210.88955947390042 arcsec\n"
     ]
    }
   ],
   "source": [
    "dz=a*np.tan(zx)+b*(np.tan(zx))**3\n",
    "#print dz\n",
    "print \"Shift\",3600*np.rad2deg(dz),\"arcsec\""
   ]
  },
  {
   "cell_type": "code",
   "execution_count": 75,
   "metadata": {
    "collapsed": true
   },
   "outputs": [],
   "source": [
    "def apshift(zx,press,T,rh):\n",
    "    wavelength=101.\n",
    "    a,b=erfa.refco(press,T-273.15,rh,wavelength)\n",
    "    dz=a*np.tan(zx)+b*(np.tan(zx))**3\n",
    "    shift=3600.*np.rad2deg(dz)\n",
    "    return(shift)"
   ]
  },
  {
   "cell_type": "code",
   "execution_count": 76,
   "metadata": {},
   "outputs": [
    {
     "name": "stdout",
     "output_type": "stream",
     "text": [
      "210.88955947390042\n"
     ]
    }
   ],
   "source": [
    "print apshift(zx,press,T,rh)"
   ]
  },
  {
   "cell_type": "markdown",
   "metadata": {},
   "source": [
    "# Saastamoinen paper"
   ]
  },
  {
   "cell_type": "code",
   "execution_count": 77,
   "metadata": {
    "collapsed": true
   },
   "outputs": [],
   "source": [
    "def saasta(zx): \n",
    "    \"\"\"\n",
    "    valid from 0 to 80 deg zenith distance\n",
    "    \"\"\"\n",
    "    s=1e-2/(np.sin(zx))**2\n",
    "    dz=np.tan(zx)*( 57.92505 -6.77387*s +2.15586*s**2 -1.9094*s**3\\\n",
    "                   +0.76228*s**4 -0.68493*s**5 +0.75479*s**6 -0.98607*s**7\\\n",
    "                   +1.48977*s**8 -2.55514*s**9) # arcsec\n",
    "    return dz\n",
    "ssz=np.vectorize(saasta) "
   ]
  },
  {
   "cell_type": "code",
   "execution_count": 78,
   "metadata": {},
   "outputs": [
    {
     "name": "stdout",
     "output_type": "stream",
     "text": [
      "3.439788293302339\n"
     ]
    }
   ],
   "source": [
    "print saasta(.09)"
   ]
  },
  {
   "cell_type": "markdown",
   "metadata": {},
   "source": [
    "# Meeus Astromical Algorithms Chap 16\n",
    "\n",
    "* Explanatory Supplement to the Astronomical Almanac, p. 144.(low precision)\n",
    "\n",
    "* Bennett, G. (1982), Journal of Navigation (Royal Institute) 35,  pp. 255-259.\n",
    " **Bennet formula does not work well at sea level or below**\n"
   ]
  },
  {
   "cell_type": "code",
   "execution_count": 79,
   "metadata": {
    "collapsed": true
   },
   "outputs": [],
   "source": [
    "def R(ZA):\n",
    "    \"\"\"\n",
    "    Only valid above 15deg\n",
    "    \"\"\"\n",
    "    t=np.tan(np.deg2rad(ZA))\n",
    "    R=58.294*t -0.0668*t**3  \n",
    "    return R"
   ]
  },
  {
   "cell_type": "code",
   "execution_count": 80,
   "metadata": {},
   "outputs": [
    {
     "name": "stdout",
     "output_type": "stream",
     "text": [
      "214.08385486723614\n"
     ]
    }
   ],
   "source": [
    "print R(ZA)"
   ]
  },
  {
   "cell_type": "code",
   "execution_count": 81,
   "metadata": {
    "collapsed": true
   },
   "outputs": [],
   "source": [
    "def R2(ZA):\n",
    "    \"\"\"\n",
    "    Only valid above 15deg\n",
    "    \"\"\"\n",
    "    t=np.tan(np.deg2rad(ZA))\n",
    "    R=58.276*t -0.0824*t**3  \n",
    "    return R"
   ]
  },
  {
   "cell_type": "code",
   "execution_count": 82,
   "metadata": {},
   "outputs": [
    {
     "name": "stdout",
     "output_type": "stream",
     "text": [
      "213.2057780637288\n"
     ]
    }
   ],
   "source": [
    "print R2(ZA)"
   ]
  },
  {
   "cell_type": "code",
   "execution_count": 83,
   "metadata": {
    "collapsed": true
   },
   "outputs": [],
   "source": [
    "def bennet(ZA): # in degrees it said press in mbar, T in Kelvin\n",
    "    h=90.0-ZA # elevation in degrees\n",
    "    r = 1.0/np.tan(np.deg2rad(h + 7.31 / (h + 4.4)))\n",
    "    \"\"\"\n",
    "    the r above is in arcminutes\n",
    "    \"\"\"\n",
    "    r1=r-0.06*np.sin(np.deg2rad(14.7*r +13.0))\n",
    "    return r1*60 # arcsec"
   ]
  },
  {
   "cell_type": "code",
   "execution_count": 84,
   "metadata": {},
   "outputs": [
    {
     "name": "stdout",
     "output_type": "stream",
     "text": [
      "214.87335794542298\n"
     ]
    }
   ],
   "source": [
    "print bennet(ZA)"
   ]
  },
  {
   "cell_type": "code",
   "execution_count": 85,
   "metadata": {
    "collapsed": true
   },
   "outputs": [],
   "source": [
    "def saemundsson(ZA):\n",
    "    \"\"\"\n",
    "    From true angle outside the atmosphere to the refraction\n",
    "    \"\"\"\n",
    "    h=90.0-ZA\n",
    "    ang=h +(10.3/(h+5.11))\n",
    "    r=1.02/(np.tan(np.deg2rad(ang)))\n",
    "    return r*60"
   ]
  },
  {
   "cell_type": "code",
   "execution_count": 86,
   "metadata": {
    "scrolled": true
   },
   "outputs": [
    {
     "name": "stdout",
     "output_type": "stream",
     "text": [
      "220.49799490443382\n"
     ]
    }
   ],
   "source": [
    "print saemundsson(ZA)"
   ]
  },
  {
   "cell_type": "code",
   "execution_count": 87,
   "metadata": {},
   "outputs": [
    {
     "name": "stderr",
     "output_type": "stream",
     "text": [
      "/usr/local/lib/python2.7/dist-packages/ipykernel_launcher.py:1: DeprecationWarning: object of type <type 'float'> cannot be safely interpreted as an integer.\n",
      "  \"\"\"Entry point for launching an IPython kernel.\n"
     ]
    },
    {
     "data": {
      "image/png": "[encoded data removed]",
      "text/plain": [
       "<matplotlib.figure.Figure at 0x7fc6c661b190>"
      ]
     },
     "metadata": {},
     "output_type": "display_data"
    }
   ],
   "source": [
    "za=np.linspace(0.,80.,100.)\n",
    "zrad=np.deg2rad(za)\n",
    "pylab.figure(figsize=(15.,20.))\n",
    "pylab.ylim(0,400)\n",
    "pylab.xlim(0,90)\n",
    "pylab.plot(za,apshift(zrad,press,T,rh),label='astropy')\n",
    "pylab.plot(za,tps(zrad,press,T,rh),label='TPM')\n",
    "pylab.plot(za,pps(zrad,press,T,rh),label='Palpy')\n",
    "#pylab.plot(za,ssz(zrad),label='Saastamoinen')\n",
    "pylab.plot(za,R2(za),label='R2')\n",
    "pylab.plot(za,R(za),label='R')\n",
    "pylab.plot(za,bennet(za),label='Bennet')\n",
    "pylab.ylabel('Refraction/arcseconds')\n",
    "pylab.grid()\n",
    "pylab.legend()\n",
    "pylab.xlabel('ZA')\n",
    "pylab.show()"
   ]
  }
 ],
 "metadata": {
  "kernelspec": {
   "display_name": "Python 2",
   "language": "python",
   "name": "python2"
  },
  "language_info": {
   "codemirror_mode": {
    "name": "ipython",
    "version": 2
   },
   "file_extension": ".py",
   "mimetype": "text/x-python",
   "name": "python",
   "nbconvert_exporter": "python",
   "pygments_lexer": "ipython2",
   "version": "2.7.6"
  }
 },
 "nbformat": 4,
 "nbformat_minor": 2
}
