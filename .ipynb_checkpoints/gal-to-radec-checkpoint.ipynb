{
 "cells": [
  {
   "cell_type": "code",
   "execution_count": 57,
   "metadata": {
    "collapsed": false
   },
   "outputs": [],
   "source": [
    "from astropy.coordinates import SkyCoord as sky\n",
    "import astropy.units as unit"
   ]
  },
  {
   "cell_type": "markdown",
   "metadata": {},
   "source": [
    "# Values from IAR HI survey\n",
    "\n",
    "Bajaja et al A&A 440, 767–773 (2005)\n",
    "\n",
    "cold sky positons listed on the last page"
   ]
  },
  {
   "cell_type": "code",
   "execution_count": 58,
   "metadata": {
    "collapsed": false
   },
   "outputs": [
    {
     "name": "stdout",
     "output_type": "stream",
     "text": [
      "04:45:55.3048 -53:09:30.3518\n"
     ]
    }
   ],
   "source": [
    "cold5=sky(l=261.0*unit.degree,b=-40.0*unit.degree, frame='galactic')\n",
    "print cold5.icrs.to_string(\"hmsdms\",sep=\":\")"
   ]
  },
  {
   "cell_type": "code",
   "execution_count": 59,
   "metadata": {
    "collapsed": true
   },
   "outputs": [],
   "source": [
    "cold=sky(l=[233.23,347.31,221.98,11.44,261.0  ]*unit.degree,b=[-27.54,-75.54,-52.01,-59.92,-40.0 ]*unit.degree, frame='galactic')"
   ]
  },
  {
   "cell_type": "code",
   "execution_count": 60,
   "metadata": {
    "collapsed": false
   },
   "outputs": [
    {
     "name": "stdout",
     "output_type": "stream",
     "text": [
      "[u'05:39:10.8519 -28:59:07.9323', u'00:00:58.9646 -36:53:49.2617', u'03:42:29.481 -26:27:23.6451', u'22:34:39.8769 -33:55:03.7148', u'04:45:55.3048 -53:09:30.3518']\n"
     ]
    }
   ],
   "source": [
    "print cold.icrs.to_string(\"hmsdms\",sep=\":\")"
   ]
  },
  {
   "cell_type": "code",
   "execution_count": 61,
   "metadata": {
    "collapsed": true
   },
   "outputs": [],
   "source": [
    "rd=cold.icrs.to_string(\"hmsdms\",sep=\":\",precision=0)\n"
   ]
  },
  {
   "cell_type": "code",
   "execution_count": 62,
   "metadata": {
    "collapsed": false
   },
   "outputs": [
    {
     "name": "stdout",
     "output_type": "stream",
     "text": [
      "Cold1, radec target, 05:39:11,-28:59:08\n",
      "Cold2, radec target, 00:00:59,-36:53:49\n",
      "Cold3, radec target, 03:42:29,-26:27:24\n",
      "Cold4, radec target, 22:34:40,-33:55:04\n",
      "Cold5, radec target, 04:45:55,-53:09:30\n"
     ]
    }
   ],
   "source": [
    "count=1\n",
    "for x in rd:\n",
    "    ss=x.replace(\" \",\",\")\n",
    "    # remove trailing \"s\", put a comma in the middle, replace dhms with \":\", \n",
    "    print \"Cold%i, radec target, %s\" %(count,ss)\n",
    "    count=count+1\n",
    "    "
   ]
  },
  {
   "cell_type": "markdown",
   "metadata": {},
   "source": [
    "Cold5 is the coldest, no strong galactic synchrotrom"
   ]
  },
  {
   "cell_type": "markdown",
   "metadata": {},
   "source": [
    "# Standard positions\n",
    "Williams, D. R. W. Astronomy and Astrophysics Supplement, Vol. 8, p.505\n"
   ]
  },
  {
   "cell_type": "code",
   "execution_count": 63,
   "metadata": {
    "collapsed": true
   },
   "outputs": [],
   "source": [
    "wil=sky(l=[1.91,132.,207.0,356.0 ]*unit.degree,b=[41.42,-1.,-15.0,-4.0 ]*unit.degree, frame='galactic')"
   ]
  },
  {
   "cell_type": "code",
   "execution_count": 65,
   "metadata": {
    "collapsed": false
   },
   "outputs": [
    {
     "name": "stdout",
     "output_type": "stream",
     "text": [
      "Standard6, radec target, 15:31:34,-02:25:24\n",
      "Standard7, radec target, 02:06:13,+60:32:55\n",
      "Standard8, radec target, 05:47:21,-01:40:18\n",
      "Standard9, radec target, 17:52:05,-34:25:15\n"
     ]
    }
   ],
   "source": [
    "s=wil.icrs.to_string(\"hmsdms\",sep=\":\",precision=0)\n",
    "i=6\n",
    "for x in s:\n",
    "    ss=x.replace(\" \",\",\")\n",
    "    # remove trailing \"s\", put a comma in the middle, replace dhms with \":\", \n",
    "    print \"Standard%i, radec target, %s\" %(count,ss)\n",
    "    count=count+1"
   ]
  }
 ],
 "metadata": {
  "kernelspec": {
   "display_name": "Python 2",
   "language": "python",
   "name": "python2"
  },
  "language_info": {
   "codemirror_mode": {
    "name": "ipython",
    "version": 2
   },
   "file_extension": ".py",
   "mimetype": "text/x-python",
   "name": "python",
   "nbconvert_exporter": "python",
   "pygments_lexer": "ipython2",
   "version": "2.7.6"
  }
 },
 "nbformat": 4,
 "nbformat_minor": 0
}
