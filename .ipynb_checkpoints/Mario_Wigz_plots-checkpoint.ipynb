{
 "cells": [
  {
   "cell_type": "code",
   "execution_count": 86,
   "metadata": {},
   "outputs": [
    {
     "name": "stdout",
     "output_type": "stream",
     "text": [
      "Populating the interactive namespace from numpy and matplotlib\n"
     ]
    }
   ],
   "source": [
    "#!/usr/bin/env python\n",
    "import numpy as np\n",
    "import matplotlib.pyplot as plt\n",
    "%pylab inline\n",
    "np.set_printoptions(precision=4)\n",
    "                    \n",
    "np.lat=np.radians(-30.7148) #latitude of KAT7\n",
    "coslat=np.cos(lat)\n",
    "sinlat=np.sin(lat)\n",
    "\n",
    "\n",
    "def azel(ha,dec):    #elevation and azimuth\n",
    "    \"\"\"\n",
    "    ha,dec => az,el\n",
    "    All values are in degrees\n",
    "    az 180 is SOUTH\n",
    "    \"\"\"\n",
    "    d=np.radians(dec)\n",
    "    h=np.radians(ha)\n",
    "    \n",
    "    elev=np.arcsin((np.sin(d)*sinlat +np.cos(d)*np.cos(h)*coslat))                    #el\n",
    "    azim=np.arctan2(-1*(np.cos(d)*np.sin(h)),-1* (np.cos(d)*np.cos(h)*sinlat-np.sin(d)*coslat))#az   \n",
    "    azimuth=np.degrees(azim)\n",
    "    elevation=np.degrees(elev)\n",
    "    return (azimuth,elevation)\n",
    "   \n",
    "\n"
   ]
  },
  {
   "cell_type": "code",
   "execution_count": 87,
   "metadata": {},
   "outputs": [],
   "source": [
    "def hadec(az,el):\n",
    "    \"\"\"\n",
    "    az,el => ha,dec\n",
    "    All values are in degrees\n",
    "    az 0 is NORTH\n",
    "    \"\"\"\n",
    "    a=np.radians(az)\n",
    "    e=np.radians(el)\n",
    "    x= -np.cos(a)*np.cos(e)*sinlat +np.sin(e)*coslat\n",
    "    y= -np.sin(a)*np.cos(e)\n",
    "    z=  np.cos(a)*np.cos(e)*coslat +np.sin(e)*sinlat\n",
    "    r= np.sqrt(x*x +y*y)\n",
    "    ha= np.arctan2(y,x)\n",
    "    dec=np.arctan2(z,r)\n",
    "    hour_angle=np.degrees(ha)\n",
    "    declination=np.degrees(dec)\n",
    "    return (hour_angle,declination)\n",
    "\n"
   ]
  },
  {
   "cell_type": "code",
   "execution_count": 88,
   "metadata": {},
   "outputs": [
    {
     "name": "stdout",
     "output_type": "stream",
     "text": [
      "-49.5 1.5\n",
      "(65.02198873763543, 33.009775298880214)\n"
     ]
    }
   ],
   "source": [
    "lst = 18.7 #hours\n",
    "ra=330.0 #degrees\n",
    "dec=1.5 #degrees\n",
    "ha=lst*15-ra\n",
    "print ha,dec\n",
    "print azel(ha,dec)"
   ]
  },
  {
   "cell_type": "code",
   "execution_count": 89,
   "metadata": {},
   "outputs": [
    {
     "name": "stdout",
     "output_type": "stream",
     "text": [
      "(53.450149336240045, 42.993843903627955)\n"
     ]
    }
   ],
   "source": [
    "print azel(-36., 1.5)"
   ]
  },
  {
   "cell_type": "code",
   "execution_count": 109,
   "metadata": {},
   "outputs": [
    {
     "name": "stdout",
     "output_type": "stream",
     "text": [
      "(-36.199581712800395, 3.7616678062763254)\n"
     ]
    }
   ],
   "source": [
    "print hadec(51.56483, 41.20536)"
   ]
  },
  {
   "cell_type": "code",
   "execution_count": 110,
   "metadata": {},
   "outputs": [
    {
     "name": "stdout",
     "output_type": "stream",
     "text": [
      "RA0 -316.699 Dec 3.76166780627\n",
      "0.416666666667\n",
      "0.41552898341 0.41552898341\n",
      "(-24.17373402293906, 0.11398638100367683)\n",
      "59.89816 41.20536\n",
      "Az     55.772 El     41.205\n",
      "HA    -36.200 Dec     -0.692\n",
      "RA    244.300 Dec     -0.692\n",
      "43.2315 41.20536\n",
      "Az     47.740 El     41.205\n",
      "HA    -35.783 Dec      7.747\n",
      "RA    244.717 Dec      7.747\n",
      "59.89816 41.20536\n",
      "Az     54.943 El     41.205\n",
      "HA    -35.366 Dec     -0.692\n",
      "RA    245.134 Dec     -0.692\n",
      "43.2315 41.20536\n",
      "Az     46.925 El     41.205\n",
      "HA    -34.950 Dec      7.747\n",
      "RA    245.550 Dec      7.747\n",
      "59.89816 41.20536\n",
      "Az     54.097 El     41.205\n",
      "HA    -34.533 Dec     -0.692\n",
      "RA    245.967 Dec     -0.692\n",
      "43.2315 41.20536\n",
      "Az     46.096 El     41.205\n",
      "HA    -34.116 Dec      7.747\n",
      "RA    246.384 Dec      7.747\n",
      "59.89816 41.20536\n",
      "Az     53.234 El     41.205\n",
      "HA    -33.700 Dec     -0.692\n",
      "RA    246.800 Dec     -0.692\n",
      "43.2315 41.20536\n",
      "Az     45.254 El     41.205\n",
      "HA    -33.283 Dec      7.747\n",
      "RA    247.217 Dec      7.747\n",
      "59.89816 41.20536\n",
      "Az     52.353 El     41.205\n",
      "HA    -32.866 Dec     -0.692\n",
      "RA    247.634 Dec     -0.692\n",
      "43.2315 41.20536\n",
      "Az     44.397 El     41.205\n",
      "HA    -32.450 Dec      7.747\n",
      "RA    248.050 Dec      7.747\n",
      "59.89816 41.20536\n",
      "Az     51.453 El     41.205\n",
      "HA    -32.033 Dec     -0.692\n",
      "RA    248.467 Dec     -0.692\n",
      "43.2315 41.20536\n",
      "Az     43.527 El     41.205\n",
      "HA    -31.616 Dec      7.747\n",
      "RA    248.884 Dec      7.747\n",
      "59.89816 41.20536\n",
      "Az     50.534 El     41.205\n",
      "HA    -31.200 Dec     -0.692\n",
      "RA    249.300 Dec     -0.692\n",
      "43.2315 41.20536\n",
      "Az     42.642 El     41.205\n",
      "HA    -30.783 Dec      7.747\n",
      "RA    249.717 Dec      7.747\n",
      "59.89816 41.20536\n",
      "Az     49.595 El     41.205\n",
      "HA    -30.366 Dec     -0.692\n",
      "RA    250.134 Dec     -0.692\n",
      "43.2315 41.20536\n",
      "Az     41.742 El     41.205\n",
      "HA    -29.950 Dec      7.747\n",
      "RA    250.550 Dec      7.747\n",
      "59.89816 41.20536\n",
      "Az     48.636 El     41.205\n",
      "HA    -29.533 Dec     -0.692\n",
      "RA    250.967 Dec     -0.692\n",
      "43.2315 41.20536\n",
      "Az     40.827 El     41.205\n",
      "HA    -29.116 Dec      7.747\n",
      "RA    251.384 Dec      7.747\n",
      "59.89816 41.20536\n",
      "Az     47.656 El     41.205\n",
      "HA    -28.700 Dec     -0.692\n",
      "RA    251.800 Dec     -0.692\n",
      "43.2315 41.20536\n",
      "Az     39.897 El     41.205\n",
      "HA    -28.283 Dec      7.747\n",
      "RA    252.217 Dec      7.747\n",
      "59.89816 41.20536\n",
      "Az     46.655 El     41.205\n",
      "HA    -27.866 Dec     -0.692\n",
      "RA    252.634 Dec     -0.692\n",
      "43.2315 41.20536\n",
      "Az     38.953 El     41.205\n",
      "HA    -27.450 Dec      7.747\n",
      "RA    253.050 Dec      7.747\n",
      "59.89816 41.20536\n",
      "Az     45.632 El     41.205\n",
      "HA    -27.033 Dec     -0.692\n",
      "RA    253.467 Dec     -0.692\n",
      "43.2315 41.20536\n",
      "Az     37.992 El     41.205\n",
      "HA    -26.616 Dec      7.747\n",
      "RA    253.884 Dec      7.747\n",
      "59.89816 41.20536\n",
      "Az     44.587 El     41.205\n",
      "HA    -26.200 Dec     -0.692\n",
      "RA    254.300 Dec     -0.692\n",
      "43.2315 41.20536\n",
      "Az     37.017 El     41.205\n",
      "HA    -25.783 Dec      7.747\n",
      "RA    254.717 Dec      7.747\n",
      "59.89816 41.20536\n",
      "Az     43.519 El     41.205\n",
      "HA    -25.366 Dec     -0.692\n",
      "RA    255.134 Dec     -0.692\n",
      "43.2315 41.20536\n",
      "Az     36.025 El     41.205\n",
      "HA    -24.950 Dec      7.747\n",
      "RA    255.550 Dec      7.747\n",
      "59.89816 41.20536\n",
      "Az     42.428 El     41.205\n",
      "HA    -24.533 Dec     -0.692\n",
      "RA    255.967 Dec     -0.692\n",
      "43.2315 41.20536\n",
      "Az     35.018 El     41.205\n",
      "HA    -24.116 Dec      7.747\n",
      "RA    256.384 Dec      7.747\n",
      "59.89816 41.20536\n",
      "Az     41.313 El     41.205\n",
      "HA    -23.700 Dec     -0.692\n",
      "RA    256.800 Dec     -0.692\n",
      "43.2315 41.20536\n",
      "Az     33.995 El     41.205\n",
      "HA    -23.283 Dec      7.747\n",
      "RA    257.217 Dec      7.747\n",
      "59.89816 41.20536\n",
      "Az     40.174 El     41.205\n",
      "HA    -22.866 Dec     -0.692\n",
      "RA    257.634 Dec     -0.692\n",
      "43.2315 41.20536\n",
      "Az     32.956 El     41.205\n",
      "HA    -22.450 Dec      7.747\n",
      "RA    258.050 Dec      7.747\n",
      "59.89816 41.20536\n",
      "Az     39.010 El     41.205\n",
      "HA    -22.033 Dec     -0.692\n",
      "RA    258.467 Dec     -0.692\n",
      "43.2315 41.20536\n",
      "Az     31.902 El     41.205\n",
      "HA    -21.616 Dec      7.747\n",
      "RA    258.884 Dec      7.747\n",
      "59.89816 41.20536\n",
      "Az     37.822 El     41.205\n",
      "HA    -21.200 Dec     -0.692\n",
      "RA    259.300 Dec     -0.692\n",
      "43.2315 41.20536\n",
      "Az     30.832 El     41.205\n",
      "HA    -20.783 Dec      7.747\n",
      "RA    259.717 Dec      7.747\n",
      "59.89816 41.20536\n",
      "Az     36.609 El     41.205\n",
      "HA    -20.366 Dec     -0.692\n",
      "RA    260.134 Dec     -0.692\n",
      "43.2315 41.20536\n",
      "Az     29.746 El     41.205\n",
      "HA    -19.950 Dec      7.747\n",
      "RA    260.550 Dec      7.747\n",
      "59.89816 41.20536\n",
      "Az     35.370 El     41.205\n",
      "HA    -19.533 Dec     -0.692\n",
      "RA    260.967 Dec     -0.692\n",
      "43.2315 41.20536\n",
      "Az     28.644 El     41.205\n",
      "HA    -19.116 Dec      7.747\n",
      "RA    261.384 Dec      7.747\n",
      "59.89816 41.20536\n",
      "Az     34.106 El     41.205\n",
      "HA    -18.700 Dec     -0.692\n",
      "RA    261.800 Dec     -0.692\n",
      "43.2315 41.20536\n",
      "Az     27.527 El     41.205\n",
      "HA    -18.283 Dec      7.747\n",
      "RA    262.217 Dec      7.747\n",
      "59.89816 41.20536\n",
      "Az     32.816 El     41.205\n",
      "HA    -17.866 Dec     -0.692\n",
      "RA    262.634 Dec     -0.692\n",
      "43.2315 41.20536\n",
      "Az     26.395 El     41.205\n",
      "HA    -17.450 Dec      7.747\n",
      "RA    263.050 Dec      7.747\n",
      "59.89816 41.20536\n",
      "Az     31.501 El     41.205\n",
      "HA    -17.033 Dec     -0.692\n",
      "RA    263.467 Dec     -0.692\n",
      "43.2315 41.20536\n",
      "Az     25.248 El     41.205\n",
      "HA    -16.616 Dec      7.747\n",
      "RA    263.884 Dec      7.747\n",
      "59.89816 41.20536\n",
      "Az     30.160 El     41.205\n",
      "HA    -16.200 Dec     -0.692\n",
      "RA    264.300 Dec     -0.692\n",
      "43.2315 41.20536\n",
      "Az     24.086 El     41.205\n",
      "HA    -15.783 Dec      7.747\n",
      "RA    264.717 Dec      7.747\n",
      "59.89816 41.20536\n",
      "Az     28.794 El     41.205\n",
      "HA    -15.366 Dec     -0.692\n",
      "RA    265.134 Dec     -0.692\n",
      "43.2315 41.20536\n",
      "Az     22.909 El     41.205\n",
      "HA    -14.950 Dec      7.747\n",
      "RA    265.550 Dec      7.747\n",
      "59.89816 41.20536\n",
      "Az     27.403 El     41.205\n",
      "HA    -14.533 Dec     -0.692\n",
      "RA    265.967 Dec     -0.692\n",
      "43.2315 41.20536\n",
      "Az     21.719 El     41.205\n",
      "HA    -14.116 Dec      7.747\n",
      "RA    266.384 Dec      7.747\n"
     ]
    }
   ],
   "source": [
    "%precision 3\n",
    "dec0=3.76166780627\n",
    "scan=8.33333 # degree\n",
    "lst0=18.7*15 # hour angle in hours  to degrees\n",
    "ra0=-36.199-lst0\n",
    "ha0=-36.199581\n",
    "print \"RA0\",ra0, \"Dec\",dec0\n",
    "az0=51.56483  # az start in degreees\n",
    "duration=100/1.00273791552838 #sidereal seconds\n",
    "dur_hr=duration/3600. # seconds to hours \n",
    "dur_d=15*dur_hr #1 hour in HA is 15 degreees\n",
    "timestep=100./3600. # hours\n",
    "hastep=timestep*15.0  # 1 hour= 15 deg\n",
    "print hastep\n",
    "print dur_d, duration/240.\n",
    "# 54 scans, 27 forward and 27 back\n",
    "ras =np.zeros(54)\n",
    "decs=np.zeros(54)\n",
    "has=np.zeros(54)\n",
    "azs=np.zeros(54)\n",
    "els=np.zeros(54)\n",
    "el0=41.20536 # stays the same\n",
    "az0=51.56483\n",
    "print hadec(el0,az0)\n",
    "for scan_num in range(54):\n",
    "    el=el0\n",
    "    if scan_num%2 == 0 : #even scan\n",
    "        az=az0-scan\n",
    "    else: # odd scan\n",
    "        az=az0+scan\n",
    "    # have now finished scan at different az, el\n",
    "    # change to ha,dec\n",
    "    print az,el0\n",
    "    ha,dec=hadec(az,el0)# work out where you are\n",
    "    ha=ha0+hastep*scan_num # increment time\n",
    "    az,el=azel(ha,dec)\n",
    "    print (\"Az %10.3f El %10.3f\") %(az,el0)\n",
    "    print (\"HA %10.3f Dec %10.3f\") % (ha,dec)\n",
    "    ra=lst0+ha\n",
    "    print(\"RA %10.3f Dec %10.3f\") %(ra,dec)\n",
    "    azs[scan_num]=az\n",
    "    els[scan_num]=el\n",
    "    has[scan_num]=ha\n",
    "    ras[scan_num]=ra\n",
    "    decs[scan_num]=dec\n"
   ]
  },
  {
   "cell_type": "code",
   "execution_count": 111,
   "metadata": {},
   "outputs": [
    {
     "data": {
      "text/plain": [
       "[<matplotlib.lines.Line2D at 0x7f5ba6275290>]"
      ]
     },
     "execution_count": 111,
     "metadata": {},
     "output_type": "execute_result"
    },
    {
     "data": {
      "image/png": "[encoded data removed]",
      "text/plain": [
       "<matplotlib.figure.Figure at 0x7f5ba6275150>"
      ]
     },
     "metadata": {},
     "output_type": "display_data"
    }
   ],
   "source": [
    "plt.plot(ras,decs)"
   ]
  },
  {
   "cell_type": "code",
   "execution_count": 112,
   "metadata": {},
   "outputs": [
    {
     "ename": "NameError",
     "evalue": "name 'elev' is not defined",
     "output_type": "error",
     "traceback": [
      "\u001b[0;31m---------------------------------------------------------------------------\u001b[0m",
      "\u001b[0;31mNameError\u001b[0m                                 Traceback (most recent call last)",
      "\u001b[0;32m<ipython-input-112-77a8f13eced9>\u001b[0m in \u001b[0;36m<module>\u001b[0;34m()\u001b[0m\n\u001b[1;32m      8\u001b[0m \u001b[0;32mfor\u001b[0m \u001b[0mdecdeg\u001b[0m \u001b[0;32min\u001b[0m \u001b[0mnp\u001b[0m\u001b[0;34m.\u001b[0m\u001b[0marange\u001b[0m\u001b[0;34m(\u001b[0m\u001b[0;34m-\u001b[0m\u001b[0;36m80\u001b[0m\u001b[0;34m,\u001b[0m\u001b[0;36m50\u001b[0m\u001b[0;34m,\u001b[0m\u001b[0;36m20\u001b[0m\u001b[0;34m)\u001b[0m\u001b[0;34m:\u001b[0m  \u001b[0;31m# hadeg is HA in degrees, decdeg is Dec in degrees\u001b[0m\u001b[0;34m\u001b[0m\u001b[0m\n\u001b[1;32m      9\u001b[0m     \u001b[0mdec\u001b[0m\u001b[0;34m=\u001b[0m\u001b[0mnp\u001b[0m\u001b[0;34m.\u001b[0m\u001b[0mradians\u001b[0m\u001b[0;34m(\u001b[0m\u001b[0mdecdeg\u001b[0m\u001b[0;34m)\u001b[0m\u001b[0;34m\u001b[0m\u001b[0m\n\u001b[0;32m---> 10\u001b[0;31m     \u001b[0mazel\u001b[0m\u001b[0;34m=\u001b[0m\u001b[0melev\u001b[0m\u001b[0;34m(\u001b[0m\u001b[0mha\u001b[0m\u001b[0;34m,\u001b[0m\u001b[0mdec\u001b[0m\u001b[0;34m)\u001b[0m\u001b[0;34m\u001b[0m\u001b[0m\n\u001b[0m\u001b[1;32m     11\u001b[0m     \u001b[0maz\u001b[0m\u001b[0;34m=\u001b[0m\u001b[0mazel\u001b[0m\u001b[0;34m[\u001b[0m\u001b[0;36m0\u001b[0m\u001b[0;34m]\u001b[0m\u001b[0;34m\u001b[0m\u001b[0m\n\u001b[1;32m     12\u001b[0m     \u001b[0mel\u001b[0m\u001b[0;34m=\u001b[0m\u001b[0mazel\u001b[0m\u001b[0;34m[\u001b[0m\u001b[0;36m1\u001b[0m\u001b[0;34m]\u001b[0m\u001b[0;34m\u001b[0m\u001b[0m\n",
      "\u001b[0;31mNameError\u001b[0m: name 'elev' is not defined"
     ]
    },
    {
     "data": {
      "image/png": "[encoded data removed]",
      "text/plain": [
       "<matplotlib.figure.Figure at 0x7f5ba620bad0>"
      ]
     },
     "metadata": {},
     "output_type": "display_data"
    }
   ],
   "source": [
    "\n",
    "ax = plt.subplot(111, polar=True)\n",
    "ax.set_theta_offset(np.pi/2)\n",
    "\n",
    "\n",
    "hadeg=np.linspace(0,360,304) # lots of steps entries \n",
    "ha=np.radians(hadeg)\n",
    "for decdeg in np.arange(-80,50,20):  # hadeg is HA in degrees, decdeg is Dec in degrees\n",
    "    dec=np.radians(decdeg)\n",
    "    azel=elev(ha,dec)\n",
    "    az=azel[0]\n",
    "    el=azel[1]\n",
    "    za=np.pi/2.0 - el # zenith angle\n",
    "    t2=np.tan(za/2.0) # tan/2 zenith angle\n",
    "\n",
    "    #print ha,dec,az,el,t2,s\n",
    "    ax.plot(az,t2,label=\"Dec \"+str(decdeg),linestyle=\"--\")\n",
    "#\n",
    "decdeg=np.linspace(-90,50,300)\n",
    "dec=np.radians(decdeg)\n",
    "for hadeg in np.arange(0,360,45):\n",
    "    ha=np.radians(hadeg)\n",
    "    azel=elev(ha,dec)\n",
    "    az=azel[0]\n",
    "    el=azel[1]\n",
    "    za=np.pi/2.0 - el # zenith angle\n",
    "    t2=np.tan((za)/2.0) # tan (0.5 *zenith angle)\n",
    "\n",
    "    #print ha,dec,az,el,t2,s\n",
    "    ax.plot(az,t2,label=\"HA \"+str(hadeg),linestyle=\"-.\") \n",
    "\n",
    "#plt.xlabel(\"Az\")\n",
    "#plt.ylabel(\"El\")\n",
    "#plt.ylim(0,90)\n",
    "#plt.xlim(-180,180)\n",
    "\n",
    "ax.set_rmax(1.0)\n",
    "\n",
    "ax.legend( loc=(1.,0.),ncol=1) # \n",
    "plt.title('Azimuth versus $tan(ZA/2)$')\n",
    "zas=np.tan(np.radians([10,20,30,40])) # 20,40,60,80 deg from zenith\n",
    "plt.rgrids(zas,labels=['$el=70^\\circ$','$el=50^\\circ$','$el=30^\\circ$','$el=10^\\circ$'])\n",
    "plt.show()\n",
    "\n",
    "\n"
   ]
  },
  {
   "cell_type": "code",
   "execution_count": null,
   "metadata": {
    "collapsed": true
   },
   "outputs": [],
   "source": []
  },
  {
   "cell_type": "code",
   "execution_count": null,
   "metadata": {},
   "outputs": [],
   "source": [
    "plt.plot(ras,decs)"
   ]
  },
  {
   "cell_type": "code",
   "execution_count": null,
   "metadata": {},
   "outputs": [],
   "source": [
    "pylab.figure(figsize=(15,15))\n",
    "ax = plt.subplot(111, polar=True)\n",
    "ax.set_theta_offset(np.pi/2)\n",
    "\n",
    "\n",
    "\"\"\"\n",
    "Given azimuth and elevations work out HA,Dec and plot them\n",
    "\n",
    "Not working yet\n",
    "\n",
    "\"\"\"\n",
    "\n",
    "\n",
    "azdeg=np.linspace(-180,180,304) # lots of steps entries \n",
    "az=np.radians(azdeg)\n",
    "for eldeg in np.arange(0,90,20):  # hadeg is HA in degrees, decdeg is Dec in degrees\n",
    "    el=np.radians(eldeg)\n",
    "    had=hadec(az,el)\n",
    "    ha=had[0]\n",
    "    dec=had[1]\n",
    "    t2=np.tan((dec+0.5*np.pi)/2.0) # tan/2 zenith angle\n",
    " \n",
    "    ax.plot(ha,t2,label=\"El \"+str(eldeg),linestyle=\"--\")\n",
    "#\n",
    "eldeg=np.linspace(0,90,300)\n",
    "el=np.radians(eldeg)\n",
    "for azdeg in np.arange(0,360,45):\n",
    "    #print azdeg\n",
    "    az=np.radians(azdeg)\n",
    "    had=hadec(az,el)\n",
    "    ha=had[0]\n",
    "    dec=had[1]\n",
    "    t2=np.tan((dec+0.5*np.pi)/2.0) # tan (0.5 *dec)\n",
    "    ax.plot(ha,t2,label=\"Az \"+str(azdeg),linestyle=\"-\") \n",
    "\n",
    "ax.set_rmax(1.0)\n",
    "\n",
    "ax.legend( loc=(1.,0.),ncol=1) # \n",
    "plt.title('HA versus $-tan((\\delta + \\pi/2)/2)$')\n",
    "decs=np.tan(np.radians([10,20,30,40])) # 20,40,60,80 deg \n",
    "# add 90 deg for labels\n",
    "plt.rgrids(decs,labels=['$dec=-70^\\circ$','$dec=-50^\\circ$','$dec=-30^\\circ$','$dec=-10^\\circ$'])\n",
    "# centre of the circle is dec = -90deg, corrsesponds to azim =-180, el=30.7\n",
    "#outer edge is dec=0\n",
    "# \n",
    "plt.show()\n"
   ]
  },
  {
   "cell_type": "code",
   "execution_count": null,
   "metadata": {},
   "outputs": [],
   "source": [
    "#az=np.pi #radians\n",
    "#el=0.5*np.pi\n",
    "az=1.\n",
    "el=1.\n",
    "had=hadec(az,el)\n",
    "h=had[0]\n",
    "d=had[1]\n",
    "print h,d ,np.degrees(d)"
   ]
  },
  {
   "cell_type": "code",
   "execution_count": null,
   "metadata": {},
   "outputs": [],
   "source": [
    "print elev(h,d)"
   ]
  },
  {
   "cell_type": "code",
   "execution_count": null,
   "metadata": {},
   "outputs": [],
   "source": [
    "print hadec(0., -0.5*np.pi)"
   ]
  },
  {
   "cell_type": "code",
   "execution_count": null,
   "metadata": {},
   "outputs": [],
   "source": [
    "print elev(0.4803580904599507, -0.17978567500052758)"
   ]
  },
  {
   "cell_type": "code",
   "execution_count": null,
   "metadata": {},
   "outputs": [],
   "source": [
    "print hadec(-az,el)"
   ]
  },
  {
   "cell_type": "code",
   "execution_count": null,
   "metadata": {},
   "outputs": [],
   "source": [
    "(3.4644-0.48035)/np.pi"
   ]
  },
  {
   "cell_type": "code",
   "execution_count": null,
   "metadata": {},
   "outputs": [],
   "source": [
    "for h in arange(0,3,0.4):\n",
    "    for d in arange (0.1,-1.3,-0.2):\n",
    "        a,e=elev(h,d)\n",
    "        h2,d2=hadec(a,e)\n",
    "        print(\"%6.3f %6.3f %6.3f %6.3f %6.3f %6.3f\") %(a,e,h-h2,d-d2,h,d)"
   ]
  },
  {
   "cell_type": "code",
   "execution_count": null,
   "metadata": {
    "collapsed": true
   },
   "outputs": [],
   "source": []
  }
 ],
 "metadata": {
  "kernelspec": {
   "display_name": "Python 2",
   "language": "python",
   "name": "python2"
  },
  "language_info": {
   "codemirror_mode": {
    "name": "ipython",
    "version": 2
   },
   "file_extension": ".py",
   "mimetype": "text/x-python",
   "name": "python",
   "nbconvert_exporter": "python",
   "pygments_lexer": "ipython2",
   "version": "2.7.6"
  }
 },
 "nbformat": 4,
 "nbformat_minor": 1
}
