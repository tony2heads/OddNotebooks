{
 "cells": [
  {
   "cell_type": "code",
   "execution_count": 1,
   "metadata": {
    "collapsed": false
   },
   "outputs": [],
   "source": [
    "import katarchive\n",
    "import katfile"
   ]
  },
  {
   "cell_type": "markdown",
   "metadata": {},
   "source": [
    "Loading a file from the archive for processing"
   ]
  },
  {
   "cell_type": "code",
   "execution_count": 17,
   "metadata": {
    "collapsed": false
   },
   "outputs": [
    {
     "name": "stdout",
     "output_type": "stream",
     "text": [
      "Searched using: CAS.ProductTypeName:KatFile AND CAS.ProductTransferStatus:RECEIVED AND Filename:1362743782.h5\n",
      "Returning 1 results\n"
     ]
    }
   ],
   "source": [
    "fn = katarchive.search_archive(filename='1362743782.h5')\n",
    "h5 = katfile.open(fn[0].path_to_file)"
   ]
  },
  {
   "cell_type": "markdown",
   "metadata": {},
   "source": [
    "Display observation summary information"
   ]
  },
  {
   "cell_type": "code",
   "execution_count": 18,
   "metadata": {
    "collapsed": false
   },
   "outputs": [
    {
     "name": "stdout",
     "output_type": "stream",
     "text": [
      "===============================================================================\n",
      "Name: /var/kat/archive/data/comm/2013/03/08/1362743782.h5 (version 2.1)\n",
      "===============================================================================\n",
      "Observer: audrey  Experiment ID: 20130308-0005\n",
      "Description: 'new health'\n",
      "Observed from 2013-03-08 13:56:25.272 SAST to 2013-03-08 14:02:40.801 SAST\n",
      "Dump rate / period: 1.99984 Hz / 0.500 s\n",
      "Subarrays: 1\n",
      "  ID  Antennas                            Inputs  Corrprods\n",
      "   0  ant1,ant2,ant3,ant4,ant5,ant6,ant7  14      112\n",
      "Spectral Windows: 6\n",
      "  ID  Mode       CentreFreq(MHz)  Bandwidth(MHz)  Channels  ChannelWidth(kHz)\n",
      "   0  c16n400M1k  1264.000         400.000          1024      390.625\n",
      "   1  c16n400M1k  1392.000         400.000          1024      390.625\n",
      "   2  c16n400M1k  1520.000         400.000          1024      390.625\n",
      "   3  c16n400M1k  1648.000         400.000          1024      390.625\n",
      "   4  c16n400M1k  1776.000         400.000          1024      390.625\n",
      "   5  c16n400M1k  1904.000         400.000          1024      390.625\n",
      "-------------------------------------------------------------------------------\n",
      "Data selected according to the following criteria:\n",
      "  subarray=0\n",
      "  ants=['ant1', 'ant2', 'ant3', 'ant4', 'ant5', 'ant6', 'ant7']\n",
      "  spw=0\n",
      "-------------------------------------------------------------------------------\n",
      "Shape: (126 dumps, 1024 channels, 112 correlation products) => Size: 115.606 MB\n",
      "Antennas: *ant1,ant2,ant3,ant4,ant5,ant6,ant7  Inputs: 14  Autocorr: yes  Crosscorr: yes\n",
      "Channels: 1024 (index 0 - 1023, 1464.000 MHz - 1064.391 MHz), each 390.625 kHz wide\n",
      "Targets: 1 selected out of 1 in catalogue\n",
      "  ID  Name                             Type      RA(J2000)     DEC(J2000)  Tags  Dumps  ModelFlux(Jy)\n",
      "   0  Ra: 0:00:00.00 Dec: -90:00:00.0  radec      0:00:00.00  -90:00:00.0          126  \n",
      "Scans: 2 selected out of 12 total       Compscans: 1 selected out of 1 total\n",
      "  Date        Timerange(UTC)       ScanState  CompScanLabel  Dumps  Target\n",
      "  08-Mar-2013/11:56:25 - 11:56:28    0:slew     0:               6    0:Ra: 0:00:00.00 Dec: -90:00:00.0\n",
      "              11:56:28 - 11:57:28    1:track    0:             120    0:Ra: 0:00:00.00 Dec: -90:00:00.0\n",
      "-------------------------------------------------------------------------------\n",
      "Process log:\n",
      "  RFIThreshold2:  axis=0   n_sigma=11.0   spike_width=6\n",
      "          Scale:  scale_factor=1.0\n",
      "       VanVleck:  accum_per_int=195328.0\n"
     ]
    }
   ],
   "source": [
    "print h5.__str__()"
   ]
  },
  {
   "cell_type": "markdown",
   "metadata": {},
   "source": [
    "Extracting various bits of information from the observation file"
   ]
  },
  {
   "cell_type": "code",
   "execution_count": 19,
   "metadata": {
    "collapsed": false
   },
   "outputs": [
    {
     "name": "stdout",
     "output_type": "stream",
     "text": [
      "ant1 ant1, -30:43:17.3, 21:24:38.5, 1038.0, 12.0, 25.095 -9.095 0.045, -0:05:30.6 0 -0:00:03.3 0:02:14.2 0:00:01.6 -0:01:30.6 0:08:42.1, 1.22\n",
      "ant2 ant2, -30:43:17.3, 21:24:38.5, 1038.0, 12.0, 90.2844 26.3804 -0.22636, -0:05:15.9 0 -0:01:24.1 0:02:48.2 -0:03:25.2 0:02:08.6 0:08:37.2, 1.22\n",
      "ant3 ant3, -30:43:17.3, 21:24:38.5, 1038.0, 12.0, 3.98474 26.8929 0.0004046, -0:07:53.4 0 -0:00:13.5 -0:05:12.7 -0:01:36.5 0:00:21.9 -0:02:27.6, 1.22\n",
      "ant4 ant4, -30:43:17.3, 21:24:38.5, 1038.0, 12.0, -21.6053 25.4936 0.018615, 0:03:17.5 0 -0:00:05.9 -0:02:20.7 0:00:56.9 -0:00:16.2 0:09:11.9, 1.22\n",
      "ant5 ant5, -30:43:17.3, 21:24:38.5, 1038.0, 12.0, -38.272 -2.5917 0.391362, 0:03:02.2 0 0:03:00.8 -0:01:08.7 0:00:39.1 0 -0:01:23.2 0 0 0 0:01:51.6, 1.22\n",
      "ant6 ant6, -30:43:17.3, 21:24:38.5, 1038.0, 12.0, -61.5945 -79.6989 0.701598, -0:01:30.7 0 0:02:31.0 0:01:34.0 0:01:47.3 -0:00:44.1 -0:09:34.9 0 0 0 0:02:23.3 0 0 0 0 0 -0:00:42.2, 1.22\n",
      "ant7 ant7, -30:43:17.3, 21:24:38.5, 1038.0, 12.0, -87.9881 75.7543 0.138305, 0:07:55.1 0 -0:03:24.0 0 0 0 0:06:41.5 -0:02:13.2, 1.22\n"
     ]
    }
   ],
   "source": [
    "for ant in h5.ants: print ant.name, ant.description"
   ]
  },
  {
   "cell_type": "code",
   "execution_count": 21,
   "metadata": {
    "collapsed": false
   },
   "outputs": [
    {
     "name": "stdout",
     "output_type": "stream",
     "text": [
      "Observation channel numbers [   0    1    2 ..., 1021 1022 1023]\n"
     ]
    }
   ],
   "source": [
    "print 'Observation channel numbers', h5.channels"
   ]
  },
  {
   "cell_type": "code",
   "execution_count": 23,
   "metadata": {
    "collapsed": false
   },
   "outputs": [
    {
     "name": "stdout",
     "output_type": "stream",
     "text": [
      "Width per channel = 390625.00 Hz\n"
     ]
    }
   ],
   "source": [
    "print 'Width per channel = %.2f Hz' % h5.channel_width"
   ]
  },
  {
   "cell_type": "code",
   "execution_count": 24,
   "metadata": {
    "collapsed": false
   },
   "outputs": [
    {
     "name": "stdout",
     "output_type": "stream",
     "text": [
      "Channel frequencies [  1.46400000e+09   1.46360938e+09   1.46321875e+09 ...,   1.06517188e+09\n",
      "   1.06478125e+09   1.06439062e+09]\n"
     ]
    }
   ],
   "source": [
    "print 'Channel frequencies', h5.channel_freqs"
   ]
  },
  {
   "cell_type": "markdown",
   "metadata": {},
   "source": [
    "Display observation information per spectral window -- for c16n400M1k (wideband) there is normally only 1 spectral window with index 0"
   ]
  },
  {
   "cell_type": "code",
   "execution_count": 25,
   "metadata": {
    "collapsed": false
   },
   "outputs": [
    {
     "name": "stdout",
     "output_type": "stream",
     "text": [
      "[<katfile.SpectralWindow mode='c16n400M1k' centre=1264.000 MHz bandwidth=400.000 MHz channels=1024 at 0x3629590>, <katfile.SpectralWindow mode='c16n400M1k' centre=1392.000 MHz bandwidth=400.000 MHz channels=1024 at 0x3629390>, <katfile.SpectralWindow mode='c16n400M1k' centre=1520.000 MHz bandwidth=400.000 MHz channels=1024 at 0x36297d0>, <katfile.SpectralWindow mode='c16n400M1k' centre=1648.000 MHz bandwidth=400.000 MHz channels=1024 at 0x3629810>, <katfile.SpectralWindow mode='c16n400M1k' centre=1776.000 MHz bandwidth=400.000 MHz channels=1024 at 0x3629850>, <katfile.SpectralWindow mode='c16n400M1k' centre=1904.000 MHz bandwidth=400.000 MHz channels=1024 at 0x3629890>]\n",
      "Center frequency for spectral window = 1264000000.00 Hz\n"
     ]
    }
   ],
   "source": [
    "print h5.spectral_windows\n",
    "print 'Center frequency for spectral window = %.2f Hz' % h5.spectral_windows[0].centre_freq"
   ]
  },
  {
   "cell_type": "markdown",
   "metadata": {},
   "source": [
    "Extracting only selected channels of data for analysis"
   ]
  },
  {
   "cell_type": "code",
   "execution_count": 26,
   "metadata": {
    "collapsed": false
   },
   "outputs": [
    {
     "name": "stdout",
     "output_type": "stream",
     "text": [
      "===============================================================================\n",
      "Name: /var/kat/archive/data/comm/2013/03/08/1362743782.h5 (version 2.1)\n",
      "===============================================================================\n",
      "Observer: audrey  Experiment ID: 20130308-0005\n",
      "Description: 'new health'\n",
      "Observed from 2013-03-08 13:56:25.272 SAST to 2013-03-08 14:02:40.801 SAST\n",
      "Dump rate / period: 1.99984 Hz / 0.500 s\n",
      "Subarrays: 1\n",
      "  ID  Antennas                            Inputs  Corrprods\n",
      "   0  ant1,ant2,ant3,ant4,ant5,ant6,ant7  14      112\n",
      "Spectral Windows: 6\n",
      "  ID  Mode       CentreFreq(MHz)  Bandwidth(MHz)  Channels  ChannelWidth(kHz)\n",
      "   0  c16n400M1k  1264.000         400.000          1024      390.625\n",
      "   1  c16n400M1k  1392.000         400.000          1024      390.625\n",
      "   2  c16n400M1k  1520.000         400.000          1024      390.625\n",
      "   3  c16n400M1k  1648.000         400.000          1024      390.625\n",
      "   4  c16n400M1k  1776.000         400.000          1024      390.625\n",
      "   5  c16n400M1k  1904.000         400.000          1024      390.625\n",
      "-------------------------------------------------------------------------------\n",
      "Data selected according to the following criteria:\n",
      "  channels=slice(185, 839, None)\n",
      "  subarray=0\n",
      "  scans='track'\n",
      "  ants=['ant1', 'ant2', 'ant3', 'ant4', 'ant5', 'ant6', 'ant7']\n",
      "  spw=0\n",
      "-------------------------------------------------------------------------------\n",
      "Shape: (120 dumps, 654 channels, 112 correlation products) => Size: 70.318 MB\n",
      "Antennas: *ant1,ant2,ant3,ant4,ant5,ant6,ant7  Inputs: 14  Autocorr: yes  Crosscorr: yes\n",
      "Channels: 654 (index 185 - 838, 1391.734 MHz - 1136.656 MHz), each 390.625 kHz wide\n",
      "Targets: 1 selected out of 1 in catalogue\n",
      "  ID  Name                             Type      RA(J2000)     DEC(J2000)  Tags  Dumps  ModelFlux(Jy)\n",
      "   0  Ra: 0:00:00.00 Dec: -90:00:00.0  radec      0:00:00.00  -90:00:00.0          120  \n",
      "Scans: 1 selected out of 12 total       Compscans: 1 selected out of 1 total\n",
      "  Date        Timerange(UTC)       ScanState  CompScanLabel  Dumps  Target\n",
      "  08-Mar-2013/11:56:28 - 11:57:28    1:track    0:             120    0:Ra: 0:00:00.00 Dec: -90:00:00.0\n",
      "-------------------------------------------------------------------------------\n",
      "Process log:\n",
      "  RFIThreshold2:  axis=0   n_sigma=11.0   spike_width=6\n",
      "          Scale:  scale_factor=1.0\n",
      "       VanVleck:  accum_per_int=195328.0\n"
     ]
    }
   ],
   "source": [
    "ch = slice(len(h5.channels)/2 - int(len(h5.channels)*128e6/400e6),len(h5.channels)/2 + int(len(h5.channels)*128e6/400e6))\n",
    "h5.select(spw=0,scans='track',channels = ch)\n",
    "print h5"
   ]
  },
  {
   "cell_type": "code",
   "execution_count": null,
   "metadata": {
    "collapsed": false
   },
   "outputs": [],
   "source": []
  }
 ],
 "metadata": {
  "kernelspec": {
   "display_name": "Python 2",
   "language": "python",
   "name": "python2"
  },
  "language_info": {
   "codemirror_mode": {
    "name": "ipython",
    "version": 2
   },
   "file_extension": ".py",
   "mimetype": "text/x-python",
   "name": "python",
   "nbconvert_exporter": "python",
   "pygments_lexer": "ipython2",
   "version": "2.7.3"
  }
 },
 "nbformat": 4,
 "nbformat_minor": 0
}
