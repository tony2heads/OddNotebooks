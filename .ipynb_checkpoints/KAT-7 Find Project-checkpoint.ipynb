{
 "cells": [
  {
   "cell_type": "code",
   "execution_count": 11,
   "metadata": {
    "collapsed": false
   },
   "outputs": [],
   "source": [
    "import katarchive\n",
    "import datetime\n"
   ]
  },
  {
   "cell_type": "code",
   "execution_count": 12,
   "metadata": {
    "collapsed": false
   },
   "outputs": [],
   "source": [
    "def findproj(text):\n",
    "    chx=text.find('--pro')  # matches 'project-id and proposal-id'\n",
    "    if chx >0  :\n",
    "        pr2=text[chx+13:chx+40].split()\n",
    "        code=pr2[0]\n",
    "        found=code.replace(\"=\",\"\")\n",
    "    else:\n",
    "        found='Unknown'\n",
    "    return found\n"
   ]
  },
  {
   "cell_type": "code",
   "execution_count": 13,
   "metadata": {
    "collapsed": true
   },
   "outputs": [],
   "source": [
    "def findh5(des):\n",
    "    pos=des.find(\"Name:\")\n",
    "    if pos >0  :\n",
    "        pr2=des[pos+37:pos+53].split()\n",
    "        h5name=pr2[0].lstrip(\"/ng\")\n",
    "        \n",
    "    #print pr2\n",
    "    return h5name"
   ]
  },
  {
   "cell_type": "markdown",
   "metadata": {},
   "source": [
    "# Project given in project name"
   ]
  },
  {
   "cell_type": "code",
   "execution_count": 14,
   "metadata": {
    "collapsed": false
   },
   "outputs": [],
   "source": [
    "begindate=\"01/01/2014\"\n",
    "#projectname=\"20150825LR-01\" # just an example\n",
    "projectname=\"20140513DL-01\"\n",
    "#lastday=\"31/03/2016\"  # Note - 2016 was a leap year\n",
    "lastday=\"09/05/2016\""
   ]
  },
  {
   "cell_type": "code",
   "execution_count": 15,
   "metadata": {
    "collapsed": false
   },
   "outputs": [],
   "source": [
    "#print katarchive.search_archive(startdate=begindate,enddate=end)\n"
   ]
  },
  {
   "cell_type": "code",
   "execution_count": 16,
   "metadata": {
    "collapsed": false
   },
   "outputs": [
    {
     "name": "stdout",
     "output_type": "stream",
     "text": [
      "Searched using: CAS.ProductTypeName:(KatFile) AND CAS.ProductTransferStatus:RECEIVED AND StartTime:[2013-12-31T22:00:00Z TO 2016-05-09T21:59:59Z]\n",
      "Returning 10000 results\n"
     ]
    }
   ],
   "source": [
    "f = katarchive.search_archive(startdate=begindate,enddate=lastday)\n",
    "start = datetime.datetime.strptime(f[-1].__str__().split('\\'')[3],'%Y-%m-%d %H:%M:%S %Z')\n",
    "lastday = datetime.datetime.strptime(f[0].__str__().split('\\'')[3],'%Y-%m-%d %H:%M:%S %Z')"
   ]
  },
  {
   "cell_type": "code",
   "execution_count": 17,
   "metadata": {
    "collapsed": false
   },
   "outputs": [
    {
     "name": "stdout",
     "output_type": "stream",
     "text": [
      "First file in run:  2014-01-15T17:02:45\n",
      "Last file in run:  2016-05-09T08:45:25\n"
     ]
    }
   ],
   "source": [
    "print 'First file in run: ' , start.isoformat()\n",
    "print 'Last file in run: ' , lastday.isoformat()"
   ]
  },
  {
   "cell_type": "code",
   "execution_count": 18,
   "metadata": {
    "collapsed": true
   },
   "outputs": [],
   "source": [
    "f.sort(key=lambda k: k.metadata.StartTime) #Sort in ascending time"
   ]
  },
  {
   "cell_type": "code",
   "execution_count": 19,
   "metadata": {
    "collapsed": false
   },
   "outputs": [
    {
     "name": "stdout",
     "output_type": "stream",
     "text": [
      "20140513DL-01 9.03 GC Night 00 14/06/02 7 antennas 1401733808.h5\n",
      "20140513DL-01 9.4 GC Night 01 14/06/08 7 antennas 1402249205.h5\n",
      "20140513DL-01 0.1 GC Night 01 14/06/09 7 antennas 1402283532.h5\n",
      "20140513DL-01 9.56 GC Night 01 14/06/10 7 antennas 1402422981.h5\n",
      "20140513DL-01 9.05 GC Night 02 14/06/17 7 antennas 1403024408.h5\n",
      "20140513DL-01 9.12 GC Night 03 14/07/08 7 antennas 1404837326.h5\n",
      "20140513DL-01 9.23 GC Night 04 14/07/11 7 antennas 1405096750.h5\n",
      "20140513DL-01 9.66 GC Night 05 14/07/18 7 antennas 1405693387.h5\n",
      "20140513DL-01 9.43 GC Night 06 14/07/20 7 antennas 1405871107.h5\n",
      "20140513DL-01 9.08 GC Night 07 14/08/30 7 antennas 1409400908.h5\n",
      "20140513DL-01 0.02 GC Night 08 14/09/18 7 antennas 1411042889.h5\n",
      "20140513DL-01 0.05 GC Night 08 14/09/18 7 antennas 1411053436.h5\n",
      "20140513DL-01 6.13 GC Night 08 14/09/18 7 antennas 1411054121.h5\n",
      "20140513DL-01 9.11 GC Night 09 14/12/06 7 antennas 1417845621.h5\n",
      "20140513DL-01 2.63 GC Night 09 14/12/19 7 antennas 1418964810.h5\n",
      "20140513DL-01 9.41 GC Night 11 15/04/04 7 antennas 1428186684.h5\n",
      "20140513DL-01 9.04 GC Night 13 15/06/15 6 antennas 1434388265.h5\n",
      "20140513DL-01 9.11 GC Night 10 16/05/07 6 antennas 1462649449.h5\n",
      "20140513DL-01 9.07 GC Night 12 16/05/08 6 antennas 1462735748.h5\n",
      "Total 138.23 Hours\n"
     ]
    }
   ],
   "source": [
    "total=0.0\n",
    "for fi in f:\n",
    "    txts=fi.metadata.InstructionSet\n",
    "    p=findproj(txts)\n",
    "    des=fi.metadata.Details\n",
    "    nn=findh5(des)\n",
    "    #print p\n",
    "    if  projectname in p:  # Does it match the project name\n",
    "        #print \"Found\",p,\"=======================\"\n",
    "        total=total+fi.metadata.Duration\n",
    "        print p, round(fi.metadata.Duration/3600.,2), fi.metadata.Description, fi.metadata.FileLocation[-8:],\n",
    "        print len(fi.metadata.Antennas) , \"antennas\",nn\n",
    "        \n",
    "print \"Total\",round(total/3600.,2), \"Hours\"\n"
   ]
  }
 ],
 "metadata": {
  "kernelspec": {
   "display_name": "Python 2",
   "language": "python",
   "name": "python2"
  },
  "language_info": {
   "codemirror_mode": {
    "name": "ipython",
    "version": 2
   },
   "file_extension": ".py",
   "mimetype": "text/x-python",
   "name": "python",
   "nbconvert_exporter": "python",
   "pygments_lexer": "ipython2",
   "version": "2.7.6"
  }
 },
 "nbformat": 4,
 "nbformat_minor": 0
}
