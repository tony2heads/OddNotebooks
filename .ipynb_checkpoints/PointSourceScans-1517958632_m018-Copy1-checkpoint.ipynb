{
 "cells": [
  {
   "cell_type": "code",
   "execution_count": null,
   "metadata": {},
   "outputs": [],
   "source": [
    "%matplotlib notebook\n",
    "from Tkinter import *\n",
    "%gui inline"
   ]
  },
  {
   "cell_type": "code",
   "execution_count": null,
   "metadata": {
    "scrolled": true
   },
   "outputs": [],
   "source": [
    "from katsdpscripts.reduction.analyse_point_source_scans import analyse_point_source_scans"
   ]
  },
  {
   "cell_type": "code",
   "execution_count": null,
   "metadata": {
    "collapsed": true
   },
   "outputs": [],
   "source": [
    "class my_opts:\n",
    "    def __init__(self, **kwds):\n",
    "        self.__dict__.update(kwds)"
   ]
  },
  {
   "cell_type": "markdown",
   "metadata": {},
   "source": [
    "# Antennas used\n",
    "## m018, with 1 second dump time"
   ]
  },
  {
   "cell_type": "code",
   "execution_count": null,
   "metadata": {
    "collapsed": true
   },
   "outputs": [],
   "source": [
    "h5name='/var/kat/archive3/data/MeerKATAR1/telescope_products/2018/02/06/1517958632.h5'\n",
    "#cleanchans=\"2703,2914\""
   ]
  },
  {
   "cell_type": "code",
   "execution_count": null,
   "metadata": {
    "scrolled": false
   },
   "outputs": [],
   "source": [
    "baseline='m018'\n",
    "opts = my_opts(outfilebase='1517958632_m018', keepfilename=None, baseline=baseline, mc_iterations=1, \\\n",
    "freq_centre=1284.0, freq_chans=\"200,4000\",\\\n",
    "time_offset=0.0, pointing_model=None, old_loader=None, nd_models=None, \\\n",
    "ku_band=False, channel_mask='/var/kat/katsdpscripts/RTS/rfi_mask.pickle',keep_all=True,remove_spikes=False,batch=False,plot_spectrum=True)\n",
    "\n",
    "analyse_point_source_scans(h5name,opts)\n",
    "print \"Done\",baseline\n",
    "    "
   ]
  },
  {
   "cell_type": "code",
   "execution_count": null,
   "metadata": {},
   "outputs": [],
   "source": []
  }
 ],
 "metadata": {
  "kernelspec": {
   "display_name": "Python 2",
   "language": "python",
   "name": "python2"
  },
  "language_info": {
   "codemirror_mode": {
    "name": "ipython",
    "version": 2
   },
   "file_extension": ".py",
   "mimetype": "text/x-python",
   "name": "python",
   "nbconvert_exporter": "python",
   "pygments_lexer": "ipython2",
   "version": "2.7.17"
  }
 },
 "nbformat": 4,
 "nbformat_minor": 1
}
