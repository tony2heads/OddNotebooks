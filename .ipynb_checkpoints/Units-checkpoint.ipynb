{
 "cells": [
  {
   "cell_type": "code",
   "execution_count": 5,
   "metadata": {
    "collapsed": false
   },
   "outputs": [],
   "source": [
    "from __future__ import print_function"
   ]
  },
  {
   "cell_type": "markdown",
   "metadata": {},
   "source": [
    "Units\n",
    "=====\n",
    "\n",
    "Astropy has an impressive suite of unit conversion utilities."
   ]
  },
  {
   "cell_type": "code",
   "execution_count": 6,
   "metadata": {
    "collapsed": false
   },
   "outputs": [],
   "source": [
    "from astropy import units as u\n",
    "import numpy as np"
   ]
  },
  {
   "cell_type": "markdown",
   "metadata": {},
   "source": [
    "A number with units can be declared by multiplying a number by a unit:"
   ]
  },
  {
   "cell_type": "code",
   "execution_count": 7,
   "metadata": {
    "collapsed": false
   },
   "outputs": [
    {
     "name": "stdout",
     "output_type": "stream",
     "text": [
      "2.0 m\n"
     ]
    }
   ],
   "source": [
    "height = 2*u.m\n",
    "print(height)"
   ]
  },
  {
   "cell_type": "markdown",
   "metadata": {},
   "source": [
    "The same can be done with arrays:"
   ]
  },
  {
   "cell_type": "code",
   "execution_count": 8,
   "metadata": {
    "collapsed": false
   },
   "outputs": [
    {
     "name": "stdout",
     "output_type": "stream",
     "text": [
      "[ 1.   1.5  2.   2.5] m\n"
     ]
    }
   ],
   "source": [
    "heights = np.array([1,1.5,2.,2.5])*u.m\n",
    "print(heights)"
   ]
  },
  {
   "cell_type": "markdown",
   "metadata": {},
   "source": [
    "These units can easily be converted to other equivalent units:"
   ]
  },
  {
   "cell_type": "code",
   "execution_count": 9,
   "metadata": {
    "collapsed": false
   },
   "outputs": [
    {
     "name": "stdout",
     "output_type": "stream",
     "text": [
      "200.0 cm\n",
      "[  3.24077929e-23   4.86116893e-23   6.48155858e-23   8.10194822e-23] Mpc\n"
     ]
    }
   ],
   "source": [
    "print(height.to(u.cm))\n",
    "print(heights.to(u.Mpc))"
   ]
  },
  {
   "cell_type": "markdown",
   "metadata": {},
   "source": [
    "Similarly, one can create composite units by multiplying them:"
   ]
  },
  {
   "cell_type": "code",
   "execution_count": 10,
   "metadata": {
    "collapsed": false
   },
   "outputs": [
    {
     "name": "stdout",
     "output_type": "stream",
     "text": [
      "2.0 km / s\n",
      "200000.0 cm / s\n"
     ]
    }
   ],
   "source": [
    "speed = 2 * u.km/u.s\n",
    "print(speed)\n",
    "print(speed.to(u.cm/u.s))"
   ]
  },
  {
   "cell_type": "markdown",
   "metadata": {},
   "source": [
    "Units can also be represented as strings as long as the strings are unambiguous:"
   ]
  },
  {
   "cell_type": "code",
   "execution_count": 11,
   "metadata": {
    "collapsed": false
   },
   "outputs": [
    {
     "name": "stdout",
     "output_type": "stream",
     "text": [
      "5.0 pc / s\n",
      "200000.0 cm / s\n"
     ]
    }
   ],
   "source": [
    "faster_speed = 5 * u.Unit('pc/s')\n",
    "print(faster_speed)\n",
    "print(speed.to('cm/s'))"
   ]
  },
  {
   "cell_type": "markdown",
   "metadata": {},
   "source": [
    "These values have different units, but they can still be compared directly:"
   ]
  },
  {
   "cell_type": "code",
   "execution_count": 12,
   "metadata": {
    "collapsed": false
   },
   "outputs": [
    {
     "name": "stdout",
     "output_type": "stream",
     "text": [
      "2.0 km / s\n",
      "5.0 pc / s\n",
      "True\n"
     ]
    }
   ],
   "source": [
    "print(speed)\n",
    "print(faster_speed)\n",
    "print(faster_speed>speed)"
   ]
  },
  {
   "cell_type": "markdown",
   "metadata": {},
   "source": [
    "## Equivalencies"
   ]
  },
  {
   "cell_type": "markdown",
   "metadata": {},
   "source": [
    "There are some very useful equivalencies defined.  Equivalencies tell astropy how units that are not directly equivalent can be converted.  For example, wavelength and frequency of light are equivalent."
   ]
  },
  {
   "cell_type": "code",
   "execution_count": 13,
   "metadata": {
    "collapsed": false
   },
   "outputs": [
    {
     "data": {
      "text/latex": [
       "$456791.8 \\; \\mathrm{GHz}$"
      ],
      "text/plain": [
       "<Quantity 456791.79948194424 GHz>"
      ]
     },
     "execution_count": 13,
     "metadata": {},
     "output_type": "execute_result"
    }
   ],
   "source": [
    "wavelength = 6563*u.angstrom\n",
    "wavelength.to(u.GHz, equivalencies=u.spectral())"
   ]
  },
  {
   "cell_type": "markdown",
   "metadata": {},
   "source": [
    "Converting between wavelength or frequency and velocity is also straightforward, requiring only a reference frequency:"
   ]
  },
  {
   "cell_type": "code",
   "execution_count": 14,
   "metadata": {
    "collapsed": false
   },
   "outputs": [
    {
     "data": {
      "text/latex": [
       "$9.1361144 \\; \\mathrm{\\frac{km}{s}}$"
      ],
      "text/plain": [
       "<Quantity 9.136114402368305 km / s>"
      ]
     },
     "execution_count": 14,
     "metadata": {},
     "output_type": "execute_result"
    }
   ],
   "source": [
    "rest_wavelength = 6562.8*u.angstrom\n",
    "velocity = wavelength.to(u.km/u.s, equivalencies=u.doppler_optical(rest_wavelength))\n",
    "velocity"
   ]
  },
  {
   "cell_type": "code",
   "execution_count": 19,
   "metadata": {
    "collapsed": false
   },
   "outputs": [
    {
     "data": {
      "text/latex": [
       "$17.329044 \\; \\mathrm{cm}$"
      ],
      "text/plain": [
       "<Quantity 17.329043815028903 cm>"
      ]
     },
     "execution_count": 19,
     "metadata": {},
     "output_type": "execute_result"
    }
   ],
   "source": [
    "freq=1.73*u.GHz\n",
    "freq.to(u.cm, equivalencies=u.spectral())"
   ]
  }
 ],
 "metadata": {
  "kernelspec": {
   "display_name": "Python 2",
   "language": "python",
   "name": "python2"
  },
  "language_info": {
   "codemirror_mode": {
    "name": "ipython",
    "version": 2
   },
   "file_extension": ".py",
   "mimetype": "text/x-python",
   "name": "python",
   "nbconvert_exporter": "python",
   "pygments_lexer": "ipython2",
   "version": "2.7.6"
  }
 },
 "nbformat": 4,
 "nbformat_minor": 0
}
