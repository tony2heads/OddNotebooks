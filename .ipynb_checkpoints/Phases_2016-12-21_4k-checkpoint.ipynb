{
 "cells": [
  {
   "cell_type": "code",
   "execution_count": 1,
   "metadata": {
    "collapsed": true
   },
   "outputs": [],
   "source": [
    "import katdal\n",
    "import numpy as np\n",
    "import pickle"
   ]
  },
  {
   "cell_type": "code",
   "execution_count": 2,
   "metadata": {
    "collapsed": true
   },
   "outputs": [],
   "source": [
    "np.set_printoptions(precision=1,suppress=True)"
   ]
  },
  {
   "cell_type": "code",
   "execution_count": 3,
   "metadata": {
    "collapsed": true
   },
   "outputs": [],
   "source": [
    "def target(h):\n",
    "    h.catalogue.remove('Nothing')\n",
    "    if len(h.catalogue) >0 :\n",
    "        tgt=str(h.catalogue.targets[0])[0:12]\n",
    "    else:\n",
    "        tgt=\"Nothing:Bad DATA\"\n",
    "    return tgt"
   ]
  },
  {
   "cell_type": "code",
   "execution_count": 4,
   "metadata": {
    "collapsed": true
   },
   "outputs": [],
   "source": [
    "def get_ants(h):\n",
    "    a_list=[]\n",
    "    aa=h.file['TelescopeState']['cal_antlist']\n",
    "    for i,ai in enumerate(aa):\n",
    "        a_list.append(pickle.loads(ai[1]))\n",
    "    a_array=np.array(a_list)\n",
    "    labels=a_array[0]\n",
    "    return labels"
   ]
  },
  {
   "cell_type": "code",
   "execution_count": 5,
   "metadata": {
    "collapsed": true
   },
   "outputs": [],
   "source": [
    "def phases(h):\n",
    "    g = h.file['TelescopeState']['cal_product_G']\n",
    "    g_list = []\n",
    "    for i, gi in enumerate(g):\n",
    "        g_list.append(pickle.loads(gi[1]))\n",
    "    g_array = np.array(g_list)\n",
    "    HH=g_array[:,0,:]\n",
    "    VV=g_array[:,1,:]\n",
    "    HHbefore=np.rad2deg(np.angle(HH)[0])\n",
    "    HHafter=np.rad2deg(np.angle(HH)[-1])\n",
    "    VVbefore=np.rad2deg(np.angle(VV)[0])\n",
    "    VVafter=np.rad2deg(np.angle(VV)[-1])\n",
    "    return HHbefore, HHafter,VVbefore,VVafter"
   ]
  },
  {
   "cell_type": "code",
   "execution_count": 6,
   "metadata": {
    "collapsed": true
   },
   "outputs": [],
   "source": [
    "files=['/var/kat/archive2/data/MeerKATAR1/telescope_products/2016/12/21/1482329065.h5',\\\n",
    "      '/var/kat/archive2/data/MeerKATAR1/telescope_products/2016/12/21/1482330032.h5',\\\n",
    "      '/var/kat/archive2/data/MeerKATAR1/telescope_products/2016/12/21/1482359330.h5',\\\n",
    "      '/var/kat/archive2/data/MeerKATAR1/telescope_products/2016/12/22/1482393086.h5']"
   ]
  },
  {
   "cell_type": "code",
   "execution_count": 7,
   "metadata": {
    "collapsed": false
   },
   "outputs": [
    {
     "name": "stdout",
     "output_type": "stream",
     "text": [
      "1482329065 PKS 1934-63 \n",
      "['m003' 'm006' 'm008' 'm010' 'm014' 'm015' 'm021' 'm022' 'm025' 'm031'\n",
      " 'm062' 'm063']\n",
      "[ 4.   4.5  7.8  7.3  7.5  8.3  9.   7.8 -0.   3.6  8.8  7.1] \n",
      "[ 18.   15.9  18.9  17.6  10.   16.1  15.3  15.    0.    5.2   7.7  19.2] \n",
      "\n",
      "[ 10.6   9.7   6.8   4.4   9.9   9.5  15.4  10.1   0.    3.9   8.8  11.3] \n",
      "[ 19.6  14.4  24.6  -0.3  14.8   5.9  14.   37.7  -0.    3.8 -10.8  -8.5]\n",
      "1482330032 PKS 1934-63 \n",
      "['m003' 'm006' 'm008' 'm010' 'm014' 'm015' 'm021' 'm022' 'm025' 'm031'\n",
      " 'm062' 'm063']\n",
      "[ 4.   4.5  7.8  7.3  7.5  8.3  9.   7.8 -0.   3.6  8.8  7.1] \n",
      "[  90.    59.7  136.4   75.1  148.3   75.   122.    72.9   -0.    -8.6\n",
      "  112.    74.8] \n",
      "\n",
      "[ 10.6   9.7   6.8   4.4   9.9   9.5  15.4  10.1   0.    3.9   8.8  11.3] \n",
      "[ 127.8   41.8  107.2   87.9   83.5   56.5  104.8   52.9   -0.    43.3\n",
      "   51.6   84.3]\n",
      "1482359330 PKS 0408-65 \n",
      "['m003' 'm006' 'm008' 'm010' 'm014' 'm015' 'm021' 'm022' 'm025' 'm031'\n",
      " 'm062' 'm063']\n",
      "[ 4.   4.5  7.8  7.3  7.5  8.3  9.   7.8 -0.   3.6  8.8  7.1] \n",
      "[ 14.1  14.   19.2  19.   29.1  14.4   8.    1.9   0.   30.   22.8  -3.3] \n",
      "\n",
      "[ 10.6   9.7   6.8   4.4   9.9   9.5  15.4  10.1   0.    3.9   8.8  11.3] \n",
      "[  2.9  -4.6  16.5  12.7  15.7   0.9  -0.6  -6.3   0.   12.1  17.3   4.1]\n",
      "1482393086 PKS 1934-63 \n",
      "['m003' 'm006' 'm008' 'm010' 'm014' 'm015' 'm021' 'm022' 'm025' 'm031'\n",
      " 'm062' 'm063']\n",
      "[ 4.   4.5  7.8  7.3  7.5  8.3  9.   7.8 -0.   3.6  8.8  7.1] \n",
      "[ 15.   13.4   8.6  14.2   9.8  14.   13.3   6.8  -0.    9.9  10.8   9.7] \n",
      "\n",
      "[ 10.6   9.7   6.8   4.4   9.9   9.5  15.4  10.1   0.    3.9   8.8  11.3] \n",
      "[ 15.8   7.5   4.3  13.1   7.4  12.6   7.4   2.8   0.   10.3   5.    6. ]\n"
     ]
    }
   ],
   "source": [
    "for f in files:\n",
    "    h=katdal.open(f)\n",
    "    p=phases(h)\n",
    "    print f[-13:-3], target(h)\n",
    "    print get_ants(h)\n",
    "    print p[0],\"\\n\",p[1],\"\\n\\n\",p[2],\"\\n\",p[3]\n",
    "    "
   ]
  }
 ],
 "metadata": {
  "kernelspec": {
   "display_name": "Python 2",
   "language": "python",
   "name": "python2"
  },
  "language_info": {
   "codemirror_mode": {
    "name": "ipython",
    "version": 2
   },
   "file_extension": ".py",
   "mimetype": "text/x-python",
   "name": "python",
   "nbconvert_exporter": "python",
   "pygments_lexer": "ipython2",
   "version": "2.7.6"
  }
 },
 "nbformat": 4,
 "nbformat_minor": 0
}
