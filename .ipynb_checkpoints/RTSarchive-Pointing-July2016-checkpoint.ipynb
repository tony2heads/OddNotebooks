{
 "cells": [
  {
   "cell_type": "code",
   "execution_count": 1,
   "metadata": {
    "collapsed": false
   },
   "outputs": [],
   "source": [
    "import katarchive\n",
    "import datetime\n"
   ]
  },
  {
   "cell_type": "code",
   "execution_count": 2,
   "metadata": {
    "collapsed": true
   },
   "outputs": [],
   "source": [
    "katarchive.product_filter.only_rts()"
   ]
  },
  {
   "cell_type": "code",
   "execution_count": 3,
   "metadata": {
    "collapsed": false
   },
   "outputs": [],
   "source": [
    "def findh5(det):   # uses detail list to get h5 name\n",
    "    pos=det.find(\"Name:\")\n",
    "    if pos >0  :\n",
    "        pr2=det[pos+37:pos+53].split()\n",
    "        h5name=pr2[0].lstrip(\"/ng\")\n",
    "    return h5name"
   ]
  },
  {
   "cell_type": "code",
   "execution_count": 4,
   "metadata": {
    "collapsed": false
   },
   "outputs": [],
   "source": [
    "def listpr(x):\n",
    "    \"\"\"\n",
    "    takes a list and prints as string\n",
    "    \"\"\"\n",
    "    li=\" \".join(map(str,x))\n",
    "    return li"
   ]
  },
  {
   "cell_type": "code",
   "execution_count": 5,
   "metadata": {
    "collapsed": true
   },
   "outputs": [],
   "source": [
    "start=\"1/07/2016\"\n",
    "end=\"31/07/2016\" "
   ]
  },
  {
   "cell_type": "code",
   "execution_count": 6,
   "metadata": {
    "collapsed": false
   },
   "outputs": [
    {
     "name": "stdout",
     "output_type": "stream",
     "text": [
      "Searched using: CAS.ProductTypeName:(RTSTelescopeProduct) AND CAS.ProductTransferStatus:RECEIVED AND Description:Point AND StartTime:[2016-06-30T22:00:00Z TO 2016-07-31T21:59:59Z]\n",
      "Returning 1 results\n"
     ]
    }
   ],
   "source": [
    "#Look for pointing\n",
    "\n",
    "f=katarchive.search_archive(description=\"Point\",startdate=start,enddate=end)\n",
    "\n",
    "#start = datetime.datetime.strptime(f[-1].__str__().split('\\'')[3],'%Y-%m-%d %H:%M:%S %Z')\n",
    "#end = datetime.datetime.strptime(f[0].__str__().split('\\'')[3],'%Y-%m-%d %H:%M:%S %Z')"
   ]
  },
  {
   "cell_type": "code",
   "execution_count": 7,
   "metadata": {
    "collapsed": true
   },
   "outputs": [],
   "source": [
    "f.sort(key=lambda k: k.metadata.StartTime)"
   ]
  },
  {
   "cell_type": "code",
   "execution_count": 8,
   "metadata": {
    "collapsed": false
   },
   "outputs": [
    {
     "name": "stdout",
     "output_type": "stream",
     "text": [
      "RTS: 2.7 Ku-band Pointing\n",
      "m021 m022\n",
      "/var/kat/archive/data/RTS/telescope_products/2016/07/06 1467813537.h5\n",
      "/home/kat/RTS/2.7-Pointing/point_source_scan.py /home/kat/RTS/sources_pnt_Ku.csv -f 12500.5 -r 1 -n off -m 62000 --fine --product=c856M4k --horizon=16 --proposal-id=COMM-RTS --sb-id-code=20160706-0009 --description=RTS: 2.7 Ku-band Pointing --observer=RTS \n",
      "\n",
      "1334-127 NRAO5 2E1720 1830-210 0420-014 1741-038 NGC6328 0454-463 OI-147 0451-282 1730-130 2E820 1613-586 1055 018 1421-490 1920-211 1908-201 3C279 4C01.02 2326-477 3C273 1622-253 2052-474 2355-534 3C454.3 2E3390 WMAP16 4C11.69 2E3408 3C286 3C120 1127-145 OV236 2E1203 2E1608 4C-02.81 0454-234 4C05.64 4C09.57 2E4542 0208-512 OJ287 0648-165 WMAP12 4C06.69 1954-388\n",
      "........................................................................................\n"
     ]
    }
   ],
   "source": [
    "for fi in f:\n",
    "    print fi.metadata.Description\n",
    "    print listpr(fi.metadata.Antennas)\n",
    "    print fi.metadata.FileLocation, findh5(fi.metadata.Details)\n",
    "    print fi.metadata.InstructionSet,\"\\n\"\n",
    "    print listpr(fi.metadata.Targets)\n",
    "    print \".\"*88\n",
    "    "
   ]
  },
  {
   "cell_type": "code",
   "execution_count": 9,
   "metadata": {
    "collapsed": false
   },
   "outputs": [
    {
     "data": {
      "text/plain": [
       "[['1467813537.h5', '2016-07-06 15:58:57 SAST', 'RTS', 27772379371]]"
      ]
     },
     "execution_count": 9,
     "metadata": {},
     "output_type": "execute_result"
    }
   ],
   "source": [
    "f"
   ]
  },
  {
   "cell_type": "code",
   "execution_count": 10,
   "metadata": {
    "collapsed": false
   },
   "outputs": [
    {
     "name": "stdout",
     "output_type": "stream",
     "text": [
      "06 1467813537.h5 RTS: 2.7 Ku-band Pointing m021 m022\n"
     ]
    }
   ],
   "source": [
    "for fi in f:\n",
    "    x= repr(fi)\n",
    "    pr=x.split(\",\")\n",
    "    print pr[1][10:12],findh5(fi.metadata.Details) , fi.metadata.Description, listpr(fi.metadata.Antennas)"
   ]
  },
  {
   "cell_type": "code",
   "execution_count": 11,
   "metadata": {
    "collapsed": false
   },
   "outputs": [
    {
     "name": "stdout",
     "output_type": "stream",
     "text": [
      "Searched using: CAS.ProductTypeName:(RTSTelescopeProduct) AND CAS.ProductTransferStatus:RECEIVED AND Description:Interferometric_Pointing AND StartTime:[2016-06-30T22:00:00Z TO 2016-07-31T21:59:59Z]\n",
      "Returning 0 results\n"
     ]
    },
    {
     "data": {
      "text/plain": [
       "[]"
      ]
     },
     "execution_count": 11,
     "metadata": {},
     "output_type": "execute_result"
    }
   ],
   "source": [
    "\n",
    "f2=katarchive.search_archive(description=\"Interferometric_Pointing\",startdate=start,enddate=end)\n",
    "\n",
    "f2.sort(key=lambda k: k.metadata.StartTime)\n",
    "f2"
   ]
  },
  {
   "cell_type": "code",
   "execution_count": 12,
   "metadata": {
    "collapsed": false
   },
   "outputs": [],
   "source": [
    "for fi in f2:\n",
    "    print fi.metadata.Description\n",
    "    print listpr(fi.metadata.Antennas)\n",
    "    print fi.metadata.FileLocation, findh5(fi.metadata.Details)\n",
    "    print fi.metadata.InstructionSet,\"\\n\"\n",
    "    print listpr(fi.metadata.Targets)\n",
    "    print \".\"*88"
   ]
  },
  {
   "cell_type": "code",
   "execution_count": 13,
   "metadata": {
    "collapsed": false,
    "scrolled": true
   },
   "outputs": [
    {
     "data": {
      "text/plain": [
       "[]"
      ]
     },
     "execution_count": 13,
     "metadata": {},
     "output_type": "execute_result"
    }
   ],
   "source": [
    "f2.sort(key=lambda k: k.metadata.StartTime)\n",
    "f2"
   ]
  },
  {
   "cell_type": "code",
   "execution_count": 14,
   "metadata": {
    "collapsed": false
   },
   "outputs": [],
   "source": [
    "for fi in f2:\n",
    "    x= repr(fi)\n",
    "    pr=x.split(\",\")\n",
    "    print pr[1][10:12],findh5(fi.metadata.Details),fi.metadata.Description,listpr(fi.metadata.Antennas)"
   ]
  }
 ],
 "metadata": {
  "kernelspec": {
   "display_name": "Python 2",
   "language": "python",
   "name": "python2"
  },
  "language_info": {
   "codemirror_mode": {
    "name": "ipython",
    "version": 2
   },
   "file_extension": ".py",
   "mimetype": "text/x-python",
   "name": "python",
   "nbconvert_exporter": "python",
   "pygments_lexer": "ipython2",
   "version": "2.7.6"
  }
 },
 "nbformat": 4,
 "nbformat_minor": 0
}
