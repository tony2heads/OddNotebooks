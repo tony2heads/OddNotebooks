{
 "cells": [
  {
   "cell_type": "code",
   "execution_count": 1,
   "metadata": {
    "collapsed": false
   },
   "outputs": [],
   "source": [
    "#%matplotlib inline\n",
    "import numpy as np"
   ]
  },
  {
   "cell_type": "code",
   "execution_count": 2,
   "metadata": {
    "collapsed": true
   },
   "outputs": [],
   "source": [
    "#import matplotlib.pyplot as plt"
   ]
  },
  {
   "cell_type": "code",
   "execution_count": 3,
   "metadata": {
    "collapsed": false
   },
   "outputs": [],
   "source": [
    "import katarchive\n",
    "\n",
    "import datetime\n",
    "\n",
    "import logging\n",
    "logging.root.setLevel(logging.ERROR)\n"
   ]
  },
  {
   "cell_type": "code",
   "execution_count": 4,
   "metadata": {
    "collapsed": false
   },
   "outputs": [],
   "source": [
    "katarchive.product_filter.only_ar1()\n",
    "\n",
    "begin=\"01/01/2017\"\n",
    "end=\"31/01/2017\"  # Last run on 23rd Jan\n"
   ]
  },
  {
   "cell_type": "code",
   "execution_count": 5,
   "metadata": {
    "collapsed": false
   },
   "outputs": [],
   "source": [
    "Outfile=open('Jan_Phaseups.txt', 'w')"
   ]
  },
  {
   "cell_type": "code",
   "execution_count": 6,
   "metadata": {
    "collapsed": false
   },
   "outputs": [],
   "source": [
    "def channels(details):\n",
    "    ch32k=\"32768\"\n",
    "    mode=\"4k\" # default\n",
    "    if ch32k in details:\n",
    "        mode=\"32k\"\n",
    "    return mode\n"
   ]
  },
  {
   "cell_type": "code",
   "execution_count": 7,
   "metadata": {
    "collapsed": false
   },
   "outputs": [
    {
     "name": "stdout",
     "output_type": "stream",
     "text": [
      "Searched using: CAS.ProductTypeName:(MeerKATAR1TelescopeProduct) AND CAS.ProductTransferStatus:RECEIVED AND Description:Phaseup AND StartTime:[2016-12-31T22:00:00Z TO 2017-01-31T21:59:59Z]\n",
      "Returning 90 results\n",
      "[['1485157053.h5', '2017-01-23 09:37:34 SAST', 'KB', 401903955], ['1485151992.h5', '2017-01-23 08:13:46 SAST', 'KB', 441954750], ['1485077120.h5', '2017-01-22 11:25:20 SAST', 'AR1', 743468170], ['1485009587.h5', '2017-01-21 16:39:48 SAST', 'KB', 842717324], ['1485008689.h5', '2017-01-21 16:25:33 SAST', 'KB', 478657099], ['1484996150.h5', '2017-01-21 12:55:51 SAST', 'AR1', 935220721], ['1484934307.h5', '2017-01-20 19:45:09 SAST', 'Simphiwe', 719090634], ['1484932819.h5', '2017-01-20 19:20:21 SAST', 'Simphiwe', 734180503], ['1484921947.h5', '2017-01-20 16:19:07 SAST', 'Simphiwe', 7642718452], ['1484920991.h5', '2017-01-20 16:03:13 SAST', 'Simphiwe', 824777863], ['1484919613.h5', '2017-01-20 15:40:14 SAST', 'Simphiwe', 755513801], ['1484919292.h5', '2017-01-20 15:38:33 SAST', 'Simphiwe', 34217282], ['1484911510.h5', '2017-01-20 13:25:19 SAST', 'Simphiwe', 8902118181], ['1484910689.h5', '2017-01-20 13:11:40 SAST', 'Simphiwe', 9205603760], ['1484909143.h5', '2017-01-20 12:45:44 SAST', 'KB', 695366883], ['1484890970.h5', '2017-01-20 07:42:50 SAST', 'AR1', 665002581], ['1484835566.h5', '2017-01-19 16:19:27 SAST', 'Simphiwe', 127054593], ['1484835084.h5', '2017-01-19 16:11:25 SAST', 'Simphiwe', 122654218], ['1484834694.h5', '2017-01-19 16:04:55 SAST', 'Simphiwe', 118295839], ['1484834259.h5', '2017-01-19 15:57:39 SAST', 'Simphiwe', 116292298], ['1484775906.h5', '2017-01-18 23:45:06 SAST', 'Simphiwe', 986966725], ['1484765697.h5', '2017-01-18 20:54:58 SAST', 'Simphiwe', 768821130], ['1484765295.h5', '2017-01-18 20:49:11 SAST', 'Simphiwe', 711153881], ['1484737655.h5', '2017-01-18 13:07:39 SAST', 'Tiyani', 11005656471], ['1484737275.h5', '2017-01-18 13:03:20 SAST', 'Tiyani', 3828385775], ['1484721171.h5', '2017-01-18 08:32:55 SAST', 'Tiyani', 1347275649], ['1484694008.h5', '2017-01-18 01:00:10 SAST', 'AR1', 1128927915], ['1484686787.h5', '2017-01-17 22:59:48 SAST', 'Moloko', 1018941943], ['1484685053.h5', '2017-01-17 22:30:54 SAST', 'Moloko', 1903514357], ['1484684152.h5', '2017-01-17 22:15:53 SAST', 'Moloko', 1901519119], ['1484640838.h5', '2017-01-17 10:13:58 SAST', 'Tiyani', 6670660957], ['1484639910.h5', '2017-01-17 09:58:40 SAST', 'Tiyani', 6992418034], ['1484639491.h5', '2017-01-17 09:51:32 SAST', 'Tiyani', 6228829520], ['1484636559.h5', '2017-01-17 09:02:40 SAST', 'Tiyani', 6579021656], ['1484635402.h5', '2017-01-17 08:43:23 SAST', 'Tiyani', 8908715347], ['1484603276.h5', '2017-01-16 23:47:57 SAST', 'Moloko', 940867482], ['1484599545.h5', '2017-01-16 22:45:50 SAST', 'Moloko', 10814790723], ['1484598839.h5', '2017-01-16 22:34:05 SAST', 'Moloko', 10687538726], ['1484598256.h5', '2017-01-16 22:24:22 SAST', 'Moloko', 10663010258], ['1484597564.h5', '2017-01-16 22:12:47 SAST', 'Moloko', 12586714257], ['1484596904.h5', '2017-01-16 22:01:57 SAST', 'Moloko', 11740956532], ['1484596404.h5', '2017-01-16 21:53:24 SAST', 'AR1', 10462803932], ['1484525405.h5', '2017-01-16 02:10:20 SAST', 'AR1', 31602663972], ['1484507493.h5', '2017-01-15 21:11:34 SAST', 'AR1', 12201319584], ['1484507182.h5', '2017-01-15 21:07:39 SAST', 'AR1', 4425915172], ['1484504485.h5', '2017-01-15 20:21:32 SAST', 'Tiyani', 14031426808], ['1484503809.h5', '2017-01-15 20:10:22 SAST', 'AR1', 13884866860], ['1484487633.h5', '2017-01-15 15:40:38 SAST', 'Tiyani', 13714884210], ['1484486874.h5', '2017-01-15 15:28:08 SAST', 'Tiyani', 13926687672], ['1484486403.h5', '2017-01-15 15:20:04 SAST', 'AR1', 11842200909], ['1484430605.h5', '2017-01-14 23:50:20 SAST', 'AR1', 15751969218], ['1484418907.h5', '2017-01-14 20:35:20 SAST', 'AR1', 15910064711], ['1484403730.h5', '2017-01-14 16:22:24 SAST', 'AR1', 15260373598], ['1484388468.h5', '2017-01-14 12:07:50 SAST', 'AR1', 10885295180], ['1484386258.h5', '2017-01-14 11:31:13 SAST', 'AR1', 15935721723], ['1484370720.h5', '2017-01-14 07:12:18 SAST', 'AR1', 15436342020], ['1484369973.h5', '2017-01-14 06:59:38 SAST', 'AR1', 17081190736], ['1484369106.h5', '2017-01-14 06:45:21 SAST', 'AR1', 18490680057], ['1484326727.h5', '2017-01-13 19:00:09 SAST', 'AR1', 12799506968], ['1484279104.h5', '2017-01-13 05:45:16 SAST', 'AR1', 11229797153], ['1484277446.h5', '2017-01-13 05:18:03 SAST', 'AR1', 11078252537], ['1484242026.h5', '2017-01-12 19:27:10 SAST', 'Moloko', 945144576], ['1484238935.h5', '2017-01-12 18:35:40 SAST', 'Moloko', 1904402990], ['1484203918.h5', '2017-01-12 08:52:02 SAST', 'AR1', 4039631966], ['1484186407.h5', '2017-01-12 04:00:18 SAST', 'AR1', 4654938311], ['1484154840.h5', '2017-01-11 19:14:04 SAST', 'AR1', 3944320031], ['1484152678.h5', '2017-01-11 18:38:10 SAST', 'AR1', 4023584576], ['1484152136.h5', '2017-01-11 18:29:00 SAST', 'Moloko', 3754275315], ['1484151224.h5', '2017-01-11 18:13:48 SAST', 'Moloko', 9347024204], ['1484102543.h5', '2017-01-11 04:42:30 SAST', 'AR1', 1349599188], ['1484072660.h5', '2017-01-10 20:24:25 SAST', 'AR1', 889973089], ['1484052717.h5', '2017-01-10 14:52:45 SAST', 'AR1', 566507614], ['1484016574.h5', '2017-01-10 04:49:45 SAST', 'AR1', 6014342958], ['1483987120.h5', '2017-01-09 20:38:50 SAST', 'AR1', 5922654641], ['1483971444.h5', '2017-01-09 16:17:28 SAST', 'AR1', 4923634551], ['1483890271.h5', '2017-01-08 17:44:33 SAST', 'AR1', 1078457190], ['1483860737.h5', '2017-01-08 09:32:18 SAST', 'AR1', 976109974], ['1483831455.h5', '2017-01-08 01:24:17 SAST', 'AR1', 926595595], ['1483801850.h5', '2017-01-07 17:10:51 SAST', 'AR1', 887842811], ['1483779531.h5', '2017-01-07 10:58:51 SAST', 'AR1', 638802219], ['1483730319.h5', '2017-01-06 21:18:40 SAST', 'Fannie', 684472524], ['1483695077.h5', '2017-01-06 11:32:02 SAST', 'Audrey', 5722042717], ['1483631860.h5', '2017-01-05 17:58:47 SAST', 'Audrey', 9727279392], ['1483566995.h5', '2017-01-04 23:56:37 SAST', 'AR1', 904318562], ['1483554826.h5', '2017-01-04 20:33:49 SAST', 'AR1', 938156375], ['1483525343.h5', '2017-01-04 12:22:45 SAST', 'Audrey', 787179292], ['1483503720.h5', '2017-01-04 06:22:02 SAST', 'Fannie', 1305733738], ['1483474509.h5', '2017-01-03 22:15:10 SAST', 'Fannie', 972863591], ['1483458212.h5', '2017-01-03 17:44:27 SAST', 'Fannie', 993792367], ['1483239607.h5', '2017-01-01 05:00:09 SAST', 'AR1', 2713418772]]\n"
     ]
    }
   ],
   "source": [
    "f=katarchive.search_archive(description=\"Phaseup\",startdate=begin,enddate=end)\n",
    "print f"
   ]
  },
  {
   "cell_type": "code",
   "execution_count": 8,
   "metadata": {
    "collapsed": true
   },
   "outputs": [],
   "source": [
    "f.sort(key=lambda k: k.metadata.StartTime)"
   ]
  },
  {
   "cell_type": "code",
   "execution_count": 9,
   "metadata": {
    "collapsed": false
   },
   "outputs": [
    {
     "name": "stdout",
     "output_type": "stream",
     "text": [
      "/var/kat/archive2/data/MeerKATAR1/telescope_products/2017/01/01/1483239607.h5  4k 03,06,10,14,15,21,22,25,31,62,63 XXXXXX NONE XXXXXX\n",
      "/var/kat/archive2/data/MeerKATAR1/telescope_products/2017/01/03/1483458212.h5  4k 01,06,07,08,14,15,21,22,25,31,62,63 PKS0408-65\n",
      "/var/kat/archive2/data/MeerKATAR1/telescope_products/2017/01/03/1483474509.h5  4k 01,06,07,08,14,15,21,22,25,31,62,63 PKS0408-65\n",
      "/var/kat/archive2/data/MeerKATAR1/telescope_products/2017/01/04/1483503720.h5  4k 01,06,07,08,14,15,21,22,25,31,62,63 3C286\n",
      "/var/kat/archive2/data/MeerKATAR1/telescope_products/2017/01/04/1483525343.h5  4k 06,07,08,14,15,21,22,25,31,62,63 PKS1934-63\n",
      "/var/kat/archive2/data/MeerKATAR1/telescope_products/2017/01/04/1483554826.h5  4k 06,07,08,14,15,21,22,25,31,62,63 PKS0408-65\n",
      "/var/kat/archive2/data/MeerKATAR1/telescope_products/2017/01/04/1483566995.h5  4k 06,07,08,14,15,21,22,25,31,62,63 PKS0408-65\n",
      "/var/kat/archive2/data/MeerKATAR1/telescope_products/2017/01/05/1483631860.h5 32k 06,07,08,14,15,21,22,25,31,62,63 PKS0408-65\n",
      "/var/kat/archive2/data/MeerKATAR1/telescope_products/2017/01/06/1483695077.h5 32k 06,07,14,15,21,22,25,31,62,63 PKS1934-63\n",
      "/var/kat/archive2/data/MeerKATAR1/telescope_products/2017/01/06/1483730319.h5  4k 06,07,14,15,21,22,25,31,62,63 PKS0408-65\n",
      "/var/kat/archive2/data/MeerKATAR1/telescope_products/2017/01/07/1483779531.h5  4k 06,07,14,15,21,22,25,31,62,63 PKS1934-63\n",
      "/var/kat/archive2/data/MeerKATAR1/telescope_products/2017/01/07/1483801850.h5  4k 06,07,14,15,21,22,25,31,62,63 PKS1934-63\n",
      "/var/kat/archive2/data/MeerKATAR1/telescope_products/2017/01/07/1483831455.h5  4k 06,07,14,15,21,22,25,31,62,63 PKS0408-65\n",
      "/var/kat/archive2/data/MeerKATAR1/telescope_products/2017/01/08/1483860737.h5  4k 06,07,14,15,21,22,25,31,62,63 PKS1934-63\n",
      "/var/kat/archive2/data/MeerKATAR1/telescope_products/2017/01/08/1483890271.h5  4k 06,07,14,15,21,22,25,31,62,63 PKS0408-65\n",
      "/var/kat/archive2/data/MeerKATAR1/telescope_products/2017/01/09/1483971444.h5 32k 06,07,14,15,21,22,31,62,63 PKS1934-63\n",
      "/var/kat/archive2/data/MeerKATAR1/telescope_products/2017/01/09/1483987120.h5 32k 06,07,14,15,21,22,31,62,63 PKS0408-65\n",
      "/var/kat/archive2/data/MeerKATAR1/telescope_products/2017/01/10/1484016574.h5 32k 06,07,14,15,21,22,31,62,63 3C286\n",
      "/var/kat/archive2/data/MeerKATAR1/telescope_products/2017/01/10/1484052717.h5  4k 06,07,14,15,21,22,25,31,62,63 PKS1934-63\n",
      "/var/kat/archive2/data/MeerKATAR1/telescope_products/2017/01/10/1484072660.h5  4k 07,14,15,21,22,25,31,63 PKS0408-65\n",
      "/var/kat/archive2/data/MeerKATAR1/telescope_products/2017/01/11/1484102543.h5  4k 07,14,15,21,22,25,31,63 3C286\n",
      "/var/kat/archive2/data/MeerKATAR1/telescope_products/2017/01/11/1484151224.h5 32k 06,07,14,15,21,22,25,31,62,63 PKS0408-65\n",
      "/var/kat/archive2/data/MeerKATAR1/telescope_products/2017/01/11/1484152136.h5 32k 06,07,14,15,21,22,25,63 PKS0408-65\n",
      "/var/kat/archive2/data/MeerKATAR1/telescope_products/2017/01/11/1484152678.h5 32k 06,07,14,15,21,22,25,63 PKS0408-65\n",
      "/var/kat/archive2/data/MeerKATAR1/telescope_products/2017/01/11/1484154840.h5 32k 06,07,14,15,21,22,25,63 PKS0408-65\n",
      "/var/kat/archive2/data/MeerKATAR1/telescope_products/2017/01/12/1484186407.h5 32k 06,07,14,15,21,22,25,63 PKS0408-65\n",
      "/var/kat/archive2/data/MeerKATAR1/telescope_products/2017/01/12/1484203918.h5 32k 06,07,14,15,21,22,25,63 PKS1934-63\n",
      "/var/kat/archive2/data/MeerKATAR1/telescope_products/2017/01/12/1484238935.h5  4k 01,03,06,07,08,10,14,15,21,22,25,31,63 PKS0408-65\n",
      "/var/kat/archive2/data/MeerKATAR1/telescope_products/2017/01/12/1484242026.h5  4k 01,03,06,07,10,14,15,21,22,25,31,63 PKS0408-65\n",
      "/var/kat/archive2/data/MeerKATAR1/telescope_products/2017/01/13/1484277446.h5 32k 01,03,06,07,10,14,15,21,22,25,31,63 3C286\n",
      "/var/kat/archive2/data/MeerKATAR1/telescope_products/2017/01/13/1484279104.h5 32k 01,03,06,07,10,14,15,21,22,25,31,63 3C286\n",
      "/var/kat/archive2/data/MeerKATAR1/telescope_products/2017/01/13/1484326727.h5 32k 01,03,06,07,08,10,14,15,21,22,25,31,63 PKS0408-65\n",
      "/var/kat/archive2/data/MeerKATAR1/telescope_products/2017/01/14/1484369106.h5 32k 01,03,06,07,08,10,14,15,21,22,25,31,63 3C286\n",
      "/var/kat/archive2/data/MeerKATAR1/telescope_products/2017/01/14/1484369973.h5 32k 01,03,06,07,08,10,14,15,21,22,25,31,63 PKS1934-63\n",
      "/var/kat/archive2/data/MeerKATAR1/telescope_products/2017/01/14/1484370720.h5 32k 01,03,06,07,08,10,14,15,21,22,25,31,63 PKS1934-63\n",
      "/var/kat/archive2/data/MeerKATAR1/telescope_products/2017/01/14/1484386258.h5 32k 01,03,06,07,08,10,14,15,21,22,25,31,63 PKS1934-63\n",
      "/var/kat/archive2/data/MeerKATAR1/telescope_products/2017/01/14/1484388468.h5 32k 01,03,06,07,08,10,14,15,21,22,25,31,63 PKS1934-63\n",
      "/var/kat/archive2/data/MeerKATAR1/telescope_products/2017/01/14/1484403730.h5 32k 01,03,06,07,08,10,14,15,21,22,25,31,63 PKS1934-63\n",
      "/var/kat/archive2/data/MeerKATAR1/telescope_products/2017/01/14/1484418907.h5 32k 01,03,06,07,08,10,14,15,21,22,25,31,63 PKS0408-65\n",
      "/var/kat/archive2/data/MeerKATAR1/telescope_products/2017/01/14/1484430605.h5 32k 01,03,06,07,08,10,14,15,21,22,25,31,63 PKS0408-65\n",
      "/var/kat/archive2/data/MeerKATAR1/telescope_products/2017/01/15/1484486403.h5 32k 01,03,06,07,08,10,14,15,21,22,25,31,63 PKS1934-63\n",
      "/var/kat/archive2/data/MeerKATAR1/telescope_products/2017/01/15/1484486874.h5 32k 01,03,06,07,08,10,14,15,21,22,25,31,63 PKS1934-63\n",
      "/var/kat/archive2/data/MeerKATAR1/telescope_products/2017/01/15/1484487633.h5 32k 01,03,06,07,08,10,14,15,21,22,25,31,63 PKS1934-63\n",
      "/var/kat/archive2/data/MeerKATAR1/telescope_products/2017/01/15/1484503809.h5 32k 01,03,06,07,08,10,14,15,21,22,25,31,63 PKS0408-65\n",
      "/var/kat/archive2/data/MeerKATAR1/telescope_products/2017/01/15/1484504485.h5 32k 01,03,06,07,08,10,14,15,21,22,25,31,63 PKS0408-65\n",
      "/var/kat/archive2/data/MeerKATAR1/telescope_products/2017/01/15/1484507182.h5 32k 01,03,06,07,08,10,14,15,21,22,25,31,63 XXXXXX NONE XXXXXX\n",
      "/var/kat/archive2/data/MeerKATAR1/telescope_products/2017/01/15/1484507493.h5 32k 01,03,06,07,08,10,14,15,21,22,25,31,63 PKS0408-65\n",
      "/var/kat/archive2/data/MeerKATAR1/telescope_products/2017/01/16/1484525405.h5 32k 01,03,06,07,08,10,14,15,21,22,25,31,63 PKS0408-65\n",
      "/var/kat/archive2/data/MeerKATAR1/telescope_products/2017/01/16/1484596404.h5 32k 01,03,07,08,10,14,15,21,22,25,31,63 PKS0408-65\n",
      "/var/kat/archive2/data/MeerKATAR1/telescope_products/2017/01/16/1484596904.h5 32k 01,03,07,08,10,14,15,21,22,25,31,63 PKS0408-65\n",
      "/var/kat/archive2/data/MeerKATAR1/telescope_products/2017/01/16/1484597564.h5 32k 01,03,07,08,10,14,15,21,22,25,31,63 PKS0408-65\n",
      "/var/kat/archive2/data/MeerKATAR1/telescope_products/2017/01/16/1484598256.h5 32k 01,03,07,08,10,14,15,21,22,25,31,63 PKS0408-65\n",
      "/var/kat/archive2/data/MeerKATAR1/telescope_products/2017/01/16/1484598839.h5 32k 01,03,07,08,10,14,15,21,22,25,31,63 PKS0408-65\n",
      "/var/kat/archive2/data/MeerKATAR1/telescope_products/2017/01/16/1484599545.h5 32k 01,03,07,08,10,14,15,21,22,25,31,63 PKS0408-65\n",
      "/var/kat/archive2/data/MeerKATAR1/telescope_products/2017/01/16/1484603276.h5 32k 01,03,07,08 PKS0408-65\n",
      "/var/kat/archive2/data/MeerKATAR1/telescope_products/2017/01/17/1484635402.h5 32k 01,03,07,10,15,21,22,25,31,63 PKS1934-63\n",
      "/var/kat/archive2/data/MeerKATAR1/telescope_products/2017/01/17/1484636559.h5 32k 01,03,07,10,15,21,22,25,31,63 PKS1934-63\n",
      "/var/kat/archive2/data/MeerKATAR1/telescope_products/2017/01/17/1484639491.h5 32k 01,03,07,10,15,21,22,25,31,63 PKS1934-63\n",
      "/var/kat/archive2/data/MeerKATAR1/telescope_products/2017/01/17/1484639910.h5 32k 01,03,07,10,15,21,22,25,31,63 PKS1934-63\n",
      "/var/kat/archive2/data/MeerKATAR1/telescope_products/2017/01/17/1484640838.h5 32k 01,03,07,10,15,21,22,25,31,63 PKS1934-63\n",
      "/var/kat/archive2/data/MeerKATAR1/telescope_products/2017/01/17/1484684152.h5  4k 01,03,06,07,08,10,15,21,22,25,31,62,63 PKS0408-65\n",
      "/var/kat/archive2/data/MeerKATAR1/telescope_products/2017/01/17/1484685053.h5  4k 01,03,06,07,08,10,15,21,22,25,31,62,63 PKS0408-65\n",
      "/var/kat/archive2/data/MeerKATAR1/telescope_products/2017/01/17/1484686787.h5  4k 01,03,06,07,08,10,15,21,22,25,31,63 PKS0408-65\n",
      "/var/kat/archive2/data/MeerKATAR1/telescope_products/2017/01/17/1484694008.h5  4k 01,03,06,07,08,10,15,21,22,25,31,63 PKS0408-65\n",
      "/var/kat/archive2/data/MeerKATAR1/telescope_products/2017/01/18/1484721171.h5  4k 01,03,06,07,08,10,14,15,21,22,25,31,62,63 PKS1934-63\n",
      "/var/kat/archive2/data/MeerKATAR1/telescope_products/2017/01/18/1484737275.h5 32k 01,03,06,07,08,10,14,15,21,22,25,31,63 XXXXXX NONE XXXXXX\n",
      "/var/kat/archive2/data/MeerKATAR1/telescope_products/2017/01/18/1484737655.h5 32k 01,03,06,07,08,10,14,15,21,22,25,31,63 PKS1934-63\n",
      "/var/kat/archive2/data/MeerKATAR1/telescope_products/2017/01/18/1484765295.h5  4k 01,06,07,08,10,14,15,21,22,31,63 PKS0408-65\n",
      "/var/kat/archive2/data/MeerKATAR1/telescope_products/2017/01/18/1484765697.h5  4k 01,06,07,08,10,14,15,21,22,31,63 PKS0408-65\n",
      "/var/kat/archive2/data/MeerKATAR1/telescope_products/2017/01/18/1484775906.h5  4k 01,06,07,08,10,14,15,21,22,31,63 PKS0408-65\n",
      "/var/kat/archive2/data/MeerKATAR1/telescope_products/2017/01/19/1484834259.h5  4k 07,08,10,15 PKS1934-63\n",
      "/var/kat/archive2/data/MeerKATAR1/telescope_products/2017/01/19/1484834694.h5  4k 07,08,10,15 PKS1934-63\n",
      "/var/kat/archive2/data/MeerKATAR1/telescope_products/2017/01/19/1484835084.h5  4k 07,08,10,15 PKS1934-63\n",
      "/var/kat/archive2/data/MeerKATAR1/telescope_products/2017/01/19/1484835566.h5  4k 07,08,10,15 PKS1934-63\n",
      "/var/kat/archive2/data/MeerKATAR1/telescope_products/2017/01/20/1484890970.h5  4k 01,06,07,08,10,15,21,31,63 PKS1934-63\n",
      "/var/kat/archive2/data/MeerKATAR1/telescope_products/2017/01/20/1484909143.h5  4k 01,06,07,08,10,15,21,31,63 PKS1934-63\n",
      "/var/kat/archive2/data/MeerKATAR1/telescope_products/2017/01/20/1484910689.h5 32k 01,06,07,08,10,15,21,22,31,62,63 PKS1934-63\n",
      "/var/kat/archive2/data/MeerKATAR1/telescope_products/2017/01/20/1484911510.h5 32k 01,06,07,08,10,15,21,22,31,62,63 PKS1934-63\n",
      "/var/kat/archive2/data/MeerKATAR1/telescope_products/2017/01/20/1484919292.h5  4k 01,06,07,08,10,15,21,22,31,62,63 XXXXXX NONE XXXXXX\n",
      "/var/kat/archive2/data/MeerKATAR1/telescope_products/2017/01/20/1484919613.h5  4k 01,06,07,08,10,15,21,22,31,62,63 PKS1934-63\n",
      "/var/kat/archive2/data/MeerKATAR1/telescope_products/2017/01/20/1484920991.h5  4k 01,06,07,08,10,15,21,22,31,62,63 PKS1934-63\n",
      "/var/kat/archive2/data/MeerKATAR1/telescope_products/2017/01/20/1484921947.h5 32k 01,06,07,08,10,15,21,22,31,62,63 PKS1934-63\n",
      "/var/kat/archive2/data/MeerKATAR1/telescope_products/2017/01/20/1484932819.h5  4k 06,07,08,10,15,21,22,31,62,63 PKS0408-65\n",
      "/var/kat/archive2/data/MeerKATAR1/telescope_products/2017/01/20/1484934307.h5  4k 06,07,08,10,15,21,22,31,62,63 PKS0408-65\n",
      "/var/kat/archive2/data/MeerKATAR1/telescope_products/2017/01/21/1484996150.h5  4k 01,06,07,08,10,15,21,22,25,31,62,63 PKS1934-63\n",
      "/var/kat/archive2/data/MeerKATAR1/telescope_products/2017/01/21/1485008689.h5  4k 01,06,07,08,10,15,21,22,25,31,63 XXXXXX NONE XXXXXX\n",
      "/var/kat/archive2/data/MeerKATAR1/telescope_products/2017/01/21/1485009587.h5  4k 01,06,07,08,10,15,21,22,25,31,63 PKS0408-65\n",
      "/var/kat/archive2/data/MeerKATAR1/telescope_products/2017/01/22/1485077120.h5  4k 01,06,07,08,10,15,21,22,25,31,63 PKS1934-63\n",
      "/var/kat/archive2/data/MeerKATAR1/telescope_products/2017/01/23/1485151992.h5  4k 01,06,07,15,21,22,25,31,63 PKS1934-63\n",
      "/var/kat/archive2/data/MeerKATAR1/telescope_products/2017/01/23/1485157053.h5  4k 01,06,07,15,21,22,25,63 PKS1934-63\n"
     ]
    }
   ],
   "source": [
    "for fi in f:\n",
    "    txts=fi.metadata.InstructionSet\n",
    "    fi.metadata.Description,fi.metadata.Filename\n",
    "    antstr=\",\".join(fi.metadata.Antennas).replace('m0','')\n",
    "    tgt=fi.metadata.Targets[-1].replace(' ','')\n",
    "    if tgt=='None':\n",
    "        tgt='XXXXXX NONE XXXXXX'\n",
    "    listing=(\"%s/%s %3s %s %s\") %(fi.metadata.FileLocation,fi.metadata.Filename,channels(fi.metadata.Details),\\\n",
    "                                  antstr,tgt)\n",
    "    print listing\n",
    "    Outfile.write(listing+\"\\n\")"
   ]
  },
  {
   "cell_type": "code",
   "execution_count": 10,
   "metadata": {
    "collapsed": true
   },
   "outputs": [],
   "source": [
    "Outfile.close()"
   ]
  }
 ],
 "metadata": {
  "kernelspec": {
   "display_name": "Python 2",
   "language": "python",
   "name": "python2"
  },
  "language_info": {
   "codemirror_mode": {
    "name": "ipython",
    "version": 2
   },
   "file_extension": ".py",
   "mimetype": "text/x-python",
   "name": "python",
   "nbconvert_exporter": "python",
   "pygments_lexer": "ipython2",
   "version": "2.7.6"
  }
 },
 "nbformat": 4,
 "nbformat_minor": 0
}
