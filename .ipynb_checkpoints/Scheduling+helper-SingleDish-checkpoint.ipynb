{
 "cells": [
  {
   "cell_type": "code",
   "execution_count": 23,
   "metadata": {},
   "outputs": [
    {
     "name": "stdout",
     "output_type": "stream",
     "text": [
      "Populating the interactive namespace from numpy and matplotlib\n"
     ]
    }
   ],
   "source": [
    "%pylab inline"
   ]
  },
  {
   "cell_type": "code",
   "execution_count": 24,
   "metadata": {},
   "outputs": [],
   "source": [
    "import katpoint\n",
    "from IPython.core.display import display, HTML\n"
   ]
  },
  {
   "cell_type": "markdown",
   "metadata": {},
   "source": [
    "This notebook can be used each week to plan the scheduling of observations on MeerKAT. \n",
    "\n",
    "It will generate an obs table, with times in SAST, that can be used to block off times in the Google calendar\n",
    "\n",
    "See https://en.wikipedia.org/wiki/Sidereal_time for a discussion of siderial time\n",
    "\n",
    "Some useful points to check your scheduling sanity:\n",
    "* The RA of a target is equal to the LST when the target is at its highest elevation (when it tranits)... this is useful because if you are doing scheduling the best is to observe equally on either side of this time\n",
    "* LST will change by roughy 4 mins per day ... so a target will transit 4 mins earlier each day\n",
    "* MeerKAT LST matches SAST on roughly 30 Sep each year ... it is 6 hrs after SAST on about 30 Dec, 12 hrs difference in March and 6 hrs before in June \n",
    "\n",
    "You can also look at the following pyephem doc page for more ways to use the ant.ref_observer object. http://rhodesmill.org/pyephem/quick.html"
   ]
  },
  {
   "cell_type": "markdown",
   "metadata": {},
   "source": [
    "Link to the MeerKAT observation calendar\n",
    "\n",
    "https://calendar.google.com/calendar/embed?src=ska.ac.za_hd1ilp7tkoffoa9f2gh0j6l0q8%40group.calendar.google.com&ctz=Africa/Johannesburg"
   ]
  },
  {
   "cell_type": "code",
   "execution_count": 25,
   "metadata": {},
   "outputs": [],
   "source": [
    "ant = katpoint.Antenna('ant1, -30:42:39.8, 21:26:38.0, 1035.0') # the MeerKAT reference point\n",
    "ant.ref_observer.horizon = '20:00:00' # horizon set to 20 degrees\n",
    "SAST = matplotlib.dateutil.relativedelta.relativedelta(hours=2) # useful to convert to SAST (UTC + 2)"
   ]
  },
  {
   "cell_type": "code",
   "execution_count": 26,
   "metadata": {},
   "outputs": [],
   "source": [
    "# catalogue cell\n",
    "\n",
    "cat = katpoint.Catalogue()\n",
    "# MeerKAT main bp calibrators\n",
    "cat.add(katpoint.Target('3C358, radec target, 17:30:40.82, -21:29:11.4'))\n",
    "cat.add(katpoint.Target('3C409, radec target, 20:14:27.60, +23:34:52.9'))\n",
    "cat.add(katpoint.Target('3C433, radec target, 21:23:44.53, +25:04:11.9'))\n",
    "cat.add(katpoint.Target('3C454.3, radec target, 22:53:57.75, +16:08:53.6'))\n",
    "cat.add(katpoint.Target('For A, radec target, 03:22:36.4, -37:14:21.0'))\n",
    "cat.add(katpoint.Target('Ori A, radec target, 05:35:17.26, -05:23:28.8'))\n",
    "cat.add(katpoint.Target('Pic A, radec target, 05:19:49.69,  -45:46:44.5'))\n",
    "cat.add(katpoint.Target('PKS 0408-65, radec bpcal delaycal, 4:08:20.38, -65:45:09.1'))\n",
    "cat.add(katpoint.Target('PKS 0410-75, radec, 04:08:49.07,  -75:07:13.7'))\n",
    "cat.add(katpoint.Target('PKS 0521-36, radec, 05:22:57.99,  -36:27:30.9 '))\n",
    "cat.add(katpoint.Target('PKS 1610-60, radec, 16:15:01.4,   -60:55:0'))\n",
    "cat.add(katpoint.Target('PKS 1814-63, radec, 18:19:35.00,  -63:45:48.2'))\n",
    "cat.add(katpoint.Target('PKS 1934-63, radec bpcal, 19:39:25.03, -63:42:45.7'))\n",
    "cat.add(katpoint.Target('PKS 2104-25, radec, 21:07:20.66,  -25:26:12.3'))\n",
    "cat.add(katpoint.Target('PKS 2153-69, radec, 21:57:05.98,  -69:41:23.7'))\n",
    "cat.add(katpoint.Target('Vir A,radec, 12:30:49.42, +12:23:28.0'))\n",
    "cat.add(katpoint.Target('3C161,radec, 06:27:10.12, -05:53:05.2'))\n"
   ]
  },
  {
   "cell_type": "code",
   "execution_count": 27,
   "metadata": {},
   "outputs": [],
   "source": [
    "### start time cell\n",
    "\n",
    "# select the timestamp to be used to generate the obs table \n",
    "# comment out one of the following two lines\n",
    "#start_timestamp = katpoint.Timestamp() # use NOW as the start time for the obs table\n",
    "start_timestamp = katpoint.Timestamp('2020-04-21 12:45') # use a specific time as the start time (in UTC ... )"
   ]
  },
  {
   "cell_type": "code",
   "execution_count": 28,
   "metadata": {},
   "outputs": [],
   "source": [
    "# pyephem version of the katpoint timestamp for the ref_observer object\n",
    "start_ed = start_timestamp.to_ephem_date()"
   ]
  },
  {
   "cell_type": "code",
   "execution_count": 29,
   "metadata": {},
   "outputs": [
    {
     "data": {
      "text/html": [
       "<table><tr><td colspan='4'>Obs table for 2020-04-21 14:45</td></tr><tr><td>Target<td>Next Rise<td>Next Transit<td>Next Set</tr><tr><td> 3C358 <td> 2020-04-21 22:49 <td> 2020-04-22 04:03 <td> 2020-04-22 09:18 </tr><tr><td> 3C409 <td> 2020-04-22 03:43 <td> 2020-04-22 06:46 <td> 2020-04-22 09:50 </tr><tr><td> 3C433 <td> 2020-04-22 05:00 <td> 2020-04-22 07:55 <td> 2020-04-22 10:51 </tr><tr><td> 3C454.3 <td> 2020-04-22 05:50 <td> 2020-04-22 09:25 <td> 2020-04-22 13:01 </tr><tr><td> For A <td> 2020-04-22 08:05 <td> 2020-04-22 13:53 <td> 2020-04-21 19:45 </tr><tr><td> Ori A <td> 2020-04-22 11:27 <td> 2020-04-21 16:10 <td> 2020-04-21 20:48 </tr><tr><td> Pic A <td> 2020-04-22 09:42 <td> 2020-04-21 15:54 <td> 2020-04-21 22:02 </tr><tr><td> PKS 0408-65 <td> 2020-04-22 07:18 <td> 2020-04-22 14:38 <td> 2020-04-21 22:02 </tr><tr><td> PKS 0410-75 <td> 2020-04-22 05:47 <td> 2020-04-22 14:38 <td> 2020-04-21 23:33 </tr><tr><td> PKS 0521-36 <td> 2020-04-22 10:07 <td> 2020-04-21 15:57 <td> 2020-04-21 21:43 </tr><tr><td> PKS 1610-60 <td> 2020-04-21 19:51 <td> 2020-04-22 02:48 <td> 2020-04-22 09:45 </tr><tr><td> PKS 1814-63 <td> 2020-04-21 21:43 <td> 2020-04-22 04:53 <td> 2020-04-22 12:03 </tr><tr><td> PKS 1934-63 <td> 2020-04-21 23:03 <td> 2020-04-22 06:12 <td> 2020-04-22 13:22 </tr><tr><td> PKS 2104-25 <td> 2020-04-22 02:17 <td> 2020-04-22 07:39 <td> 2020-04-22 13:02 </tr><tr><td> PKS 2153-69 <td> 2020-04-22 00:42 <td> 2020-04-22 08:29 <td> 2020-04-21 16:20 </tr><tr><td> Vir A <td> 2020-04-21 19:14 <td> 2020-04-21 23:04 <td> 2020-04-22 02:54 </tr><tr><td> 3C161 <td> 2020-04-22 12:17 <td> 2020-04-21 17:01 <td> 2020-04-21 21:41 </tr><tr><td colspan='4'>These times are in SAST</td></tr></table>"
      ],
      "text/plain": [
       "<IPython.core.display.HTML object>"
      ]
     },
     "metadata": {},
     "output_type": "display_data"
    }
   ],
   "source": [
    "# generate an html table for displaying\n",
    "# only the first 16 characters [:16] are shown for the time string\n",
    "# for readability\n",
    "\n",
    "h = '<table>'\n",
    "h += \"<tr><td colspan='4'>Obs table for %s</td></tr>\"%str(start_timestamp+7200)[:16]\n",
    "h += \"<tr><td>Target<td>Next Rise<td>Next Transit<td>Next Set</tr>\"\n",
    "for tar in cat.targets:\n",
    "    h += '<tr><td> %s <td> %s <td> %s <td> %s </tr>'%(tar.name,\n",
    "                                str((ant.ref_observer.next_rising(tar.body,start_ed).datetime()+SAST))[:16],\n",
    "                                str((ant.ref_observer.next_transit(tar.body,start_ed).datetime()+SAST))[:16],\n",
    "                                str((ant.ref_observer.next_setting(tar.body,start_ed).datetime()+SAST))[:16])\n",
    "h += \"<tr><td colspan='4'>These times are in SAST</td></tr>\"\n",
    "h += \"</table>\"\n",
    "display(HTML(h))"
   ]
  },
  {
   "cell_type": "markdown",
   "metadata": {},
   "source": [
    "Recomended scheduling steps:\n",
    "0. Make copy of this notebook\n",
    "1. Get the target coordinates\n",
    "2. Get the required duration for the time on target ... call this (m)\n",
    "3. Get the obs priority order from the Tuesday Comm meeting options are \n",
    " * has to be observed this week\n",
    " * was missed last week\n",
    " * no priority\n",
    "4. Edit the catalogue and start-time cells to generate the obs table\n",
    "5. For the first target of interest, is the calendar free for m/2 either side of the transit time? If yes the book that time.\n",
    "6. If the block time in the previous step is not available can you slide the block forward or backward between the rise and set time to find a free block? If you find a gap then book that time.\n",
    "7. If you need to choose a day later in the week then remember that the times are about 4 mins earlier for each day after the obs table is generated ... this is usually not that significant (at most 30 mins) in a week \n",
    "8. Repeat until all the targets are scheduled\n",
    "9. Fill in the gaps with filler observations like pointing or baseline cal"
   ]
  },
  {
   "cell_type": "code",
   "execution_count": 30,
   "metadata": {},
   "outputs": [
    {
     "name": "stdout",
     "output_type": "stream",
     "text": [
      "2020/4/22 10:17:47\n",
      "2020/4/21 19:41:53\n"
     ]
    }
   ],
   "source": [
    "tar=cat.targets[-1] # the last one\n",
    "print ant.ref_observer.next_rising(tar.body,start_ed)\n",
    "print ant.ref_observer.next_setting(tar.body,start_ed)"
   ]
  },
  {
   "cell_type": "code",
   "execution_count": 31,
   "metadata": {
    "scrolled": true
   },
   "outputs": [
    {
     "name": "stdout",
     "output_type": "stream",
     "text": [
      "Duration -14.60 Hours\n"
     ]
    }
   ],
   "source": [
    "print \"Duration %6.2f Hours\" %((ant.ref_observer.next_setting(tar.body,start_ed)\\\n",
    "                  - ant.ref_observer.next_rising(tar.body,start_ed))*24)"
   ]
  },
  {
   "cell_type": "code",
   "execution_count": 32,
   "metadata": {},
   "outputs": [
    {
     "name": "stdout",
     "output_type": "stream",
     "text": [
      "3:08:13.69\n"
     ]
    }
   ],
   "source": [
    "print ant.ref_observer.sidereal_time()"
   ]
  },
  {
   "cell_type": "code",
   "execution_count": 33,
   "metadata": {},
   "outputs": [
    {
     "name": "stdout",
     "output_type": "stream",
     "text": [
      "<built-in method sidereal_time of Observer object at 0x7faf9bd75dd0>\n"
     ]
    }
   ],
   "source": [
    "print ant.ref_observer.sidereal_time"
   ]
  }
 ],
 "metadata": {
  "kernelspec": {
   "display_name": "Python 2",
   "language": "python",
   "name": "python2"
  },
  "language_info": {
   "codemirror_mode": {
    "name": "ipython",
    "version": 2
   },
   "file_extension": ".py",
   "mimetype": "text/x-python",
   "name": "python",
   "nbconvert_exporter": "python",
   "pygments_lexer": "ipython2",
   "version": "2.7.17"
  }
 },
 "nbformat": 4,
 "nbformat_minor": 1
}
