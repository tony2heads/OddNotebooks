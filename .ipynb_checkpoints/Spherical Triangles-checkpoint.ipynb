{
 "metadata": {
  "name": "",
  "signature": "sha256:bf5b71d41b2a0a67ab69757a90e072f5cf23ecbeeb515a76bf8e474aec2fd6b5"
 },
 "nbformat": 3,
 "nbformat_minor": 0,
 "worksheets": [
  {
   "cells": [
    {
     "cell_type": "markdown",
     "metadata": {},
     "source": [
      "Given a unit sphere, a \"triangle\" on the surface of the sphere is defined by the great circles connecting three points u, v, and w on the sphere. If the lengths of these three sides are a (from u to v), b (from u to w), and c (from v to w), and the angle of the corner opposite c is C, then the law of haversines states:\n",
      "(the law of haversines)\n",
      "\n",
      "$ haversin(c) = haversin(a - b) + sin(a)sin(b)haversin(C)$\n",
      "\n",
      "where \n",
      "\n",
      "$haversin(\\theta) =  sin^2(\\frac{\\theta}{2}) = \\frac{1- cos(\\theta)}{2}$\n"
     ]
    },
    {
     "cell_type": "markdown",
     "metadata": {},
     "source": [
      "If we consider HA,Dec and Az,el\n",
      "Triangle has north pole at 'u' , source at 'w', zenith at 'v'\n",
      "\n",
      "C is equivalent to Hour Angle\n",
      "a is 90-declination\n",
      "b is 90-latitude\n",
      "c is 90-elevation\n"
     ]
    },
    {
     "cell_type": "markdown",
     "metadata": {},
     "source": [
      "Spherical triangle solver for 2 sides (a,b) and included angle (C)\n",
      "\n",
      "http://en.wikipedia.org/wiki/Solution_of_triangles#Two_sides_and_the_included_angle_given\n",
      "\n",
      "$A= arctan(\\frac {sin(a) sin(C)} {cos(a) sin(b) - sin(a) cos(b) sin(C)})$\n",
      "\n",
      "\n",
      "$B = arctan(\\frac {sin(b) sin(C)} {cos(b) sin(a) - sin(b) cos(a) sin(C)})$\n",
      "\n",
      "$c = arctan(\\frac {\\sqrt  {(sin(a) cos(b) - cos(a)sin(b)cos(C))^2 + (sin(b)sin(C))^2 }} \\\n",
      "{cos(a) cos(b) +sin(a)sin(b) cos(C)} ) $"
     ]
    },
    {
     "cell_type": "code",
     "collapsed": false,
     "input": [],
     "language": "python",
     "metadata": {},
     "outputs": [],
     "prompt_number": 0
    },
    {
     "cell_type": "code",
     "collapsed": false,
     "input": [],
     "language": "python",
     "metadata": {},
     "outputs": [],
     "prompt_number": 0
    },
    {
     "cell_type": "code",
     "collapsed": false,
     "input": [],
     "language": "python",
     "metadata": {},
     "outputs": []
    }
   ],
   "metadata": {}
  }
 ]
}