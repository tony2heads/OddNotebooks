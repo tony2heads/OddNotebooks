{
 "cells": [
  {
   "cell_type": "code",
   "execution_count": 1,
   "metadata": {
    "collapsed": false
   },
   "outputs": [
    {
     "data": {
      "text/plain": [
       "'\\nsudo  pip install novas\\n\\nsudo  pip install novas_de405  - a 55MB download\\n\\n'"
      ]
     },
     "execution_count": 1,
     "metadata": {},
     "output_type": "execute_result"
    }
   ],
   "source": [
    "\"\"\"\n",
    "sudo  pip install novas\n",
    "\n",
    "sudo  pip install novas_de405  - a 55MB download\n",
    "\n",
    "\"\"\""
   ]
  },
  {
   "cell_type": "code",
   "execution_count": 2,
   "metadata": {
    "collapsed": false
   },
   "outputs": [
    {
     "name": "stdout",
     "output_type": "stream",
     "text": [
      "2456203.0\n"
     ]
    }
   ],
   "source": [
    "from novas import compat as novas\n",
    "from novas.compat import eph_manager\n",
    "jd_start, jd_end, number = eph_manager.ephem_open()\n",
    "jd_tt = novas.julian_date(2012, 10, 2, 12.0)\n",
    "print jd_tt"
   ]
  },
  {
   "cell_type": "code",
   "execution_count": 3,
   "metadata": {
    "collapsed": false
   },
   "outputs": [
    {
     "name": "stdout",
     "output_type": "stream",
     "text": [
      "R.A. 15:36.176177\n",
      "dec. -20:11.951841\n",
      "distance 1.947674 AU\n"
     ]
    }
   ],
   "source": [
    "mars = novas.make_object(0, 4, 'Mars', None)\n",
    "ra, dec, dis = novas.astro_planet(jd_tt, mars)\n",
    "print 'R.A. %d:%02f' % (ra, abs(ra) % 1. * 60.)\n",
    "#R.A. 15:36.176177\n",
    "print 'dec. %d:%02f' % (dec, abs(dec) % 1. * 60.)\n",
    "#dec. -20:11.951841\n",
    "print 'distance %f AU' % (dis,)\n",
    "#distance 1.947674 AU"
   ]
  },
  {
   "cell_type": "code",
   "execution_count": 4,
   "metadata": {
    "collapsed": false
   },
   "outputs": [
    {
     "name": "stdout",
     "output_type": "stream",
     "text": [
      "JPL Ephemeris DE405 open. jd_beg = 2305424.50  jd_end = 2525008.50\n",
      "\n",
      "JD = 2450203.500000  Star = POLARIS\n",
      "RA =  2.446988922  Dec =  89.24635149\n",
      "\n",
      "JD = 2450203.500000  Star = Delta ORI\n",
      "RA =  5.530110723  Dec =  -0.30571737\n",
      "\n",
      "JD = 2450203.500000  Star = Theta CAR\n",
      "RA =  10.714525513  Dec = -64.38130590\n",
      "\n",
      "JD = 2450203.500000  Star = POLARIS\n",
      "RA =  2.446988922  Dec =  89.24635149\n",
      "\n",
      "JD = 2450203.500000  Star = Delta ORI\n",
      "RA =  5.530110723  Dec =  -0.30571737\n",
      "\n",
      "JD = 2450203.500000  Star = Theta CAR\n",
      "RA =  10.714525513  Dec = -64.38130590\n",
      "\n",
      "JD = 2450417.500000  Star = POLARIS\n",
      "RA =  2.509480139  Dec =  89.25196813\n",
      "\n",
      "JD = 2450417.500000  Star = Delta ORI\n",
      "RA =  5.531195904  Dec =  -0.30301961\n",
      "\n",
      "JD = 2450417.500000  Star = Theta CAR\n",
      "RA =  10.714444761  Dec = -64.37366514\n",
      "\n",
      "JD = 2450300.500000  Star = POLARIS\n",
      "RA =  2.481177533  Dec =  89.24254404\n",
      "\n",
      "JD = 2450300.500000  Star = Delta ORI\n",
      "RA =  5.530372288  Dec =  -0.30231606\n",
      "\n",
      "JD = 2450300.500000  Star = Theta CAR\n",
      "RA =  10.713575394  Dec = -64.37966995\n",
      "\n"
     ]
    }
   ],
   "source": [
    "from novas.compat import topo_star, CatEntry, OnSurface\n",
    "from novas.compat.eph_manager import ephem_open\n",
    "\n",
    "jd_begin, jd_end, de_number = ephem_open()\n",
    "\n",
    "print(\"JPL Ephemeris DE%i open. jd_beg = %9.2f  jd_end = %9.2f\\n\" %\n",
    "    (de_number, jd_begin, jd_end)\n",
    "    )\n",
    "\n",
    "deltat = 60.0\n",
    "\n",
    "tjds = [2450203.5, 2450203.5, 2450417.5, 2450300.5]\n",
    "\n",
    "stars = [\n",
    "\tCatEntry(\"POLARIS\", \"HIP\", 0, 2.530301028, 89.264109444, 44.22, -11.75, 7.56, -17.4),\n",
    "\tCatEntry(\"Delta ORI\", \"HIP\", 1, 5.533444639, -0.299091944, 1.67, 0.56, 3.56, 16.0),\n",
    "\tCatEntry(\"Theta CAR\", \"HIP\", 2, 10.715944806, -64.394450000, -18.87, 12.06, 7.43, 24.0)\n",
    "]\n",
    "#name,catalog,ra,dec,proper motion RA,proper motion Dec, parallax, radial velocity\n",
    "\n",
    "geo_loc = OnSurface(45.0, -75.0, 0.0, 10.0, 1010.0) # where the site is, lat,long,height, temp,pressure\n",
    "\n",
    "for date in tjds:\n",
    "\tfor star in stars:\n",
    "\t\tra, dec = topo_star(date, deltat, star, geo_loc)\n",
    "\n",
    "\t\tprint(\"JD = %14.6f  Star = %s\" % (date, star.starname))\n",
    "\t\tprint(\"RA = % 12.9f  Dec = % 12.8f\\n\" % (ra, dec))"
   ]
  },
  {
   "cell_type": "code",
   "execution_count": 5,
   "metadata": {
    "collapsed": false
   },
   "outputs": [
    {
     "data": {
      "text/plain": [
       "\"\\n    Computes the topocentric place of a star at 'date', given its\\n    catalog mean place, proper motion, parallax, and radial velocity.\\n    \\n    *Parameters*\\n        jd_tt : float\\n            TT Julian date for topocentric place.\\n        delta_t : float\\n            Difference TT-UT1 at 'date', in seconds of time.\\n        star : CatEntry\\n            Instance of CatEntry type object containing catalog data for\\n            the object in the ICRS.\\n        position : OnSurface\\n            Instance of OnSurface type object specifying the position of\\n            the observer.\\n        accuracy : {0, 1}, optional\\n            Code specifying the relative accuracy of the output\\n            position.\\n                = 0 ... full accuracy (default)\\n                = 1 ... reduced accuracy\\n    \\n    *Returns*\\n        (ra, dec) : tuple of floats\\n            Topocentric (right ascension in hours, declination in\\n            degrees), referred to true equator and equinox of date\\n            'jd_tt'.\\n    \\n    *References*\\n        .. [R1] Bangert, J. et. al. (2011), 'User's Guide to NOVAS\\n            Version C3.1', C62-C63.\\n        .. [R2] Explanatory Supplement to the Astronomical Almanac\\n            (1992), Chapter 3.\\n    \\n    \""
      ]
     },
     "execution_count": 5,
     "metadata": {},
     "output_type": "execute_result"
    }
   ],
   "source": [
    "topo_star.func_doc"
   ]
  },
  {
   "cell_type": "code",
   "execution_count": 6,
   "metadata": {
    "collapsed": false
   },
   "outputs": [
    {
     "name": "stdout",
     "output_type": "stream",
     "text": [
      "(49.101593508111684, 344.9578295806298) (2.5359588495736394, 78.27234200080929)\n"
     ]
    }
   ],
   "source": [
    "from novas.compat import equ2hor\n",
    "date=2450203.5\n",
    "delta_t=60.0\n",
    "star=(2.530301028, 78.264109444) #topocentric needed\n",
    "geo_loc = OnSurface(45.0, -75.0, 0.0, 10.0, 1010.0) # where the site is, lat,long,height, temp,pressure\n",
    "zd,pos=equ2hor(date, delta_t, 0.0 ,0.0, geo_loc,star[0],star[1],1,0) # ignoring polar motion, no refraction,low accuracy\n",
    "\"\"\"\n",
    "jd_ut1 : float\n",
    "        UT1 Julian date.\n",
    "    delta_t : float\n",
    "        Difference TT-UT1 at 'jd_ut1', in seconds.\n",
    "    xp : float\n",
    "        Conventionally-defined x coordinate of celestial\n",
    "        intermediate pole with respect to ITRS reference pole, in\n",
    "        arcseconds.\n",
    "    yp : float\n",
    "        Conventionally-defined y coordinate of celestial\n",
    "        intermediate pole with respect to ITRS reference pole, in\n",
    "        arcseconds.\n",
    "    location : OnSurface\n",
    "        Instance of OnSurface type object containing observer's\n",
    "        location.\n",
    "    ra : float\n",
    "        Topocentric right ascension of object of interest, in hours,\n",
    "        referred to true equator and equinox of date.\n",
    "    dec : float\n",
    "        Topocentric declination of object of interest, in hours,\n",
    "        referred to true equator and equinox of date.\n",
    "    ref_option : {0, 1, 2}, optional\n",
    "            = 0 ... no refraction (default)\n",
    "            = 1 ... include refraction, using 'standard' atmospheric\n",
    "                conditions.\n",
    "            = 2 ... include refraction, using atmospheric parameters\n",
    "                input in the 'location' object.\n",
    "    accuracy : {0, 1}, optional\n",
    "        Code specifying the relative accuracy of the output\n",
    "        position.\n",
    "            = 0 ... full accuracy (default)\n",
    "            = 1 ... reduced accuracy\n",
    "\n",
    "*Returns*\n",
    "    (zd, az) : tuple of floats\n",
    "        Topocentric (zenith distance, azimuth) in degrees. Zenith\n",
    "        distance is affected by refraction if 'ref_option', is\n",
    "        non-zero. Azimuth is measured east from north.\n",
    "    (rar, decr) : tuple of floats\n",
    "        Topocentric (right ascension in hours, declination in\n",
    "        degrees) of object of interest, referred to true equator and\n",
    "        equinox of date, affected by refraction if 'ref_option' is\n",
    "        non-zero.\n",
    "\"\"\"\n",
    "\n",
    "print zd,pos #(zenith distance, azimuth) (topocentric RA,Dec for equator & equinox of date"
   ]
  }
 ],
 "metadata": {
  "kernelspec": {
   "display_name": "Python 2",
   "language": "python",
   "name": "python2"
  },
  "language_info": {
   "codemirror_mode": {
    "name": "ipython",
    "version": 2
   },
   "file_extension": ".py",
   "mimetype": "text/x-python",
   "name": "python",
   "nbconvert_exporter": "python",
   "pygments_lexer": "ipython2",
   "version": "2.7.3"
  }
 },
 "nbformat": 4,
 "nbformat_minor": 0
}
