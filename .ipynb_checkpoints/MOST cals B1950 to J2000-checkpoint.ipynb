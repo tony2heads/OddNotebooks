{
 "cells": [
  {
   "cell_type": "code",
   "execution_count": 11,
   "metadata": {
    "collapsed": false
   },
   "outputs": [
    {
     "name": "stdout",
     "output_type": "stream",
     "text": [
      "j is  (2.7189519207688693, -41.88624745799536)\n",
      "00:10:52.548 -41:53:10.491\n"
     ]
    }
   ],
   "source": [
    "#!/usr/bin/env python\n",
    "\"\"\"\n",
    "A routine to convert B1950 to J2000\n",
    "expects a line with B1950 coordinates\n",
    "in quotes\n",
    "\"\"\"\n",
    "\n",
    "import coords as C\n",
    "\n",
    "\n",
    "\n",
    "string=\"00:08:21.3 -42:09:51.9\"\n",
    "#print string\n",
    "#b=C.Position(string,equinox=\"B1950\").b1950()\n",
    "#print \"b is \",b\n",
    "j=C.Position(string,equinox=\"B1950\").j2000() # produces a tuple in degrees\n",
    "print \"j is \",j\n",
    "J=C.Position(j,equinox=\"J2000\").hmsdms()\n",
    "print J\n",
    "\n"
   ]
  },
  {
   "cell_type": "code",
   "execution_count": 18,
   "metadata": {
    "collapsed": false
   },
   "outputs": [
    {
     "name": "stdout",
     "output_type": "stream",
     "text": [
      "00:36:01.9 -39:16:16.0\n",
      "(9.611985710097532, -38.99636589959474)\n",
      "00:38:26.877 -38:59:46.917\n"
     ]
    }
   ],
   "source": [
    "b=\"00:36:01.9 -39:16:16.0\"\n",
    "j=C.Position(b,equinox=\"B1950\").j2000()\n",
    "print b\n",
    "print j\n",
    "print C.Position(j,equinox='J2000').hmsdms()"
   ]
  },
  {
   "cell_type": "code",
   "execution_count": 19,
   "metadata": {
    "collapsed": false
   },
   "outputs": [
    {
     "name": "stdout",
     "output_type": "stream",
     "text": [
      "00:48:32.42 -44:44:57.9\n",
      "(12.716693395279698, -44.477518848471796)\n",
      "00:50:52.006 -44:28:39.068\n"
     ]
    }
   ],
   "source": [
    "b=\"00:48:32.42 -44:44:57.9\"\n",
    "j=C.Position(b,equinox=\"B1950\").j2000()\n",
    "print b\n",
    "print j\n",
    "print C.Position(j,equinox='J2000').hmsdms()"
   ]
  },
  {
   "cell_type": "code",
   "execution_count": 20,
   "metadata": {
    "collapsed": false
   },
   "outputs": [
    {
     "name": "stdout",
     "output_type": "stream",
     "text": [
      "03:40:13.23 -37:12:52.7\n",
      "(55.522475859044384, -37.05608884174617)\n",
      "03:42:05.394 -37:03:21.920\n"
     ]
    }
   ],
   "source": [
    "b=\"03:40:13.23 -37:12:52.7\"\n",
    "j=C.Position(b,equinox=\"B1950\").j2000()\n",
    "print b\n",
    "print j\n",
    "print C.Position(j,equinox='J2000').hmsdms()"
   ]
  },
  {
   "cell_type": "code",
   "execution_count": 22,
   "metadata": {
    "collapsed": false
   },
   "outputs": [
    {
     "name": "stdout",
     "output_type": "stream",
     "text": [
      "05:09:26.66 -57:23:19.1\n",
      "(77.5774328978509, -57.3282097415021)\n",
      "05:10:18.584 -57:19:41.555\n"
     ]
    }
   ],
   "source": [
    "b=\"05:09:26.66 -57:23:19.1\"\n",
    "j=C.Position(b,equinox=\"B1950\").j2000()\n",
    "print b\n",
    "print j\n",
    "print C.Position(j,equinox='J2000').hmsdms()"
   ]
  },
  {
   "cell_type": "code",
   "execution_count": 23,
   "metadata": {
    "collapsed": false
   },
   "outputs": [
    {
     "name": "stdout",
     "output_type": "stream",
     "text": [
      "09:06:14.55 -68:17:31.1\n",
      "(136.718597135889, -68.49439206065989)\n",
      "09:06:52.463 -68:29:39.811\n"
     ]
    }
   ],
   "source": [
    "b=\"09:06:14.55 -68:17:31.1\"\n",
    "j=C.Position(b,equinox=\"B1950\").j2000()\n",
    "print b\n",
    "print j\n",
    "print C.Position(j,equinox='J2000').hmsdms()"
   ]
  },
  {
   "cell_type": "code",
   "execution_count": 24,
   "metadata": {
    "collapsed": false
   },
   "outputs": [
    {
     "name": "stdout",
     "output_type": "stream",
     "text": [
      "09:43:23.24 -76:06:20.7\n",
      "(145.85006620620845, -76.33616177163357)\n",
      "09:43:24.016 -76:20:10.182\n"
     ]
    }
   ],
   "source": [
    "b=\"09:43:23.24 -76:06:20.7\"\n",
    "j=C.Position(b,equinox=\"B1950\").j2000()\n",
    "print b\n",
    "print j\n",
    "print C.Position(j,equinox='J2000').hmsdms()\n"
   ]
  },
  {
   "cell_type": "code",
   "execution_count": 25,
   "metadata": {
    "collapsed": false
   },
   "outputs": [
    {
     "name": "stdout",
     "output_type": "stream",
     "text": [
      "13:15:33.29 -46:04:48.5\n",
      "(199.62519458253996, -46.34297305975429)\n",
      "13:18:30.047 -46:20:34.703\n"
     ]
    }
   ],
   "source": [
    "b=\"13:15:33.29 -46:04:48.5\"\n",
    "j=C.Position(b,equinox=\"B1950\").j2000()\n",
    "print b \n",
    "print j\n",
    "print C.Position(j,equinox='J2000').hmsdms()\n"
   ]
  },
  {
   "cell_type": "code",
   "execution_count": 26,
   "metadata": {
    "collapsed": false
   },
   "outputs": [
    {
     "name": "stdout",
     "output_type": "stream",
     "text": [
      "13:59:41.92 -35:49:24.3\n",
      "(210.66721306075277, -36.06379540061923)\n",
      "14:02:40.131 -36:03:49.663\n"
     ]
    }
   ],
   "source": [
    "b=\"13:59:41.92 -35:49:24.3\"\n",
    "j=C.Position(b,equinox=\"B1950\").j2000()\n",
    "print b \n",
    "print j\n",
    "print C.Position(j,equinox='J2000').hmsdms()\n"
   ]
  },
  {
   "cell_type": "code",
   "execution_count": 27,
   "metadata": {
    "collapsed": true
   },
   "outputs": [],
   "source": [
    "def J2000(b):\n",
    "    j=C.Position(b,equinox=\"B1950\").j2000()\n",
    "    print C.Position(j,equinox='J2000').hmsdms()\n",
    "    j2=C.Position(j,equinox='J2000').hmsdms()\n",
    "    return j2"
   ]
  },
  {
   "cell_type": "code",
   "execution_count": 29,
   "metadata": {
    "collapsed": false
   },
   "outputs": [
    {
     "name": "stdout",
     "output_type": "stream",
     "text": [
      "16:19:33.920 -84:18:18.775\n"
     ]
    },
    {
     "data": {
      "text/plain": [
       "'16:19:33.920 -84:18:18.775'"
      ]
     },
     "execution_count": 29,
     "metadata": {},
     "output_type": "execute_result"
    }
   ],
   "source": [
    "J2000(\"16:07:07.81 -84:10:48.8\")"
   ]
  },
  {
   "cell_type": "code",
   "execution_count": 28,
   "metadata": {
    "collapsed": false
   },
   "outputs": [
    {
     "name": "stdout",
     "output_type": "stream",
     "text": [
      "16:17:49.453 -77:17:17.989\n"
     ]
    },
    {
     "data": {
      "text/plain": [
       "'16:17:49.453 -77:17:17.989'"
      ]
     },
     "execution_count": 28,
     "metadata": {},
     "output_type": "execute_result"
    }
   ],
   "source": [
    "J2000(\"16:10:51.7 -77:09:52.0\")"
   ]
  },
  {
   "cell_type": "code",
   "execution_count": 30,
   "metadata": {
    "collapsed": false
   },
   "outputs": [
    {
     "name": "stdout",
     "output_type": "stream",
     "text": [
      "18:19:06.925 -51:58:05.219\n"
     ]
    },
    {
     "data": {
      "text/plain": [
       "'18:19:06.925 -51:58:05.219'"
      ]
     },
     "execution_count": 30,
     "metadata": {},
     "output_type": "execute_result"
    }
   ],
   "source": [
    "J2000('18:15:07.92 -51:59:20.0')"
   ]
  },
  {
   "cell_type": "code",
   "execution_count": 31,
   "metadata": {
    "collapsed": false
   },
   "outputs": [
    {
     "name": "stdout",
     "output_type": "stream",
     "text": [
      "18:19:34.985 -63:45:48.107\n"
     ]
    },
    {
     "data": {
      "text/plain": [
       "'18:19:34.985 -63:45:48.107'"
      ]
     },
     "execution_count": 31,
     "metadata": {},
     "output_type": "execute_result"
    }
   ],
   "source": [
    "J2000('18:14:45.94 -63:47:03.1')"
   ]
  },
  {
   "cell_type": "code",
   "execution_count": 33,
   "metadata": {
    "collapsed": false
   },
   "outputs": [
    {
     "name": "stdout",
     "output_type": "stream",
     "text": [
      "18:59:57.996 -66:15:02.279\n"
     ]
    },
    {
     "data": {
      "text/plain": [
       "'18:59:57.996 -66:15:02.279'"
      ]
     },
     "execution_count": 33,
     "metadata": {},
     "output_type": "execute_result"
    }
   ],
   "source": [
    "J2000('18:54:56.85 -66:19:10.9')\n"
   ]
  },
  {
   "cell_type": "code",
   "execution_count": 34,
   "metadata": {
    "collapsed": false
   },
   "outputs": [
    {
     "name": "stdout",
     "output_type": "stream",
     "text": [
      "19:59:03.747 -35:34:32.046\n"
     ]
    },
    {
     "data": {
      "text/plain": [
       "'19:59:03.747 -35:34:32.046'"
      ]
     },
     "execution_count": 34,
     "metadata": {},
     "output_type": "execute_result"
    }
   ],
   "source": [
    "J2000('19:55:48.2 -35:42:43.4')"
   ]
  },
  {
   "cell_type": "code",
   "execution_count": 35,
   "metadata": {
    "collapsed": false
   },
   "outputs": [
    {
     "name": "stdout",
     "output_type": "stream",
     "text": [
      "20:52:17.503 -36:40:29.934\n"
     ]
    },
    {
     "data": {
      "text/plain": [
       "'20:52:17.503 -36:40:29.934'"
      ]
     },
     "execution_count": 35,
     "metadata": {},
     "output_type": "execute_result"
    }
   ],
   "source": [
    "J2000('20:49:07.01 -36:51:49.3')"
   ]
  },
  {
   "cell_type": "code",
   "execution_count": 36,
   "metadata": {
    "collapsed": false
   },
   "outputs": [
    {
     "name": "stdout",
     "output_type": "stream",
     "text": [
      "22:05:04.891 -55:17:43.524\n"
     ]
    },
    {
     "data": {
      "text/plain": [
       "'22:05:04.891 -55:17:43.524'"
      ]
     },
     "execution_count": 36,
     "metadata": {},
     "output_type": "execute_result"
    }
   ],
   "source": [
    "J2000('22:01:43.9 -55:32:18.9')"
   ]
  },
  {
   "cell_type": "code",
   "execution_count": 37,
   "metadata": {
    "collapsed": false
   },
   "outputs": [
    {
     "name": "stdout",
     "output_type": "stream",
     "text": [
      "22:29:46.908 -38:23:59.358\n"
     ]
    },
    {
     "data": {
      "text/plain": [
       "'22:29:46.908 -38:23:59.358'"
      ]
     },
     "execution_count": 37,
     "metadata": {},
     "output_type": "execute_result"
    }
   ],
   "source": [
    "J2000('22:26:52.41 -38:39:22.5')"
   ]
  },
  {
   "cell_type": "code",
   "execution_count": 38,
   "metadata": {
    "collapsed": false
   },
   "outputs": [
    {
     "name": "stdout",
     "output_type": "stream",
     "text": [
      "23:22:06.841 -54:45:29.978\n"
     ]
    },
    {
     "data": {
      "text/plain": [
       "'23:22:06.841 -54:45:29.978'"
      ]
     },
     "execution_count": 38,
     "metadata": {},
     "output_type": "execute_result"
    }
   ],
   "source": [
    "J2000('23:19:16.84 -55:01:57.6')"
   ]
  }
 ],
 "metadata": {
  "kernelspec": {
   "display_name": "Python 2",
   "language": "python",
   "name": "python2"
  },
  "language_info": {
   "codemirror_mode": {
    "name": "ipython",
    "version": 2
   },
   "file_extension": ".py",
   "mimetype": "text/x-python",
   "name": "python",
   "nbconvert_exporter": "python",
   "pygments_lexer": "ipython2",
   "version": "2.7.6"
  }
 },
 "nbformat": 4,
 "nbformat_minor": 0
}
