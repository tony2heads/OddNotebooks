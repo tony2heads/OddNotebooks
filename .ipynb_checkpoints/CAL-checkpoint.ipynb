{
 "cells": [
  {
   "cell_type": "code",
   "execution_count": 44,
   "metadata": {
    "collapsed": false
   },
   "outputs": [
    {
     "name": "stdout",
     "output_type": "stream",
     "text": [
      "['ant2', 'ant3', 'ant4', 'ant5']\n"
     ]
    },
    {
     "data": {
      "text/plain": [
       "['ant2', 'ant3', 'ant4', 'ant5']"
      ]
     },
     "execution_count": 44,
     "metadata": {},
     "output_type": "execute_result"
    }
   ],
   "source": [
    "# %load \"../KAT/tony.py\"\n",
    "\n",
    "import katdal\n",
    "import numpy as np\n",
    "import matplotlib.pylab as plt\n",
    "\n",
    "import katcal\n",
    "from katcal import calprocs\n",
    "\n",
    "# ------------------------------------------------------------------------\n",
    "# open file\n",
    "file_name = '/var/kat/archive/data/comm/2015/10/17/1445061955.h5'\n",
    "\n",
    "\n",
    "f = katdal.open(file_name)\n",
    "# select polarisation\n",
    "#  solver can only work on one polarisation at a time in this framework\n",
    "f.select(pol='h')\n",
    "\n",
    "# get info that is needed for the solver\n",
    "antlist = [a.name for a in f.ants]\n",
    "print antlist\n",
    "corr_products = f.corr_products\n",
    "#antlist1, antlist2 = calprocs.get_solver_antlists(antlist,corr_products)\n",
    "\"\"\"\n",
    "lista=[]\n",
    "for n in antlist:\n",
    "    i=int(n.lstrip('ant'))\n",
    "    lista.append(i)\n",
    "    \n",
    "print lista\n",
    "antlist1=np.array(lista)\n",
    "antlist2=antlist1[1:]\n",
    "#print repr(antlist1),repr(antlist2)\n",
    "antlist=np.array([1,1,1,1])\n",
    "\"\"\"\n",
    "antlist"
   ]
  },
  {
   "cell_type": "code",
   "execution_count": 45,
   "metadata": {
    "collapsed": false
   },
   "outputs": [
    {
     "name": "stdout",
     "output_type": "stream",
     "text": [
      "[['ant2h' 'ant2h']\n",
      " ['ant2h' 'ant3h']\n",
      " ['ant3h' 'ant3h']\n",
      " ['ant2h' 'ant4h']\n",
      " ['ant3h' 'ant4h']\n",
      " ['ant4h' 'ant4h']\n",
      " ['ant2h' 'ant5h']\n",
      " ['ant3h' 'ant5h']\n",
      " ['ant4h' 'ant5h']\n",
      " ['ant5h' 'ant5h']] (10, 2)\n",
      "['ant2h' 'ant3h']\n"
     ]
    }
   ],
   "source": [
    "print f.corr_products, f.corr_products.shape\n",
    "print f.corr_products[1]"
   ]
  },
  {
   "cell_type": "code",
   "execution_count": 68,
   "metadata": {
    "collapsed": false
   },
   "outputs": [
    {
     "name": "stdout",
     "output_type": "stream",
     "text": [
      "array([2, 3, 3, 4, 4, 4, 5, 5, 5, 5])\n"
     ]
    }
   ],
   "source": [
    "antlist1=np.array([2,2,3,2,3,4,2,3,4,5])\n",
    "antlist2=np.array([2,3,3,4,4,4,5,5,5,5])\n",
    "print repr(antlist2)"
   ]
  },
  {
   "cell_type": "code",
   "execution_count": 61,
   "metadata": {
    "collapsed": false
   },
   "outputs": [
    {
     "data": {
      "text/plain": [
       "(17, 1024, 10)"
      ]
     },
     "execution_count": 61,
     "metadata": {},
     "output_type": "execute_result"
    }
   ],
   "source": [
    "vis.shape"
   ]
  },
  {
   "cell_type": "code",
   "execution_count": 69,
   "metadata": {
    "collapsed": false
   },
   "outputs": [
    {
     "data": {
      "text/plain": [
       "'ant5'"
      ]
     },
     "execution_count": 69,
     "metadata": {},
     "output_type": "execute_result"
    }
   ],
   "source": [
    "f.ref_ant"
   ]
  },
  {
   "cell_type": "code",
   "execution_count": 70,
   "metadata": {
    "collapsed": false
   },
   "outputs": [
    {
     "ename": "ValueError",
     "evalue": "1 is not in list",
     "output_type": "error",
     "traceback": [
      "\u001b[1;31m---------------------------------------------------------------------------\u001b[0m",
      "\u001b[1;31mValueError\u001b[0m                                Traceback (most recent call last)",
      "\u001b[1;32m<ipython-input-70-17e6cd7a5275>\u001b[0m in \u001b[0;36m<module>\u001b[1;34m()\u001b[0m\n\u001b[0;32m     12\u001b[0m         \u001b[0mave_vis\u001b[0m \u001b[1;33m=\u001b[0m \u001b[0mnp\u001b[0m\u001b[1;33m.\u001b[0m\u001b[0maverage\u001b[0m\u001b[1;33m(\u001b[0m\u001b[0mvis\u001b[0m\u001b[1;33m,\u001b[0m\u001b[0maxis\u001b[0m\u001b[1;33m=\u001b[0m\u001b[1;36m1\u001b[0m\u001b[1;33m)\u001b[0m\u001b[1;33m\u001b[0m\u001b[0m\n\u001b[0;32m     13\u001b[0m         \u001b[1;31m# solve for gains for every timestamp\u001b[0m\u001b[1;33m\u001b[0m\u001b[1;33m\u001b[0m\u001b[0m\n\u001b[1;32m---> 14\u001b[1;33m         \u001b[0mgsoln\u001b[0m \u001b[1;33m=\u001b[0m \u001b[0mcalprocs\u001b[0m\u001b[1;33m.\u001b[0m\u001b[0mg_fit\u001b[0m\u001b[1;33m(\u001b[0m\u001b[0mave_vis\u001b[0m\u001b[1;33m,\u001b[0m\u001b[0mNone\u001b[0m\u001b[1;33m,\u001b[0m\u001b[0mantlist1\u001b[0m\u001b[1;33m,\u001b[0m\u001b[0mantlist2\u001b[0m\u001b[1;33m,\u001b[0m\u001b[0mrefant\u001b[0m\u001b[1;33m=\u001b[0m\u001b[1;36m0\u001b[0m\u001b[1;33m,\u001b[0m\u001b[0malgorithm\u001b[0m\u001b[1;33m=\u001b[0m\u001b[1;34m'adi'\u001b[0m\u001b[1;33m)\u001b[0m\u001b[1;33m\u001b[0m\u001b[0m\n\u001b[0m\u001b[0;32m     15\u001b[0m \u001b[1;33m\u001b[0m\u001b[0m\n\u001b[0;32m     16\u001b[0m         \u001b[1;32mfor\u001b[0m \u001b[0mg\u001b[0m \u001b[1;32min\u001b[0m \u001b[0mgsoln\u001b[0m\u001b[1;33m:\u001b[0m \u001b[0mglist\u001b[0m\u001b[1;33m.\u001b[0m\u001b[0mappend\u001b[0m\u001b[1;33m(\u001b[0m\u001b[0mg\u001b[0m\u001b[1;33m)\u001b[0m\u001b[1;33m\u001b[0m\u001b[0m\n",
      "\u001b[1;32m/usr/local/lib/python2.7/dist-packages/katcal/calprocs.pyc\u001b[0m in \u001b[0;36mg_fit\u001b[1;34m(data, g0, antlist1, antlist2, refant, algorithm)\u001b[0m\n\u001b[0;32m    435\u001b[0m     \u001b[1;31m# stefcal needs the visibilities as a list of [vis,vis.conjugate]\u001b[0m\u001b[1;33m\u001b[0m\u001b[1;33m\u001b[0m\u001b[0m\n\u001b[0;32m    436\u001b[0m     \u001b[0mvis_and_conj\u001b[0m \u001b[1;33m=\u001b[0m \u001b[0mnp\u001b[0m\u001b[1;33m.\u001b[0m\u001b[0mconcatenate\u001b[0m\u001b[1;33m(\u001b[0m\u001b[1;33m(\u001b[0m\u001b[0mdata\u001b[0m\u001b[1;33m,\u001b[0m \u001b[0mdata\u001b[0m\u001b[1;33m.\u001b[0m\u001b[0mconj\u001b[0m\u001b[1;33m(\u001b[0m\u001b[1;33m)\u001b[0m\u001b[1;33m)\u001b[0m\u001b[1;33m)\u001b[0m\u001b[1;33m\u001b[0m\u001b[0m\n\u001b[1;32m--> 437\u001b[1;33m     \u001b[0mgainsoln\u001b[0m \u001b[1;33m=\u001b[0m \u001b[0mstefcal\u001b[0m\u001b[1;33m(\u001b[0m\u001b[0mvis_and_conj\u001b[0m\u001b[1;33m,\u001b[0m \u001b[0mnum_ants\u001b[0m\u001b[1;33m,\u001b[0m \u001b[0mantlist1\u001b[0m\u001b[1;33m,\u001b[0m \u001b[0mantlist2\u001b[0m\u001b[1;33m,\u001b[0m \u001b[0mweights\u001b[0m\u001b[1;33m=\u001b[0m\u001b[1;36m1.0\u001b[0m\u001b[1;33m,\u001b[0m \u001b[0mnum_iters\u001b[0m\u001b[1;33m=\u001b[0m\u001b[1;36m100\u001b[0m\u001b[1;33m,\u001b[0m \u001b[0mref_ant\u001b[0m\u001b[1;33m=\u001b[0m\u001b[0mrefant\u001b[0m\u001b[1;33m,\u001b[0m \u001b[0minit_gain\u001b[0m\u001b[1;33m=\u001b[0m\u001b[0mg0\u001b[0m\u001b[1;33m,\u001b[0m \u001b[0malgorithm\u001b[0m\u001b[1;33m=\u001b[0m\u001b[0malgorithm\u001b[0m\u001b[1;33m)\u001b[0m\u001b[1;33m\u001b[0m\u001b[0m\n\u001b[0m\u001b[0;32m    438\u001b[0m \u001b[1;33m\u001b[0m\u001b[0m\n\u001b[0;32m    439\u001b[0m     \u001b[1;32mreturn\u001b[0m \u001b[0mgainsoln\u001b[0m\u001b[1;33m\u001b[0m\u001b[0m\n",
      "\u001b[1;32m/usr/local/lib/python2.7/dist-packages/katcal/calprocs.pyc\u001b[0m in \u001b[0;36mstefcal\u001b[1;34m(vis, num_ants, antA, antB, weights, num_iters, ref_ant, init_gain, model, algorithm, conv_thresh, verbose)\u001b[0m\n\u001b[0;32m     48\u001b[0m     \u001b[1;32mif\u001b[0m \u001b[0malgorithm\u001b[0m \u001b[1;33m==\u001b[0m \u001b[1;34m'adi'\u001b[0m\u001b[1;33m:\u001b[0m\u001b[1;33m\u001b[0m\u001b[0m\n\u001b[0;32m     49\u001b[0m         return adi_stefcal(vis, num_ants, antA, antB, weights, num_iters, ref_ant, \n\u001b[1;32m---> 50\u001b[1;33m                 init_gain, model, conv_thresh, verbose)\n\u001b[0m\u001b[0;32m     51\u001b[0m     \u001b[1;32melif\u001b[0m \u001b[0malgorithm\u001b[0m \u001b[1;33m==\u001b[0m \u001b[1;34m'schwardt'\u001b[0m\u001b[1;33m:\u001b[0m\u001b[1;33m\u001b[0m\u001b[0m\n\u001b[0;32m     52\u001b[0m         return schwardt_stefcal(vis, num_ants, antA, antB, weights, num_iters, ref_ant, \n",
      "\u001b[1;32m/usr/local/lib/python2.7/dist-packages/katcal/calprocs.pyc\u001b[0m in \u001b[0;36madi_stefcal\u001b[1;34m(vis, num_ants, antA, antB, weights, num_iters, ref_ant, init_gain, model, conv_thresh, verbose)\u001b[0m\n\u001b[0;32m    187\u001b[0m             \u001b[0mantlist\u001b[0m \u001b[1;33m=\u001b[0m \u001b[0mrange\u001b[0m\u001b[1;33m(\u001b[0m\u001b[0mnum_ants\u001b[0m\u001b[1;33m)\u001b[0m\u001b[1;33m\u001b[0m\u001b[0m\n\u001b[0;32m    188\u001b[0m             \u001b[0mantlist\u001b[0m\u001b[1;33m.\u001b[0m\u001b[0mpop\u001b[0m\u001b[1;33m(\u001b[0m\u001b[0mp\u001b[0m\u001b[1;33m)\u001b[0m\u001b[1;33m\u001b[0m\u001b[0m\n\u001b[1;32m--> 189\u001b[1;33m             \u001b[0mantB_order_indices\u001b[0m \u001b[1;33m=\u001b[0m \u001b[1;33m[\u001b[0m\u001b[0mantB_order\u001b[0m\u001b[1;33m.\u001b[0m\u001b[0mindex\u001b[0m\u001b[1;33m(\u001b[0m\u001b[0mj\u001b[0m\u001b[1;33m)\u001b[0m \u001b[1;32mfor\u001b[0m \u001b[0mj\u001b[0m \u001b[1;32min\u001b[0m \u001b[0mantlist\u001b[0m\u001b[1;33m]\u001b[0m\u001b[1;33m\u001b[0m\u001b[0m\n\u001b[0m\u001b[0;32m    190\u001b[0m \u001b[1;33m\u001b[0m\u001b[0m\n\u001b[0;32m    191\u001b[0m             \u001b[1;31m# g[p] <- (R[:,p] dot z)/(z^H dot z)\u001b[0m\u001b[1;33m\u001b[0m\u001b[1;33m\u001b[0m\u001b[0m\n",
      "\u001b[1;31mValueError\u001b[0m: 1 is not in list"
     ]
    }
   ],
   "source": [
    "\n",
    "glist = []\n",
    "tlist = []\n",
    "\n",
    "for scan_ind, scan_state, target in f.scans():     \n",
    "    if 'track' in scan_state and 'gaincal' in target.tags:\n",
    "\n",
    "        vis = f.vis[:]\n",
    "        times = f.timestamps[:]\n",
    "\n",
    "        # average all channels together\n",
    "        ave_vis = np.average(vis,axis=1)\n",
    "        # solve for gains for every timestamp\n",
    "        gsoln = calprocs.g_fit(ave_vis,None,antlist1,antlist2,refant=0,algorithm='adi')\n",
    "\n",
    "        for g in gsoln: glist.append(g)\n",
    "        for t in times: tlist.append(t)\n",
    "\n",
    "abs_g = np.abs(np.squeeze(glist))\n",
    "phase_g = np.angle(np.squeeze(glist))\n",
    "t = np.squeeze(tlist)\n",
    "\n",
    "# plot gains\n",
    "plt.subplot(211)\n",
    "plt.plot(t,abs_g,'.')\n",
    "plt.subplot(212)\n",
    "plt.plot(t,180.*phase_g/np.pi,'.')\n",
    "plt.show()\n",
    "\n"
   ]
  },
  {
   "cell_type": "code",
   "execution_count": 52,
   "metadata": {
    "collapsed": true
   },
   "outputs": [],
   "source": [
    "# ------------------------------------------------------------------------\n",
    "# solve for bandpasses \n",
    "\n",
    "bplist = []\n",
    "tlist = []\n",
    "\n",
    "for scan_ind, scan_state, target in f.scans(): \n",
    "        \n",
    "    if 'track' in scan_state and 'bpcal' in target.tags:\n",
    "\n",
    "        vis = f.vis[:]\n",
    "        times = f.timestamps[:]\n",
    "         \n",
    "        # average all times in this scan together\n",
    "        ave_vis = np.average(vis,axis=0)\n",
    "        # solve for bandpass\n",
    "        bpsoln = calprocs.bp_fit(ave_vis,antlist1,antlist2,bp0=None,refant=2,algorithm='adi')\n",
    "\n",
    "        bplist.append(bpsoln)\n",
    "        tlist.append(np.average(t))\n",
    "\n",
    "abs_bp = np.abs(np.squeeze(bplist))\n",
    "t = np.squeeze(tlist)\n",
    "\n",
    "# plot bp for each bp scan\n",
    "for ti in t:\n",
    "   for bp in abs_bp.T:\n",
    "      plt.plot(bp)\n",
    "   plt.show()\n",
    "\n",
    "\n"
   ]
  },
  {
   "cell_type": "code",
   "execution_count": null,
   "metadata": {
    "collapsed": true
   },
   "outputs": [],
   "source": []
  },
  {
   "cell_type": "code",
   "execution_count": null,
   "metadata": {
    "collapsed": true
   },
   "outputs": [],
   "source": []
  }
 ],
 "metadata": {
  "kernelspec": {
   "display_name": "Python 2",
   "language": "python",
   "name": "python2"
  },
  "language_info": {
   "codemirror_mode": {
    "name": "ipython",
    "version": 2
   },
   "file_extension": ".py",
   "mimetype": "text/x-python",
   "name": "python",
   "nbconvert_exporter": "python",
   "pygments_lexer": "ipython2",
   "version": "2.7.6"
  }
 },
 "nbformat": 4,
 "nbformat_minor": 0
}
