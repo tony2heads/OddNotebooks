{
 "cells": [
  {
   "cell_type": "markdown",
   "metadata": {},
   "source": [
    "# This is testsing my understandig of classes"
   ]
  },
  {
   "cell_type": "code",
   "execution_count": 1,
   "metadata": {
    "collapsed": true
   },
   "outputs": [],
   "source": [
    "import numpy as np"
   ]
  },
  {
   "cell_type": "code",
   "execution_count": 2,
   "metadata": {
    "collapsed": true
   },
   "outputs": [],
   "source": [
    "np.set_printoptions(precision=2)"
   ]
  },
  {
   "cell_type": "code",
   "execution_count": 3,
   "metadata": {
    "collapsed": true
   },
   "outputs": [],
   "source": [
    "class radiosource(object):\n",
    "    \"\"\"\n",
    "    calculates stuff from observable parameters\n",
    "    redshift (no units)\n",
    "    flux density (Jy)\n",
    "    frequency    (GHz)\n",
    "    spectral index (no units)\n",
    "    (largest) angular size arcseconds\n",
    "    (shortest) angular size arcseconds\n",
    "    \n",
    "    Go on to calculate brightness temperatures and equipartion values\n",
    "    \"\"\"\n",
    "    def __init__(self,z,S,f,index,las,sas):\n",
    "        self.z=z\n",
    "        self.S=S\n",
    "        self.f=f\n",
    "        self.index =index\n",
    "        self.las=las\n",
    "        self.sas=sas\n",
    "        \n",
    "    def Tb(self):\n",
    "        \"\"\"\n",
    "        calculate observed brightness temperatures\n",
    "        \"\"\"\n",
    "        t=1.3e6*self.S*(1+self.z)/(self.las*self.sas*self.f*self.f)\n",
    "        return t\n",
    "    \n",
    "    def s(self,f2):\n",
    "        \"\"\"\n",
    "        Flux density at some other frequency (f2)\n",
    "        \"\"\"\n",
    "        s=self.S*(self.f/f2)**(self.index)\n",
    "        return s\n",
    "    \n",
    "    def kpc_s(self):\n",
    "        \"\"\"\n",
    "        from redshift and cosmology calculate angular size scale in \n",
    "        kpc per arcsecond\n",
    "        Uses the Pen approximation for scale factor\n",
    "        \"\"\"\n",
    "        z=self.z\n",
    "        # Some parameters needed\n",
    "        m=0.3 # Omega_m\n",
    "        hubble=68. # Hubble constant\n",
    "        c_h=299.8/hubble # Hubble radius in Gpc\n",
    "        ascale=206264.806 # arcseconds per radian\n",
    "        #\n",
    "        def eta(a,m):       #PEN\n",
    "            s=((1.-m)/m)**(1./3.)\n",
    "            e=2*np.sqrt(s**3+1)*(1./a**4 -0.1540*s/(a**3) +0.4304*s*s/(a*a) \\\n",
    "                      +0.19097*s**3/a +0.066941*s**4)**(-0.125)\n",
    "            return e\n",
    "\n",
    "        dm=c_h*(eta(1,m)-eta(1./(1.+z),m))\n",
    "        das=dm/(1.+z)          # angular size distance\n",
    "        dlum=dm*(1.+z)         #luminosity distance\n",
    "        kpc_per_sec= das*1e6/ascale # 1e6 to get from Gpc to kpc\n",
    "        return kpc_per_sec\n",
    "    \n",
    "    def f12(self):\n",
    "        \"\"\"\n",
    "        frequency where extrapolated brightness temperature is 10^12K\n",
    "        \"\"\"\n",
    "        b=self.S/(self.las*self.sas*self.f*self.f)\n",
    "        f=(1.387e-6*b)**(1.0/2+self.index)\n",
    "        return f\n",
    "            "
   ]
  },
  {
   "cell_type": "code",
   "execution_count": 4,
   "metadata": {},
   "outputs": [
    {
     "name": "stdout",
     "output_type": "stream",
     "text": [
      "1.3 GHz\n",
      "6.51Jy at different freq\n",
      "8.418kpc/arcsec\n",
      "Sizes 0.842kpc by 0.842kpc\n",
      "1.615e+09K\n",
      "0.0001982GHz where this is self absorbed\n"
     ]
    }
   ],
   "source": [
    "pks1934=radiosource(z=1.1,S=10., f=1.3, index=0.7, las=0.1,sas=0.1)\n",
    "print pks1934.f, \"GHz\"\n",
    "print  \"{:.2f}Jy at different freq\".format(pks1934.s(2.4))\n",
    "print \"{:.3f}kpc/arcsec\".format(pks1934.kpc_s()) \n",
    "print \"Sizes {:.3f}kpc by {:.3f}kpc\".format(pks1934.las*pks1934.kpc_s(), pks1934.sas*pks1934.kpc_s())\n",
    "print \"{:.4g}K\".format(pks1934.Tb())\n",
    "print \"{:.4g}GHz where this is self absorbed\".format(pks1934.f12())"
   ]
  }
 ],
 "metadata": {
  "kernelspec": {
   "display_name": "Python 2",
   "language": "python",
   "name": "python2"
  },
  "language_info": {
   "codemirror_mode": {
    "name": "ipython",
    "version": 2
   },
   "file_extension": ".py",
   "mimetype": "text/x-python",
   "name": "python",
   "nbconvert_exporter": "python",
   "pygments_lexer": "ipython2",
   "version": "2.7.6"
  }
 },
 "nbformat": 4,
 "nbformat_minor": 2
}
