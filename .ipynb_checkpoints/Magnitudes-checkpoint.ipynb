{
 "cells": [
  {
   "cell_type": "code",
   "execution_count": 53,
   "metadata": {},
   "outputs": [],
   "source": [
    "# Lookup table by band is wanted\n",
    "import math\n",
    "\n",
    "F={'U':1.88e-23, 'B':4.44e-23, 'V':3.81e-23, 'R':3.01e-23, 'I':2.43e-23, 'J':1.77e-23, 'K':6.3e-24,\\\n",
    "   'L':3.1e-24, 'M':1.8e-24, 'N':4.3e-25 }"
   ]
  },
  {
   "cell_type": "code",
   "execution_count": 54,
   "metadata": {},
   "outputs": [
    {
     "name": "stdout",
     "output_type": "stream",
     "text": [
      "1.88e-23\n"
     ]
    }
   ],
   "source": [
    "print F['U']"
   ]
  },
  {
   "cell_type": "code",
   "execution_count": 55,
   "metadata": {},
   "outputs": [
    {
     "name": "stdout",
     "output_type": "stream",
     "text": [
      "U 7.484e-04\n",
      "B 1.768e-03\n",
      "V 1.517e-03\n",
      "R 1.198e-03\n",
      "I 9.674e-04\n"
     ]
    }
   ],
   "source": [
    "def jansky(mag,band):\n",
    "    jy=F[band]*10**(26-0.4*mag)\n",
    "    return jy\n",
    "\n",
    "for band in ('U','B','V','R','I'):\n",
    "    print(\"%s %.3e\") %(band, jansky(16,band))"
   ]
  },
  {
   "cell_type": "code",
   "execution_count": 56,
   "metadata": {},
   "outputs": [],
   "source": [
    "def magnitude(jy,band):\n",
    "    f=F[band]\n",
    "    mag=2.5*(26+math.log10(f)- math.log10(jy))\n",
    "    return mag\n"
   ]
  },
  {
   "cell_type": "code",
   "execution_count": 57,
   "metadata": {},
   "outputs": [
    {
     "name": "stdout",
     "output_type": "stream",
     "text": [
      "U 15.6853946232\n",
      "B 16.6184574253\n",
      "V 16.4523124392\n",
      "R 16.196416239\n",
      "I 15.964015684\n"
     ]
    }
   ],
   "source": [
    "for band in ('U','B','V','R','I'):\n",
    "    print band, magnitude(1e-3,band)"
   ]
  },
  {
   "cell_type": "code",
   "execution_count": 58,
   "metadata": {},
   "outputs": [],
   "source": [
    "def mab(jy):\n",
    "    F=1e-23*jy\n",
    "    magab=-48.6-2.5*math.log10(F)\n",
    "    return magab\n"
   ]
  },
  {
   "cell_type": "code",
   "execution_count": 59,
   "metadata": {},
   "outputs": [
    {
     "name": "stdout",
     "output_type": "stream",
     "text": [
      "16.4\n"
     ]
    }
   ],
   "source": [
    "print mab(1.0e-3)"
   ]
  },
  {
   "cell_type": "code",
   "execution_count": 60,
   "metadata": {},
   "outputs": [
    {
     "data": {
      "text/plain": [
       "['N', 'B', 'U', 'V', 'I', 'R', 'J', 'M', 'K', 'L']"
      ]
     },
     "execution_count": 60,
     "metadata": {},
     "output_type": "execute_result"
    }
   ],
   "source": [
    "F.keys()"
   ]
  },
  {
   "cell_type": "code",
   "execution_count": 61,
   "metadata": {},
   "outputs": [
    {
     "data": {
      "text/plain": [
       "['B', 'I', 'J', 'K', 'L', 'M', 'N', 'R', 'U', 'V']"
      ]
     },
     "execution_count": 61,
     "metadata": {},
     "output_type": "execute_result"
    }
   ],
   "source": [
    "sorted(F.keys())"
   ]
  },
  {
   "cell_type": "code",
   "execution_count": 62,
   "metadata": {},
   "outputs": [
    {
     "name": "stdout",
     "output_type": "stream",
     "text": [
      "N 4.3e-25\n",
      "B 4.44e-23\n",
      "U 1.88e-23\n",
      "V 3.81e-23\n",
      "I 2.43e-23\n",
      "R 3.01e-23\n",
      "J 1.77e-23\n",
      "M 1.8e-24\n",
      "K 6.3e-24\n",
      "L 3.1e-24\n"
     ]
    }
   ],
   "source": [
    "for x,y in F.iteritems():\n",
    "    print x,y"
   ]
  },
  {
   "cell_type": "code",
   "execution_count": 62,
   "metadata": {},
   "outputs": [],
   "source": []
  }
 ],
 "metadata": {
  "kernelspec": {
   "display_name": "Python 2",
   "language": "python",
   "name": "python2"
  },
  "language_info": {
   "codemirror_mode": {
    "name": "ipython",
    "version": 2
   },
   "file_extension": ".py",
   "mimetype": "text/x-python",
   "name": "python",
   "nbconvert_exporter": "python",
   "pygments_lexer": "ipython2",
   "version": "2.7.6"
  }
 },
 "nbformat": 4,
 "nbformat_minor": 1
}
