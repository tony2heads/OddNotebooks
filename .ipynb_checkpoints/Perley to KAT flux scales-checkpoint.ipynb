{
 "cells": [
  {
   "cell_type": "markdown",
   "metadata": {},
   "source": [
    "# Perley & Butler, give log polynomials (in GHz)\n",
    "Log(S)=A+B×(log(ν))+C×(log(ν))2+D×(log(ν))3Log(S)=A+B×(log(ν))+C×(log(ν))2+D×(log(ν))3 \n",
    "# But I want in MHz\n",
    "Log(S)=a+b×(log(F))+c×(log(F))2+d×(log(F))3Log(S)=a+b×(log(F))+c×(log(F))2+d×(log(F))3 \n",
    "Where F is in MHz"
   ]
  },
  {
   "cell_type": "code",
   "execution_count": 1,
   "metadata": {},
   "outputs": [],
   "source": [
    "def toM(params):\n",
    "    \"\"\"\n",
    "    A, B, C and D are Perley's coefficients for GHz\n",
    "    a, b, c, d are for Our models - in MHz\n",
    "    \"\"\"\n",
    "    A,B,C,D=params\n",
    "    a=A -3*B + 9*C  -27*D\n",
    "    b=B -6*C +27*D\n",
    "    c=C -9*D\n",
    "    d=D\n",
    "    return(a,b,c,d)"
   ]
  },
  {
   "cell_type": "code",
   "execution_count": 2,
   "metadata": {},
   "outputs": [],
   "source": [
    "\"\"\"\n",
    "Perley values from 0.3GHz to 50GHz\n",
    "1999\n",
    "\"\"\"\n",
    "p3C48 = (1.31752,-0.74090, -0.16708,  +0.01525)\n",
    "p3C138= ( 1.00761,-0.55629,  -0.11134,  -0.01460)\n",
    "p3C286= (1.23734, -0.43276,  -0.14223,  +0.00345)"
   ]
  },
  {
   "cell_type": "code",
   "execution_count": 3,
   "metadata": {},
   "outputs": [
    {
     "name": "stdout",
     "output_type": "stream",
     "text": [
      "1.62475 0.67333 -0.30433 0.01525\n",
      "2.06862 -0.28245 0.02006 -0.01460\n",
      "1.16240 0.51377 -0.17328 0.00345\n"
     ]
    }
   ],
   "source": [
    "toM(p3C48[:])\n",
    "print (\"%7.5f %7.5f %7.5f %7.5f\") %(toM(p3C48))\n",
    "print (\"%7.5f %7.5f %7.5f %7.5f\") %(toM(p3C138))\n",
    "print (\"%7.5f %7.5f %7.5f %7.5f\") %(toM(p3C286))\n"
   ]
  },
  {
   "cell_type": "code",
   "execution_count": 4,
   "metadata": {},
   "outputs": [],
   "source": [
    "\"\"\"\n",
    "Perley values from 1GHz to 50GHz\n",
    "2013\n",
    "\"\"\"\n",
    "p3C48 = (1.3324,-0.7690, -0.1950,  +0.059)\n",
    "p3C138= ( 1.0332,-0.5608,  -0.1197,  -0.041)"
   ]
  },
  {
   "cell_type": "code",
   "execution_count": 5,
   "metadata": {},
   "outputs": [
    {
     "name": "stdout",
     "output_type": "stream",
     "text": [
      "0.29140 1.99400 -0.72600 0.05900\n",
      "2.74530 -0.94960 0.24930 -0.04100\n"
     ]
    }
   ],
   "source": [
    "print (\"%7.5f %7.5f %7.5f %7.5f\") %(toM(p3C48))\n",
    "print (\"%7.5f %7.5f %7.5f %7.5f\") %(toM(p3C138))\n",
    "\n"
   ]
  },
  {
   "cell_type": "code",
   "execution_count": 6,
   "metadata": {},
   "outputs": [],
   "source": [
    "\"\"\"\n",
    "Perley and Butler 2016 values from 0.05GHz to 50GHz\n",
    "\"\"\"\n",
    "\n",
    "p3C48 = (1.3253,-0.7553, -0.1914,  +0.0498)\n",
    "p3C138= ( 1.0088,-0.4981,  -0.155,  -0.010) # and a 5th param 0.022\n",
    "p3C286= (1.2481, -0.4507,  -0.1798,  +0.0357)\n"
   ]
  },
  {
   "cell_type": "code",
   "execution_count": 7,
   "metadata": {},
   "outputs": [
    {
     "name": "stdout",
     "output_type": "stream",
     "text": [
      "0.52400 1.73770 -0.63960 0.04980\n",
      "1.37810 0.16190 -0.06500 -0.01000\n",
      "0.01810 1.59200 -0.50110 0.03570\n"
     ]
    }
   ],
   "source": [
    "print (\"%7.5f %7.5f %7.5f %7.5f\") %(toM(p3C48))\n",
    "print (\"%7.5f %7.5f %7.5f %7.5f\") %(toM(p3C138))\n",
    "print (\"%7.5f %7.5f %7.5f %7.5f\") %(toM(p3C286))\n"
   ]
  },
  {
   "cell_type": "code",
   "execution_count": 8,
   "metadata": {},
   "outputs": [
    {
     "name": "stdout",
     "output_type": "stream",
     "text": [
      "3.90500 -0.83700 0.11970 -0.02480\n",
      "4.98860 -1.74400 0.55600 -0.06700\n",
      "4.15160 -0.78890 0.04110 -0.01390\n",
      "4.44940 -0.52360 -0.04800 0.00000\n",
      "4.04800 -0.45410 -0.09510 0.00000\n",
      "3.90810 -0.95780 0.18800 -0.03200\n"
     ]
    }
   ],
   "source": [
    "p3C123=(1.8017, -0.7884, -0.1035, -0.0248)\n",
    "TauA=( 2.9516, -0.217, -0.047, -0.067)\n",
    "#OriA=() # no fits\n",
    "HydA=(1.7795, -0.9176, -0.084, -0.0139)\n",
    "VirA=(2.4466, -0.8116, -0.048, 0)\n",
    "HercA=(1.8298, -1.0247, -0.0951, 0.0)\n",
    "p3C353=(1.8627, -0.6938, -0.100, -0.032)\n",
    "print (\"%7.5f %7.5f %7.5f %7.5f\") %(toM(p3C123))\n",
    "print (\"%7.5f %7.5f %7.5f %7.5f\") %(toM(TauA))\n",
    "print (\"%7.5f %7.5f %7.5f %7.5f\") %(toM(HydA))\n",
    "print (\"%7.5f %7.5f %7.5f %7.5f\") %(toM(VirA))\n",
    "print (\"%7.5f %7.5f %7.5f %7.5f\") %(toM(HercA))\n",
    "print (\"%7.5f %7.5f %7.5f %7.5f\") %(toM(p3C353))\n",
    "                "
   ]
  },
  {
   "cell_type": "code",
   "execution_count": null,
   "metadata": {},
   "outputs": [],
   "source": []
  }
 ],
 "metadata": {
  "kernelspec": {
   "display_name": "Python 2",
   "language": "python",
   "name": "python2"
  },
  "language_info": {
   "codemirror_mode": {
    "name": "ipython",
    "version": 2
   },
   "file_extension": ".py",
   "mimetype": "text/x-python",
   "name": "python",
   "nbconvert_exporter": "python",
   "pygments_lexer": "ipython2",
   "version": "2.7.17"
  }
 },
 "nbformat": 4,
 "nbformat_minor": 2
}
