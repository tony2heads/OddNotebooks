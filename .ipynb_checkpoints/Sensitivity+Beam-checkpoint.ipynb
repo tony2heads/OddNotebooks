{
 "cells": [
  {
   "cell_type": "code",
   "execution_count": 15,
   "metadata": {},
   "outputs": [],
   "source": [
    "\"\"\"\n",
    "Odd formulae\n",
    "To do with sensitivity, beam etc,\n",
    "\"\"\"\n",
    "import math as m\n",
    "\n",
    "lat=-30.711055555 #degrees south\n",
    "\n",
    "slat=m.sin(m.radians(lat))\n",
    "clat=m.cos(m.radians(lat))\n",
    "#\n",
    "\n",
    "dec=-50.\n",
    "ha=-33.\n",
    "\n",
    "sdec=m.sin(m.radians(dec))\n",
    "cdec=m.cos(m.radians(dec))\n",
    "cha=m.cos(m.radians(ha))\n",
    "sha=m.sin(m.radians(ha))\n",
    "#print clat,slat,sdec,cdec,cha,sha"
   ]
  },
  {
   "cell_type": "code",
   "execution_count": 40,
   "metadata": {},
   "outputs": [
    {
     "name": "stdout",
     "output_type": "stream",
     "text": [
      "Wavelength  59.96cm  \t resolution 247.35\"\n"
     ]
    }
   ],
   "source": [
    "\"\"\"\n",
    "Bandwidth,integration, baselines, freq\n",
    "delay beams, fringe beams\n",
    "\n",
    "\"\"\"\n",
    "# a few constants\n",
    "ar= 3600*m.degrees(1) #arcseconds per radian - about 206265\n",
    "day=23.9344696*3600 # sideral day in sec\n",
    "c=299792.458 #km/s\n",
    "#print ar,day,c\n",
    "\n",
    "theta=3600*2 #arcseonds source separations\n",
    "\n",
    "bw=546. #MHz\n",
    "t=4. #sec\n",
    "d=0.5 #km\n",
    "f=0.5 #GHz\n",
    "\n",
    "lam=0.0001*c/f #wavelength/cm\n",
    "\n",
    "res=lam*0.00001*ar/d  #arcsec\n",
    "print (\"Wavelength %6.2fcm  \\t resolution %6.2f\\\"\") %(lam,res) "
   ]
  },
  {
   "cell_type": "code",
   "execution_count": 41,
   "metadata": {},
   "outputs": [
    {
     "name": "stdout",
     "output_type": "stream",
     "text": [
      "Azimuth 141.360 Elevation 58.727 Parallactic angle -64.427\n"
     ]
    }
   ],
   "source": [
    "parallac=m.atan2(sha*clat,(cdec*slat-sdec*clat*cha))\n",
    "x=sdec*slat+cdec*cha*clat\n",
    "elev=m.asin(x)\n",
    "az=cdec*sha/m.sqrt(1-x*x)\n",
    "#az=(elev-sdec*slat)/(cdec*clat)\n",
    "az=az+m.pi\n",
    "#print m.degrees(parallac), m.degrees(elev), m.degrees(az)\n",
    "print (\"Azimuth %6.3f Elevation %6.3f Parallactic angle %6.3f\") %(m.degrees(az),m.degrees(elev) , m.degrees(parallac))"
   ]
  },
  {
   "cell_type": "code",
   "execution_count": 42,
   "metadata": {},
   "outputs": [
    {
     "name": "stdout",
     "output_type": "stream",
     "text": [
      "Minimum elevation reached at HA 95.108\n",
      "Total time up  12.68hr\n"
     ]
    }
   ],
   "source": [
    "min=20. #minimum elevation\n",
    "\n",
    "smin=m.sin(m.radians(min))\n",
    "y=(smin-sdec*slat)/(cdec*clat)\n",
    "#print y\n",
    "if y <1.0 and y > -1.0:\n",
    "    amin=m.acos(y)\n",
    "    print (\"Minimum elevation reached at HA %6.3f\") %(m.degrees(amin))\n",
    "    print (\"Total time up %6.2fhr\") %((m.degrees(amin))*2/15)\n",
    "else:\n",
    "    print(\"Circumpolar\")"
   ]
  },
  {
   "cell_type": "code",
   "execution_count": 43,
   "metadata": {},
   "outputs": [
    {
     "name": "stdout",
     "output_type": "stream",
     "text": [
      "226.507814153\n"
     ]
    }
   ],
   "source": [
    "delaybeam=c*ar*0.000001/(d*bw)  #arcseconds\n",
    "print delaybeam"
   ]
  },
  {
   "cell_type": "markdown",
   "metadata": {},
   "source": [
    "If field size is $\\theta$ basline B wavelength $\\lambda$  then the maximum difference in fringe rate (Hz) and there are DAY seconds per day\n",
    "\n",
    "$df = \\frac{B}{\\lambda} \\theta \\frac{2\\pi}{DAY}$\n",
    "\n"
   ]
  },
  {
   "cell_type": "code",
   "execution_count": 44,
   "metadata": {},
   "outputs": [
    {
     "name": "stdout",
     "output_type": "stream",
     "text": [
      "Peak difference in fringe rate 0.002 Hz\n",
      "Maximum integration time 117.8s\n",
      "field size for no smearing at integration time  4.0s is  58.89deg\n"
     ]
    }
   ],
   "source": [
    "\n",
    "df=d*theta*2*m.pi*1e5/(lam*ar*day)\n",
    "print (\"Peak difference in fringe rate %5.3f Hz\") %(df) \n",
    "#maximum integration time = quarter period\n",
    "tmax=0.25/df\n",
    "print (\"Maximum integration time %5.1fs\") %(tmax)\n",
    "\"\"\"\n",
    "or the other way about\n",
    "\n",
    "df=d*theta*2*m.pi*1e5/(lam*ar*day) = 0.25/tmax\n",
    "\"\"\"\n",
    "\n",
    "size= 0.25 *lam*ar*day/(d*2*m.pi*1e5*t)\n",
    "print (\"field size for no smearing at integration time %4.1fs is %6.2fdeg\") %(t,size/3600)\n"
   ]
  },
  {
   "cell_type": "code",
   "execution_count": 45,
   "metadata": {},
   "outputs": [
    {
     "name": "stdout",
     "output_type": "stream",
     "text": [
      "Delay beam estimates 226.51 226.51 arcsec\n"
     ]
    }
   ],
   "source": [
    "delaybm2=61838/(d*bw)\n",
    "print (\"Delay beam estimates %6.2f %6.2f arcsec\") %( delaybeam, delaybm2)"
   ]
  },
  {
   "cell_type": "code",
   "execution_count": 46,
   "metadata": {},
   "outputs": [
    {
     "name": "stdout",
     "output_type": "stream",
     "text": [
      "12660.1956312 Arcsec\n"
     ]
    }
   ],
   "source": [
    "wbig= m.sqrt(res/(ar)*m.pi)*ar\n",
    "print wbig, \"Arcsec\""
   ]
  },
  {
   "cell_type": "code",
   "execution_count": 47,
   "metadata": {},
   "outputs": [
    {
     "name": "stdout",
     "output_type": "stream",
     "text": [
      "Delay beam   0.06deg  and W significant at   3.52deg \n"
     ]
    }
   ],
   "source": [
    "print(\"Delay beam %6.2fdeg  and W significant at %6.2fdeg \") %(delaybeam/3600,wbig/3600)"
   ]
  },
  {
   "cell_type": "code",
   "execution_count": 48,
   "metadata": {},
   "outputs": [
    {
     "name": "stdout",
     "output_type": "stream",
     "text": [
      "Max averaging time  118.1s For 1/4 period of fringe beating\n"
     ]
    }
   ],
   "source": [
    "\"\"\"\n",
    "Field size, averaging period\n",
    "\"\"\"\n",
    "field=3600*2           #2 degree\n",
    "period= 7090*lam/(d*field)\n",
    "print(\"Max averaging time %6.1fs For 1/4 period of fringe beating\") %(period)"
   ]
  },
  {
   "cell_type": "code",
   "execution_count": 49,
   "metadata": {},
   "outputs": [
    {
     "name": "stdout",
     "output_type": "stream",
     "text": [
      "Gain 0.0449K/Jy \t SEFD  445.4Jy\t Ae/Tsys   6.30K/m^2\n"
     ]
    }
   ],
   "source": [
    "\"\"\"\n",
    "Telescope diam, Tsys,Efficiency\n",
    "\n",
    "\"\"\"\n",
    "diam=13.5  #m\n",
    "eff=0.88    #fractional efficiency\n",
    "Tsys=20       #K\n",
    "gain=diam*diam*0.00028*eff #K/Jy - uses various things like boltzmann constant, speed of light\n",
    "sefd=Tsys/gain #Jy\n",
    "ae_tsys = m.pi*diam*diam*eff/(4*Tsys)\n",
    "print (\"Gain %6.4fK/Jy \\t SEFD %6.1fJy\\t Ae/Tsys %6.2fK/m^2\") %(gain,sefd,ae_tsys)   # for a single dish"
   ]
  },
  {
   "cell_type": "code",
   "execution_count": 50,
   "metadata": {},
   "outputs": [
    {
     "name": "stdout",
     "output_type": "stream",
     "text": [
      "Sensitivity  10.48mJy\n"
     ]
    }
   ],
   "source": [
    "\"\"\"\n",
    "sensitivity per baseline, per integration, per bandwidth\n",
    "\"\"\"\n",
    "mjy=1.1*sefd/(m.sqrt(bw*t)) # in one integration per bandwidth\n",
    "print(\"Sensitivity %6.2fmJy\") %(mjy)"
   ]
  },
  {
   "cell_type": "code",
   "execution_count": 51,
   "metadata": {},
   "outputs": [
    {
     "name": "stdout",
     "output_type": "stream",
     "text": [
      "Gain =   2.87K/Jy  \tSEFD =   6.96 \t  Ae/Tsys  403.08 \t Sensitivity per integration 0.2335mJy \n"
     ]
    }
   ],
   "source": [
    "\"\"\"\n",
    "array values\n",
    "\"\"\"\n",
    "nants=64\n",
    "\n",
    "print(\"Gain = %6.2fK/Jy  \\tSEFD = %6.2f \\t  Ae/Tsys  %6.2f \\t Sensitivity per integration %6.4fmJy \") \\\n",
    "%(gain*nants,sefd/nants, ae_tsys*nants, mjy/m.sqrt(nants*(nants-1)/2) )"
   ]
  },
  {
   "cell_type": "code",
   "execution_count": null,
   "metadata": {},
   "outputs": [],
   "source": []
  }
 ],
 "metadata": {
  "kernelspec": {
   "display_name": "Python 2",
   "language": "python",
   "name": "python2"
  },
  "language_info": {
   "codemirror_mode": {
    "name": "ipython",
    "version": 2
   },
   "file_extension": ".py",
   "mimetype": "text/x-python",
   "name": "python",
   "nbconvert_exporter": "python",
   "pygments_lexer": "ipython2",
   "version": "2.7.15+"
  }
 },
 "nbformat": 4,
 "nbformat_minor": 1
}
