{
 "cells": [
  {
   "cell_type": "markdown",
   "metadata": {},
   "source": [
    "This is an anlysis on why fringes were seen on one of the bandpass calibrators used during an observation as part of project 20140603MC-01.\n",
    "\n",
    "The obseravtion report can be seen at \n",
    "\n",
    "http://elog.kat.ac.za:8090/obsreports/140610_201051/1402405275.pdf\n",
    "\n",
    "What is of significance are the clear fringes that are seen on page 12 of the report. The plots on page 12 are the angles of the visibilites for the different correlation products. Each plot is displayed with time on the y-axis and frequency on the x-axis.\n",
    "\n",
    "In this analysis we will use the data from and 3v crossed with 7v\n"
   ]
  },
  {
   "cell_type": "code",
   "execution_count": 1,
   "metadata": {},
   "outputs": [
    {
     "name": "stdout",
     "output_type": "stream",
     "text": [
      "katsdpscripts version: 0.1.dev3221+master.3208525\n",
      "\n",
      " Starting  m007 \n",
      "\n"
     ]
    },
    {
     "ename": "AttributeError",
     "evalue": "'module' object has no attribute 'DataSet'",
     "output_type": "error",
     "traceback": [
      "\u001b[0;31m---------------------------------------------------------------------------\u001b[0m",
      "\u001b[0;31mAttributeError\u001b[0m                            Traceback (most recent call last)",
      "\u001b[0;32m<ipython-input-1-3b5576c1c908>\u001b[0m in \u001b[0;36m<module>\u001b[0;34m()\u001b[0m\n\u001b[1;32m      1\u001b[0m \u001b[0;32mimport\u001b[0m \u001b[0mkatpoint\u001b[0m\u001b[0;34m\u001b[0m\u001b[0m\n\u001b[0;32m----> 2\u001b[0;31m \u001b[0;32mimport\u001b[0m \u001b[0mkatdal\u001b[0m\u001b[0;34m\u001b[0m\u001b[0m\n\u001b[0m\u001b[1;32m      3\u001b[0m \u001b[0;32mimport\u001b[0m \u001b[0mkatarchive\u001b[0m\u001b[0;34m\u001b[0m\u001b[0m\n",
      "\u001b[0;32mbuild/bdist.linux-x86_64/egg/katdal/__init__.py\u001b[0m in \u001b[0;36m<module>\u001b[0;34m()\u001b[0m\n\u001b[1;32m    221\u001b[0m \u001b[0;32mfrom\u001b[0m \u001b[0m__future__\u001b[0m \u001b[0;32mimport\u001b[0m \u001b[0mprint_function\u001b[0m\u001b[0;34m,\u001b[0m \u001b[0mdivision\u001b[0m\u001b[0;34m,\u001b[0m \u001b[0mabsolute_import\u001b[0m\u001b[0;34m\u001b[0m\u001b[0m\n\u001b[1;32m    222\u001b[0m \u001b[0;32mfrom\u001b[0m \u001b[0mfuture\u001b[0m \u001b[0;32mimport\u001b[0m \u001b[0mstandard_library\u001b[0m\u001b[0;34m\u001b[0m\u001b[0m\n\u001b[0;32m--> 223\u001b[0;31m \u001b[0mstandard_library\u001b[0m\u001b[0;34m.\u001b[0m\u001b[0minstall_aliases\u001b[0m\u001b[0;34m(\u001b[0m\u001b[0;34m)\u001b[0m  \u001b[0;31m# noqa: E402\u001b[0m\u001b[0;34m\u001b[0m\u001b[0m\n\u001b[0m\u001b[1;32m    224\u001b[0m \u001b[0;32mfrom\u001b[0m \u001b[0mpast\u001b[0m\u001b[0;34m.\u001b[0m\u001b[0mbuiltins\u001b[0m \u001b[0;32mimport\u001b[0m \u001b[0mbasestring\u001b[0m\u001b[0;34m\u001b[0m\u001b[0m\n\u001b[1;32m    225\u001b[0m \u001b[0;34m\u001b[0m\u001b[0m\n",
      "\u001b[0;32m/usr/lib/python2.7/dist-packages/future/standard_library/__init__.pyc\u001b[0m in \u001b[0;36minstall_aliases\u001b[0;34m()\u001b[0m\n\u001b[1;32m    481\u001b[0m     \u001b[0;31m# Patch the test module so it appears to have the same structure on Py2 as on Py3\u001b[0m\u001b[0;34m\u001b[0m\u001b[0;34m\u001b[0m\u001b[0m\n\u001b[1;32m    482\u001b[0m     \u001b[0;32mtry\u001b[0m\u001b[0;34m:\u001b[0m\u001b[0;34m\u001b[0m\u001b[0m\n\u001b[0;32m--> 483\u001b[0;31m         \u001b[0;32mimport\u001b[0m \u001b[0mtest\u001b[0m\u001b[0;34m\u001b[0m\u001b[0m\n\u001b[0m\u001b[1;32m    484\u001b[0m     \u001b[0;32mexcept\u001b[0m \u001b[0mImportError\u001b[0m\u001b[0;34m:\u001b[0m\u001b[0;34m\u001b[0m\u001b[0m\n\u001b[1;32m    485\u001b[0m         \u001b[0;32mpass\u001b[0m\u001b[0;34m\u001b[0m\u001b[0m\n",
      "\u001b[0;32m/home/tony/Desktop/PythonScripts/Notebooks/test.py\u001b[0m in \u001b[0;36m<module>\u001b[0;34m()\u001b[0m\n\u001b[1;32m     14\u001b[0m     \u001b[0;32mprint\u001b[0m \u001b[0;34m\"\\n Starting \"\u001b[0m\u001b[0;34m,\u001b[0m\u001b[0mbaseline\u001b[0m\u001b[0;34m,\u001b[0m\u001b[0;34m\"\\n\"\u001b[0m\u001b[0;34m\u001b[0m\u001b[0m\n\u001b[1;32m     15\u001b[0m     \u001b[0mopts\u001b[0m \u001b[0;34m=\u001b[0m \u001b[0mmy_opts\u001b[0m\u001b[0;34m(\u001b[0m\u001b[0moutfilebase\u001b[0m\u001b[0;34m=\u001b[0m\u001b[0mNone\u001b[0m\u001b[0;34m,\u001b[0m \u001b[0mkeepfilename\u001b[0m\u001b[0;34m=\u001b[0m\u001b[0mNone\u001b[0m\u001b[0;34m,\u001b[0m \u001b[0mbaseline\u001b[0m\u001b[0;34m=\u001b[0m\u001b[0mbaseline\u001b[0m\u001b[0;34m,\u001b[0m \u001b[0mmc_iterations\u001b[0m\u001b[0;34m=\u001b[0m\u001b[0;36m1\u001b[0m\u001b[0;34m,\u001b[0m \u001b[0mfreq_centre\u001b[0m\u001b[0;34m=\u001b[0m\u001b[0;36m1284.0\u001b[0m\u001b[0;34m,\u001b[0m     \u001b[0mfreq_chans\u001b[0m\u001b[0;34m=\u001b[0m\u001b[0;34m\"200,4000\"\u001b[0m\u001b[0;34m,\u001b[0m \u001b[0mchannel_mask\u001b[0m\u001b[0;34m=\u001b[0m\u001b[0;34m'/var/kat/katsdpscripts/RTS/rfi_mask.pickle'\u001b[0m\u001b[0;34m,\u001b[0m     \u001b[0mtime_offset\u001b[0m\u001b[0;34m=\u001b[0m\u001b[0;36m0.0\u001b[0m\u001b[0;34m,\u001b[0m \u001b[0mpointing_model\u001b[0m\u001b[0;34m=\u001b[0m\u001b[0mNone\u001b[0m\u001b[0;34m,\u001b[0m \u001b[0mold_loader\u001b[0m\u001b[0;34m=\u001b[0m\u001b[0mNone\u001b[0m\u001b[0;34m,\u001b[0m \u001b[0mnd_models\u001b[0m\u001b[0;34m=\u001b[0m\u001b[0mNone\u001b[0m\u001b[0;34m,\u001b[0m     \u001b[0mku_band\u001b[0m\u001b[0;34m=\u001b[0m\u001b[0mFalse\u001b[0m\u001b[0;34m,\u001b[0m \u001b[0mkeep_all\u001b[0m\u001b[0;34m=\u001b[0m\u001b[0mFalse\u001b[0m\u001b[0;34m,\u001b[0m\u001b[0mremove_spikes\u001b[0m\u001b[0;34m=\u001b[0m\u001b[0mFalse\u001b[0m\u001b[0;34m,\u001b[0m\u001b[0mbatch\u001b[0m\u001b[0;34m=\u001b[0m\u001b[0mTrue\u001b[0m\u001b[0;34m,\u001b[0m\u001b[0mplot_spectrum\u001b[0m\u001b[0;34m=\u001b[0m\u001b[0mFalse\u001b[0m\u001b[0;34m)\u001b[0m\u001b[0;34m\u001b[0m\u001b[0m\n\u001b[0;32m---> 16\u001b[0;31m     \u001b[0manalyse_point_source_scans\u001b[0m\u001b[0;34m(\u001b[0m\u001b[0mh5name\u001b[0m\u001b[0;34m,\u001b[0m\u001b[0mopts\u001b[0m\u001b[0;34m)\u001b[0m\u001b[0;34m\u001b[0m\u001b[0m\n\u001b[0m\u001b[1;32m     17\u001b[0m     \u001b[0;32mprint\u001b[0m \u001b[0;34m\"\\n\\n***************Done\"\u001b[0m\u001b[0;34m,\u001b[0m\u001b[0mbaseline\u001b[0m\u001b[0;34m,\u001b[0m\u001b[0;34m\"*************\\n\"\u001b[0m\u001b[0;34m\u001b[0m\u001b[0m\n\u001b[1;32m     18\u001b[0m \u001b[0;32mprint\u001b[0m \u001b[0;34m\"\\nDONE ALL\"\u001b[0m\u001b[0;34m\u001b[0m\u001b[0m\n",
      "\u001b[0;32m/usr/local/lib/python2.7/dist-packages/katsdpscripts-0.1.dev3221+master.3208525-py2.7-linux-x86_64.egg/katsdpscripts/reduction/analyse_point_source_scans.pyc\u001b[0m in \u001b[0;36manalyse_point_source_scans\u001b[0;34m(filename, opts)\u001b[0m\n\u001b[1;32m    367\u001b[0m     \u001b[0;31m# Load data set\u001b[0m\u001b[0;34m\u001b[0m\u001b[0;34m\u001b[0m\u001b[0m\n\u001b[1;32m    368\u001b[0m     \u001b[0mlogger\u001b[0m\u001b[0;34m.\u001b[0m\u001b[0minfo\u001b[0m\u001b[0;34m(\u001b[0m\u001b[0;34m\"Loading dataset '%s'\"\u001b[0m \u001b[0;34m%\u001b[0m \u001b[0;34m(\u001b[0m\u001b[0mfilename\u001b[0m\u001b[0;34m,\u001b[0m\u001b[0;34m)\u001b[0m\u001b[0;34m)\u001b[0m\u001b[0;34m\u001b[0m\u001b[0m\n\u001b[0;32m--> 369\u001b[0;31m     dataset = scape.DataSet(filename, baseline=opts.baseline, nd_models=opts.nd_models,\n\u001b[0m\u001b[1;32m    370\u001b[0m                             time_offset=opts.time_offset, katfile=not opts.old_loader, **kwargs)\n\u001b[1;32m    371\u001b[0m \u001b[0;34m\u001b[0m\u001b[0m\n",
      "\u001b[0;31mAttributeError\u001b[0m: 'module' object has no attribute 'DataSet'"
     ]
    }
   ],
   "source": [
    "import katpoint\n",
    "import katdal\n",
    "import katarchive"
   ]
  },
  {
   "cell_type": "code",
   "execution_count": null,
   "metadata": {},
   "outputs": [],
   "source": [
    "n = '1402405275.h5'\n",
    "f = katarchive.get_archived_products(n)\n",
    "h5 = katdal.open(f[0])"
   ]
  },
  {
   "cell_type": "markdown",
   "metadata": {},
   "source": [
    "We now select only the data from the bandpass calibrator 3C286 as well as the antennas and polirisations needed and print the selection for confirmation."
   ]
  },
  {
   "cell_type": "code",
   "execution_count": null,
   "metadata": {},
   "outputs": [],
   "source": [
    "h5.select(pol='VV',ants = 'ant3,ant7',targets=3,corrprods='cross',scans = 'track')\n",
    "data = h5.vis[:]\n",
    "print h5"
   ]
  },
  {
   "cell_type": "markdown",
   "metadata": {},
   "source": [
    "We now plot the fringes (the angles of the visibility data selected above."
   ]
  },
  {
   "cell_type": "code",
   "execution_count": null,
   "metadata": {},
   "outputs": [],
   "source": [
    "figure(figsize=(15,5))\n",
    "subplot(121)\n",
    "imshow(angle(data[:,:,0]),aspect='auto')\n",
    "subplot(122)\n",
    "contour(angle(data[:,:,0]),2,linewidths=0.4,colors='k',origin='image')\n"
   ]
  },
  {
   "cell_type": "markdown",
   "metadata": {},
   "source": [
    "Note how there are clear fringes during the first 30 dumps of the data. We created a mask of these fringes on the right."
   ]
  },
  {
   "cell_type": "markdown",
   "metadata": {},
   "source": [
    "We now calculate what the theoretical fringes would be. Thompson in section 4.3 shows that the delay for a given basline is given by $w/\\nu_{0}$ where $w$ is the coordinate from the uvw system and $\\nu_{0}$ is the channel frequency. \n",
    "\n",
    "For a given baseline the uvw coordinates can be determined from the katpoint method and requires the target, timestamp and two antennas for calculation.\n",
    "\n",
    "The resuting phase shift due to the delay is then $e^{\\mathrm{i} 2 \\pi \\phi}$ where $\\phi = (w/c) \\nu_{0}$.\n",
    "\n",
    "The final fringe determination needs two calculations, one to mimic the autodelay fringe correction and the other is the result of the solar fringing."
   ]
  },
  {
   "cell_type": "code",
   "execution_count": null,
   "metadata": {},
   "outputs": [],
   "source": [
    "cat = katpoint.Catalogue(add_specials=True,antenna=h5.ants[0])\n",
    "sun = cat.lookup['sun']\n",
    "sun_uvw = sun.uvw(h5.ants[0],h5.timestamps[:],h5.ants[1])\n",
    "sun_f_t = np.outer(((sun_uvw[2] / katpoint.lightspeed) ), h5.channel_freqs)\n",
    "target = h5.catalogue.targets[3]\n",
    "target_uvw = target.uvw(h5.ants[0],h5.timestamps[:],h5.ants[1])\n",
    "target_f_t = np.outer(((target_uvw[2] / katpoint.lightspeed) ), h5.channel_freqs)\n",
    "fringes = np.exp(2j * np.pi * target_f_t) * np.exp(-2j * np.pi * sun_f_t) "
   ]
  },
  {
   "cell_type": "markdown",
   "metadata": {},
   "source": [
    "We can now plot the theoretical fringes. Note that there are three distinct bands of fringes that relate to the three different times that 3C286 was observed"
   ]
  },
  {
   "cell_type": "code",
   "execution_count": null,
   "metadata": {},
   "outputs": [],
   "source": [
    "figure(figsize=(15,5))\n",
    "subplot(121)\n",
    "imshow(angle(fringes[:,:]),aspect='auto')\n",
    "subplot(122)\n",
    "contourf(angle(fringes[:,:]),origin='image')"
   ]
  },
  {
   "cell_type": "markdown",
   "metadata": {},
   "source": [
    "We now plot the theoretical fringes together with the measured data. Note that there is good allignment of the fringes during the first section but no agreement on the other two."
   ]
  },
  {
   "cell_type": "code",
   "execution_count": null,
   "metadata": {},
   "outputs": [],
   "source": [
    "figure(figsize=(8,5))\n",
    "contour(angle(data[:,:,0]),2,linewidths=0.4,colors='k',origin='image')\n",
    "contourf(angle(fringes[:,:]),origin='image')"
   ]
  },
  {
   "cell_type": "markdown",
   "metadata": {},
   "source": [
    "We now look at the seperation between 3C286 and the sun as well as where they were located in the sky."
   ]
  },
  {
   "cell_type": "code",
   "execution_count": null,
   "metadata": {},
   "outputs": [],
   "source": [
    "katpoint.Timestamp(h5.timestamps[:][0]).local()"
   ]
  },
  {
   "cell_type": "code",
   "execution_count": null,
   "metadata": {},
   "outputs": [],
   "source": [
    "degrees(target.separation(sun,timestamp=h5.timestamps[:][0]))"
   ]
  },
  {
   "cell_type": "code",
   "execution_count": null,
   "metadata": {},
   "outputs": [],
   "source": [
    "azel = array([degrees(sun.azel(timestamp=t)) for t in h5.timestamps[:]])"
   ]
  },
  {
   "cell_type": "code",
   "execution_count": null,
   "metadata": {},
   "outputs": [],
   "source": [
    "plot(h5.az[:,0],h5.el[:,0],'ob')\n",
    "plot(azel[:,0],azel[:,1],'or')\n",
    "grid(True)\n",
    "annotate('First scan',xy=(60, 10), arrowprops=dict(arrowstyle='->'), xytext=(150, 12))\n",
    "annotate('',xy=(290, 5), arrowprops=dict(arrowstyle='->'), xytext=(205, 12))\n",
    "annotate('Second scan',xy=(50, 19), arrowprops=dict(arrowstyle='->'), xytext=(100, 25))\n",
    "annotate('Sun below the horizon for the second scan',xy=(280, -9), arrowprops=dict(arrowstyle='->'), xytext=(100, -15))\n",
    "ylabel('elevation/[degrees]')\n",
    "xlabel('azimuth/[degrees]')"
   ]
  },
  {
   "cell_type": "code",
   "execution_count": null,
   "metadata": {},
   "outputs": [],
   "source": [
    "print target.description\n",
    "print sun.description"
   ]
  },
  {
   "cell_type": "markdown",
   "metadata": {},
   "source": [
    "Discussion\n",
    "\n",
    "During the first scan of 3C286 the sun was above the horizon but was seperated by $104^\\circ$. The measured data matches the theoretical fringes during that period.\n",
    "\n",
    "During the second scan the sun was below the horizon and so that is why the measured data does not display any fringes."
   ]
  }
 ],
 "metadata": {
  "kernelspec": {
   "display_name": "Python 2",
   "language": "python",
   "name": "python2"
  },
  "language_info": {
   "codemirror_mode": {
    "name": "ipython",
    "version": 2
   },
   "file_extension": ".py",
   "mimetype": "text/x-python",
   "name": "python",
   "nbconvert_exporter": "python",
   "pygments_lexer": "ipython2",
   "version": "2.7.17"
  }
 },
 "nbformat": 4,
 "nbformat_minor": 1
}
