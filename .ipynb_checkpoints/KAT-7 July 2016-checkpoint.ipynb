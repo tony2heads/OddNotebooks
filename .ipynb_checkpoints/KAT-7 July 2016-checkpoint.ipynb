{
 "cells": [
  {
   "cell_type": "code",
   "execution_count": 1,
   "metadata": {
    "collapsed": false
   },
   "outputs": [],
   "source": [
    "import numpy as np"
   ]
  },
  {
   "cell_type": "code",
   "execution_count": 2,
   "metadata": {
    "collapsed": false
   },
   "outputs": [],
   "source": [
    "import katarchive\n",
    "\n",
    "import datetime\n",
    "\n",
    "import logging\n",
    "logging.root.setLevel(logging.ERROR)\n"
   ]
  },
  {
   "cell_type": "code",
   "execution_count": 3,
   "metadata": {
    "collapsed": true
   },
   "outputs": [],
   "source": [
    "def findh5(det):   # uses detail list to get h5 name\n",
    "    pos=det.find(\"Name:\")\n",
    "    if pos >0  :\n",
    "        pr2=det[pos+37:pos+53].split()\n",
    "        h5name=pr2[0].lstrip(\"/ng\")\n",
    "    return h5name"
   ]
  },
  {
   "cell_type": "code",
   "execution_count": 4,
   "metadata": {
    "collapsed": false
   },
   "outputs": [],
   "source": [
    "def findproj(text):\n",
    "    found='Unknown'        # default\n",
    "    chx=text.find('prop')\n",
    "    if chx >0  :\n",
    "        pr2=text[chx+11:chx+38].split()\n",
    "        code=pr2[0]\n",
    "        found=code.replace(\"=\",\"\")\n",
    "    else:\n",
    "        if text.find('maser') >0:\n",
    "            found=\"Maser monitoring\"\n",
    "            #print text\n",
    "    return found"
   ]
  },
  {
   "cell_type": "code",
   "execution_count": 5,
   "metadata": {
    "collapsed": true
   },
   "outputs": [],
   "source": [
    "def listpr(x):\n",
    "    \"\"\"\n",
    "    takes a list and prints as string\n",
    "    \"\"\"\n",
    "    li=\" \".join(map(str,x))\n",
    "    return li"
   ]
  },
  {
   "cell_type": "code",
   "execution_count": 6,
   "metadata": {
    "collapsed": false
   },
   "outputs": [],
   "source": [
    "#today=datetime.datetime.today()\n",
    "#ago=datetime.timedelta(-14)   #  days is a fortnight\n",
    "#lastweek=today+ago\n",
    "#print today,lastweek\n",
    "#begin=lastweek.strftime(format=\"%d/%m/%Y\")\n",
    "begin=\"31/05/2016\"\n",
    "#end=today.strftime(format=\"%d/%m/%Y\")\n",
    "end=\"30/06/2016\""
   ]
  },
  {
   "cell_type": "code",
   "execution_count": 7,
   "metadata": {
    "collapsed": false
   },
   "outputs": [
    {
     "name": "stdout",
     "output_type": "stream",
     "text": [
      "Searched using: CAS.ProductTypeName:(KatFile) AND CAS.ProductTransferStatus:RECEIVED AND StartTime:[2016-05-30T22:00:00Z TO 2016-06-30T21:59:59Z]\n",
      "Returning 29 results\n"
     ]
    }
   ],
   "source": [
    "f = katarchive.search_archive(startdate=begin,enddate=end)\n",
    "start = datetime.datetime.strptime(f[-1].__str__().split('\\'')[3],'%Y-%m-%d %H:%M:%S %Z')\n",
    "end = datetime.datetime.strptime(f[0].__str__().split('\\'')[3],'%Y-%m-%d %H:%M:%S %Z')"
   ]
  },
  {
   "cell_type": "code",
   "execution_count": 8,
   "metadata": {
    "collapsed": false
   },
   "outputs": [],
   "source": [
    "#print 'First file in run: ' , start.isoformat()\n",
    "#print 'Last file in run: ' , end.isoformat()"
   ]
  },
  {
   "cell_type": "code",
   "execution_count": 9,
   "metadata": {
    "collapsed": false
   },
   "outputs": [
    {
     "name": "stdout",
     "output_type": "stream",
     "text": [
      "2 COMM_Image_NO 43250.6 Imaging Calibration 5\n",
      "2 COMM_Image_NO 32020.44 Imaging Calibration 5\n",
      "2 COMM_Image_NO 65670.91 Imaging Calibration 5\n",
      "2 COMM_Image_NO 19130.26 Imaging Calibration 5\n",
      "2 COMM_Atten 108.01 Auto atten 5\n",
      "2 COMM_RFI_SP 7482.59 Basic RFI Scan: RFI SCAN 5\n",
      "2 COMM_Atten 107.01 Auto atten 5\n",
      "2 COMM_Point_LM 1936.15 Pointing Observation 5\n",
      "2 COMM_Atten 84.01 Auto atten 5\n",
      "2 Maser monitoring 48504.73 OH maser monitoring 5\n",
      "2 COMM_Atten 63.42 Auto atten 5\n",
      "2 COMM_Atten 40.0 Auto atten 5\n",
      "2 COMM_Atten 83.55 Auto atten 5\n",
      "2 COMM_Bandpass_TF 17680.24 Bandpass Calibrators 5\n",
      "2 COMM_Atten 79.01 Auto atten 5\n",
      "2 Maser monitoring 46924.32 OH maser monitoring 5\n",
      "2 COMM_Atten 106.7 Auto atten 5\n",
      "2 20150619TF-01 13570.19 3C279 5\n",
      "2 COMM_Atten 107.01 Auto atten 5\n",
      "2 COMM_Image_NO 15000.21 Imaging Calibration 5\n",
      "2 20141219SS-01 25430.35 W2332 Low 5\n",
      "2 COMM_Atten 107.01 Auto atten 5\n",
      "2 COMM_Atten 107.01 Auto atten 5\n",
      "2 COMM_Image_NO 23810.33 Imaging Calibration 5\n",
      "2 COMM_Atten 108.01 Auto atten 5\n",
      "2 COMM_Tipping_NO 3852.31 Tipping Curve 5\n",
      "2 COMM_Atten 107.01 Auto atten 5\n",
      "2 20130822NO-01 25740.36 W2332_5056 5\n",
      "2 COMM_Atten 154.01 Auto atten 5\n"
     ]
    }
   ],
   "source": [
    "for fi in f:\n",
    "    txts=fi.metadata.InstructionSet\n",
    "    p=findproj(txts)\n",
    "    print fi.metadata.ExperimentID, p, fi.metadata.Duration, fi.metadata.Description, len(fi.metadata.Antennas)\n"
   ]
  },
  {
   "cell_type": "markdown",
   "metadata": {},
   "source": [
    "Only select observations that are longer than 1 hrs then extract the project id from the script parameters. If there is no project id then allocated No_project_id "
   ]
  },
  {
   "cell_type": "code",
   "execution_count": 10,
   "metadata": {
    "collapsed": false
   },
   "outputs": [],
   "source": [
    "sbd = [] #Experiment ID\n",
    "pid = [] #project ID\n",
    "fnd = [] #Filename\n",
    "dud = [] #Duration\n",
    "antsd = [] #number of antennas\n",
    "scrd = [] #script  -NOT USED NOW\n",
    "\n",
    "for fi in f:\n",
    "    if fi.metadata.Duration < 3600: #only pick hour long or greater observations for analysis\n",
    "        continue\n",
    "    # now try extract the project-id from the instruction-set string\n",
    "    \"\"\"\n",
    "    script = fi.metadata.InstructionSet\n",
    "    scrd.append(script)\n",
    "    spl = script.split()\n",
    "    \"\"\"\n",
    "    txts=fi.metadata.InstructionSet\n",
    "    p=findproj(txts)\n",
    "    if p == \"Unknown\":\n",
    "        p=\"Maser Monitoring\"\n",
    "    sbd.append(fi.metadata.ExperimentID)\n",
    "    pid.append(p)\n",
    "    fnd.append(fi.metadata.Filename)\n",
    "    dud.append(fi.metadata.Duration)\n",
    "    antsd.append(len(fi.metadata.Antennas))\n"
   ]
  },
  {
   "cell_type": "code",
   "execution_count": 11,
   "metadata": {
    "collapsed": false
   },
   "outputs": [
    {
     "name": "stdout",
     "output_type": "stream",
     "text": [
      "Percentage system usage:  74.0 %\n"
     ]
    }
   ],
   "source": [
    "pi = np.array(pid)\n",
    "sb = np.array(sbd)\n",
    "du = np.array(dud)\n",
    "ants = np.array(antsd)\n",
    "\n",
    "p_cent = (sum(du)/((end.toordinal()-start.toordinal())*24*3600))*100\n",
    "\n",
    "print 'Percentage system usage: ', np.floor(p_cent),'%'\n"
   ]
  },
  {
   "cell_type": "code",
   "execution_count": 12,
   "metadata": {
    "collapsed": false
   },
   "outputs": [
    {
     "name": "stdout",
     "output_type": "stream",
     "text": [
      "COMM_Tipping_NO 1.07\n",
      "20130822NO-01 7.15\n",
      "COMM_Bandpass_TF 4.91\n",
      "20150619TF-01 3.77\n",
      "20141219SS-01 7.06\n",
      "COMM_RFI_SP 2.08\n",
      "COMM_Image_NO 55.25\n",
      "Maser monitoring 26.51\n"
     ]
    }
   ],
   "source": [
    "a_id = []\n",
    "a_time = []\n",
    "for p in set(pi):\n",
    "    ind = pi == p\n",
    "    print p,round(sum(du[ind])/3600,2)\n",
    "    a_id.append(p)\n",
    "    a_time.append(round(sum(du[ind])/3600,2))"
   ]
  },
  {
   "cell_type": "code",
   "execution_count": 13,
   "metadata": {
    "collapsed": false
   },
   "outputs": [
    {
     "name": "stdout",
     "output_type": "stream",
     "text": [
      "20130822NO-01      7.2 5\n",
      "20141219SS-01      7.1 5\n",
      "20150619TF-01      3.8 5\n",
      "COMM_Bandpass_TF   4.9 5\n",
      "COMM_Image_NO     55.2 5\n",
      "COMM_RFI_SP        2.1 5\n",
      "COMM_Tipping_NO    1.1 5\n",
      "Maser monitoring  26.5 5\n"
     ]
    }
   ],
   "source": [
    "ind = np.argsort(a_id)\n",
    "for i in ind:\n",
    "    print (\"%-16s %5.1f %d\") %(a_id[i],a_time[i],ants[i])"
   ]
  },
  {
   "cell_type": "markdown",
   "metadata": {},
   "source": [
    "Find the unique project ids and determine the total observation duration."
   ]
  },
  {
   "cell_type": "markdown",
   "metadata": {},
   "source": [
    "Sort ID and time for display"
   ]
  },
  {
   "cell_type": "code",
   "execution_count": 14,
   "metadata": {
    "collapsed": false
   },
   "outputs": [
    {
     "name": "stdout",
     "output_type": "stream",
     "text": [
      "06 1465229366.h5 Imaging Calibration ant1 ant2 ant3 ant5 ant6\n",
      "06 1465197304.h5 Imaging Calibration ant1 ant2 ant3 ant5 ant6\n",
      "04 1465056182.h5 Imaging Calibration ant1 ant2 ant3 ant5 ant6\n",
      "03 1464946205.h5 Imaging Calibration ant1 ant2 ant3 ant5 ant6\n",
      "03 1464945964.h5 Auto atten ant1 ant2 ant3 ant5 ant6\n",
      "03 1464938209.h5 Basic RFI Scan: RFI SCAN ant1 ant2 ant3 ant5 ant6\n",
      "03 1464938063.h5 Auto atten ant1 ant2 ant3 ant5 ant6\n",
      "03 1464934656.h5 Pointing Observation ant1 ant2 ant3 ant5 ant6\n",
      "03 1464934508.h5 Auto atten ant1 ant2 ant3 ant5 ant6\n",
      "02 1464881775.h5 OH maser monitoring ant1 ant2 ant3 ant5 ant6\n",
      "02 1464881665.h5 Auto atten ant1 ant2 ant3 ant5 ant6\n",
      "02 1464872126.h5 Auto atten ant1 ant2 ant3 ant5 ant6\n",
      "02 1464871823.h5 Auto atten ant1 ant2 ant3 ant5 ant6\n",
      "02 1464851452.h5 Bandpass Calibrators ant1 ant2 ant3 ant5 ant6\n",
      "02 1464851334.h5 Auto atten ant1 ant2 ant3 ant5 ant6\n",
      "01 1464797199.h5 OH maser monitoring ant1 ant2 ant3 ant5 ant6\n",
      "01 1464797049.h5 Auto atten ant1 ant2 ant3 ant5 ant6\n",
      "01 1464783334.h5 3C279 ant1 ant2 ant3 ant5 ant6\n",
      "01 1464782886.h5 Auto atten ant1 ant2 ant3 ant5 ant6\n",
      "01 1464767713.h5 Imaging Calibration ant1 ant2 ant3 ant5 ant6\n",
      "01 1464741005.h5 W2332 Low ant1 ant2 ant3 ant5 ant6\n",
      "01 1464740765.h5 Auto atten ant1 ant2 ant3 ant5 ant6\n",
      "31 1464710171.h5 Auto atten ant1 ant2 ant3 ant5 ant6\n",
      "31 1464684007.h5 Imaging Calibration ant1 ant2 ant3 ant5 ant6\n",
      "31 1464683850.h5 Auto atten ant1 ant2 ant3 ant5 ant6\n",
      "31 1464679518.h5 Tipping Curve ant1 ant2 ant3 ant5 ant6\n",
      "31 1464679232.h5 Auto atten ant1 ant2 ant3 ant5 ant6\n",
      "31 1464652810.h5 W2332_5056 ant1 ant2 ant3 ant5 ant6\n",
      "31 1464652569.h5 Auto atten ant1 ant2 ant3 ant5 ant6\n"
     ]
    }
   ],
   "source": [
    "for fi in f:\n",
    "    x= repr(fi)\n",
    "    pr=x.split(\",\")\n",
    "    print pr[1][10:12],findh5(fi.metadata.Details) , fi.metadata.Description, listpr(fi.metadata.Antennas)"
   ]
  },
  {
   "cell_type": "code",
   "execution_count": 15,
   "metadata": {
    "collapsed": false
   },
   "outputs": [],
   "source": [
    "f.sort(key=lambda k: k.metadata.StartTime) #Sort in ascending time+++++++++++++++++++++++++++++"
   ]
  },
  {
   "cell_type": "code",
   "execution_count": 16,
   "metadata": {
    "collapsed": false
   },
   "outputs": [
    {
     "name": "stdout",
     "output_type": "stream",
     "text": [
      "Filename\t\t\t\t\t\t Project \tTitle\n",
      "/var/kat/archive/data/comm/2016/05/31/1464652810.h5  20130822NO-01      W2332_5056\n",
      "/var/kat/archive/data/comm/2016/05/31/1464684007.h5  COMM_Image_NO      Imaging Calibration\n",
      "/var/kat/archive/data/comm/2016/06/01/1464741005.h5  20141219SS-01      W2332 Low\n",
      "/var/kat/archive/data/comm/2016/06/01/1464767713.h5  COMM_Image_NO      Imaging Calibration\n",
      "/var/kat/archive/data/comm/2016/06/01/1464783334.h5  20150619TF-01      3C279\n",
      "/var/kat/archive/data/comm/2016/06/01/1464797199.h5  Maser monitoring   OH maser monitoring\n",
      "/var/kat/archive/data/comm/2016/06/02/1464851452.h5  COMM_Bandpass_TF   Bandpass Calibrators\n",
      "/var/kat/archive/data/comm/2016/06/02/1464881775.h5  Maser monitoring   OH maser monitoring\n",
      "/var/kat/archive/data/comm/2016/06/03/1464946205.h5  COMM_Image_NO      Imaging Calibration\n",
      "/var/kat/archive/data/comm/2016/06/04/1465056182.h5  COMM_Image_NO      Imaging Calibration\n",
      "/var/kat/archive/data/comm/2016/06/06/1465197304.h5  COMM_Image_NO      Imaging Calibration\n",
      "/var/kat/archive/data/comm/2016/06/06/1465229366.h5  COMM_Image_NO      Imaging Calibration\n"
     ]
    }
   ],
   "source": [
    "print \"Filename\\t\\t\\t\\t\\t\\t Project \\tTitle\"\n",
    "for fi in f:\n",
    "    x= repr(fi)\n",
    "    pr=x.split(\",\")\n",
    "    nrant=len(fi.metadata.Antennas) # number of antennas\n",
    "    proj=findproj(fi.metadata.InstructionSet)\n",
    "    if fi.metadata.Description.find('Auto') <0 and  fi.metadata.Description.find('RFI') <0 and \\\n",
    "      fi.metadata.Description.find('Pointing') <0  and  fi.metadata.Description.find('Delay') <0  and \\\n",
    "      fi.metadata.Description.find('Tipping') <0  and nrant>4 :  # not auto attenuate, more than 5 antenna\n",
    "        print(\"%s/%s  %-18s %s\") %(fi.metadata.FileLocation,findh5(fi.metadata.Details),proj,fi.metadata.Description )"
   ]
  }
 ],
 "metadata": {
  "kernelspec": {
   "display_name": "Python 2",
   "language": "python",
   "name": "python2"
  },
  "language_info": {
   "codemirror_mode": {
    "name": "ipython",
    "version": 2
   },
   "file_extension": ".py",
   "mimetype": "text/x-python",
   "name": "python",
   "nbconvert_exporter": "python",
   "pygments_lexer": "ipython2",
   "version": "2.7.6"
  }
 },
 "nbformat": 4,
 "nbformat_minor": 0
}
