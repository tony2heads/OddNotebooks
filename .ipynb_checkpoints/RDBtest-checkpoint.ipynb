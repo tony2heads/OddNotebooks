{
 "cells": [
  {
   "cell_type": "code",
   "execution_count": 1,
   "metadata": {},
   "outputs": [
    {
     "name": "stderr",
     "output_type": "stream",
     "text": [
      "/usr/local/lib/python2.7/dist-packages/h5py/__init__.py:36: FutureWarning: Conversion of the second argument of issubdtype from `float` to `np.floating` is deprecated. In future, it will be treated as `np.float64 == np.dtype(float).type`.\n",
      "  from ._conv import register_converters as _register_converters\n"
     ]
    }
   ],
   "source": [
    "import katdal\n",
    "import katsdptelstate\n",
    "%matplotlib notebook"
   ]
  },
  {
   "cell_type": "code",
   "execution_count": 2,
   "metadata": {
    "collapsed": true
   },
   "outputs": [],
   "source": [
    "from katdal.chunkstore_s3 import S3ChunkStore\n",
    "from katdal.datasources import TelstateDataSource\n",
    "from katdal.visdatav4 import VisibilityDataV4"
   ]
  },
  {
   "cell_type": "code",
   "execution_count": 3,
   "metadata": {
    "collapsed": true
   },
   "outputs": [],
   "source": [
    "rdb=\"1528458436_sdp_l0.full.rdb\""
   ]
  },
  {
   "cell_type": "code",
   "execution_count": null,
   "metadata": {},
   "outputs": [],
   "source": [
    "data = katdal.open(rdb)\n",
    "\n",
    "ind = []\n",
    "\n",
    "for c in data.corr_products:\n",
    "\n",
    "    if ('m000h' in c[0]) and (c[-1].endswith('h')):\n",
    "\n",
    "        ind.append(True)\n",
    "\n",
    "    else:\n",
    "\n",
    "        ind.append(False)\n",
    "\n",
    "ants = data.corr_products[ind]\n",
    "\n",
    "data.select(targets=[0,2],corrprods=ind,pol='h',channels=slice(2000,3800))\n",
    "\n",
    "vis = data.vis[:]\n",
    "\n",
    "for i in range(1,61):\n",
    "\n",
    "    subplot(6,10,i)\n",
    "\n",
    "    imshow(angle(vis[:,:,i]),aspect = 'auto')\n",
    "\n",
    "    xticks([])\n",
    "\n",
    "    yticks([])\n",
    "\n",
    "    title(ants[i][-1])"
   ]
  }
 ],
 "metadata": {
  "kernelspec": {
   "display_name": "Python 2",
   "language": "python",
   "name": "python2"
  },
  "language_info": {
   "codemirror_mode": {
    "name": "ipython",
    "version": 2
   },
   "file_extension": ".py",
   "mimetype": "text/x-python",
   "name": "python",
   "nbconvert_exporter": "python",
   "pygments_lexer": "ipython2",
   "version": "2.7.6"
  }
 },
 "nbformat": 4,
 "nbformat_minor": 2
}
