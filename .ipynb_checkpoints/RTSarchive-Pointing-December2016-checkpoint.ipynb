{
 "cells": [
  {
   "cell_type": "code",
   "execution_count": 1,
   "metadata": {
    "collapsed": false
   },
   "outputs": [],
   "source": [
    "import katarchive\n",
    "import datetime\n"
   ]
  },
  {
   "cell_type": "code",
   "execution_count": 2,
   "metadata": {
    "collapsed": true
   },
   "outputs": [],
   "source": [
    "katarchive.product_filter.only_rts()"
   ]
  },
  {
   "cell_type": "code",
   "execution_count": 3,
   "metadata": {
    "collapsed": false
   },
   "outputs": [],
   "source": [
    "def findh5(det):   # uses detail list to get h5 name\n",
    "    pos=det.find(\"Name:\")\n",
    "    if pos >0  :\n",
    "        pr2=det[pos+37:pos+53].split()\n",
    "        h5name=pr2[0].lstrip(\"/ng\")\n",
    "    return h5name"
   ]
  },
  {
   "cell_type": "code",
   "execution_count": 4,
   "metadata": {
    "collapsed": false
   },
   "outputs": [],
   "source": [
    "def listpr(x):\n",
    "    \"\"\"\n",
    "    takes a list and prints as string\n",
    "    \"\"\"\n",
    "    li=\" \".join(map(str,x))\n",
    "    return li"
   ]
  },
  {
   "cell_type": "code",
   "execution_count": 5,
   "metadata": {
    "collapsed": true
   },
   "outputs": [],
   "source": [
    "start=\"1/11/2016\"\n",
    "end=\"31/11/2016\" "
   ]
  },
  {
   "cell_type": "code",
   "execution_count": 6,
   "metadata": {
    "collapsed": false
   },
   "outputs": [
    {
     "name": "stdout",
     "output_type": "stream",
     "text": [
      "Searched using: CAS.ProductTypeName:(RTSTelescopeProduct) AND CAS.ProductTransferStatus:RECEIVED AND Description:Point AND StartTime:[2016-10-31T22:00:00Z TO 2016-11-30T21:59:59Z]\n",
      "Returning 15 results\n"
     ]
    }
   ],
   "source": [
    "#Look for pointing\n",
    "\n",
    "f=katarchive.search_archive(description=\"Point\",startdate=start,enddate=end)\n",
    "\n",
    "#start = datetime.datetime.strptime(f[-1].__str__().split('\\'')[3],'%Y-%m-%d %H:%M:%S %Z')\n",
    "#end = datetime.datetime.strptime(f[0].__str__().split('\\'')[3],'%Y-%m-%d %H:%M:%S %Z')"
   ]
  },
  {
   "cell_type": "code",
   "execution_count": 7,
   "metadata": {
    "collapsed": true
   },
   "outputs": [],
   "source": [
    "f.sort(key=lambda k: k.metadata.StartTime)"
   ]
  },
  {
   "cell_type": "code",
   "execution_count": 8,
   "metadata": {
    "collapsed": false
   },
   "outputs": [
    {
     "name": "stdout",
     "output_type": "stream",
     "text": [
      "RTS: 2.7.1 Ku-band Offset Pointing\n",
      "m022\n",
      "/var/kat/archive/data/RTS/telescope_products/2016/11/01 1477979449.h5\n",
      "/home/kat/RTS/2.7-Pointing/offset_test_scan.py /home/kat/RTS/sources_bright_Ku.csv -f 12500.5 -m 28800 -n off --fine --number-sources=10000 --sb-id-code=20161031-0011 --description=RTS: 2.7.1 Ku-band Offset Pointing --observer=RTS --config-label=6b0a668,a7c85b7 \n",
      "\n",
      "3C273 offset_16 offset_17 offset_14 offset_15 offset_12 offset_13 offset_10 offset_11 offset_18 OP158.3 3C279 OJ287 0454-234 offset_8 offset_9 offset_4 offset_5 offset_6 offset_7 offset_1 offset_2\n",
      "........................................................................................\n",
      "RTS: 2.7.1 Ku-band Offset Pointing\n",
      "m022\n",
      "/var/kat/archive/data/RTS/telescope_products/2016/11/10 1478788304.h5\n",
      "/home/kat/RTS/2.7-Pointing/offset_test_scan.py /home/kat/RTS/sources_bright_Ku.csv -f 12500.5 -m 28800 -n off --fine --number-sources=10000 --sb-id-code=20161110-0004 --description=RTS: 2.7.1 Ku-band Offset Pointing --observer=benjamin --config-label=8d1b03a,a1b2ae8 \n",
      "\n",
      "1830-210 offset_60 offset_38 offset_39 offset_34 offset_35 offset_36 offset_37 offset_30 offset_31 offset_32 offset_33 offset_16 offset_17 offset_14 offset_15 offset_12 offset_13 offset_10 offset_11 offset_52 offset_53 offset_50 offset_51 offset_56 offset_57 offset_18 offset_19 offset_59 3C454.3 offset_54 offset_58 offset_55 offset_29 offset_28 offset_26 offset_23 offset_22 offset_21 offset_20 offset_27 OV236 offset_25 offset_24 offset_49 offset_48 0454-234 offset_41 offset_40 offset_43 offset_42 offset_45 offset_44 offset_47 offset_46 offset_8 offset_9 offset_4 offset_5 offset_6 offset_7 offset_1 offset_2 offset_3\n",
      "........................................................................................\n",
      "RTS: 2.7.1 Ku-band Offset Pointing\n",
      "m022\n",
      "/var/kat/archive/data/RTS/telescope_products/2016/11/10 1478817488.h5\n",
      "/home/kat/RTS/2.7-Pointing/offset_test_scan.py /home/kat/RTS/sources_bright_Ku.csv -f 12500.5 -m 28800 -n off --fine --number-sources=10000 --sb-id-code=20161110-0005 --description=RTS: 2.7.1 Ku-band Offset Pointing --observer=benjamin --config-label=8d1b03a,a1b2ae8 \n",
      "\n",
      "3C273 offset_60 offset_38 offset_39 offset_34 offset_35 offset_36 offset_37 offset_30 offset_31 offset_32 offset_33 offset_16 offset_17 offset_14 offset_15 offset_12 offset_13 offset_10 offset_11 offset_52 offset_53 offset_50 offset_51 offset_56 offset_57 offset_18 offset_19 OP158.3 3C279 offset_54 offset_9 offset_59 offset_58 offset_55 offset_29 offset_28 offset_23 offset_22 offset_21 offset_20 offset_27 offset_26 offset_25 offset_24 offset_49 offset_48 0454-234 offset_41 offset_40 offset_43 offset_42 offset_45 offset_44 offset_47 offset_46 offset_8 OJ287 offset_4 offset_5 offset_6 offset_7 offset_1 offset_2 offset_3\n",
      "........................................................................................\n",
      "RTS: 2.7.1 Ku-band Offset Pointing\n",
      "m022\n",
      "/var/kat/archive/data/RTS/telescope_products/2016/11/11 1478847359.h5\n",
      "/home/kat/RTS/2.7-Pointing/offset_test_scan.py /home/kat/RTS/sources_bright_Ku.csv -f 12500.5 -m 28800 -n off --fine --number-sources=10000 --sb-id-code=20161110-0003 --description=RTS: 2.7.1 Ku-band Offset Pointing --observer=benjamin --config-label=8d1b03a,a1b2ae8 \n",
      "\n",
      "3C273 1830-210 offset_16 offset_17 offset_14 offset_15 offset_12 offset_13 offset_10 offset_11 offset_18 OP158.3 3C279 OJ287 offset_8 offset_9 offset_4 offset_5 offset_6 offset_7 offset_1 offset_2 offset_3\n",
      "........................................................................................\n",
      "RTS: 2.7.1 Ku-band Offset Pointing\n",
      "m022\n",
      "/var/kat/archive/data/RTS/telescope_products/2016/11/11 1478873605.h5\n",
      "/home/kat/RTS/2.7-Pointing/offset_test_scan.py /home/kat/RTS/sources_bright_Ku.csv -f 12500.5 -m 28800 -n off --fine --number-sources=10000 --sb-id-code=20161111-0035 --description=RTS: 2.7.1 Ku-band Offset Pointing --observer=benjamin --config-label=8d1b03a,17a826a \n",
      "\n",
      "1830-210 offset_60 offset_38 offset_39 offset_34 offset_35 offset_36 offset_37 offset_30 offset_31 offset_32 offset_33 offset_16 offset_17 offset_14 offset_15 offset_12 offset_13 offset_10 offset_11 offset_52 offset_53 offset_50 offset_51 offset_56 offset_57 offset_18 offset_19 offset_59 3C454.3 offset_54 offset_58 offset_29 offset_28 offset_26 offset_23 offset_22 offset_21 offset_20 offset_27 OV236 offset_25 offset_24 offset_49 offset_48 0454-234 offset_41 offset_40 offset_43 offset_42 offset_45 offset_44 offset_47 offset_46 offset_8 offset_9 offset_4 offset_5 offset_6 offset_7 offset_1 offset_2 offset_3\n",
      "........................................................................................\n",
      "RTS: 2.7.1 Ku-band Offset Pointing\n",
      "m022\n",
      "/var/kat/archive/data/RTS/telescope_products/2016/11/11 1478903160.h5\n",
      "/home/kat/RTS/2.7-Pointing/offset_test_scan.py /home/kat/RTS/sources_bright_Ku.csv -f 12500.5 -m 28800 -n off --fine --number-sources=10000 --sb-id-code=20161111-0033 --description=RTS: 2.7.1 Ku-band Offset Pointing --observer=benjamin --config-label=8d1b03a,17a826a \n",
      "\n",
      "3C273 offset_60 offset_38 offset_39 offset_34 offset_35 offset_36 offset_37 offset_30 offset_31 offset_32 offset_33 offset_16 offset_17 offset_14 offset_15 offset_12 offset_13 offset_10 offset_11 offset_52 offset_53 offset_50 offset_51 offset_56 offset_57 offset_18 offset_19 OP158.3 3C279 offset_54 offset_9 offset_59 offset_58 offset_55 offset_29 offset_28 offset_23 offset_22 offset_21 offset_20 offset_27 offset_26 offset_25 offset_24 offset_49 offset_48 0454-234 offset_41 offset_40 offset_43 offset_42 offset_45 offset_44 offset_47 offset_46 offset_8 OJ287 offset_4 offset_5 offset_6 offset_7 offset_1 offset_2 offset_3\n",
      "........................................................................................\n",
      "RTS: 2.7.1 Ku-band Offset Pointing\n",
      "m022\n",
      "/var/kat/archive/data/RTS/telescope_products/2016/11/12 1478933559.h5\n",
      "/home/kat/RTS/2.7-Pointing/offset_test_scan.py /home/kat/RTS/sources_bright_Ku.csv -f 12500.5 -m 28800 -n off --fine --number-sources=10000 --sb-id-code=20161111-0034 --description=RTS: 2.7.1 Ku-band Offset Pointing --observer=benjamin --config-label=8d1b03a,17a826a \n",
      "\n",
      "3C273 offset_56 1830-210 offset_60 offset_38 offset_39 offset_34 offset_35 offset_36 offset_19 offset_30 offset_31 offset_32 offset_33 offset_16 offset_17 offset_14 offset_15 offset_12 offset_13 offset_10 offset_11 offset_52 offset_53 offset_50 offset_51 offset_37 offset_57 offset_18 OP158.3 offset_59 3C279 3C454.3 offset_54 OJ287 offset_58 offset_55 offset_29 offset_28 offset_26 offset_23 offset_22 offset_21 offset_20 offset_27 OV236 offset_25 offset_24 offset_49 offset_48 offset_41 offset_40 offset_43 offset_42 offset_45 offset_44 offset_47 offset_46 offset_8 offset_9 offset_4 offset_5 offset_6 offset_7 offset_1 offset_2 offset_3\n",
      "........................................................................................\n",
      "RTS: 2.7.1 Ku-band Offset Pointing\n",
      "m022\n",
      "/var/kat/archive/data/RTS/telescope_products/2016/11/12 1478963456.h5\n",
      "/home/kat/RTS/2.7-Pointing/offset_test_scan.py /home/kat/RTS/sources_bright_Ku.csv -f 12500.5 -m 28800 -n off --fine --number-sources=10000 --sb-id-code=20161111-0029 --description=RTS: 2.7.1 Ku-band Offset Pointing --observer=benjamin --config-label=8d1b03a,17a826a \n",
      "\n",
      "1830-210 offset_60 offset_38 offset_39 offset_34 offset_35 offset_36 offset_37 offset_30 offset_31 offset_32 offset_33 offset_16 offset_17 offset_14 offset_15 offset_12 offset_13 offset_10 offset_11 offset_52 offset_53 offset_50 offset_51 offset_56 offset_57 offset_18 offset_19 offset_59 3C454.3 offset_54 offset_58 offset_55 offset_29 offset_28 offset_26 offset_23 offset_22 offset_21 offset_20 OV236 offset_25 offset_24 offset_49 offset_48 0454-234 offset_41 offset_40 offset_43 offset_42 offset_45 offset_44 offset_46 offset_8 offset_9 offset_4 offset_5 offset_6 offset_7 offset_1 offset_2 offset_3\n",
      "........................................................................................\n",
      "RTS: 2.7.1 Ku-band Offset Pointing\n",
      "m022\n",
      "/var/kat/archive/data/RTS/telescope_products/2016/11/12 1478993094.h5\n",
      "/home/kat/RTS/2.7-Pointing/offset_test_scan.py /home/kat/RTS/sources_bright_Ku.csv -f 12500.5 -m 28800 -n off --fine --number-sources=10000 --sb-id-code=20161111-0028 --description=RTS: 2.7.1 Ku-band Offset Pointing --observer=benjamin --config-label=8d1b03a,17a826a \n",
      "\n",
      "3C273 offset_60 offset_38 offset_39 offset_34 offset_35 offset_36 offset_37 offset_30 offset_31 offset_32 offset_33 offset_16 offset_17 offset_14 offset_15 offset_12 offset_13 offset_10 offset_11 offset_52 offset_53 offset_50 offset_51 offset_56 offset_57 offset_18 offset_19 OP158.3 3C279 offset_54 offset_9 offset_59 offset_58 offset_55 offset_29 offset_28 offset_23 offset_22 offset_21 offset_20 offset_27 offset_26 offset_25 offset_24 offset_49 offset_48 0454-234 offset_41 offset_40 offset_43 offset_42 offset_45 offset_44 offset_47 offset_46 offset_8 OJ287 offset_4 offset_5 offset_6 offset_7 offset_1 offset_2 offset_3\n",
      "........................................................................................\n",
      "RTS: 2.7.1 Ku-band Offset Pointing\n",
      "m022\n",
      "/var/kat/archive/data/RTS/telescope_products/2016/11/13 1479022899.h5\n",
      "/home/kat/RTS/2.7-Pointing/offset_test_scan.py /home/kat/RTS/sources_bright_Ku.csv -f 12500.5 -m 28800 -n off --fine --number-sources=10000 --sb-id-code=20161111-0030 --description=RTS: 2.7.1 Ku-band Offset Pointing --observer=benjamin --config-label=8d1b03a,17a826a \n",
      "\n",
      "offset_56 1830-210 offset_38 offset_39 offset_34 offset_35 offset_36 offset_19 offset_30 offset_31 offset_32 offset_33 offset_16 offset_17 offset_14 offset_15 offset_12 offset_13 offset_10 offset_11 offset_52 offset_53 offset_50 offset_51 offset_37 offset_57 offset_18 OP158.3 offset_59 3C279 3C454.3 offset_54 3C273 offset_58 offset_55 offset_29 offset_28 offset_26 offset_23 offset_22 offset_21 offset_20 offset_27 OV236 offset_25 offset_24 offset_49 offset_48 offset_41 offset_40 offset_43 offset_42 offset_45 offset_44 offset_47 offset_46 offset_8 offset_9 offset_4 offset_5 offset_6 offset_7 offset_1 offset_2 offset_3\n",
      "........................................................................................\n",
      "RTS: 2.7.1 Ku-band Offset Pointing\n",
      "m022\n",
      "/var/kat/archive/data/RTS/telescope_products/2016/11/13 1479052797.h5\n",
      "/home/kat/RTS/2.7-Pointing/offset_test_scan.py /home/kat/RTS/sources_bright_Ku.csv -f 12500.5 -m 28800 -n off --fine --number-sources=10000 --sb-id-code=20161111-0031 --description=RTS: 2.7.1 Ku-band Offset Pointing --observer=benjamin --config-label=8d1b03a,9ce73bd \n",
      "\n",
      "1830-210 offset_60 offset_38 offset_39 offset_34 offset_35 offset_36 offset_37 offset_30 offset_31 offset_32 offset_33 offset_16 offset_17 offset_14 offset_15 offset_12 offset_13 offset_10 offset_11 offset_52 offset_53 offset_50 offset_51 offset_56 offset_57 offset_18 offset_19 offset_59 3C454.3 offset_54 offset_58 offset_55 offset_29 offset_28 offset_26 offset_23 offset_22 offset_21 offset_20 offset_27 OV236 offset_25 offset_24 offset_49 offset_48 0454-234 offset_41 offset_40 offset_43 offset_42 offset_45 offset_44 offset_47 offset_46 offset_8 offset_9 offset_4 offset_5 offset_6 offset_7 offset_1 offset_2 offset_3\n",
      "........................................................................................\n",
      "RTS: 2.7.1 Ku-band Offset Pointing\n",
      "m022\n",
      "/var/kat/archive/data/RTS/telescope_products/2016/11/14 1479082307.h5\n",
      "/home/kat/RTS/2.7-Pointing/offset_test_scan.py /home/kat/RTS/sources_bright_Ku.csv -f 12500.5 -m 28800 -n off --fine --number-sources=10000 --sb-id-code=20161111-0032 --description=RTS: 2.7.1 Ku-band Offset Pointing --observer=benjamin --config-label=8d1b03a,9ce73bd \n",
      "\n",
      "3C273 offset_56 offset_38 offset_39 offset_34 offset_35 offset_36 OP158.3 offset_30 offset_31 offset_32 offset_33 offset_16 offset_17 offset_14 offset_15 offset_12 offset_13 offset_10 offset_11 offset_52 offset_53 offset_50 offset_51 offset_37 offset_57 offset_18 offset_19 3C279 offset_54 OJ287 offset_58 offset_55 offset_29 offset_28 offset_23 offset_22 offset_21 offset_20 offset_27 offset_26 offset_25 offset_24 offset_49 offset_48 0454-234 offset_41 offset_40 offset_43 offset_42 offset_45 offset_44 offset_47 offset_46 offset_8 offset_9 offset_4 offset_5 offset_6 offset_7 offset_1 offset_2 offset_3\n",
      "........................................................................................\n",
      "RTS: 2.7 L-band Pointing L Band\n",
      "m021 m022\n",
      "/var/kat/archive/data/RTS/telescope_products/2016/11/14 1479154644.h5\n",
      "/home/kat/RTS/2.7-Pointing/point_source_scan.py /home/kat/RTS/sources_pnt_L.csv -n off -m 36000 -f 1284 --horizon=16 --proposal-id=COMM-RTS --sb-id-code=20161114-0016 --description=RTS: 2.7 L-band Pointing L Band --observer=benjamin --config-label=f1fe52f,9162e64 \n",
      "\n",
      "PKS 1934-63 3C 161 3C 279 PKS 2153-69 3C 48 3C 273 For A PKS 2104-25 Pic A PKS 0410-75 Vir A Ori A PKS 0521-36 PKS 0408-65 PKS 1610-60 Tau A Hyd A 3C 123\n",
      "........................................................................................\n",
      "RTS: 2.7 L-band Pointing L Band\n",
      "m021 m022\n",
      "/var/kat/archive/data/RTS/telescope_products/2016/11/18 1479506058.h5\n",
      "/home/kat/RTS/2.7-Pointing/point_source_scan.py /home/kat/RTS/sources_pnt_L.csv -n off -m 36000 -f 1284 --horizon=16 --proposal-id=COMM-RTS --sb-id-code=20161118-0001 --description=RTS: 2.7 L-band Pointing L Band --observer=benjamin --config-label=f1fe52f,72a1712 \n",
      "\n",
      "3C 286 3C 161 3C 358 3C 279 PKS 2153-69 3C 273 For A 3C 353 Pic A PKS 0410-75 Vir A Ori A PKS 0521-36 PKS 0408-65 PKS 1610-60 Tau A Her A PKS 1814-63 Hyd A 3C 123\n",
      "........................................................................................\n",
      "RTS: 2.7 L-band Pointing L Band\n",
      "m021 m022\n",
      "/var/kat/archive/data/RTS/telescope_products/2016/11/19 1479542238.h5\n",
      "/home/kat/RTS/2.7-Pointing/point_source_scan.py /home/kat/RTS/sources_pnt_L.csv -n off -m 36000 -f 1284 --horizon=16 --proposal-id=COMM-RTS --sb-id-code=20161118-0002 --description=RTS: 2.7 L-band Pointing L Band --observer=benjamin --config-label=f1fe52f,72a1712 \n",
      "\n",
      "3C 286 Vir A 3C 279 3C 358 PKS 2153-69 3C 409 3C 273 Her A PKS 2104-25 PKS 1814-63 3C 433 3C 353 PKS 1934-63 PKS 0408-65 PKS 1610-60 For A 3C 454.3 Hyd A PKS 0410-75\n",
      "........................................................................................\n"
     ]
    }
   ],
   "source": [
    "for fi in f:\n",
    "    print fi.metadata.Description\n",
    "    print listpr(fi.metadata.Antennas)\n",
    "    print fi.metadata.FileLocation, findh5(fi.metadata.Details)\n",
    "    print fi.metadata.InstructionSet,\"\\n\"\n",
    "    print listpr(fi.metadata.Targets)\n",
    "    print \".\"*88\n",
    "    "
   ]
  },
  {
   "cell_type": "code",
   "execution_count": 9,
   "metadata": {
    "collapsed": false
   },
   "outputs": [
    {
     "data": {
      "text/plain": [
       "[['1477979449.h5', '2016-11-01 07:50:51 SAST', 'RTS', 1443285201],\n",
       " ['1478788304.h5', '2016-11-10 16:31:46 SAST', 'benjamin', 4778298442],\n",
       " ['1478817488.h5', '2016-11-11 00:38:10 SAST', 'benjamin', 4908016413],\n",
       " ['1478847359.h5', '2016-11-11 08:56:01 SAST', 'benjamin', 1472516241],\n",
       " ['1478873605.h5', '2016-11-11 16:13:27 SAST', 'benjamin', 4838727540],\n",
       " ['1478903160.h5', '2016-11-12 00:26:03 SAST', 'benjamin', 4993968590],\n",
       " ['1478933559.h5', '2016-11-12 08:52:41 SAST', 'benjamin', 4929158514],\n",
       " ['1478963456.h5', '2016-11-12 17:10:57 SAST', 'benjamin', 4904446062],\n",
       " ['1478993094.h5', '2016-11-13 01:24:56 SAST', 'benjamin', 4949893527],\n",
       " ['1479022899.h5', '2016-11-13 09:41:41 SAST', 'benjamin', 4961679184],\n",
       " ['1479052797.h5', '2016-11-13 17:59:59 SAST', 'benjamin', 4831449451],\n",
       " ['1479082307.h5', '2016-11-14 02:11:48 SAST', 'benjamin', 4661212482],\n",
       " ['1479154644.h5', '2016-11-14 22:17:25 SAST', 'benjamin', 16553078965],\n",
       " ['1479506058.h5', '2016-11-18 23:54:19 SAST', 'benjamin', 16596993672],\n",
       " ['1479542238.h5', '2016-11-19 09:57:20 SAST', 'benjamin', 16617503437]]"
      ]
     },
     "execution_count": 9,
     "metadata": {},
     "output_type": "execute_result"
    }
   ],
   "source": [
    "f"
   ]
  },
  {
   "cell_type": "code",
   "execution_count": 10,
   "metadata": {
    "collapsed": false
   },
   "outputs": [
    {
     "name": "stdout",
     "output_type": "stream",
     "text": [
      "01 1477979449.h5 RTS: 2.7.1 Ku-band Offset Pointing m022\n",
      "10 1478788304.h5 RTS: 2.7.1 Ku-band Offset Pointing m022\n",
      "11 1478817488.h5 RTS: 2.7.1 Ku-band Offset Pointing m022\n",
      "11 1478847359.h5 RTS: 2.7.1 Ku-band Offset Pointing m022\n",
      "11 1478873605.h5 RTS: 2.7.1 Ku-band Offset Pointing m022\n",
      "12 1478903160.h5 RTS: 2.7.1 Ku-band Offset Pointing m022\n",
      "12 1478933559.h5 RTS: 2.7.1 Ku-band Offset Pointing m022\n",
      "12 1478963456.h5 RTS: 2.7.1 Ku-band Offset Pointing m022\n",
      "13 1478993094.h5 RTS: 2.7.1 Ku-band Offset Pointing m022\n",
      "13 1479022899.h5 RTS: 2.7.1 Ku-band Offset Pointing m022\n",
      "13 1479052797.h5 RTS: 2.7.1 Ku-band Offset Pointing m022\n",
      "14 1479082307.h5 RTS: 2.7.1 Ku-band Offset Pointing m022\n",
      "14 1479154644.h5 RTS: 2.7 L-band Pointing L Band m021 m022\n",
      "18 1479506058.h5 RTS: 2.7 L-band Pointing L Band m021 m022\n",
      "19 1479542238.h5 RTS: 2.7 L-band Pointing L Band m021 m022\n"
     ]
    }
   ],
   "source": [
    "for fi in f:\n",
    "    x= repr(fi)\n",
    "    pr=x.split(\",\")\n",
    "    print pr[1][10:12],findh5(fi.metadata.Details) , fi.metadata.Description, listpr(fi.metadata.Antennas)"
   ]
  },
  {
   "cell_type": "code",
   "execution_count": 11,
   "metadata": {
    "collapsed": false
   },
   "outputs": [
    {
     "name": "stdout",
     "output_type": "stream",
     "text": [
      "Searched using: CAS.ProductTypeName:(RTSTelescopeProduct) AND CAS.ProductTransferStatus:RECEIVED AND Description:Interferometric_Pointing AND StartTime:[2016-10-31T22:00:00Z TO 2016-11-30T21:59:59Z]\n",
      "Returning 0 results\n"
     ]
    },
    {
     "data": {
      "text/plain": [
       "[]"
      ]
     },
     "execution_count": 11,
     "metadata": {},
     "output_type": "execute_result"
    }
   ],
   "source": [
    "\n",
    "f2=katarchive.search_archive(description=\"Interferometric_Pointing\",startdate=start,enddate=end)\n",
    "\n",
    "f2.sort(key=lambda k: k.metadata.StartTime)\n",
    "f2"
   ]
  },
  {
   "cell_type": "code",
   "execution_count": 12,
   "metadata": {
    "collapsed": false
   },
   "outputs": [],
   "source": [
    "for fi in f2:\n",
    "    print fi.metadata.Description\n",
    "    print listpr(fi.metadata.Antennas)\n",
    "    print fi.metadata.FileLocation, findh5(fi.metadata.Details)\n",
    "    print fi.metadata.InstructionSet,\"\\n\"\n",
    "    print listpr(fi.metadata.Targets)\n",
    "    print \".\"*88"
   ]
  },
  {
   "cell_type": "code",
   "execution_count": 13,
   "metadata": {
    "collapsed": false,
    "scrolled": true
   },
   "outputs": [
    {
     "data": {
      "text/plain": [
       "[]"
      ]
     },
     "execution_count": 13,
     "metadata": {},
     "output_type": "execute_result"
    }
   ],
   "source": [
    "f2.sort(key=lambda k: k.metadata.StartTime)\n",
    "f2"
   ]
  },
  {
   "cell_type": "code",
   "execution_count": 14,
   "metadata": {
    "collapsed": false
   },
   "outputs": [],
   "source": [
    "for fi in f2:\n",
    "    x= repr(fi)\n",
    "    pr=x.split(\",\")\n",
    "    print pr[1][10:12],findh5(fi.metadata.Details),fi.metadata.Description,listpr(fi.metadata.Antennas)"
   ]
  }
 ],
 "metadata": {
  "kernelspec": {
   "display_name": "Python 2",
   "language": "python",
   "name": "python2"
  },
  "language_info": {
   "codemirror_mode": {
    "name": "ipython",
    "version": 2
   },
   "file_extension": ".py",
   "mimetype": "text/x-python",
   "name": "python",
   "nbconvert_exporter": "python",
   "pygments_lexer": "ipython2",
   "version": "2.7.6"
  }
 },
 "nbformat": 4,
 "nbformat_minor": 0
}
