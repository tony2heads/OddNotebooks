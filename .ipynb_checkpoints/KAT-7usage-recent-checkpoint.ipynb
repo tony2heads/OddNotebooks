{
 "cells": [
  {
   "cell_type": "code",
   "execution_count": 1,
   "metadata": {
    "collapsed": false
   },
   "outputs": [],
   "source": [
    "%matplotlib inline\n",
    "import numpy as np"
   ]
  },
  {
   "cell_type": "code",
   "execution_count": 2,
   "metadata": {
    "collapsed": true
   },
   "outputs": [],
   "source": [
    "import matplotlib.pyplot as plt"
   ]
  },
  {
   "cell_type": "code",
   "execution_count": 3,
   "metadata": {
    "collapsed": false
   },
   "outputs": [],
   "source": [
    "import katarchive\n",
    "\n",
    "import datetime\n",
    "\n",
    "import logging\n",
    "logging.root.setLevel(logging.ERROR)\n"
   ]
  },
  {
   "cell_type": "code",
   "execution_count": 4,
   "metadata": {
    "collapsed": false
   },
   "outputs": [],
   "source": [
    "def findproj(text):\n",
    "    found='Unknown'        # default\n",
    "    chx=text.find('prop')\n",
    "    if chx >0  :\n",
    "        pr2=text[chx+11:chx+38].split()\n",
    "        code=pr2[0]\n",
    "        found=code.replace(\"=\",\"\")\n",
    "    else:\n",
    "        if text.find('maser') >0:\n",
    "            found=\"Maser monitoring\"\n",
    "            #print text\n",
    "    return found"
   ]
  },
  {
   "cell_type": "code",
   "execution_count": 5,
   "metadata": {
    "collapsed": false
   },
   "outputs": [
    {
     "name": "stdout",
     "output_type": "stream",
     "text": [
      "2016-06-07 11:50:37.146554 2016-05-31 11:50:37.146554\n"
     ]
    }
   ],
   "source": [
    "today=datetime.datetime.today()\n",
    "ago=datetime.timedelta(-7)\n",
    "lastweek=today+ago\n",
    "print today,lastweek\n",
    "begin=lastweek.strftime(format=\"%d/%m/%Y\")\n",
    "end=today.strftime(format=\"%d/%m/%Y\")"
   ]
  },
  {
   "cell_type": "code",
   "execution_count": 6,
   "metadata": {
    "collapsed": false
   },
   "outputs": [
    {
     "name": "stdout",
     "output_type": "stream",
     "text": [
      "Searched using: CAS.ProductTypeName:(KatFile) AND CAS.ProductTransferStatus:RECEIVED AND StartTime:[2016-05-30T22:00:00Z TO 2016-06-07T21:59:59Z]\n",
      "Returning 29 results\n",
      "[['1', '2016-06-06 18:09:38 SAST', 'Nadeem', [2579906036]], ['1', '2016-06-06 09:15:16 SAST', 'Nadeem', [1910095247]], ['1', '2016-06-04 18:03:14 SAST', 'Nadeem', [3916578689]], ['1', '2016-06-03 11:30:17 SAST', 'Nadeem', [1141505882]], ['1', '2016-06-03 11:26:10 SAST', 'operator', [61373363]], ['1', '2016-06-03 09:16:55 SAST', 'Sean', [4187954966]], ['1', '2016-06-03 09:14:29 SAST', 'operator', [60785898]], ['1', '2016-06-03 08:17:41 SAST', 'Lindsay', [1084510849]], ['1', '2016-06-03 08:15:15 SAST', 'operator', [47934814]], ['1', '2016-06-02 17:36:22 SAST', 'sharmila/ruby', [22894857661]], ['1', '2016-06-02 17:34:32 SAST', 'operator', [150359033]], ['1', '2016-06-02 14:55:32 SAST', 'operator', [23316363]], ['1', '2016-06-02 14:50:31 SAST', 'operator', [197530550]], ['1', '2016-06-02 09:11:03 SAST', 'Tony', [1055145564]], ['1', '2016-06-02 09:09:00 SAST', 'operator', [45134335]], ['1', '2016-06-01 18:06:46 SAST', 'sharmila/ruby', [22148938853]], ['1', '2016-06-01 18:04:17 SAST', 'operator', [251805125]], ['1', '2016-06-01 14:15:46 SAST', 'Tony', [810020322]], ['1', '2016-06-01 14:08:11 SAST', 'operator', [60819774]], ['1', '2016-06-01 09:55:25 SAST', 'Nadeem', [895263938]], ['1', '2016-06-01 02:30:16 SAST', 'Nadeem', [1517096815]], ['1', '2016-06-01 02:26:11 SAST', 'operator', [60798926]], ['1', '2016-05-31 17:56:16 SAST', 'operator', [60786922]], ['1', '2016-05-31 10:40:19 SAST', 'Nadeem', [1420521168]], ['1', '2016-05-31 10:37:35 SAST', 'operator', [61356938]], ['1', '2016-05-31 09:25:24 SAST', 'Nadeem', [2156640024]], ['1', '2016-05-31 09:20:37 SAST', 'operator', [60808115]], ['1', '2016-05-31 02:00:22 SAST', 'Nadeem', [1535617307]], ['1', '2016-05-31 01:56:14 SAST', 'operator', [87096196]]]\n"
     ]
    }
   ],
   "source": [
    "print katarchive.search_archive(startdate=begin,enddate=end)\n"
   ]
  },
  {
   "cell_type": "code",
   "execution_count": 7,
   "metadata": {
    "collapsed": false
   },
   "outputs": [
    {
     "name": "stdout",
     "output_type": "stream",
     "text": [
      "Searched using: CAS.ProductTypeName:(KatFile) AND CAS.ProductTransferStatus:RECEIVED AND StartTime:[2016-05-30T22:00:00Z TO 2016-06-07T21:59:59Z]\n",
      "Returning 29 results\n"
     ]
    }
   ],
   "source": [
    "f = katarchive.search_archive(startdate=begin)\n",
    "start = datetime.datetime.strptime(f[-1].__str__().split('\\'')[3],'%Y-%m-%d %H:%M:%S %Z')\n",
    "end = datetime.datetime.strptime(f[0].__str__().split('\\'')[3],'%Y-%m-%d %H:%M:%S %Z')"
   ]
  },
  {
   "cell_type": "code",
   "execution_count": 8,
   "metadata": {
    "collapsed": false
   },
   "outputs": [],
   "source": [
    "#print 'First file in run: ' , start.isoformat()\n",
    "#print 'Last file in run: ' , end.isoformat()"
   ]
  },
  {
   "cell_type": "code",
   "execution_count": 9,
   "metadata": {
    "collapsed": false
   },
   "outputs": [
    {
     "name": "stdout",
     "output_type": "stream",
     "text": [
      "2 COMM_Image_NO 43250.6 Imaging Calibration 5\n",
      "2 COMM_Image_NO 32020.44 Imaging Calibration 5\n",
      "2 COMM_Image_NO 65670.91 Imaging Calibration 5\n",
      "2 COMM_Image_NO 19130.26 Imaging Calibration 5\n",
      "2 COMM_Atten 108.01 Auto atten 5\n",
      "2 COMM_RFI_SP 7482.59 Basic RFI Scan: RFI SCAN 5\n",
      "2 COMM_Atten 107.01 Auto atten 5\n",
      "2 COMM_Point_LM 1936.15 Pointing Observation 5\n",
      "2 COMM_Atten 84.01 Auto atten 5\n",
      "2 Maser monitoring 48504.73 OH maser monitoring 5\n",
      "2 COMM_Atten 63.42 Auto atten 5\n",
      "2 COMM_Atten 40.0 Auto atten 5\n",
      "2 COMM_Atten 83.55 Auto atten 5\n",
      "2 COMM_Bandpass_TF 17680.24 Bandpass Calibrators 5\n",
      "2 COMM_Atten 79.01 Auto atten 5\n",
      "2 Maser monitoring 46924.32 OH maser monitoring 5\n",
      "2 COMM_Atten 106.7 Auto atten 5\n",
      "2 20150619TF-01 13570.19 3C279 5\n",
      "2 COMM_Atten 107.01 Auto atten 5\n",
      "2 COMM_Image_NO 15000.21 Imaging Calibration 5\n",
      "2 20141219SS-01 25430.35 W2332 Low 5\n",
      "2 COMM_Atten 107.01 Auto atten 5\n",
      "2 COMM_Atten 107.01 Auto atten 5\n",
      "2 COMM_Image_NO 23810.33 Imaging Calibration 5\n",
      "2 COMM_Atten 108.01 Auto atten 5\n",
      "2 COMM_Tipping_NO 3852.31 Tipping Curve 5\n",
      "2 COMM_Atten 107.01 Auto atten 5\n",
      "2 20130822NO-01 25740.36 W2332_5056 5\n",
      "2 COMM_Atten 154.01 Auto atten 5\n"
     ]
    }
   ],
   "source": [
    "for fi in f:\n",
    "    txts=fi.metadata.InstructionSet\n",
    "    p=findproj(txts)\n",
    "    print fi.metadata.ExperimentID, p, fi.metadata.Duration, fi.metadata.Description, len(fi.metadata.Antennas)\n"
   ]
  },
  {
   "cell_type": "markdown",
   "metadata": {},
   "source": [
    "Only select observations that are longer than 1 hrs then extract the project id from the script parameters. If there is no project id then allocated No_project_id "
   ]
  },
  {
   "cell_type": "code",
   "execution_count": 10,
   "metadata": {
    "collapsed": false
   },
   "outputs": [],
   "source": [
    "sbd = [] #Experiment ID\n",
    "pid = [] #project ID\n",
    "fnd = [] #Filename\n",
    "dud = [] #Duration\n",
    "antsd = [] #number of antennas\n",
    "scrd = [] #script  -NOT USED NOW\n",
    "\n",
    "for fi in f:\n",
    "    if fi.metadata.Duration < 3600: #only pick hour long or greater observations for analysis\n",
    "        continue\n",
    "    # now try extract the project-id from the instruction-set string\n",
    "    \"\"\"\n",
    "    script = fi.metadata.InstructionSet\n",
    "    scrd.append(script)\n",
    "    spl = script.split()\n",
    "    \"\"\"\n",
    "    txts=fi.metadata.InstructionSet\n",
    "    p=findproj(txts)\n",
    "    if p == \"Unknown\":\n",
    "        p=\"Maser Monitoring\"\n",
    "    sbd.append(fi.metadata.ExperimentID)\n",
    "    pid.append(p)\n",
    "    fnd.append(fi.metadata.Filename)\n",
    "    dud.append(fi.metadata.Duration)\n",
    "    antsd.append(len(fi.metadata.Antennas))\n"
   ]
  },
  {
   "cell_type": "code",
   "execution_count": 11,
   "metadata": {
    "collapsed": false
   },
   "outputs": [
    {
     "name": "stdout",
     "output_type": "stream",
     "text": [
      "Percentage system usage:  74.0 %\n"
     ]
    }
   ],
   "source": [
    "pi = np.array(pid)\n",
    "sb = np.array(sbd)\n",
    "du = np.array(dud)\n",
    "ants = np.array(antsd)\n",
    "\n",
    "p_cent = (sum(du)/((end.toordinal()-start.toordinal())*24*3600))*100\n",
    "\n",
    "print 'Percentage system usage: ', np.floor(p_cent),'%'\n"
   ]
  },
  {
   "cell_type": "code",
   "execution_count": 12,
   "metadata": {
    "collapsed": false
   },
   "outputs": [
    {
     "name": "stdout",
     "output_type": "stream",
     "text": [
      "COMM_Tipping_NO 1.07\n",
      "20130822NO-01 7.15\n",
      "COMM_Bandpass_TF 4.91\n",
      "20150619TF-01 3.77\n",
      "20141219SS-01 7.06\n",
      "COMM_RFI_SP 2.08\n",
      "COMM_Image_NO 55.25\n",
      "Maser monitoring 26.51\n"
     ]
    }
   ],
   "source": [
    "a_id = []\n",
    "a_time = []\n",
    "for p in set(pi):\n",
    "    ind = pi == p\n",
    "    print p,round(sum(du[ind])/3600,2)\n",
    "    a_id.append(p)\n",
    "    a_time.append(round(sum(du[ind])/3600,2))"
   ]
  },
  {
   "cell_type": "code",
   "execution_count": 13,
   "metadata": {
    "collapsed": false
   },
   "outputs": [
    {
     "name": "stdout",
     "output_type": "stream",
     "text": [
      "20130822NO-01      7.2 5\n",
      "20141219SS-01      7.1 5\n",
      "20150619TF-01      3.8 5\n",
      "COMM_Bandpass_TF   4.9 5\n",
      "COMM_Image_NO     55.2 5\n",
      "COMM_RFI_SP        2.1 5\n",
      "COMM_Tipping_NO    1.1 5\n",
      "Maser monitoring  26.5 5\n"
     ]
    }
   ],
   "source": [
    "ind = np.argsort(a_id)\n",
    "for i in ind:\n",
    "    print (\"%-16s %5.1f %d\") %(a_id[i],a_time[i],ants[i])"
   ]
  },
  {
   "cell_type": "markdown",
   "metadata": {},
   "source": [
    "Find the unique project ids and determine the total observation duration."
   ]
  },
  {
   "cell_type": "markdown",
   "metadata": {},
   "source": [
    "Sort ID and time for display"
   ]
  },
  {
   "cell_type": "markdown",
   "metadata": {},
   "source": [
    "Plot as pie-chart"
   ]
  },
  {
   "cell_type": "code",
   "execution_count": 14,
   "metadata": {
    "collapsed": true
   },
   "outputs": [],
   "source": [
    "cmap = plt.cm.prism\n",
    "colors = cmap(np.linspace(0., 1., 7))"
   ]
  },
  {
   "cell_type": "code",
   "execution_count": 15,
   "metadata": {
    "collapsed": false
   },
   "outputs": [
    {
     "data": {
      "image/png": "[encoded data removed]",
      "text/plain": [
       "<matplotlib.figure.Figure at 0x7f70be6fcf50>"
      ]
     },
     "metadata": {},
     "output_type": "display_data"
    }
   ],
   "source": [
    "plt.figure(figsize=(15,15))\n",
    "plt.pie(a_time,labels=a_id,colors=colors,autopct='%1.1f%%');"
   ]
  },
  {
   "cell_type": "code",
   "execution_count": 16,
   "metadata": {
    "collapsed": true
   },
   "outputs": [],
   "source": [
    "plt.show()"
   ]
  },
  {
   "cell_type": "code",
   "execution_count": 17,
   "metadata": {
    "collapsed": false
   },
   "outputs": [
    {
     "data": {
      "text/plain": [
       "u'/home/kat/scripts/observation/auto_attenuate.py -f 1822 -t radec,0,-90 --mode=bc16n400M1k --proposal-id COMM_Atten program-block-id=25ob00900351 --sb-id-code=20160530-0011 --description= AutoAttenuation for 25ob00900351  --observer=operator --config-label=Auto2016-03-01T11h45m26.0Z'"
      ]
     },
     "execution_count": 17,
     "metadata": {},
     "output_type": "execute_result"
    }
   ],
   "source": [
    "fi.metadata.InstructionSet"
   ]
  },
  {
   "cell_type": "code",
   "execution_count": null,
   "metadata": {
    "collapsed": true
   },
   "outputs": [],
   "source": []
  }
 ],
 "metadata": {
  "kernelspec": {
   "display_name": "Python 2",
   "language": "python",
   "name": "python2"
  },
  "language_info": {
   "codemirror_mode": {
    "name": "ipython",
    "version": 2
   },
   "file_extension": ".py",
   "mimetype": "text/x-python",
   "name": "python",
   "nbconvert_exporter": "python",
   "pygments_lexer": "ipython2",
   "version": "2.7.6"
  }
 },
 "nbformat": 4,
 "nbformat_minor": 0
}
