{
 "cells": [
  {
   "cell_type": "code",
   "execution_count": 1,
   "metadata": {},
   "outputs": [],
   "source": [
    "#%loadpy /home/tony/Desktop/PythonScripts/Coords/B2J.py"
   ]
  },
  {
   "cell_type": "code",
   "execution_count": 2,
   "metadata": {},
   "outputs": [
    {
     "name": "stdout",
     "output_type": "stream",
     "text": [
      "b is  (342.8730041666666, 15.881752777777779)\n",
      "j is  (343.4906369624413, 16.148177408307436)\n",
      "22:53:57.753 +16:08:53.439\n",
      "(86.11105744596361, -38.1837875327855)\n",
      "Difference 0.650705 degrees 0.650705 degrees\n",
      "-2223.47806479 -959.128669907\n"
     ]
    }
   ],
   "source": [
    "#!/usr/bin/env python\n",
    "\"\"\"\n",
    "A routine to convert B1950 to J2000\n",
    "expects a line with B1950 coordinates\n",
    "in quotes\n",
    "\"\"\"\n",
    "#import sys\n",
    "import coords as C\n",
    "#import Position\n",
    "\n",
    "\"\"\"\n",
    "inpar = len(sys.argv)\n",
    "\n",
    "if inpar > 2:\n",
    "    posstring=sys.argv[1:]\n",
    "    string=posstring[0]+\" \"+posstring[1]\n",
    "else:\n",
    "    string=raw_input('Give B1950 coordinates: ')\n",
    "\"\"\"\n",
    "string = \"22:51:29.521 15:52:54.31\" # 3C454.3\n",
    "#print string\n",
    "b=C.Position(string,equinox=\"B1950\").b1950()\n",
    "print \"b is \",b\n",
    "j=C.Position(string,equinox=\"B1950\").j2000() # produces a tuple in degrees\n",
    "print \"j is \",j\n",
    "J=C.Position(j,equinox=\"J2000\").hmsdms()\n",
    "print J\n",
    "\n",
    "\"\"\"\n",
    "   other useful functions\n",
    "\"\"\"\n",
    "gal=C.Position(string,equinox=\"B1950\").galactic() # a tuple\n",
    "print gal\n",
    "pos1=C.Position(string)\n",
    "pos2=C.Position(J)\n",
    "sep12=pos1.angsep(pos2)\n",
    "sep21=pos2.angsep(pos1)\n",
    "print \"Difference\",sep12,sep21\n",
    "print (b[0]-j[0])*3600,(b[1]-j[1])*3600"
   ]
  },
  {
   "cell_type": "code",
   "execution_count": 3,
   "metadata": {},
   "outputs": [
    {
     "name": "stdout",
     "output_type": "stream",
     "text": [
      "2020-02-28 10:31:13.191124\n"
     ]
    }
   ],
   "source": [
    "ad=C.AstroDate()  # in UTC\n",
    "print ad"
   ]
  },
  {
   "cell_type": "code",
   "execution_count": 4,
   "metadata": {},
   "outputs": [
    {
     "name": "stdout",
     "output_type": "stream",
     "text": [
      "2458907.93834 58907.4383449\n"
     ]
    }
   ],
   "source": [
    "print ad.jd , ad.mjd"
   ]
  },
  {
   "cell_type": "code",
   "execution_count": 5,
   "metadata": {},
   "outputs": [
    {
     "data": {
      "text/plain": [
       "datetime.datetime(2020, 2, 28, 10, 31, 13, 191124)"
      ]
     },
     "execution_count": 5,
     "metadata": {},
     "output_type": "execute_result"
    }
   ],
   "source": [
    "ad.datespec"
   ]
  },
  {
   "cell_type": "code",
   "execution_count": 6,
   "metadata": {},
   "outputs": [
    {
     "data": {
      "text/plain": [
       "(350.66847794070105, 21.329747299453587)"
      ]
     },
     "execution_count": 6,
     "metadata": {},
     "output_type": "execute_result"
    }
   ],
   "source": [
    "C.Position(string,equinox=\"J2000\").ecliptic()"
   ]
  },
  {
   "cell_type": "code",
   "execution_count": 7,
   "metadata": {},
   "outputs": [
    {
     "name": "stdout",
     "output_type": "stream",
     "text": [
      "(342.87300416666665, 15.881752777777779)\n",
      "22:51:29.521 +15:52:54.310\n"
     ]
    }
   ],
   "source": [
    "print C.Position(string).dd()\n",
    "print C.Position(string).hmsdms()\n",
    "#print C.Position(string,equinox='B1950').j2000().hmsdms()"
   ]
  }
 ],
 "metadata": {
  "kernelspec": {
   "display_name": "Python 2",
   "language": "python",
   "name": "python2"
  },
  "language_info": {
   "codemirror_mode": {
    "name": "ipython",
    "version": 2
   },
   "file_extension": ".py",
   "mimetype": "text/x-python",
   "name": "python",
   "nbconvert_exporter": "python",
   "pygments_lexer": "ipython2",
   "version": "2.7.17"
  }
 },
 "nbformat": 4,
 "nbformat_minor": 1
}
