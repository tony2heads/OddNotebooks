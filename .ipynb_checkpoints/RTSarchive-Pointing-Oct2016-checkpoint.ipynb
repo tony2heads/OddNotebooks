{
 "cells": [
  {
   "cell_type": "code",
   "execution_count": 1,
   "metadata": {
    "collapsed": false
   },
   "outputs": [],
   "source": [
    "import katarchive\n",
    "import datetime\n"
   ]
  },
  {
   "cell_type": "code",
   "execution_count": 2,
   "metadata": {
    "collapsed": true
   },
   "outputs": [],
   "source": [
    "katarchive.product_filter.only_rts()"
   ]
  },
  {
   "cell_type": "code",
   "execution_count": 3,
   "metadata": {
    "collapsed": false
   },
   "outputs": [],
   "source": [
    "def findh5(det):   # uses detail list to get h5 name\n",
    "    pos=det.find(\"Name:\")\n",
    "    if pos >0  :\n",
    "        pr2=det[pos+37:pos+53].split()\n",
    "        h5name=pr2[0].lstrip(\"/ng\")\n",
    "    return h5name"
   ]
  },
  {
   "cell_type": "code",
   "execution_count": 4,
   "metadata": {
    "collapsed": false
   },
   "outputs": [],
   "source": [
    "def listpr(x):\n",
    "    \"\"\"\n",
    "    takes a list and prints as string\n",
    "    \"\"\"\n",
    "    li=\" \".join(map(str,x))\n",
    "    return li"
   ]
  },
  {
   "cell_type": "code",
   "execution_count": 5,
   "metadata": {
    "collapsed": true
   },
   "outputs": [],
   "source": [
    "start=\"1/10/2016\"\n",
    "end=\"31/10/2016\" "
   ]
  },
  {
   "cell_type": "code",
   "execution_count": 6,
   "metadata": {
    "collapsed": false
   },
   "outputs": [
    {
     "name": "stdout",
     "output_type": "stream",
     "text": [
      "Searched using: CAS.ProductTypeName:(RTSTelescopeProduct) AND CAS.ProductTransferStatus:RECEIVED AND Description:Point AND StartTime:[2016-09-30T22:00:00Z TO 2016-10-31T21:59:59Z]\n",
      "Returning 14 results\n"
     ]
    }
   ],
   "source": [
    "#Look for pointing\n",
    "\n",
    "f=katarchive.search_archive(description=\"Point\",startdate=start,enddate=end)\n",
    "\n",
    "#start = datetime.datetime.strptime(f[-1].__str__().split('\\'')[3],'%Y-%m-%d %H:%M:%S %Z')\n",
    "#end = datetime.datetime.strptime(f[0].__str__().split('\\'')[3],'%Y-%m-%d %H:%M:%S %Z')"
   ]
  },
  {
   "cell_type": "code",
   "execution_count": 7,
   "metadata": {
    "collapsed": true
   },
   "outputs": [],
   "source": [
    "f.sort(key=lambda k: k.metadata.StartTime)"
   ]
  },
  {
   "cell_type": "code",
   "execution_count": 8,
   "metadata": {
    "collapsed": false
   },
   "outputs": [
    {
     "name": "stdout",
     "output_type": "stream",
     "text": [
      "RTS: 2.7 Ku-band Pointing\n",
      "m021 m022\n",
      "/var/kat/archive/data/RTS/telescope_products/2016/10/06 1475763992.h5\n",
      "/home/kat/RTS/2.7-Pointing/point_source_scan.py /home/kat/RTS/sources_pnt_Ku.csv -f 12500.5 -n off -m 62000 --fine --horizon=16 --proposal-id=COMM-RTS --sb-id-code=20161006-0001 --description=RTS: 2.7 Ku-band Pointing --observer=benjamin --config-label=c3fa16b,9cf1764 \n",
      "\n",
      "1334-127 NRAO5 2E1720 1830-210 0420-014 1741-038 NGC6328 1954-388 OI-147 0451-282 1730-130 2E820 1613-586 1055 018 1421-490 1920-211 1908-201 2052-474 4C01.02 2326-477 0648-165 3C279 1622-253 2355-534 3C454.3 2E3390 WMAP16 4C11.69 2E3408 3C120 1127-145 OV236 2E1203 2E1608 0454-234 4C-02.81 4C09.57 2E4542 0208-512 OJ287 4C05.64 WMAP12 3C273 4C06.69 0454-463\n",
      "........................................................................................\n",
      "RTS: 2.7 Ku-band Pointing\n",
      "m021 m022\n",
      "/var/kat/archive/data/RTS/telescope_products/2016/10/30 1477860430.h5\n",
      "/home/kat/RTS/2.7-Pointing/point_source_scan.py /home/kat/RTS/sources_pnt_Ku.csv -f 12500.5 -n off -m 7200 --fine --sb-id-code=20161030-0007 --description=RTS: 2.7 Ku-band Pointing --observer=RTS --config-label=e858422,99087fe \n",
      "\n",
      "0451-282 0420-014 0454-234 2E820 4C01.02 2E1720 NRAO5 2052-474 2E1608 2326-477 2E4542 WMAP16 WMAP12 0208-512 0648-165 3C120 2E1203 2355-534 0454-463\n",
      "........................................................................................\n",
      "RTS: 2.7 Ku-band Pointing\n",
      "m021 m022\n",
      "/var/kat/archive/data/RTS/telescope_products/2016/10/30 1477867715.h5\n",
      "/home/kat/RTS/2.7-Pointing/point_source_scan.py /home/kat/RTS/sources_pnt_Ku.csv -f 12500.5 -n off -m 7200 --fine --sb-id-code=20161030-0006 --description=RTS: 2.7 Ku-band Pointing --observer=RTS --config-label=e858422,99087fe \n",
      "\n",
      "0451-282 0420-014 0454-234 2E820 2326-477 4C01.02 2E1720 NRAO5 2E1608 OI-147 0208-512 0648-165 3C120 2E1203 2355-534 0454-463\n",
      "........................................................................................\n",
      "RTS: 2.7 Ku-band Pointing\n",
      "m021 m022\n",
      "/var/kat/archive/data/RTS/telescope_products/2016/10/31 1477875253.h5\n",
      "/home/kat/RTS/2.7-Pointing/point_source_scan.py /home/kat/RTS/sources_pnt_Ku.csv -f 12500.5 -n off -m 7200 --fine --sb-id-code=20161030-0008 --description=RTS: 2.7 Ku-band Pointing --observer=RTS --config-label=e858422,99087fe \n",
      "\n",
      "0451-282 0420-014 0454-234 2E820 4C01.02 2E1720 OJ287 2E1608 OI-147 0208-512 0648-165 3C120 2E1203 0454-463\n",
      "........................................................................................\n",
      "RTS: 2.7 Ku-band Pointing\n",
      "m021 m022\n",
      "/var/kat/archive/data/RTS/telescope_products/2016/10/31 1477882799.h5\n",
      "/home/kat/RTS/2.7-Pointing/point_source_scan.py /home/kat/RTS/sources_pnt_Ku.csv -f 12500.5 -n off -m 7200 --fine --sb-id-code=20161030-0004 --description=RTS: 2.7 Ku-band Pointing --observer=RTS --config-label=e858422,99087fe \n",
      "\n",
      "0451-282 0420-014 0454-234 3C273 2E820 2E1720 1421-490 OJ287 2E1608 OI-147 1055 018 0208-512 0648-165 3C120 3C279 2E1203 1127-145 0454-463\n",
      "........................................................................................\n",
      "RTS: 2.7 Ku-band Pointing\n",
      "m021 m022\n",
      "/var/kat/archive/data/RTS/telescope_products/2016/10/31 1477890043.h5\n",
      "/home/kat/RTS/2.7-Pointing/point_source_scan.py /home/kat/RTS/sources_pnt_Ku.csv -f 12500.5 -n off -m 7200 --fine --sb-id-code=20161030-0001 --description=RTS: 2.7 Ku-band Pointing --observer=RTS --config-label=e858422,99087fe \n",
      "\n",
      "0451-282 1334-127 0454-234 2E3408 2E3390 NGC6328 2E1720 1421-490 1613-586 2E1608 OJ287 1055 018 0454-463 0648-165 OI-147 3C279 3C273 1127-145 2E1203\n",
      "........................................................................................\n",
      "RTS: 2.7 Ku-band Pointing\n",
      "m021 m022\n",
      "/var/kat/archive/data/RTS/telescope_products/2016/10/31 1477897347.h5\n",
      "/home/kat/RTS/2.7-Pointing/point_source_scan.py /home/kat/RTS/sources_pnt_Ku.csv -f 12500.5 -n off -m 7200 --fine --sb-id-code=20161030-0002 --description=RTS: 2.7 Ku-band Pointing --observer=RTS --config-label=e858422,99087fe \n",
      "\n",
      "1622-253 1334-127 2E1720 1730-130 2E3390 1055 018 1421-490 1613-586 4C05.64 NGC6328 2E3408 OJ287 3C286 OI-147 3C279 0648-165 1127-145 3C273\n",
      "........................................................................................\n",
      "RTS: 2.7 Ku-band Pointing\n",
      "m021 m022\n",
      "/var/kat/archive/data/RTS/telescope_products/2016/10/31 1477905766.h5\n",
      "/home/kat/RTS/2.7-Pointing/point_source_scan.py /home/kat/RTS/sources_pnt_Ku.csv -f 12500.5 -n off -m 7200 --search-fine --sb-id-code=20161031-0001 --description=RTS: 2.7 Ku-band Pointing --observer=RTS --config-label=a918372,a7c85b7 \n",
      "\n",
      "1622-253 1334-127 2E1720 1920-211 2E3390 1055 018 1421-490 1613-586 1741-038 NGC6328 1908-201 2E3408 3C279 1730-130 3C286 1830-210 4C05.64 1127-145 4C09.57 3C273\n",
      "........................................................................................\n",
      "RTS: 2.7 Ku-band Pointing\n",
      "m021 m022\n",
      "/var/kat/archive/data/RTS/telescope_products/2016/10/31 1477913785.h5\n",
      "/home/kat/RTS/2.7-Pointing/point_source_scan.py /home/kat/RTS/sources_pnt_Ku.csv -f 12500.5 -n off -m 7200 --style=search-fine --sb-id-code=20161031-0005 --description=RTS: 2.7 Ku-band Pointing --observer=RTS --config-label=a918372,a7c85b7 \n",
      "\n",
      "1622-253 1334-127 1730-130 1421-490 4C09.57 2E3390 1613-586 1741-038 NGC6328 1908-201 2E3408 3C279 4C05.64 1830-210 1920-211 1127-145 OV236 3C273\n",
      "........................................................................................\n",
      "RTS: 2.7 Ku-band Pointing\n",
      "m021 m022\n",
      "/var/kat/archive/data/RTS/telescope_products/2016/10/31 1477921021.h5\n",
      "/home/kat/RTS/2.7-Pointing/point_source_scan.py /home/kat/RTS/sources_pnt_Ku.csv -f 12500.5 -n off -m 7200 --style=fine --sb-id-code=20161031-0007 --description=RTS: 2.7 Ku-band Pointing --observer=RTS --config-label=a918372,a7c85b7 \n",
      "\n",
      "1622-253 1334-127 1920-211 1421-490 4C-02.81 4C09.57 2E3390 1730-130 1741-038 NGC6328 1908-201 4C06.69 2E3408 1954-388 1613-586 1830-210 4C05.64 OV236 NRAO5 2052-474\n",
      "........................................................................................\n",
      "RTS: 2.7 Ku-band Pointing\n",
      "m021 m022\n",
      "/var/kat/archive/data/RTS/telescope_products/2016/10/31 1477928283.h5\n",
      "/home/kat/RTS/2.7-Pointing/point_source_scan.py /home/kat/RTS/sources_pnt_Ku.csv -f 12500.5 -n off -m 7200 --style=fine --sb-id-code=20161031-0010 --description=RTS: 2.7 Ku-band Pointing --observer=RTS --config-label=a918372,a7c85b7 \n",
      "\n",
      "1622-253 2052-474 1730-130 NRAO5 4C-02.81 4C09.57 1421-490 2E4542 1741-038 NGC6328 1908-201 4C06.69 2E3408 0208-512 1613-586 4C01.02 1830-210 1920-211 OV236 1954-388\n",
      "........................................................................................\n",
      "RTS: 2.7 Ku-band Pointing\n",
      "m021 m022\n",
      "/var/kat/archive/data/RTS/telescope_products/2016/10/31 1477935676.h5\n",
      "/home/kat/RTS/2.7-Pointing/point_source_scan.py /home/kat/RTS/sources_pnt_Ku.csv -f 12500.5 -n off -m 7200 --style=fine --sb-id-code=20161031-0008 --description=RTS: 2.7 Ku-band Pointing --observer=RTS --config-label=a918372,a7c85b7 \n",
      "\n",
      "2052-474 1730-130 2E820 0451-282 4C01.02 4C-02.81 2E1720 NRAO5 2E4542 WMAP16 1920-211 NGC6328 1908-201 4C06.69 0208-512 1613-586 0454-463 1830-210 OV236 1954-388\n",
      "........................................................................................\n",
      "RTS: 2.7 Ku-band Pointing\n",
      "m021 m022\n",
      "/var/kat/archive/data/RTS/telescope_products/2016/10/31 1477943146.h5\n",
      "/home/kat/RTS/2.7-Pointing/point_source_scan.py /home/kat/RTS/sources_pnt_Ku.csv -f 12500.5 -n off -m 7200 --style=fine --sb-id-code=20161031-0009 --description=RTS: 2.7 Ku-band Pointing --observer=RTS --config-label=a918372,a7c85b7 \n",
      "\n",
      "1954-388 0451-282 0420-014 0454-234 2E820 4C01.02 2E1720 NRAO5 2052-474 0208-512 3C120 2E1203 0454-463\n",
      "........................................................................................\n",
      "RTS: 2.7.1 Ku-band Offset Pointing\n",
      "m022\n",
      "/var/kat/archive/data/RTS/telescope_products/2016/10/31 1477949724.h5\n",
      "/home/kat/RTS/2.7-Pointing/offset_test_scan.py /home/kat/RTS/sources_bright_Ku.csv -f 12500.5 -m 28800 -n off --fine --number-sources=10000 --sb-id-code=20161031-0012 --description=RTS: 2.7.1 Ku-band Offset Pointing --observer=RTS --config-label=6b0a668,a7c85b7 \n",
      "\n",
      "offset_60 offset_38 offset_39 offset_34 offset_35 offset_36 offset_37 offset_30 offset_31 offset_32 offset_33 offset_16 offset_17 offset_14 offset_15 offset_12 offset_13 offset_10 offset_11 offset_52 offset_53 offset_50 offset_51 offset_56 offset_57 offset_18 offset_19 offset_59 3C279 3C454.3 offset_54 OJ287 offset_58 offset_55 offset_29 offset_28 offset_23 offset_22 offset_21 offset_20 offset_27 offset_26 offset_25 offset_24 offset_49 offset_48 0454-234 offset_41 offset_40 offset_43 offset_42 offset_45 offset_44 offset_47 offset_46 offset_8 offset_9 offset_4 offset_5 offset_6 3C273 offset_1 offset_2 offset_3\n",
      "........................................................................................\n"
     ]
    }
   ],
   "source": [
    "for fi in f:\n",
    "    print fi.metadata.Description\n",
    "    print listpr(fi.metadata.Antennas)\n",
    "    print fi.metadata.FileLocation, findh5(fi.metadata.Details)\n",
    "    print fi.metadata.InstructionSet,\"\\n\"\n",
    "    print listpr(fi.metadata.Targets)\n",
    "    print \".\"*88\n",
    "    "
   ]
  },
  {
   "cell_type": "code",
   "execution_count": 9,
   "metadata": {
    "collapsed": false
   },
   "outputs": [
    {
     "data": {
      "text/plain": [
       "[['1475763992.h5', '2016-10-06 16:26:33 SAST', 'benjamin', 28166067198],\n",
       " ['1477860430.h5', '2016-10-30 22:47:14 SAST', 'RTS', 3331032819],\n",
       " ['1477867715.h5', '2016-10-31 00:48:36 SAST', 'RTS', 3452026072],\n",
       " ['1477875253.h5', '2016-10-31 02:54:15 SAST', 'RTS', 3460794720],\n",
       " ['1477882799.h5', '2016-10-31 05:00:01 SAST', 'RTS', 3327293242],\n",
       " ['1477890043.h5', '2016-10-31 07:00:45 SAST', 'RTS', 3357418359],\n",
       " ['1477897347.h5', '2016-10-31 09:02:29 SAST', 'RTS', 3475312943],\n",
       " ['1477905766.h5', '2016-10-31 11:22:48 SAST', 'RTS', 3307065460],\n",
       " ['1477913785.h5', '2016-10-31 13:36:27 SAST', 'RTS', 3310285502],\n",
       " ['1477921021.h5', '2016-10-31 15:37:03 SAST', 'RTS', 3324949679],\n",
       " ['1477928283.h5', '2016-10-31 17:38:04 SAST', 'RTS', 3391225507],\n",
       " ['1477935676.h5', '2016-10-31 19:41:18 SAST', 'RTS', 3429719584],\n",
       " ['1477943146.h5', '2016-10-31 21:45:48 SAST', 'RTS', 2002779088],\n",
       " ['1477949724.h5', '2016-10-31 23:35:26 SAST', 'RTS', 4870842006]]"
      ]
     },
     "execution_count": 9,
     "metadata": {},
     "output_type": "execute_result"
    }
   ],
   "source": [
    "f"
   ]
  },
  {
   "cell_type": "code",
   "execution_count": 10,
   "metadata": {
    "collapsed": false
   },
   "outputs": [
    {
     "name": "stdout",
     "output_type": "stream",
     "text": [
      "06 1475763992.h5 RTS: 2.7 Ku-band Pointing m021 m022\n",
      "30 1477860430.h5 RTS: 2.7 Ku-band Pointing m021 m022\n",
      "31 1477867715.h5 RTS: 2.7 Ku-band Pointing m021 m022\n",
      "31 1477875253.h5 RTS: 2.7 Ku-band Pointing m021 m022\n",
      "31 1477882799.h5 RTS: 2.7 Ku-band Pointing m021 m022\n",
      "31 1477890043.h5 RTS: 2.7 Ku-band Pointing m021 m022\n",
      "31 1477897347.h5 RTS: 2.7 Ku-band Pointing m021 m022\n",
      "31 1477905766.h5 RTS: 2.7 Ku-band Pointing m021 m022\n",
      "31 1477913785.h5 RTS: 2.7 Ku-band Pointing m021 m022\n",
      "31 1477921021.h5 RTS: 2.7 Ku-band Pointing m021 m022\n",
      "31 1477928283.h5 RTS: 2.7 Ku-band Pointing m021 m022\n",
      "31 1477935676.h5 RTS: 2.7 Ku-band Pointing m021 m022\n",
      "31 1477943146.h5 RTS: 2.7 Ku-band Pointing m021 m022\n",
      "31 1477949724.h5 RTS: 2.7.1 Ku-band Offset Pointing m022\n"
     ]
    }
   ],
   "source": [
    "for fi in f:\n",
    "    x= repr(fi)\n",
    "    pr=x.split(\",\")\n",
    "    print pr[1][10:12],findh5(fi.metadata.Details) , fi.metadata.Description, listpr(fi.metadata.Antennas)"
   ]
  },
  {
   "cell_type": "code",
   "execution_count": 11,
   "metadata": {
    "collapsed": false
   },
   "outputs": [
    {
     "name": "stdout",
     "output_type": "stream",
     "text": [
      "Searched using: CAS.ProductTypeName:(RTSTelescopeProduct) AND CAS.ProductTransferStatus:RECEIVED AND Description:Interferometric_Pointing AND StartTime:[2016-09-30T22:00:00Z TO 2016-10-31T21:59:59Z]\n",
      "Returning 0 results\n"
     ]
    },
    {
     "data": {
      "text/plain": [
       "[]"
      ]
     },
     "execution_count": 11,
     "metadata": {},
     "output_type": "execute_result"
    }
   ],
   "source": [
    "\n",
    "f2=katarchive.search_archive(description=\"Interferometric_Pointing\",startdate=start,enddate=end)\n",
    "\n",
    "f2.sort(key=lambda k: k.metadata.StartTime)\n",
    "f2"
   ]
  },
  {
   "cell_type": "code",
   "execution_count": 12,
   "metadata": {
    "collapsed": false
   },
   "outputs": [],
   "source": [
    "for fi in f2:\n",
    "    print fi.metadata.Description\n",
    "    print listpr(fi.metadata.Antennas)\n",
    "    print fi.metadata.FileLocation, findh5(fi.metadata.Details)\n",
    "    print fi.metadata.InstructionSet,\"\\n\"\n",
    "    print listpr(fi.metadata.Targets)\n",
    "    print \".\"*88"
   ]
  },
  {
   "cell_type": "code",
   "execution_count": 13,
   "metadata": {
    "collapsed": false,
    "scrolled": true
   },
   "outputs": [
    {
     "data": {
      "text/plain": [
       "[]"
      ]
     },
     "execution_count": 13,
     "metadata": {},
     "output_type": "execute_result"
    }
   ],
   "source": [
    "f2.sort(key=lambda k: k.metadata.StartTime)\n",
    "f2"
   ]
  },
  {
   "cell_type": "code",
   "execution_count": 14,
   "metadata": {
    "collapsed": false
   },
   "outputs": [],
   "source": [
    "for fi in f2:\n",
    "    x= repr(fi)\n",
    "    pr=x.split(\",\")\n",
    "    print pr[1][10:12],findh5(fi.metadata.Details),fi.metadata.Description,listpr(fi.metadata.Antennas)"
   ]
  }
 ],
 "metadata": {
  "kernelspec": {
   "display_name": "Python 2",
   "language": "python",
   "name": "python2"
  },
  "language_info": {
   "codemirror_mode": {
    "name": "ipython",
    "version": 2
   },
   "file_extension": ".py",
   "mimetype": "text/x-python",
   "name": "python",
   "nbconvert_exporter": "python",
   "pygments_lexer": "ipython2",
   "version": "2.7.6"
  }
 },
 "nbformat": 4,
 "nbformat_minor": 0
}
