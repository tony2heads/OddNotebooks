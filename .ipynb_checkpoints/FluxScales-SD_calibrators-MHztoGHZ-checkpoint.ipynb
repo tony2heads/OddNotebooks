{
 "cells": [
  {
   "cell_type": "markdown",
   "metadata": {},
   "source": [
    "# Spectrum fits\n",
    "\n",
    "I have for some sources \n",
    "\n",
    "$Log(S) = a + b\\times(log(F)) + c\\times(log(F))^2 +d\\times(log(F))^3$\n",
    "in MHz\n",
    "\n",
    "But I want in Perley & Butler, give log polynomials in GHz\n",
    "$Log(S) = A + B\\times(log(\\nu)) + C\\times(log(\\nu))^2 +D\\times(log(\\nu))^3$"
   ]
  },
  {
   "cell_type": "code",
   "execution_count": 18,
   "metadata": {
    "collapsed": true
   },
   "outputs": [],
   "source": [
    "from sympy import *\n",
    "A,B,C,D,E,v,a,b,c,d,e,f=symbols('A,B,C,D,E,v,a,b,c,d,e,f')\n",
    "\"\"\"\n",
    "$v =log(\\nu)$\n",
    "f=log(f)\n",
    "\n",
    "\"\"\"\n",
    "#f=v+3\n",
    "#v=f-3\n",
    "expr=poly(A+ B*(f+3) +C*(f+3)**2 +D*(f+3)**3)\n",
    "\n",
    " "
   ]
  },
  {
   "cell_type": "code",
   "execution_count": 19,
   "metadata": {},
   "outputs": [
    {
     "name": "stdout",
     "output_type": "stream",
     "text": [
      "Poly(f**3*D + f**2*C + 9*f**2*D + f*B + 6*f*C + 27*f*D + A + 3*B + 9*C + 27*D, f, A, B, C, D, domain='ZZ')\n"
     ]
    }
   ],
   "source": [
    " print expr"
   ]
  },
  {
   "cell_type": "code",
   "execution_count": 20,
   "metadata": {},
   "outputs": [
    {
     "data": {
      "text/plain": [
       "Poly(f**3*D + f**2*C + 9*f**2*D + f*B + 6*f*C + 27*f*D + A + 3*B + 9*C + 27*D, f, A, B, C, D, domain='ZZ')"
      ]
     },
     "execution_count": 20,
     "metadata": {},
     "output_type": "execute_result"
    }
   ],
   "source": [
    "simplify(expr)"
   ]
  },
  {
   "cell_type": "code",
   "execution_count": 21,
   "metadata": {
    "collapsed": true
   },
   "outputs": [],
   "source": [
    "expr2=poly(A+ B*(f+3) +C*(f+3)**2 +D*(f+3)**3 +E*(f+3)**4)"
   ]
  },
  {
   "cell_type": "code",
   "execution_count": 22,
   "metadata": {},
   "outputs": [
    {
     "data": {
      "text/plain": [
       "Poly(f**4*E + f**3*D + 12*f**3*E + f**2*C + 9*f**2*D + 54*f**2*E + f*B + 6*f*C + 27*f*D + 108*f*E + A + 3*B + 9*C + 27*D + 81*E, f, A, B, C, D, E, domain='ZZ')"
      ]
     },
     "execution_count": 22,
     "metadata": {},
     "output_type": "execute_result"
    }
   ],
   "source": [
    "simplify(expr2)"
   ]
  },
  {
   "cell_type": "markdown",
   "metadata": {},
   "source": [
    "# recast\n",
    "\n",
    "* a=A +3*B + 9*C  +27*D - no dependce on f\n",
    "* b=B +6*C +27*D        - linear depence on f\n",
    "* c=C +9*D              -quadratic\n",
    "* d=D                   -cubic"
   ]
  },
  {
   "cell_type": "code",
   "execution_count": 23,
   "metadata": {
    "collapsed": true
   },
   "outputs": [],
   "source": [
    "%matplotlib inline\n",
    "import matplotlib.pyplot as plt\n",
    "import numpy as np"
   ]
  },
  {
   "cell_type": "code",
   "execution_count": 24,
   "metadata": {
    "collapsed": true
   },
   "outputs": [],
   "source": [
    "def toSPIX(A,B,C,D):\n",
    "    a=A +3*B + 9*C  +27*D\n",
    "    b=B +6*C +27*D\n",
    "    c=C +9*D\n",
    "    d=D\n",
    "    return(10**a,b,c,d)"
   ]
  },
  {
   "cell_type": "code",
   "execution_count": 25,
   "metadata": {
    "collapsed": true
   },
   "outputs": [],
   "source": [
    "A,B,C,D=-30.7667,26.4908,-7.0977,0.605334 #1934-638"
   ]
  },
  {
   "cell_type": "code",
   "execution_count": 27,
   "metadata": {},
   "outputs": [
    {
     "data": {
      "text/plain": [
       "(14.805326865708714, 0.248618000000004, -1.6496939999999993, 0.605334)"
      ]
     },
     "execution_count": 27,
     "metadata": {},
     "output_type": "execute_result"
    }
   ],
   "source": [
    "toSPIX(A,B,C,D)"
   ]
  },
  {
   "cell_type": "code",
   "execution_count": 28,
   "metadata": {},
   "outputs": [
    {
     "data": {
      "text/plain": [
       "(22.382057133190465, -1.0386999999999995, -0.3467, 0.0861)"
      ]
     },
     "execution_count": 28,
     "metadata": {},
     "output_type": "execute_result"
    }
   ],
   "source": [
    "A,B,C,D=-0.9790,3.3662,-1.1216,0.0861 # 0408-658\n",
    "toSPIX(A,B,C,D)"
   ]
  },
  {
   "cell_type": "code",
   "execution_count": 29,
   "metadata": {},
   "outputs": [
    {
     "data": {
      "text/plain": [
       "(11.207274261366479, -0.5684, -0.2502, 0.0787)"
      ]
     },
     "execution_count": 29,
     "metadata": {},
     "output_type": "execute_result"
    }
   ],
   "source": [
    "A,B,C,D=-1.6220,3.0577,-0.9585,0.0787 # 3C138\n",
    "toSPIX(A,B,C,D)"
   ]
  },
  {
   "cell_type": "code",
   "execution_count": 30,
   "metadata": {},
   "outputs": [
    {
     "data": {
      "text/plain": [
       "(5.997910762555076, 0.5079000000000029, -1.7888000000000002, 0.6198)"
      ]
     },
     "execution_count": 30,
     "metadata": {},
     "output_type": "execute_result"
    }
   ],
   "source": [
    "A,B,C,D=-33.5795,27.9753,-7.3670,0.6198 #0823-500\n",
    "toSPIX(A,B,C,D)"
   ]
  }
 ],
 "metadata": {
  "kernelspec": {
   "display_name": "Python 2",
   "language": "python",
   "name": "python2"
  },
  "language_info": {
   "codemirror_mode": {
    "name": "ipython",
    "version": 2
   },
   "file_extension": ".py",
   "mimetype": "text/x-python",
   "name": "python",
   "nbconvert_exporter": "python",
   "pygments_lexer": "ipython2",
   "version": "2.7.17"
  }
 },
 "nbformat": 4,
 "nbformat_minor": 2
}
