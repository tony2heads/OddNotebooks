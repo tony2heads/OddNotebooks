{
 "cells": [
  {
   "cell_type": "markdown",
   "metadata": {
    "deletable": true,
    "editable": true
   },
   "source": [
    "# Confusion"
   ]
  },
  {
   "cell_type": "markdown",
   "metadata": {
    "deletable": true,
    "editable": true
   },
   "source": [
    "\n",
    "Confusion noise from Condon (74) and Harper et al AME constraints in LDN 1622 with the GBT\n",
    "θ in arcminutes\n",
    "S in mJy\n",
    "ν in GHz\n",
    "S=0.2θ2ν−0.7\n"
   ]
  },
  {
   "cell_type": "code",
   "execution_count": 18,
   "metadata": {
    "collapsed": false,
    "deletable": true,
    "editable": true
   },
   "outputs": [
    {
     "name": "stdout",
     "output_type": "stream",
     "text": [
      "1.20720420788 mJy\n"
     ]
    }
   ],
   "source": [
    "import math\n",
    "theta=2.0\n",
    "nu=1.8\n",
    "s=0.2*theta**2 /nu**-0.7\n",
    "print s,'mJy'"
   ]
  },
  {
   "cell_type": "code",
   "execution_count": 19,
   "metadata": {
    "collapsed": false,
    "deletable": true,
    "editable": true
   },
   "outputs": [
    {
     "name": "stdout",
     "output_type": "stream",
     "text": [
      "1.23482572227\n"
     ]
    }
   ],
   "source": [
    "def conf3(theta,f): #from Bernardi et al 2014 LEDA preprint\n",
    "    sig= 200*(theta/16.)**2 *(f/0.150)**(-0.7) # to mJy\n",
    "    return sig\n",
    "print conf3(3,1.8)"
   ]
  },
  {
   "cell_type": "markdown",
   "metadata": {
    "deletable": true,
    "editable": true
   },
   "source": [
    "#Long version of Condon (SKA memo 114)\n",
    "\n",
    "$n(S) =8.23 S^{-2.4} $ sources per steradian at flux density S from VLA surveys \n",
    "$\\gamma =2.4$\n",
    "$k=8.23$\n",
    "$\\Omega_e = \\frac {\\Omega_{beam}}{\\gamma-1}$\n",
    "\n",
    "$\\sigma_c  = {\\frac{q^{3-\\gamma}}{3-\\gamma}}^{\\frac{1}{1-\\gamma}}  {k \\Omega_e}^{\\frac{1}{1-\\gamma}}$"
   ]
  },
  {
   "cell_type": "code",
   "execution_count": 20,
   "metadata": {
    "collapsed": false,
    "deletable": true,
    "editable": true
   },
   "outputs": [],
   "source": [
    "def conf2(beam,k=8.23,g=2.4,q=5): #beam in arcmin\n",
    "    x=60./206265. # arcmin/radian\n",
    "    omega= 1.133*beam*x**2\n",
    "    pow=1./(g-1)\n",
    "    omegae=omega*pow\n",
    "    sig=((q**(3-g))/(3-g))**(pow)\n",
    "    sig=sig*(k*omegae)**(pow)\n",
    "    return sig*1000 #from Jy to mJy\n",
    "    "
   ]
  },
  {
   "cell_type": "code",
   "execution_count": 46,
   "metadata": {
    "collapsed": false,
    "deletable": true,
    "editable": true
   },
   "outputs": [
    {
     "name": "stdout",
     "output_type": "stream",
     "text": [
      "0.291226444956\n"
     ]
    }
   ],
   "source": [
    "print conf2(beam=3.0,k=8.23,g=2.4,q=10)"
   ]
  },
  {
   "cell_type": "markdown",
   "metadata": {
    "deletable": true,
    "editable": true
   },
   "source": [
    "# Values from \"Resolving the Radio Source Background \n",
    "##Condon et al preprint p 7\n",
    "1 to 10 $\\mu Jy$\n",
    "\n",
    "$$n(S) = 1.2\\times 10^5 S^{-1.5} Jy^{-1} Sr^{-1}$$\n",
    "\n",
    "and he quotes Wilman et al 2008 as\n",
    "\n",
    "$$n(S) = 3.45\\times 10^4 S^{-1.6} Jy^{-1} Sr^{-1}$$"
   ]
  },
  {
   "cell_type": "code",
   "execution_count": 21,
   "metadata": {
    "collapsed": false,
    "deletable": true,
    "editable": true
   },
   "outputs": [
    {
     "name": "stdout",
     "output_type": "stream",
     "text": [
      "264.700733352\n",
      "26.191919682\n"
     ]
    }
   ],
   "source": [
    "print conf2(beam=3.0,k=1.2e5,g=1.5,q=5)\n",
    "print conf2(beam=3.0,k=3.45e4,g=1.6,q=5)"
   ]
  },
  {
   "cell_type": "code",
   "execution_count": 22,
   "metadata": {
    "collapsed": false,
    "deletable": true,
    "editable": true
   },
   "outputs": [
    {
     "name": "stdout",
     "output_type": "stream",
     "text": [
      "227914.831358\n"
     ]
    }
   ],
   "source": [
    "# From fig 1 of Condon preprint about 1mJy\n",
    "g=2.0\n",
    "#log S**2*n is about 2.2 S=1e-3\n",
    "#10**2.2 = k*1e-6\n",
    "k=1e6*10**(2.2)\n",
    "g=2.\n",
    "print conf2(3.0,k,g,5)"
   ]
  },
  {
   "cell_type": "code",
   "execution_count": 23,
   "metadata": {
    "collapsed": false,
    "deletable": true,
    "editable": true
   },
   "outputs": [],
   "source": [
    "sigc=conf2(3.0,q=10)"
   ]
  },
  {
   "cell_type": "code",
   "execution_count": 24,
   "metadata": {
    "collapsed": false,
    "deletable": true,
    "editable": true
   },
   "outputs": [
    {
     "name": "stdout",
     "output_type": "stream",
     "text": [
      "0.291226444956\n"
     ]
    }
   ],
   "source": [
    "print sigc"
   ]
  },
  {
   "cell_type": "code",
   "execution_count": 25,
   "metadata": {
    "collapsed": false,
    "deletable": true,
    "editable": true
   },
   "outputs": [
    {
     "name": "stdout",
     "output_type": "stream",
     "text": [
      "0.298024326255\n"
     ]
    }
   ],
   "source": [
    "print conf2(3.0,6.0,2.5,5.0)"
   ]
  },
  {
   "cell_type": "code",
   "execution_count": 41,
   "metadata": {
    "collapsed": false,
    "deletable": true,
    "editable": true
   },
   "outputs": [
    {
     "name": "stdout",
     "output_type": "stream",
     "text": [
      "99.3330483006 144.492457768\n"
     ]
    }
   ],
   "source": [
    "def n1(s):\n",
    "    n=8.23*s**(-2.4) # sources above s per steradian\n",
    "    na=n*(3*60./206265.)**2 # sources above s per beam\n",
    "    return na\n",
    "\n",
    "def n2(s):\n",
    "    n=6.0*s**(-2.5)\n",
    "    na=n*(3*60./206265.)**2 \n",
    "    return na\n",
    "\n",
    "print n1(0.001), n2(0.001) # number of 1mJy sources"
   ]
  },
  {
   "cell_type": "code",
   "execution_count": 27,
   "metadata": {
    "collapsed": false,
    "deletable": true,
    "editable": true
   },
   "outputs": [],
   "source": [
    "# adjust from 1.4 to 1.8GHz"
   ]
  },
  {
   "cell_type": "code",
   "execution_count": 28,
   "metadata": {
    "collapsed": false,
    "deletable": true,
    "editable": true
   },
   "outputs": [],
   "source": [
    "# Bernardi et al 2010\n",
    "# quoted by Greenhill, removing his typo\n",
    "def bernardi(beam,f):\n",
    "    x=beam*1.5 #from 3arcmin to 2 arcmin\n",
    "    nu=f/0.150 # from GHz to 150MHz\n",
    "    con=3*x*nu**(-0.7)\n",
    "    return con\n"
   ]
  },
  {
   "cell_type": "code",
   "execution_count": 39,
   "metadata": {
    "collapsed": false,
    "deletable": true,
    "editable": true
   },
   "outputs": [
    {
     "name": "stdout",
     "output_type": "stream",
     "text": [
      "2.37086538676\n"
     ]
    }
   ],
   "source": [
    "print bernardi(3,1.8)"
   ]
  },
  {
   "cell_type": "code",
   "execution_count": 30,
   "metadata": {
    "collapsed": false,
    "deletable": true,
    "editable": true
   },
   "outputs": [
    {
     "name": "stdout",
     "output_type": "stream",
     "text": [
      "Sources per steradian 477464.829276\n",
      "Beam in ster 5.98114905098e-07\n",
      "Sources per beam 0.28557883105\n"
     ]
    }
   ],
   "source": [
    "#Completely separately from Tegmark M, Efstathiou G. 1996. MNRAS 281:1297-1314\n",
    "allsky =4*math.pi\n",
    "sources= 6e6 # sources from FIRST above 0.75mJy\n",
    "perster=sources/allsky\n",
    "#sources per steradian from Tegmark + Efstathiou above mJy about 3e5\n",
    "print \"Sources per steradian\",perster\n",
    "beam=(math.radians(3./60.))**2 # 3 arcminute beam\n",
    "beam=beam*math.pi/4\n",
    "print \"Beam in ster\",beam\n",
    "perbeam=perster*beam\n",
    "print \"Sources per beam\" ,perbeam"
   ]
  },
  {
   "cell_type": "code",
   "execution_count": 31,
   "metadata": {
    "collapsed": false,
    "deletable": true,
    "editable": true
   },
   "outputs": [
    {
     "name": "stdout",
     "output_type": "stream",
     "text": [
      "Sources above 1mJy per beam 0.17943447153\n"
     ]
    }
   ],
   "source": [
    "print \"Sources above 1mJy per beam\",beam*3e5"
   ]
  },
  {
   "cell_type": "markdown",
   "metadata": {
    "deletable": true,
    "editable": true
   },
   "source": [
    "# ATLBS\n",
    "## number of sources >1mJy\n",
    "## R. Subrahmanyan, R. D. Ekers, L. Saripalli, and E. M. Sadler\n",
    "2010MNRAS.402.2792S\n",
    "## counts\n",
    "| range/mJy | av | number|\n",
    "|---|---|---|\n",
    "|0.4–0.8  |    0.59 |364 |\n",
    "| 0.8–1.6|      1.10 |289 |\n",
    "| 1.6–3.2|      2.22 | 140|\n",
    "| 3.2–6.4|      4.63 |104 |\n",
    "| 6.4–12.8|     8.83 |70 |\n",
    "|12.8–25.6|    17.3 |46| \n",
    "| 25.6–51.2|    36.3| 30 |\n",
    "|51.2–102.4|   76.5 |11 |\n",
    "|102.4–204.8| 144.5 |7 |\n",
    "|204.8–409.6| 268.4 |2 |\n",
    "\n"
   ]
  },
  {
   "cell_type": "code",
   "execution_count": 2,
   "metadata": {
    "collapsed": false,
    "deletable": true,
    "editable": true
   },
   "outputs": [
    {
     "name": "stdout",
     "output_type": "stream",
     "text": [
      "Populating the interactive namespace from numpy and matplotlib\n"
     ]
    },
    {
     "data": {
      "image/png": "[encoded data removed]",
      "text/plain": [
       "<matplotlib.figure.Figure at 0x7f0f5139a490>"
      ]
     },
     "metadata": {},
     "output_type": "display_data"
    }
   ],
   "source": [
    "%pylab inline\n",
    "from numpy import log10\n",
    "s=log10((204.8, 102.4, 51.2, 25.6, 12.8, 6.4, 3.2, 1.6, 0.8, 0.4)) -3 # subtract 3 to get Jy scale\n",
    "#print len(s)\n",
    "n=log10((2.,(2+7),(2+7+11),(2+7+11+30),(2+7+11+30+46),(2+7+11+30+46+70),\\\n",
    "        (2+7+11+30+46+70+104),(2+7+11+30+46+70+104+140),(2+7+11+30+46+70+104+140+289),\\\n",
    "        (2+7+11+30+46+70+104+140+289+364)))\\\n",
    "        -log10(8.42)\n",
    "#print len(s),len(n)\n",
    "pylab.figure(1,figsize=(12,10))\n",
    "pylab.plot(s,n,label='N/S plot') \n",
    "pylab.grid()\n",
    "pylab.xlabel('Log S/Jy')\n",
    "pylab.ylabel('Log N')\n",
    "pylab.legend()\n",
    "pylab.show()"
   ]
  },
  {
   "cell_type": "code",
   "execution_count": 33,
   "metadata": {
    "collapsed": false,
    "deletable": true,
    "editable": true
   },
   "outputs": [
    {
     "name": "stdout",
     "output_type": "stream",
     "text": [
      " sources per sq deg >1mJy 83.0166270784\n"
     ]
    }
   ],
   "source": [
    "# number of sources >1mJy\n",
    "N=2+7+11+30+46+70+104+140+289\n",
    "area=8.42\n",
    "print \" sources per sq deg >1mJy\", N/area"
   ]
  },
  {
   "cell_type": "code",
   "execution_count": 1,
   "metadata": {
    "collapsed": false,
    "deletable": true,
    "editable": true
   },
   "outputs": [],
   "source": [
    "def Spass(f,theta):\n",
    "    \"\"\"\n",
    "    f is frequency in GHz\n",
    "    theta is HPBW in arcmiutes\n",
    "    sigma in milliJansky\n",
    "    \"\"\"\n",
    "    sigma=0.2*theta**2/(f**0.7)\n",
    "    return sigma"
   ]
  },
  {
   "cell_type": "code",
   "execution_count": 2,
   "metadata": {
    "collapsed": false
   },
   "outputs": [
    {
     "name": "stdout",
     "output_type": "stream",
     "text": [
      "1.19283878453\n"
     ]
    }
   ],
   "source": [
    "print Spass(1.8,3.0)\n"
   ]
  }
 ],
 "metadata": {
  "kernelspec": {
   "display_name": "Python 2",
   "language": "python",
   "name": "python2"
  },
  "language_info": {
   "codemirror_mode": {
    "name": "ipython",
    "version": 2
   },
   "file_extension": ".py",
   "mimetype": "text/x-python",
   "name": "python",
   "nbconvert_exporter": "python",
   "pygments_lexer": "ipython2",
   "version": "2.7.6"
  }
 },
 "nbformat": 4,
 "nbformat_minor": 0
}
