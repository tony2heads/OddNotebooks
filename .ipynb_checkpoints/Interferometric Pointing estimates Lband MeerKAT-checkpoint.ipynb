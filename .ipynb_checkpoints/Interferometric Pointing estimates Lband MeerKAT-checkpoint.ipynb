{
 "cells": [
  {
   "cell_type": "markdown",
   "metadata": {},
   "source": [
    "# What interferometric pointing accuracy could we expect for with MeerKAT\n",
    "\n",
    " - see Ivison R. J. et al., 2007, MNRAS, 380, 199\n",
    " \n",
    " $\\sigma_{\\theta} \\approx 0.6 \\frac{ \\theta_{FWHM}}{SNR}$\n"
   ]
  },
  {
   "cell_type": "markdown",
   "metadata": {},
   "source": [
    "# L -band"
   ]
  },
  {
   "cell_type": "code",
   "execution_count": 11,
   "metadata": {
    "collapsed": true
   },
   "outputs": [],
   "source": [
    "import math as m"
   ]
  },
  {
   "cell_type": "code",
   "execution_count": 12,
   "metadata": {
    "collapsed": false
   },
   "outputs": [],
   "source": [
    "# a few constants\n",
    "ar= 3600*m.degrees(1) #arcseconds per radian - about 206265\n",
    "day=23.9344696*3600 # sideral day in sec\n",
    "c=299792.458 #km/s\n",
    "#print ar,day,c\n",
    "\n"
   ]
  },
  {
   "cell_type": "code",
   "execution_count": 13,
   "metadata": {
    "collapsed": true
   },
   "outputs": [],
   "source": [
    "# some values\n",
    "\n",
    "bw=50. #MHz Assumed usable section\n",
    "t=2. #sec     short scan\n",
    "d=8.0 #km\n",
    "f=1.6 #GHz\n",
    "Tsys=20 #K\n",
    "gain =0.03 #K/Jy"
   ]
  },
  {
   "cell_type": "code",
   "execution_count": 14,
   "metadata": {
    "collapsed": false
   },
   "outputs": [
    {
     "name": "stdout",
     "output_type": "stream",
     "text": [
      "Delay beamwidth 2.6arcmin\n"
     ]
    }
   ],
   "source": [
    "delaybeam=c*ar*1e-6/(d*bw)  #arcseconds\n",
    "#print \"Delay beamwidth\", delaybeam/60., \"arcmin\"\n",
    "print(\"Delay beamwidth %3.1farcmin\") %(delaybeam/60.)"
   ]
  },
  {
   "cell_type": "markdown",
   "metadata": {},
   "source": [
    "$\\theta_{FWHM}  \\approx {1.1^{\\circ}} =66 arcmin$\n",
    "\n",
    "- Typical source is 3Jy\n",
    "- Noise is from rms variation from the signal integrated over the bandwidth and time\n",
    "- confusion per **DELAY** beam (about 3 arcmin for 1km compact array) about 0.001Jy\n",
    "\n",
    "\n",
    "# Important parts:\n",
    "- Delay beam is much smaller than primary beam for such large bandwidths, but need good delay tracking so that you can average coherently over the band\n",
    "- *Delay* beam size for 1km MeerKAT similar to *synthesis* beam of 300m KAT-7, so confusion limit is similar\n",
    "- Thermal now dominates over confusion"
   ]
  },
  {
   "cell_type": "code",
   "execution_count": 15,
   "metadata": {
    "collapsed": false
   },
   "outputs": [
    {
     "name": "stdout",
     "output_type": "stream",
     "text": [
      "Thermal noise  66.7mJy\n",
      "Total   noise  66.7mJy\n",
      "Signal to noise  45.0\n",
      "Expect RMS pointing to be 0.9 arcmin\n"
     ]
    }
   ],
   "source": [
    "\n",
    "gain=0.03 #K/Jy\n",
    "BW=bw*1e6 #Hz \n",
    "noise=(Tsys/gain)/m.sqrt(BW*t) # thermal\n",
    "#print \"Thermal noise\",noise*1000,\"mJy\"\n",
    "print(\"Thermal noise %5.1fmJy\") %(noise*1000)\n",
    "conf=0.001 #Jy\n",
    "noise=m.sqrt(noise*noise + conf*conf) # thermal and confusion in quadrature\n",
    "#print \"Total   noise\",noise*1000,\"mJy\"\n",
    "print(\"Total   noise %5.1fmJy\") %(noise*1000)\n",
    "signal = 3 #Jy\n",
    "snr=signal/noise \n",
    "print(\"Signal to noise %5.1f\") %(snr)\n",
    "theta=66 #arcmin\n",
    "sigma=0.6*theta/snr\n",
    "print(\"Expect RMS pointing to be %3.1f arcmin\") %( sigma)"
   ]
  },
  {
   "cell_type": "markdown",
   "metadata": {
    "collapsed": true
   },
   "source": [
    "# Comparison\n",
    "\n",
    "- Single dish pointing with **7Jy** sources (more than twices as strong) gives **1.1** arcminute, worse than twice the RMS. This is because the single dish confusion level is much higher (it dominates thermal noise)\n",
    "- Note that the source used **must** be much smaller than the delay beam\n"
   ]
  }
 ],
 "metadata": {
  "kernelspec": {
   "display_name": "Python 2",
   "language": "python",
   "name": "python2"
  },
  "language_info": {
   "codemirror_mode": {
    "name": "ipython",
    "version": 2
   },
   "file_extension": ".py",
   "mimetype": "text/x-python",
   "name": "python",
   "nbconvert_exporter": "python",
   "pygments_lexer": "ipython2",
   "version": "2.7.6"
  }
 },
 "nbformat": 4,
 "nbformat_minor": 0
}
