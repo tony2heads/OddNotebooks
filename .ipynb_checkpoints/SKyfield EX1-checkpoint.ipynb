{
 "cells": [
  {
   "cell_type": "code",
   "execution_count": 2,
   "metadata": {},
   "outputs": [
    {
     "name": "stdout",
     "output_type": "stream",
     "text": [
      "<Time tt=2458890.8167>\n",
      "17h 43m 19.92s\n",
      "-23deg 30' 36.2\"\n",
      "1.86513 au\n"
     ]
    }
   ],
   "source": [
    "from skyfield.api import load\n",
    "\n",
    "planets = load('de421.bsp')\n",
    "earth, mars = planets['earth'], planets['mars']\n",
    "\n",
    "ts = load.timescale(builtin=True)\n",
    "t = ts.now()\n",
    "print t\n",
    "position = earth.at(t).observe(mars)\n",
    "ra, dec, distance = position.radec()\n",
    "\n",
    "print(ra)\n",
    "print(dec)\n",
    "print(distance)"
   ]
  },
  {
   "cell_type": "code",
   "execution_count": 3,
   "metadata": {},
   "outputs": [
    {
     "data": {
      "text/plain": [
       "'2020-02-11T07:34:54Z'"
      ]
     },
     "execution_count": 3,
     "metadata": {},
     "output_type": "execute_result"
    }
   ],
   "source": [
    "t.utc_iso()"
   ]
  }
 ],
 "metadata": {
  "kernelspec": {
   "display_name": "Python 2",
   "language": "python",
   "name": "python2"
  },
  "language_info": {
   "codemirror_mode": {
    "name": "ipython",
    "version": 2
   },
   "file_extension": ".py",
   "mimetype": "text/x-python",
   "name": "python",
   "nbconvert_exporter": "python",
   "pygments_lexer": "ipython2",
   "version": "2.7.17"
  }
 },
 "nbformat": 4,
 "nbformat_minor": 2
}
