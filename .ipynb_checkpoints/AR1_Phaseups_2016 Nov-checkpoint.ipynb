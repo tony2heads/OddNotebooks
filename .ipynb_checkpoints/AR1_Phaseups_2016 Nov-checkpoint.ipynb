{
 "cells": [
  {
   "cell_type": "code",
   "execution_count": 1,
   "metadata": {
    "collapsed": false
   },
   "outputs": [],
   "source": [
    "%matplotlib inline\n",
    "import numpy as np"
   ]
  },
  {
   "cell_type": "code",
   "execution_count": 2,
   "metadata": {
    "collapsed": true
   },
   "outputs": [],
   "source": [
    "import matplotlib.pyplot as plt"
   ]
  },
  {
   "cell_type": "code",
   "execution_count": 3,
   "metadata": {
    "collapsed": false
   },
   "outputs": [],
   "source": [
    "import katarchive\n",
    "\n",
    "import datetime\n",
    "\n",
    "import logging\n",
    "logging.root.setLevel(logging.ERROR)\n"
   ]
  },
  {
   "cell_type": "code",
   "execution_count": 4,
   "metadata": {
    "collapsed": false
   },
   "outputs": [],
   "source": [
    "katarchive.product_filter.only_ar1()\n",
    "\n",
    "begin=\"01/11/2016\"\n",
    "end=\"30/11/2016\"  \n"
   ]
  },
  {
   "cell_type": "code",
   "execution_count": 5,
   "metadata": {
    "collapsed": false
   },
   "outputs": [],
   "source": [
    "Outfile=open('Nov_Phaseups.txt', 'w')"
   ]
  },
  {
   "cell_type": "code",
   "execution_count": 6,
   "metadata": {
    "collapsed": false
   },
   "outputs": [],
   "source": [
    "def channels(details):\n",
    "    ch32k=\"32768\"\n",
    "    mode=\"4k\" # default\n",
    "    if ch32k in details:\n",
    "        mode=\"32k\"\n",
    "    return mode\n"
   ]
  },
  {
   "cell_type": "code",
   "execution_count": 7,
   "metadata": {
    "collapsed": false
   },
   "outputs": [
    {
     "name": "stdout",
     "output_type": "stream",
     "text": [
      "Searched using: CAS.ProductTypeName:(MeerKATAR1TelescopeProduct) AND CAS.ProductTransferStatus:RECEIVED AND Description:Phaseup AND StartTime:[2016-10-31T22:00:00Z TO 2016-11-30T21:59:59Z]\n",
      "Returning 135 results\n",
      "[['1480459808.h5', '2016-11-30 00:50:12 SAST', 'AR1', 607139905], ['1480423665.h5', '2016-11-29 14:47:48 SAST', 'Fannie', 467991928], ['1480423325.h5', '2016-11-29 14:42:09 SAST', 'Fannie', 459564882], ['1480422817.h5', '2016-11-29 14:33:40 SAST', 'Fannie', 492726431], ['1480416496.h5', '2016-11-29 12:48:18 SAST', 'Fannie', 400211695], ['1480415896.h5', '2016-11-29 12:38:18 SAST', 'Fannie', 401729644], ['1480410372.h5', '2016-11-29 11:06:15 SAST', 'Fannie', 818190175], ['1480402121.h5', '2016-11-29 08:48:45 SAST', 'Fannie', 711422858], ['1480401781.h5', '2016-11-29 08:43:05 SAST', 'Fannie', 709300752], ['1480401419.h5', '2016-11-29 08:37:01 SAST', 'Fannie', 781368395], ['1480335468.h5', '2016-11-28 14:17:50 SAST', 'Fannie', 738683525], ['1480312347.h5', '2016-11-28 07:52:31 SAST', 'Fannie', 948301613], ['1480311912.h5', '2016-11-28 07:45:15 SAST', 'Fannie', 938633472], ['1480311456.h5', '2016-11-28 07:37:40 SAST', 'Fannie', 928961468], ['1480311118.h5', '2016-11-28 07:32:02 SAST', 'Fannie', 919292385], ['1480310700.h5', '2016-11-28 07:25:03 SAST', 'Fannie', 976379439], ['1480294954.h5', '2016-11-28 03:02:38 SAST', 'Fannie', 886845959], ['1480294639.h5', '2016-11-28 02:57:23 SAST', 'Fannie', 877180285], ['1480294324.h5', '2016-11-28 02:52:08 SAST', 'Fannie', 874925755], ['1480294009.h5', '2016-11-28 02:46:52 SAST', 'Fannie', 865248523], ['1480293692.h5', '2016-11-28 02:41:36 SAST', 'Fannie', 855582951], ['1480293375.h5', '2016-11-28 02:36:19 SAST', 'Fannie', 845912584], ['1480293058.h5', '2016-11-28 02:31:01 SAST', 'Fannie', 836258129], ['1480292744.h5', '2016-11-28 02:25:48 SAST', 'Fannie', 826592939], ['1480292430.h5', '2016-11-28 02:20:34 SAST', 'Fannie', 816918126], ['1480292117.h5', '2016-11-28 02:15:20 SAST', 'Fannie', 807244959], ['1480291802.h5', '2016-11-28 02:10:05 SAST', 'Fannie', 797568761], ['1480291486.h5', '2016-11-28 02:04:49 SAST', 'Fannie', 787908922], ['1480291153.h5', '2016-11-28 01:59:16 SAST', 'Fannie', 807920233], ['1480284642.h5', '2016-11-28 00:10:45 SAST', 'Fannie', 710473381], ['1480284325.h5', '2016-11-28 00:05:29 SAST', 'Fannie', 700813699], ['1480284008.h5', '2016-11-28 00:00:11 SAST', 'Fannie', 698560378], ['1480283690.h5', '2016-11-27 23:54:53 SAST', 'Fannie', 688883790], ['1480283378.h5', '2016-11-27 23:49:41 SAST', 'Fannie', 671787996], ['1480283064.h5', '2016-11-27 23:44:28 SAST', 'Fannie', 662134618], ['1480282750.h5', '2016-11-27 23:39:14 SAST', 'Fannie', 652476190], ['1480282437.h5', '2016-11-27 23:34:00 SAST', 'Fannie', 642807041], ['1480282122.h5', '2016-11-27 23:28:45 SAST', 'Fannie', 633138540], ['1480252410.h5', '2016-11-27 15:13:32 SAST', 'Fannie', 560398705], ['1480246575.h5', '2016-11-27 13:36:17 SAST', 'Fannie', 4803987586], ['1480244987.h5', '2016-11-27 13:09:56 SAST', 'Fannie', 5450351162], ['1480244490.h5', '2016-11-27 13:01:31 SAST', 'Fannie', 4745132089], ['1480244081.h5', '2016-11-27 12:58:04 SAST', 'Fannie', 1246207826], ['1480229188.h5', '2016-11-27 08:46:41 SAST', 'Fannie', 8597833216], ['1480228706.h5', '2016-11-27 08:38:39 SAST', 'Fannie', 8835449903], ['1480228247.h5', '2016-11-27 08:30:49 SAST', 'Fannie', 8597245081], ['1480205670.h5', '2016-11-27 02:14:42 SAST', 'Lindsay', 9250826556], ['1480205199.h5', '2016-11-27 02:06:53 SAST', 'Lindsay', 9488202096], ['1480204739.h5', '2016-11-27 01:59:11 SAST', 'Lindsay', 9292277071], ['1480204245.h5', '2016-11-27 01:50:59 SAST', 'Lindsay', 9963797857], ['1480203783.h5', '2016-11-27 01:43:15 SAST', 'Lindsay', 9246948149], ['1480203320.h5', '2016-11-27 01:35:31 SAST', 'Lindsay', 9310686460], ['1480202791.h5', '2016-11-27 01:26:44 SAST', 'Lindsay', 10677729556], ['1480202266.h5', '2016-11-27 01:17:58 SAST', 'Lindsay', 10567927754], ['1480201806.h5', '2016-11-27 01:10:19 SAST', 'Lindsay', 9156581027], ['1480201252.h5', '2016-11-27 01:01:06 SAST', 'Fannie', 11131512618], ['1480162548.h5', '2016-11-26 14:16:02 SAST', 'Fannie', 8661656394], ['1480161853.h5', '2016-11-26 14:04:16 SAST', 'Fannie', 7468289578], ['1480159986.h5', '2016-11-26 13:34:14 SAST', 'Fannie', 3473768700], ['1480057179.h5', '2016-11-25 08:59:41 SAST', 'Fannie', 5752928443], ['1480053177.h5', '2016-11-25 07:53:01 SAST', 'Fannie', 532143020], ['1480052823.h5', '2016-11-25 07:47:06 SAST', 'Fannie', 529649939], ['1480052041.h5', '2016-11-25 07:34:06 SAST', 'Fannie', 699473223], ['1480013885.h5', '2016-11-24 20:58:07 SAST', 'AR1', 389844831], ['1480011975.h5', '2016-11-24 20:26:17 SAST', 'AR1', 7880485120], ['1480011125.h5', '2016-11-24 20:12:07 SAST', 'AR1', 7381027478], ['1480010089.h5', '2016-11-24 19:54:51 SAST', 'AR1', 732420351], ['1480009179.h5', '2016-11-24 19:39:53 SAST', 'AR1', 10186217494], ['1480008665.h5', '2016-11-24 19:31:14 SAST', 'AR1', 9295064253], ['1480007773.h5', '2016-11-24 19:16:24 SAST', 'AR1', 8553057871], ['1480007388.h5', '2016-11-24 19:09:49 SAST', 'AR1', 7554705315], ['1480005030.h5', '2016-11-24 18:31:16 SAST', 'AR1', 689128330], ['1479994496.h5', '2016-11-24 15:34:59 SAST', 'AR1', 757779437], ['1479993842.h5', '2016-11-24 15:24:05 SAST', 'Tiyani', 754254228], ['1479990210.h5', '2016-11-24 14:23:32 SAST', 'Fannie', 630388207], ['1479989776.h5', '2016-11-24 14:16:18 SAST', 'Fannie', 712546324], ['1479988505.h5', '2016-11-24 13:56:47 SAST', 'Fannie', 359161215], ['1479788488.h5', '2016-11-22 06:21:45 SAST', 'Lindsay', 6952147760], ['1479755443.h5', '2016-11-21 21:10:46 SAST', 'Simphiwe', 602181266], ['1479754535.h5', '2016-11-21 20:55:59 SAST', 'Simphiwe', 5721047893], ['1479752604.h5', '2016-11-21 20:23:26 SAST', 'Simphiwe', 611230990], ['1479749487.h5', '2016-11-21 19:31:29 SAST', 'Simphiwe', 602707932], ['1479748858.h5', '2016-11-21 19:23:01 SAST', 'Simphiwe', 363152882], ['1479167407.h5', '2016-11-15 01:50:10 SAST', 'Lindsay', 537436954], ['1479141623.h5', '2016-11-14 18:40:26 SAST', 'KB', 527240416], ['1479140918.h5', '2016-11-14 18:28:39 SAST', 'KB', 914009345], ['1479131369.h5', '2016-11-14 15:49:30 SAST', 'KB', 304153933], ['1479130067.h5', '2016-11-14 15:27:48 SAST', 'KB', 899619990], ['1479129468.h5', '2016-11-14 15:17:50 SAST', 'Audrey', 2739755912], ['1479127946.h5', '2016-11-14 14:52:28 SAST', 'Audrey', 410845671], ['1479126182.h5', '2016-11-14 14:23:03 SAST', 'Audrey', 589080590], ['1479125096.h5', '2016-11-14 14:04:58 SAST', 'Simphiwe', 163288824], ['1479124118.h5', '2016-11-14 13:48:40 SAST', 'Simphiwe', 212275788], ['1479107055.h5', '2016-11-14 09:04:17 SAST', 'Audrey', 450140041], ['1479078061.h5', '2016-11-14 01:01:03 SAST', 'AR1', 398100061], ['1479034394.h5', '2016-11-13 12:53:15 SAST', 'Audrey', 247549072], ['1478959413.h5', '2016-11-12 16:03:35 SAST', 'Audrey', 494025926], ['1478958550.h5', '2016-11-12 15:51:02 SAST', 'AR1', 290064903], ['1478889909.h5', '2016-11-11 20:45:11 SAST', 'AR1', 677114803], ['1478871908.h5', '2016-11-11 15:45:10 SAST', 'Tiyani', 615728029], ['1478685630.h5', '2016-11-09 12:00:32 SAST', 'Audrey', 3610829073], ['1478684240.h5', '2016-11-09 11:37:22 SAST', 'Audrey', 389895313], ['1478683453.h5', '2016-11-09 11:24:23 SAST', 'Audrey', 4941111803], ['1478682425.h5', '2016-11-09 11:07:18 SAST', 'Audrey', 3927372188], ['1478681700.h5', '2016-11-09 10:55:02 SAST', 'Audrey', 3610829328], ['1478679674.h5', '2016-11-09 10:21:22 SAST', 'Martin', 5666076620], ['1478676549.h5', '2016-11-09 09:29:17 SAST', 'Martin', 7011994644], ['1478659806.h5', '2016-11-09 04:50:19 SAST', 'AR1', 5570537640], ['1478627651.h5', '2016-11-08 19:54:14 SAST', 'AR1', 4744676219], ['1478627112.h5', '2016-11-08 19:46:42 SAST', 'AR1', 2390137218], ['1478626352.h5', '2016-11-08 19:32:45 SAST', 'AR1', 6888561303], ['1478625867.h5', '2016-11-08 19:24:37 SAST', 'AR1', 7013368181], ['1478625438.h5', '2016-11-08 19:17:21 SAST', 'AR1', 6558959919], ['1478624834.h5', '2016-11-08 19:07:23 SAST', 'Tiyani', 3715161533], ['1478622678.h5', '2016-11-08 18:31:30 SAST', 'Tiyani', 6713342116], ['1478622213.h5', '2016-11-08 18:23:43 SAST', 'Tiyani', 6838152872], ['1478621756.h5', '2016-11-08 18:16:05 SAST', 'AR1', 6818169533], ['1478617346.h5', '2016-11-08 17:03:57 SAST', 'Tiyani', 6010943779], ['1478603659.h5', '2016-11-08 13:14:21 SAST', 'Moloko', 732442173], ['1478602737.h5', '2016-11-08 12:59:00 SAST', 'Moloko', 757456935], ['1478602211.h5', '2016-11-08 12:50:13 SAST', 'Moloko', 721573139], ['1478601344.h5', '2016-11-08 12:35:57 SAST', 'Moloko', 9987541639], ['1478600773.h5', '2016-11-08 12:26:27 SAST', 'Moloko', 9704763612], ['1478600057.h5', '2016-11-08 12:14:32 SAST', 'Moloko', 9942547366], ['1478599352.h5', '2016-11-08 12:03:18 SAST', 'Moloko', 8336439019], ['1478595892.h5', '2016-11-08 11:04:56 SAST', 'Moloko', 732884622], ['1478595068.h5', '2016-11-08 10:52:17 SAST', 'Moloko', 424211471], ['1478592539.h5', '2016-11-08 10:09:08 SAST', 'Moloko', 8806026933], ['1478591330.h5', '2016-11-08 09:48:57 SAST', 'Moloko', 9565132122], ['1478590528.h5', '2016-11-08 09:35:43 SAST', 'Moloko', 11453152001], ['1478567094.h5', '2016-11-08 03:05:09 SAST', 'Tiyani', 9618677315], ['1478528634.h5', '2016-11-07 16:23:55 SAST', 'Tiyani', 7988940615], ['1478527851.h5', '2016-11-07 16:10:53 SAST', 'Moloko', 5793378990], ['1478526481.h5', '2016-11-07 15:48:03 SAST', 'Moloko', 665619106], ['1478521279.h5', '2016-11-07 14:21:20 SAST', 'Moloko', 7711178621]]\n"
     ]
    }
   ],
   "source": [
    "f=katarchive.search_archive(description=\"Phaseup\",startdate=begin,enddate=end)\n",
    "print f"
   ]
  },
  {
   "cell_type": "code",
   "execution_count": 8,
   "metadata": {
    "collapsed": true
   },
   "outputs": [],
   "source": [
    "f.sort(key=lambda k: k.metadata.StartTime)"
   ]
  },
  {
   "cell_type": "code",
   "execution_count": 9,
   "metadata": {
    "collapsed": false
   },
   "outputs": [
    {
     "name": "stdout",
     "output_type": "stream",
     "text": [
      "/var/kat/archive2/data/MeerKATAR1/telescope_products/2016/11/07/1478521279.h5 32k 01,03,06,07,08,14,25,31,62 PKS1934-63\n",
      "/var/kat/archive2/data/MeerKATAR1/telescope_products/2016/11/07/1478526481.h5  4k 01,03,06,07,08,14,25,31,62,63 PKS1934-63\n",
      "/var/kat/archive2/data/MeerKATAR1/telescope_products/2016/11/07/1478527851.h5 32k 01,03,06,07,08,14,25,31,62,63 PKS1934-63\n",
      "/var/kat/archive2/data/MeerKATAR1/telescope_products/2016/11/07/1478528634.h5 32k 01,03,06,07,08,14,15,25,31,62,63 PKS1934-63\n",
      "/var/kat/archive2/data/MeerKATAR1/telescope_products/2016/11/08/1478567094.h5 32k 01,03,06,07,08,14,15,25,31,62,63 PKS0408-65\n",
      "/var/kat/archive2/data/MeerKATAR1/telescope_products/2016/11/08/1478590528.h5 32k 01,03,06,07,08,14,15,25,31,62,63 3C286\n",
      "/var/kat/archive2/data/MeerKATAR1/telescope_products/2016/11/08/1478591330.h5 32k 01,03,06,07,08,14,15,25,31,62,63 3C286\n",
      "/var/kat/archive2/data/MeerKATAR1/telescope_products/2016/11/08/1478592539.h5 32k 01,03,06,07,08,14,15,25,31,62,63 3C286\n",
      "/var/kat/archive2/data/MeerKATAR1/telescope_products/2016/11/08/1478595068.h5  4k 01,03,06,07,08,14,15,25,31,62,63 XXXXXX NONE XXXXXX\n",
      "/var/kat/archive2/data/MeerKATAR1/telescope_products/2016/11/08/1478595892.h5  4k 01,03,06,07,08,14,15,25,31,62,63 3C286\n",
      "/var/kat/archive2/data/MeerKATAR1/telescope_products/2016/11/08/1478599352.h5 32k 01,03,06,07,08,14,15,25,31,62,63 PKS1934-63\n",
      "/var/kat/archive2/data/MeerKATAR1/telescope_products/2016/11/08/1478600057.h5 32k 01,03,06,07,08,14,15,25,31,62,63 PKS1934-63\n",
      "/var/kat/archive2/data/MeerKATAR1/telescope_products/2016/11/08/1478600773.h5 32k 01,03,06,07,08,14,15,25,31,62,63 PKS1934-63\n",
      "/var/kat/archive2/data/MeerKATAR1/telescope_products/2016/11/08/1478601344.h5 32k 01,03,06,07,08,14,15,25,31,62,63 PKS1934-63\n",
      "/var/kat/archive2/data/MeerKATAR1/telescope_products/2016/11/08/1478602211.h5  4k 01,03,06,07,08,14,15,25,31,62,63 PKS1934-63\n",
      "/var/kat/archive2/data/MeerKATAR1/telescope_products/2016/11/08/1478602737.h5  4k 01,03,06,07,08,14,15,25,31,62,63 PKS1934-63\n",
      "/var/kat/archive2/data/MeerKATAR1/telescope_products/2016/11/08/1478603659.h5  4k 01,03,06,07,08,14,15,25,31,62,63 PKS1934-63\n",
      "/var/kat/archive2/data/MeerKATAR1/telescope_products/2016/11/08/1478617346.h5 32k 01,03,06,07,08,14,15,25,31,63 PKS1934-63\n",
      "/var/kat/archive2/data/MeerKATAR1/telescope_products/2016/11/08/1478621756.h5 32k 01,03,06,07,08,14,15,25,31,63 PKS1934-63\n",
      "/var/kat/archive2/data/MeerKATAR1/telescope_products/2016/11/08/1478622213.h5 32k 01,03,06,07,08,14,15,25,31,63 PKS1934-63\n",
      "/var/kat/archive2/data/MeerKATAR1/telescope_products/2016/11/08/1478622678.h5 32k 01,03,06,07,08,14,15,25,31,63 PKS1934-63\n",
      "/var/kat/archive2/data/MeerKATAR1/telescope_products/2016/11/08/1478624834.h5 32k 01,03,06,07,08,14,15,25,31,63 PKS1934-63\n",
      "/var/kat/archive2/data/MeerKATAR1/telescope_products/2016/11/08/1478625438.h5 32k 01,03,06,07,08,14,15,25,31,63 PKS1934-63\n",
      "/var/kat/archive2/data/MeerKATAR1/telescope_products/2016/11/08/1478625867.h5 32k 01,03,06,07,08,14,15,25,31,63 PKS1934-63\n",
      "/var/kat/archive2/data/MeerKATAR1/telescope_products/2016/11/08/1478626352.h5 32k 01,03,06,07,08,14,15,25,31,63 PKS1934-63\n",
      "/var/kat/archive2/data/MeerKATAR1/telescope_products/2016/11/08/1478627112.h5 32k 01,03,06,07,08,14,15,25,31,63 XXXXXX NONE XXXXXX\n",
      "/var/kat/archive2/data/MeerKATAR1/telescope_products/2016/11/08/1478627651.h5 32k 03,06,07,08,14,15,25,31,63 PKS1934-63\n",
      "/var/kat/archive2/data/MeerKATAR1/telescope_products/2016/11/09/1478659806.h5 32k 03,06,07,08,14,15,25,31,63 PKS0408-65\n",
      "/var/kat/archive2/data/MeerKATAR1/telescope_products/2016/11/09/1478676549.h5 32k 03,06,07,08,14,15,25,31,63 3C286\n",
      "/var/kat/archive2/data/MeerKATAR1/telescope_products/2016/11/09/1478679674.h5 32k 03,06,07,08,14,15,25,31,63 3C286\n",
      "/var/kat/archive2/data/MeerKATAR1/telescope_products/2016/11/09/1478681700.h5 32k 03,06,07,08,14,15,25,63 3C286\n",
      "/var/kat/archive2/data/MeerKATAR1/telescope_products/2016/11/09/1478682425.h5 32k 03,06,07,08,14,15,25,63 3C286\n",
      "/var/kat/archive2/data/MeerKATAR1/telescope_products/2016/11/09/1478683453.h5 32k 03,06,07,08,14,15,25,63 PKS1934-63\n",
      "/var/kat/archive2/data/MeerKATAR1/telescope_products/2016/11/09/1478684240.h5  4k 03,06,07,08,14,15,25,63 PKS1934-63\n",
      "/var/kat/archive2/data/MeerKATAR1/telescope_products/2016/11/09/1478685630.h5 32k 03,06,07,08,14,15,25,63 PKS1934-63\n",
      "/var/kat/archive2/data/MeerKATAR1/telescope_products/2016/11/11/1478871908.h5  4k 01,03,06,07,08,10,14,15,25,63 XXXXXX NONE XXXXXX\n",
      "/var/kat/archive2/data/MeerKATAR1/telescope_products/2016/11/11/1478889909.h5  4k 01,03,06,07,08,14,15,25,63 PKS1934-63\n",
      "/var/kat/archive2/data/MeerKATAR1/telescope_products/2016/11/12/1478958550.h5  4k 01,03,06,07,08,14,15,25,63 XXXXXX NONE XXXXXX\n",
      "/var/kat/archive2/data/MeerKATAR1/telescope_products/2016/11/12/1478959413.h5  4k 01,03,06,07,08,14,15,25,63 PKS1934-63\n",
      "/var/kat/archive2/data/MeerKATAR1/telescope_products/2016/11/13/1479034394.h5  4k 01,06,07,08,15,63 PKS1934-63\n",
      "/var/kat/archive2/data/MeerKATAR1/telescope_products/2016/11/13/1479078061.h5  4k 01,06,07,08,15,63 PKS0408-65\n",
      "/var/kat/archive2/data/MeerKATAR1/telescope_products/2016/11/14/1479107055.h5  4k 01,06,07,08,15,63 3C286\n",
      "/var/kat/archive2/data/MeerKATAR1/telescope_products/2016/11/14/1479124118.h5  4k 01,06,07,08 PKS1934-63\n",
      "/var/kat/archive2/data/MeerKATAR1/telescope_products/2016/11/14/1479125096.h5  4k 06,07,08,25 PKS1934-63\n",
      "/var/kat/archive2/data/MeerKATAR1/telescope_products/2016/11/14/1479126182.h5  4k 01,06,07,08,15,25,63 PKS1934-63\n",
      "/var/kat/archive2/data/MeerKATAR1/telescope_products/2016/11/14/1479127946.h5  4k 01,06,07,08,15,25,63 PKS1934-63\n",
      "/var/kat/archive2/data/MeerKATAR1/telescope_products/2016/11/14/1479129468.h5 32k 01,06,07,08,15,25,63 PKS1934-63\n",
      "/var/kat/archive2/data/MeerKATAR1/telescope_products/2016/11/14/1479130067.h5 32k 01,06,07,08 PKS1934-63\n",
      "/var/kat/archive2/data/MeerKATAR1/telescope_products/2016/11/14/1479131369.h5  4k 01,06,07,08,15,25,63 PKS1934-63\n",
      "/var/kat/archive2/data/MeerKATAR1/telescope_products/2016/11/14/1479140918.h5  4k 01,06,07,08,14,15,25,62,63 PKS1934-63\n",
      "/var/kat/archive2/data/MeerKATAR1/telescope_products/2016/11/14/1479141623.h5  4k 01,06,07,08,14,15,25,62,63 PKS1934-63\n",
      "/var/kat/archive2/data/MeerKATAR1/telescope_products/2016/11/14/1479167407.h5  4k 01,06,07,08,14,15,25,62,63 PKS0408-65\n",
      "/var/kat/archive2/data/MeerKATAR1/telescope_products/2016/11/21/1479748858.h5  4k 03,06,07,08,14,15,25,31,62,63 XXXXXX NONE XXXXXX\n",
      "/var/kat/archive2/data/MeerKATAR1/telescope_products/2016/11/21/1479749487.h5  4k 03,06,07,08,14,15,25,31,62,63 PKS1934-63\n",
      "/var/kat/archive2/data/MeerKATAR1/telescope_products/2016/11/21/1479752604.h5  4k 03,06,07,08,14,15,25,31,62,63 PKS1934-63\n",
      "/var/kat/archive2/data/MeerKATAR1/telescope_products/2016/11/21/1479754535.h5 32k 03,06,07,08,14,15,25,31,62,63 PKS0408-65\n",
      "/var/kat/archive2/data/MeerKATAR1/telescope_products/2016/11/21/1479755443.h5  4k 03,06,07,08,14,15,25,31,62,63 PKS0408-65\n",
      "/var/kat/archive2/data/MeerKATAR1/telescope_products/2016/11/22/1479788488.h5 32k 03,06,07,08,14,15,25,31,62,63 PKS0408-65\n",
      "/var/kat/archive2/data/MeerKATAR1/telescope_products/2016/11/24/1479988505.h5  4k 01,06,07,08,10,14,15,25,31,62,63 XXXXXX NONE XXXXXX\n",
      "/var/kat/archive2/data/MeerKATAR1/telescope_products/2016/11/24/1479989776.h5  4k 01,06,07,08,10,14,15,25,31,62,63 PKS1934-63\n",
      "/var/kat/archive2/data/MeerKATAR1/telescope_products/2016/11/24/1479990210.h5  4k 01,06,07,08,10,14,15,25,31,62,63 PKS1934-63\n",
      "/var/kat/archive2/data/MeerKATAR1/telescope_products/2016/11/24/1479993842.h5  4k 01,06,07,08,10,14,15,25,31,62,63 PKS1934-63\n",
      "/var/kat/archive2/data/MeerKATAR1/telescope_products/2016/11/24/1479994496.h5  4k 01,06,07,08,10,14,15,25,31,62,63 PKS1934-63\n",
      "/var/kat/archive2/data/MeerKATAR1/telescope_products/2016/11/24/1480005030.h5  4k 01,06,07,08,10,14,15,25,31,62,63 PKS1934-63\n",
      "/var/kat/archive2/data/MeerKATAR1/telescope_products/2016/11/24/1480007388.h5 32k 01,06,07,08,10,14,15,25,31,62,63 PKS1934-63\n",
      "/var/kat/archive2/data/MeerKATAR1/telescope_products/2016/11/24/1480007773.h5 32k 01,06,07,08,10,14,15,25,31,62,63 PKS1934-63\n",
      "/var/kat/archive2/data/MeerKATAR1/telescope_products/2016/11/24/1480008665.h5 32k 01,06,07,08,10,14,15,25,31,62,63 PKS1934-63\n",
      "/var/kat/archive2/data/MeerKATAR1/telescope_products/2016/11/24/1480009179.h5 32k 01,06,07,08,10,14,15,25,31,62,63 PKS1934-63\n",
      "/var/kat/archive2/data/MeerKATAR1/telescope_products/2016/11/24/1480010089.h5  4k 01,06,07,08,10,14,15,25,31,62,63 PKS1934-63\n",
      "/var/kat/archive2/data/MeerKATAR1/telescope_products/2016/11/24/1480011125.h5 32k 01,06,07,08,10,14,15,25,31,62,63 PKS1934-63\n",
      "/var/kat/archive2/data/MeerKATAR1/telescope_products/2016/11/24/1480011975.h5 32k 01,06,07,08,10,14,15,25,31,62,63 PKS0408-65\n",
      "/var/kat/archive2/data/MeerKATAR1/telescope_products/2016/11/24/1480013885.h5  4k 06,07,08,10,14,15,25,31 PKS0408-65\n",
      "/var/kat/archive2/data/MeerKATAR1/telescope_products/2016/11/25/1480052041.h5  4k 06,07,08,10,14,15,25,31 3C286\n",
      "/var/kat/archive2/data/MeerKATAR1/telescope_products/2016/11/25/1480052823.h5  4k 06,07,08,10,14,15,25,31 3C286\n",
      "/var/kat/archive2/data/MeerKATAR1/telescope_products/2016/11/25/1480053177.h5  4k 06,07,08,10,14,15,25,31 3C286\n",
      "/var/kat/archive2/data/MeerKATAR1/telescope_products/2016/11/25/1480057179.h5 32k 06,07,08,10,14,15,25,31,63 3C286\n",
      "/var/kat/archive2/data/MeerKATAR1/telescope_products/2016/11/26/1480159986.h5 32k 01,06,07,08,10,14,15,25,31,62,63 XXXXXX NONE XXXXXX\n",
      "/var/kat/archive2/data/MeerKATAR1/telescope_products/2016/11/26/1480161853.h5 32k 01,06,07,08,10,14,15,25,31,62,63 PKS1934-63\n",
      "/var/kat/archive2/data/MeerKATAR1/telescope_products/2016/11/26/1480162548.h5 32k 01,06,07,08,10,14,15,25,31,62,63 PKS1934-63\n",
      "/var/kat/archive2/data/MeerKATAR1/telescope_products/2016/11/26/1480201252.h5 32k 01,06,07,08,10,14,15,25,31,62,63 PKS0408-65\n",
      "/var/kat/archive2/data/MeerKATAR1/telescope_products/2016/11/26/1480201806.h5 32k 01,06,07,08,10,14,15,25,31,62,63 PKS0408-65\n",
      "/var/kat/archive2/data/MeerKATAR1/telescope_products/2016/11/26/1480202266.h5 32k 01,06,07,08,10,14,15,25,31,62,63 PKS0408-65\n",
      "/var/kat/archive2/data/MeerKATAR1/telescope_products/2016/11/26/1480202791.h5 32k 01,06,07,08,10,14,15,25,31,62,63 PKS0408-65\n",
      "/var/kat/archive2/data/MeerKATAR1/telescope_products/2016/11/26/1480203320.h5 32k 01,06,07,08,10,14,15,25,31,62,63 PKS0408-65\n",
      "/var/kat/archive2/data/MeerKATAR1/telescope_products/2016/11/26/1480203783.h5 32k 01,06,07,08,10,14,15,25,31,62,63 PKS0408-65\n",
      "/var/kat/archive2/data/MeerKATAR1/telescope_products/2016/11/26/1480204245.h5 32k 01,06,07,08,10,14,15,25,31,62,63 PKS0408-65\n",
      "/var/kat/archive2/data/MeerKATAR1/telescope_products/2016/11/26/1480204739.h5 32k 01,06,07,08,10,14,15,25,31,62,63 PKS0408-65\n",
      "/var/kat/archive2/data/MeerKATAR1/telescope_products/2016/11/27/1480205199.h5 32k 01,06,07,08,10,14,15,25,31,62,63 PKS0408-65\n",
      "/var/kat/archive2/data/MeerKATAR1/telescope_products/2016/11/27/1480205670.h5 32k 01,06,07,08,10,14,15,25,31,62,63 PKS0408-65\n",
      "/var/kat/archive2/data/MeerKATAR1/telescope_products/2016/11/27/1480228247.h5 32k 01,06,07,08,10,14,15,25,31,62,63 3C286\n",
      "/var/kat/archive2/data/MeerKATAR1/telescope_products/2016/11/27/1480228706.h5 32k 01,06,07,08,10,14,15,25,31,62,63 3C286\n",
      "/var/kat/archive2/data/MeerKATAR1/telescope_products/2016/11/27/1480229188.h5 32k 01,06,07,08,10,14,15,25,31,62,63 3C286\n",
      "/var/kat/archive2/data/MeerKATAR1/telescope_products/2016/11/27/1480244081.h5 32k 06,07,08,10,14,15,25,31,63 XXXXXX NONE XXXXXX\n",
      "/var/kat/archive2/data/MeerKATAR1/telescope_products/2016/11/27/1480244490.h5 32k 06,07,08,10,14,15,25,31,63 PKS1934-63\n",
      "/var/kat/archive2/data/MeerKATAR1/telescope_products/2016/11/27/1480244987.h5 32k 06,07,08,10,14,15,25,31,63 PKS1934-63\n",
      "/var/kat/archive2/data/MeerKATAR1/telescope_products/2016/11/27/1480246575.h5 32k 06,07,08,10,14,15,25,31,63 PKS1934-63\n",
      "/var/kat/archive2/data/MeerKATAR1/telescope_products/2016/11/27/1480252410.h5  4k 06,07,08,10,14,15,25,31,63 PKS1934-63\n",
      "/var/kat/archive2/data/MeerKATAR1/telescope_products/2016/11/27/1480282122.h5  4k 06,07,08,10,14,15,25,31,63 PKS0408-65\n",
      "/var/kat/archive2/data/MeerKATAR1/telescope_products/2016/11/27/1480282437.h5  4k 06,07,08,10,14,15,25,31,63 PKS0408-65\n",
      "/var/kat/archive2/data/MeerKATAR1/telescope_products/2016/11/27/1480282750.h5  4k 06,07,08,10,14,15,25,31,63 PKS0408-65\n",
      "/var/kat/archive2/data/MeerKATAR1/telescope_products/2016/11/27/1480283064.h5  4k 06,07,08,10,14,15,25,31,63 PKS0408-65\n",
      "/var/kat/archive2/data/MeerKATAR1/telescope_products/2016/11/27/1480283378.h5  4k 06,07,08,10,14,15,25,31,63 PKS0408-65\n",
      "/var/kat/archive2/data/MeerKATAR1/telescope_products/2016/11/27/1480283690.h5  4k 06,07,08,10,14,15,25,31,63 PKS0408-65\n",
      "/var/kat/archive2/data/MeerKATAR1/telescope_products/2016/11/27/1480284008.h5  4k 06,07,08,10,14,15,25,31,63 PKS0408-65\n",
      "/var/kat/archive2/data/MeerKATAR1/telescope_products/2016/11/27/1480284325.h5  4k 06,07,08,10,14,15,25,31,63 PKS0408-65\n",
      "/var/kat/archive2/data/MeerKATAR1/telescope_products/2016/11/27/1480284642.h5  4k 06,07,08,10,14,15,25,31,63 PKS0408-65\n",
      "/var/kat/archive2/data/MeerKATAR1/telescope_products/2016/11/27/1480291153.h5  4k 06,07,08,10,14,15,25,31,63 PKS0408-65\n",
      "/var/kat/archive2/data/MeerKATAR1/telescope_products/2016/11/28/1480291486.h5  4k 06,07,08,10,14,15,25,31,63 PKS0408-65\n",
      "/var/kat/archive2/data/MeerKATAR1/telescope_products/2016/11/28/1480291802.h5  4k 06,07,08,10,14,15,25,31,63 PKS0408-65\n",
      "/var/kat/archive2/data/MeerKATAR1/telescope_products/2016/11/28/1480292117.h5  4k 06,07,08,10,14,15,25,31,63 PKS0408-65\n",
      "/var/kat/archive2/data/MeerKATAR1/telescope_products/2016/11/28/1480292430.h5  4k 06,07,08,10,14,15,25,31,63 PKS0408-65\n",
      "/var/kat/archive2/data/MeerKATAR1/telescope_products/2016/11/28/1480292744.h5  4k 06,07,08,10,14,15,25,31,63 PKS0408-65\n",
      "/var/kat/archive2/data/MeerKATAR1/telescope_products/2016/11/28/1480293058.h5  4k 06,07,08,10,14,15,25,31,63 PKS0408-65\n",
      "/var/kat/archive2/data/MeerKATAR1/telescope_products/2016/11/28/1480293375.h5  4k 06,07,08,10,14,15,25,31,63 PKS0408-65\n",
      "/var/kat/archive2/data/MeerKATAR1/telescope_products/2016/11/28/1480293692.h5  4k 06,07,08,10,14,15,25,31,63 PKS0408-65\n",
      "/var/kat/archive2/data/MeerKATAR1/telescope_products/2016/11/28/1480294009.h5  4k 06,07,08,10,14,15,25,31,63 PKS0408-65\n",
      "/var/kat/archive2/data/MeerKATAR1/telescope_products/2016/11/28/1480294324.h5  4k 06,07,08,10,14,15,25,31,63 PKS0408-65\n",
      "/var/kat/archive2/data/MeerKATAR1/telescope_products/2016/11/28/1480294639.h5  4k 06,07,08,10,14,15,25,31,63 PKS0408-65\n",
      "/var/kat/archive2/data/MeerKATAR1/telescope_products/2016/11/28/1480294954.h5  4k 06,07,08,10,14,15,25,31,63 PKS0408-65\n",
      "/var/kat/archive2/data/MeerKATAR1/telescope_products/2016/11/28/1480310700.h5  4k 06,07,08,10,14,15,25,31,63 3C286\n",
      "/var/kat/archive2/data/MeerKATAR1/telescope_products/2016/11/28/1480311118.h5  4k 06,07,08,10,14,15,25,31,63 3C286\n",
      "/var/kat/archive2/data/MeerKATAR1/telescope_products/2016/11/28/1480311456.h5  4k 06,07,08,10,14,15,25,31,63 3C286\n",
      "/var/kat/archive2/data/MeerKATAR1/telescope_products/2016/11/28/1480311912.h5  4k 06,07,08,10,14,15,25,31,63 3C286\n",
      "/var/kat/archive2/data/MeerKATAR1/telescope_products/2016/11/28/1480312347.h5  4k 06,07,08,10,14,15,25,31,63 3C286\n",
      "/var/kat/archive2/data/MeerKATAR1/telescope_products/2016/11/28/1480335468.h5  4k 06,07,08,10,14,15,25,31,63 PKS1934-63\n",
      "/var/kat/archive2/data/MeerKATAR1/telescope_products/2016/11/29/1480401419.h5  4k 06,07,08,10,14,15,25,31,63 3C286\n",
      "/var/kat/archive2/data/MeerKATAR1/telescope_products/2016/11/29/1480401781.h5  4k 06,07,08,10,14,15,25,31,63 3C286\n",
      "/var/kat/archive2/data/MeerKATAR1/telescope_products/2016/11/29/1480402121.h5  4k 06,07,08,10,14,15,25,31,63 3C286\n",
      "/var/kat/archive2/data/MeerKATAR1/telescope_products/2016/11/29/1480410372.h5  4k 06,07,08,10,14,15,25,31,63 PKS1934-63\n",
      "/var/kat/archive2/data/MeerKATAR1/telescope_products/2016/11/29/1480415896.h5  4k 06,07,08,10,14,15,31,63 PKS1934-63\n",
      "/var/kat/archive2/data/MeerKATAR1/telescope_products/2016/11/29/1480416496.h5  4k 06,07,08,10,14,15,31,63 PKS1934-63\n",
      "/var/kat/archive2/data/MeerKATAR1/telescope_products/2016/11/29/1480422817.h5  4k 06,07,08,10,14,15,31,63 PKS1934-63\n",
      "/var/kat/archive2/data/MeerKATAR1/telescope_products/2016/11/29/1480423325.h5  4k 06,07,08,10,14,15,31,63 PKS1934-63\n",
      "/var/kat/archive2/data/MeerKATAR1/telescope_products/2016/11/29/1480423665.h5  4k 06,07,08,10,14,15,31,63 PKS1934-63\n",
      "/var/kat/archive2/data/MeerKATAR1/telescope_products/2016/11/29/1480459808.h5  4k 06,07,08,10,14,15,31,63 PKS0408-65\n"
     ]
    }
   ],
   "source": [
    "for fi in f:\n",
    "    txts=fi.metadata.InstructionSet\n",
    "    fi.metadata.Description,fi.metadata.Filename\n",
    "    antstr=\",\".join(fi.metadata.Antennas).replace('m0','')\n",
    "    tgt=fi.metadata.Targets[-1].replace(' ','')\n",
    "    if tgt=='None':\n",
    "        tgt='XXXXXX NONE XXXXXX'\n",
    "    listing=(\"%s/%s %3s %s %s\") %(fi.metadata.FileLocation,fi.metadata.Filename,channels(fi.metadata.Details),\\\n",
    "                                  antstr,tgt)\n",
    "    print listing\n",
    "    Outfile.write(listing+\"\\n\")"
   ]
  },
  {
   "cell_type": "code",
   "execution_count": null,
   "metadata": {
    "collapsed": true
   },
   "outputs": [],
   "source": []
  },
  {
   "cell_type": "code",
   "execution_count": 10,
   "metadata": {
    "collapsed": true
   },
   "outputs": [],
   "source": [
    "Outfile.close()"
   ]
  }
 ],
 "metadata": {
  "kernelspec": {
   "display_name": "Python 2",
   "language": "python",
   "name": "python2"
  },
  "language_info": {
   "codemirror_mode": {
    "name": "ipython",
    "version": 2
   },
   "file_extension": ".py",
   "mimetype": "text/x-python",
   "name": "python",
   "nbconvert_exporter": "python",
   "pygments_lexer": "ipython2",
   "version": "2.7.6"
  }
 },
 "nbformat": 4,
 "nbformat_minor": 0
}
