{
 "cells": [
  {
   "cell_type": "code",
   "execution_count": 1,
   "metadata": {
    "collapsed": false
   },
   "outputs": [],
   "source": [
    "import katarchive\n",
    "import datetime\n"
   ]
  },
  {
   "cell_type": "code",
   "execution_count": 2,
   "metadata": {
    "collapsed": true
   },
   "outputs": [],
   "source": [
    "katarchive.product_filter.only_rts()"
   ]
  },
  {
   "cell_type": "code",
   "execution_count": 3,
   "metadata": {
    "collapsed": false
   },
   "outputs": [],
   "source": [
    "def findh5(det):   # uses detail list to get h5 name\n",
    "    pos=det.find(\"Name:\")\n",
    "    if pos >0  :\n",
    "        pr2=det[pos+37:pos+53].split()\n",
    "        h5name=pr2[0].lstrip(\"/ng\")\n",
    "    return h5name"
   ]
  },
  {
   "cell_type": "code",
   "execution_count": 4,
   "metadata": {
    "collapsed": false
   },
   "outputs": [],
   "source": [
    "def listpr(x):\n",
    "    \"\"\"\n",
    "    takes a list and prints as string\n",
    "    \"\"\"\n",
    "    li=\" \".join(map(str,x))\n",
    "    return li"
   ]
  },
  {
   "cell_type": "code",
   "execution_count": 5,
   "metadata": {
    "collapsed": true
   },
   "outputs": [],
   "source": [
    "start=\"1/01/2016\"\n",
    "end=\"31/01/2016\" "
   ]
  },
  {
   "cell_type": "code",
   "execution_count": 6,
   "metadata": {
    "collapsed": false
   },
   "outputs": [
    {
     "name": "stdout",
     "output_type": "stream",
     "text": [
      "Searched using: CAS.ProductTypeName:(RTSTelescopeProduct) AND CAS.ProductTransferStatus:RECEIVED AND Description:Point AND StartTime:[2015-12-31T22:00:00Z TO 2016-01-31T21:59:59Z]\n",
      "Returning 10 results\n"
     ]
    }
   ],
   "source": [
    "#Look for pointing\n",
    "\n",
    "f=katarchive.search_archive(description=\"Point\",startdate=start,enddate=end)\n",
    "\n",
    "#start = datetime.datetime.strptime(f[-1].__str__().split('\\'')[3],'%Y-%m-%d %H:%M:%S %Z')\n",
    "#end = datetime.datetime.strptime(f[0].__str__().split('\\'')[3],'%Y-%m-%d %H:%M:%S %Z')"
   ]
  },
  {
   "cell_type": "code",
   "execution_count": 7,
   "metadata": {
    "collapsed": true
   },
   "outputs": [],
   "source": [
    "f.sort(key=lambda k: k.metadata.StartTime)"
   ]
  },
  {
   "cell_type": "code",
   "execution_count": 8,
   "metadata": {
    "collapsed": false
   },
   "outputs": [
    {
     "name": "stdout",
     "output_type": "stream",
     "text": [
      "RTS: 2.7 L-band Pointing L Band\n",
      "m024 m025\n",
      "/var/kat/archive/data/RTS/telescope_products/2016/01/07 1452203702.h5\n",
      "/home/kat/RTS/2.7-Pointing/point_source_scan.py /home/kat/RTS/sources_pnt_L.csv -r 1 -n coupler,10,10,180 -m 33000 --product=c856M4k -f 1284 --horizon=16 --stow-when-done --proposal-id=COMM-RTS --sb-id-code=20160107-0011 --description=RTS: 2.7 L-band Pointing L Band --observer=RTS \n",
      "\n",
      "3C 286 PKS 1934-63 3C 161 3C 358 3C 279 PKS 2153-69 3C 273 For A 3C 353 Pic A PKS 0410-75 Vir A Ori A PKS 0521-36 PKS 0408-65 PKS 1610-60 Tau A Her A PKS 1814-63 Hyd A 3C 123\n",
      "........................................................................................\n",
      "RTS: 2.7.1 L-band Pointing L Band\n",
      "m024 m025\n",
      "/var/kat/archive/data/RTS/telescope_products/2016/01/17 1453065346.h5\n",
      "/home/kat/RTS/2.7-Pointing/offset_test_scan.py /home/kat/RTS/sources_pnt_L.csv -r 1 -n coupler,10,10,180 --stow-when-done -f 1284 --proposal-id=COMM-RTS --product=c856M4k --sb-id-code=20160117-0004 --description=RTS: 2.7.1 L-band Pointing L Band --observer=RTS \n",
      "\n",
      "For A offset_8 offset_4 offset_5 offset_7 3C 123 offset_1 offset_2 offset_3\n",
      "........................................................................................\n",
      "RTS: 2.7.2 - L-band Pointing Jitter L Band\n",
      "m024 m025\n",
      "/var/kat/archive/data/RTS/telescope_products/2016/01/18 1453089624.h5\n",
      "/home/kat/RTS/2.7-Pointing/jitter_scan.py Vir A -m 3000 -n off --max-extent=3 --horizon=20 -f 1284 --stow-when-done --proposal-id=COMM-RTS -r 2 --product=c856M4k --sb-id-code=20160117-0003 --description=RTS: 2.7.2 - L-band Pointing Jitter L Band --observer=RTS \n",
      "\n",
      "Vir A\n",
      "........................................................................................\n",
      "RTS: 2.7 Ku-band Pointing\n",
      "m024 m025\n",
      "/var/kat/archive/data/RTS/telescope_products/2016/01/26 1453821991.h5\n",
      "/home/kat/RTS/2.7-Pointing/point_source_scan.py /home/kat/RTS/sources_pnt_Ku.csv -f 12500.5 -r 1 -n off -m 33000 --fine --product=c856M4k --horizon=16 --stow-when-done --proposal-id=COMM-RTS --sb-id-code=20160126-0009 --description=RTS: 2.7 Ku-band Pointing --observer=RTS \n",
      "\n",
      "0430 052 0420-014 0130-171 0605-085 2255-282 0003-066 0454-463 3C138 0458-020 0451-282 3C279 0653-033 1127-145 1055 018 0238-084 0537-441 0637-752 0208-512 CenB 0727-115 3C273 0607-157 0521-365 2355-534 0402-362 0426-380 2153-699 1322-427 3C123 0332-403 0454-234 0252-549 1057-797 J1152-0841 0823 033 0648-165 0106 013 0723-008\n",
      "........................................................................................\n",
      "RTS: 2.7 Ku-band Pointing\n",
      "m024 m025\n",
      "/var/kat/archive/data/RTS/telescope_products/2016/01/27 1453915363.h5\n",
      "/home/kat/RTS/2.7-Pointing/point_source_scan.py /home/kat/RTS/sources_pnt_Ku.csv -f 12500.5 -r 1 -n off -m 33000 --fine --product=c856M4k --horizon=16 --proposal-id=COMM-RTS --sb-id-code=20160127-0017 --description=RTS: 2.7 Ku-band Pointing --observer=RTS \n",
      "\n",
      "0430 052 0420-014 1510-089 0130-171 0605-085 1334-127 0003-066 0454-463 3C138 0458-020 0451-282 1424-418 0653-033 1127-145 1055 018 0238-084 0537-441 0637-752 0208-512 CenB 0727-115 3C273 0607-157 0521-365 0402-362 3C286 0426-380 3C279 1322-427 3C123 0332-403 1421-490 0454-234 0252-549 1057-797 J1152-0841 0823 033 0648-165 0106 013 0723-008\n",
      "........................................................................................\n",
      "RTS: 2.7.1 Ku-band Offset Pointing\n",
      "m024 m025\n",
      "/var/kat/archive/data/RTS/telescope_products/2016/01/28 1453981182.h5\n",
      "/home/kat/RTS/2.7-Pointing/offset_test_scan.py /home/kat/RTS/sources_bright_Ku.csv -f 12500.5 -r 1 -n off --fine --number-sources=10 --stow-when-done --proposal-id=COMM-RTS --product=c856M4k --sb-id-code=20160128-0005 --description=RTS: 2.7.1 Ku-band Offset Pointing --observer=RTS \n",
      "\n",
      "1830-210 offset_22 offset_16 offset_17 offset_14 offset_15 1921-293 offset_13 offset_10 offset_11 offset_18 offset_19 3C454.3 3C446 offset_3 0521-365 offset_23 offset_12 offset_21 offset_20 offset_24 offset_8 offset_9 offset_4 offset_5 offset_6 offset_7 offset_1 offset_2 2134 004\n",
      "........................................................................................\n",
      "RTS: 2.7.2 - Ku-band Pointing Jitter\n",
      "m024 m025\n",
      "/var/kat/archive/data/RTS/telescope_products/2016/01/28 1453992071.h5\n",
      "/home/kat/RTS/2.7-Pointing/jitter_scan.py /home/kat/RTS/sources_bright_Ku.csv -f 12500.5 -n off -m 3000 --stow-when-done --proposal-id=COMM-RTS -r 2 --product=c856M4k --sb-id-code=20160128-0010 --description=RTS: 2.7.2 - Ku-band Pointing Jitter --observer=RTS \n",
      "\n",
      "0521-365 2134 004\n",
      "........................................................................................\n",
      "RTS: 2.7.1 Ku-band Offset Pointing\n",
      "m024 m025\n",
      "/var/kat/archive/data/RTS/telescope_products/2016/01/31 1454254166.h5\n",
      "/home/kat/RTS/2.7-Pointing/offset_test_scan.py /home/kat/RTS/sources_bright_Ku.csv -f 12500.5 -r 1 -n off --fine --number-sources=10 --stow-when-done --proposal-id=COMM-RTS --product=c856M4k --sb-id-code=20160129-0018 --description=RTS: 2.7.1 Ku-band Offset Pointing --observer=RTS \n",
      "\n",
      "0723-008 offset_20 offset_16 offset_17 offset_14 offset_15 offset_12 offset_13 offset_10 offset_11 offset_18 offset_19 3C446 0727-115 0521-365 3C123 offset_8 offset_9 offset_4 offset_5 offset_6 offset_7 offset_1 offset_2 offset_3\n",
      "........................................................................................\n",
      "RTS: 2.7.1 Ku-band Offset Pointing\n",
      "m024 m025\n",
      "/var/kat/archive/data/RTS/telescope_products/2016/01/31 1454264053.h5\n",
      "/home/kat/RTS/2.7-Pointing/offset_test_scan.py /home/kat/RTS/sources_bright_Ku.csv -f 12500.5 -r 1 -n off --fine --number-sources=10 --stow-when-done --proposal-id=COMM-RTS --product=c856M4k --sb-id-code=20160129-0017 --description=RTS: 2.7.1 Ku-band Offset Pointing --observer=RTS \n",
      "\n",
      "offset_16 offset_14 offset_7 offset_12 offset_13 offset_10 offset_11 0521-365 offset_9 offset_15 offset_8 0723-008 0727-115 offset_4 offset_5 offset_6 3C123 offset_1 offset_2 offset_3\n",
      "........................................................................................\n",
      "RTS: 2.7.1 Ku-band Offset Pointing\n",
      "m024 m025\n",
      "/var/kat/archive/data/RTS/telescope_products/2016/01/31 1454271542.h5\n",
      "/home/kat/RTS/2.7-Pointing/offset_test_scan.py /home/kat/RTS/sources_bright_Ku.csv -f 12500.5 -r 1 -n off --fine --number-sources=10 --stow-when-done --proposal-id=COMM-RTS --product=c856M4k --sb-id-code=20160131-0002 --description=RTS: 2.7.1 Ku-band Offset Pointing --observer=RTS \n",
      "\n",
      "0723-008 offset_20 offset_16 offset_17 offset_14 offset_15 offset_12 offset_13 offset_10 offset_11 offset_18 offset_19 1424-418 3C279 0727-115 3C273 0521-365 offset_28 offset_23 offset_22 offset_21 3C123 offset_27 offset_26 offset_25 offset_24 offset_8 offset_9 offset_4 offset_5 offset_6 offset_7 offset_1 offset_2 offset_3\n",
      "........................................................................................\n"
     ]
    }
   ],
   "source": [
    "for fi in f:\n",
    "    print fi.metadata.Description\n",
    "    print listpr(fi.metadata.Antennas)\n",
    "    print fi.metadata.FileLocation, findh5(fi.metadata.Details)\n",
    "    print fi.metadata.InstructionSet,\"\\n\"\n",
    "    print listpr(fi.metadata.Targets)\n",
    "    print \".\"*88\n",
    "    "
   ]
  },
  {
   "cell_type": "code",
   "execution_count": 9,
   "metadata": {
    "collapsed": false
   },
   "outputs": [
    {
     "data": {
      "text/plain": [
       "[['1', '2016-01-07 23:55:03 SAST', 'RTS', [14849663766]],\n",
       " ['1', '2016-01-17 23:15:47 SAST', 'RTS', [1485597858]],\n",
       " ['1', '2016-01-18 06:00:25 SAST', 'RTS', [3915725900]],\n",
       " ['1', '2016-01-26 17:26:32 SAST', 'RTS', [14717710793]],\n",
       " ['1', '2016-01-27 19:22:44 SAST', 'RTS', [14719478027]],\n",
       " ['1', '2016-01-28 13:39:43 SAST', 'RTS', [4828177468]],\n",
       " ['1', '2016-01-28 16:41:12 SAST', 'RTS', [5708664798]],\n",
       " ['1', '2016-01-31 17:29:27 SAST', 'RTS', [4380370350]],\n",
       " ['1', '2016-01-31 20:14:14 SAST', 'RTS', [3314152111]],\n",
       " ['1', '2016-01-31 22:19:04 SAST', 'RTS', [5697699488]]]"
      ]
     },
     "execution_count": 9,
     "metadata": {},
     "output_type": "execute_result"
    }
   ],
   "source": [
    "f"
   ]
  },
  {
   "cell_type": "code",
   "execution_count": 10,
   "metadata": {
    "collapsed": false
   },
   "outputs": [
    {
     "name": "stdout",
     "output_type": "stream",
     "text": [
      "07 1452203702 RTS: 2.7 L-band Pointing L Band m024 m025\n",
      "17 1453065346 RTS: 2.7.1 L-band Pointing L Band m024 m025\n",
      "18 1453089624 RTS: 2.7.2 - L-band Pointing Jitter L Band m024 m025\n",
      "26 1453821991 RTS: 2.7 Ku-band Pointing m024 m025\n",
      "27 1453915363 RTS: 2.7 Ku-band Pointing m024 m025\n",
      "28 1453981182 RTS: 2.7.1 Ku-band Offset Pointing m024 m025\n",
      "28 1453992071 RTS: 2.7.2 - Ku-band Pointing Jitter m024 m025\n",
      "31 1454254166 RTS: 2.7.1 Ku-band Offset Pointing m024 m025\n",
      "31 1454264053 RTS: 2.7.1 Ku-band Offset Pointing m024 m025\n",
      "31 1454271542 RTS: 2.7.1 Ku-band Offset Pointing m024 m025\n"
     ]
    }
   ],
   "source": [
    "for fi in f:\n",
    "    x= repr(fi)\n",
    "    pr=x.split(\",\")\n",
    "    print pr[1][10:12],findh5(fi.metadata.Details)[:-3] , fi.metadata.Description, listpr(fi.metadata.Antennas)"
   ]
  },
  {
   "cell_type": "code",
   "execution_count": 11,
   "metadata": {
    "collapsed": false
   },
   "outputs": [
    {
     "name": "stdout",
     "output_type": "stream",
     "text": [
      "Searched using: CAS.ProductTypeName:(RTSTelescopeProduct) AND CAS.ProductTransferStatus:RECEIVED AND Description:Interferometric_Pointing AND StartTime:[2015-12-31T22:00:00Z TO 2016-01-31T21:59:59Z]\n",
      "Returning 2 results\n"
     ]
    },
    {
     "data": {
      "text/plain": [
       "[['1', '2016-01-29 04:12:35 SAST', 'RTS', [9167314029]],\n",
       " ['1', '2016-01-29 09:59:14 SAST', 'RTS', [1260233942]]]"
      ]
     },
     "execution_count": 11,
     "metadata": {},
     "output_type": "execute_result"
    }
   ],
   "source": [
    "\n",
    "f2=katarchive.search_archive(description=\"Interferometric_Pointing\",startdate=start,enddate=end)\n",
    "\n",
    "f2.sort(key=lambda k: k.metadata.StartTime)\n",
    "f2"
   ]
  },
  {
   "cell_type": "code",
   "execution_count": 12,
   "metadata": {
    "collapsed": false
   },
   "outputs": [
    {
     "name": "stdout",
     "output_type": "stream",
     "text": [
      "RTS: 3.4 Interferometric_Pointing M024 Scanning\n",
      "m024 m025\n",
      "/var/kat/archive/data/RTS/telescope_products/2016/01/29 1454033553.h5\n",
      "/home/kat/RTS/3.4-Interferometric_Pointing/radial_holography_scan.py --scan-ants=m024 --num-scans=6 --scan-duration=60 --scan-extent=2 --dump-rate=1 -n OFF -m 64000 /home/kat/RTS/strong_ku_calibrators.csv -f 12499.5 --stow-when-done --proposal-id=COMM-RTS --sb-id-code=20160128-0011 --description=RTS: 3.4 Interferometric_Pointing M024 Scanning --observer=RTS \n",
      "\n",
      "1226 023 1921-293 1253-055\n",
      "........................................................................................\n",
      "RTS: 3.4 Interferometric_Pointing M025 Scanning\n",
      "m024 m025\n",
      "/var/kat/archive/data/RTS/telescope_products/2016/01/29 1454054353.h5\n",
      "/home/kat/RTS/3.4-Interferometric_Pointing/radial_holography_scan.py --scan-ants=m025 --num-scans=6 --scan-duration=60 --scan-extent=2 --dump-rate=1 -n OFF -m 64000 /home/kat/RTS/strong_ku_calibrators.csv -f 12499.5 --stow-when-done --proposal-id=COMM-RTS --sb-id-code=20160128-0012 --description=RTS: 3.4 Interferometric_Pointing M025 Scanning --observer=RTS \n",
      "\n",
      "1921-293\n",
      "........................................................................................\n"
     ]
    }
   ],
   "source": [
    "for fi in f2:\n",
    "    print fi.metadata.Description\n",
    "    print listpr(fi.metadata.Antennas)\n",
    "    print fi.metadata.FileLocation, findh5(fi.metadata.Details)\n",
    "    print fi.metadata.InstructionSet,\"\\n\"\n",
    "    print listpr(fi.metadata.Targets)\n",
    "    print \".\"*88"
   ]
  },
  {
   "cell_type": "code",
   "execution_count": 13,
   "metadata": {
    "collapsed": false,
    "scrolled": true
   },
   "outputs": [
    {
     "data": {
      "text/plain": [
       "[['1', '2016-01-29 04:12:35 SAST', 'RTS', [9167314029]],\n",
       " ['1', '2016-01-29 09:59:14 SAST', 'RTS', [1260233942]]]"
      ]
     },
     "execution_count": 13,
     "metadata": {},
     "output_type": "execute_result"
    }
   ],
   "source": [
    "f2.sort(key=lambda k: k.metadata.StartTime)\n",
    "f2"
   ]
  },
  {
   "cell_type": "code",
   "execution_count": 15,
   "metadata": {
    "collapsed": false
   },
   "outputs": [
    {
     "name": "stdout",
     "output_type": "stream",
     "text": [
      "29 1454033553 RTS: 3.4 Interferometric_Pointing M024 Scanning m024 m025\n",
      "29 1454054353 RTS: 3.4 Interferometric_Pointing M025 Scanning m024 m025\n"
     ]
    }
   ],
   "source": [
    "for fi in f2:\n",
    "    x= repr(fi)\n",
    "    pr=x.split(\",\")\n",
    "    print pr[1][10:12],findh5(fi.metadata.Details)[:-3],fi.metadata.Description,listpr(fi.metadata.Antennas)"
   ]
  }
 ],
 "metadata": {
  "kernelspec": {
   "display_name": "Python 2",
   "language": "python",
   "name": "python2"
  },
  "language_info": {
   "codemirror_mode": {
    "name": "ipython",
    "version": 2
   },
   "file_extension": ".py",
   "mimetype": "text/x-python",
   "name": "python",
   "nbconvert_exporter": "python",
   "pygments_lexer": "ipython2",
   "version": "2.7.6"
  }
 },
 "nbformat": 4,
 "nbformat_minor": 0
}
