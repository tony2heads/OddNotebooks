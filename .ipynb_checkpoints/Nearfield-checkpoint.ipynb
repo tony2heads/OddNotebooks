{
 "cells": [
  {
   "cell_type": "markdown",
   "metadata": {},
   "source": [
    "# Nearfield criterion\n",
    "\n",
    "$NF = {{2 D^2}\\over{\\lambda}}$\n"
   ]
  },
  {
   "cell_type": "code",
   "execution_count": 25,
   "metadata": {},
   "outputs": [],
   "source": [
    "def NF(d,l):\n",
    "    nf=2*d**2/l\n",
    "    return nf"
   ]
  },
  {
   "cell_type": "code",
   "execution_count": 26,
   "metadata": {},
   "outputs": [],
   "source": [
    "#example 1 a meerKAT dish at 21cm\n",
    "l=0.21 #meters\n",
    "D=13.5"
   ]
  },
  {
   "cell_type": "code",
   "execution_count": 27,
   "metadata": {},
   "outputs": [
    {
     "name": "stdout",
     "output_type": "stream",
     "text": [
      "1.74 km\n"
     ]
    }
   ],
   "source": [
    "print(float(\"%.2f\"% (NF(D,l)/1000)),\"km\")"
   ]
  },
  {
   "cell_type": "code",
   "execution_count": 28,
   "metadata": {},
   "outputs": [
    {
     "name": "stdout",
     "output_type": "stream",
     "text": [
      "564666.67 km\n"
     ]
    }
   ],
   "source": [
    "# the MeekKAT array\n",
    "D=7.7e3 # 7.7km\n",
    "print(float(\"%.2f\"% (NF(D,l)/1000)),\"km\")"
   ]
  },
  {
   "cell_type": "code",
   "execution_count": 29,
   "metadata": {},
   "outputs": [
    {
     "name": "stdout",
     "output_type": "stream",
     "text": [
      "3.84402e+08\n"
     ]
    }
   ],
   "source": [
    "# compare to earth to moon distance\n",
    "EM=384402*1e3 #m\n",
    "print(\"%g\" %(EM))"
   ]
  },
  {
   "cell_type": "code",
   "execution_count": 30,
   "metadata": {},
   "outputs": [
    {
     "name": "stdout",
     "output_type": "stream",
     "text": [
      "1.47  times earth to moon\n"
     ]
    }
   ],
   "source": [
    "print(float(\"%.2f\"% (NF(D,l)/EM)),\" times earth to moon\")"
   ]
  }
 ],
 "metadata": {
  "kernelspec": {
   "display_name": "Python 3",
   "language": "python",
   "name": "python3"
  },
  "language_info": {
   "codemirror_mode": {
    "name": "ipython",
    "version": 3
   },
   "file_extension": ".py",
   "mimetype": "text/x-python",
   "name": "python",
   "nbconvert_exporter": "python",
   "pygments_lexer": "ipython3",
   "version": "3.6.9"
  }
 },
 "nbformat": 4,
 "nbformat_minor": 2
}
