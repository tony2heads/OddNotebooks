{
 "cells": [
  {
   "cell_type": "code",
   "execution_count": 27,
   "metadata": {
    "collapsed": false,
    "deletable": true,
    "editable": true,
    "scrolled": false
   },
   "outputs": [],
   "source": [
    "import katdal\n",
    "import matplotlib.pylab as plt\n",
    "%matplotlib inline\n",
    "import numpy as np\n",
    "import pickle"
   ]
  },
  {
   "cell_type": "code",
   "execution_count": 28,
   "metadata": {
    "collapsed": false,
    "deletable": true,
    "editable": true
   },
   "outputs": [],
   "source": [
    "#filename='/var/kat/archive2/data/MeerKATAR1/telescope_products/2017/02/22/1487764270.h5'\n",
    "#filename='/var/kat/archive2/data/MeerKATAR1/telescope_products/2017/02/22/1487764729.h5'\n",
    "filename='/var/kat/archive2/data/MeerKATAR1/telescope_products/2017/02/22/1487767044.h5'"
   ]
  },
  {
   "cell_type": "code",
   "execution_count": 29,
   "metadata": {
    "collapsed": false,
    "deletable": true,
    "editable": true,
    "scrolled": false
   },
   "outputs": [],
   "source": [
    "h = katdal.open(filename)"
   ]
  },
  {
   "cell_type": "code",
   "execution_count": 30,
   "metadata": {
    "collapsed": false,
    "deletable": true,
    "editable": true,
    "scrolled": true
   },
   "outputs": [
    {
     "name": "stdout",
     "output_type": "stream",
     "text": [
      "===============================================================================\n",
      "Name: /var/kat/archive2/data/MeerKATAR1/telescope_products/2017/02/22/1487767044.h5 (version 3.0)\n",
      "===============================================================================\n",
      "Observer: Moloko  Experiment ID: 20170222-0022\n",
      "Description: 'Generic AR1 phaseup'\n",
      "Observed from 2017-02-22 14:37:28.826 SAST to 2017-02-22 14:43:24.676 SAST\n",
      "Dump rate / period: 0.25011 Hz / 3.998 s\n",
      "Subarrays: 1\n",
      "  ID  Antennas                            Inputs  Corrprods\n",
      "   0  m001,m003,m006,m010,m014,m025,m031,m034,m062  18      180\n",
      "Spectral Windows: 1\n",
      "  ID Band Product  CentreFreq(MHz)  Bandwidth(MHz)  Channels  ChannelWidth(kHz)\n",
      "   0 L    bc856M32k  1284.000         856.000          32768        26.123\n",
      "-------------------------------------------------------------------------------\n",
      "Data selected according to the following criteria:\n",
      "  subarray=0\n",
      "  ants=['m003', 'm001', 'm014', 'm006', 'm062', 'm010', 'm034', 'm025', 'm031']\n",
      "  spw=0\n",
      "-------------------------------------------------------------------------------\n",
      "Shape: (89 dumps, 32768 channels, 180 correlation products) => Size: 4.200 GB\n",
      "Antennas: m001,*m003,m006,m010,m014,m025,m031,m034,m062  Inputs: 18  Autocorr: yes  Crosscorr: yes\n",
      "Channels: 32768 (index 0 - 32767,  856.000 MHz - 1711.974 MHz), each  26.123 kHz wide\n",
      "Targets: 2 selected out of 2 in catalogue\n",
      "  ID  Name         Type      RA(J2000)     DEC(J2000)  Tags                                  Dumps  ModelFlux(Jy)\n",
      "   0  Nothing      special             -            -                                           60  \n",
      "   1  PKS 0408-65  radec      4:08:20.38  -65:45:09.1  delaycal gaincal single_accumulation     29      14.81\n",
      "Scans: 7 selected out of 7 total       Compscans: 3 selected out of 3 total\n",
      "  Date        Timerange(UTC)       ScanState  CompScanLabel  Dumps  Target\n",
      "  22-Feb-2017/12:37:30 - 12:37:38    0:stop     0:               3    1:PKS 0408-65\n",
      "              12:37:42 - 12:38:18    1:slew     1:un_corrected     10    1:PKS 0408-65\n",
      "              12:38:22 - 12:38:46    2:track    1:un_corrected      7    1:PKS 0408-65\n",
      "              12:38:50 - 12:41:46    3:stop     1:un_corrected     45    0:Nothing\n",
      "              12:41:50 - 12:42:46    4:stop     2:corrected     15    0:Nothing\n",
      "              12:42:50 - 12:42:58    5:slew     2:corrected      3    1:PKS 0408-65\n",
      "              12:43:02 - 12:43:22    6:track    2:corrected      6    1:PKS 0408-65\n"
     ]
    }
   ],
   "source": [
    "print h"
   ]
  },
  {
   "cell_type": "code",
   "execution_count": 31,
   "metadata": {
    "collapsed": false,
    "deletable": true,
    "editable": true
   },
   "outputs": [
    {
     "name": "stdout",
     "output_type": "stream",
     "text": [
      "[u'cbf_eq_coef_m006h', u'm025_rsc_rxs_serial_number', u'cbf_eq_coef_m003h', u'm062_activity', u'cal_preferred_refants', u'data_target', u'm062_rsc_rxl_serial_number', u'm031_rsc_rxl_serial_number', u'm001_pos_request_scan_elev', u'cal_param_kcross_chanave', u'cbf_eq_coef_d001h', u'm025_pos_request_scan_elev', u'm025_rsc_rxl_serial_number', u'anc_wind_direction', u'm025_pos_request_scan_azim', u'cbf_eq_coef_d003v', u'm034_ap_tilt_corr_azim', u'cbf_eq_coef_d006h', u'm025_pos_actual_scan_elev', u'm010_observer', u'm006_rsc_rxs_serial_number', u'cal_param_k_echan', u'm006_pos_actual_scan_elev', u'm006_rsc_rxx_serial_number', u'm062_rsc_rxu_serial_number', u'm001_ap_tilt_corr_elev', u'm003_dig_noise_diode', u'm014_pos_request_scan_elev', u'm003_rsc_rxu_serial_number', u'm010_ap_point_error_tiltmeter_enabled', u'cbf_eq_coef_m025h', u'm010_dig_noise_diode', u'cal_param_g_echan', u'cal_bls_ordering', u'm003_pos_request_scan_elev', u'm014_pos_request_scan_azim', u'm025_observer', u'cal_pol_ordering', u'm025_ap_indexer_position', u'm025_activity', u'm003_rsc_rxx_serial_number', u'm014_ap_point_error_tiltmeter_enabled', u'm014_rsc_rxl_serial_number', u'cal_param_g_bchan', u'm006_pos_actual_scan_azim', u'm001_ap_indexer_position', u'cal_sideband', u'm001_rsc_rxl_serial_number', u'm003_pos_actual_scan_elev', u'm031_ap_tilt_corr_azim', u'm010_rsc_rxl_serial_number', u'cbf_eq_coef_m014h', u'cbf_eq_coef_m010h', u'm010_pos_actual_scan_azim', u'cal_buffer_size', u'cbf_eq_coef_d006v', u'm014_pos_actual_scan_azim', u'm062_pos_actual_scan_elev', u'm006_dig_noise_diode', u'm034_target', u'm010_pos_actual_scan_elev', u'data_auto_delay_enabled', u'obs_script_log', u'data_loaded_delay_correction', u'm014_ap_tilt_corr_elev', u'cbf_eq_coef_d001v', u'm006_target', u'm001_pos_request_scan_azim', u'm006_ap_indexer_position', u'm001_activity', u'cbf_eq_coef_d003h', u'm003_ap_tilt_corr_azim', u'cal_info_sources', u'm062_ap_point_error_tiltmeter_enabled', u'cbf_eq_coef_m014v', u'm014_rsc_rxx_serial_number', u'm001_ap_tilt_corr_azim', u'cbf_eq_coef_d002v', u'cal_param_k_bchan', u'cal_array_position', u'm034_ap_point_error_tiltmeter_enabled', u'cal_param_g_solint', u'cbf_eq_coef_m062v', u'm010_activity', u'm031_observer', u'm031_pos_actual_scan_elev', u'm025_rsc_rxu_serial_number', u'cbf_eq_coef_m034v', u'm001_rsc_rxs_serial_number', u'm006_activity', u'sdp_cam2telstate_status', u'm010_target', u'm034_pos_actual_scan_azim', u'm031_dig_noise_diode', u'm014_rsc_rxs_serial_number', u'cal_bls_lookup', u'm031_rsc_rxs_serial_number', u'm001_observer', u'm062_rsc_rxx_serial_number', u'cbf_eq_coef_m031v', u'm031_ap_tilt_corr_elev', u'm031_ap_indexer_position', u'm003_activity', u'cbf_eq_coef_m010v', u'cbf_eq_coef_d004h', u'm010_pos_request_scan_azim', u'm003_rsc_rxs_serial_number', u'm062_rsc_rxs_serial_number', u'cal_param_k_solint', u'cal_sim_bchan', u'cbf_eq_coef_d002h', u'm010_rsc_rxu_serial_number', u'cbf_eq_coef_m001v', u'cal_refant', u'm025_target', u'm014_target', u'm014_pos_actual_scan_elev', u'cal_antlist', u'cbf_eq_coef_m001h', u'cal_param_bp_solint', u'm034_rsc_rxs_serial_number', u'cbf_eq_coef_d005h', u'm003_ap_tilt_corr_elev', u'm001_ap_point_error_tiltmeter_enabled', u'm001_pos_actual_scan_azim', u'm025_ap_tilt_corr_azim', u'anc_air_temperature', u'm001_rsc_rxx_serial_number', u'm010_ap_tilt_corr_elev', u'm062_ap_indexer_position', u'm003_target', u'm062_ap_tilt_corr_azim', u'm003_ap_point_error_tiltmeter_enabled', u'm062_pos_request_scan_azim', u'm031_pos_actual_scan_azim', u'm034_rsc_rxl_serial_number', u'm006_observer', u'm025_pos_actual_scan_azim', u'm014_ap_tilt_corr_azim', u'm001_target', u'm001_pos_actual_scan_elev', u'anc_air_pressure', u'm025_rsc_rxx_serial_number', u'm034_dig_noise_diode', u'm014_ap_indexer_position', u'm006_rsc_rxl_serial_number', u'cbf_eq_coef_d005v', u'm010_ap_tilt_corr_azim', u'obs_label', u'cbf_eq_coef_m006v', u'cbf_eq_coef_d000v', u'anc_mean_wind_speed', u'm003_pos_request_scan_azim', u'm014_rsc_rxu_serial_number', u'm031_target', u'cbf_eq_coef_m025v', u'cbf_eq_coef_m062h', u'm010_rsc_rxx_serial_number', u'm025_ap_tilt_corr_elev', u'm034_observer', u'cbf_eq_coef_d004v', u'm062_dig_noise_diode', u'cbf_eq_coef_m034h', u'sdp_node_detail', u'm006_pos_request_scan_elev', u'm034_ap_tilt_corr_elev', u'm010_pos_request_scan_elev', u'obs_params', u'm031_pos_request_scan_azim', u'm003_pos_actual_scan_azim', u'm010_rsc_rxs_serial_number', u'cal_sim_echan', u'cbf_eq_coef_d000h', u'm034_pos_actual_scan_elev', u'm031_activity', u'sdp_sdisp_custom_signals', u'm034_rsc_rxx_serial_number', u'cal_param_k_chan_sample', u'm006_ap_tilt_corr_elev', u'm010_ap_indexer_position', u'm031_rsc_rxu_serial_number', u'm006_rsc_rxu_serial_number', u'm034_pos_request_scan_azim', u'cal_product_K', u'm001_rsc_rxu_serial_number', u'm034_ap_indexer_position', u'm003_rsc_rxl_serial_number', u'm062_observer', u'm003_observer', u'm034_pos_request_scan_elev', u'm025_ap_point_error_tiltmeter_enabled', u'm001_dig_noise_diode', u'm062_ap_tilt_corr_elev', u'm031_rsc_rxx_serial_number', u'm034_rsc_rxu_serial_number', u'm062_pos_actual_scan_azim', u'm006_ap_tilt_corr_azim', u'm014_observer', u'm006_pos_request_scan_azim', u'anc_air_relative_humidity', u'cal_product_G', u'm003_ap_indexer_position', u'm062_pos_request_scan_elev', u'm034_activity', u'm025_dig_noise_diode', u'm014_dig_noise_diode', u'cbf_eq_coef_m003v', u'cbf_eq_coef_m031h', u'm031_pos_request_scan_elev', u'm006_ap_point_error_tiltmeter_enabled', u'm031_ap_point_error_tiltmeter_enabled', u'm062_target', u'm014_activity']\n"
     ]
    }
   ],
   "source": [
    "# check what dynamic Telescope state keys we have\n",
    "print h.file['TelescopeState'].keys()"
   ]
  },
  {
   "cell_type": "code",
   "execution_count": 32,
   "metadata": {
    "collapsed": false,
    "deletable": true,
    "editable": true
   },
   "outputs": [
    {
     "ename": "KeyError",
     "evalue": "\"unable to open object (Symbol table: Can't open object)\"",
     "output_type": "error",
     "traceback": [
      "\u001b[0;31m---------------------------------------------------------------------------\u001b[0m",
      "\u001b[0;31mKeyError\u001b[0m                                  Traceback (most recent call last)",
      "\u001b[0;32m<ipython-input-32-30eb0aa61ae4>\u001b[0m in \u001b[0;36m<module>\u001b[0;34m()\u001b[0m\n\u001b[0;32m----> 1\u001b[0;31m \u001b[0;32mprint\u001b[0m \u001b[0mh\u001b[0m\u001b[0;34m.\u001b[0m\u001b[0mfile\u001b[0m\u001b[0;34m[\u001b[0m\u001b[0;34m'TelescopeState'\u001b[0m\u001b[0;34m]\u001b[0m\u001b[0;34m[\u001b[0m\u001b[0;34m'cal_obs_end_time'\u001b[0m\u001b[0;34m]\u001b[0m\u001b[0;34m\u001b[0m\u001b[0m\n\u001b[0m",
      "\u001b[0;32m/usr/lib/python2.7/dist-packages/h5py/_hl/group.pyc\u001b[0m in \u001b[0;36m__getitem__\u001b[0;34m(self, name)\u001b[0m\n\u001b[1;32m    151\u001b[0m                 \u001b[0;32mraise\u001b[0m \u001b[0mValueError\u001b[0m\u001b[0;34m(\u001b[0m\u001b[0;34m\"Invalid HDF5 object reference\"\u001b[0m\u001b[0;34m)\u001b[0m\u001b[0;34m\u001b[0m\u001b[0m\n\u001b[1;32m    152\u001b[0m         \u001b[0;32melse\u001b[0m\u001b[0;34m:\u001b[0m\u001b[0;34m\u001b[0m\u001b[0m\n\u001b[0;32m--> 153\u001b[0;31m             \u001b[0moid\u001b[0m \u001b[0;34m=\u001b[0m \u001b[0mh5o\u001b[0m\u001b[0;34m.\u001b[0m\u001b[0mopen\u001b[0m\u001b[0;34m(\u001b[0m\u001b[0mself\u001b[0m\u001b[0;34m.\u001b[0m\u001b[0mid\u001b[0m\u001b[0;34m,\u001b[0m \u001b[0mself\u001b[0m\u001b[0;34m.\u001b[0m\u001b[0m_e\u001b[0m\u001b[0;34m(\u001b[0m\u001b[0mname\u001b[0m\u001b[0;34m)\u001b[0m\u001b[0;34m,\u001b[0m \u001b[0mlapl\u001b[0m\u001b[0;34m=\u001b[0m\u001b[0mself\u001b[0m\u001b[0;34m.\u001b[0m\u001b[0m_lapl\u001b[0m\u001b[0;34m)\u001b[0m\u001b[0;34m\u001b[0m\u001b[0m\n\u001b[0m\u001b[1;32m    154\u001b[0m \u001b[0;34m\u001b[0m\u001b[0m\n\u001b[1;32m    155\u001b[0m         \u001b[0motype\u001b[0m \u001b[0;34m=\u001b[0m \u001b[0mh5i\u001b[0m\u001b[0;34m.\u001b[0m\u001b[0mget_type\u001b[0m\u001b[0;34m(\u001b[0m\u001b[0moid\u001b[0m\u001b[0;34m)\u001b[0m\u001b[0;34m\u001b[0m\u001b[0m\n",
      "\u001b[0;32mh5o.pyx\u001b[0m in \u001b[0;36mh5py.h5o.open (h5py/h5o.c:3403)\u001b[0;34m()\u001b[0m\n",
      "\u001b[0;31mKeyError\u001b[0m: \"unable to open object (Symbol table: Can't open object)\""
     ]
    }
   ],
   "source": [
    "print h.file['TelescopeState']['cal_obs_end_time']"
   ]
  },
  {
   "cell_type": "code",
   "execution_count": 37,
   "metadata": {
    "collapsed": false
   },
   "outputs": [
    {
     "name": "stdout",
     "output_type": "stream",
     "text": [
      "F38.080152189000003\n",
      ".\n"
     ]
    }
   ],
   "source": [
    "print h.file['TelescopeState']['m025_pos_request_scan_elev'][0][1]"
   ]
  },
  {
   "cell_type": "code",
   "execution_count": 42,
   "metadata": {
    "collapsed": false,
    "deletable": true,
    "editable": true,
    "scrolled": true
   },
   "outputs": [
    {
     "name": "stdout",
     "output_type": "stream",
     "text": [
      "Solutions:\n",
      "    Product             Number of solutions\n",
      "    cal_product_K  ---  1\n",
      "    cal_product_G  ---  3\n"
     ]
    }
   ],
   "source": [
    "# check what cal products we have\n",
    "print 'Solutions:'\n",
    "print '    Product             Number of solutions'\n",
    "for k in h.file['TelescopeState'].keys():\n",
    "    if 'cal_product' in k:\n",
    "        print '   ', k, ' --- ' , len(h.file['TelescopeState'][k])"
   ]
  },
  {
   "cell_type": "code",
   "execution_count": 43,
   "metadata": {
    "collapsed": true,
    "deletable": true,
    "editable": true
   },
   "outputs": [],
   "source": [
    "np.set_printoptions(precision=4,suppress=True)"
   ]
  },
  {
   "cell_type": "code",
   "execution_count": 44,
   "metadata": {
    "collapsed": false,
    "deletable": true,
    "editable": true
   },
   "outputs": [
    {
     "name": "stdout",
     "output_type": "stream",
     "text": [
      "<HDF5 dataset \"cal_antlist\": shape (1,), type \"|V123\">\n",
      "[['m001', 'm003', 'm006', 'm010', 'm014', 'm025', 'm031', 'm034', 'm062']]\n",
      "['m001' 'm003' 'm006' 'm010' 'm014' 'm025' 'm031' 'm034' 'm062']\n"
     ]
    }
   ],
   "source": [
    "# check antenna ordering\n",
    "print h.file['TelescopeState']['cal_antlist']\n",
    "a_list=[]\n",
    "aa=h.file['TelescopeState']['cal_antlist']\n",
    "for i,ai in enumerate(aa):\n",
    "    a_list.append(pickle.loads(ai[1]))\n",
    "a_array=np.array(a_list)\n",
    "print a_list\n",
    "print a_array[0]\n",
    "labels=a_array[0]"
   ]
  },
  {
   "cell_type": "markdown",
   "metadata": {
    "deletable": true,
    "editable": true
   },
   "source": [
    "# Delays"
   ]
  },
  {
   "cell_type": "code",
   "execution_count": 45,
   "metadata": {
    "collapsed": false,
    "deletable": true,
    "editable": true
   },
   "outputs": [],
   "source": [
    "k = h.file['TelescopeState']['cal_product_K']\n",
    "k_list = []\n",
    "for i, ki in enumerate(k):\n",
    "    k_list.append(pickle.loads(ki[1]))\n",
    "k_array = np.array(k_list)\n",
    "\n",
    "k_0 = k_array[:,0,:]*1e9\n",
    "k_1 = k_array[:,1,:]*1e9"
   ]
  },
  {
   "cell_type": "code",
   "execution_count": 46,
   "metadata": {
    "collapsed": false,
    "deletable": true,
    "editable": true
   },
   "outputs": [
    {
     "data": {
      "text/plain": [
       "(1, 2, 9)"
      ]
     },
     "execution_count": 46,
     "metadata": {},
     "output_type": "execute_result"
    }
   ],
   "source": [
    "k_array.shape #Times,Pols,Antennas"
   ]
  },
  {
   "cell_type": "code",
   "execution_count": 47,
   "metadata": {
    "collapsed": false,
    "deletable": true,
    "editable": true
   },
   "outputs": [
    {
     "name": "stdout",
     "output_type": "stream",
     "text": [
      "POL 0:  [[ 28.0644 -50.7161 -27.7755  -0.      -4.4829  -3.179    6.2546   5.9162\n",
      "  -18.6894]]\n",
      "POL 1:  [[ 27.9799 -57.9254 -40.5839  -0.      -4.6894   9.456   18.7219  13.8662\n",
      "  -18.6995]]\n"
     ]
    }
   ],
   "source": [
    "# print delays (if there are few delays)\n",
    "print 'POL 0: ', k_0\n",
    "print 'POL 1: ', k_1"
   ]
  },
  {
   "cell_type": "code",
   "execution_count": 48,
   "metadata": {
    "collapsed": false,
    "deletable": true,
    "editable": true
   },
   "outputs": [
    {
     "name": "stdout",
     "output_type": "stream",
     "text": [
      "['m001' 'm003' 'm006' 'm010' 'm014' 'm025' 'm031' 'm034' 'm062']\n"
     ]
    }
   ],
   "source": [
    "print labels"
   ]
  },
  {
   "cell_type": "code",
   "execution_count": 49,
   "metadata": {
    "collapsed": false,
    "deletable": true,
    "editable": true
   },
   "outputs": [
    {
     "data": {
      "text/plain": [
       "array([ 28.0644])"
      ]
     },
     "execution_count": 49,
     "metadata": {},
     "output_type": "execute_result"
    }
   ],
   "source": [
    "k_0[:,0]"
   ]
  },
  {
   "cell_type": "code",
   "execution_count": 50,
   "metadata": {
    "collapsed": false,
    "deletable": true,
    "editable": true
   },
   "outputs": [],
   "source": [
    "colors=['r','g','b','c','m','k','darkorange','darkgreen','maroon','darkviolet','olive','saddlebrown','darkorchid']"
   ]
  },
  {
   "cell_type": "code",
   "execution_count": 51,
   "metadata": {
    "collapsed": false,
    "deletable": true,
    "editable": true
   },
   "outputs": [
    {
     "data": {
      "text/plain": [
       "<matplotlib.legend.Legend at 0x7fd9583c5850>"
      ]
     },
     "execution_count": 51,
     "metadata": {},
     "output_type": "execute_result"
    },
    {
     "data": {
      "image/png": "[encoded data removed]",
      "text/plain": [
       "<matplotlib.figure.Figure at 0x7fd958413590>"
      ]
     },
     "metadata": {},
     "output_type": "display_data"
    }
   ],
   "source": [
    "#plot delays (if there are many delays)\n",
    "fig, ax = plt.subplots(2,1,figsize=(20, 10))\n",
    "for i in range(len(labels)-1):\n",
    "    ax[0].plot(k_0[:,i],'-x',markersize=8,label=labels[i],color=colors[i]);\n",
    "#ax[0].set_ylim([-0.2,0.2]);\n",
    "    ax[1].plot(k_1[:,i],'-x',markersize=8,label=labels[i],color=colors[i]);\n",
    "#ax[1].set_ylim([-0.2,0.2]);\n",
    "plt.legend(loc='upper center',ncol=2)"
   ]
  },
  {
   "cell_type": "code",
   "execution_count": null,
   "metadata": {
    "collapsed": true,
    "deletable": true,
    "editable": true
   },
   "outputs": [],
   "source": []
  },
  {
   "cell_type": "markdown",
   "metadata": {
    "deletable": true,
    "editable": true
   },
   "source": [
    "# Gains"
   ]
  },
  {
   "cell_type": "code",
   "execution_count": 52,
   "metadata": {
    "collapsed": false,
    "deletable": true,
    "editable": true
   },
   "outputs": [
    {
     "name": "stdout",
     "output_type": "stream",
     "text": [
      "(3, 2, 9)\n"
     ]
    }
   ],
   "source": [
    "g = h.file['TelescopeState']['cal_product_G']\n",
    "g_list = []\n",
    "for i, gi in enumerate(g):\n",
    "    g_list.append(pickle.loads(gi[1]))\n",
    "g_array = np.array(g_list)\n",
    "print g_array.shape\n",
    "\n",
    "g_0 = g_array[:,0,:]\n",
    "g_1 = g_array[:,1,:]"
   ]
  },
  {
   "cell_type": "code",
   "execution_count": 53,
   "metadata": {
    "collapsed": false,
    "deletable": true,
    "editable": true
   },
   "outputs": [
    {
     "name": "stdout",
     "output_type": "stream",
     "text": [
      "[ 5.9981  1.4681  7.7276  5.9833  6.2851  1.9781  2.2943  0.4606  6.6387]\n",
      "[ 7.4628  0.6169  1.6806  6.5545  6.2852  6.4922  5.9484  6.1807  8.4922]\n"
     ]
    }
   ],
   "source": [
    "#First\n",
    "print np.abs(g_0)[0]\n",
    "print np.abs(g_1)[0]"
   ]
  },
  {
   "cell_type": "code",
   "execution_count": 54,
   "metadata": {
    "collapsed": false,
    "deletable": true,
    "editable": true
   },
   "outputs": [
    {
     "name": "stdout",
     "output_type": "stream",
     "text": [
      "[ 6.014   1.5619  7.7027  5.6962  6.2819  2.0396  2.3789  0.5122  6.6996]\n",
      "[ 7.4718  0.6342  1.6931  6.5235  6.3142  6.5267  6.0155  6.2608  8.4567]\n"
     ]
    }
   ],
   "source": [
    "#Last\n",
    "print np.abs(g_0)[-1]\n",
    "print np.abs(g_1)[-1]"
   ]
  },
  {
   "cell_type": "code",
   "execution_count": 55,
   "metadata": {
    "collapsed": false,
    "deletable": true,
    "editable": true
   },
   "outputs": [
    {
     "name": "stdout",
     "output_type": "stream",
     "text": [
      "[ 1.0027  1.0639  0.9968  0.952   0.9995  1.0311  1.0369  1.1122  1.0092]\n",
      "[ 1.0012  1.0279  1.0075  0.9953  1.0046  1.0053  1.0113  1.013   0.9958]\n"
     ]
    }
   ],
   "source": [
    "#Ratio\n",
    "print np.abs(g_0)[-1]/np.abs(g_0)[0]\n",
    "print np.abs(g_1)[-1]/np.abs(g_1)[0]"
   ]
  },
  {
   "cell_type": "code",
   "execution_count": 56,
   "metadata": {
    "collapsed": false,
    "deletable": true,
    "editable": true
   },
   "outputs": [
    {
     "name": "stdout",
     "output_type": "stream",
     "text": [
      "[ -33.8052    8.1789  -73.3772    0.      -73.4099  164.2143  148.191\n",
      "  -74.1913  -85.4422]\n",
      "[  28.1874  137.6779 -133.3918   -0.       42.5849  -69.7096  -31.3772\n",
      "  -19.0185   31.2745]\n"
     ]
    }
   ],
   "source": [
    "#Before\n",
    "print np.rad2deg(np.angle(g_0)[0])\n",
    "print np.rad2deg(np.angle(g_1)[0])"
   ]
  },
  {
   "cell_type": "code",
   "execution_count": 57,
   "metadata": {
    "collapsed": false,
    "deletable": true,
    "editable": true
   },
   "outputs": [
    {
     "name": "stdout",
     "output_type": "stream",
     "text": [
      "[ -39.2238    6.6279  -74.3168    0.      -74.6528  167.8556  147.5862\n",
      " -107.7247  -84.9842]\n",
      "[  23.1773  127.5176 -135.3292    0.       40.2622  -71.1251  -37.1738\n",
      "  -21.0948   30.6497]\n"
     ]
    }
   ],
   "source": [
    "#After\n",
    "print np.rad2deg(np.angle(g_0)[-1])\n",
    "print np.rad2deg(np.angle(g_1)[-1])"
   ]
  },
  {
   "cell_type": "code",
   "execution_count": 58,
   "metadata": {
    "collapsed": false,
    "deletable": true,
    "editable": true
   },
   "outputs": [
    {
     "name": "stdout",
     "output_type": "stream",
     "text": [
      "[ -5.4186  -1.5509  -0.9397   0.      -1.2429   3.6412  -0.6048 -33.5334\n",
      "   0.4579]\n",
      "[ -5.0101 -10.1603  -1.9374   0.      -2.3227  -1.4156  -5.7966  -2.0764\n",
      "  -0.6248]\n"
     ]
    }
   ],
   "source": [
    "#Differences\n",
    "print np.rad2deg(np.angle(g_0)[-1])-np.rad2deg(np.angle(g_0)[0])\n",
    "print np.rad2deg(np.angle(g_1)[-1])-np.rad2deg(np.angle(g_1)[0])"
   ]
  },
  {
   "cell_type": "code",
   "execution_count": 59,
   "metadata": {
    "collapsed": false,
    "deletable": true,
    "editable": true
   },
   "outputs": [
    {
     "data": {
      "text/plain": [
       "<matplotlib.text.Text at 0x7fd957e76050>"
      ]
     },
     "execution_count": 59,
     "metadata": {},
     "output_type": "execute_result"
    },
    {
     "data": {
      "image/png": "[encoded data removed]",
      "text/plain": [
       "<matplotlib.figure.Figure at 0x7fd95845b550>"
      ]
     },
     "metadata": {},
     "output_type": "display_data"
    }
   ],
   "source": [
    "#plot gains - amplitude\n",
    "fig, ax = plt.subplots(2,1,figsize=(20, 10))\n",
    "ax[0].plot(np.abs(g_0),'-x');\n",
    "#ax[0].set_ylim([0,5.0]);\n",
    "ax[1].plot(np.abs(g_1),'-x');\n",
    "#ax[1].set_ylim([0,5.0]);\n",
    "plt.xlabel('Dump')\n",
    "plt.ylabel('Gain')\n",
    "#plt.legend()"
   ]
  },
  {
   "cell_type": "code",
   "execution_count": 60,
   "metadata": {
    "collapsed": false,
    "deletable": true,
    "editable": true
   },
   "outputs": [
    {
     "data": {
      "image/png": "[encoded data removed]",
      "text/plain": [
       "<matplotlib.figure.Figure at 0x7fd957f6cc10>"
      ]
     },
     "metadata": {},
     "output_type": "display_data"
    }
   ],
   "source": [
    "#plot gains - phase\n",
    "fig, ax = plt.subplots(2,1,figsize=(20, 10))\n",
    "ax[0].plot(np.rad2deg(np.angle(g_0)),'-x');\n",
    "ax[0].set_ylim([-180,180]);\n",
    "ax[1].plot(np.rad2deg(np.angle(g_1)),'-x');\n",
    "ax[1].set_ylim([-180,180]);"
   ]
  },
  {
   "cell_type": "code",
   "execution_count": 62,
   "metadata": {
    "collapsed": false,
    "deletable": true,
    "editable": true
   },
   "outputs": [
    {
     "name": "stdout",
     "output_type": "stream",
     "text": [
      "I17400\n",
      ".\n",
      "I21400\n",
      ".\n",
      "I17400\n",
      ".\n",
      "I21400\n",
      ".\n"
     ]
    }
   ],
   "source": [
    "print  h.file['TelescopeState']['cal_param_g_bchan'][0][1]\n",
    "print  h.file['TelescopeState']['cal_param_g_echan'][0][1]\n",
    "\n",
    "print  h.file['TelescopeState']['cal_param_k_bchan'][0][1]\n",
    "print  h.file['TelescopeState']['cal_param_k_echan'][0][1]"
   ]
  },
  {
   "cell_type": "code",
   "execution_count": 63,
   "metadata": {
    "collapsed": true,
    "deletable": true,
    "editable": true
   },
   "outputs": [],
   "source": [
    "def freq(chan):\n",
    "    bw=856.\n",
    "    f=bw*chan/32768. +bw\n",
    "    return(f)\n",
    "    "
   ]
  },
  {
   "cell_type": "code",
   "execution_count": 64,
   "metadata": {
    "collapsed": false,
    "deletable": true,
    "editable": true
   },
   "outputs": [
    {
     "name": "stdout",
     "output_type": "stream",
     "text": [
      "1310.54101562 1415.03320312\n"
     ]
    }
   ],
   "source": [
    "print freq(17400), freq(21400)"
   ]
  }
 ],
 "metadata": {
  "kernelspec": {
   "display_name": "Python 2",
   "language": "python",
   "name": "python2"
  },
  "language_info": {
   "codemirror_mode": {
    "name": "ipython",
    "version": 2
   },
   "file_extension": ".py",
   "mimetype": "text/x-python",
   "name": "python",
   "nbconvert_exporter": "python",
   "pygments_lexer": "ipython2",
   "version": "2.7.6"
  }
 },
 "nbformat": 4,
 "nbformat_minor": 0
}
