{
 "cells": [
  {
   "cell_type": "code",
   "execution_count": 1,
   "metadata": {
    "collapsed": true
   },
   "outputs": [],
   "source": [
    "\"\"\"\n",
    "Equipatition\n",
    "Wants:\n",
    "size\n",
    "flux\n",
    "frequency\n",
    "spectral index\n",
    "redshift\n",
    "\n",
    "Returns:\n",
    "surface brightness temperature\n",
    "Luminosity\n",
    "Volume\n",
    "\"\"\"\n",
    "import astropy.units as unit\n",
    "\n",
    "mu=1.2566e-6 #vacuum permeaboility in SI units\n",
    "\n",
    "\"\"\"\n",
    "The values below are used in all the following items\n",
    "\n",
    "\"\"\"\n",
    "z=1.0            # redshift\n",
    "S=1.0*unit.Jy  #Jy\n",
    "f=1.0*unit.GHz #GHz\n",
    "alpha = -0.75 #spectral index\n",
    "theta = 1.0*unit.arcsecond # size  - arcseconds\n",
    "k=1 # assumed ratio of energy in protons to electrons\n",
    "eta=1 # assumed filling factor\n",
    "import numpy as np"
   ]
  },
  {
   "cell_type": "markdown",
   "metadata": {},
   "source": [
    "$S\\propto \\nu ^\\alpha$"
   ]
  },
  {
   "cell_type": "code",
   "execution_count": 2,
   "metadata": {},
   "outputs": [
    {
     "name": "stdout",
     "output_type": "stream",
     "text": [
      "2.09867449652e+26 m 5.24668624131e+25 m\n",
      "8.24345772725 kpc / arcsec\n",
      "8.24345772726\n"
     ]
    }
   ],
   "source": [
    "from astropy.cosmology import FlatLambdaCDM\n",
    "cosmo=FlatLambdaCDM(H0=68, Om0=0.3)\n",
    "Dlum=cosmo.luminosity_distance(z).to('m')\n",
    "Das=cosmo.angular_diameter_distance(z).to('m')\n",
    "print Dlum, Das\n",
    "print cosmo.kpc_proper_per_arcmin(z).to('kpc/arcsec')\n",
    "\n",
    "scale= cosmo.angular_diameter_distance(z).to('kpc')/206264.806247     #arcseconds per radian\n",
    "scale=scale.value\n",
    "print scale"
   ]
  },
  {
   "cell_type": "code",
   "execution_count": 3,
   "metadata": {},
   "outputs": [
    {
     "name": "stdout",
     "output_type": "stream",
     "text": [
      "1.0 Jy\n"
     ]
    }
   ],
   "source": [
    "def Sf(S0,f,alpha,nu):\n",
    "    \"\"\"\n",
    "    Giveb S0(f) return S_nu\n",
    "    \"\"\"\n",
    "    nu=nu*unit.GHz\n",
    "    Sf=S0 *(nu/f)**alpha\n",
    "    return Sf\n",
    "\n",
    "print Sf(S,f,alpha,1.0)\n",
    "    "
   ]
  },
  {
   "cell_type": "code",
   "execution_count": 4,
   "metadata": {
    "collapsed": true
   },
   "outputs": [],
   "source": [
    "def g(alpha):\n",
    "    if alpha >-0.51 and alpha <-0.49:\n",
    "        return 9.223\n",
    "    else:\n",
    "        f=0.5+alpha  # typically about -0.2  \n",
    "        numin =  0.01 # GHz\n",
    "        numax = 100 #GHz\n",
    "        g=(numax ** f - numin**f ) / f\n",
    "        return g\n",
    "    \n",
    "def Tb(S,theta,f):\n",
    "    # Condon version \n",
    "    # without correction for redshift \n",
    "    # at the frequency observed\n",
    "    T=1.387e6*S.value/(f.value**2 *theta.value**2) \n",
    "    # I have another version with 1.22e6\n",
    "    return T*unit.K"
   ]
  },
  {
   "cell_type": "code",
   "execution_count": 5,
   "metadata": {},
   "outputs": [
    {
     "name": "stdout",
     "output_type": "stream",
     "text": [
      "2774000.0 K\n",
      "alpha -1.000 g 19.800\n",
      "alpha -0.980 g 18.772\n",
      "alpha -0.960 g 17.820\n",
      "alpha -0.940 g 16.941\n",
      "alpha -0.920 g 16.128\n",
      "alpha -0.900 g 15.378\n",
      "alpha -0.880 g 14.686\n",
      "alpha -0.860 g 14.049\n",
      "alpha -0.840 g 13.463\n",
      "alpha -0.820 g 12.925\n",
      "alpha -0.800 g 12.433\n",
      "alpha -0.780 g 11.983\n",
      "alpha -0.760 g 11.574\n",
      "alpha -0.740 g 11.203\n",
      "alpha -0.720 g 10.869\n",
      "alpha -0.700 g 10.569\n",
      "alpha -0.680 g 10.302\n",
      "alpha -0.660 g 10.067\n",
      "alpha -0.640 g  9.862\n",
      "alpha -0.620 g  9.686\n",
      "alpha -0.600 g  9.539\n",
      "alpha -0.580 g  9.420\n",
      "alpha -0.560 g  9.328\n",
      "alpha -0.540 g  9.263\n",
      "alpha -0.520 g  9.223\n",
      "alpha -0.500 g  9.223\n",
      "alpha -0.480 g  9.223\n",
      "alpha -0.460 g  9.263\n",
      "alpha -0.440 g  9.328\n",
      "alpha -0.420 g  9.420\n",
      "alpha -0.400 g  9.539\n",
      "alpha -0.380 g  9.686\n",
      "alpha -0.360 g  9.862\n",
      "alpha -0.340 g 10.067\n",
      "alpha -0.320 g 10.302\n"
     ]
    }
   ],
   "source": [
    "print Tb(S*(1+z),theta,f)\n",
    "for al in np.arange(-1, -0.3, 0.02):\n",
    "    print (\"alpha %6.3f g %6.3f\") %(al,g(al))\n"
   ]
  },
  {
   "cell_type": "code",
   "execution_count": 6,
   "metadata": {},
   "outputs": [
    {
     "name": "stdout",
     "output_type": "stream",
     "text": [
      "16.4253821932 nT\n",
      "15.9848344251 nT\n"
     ]
    }
   ],
   "source": [
    "def MileyB(S,f,eta,k,theta, alpha,z):\n",
    "    \"\"\"\n",
    "    Uses Miley's formula for min energy  magnetic field\n",
    "    eta, k, very uncertain\n",
    "    Beq=0.9211*Bme\n",
    "    \"\"\"\n",
    "    diam=theta.to('rad').value # from arcseconds to radians\n",
    "    l=diam*Das.to('kpc').value # path length now in kpc\n",
    "    S0=Sf(S,f,alpha,1.0).value # flux in Jy at 1.0GHz\n",
    "    Bme=5.69e-5*((1+k)/eta * (1+z)**(3-alpha) *g(alpha) *S0/(l*theta.value**2))**(2./7.)\n",
    "    Bme=Bme*unit.gauss\n",
    "    B2=1.4e-4*(1+z)**1.1 * f.to('GHz').value**0.22 * (S0/(l*theta.to('arcsec').value**2))**(2./7.)\n",
    "    # this version in Tesla\n",
    "    #print l, diam, g\n",
    "    #print S0,Bme.to('nT'),theta.value, g(alpha)\n",
    "    B2=B2*unit.Gauss\n",
    "    print B2.to('nT')\n",
    "    return Bme\n",
    "    \n",
    "print MileyB(S,f,eta,k,theta,alpha,z).to('nT')\n",
    "                             "
   ]
  },
  {
   "cell_type": "code",
   "execution_count": 7,
   "metadata": {},
   "outputs": [
    {
     "name": "stdout",
     "output_type": "stream",
     "text": [
      "19.2470380761 nT\n"
     ]
    }
   ],
   "source": [
    "def Conway(S,f,eta,k,theta, alpha,z):\n",
    "    \"\"\" \n",
    "    Uses Robin Conways version\n",
    "    \"\"\"\n",
    "    #should be positive now\n",
    "    diam=theta.to('rad').value # from arcseconds to radians\n",
    "    r=diam/2\n",
    "    S0 = 1e-26*Sf(S,f,alpha,1.0).value # flux @ 1GHz W m**-2 Hz**-1\n",
    "    Omega=np.pi*r**2# from arcseconds to radians then in a circle\n",
    "    l=diam*Das.value # radians * angular size distance gives m\n",
    "    B=58.336*(S0*(1+z)**(3-alpha) * (1+k) *g(alpha) / (Omega*l))**(2./7.)\n",
    "    return B*unit.tesla\n",
    "    \n",
    "print Conway(S,f,eta,k,theta, alpha,z).to('nT')"
   ]
  },
  {
   "cell_type": "code",
   "execution_count": 8,
   "metadata": {},
   "outputs": [
    {
     "name": "stdout",
     "output_type": "stream",
     "text": [
      "11.3841995766 5.24668624131e+25\n"
     ]
    }
   ],
   "source": [
    "print g(-0.75), Das.value"
   ]
  },
  {
   "cell_type": "code",
   "execution_count": 9,
   "metadata": {},
   "outputs": [
    {
     "name": "stdout",
     "output_type": "stream",
     "text": [
      "4.8481368111e-06 4.84578295738e-06 1.0 1.0\n"
     ]
    }
   ],
   "source": [
    "print theta.to('rad').value, theta.value/206365,S.value, f.value"
   ]
  },
  {
   "cell_type": "code",
   "execution_count": 10,
   "metadata": {},
   "outputs": [
    {
     "name": "stdout",
     "output_type": "stream",
     "text": [
      "5.53477580626e+27 W / Hz\n"
     ]
    }
   ],
   "source": [
    "print (4*np.pi*S*Dlum**2).to('W/Hz')"
   ]
  },
  {
   "cell_type": "code",
   "execution_count": 11,
   "metadata": {},
   "outputs": [
    {
     "name": "stdout",
     "output_type": "stream",
     "text": [
      "16.8010628573 nT\n"
     ]
    }
   ],
   "source": [
    "def Scheuer(S,f,eta,k,theta, alpha,z):\n",
    "    \"\"\"\n",
    "    Version of P/V from spreadsheet\n",
    "    \"\"\"\n",
    "    diam=theta.to('rad').value # now in radians\n",
    "    d=diam*Das.value # now diam to meters\n",
    "    V = np.pi*d**3/3.0   # volume in m**3 times 8\n",
    "    Sem=Sf(S,f,alpha,1.0).value # emitted at 1GHz\n",
    "    Lnu= Sem*((6.37E11*scale)**2 * (1+z)**(3-alpha)) # Synchrotron Luminosity\n",
    "    e=1+k\n",
    "    x=1.0/7.0 # 1/7 in floats\n",
    "\n",
    "    # check the numerical factor!\n",
    "    #print Sem,Lnu,V\n",
    "    Bmin=58.3*(Lnu*g(alpha)*1.658/V)**(2*x)\n",
    "    Bmin=Bmin*unit.Tesla\n",
    "    return Bmin.to('nT')\n",
    "\n",
    "print Scheuer(S,f,eta,k,theta, alpha,z)"
   ]
  },
  {
   "cell_type": "code",
   "execution_count": 12,
   "metadata": {},
   "outputs": [
    {
     "name": "stdout",
     "output_type": "stream",
     "text": [
      "2.52966278571 nT\n"
     ]
    }
   ],
   "source": [
    "def Fitt(S,f,k,theta,alpha):\n",
    "    S1490 = Sf(S,f,alpha,1.490).value # S at 1.490GHz\n",
    "    B=10.3*(S1490/(theta.value**2))**(2./7.) #for k=100\n",
    "    B=B*1e-9*unit.Tesla\n",
    "    \n",
    "    B=B*((k/101.0)**(2./7.))\n",
    "    return B.to('nT')\n",
    "\n",
    "print Fitt(S,f,k,theta,alpha)"
   ]
  },
  {
   "cell_type": "code",
   "execution_count": 13,
   "metadata": {},
   "outputs": [
    {
     "name": "stdout",
     "output_type": "stream",
     "text": [
      "16.286371134 nT\n"
     ]
    }
   ],
   "source": [
    "def NRAO(S,f,eta,k,theta, alpha,z):\n",
    "    \"\"\"\n",
    "    all in CGS units!!\n",
    "    \"\"\"\n",
    "    c12=2e7    # for a typical spectrum\n",
    "    c13=1.8e4  # again for a typical spectrum\n",
    "    Lum=4*np.pi*Dlum.value**2*1e-26*S.value*1e9 *g(alpha) #watts\n",
    "    Lum=Lum*1e7 # erg/s\n",
    "    r=0.5*theta.to('rad').value #angular radius in radians\n",
    "    R=r*Das.to('cm').value\n",
    "    Bmin=(4.5*(1+k)*c12*Lum)**(2./7.) *R**(-6./7.)\n",
    "    Bmin=Bmin*unit.gauss\n",
    "    Emin=c13*((1+k)*Lum)**(4./7.) * R**(9./7.) #particle energy =4/7 of total\n",
    "    Emin=7.*Emin*unit.erg/4.\n",
    "    #print Emin.to('J')\n",
    "    return Bmin.to('nT')\n",
    "    \n",
    "print NRAO(S,f,eta,k,theta, alpha,z)"
   ]
  },
  {
   "cell_type": "code",
   "execution_count": 14,
   "metadata": {},
   "outputs": [
    {
     "name": "stdout",
     "output_type": "stream",
     "text": [
      "9.83975877941 nT\n"
     ]
    }
   ],
   "source": [
    "def BeckKrause(S,f,eta,k,theta,alpha,z):\n",
    "    \"\"\"\n",
    "    Astron Nachr 326 414 (2005) appendix A\n",
    "    all in cgs units\n",
    "\n",
    "    \"\"\"\n",
    "    from scipy.special import gamma\n",
    "    \"\"\"\n",
    "    not in numpy?\n",
    "    \"\"\"\n",
    "    alpha = -1.0*alpha # opposite sign convention\n",
    "    gam=2.0*alpha+1.0  #spectrum of the electron energies\n",
    "    c1 = 6.26428e18 # erg**-2  s**-1 G**-1\n",
    "    c3  =1.86558e-23 # erg G**-1 sterad**-1\n",
    "    c4 = (2./3.)**((2*gam+1.0)/4.0) # assumed isotopic magnetic field\n",
    "    Ep  = 1.5033e-3 # erg - expected energy break\n",
    "    I = S.value *1e-26 # W/m**2/Hz\n",
    "    I= I*1e7 # erg/s /m**2 /Hz  using 1erg  = 1e7 Joule\n",
    "    I = I*1e-4 # erg/s /cm**2 /Hz using 1cm2 = 1e-4 m2\n",
    "    r=0.5*theta.to('rad').value #angular radius in radians\n",
    "    area=np.pi*r**2 # sterad\n",
    "    l = 2*r*cosmo.angular_diameter_distance(z).to('cm').value # path length\n",
    "    I =  I/area  ## erg/s /cm**2 /Hz /sterad\n",
    "    nu =f.to('Hz').value\n",
    "    #print I,l,r,area\n",
    "    def c2(al): \n",
    "        gam=2.0*al+1.0  #spectrun of the electron energies\n",
    "        x=0.25*c3*(gam+7./3.0)\n",
    "        x=x/((gam+1)*gamma((3*gam-1)/12.0))\n",
    "        x=x*gamma((3*gam+7.)/12.)\n",
    "        return x\n",
    "    #print c2(alpha)\n",
    "    Beq=(4*np.pi*(2*alpha+1)*(k+1)*I*Ep**(1.0-2.0*alpha)* (nu/(2.*c1))**alpha)\n",
    "    Beq=Beq/((2*alpha-1.)*c2(alpha)*l*c4)\n",
    "    Beq=Beq**(1.0/(3.+alpha))\n",
    "    Beq=Beq*unit.Gauss\n",
    "    return Beq\n",
    "\n",
    "print BeckKrause(S,f,eta,k,theta,alpha,z).to('nT')\n",
    "\n",
    "              \n",
    "    \n",
    "    \n",
    "    "
   ]
  },
  {
   "cell_type": "code",
   "execution_count": 15,
   "metadata": {},
   "outputs": [
    {
     "name": "stdout",
     "output_type": "stream",
     "text": [
      "16.1284602001 nT\n"
     ]
    }
   ],
   "source": [
    "def GovoniFeretti(S,f,eta,k,theta,alpha,z):\n",
    "    \"\"\"\n",
    "    see http://arxiv.org/pdf/astro-ph/0410182.pdf\n",
    "    starting with the interpolation\n",
    "alpha xi(10,1e4) xi(10,1e5) MHz\n",
    "0.0 1.43 × 10−11 2.79 × 10−11\n",
    "0.1 9.40 × 10−12 1.63 × 10−11\n",
    "0.2 6.29 × 10−12 9.72 × 10−12\n",
    "0.3 4.29 × 10−12 5.97 × 10−12\n",
    "0.4 2.99 × 10−12 3.79 × 10−12\n",
    "0.5∗ 2.13 × 10−12 2.50 × 10−12\n",
    "0.6 1.55 × 10−12 1.72 × 10−12\n",
    "0.7 1.15 × 10−12 1.23 × 10−12\n",
    "0.8 8.75 × 10−13 9.10 × 10−13\n",
    "0.9 6.77 × 10−13 6.92 × 10−13\n",
    "1.0∗ 5.32 × 10−13 5.39 × 10−13\n",
    "1.1 4.24 × 10−13 4.27 × 10−13\n",
    "1.2 3.42 × 10−13 3.43 × 10−13\n",
    "1.3 2.79 × 10−13 2.79 × 10−13\n",
    "1.4 2.29 × 10−13 2.29 × 10−13\n",
    "1.5 1.89 × 10−13 1.89 × 10−13\n",
    "1.6 1.57 × 10−13 1.57 × 10−13\n",
    "1.7 1.31 × 10−13 1.31 × 10−13\n",
    "1.8 1.10 × 10−13 1.10 × 10−13\n",
    "1.9 9.21 × 10−14 9.21 × 10−14\n",
    "2.0 7.76 × 10−14 7.76 × 10−14\n",
    "    \"\"\"\n",
    "    alpha =-1.0*alpha  # opposite sign convention to the start\n",
    "    x=np.arange(0,2.1,0.1)\n",
    "    y=np.array([1.43e-11, 9.4e-12, 6.29e-12, 4.29e-12, 2.99e-12, 2.13e-12,\\\n",
    "                1.55e-12, 1.15e-12, 8.75e-13, 6.77e-13, 5.32e-13, 4.24e-13,\\\n",
    "                3.42e-13, 2.79e-13, 2.29e-13, 1.89e-13, 1.57e-13, 1.31e-13,\\\n",
    "                1.10e-13, 9.21e-14, 7.76e-14])\n",
    "    y2=np.array([2.79e-11, 1.63e-12, 9.72e-12, 5.97e-12, 3.79e-12, 2.50e-12,\\\n",
    "                1.72e-12, 1.23e-12, 9.10e-13, 6.92e-13, 5.39e-13, 4.27e-13,\\\n",
    "                3.43e-13, 2.79e-13, 2.29e-13, 1.89e-13, 1.57e-13, 1.31e-13,\\\n",
    "                1.10e-13, 9.21e-14, 7.76e-14])\n",
    "    #%pylab inline\n",
    "    #pylab.plot(x,y)\n",
    "    #pylab.show()\n",
    "    # xi=np.interp(alpha,x,y) # interpolated value for 10MHz to 10GHz\n",
    "    xi=np.interp(alpha,x,y2) # interpolated value for 10MHz to 100GHz\n",
    "    area=0.25*np.pi*(theta.value)**2 # arcsecond **2\n",
    "    I0 =1e3*S.value/area  # mJy per square arcsecond\n",
    "    d=scale*theta.value   #length through source in kpc\n",
    "    nu=f.to('MHz').value\n",
    "    umin= xi*((1+k)* nu**alpha * (1+z)**(3+alpha) * I0/d)**(4./7.) # erg/cc\n",
    "    beq= np.sqrt(umin*24*np.pi/7.0)\n",
    "    beq=beq*unit.Gauss\n",
    "    return beq\n",
    "\n",
    "print GovoniFeretti(S,f,eta,k,theta,alpha,z).to('nT')"
   ]
  },
  {
   "cell_type": "markdown",
   "metadata": {
    "collapsed": true
   },
   "source": [
    "# Moffat formula\n",
    "\n",
    "$$B_{eq} =  \\frac{2}{3} { (a A L /V)}^{\\frac{2}{7}} $$\n",
    "\n",
    "\n",
    "No units!\n",
    "\n",
    "A = shape factor\n",
    "a = fraction if energy in protons/electrons\n",
    "L = radio luminosity"
   ]
  },
  {
   "cell_type": "markdown",
   "metadata": {},
   "source": [
    "# Pacholczyk formula \n",
    "\n",
    "\n",
    "$$ B_{min} = {(9 c_{12})}^{\\frac{2}{7}} R^{\\frac{-6}{7}} L^{\\frac{2}{7}} $$ \n",
    "\n",
    "all in cgs units\n",
    "\n",
    "for typical spectra \n",
    "\n",
    "$c_{12} \\simeq 1.7 \\times 10^8$"
   ]
  },
  {
   "cell_type": "markdown",
   "metadata": {},
   "source": [
    "# Araudo, Bell, Blundell amd Matthews\n",
    "##   https://arxiv.org/pdf/1709.09231.pdf\n",
    "\n",
    "\n",
    "\n",
    "$$ \\frac{B_{eq}}{\\mu G} \\simeq  390{(\\frac{1+a}{2})}^{\\frac{2}{7}} {\\frac{\\nu_{min}}{0.1GHz}}^{-0.06} {\\frac{V}{ 0.36 kpc^3}}^{\\frac{-2}{7}} $$\n",
    "\n",
    "a = energy density in non-thermal protons"
   ]
  }
 ],
 "metadata": {
  "kernelspec": {
   "display_name": "Python 2",
   "language": "python",
   "name": "python2"
  },
  "language_info": {
   "codemirror_mode": {
    "name": "ipython",
    "version": 2
   },
   "file_extension": ".py",
   "mimetype": "text/x-python",
   "name": "python",
   "nbconvert_exporter": "python",
   "pygments_lexer": "ipython2",
   "version": "2.7.6"
  }
 },
 "nbformat": 4,
 "nbformat_minor": 1
}
