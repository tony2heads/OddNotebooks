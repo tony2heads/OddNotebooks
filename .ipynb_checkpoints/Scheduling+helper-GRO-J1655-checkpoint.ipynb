{
 "cells": [
  {
   "cell_type": "code",
   "execution_count": 1,
   "metadata": {},
   "outputs": [
    {
     "name": "stdout",
     "output_type": "stream",
     "text": [
      "Populating the interactive namespace from numpy and matplotlib\n"
     ]
    }
   ],
   "source": [
    "%pylab inline"
   ]
  },
  {
   "cell_type": "code",
   "execution_count": 2,
   "metadata": {
    "collapsed": true
   },
   "outputs": [],
   "source": [
    "import katpoint\n",
    "from IPython.core.display import display, HTML\n"
   ]
  },
  {
   "cell_type": "markdown",
   "metadata": {},
   "source": [
    "This notebook can be used each week to plan the scheduling of observations on MeerKAT. \n",
    "\n",
    "It will generate an obs table, with times in SAST, that can be used to block off times in the Google calendar\n",
    "\n",
    "See https://en.wikipedia.org/wiki/Sidereal_time for a discussion of siderial time\n",
    "\n",
    "Some useful points to check your scheduling sanity:\n",
    "* The RA of a target is equal to the LST when the target is at its highest elevation (when it tranits)... this is useful because if you are doing scheduling the best is to observe equally on either side of this time\n",
    "* LST will change by roughy 4 mins per day ... so a target will transit 4 mins earlier each day\n",
    "* MeerKAT LST matches SAST on roughly 30 Sep each year ... it is 6 hrs after SAST on about 30 Dec, 12 hrs difference in March and 6 hrs before in June \n",
    "\n",
    "You can also look at the following pyephem doc page for more ways to use the ant.ref_observer object. http://rhodesmill.org/pyephem/quick.html"
   ]
  },
  {
   "cell_type": "markdown",
   "metadata": {},
   "source": [
    "Link to the MeerKAT observation calendar\n",
    "\n",
    "https://calendar.google.com/calendar/embed?src=ska.ac.za_hd1ilp7tkoffoa9f2gh0j6l0q8%40group.calendar.google.com&ctz=Africa/Johannesburg"
   ]
  },
  {
   "cell_type": "code",
   "execution_count": 3,
   "metadata": {
    "collapsed": true
   },
   "outputs": [],
   "source": [
    "ant = katpoint.Antenna('ant1, -30:42:39.8, 21:26:38.0, 1035.0') # the MeerKAT reference point\n",
    "ant.ref_observer.horizon = '20:00:00' # horizon set to 20 degrees\n",
    "SAST = matplotlib.dateutil.relativedelta.relativedelta(hours=2) # useful to convert to SAST (UTC + 2)"
   ]
  },
  {
   "cell_type": "code",
   "execution_count": 4,
   "metadata": {},
   "outputs": [
    {
     "data": {
      "text/html": [
       "<table><tr><td colspan='4'>Obs table for 2018-12-05 13:46</td></tr><tr><td>Target<td>Next Rise<td>Next Transit<td>Next Set</tr><tr><td> Sun <td> 2018-12-06 07:06 <td> 2018-12-06 12:25 <td> 2018-12-05 17:43 </tr><tr><td> PKS 1934-63 <td> 2018-12-06 08:04 <td> 2018-12-05 15:18 <td> 2018-12-05 22:27 </tr><tr><td> GRO J1655-40 <td> 2018-12-06 06:34 <td> 2018-12-06 12:28 <td> 2018-12-05 18:26 </tr><tr><td> J1744-5144 <td> 2018-12-06 06:54 <td> 2018-12-06 13:19 <td> 2018-12-05 19:47 </tr><tr><td colspan='4'>These times are in SAST</td></tr></table>"
      ],
      "text/plain": [
       "<IPython.core.display.HTML object>"
      ]
     },
     "metadata": {},
     "output_type": "display_data"
    }
   ],
   "source": [
    "start_timestamp = katpoint.Timestamp() # use NOW as the start time for the obs table\n",
    "#start_timestamp = katpoint.Timestamp('2018-04-10 01:00:00')\n",
    "start_ed = start_timestamp.to_ephem_date()\n",
    "cat = katpoint.Catalogue()\n",
    "cat.add(katpoint.Target(\"Sun,special\"))\n",
    "cat.add(katpoint.Target('PKS 1934-63, radec, 19:39:25.03, -63:42:45.7'))\n",
    "cat.add(katpoint.Target('GRO J1655-40, radec target, 16 54 00.137, -39 50 44.90'))\n",
    "cat.add(katpoint.Target('J1744-5144 | 1740-517,radec bpcal,17:44:25.47,-51:44:43.1'))\n",
    "#cat.add(katpoint.Target('PKS 0408-65, radec, 4:08:20.38, -65:45:09.1'))\n",
    "#cat.add(katpoint.Target('GX 339-4, radec target, 17:02:49.36, -48:47:22.8'))\n",
    "#cat.add(katpoint.Target('MAXI J1535-571, radec target, 15:35:10.0,-57:10:43'))\n",
    "#cat.add(katpoint.Target('MAXI J1813-095, radec target, 18:13:34.015, -09:31:59.2'))\n",
    "#cat.add(katpoint.Target('Swift J1658.2-4242, radec target, 16:58:12.70, -42:41:56.09'))\n",
    "#cat.add(katpoint.Target('4U 1728-34, radec target,  17:31:57.73, -33:50:02.5'))\n",
    "#cat.add(katpoint.Target('3FGL J0427.9-6704, radec target, 04:27:49.61, -67:04:35.0'))\n",
    "# generate an html table for displaying\n",
    "# only the first 16 characters [:16] are shown for the time string\n",
    "# for readability\n",
    "\n",
    "h = '<table>'\n",
    "h += \"<tr><td colspan='4'>Obs table for %s</td></tr>\"%str(start_timestamp+7200)[:16]\n",
    "h += \"<tr><td>Target<td>Next Rise<td>Next Transit<td>Next Set</tr>\"\n",
    "for tar in cat.targets:\n",
    "    h += '<tr><td> %s <td> %s <td> %s <td> %s </tr>'%(tar.name,\n",
    "                                str((ant.ref_observer.next_rising(tar.body,start_ed).datetime()+SAST))[:16],\n",
    "                                str((ant.ref_observer.next_transit(tar.body,start_ed).datetime()+SAST))[:16],\n",
    "                                str((ant.ref_observer.next_setting(tar.body,start_ed).datetime()+SAST))[:16])\n",
    "h += \"<tr><td colspan='4'>These times are in SAST</td></tr>\"\n",
    "h += \"</table>\"\n",
    "display(HTML(h))"
   ]
  },
  {
   "cell_type": "code",
   "execution_count": 8,
   "metadata": {},
   "outputs": [
    {
     "name": "stdout",
     "output_type": "stream",
     "text": [
      "PKS 1934-63 is 50 degrees from the sun\n",
      "GRO J1655-40 is 18 degrees from the sun\n",
      "J1744-5144 is 31 degrees from the sun\n"
     ]
    }
   ],
   "source": [
    "sun = cat['Sun']\n",
    "for target in cat.targets[1:]: \n",
    "    sep = np.degrees(sun.separation(target, timestamp=start_timestamp, antenna=ant))\n",
    "    print('%s is %.0f degrees from the sun'%(target.name, sep))\n"
   ]
  },
  {
   "cell_type": "code",
   "execution_count": 6,
   "metadata": {},
   "outputs": [
    {
     "data": {
      "text/html": [
       "<table><tr><td colspan='4'>Obs table for 2018-12-05 13:46</td></tr><tr><td>Target<td>Next Rise<td>Next Transit<td>Next Set</tr><tr><td> Sun <td> 2018-12-06 07:06 <td> 2018-12-06 12:25 <td> 2018-12-05 17:43 </tr><tr><td> PKS 1934-63 <td> 2018-12-06 08:04 <td> 2018-12-05 15:18 <td> 2018-12-05 22:27 </tr><tr><td> GRO J1655-40 <td> 2018-12-06 06:34 <td> 2018-12-06 12:28 <td> 2018-12-05 18:26 </tr><tr><td> J1744-5144 <td> 2018-12-06 06:54 <td> 2018-12-06 13:19 <td> 2018-12-05 19:47 </tr><tr><td colspan='4'>These times are in SAST</td></tr></table>"
      ],
      "text/plain": [
       "<IPython.core.display.HTML object>"
      ]
     },
     "metadata": {},
     "output_type": "display_data"
    }
   ],
   "source": [
    "start_timestamp = katpoint.Timestamp() # use NOW as the start time for the obs table\n",
    "#start_timestamp = katpoint.Timestamp('2018-04-10 01:00:00')\n",
    "start_ed = start_timestamp.to_ephem_date()\n",
    "cal_cat = katpoint.Catalogue()\n",
    "cal_cat.add(katpoint.Target('3C138, radec target polcal, 05:21:09.886021, 16:38:22.051220'))\n",
    "cal_cat.add(katpoint.Target('3C286, radec target polcal, 13:31:08.29, 30:30:33.0'))\n",
    "cal_cat.add(katpoint.Target('PKS 1934-63, radec, 19:39:25.03, -63:42:45.7'))\n",
    "cal_cat.add(katpoint.Target('PKS 0408-65, radec, 4:08:20.38, -65:45:09.1'))\n",
    "\n",
    "# generate an html table for displaying\n",
    "# only the first 16 characters [:16] are shown for the time string\n",
    "# for readability\n",
    "\n",
    "h = '<table>'\n",
    "h += \"<tr><td colspan='4'>Obs table for %s</td></tr>\"%str(start_timestamp+7200)[:16]\n",
    "h += \"<tr><td>Target<td>Next Rise<td>Next Transit<td>Next Set</tr>\"\n",
    "for tar in cat.targets:\n",
    "    h += '<tr><td> %s <td> %s <td> %s <td> %s </tr>'%(tar.name,\n",
    "                                str((ant.ref_observer.next_rising(tar.body,start_ed).datetime()+SAST))[:16],\n",
    "                                str((ant.ref_observer.next_transit(tar.body,start_ed).datetime()+SAST))[:16],\n",
    "                                str((ant.ref_observer.next_setting(tar.body,start_ed).datetime()+SAST))[:16])\n",
    "h += \"<tr><td colspan='4'>These times are in SAST</td></tr>\"\n",
    "h += \"</table>\"\n",
    "display(HTML(h))"
   ]
  },
  {
   "cell_type": "code",
   "execution_count": null,
   "metadata": {
    "collapsed": true
   },
   "outputs": [],
   "source": []
  }
 ],
 "metadata": {
  "kernelspec": {
   "display_name": "Python 2",
   "language": "python",
   "name": "python2"
  },
  "language_info": {
   "codemirror_mode": {
    "name": "ipython",
    "version": 2
   },
   "file_extension": ".py",
   "mimetype": "text/x-python",
   "name": "python",
   "nbconvert_exporter": "python",
   "pygments_lexer": "ipython2",
   "version": "2.7.6"
  }
 },
 "nbformat": 4,
 "nbformat_minor": 1
}
