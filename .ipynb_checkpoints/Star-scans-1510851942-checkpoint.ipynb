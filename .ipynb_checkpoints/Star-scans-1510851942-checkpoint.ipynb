{
 "cells": [
  {
   "cell_type": "code",
   "execution_count": null,
   "metadata": {
    "collapsed": true
   },
   "outputs": [],
   "source": [
    "from katsdpscripts.reduction.analyse_point_source_scans import analyse_point_source_scans"
   ]
  },
  {
   "cell_type": "code",
   "execution_count": null,
   "metadata": {
    "collapsed": true
   },
   "outputs": [],
   "source": [
    "class my_opts:\n",
    "    def __init__(self, **kwds):\n",
    "        self.__dict__.update(kwds)"
   ]
  },
  {
   "cell_type": "code",
   "execution_count": null,
   "metadata": {},
   "outputs": [],
   "source": [
    "!pwd"
   ]
  },
  {
   "cell_type": "markdown",
   "metadata": {},
   "source": [
    "# done with  1 sec dump period"
   ]
  },
  {
   "cell_type": "code",
   "execution_count": null,
   "metadata": {},
   "outputs": [],
   "source": [
    "cleanchans=\"2702,2914\" #usual value\n",
    "#cleanchans=\"3700,3900\" #higher end of band\n",
    "#cleanchans=\"2150,2500\" # fairly low\n",
    "#\n",
    "h5name='/var/kat/archive3/data/MeerKATAR1/telescope_products/2017/11/16/1510851942.h5'\n",
    "ants=['m054', 'm055', 'm044', 'm043', 'm051', 'm041', 'm053', 'm052', 'm048', 'm057', 'm022', 'm033',\\\n",
    "      'm062', 'm039']\n",
    "ants.sort()\n",
    "print ants"
   ]
  },
  {
   "cell_type": "code",
   "execution_count": null,
   "metadata": {
    "scrolled": false
   },
   "outputs": [],
   "source": [
    "for baseline in ants :\n",
    "    print \"\\n Starting \",baseline,\"\\n\"\n",
    "    opts = my_opts(outfilebase=None, keepfilename=None, baseline=baseline, mc_iterations=1, freq_centre=1284.0, \\\n",
    "            time_offset=0.0, pointing_model=None, freq_chans=cleanchans, old_loader=None, nd_models=None, \\\n",
    "            ku_band=False, channel_mask=None,keep_all=False,remove_spikes=False,batch=True,plot_spectrum=False)\n",
    "    analyse_point_source_scans(h5name,opts)\n",
    "    print \"\\n\\n***************Done\",baseline,\"*************\\n\"\n",
    "print \"\\nDONE ALL\""
   ]
  },
  {
   "cell_type": "code",
   "execution_count": null,
   "metadata": {},
   "outputs": [],
   "source": [
    "!ls -s 1510851942*.csv"
   ]
  }
 ],
 "metadata": {
  "kernelspec": {
   "display_name": "Python 2",
   "language": "python",
   "name": "python2"
  },
  "language_info": {
   "codemirror_mode": {
    "name": "ipython",
    "version": 2
   },
   "file_extension": ".py",
   "mimetype": "text/x-python",
   "name": "python",
   "nbconvert_exporter": "python",
   "pygments_lexer": "ipython2",
   "version": "2.7.17"
  }
 },
 "nbformat": 4,
 "nbformat_minor": 1
}
