{
 "cells": [
  {
   "cell_type": "markdown",
   "metadata": {},
   "source": [
    "$\\theta$ in arcsec, \n",
    "\n",
    "$S$ in Jy, \n",
    "\n",
    "$\\nu$ in GHz, \n",
    "\n",
    "$\\alpha$ in sense $S \\propto \\nu^{-\\alpha}$, (typically 0.75)\n",
    "\n",
    "B in Tesla"
   ]
  },
  {
   "cell_type": "markdown",
   "metadata": {},
   "source": [
    "$T_b =10^{12} K$ \n",
    "\n",
    "when \n",
    "\n",
    "$\\nu ^{2+\\alpha}  =1.387\\times 10^{-6} \\frac {S_{obs} {\\nu_{obs}}^{\\alpha}}{\\theta^2}$"
   ]
  },
  {
   "cell_type": "markdown",
   "metadata": {},
   "source": [
    "$\\nu_{selfabs} = 2.86\\times 10^{-4} B (1+z){\\frac{S \\nu^{\\alpha}}{\\theta^2}}^2$"
   ]
  },
  {
   "cell_type": "markdown",
   "metadata": {},
   "source": [
    "Ageing break time \n",
    "\n",
    "$\\nu_{break} =\\frac {1}{(B/{gauss})^3 (t/(years)^2}$\n",
    "\n",
    "$t/sec = 1.06 \\times 10^6 \\frac {1}{\\sqrt ({\\nu_{emitted} /Hz) {(B/tesla)} ^3}}$ "
   ]
  }
 ],
 "metadata": {
  "kernelspec": {
   "display_name": "Python 2",
   "language": "python",
   "name": "python2"
  },
  "language_info": {
   "codemirror_mode": {
    "name": "ipython",
    "version": 2
   },
   "file_extension": ".py",
   "mimetype": "text/x-python",
   "name": "python",
   "nbconvert_exporter": "python",
   "pygments_lexer": "ipython2",
   "version": "2.7.6"
  }
 },
 "nbformat": 4,
 "nbformat_minor": 1
}
