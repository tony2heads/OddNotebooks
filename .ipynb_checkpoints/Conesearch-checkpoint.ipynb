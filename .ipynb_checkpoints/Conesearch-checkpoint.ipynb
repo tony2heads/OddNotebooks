{
 "cells": [
  {
   "cell_type": "code",
   "execution_count": 74,
   "metadata": {},
   "outputs": [],
   "source": [
    "import pyvo as vo\n",
    "url = 'https://vo.astron.nl/tgssadr/q/cone/scs.xml'\n",
    "#t = vo.conesearch( url, pos = vo.object2pos( 'NGC 5939' ), radius = 30.0 )\n",
    "#print t.votable"
   ]
  },
  {
   "cell_type": "code",
   "execution_count": 75,
   "metadata": {},
   "outputs": [],
   "source": [
    "import astropy.vo as v"
   ]
  },
  {
   "cell_type": "code",
   "execution_count": 76,
   "metadata": {},
   "outputs": [],
   "source": [
    "#pos=\"03:42:05.4 -37:03:20.9\"\n",
    "pos=\"12:56:11.7 -05:47:21.52\""
   ]
  },
  {
   "cell_type": "code",
   "execution_count": 77,
   "metadata": {},
   "outputs": [
    {
     "name": "stdout",
     "output_type": "stream",
     "text": [
      "194.04875 -5.78931111111\n",
      "hms_tuple(h=12.0, m=56.0, s=11.70000000000556) dms_tuple(d=-5.0, m=-47.0, s=-21.519999999999868)\n"
     ]
    }
   ],
   "source": [
    "from astropy import units as u\n",
    "from astropy.coordinates import SkyCoord\n",
    "c=SkyCoord(pos,unit=(u.hourangle, u.deg),frame='icrs')\n",
    "r,d=c.ra.deg, c.dec.deg\n",
    "print r,d\n",
    "print c.ra.hms,c.dec.dms"
   ]
  },
  {
   "cell_type": "code",
   "execution_count": 118,
   "metadata": {},
   "outputs": [],
   "source": [
    "t = vo.conesearch( url, pos =(r,d),radius=0.5)"
   ]
  },
  {
   "cell_type": "code",
   "execution_count": 119,
   "metadata": {
    "scrolled": false
   },
   "outputs": [
    {
     "name": "stdout",
     "output_type": "stream",
     "text": [
      "    RA   \n",
      "   deg   \n",
      "---------\n",
      "193.86325\n",
      "193.69402\n",
      "193.76033\n",
      "194.11617\n",
      "194.42487\n",
      "194.41922\n",
      "194.16727\n",
      "194.04623\n",
      "194.50464\n",
      "194.53381   DEC   \n",
      "  deg   \n",
      "--------\n",
      "-6.25127\n",
      "-5.68851\n",
      "-5.49958\n",
      "-6.12026\n",
      " -6.0773\n",
      "-6.06569\n",
      "-5.91223\n",
      "-5.78905\n",
      "-5.97424\n",
      "-5.85419   Spk   \n",
      "mJy/beam\n",
      "--------\n",
      "   128.6\n",
      "    30.2\n",
      "    60.6\n",
      "   237.9\n",
      "    52.7\n",
      "    40.1\n",
      "   434.3\n",
      " 15979.2\n",
      "   158.9\n",
      "    26.2\n"
     ]
    }
   ],
   "source": [
    "x=t.to_table()\n",
    "#x.colnames\n",
    "print x.field('RA'),x.field('DEC'),x.field('Spk')"
   ]
  }
 ],
 "metadata": {
  "kernelspec": {
   "display_name": "Python 2",
   "language": "python",
   "name": "python2"
  },
  "language_info": {
   "codemirror_mode": {
    "name": "ipython",
    "version": 2
   },
   "file_extension": ".py",
   "mimetype": "text/x-python",
   "name": "python",
   "nbconvert_exporter": "python",
   "pygments_lexer": "ipython2",
   "version": "2.7.6"
  }
 },
 "nbformat": 4,
 "nbformat_minor": 2
}
