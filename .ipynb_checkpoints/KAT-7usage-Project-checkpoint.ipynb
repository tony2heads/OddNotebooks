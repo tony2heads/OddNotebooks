{
 "cells": [
  {
   "cell_type": "markdown",
   "metadata": {},
   "source": [
    "### Projects wanted\n",
    "1. GALFACTS 20140729RT-01 192hrs\n",
    "2. Galactic Centre 20140513DL-01 56hrs\n",
    "3. Intensity mapping  20130905MS-01 - reduction  needed\n",
    "4. Southern Starbursts 20150624TF-01  **Waiting for 7 ants**\n",
    "5. Polarization 20150217RT-01  72hrs\n",
    "6. Emission and aborption 20150827NG-01 40hrs  - **CANCELLED**\n",
    "7. GRB afterglows 20150821LR-01 waiting for GRB\n",
    "8. Cen A OH 20141014LR-01 96hrs **Needs 7 ants**\n",
    "9. Cen A HI 20150127CC-01 150hrs\n",
    "10. Mira (Yannick) 20140923YL-01 125hrs\n",
    "11. Brenda 20141202BN-01 256hrs\n",
    "12. Amidou 20140624CC-01 360hrs\n",
    "13. Yannick 20150825YL-01 150hrs\n",
    "\n"
   ]
  },
  {
   "cell_type": "code",
   "execution_count": 30,
   "metadata": {
    "collapsed": true
   },
   "outputs": [],
   "source": [
    "%matplotlib inline\n",
    "import numpy as np"
   ]
  },
  {
   "cell_type": "code",
   "execution_count": 31,
   "metadata": {
    "collapsed": true
   },
   "outputs": [],
   "source": [
    "import matplotlib.pyplot as plt"
   ]
  },
  {
   "cell_type": "code",
   "execution_count": 32,
   "metadata": {
    "collapsed": false
   },
   "outputs": [],
   "source": [
    "import katarchive\n",
    "import datetime\n",
    "\n",
    "import logging\n",
    "logging.root.setLevel(logging.ERROR)\n"
   ]
  },
  {
   "cell_type": "code",
   "execution_count": 33,
   "metadata": {
    "collapsed": false
   },
   "outputs": [],
   "source": [
    "def findproj(text):\n",
    "    chx=text.find('--pro')  # matches 'project-id and proposal-id'\n",
    "    if chx >0  :\n",
    "        pr2=text[chx+13:chx+40].split()\n",
    "        code=pr2[0]\n",
    "        found=code.replace(\"=\",\"\")\n",
    "    else:\n",
    "        found='Unknown'\n",
    "    return found\n"
   ]
  },
  {
   "cell_type": "code",
   "execution_count": 34,
   "metadata": {
    "collapsed": true
   },
   "outputs": [],
   "source": [
    "def findh5(det):   # uses detail list to get h5 name\n",
    "    pos=det.find(\"Name:\")\n",
    "    if pos >0  :\n",
    "        pr2=det[pos+37:pos+53].split()\n",
    "        h5name=pr2[0].lstrip(\"/ng\")\n",
    "    return h5name"
   ]
  },
  {
   "cell_type": "code",
   "execution_count": 35,
   "metadata": {
    "collapsed": false
   },
   "outputs": [
    {
     "name": "stdout",
     "output_type": "stream",
     "text": [
      "2016-12-02 17:51:48.845121\n"
     ]
    }
   ],
   "source": [
    "begindate='01/05/2014'\n",
    "\n",
    "today=datetime.datetime.today()\n",
    "print today\n",
    "end=today.strftime(format=\"%d/%m/%Y\")"
   ]
  },
  {
   "cell_type": "code",
   "execution_count": 36,
   "metadata": {
    "collapsed": false
   },
   "outputs": [],
   "source": [
    "#print katarchive.search_archive(startdate=begindate,enddate=end)\n"
   ]
  },
  {
   "cell_type": "code",
   "execution_count": 37,
   "metadata": {
    "collapsed": false
   },
   "outputs": [
    {
     "name": "stdout",
     "output_type": "stream",
     "text": [
      "Searched using: CAS.ProductTypeName:(KatFile OR RTSTelescopeProduct OR MeerKATAR1TelescopeProduct) AND CAS.ProductTransferStatus:RECEIVED AND StartTime:[2014-04-30T22:00:00Z TO 2016-12-02T21:59:59Z]\n",
      "Returning 10000 results\n"
     ]
    }
   ],
   "source": [
    "f = katarchive.search_archive(startdate=begindate)\n",
    "start = datetime.datetime.strptime(f[-1].__str__().split('\\'')[3],'%Y-%m-%d %H:%M:%S %Z')\n",
    "end = datetime.datetime.strptime(f[0].__str__().split('\\'')[3],'%Y-%m-%d %H:%M:%S %Z')"
   ]
  },
  {
   "cell_type": "code",
   "execution_count": 38,
   "metadata": {
    "collapsed": true
   },
   "outputs": [],
   "source": [
    "def observed(f,projectname,minhrs):\n",
    "    total=0.0\n",
    "    for fi in f:\n",
    "        txts=fi.metadata.InstructionSet\n",
    "        p=findproj(txts)\n",
    "        #print p\n",
    "        if  projectname in p:  \n",
    "            #print \"Found\",p,\"=======================\"\n",
    "            total=total+fi.metadata.Duration\n",
    "            nrants=len(fi.metadata.Antennas)\n",
    "            h5nam=findh5(fi.metadata.Details)\n",
    "            print(\"%s %4.1fhrs %dAnts %s %s %s\")\\\n",
    "             %(p,fi.metadata.Duration/3600. ,nrants,fi.metadata.StartTime[0:10],h5nam,fi.metadata.Description),\n",
    "                                  \n",
    "                                \n",
    "            if(fi.metadata.Duration < minhrs*3600):\n",
    "                print \"Too Short\"\n",
    "            else:\n",
    "                print ''\n",
    "    print \"Total\",total/3600., \"Hours\"\n",
    "    return total/3600."
   ]
  },
  {
   "cell_type": "code",
   "execution_count": 39,
   "metadata": {
    "collapsed": false
   },
   "outputs": [
    {
     "name": "stdout",
     "output_type": "stream",
     "text": [
      "First file in run:  2015-07-25T03:49:16\n",
      "Last file in run:  2016-12-02T16:46:52\n"
     ]
    }
   ],
   "source": [
    "print 'First file in run: ' , start.isoformat()\n",
    "print 'Last file in run: ' , end.isoformat()"
   ]
  },
  {
   "cell_type": "markdown",
   "metadata": {},
   "source": [
    "# GALFACTS 20140729RT-01\n"
   ]
  },
  {
   "cell_type": "code",
   "execution_count": 40,
   "metadata": {
    "collapsed": true
   },
   "outputs": [],
   "source": [
    "#Galfacts\n",
    "begindate=\"01/01/2014\"\n",
    "projectname=\"20140729RT-01\" \n",
    "req=192\n",
    "minhrs=6"
   ]
  },
  {
   "cell_type": "code",
   "execution_count": 41,
   "metadata": {
    "collapsed": false
   },
   "outputs": [
    {
     "name": "stdout",
     "output_type": "stream",
     "text": [
      "20140729RT-01  0.3hrs 6Ants 2016-07-27 1469640308.h5 N4_Observe_2_1822Mhz Too Short\n",
      "20140729RT-01  0.3hrs 6Ants 2016-05-17 1463436668.h5 N4_Observe_2_1822Mhz Too Short\n",
      "20140729RT-01  0.3hrs 6Ants 2016-05-15 1463264347.h5 N4_Observe_2 Too Short\n",
      "20140729RT-01  0.3hrs 6Ants 2016-05-14 1463178185.h5 N4_Observe_2_1822Mhz Too Short\n",
      "20140729RT-01  6.1hrs 6Ants 2016-05-06 1462568407.h5 S2_Observe_2 \n",
      "20140729RT-01  6.1hrs 6Ants 2016-05-05 1462482370.h5 S2_Observe_2_1822Mhz \n",
      "20140729RT-01  6.0hrs 5Ants 2016-03-28 1459196058.h5 N3_Observe_2_1822Mhz Too Short\n",
      "20140729RT-01  6.1hrs 6Ants 2016-03-28 1459125195.h5 S2_Observe_2 \n",
      "20140729RT-01  6.0hrs 6Ants 2016-03-27 1459039116.h5 S2_Observe_2 \n",
      "20140729RT-01  6.2hrs 6Ants 2016-03-25 1458934209.h5 N3_Observe_2_1822Mhz \n",
      "20140729RT-01  6.0hrs 6Ants 2016-03-24 1458845520.h5 N3_Observe_2 \n",
      "20140729RT-01  5.6hrs 6Ants 2016-03-23 1458766687.h5  AutoAttenuation for 167ob96417942  Too Short\n",
      "20140729RT-01  6.0hrs 6Ants 2016-03-18 1458328565.h5 N3_Observe_1_1822Mhz \n",
      "20140729RT-01  0.3hrs 5Ants 2016-03-15 1458057244.h5 S2_Observe_2_1822Mhz Too Short\n",
      "20140729RT-01  6.9hrs 4Ants 2016-03-08 1457469217.h5 N3_Observe_2_1822Mhz \n",
      "20140729RT-01  6.9hrs 4Ants 2016-03-07 1457378372.h5 N3_Observe_1_1822Mhz \n",
      "20140729RT-01  0.3hrs 4Ants 2016-02-23 1456254404.h5 N3_Observe_1_1822Mhz Too Short\n",
      "20140729RT-01  0.3hrs 4Ants 2016-02-18 1455804845.h5 N3_Observe_1_1822Mhz Too Short\n",
      "20140729RT-01  0.3hrs 3Ants 2016-02-17 1455732443.h5 N3_Observe_1_1822Mhz Too Short\n",
      "20140729RT-01  0.3hrs 3Ants 2016-02-17 1455729906.h5 N3_Observe_1_1822Mhz Too Short\n",
      "20140729RT-01  6.5hrs 6Ants 2015-07-25 1437842557.h5 N4_Observe_1_1822Mhz \n",
      "Total 76.8732722222 Hours\n"
     ]
    }
   ],
   "source": [
    "total=observed(f,projectname,minhrs)"
   ]
  },
  {
   "cell_type": "code",
   "execution_count": 42,
   "metadata": {
    "collapsed": false
   },
   "outputs": [
    {
     "name": "stdout",
     "output_type": "stream",
     "text": [
      "115.126727778\n"
     ]
    }
   ],
   "source": [
    "print req-total"
   ]
  },
  {
   "cell_type": "code",
   "execution_count": null,
   "metadata": {
    "collapsed": true
   },
   "outputs": [],
   "source": []
  },
  {
   "cell_type": "markdown",
   "metadata": {},
   "source": [
    "# N4_Observe_2_ **has an error**"
   ]
  },
  {
   "cell_type": "markdown",
   "metadata": {},
   "source": [
    "Only select observations that are longer than 1 hrs then extract the project id from the script parameters. If there is no project id then allocated No_project_id "
   ]
  },
  {
   "cell_type": "markdown",
   "metadata": {},
   "source": [
    "# GC 20140513DL-01"
   ]
  },
  {
   "cell_type": "code",
   "execution_count": 43,
   "metadata": {
    "collapsed": false
   },
   "outputs": [
    {
     "name": "stdout",
     "output_type": "stream",
     "text": [
      "135\n"
     ]
    }
   ],
   "source": [
    "# Galactic centre\n",
    "projectname=\"20140513DL-01\"\n",
    "req=15*9\n",
    "print req\n",
    "minhrs=9"
   ]
  },
  {
   "cell_type": "code",
   "execution_count": 44,
   "metadata": {
    "collapsed": false
   },
   "outputs": [
    {
     "name": "stdout",
     "output_type": "stream",
     "text": [
      "20140513DL-01  9.2hrs 6Ants 2016-05-10 1462907827.h5 GC Night 15 \n",
      "20140513DL-01  9.1hrs 6Ants 2016-05-09 1462821692.h5 GC Night 14 \n",
      "20140513DL-01  9.1hrs 6Ants 2016-05-08 1462735748.h5 GC Night 12 \n",
      "20140513DL-01  9.1hrs 6Ants 2016-05-07 1462649449.h5 GC Night 10 \n",
      "Total 36.5074472222 Hours\n"
     ]
    }
   ],
   "source": [
    "total=observed(f,projectname,minhrs)\n"
   ]
  },
  {
   "cell_type": "code",
   "execution_count": 45,
   "metadata": {
    "collapsed": false
   },
   "outputs": [
    {
     "name": "stdout",
     "output_type": "stream",
     "text": [
      "98.4925527778\n"
     ]
    }
   ],
   "source": [
    "print req-total"
   ]
  },
  {
   "cell_type": "markdown",
   "metadata": {},
   "source": [
    "# Polarization NGC1808 and NGC1097  20150217RT-01 "
   ]
  },
  {
   "cell_type": "code",
   "execution_count": 46,
   "metadata": {
    "collapsed": true
   },
   "outputs": [],
   "source": [
    "# Polarization of galaxies\n",
    "projectname=\"20150217RT-01\"\n",
    "req=72\n",
    "minhrs=6 # minimum duration"
   ]
  },
  {
   "cell_type": "code",
   "execution_count": 47,
   "metadata": {
    "collapsed": false
   },
   "outputs": [
    {
     "name": "stdout",
     "output_type": "stream",
     "text": [
      "20150217RT-01  6.1hrs 6Ants 2016-07-31 1469926807.h5 NGC_1808 - 1350MHz \n",
      "20150217RT-01  6.0hrs 6Ants 2016-07-30 1469840871.h5 NGC_1808 - 1600MHz \n",
      "20150217RT-01  6.1hrs 6Ants 2016-07-29 1469754428.h5 NGC_1808 - 1850MHz \n",
      "20150217RT-01  6.1hrs 6Ants 2016-05-15 1463292125.h5 NGC_1808 - 1850MHz \n",
      "20150217RT-01  0.1hrs 6Ants 2016-03-21 1458588610.h5 NGC_1097 - 1350MHz Too Short\n",
      "20150217RT-01  6.1hrs 6Ants 2016-03-20 1458475752.h5 NGC_1097 - 1600MHz \n",
      "20150217RT-01  6.9hrs 5Ants 2016-03-17 1458202149.h5 NGC_1097 - 1850MHz \n",
      "20150217RT-01  2.5hrs 4Ants 2016-02-18 1455791693.h5 NGC_1097 - 1350MHz Too Short\n",
      "Total 39.90055 Hours\n"
     ]
    }
   ],
   "source": [
    "total=observed(f,projectname,minhrs)\n"
   ]
  },
  {
   "cell_type": "code",
   "execution_count": 48,
   "metadata": {
    "collapsed": false
   },
   "outputs": [
    {
     "name": "stdout",
     "output_type": "stream",
     "text": [
      "32.09945\n"
     ]
    }
   ],
   "source": [
    "print req-total"
   ]
  },
  {
   "cell_type": "code",
   "execution_count": 49,
   "metadata": {
    "collapsed": false
   },
   "outputs": [],
   "source": [
    "#Reticulum Laura Richter\n",
    "projectname=\"20150825LR-01\"\n",
    "req=0\n",
    "minhrs=8"
   ]
  },
  {
   "cell_type": "code",
   "execution_count": 50,
   "metadata": {
    "collapsed": false
   },
   "outputs": [
    {
     "name": "stdout",
     "output_type": "stream",
     "text": [
      "20150825LR-01  7.2hrs 5Ants 2016-11-02 1478039998.h5 reticulum2 Too Short\n",
      "20150825LR-01  5.5hrs 5Ants 2016-11-01 1477959990.h5 reticulum2 Too Short\n",
      "20150825LR-01  6.8hrs 5Ants 2016-10-26 1477438206.h5 reticulum2 Too Short\n",
      "20150825LR-01  2.3hrs 4Ants 2016-10-24 1477282103.h5 reticulum2 Too Short\n",
      "20150825LR-01  7.6hrs 4Ants 2016-10-22 1477090922.h5 reticulum2 Too Short\n",
      "20150825LR-01  7.4hrs 5Ants 2016-10-21 1477005472.h5 reticulum2 Too Short\n",
      "20150825LR-01  7.7hrs 5Ants 2016-10-16 1476573293.h5 reticulum2 Too Short\n",
      "20150825LR-01  7.8hrs 5Ants 2016-10-15 1476487009.h5 reticulum2 Too Short\n",
      "20150825LR-01  9.0hrs 5Ants 2016-08-16 1471312568.h5 reticulum2 \n",
      "20150825LR-01  9.0hrs 5Ants 2016-08-12 1470967927.h5 reticulum2 \n",
      "20150825LR-01  9.0hrs 5Ants 2016-08-11 1470881766.h5 reticulum2 \n",
      "20150825LR-01  9.0hrs 5Ants 2016-08-09 1470709450.h5 reticulum2 \n",
      "20150825LR-01  9.0hrs 5Ants 2016-08-08 1470623288.h5 reticulum2 \n",
      "20150825LR-01  8.5hrs 5Ants 2016-08-07 1470539042.h5 reticulum2 \n",
      "20150825LR-01  9.0hrs 5Ants 2016-08-06 1470450906.h5 reticulum2 \n",
      "20150825LR-01  5.1hrs 5Ants 2016-08-05 1470379090.h5 reticulum2 Too Short\n",
      "20150825LR-01  2.6hrs 6Ants 2016-05-08 1462696085.h5 reticulum2 Too Short\n",
      "20150825LR-01  0.1hrs 6Ants 2016-05-07 1462609927.h5 reticulum2 Too Short\n",
      "20150825LR-01  8.9hrs 5Ants 2016-03-28 1459163772.h5 reticulum2 \n",
      "20150825LR-01  9.1hrs 6Ants 2016-03-27 1459077190.h5 reticulum2 \n",
      "20150825LR-01  6.3hrs 6Ants 2016-03-26 1459000994.h5 reticulum2 Too Short\n",
      "20150825LR-01  0.4hrs 6Ants 2016-03-25 1458907128.h5 reticulum2 Too Short\n",
      "20150825LR-01  0.4hrs 6Ants 2016-03-25 1458904870.h5 reticulum2 Too Short\n",
      "20150825LR-01  4.7hrs 5Ants 2016-03-15 1458058897.h5 reticulum2 Too Short\n",
      "20150825LR-01  2.1hrs 4Ants 2016-03-03 1457027106.h5 reticulum2 Too Short\n",
      "20150825LR-01  8.5hrs 4Ants 2016-02-24 1456321643.h5 reticulum2 \n",
      "20150825LR-01  2.7hrs 3Ants 2016-02-11 1455201694.h5 reticulum2 Too Short\n",
      "20150825LR-01 11.0hrs 4Ants 2015-08-31 1440975609.h5 reticulum2 \n",
      "Total 176.639780556 Hours\n"
     ]
    }
   ],
   "source": [
    "total=observed(f,projectname,minhrs)\n"
   ]
  },
  {
   "cell_type": "code",
   "execution_count": 51,
   "metadata": {
    "collapsed": true
   },
   "outputs": [],
   "source": [
    "#Cen A HI Claude Carignan\n",
    "projectname=\"20150127CC-01\"\n",
    "req=150\n",
    "minhrs=8."
   ]
  },
  {
   "cell_type": "code",
   "execution_count": 52,
   "metadata": {
    "collapsed": false
   },
   "outputs": [
    {
     "name": "stdout",
     "output_type": "stream",
     "text": [
      "20150127CC-01  8.0hrs 6Ants 2016-05-24 1464103392.h5  CenA \n",
      "20150127CC-01  8.0hrs 6Ants 2016-05-23 1464016216.h5  CenA \n",
      "20150127CC-01  8.0hrs 6Ants 2016-05-22 1463932868.h5  CenA \n",
      "20150127CC-01  8.0hrs 6Ants 2016-05-21 1463846772.h5  CenA \n",
      "20150127CC-01  8.0hrs 6Ants 2016-05-20 1463760800.h5  CenA \n",
      "20150127CC-01  8.0hrs 6Ants 2016-05-19 1463669069.h5  CenA \n",
      "20150127CC-01  8.0hrs 6Ants 2016-05-18 1463582269.h5  CenA \n",
      "Total 56.2164166667 Hours\n"
     ]
    }
   ],
   "source": [
    "total=observed(f,projectname,minhrs)"
   ]
  },
  {
   "cell_type": "code",
   "execution_count": 53,
   "metadata": {
    "collapsed": false
   },
   "outputs": [
    {
     "name": "stdout",
     "output_type": "stream",
     "text": [
      "Searched using: CAS.ProductTypeName:(KatFile OR RTSTelescopeProduct OR MeerKATAR1TelescopeProduct) AND CAS.ProductTransferStatus:RECEIVED AND Targets:R210\n",
      "Returning 3 results\n",
      "4.0 hrs 6 ants 2016-07-28 Pointing1\n",
      "8.3 hrs 6 ants 2016-05-17 Pointing2\n",
      "4.5 hrs 6 ants 2016-05-16 HI Galaxy Clusters : RR 210 mosaic\n"
     ]
    }
   ],
   "source": [
    "#20150825YL-01 Yannick\n",
    "req=150\n",
    "minhrs=4\n",
    "sc=katarchive.search_archive(target=\"R210\")\n",
    "for s in sc:\n",
    "    print round(s.metadata.Duration/3600. , 1), \"hrs\", len(s.metadata.Antennas),\"ants\", \\\n",
    "     s.metadata.StartTime[:10] ,s.metadata.Description"
   ]
  },
  {
   "cell_type": "code",
   "execution_count": 54,
   "metadata": {
    "collapsed": false,
    "scrolled": true
   },
   "outputs": [
    {
     "name": "stdout",
     "output_type": "stream",
     "text": [
      "20150825YL-01  4.5hrs 6Ants 2016-05-16 1463418846.h5 HI Galaxy Clusters : RR 210 mosaic \n",
      "Total 4.47652777778 Hours\n",
      "20160516YL-01  4.0hrs 6Ants 2016-07-28 1469697292.h5 Pointing1 \n",
      "20160516YL-01  8.3hrs 6Ants 2016-05-17 1463500810.h5 Pointing2 \n",
      "Total 12.3820055556 Hours\n"
     ]
    }
   ],
   "source": [
    "projectname=\"20150825YL-01\"\n",
    "total=observed(f,projectname,minhrs)\n",
    "projectname=\"20160516YL-01\"\n",
    "total=observed(f,projectname,minhrs)"
   ]
  },
  {
   "cell_type": "code",
   "execution_count": 55,
   "metadata": {
    "collapsed": false
   },
   "outputs": [
    {
     "name": "stdout",
     "output_type": "stream",
     "text": [
      "20140923YL-01  7.4hrs 6Ants 2016-12-01 1480607254.h5 Mira \n",
      "Total 7.37500277778 Hours\n"
     ]
    }
   ],
   "source": [
    "#20140923YL-01 Yannick (Mira)\n",
    "projectname=\"20140923YL-01\"\n",
    "req=125 #uh?\n",
    "minhrs=4\n",
    "total=observed(f,projectname,minhrs)"
   ]
  },
  {
   "cell_type": "code",
   "execution_count": 56,
   "metadata": {
    "collapsed": false
   },
   "outputs": [
    {
     "name": "stdout",
     "output_type": "stream",
     "text": [
      "20141202BN-01  4.0hrs 6Ants 2016-10-09 1476049808.h5 IC1613 \n",
      "20141202BN-01  4.0hrs 6Ants 2016-10-09 1476035038.h5 SagDIG \n",
      "20141202BN-01 10.0hrs 6Ants 2016-10-08 1475944625.h5 WLM \n",
      "20141202BN-01  4.9hrs 6Ants 2016-10-08 1475879317.h5 IC1613 \n",
      "20141202BN-01  4.0hrs 6Ants 2016-10-07 1475864686.h5 SagDIG \n",
      "20141202BN-01  9.0hrs 5Ants 2016-08-02 1470157809.h5 SagDIG \n",
      "Total 35.9021861111 Hours\n"
     ]
    }
   ],
   "source": [
    "#Brenda's\n",
    "#20141202BN-01 256hrs\n",
    "projectname=\"20141202BN-01\"\n",
    "req=256\n",
    "minhrs=4\n",
    "total=observed(f,projectname,minhrs)"
   ]
  },
  {
   "cell_type": "code",
   "execution_count": 57,
   "metadata": {
    "collapsed": false
   },
   "outputs": [
    {
     "name": "stdout",
     "output_type": "stream",
     "text": [
      "20140624CC-01  6.1hrs 5Ants 2015-08-12 1439343163.h5 NGC2101_1 \n",
      "Total 6.08653333333 Hours\n"
     ]
    }
   ],
   "source": [
    "#Amidou's\n",
    "# 20140624CC-01\n",
    "projectname=\"20140624CC-01\"\n",
    "req=360\n",
    "total=observed(f,projectname,minhrs)"
   ]
  },
  {
   "cell_type": "markdown",
   "metadata": {},
   "source": [
    "# OTHERS\n",
    "- Sco Cluster"
   ]
  },
  {
   "cell_type": "code",
   "execution_count": 58,
   "metadata": {
    "collapsed": false
   },
   "outputs": [
    {
     "name": "stdout",
     "output_type": "stream",
     "text": [
      "Searched using: CAS.ProductTypeName:(KatFile OR RTSTelescopeProduct OR MeerKATAR1TelescopeProduct) AND CAS.ProductTransferStatus:RECEIVED AND Targets:sco\n",
      "Returning 14 results\n",
      "6.0 hrs 5 ants 2016-04-04 Sco_Cluster\n",
      "6.1 hrs 7 ants 2015-06-06 Sco_Cluster_1328\n",
      "6.0 hrs 7 ants 2015-05-13 Sco_Cluster\n",
      "2.5 hrs 7 ants 2015-05-13 Sco_Cluster\n",
      "6.0 hrs 6 ants 2015-03-26 Sco_Cluster\n",
      "6.1 hrs 7 ants 2015-03-25 Sco_Cluster\n",
      "5.0 hrs 6 ants 2015-03-14 Sco_Cluster_1328\n",
      "5.0 hrs 6 ants 2015-03-12 Sco_Cluster\n",
      "2.0 hrs 6 ants 2015-01-25 Sco_Cluster\n",
      "1.9 hrs 6 ants 2015-01-24 Scorpius Cluster mosaic\n",
      "6.1 hrs 6 ants 2014-12-07 Sco_Cluster_1328\n",
      "6.1 hrs 7 ants 2014-11-21 Sco_Cluster\n",
      "5.5 hrs 7 ants 2014-11-19 Scorpius Cluster mosaic\n",
      "5.0 hrs 7 ants 2014-11-18 Scorpius Cluster mosaic\n"
     ]
    }
   ],
   "source": [
    "sc=katarchive.search_archive(target=\"sco\")\n",
    "for s in sc:\n",
    "    print round(s.metadata.Duration/3600. , 1), \"hrs\", len(s.metadata.Antennas),\"ants\", \\\n",
    "     s.metadata.StartTime[:10] ,s.metadata.Description\n"
   ]
  }
 ],
 "metadata": {
  "kernelspec": {
   "display_name": "Python 2",
   "language": "python",
   "name": "python2"
  },
  "language_info": {
   "codemirror_mode": {
    "name": "ipython",
    "version": 2
   },
   "file_extension": ".py",
   "mimetype": "text/x-python",
   "name": "python",
   "nbconvert_exporter": "python",
   "pygments_lexer": "ipython2",
   "version": "2.7.6"
  }
 },
 "nbformat": 4,
 "nbformat_minor": 0
}
