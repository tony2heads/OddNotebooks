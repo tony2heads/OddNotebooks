{
 "cells": [
  {
   "cell_type": "code",
   "execution_count": 74,
   "metadata": {
    "collapsed": true
   },
   "outputs": [],
   "source": [
    "# %load /home/tony/Desktop/SouthAfrica/SourceLists/FindCal.py\n",
    "#!/usr/bin/env python\n",
    "\n",
    "# # Search for calibrators\n",
    "# ## Needs\n",
    "# * CSV file with calibrators\n",
    "# * Source to match with\n",
    "# * math, ephem, operator\n",
    "\n",
    "# In[87]:\n",
    "\n",
    "import ephem\n",
    "import math\n",
    "import operator\n",
    "\n",
    "# Setup KAT site\n",
    "kat = ephem.Observer()\n",
    "kat.lat = '-30.71317'\n",
    "kat.long = '21.44389'\n",
    "kat.elevation = 1038\n",
    "kat.temp=25\n",
    "kat.pressure=890\n",
    "kat.horizon=\"20:00:00\"\n",
    "kat.date = ephem.now()\n",
    "\n"
   ]
  },
  {
   "cell_type": "code",
   "execution_count": 75,
   "metadata": {},
   "outputs": [],
   "source": [
    "testsource=ephem.FixedBody()\n",
    "\n",
    "#J1143-0144   11h43m29.600s -01d44'03.00\"\n",
    "testsource.name=\"J2357-32\"\n",
    "\n",
    "testsource._ra =\"23:57:49.83\"\n",
    "testsource._dec=\"-32:35:27.7\"\n",
    "testsource.compute(kat)\n",
    "# Get sources\n"
   ]
  },
  {
   "cell_type": "markdown",
   "metadata": {},
   "source": [
    "# AR1 version\n",
    "\n",
    "Update the file when needed"
   ]
  },
  {
   "cell_type": "code",
   "execution_count": 76,
   "metadata": {
    "collapsed": true
   },
   "outputs": [],
   "source": [
    "filename='/home/tony/Desktop/SouthAfrica/SourceLists/cals_Lband.csv' # standard layout\n",
    "sources=open(filename)\n",
    "slist=[]\n",
    "for s in sources:\n",
    "    #print s\n",
    "    slist.append(s)\n"
   ]
  },
  {
   "cell_type": "code",
   "execution_count": 77,
   "metadata": {
    "collapsed": true
   },
   "outputs": [],
   "source": [
    "seps=[]\n",
    "names=[]\n",
    "for cal in slist:\n",
    "    parts=cal.split(',')\n",
    "    #print parts[0:1]\n",
    "    if parts[0][0] != \"#\":\n",
    "        #print parts[0],parts[2],parts[3]\n",
    "        calp=ephem.FixedBody()\n",
    "        calp.name=parts[0]\n",
    "        calp._ra=parts[2]   # J2000 position\n",
    "        calp._dec=parts[3]  #J2000 position\n",
    "        calp.compute(kat) \n",
    "        #print calp.name, ephem.separation(calp,testsource)\n",
    "        names.append(calp.name)\n",
    "        seps.append(math.degrees(ephem.separation(calp,testsource)))\n",
    "\n"
   ]
  },
  {
   "cell_type": "code",
   "execution_count": 78,
   "metadata": {},
   "outputs": [
    {
     "name": "stdout",
     "output_type": "stream",
     "text": [
      "J2357-32 23:57:49.83 -32:35:27.7\n",
      "Calibrator Sep/deg\n",
      "J234146-350622 | 2339-353    4.2\n",
      "J002549-260212 | 0023-263    8.9\n",
      "J001053-415311 | 0008-421    9.6\n",
      "J002442-420203 | 0022-423   10.8\n",
      "J230224-371807 | 2259-375   12.3\n",
      "J231409-445549 | 2311-452   15.0\n",
      "J232917-473019 | 2326-477   15.9\n",
      "J234802-163112 | 2345-167   16.2\n",
      "J222946-382359 | 2226-386   18.8\n",
      "J235753-531115 | 2355-534   20.6\n",
      "J235731-112538 | 2354-117   21.2\n",
      "J221439-383545 | 2211-388   21.7\n",
      "J015537-404842 | 0153-410   24.9\n",
      "J224618-120652 | 2243-123   26.2\n",
      "J020340-434950 | 0201-440   26.9\n",
      "J215203-282829 | 2149-287   27.3\n",
      "J220610-183539 | 2203-188   28.7\n",
      "J021046-510102 | 0208-512   30.5\n",
      "J215806-150109 | 2155-152   32.4\n",
      "J002225+001456 | 0019-000   33.4\n",
      "J213101-203656 | 2128-208   34.7\n",
      "J222547-045701 | 3C446      35.0\n",
      "J005905+000651 | 0056-001   35.8\n",
      "J024008-230916 | 0237-233   36.9\n",
      "J205218-364031 | 2049-368   38.0\n",
      "J010838+013458 | 0106+013   38.1\n",
      "J213135-120706 | 2128-123   39.2\n",
      "J030350-621125 | 0302-623   41.7\n",
      "J221238+015251 | 2210+016   42.5\n",
      "J025246-710436 | 0252-712   45.0\n",
      "J213410-015317 | 2131-021   45.6\n",
      "J213638+004154 | 2134+004   47.1\n",
      "J223236+114350 | CTA102     48.8\n",
      "J040820-654508 | 0408-658   49.4\n",
      "J193925-634243 | 1934-638   50.0\n",
      "J214805+065739 | 2145+067   50.2\n",
      "J042056-622337 | 0420-625   50.4\n",
      "J225357+160853 | 3C454.3    51.1\n",
      "J213033+050217 | 2128+048   51.4\n",
      "J195123-273720 | 1948-277   52.8\n",
      "J185958-661503 | 1854-663   54.3\n",
      "J044017-433309 | 0438-436   55.0\n",
      "J200756-101638 | 2005-104   57.2\n",
      "J192451-291431 | OV-236     57.6\n",
      "J040906-175709 | 0406-180   57.9\n",
      "J201114-064404 | 2008-068   58.5\n",
      "J225409+244523 | 2251+244   59.3\n",
      "J040533-130814 | 0403-132   59.4\n",
      "J161933-841819 | 1607-841   59.9\n",
      "J192332-210433 | 1920-211   61.3\n",
      "J032320+053411 | 0320+053   61.9\n",
      "J023839+163659 | 0235+164   62.5\n",
      "J045314-280736 | 0451-282   62.6\n",
      "J044737-220337 | 0445-221   64.0\n",
      "J223622+282857 | 2234+282   64.1\n",
      "J191109-200655 | 1908-201   64.3\n",
      "J053850-440510 | 0537-441   64.9\n",
      "J183058-360230 | 1827-360   65.5\n",
      "J174425-514443 | 1740-517   66.9\n",
      "J172649-552938 | 1722-554   67.7\n",
      "J031857+162833 | CTA21      68.7\n",
      "J042315-012032 | 0420-014   69.5\n",
      "J013741+330935 | 3C48       69.8\n",
      "J183339-210340 | 1830-210   71.6\n",
      "J090652-682939 | 0906-682   74.1\n",
      "J061636-345617 | 0614-349   75.4\n",
      "J032958+275615 | 0326+277   78.7\n",
      "J050321+020305 | 0500+019   79.7\n",
      "J040306+260002 | 0400+258   82.7\n",
      "J171257-280935 | 1709-281   83.7\n",
      "J060941-154240 | 0607-157   84.0\n",
      "J043104+203734 | 0428+205   84.2\n",
      "J082536-501028 | 0823-500   84.9\n",
      "J173302-130449 | NRAO530    88.1\n",
      "J052109+163822 | 3C138      91.5\n",
      "J142432-491350 | 1421-490   91.9\n",
      "J082805-373106 | 0826-373   94.6\n",
      "J053444+192721 | 0531+194   95.7\n",
      "J150135-391839 | 1458-391   96.4\n",
      "J142756-420618 | 1424-418   97.7\n",
      "J131830-462034 | 1315-460   99.0\n",
      "J073545-173548 | 0733-174   99.8\n",
      "J132304-445234 | 1320-446   100.1\n",
      "J073019-114112 | 0727-115   102.4\n",
      "J160502-173415 | 1602-174   102.5\n",
      "J063215+102202 | 0629+104   102.8\n",
      "J151741-242220 | ApLib      105.7\n",
      "J072550-005458 | 0723-008   107.9\n",
      "J073918+013705 | 0736+017   112.1\n",
      "J115421-350532 | 1151-348   112.3\n",
      "J151250-090600 | 1510-089   117.6\n",
      "J074533+101113 | 0742+103   118.1\n",
      "J114134-285052 | 1139-285   118.4\n",
      "J155035+052710 | 1548+056   119.6\n",
      "J124646-254748 | 1244-255   120.5\n",
      "J112009-250807 | 1117-248   121.6\n",
      "J131139-221641 | 3C283      122.4\n",
      "J105132-202347 | 1049-201   124.7\n",
      "J160913+264129 | CTD93      125.8\n",
      "J133739-125724 | 1334-127   128.6\n",
      "J121546-173146 | 1213-172   129.7\n",
      "J113007-144927 | 1127-145   132.1\n",
      "J113910-135042 | 1136-135   133.3\n",
      "J084205+183541 | 0839+187   134.1\n",
      "J144516+095836 | OQ172      135.3\n",
      "J123943-102328 | 1237-101   135.9\n",
      "J085448+200630 | OJ287      137.5\n",
      "J125611-054720 | 3C279      139.2\n",
      "J100800+074016 | 3C237      144.3\n",
      "J105829+013358 | 1055-018   146.0\n",
      "J115044-002354 | 1148-001   147.0\n",
      "J134733+121724 | 1345+125   147.7\n",
      "J133037+250911 | 3C287      158.4\n",
      "J112028+142055 | 1117+146   159.9\n",
      "J133108+303033 | 3C286      160.0\n"
     ]
    }
   ],
   "source": [
    "sps=dict(zip(names,seps)) #zipped distances\n",
    "\n",
    "x=sorted(sps.items(), key=operator.itemgetter(1)) # sorted list of distances\n",
    "print testsource.name, testsource.a_ra, testsource.a_dec\n",
    "print \"Calibrator Sep/deg\"\n",
    "for n,s in x:\n",
    "    print (\"%-27s %4.1f\") %(n,s)\n"
   ]
  },
  {
   "cell_type": "code",
   "execution_count": 79,
   "metadata": {},
   "outputs": [
    {
     "name": "stdout",
     "output_type": "stream",
     "text": [
      "Current position of J2357-32 : az= 103:39:09.0  el= 56:10:20.8\n"
     ]
    }
   ],
   "source": [
    "print \"Current position of\",testsource.name,\": az=\",testsource.az,\" el=\",testsource.alt"
   ]
  },
  {
   "cell_type": "code",
   "execution_count": 80,
   "metadata": {},
   "outputs": [
    {
     "name": "stdout",
     "output_type": "stream",
     "text": [
      "Rise     2018/1/24 08:39:41\n",
      "Transit  2018/1/24 14:17:32\n",
      "Set      2018/1/24 19:55:24\n"
     ]
    }
   ],
   "source": [
    "print \"Rise    \",testsource.rise_time\n",
    "print \"Transit \",testsource.transit_time\n",
    "print \"Set     \",testsource.set_time"
   ]
  },
  {
   "cell_type": "code",
   "execution_count": 81,
   "metadata": {},
   "outputs": [
    {
     "name": "stdout",
     "output_type": "stream",
     "text": [
      "Sun RA 20:26:03.35  Dec -19:12:33.2\n",
      "Distance to Sun   49.0 deg\n"
     ]
    }
   ],
   "source": [
    "sun=ephem.Sun()\n",
    "sun.compute(kat)\n",
    "print \"Sun RA\", sun.a_ra,\" Dec\",sun.a_dec\n",
    "sunsep= math.degrees(ephem.separation(sun,testsource))\n",
    "print (\"Distance to Sun %6.1f deg\") %(sunsep)"
   ]
  }
 ],
 "metadata": {
  "kernelspec": {
   "display_name": "Python 2",
   "language": "python",
   "name": "python2"
  },
  "language_info": {
   "codemirror_mode": {
    "name": "ipython",
    "version": 2
   },
   "file_extension": ".py",
   "mimetype": "text/x-python",
   "name": "python",
   "nbconvert_exporter": "python",
   "pygments_lexer": "ipython2",
   "version": "2.7.6"
  }
 },
 "nbformat": 4,
 "nbformat_minor": 1
}
