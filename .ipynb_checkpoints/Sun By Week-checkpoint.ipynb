{
 "cells": [
  {
   "cell_type": "code",
   "execution_count": 4,
   "metadata": {},
   "outputs": [],
   "source": [
    "import ephem"
   ]
  },
  {
   "cell_type": "code",
   "execution_count": 5,
   "metadata": {},
   "outputs": [
    {
     "name": "stdout",
     "output_type": "stream",
     "text": [
      "11:37:18.60 2:27:11.4\n"
     ]
    }
   ],
   "source": [
    "sol=ephem.Sun()\n",
    "sol.compute('2019/09/17')\n",
    "print sol.ra, sol.dec"
   ]
  },
  {
   "cell_type": "code",
   "execution_count": 6,
   "metadata": {},
   "outputs": [
    {
     "name": "stdout",
     "output_type": "stream",
     "text": [
      "43471.5\n"
     ]
    }
   ],
   "source": [
    "d=ephem.date('2019/01/01')\n",
    "print d+7\n",
    "d0=d+0.0"
   ]
  },
  {
   "cell_type": "code",
   "execution_count": 7,
   "metadata": {},
   "outputs": [
    {
     "name": "stdout",
     "output_type": "stream",
     "text": [
      "  Date\t\t  RA(J2000)  Dec(J2000)\n",
      "2019/01/01 \t18:44:37.59 -23:02:20.2\n",
      "2019/01/08 \t19:15:24.42 -22:18:16.0\n",
      "2019/01/15 \t19:45:46.44 -21:12:44.7\n",
      "2019/01/22 \t20:15:35.54 -19:47:18.6\n",
      "2019/01/29 \t20:44:47.55 -18:03:51.1\n",
      "2019/02/05 \t21:13:20.81 -16:04:28.5\n",
      "2019/02/12 \t21:41:14.52 -13:51:30.7\n",
      "2019/02/19 \t22:08:30.32 -11:27:22.9\n",
      "2019/02/26 \t22:35:12.83  -8:54:26.8\n",
      "2019/03/05 \t23:01:28.33  -6:14:56.7\n",
      "2019/03/12 \t23:27:22.33  -3:31:10.6\n",
      "2019/03/19 \t23:53:00.79  -0:45:24.6\n",
      "2019/03/26 \t 0:18:30.91   2:00:13.4\n",
      "2019/04/02 \t 0:44:00.74   4:43:46.5\n",
      "2019/04/09 \t 1:09:36.65   7:23:13.4\n",
      "2019/04/16 \t 1:35:24.06   9:56:30.7\n",
      "2019/04/23 \t 2:01:28.43  12:21:40.1\n",
      "2019/04/30 \t 2:27:55.51  14:36:54.2\n",
      "2019/05/07 \t 2:54:48.76  16:40:22.7\n",
      "2019/05/14 \t 3:22:09.23  18:30:14.4\n",
      "2019/05/21 \t 3:49:56.71  20:04:45.6\n",
      "2019/05/28 \t 4:18:10.65  21:22:30.4\n",
      "2019/06/04 \t 4:46:47.87  22:22:11.2\n",
      "2019/06/11 \t 5:15:42.20  23:02:43.6\n",
      "2019/06/18 \t 5:44:46.02  23:23:22.4\n",
      "2019/06/25 \t 6:13:52.54  23:23:50.2\n",
      "2019/07/02 \t 6:42:54.45  23:04:09.5\n",
      "2019/07/09 \t 7:11:43.41  22:24:45.6\n",
      "2019/07/16 \t 7:40:11.76  21:26:25.5\n",
      "2019/07/23 \t 8:08:15.09  20:10:16.3\n",
      "2019/07/30 \t 8:35:50.99  18:37:36.2\n",
      "2019/08/06 \t 9:02:57.66  16:49:56.9\n",
      "2019/08/13 \t 9:29:34.39  14:49:00.9\n",
      "2019/08/20 \t 9:55:43.68  12:36:33.7\n",
      "2019/08/27 \t10:21:30.02  10:14:18.5\n",
      "2019/09/03 \t10:46:58.00   7:44:03.2\n",
      "2019/09/10 \t11:12:12.11   5:07:43.1\n",
      "2019/09/17 \t11:37:18.60   2:27:11.4\n",
      "2019/09/24 \t12:02:25.16  -0:15:44.1\n",
      "2019/10/01 \t12:27:38.93  -2:59:11.0\n",
      "2019/10/08 \t12:53:05.95  -5:41:04.6\n",
      "2019/10/15 \t13:18:52.71  -8:19:18.3\n",
      "2019/10/22 \t13:45:06.58 -10:51:49.6\n",
      "2019/10/29 \t14:11:53.76 -13:16:30.0\n",
      "2019/11/05 \t14:39:18.05 -15:30:58.6\n",
      "2019/11/12 \t15:07:21.85 -17:32:52.1\n",
      "2019/11/19 \t15:36:07.12 -19:19:56.7\n",
      "2019/11/26 \t16:05:33.43 -20:50:04.4\n",
      "2019/12/03 \t16:35:36.40 -22:01:11.9\n",
      "2019/12/10 \t17:06:08.45 -22:51:32.7\n",
      "2019/12/17 \t17:37:01.23 -23:19:51.4\n",
      "2019/12/24 \t18:08:05.03 -23:25:22.9\n"
     ]
    }
   ],
   "source": [
    "print \"  Date\\t\\t  RA(J2000)  Dec(J2000)\"\n",
    "for wk in range(52):\n",
    "    day=d0+wk*7\n",
    "    sol.compute(day)\n",
    "    ymd=ephem.date(day).tuple()\n",
    "    print ('%04d/%02d/%02d \\t%11s %11s') %(ymd[0],ymd[1],ymd[2], sol.ra, sol.dec)"
   ]
  },
  {
   "cell_type": "code",
   "execution_count": 8,
   "metadata": {},
   "outputs": [
    {
     "name": "stdout",
     "output_type": "stream",
     "text": [
      "-14289.5\n"
     ]
    }
   ],
   "source": [
    "print d0-57754."
   ]
  },
  {
   "cell_type": "code",
   "execution_count": 9,
   "metadata": {},
   "outputs": [
    {
     "name": "stdout",
     "output_type": "stream",
     "text": [
      "-14289.5\n"
     ]
    }
   ],
   "source": [
    "print day -58111.\n"
   ]
  },
  {
   "cell_type": "markdown",
   "metadata": {},
   "source": [
    "# MJD\n",
    "modified julian day  = 'ephem.date' +15019.5"
   ]
  },
  {
   "cell_type": "code",
   "execution_count": 10,
   "metadata": {},
   "outputs": [
    {
     "data": {
      "text/plain": [
       "58111.0"
      ]
     },
     "execution_count": 10,
     "metadata": {},
     "output_type": "execute_result"
    }
   ],
   "source": [
    "ephem.julian_date('2017/12/24')-2400000.5"
   ]
  },
  {
   "cell_type": "code",
   "execution_count": 11,
   "metadata": {},
   "outputs": [
    {
     "data": {
      "text/plain": [
       "0.5"
      ]
     },
     "execution_count": 11,
     "metadata": {},
     "output_type": "execute_result"
    }
   ],
   "source": [
    "ephem.Date('1900/1/1')"
   ]
  }
 ],
 "metadata": {
  "kernelspec": {
   "display_name": "Python 2",
   "language": "python",
   "name": "python2"
  },
  "language_info": {
   "codemirror_mode": {
    "name": "ipython",
    "version": 2
   },
   "file_extension": ".py",
   "mimetype": "text/x-python",
   "name": "python",
   "nbconvert_exporter": "python",
   "pygments_lexer": "ipython2",
   "version": "2.7.15+"
  }
 },
 "nbformat": 4,
 "nbformat_minor": 2
}
