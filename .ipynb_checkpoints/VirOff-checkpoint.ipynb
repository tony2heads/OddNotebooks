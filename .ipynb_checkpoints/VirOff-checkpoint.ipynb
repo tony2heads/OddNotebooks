{
 "cells": [
  {
   "cell_type": "code",
   "execution_count": 1,
   "metadata": {
    "collapsed": false
   },
   "outputs": [
    {
     "ename": "TypeError",
     "evalue": "__init__() takes at least 3 arguments (3 given)",
     "output_type": "error",
     "traceback": [
      "\u001b[1;31m---------------------------------------------------------------------------\u001b[0m",
      "\u001b[1;31mTypeError\u001b[0m                                 Traceback (most recent call last)",
      "\u001b[1;32m<ipython-input-1-d55b97a2efea>\u001b[0m in \u001b[0;36m<module>\u001b[1;34m()\u001b[0m\n\u001b[0;32m      1\u001b[0m \u001b[1;32mimport\u001b[0m \u001b[0mastropy\u001b[0m\u001b[1;33m.\u001b[0m\u001b[0mcoordinates\u001b[0m \u001b[1;32mas\u001b[0m \u001b[0mcoords\u001b[0m\u001b[1;33m\u001b[0m\u001b[0m\n\u001b[1;32m----> 2\u001b[1;33m \u001b[0mc\u001b[0m\u001b[1;33m=\u001b[0m\u001b[0mcoords\u001b[0m\u001b[1;33m.\u001b[0m\u001b[0mICRS\u001b[0m\u001b[1;33m(\u001b[0m\u001b[1;34m\"00h42m44.3s +41d16m9s\"\u001b[0m\u001b[1;33m)\u001b[0m\u001b[1;33m\u001b[0m\u001b[0m\n\u001b[0m\u001b[0;32m      3\u001b[0m \u001b[1;32mprint\u001b[0m \u001b[0mc\u001b[0m\u001b[1;33m.\u001b[0m\u001b[0mra\u001b[0m\u001b[1;33m,\u001b[0m\u001b[0mc\u001b[0m\u001b[1;33m.\u001b[0m\u001b[0mdec\u001b[0m\u001b[1;33m,\u001b[0m \u001b[0mc\u001b[0m\u001b[1;33m.\u001b[0m\u001b[0mra\u001b[0m\u001b[1;33m.\u001b[0m\u001b[0mhms\u001b[0m\u001b[1;33m\u001b[0m\u001b[0m\n\u001b[0;32m      4\u001b[0m \u001b[1;32mprint\u001b[0m \u001b[0mc\u001b[0m\u001b[1;33m.\u001b[0m\u001b[0mgalactic\u001b[0m\u001b[1;33m.\u001b[0m\u001b[0ml\u001b[0m\u001b[1;33m,\u001b[0m \u001b[0mc\u001b[0m\u001b[1;33m.\u001b[0m\u001b[0mgalactic\u001b[0m\u001b[1;33m.\u001b[0m\u001b[0mb\u001b[0m\u001b[1;33m\u001b[0m\u001b[0m\n\u001b[0;32m      5\u001b[0m \u001b[0mm32\u001b[0m\u001b[1;33m=\u001b[0m\u001b[0mcoords\u001b[0m\u001b[1;33m.\u001b[0m\u001b[0mICRSCoordinates\u001b[0m\u001b[1;33m.\u001b[0m\u001b[0mfrom_name\u001b[0m\u001b[1;33m(\u001b[0m\u001b[1;34m\"M32\"\u001b[0m\u001b[1;33m)\u001b[0m \u001b[1;31m#simbad lookup\u001b[0m\u001b[1;33m\u001b[0m\u001b[0m\n",
      "\u001b[1;32m/usr/local/lib/python2.7/dist-packages/astropy/coordinates/baseframe.pyc\u001b[0m in \u001b[0;36m__init__\u001b[1;34m(self, *args, **kwargs)\u001b[0m\n\u001b[0;32m    571\u001b[0m                 \u001b[1;32melse\u001b[0m\u001b[1;33m:\u001b[0m\u001b[1;33m\u001b[0m\u001b[0m\n\u001b[0;32m    572\u001b[0m                     \u001b[0mrepresentation\u001b[0m \u001b[1;33m=\u001b[0m \u001b[0mself\u001b[0m\u001b[1;33m.\u001b[0m\u001b[0mrepresentation\u001b[0m\u001b[1;33m\u001b[0m\u001b[0m\n\u001b[1;32m--> 573\u001b[1;33m                 \u001b[0mrepresentation_data\u001b[0m \u001b[1;33m=\u001b[0m \u001b[0mrepresentation\u001b[0m\u001b[1;33m(\u001b[0m\u001b[0mcopy\u001b[0m\u001b[1;33m=\u001b[0m\u001b[0mcopy\u001b[0m\u001b[1;33m,\u001b[0m \u001b[1;33m**\u001b[0m\u001b[0mrepr_kwargs\u001b[0m\u001b[1;33m)\u001b[0m\u001b[1;33m\u001b[0m\u001b[0m\n\u001b[0m\u001b[0;32m    574\u001b[0m \u001b[1;33m\u001b[0m\u001b[0m\n\u001b[0;32m    575\u001b[0m         \u001b[1;32mif\u001b[0m \u001b[0mlen\u001b[0m\u001b[1;33m(\u001b[0m\u001b[0margs\u001b[0m\u001b[1;33m)\u001b[0m \u001b[1;33m>\u001b[0m \u001b[1;36m0\u001b[0m\u001b[1;33m:\u001b[0m\u001b[1;33m\u001b[0m\u001b[0m\n",
      "\u001b[1;31mTypeError\u001b[0m: __init__() takes at least 3 arguments (3 given)"
     ]
    }
   ],
   "source": [
    "from astropy.coordinates import SkyCoord \n",
    "c=coords.ICRS(\"00h42m44.3s +41d16m9s\")\n",
    "print c.ra,c.dec, c.ra.hms\n",
    "print c.galactic.l, c.galactic.b\n",
    "m32=coords.ICRSCoordinates.from_name(\"M32\") #simbad lookup\n",
    "print m32"
   ]
  },
  {
   "cell_type": "code",
   "execution_count": 47,
   "metadata": {
    "collapsed": false
   },
   "outputs": [
    {
     "name": "stdout",
     "output_type": "stream",
     "text": [
      "<ICRS RA=187.70593 deg, Dec=12.39112 deg>\n",
      "187d42m21.3507s 12d23m28.0439s (12.0, 30.0, 49.423380000010297)"
     ]
    }
   ],
   "source": [
    "VirA=coords.ICRSCoordinates.from_name(\"M87\")\n",
    "print VirA\n",
    "print VirA.ra,VirA.dec, VirA.ra.hms"
   ]
  },
  {
   "cell_type": "code",
   "execution_count": 48,
   "metadata": {
    "collapsed": false
   },
   "outputs": [
    {
     "name": "stdout",
     "output_type": "stream",
     "text": [
      "<FK4 RA=187.07320 deg, Dec=12.66713 deg>"
     ]
    }
   ],
   "source": [
    "print VirA.fk4"
   ]
  },
  {
   "cell_type": "code",
   "execution_count": 53,
   "metadata": {
    "collapsed": false
   },
   "outputs": [
    {
     "name": "stdout",
     "output_type": "stream",
     "text": [
      "<FK4 RA=182.07857 deg, Dec=12.66696 deg>\n",
      "(12.0, 10.0, 51.999999999999602) 12d23m20s"
     ]
    }
   ],
   "source": [
    "off1=coords.ICRS(\"12h10m52s 12d23m20.00s\")\n",
    "# aiming for 182.08 12.667 which was used at 21cm and 6cm\n",
    "print off1.fk4\n",
    "print off1.ra.hms, off1.dec"
   ]
  },
  {
   "cell_type": "code",
   "execution_count": 54,
   "metadata": {
    "collapsed": false
   },
   "outputs": [
    {
     "name": "stdout",
     "output_type": "stream",
     "text": [
      "<FK4 RA=192.08091 deg, Dec=12.66683 deg>\n",
      "(12.0, 50.0, 50.000000000003553) 12d23m42s"
     ]
    }
   ],
   "source": [
    "off2=coords.ICRS(\"12h50m50s 12d23m42.00s\")\n",
    "# aiming for 192.08 12.667 which was used at 21cm and 6cm\n",
    "print off2.fk4\n",
    "print off2.ra.hms, off2.dec"
   ]
  },
  {
   "cell_type": "code",
   "execution_count": 51,
   "metadata": {
    "collapsed": false
   },
   "outputs": [
    {
     "name": "stdout",
     "output_type": "stream",
     "text": [
      "(12.0, 50.0, 49.773465449384702) (12.0, 23.0, 42.398558958174419)\n",
      "(12.0, 10.0, 52.335379910786628) (12.0, 23.0, 19.919242377831097)"
     ]
    }
   ],
   "source": [
    "virp=coords.FK4(\"192.08d 12.667d\")\n",
    "print virp.fk5.ra.hms, virp.fk5.dec.dms\n",
    "virm=coords.FK4(\"182.08d 12.667d\")\n",
    "print virm.fk5.ra.hms, virm.fk5.dec.dms"
   ]
  },
  {
   "cell_type": "code",
   "execution_count": 66,
   "metadata": {
    "collapsed": false
   },
   "outputs": [
    {
     "name": "stdout",
     "output_type": "stream",
     "text": [
      "5:34:31.7442, 22:00:52.8834,\n",
      "4:46:33.2259, 19:38:21.7848,\n",
      "6:46:16.6461, 24:52:33.597,"
     ]
    }
   ],
   "source": [
    "\"\"\"\n",
    "Now for Taurus\n",
    "J0534+2200 | *Tau A | Taurus A | 3C 144 | Crab | PKS 0531+21, radec, 05:34:31.97,  +22:00:52.1,                      \n",
    "\"\"\"\n",
    "import re\n",
    "Tau=coords.FK4(\"82.88d   21.982d\")\n",
    "r=Tau.fk5.ra.hms\n",
    "d=Tau.fk5.dec.dms\n",
    "x=Tau.fk5.to_string()\n",
    "#print x\n",
    "\n",
    "pos=re.sub('[d-m]',':',x)\n",
    "TauOn=re.sub('s',',',pos)\n",
    "print TauOn\n",
    "#\n",
    "Tau1=coords.FK4(\"70.904d   19.55d\")\n",
    "x=Tau1.fk5.to_string()\n",
    "pos=re.sub('[d-m]',':',x)\n",
    "TauDown=re.sub('s',',',pos)\n",
    "print TauDown\n",
    "#\n",
    "Tau2=  coords.FK4(\"100.802d  24.93d\")\n",
    "x=Tau2.fk5.to_string()\n",
    "pos=re.sub('[d-m]',':',x)\n",
    "TauUp=re.sub('s',',',pos)\n",
    "print TauUp                          "
   ]
  },
  {
   "cell_type": "code",
   "execution_count": null,
   "metadata": {
    "collapsed": true
   },
   "outputs": [],
   "source": [
    "\"\"\"\n",
    "           \n",
    "\"\"\""
   ]
  }
 ],
 "metadata": {
  "kernelspec": {
   "display_name": "Python 2",
   "language": "python",
   "name": "python2"
  },
  "language_info": {
   "codemirror_mode": {
    "name": "ipython",
    "version": 2
   },
   "file_extension": ".py",
   "mimetype": "text/x-python",
   "name": "python",
   "nbconvert_exporter": "python",
   "pygments_lexer": "ipython2",
   "version": "2.7.6"
  }
 },
 "nbformat": 4,
 "nbformat_minor": 0
}
