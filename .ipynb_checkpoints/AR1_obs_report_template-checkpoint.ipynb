{
 "cells": [
  {
   "cell_type": "markdown",
   "metadata": {},
   "source": [
    "# AR1 Observation report"
   ]
  },
  {
   "cell_type": "markdown",
   "metadata": {},
   "source": [
    "## File to be processed"
   ]
  },
  {
   "cell_type": "code",
   "execution_count": null,
   "metadata": {},
   "outputs": [],
   "source": [
    "# just a random file\n",
    "#filename = \"/var/kat/archive/data/MeerKATAR1/telescope_products/2016/\\\n",
    "#/06/02/1464851236.h5\"\n",
    "filename=\"/var/kat/archive/data/MeerKATAR1/telescope_products/2016/06/10/1465564921.h5\"\n"
   ]
  },
  {
   "cell_type": "markdown",
   "metadata": {},
   "source": [
    "## Set up environment"
   ]
  },
  {
   "cell_type": "code",
   "execution_count": null,
   "metadata": {},
   "outputs": [],
   "source": [
    "%pylab inline"
   ]
  },
  {
   "cell_type": "code",
   "execution_count": null,
   "metadata": {},
   "outputs": [],
   "source": [
    "import katdal\n",
    "import scape\n",
    "import pickle\n",
    "import katpoint"
   ]
  },
  {
   "cell_type": "markdown",
   "metadata": {},
   "source": [
    "## Load static flags"
   ]
  },
  {
   "cell_type": "code",
   "execution_count": null,
   "metadata": {},
   "outputs": [],
   "source": [
    "#pickle_file = open('/var/kat/katsdpscripts/RTS/rfi_mask.pickle')\n",
    "pickle_file = open('/home/tony/Desktop/katsdpscripts/RTS/rfi_mask.pickle')\n",
    "rfi_static_flags = pickle.load(pickle_file)\n",
    "pickle_file.close()\n",
    "edge = np.tile(True,4096)\n",
    "edge[slice(211,3896)] = False\n",
    "static_flags = np.logical_or(edge,rfi_static_flags)"
   ]
  },
  {
   "cell_type": "markdown",
   "metadata": {},
   "source": [
    "## Load data"
   ]
  },
  {
   "cell_type": "code",
   "execution_count": null,
   "metadata": {},
   "outputs": [],
   "source": [
    "data = katdal.open(filename)"
   ]
  },
  {
   "cell_type": "code",
   "execution_count": null,
   "metadata": {},
   "outputs": [],
   "source": [
    "N = data.shape[0]\n",
    "ext = 930\n",
    "step = max(int(floor(N/ext)),1)\n",
    "print step"
   ]
  },
  {
   "cell_type": "code",
   "execution_count": null,
   "metadata": {
    "scrolled": true
   },
   "outputs": [],
   "source": [
    "print data"
   ]
  },
  {
   "cell_type": "code",
   "execution_count": null,
   "metadata": {},
   "outputs": [],
   "source": [
    "data.obs_params"
   ]
  },
  {
   "cell_type": "markdown",
   "metadata": {},
   "source": [
    "## Plot timeseries, spectrograph and spectrum for each antenna"
   ]
  },
  {
   "cell_type": "code",
   "execution_count": null,
   "metadata": {
    "scrolled": false
   },
   "outputs": [],
   "source": [
    "data.select()\n",
    "ants = data.ants\n",
    "for ant in ants:\n",
    "    for active_pol in ['H','V']:\n",
    "        ts_start = data.timestamps[0]\n",
    "        ts_end = data.timestamps[-1]\n",
    "        data.select(ants=ant.name,corrprods='auto',\\\n",
    "                    channels=~static_flags,pol=active_pol,dumps=slice(0,N,step),scans=['scan','track'])\n",
    "        d = scape.DataSet(data)\n",
    "        ts = data.timestamps - data.timestamps[0]\n",
    "        figure(figsize=[15,10])\n",
    "        subplot(221)\n",
    "        scape.plot_xyz(d,'time','amp')\n",
    "        title('Time series - Ant: %s Pol: %s'%(ant.name,active_pol))\n",
    "        #yscale('log')\n",
    "        #ylim(1,2000)\n",
    "        subplot(222)\n",
    "        scape.plot_xyz(d,'time','freq','amp')\n",
    "        title('Spectrogram - Ant: %s Pol: %s'%(ant.name,active_pol))\n",
    "        subplot(223)\n",
    "        scape.plot_xyz(d,'freq','amp',label='Average')\n",
    "        title('Spectrum - Ant: %s Pol: %s'%(ant.name,active_pol))\n",
    "        #ylim(0,2000)\n",
    "        subplot(224)\n",
    "        scape.plot_xyz(d,'az','el')\n",
    "        title('Pointing - Ant: %s Pol: %s'%(ant.name,active_pol))\n",
    "    \n",
    "    \n"
   ]
  },
  {
   "cell_type": "code",
   "execution_count": null,
   "metadata": {},
   "outputs": [],
   "source": [
    "data.timestamps[1] - data.timestamps[0]"
   ]
  },
  {
   "cell_type": "code",
   "execution_count": null,
   "metadata": {},
   "outputs": [],
   "source": [
    "for ant in ants:\n",
    "    print ant.description"
   ]
  },
  {
   "cell_type": "code",
   "execution_count": null,
   "metadata": {},
   "outputs": [],
   "source": [
    "print scan_timestamps\n",
    "print scan_freqinds\n",
    "print scan_phase\n",
    "print num_bls,data.shape[2]\n",
    "print num_chans"
   ]
  },
  {
   "cell_type": "code",
   "execution_count": null,
   "metadata": {
    "scrolled": false
   },
   "outputs": [],
   "source": [
    "for active_pol in ['H','V']:\n",
    "    data.select()\n",
    "    data.select(corrprods='cross', channels=slice(2200,2800),pol=active_pol,scans=['scan','track'])\n",
    "    baseline_names = [('%s - %s' % (inpA[:-1], inpB[:-1])) for inpA, inpB in data.corr_products]\n",
    "    #num_bls = data.shape[2]\n",
    "    num_bls=0\n",
    "    num_chans, sample_period = len(data.channel_freqs), data.dump_period\n",
    "    scan_targets, scan_mid_az, scan_mid_el, scan_timestamps, scan_phase = [], [], [], [], []\n",
    "    for scan_ind, state, target in data.scans():\n",
    "        num_ts = data.shape[0]\n",
    "        ts = data.timestamps[0::step]\n",
    "        vis = data.vis[0::step,:,:]\n",
    "        scan_phase.append(np.angle(vis).T.reshape(-1, vis.shape[0]))\n",
    "        scan_timestamps.append(ts - data.start_time.secs)\n",
    "    scan_freqinds = [np.arange(num_bls * num_chans)] * len(scan_timestamps)\n",
    "\n",
    "    figure(figsize=(15,30))\n",
    "    segms, labels, lines = scape.plots_basic.plot_segments(scan_timestamps, scan_freqinds,\\\n",
    "                                scan_phase, labels=scan_targets)\n",
    "    for label in labels:\n",
    "        label.set_rotation('vertical')\n",
    "    plt.xlabel('Time (s), since %s' % (katpoint.Timestamp(data.start_time).local(),))\n",
    "    plt.yticks(np.arange(num_chans // 2, num_bls * num_chans, num_chans), baseline_names)\n",
    "    for yval in range(0, num_bls * num_chans, num_chans):\n",
    "        plt.axhline(yval, color='k', lw=2)\n",
    "    plt.title('Raw visibility phase per baseline, Pol %s'%active_pol)"
   ]
  },
  {
   "cell_type": "code",
   "execution_count": null,
   "metadata": {},
   "outputs": [],
   "source": [
    "print 'Report generated:'\n",
    "!date"
   ]
  },
  {
   "cell_type": "code",
   "execution_count": null,
   "metadata": {
    "collapsed": true
   },
   "outputs": [],
   "source": []
  }
 ],
 "metadata": {
  "kernelspec": {
   "display_name": "Python 2",
   "language": "python",
   "name": "python2"
  },
  "language_info": {
   "codemirror_mode": {
    "name": "ipython",
    "version": 2
   },
   "file_extension": ".py",
   "mimetype": "text/x-python",
   "name": "python",
   "nbconvert_exporter": "python",
   "pygments_lexer": "ipython2",
   "version": "2.7.6"
  }
 },
 "nbformat": 4,
 "nbformat_minor": 1
}
