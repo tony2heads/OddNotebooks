{
 "cells": [
  {
   "cell_type": "markdown",
   "metadata": {},
   "source": [
    "If you have a lot of observations you might want to create a spreadsheet of all of your observations to help you keep track of everything.\n",
    "\n",
    "Sometimes, our daily monitoring gets started too late and data quality is compromised.  It is useful to know the LST start time of the observation and the duration.  \n",
    "\n",
    "In the example below I am going to show how to query the archive on the description field, go through all observations, find the start time, duration of observation and number of antennas used.  I will then calculate the LST of the start of the observation using katpoint.\n",
    "\n",
    "Sharmila Goedhart"
   ]
  },
  {
   "cell_type": "code",
   "execution_count": 1,
   "metadata": {},
   "outputs": [],
   "source": [
    "import katarchive\n",
    "import katpoint\n",
    "import datetime\n",
    "import time\n",
    "import numpy as np"
   ]
  },
  {
   "cell_type": "code",
   "execution_count": 35,
   "metadata": {},
   "outputs": [
    {
     "name": "stdout",
     "output_type": "stream",
     "text": [
      "Searched using: CAS.ProductTypeName:KatFile AND CAS.ProductTransferStatus:RECEIVED AND Description:*G9.62*\n",
      "Returning 88 results\n"
     ]
    }
   ],
   "source": [
    "obs_list = katarchive.search_archive(description=\"*G9.62*\")"
   ]
  },
  {
   "cell_type": "markdown",
   "metadata": {},
   "source": [
    "There are currently some difficulties in finding special characters _-+ in the description names.  Unfortunately we often use these characters in our source fields. The trick is to use lots of wild cards until you find all your files.\n",
    "\n",
    "The archive can be searched on `observer, target, description, filename, startdate, enddate` or any combination of these parameters.\n",
    "\n",
    "Lets have a look at the metadata returned by the archive search for one of the observations."
   ]
  },
  {
   "cell_type": "code",
   "execution_count": 36,
   "metadata": {},
   "outputs": [
    {
     "name": "stdout",
     "output_type": "stream",
     "text": [
      "Metaadata for 7 \n",
      "Filename: 1412431176.h5\n",
      "ExperimentID: 20141004-0003\n",
      "StartTime: 2014-10-04 15:59:42 SAST\n",
      "Duration: 3:04:27\n",
      "Observer: sharmila/ruby\n",
      "Description: G9.62 0.20 daily monitoring\n",
      "InstructionSet: /home/kat/comm/scripts/new_obs/runobs.py /home/kat/comm/ruby/masers/G9.62 0.20/G9.62 0.20_mon_2014-10-04.obs --project-id=20140513SG-01 -f 1665.5 --sb-id-code=20141004-0003 --description=G9.62 0.20 daily monitoring --observer=sharmila/ruby\n",
      "Targets: ['Ra: 0:00:00.00 Dec: -90:00:00.0', '1730-130', 'G9.62 0.20', '1934-638']\n",
      "Antennas: 123457\n",
      "FileSize: 7.2 GB\n",
      "CenterFrequency: 1.7 GHz\n"
     ]
    }
   ],
   "source": [
    "obs = obs_list[0]\n",
    "print obs.metadata"
   ]
  },
  {
   "cell_type": "markdown",
   "metadata": {},
   "source": [
    "Now to compute the LST.  The simplest way is to use `katpoint`, set the target as `Zenith` and create an antenna object. We have to convert the start time to a katpoint timestamp first."
   ]
  },
  {
   "cell_type": "code",
   "execution_count": 37,
   "metadata": {},
   "outputs": [
    {
     "name": "stdout",
     "output_type": "stream",
     "text": [
      "16.3012755988\n"
     ]
    }
   ],
   "source": [
    "start = obs.metadata.StartTime\n",
    "cat = katpoint.Catalogue(add_specials=True)\n",
    "cat.antenna = katpoint.Antenna('ant1, -30:43:17.3, 21:24:38.5, 1038.0, 12.0, 18.4 -8.7 0.0, -0:05:30.6 0 -0:00:03.3 0:02:14.2 0:00:01.6 -0:01:30.6 0:08:42.1, 1.22')\n",
    "target = cat['Zenith']\n",
    "d = datetime.datetime.strptime(obs.metadata.StartTime, '%Y-%m-%d %H:%M:%S %Z')\n",
    "t = katpoint.Timestamp(time.mktime(d.timetuple())).secs\n",
    "lst = katpoint.rad2deg(target.antenna.local_sidereal_time(t)) / 15.\n",
    "print lst\n"
   ]
  },
  {
   "cell_type": "markdown",
   "metadata": {},
   "source": [
    "The code below will create a tab-seperated file which can be loaded into a spreadsheet."
   ]
  },
  {
   "cell_type": "code",
   "execution_count": 15,
   "metadata": {},
   "outputs": [
    {
     "name": "stdout",
     "output_type": "stream",
     "text": [
      "Searched using: CAS.ProductTypeName:KatFile AND CAS.ProductTransferStatus:RECEIVED AND Description:*G9.62*\n",
      "Returning 73 results\n"
     ]
    }
   ],
   "source": [
    "obs_list = katarchive.search_archive(description=\"*G9.62*\")\n",
    "f = open('obs_details.csv', 'w')\n",
    "f.write('H5 name \\t start time \\t LST \\t Duration (hours) \\t n_ants\\n')\n",
    "cat = katpoint.Catalogue(add_specials=True)\n",
    "cat.antenna = katpoint.Antenna('ant1, -30:43:17.3, 21:24:38.5, 1038.0, 12.0, 18.4 -8.7 0.0, -0:05:30.6 0 -0:00:03.3 0:02:14.2 0:00:01.6 -0:01:30.6 0:08:42.1, 1.22')\n",
    "target = cat['Zenith']\n",
    "for obs in obs_list:\n",
    "    d = datetime.datetime.strptime(obs.metadata.StartTime, '%Y-%m-%d %H:%M:%S %Z')\n",
    "    t = katpoint.Timestamp(time.mktime(d.timetuple())).secs\n",
    "    lst = katpoint.rad2deg(target.antenna.local_sidereal_time(t)) / 15.\n",
    "    details =  obs.metadata.Filename + '\\t' + obs.metadata.StartTime + '\\t' + \"%4.2f\"%lst + '\\t' +  \"%4.2f\"%(obs.metadata.Duration/3600.) + '\\t'+ np.str(len(obs.metadata.Antennas))+'\\n'\n",
    "    f.write(details)\n",
    "f.close()\n"
   ]
  },
  {
   "cell_type": "code",
   "execution_count": 38,
   "metadata": {},
   "outputs": [],
   "source": [
    "total_time = 0\n",
    "for obs in obs_list:\n",
    "    total_time = total_time + obs.metadata.Duration/60.\n",
    "    "
   ]
  },
  {
   "cell_type": "code",
   "execution_count": 41,
   "metadata": {},
   "outputs": [
    {
     "name": "stdout",
     "output_type": "stream",
     "text": [
      "243.849833333 hours\n"
     ]
    }
   ],
   "source": [
    "print total_time/60., 'hours'"
   ]
  },
  {
   "cell_type": "code",
   "execution_count": null,
   "metadata": {},
   "outputs": [],
   "source": []
  }
 ],
 "metadata": {
  "kernelspec": {
   "display_name": "Python 2",
   "language": "python",
   "name": "python2"
  },
  "language_info": {
   "codemirror_mode": {
    "name": "ipython",
    "version": 2
   },
   "file_extension": ".py",
   "mimetype": "text/x-python",
   "name": "python",
   "nbconvert_exporter": "python",
   "pygments_lexer": "ipython2",
   "version": "2.7.6"
  }
 },
 "nbformat": 4,
 "nbformat_minor": 1
}
