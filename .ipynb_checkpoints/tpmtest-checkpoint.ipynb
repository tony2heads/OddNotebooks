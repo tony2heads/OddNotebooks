{
 "metadata": {
  "name": "",
  "signature": "sha256:8700580c468bfa221037455e1fad2455d4a96186e3668b04cac02f89e0ac0eaa"
 },
 "nbformat": 3,
 "nbformat_minor": 0,
 "worksheets": [
  {
   "cells": [
    {
     "cell_type": "code",
     "collapsed": true,
     "input": [
      "#%loadpy /home/tony/Desktop/PythonScripts/Coords/tpmtest.py"
     ],
     "language": "python",
     "metadata": {},
     "outputs": [],
     "prompt_number": 8
    },
    {
     "cell_type": "code",
     "collapsed": false,
     "input": [
      "# Take coordinates of M100 through all states.\n",
      "from pytpm import tpm\n",
      "\"\"\"\n",
      "States\n",
      " 0 Null\n",
      " 1 helio mean FK4\n",
      " 2 helio mean FK5\n",
      " 3 IAU 1980 ecliptic\n",
      " 4 IAU 1958 Galactic  \n",
      " 5 Helio. mean FK4              USE THIS FOR B1950\n",
      " 6 Helio. mean FK5 (like 03??)  USE THIS FOR J2000\n",
      " 7 Geoc. mean FK5\n",
      " 8 S07 + Light Defl.\n",
      " 9 S08 + Aberration \n",
      "10 S09 + Precession\n",
      "11 Geoc. app. FK5  \n",
      "12 Topo. mean FK5\n",
      "13 S12 + Light Defl.\n",
      "14 S13 + Aberration \n",
      "15 S14 + Precession\n",
      "16 Topo. app. FK5\n",
      "17 Topo. app. HA/Dec\n",
      "18 Topo. app. Az/El\n",
      "19 Topo. obs. Az/El\n",
      "20 Topo. obs. HA/Dec \n",
      "21 Topo. obs. WHAM  (only relevant to WHAM telescope)\n",
      "\n",
      "\"\"\"\n",
      "\n",
      "\n",
      "#ra = tpm.h2r(12+22/60.0+54.899/3600.0)   # setup source\n",
      "ra = tpm.h2r(19 + 39/60. + 25.03/3600.)\n",
      "#de = tpm.d2r(15+49/60.0+20.57/3600.0)\n",
      "de = tpm.d2r( -1*(63+42/60.0 + 45.63/3600.0))\n",
      "#PKS 1934-638 \n",
      "ep = tpm.J2000\n",
      "eq = tpm.J2000\n",
      "s1 = tpm.TPM_S06  #heliocentric mean FK5 J2000\n",
      "s2 = tpm.TPM_S00  # null\n",
      "tstate = tpm.TSTATE()\n",
      "pvec = tpm.PVEC()\n",
      " \n",
      "\n",
      "for i in range(tpm.N_TPM_STATES):\n",
      "    tpm.tpm_data(tstate, tpm.TPM_INIT)\n",
      "    tstate.utc = tpm.J2000\n",
      "    #tstate.lon = tpm.d2r(-111.598333) # lonitude of KPNO deg West)\n",
      "    #tstate.lat = tpm.d2r(31.956389)   # latitude of KPNO deg (North)\n",
      "    #tstate.alt = 2093.093             # altitude of KPNO m\n",
      "    tstate.lon=tpm.d2r(21.41068) #longitude of KAT \n",
      "    tstate.lat=tpm.d2r(-30.72148) # latitude of KAT\n",
      "    tstate.alt=1038. #altitiude of KAT\n",
      "    tstate.delta_ut = tpm.delta_UT(tstate.utc)\n",
      "    \n",
      "    tpm.tpm_data(tstate, tpm.TPM_ALL) #every correction except refraction\n",
      "\n",
      "    v6 = tpm.V6S()\n",
      "    v6.r = 1e9\n",
      "    v6.alpha = ra\n",
      "    v6.delta = de\n",
      "\n",
      "\n",
      "    pvec[s1] = v6.s2c()\n",
      "    s2 = i\n",
      "    tpm.tpm(pvec, s1, s2, ep, eq, tstate)\n",
      "    v6 = pvec[s2].c2s()\n",
      "\n",
      "    ra1 = v6.alpha\n",
      "    de1 = v6.delta\n",
      "    ra1_d = tpm.r2d(ra1)\n",
      "    if ra1_d < 0.0 : ra1_d += 360.0\n",
      "    de1_d = tpm.r2d(de1)\n",
      "    if de1_d < 0.0 : de1_d += 360.0\n",
      "\n",
      "    s = \"{0:02d}-{1:02d} {2:<17s} {3:s} {4:s} {5:8.4f} {6:8.4f}\"\n",
      "    print s.format(s1, s2, tpm.tpm_state(s2),\n",
      "                   tpm.fmt_alpha(ra1), tpm.fmt_delta(de1), ra1_d,\n",
      "                   de1_d)\n",
      "print tstate.utc, tstate.last, tstate.gmst\n"
     ],
     "language": "python",
     "metadata": {},
     "outputs": [
      {
       "output_type": "stream",
       "stream": "stdout",
       "text": [
        "06-00 null               19H 39M 25.029S -63D 42' 45.630\" 294.8543 296.2873\n",
        "06-01 Helio. mean FK4    19H 39M 24.902S -63D 42' 45.711\" 294.8538 296.2873\n",
        "06-02 Helio. mean FK5    19H 39M 25.029S -63D 42' 45.630\" 294.8543 296.2873\n",
        "06-03 IAU 1980 Ecliptic  18H 57M 34.409S -41D 30' 36.305\" 284.3934 318.4899\n",
        "06-04 IAU 1958 Galactic  22H 10M 59.077S -29D 23' 21.770\" 332.7462 330.6106\n",
        "06-05 Helio. mean FK4    19H 34M 47.617S -63D 49' 37.690\" 293.6984 296.1729\n",
        "06-06 Helio. mean FK5    19H 39M 25.029S -63D 42' 45.630\" 294.8543 296.2873\n",
        "06-07 Geoc. mean FK5     19H 39M 25.029S -63D 42' 45.629\" 294.8543 296.2873\n",
        "06-08 S07 + Light Defl.  19H 39M 25.030S -63D 42' 45.640\" 294.8543 296.2873\n",
        "06-09 S08 + Aberration   19H 39M 22.012S -63D 42' 51.209\" 294.8417 296.2858\n",
        "06-10 S09 + Precession   19H 39M 22.012S -63D 42' 51.209\" 294.8417 296.2858\n",
        "06-11 Geoc. app. FK5     19H 39M 20.154S -63D 42' 48.296\" 294.8340 296.2866\n",
        "06-12 Topo. mean FK5     19H 39M 25.029S -63D 42' 45.629\" 294.8543 296.2873\n",
        "06-13 S12 + Light Defl.  19H 39M 25.030S -63D 42' 45.640\" 294.8543 296.2873\n",
        "06-14 S13 + Aberration   19H 39M 22.053S -63D 42' 51.240\" 294.8419 296.2858\n",
        "06-15 S14 + Precession   19H 39M 22.053S -63D 42' 51.240\" 294.8419 296.2858\n",
        "06-16 Topo. app. FK5     19H 39M 20.196S -63D 42' 48.326\" 294.8342 296.2866\n",
        "06-17 Topo. app. HA/Dec  00H 28M 11.555S -63D 42' 48.326\"   7.0481 296.2866\n",
        "06-18 Topo. app. Az/El   12H 22M 43.500S +56D 42' 23.631\" 185.6813  56.7066\n",
        "06-19 Topo. obs. Az/El   12H 22M 43.500S +56D 43' 03.252\" 185.6813  56.7176\n",
        "06-20 Topo. obs. HA/Dec  00H 28M 10.410S -63D 42' 09.443\"   7.0434 296.2974\n",
        "06-21 Topo. obs. WHAM    00H 14M 52.333S -33D 05' 52.365\"   3.7181 326.9021\n",
        "2451545.0 5.26884008074 4.89521515194\n"
       ]
      }
     ],
     "prompt_number": 9
    },
    {
     "cell_type": "code",
     "collapsed": true,
     "input": [
      "print tstate.obs_m.x , tstate.obs_m.y , tstate.obs_m.z"
     ],
     "language": "python",
     "metadata": {},
     "outputs": [
      {
       "output_type": "stream",
       "stream": "stdout",
       "text": [
        "3.41577984112e-05 1.33936402757e-05 -2.16575078139e-05\n"
       ]
      }
     ],
     "prompt_number": 10
    },
    {
     "cell_type": "code",
     "collapsed": false,
     "input": [
      "v6.rdot # AU/day??"
     ],
     "language": "python",
     "metadata": {},
     "outputs": [
      {
       "metadata": {},
       "output_type": "pyout",
       "prompt_number": 11,
       "text": [
        "0.0009161527149243882"
       ]
      }
     ],
     "prompt_number": 11
    },
    {
     "cell_type": "code",
     "collapsed": false,
     "input": [
      "v6.r"
     ],
     "language": "python",
     "metadata": {},
     "outputs": [
      {
       "metadata": {},
       "output_type": "pyout",
       "prompt_number": 12,
       "text": [
        "999994704.5120841"
       ]
      }
     ],
     "prompt_number": 12
    },
    {
     "cell_type": "code",
     "collapsed": false,
     "input": [
      "tpm.utc_now()"
     ],
     "language": "python",
     "metadata": {},
     "outputs": [
      {
       "metadata": {},
       "output_type": "pyout",
       "prompt_number": 13,
       "text": [
        "2456863.102025463"
       ]
      }
     ],
     "prompt_number": 13
    },
    {
     "cell_type": "code",
     "collapsed": false,
     "input": [
      "v6.rdot* 150e6/(24*60*60)"
     ],
     "language": "python",
     "metadata": {},
     "outputs": [
      {
       "metadata": {},
       "output_type": "pyout",
       "prompt_number": 14,
       "text": [
        "1.5905429078548405"
       ]
      }
     ],
     "prompt_number": 14
    },
    {
     "cell_type": "code",
     "collapsed": false,
     "input": [],
     "language": "python",
     "metadata": {},
     "outputs": [],
     "prompt_number": 14
    },
    {
     "cell_type": "code",
     "collapsed": false,
     "input": [],
     "language": "python",
     "metadata": {},
     "outputs": [],
     "prompt_number": 14
    },
    {
     "cell_type": "code",
     "collapsed": false,
     "input": [],
     "language": "python",
     "metadata": {},
     "outputs": [],
     "prompt_number": 14
    }
   ],
   "metadata": {}
  }
 ]
}