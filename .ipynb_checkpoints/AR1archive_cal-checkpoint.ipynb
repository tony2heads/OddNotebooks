{
 "cells": [
  {
   "cell_type": "code",
   "execution_count": 54,
   "metadata": {
    "collapsed": true
   },
   "outputs": [],
   "source": [
    "import katarchive\n",
    "import datetime\n"
   ]
  },
  {
   "cell_type": "code",
   "execution_count": 55,
   "metadata": {
    "collapsed": true
   },
   "outputs": [],
   "source": [
    "%matplotlib inline\n",
    "import numpy as np"
   ]
  },
  {
   "cell_type": "code",
   "execution_count": 56,
   "metadata": {
    "collapsed": true
   },
   "outputs": [],
   "source": [
    "import matplotlib.pyplot as plt"
   ]
  },
  {
   "cell_type": "code",
   "execution_count": 57,
   "metadata": {
    "collapsed": true
   },
   "outputs": [],
   "source": [
    "import katdal as katfile\n",
    "import datetime\n",
    "\n",
    "import logging\n",
    "logging.root.setLevel(logging.ERROR)"
   ]
  },
  {
   "cell_type": "code",
   "execution_count": 58,
   "metadata": {
    "collapsed": true
   },
   "outputs": [],
   "source": [
    "katarchive.product_filter.only_ar1()"
   ]
  },
  {
   "cell_type": "code",
   "execution_count": 59,
   "metadata": {
    "scrolled": true
   },
   "outputs": [
    {
     "name": "stdout",
     "output_type": "stream",
     "text": [
      "Searched using: CAS.ProductTypeName:(MeerKATAR1TelescopeProduct) AND CAS.ProductTransferStatus:RECEIVED AND Description:pointing AND StartTime:[2017-04-30T22:00:00Z TO 2017-06-30T21:59:59Z]\n",
      "Returning 34 results\n",
      "[['1497541866.h5', '2017-06-15 17:51:08 SAST', 'Lindsay', 12091899777], ['1497370274.h5', '2017-06-13 18:11:17 SAST', 'Lindsay', 1607369567], ['1497038988.h5', '2017-06-09 22:09:49 SAST', 'Lindsay', 25456117841], ['1497034809.h5', '2017-06-09 21:00:09 SAST', 'Lindsay', 11656491027], ['1497021624.h5', '2017-06-09 17:20:25 SAST', 'Lindsay', 13346259599], ['1497018034.h5', '2017-06-09 16:20:36 SAST', 'Lindsay', 10275947526], ['1497017096.h5', '2017-06-09 16:05:09 SAST', 'Lindsay', 2312946155], ['1497001312.h5', '2017-06-09 11:41:52 SAST', 'Lindsay', 2297045767], ['1496925501.h5', '2017-06-08 14:38:22 SAST', 'Lindsay', 81537687190], ['1496734893.h5', '2017-06-06 09:41:34 SAST', 'Audrey', 61347953869], ['1496734410.h5', '2017-06-06 09:33:34 SAST', 'Audrey', 157580119], ['1496730678.h5', '2017-06-06 08:31:19 SAST', 'Lindsay', 2123390540], ['1496617213.h5', '2017-06-05 01:00:19 SAST', 'Lindsay', 4630306396], ['1495969211.h5', '2017-05-28 13:00:13 SAST', 'Lindsay', 12823410066], ['1495877532.h5', '2017-05-27 11:32:17 SAST', 'Lindsay', 61744321426], ['1495808584.h5', '2017-05-26 16:23:05 SAST', 'Lindsay', 61657911811], ['1495524966.h5', '2017-05-23 09:36:07 SAST', 'Lindsay', 47553034233], ['1495271762.h5', '2017-05-20 11:16:03 SAST', 'Buntu', 13454115529], ['1495269749.h5', '2017-05-20 10:42:30 SAST', 'Lindsay', 733203422], ['1494847551.h5', '2017-05-15 13:25:52 SAST', 'Ruby', 76255515561], ['1494752975.h5', '2017-05-14 11:09:36 SAST', 'Lindsay', 16413293394], ['1494515055.h5', '2017-05-11 17:04:17 SAST', 'Lance', 56118666339], ['1494423809.h5', '2017-05-10 15:43:30 SAST', 'Lindsay', 26611591304], ['1494334598.h5', '2017-05-09 14:56:43 SAST', 'Lindsay', 61629622569], ['1494293406.h5', '2017-05-09 03:30:08 SAST', 'Lindsay', 61442478748], ['1494233599.h5', '2017-05-08 10:53:21 SAST', 'Lindsay', 4411908886], ['1494167601.h5', '2017-05-07 16:33:22 SAST', 'Audrey', 70746478123], ['1494076559.h5', '2017-05-06 15:16:01 SAST', 'KB', 820417845], ['1493999534.h5', '2017-05-05 17:52:27 SAST', 'Lindsay', 1789882074], ['1493998464.h5', '2017-05-05 17:34:25 SAST', 'Lindsay', 1440402328], ['1493987671.h5', '2017-05-05 14:34:37 SAST', 'Lindsay', 26335997370], ['1493911267.h5', '2017-05-04 17:21:10 SAST', 'Lindsay', 10329475658], ['1493877339.h5', '2017-05-04 07:55:40 SAST', 'Lindsay', 1582157272], ['1493728507.h5', '2017-05-02 14:35:19 SAST', 'AR1', 1277274336]]\n"
     ]
    }
   ],
   "source": [
    "print katarchive.search_archive(startdate='01/05/2017',enddate='30/06/2017',description=\"pointing\")"
   ]
  },
  {
   "cell_type": "code",
   "execution_count": 60,
   "metadata": {},
   "outputs": [
    {
     "name": "stdout",
     "output_type": "stream",
     "text": [
      "Searched using: CAS.ProductTypeName:(MeerKATAR1TelescopeProduct) AND CAS.ProductTransferStatus:RECEIVED AND Description:pointing AND StartTime:[2017-04-30T22:00:00Z TO 2017-06-20T21:59:59Z]\n",
      "Returning 34 results\n"
     ]
    }
   ],
   "source": [
    "f = katarchive.search_archive(startdate='01/05/2017',description=\"pointing\")\n",
    "start = datetime.datetime.strptime(f[-1].__str__().split('\\'')[3],'%Y-%m-%d %H:%M:%S %Z')\n",
    "end = datetime.datetime.strptime(f[0].__str__().split('\\'')[3],'%Y-%m-%d %H:%M:%S %Z')"
   ]
  },
  {
   "cell_type": "code",
   "execution_count": 61,
   "metadata": {},
   "outputs": [
    {
     "name": "stdout",
     "output_type": "stream",
     "text": [
      "First file in run:  2017-05-02T14:35:19\n",
      "Last file in run:  2017-06-15T17:51:08\n"
     ]
    }
   ],
   "source": [
    "print 'First file in run: ' , start.isoformat()\n",
    "print 'Last file in run: ' , end.isoformat()"
   ]
  },
  {
   "cell_type": "code",
   "execution_count": 62,
   "metadata": {},
   "outputs": [
    {
     "name": "stdout",
     "output_type": "stream",
     "text": [
      "MKAIV-202 Interferometric Pointing Calibration \n",
      "/home/kat/katsdpscripts/AR1/observations/interferometric_pointing.py /home/kat/katsdpscripts/AR1/catalogues/gaincal_l_5jy.csv --horizon=20 -t 64 -m 3700 --description=MKAIV-202 Interferometric Pointing Calibration --proposal-id=MKAIV-202 --program-block-id=MKAIV-202 --issue-id=MKAIV-202 --sb-id-code=20170615-0017 --description=MKAIV-202 Interferometric Pointing Calibration --observer=Lindsay --config-label=ac5315b,303903e \n",
      "==========\n",
      "\n",
      "MKAIV-599 Interferometric Offset Pointing  \n",
      "/home/kat/katsdpscripts/AR1/observations/interferometric_pointing.py /home/kat/katsdpscripts/AR1/catalogues/three_calib.csv --horizon=20 -t 64 -n off -m 720 --description=MKAIV-599 Interferometric Offset Pointing  --proposal-id=MKAIV-599 --program-block-id=MKAIV-599 --issue-id=MKAIV-599 --sb-id-code=20170613-0037 --description=MKAIV-599 Interferometric Offset Pointing  --observer=Lindsay --config-label=fc96e2c,c6cf61d \n",
      "==========\n",
      "\n",
      "MKAIV-599 Interferometric Offset Pointing  \n",
      "/home/kat/katsdpscripts/AR1/observations/interferometric_pointing.py /home/kat/katsdpscripts/AR1/catalogues/three_calib.csv --horizon=20 -t 64 -n off -m 8640 --description=MKAIV-599 Interferometric Offset Pointing  --proposal-id=MKAIV-599 --program-block-id=MKAIV-599 --issue-id=MKAIV-599 --sb-id-code=20170609-0050 --description=MKAIV-599 Interferometric Offset Pointing  --observer=Lindsay --config-label=14d5885,ea5c68b \n",
      "==========\n",
      "\n",
      "Offset CBF pointing test with different catalogue \n",
      "/home/kat/tmp/lindsay/ghost_track.py /home/kat/tmp/lindsay/oleg_ghost.csv --horizon=20 -t 300 -n off -m 3600 --repeat --description=Offset cbf pointing_test --proposal-id=COMM-ar1 --program-block-id=COMM-ar1 --issue-id=MKAIV-671 --sb-id-code=20170609-0049 --description=Offset CBF pointing test with different catalogue --observer=Lindsay --config-label=14d5885,ea5c68b \n",
      "==========\n",
      "\n",
      "MKAIV-599 Interferometric Offset Pointing  \n",
      "/home/kat/katsdpscripts/AR1/observations/interferometric_pointing.py /home/kat/katsdpscripts/AR1/catalogues/three_calib.csv --horizon=20 -t 64 -n off -m 4320 --description=MKAIV-599 Interferometric Offset Pointing  --proposal-id=MKAIV-599 --program-block-id=MKAIV-599 --issue-id=MKAIV-599 --sb-id-code=20170609-0016 --description=MKAIV-599 Interferometric Offset Pointing  --observer=Lindsay --config-label=14d5885,ea5c68b \n",
      "==========\n",
      "\n",
      "MKAIV-599 Interferometric Offset Pointing  \n",
      "/home/kat/katsdpscripts/AR1/observations/interferometric_pointing.py /home/kat/katsdpscripts/AR1/catalogues/three_calib.csv --horizon=20 -t 64 -n off -m 2880 --description=MKAIV-599 Interferometric Offset Pointing  --proposal-id=MKAIV-599 --program-block-id=MKAIV-599 --issue-id=MKAIV-599 --sb-id-code=20170609-0015 --description=MKAIV-599 Interferometric Offset Pointing  --observer=Lindsay --config-label=14d5885,ea5c68b \n",
      "==========\n",
      "\n",
      "MKAIV-599 Interferometric Offset Pointing  \n",
      "/home/kat/katsdpscripts/AR1/observations/interferometric_pointing.py /home/kat/katsdpscripts/AR1/catalogues/three_calib.csv --horizon=20 -t 64 -n off -m 720 --description=MKAIV-599 Interferometric Offset Pointing  --proposal-id=MKAIV-599 --program-block-id=MKAIV-599 --issue-id=MKAIV-599 --sb-id-code=20170609-0013 --description=MKAIV-599 Interferometric Offset Pointing  --observer=Lindsay --config-label=14d5885,ea5c68b \n",
      "==========\n",
      "\n",
      "Offset CBF pointing test \n",
      "/home/kat/tmp/lindsay/ghost_track.py /home/kat/tmp/lindsay/0408_ghost.csv --horizon=20 -t 300 -n off -m 3600 --repeat --description=Offset cbf pointing_test --proposal-id=COMM-ar1 --program-block-id=COMM-ar1 --issue-id=MKAIV-671 --sb-id-code=20170609-0010 --description=Offset CBF pointing test --observer=Lindsay --config-label=bc5549d,ea5c68b \n",
      "==========\n",
      "\n",
      "MKAIV-202 Interferometric Pointing Calibration \n",
      "/home/kat/katsdpscripts/AR1/observations/interferometric_pointing.py /home/kat/katsdpscripts/AR1/catalogues/gaincal_l_5jy.csv --horizon=20 -t 64 -m 21600 --description=MKAIV-202 Interferometric Pointing Calibration --proposal-id=MKAIV-202 --program-block-id=MKAIV-202 --issue-id=MKAIV-202 --sb-id-code=20170608-0011 --description=MKAIV-202 Interferometric Pointing Calibration --observer=Lindsay --config-label=4d562c8,6d64bbc \n",
      "==========\n",
      "\n",
      "MKAIV-202 Interferometric Pointing Calibration \n",
      "/home/kat/katsdpscripts/AR1/observations/interferometric_pointing.py /home/kat/katsdpscripts/AR1/catalogues/gaincal_l_5jy.csv --horizon=20 -t 64 -m 21600 --description=MKAIV-202 Interferometric Pointing Calibration --proposal-id=MKAIV-202 --program-block-id=MKAIV-202 --issue-id=MKAIV-202 --sb-id-code=20170606-0004 --description=MKAIV-202 Interferometric Pointing Calibration --observer=Audrey --config-label=7929cc8,44c8f96 \n",
      "==========\n",
      "\n",
      "MKAIV-202 Interferometric Pointing Calibration \n",
      "/home/kat/katsdpscripts/AR1/observations/interferometric_pointing.py /home/kat/katsdpscripts/AR1/catalogues/gaincal_l_5jy.csv --horizon=20 -t 64 -m 21600 --description=MKAIV-202 Interferometric Pointing Calibration --proposal-id=MKAIV-202 --program-block-id=MKAIV-202 --issue-id=MKAIV-202 --sb-id-code=20170606-0002 --description=MKAIV-202 Interferometric Pointing Calibration --observer=Audrey --config-label=7929cc8,44c8f96 \n",
      "==========\n",
      "\n",
      "MKAIV-202 Interferometric Pointing Calibration \n",
      "/home/kat/katsdpscripts/AR1/observations/interferometric_pointing.py /home/kat/katsdpscripts/AR1/catalogues/gaincal_l_5jy.csv --horizon=20 -t 64 -m 21600 --description=MKAIV-202 Interferometric Pointing Calibration --proposal-id=MKAIV-202 --program-block-id=MKAIV-202 --issue-id=MKAIV-202 --sb-id-code=20170606-0001 --description=MKAIV-202 Interferometric Pointing Calibration --observer=Lindsay --config-label=7929cc8,bac2065 \n",
      "==========\n",
      "\n",
      "MKAIV-202 Interferometric Pointing Calibration \n",
      "/home/kat/katsdpscripts/AR1/observations/interferometric_pointing.py /home/kat/katsdpscripts/AR1/catalogues/gaincal_l_5jy.csv --horizon=20 -t 40 -m 21600 --description=MKAIV-202 Interferometric Pointing Calibration --proposal-id=MKAIV-202 --program-block-id=MKAIV-202 --issue-id=MKAIV-202 --sb-id-code=20170604-0025 --description=MKAIV-202 Interferometric Pointing Calibration --observer=Lindsay --config-label=7929cc8,f1c7843 \n",
      "==========\n",
      "\n",
      "MKAIV-599 Interferometric Offset Pointing  \n",
      "/home/kat/katsdpscripts/AR1/observations/interferometric_pointing.py /home/kat/katsdpscripts/AR1/catalogues/three_calib.csv --horizon=20 -t 40 -n off -m 6300 --description=MKAIV-599 Interferometric Offset Pointing  --proposal-id=MKAIV-599 --program-block-id=MKAIV-599 --issue-id=MKAIV-599 --sb-id-code=20170528-0027 --description=MKAIV-599 Interferometric Offset Pointing  --observer=Lindsay --config-label=e7a784b,47abfbd \n",
      "==========\n",
      "\n",
      "MKAIV-202 Interferometric Pointing Calibration \n",
      "/home/kat/katsdpscripts/AR1/observations/interferometric_pointing.py /home/kat/katsdpscripts/AR1/catalogues/gaincal_l_5jy.csv --horizon=20 -t 40 -m 21600 --description=MKAIV-202 Interferometric Pointing Calibration --proposal-id=MKAIV-202 --program-block-id=MKAIV-202 --issue-id=MKAIV-202 --sb-id-code=20170527-0003 --description=MKAIV-202 Interferometric Pointing Calibration --observer=Lindsay \n",
      "==========\n",
      "\n",
      "MKAIV-202 Interferometric Pointing Calibration \n",
      "/home/kat/katsdpscripts/AR1/observations/interferometric_pointing.py /home/kat/katsdpscripts/AR1/catalogues/gaincal_l_5jy.csv --horizon=20 -t 40 -m 21600 --description=MKAIV-202 Interferometric Pointing Calibration --proposal-id=MKAIV-202 --program-block-id=MKAIV-202 --issue-id=MKAIV-202 --sb-id-code=20170526-0064 --description=MKAIV-202 Interferometric Pointing Calibration --observer=Lindsay --config-label=22b0e2a,4418650 \n",
      "==========\n",
      "\n",
      "MKAIV-202 Interferometric Pointing Calibration \n",
      "/home/kat/katsdpscripts/AR1/observations/interferometric_pointing.py /home/kat/katsdpscripts/AR1/catalogues/gaincal_l_5jy.csv --horizon=20 -t 40 -m 21600 --description=MKAIV-202 Interferometric Pointing Calibration --proposal-id=MKAIV-202 --program-block-id=MKAIV-202 --issue-id=MKAIV-202 --sb-id-code=20170523-0019 --description=MKAIV-202 Interferometric Pointing Calibration --observer=Lindsay --config-label=e38d2c0,2ad10cb \n",
      "==========\n",
      "\n",
      "MKAIV-202 Interferometric Pointing Calibration \n",
      "/home/kat/katsdpscripts/AR1/observations/interferometric_pointing.py /home/kat/katsdpscripts/AR1/catalogues/gaincal_l_5jy.csv --horizon=20 -t 40 -m 21600 --description=MKAIV-202 Interferometric Pointing Calibration --proposal-id=MKAIV-202 --program-block-id=MKAIV-202 --issue-id=MKAIV-202 --sb-id-code=20170520-0005 --description=MKAIV-202 Interferometric Pointing Calibration --observer=Buntu --config-label=9eefedc,fcacf2e \n",
      "==========\n",
      "\n",
      "MKAIV-202 Interferometric Pointing Calibration \n",
      "/home/kat/katsdpscripts/AR1/observations/interferometric_pointing.py /home/kat/katsdpscripts/AR1/catalogues/gaincal_l_5jy.csv --horizon=20 -t 40 -m 21600 --description=MKAIV-202 Interferometric Pointing Calibration --proposal-id=MKAIV-202 --program-block-id=MKAIV-202 --issue-id=MKAIV-202 --sb-id-code=20170520-0003 --description=MKAIV-202 Interferometric Pointing Calibration --observer=Lindsay --config-label=9eefedc,fcacf2e \n",
      "==========\n",
      "\n",
      "MKAIV-111 AR1 pointing \n",
      "/home/kat/katsdpscripts/AR1/observations/point_source_scan.py /home/kat/katsdpscripts/RTS/sources_pnt_L.csv --horizon=20 -n coupler,10,10,180 -m 39600 -f 1284 --description=MKAIV-111 AR1 pointing --proposal-id=20170312RV-03 --program-block-id=38ob109217327 --sb-id-code=20170515-0015 --description=MKAIV-111 AR1 pointing --observer=Ruby --config-label=a1e1bb0,dc5161d \n",
      "==========\n",
      "\n",
      "MKAIV-202 Interferometric Pointing Calibration \n",
      "/home/kat/katsdpscripts/AR1/observations/interferometric_pointing.py /home/kat/katsdpscripts/AR1/catalogues/gaincal_l_5jy.csv --horizon=20 -t 40 -m 5400 --description=MKAIV-202 Interferometric Pointing Calibration --proposal-id=MKAIV-202 --program-block-id=MKAIV-202 --sb-id-code=20170514-0013 --description=MKAIV-202 Interferometric Pointing Calibration --observer=Lindsay --config-label=a1e1bb0,39fa9ba \n",
      "==========\n",
      "\n",
      "MKAIV-111 AR1 pointing \n",
      "/home/kat/katsdpscripts/AR1/observations/point_source_scan.py /home/kat/katsdpscripts/RTS/sources_pnt_L.csv --horizon=20 -n coupler,10,10,180 -m 19800 -f 1284 --description=MKAIV-111 AR1 pointing --proposal-id=20170312RV-03 --program-block-id=38ob109217327 --sb-id-code=20170511-0019 --description=MKAIV-111 AR1 pointing --observer=Lance --config-label=a1e1bb0,a8578cb \n",
      "==========\n",
      "\n",
      "MKAIV-202 Interferometric Pointing Calibration \n",
      "/home/kat/katsdpscripts/AR1/observations/interferometric_pointing.py /home/kat/katsdpscripts/AR1/catalogues/gaincal_l_5jy.csv --horizon=20 -t 40 -m 9000 --description=MKAIV-202 Interferometric Pointing Calibration --proposal-id=MKAIV-202 --program-block-id=MKAIV-202 --sb-id-code=20170510-0049 --description=MKAIV-202 Interferometric Pointing Calibration --observer=Lindsay --config-label=a1e1bb0,ce39457 \n",
      "==========\n",
      "\n",
      "MKAIV-202 Interferometric Pointing Calibration \n",
      "/home/kat/katsdpscripts/AR1/observations/interferometric_pointing.py /home/kat/katsdpscripts/AR1/catalogues/gaincal_l_5jy.csv --horizon=20 -t 40 -m 21600 --description=MKAIV-202 Interferometric Pointing Calibration --proposal-id=MKAIV-202 --program-block-id=MKAIV-202 --sb-id-code=20170509-0027 --description=MKAIV-202 Interferometric Pointing Calibration --observer=Lindsay --config-label=a1e1bb0,5597ed1 \n",
      "==========\n",
      "\n",
      "MKAIV-202 Interferometric Pointing Calibration \n",
      "/home/kat/katsdpscripts/AR1/observations/interferometric_pointing.py /home/kat/katsdpscripts/AR1/catalogues/gaincal_l_5jy.csv --horizon=20 -t 40 -m 21600 --description=MKAIV-202 Interferometric Pointing Calibration --proposal-id=MKAIV-202 --program-block-id=MKAIV-202 --sb-id-code=20170508-0060 --description=MKAIV-202 Interferometric Pointing Calibration --observer=Lindsay --config-label=a1e1bb0,5597ed1 \n",
      "==========\n",
      "\n",
      "MKAIV-202 Interferometric Pointing Calibration \n",
      "/home/kat/katsdpscripts/AR1/observations/interferometric_pointing.py /home/kat/katsdpscripts/AR1/catalogues/gaincal_l_5jy.csv --horizon=20 -t 40 -m 21600 --description=MKAIV-202 Interferometric Pointing Calibration --proposal-id=MKAIV-202 --program-block-id=MKAIV-202 --sb-id-code=20170508-0010 --description=MKAIV-202 Interferometric Pointing Calibration --observer=Lindsay --config-label=a1e1bb0,d9c144b \n",
      "==========\n",
      "\n",
      "MKAIV-599 Interferometric Offset Pointing  \n",
      "/home/kat/katsdpscripts/AR1/observations/interferometric_pointing.py /home/kat/katsdpscripts/AR1/catalogues/three_calib.csv --horizon=20 -t 40 -n off -m 25200 --description=MKAIV-599 Interferometric Offset Pointing  --proposal-id=MKAIV-599 --program-block-id=MKAIV-599 --sb-id-code=20170507-0003 --description=MKAIV-599 Interferometric Offset Pointing  --observer=Audrey --config-label=a1e1bb0,ef5c611 \n",
      "==========\n",
      "\n",
      "MKAIV-599 Interferometric Offset Pointing  \n",
      "/home/kat/katsdpscripts/AR1/observations/interferometric_pointing.py /home/kat/katsdpscripts/AR1/catalogues/three_calib.csv --horizon=20 -t 40 -n off -m 32400 --description=MKAIV-599 Interferometric Offset Pointing  --proposal-id=MKAIV-599 --program-block-id=MKAIV-599 --sb-id-code=20170506-0004 --description=MKAIV-599 Interferometric Offset Pointing  --observer=KB --config-label=a1e1bb0,3620fa5 \n",
      "==========\n",
      "\n",
      "MKAIV-599 Interferometric Offset Pointing  \n",
      "/home/kat/katsdpscripts/AR1/observations/interferometric_pointing.py /home/kat/katsdpscripts/AR1/catalogues/three_calib.csv --horizon=20 -t 40 -n off -m 28800 --description=MKAIV-599 Interferometric Offset Pointing  --proposal-id=MKAIV-599 --program-block-id=MKAIV-599 --sb-id-code=20170505-0032 --description=MKAIV-599 Interferometric Offset Pointing  --observer=Lindsay --config-label=a1e1bb0,d9c144b \n",
      "==========\n",
      "\n",
      "MKAIV-599 Interferometric Offset Pointing  \n",
      "/home/kat/katsdpscripts/AR1/observations/interferometric_pointing.py /home/kat/katsdpscripts/AR1/catalogues/three_calib.csv --horizon=20 -t 40 -n off -m 30420 --description=MKAIV-599 Interferometric Offset Pointing  --proposal-id=MKAIV-599 --program-block-id=MKAIV-599 --sb-id-code=20170505-0031 --description=MKAIV-599 Interferometric Offset Pointing  --observer=Lindsay --config-label=a1e1bb0,d9c144b \n",
      "==========\n",
      "\n",
      "MKAIV-599 Interferometric Offset Pointing  \n",
      "/home/kat/katsdpscripts/AR1/observations/interferometric_pointing.py /home/kat/katsdpscripts/AR1/catalogues/three_calib.csv --horizon=20 -t 40 -n off -m 43200 --description=MKAIV-599 Interferometric Offset Pointing  --proposal-id=MKAIV-599 --program-block-id=MKAIV-599 --sb-id-code=20170505-0012 --description=MKAIV-599 Interferometric Offset Pointing  --observer=Lindsay --config-label=a1e1bb0,d9c144b \n",
      "==========\n",
      "\n",
      "MKAIV-202 Interferometric Pointing Calibration \n",
      "/home/kat/katsdpscripts/AR1/observations/interferometric_pointing.py /home/kat/katsdpscripts/AR1/catalogues/gaincal_l_5jy.csv --horizon=20 -t 40 -m 5400 --description=MKAIV-202 Interferometric Pointing Calibration --proposal-id=MKAIV-202 --program-block-id=MKAIV-202 --sb-id-code=20170504-0026 --description=MKAIV-202 Interferometric Pointing Calibration --observer=Lindsay --config-label=a1e1bb0,051b72d \n",
      "==========\n",
      "\n",
      "MKAIV-202 Interferometric Pointing Calibration \n",
      "/home/kat/katsdpscripts/AR1/observations/interferometric_pointing.py /home/kat/katsdpscripts/AR1/catalogues/gaincal_l_5jy.csv --horizon=20 -t 40 -m 21600 --description=MKAIV-202 Interferometric Pointing Calibration --proposal-id=MKAIV-202 --program-block-id=MKAIV-202 --sb-id-code=20170504-0002 --description=MKAIV-202 Interferometric Pointing Calibration --observer=Lindsay --config-label=a1e1bb0,051b72d \n",
      "==========\n",
      "\n",
      "AR1: MKAIV-78 Quick Check Point Source Scan \n",
      "/home/kat/katsdpscripts/AR1/observations/check_point_source.py --horizon=20 --proposal-id=COMM-AR1 --reduction-label=MKAIV-78 --sb-id-code=20170502-0002 --description=AR1: MKAIV-78 Quick Check Point Source Scan --observer=AR1 --config-label=a1e1bb0,3e78f61 \n",
      "==========\n",
      "\n"
     ]
    }
   ],
   "source": [
    "sbd = []\n",
    "pid = []\n",
    "fnd = []\n",
    "dud = []\n",
    "antsd = []\n",
    "scrd = []\n",
    "\n",
    "for fi in f:\n",
    "    print fi.metadata.Description,\"\\n\", fi.metadata.InstructionSet,\"\\n==========\\n\""
   ]
  },
  {
   "cell_type": "code",
   "execution_count": 63,
   "metadata": {},
   "outputs": [
    {
     "name": "stdout",
     "output_type": "stream",
     "text": [
      "===============================================================================\n",
      "Name: /var/kat/archive2/data/ftp/staging/1493728507.h5 (version 3.0)\n",
      "===============================================================================\n",
      "Observer: AR1  Experiment ID: 20170502-0002\n",
      "Description: 'AR1: MKAIV-78 Quick Check Point Source Scan'\n",
      "Observed from 2017-05-02 12:35:19.325 UTC to 2017-05-02 12:42:55.132 UTC\n",
      "Dump rate / period: 0.12505 Hz / 7.997 s\n",
      "Subarrays: 1\n",
      "  ID  Antennas                            Inputs  Corrprods\n",
      "   0  m000,m001,m002,m005,m006,m007,m008,m010,m012,m014,m020,m021,m031,m034,m061,m062  32      544\n",
      "Spectral Windows: 1\n",
      "  ID Band Product  CentreFreq(MHz)  Bandwidth(MHz)  Channels  ChannelWidth(kHz)\n",
      "   0 L    bc856M4k   1284.000         856.000           4096       208.984\n",
      "-------------------------------------------------------------------------------\n",
      "Data selected according to the following criteria:\n",
      "  subarray=0\n",
      "  ants=['m008', 'm010', 'm061', 'm001', 'm000', 'm014', 'm006', 'm005', 'm062', 'm021', 'm020', 'm034', 'm031', 'm007', 'm002', 'm012']\n",
      "  spw=0\n",
      "-------------------------------------------------------------------------------\n",
      "Shape: (57 dumps, 4096 channels, 544 correlation products) => Size: 1.016 GB\n",
      "Antennas: m000,m001,m002,m005,m006,m007,*m008,m010,m012,m014,m020,m021,m031,m034,m061,m062  Inputs: 32  Autocorr: yes  Crosscorr: yes\n",
      "Channels: 4096 (index 0 - 4095,  856.000 MHz - 1711.791 MHz), each 208.984 kHz wide\n",
      "Targets: 1 selected out of 1 in catalogue\n",
      "  ID  Name    Type      RA(J2000)     DEC(J2000)  Tags  Dumps  ModelFlux(Jy)\n",
      "   0  CTB 31  radec      8:59:07.30  -47:31:23.0           57     321.81\n",
      "Scans: 11 selected out of 11 total       Compscans: 1 selected out of 1 total\n",
      "  Date        Timerange(UTC)       ScanState  CompScanLabel  Dumps  Target\n",
      "  02-May-2017/12:35:23 - 12:35:31    0:stop     0:raster         2    0:CTB 31\n",
      "              12:35:39 - 12:36:51    1:slew     0:raster        10    0:CTB 31\n",
      "              12:36:59 - 12:37:47    2:scan     0:raster         7    0:CTB 31\n",
      "              12:37:55 - 12:38:03    3:slew     0:raster         2    0:CTB 31\n",
      "              12:38:11 - 12:39:15    4:scan     0:raster         9    0:CTB 31\n",
      "              12:39:23 - 12:39:31    5:slew     0:raster         2    0:CTB 31\n",
      "              12:39:39 - 12:40:19    6:scan     0:raster         6    0:CTB 31\n",
      "              12:40:27 - 12:40:35    7:slew     0:raster         2    0:CTB 31\n",
      "              12:40:43 - 12:41:31    8:scan     0:raster         7    0:CTB 31\n",
      "              12:41:39 - 12:41:47    9:slew     0:raster         2    0:CTB 31\n",
      "              12:41:55 - 12:42:51   10:scan     0:raster         8    0:CTB 31\n"
     ]
    }
   ],
   "source": [
    "print fi.metadata.Details"
   ]
  },
  {
   "cell_type": "code",
   "execution_count": 64,
   "metadata": {},
   "outputs": [
    {
     "name": "stdout",
     "output_type": "stream",
     "text": [
      "===============================================================================\n",
      "Name: /var/kat/archive2/data/ftp/staging/1493728507.h5 (version 3.0)\n",
      "===============================================================================\n",
      "Observer: AR1  Experiment ID: 20170502-0002\n",
      "Description: 'AR1: MKAIV-78 Quick Check Point Source Scan'\n",
      "Observed from 2017-05-02 12:35:19.325 UTC to 2017-05-02 12:42:55.132 UTC\n",
      "Dump rate / period: 0.12505 Hz / 7.997 s\n",
      "Subarrays: 1\n",
      "  ID  Antennas                            Inputs  Corrprods\n",
      "   0  m000,m001,m002,m005,m006,m007,m008,m010,m012,m014,m020,m021,m031,m034,m061,m062  32      544\n",
      "Spectral Windows: 1\n",
      "  ID Band Product  CentreFreq(MHz)  Bandwidth(MHz)  Channels  ChannelWidth(kHz)\n",
      "   0 L    bc856M4k   1284.000         856.000           4096       208.984\n",
      "-------------------------------------------------------------------------------\n",
      "Data selected according to the following criteria:\n",
      "  subarray=0\n",
      "  ants=['m008', 'm010', 'm061', 'm001', 'm000', 'm014', 'm006', 'm005', 'm062', 'm021', 'm020', 'm034', 'm031', 'm007', 'm002', 'm012']\n",
      "  spw=0\n",
      "-------------------------------------------------------------------------------\n",
      "Shape: (57 dumps, 4096 channels, 544 correlation products) => Size: 1.016 GB\n",
      "Antennas: m000,m001,m002,m005,m006,m007,*m008,m010,m012,m014,m020,m021,m031,m034,m061,m062  Inputs: 32  Autocorr: yes  Crosscorr: yes\n",
      "Channels: 4096 (index 0 - 4095,  856.000 MHz - 1711.791 MHz), each 208.984 kHz wide\n",
      "Targets: 1 selected out of 1 in catalogue\n",
      "  ID  Name    Type      RA(J2000)     DEC(J2000)  Tags  Dumps  ModelFlux(Jy)\n",
      "   0  CTB 31  radec      8:59:07.30  -47:31:23.0           57     321.81\n",
      "Scans: 11 selected out of 11 total       Compscans: 1 selected out of 1 total\n",
      "  Date        Timerange(UTC)       ScanState  CompScanLabel  Dumps  Target\n",
      "  02-May-2017/12:35:23 - 12:35:31    0:stop     0:raster         2    0:CTB 31\n",
      "              12:35:39 - 12:36:51    1:slew     0:raster        10    0:CTB 31\n",
      "              12:36:59 - 12:37:47    2:scan     0:raster         7    0:CTB 31\n",
      "              12:37:55 - 12:38:03    3:slew     0:raster         2    0:CTB 31\n",
      "              12:38:11 - 12:39:15    4:scan     0:raster         9    0:CTB 31\n",
      "              12:39:23 - 12:39:31    5:slew     0:raster         2    0:CTB 31\n",
      "              12:39:39 - 12:40:19    6:scan     0:raster         6    0:CTB 31\n",
      "              12:40:27 - 12:40:35    7:slew     0:raster         2    0:CTB 31\n",
      "              12:40:43 - 12:41:31    8:scan     0:raster         7    0:CTB 31\n",
      "              12:41:39 - 12:41:47    9:slew     0:raster         2    0:CTB 31\n",
      "              12:41:55 - 12:42:51   10:scan     0:raster         8    0:CTB 31\n"
     ]
    }
   ],
   "source": [
    "det=fi.metadata.Details\n",
    "for line in det.splitlines():\n",
    "    print line"
   ]
  },
  {
   "cell_type": "code",
   "execution_count": 71,
   "metadata": {},
   "outputs": [
    {
     "name": "stdout",
     "output_type": "stream",
     "text": [
      "Antennas: m000,m001,m002,m005,m006,m007,*m008,m010,m012,m014,m020,m021,m031,m034,m061,m062  Inputs: 32  Autocorr: yes  Crosscorr: yes\n"
     ]
    }
   ],
   "source": [
    "ls=det.splitlines()\n",
    "print ls[20]"
   ]
  },
  {
   "cell_type": "code",
   "execution_count": 74,
   "metadata": {},
   "outputs": [
    {
     "name": "stdout",
     "output_type": "stream",
     "text": [
      "1.18955442309\n"
     ]
    }
   ],
   "source": [
    "print fi.metadata.FileSize/(1024*1024*1024.0)"
   ]
  },
  {
   "cell_type": "code",
   "execution_count": 82,
   "metadata": {},
   "outputs": [
    {
     "name": "stdout",
     "output_type": "stream",
     "text": [
      "MKAIV-202 Interferometric Pointing Calibration \n",
      "Name: /var/kat/archive2/data/ftp/staging/1496925501.h5 (version 3.0) \n",
      "Antennas: m001,m002,m006,m015,m021,m031,m042,m048,m049,*m057,m059,m060,m061,m062  Inputs: 28  Autocorr: yes  Crosscorr: yes \n",
      "\n",
      "MKAIV-202 Interferometric Pointing Calibration \n",
      "Name: /var/kat/archive2/data/ftp/staging/1496734893.h5 (version 3.0) \n",
      "Antennas: m000,m001,m002,m005,m006,m007,m015,m031,m042,m049,*m057,m058,m059,m060,m061,m062  Inputs: 32  Autocorr: yes  Crosscorr: yes \n",
      "\n",
      "MKAIV-202 Interferometric Pointing Calibration \n",
      "Name: /var/kat/archive2/data/ftp/staging/1495877532.h5 (version 3.0) \n",
      "Antennas: m000,m003,m005,m006,m007,*m008,m010,m011,m014,m015,m021,m031,m042,m057,m058,m062  Inputs: 32  Autocorr: yes  Crosscorr: yes \n",
      "\n",
      "MKAIV-202 Interferometric Pointing Calibration \n",
      "Name: /var/kat/archive2/data/ftp/staging/1495808584.h5 (version 3.0) \n",
      "Antennas: m000,m003,m005,m006,m007,*m008,m010,m011,m014,m015,m021,m031,m042,m057,m058,m062  Inputs: 32  Autocorr: yes  Crosscorr: yes \n",
      "\n",
      "MKAIV-202 Interferometric Pointing Calibration \n",
      "Name: /var/kat/archive2/data/ftp/staging/1495524966.h5 (version 3.0) \n",
      "Antennas: m005,m006,*m008,m010,m012,m015,m021,m031,m049,m057,m058,m060,m061,m062  Inputs: 28  Autocorr: yes  Crosscorr: yes \n",
      "\n",
      "MKAIV-111 AR1 pointing \n",
      "Name: /var/kat/archive2/data/ftp/staging/1494847551.h5 (version 3.0) \n",
      "Antennas: m000,m003,m005,m006,m007,*m008,m010,m012,m015,m020,m021,m022,m031,m057,m059  Inputs: 30  Autocorr: yes  Crosscorr: yes \n",
      "\n",
      "MKAIV-111 AR1 pointing \n",
      "Name: /var/kat/archive2/data/ftp/staging/1494515055.h5 (version 3.0) \n",
      "Antennas: m000,m001,m003,m005,m006,*m008,m010,m012,m014,m015,m020,m021,m031,m034,m061,m062  Inputs: 32  Autocorr: yes  Crosscorr: yes \n",
      "\n",
      "MKAIV-202 Interferometric Pointing Calibration \n",
      "Name: /var/kat/archive2/data/ftp/staging/1494334598.h5 (version 3.0) \n",
      "Antennas: m000,m001,m002,m003,m005,m006,*m008,m012,m015,m020,m021,m022,m031,m034,m049,m058  Inputs: 32  Autocorr: yes  Crosscorr: yes \n",
      "\n",
      "MKAIV-202 Interferometric Pointing Calibration \n",
      "Name: /var/kat/archive2/data/ftp/staging/1494293406.h5 (version 3.0) \n",
      "Antennas: m000,m001,m002,m003,m005,m006,*m008,m010,m012,m014,m015,m020,m021,m031,m034,m049  Inputs: 32  Autocorr: yes  Crosscorr: yes \n",
      "\n",
      "MKAIV-599 Interferometric Offset Pointing  \n",
      "Name: /var/kat/archive2/data/ftp/staging/1494167601.h5 (version 3.0) \n",
      "Antennas: m000,m001,m002,m003,m005,m006,*m008,m010,m012,m014,m015,m020,m021,m031,m034,m049  Inputs: 32  Autocorr: yes  Crosscorr: yes \n",
      "\n"
     ]
    }
   ],
   "source": [
    "GB=1024*1024*1024.0\n",
    "for fi in f:\n",
    "    if fi.metadata.FileSize/GB > 40:\n",
    "        det=fi.metadata.Details\n",
    "        ls=det.splitlines()\n",
    "        print fi.metadata.Description,\"\\n\",ls[1],\"\\n\",ls[20],\"\\n\"\n",
    "        \n",
    "    "
   ]
  },
  {
   "cell_type": "code",
   "execution_count": null,
   "metadata": {
    "collapsed": true
   },
   "outputs": [],
   "source": []
  }
 ],
 "metadata": {
  "kernelspec": {
   "display_name": "Python 2",
   "language": "python",
   "name": "python2"
  },
  "language_info": {
   "codemirror_mode": {
    "name": "ipython",
    "version": 2
   },
   "file_extension": ".py",
   "mimetype": "text/x-python",
   "name": "python",
   "nbconvert_exporter": "python",
   "pygments_lexer": "ipython2",
   "version": "2.7.6"
  }
 },
 "nbformat": 4,
 "nbformat_minor": 1
}
