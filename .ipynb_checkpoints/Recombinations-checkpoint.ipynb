{
 "cells": [
  {
   "cell_type": "code",
   "execution_count": 1,
   "metadata": {},
   "outputs": [],
   "source": [
    "#%loadpy /home/tony/Desktop/CLaw/plot_recomb.py"
   ]
  },
  {
   "cell_type": "code",
   "execution_count": 17,
   "metadata": {},
   "outputs": [],
   "source": [
    "#! /usr/bin/env python\n",
    "\n",
    "\"\"\"Script to visualize recomb transitions\"\"\"\n",
    "\n",
    "import pylab, numpy\n",
    "\n",
    "def recomb_freq(ni,nf,atom='h'):\n",
    "    if atom=='h':\n",
    "        ion = 13.598\n",
    "        mtot = 1.007825\n",
    "    elif atom=='he':\n",
    "        ion = 24.587\n",
    "        mtot = 4.0026\n",
    "\n",
    "    ni = float(ni); nf = float(nf)\n",
    "#    print 'assuming hydrogen...'\n",
    "\n",
    "    # for freq1\n",
    "#    h = 6.6262e-27\n",
    "#    evtoerg = 1.602e-12\n",
    "#    freq1 = ion*evtoerg * (1/nf**2 - 1/ni**2) / h\n",
    "\n",
    "    # for freq2\n",
    "    ry_inf = 109737.31\n",
    "    c = 2.997925e10\n",
    "    me = 5.48598e-4\n",
    "    freq = ry_inf * (1 - me/mtot) * c * (1/nf**2 - 1/ni**2)\n",
    "\n",
    "    return freq\n",
    "\n",
    "def plot(flo,fhi,ntrans=5,atom='h'):\n",
    "    nl = 50; nh = 300\n",
    "    for trans in range(ntrans):\n",
    "        freqs = []\n",
    "        for i in range(nl,nh):\n",
    "            freqs.append(recomb_freq(i+trans+1,i,atom=atom))\n",
    "        pylab.plot(freqs,(trans+1)*numpy.ones(len(freqs)),'.')\n",
    "    pylab.plot([500e6,10000e6],[0,0])\n",
    "    pylab.axis([flo,fhi,-0.1,ntrans+0.1])\n",
    "    pylab.legend()\n",
    "    pylab.show()\n",
    "\n",
    "def plot_stack(flo,fhi,ntrans=5,atom='h'):\n",
    "    nl = 10; nh = 1000\n",
    "    trans_letter = ['a','b','c','d','e','f','g','h']\n",
    "    pylab.plot([500e6,10000e6],[0,0])\n",
    "    pylab.axis([flo,fhi,-5,20])\n",
    "    for trans in range(ntrans):\n",
    "        freqs = []\n",
    "        for i in range(nl,nh):\n",
    "            if (recomb_freq(i+trans+1,i,atom=atom) >= flo) & (recomb_freq(i+trans+1,i,atom=atom) <= fhi):\n",
    "                pylab.text(recomb_freq(i+trans+1,i,atom=atom), ntrans-trans, atom+str(i)+trans_letter[trans], horizontalalignment='center', verticalalignment='center')\n",
    "    pylab.show()\n"
   ]
  },
  {
   "cell_type": "code",
   "execution_count": 34,
   "metadata": {},
   "outputs": [],
   "source": [
    "plot_stack(1.2e9,1.4e9,ntrans=1,atom='h')"
   ]
  },
  {
   "cell_type": "code",
   "execution_count": 9,
   "metadata": {},
   "outputs": [],
   "source": []
  },
  {
   "cell_type": "code",
   "execution_count": null,
   "metadata": {},
   "outputs": [],
   "source": []
  }
 ],
 "metadata": {
  "kernelspec": {
   "display_name": "Python 2",
   "language": "python",
   "name": "python2"
  },
  "language_info": {
   "codemirror_mode": {
    "name": "ipython",
    "version": 2
   },
   "file_extension": ".py",
   "mimetype": "text/x-python",
   "name": "python",
   "nbconvert_exporter": "python",
   "pygments_lexer": "ipython2",
   "version": "2.7.6"
  }
 },
 "nbformat": 4,
 "nbformat_minor": 1
}
