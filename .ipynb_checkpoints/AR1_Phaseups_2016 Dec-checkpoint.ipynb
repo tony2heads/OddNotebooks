{
 "cells": [
  {
   "cell_type": "code",
   "execution_count": 40,
   "metadata": {
    "collapsed": false
   },
   "outputs": [],
   "source": [
    "%matplotlib inline\n",
    "import numpy as np"
   ]
  },
  {
   "cell_type": "code",
   "execution_count": 41,
   "metadata": {
    "collapsed": true
   },
   "outputs": [],
   "source": [
    "import matplotlib.pyplot as plt"
   ]
  },
  {
   "cell_type": "code",
   "execution_count": 42,
   "metadata": {
    "collapsed": false
   },
   "outputs": [],
   "source": [
    "import katarchive\n",
    "\n",
    "import datetime\n",
    "\n",
    "import logging\n",
    "logging.root.setLevel(logging.ERROR)\n"
   ]
  },
  {
   "cell_type": "code",
   "execution_count": 43,
   "metadata": {
    "collapsed": false
   },
   "outputs": [],
   "source": [
    "katarchive.product_filter.only_ar1()\n",
    "\n",
    "begin=\"01/01/2017\"\n",
    "end=\"31/01/2017\"  # Last run on 14th Nov\n"
   ]
  },
  {
   "cell_type": "code",
   "execution_count": 44,
   "metadata": {
    "collapsed": false
   },
   "outputs": [],
   "source": [
    "Outfile=open('Jan_Phaseups.txt', 'w')"
   ]
  },
  {
   "cell_type": "code",
   "execution_count": 45,
   "metadata": {
    "collapsed": false
   },
   "outputs": [],
   "source": [
    "def channels(details):\n",
    "    ch32k=\"32768\"\n",
    "    mode=\"4k\" # default\n",
    "    if ch32k in details:\n",
    "        mode=\"32k\"\n",
    "    return mode\n"
   ]
  },
  {
   "cell_type": "code",
   "execution_count": 46,
   "metadata": {
    "collapsed": false
   },
   "outputs": [
    {
     "name": "stdout",
     "output_type": "stream",
     "text": [
      "Searched using: CAS.ProductTypeName:(MeerKATAR1TelescopeProduct) AND CAS.ProductTransferStatus:RECEIVED AND Description:Phaseup AND StartTime:[2016-12-31T22:00:00Z TO 2017-01-31T21:59:59Z]\n",
      "Returning 27 results\n",
      "[['1484203918.h5', '2017-01-12 08:52:02 SAST', 'AR1', 4039631966], ['1484186407.h5', '2017-01-12 04:00:18 SAST', 'AR1', 4654938311], ['1484154840.h5', '2017-01-11 19:14:04 SAST', 'AR1', 3944320031], ['1484152678.h5', '2017-01-11 18:38:10 SAST', 'AR1', 4023584576], ['1484152136.h5', '2017-01-11 18:29:00 SAST', 'Moloko', 3754275315], ['1484151224.h5', '2017-01-11 18:13:48 SAST', 'Moloko', 9347024204], ['1484102543.h5', '2017-01-11 04:42:30 SAST', 'AR1', 1349599188], ['1484072660.h5', '2017-01-10 20:24:25 SAST', 'AR1', 889973089], ['1484052717.h5', '2017-01-10 14:52:45 SAST', 'AR1', 566507614], ['1484016574.h5', '2017-01-10 04:49:45 SAST', 'AR1', 6014342958], ['1483987120.h5', '2017-01-09 20:38:50 SAST', 'AR1', 5922654641], ['1483971444.h5', '2017-01-09 16:17:28 SAST', 'AR1', 4923634551], ['1483890271.h5', '2017-01-08 17:44:33 SAST', 'AR1', 1078457190], ['1483860737.h5', '2017-01-08 09:32:18 SAST', 'AR1', 976109974], ['1483831455.h5', '2017-01-08 01:24:17 SAST', 'AR1', 926595595], ['1483801850.h5', '2017-01-07 17:10:51 SAST', 'AR1', 887842811], ['1483779531.h5', '2017-01-07 10:58:51 SAST', 'AR1', 638802219], ['1483730319.h5', '2017-01-06 21:18:40 SAST', 'Fannie', 684472524], ['1483695077.h5', '2017-01-06 11:32:02 SAST', 'Audrey', 5722042717], ['1483631860.h5', '2017-01-05 17:58:47 SAST', 'Audrey', 9727279392], ['1483566995.h5', '2017-01-04 23:56:37 SAST', 'AR1', 904318562], ['1483554826.h5', '2017-01-04 20:33:49 SAST', 'AR1', 938156375], ['1483525343.h5', '2017-01-04 12:22:45 SAST', 'Audrey', 787179292], ['1483503720.h5', '2017-01-04 06:22:02 SAST', 'Fannie', 1305733738], ['1483474509.h5', '2017-01-03 22:15:10 SAST', 'Fannie', 972863591], ['1483458212.h5', '2017-01-03 17:44:27 SAST', 'Fannie', 993792367], ['1483239607.h5', '2017-01-01 05:00:09 SAST', 'AR1', 2713418772]]\n"
     ]
    }
   ],
   "source": [
    "f=katarchive.search_archive(description=\"Phaseup\",startdate=begin,enddate=end)\n",
    "print f"
   ]
  },
  {
   "cell_type": "code",
   "execution_count": 47,
   "metadata": {
    "collapsed": true
   },
   "outputs": [],
   "source": [
    "f.sort(key=lambda k: k.metadata.StartTime)"
   ]
  },
  {
   "cell_type": "code",
   "execution_count": 48,
   "metadata": {
    "collapsed": false
   },
   "outputs": [
    {
     "name": "stdout",
     "output_type": "stream",
     "text": [
      "/var/kat/archive2/data/MeerKATAR1/telescope_products/2017/01/01/1483239607.h5  4k 03,06,10,14,15,21,22,25,31,62,63 XXXXXX NONE XXXXXX\n",
      "/var/kat/archive2/data/MeerKATAR1/telescope_products/2017/01/03/1483458212.h5  4k 01,06,07,08,14,15,21,22,25,31,62,63 PKS0408-65\n",
      "/var/kat/archive2/data/MeerKATAR1/telescope_products/2017/01/03/1483474509.h5  4k 01,06,07,08,14,15,21,22,25,31,62,63 PKS0408-65\n",
      "/var/kat/archive2/data/MeerKATAR1/telescope_products/2017/01/04/1483503720.h5  4k 01,06,07,08,14,15,21,22,25,31,62,63 3C286\n",
      "/var/kat/archive2/data/MeerKATAR1/telescope_products/2017/01/04/1483525343.h5  4k 06,07,08,14,15,21,22,25,31,62,63 PKS1934-63\n",
      "/var/kat/archive2/data/MeerKATAR1/telescope_products/2017/01/04/1483554826.h5  4k 06,07,08,14,15,21,22,25,31,62,63 PKS0408-65\n",
      "/var/kat/archive2/data/MeerKATAR1/telescope_products/2017/01/04/1483566995.h5  4k 06,07,08,14,15,21,22,25,31,62,63 PKS0408-65\n",
      "/var/kat/archive2/data/MeerKATAR1/telescope_products/2017/01/05/1483631860.h5 32k 06,07,08,14,15,21,22,25,31,62,63 PKS0408-65\n",
      "/var/kat/archive2/data/MeerKATAR1/telescope_products/2017/01/06/1483695077.h5 32k 06,07,14,15,21,22,25,31,62,63 PKS1934-63\n",
      "/var/kat/archive2/data/MeerKATAR1/telescope_products/2017/01/06/1483730319.h5  4k 06,07,14,15,21,22,25,31,62,63 PKS0408-65\n",
      "/var/kat/archive2/data/MeerKATAR1/telescope_products/2017/01/07/1483779531.h5  4k 06,07,14,15,21,22,25,31,62,63 PKS1934-63\n",
      "/var/kat/archive2/data/MeerKATAR1/telescope_products/2017/01/07/1483801850.h5  4k 06,07,14,15,21,22,25,31,62,63 PKS1934-63\n",
      "/var/kat/archive2/data/MeerKATAR1/telescope_products/2017/01/07/1483831455.h5  4k 06,07,14,15,21,22,25,31,62,63 PKS0408-65\n",
      "/var/kat/archive2/data/MeerKATAR1/telescope_products/2017/01/08/1483860737.h5  4k 06,07,14,15,21,22,25,31,62,63 PKS1934-63\n",
      "/var/kat/archive2/data/MeerKATAR1/telescope_products/2017/01/08/1483890271.h5  4k 06,07,14,15,21,22,25,31,62,63 PKS0408-65\n",
      "/var/kat/archive2/data/MeerKATAR1/telescope_products/2017/01/09/1483971444.h5 32k 06,07,14,15,21,22,31,62,63 PKS1934-63\n",
      "/var/kat/archive2/data/MeerKATAR1/telescope_products/2017/01/09/1483987120.h5 32k 06,07,14,15,21,22,31,62,63 PKS0408-65\n",
      "/var/kat/archive2/data/MeerKATAR1/telescope_products/2017/01/10/1484016574.h5 32k 06,07,14,15,21,22,31,62,63 3C286\n",
      "/var/kat/archive2/data/MeerKATAR1/telescope_products/2017/01/10/1484052717.h5  4k 06,07,14,15,21,22,25,31,62,63 PKS1934-63\n",
      "/var/kat/archive2/data/MeerKATAR1/telescope_products/2017/01/10/1484072660.h5  4k 07,14,15,21,22,25,31,63 PKS0408-65\n",
      "/var/kat/archive2/data/MeerKATAR1/telescope_products/2017/01/11/1484102543.h5  4k 07,14,15,21,22,25,31,63 3C286\n",
      "/var/kat/archive2/data/MeerKATAR1/telescope_products/2017/01/11/1484151224.h5 32k 06,07,14,15,21,22,25,31,62,63 PKS0408-65\n",
      "/var/kat/archive2/data/MeerKATAR1/telescope_products/2017/01/11/1484152136.h5 32k 06,07,14,15,21,22,25,63 PKS0408-65\n",
      "/var/kat/archive2/data/MeerKATAR1/telescope_products/2017/01/11/1484152678.h5 32k 06,07,14,15,21,22,25,63 PKS0408-65\n",
      "/var/kat/archive2/data/MeerKATAR1/telescope_products/2017/01/11/1484154840.h5 32k 06,07,14,15,21,22,25,63 PKS0408-65\n",
      "/var/kat/archive2/data/MeerKATAR1/telescope_products/2017/01/12/1484186407.h5 32k 06,07,14,15,21,22,25,63 PKS0408-65\n",
      "/var/kat/archive2/data/MeerKATAR1/telescope_products/2017/01/12/1484203918.h5 32k 06,07,14,15,21,22,25,63 PKS1934-63\n"
     ]
    }
   ],
   "source": [
    "for fi in f:\n",
    "    txts=fi.metadata.InstructionSet\n",
    "    fi.metadata.Description,fi.metadata.Filename\n",
    "    antstr=\",\".join(fi.metadata.Antennas).replace('m0','')\n",
    "    tgt=fi.metadata.Targets[-1].replace(' ','')\n",
    "    if tgt=='None':\n",
    "        tgt='XXXXXX NONE XXXXXX'\n",
    "    listing=(\"%s/%s %3s %s %s\") %(fi.metadata.FileLocation,fi.metadata.Filename,channels(fi.metadata.Details),\\\n",
    "                                  antstr,tgt)\n",
    "    print listing\n",
    "    Outfile.write(listing+\"\\n\")"
   ]
  },
  {
   "cell_type": "code",
   "execution_count": 49,
   "metadata": {
    "collapsed": true
   },
   "outputs": [],
   "source": [
    "Outfile.close()"
   ]
  }
 ],
 "metadata": {
  "kernelspec": {
   "display_name": "Python 2",
   "language": "python",
   "name": "python2"
  },
  "language_info": {
   "codemirror_mode": {
    "name": "ipython",
    "version": 2
   },
   "file_extension": ".py",
   "mimetype": "text/x-python",
   "name": "python",
   "nbconvert_exporter": "python",
   "pygments_lexer": "ipython2",
   "version": "2.7.6"
  }
 },
 "nbformat": 4,
 "nbformat_minor": 0
}
