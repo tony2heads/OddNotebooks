{
 "cells": [
  {
   "cell_type": "code",
   "execution_count": 30,
   "metadata": {
    "collapsed": false
   },
   "outputs": [
    {
     "name": "stdout",
     "output_type": "stream",
     "text": [
      "10d41m04.5s 41d16m09s hms_tuple(h=0.0, m=42.0, s=44.30000000000021)\n",
      "121d10m27.2797s -21d34m22.4004s\n",
      "<SkyCoord (ICRS): (ra, dec) in deg\n",
      "    (10.6742708, 40.8651694)>\n"
     ]
    }
   ],
   "source": [
    "from astropy.coordinates import SkyCoord as sky\n",
    "from astropy import units as u\n",
    "c=sky(\"00h42m44.3s +41d16m9s\",unit=(u.hourangle, u.deg),frame='icrs')\n",
    "print c.ra,c.dec, c.ra.hms\n",
    "print c.galactic.l, c.galactic.b\n",
    "m32=sky.from_name(\"M32\") #simbad lookup\n",
    "print m32"
   ]
  },
  {
   "cell_type": "code",
   "execution_count": 31,
   "metadata": {
    "collapsed": false
   },
   "outputs": [
    {
     "name": "stdout",
     "output_type": "stream",
     "text": [
      "<SkyCoord (ICRS): (ra, dec) in deg\n",
      "    (187.70593075, 12.39112331)>\n",
      "187d42m21.3507s 12d23m28.0439s hms_tuple(h=12.0, m=30.0, s=49.423380000010297)\n"
     ]
    }
   ],
   "source": [
    "VirA=sky.from_name(\"M87\")\n",
    "print VirA\n",
    "print VirA.ra,VirA.dec, VirA.ra.hms"
   ]
  },
  {
   "cell_type": "code",
   "execution_count": 32,
   "metadata": {
    "collapsed": false
   },
   "outputs": [
    {
     "name": "stdout",
     "output_type": "stream",
     "text": [
      "<SkyCoord (FK4: equinox=B1950.000, obstime=B1950.000): (ra, dec) in deg\n",
      "    (187.07323121, 12.6671866)>\n"
     ]
    }
   ],
   "source": [
    "print VirA.fk4"
   ]
  },
  {
   "cell_type": "code",
   "execution_count": 33,
   "metadata": {
    "collapsed": false
   },
   "outputs": [
    {
     "name": "stdout",
     "output_type": "stream",
     "text": [
      "<SkyCoord (FK4: equinox=B1950.000, obstime=B1950.000): (ra, dec) in deg\n",
      "    (182.07860621, 12.66702045)>\n",
      "hms_tuple(h=12.0, m=10.0, s=51.999999999999602) 12d23m20s\n"
     ]
    }
   ],
   "source": [
    "off1=sky(\"12h10m52s 12d23m20.00s\",unit=(u.hourangle, u.deg),frame='icrs')\n",
    "# aiming for 182.08 12.667 which was used at 21cm and 6cm\n",
    "print off1.fk4\n",
    "print off1.ra.hms, off1.dec"
   ]
  },
  {
   "cell_type": "code",
   "execution_count": 34,
   "metadata": {
    "collapsed": false
   },
   "outputs": [
    {
     "name": "stdout",
     "output_type": "stream",
     "text": [
      "<SkyCoord (FK4: equinox=B1950.000, obstime=B1950.000): (ra, dec) in deg\n",
      "    (192.08094982, 12.66688705)>\n",
      "hms_tuple(h=12.0, m=50.0, s=50.000000000003553) 12d23m42s\n"
     ]
    }
   ],
   "source": [
    "off2=sky(\"12h50m50s 12d23m42.00s\",unit=(u.hourangle, u.deg),frame='icrs')\n",
    "# aiming for 192.08 12.667 which was used at 21cm and 6cm\n",
    "print off2.fk4\n",
    "print off2.ra.hms, off2.dec"
   ]
  },
  {
   "cell_type": "code",
   "execution_count": 35,
   "metadata": {
    "collapsed": false
   },
   "outputs": [
    {
     "name": "stdout",
     "output_type": "stream",
     "text": [
      "hms_tuple(h=12.0, m=50.0, s=49.773465527945859) dms_tuple(d=12.0, m=23.0, s=42.39858337745062)\n",
      "hms_tuple(h=12.0, m=10.0, s=52.335379926089587) dms_tuple(d=12.0, m=23.0, s=19.919267357222452)\n",
      "12:30:49.4 +12:23:28.0\n",
      "12:50:49.8 +12:23:42.4\n",
      "12:10:52.3 +12:23:19.9\n"
     ]
    }
   ],
   "source": [
    "virp=sky(\"192.08d 12.667d\", unit=(u.deg,u.deg), frame='fk4')\n",
    "print virp.fk5.ra.hms, virp.fk5.dec.dms\n",
    "virm=sky(\"182.08d 12.667d\", unit=(u.deg,u.deg), frame='fk4')\n",
    "print virm.fk5.ra.hms, virm.fk5.dec.dms\n",
    "\n",
    "print VirA.fk5.to_string('hmsdms',sep=':',precision=1)\n",
    "\n",
    "print virp.fk5.to_string('hmsdms',sep=':',precision=1)\n",
    "print virm.fk5.to_string('hmsdms',sep=':',precision=1)"
   ]
  },
  {
   "cell_type": "code",
   "execution_count": 36,
   "metadata": {
    "collapsed": false
   },
   "outputs": [
    {
     "name": "stdout",
     "output_type": "stream",
     "text": [
      "Taurus 05:34:31.7 +22:00:52.9\n",
      "Tau- 04:46:33.2 +19:38:21.8\n",
      "Tau+ 06:46:16.6 +24:52:33.6\n"
     ]
    }
   ],
   "source": [
    "\"\"\"\n",
    "Now for Taurus\n",
    "J0534+2200 | *Tau A | Taurus A | 3C 144 | Crab | PKS 0531+21, radec, 05:34:31.97,  +22:00:52.1,                      \n",
    "\"\"\"\n",
    "import re\n",
    "Tau=sky(\"82.88d   21.982d\",unit=(u.deg,u.deg), frame='fk4')\n",
    "r=Tau.fk5.ra.hms\n",
    "d=Tau.fk5.dec.dms\n",
    "x=Tau.fk5.to_string('hmsdms',sep=\":\",precision=1)\n",
    "print \"Taurus\", x\n",
    "\n",
    "Tau1=sky(\"70.904d   19.55d\",unit=(u.deg,u.deg), frame='fk4')\n",
    "x=Tau1.fk5.to_string('hmsdms',sep=\":\",precision=1)\n",
    "print \"Tau-\",x\n",
    "#\n",
    "Tau2=sky(\"100.802d  24.93d\",unit=(u.deg,u.deg), frame='fk4')\n",
    "x=Tau2.fk5.to_string('hmsdms',sep=\":\",precision=1)\n",
    "print \"Tau+\",x                      "
   ]
  },
  {
   "cell_type": "code",
   "execution_count": 37,
   "metadata": {
    "collapsed": false
   },
   "outputs": [
    {
     "data": {
      "text/plain": [
       "'\\n           \\n'"
      ]
     },
     "execution_count": 37,
     "metadata": {},
     "output_type": "execute_result"
    }
   ],
   "source": [
    "\"\"\"\n",
    "           \n",
    "\"\"\""
   ]
  }
 ],
 "metadata": {
  "kernelspec": {
   "display_name": "Python 2",
   "language": "python",
   "name": "python2"
  },
  "language_info": {
   "codemirror_mode": {
    "name": "ipython",
    "version": 2
   },
   "file_extension": ".py",
   "mimetype": "text/x-python",
   "name": "python",
   "nbconvert_exporter": "python",
   "pygments_lexer": "ipython2",
   "version": "2.7.6"
  }
 },
 "nbformat": 4,
 "nbformat_minor": 0
}
