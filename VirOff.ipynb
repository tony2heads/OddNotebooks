{
 "metadata": {
  "name": "VirOff"
 }, 
 "name": "VirOff", 
 "nbformat": 2, 
 "worksheets": [
  {
   "cells": [
    {
     "cell_type": "code", 
     "collapsed": false, 
     "input": "import astropy.coordinates as coords\nc=coords.ICRS(\"00h42m44.3s +41d16m9s\")\nprint c.ra,c.dec, c.ra.hms\nprint c.galactic.l, c.galactic.b\nm32=coords.ICRSCoordinates.from_name(\"M32\") #simbad lookup\nprint m32", 
     "language": "python", 
     "outputs": [
      {
       "output_type": "stream", 
       "stream": "stdout", 
       "text": "0h42m44.3s 41d16m09s (0.0, 42.0, 44.300000000001489)\n2.11489rad -0.376516rad\n<ICRS RA=10.67427 deg, Dec=40.86517 deg>"
      }, 
      {
       "output_type": "stream", 
       "stream": "stdout", 
       "text": ""
      }
     ], 
     "prompt_number": 46
    }, 
    {
     "cell_type": "code", 
     "collapsed": false, 
     "input": "VirA=coords.ICRSCoordinates.from_name(\"M87\")\nprint VirA\nprint VirA.ra,VirA.dec, VirA.ra.hms", 
     "language": "python", 
     "outputs": [
      {
       "output_type": "stream", 
       "stream": "stdout", 
       "text": "<ICRS RA=187.70593 deg, Dec=12.39112 deg>\n187d42m21.3507s 12d23m28.0439s (12.0, 30.0, 49.423380000010297)"
      }
     ], 
     "prompt_number": 47
    }, 
    {
     "cell_type": "code", 
     "collapsed": false, 
     "input": "print VirA.fk4", 
     "language": "python", 
     "outputs": [
      {
       "output_type": "stream", 
       "stream": "stdout", 
       "text": "<FK4 RA=187.07320 deg, Dec=12.66713 deg>"
      }
     ], 
     "prompt_number": 48
    }, 
    {
     "cell_type": "code", 
     "collapsed": false, 
     "input": "off1=coords.ICRS(\"12h10m52s 12d23m20.00s\")\n# aiming for 182.08 12.667 which was used at 21cm and 6cm\nprint off1.fk4\nprint off1.ra.hms, off1.dec", 
     "language": "python", 
     "outputs": [
      {
       "output_type": "stream", 
       "stream": "stdout", 
       "text": "<FK4 RA=182.07857 deg, Dec=12.66696 deg>\n(12.0, 10.0, 51.999999999999602) 12d23m20s"
      }
     ], 
     "prompt_number": 53
    }, 
    {
     "cell_type": "code", 
     "collapsed": false, 
     "input": "off2=coords.ICRS(\"12h50m50s 12d23m42.00s\")\n# aiming for 192.08 12.667 which was used at 21cm and 6cm\nprint off2.fk4\nprint off2.ra.hms, off2.dec", 
     "language": "python", 
     "outputs": [
      {
       "output_type": "stream", 
       "stream": "stdout", 
       "text": "<FK4 RA=192.08091 deg, Dec=12.66683 deg>\n(12.0, 50.0, 50.000000000003553) 12d23m42s"
      }
     ], 
     "prompt_number": 54
    }, 
    {
     "cell_type": "code", 
     "collapsed": false, 
     "input": "virp=coords.FK4(\"192.08d 12.667d\")\nprint virp.fk5.ra.hms, virp.fk5.dec.dms\nvirm=coords.FK4(\"182.08d 12.667d\")\nprint virm.fk5.ra.hms, virm.fk5.dec.dms", 
     "language": "python", 
     "outputs": [
      {
       "output_type": "stream", 
       "stream": "stdout", 
       "text": "(12.0, 50.0, 49.773465449384702) (12.0, 23.0, 42.398558958174419)\n(12.0, 10.0, 52.335379910786628) (12.0, 23.0, 19.919242377831097)"
      }
     ], 
     "prompt_number": 51
    }, 
    {
     "cell_type": "code", 
     "collapsed": false, 
     "input": "\"\"\"\nNow for Taurus\nJ0534+2200 | *Tau A | Taurus A | 3C 144 | Crab | PKS 0531+21, radec, 05:34:31.97,  +22:00:52.1,                      \n\"\"\"\nimport re\nTau=coords.FK4(\"82.88d   21.982d\")\nr=Tau.fk5.ra.hms\nd=Tau.fk5.dec.dms\nx=Tau.fk5.to_string()\n#print x\n\npos=re.sub('[d-m]',':',x)\nTauOn=re.sub('s',',',pos)\nprint TauOn\n#\nTau1=coords.FK4(\"70.904d   19.55d\")\nx=Tau1.fk5.to_string()\npos=re.sub('[d-m]',':',x)\nTauDown=re.sub('s',',',pos)\nprint TauDown\n#\nTau2=  coords.FK4(\"100.802d  24.93d\")\nx=Tau2.fk5.to_string()\npos=re.sub('[d-m]',':',x)\nTauUp=re.sub('s',',',pos)\nprint TauUp                          ", 
     "language": "python", 
     "outputs": [
      {
       "output_type": "stream", 
       "stream": "stdout", 
       "text": "5:34:31.7442, 22:00:52.8834,\n4:46:33.2259, 19:38:21.7848,\n6:46:16.6461, 24:52:33.597,"
      }
     ], 
     "prompt_number": 66
    }, 
    {
     "cell_type": "code", 
     "collapsed": true, 
     "input": "\"\"\"\n           \n\"\"\"", 
     "language": "python", 
     "outputs": []
    }
   ]
  }
 ]
}