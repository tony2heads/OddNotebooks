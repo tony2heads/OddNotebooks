{
 "metadata": {
  "name": "",
  "signature": "sha256:3ad013695e020d094a81cf6503bf9cf7c163e346bcb6cb231a5012fbdf3382c0"
 },
 "nbformat": 3,
 "nbformat_minor": 0,
 "worksheets": [
  {
   "cells": [
    {
     "cell_type": "code",
     "collapsed": false,
     "input": [
      "#%loadpy /home/tony/Desktop/CLaw/uvnegate.py"
     ],
     "language": "python",
     "metadata": {},
     "outputs": [],
     "prompt_number": 1
    },
    {
     "cell_type": "code",
     "collapsed": false,
     "input": [
      "#! /usr/bin/env python\n",
      "#\n",
      "# claw, 28jul09\n",
      "# Read uv data and write its opposite\n",
      "\n",
      "import aipy, sys\n",
      "\n",
      "#file = sys.argv[1]\n",
      "file = '/home/tony/Desktop/KATmaps/ATEL4770/2013-07-03/J1424-4913.mir/'\n",
      "\n",
      "uvi = aipy.miriad.UV(file)\n",
      "#uvo = aipy.miriad.UV(file+'-neg', status='new')\n",
      "uvo=aipy.miriad.UV('test-neg.mir',status='new')\n",
      "\n",
      "uvo.init_from_uv(uvi)\n",
      "\n",
      "def negate(uv, preamble, data):\n",
      "    uvw, t, (i,j) = preamble\n",
      "    return preamble, data * (-1)\n",
      "\n",
      "uvo.pipe(uvi, mfunc=negate, append2hist=\"Negated data\\n\")\n",
      "del(uvo)\n"
     ],
     "language": "python",
     "metadata": {},
     "outputs": [
      {
       "ename": "RuntimeError",
       "evalue": "Runtime error in MIRIAD",
       "output_type": "pyerr",
       "traceback": [
        "\u001b[1;31m---------------------------------------------------------------------------\u001b[0m\n\u001b[1;31mRuntimeError\u001b[0m                              Traceback (most recent call last)",
        "\u001b[1;32m<ipython-input-4-f08d453c961e>\u001b[0m in \u001b[0;36m<module>\u001b[1;34m()\u001b[0m\n\u001b[0;32m     11\u001b[0m \u001b[0muvi\u001b[0m \u001b[1;33m=\u001b[0m \u001b[0maipy\u001b[0m\u001b[1;33m.\u001b[0m\u001b[0mmiriad\u001b[0m\u001b[1;33m.\u001b[0m\u001b[0mUV\u001b[0m\u001b[1;33m(\u001b[0m\u001b[0mfile\u001b[0m\u001b[1;33m)\u001b[0m\u001b[1;33m\u001b[0m\u001b[0m\n\u001b[0;32m     12\u001b[0m \u001b[1;31m#uvo = aipy.miriad.UV(file+'-neg', status='new')\u001b[0m\u001b[1;33m\u001b[0m\u001b[1;33m\u001b[0m\u001b[0m\n\u001b[1;32m---> 13\u001b[1;33m \u001b[0muvo\u001b[0m\u001b[1;33m=\u001b[0m\u001b[0maipy\u001b[0m\u001b[1;33m.\u001b[0m\u001b[0mmiriad\u001b[0m\u001b[1;33m.\u001b[0m\u001b[0mUV\u001b[0m\u001b[1;33m(\u001b[0m\u001b[1;34m'test-neg.mir'\u001b[0m\u001b[1;33m,\u001b[0m\u001b[0mstatus\u001b[0m\u001b[1;33m=\u001b[0m\u001b[1;34m'new'\u001b[0m\u001b[1;33m)\u001b[0m\u001b[1;33m\u001b[0m\u001b[0m\n\u001b[0m\u001b[0;32m     14\u001b[0m \u001b[1;33m\u001b[0m\u001b[0m\n\u001b[0;32m     15\u001b[0m \u001b[0muvo\u001b[0m\u001b[1;33m.\u001b[0m\u001b[0minit_from_uv\u001b[0m\u001b[1;33m(\u001b[0m\u001b[0muvi\u001b[0m\u001b[1;33m)\u001b[0m\u001b[1;33m\u001b[0m\u001b[0m\n",
        "\u001b[1;32m/usr/local/lib/python2.7/dist-packages/aipy/miriad.pyc\u001b[0m in \u001b[0;36m__init__\u001b[1;34m(self, filename, status, corrmode)\u001b[0m\n\u001b[0;32m     71\u001b[0m         \u001b[1;32massert\u001b[0m\u001b[1;33m(\u001b[0m\u001b[0mstatus\u001b[0m \u001b[1;32min\u001b[0m \u001b[1;33m[\u001b[0m\u001b[1;34m'old'\u001b[0m\u001b[1;33m,\u001b[0m \u001b[1;34m'new'\u001b[0m\u001b[1;33m,\u001b[0m \u001b[1;34m'append'\u001b[0m\u001b[1;33m]\u001b[0m\u001b[1;33m)\u001b[0m\u001b[1;33m\u001b[0m\u001b[0m\n\u001b[0;32m     72\u001b[0m         \u001b[1;32massert\u001b[0m\u001b[1;33m(\u001b[0m\u001b[0mcorrmode\u001b[0m \u001b[1;32min\u001b[0m \u001b[1;33m[\u001b[0m\u001b[1;34m'r'\u001b[0m\u001b[1;33m,\u001b[0m \u001b[1;34m'j'\u001b[0m\u001b[1;33m]\u001b[0m\u001b[1;33m)\u001b[0m\u001b[1;33m\u001b[0m\u001b[0m\n\u001b[1;32m---> 73\u001b[1;33m         \u001b[0m_miriad\u001b[0m\u001b[1;33m.\u001b[0m\u001b[0mUV\u001b[0m\u001b[1;33m.\u001b[0m\u001b[0m__init__\u001b[0m\u001b[1;33m(\u001b[0m\u001b[0mself\u001b[0m\u001b[1;33m,\u001b[0m \u001b[0mfilename\u001b[0m\u001b[1;33m,\u001b[0m \u001b[0mstatus\u001b[0m\u001b[1;33m,\u001b[0m \u001b[0mcorrmode\u001b[0m\u001b[1;33m)\u001b[0m\u001b[1;33m\u001b[0m\u001b[0m\n\u001b[0m\u001b[0;32m     74\u001b[0m         \u001b[0mself\u001b[0m\u001b[1;33m.\u001b[0m\u001b[0mstatus\u001b[0m \u001b[1;33m=\u001b[0m \u001b[0mstatus\u001b[0m\u001b[1;33m\u001b[0m\u001b[0m\n\u001b[0;32m     75\u001b[0m         \u001b[0mself\u001b[0m\u001b[1;33m.\u001b[0m\u001b[0mnchan\u001b[0m \u001b[1;33m=\u001b[0m \u001b[1;36m4096\u001b[0m\u001b[1;33m\u001b[0m\u001b[0m\n",
        "\u001b[1;31mRuntimeError\u001b[0m: Runtime error in MIRIAD"
       ]
      }
     ],
     "prompt_number": 4
    },
    {
     "cell_type": "code",
     "collapsed": false,
     "input": [],
     "language": "python",
     "metadata": {},
     "outputs": []
    }
   ],
   "metadata": {}
  }
 ]
}