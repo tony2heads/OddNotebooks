{
 "cells": [
  {
   "cell_type": "markdown",
   "metadata": {},
   "source": [
    "# from PROBING FINE-SCALE IONOSPHERIC STRUCTURE WITH THE VERY LARGE ARRAY RADIO TELESCOPE"
   ]
  },
  {
   "cell_type": "code",
   "execution_count": 9,
   "metadata": {
    "collapsed": true
   },
   "outputs": [],
   "source": [
    "def rad(f,TECU):\n",
    "    \"\"\"\n",
    "    radians of phase from TECU\n",
    "    freq f in MHZ\n",
    "    \"\"\"\n",
    "    nu=f/74.0\n",
    "    phi=114*TECU/nu\n",
    "    return phi"
   ]
  },
  {
   "cell_type": "code",
   "execution_count": 10,
   "metadata": {
    "collapsed": true
   },
   "outputs": [],
   "source": [
    "def r2(f,TECU):\n",
    "    nu=f/100.0\n",
    "    phi=84.35*TECU/f\n",
    "    return phi"
   ]
  },
  {
   "cell_type": "code",
   "execution_count": 11,
   "metadata": {},
   "outputs": [
    {
     "name": "stdout",
     "output_type": "stream",
     "text": [
      "90.3857142857 0.90375\n"
     ]
    }
   ],
   "source": [
    "TECU=15 #(typical range 2-30)\n",
    "f=1400 #MHz\n",
    "print rad(f,TECU),r2(f,TECU)"
   ]
  },
  {
   "cell_type": "code",
   "execution_count": 12,
   "metadata": {
    "collapsed": true
   },
   "outputs": [],
   "source": [
    "def theta(f,B,phi):\n",
    "    \"\"\"\n",
    "    wants B in metres\n",
    "    f in MHz\n",
    "    phi from delta TECU\n",
    "    \"\"\"\n",
    "    la=299.8/f # la in metres for f in MHz\n",
    "    print la\n",
    "    th=la*phi/(2*3.14156*B)\n",
    "    return th # radians"
   ]
  },
  {
   "cell_type": "code",
   "execution_count": 13,
   "metadata": {
    "scrolled": true
   },
   "outputs": [
    {
     "name": "stdout",
     "output_type": "stream",
     "text": [
      "0.211126760563\n",
      "1.73274031324 arcsec\n"
     ]
    }
   ],
   "source": [
    "dt=2.0 # slant delta TECU\n",
    "print 206265*theta(1420.0,8000.0, dt),\"arcsec\""
   ]
  },
  {
   "cell_type": "code",
   "execution_count": 14,
   "metadata": {},
   "outputs": [
    {
     "name": "stdout",
     "output_type": "stream",
     "text": [
      "2.83047479912\n"
     ]
    }
   ],
   "source": [
    "B=8000.\n",
    "dt=(B/1000.0)*TECU*6.59e-5*(f/74.0)**2\n",
    "print dt"
   ]
  },
  {
   "cell_type": "code",
   "execution_count": 16,
   "metadata": {},
   "outputs": [
    {
     "name": "stdout",
     "output_type": "stream",
     "text": [
      "0.551102941176\n",
      "6.40106476274 arcsec\n"
     ]
    }
   ],
   "source": [
    "print 206265*theta(544.0,B, dt),\"arcsec\""
   ]
  },
  {
   "cell_type": "code",
   "execution_count": 25,
   "metadata": {},
   "outputs": [
    {
     "name": "stdout",
     "output_type": "stream",
     "text": [
      "8.44800818985e-07\n",
      "8.44800818985e-07\n"
     ]
    }
   ],
   "source": [
    "import numpy as np\n",
    "e=1.60218e-19 # coulomb\n",
    "m_e=9.10938356e-31 #kg\n",
    "e0=8.85418782e-12 # m-3 kg-1 s4 A2\n",
    "c=2.99792458e8 #m/s\n",
    "\n",
    "print e*e/(4*np.pi*e0*m_e*c)\n",
    "factor=e*e/(4*np.pi*e0*m_e*c) #*1e6*1e-16 # to scale for MHz and TECU\n",
    "print factor"
   ]
  },
  {
   "cell_type": "code",
   "execution_count": 26,
   "metadata": {},
   "outputs": [
    {
     "name": "stdout",
     "output_type": "stream",
     "text": [
      "1.12640109198\n"
     ]
    }
   ],
   "source": [
    "DTECU=0.01*1e16\n",
    "freq=75.*1e6\n",
    "phs=factor*DTECU/freq\n",
    "print phs #Radians"
   ]
  },
  {
   "cell_type": "code",
   "execution_count": 27,
   "metadata": {
    "collapsed": true
   },
   "outputs": [],
   "source": [
    "def phase(freq,DTEC):\n",
    "    \"\"\"\n",
    "    give freq in MHz\n",
    "    give DTEC for change of TEC in TECU\n",
    "    \"\"\"\n",
    "    rad=(e*e/(4*np.pi*e0*m_e*c))*1e10*(DTEC/freq) #factor of 1e10 to get from SI to practical\n",
    "    return np.degrees(rad)"
   ]
  },
  {
   "cell_type": "code",
   "execution_count": 38,
   "metadata": {},
   "outputs": [
    {
     "name": "stdout",
     "output_type": "stream",
     "text": [
      "44.4885307509644\n"
     ]
    }
   ],
   "source": [
    "print phase(544.,.05)"
   ]
  }
 ],
 "metadata": {
  "kernelspec": {
   "display_name": "Python 2",
   "language": "python",
   "name": "python2"
  },
  "language_info": {
   "codemirror_mode": {
    "name": "ipython",
    "version": 2
   },
   "file_extension": ".py",
   "mimetype": "text/x-python",
   "name": "python",
   "nbconvert_exporter": "python",
   "pygments_lexer": "ipython2",
   "version": "2.7.17"
  }
 },
 "nbformat": 4,
 "nbformat_minor": 2
}
