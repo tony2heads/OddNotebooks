{
 "metadata": {
  "name": "",
  "signature": "sha256:0ed0d4b0fc7da2cc8a4c4579e790d3c52b3a6da3aaef7118c67f6f1588527be6"
 },
 "nbformat": 3,
 "nbformat_minor": 0,
 "worksheets": [
  {
   "cells": [
    {
     "cell_type": "code",
     "collapsed": false,
     "input": [
      "#%loadpy /home/tony/Desktop/Aipy/KAT.py"
     ],
     "language": "python",
     "metadata": {},
     "outputs": [],
     "prompt_number": 5
    },
    {
     "cell_type": "code",
     "collapsed": false,
     "input": [
      "import aipy as a\n",
      "\n",
      "def get_aa(freqs):\n",
      "    # Define the location of your instrument\n",
      "    lat, lon = '-30.721', '21.410'\n",
      "    # Create a model of the primary beam.  BeamFlat is a minimal model \n",
      "    # that has unity gain in all directions.  \n",
      "    #beam = a.fit.Beam(freqs)\n",
      "    beam=a.fit.Beam2DGaussian(freqs,xwidth=0.0227,ywidth=0.0227)\n",
      "    # Make a list of antennas with requisite nanosecond locations, \n",
      "    # primary beams, and any other calibration parameters you wish to provide.\n",
      "    ants = [\n",
      "        a.fit.Antenna(  83.71, -30.33,  0.15, beam),\n",
      "        a.fit.Antenna( 301.14,  87.99, -0.75, beam),\n",
      "        a.fit.Antenna(  13.29,  87.99,  0.00, beam),\n",
      "        a.fit.Antenna( -72.06,  85.03,  0.06, beam),\n",
      "        a.fit.Antenna(-127.66,  -8.64,  1.30, beam),\n",
      "        a.fit.Antenna(-205.43,-265.84,  2.34, beam),\n",
      "        a.fit.Antenna(-293.49, 252.68,  0.46, beam),\n",
      "    ]\n",
      "    # Create an AntennaArray at the specified location with the listed antennas\n",
      "    aa = a.fit.AntennaArray((lat,lon), ants)\n",
      "    return aa\n",
      "\n",
      "def get_catalog(srcs=None, cutoff=None, catalogs=[]):\n",
      "    # Pass off the request for sources to the AIPY source catalog.  If desired, \n",
      "    # you can substitute your own sources or source calibrations.\n",
      "    return a.src.get_catalog(srcs=srcs, cutoff=cutoff, catalogs=catalogs)\n"
     ],
     "language": "python",
     "metadata": {},
     "outputs": [],
     "prompt_number": 6
    },
    {
     "cell_type": "code",
     "collapsed": false,
     "input": [
      "#%loadpy /home/tony/Desktop/Aipy/lst.py"
     ],
     "language": "python",
     "metadata": {},
     "outputs": [],
     "prompt_number": 7
    },
    {
     "cell_type": "code",
     "collapsed": false,
     "input": [
      "#!/usr/bin/env python\n",
      "\"\"\"\n",
      "Output LST, Julian date, and Sun position at the provided location\n",
      "\"\"\"\n",
      "\n",
      "import aipy as a, sys, optparse, ephem\n",
      "\"\"\"\n",
      "o = optparse.OptionParser()\n",
      "o.set_usage('lst [options] jd1 jd2 ...')\n",
      "o.set_description(__doc__)\n",
      "a.scripting.add_standard_options(o, cal=True, src=True)\n",
      "\n",
      "\n",
      "opts, args = o.parse_args(sys.argv[1:])\n",
      "\n",
      "if not opts.src is None:\n",
      "    srclist,cutoff,catalogs = a.scripting.parse_srcs(opts.src, opts.cat)\n",
      "else: srclist,cutoff,catalogs = [], None, []\n",
      "cat = a.cal.get_catalog(opts.cal, srclist, cutoff, catalogs)\n",
      "aa = a.cal.get_aa(opts.cal, .1, .1, 1)\n",
      "sun = ephem.Sun()\n",
      "moon = ephem.Moon()\n",
      "if len(args) == 0: args = [a.phs.ephem2juldate(ephem.now())]\n",
      "\"\"\"\n",
      "args = [a.phs.ephem2juldate(ephem.now())]\n",
      "aa = get_aa(1822.0)\n",
      "print aa\n",
      "\n",
      "for jd in map(float, args):\n",
      "    aa.set_jultime(jd)\n",
      "    sun.compute(aa)\n",
      "    moon.compute(aa)\n",
      "    print 'LST:', aa.sidereal_time(),\n",
      "    print 'LST radians:', float( aa.sidereal_time()),\n",
      "    print '     Julian Date:', jd,\n",
      "    print '     Day:', aa.date\n",
      "    print 'Sun is at (RA, DEC):', str((str(sun.ra), str(sun.dec)))\n",
      "    print 'Moon is at (RA, DEC):', str((str(moon.ra), str(moon.dec)))\n",
      "    cat.compute(aa)\n",
      "    for src in cat:\n",
      "        print src, '\\tALT=%11s' % cat[src].alt, \n",
      "        print '\\tNEXT TRANSIT=%9.5f' % a.phs.ephem2juldate(aa.next_transit(cat[src]))\n",
      "    print '-' * 70\n",
      "\n"
     ],
     "language": "python",
     "metadata": {},
     "outputs": [
      {
       "ename": "AttributeError",
       "evalue": "'float' object has no attribute 'size'",
       "output_type": "pyerr",
       "traceback": [
        "\u001b[1;31m---------------------------------------------------------------------------\u001b[0m\n\u001b[1;31mAttributeError\u001b[0m                            Traceback (most recent call last)",
        "\u001b[1;32m<ipython-input-9-7f59bf220439>\u001b[0m in \u001b[0;36m<module>\u001b[1;34m()\u001b[0m\n\u001b[0;32m     24\u001b[0m \"\"\"\n\u001b[0;32m     25\u001b[0m \u001b[0margs\u001b[0m \u001b[1;33m=\u001b[0m \u001b[1;33m[\u001b[0m\u001b[0ma\u001b[0m\u001b[1;33m.\u001b[0m\u001b[0mphs\u001b[0m\u001b[1;33m.\u001b[0m\u001b[0mephem2juldate\u001b[0m\u001b[1;33m(\u001b[0m\u001b[0mephem\u001b[0m\u001b[1;33m.\u001b[0m\u001b[0mnow\u001b[0m\u001b[1;33m(\u001b[0m\u001b[1;33m)\u001b[0m\u001b[1;33m)\u001b[0m\u001b[1;33m]\u001b[0m\u001b[1;33m\u001b[0m\u001b[0m\n\u001b[1;32m---> 26\u001b[1;33m \u001b[0maa\u001b[0m \u001b[1;33m=\u001b[0m \u001b[0mget_aa\u001b[0m\u001b[1;33m(\u001b[0m\u001b[1;36m1822.0\u001b[0m\u001b[1;33m)\u001b[0m\u001b[1;33m\u001b[0m\u001b[0m\n\u001b[0m\u001b[0;32m     27\u001b[0m \u001b[1;32mprint\u001b[0m \u001b[0maa\u001b[0m\u001b[1;33m\u001b[0m\u001b[0m\n\u001b[0;32m     28\u001b[0m \u001b[1;33m\u001b[0m\u001b[0m\n",
        "\u001b[1;32m<ipython-input-6-c7356e0ad6fb>\u001b[0m in \u001b[0;36mget_aa\u001b[1;34m(freqs)\u001b[0m\n\u001b[0;32m      7\u001b[0m     \u001b[1;31m# that has unity gain in all directions.\u001b[0m\u001b[1;33m\u001b[0m\u001b[1;33m\u001b[0m\u001b[0m\n\u001b[0;32m      8\u001b[0m     \u001b[1;31m#beam = a.fit.Beam(freqs)\u001b[0m\u001b[1;33m\u001b[0m\u001b[1;33m\u001b[0m\u001b[0m\n\u001b[1;32m----> 9\u001b[1;33m     \u001b[0mbeam\u001b[0m\u001b[1;33m=\u001b[0m\u001b[0ma\u001b[0m\u001b[1;33m.\u001b[0m\u001b[0mfit\u001b[0m\u001b[1;33m.\u001b[0m\u001b[0mBeam2DGaussian\u001b[0m\u001b[1;33m(\u001b[0m\u001b[0mfreqs\u001b[0m\u001b[1;33m,\u001b[0m\u001b[0mxwidth\u001b[0m\u001b[1;33m=\u001b[0m\u001b[1;36m0.0227\u001b[0m\u001b[1;33m,\u001b[0m\u001b[0mywidth\u001b[0m\u001b[1;33m=\u001b[0m\u001b[1;36m0.0227\u001b[0m\u001b[1;33m)\u001b[0m\u001b[1;33m\u001b[0m\u001b[0m\n\u001b[0m\u001b[0;32m     10\u001b[0m     \u001b[1;31m# Make a list of antennas with requisite nanosecond locations,\u001b[0m\u001b[1;33m\u001b[0m\u001b[1;33m\u001b[0m\u001b[0m\n\u001b[0;32m     11\u001b[0m     \u001b[1;31m# primary beams, and any other calibration parameters you wish to provide.\u001b[0m\u001b[1;33m\u001b[0m\u001b[1;33m\u001b[0m\u001b[0m\n",
        "\u001b[1;32m/usr/local/lib/python2.7/dist-packages/aipy/amp.pyc\u001b[0m in \u001b[0;36m__init__\u001b[1;34m(self, freqs, xwidth, ywidth)\u001b[0m\n\u001b[0;32m    111\u001b[0m         \"\"\"xwidth = angular width (radians) in EW direction\n\u001b[0;32m    112\u001b[0m         ywidth = angular width (radians) in NS direction\"\"\"\n\u001b[1;32m--> 113\u001b[1;33m         \u001b[0mphs\u001b[0m\u001b[1;33m.\u001b[0m\u001b[0mBeam\u001b[0m\u001b[1;33m.\u001b[0m\u001b[0m__init__\u001b[0m\u001b[1;33m(\u001b[0m\u001b[0mself\u001b[0m\u001b[1;33m,\u001b[0m \u001b[0mfreqs\u001b[0m\u001b[1;33m)\u001b[0m\u001b[1;33m\u001b[0m\u001b[0m\n\u001b[0m\u001b[0;32m    114\u001b[0m         \u001b[0mself\u001b[0m\u001b[1;33m.\u001b[0m\u001b[0mxwidth\u001b[0m\u001b[1;33m,\u001b[0m \u001b[0mself\u001b[0m\u001b[1;33m.\u001b[0m\u001b[0mywidth\u001b[0m \u001b[1;33m=\u001b[0m \u001b[0mxwidth\u001b[0m\u001b[1;33m,\u001b[0m \u001b[0mywidth\u001b[0m\u001b[1;33m\u001b[0m\u001b[0m\n\u001b[0;32m    115\u001b[0m     \u001b[1;32mdef\u001b[0m \u001b[0mresponse\u001b[0m\u001b[1;33m(\u001b[0m\u001b[0mself\u001b[0m\u001b[1;33m,\u001b[0m \u001b[0mxyz\u001b[0m\u001b[1;33m)\u001b[0m\u001b[1;33m:\u001b[0m\u001b[1;33m\u001b[0m\u001b[0m\n",
        "\u001b[1;32m/usr/local/lib/python2.7/dist-packages/aipy/phs.pyc\u001b[0m in \u001b[0;36m__init__\u001b[1;34m(self, freqs, **kwargs)\u001b[0m\n\u001b[0;32m    158\u001b[0m         \u001b[1;34m\"\"\"freqs = frequencies (in GHz) at bin centers across spectrum.\"\"\"\u001b[0m\u001b[1;33m\u001b[0m\u001b[0m\n\u001b[0;32m    159\u001b[0m         \u001b[0mself\u001b[0m\u001b[1;33m.\u001b[0m\u001b[0mfreqs\u001b[0m \u001b[1;33m=\u001b[0m \u001b[0mfreqs\u001b[0m\u001b[1;33m\u001b[0m\u001b[0m\n\u001b[1;32m--> 160\u001b[1;33m         \u001b[0mself\u001b[0m\u001b[1;33m.\u001b[0m\u001b[0mchans\u001b[0m \u001b[1;33m=\u001b[0m \u001b[0mn\u001b[0m\u001b[1;33m.\u001b[0m\u001b[0marange\u001b[0m\u001b[1;33m(\u001b[0m\u001b[0mself\u001b[0m\u001b[1;33m.\u001b[0m\u001b[0mfreqs\u001b[0m\u001b[1;33m.\u001b[0m\u001b[0msize\u001b[0m\u001b[1;33m)\u001b[0m\u001b[1;33m\u001b[0m\u001b[0m\n\u001b[0m\u001b[0;32m    161\u001b[0m         \u001b[0mself\u001b[0m\u001b[1;33m.\u001b[0m\u001b[0m_update_afreqs\u001b[0m\u001b[1;33m(\u001b[0m\u001b[1;33m)\u001b[0m\u001b[1;33m\u001b[0m\u001b[0m\n\u001b[0;32m    162\u001b[0m     \u001b[1;32mdef\u001b[0m \u001b[0m_update_afreqs\u001b[0m\u001b[1;33m(\u001b[0m\u001b[0mself\u001b[0m\u001b[1;33m)\u001b[0m\u001b[1;33m:\u001b[0m\u001b[1;33m\u001b[0m\u001b[0m\n",
        "\u001b[1;31mAttributeError\u001b[0m: 'float' object has no attribute 'size'"
       ]
      }
     ],
     "prompt_number": 9
    },
    {
     "cell_type": "code",
     "collapsed": false,
     "input": [],
     "language": "python",
     "metadata": {},
     "outputs": []
    },
    {
     "cell_type": "code",
     "collapsed": false,
     "input": [],
     "language": "python",
     "metadata": {},
     "outputs": []
    }
   ],
   "metadata": {}
  }
 ]
}