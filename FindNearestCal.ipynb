{
 "cells": [
  {
   "cell_type": "code",
   "execution_count": 1,
   "metadata": {
    "collapsed": true
   },
   "outputs": [],
   "source": [
    "# %load /home/tony/Desktop/SouthAfrica/SourceLists/FindCal.py\n",
    "#!/usr/bin/env python\n",
    "\n",
    "# # Search for calibrators\n",
    "# ## Needs\n",
    "# * CSV file with calibrators\n",
    "# * Source to match with\n",
    "# * math, ephem, operator\n",
    "\n",
    "# In[87]:\n",
    "\n",
    "import ephem\n",
    "import math\n",
    "import operator\n",
    "\n",
    "# Setup KAT site\n",
    "kat = ephem.Observer()\n",
    "kat.lat = '-30.71317'\n",
    "kat.long = '21.44389'\n",
    "kat.elevation = 1038\n",
    "kat.temp=25\n",
    "kat.pressure=890\n",
    "kat.horizon=\"20:00:00\"\n",
    "kat.date = ephem.now()\n",
    "\n"
   ]
  },
  {
   "cell_type": "code",
   "execution_count": 2,
   "metadata": {
    "collapsed": false
   },
   "outputs": [],
   "source": [
    "testsource=ephem.FixedBody()\n",
    "testsource.name=\"OV-293\"\n",
    "\n",
    "\"\"\"\n",
    "R.A.(2000) = 19 24 51.056\n",
    "Dec.(2000) = -29 14 30.12\n",
    "\n",
    "\"\"\"\n",
    "testsource._ra=\"19:24:51.056\"\n",
    "testsource._dec=\"-29:14:30.12\"\n",
    "testsource.compute(kat)\n",
    "# Get sources\n"
   ]
  },
  {
   "cell_type": "code",
   "execution_count": 3,
   "metadata": {
    "collapsed": true
   },
   "outputs": [],
   "source": [
    "filename='/home/tony/Desktop/SouthAfrica/SourceLists/Good.csv' # standard layout\n",
    "sources=open(filename)\n",
    "slist=[]\n",
    "for s in sources:\n",
    "    #print s\n",
    "    slist.append(s)\n"
   ]
  },
  {
   "cell_type": "code",
   "execution_count": 4,
   "metadata": {
    "collapsed": true
   },
   "outputs": [],
   "source": [
    "seps=[]\n",
    "names=[]\n",
    "for cal in slist:\n",
    "    parts=cal.split(',')\n",
    "    #print parts[0:1]\n",
    "    if parts[0][0] != \"#\":\n",
    "        #print parts[0],parts[2],parts[3]\n",
    "        calp=ephem.FixedBody()\n",
    "        calp.name=parts[0]\n",
    "        calp._ra=parts[2]   # J2000 position\n",
    "        calp._dec=parts[3]  #J2000 position\n",
    "        calp.compute(kat) \n",
    "        #print calp.name, ephem.separation(calp,testsource)\n",
    "        names.append(calp.name)\n",
    "        seps.append(math.degrees(ephem.separation(calp,testsource)))\n",
    "\n"
   ]
  },
  {
   "cell_type": "code",
   "execution_count": 5,
   "metadata": {
    "collapsed": false
   },
   "outputs": [
    {
     "name": "stdout",
     "output_type": "stream",
     "text": [
      "OV-293 19:24:51.06 -29:14:30.1\n",
      "Calibrator Sep/deg\n",
      "OV-236        0.0\n",
      "J1830-3602   13.2\n",
      "1830-210     14.2\n",
      "1938-155     14.3\n",
      "2032-350     16.0\n",
      "1742-289     21.6\n",
      "J2107-2526   23.0\n",
      "1819-096     24.4\n",
      "J1818-5158   25.9\n",
      "J1720-358    26.9\n",
      "J1744-5144   29.2\n",
      "3C391        29.6\n",
      "J2131-2036   29.8\n",
      "NRAO530      30.5\n",
      "J2138-4646   31.2\n",
      "1934-638     34.6\n",
      "2203-188     38.2\n",
      "2134+004     43.4\n",
      "3C446        49.1\n",
      "1549-790     54.5\n",
      "J1517-2422   54.7\n",
      "J0010-4153   57.9\n",
      "J1424-4913   58.9\n",
      "CTA102       61.1\n",
      "J0042-4414   62.8\n",
      "J0025-2602   65.5\n",
      "3C454.3      67.9\n",
      "2050+364     69.0\n",
      "J0252-712    69.1\n",
      "J0408-7507   71.0\n",
      "CTD93        73.0\n",
      "J0635-7516   75.2\n",
      "J0408-6545   77.8\n",
      "3C345        78.6\n",
      "J1218-4600   79.8\n",
      "3C298        81.5\n",
      "3C283        82.0\n",
      "J0743-6726   83.3\n",
      "0106+013     87.2\n",
      "1345+125     91.1\n",
      "3C279        93.4\n",
      "J0240-2309   93.8\n",
      "B0823-500    99.5\n",
      "J0538-4405   102.8\n",
      "3C286        103.1\n",
      "3C273        103.1\n",
      "1127-145     106.3\n",
      "3C48         108.0\n",
      "0521-365     108.3\n",
      "1148-001     110.2\n",
      "J0405-1308   115.9\n",
      "J0521-2047   121.8\n",
      "CTA21        122.6\n",
      "3C237        136.0\n",
      "3C161        142.2\n",
      "3C123        143.7\n",
      "J0744-0629   144.0\n",
      "3C133        148.3\n",
      "3C138        149.0\n",
      "0531+194     153.2\n"
     ]
    }
   ],
   "source": [
    "sps=dict(zip(names,seps)) #zipped distances\n",
    "\n",
    "x=sorted(sps.items(), key=operator.itemgetter(1)) # sorted list of distances\n",
    "print testsource.name, testsource.a_ra, testsource.a_dec\n",
    "print \"Calibrator Sep/deg\"\n",
    "for n,s in x:\n",
    "    print (\"%-12s %4.1f\") %(n,s)\n"
   ]
  },
  {
   "cell_type": "code",
   "execution_count": 6,
   "metadata": {
    "collapsed": false
   },
   "outputs": [
    {
     "name": "stdout",
     "output_type": "stream",
     "text": [
      "30:29:11.4 108:00:06.4\n"
     ]
    }
   ],
   "source": [
    "print testsource.alt,testsource.az"
   ]
  },
  {
   "cell_type": "code",
   "execution_count": null,
   "metadata": {
    "collapsed": true
   },
   "outputs": [],
   "source": []
  },
  {
   "cell_type": "code",
   "execution_count": 7,
   "metadata": {
    "collapsed": false
   },
   "outputs": [
    {
     "name": "stdout",
     "output_type": "stream",
     "text": [
      "2016/11/25 08:09:32 2016/11/25 13:40:24 2016/11/25 19:11:16\n"
     ]
    },
    {
     "name": "stderr",
     "output_type": "stream",
     "text": [
      "/usr/local/lib/python2.7/dist-packages/ipykernel/__main__.py:1: DeprecationWarning: the ephem.Body attributes 'rise_time', 'rise_az', 'transit_time', 'transit_alt', 'set_time', 'set_az', 'circumpolar', and 'never_up' are deprecated; please convert your program to use the ephem.Observer functions next_rising(), previous_rising(), next_transit(), and so forth\n",
      "\n",
      "  if __name__ == '__main__':\n"
     ]
    }
   ],
   "source": [
    "print testsource.rise_time, testsource.transit_time,testsource.set_time"
   ]
  }
 ],
 "metadata": {
  "kernelspec": {
   "display_name": "Python 2",
   "language": "python",
   "name": "python2"
  },
  "language_info": {
   "codemirror_mode": {
    "name": "ipython",
    "version": 2
   },
   "file_extension": ".py",
   "mimetype": "text/x-python",
   "name": "python",
   "nbconvert_exporter": "python",
   "pygments_lexer": "ipython2",
   "version": "2.7.6"
  }
 },
 "nbformat": 4,
 "nbformat_minor": 0
}
