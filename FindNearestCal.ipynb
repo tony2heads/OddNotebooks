{
 "cells": [
  {
   "cell_type": "code",
   "execution_count": 32,
   "metadata": {
    "collapsed": false
   },
   "outputs": [
    {
     "name": "stdout",
     "output_type": "stream",
     "text": [
      "GRB 151021A 22:30:34.43 -33:11:50.3\n",
      "Calibrator Sep/deg\n",
      "2203-188     15.6\n",
      "J2138-4646   16.9\n",
      "J2131-2036   18.3\n",
      "J2107-2526   19.7\n",
      "J0010-4153   21.6\n",
      "2032-350     23.8\n",
      "J0025-2602   26.0\n",
      "J0042-4414   27.7\n",
      "3C446        28.3\n",
      "2134+004     36.2\n",
      "OV-236       39.6\n",
      "1934-638     40.3\n",
      "1938-155     42.1\n",
      "CTA102       44.9\n",
      "J1818-5158   48.4\n",
      "J1830-3602   48.6\n",
      "3C454.3      49.7\n",
      "J0252-712    50.9\n",
      "0106+013     50.9\n",
      "1830-210     53.4\n",
      "J1744-5144   53.6\n",
      "J0240-2309   55.1\n",
      "J0408-7507   56.7\n",
      "J0408-6545   57.8\n",
      "1549-790     59.0\n",
      "1742-289     59.9\n",
      "3C391        61.0\n",
      "1819-096     61.4\n",
      "J1720-358    62.2\n",
      "J0635-7516   65.2\n",
      "NRAO530      69.9\n",
      "2050+364     73.4\n",
      "J0743-6726   74.6\n",
      "J0405-1308   77.7\n",
      "J0538-4405   78.2\n",
      "3C48         79.6\n",
      "0521-365     80.0\n",
      "J1424-4913   82.6\n",
      "CTA21        84.8\n",
      "J0521-2047   88.8\n",
      "J1517-2422   90.7\n",
      "B0823-500    92.2\n",
      "J1218-4600   97.2\n",
      "3C123        107.0\n",
      "CTD93        108.4\n",
      "3C345        108.4\n",
      "3C138        109.4\n",
      "3C133        109.9\n",
      "3C161        110.4\n",
      "3C283        112.5\n",
      "0531+194     113.6\n",
      "3C298        120.9\n",
      "J0744-0629   124.1\n",
      "3C279        127.9\n",
      "1127-145     129.9\n",
      "1345+125     130.6\n",
      "3C273        138.3\n",
      "1148-001     141.5\n",
      "3C286        141.9\n",
      "3C237        153.8\n"
     ]
    },
    {
     "name": "stderr",
     "output_type": "stream",
     "text": [
      "/usr/local/lib/python2.7/dist-packages/ipykernel/__main__.py:18: DeprecationWarning: PyOS_ascii_strtod and PyOS_ascii_atof are deprecated.  Use PyOS_string_to_double instead.\n",
      "/usr/local/lib/python2.7/dist-packages/ipykernel/__main__.py:19: DeprecationWarning: PyOS_ascii_strtod and PyOS_ascii_atof are deprecated.  Use PyOS_string_to_double instead.\n",
      "/usr/local/lib/python2.7/dist-packages/ipykernel/__main__.py:23: DeprecationWarning: PyOS_ascii_strtod and PyOS_ascii_atof are deprecated.  Use PyOS_string_to_double instead.\n",
      "/usr/local/lib/python2.7/dist-packages/ipykernel/__main__.py:28: DeprecationWarning: PyOS_ascii_strtod and PyOS_ascii_atof are deprecated.  Use PyOS_string_to_double instead.\n",
      "/usr/local/lib/python2.7/dist-packages/ipykernel/__main__.py:29: DeprecationWarning: PyOS_ascii_strtod and PyOS_ascii_atof are deprecated.  Use PyOS_string_to_double instead.\n",
      "/usr/local/lib/python2.7/dist-packages/ipykernel/__main__.py:57: DeprecationWarning: PyOS_ascii_strtod and PyOS_ascii_atof are deprecated.  Use PyOS_string_to_double instead.\n",
      "/usr/local/lib/python2.7/dist-packages/ipykernel/__main__.py:58: DeprecationWarning: PyOS_ascii_strtod and PyOS_ascii_atof are deprecated.  Use PyOS_string_to_double instead.\n"
     ]
    }
   ],
   "source": [
    "# %load /home/tony/Desktop/SouthAfrica/SourceLists/FindCal.py\n",
    "#!/usr/bin/env python\n",
    "\n",
    "# # Search for calibrators\n",
    "# ## Needs\n",
    "# * CSV file with calibrators\n",
    "# * Source to match with\n",
    "# * math, ephem, operator\n",
    "\n",
    "# In[87]:\n",
    "\n",
    "import ephem\n",
    "import math\n",
    "import operator\n",
    "\n",
    "# Setup KAT site\n",
    "kat = ephem.Observer()\n",
    "kat.lat = '-30.71317'\n",
    "kat.long = '21.44389'\n",
    "kat.elevation = 1038\n",
    "kat.temp=25\n",
    "kat.pressure=890\n",
    "kat.horizon=\"20:00:00\"\n",
    "kat.date = ephem.now()\n",
    "\n",
    "testsource=ephem.FixedBody()\n",
    "testsource.name=\"GRB 151021A\"\n",
    "testsource._ra=\"22:30:34.43\"\n",
    "testsource._dec=\"-33:11:50.3\"\n",
    "testsource.compute(kat)\n",
    "# Get sources\n",
    "\n",
    "filename='/home/tony/Desktop/SouthAfrica/SourceLists/Good.csv' # standard layout\n",
    "sources=open(filename)\n",
    "slist=[]\n",
    "for s in sources:\n",
    "    #print s\n",
    "    slist.append(s)\n",
    "\n",
    "\n",
    "# In[88]:\n",
    "\n",
    "#slist\n",
    "\n",
    "\n",
    "# In[89]:\n",
    "\n",
    "seps=[]\n",
    "names=[]\n",
    "for cal in slist:\n",
    "    parts=cal.split(',')\n",
    "    #print parts[0:1]\n",
    "    if parts[0][0] != \"#\":\n",
    "        #print parts[0],parts[2],parts[3]\n",
    "        calp=ephem.FixedBody()\n",
    "        calp.name=parts[0]\n",
    "        calp._ra=parts[2]   # J2000 position\n",
    "        calp._dec=parts[3]  #J2000 position\n",
    "        calp.compute(kat) \n",
    "        #print calp.name, ephem.separation(calp,testsource)\n",
    "        names.append(calp.name)\n",
    "        seps.append(math.degrees(ephem.separation(calp,testsource)))\n",
    "\n",
    "\n",
    "# In[90]:\n",
    "\n",
    "\n",
    "sps=dict(zip(names,seps))\n",
    "#print sps\n",
    "\n",
    "\n",
    "# In[91]:\n",
    "\n",
    "\n",
    "x=sorted(sps.items(), key=operator.itemgetter(1))\n",
    "\n",
    "\n",
    "# In[92]:\n",
    "\n",
    "#print x\n",
    "\n",
    "\n",
    "# In[93]:\n",
    "\n",
    "print testsource.name, testsource.a_ra, testsource.a_dec\n",
    "print \"Calibrator Sep/deg\"\n",
    "for n,s in x:\n",
    "    print (\"%-12s %4.1f\") %(n,s)\n",
    "\n",
    "\n",
    "# In[ ]:\n",
    "\n",
    "\n",
    "\n"
   ]
  },
  {
   "cell_type": "code",
   "execution_count": null,
   "metadata": {
    "collapsed": false
   },
   "outputs": [],
   "source": []
  },
  {
   "cell_type": "code",
   "execution_count": 33,
   "metadata": {
    "collapsed": false
   },
   "outputs": [
    {
     "name": "stdout",
     "output_type": "stream",
     "text": [
      "56:25:38.0 104:43:13.3\n"
     ]
    }
   ],
   "source": [
    "print testsource.alt,testsource.az"
   ]
  },
  {
   "cell_type": "code",
   "execution_count": 34,
   "metadata": {
    "collapsed": false
   },
   "outputs": [
    {
     "name": "stdout",
     "output_type": "stream",
     "text": [
      "2015/10/21 13:26:52 2015/10/21 19:06:03 2015/10/21 00:49:20\n"
     ]
    }
   ],
   "source": [
    "print testsource.rise_time, testsource.transit_time,testsource.set_time"
   ]
  }
 ],
 "metadata": {
  "kernelspec": {
   "display_name": "Python 2",
   "language": "python",
   "name": "python2"
  },
  "language_info": {
   "codemirror_mode": {
    "name": "ipython",
    "version": 2
   },
   "file_extension": ".py",
   "mimetype": "text/x-python",
   "name": "python",
   "nbconvert_exporter": "python",
   "pygments_lexer": "ipython2",
   "version": "2.7.3"
  }
 },
 "nbformat": 4,
 "nbformat_minor": 0
}
