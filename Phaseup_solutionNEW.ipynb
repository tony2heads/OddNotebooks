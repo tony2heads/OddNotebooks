{
 "cells": [
  {
   "cell_type": "code",
   "execution_count": 25,
   "metadata": {
    "collapsed": false,
    "deletable": true,
    "editable": true,
    "scrolled": false
   },
   "outputs": [],
   "source": [
    "import katdal\n",
    "import matplotlib.pylab as plt\n",
    "%matplotlib inline\n",
    "import numpy as np\n",
    "import pickle"
   ]
  },
  {
   "cell_type": "code",
   "execution_count": 26,
   "metadata": {
    "collapsed": true,
    "deletable": true,
    "editable": true
   },
   "outputs": [],
   "source": [
    "filename='/var/kat/archive2/data/MeerKATAR1/telescope_products/2017/02/22/1487764270.h5'"
   ]
  },
  {
   "cell_type": "code",
   "execution_count": 27,
   "metadata": {
    "collapsed": false,
    "deletable": true,
    "editable": true,
    "scrolled": false
   },
   "outputs": [
    {
     "name": "stderr",
     "output_type": "stream",
     "text": [
      "WARNING:katdal.h5datav3:Irregular timestamps detected in file '/var/kat/archive2/data/MeerKATAR1/telescope_products/2017/02/22/1487764270.h5': expected 80.955 dumps based on dump period and start/end times, got 81 instead\n"
     ]
    }
   ],
   "source": [
    "h = katdal.open(filename)"
   ]
  },
  {
   "cell_type": "code",
   "execution_count": 28,
   "metadata": {
    "collapsed": false,
    "deletable": true,
    "editable": true,
    "scrolled": true
   },
   "outputs": [
    {
     "name": "stdout",
     "output_type": "stream",
     "text": [
      "===============================================================================\n",
      "Name: /var/kat/archive2/data/MeerKATAR1/telescope_products/2017/02/22/1487764270.h5 (version 3.0)\n",
      "===============================================================================\n",
      "Observer: Moloko  Experiment ID: 20170222-0018\n",
      "Description: 'Generic AR1 phaseup'\n",
      "Observed from 2017-02-22 13:51:15.120 SAST to 2017-02-22 13:56:38.804 SAST\n",
      "Dump rate / period: 0.25011 Hz / 3.998 s\n",
      "Subarrays: 1\n",
      "  ID  Antennas                            Inputs  Corrprods\n",
      "   0  m001,m003,m006,m010,m014,m025,m031,m034,m062  18      180\n",
      "Spectral Windows: 1\n",
      "  ID Band Product  CentreFreq(MHz)  Bandwidth(MHz)  Channels  ChannelWidth(kHz)\n",
      "   0 L    bc856M32k  1284.000         856.000          32768        26.123\n",
      "-------------------------------------------------------------------------------\n",
      "Data selected according to the following criteria:\n",
      "  subarray=0\n",
      "  ants=['m003', 'm001', 'm014', 'm006', 'm062', 'm010', 'm034', 'm025', 'm031']\n",
      "  spw=0\n",
      "-------------------------------------------------------------------------------\n",
      "Shape: (81 dumps, 32768 channels, 180 correlation products) => Size: 3.822 GB\n",
      "Antennas: m001,*m003,m006,m010,m014,m025,m031,m034,m062  Inputs: 18  Autocorr: yes  Crosscorr: yes\n",
      "Channels: 32768 (index 0 - 32767,  856.000 MHz - 1711.974 MHz), each  26.123 kHz wide\n",
      "Targets: 2 selected out of 2 in catalogue\n",
      "  ID  Name         Type      RA(J2000)     DEC(J2000)  Tags                                  Dumps  ModelFlux(Jy)\n",
      "   0  Nothing      special             -            -                                           60  \n",
      "   1  PKS 1934-63  radec     19:39:25.03  -63:42:45.7  delaycal gaincal single_accumulation     21      14.46\n",
      "Scans: 7 selected out of 7 total       Compscans: 3 selected out of 3 total\n",
      "  Date        Timerange(UTC)       ScanState  CompScanLabel  Dumps  Target\n",
      "  22-Feb-2017/11:51:17 - 11:51:24    0:stop     0:               3    1:PKS 1934-63\n",
      "              11:51:28 - 11:51:36    1:slew     1:un_corrected      3    1:PKS 1934-63\n",
      "              11:51:40 - 11:52:00    2:track    1:un_corrected      6    1:PKS 1934-63\n",
      "              11:52:04 - 11:55:00    3:stop     1:un_corrected     45    0:Nothing\n",
      "              11:55:04 - 11:56:00    4:stop     2:corrected     15    0:Nothing\n",
      "              11:56:04 - 11:56:12    5:slew     2:corrected      3    1:PKS 1934-63\n",
      "              11:56:16 - 11:56:36    6:track    2:corrected      6    1:PKS 1934-63\n"
     ]
    }
   ],
   "source": [
    "print h"
   ]
  },
  {
   "cell_type": "code",
   "execution_count": 29,
   "metadata": {
    "collapsed": false,
    "deletable": true,
    "editable": true
   },
   "outputs": [
    {
     "name": "stdout",
     "output_type": "stream",
     "text": [
      "[u'cbf_eq_coef_m006h', u'm025_rsc_rxs_serial_number', u'cbf_eq_coef_m003h', u'm062_activity', u'cal_preferred_refants', u'data_target', u'm062_rsc_rxl_serial_number', u'm031_rsc_rxl_serial_number', u'm001_pos_request_scan_elev', u'cal_param_kcross_chanave', u'cbf_eq_coef_d001h', u'm025_pos_request_scan_elev', u'm025_rsc_rxl_serial_number', u'anc_wind_direction', u'm025_pos_request_scan_azim', u'cbf_eq_coef_d003v', u'm034_ap_tilt_corr_azim', u'cbf_eq_coef_d006h', u'm025_pos_actual_scan_elev', u'm010_observer', u'm006_rsc_rxs_serial_number', u'cal_param_k_echan', u'm006_pos_actual_scan_elev', u'm006_rsc_rxx_serial_number', u'm062_rsc_rxu_serial_number', u'm001_ap_tilt_corr_elev', u'm003_dig_noise_diode', u'm014_pos_request_scan_elev', u'm003_rsc_rxu_serial_number', u'm010_ap_point_error_tiltmeter_enabled', u'cbf_eq_coef_m025h', u'm010_dig_noise_diode', u'cal_param_g_echan', u'cal_bls_ordering', u'm003_pos_request_scan_elev', u'm014_pos_request_scan_azim', u'm025_observer', u'cal_pol_ordering', u'm025_ap_indexer_position', u'm025_activity', u'm003_rsc_rxx_serial_number', u'm014_ap_point_error_tiltmeter_enabled', u'm014_rsc_rxl_serial_number', u'cal_param_g_bchan', u'm006_pos_actual_scan_azim', u'm001_ap_indexer_position', u'cal_sideband', u'm001_rsc_rxl_serial_number', u'm003_pos_actual_scan_elev', u'm031_ap_tilt_corr_azim', u'm010_rsc_rxl_serial_number', u'cbf_eq_coef_m014h', u'cbf_eq_coef_m010h', u'm010_pos_actual_scan_azim', u'cal_buffer_size', u'cbf_eq_coef_d006v', u'm014_pos_actual_scan_azim', u'm062_pos_actual_scan_elev', u'm006_dig_noise_diode', u'm034_target', u'm010_pos_actual_scan_elev', u'data_auto_delay_enabled', u'obs_script_log', u'data_loaded_delay_correction', u'm014_ap_tilt_corr_elev', u'cbf_eq_coef_d001v', u'm006_target', u'm001_pos_request_scan_azim', u'm006_ap_indexer_position', u'm001_activity', u'cbf_eq_coef_d003h', u'm003_ap_tilt_corr_azim', u'cal_info_sources', u'm062_ap_point_error_tiltmeter_enabled', u'cbf_eq_coef_m014v', u'm014_rsc_rxx_serial_number', u'm001_ap_tilt_corr_azim', u'cbf_eq_coef_d002v', u'cal_param_k_bchan', u'cal_array_position', u'm034_ap_point_error_tiltmeter_enabled', u'cal_param_g_solint', u'cbf_eq_coef_m062v', u'm010_activity', u'm031_observer', u'm031_pos_actual_scan_elev', u'm025_rsc_rxu_serial_number', u'cbf_eq_coef_m034v', u'm001_rsc_rxs_serial_number', u'm006_activity', u'sdp_cam2telstate_status', u'm010_target', u'm034_pos_actual_scan_azim', u'm031_dig_noise_diode', u'm014_rsc_rxs_serial_number', u'cal_bls_lookup', u'm031_rsc_rxs_serial_number', u'm001_observer', u'm062_rsc_rxx_serial_number', u'cbf_eq_coef_m031v', u'm031_ap_tilt_corr_elev', u'm031_ap_indexer_position', u'm003_activity', u'cbf_eq_coef_m010v', u'cbf_eq_coef_d004h', u'm010_pos_request_scan_azim', u'm003_rsc_rxs_serial_number', u'm062_rsc_rxs_serial_number', u'cal_param_k_solint', u'cal_sim_bchan', u'cbf_eq_coef_d002h', u'm010_rsc_rxu_serial_number', u'cbf_eq_coef_m001v', u'cal_refant', u'm025_target', u'm014_target', u'm014_pos_actual_scan_elev', u'cal_antlist', u'cbf_eq_coef_m001h', u'cal_param_bp_solint', u'm034_rsc_rxs_serial_number', u'cbf_eq_coef_d005h', u'm003_ap_tilt_corr_elev', u'm001_ap_point_error_tiltmeter_enabled', u'm001_pos_actual_scan_azim', u'm025_ap_tilt_corr_azim', u'anc_air_temperature', u'm001_rsc_rxx_serial_number', u'm010_ap_tilt_corr_elev', u'm062_ap_indexer_position', u'm003_target', u'm062_ap_tilt_corr_azim', u'm003_ap_point_error_tiltmeter_enabled', u'm062_pos_request_scan_azim', u'm031_pos_actual_scan_azim', u'm034_rsc_rxl_serial_number', u'm006_observer', u'm025_pos_actual_scan_azim', u'm014_ap_tilt_corr_azim', u'm001_target', u'm001_pos_actual_scan_elev', u'anc_air_pressure', u'm025_rsc_rxx_serial_number', u'm034_dig_noise_diode', u'm014_ap_indexer_position', u'm006_rsc_rxl_serial_number', u'cbf_eq_coef_d005v', u'm010_ap_tilt_corr_azim', u'obs_label', u'cbf_eq_coef_m006v', u'cbf_eq_coef_d000v', u'anc_mean_wind_speed', u'm003_pos_request_scan_azim', u'm014_rsc_rxu_serial_number', u'm031_target', u'cbf_eq_coef_m025v', u'cbf_eq_coef_m062h', u'm010_rsc_rxx_serial_number', u'm025_ap_tilt_corr_elev', u'm034_observer', u'cbf_eq_coef_d004v', u'm062_dig_noise_diode', u'cbf_eq_coef_m034h', u'sdp_node_detail', u'm006_pos_request_scan_elev', u'm034_ap_tilt_corr_elev', u'm010_pos_request_scan_elev', u'obs_params', u'm031_pos_request_scan_azim', u'm003_pos_actual_scan_azim', u'm010_rsc_rxs_serial_number', u'cal_sim_echan', u'cbf_eq_coef_d000h', u'm034_pos_actual_scan_elev', u'm031_activity', u'sdp_sdisp_custom_signals', u'm034_rsc_rxx_serial_number', u'cal_param_k_chan_sample', u'm006_ap_tilt_corr_elev', u'm010_ap_indexer_position', u'm031_rsc_rxu_serial_number', u'm006_rsc_rxu_serial_number', u'm034_pos_request_scan_azim', u'cal_product_K', u'm001_rsc_rxu_serial_number', u'm034_ap_indexer_position', u'm003_rsc_rxl_serial_number', u'm062_observer', u'm003_observer', u'm034_pos_request_scan_elev', u'm025_ap_point_error_tiltmeter_enabled', u'm001_dig_noise_diode', u'm062_ap_tilt_corr_elev', u'm031_rsc_rxx_serial_number', u'm034_rsc_rxu_serial_number', u'm062_pos_actual_scan_azim', u'm006_ap_tilt_corr_azim', u'm014_observer', u'm006_pos_request_scan_azim', u'anc_air_relative_humidity', u'cal_product_G', u'm003_ap_indexer_position', u'm062_pos_request_scan_elev', u'm034_activity', u'm025_dig_noise_diode', u'm014_dig_noise_diode', u'cbf_eq_coef_m003v', u'cbf_eq_coef_m031h', u'm031_pos_request_scan_elev', u'm006_ap_point_error_tiltmeter_enabled', u'm031_ap_point_error_tiltmeter_enabled', u'm062_target', u'm014_activity']\n"
     ]
    }
   ],
   "source": [
    "# check what dynamic Telescope state keys we have\n",
    "print h.file['TelescopeState'].keys()"
   ]
  },
  {
   "cell_type": "code",
   "execution_count": 30,
   "metadata": {
    "collapsed": false,
    "deletable": true,
    "editable": true,
    "scrolled": true
   },
   "outputs": [
    {
     "name": "stdout",
     "output_type": "stream",
     "text": [
      "Solutions:\n",
      "    Product             Number of solutions\n",
      "    cal_product_K  ---  1\n",
      "    cal_product_G  ---  2\n"
     ]
    }
   ],
   "source": [
    "# check what cal products we have\n",
    "print 'Solutions:'\n",
    "print '    Product             Number of solutions'\n",
    "for k in7].keys():\n",
    "    if 'cal_product' in k:\n",
    "        print '   ', k, ' --- ' , len(h.file['TelescopeState'][k])"
   ]
  },
  {
   "cell_type": "code",
   "execution_count": 31,
   "metadata": {
    "collapsed": true,
    "deletable": true,
    "editable": true
   },
   "outputs": [],
   "source": [
    "np.set_printoptions(precision=4,suppress=True)"
   ]
  },
  {
   "cell_type": "code",
   "execution_count": 32,
   "metadata": {
    "collapsed": false,
    "deletable": true,
    "editable": true
   },
   "outputs": [
    {
     "name": "stdout",
     "output_type": "stream",
     "text": [
      "<HDF5 dataset \"cal_antlist\": shape (1,), type \"|V123\">\n",
      "[['m001', 'm003', 'm006', 'm010', 'm014', 'm025', 'm031', 'm034', 'm062']]\n",
      "['m001' 'm003' 'm006' 'm010' 'm014' 'm025' 'm031' 'm034' 'm062']\n"
     ]
    }
   ],
   "source": [
    "# check antenna ordering\n",
    "print h.file['TelescopeState']['cal_antlist']\n",
    "a_list=[]\n",
    "aa=h.file['TelescopeState']['cal_antlist']\n",
    "for i,ai in enumerate(aa):\n",
    "    a_list.append(pickle.loads(ai[1]))\n",
    "a_array=np.array(a_list)\n",
    "print a_list\n",
    "print a_array[0]\n",
    "labels=a_array[0]"
   ]
  },
  {
   "cell_type": "markdown",
   "metadata": {
    "deletable": true,
    "editable": true
   },
   "source": [
    "# Delays"
   ]
  },
  {
   "cell_type": "code",
   "execution_count": 33,
   "metadata": {
    "collapsed": false,
    "deletable": true,
    "editable": true
   },
   "outputs": [],
   "source": [
    "k = h.file['TelescopeState']['cal_product_K']\n",
    "k_list = []\n",
    "for i, ki in enumerate(k):\n",
    "    k_list.append(pickle.loads(ki[1]))\n",
    "k_array = np.array(k_list)\n",
    "\n",
    "k_0 = k_array[:,0,:]*1e9\n",
    "k_1 = k_array[:,1,:]*1e9"
   ]
  },
  {
   "cell_type": "code",
   "execution_count": 34,
   "metadata": {
    "collapsed": false,
    "deletable": true,
    "editable": true
   },
   "outputs": [
    {
     "data": {
      "text/plain": [
       "(1, 2, 9)"
      ]
     },
     "execution_count": 34,
     "metadata": {},
     "output_type": "execute_result"
    }
   ],
   "source": [
    "k_array.shape #Times,Pols,Antennas"
   ]
  },
  {
   "cell_type": "code",
   "execution_count": 35,
   "metadata": {
    "collapsed": false,
    "deletable": true,
    "editable": true
   },
   "outputs": [
    {
     "name": "stdout",
     "output_type": "stream",
     "text": [
      "POL 0:  [[ 27.9937 -32.7585 -27.923   -0.      -4.6721   9.3785  18.6853  13.909\n",
      "  -18.7912]]\n",
      "POL 1:  [[ 27.9852 -32.7035 -27.9935   0.      -4.7253   9.3806  18.72    13.8233\n",
      "  -18.7439]]\n"
     ]
    }
   ],
   "source": [
    "# print delays (if there are few delays)\n",
    "print 'POL 0: ', k_0\n",
    "print 'POL 1: ', k_1"
   ]
  },
  {
   "cell_type": "code",
   "execution_count": 36,
   "metadata": {
    "collapsed": false,
    "deletable": true,
    "editable": true
   },
   "outputs": [
    {
     "name": "stdout",
     "output_type": "stream",
     "text": [
      "['m001' 'm003' 'm006' 'm010' 'm014' 'm025' 'm031' 'm034' 'm062']\n"
     ]
    }
   ],
   "source": [
    "print labels"
   ]
  },
  {
   "cell_type": "code",
   "execution_count": 37,
   "metadata": {
    "collapsed": false,
    "deletable": true,
    "editable": true
   },
   "outputs": [],
   "source": [
    "colors=['r','g','b','c','m','k','darkorange','darkgreen','maroon','darkviolet','olive','saddlebrown','darkorchid']"
   ]
  },
  {
   "cell_type": "code",
   "execution_count": 38,
   "metadata": {
    "collapsed": false,
    "deletable": true,
    "editable": true
   },
   "outputs": [
    {
     "data": {
      "text/plain": [
       "<matplotlib.legend.Legend at 0x7f70faf9de50>"
      ]
     },
     "execution_count": 38,
     "metadata": {},
     "output_type": "execute_result"
    },
    {
     "data": {
      "image/png": "[encoded data removed]",
      "text/plain": [
       "<matplotlib.figure.Figure at 0x7f70fbc94910>"
      ]
     },
     "metadata": {},
     "output_type": "display_data"
    }
   ],
   "source": [
    "#plot delays (if there are many delays)\n",
    "fig, ax = plt.subplots(2,1,figsize=(20, 10))\n",
    "for i in range(len(labels)):\n",
    "    ax[0].plot(k_0[0][i],'x',markersize=8,label=labels[i],color=colors[i]);\n",
    "#ax[0].set_ylim([-0.2,0.2]);\n",
    "    ax[1].plot(k_1[0][i],'x',markersize=8,label=labels[i],color=colors[i]);\n",
    "#ax[1].set_ylim([-0.2,0.2]);\n",
    "plt.legend()"
   ]
  },
  {
   "cell_type": "code",
   "execution_count": null,
   "metadata": {
    "collapsed": true,
    "deletable": true,
    "editable": true
   },
   "outputs": [],
   "source": []
  },
  {
   "cell_type": "markdown",
   "metadata": {
    "deletable": true,
    "editable": true
   },
   "source": [
    "# Gains"
   ]
  },
  {
   "cell_type": "code",
   "execution_count": 39,
   "metadata": {
    "collapsed": false,
    "deletable": true,
    "editable": true
   },
   "outputs": [
    {
     "name": "stdout",
     "output_type": "stream",
     "text": [
      "(2, 2, 9)\n"
     ]
    }
   ],
   "source": [
    "g = h.file['TelescopeState']['cal_product_G']\n",
    "g_list = []\n",
    "for i, gi in enumerate(g):\n",
    "    g_list.append(pickle.loads(gi[1]))\n",
    "g_array = np.array(g_list)\n",
    "print g_array.shape\n",
    "\n",
    "g_0 = g_array[:,0,:]\n",
    "g_1 = g_array[:,1,:]"
   ]
  },
  {
   "cell_type": "code",
   "execution_count": 40,
   "metadata": {
    "collapsed": false,
    "deletable": true,
    "editable": true
   },
   "outputs": [
    {
     "name": "stdout",
     "output_type": "stream",
     "text": [
      "[ 5.8196  8.406   7.4323  5.8881  6.2691  6.1969  8.38    7.1255  6.7253]\n",
      "[ 7.3521  5.8215  7.6467  6.405   6.1668  6.3211  5.8481  6.0441  8.4043]\n"
     ]
    }
   ],
   "source": [
    "#First\n",
    "print np.abs(g_0)[0]\n",
    "print np.abs(g_1)[0]"
   ]
  },
  {
   "cell_type": "code",
   "execution_count": 41,
   "metadata": {
    "collapsed": false,
    "deletable": true,
    "editable": true
   },
   "outputs": [
    {
     "name": "stdout",
     "output_type": "stream",
     "text": [
      "[ 5.8203  8.396   7.4466  5.9187  6.2464  6.2271  8.4002  7.1263  6.7122]\n",
      "[ 7.3569  5.8135  7.659   6.4392  6.1402  6.3411  5.8583  6.0451  8.393 ]\n"
     ]
    }
   ],
   "source": [
    "#Last\n",
    "print np.abs(g_0)[-1]\n",
    "print np.abs(g_1)[-1]"
   ]
  },
  {
   "cell_type": "code",
   "execution_count": 42,
   "metadata": {
    "collapsed": false,
    "deletable": true,
    "editable": true
   },
   "outputs": [
    {
     "name": "stdout",
     "output_type": "stream",
     "text": [
      "[ 1.0001  0.9988  1.0019  1.0052  0.9964  1.0049  1.0024  1.0001  0.9981]\n",
      "[ 1.0007  0.9986  1.0016  1.0053  0.9957  1.0032  1.0017  1.0002  0.9987]\n"
     ]
    }
   ],
   "source": [
    "#Ratio\n",
    "print np.abs(g_0)[-1]/np.abs(g_0)[0]\n",
    "print np.abs(g_1)[-1]/np.abs(g_1)[0]"
   ]
  },
  {
   "cell_type": "code",
   "execution_count": 43,
   "metadata": {
    "collapsed": false,
    "deletable": true,
    "editable": true
   },
   "outputs": [
    {
     "name": "stdout",
     "output_type": "stream",
     "text": [
      "[  4.0518  37.2182  -0.5147   0.       6.4613 -65.7218 -29.5279 -55.5558\n",
      " -52.3325]\n",
      "[ 27.678   11.543   -6.8157   0.      46.723  -43.5127 -55.2827 -27.0666\n",
      "  36.2537]\n"
     ]
    }
   ],
   "source": [
    "#Before\n",
    "print np.rad2deg(np.angle(g_0)[0])\n",
    "print np.rad2deg(np.angle(g_1)[0])"
   ]
  },
  {
   "cell_type": "code",
   "execution_count": 44,
   "metadata": {
    "collapsed": false,
    "deletable": true,
    "editable": true
   },
   "outputs": [
    {
     "name": "stdout",
     "output_type": "stream",
     "text": [
      "[  6.7038  39.8419   1.4049   0.       9.522  -64.8761 -26.5471 -54.0775\n",
      " -49.8781]\n",
      "[ 30.3705  14.2438  -4.8566   0.      49.8638 -42.6829 -52.2815 -25.5121\n",
      "  38.672 ]\n"
     ]
    }
   ],
   "source": [
    "#After\n",
    "print np.rad2deg(np.angle(g_0)[-1])\n",
    "print np.rad2deg(np.angle(g_1)[-1])"
   ]
  },
  {
   "cell_type": "code",
   "execution_count": 45,
   "metadata": {
    "collapsed": false,
    "deletable": true,
    "editable": true
   },
   "outputs": [
    {
     "name": "stdout",
     "output_type": "stream",
     "text": [
      "[ 2.652   2.6237  1.9196  0.      3.0607  0.8456  2.9807  1.4783  2.4544]\n",
      "[ 2.6925  2.7009  1.9591  0.      3.1408  0.8298  3.0012  1.5545  2.4182]\n"
     ]
    }
   ],
   "source": [
    "#Differences\n",
    "print np.rad2deg(np.angle(g_0)[-1])-np.rad2deg(np.angle(g_0)[0])\n",
    "print np.rad2deg(np.angle(g_1)[-1])-np.rad2deg(np.angle(g_1)[0])"
   ]
  },
  {
   "cell_type": "code",
   "execution_count": 46,
   "metadata": {
    "collapsed": false,
    "deletable": true,
    "editable": true
   },
   "outputs": [
    {
     "data": {
      "text/plain": [
       "<matplotlib.text.Text at 0x7f70fb693050>"
      ]
     },
     "execution_count": 46,
     "metadata": {},
     "output_type": "execute_result"
    },
    {
     "data": {
      "image/png": "[encoded data removed]",
      "text/plain": [
       "<matplotlib.figure.Figure at 0x7f70fbc94a50>"
      ]
     },
     "metadata": {},
     "output_type": "display_data"
    }
   ],
   "source": [
    "#plot gains - amplitude\n",
    "fig, ax = plt.subplots(2,1,figsize=(20, 10))\n",
    "ax[0].plot(np.abs(g_0),'-x');\n",
    "#ax[0].set_ylim([0,5.0]);\n",
    "ax[1].plot(np.abs(g_1),'-x');\n",
    "#ax[1].set_ylim([0,5.0]);\n",
    "plt.xlabel('Dump')\n",
    "plt.ylabel('Gain')\n",
    "#plt.legend()"
   ]
  },
  {
   "cell_type": "code",
   "execution_count": 47,
   "metadata": {
    "collapsed": false,
    "deletable": true,
    "editable": true
   },
   "outputs": [
    {
     "data": {
      "image/png": "[encoded data removed]",
      "text/plain": [
       "<matplotlib.figure.Figure at 0x7f70fb765290>"
      ]
     },
     "metadata": {},
     "output_type": "display_data"
    }
   ],
   "source": [
    "#plot gains - phase\n",
    "fig, ax = plt.subplots(2,1,figsize=(20, 10))\n",
    "ax[0].plot(np.rad2deg(np.angle(g_0)),'-x');\n",
    "ax[0].set_ylim([-180,180]);\n",
    "ax[1].plot(np.rad2deg(np.angle(g_1)),'-x');\n",
    "ax[1].set_ylim([-180,180]);"
   ]
  },
  {
   "cell_type": "markdown",
   "metadata": {
    "collapsed": false,
    "deletable": true,
    "editable": true,
    "scrolled": false
   },
   "source": [
    "# Bandpasses    "
   ]
  },
  {
   "cell_type": "code",
   "execution_count": 48,
   "metadata": {
    "collapsed": false,
    "deletable": true,
    "editable": true,
    "scrolled": true
   },
   "outputs": [
    {
     "ename": "KeyError",
     "evalue": "\"unable to open object (Symbol table: Can't open object)\"",
     "output_type": "error",
     "traceback": [
      "\u001b[0;31m---------------------------------------------------------------------------\u001b[0m",
      "\u001b[0;31mKeyError\u001b[0m                                  Traceback (most recent call last)",
      "\u001b[0;32m<ipython-input-48-d0b92872aadd>\u001b[0m in \u001b[0;36m<module>\u001b[0;34m()\u001b[0m\n\u001b[0;32m----> 1\u001b[0;31m \u001b[0mb\u001b[0m \u001b[0;34m=\u001b[0m \u001b[0mh\u001b[0m\u001b[0;34m.\u001b[0m\u001b[0mfile\u001b[0m\u001b[0;34m[\u001b[0m\u001b[0;34m'TelescopeState'\u001b[0m\u001b[0;34m]\u001b[0m\u001b[0;34m[\u001b[0m\u001b[0;34m'cal_product_B'\u001b[0m\u001b[0;34m]\u001b[0m\u001b[0;34m\u001b[0m\u001b[0m\n\u001b[0m\u001b[1;32m      2\u001b[0m \u001b[0mb_list\u001b[0m \u001b[0;34m=\u001b[0m \u001b[0;34m[\u001b[0m\u001b[0;34m]\u001b[0m\u001b[0;34m\u001b[0m\u001b[0m\n\u001b[1;32m      3\u001b[0m \u001b[0;32mfor\u001b[0m \u001b[0mi\u001b[0m\u001b[0;34m,\u001b[0m \u001b[0mbi\u001b[0m \u001b[0;32min\u001b[0m \u001b[0menumerate\u001b[0m\u001b[0;34m(\u001b[0m\u001b[0mb\u001b[0m\u001b[0;34m)\u001b[0m\u001b[0;34m:\u001b[0m\u001b[0;34m\u001b[0m\u001b[0m\n\u001b[1;32m      4\u001b[0m     \u001b[0mb_list\u001b[0m\u001b[0;34m.\u001b[0m\u001b[0mappend\u001b[0m\u001b[0;34m(\u001b[0m\u001b[0mpickle\u001b[0m\u001b[0;34m.\u001b[0m\u001b[0mloads\u001b[0m\u001b[0;34m(\u001b[0m\u001b[0mbi\u001b[0m\u001b[0;34m[\u001b[0m\u001b[0;34m-\u001b[0m\u001b[0;36m1\u001b[0m\u001b[0;34m]\u001b[0m\u001b[0;34m)\u001b[0m\u001b[0;34m)\u001b[0m\u001b[0;34m\u001b[0m\u001b[0m\n\u001b[1;32m      5\u001b[0m \u001b[0mb_array\u001b[0m \u001b[0;34m=\u001b[0m \u001b[0mnp\u001b[0m\u001b[0;34m.\u001b[0m\u001b[0marray\u001b[0m\u001b[0;34m(\u001b[0m\u001b[0mb_list\u001b[0m\u001b[0;34m)\u001b[0m\u001b[0;34m\u001b[0m\u001b[0m\n",
      "\u001b[0;32m/usr/lib/python2.7/dist-packages/h5py/_hl/group.pyc\u001b[0m in \u001b[0;36m__getitem__\u001b[0;34m(self, name)\u001b[0m\n\u001b[1;32m    151\u001b[0m                 \u001b[0;32mraise\u001b[0m \u001b[0mValueError\u001b[0m\u001b[0;34m(\u001b[0m\u001b[0;34m\"Invalid HDF5 object reference\"\u001b[0m\u001b[0;34m)\u001b[0m\u001b[0;34m\u001b[0m\u001b[0m\n\u001b[1;32m    152\u001b[0m         \u001b[0;32melse\u001b[0m\u001b[0;34m:\u001b[0m\u001b[0;34m\u001b[0m\u001b[0m\n\u001b[0;32m--> 153\u001b[0;31m             \u001b[0moid\u001b[0m \u001b[0;34m=\u001b[0m \u001b[0mh5o\u001b[0m\u001b[0;34m.\u001b[0m\u001b[0mopen\u001b[0m\u001b[0;34m(\u001b[0m\u001b[0mself\u001b[0m\u001b[0;34m.\u001b[0m\u001b[0mid\u001b[0m\u001b[0;34m,\u001b[0m \u001b[0mself\u001b[0m\u001b[0;34m.\u001b[0m\u001b[0m_e\u001b[0m\u001b[0;34m(\u001b[0m\u001b[0mname\u001b[0m\u001b[0;34m)\u001b[0m\u001b[0;34m,\u001b[0m \u001b[0mlapl\u001b[0m\u001b[0;34m=\u001b[0m\u001b[0mself\u001b[0m\u001b[0;34m.\u001b[0m\u001b[0m_lapl\u001b[0m\u001b[0;34m)\u001b[0m\u001b[0;34m\u001b[0m\u001b[0m\n\u001b[0m\u001b[1;32m    154\u001b[0m \u001b[0;34m\u001b[0m\u001b[0m\n\u001b[1;32m    155\u001b[0m         \u001b[0motype\u001b[0m \u001b[0;34m=\u001b[0m \u001b[0mh5i\u001b[0m\u001b[0;34m.\u001b[0m\u001b[0mget_type\u001b[0m\u001b[0;34m(\u001b[0m\u001b[0moid\u001b[0m\u001b[0;34m)\u001b[0m\u001b[0;34m\u001b[0m\u001b[0m\n",
      "\u001b[0;32mh5o.pyx\u001b[0m in \u001b[0;36mh5py.h5o.open (h5py/h5o.c:3403)\u001b[0;34m()\u001b[0m\n",
      "\u001b[0;31mKeyError\u001b[0m: \"unable to open object (Symbol table: Can't open object)\""
     ]
    }
   ],
   "source": [
    "b = h.file['TelescopeState']['cal_product_B']\n",
    "b_list = []\n",
    "for i, bi in enumerate(b):\n",
    "    b_list.append(pickle.loads(bi[-1]))\n",
    "b_array = np.array(b_list)\n",
    "print b_array.shape\n",
    "# bandpass shape is ntimes x channels x pol x antenna \n",
    "# where ntimes is the number of bandpasses\n",
    "\n",
    "# just look at LAST bandpass for now\n",
    "b_0_0 = b_array[-1,:,0,:]\n",
    "b_1_0 = b_array[-1,:,1,:]\n",
    "\n"
   ]
  },
  {
   "cell_type": "code",
   "execution_count": null,
   "metadata": {
    "collapsed": false,
    "deletable": true,
    "editable": true
   },
   "outputs": [],
   "source": [
    "#plot bandpass - amplitude\n",
    "fig, ax = plt.subplots(2,1,figsize=(20, 10))\n",
    "ax[0].plot(np.abs(b_0_0),'.');\n",
    "ax[0].set_ylim([0,10]);\n",
    "ax[0].set_xlabel('gains')\n",
    "ax[1].plot(np.abs(b_1_0),'.');\n",
    "ax[1].set_ylim([0,10]);\n",
    "ax[1].set_xlabel('gains')\n",
    "#plt.xlabel('channel')\n",
    "#plt.ylabel('gains')"
   ]
  },
  {
   "cell_type": "code",
   "execution_count": null,
   "metadata": {
    "collapsed": false,
    "deletable": true,
    "editable": true
   },
   "outputs": [],
   "source": [
    "#plot bandpass - phase\n",
    "fig, ax = plt.subplots(2,1,figsize=(20, 10))\n",
    "ax[0].plot(np.rad2deg(np.angle(b_0_0)),'.');\n",
    "ax[0].set_ylim([-70,70]);\n",
    "ax[1].plot(np.rad2deg(np.angle(b_1_0)),'.');\n",
    "ax[1].set_ylim([-70,70]);"
   ]
  },
  {
   "cell_type": "code",
   "execution_count": null,
   "metadata": {
    "collapsed": false,
    "deletable": true,
    "editable": true
   },
   "outputs": [],
   "source": [
    "b_array.shape\n",
    "# Time,channels,pols,antennas"
   ]
  },
  {
   "cell_type": "code",
   "execution_count": null,
   "metadata": {
    "collapsed": false,
    "deletable": true,
    "editable": true
   },
   "outputs": [],
   "source": [
    "#last bandpass\n",
    "b_0_1 = b_array[0,:,0,8]\n",
    "b_1_1 = b_array[0,:,1,8]\n",
    "b_1_1.shape\n",
    "print a_array[:,8]"
   ]
  },
  {
   "cell_type": "code",
   "execution_count": null,
   "metadata": {
    "collapsed": false,
    "deletable": true,
    "editable": true
   },
   "outputs": [],
   "source": [
    "#plot bandpass - amplitude\n",
    "fig, ax = plt.subplots(2,1,figsize=(20, 10))\n",
    "ax[0].plot(np.abs(b_0_1),'.');\n",
    "ax[0].set_ylim([0,10]);\n",
    "ax[0].set_xlabel('gains')\n",
    "ax[1].plot(np.abs(b_1_1),'.');\n",
    "ax[1].set_ylim([0,10]);\n",
    "ax[1].set_xlabel('gains')\n",
    "#plt.xlabel('channel')\n",
    "#plt.ylabel('gains')"
   ]
  },
  {
   "cell_type": "code",
   "execution_count": null,
   "metadata": {
    "collapsed": false,
    "deletable": true,
    "editable": true
   },
   "outputs": [],
   "source": [
    "#plot bandpass - phase\n",
    "fig, ax = plt.subplots(2,1,figsize=(20, 10))\n",
    "ax[0].plot(np.rad2deg(np.angle(b_0_1)),'.');\n",
    "ax[0].set_ylim([-70,70]);\n",
    "ax[1].plot(np.rad2deg(np.angle(b_1_1)),'.');\n",
    "ax[1].set_ylim([-70,70]);"
   ]
  }
 ],
 "metadata": {
  "kernelspec": {
   "display_name": "Python 2",
   "language": "python",
   "name": "python2"
  }
 },
 "nbformat": 4,
 "nbformat_minor": 0
}
