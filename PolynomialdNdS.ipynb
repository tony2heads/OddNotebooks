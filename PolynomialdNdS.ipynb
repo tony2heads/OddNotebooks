{
 "cells": [
  {
   "cell_type": "markdown",
   "metadata": {},
   "source": [
    "# Hopkins et al polnomial fit for n(S)\n",
    "\n",
    "http://arxiv.org/pdf/1210.7521v1.pdf \n",
    "\n",
    "$log[(\\frac{dN}{dS})/(S^{−2.5}))] = \\sum a_i(log[S/mJy])$\n",
    "\n",
    "valid from 0.05mJy to 1Jy"
   ]
  },
  {
   "cell_type": "code",
   "execution_count": 37,
   "metadata": {
    "collapsed": false
   },
   "outputs": [
    {
     "name": "stdout",
     "output_type": "stream",
     "text": [
      "Populating the interactive namespace from numpy and matplotlib\n",
      "1.535057302\n",
      "1.535057302\n"
     ]
    },
    {
     "name": "stderr",
     "output_type": "stream",
     "text": [
      "WARNING: pylab import has clobbered these variables: ['power', 'show_config', 'log2', 'arccos', 'arctanh', 'fft', 'sqrt', '__version__', 'test', 'log', 'arcsin']\n",
      "`%matplotlib` prevents importing * from pylab and numpy\n"
     ]
    }
   ],
   "source": [
    "%pylab inline\n",
    "from scipy import *\n",
    "def p(s):\n",
    "    a=array([-0.008, 0.057, -0.121, -0.049, 0.376, 0.508, 0.859])\n",
    "    lns=polyval(a,s)\n",
    "    return lns\n",
    "print p(0.9)\n",
    "def p2(s):\n",
    "    val= 0.859 + 0.508*s+ 0.376*s*s -0.049*s**3 -0.121*s**4 +0.057*s**5 -0.008*s**6\n",
    "    return val\n",
    "print p2(0.9)"
   ]
  },
  {
   "cell_type": "code",
   "execution_count": 38,
   "metadata": {
    "collapsed": false
   },
   "outputs": [
    {
     "name": "stdout",
     "output_type": "stream",
     "text": [
      "5.62e-11\n"
     ]
    }
   ],
   "source": [
    "#Huynh, M. T., Jackson, C., Norris, R. P., & Prandoni, I. 2005, AJ, 130, 1373\n",
    "def h(s): #S in mJy\n",
    "    jy=s/1000.\n",
    "    ls=np.log10(s)\n",
    "    a=0.841 + 0.54*ls +0.364*ls**2 -0.063*ls**3 -0.107*ls**4 +0.052*ls**5 -0.007*ls**6\n",
    "    la=np.log10(a)\n",
    "    dnds=jy**2.5*10**la\n",
    "    return dnds\n",
    "\n",
    "print h(.1)\n",
    "\n",
    "    "
   ]
  },
  {
   "cell_type": "code",
   "execution_count": 39,
   "metadata": {
    "collapsed": true
   },
   "outputs": [],
   "source": [
    "#fluxes=arange(0.05,1000,0.1)\n",
    "#x=log10(fluxes)\n",
    "x=arange(-1.3,3.0,0.05)\n",
    "#print(x[4])\n",
    "y=zeros(len(x))\n",
    "y=p(x)\n",
    "#print x,len(x)\n",
    "#print y,len(y)"
   ]
  },
  {
   "cell_type": "code",
   "execution_count": 40,
   "metadata": {
    "collapsed": false
   },
   "outputs": [
    {
     "data": {
      "image/png": "[encoded data removed]",
      "text/plain": [
       "<matplotlib.figure.Figure at 0x7fa5e7735690>"
      ]
     },
     "metadata": {},
     "output_type": "display_data"
    }
   ],
   "source": [
    "pylab.figure(1,figsize=(12,10))\n",
    "pylab.plot(x,y,label='Hopkins model') #$S^{2.5} \\frac{dN}{dS}$\n",
    "pylab.ylabel(r'$log S^{2.5}\\frac{dN}{dS}$')\n",
    "pylab.xlabel(\"log S\")\n",
    "pylab.grid()\n",
    "pylab.legend()\n",
    "pylab.show()"
   ]
  },
  {
   "cell_type": "markdown",
   "metadata": {},
   "source": [
    "Vernstrom, Norris, Scott, Wall \n",
    "http://arxiv.org/pdf/1408.4160v1.pdf have a formula for n>S for a frequency f(GHz)\n",
    "\n",
    "$N(>S) = 296700 \\times ( {\\frac{S}{\\mu Jy}}^{-1.20} {\\frac{\\nu}{1.4 GHz}}^{-0.33}) {deg}^{-2}$\n"
   ]
  },
  {
   "cell_type": "code",
   "execution_count": 41,
   "metadata": {
    "collapsed": false
   },
   "outputs": [],
   "source": [
    "def vern(s,f):\n",
    "    # scale  from Jy to microJy\n",
    "    s=s*1.e6\n",
    "    #scale f to 1.4GHz\n",
    "    f=f/1.4\n",
    "    if s< 5:\n",
    "        n=84800/(s**(0.48) * f**(0.33)) # sources per square degree\n",
    "    else: \n",
    "        n=296700/(s**1.20 * f**(0.33)) # valid to about 0.5mJy\n",
    "    return n # sources per square degree greater than this flux\n",
    "    \n",
    "def confusion(theta,f): # from Condon, also in Shea Brown, also in Harper et al.\n",
    "    s=0.2 * theta**2 / f**0.7\n",
    "    return s # in  mJy\n",
    "\n",
    "\n",
    "def conf2(theta,f): #from Resolving the Radio Source Background Condon et al 2011\n",
    "    a8= theta*60./8. # convert to 8arcsec\n",
    "    f3 = f/3.02 # convert to 3.02GHz\n",
    "    sig=1.2e-3 * f3**(-0.7) *a8**(10./3.) # milliJy\n",
    "    return sig # really for microJy range\n",
    "\n",
    "def conf3(theta,f): #from Bernardi et al 2014 LEDA preprint\n",
    "    sig= 200*(theta/16.)**2 *(f/0.150)**(-0.7) # to mJy\n",
    "    return sig\n",
    "\n"
   ]
  },
  {
   "cell_type": "code",
   "execution_count": 52,
   "metadata": {
    "collapsed": false
   },
   "outputs": [
    {
     "name": "stdout",
     "output_type": "stream",
     "text": [
      "0.665778306858 18.0189697567 0.689213152108\n"
     ]
    }
   ],
   "source": [
    "print confusion(2,1.3) , conf2(2,1.3) , conf3(2,1.3) # 1 arcminute beam at 1.3GHz"
   ]
  },
  {
   "cell_type": "code",
   "execution_count": 43,
   "metadata": {
    "collapsed": false
   },
   "outputs": [
    {
     "name": "stdout",
     "output_type": "stream",
     "text": [
      "74.5276704229\n"
     ]
    }
   ],
   "source": [
    "print vern(1e-3,1.4) #number of milliJansky sources"
   ]
  },
  {
   "cell_type": "code",
   "execution_count": 44,
   "metadata": {
    "collapsed": false
   },
   "outputs": [
    {
     "name": "stdout",
     "output_type": "stream",
     "text": [
      "4.70237810203\n"
     ]
    }
   ],
   "source": [
    "print vern(10e-3,1.4) # about where Vernstrom ends at 10mJy"
   ]
  },
  {
   "cell_type": "code",
   "execution_count": 45,
   "metadata": {
    "collapsed": false
   },
   "outputs": [
    {
     "data": {
      "image/png": "[encoded data removed]",
      "text/plain": [
       "<matplotlib.figure.Figure at 0x7fa5e728a550>"
      ]
     },
     "metadata": {},
     "output_type": "display_data"
    }
   ],
   "source": [
    "\"\"\"\n",
    "Taken from a plot\n",
    "\"\"\"\n",
    "deg=pi/180\n",
    "#print deg**2 # correction from steradians to degrees\n",
    "\n",
    "from numpy import log10\n",
    "n=log10((3e10,3.0e8,5.0e6,3.0e4,3.5e2,0.6)) +2*log10(deg)\n",
    "s=(-4,-3,-2,-1,0,1)\n",
    "pylab.figure(1,figsize=(12,10))\n",
    "pylab.plot(s,n,label='N/S plot') \n",
    "pylab.grid()\n",
    "pylab.legend()\n",
    "pylab.show()"
   ]
  },
  {
   "cell_type": "markdown",
   "metadata": {},
   "source": [
    "# ATLBS\n",
    "source area 8.42 $deg^2$ at 1.4GHz (1.38)\n",
    "## counts\n",
    "* |     range | av | number|\n",
    "* |   0.4–0.8 |   0.59 |364 |\n",
    "* |   0.8–1.6 |   1.10 |289 |\n",
    "* |   1.6–3.2 |   2.22 |140 |\n",
    "* |   3.2–6.4 |   4.63 |104 |\n",
    "* |   6.4–12.8|   8.83 | 70 |\n",
    "* |  12.8–25.6|  17.3  | 46 | \n",
    "* |  25.6–51.2|  36.3  | 30 |\n",
    "* | 51.2–102.4|  76.5  | 11 |\n",
    "* |102.4–204.8| 144.5  |  7 |\n",
    "* |204.8–409.6| 268.4  |  2 |\n",
    "\n"
   ]
  },
  {
   "cell_type": "code",
   "execution_count": 46,
   "metadata": {
    "collapsed": false
   },
   "outputs": [
    {
     "data": {
      "image/png": "[encoded data removed]",
      "text/plain": [
       "<matplotlib.figure.Figure at 0x7fa5e76a7950>"
      ]
     },
     "metadata": {},
     "output_type": "display_data"
    }
   ],
   "source": [
    "s=log10((204.8, 102.4, 51.2, 25.6, 12.8, 6.4, 3.2, 1.6, 0.8, 0.4)) -3 # subtract 3 to get Jy scale\n",
    "#print len(s)\n",
    "n=log10((2,(2+7),(2+7+11),(2+7+11+30),(2+7+11+30+46),(2+7+11+30+46+70),\\\n",
    "        (2+7+11+30+46+70+104),(2+7+11+30+46+70+104+140),(2+7+11+30+46+70+104+140+289),(2+7+11+30+46+70+104+140+289+364)))\\\n",
    "        -log10(8.42)\n",
    "#print len(s),len(n)\n",
    "pylab.figure(1,figsize=(12,10))\n",
    "pylab.plot(s,n,label='N/S plot') \n",
    "pylab.grid()\n",
    "pylab.legend()\n",
    "pylab.show()"
   ]
  },
  {
   "cell_type": "code",
   "execution_count": 47,
   "metadata": {
    "collapsed": false
   },
   "outputs": [
    {
     "name": "stdout",
     "output_type": "stream",
     "text": [
      " sources per sq deg > 0.8mJy 83.0166270784\n"
     ]
    }
   ],
   "source": [
    "# number of sources >1mJy\n",
    "N=2+7+11+30+46+70+104+140+289\n",
    "area=8.42\n",
    "print \" sources per sq deg > 0.8mJy\", N/area"
   ]
  },
  {
   "cell_type": "markdown",
   "metadata": {},
   "source": [
    "# Values from the Phoenix survey \n",
    "\n",
    "see http://arxiv.org/pdf/1606.05953v1.pdf table 2\n",
    "\n",
    "* |Epoch |Area $deg^2$| $\\frac{\\sigma}{mJy}$ | N  |\n",
    "* | 1    | 2.09       | 3.35        | 336|\n",
    "* | 2    | 1.10       | 2.48        | 410|\n",
    "* | 3    | 0.50       | 1.58        | 453|\n",
    "* | 4    | 0.83       | 0.97        | 498|\n",
    "* | 5    | 1.08       | 0.61        | 594|\n",
    "* | 6    | 0.28       | 0.72        | 328|\n"
   ]
  },
  {
   "cell_type": "code",
   "execution_count": 53,
   "metadata": {
    "collapsed": false
   },
   "outputs": [
    {
     "name": "stdout",
     "output_type": "stream",
     "text": [
      "Number above 3.35mJy  160 per square deg\n",
      "Number above 2.48mJy  372 per square deg\n",
      "Number above 1.58mJy  906 per square deg\n",
      "Number above 0.97mJy  600 per square deg\n",
      "Number above 0.61mJy  550 per square deg\n",
      "Number above 0.72mJy  455 per square deg\n",
      "This is clearly WRONG\n"
     ]
    }
   ],
   "source": [
    "print \"Number above 3.35mJy \", int(336/2.09), \"per square deg\"\n",
    "print \"Number above 2.48mJy \", int(410/1.10), \"per square deg\"\n",
    "print \"Number above 1.58mJy \", int(453/0.50), \"per square deg\"\n",
    "print \"Number above 0.97mJy \", int(498/0.83), \"per square deg\"\n",
    "print \"Number above 0.61mJy \", int(594/1.08), \"per square deg\"\n",
    "print \"Number above 0.72mJy \", int(328/0.72), \"per square deg\"\n",
    "print \"This is clearly WRONG\""
   ]
  },
  {
   "cell_type": "markdown",
   "metadata": {},
   "source": [
    "#Extragalactic + Galactic background outside the plane\n",
    "\n",
    "$T_{sky} = 5.0 ( {\\frac{\\nu}{710MHz}})^{-2.6}  K$\n",
    "\n",
    "also have from Fixsen\n",
    "\n",
    "$T_{sky} = 24.1 ( {\\frac{\\nu}{310MHz}})^{-2.599}  K$\n",
    "\n",
    "And Sieffert 2012  for extragalactic\n",
    "\n",
    "$T_{sky} = 0.110 ( {\\frac{\\nu}{1.4GHz}})^{-2.28}  K$\n"
   ]
  },
  {
   "cell_type": "code",
   "execution_count": 49,
   "metadata": {
    "collapsed": false
   },
   "outputs": [
    {
     "name": "stdout",
     "output_type": "stream",
     "text": [
      "0.44517749126 0.249237188787 0.0620216470026\n"
     ]
    }
   ],
   "source": [
    "def t1(f):\n",
    "    f7=f/0.71 # from GHz to scale freq\n",
    "    x=5.0*f7**(-2.6)\n",
    "    return x\n",
    "\n",
    "def t2(f):\n",
    "    f3= f/0.31 #from GHz to scale freq\n",
    "    x= 24.1*f3**(-2.599)\n",
    "    return x\n",
    "\n",
    "def t3(f): # Extragalactic \n",
    "    f1=f/1.4\n",
    "    x=0.110*f1**(-2.28) \n",
    "    return x\n",
    "\n",
    "print t1(1.8),t2(1.8),t3(1.8)\n"
   ]
  },
  {
   "cell_type": "code",
   "execution_count": 50,
   "metadata": {
    "collapsed": false
   },
   "outputs": [
    {
     "name": "stdout",
     "output_type": "stream",
     "text": [
      "0.85567495019 0.478938026278 0.11\n"
     ]
    }
   ],
   "source": [
    "print t1(1.4) , t2(1.4), t3(1.4)"
   ]
  },
  {
   "cell_type": "code",
   "execution_count": null,
   "metadata": {
    "collapsed": false
   },
   "outputs": [],
   "source": []
  }
 ],
 "metadata": {
  "kernelspec": {
   "display_name": "Python 2",
   "language": "python",
   "name": "python2"
  },
  "language_info": {
   "codemirror_mode": {
    "name": "ipython",
    "version": 2
   },
   "file_extension": ".py",
   "mimetype": "text/x-python",
   "name": "python",
   "nbconvert_exporter": "python",
   "pygments_lexer": "ipython2",
   "version": "2.7.6"
  }
 },
 "nbformat": 4,
 "nbformat_minor": 0
}
