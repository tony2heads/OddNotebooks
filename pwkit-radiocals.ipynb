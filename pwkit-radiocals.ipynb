{
 "cells": [
  {
   "cell_type": "code",
   "execution_count": 46,
   "metadata": {
    "collapsed": true
   },
   "outputs": [],
   "source": [
    "from pwkit import radio_cal_models as r\n"
   ]
  },
  {
   "cell_type": "code",
   "execution_count": 47,
   "metadata": {},
   "outputs": [
    {
     "data": {
      "text/plain": [
       "3091.7396582623574"
      ]
     },
     "execution_count": 47,
     "metadata": {},
     "output_type": "execute_result"
    }
   ],
   "source": [
    "r.cas_a(1300.0,2018.25)"
   ]
  },
  {
   "cell_type": "code",
   "execution_count": 48,
   "metadata": {},
   "outputs": [
    {
     "data": {
      "text/plain": [
       "{u'3c138': (1.00761, -0.55629, -0.11134, -0.0146),\n",
       " u'3c147': (1.44856, -0.67252, -0.21124, 0.04077),\n",
       " u'3c286': (1.23734, -0.43276, -0.14223, 0.00345),\n",
       " u'3c295': (1.46744, -0.7735, -0.25912, 0.00752),\n",
       " u'3c48': (1.31752, -0.7409, -0.16708, 0.01525)}"
      ]
     },
     "execution_count": 48,
     "metadata": {},
     "output_type": "execute_result"
    }
   ],
   "source": [
    "r.vla_parameters"
   ]
  },
  {
   "cell_type": "code",
   "execution_count": 49,
   "metadata": {},
   "outputs": [],
   "source": [
    "flux=r.models['3c353'](1360.0)"
   ]
  },
  {
   "cell_type": "code",
   "execution_count": 50,
   "metadata": {},
   "outputs": [
    {
     "name": "stdout",
     "output_type": "stream",
     "text": [
      "58.503449422141756\n"
     ]
    }
   ],
   "source": [
    "print flux"
   ]
  },
  {
   "cell_type": "code",
   "execution_count": 51,
   "metadata": {},
   "outputs": [
    {
     "name": "stdout",
     "output_type": "stream",
     "text": [
      "3C48   1300.0  17.02 -0.78\n",
      "3C138  1300.0   8.77 -0.58\n",
      "3C161  1300.0  20.07 -0.71\n",
      "3C218  1300.0  46.06 -0.91\n",
      "3C227  1300.0   7.67 -0.83\n",
      "3C286  1300.0  15.35 -0.47\n",
      "3C348  1300.0  48.66 -1.05\n",
      "3C353  1300.0  60.42 -0.71\n"
     ]
    }
   ],
   "source": [
    "f0=1300.0\n",
    "names=['3c48','3c138','3c161','3c218','3c227','3c286','3c348','3c353']\n",
    "for name in names:\n",
    "    print (\"%-6s %6.1f %6.2f %5.2f\") %(name.upper(), f0,r.models[name](f0), r.spindexes[name](f0)) "
   ]
  },
  {
   "cell_type": "code",
   "execution_count": 52,
   "metadata": {},
   "outputs": [
    {
     "data": {
      "text/plain": [
       "{u'3c123': <function pwkit.radio_cal_models.fluxdens>,\n",
       " u'3c138': <function pwkit.radio_cal_models.fluxdens>,\n",
       " u'3c147': <function pwkit.radio_cal_models.fluxdens>,\n",
       " u'3c161': <function pwkit.radio_cal_models.fluxdens>,\n",
       " u'3c218': <function pwkit.radio_cal_models.fluxdens>,\n",
       " u'3c227': <function pwkit.radio_cal_models.fluxdens>,\n",
       " u'3c249.1': <function pwkit.radio_cal_models.fluxdens>,\n",
       " u'3c286': <function pwkit.radio_cal_models.fluxdens>,\n",
       " u'3c295': <function pwkit.radio_cal_models.fluxdens>,\n",
       " u'3c348': <function pwkit.radio_cal_models.fluxdens>,\n",
       " u'3c353': <function pwkit.radio_cal_models.fluxdens>,\n",
       " u'3c48': <function pwkit.radio_cal_models.fluxdens>,\n",
       " u'3c84': <function pwkit.radio_cal_models.fluxdens>,\n",
       " u'DR21': <function pwkit.radio_cal_models.fluxdens>,\n",
       " u'NGC7027': <function pwkit.radio_cal_models.fluxdens>}"
      ]
     },
     "execution_count": 52,
     "metadata": {},
     "output_type": "execute_result"
    }
   ],
   "source": [
    "r.models"
   ]
  }
 ],
 "metadata": {
  "kernelspec": {
   "display_name": "Python 2",
   "language": "python",
   "name": "python2"
  },
  "language_info": {
   "codemirror_mode": {
    "name": "ipython",
    "version": 2
   },
   "file_extension": ".py",
   "mimetype": "text/x-python",
   "name": "python",
   "nbconvert_exporter": "python",
   "pygments_lexer": "ipython2",
   "version": "2.7.6"
  }
 },
 "nbformat": 4,
 "nbformat_minor": 2
}
