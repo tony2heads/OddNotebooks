{
 "metadata": {
  "name": "",
  "signature": "sha256:e26d14d3808e796b6afd4aa7d60d0541266fa835ff1884f17912d4f8f64219b9"
 },
 "nbformat": 3,
 "nbformat_minor": 0,
 "worksheets": [
  {
   "cells": [
    {
     "cell_type": "markdown",
     "metadata": {},
     "source": [
      "<H1> Astro Examples with ipython Notebook</H1>\n",
      "Matt.Dobbs@McGill.ca, created 2014-08-05\n",
      "\n",
      "<H2> Getting the packages you need</H2>\n",
      "\n",
      "Many of the useful python packages for astrophysics are available through Enthought Canopy Python.\n",
      "It is free for people with academic emails.\n",
      "Download it from: https://store.enthought.com/ by clicking \"For Academics\".\n",
      "\n",
      "\n",
      "For mac, it comes as a convenience .dmg file which you download, click, and drag into your applications. \n",
      "You'll have to press CTRL-click then select \"open\" to run it the first time, \n",
      "as MAC-OS doesn't know its a safe download.\n",
      "\n",
      "When you run Canopy.app the first time, it will setup your environment. From this window, \n",
      "you can also view the \"available packages\" and install them.\n",
      "At minimum, you should install\n",
      "<UL>\n",
      "    <LI> pyephem - for calculating ephemeris (position information for objects on the sky</LI>\n",
      "    <LI> astropy - knows about astro coordinate systems and knows certain cosmologies, like WMAP5</LI>\n",
      "</UL>\n",
      "\n",
      "Type\n",
      "<pre>ipython notebook --pylab inline</pre> from any terminal window to launch python notebook.\n",
      "\n",
      "see also: http://nbviewer.ipython.org/urls/dl.dropboxusercontent.com/u/50021999/MyPublicPythonNotebooks/notebook_examples.ipynb\n",
      "\n"
     ]
    },
    {
     "cell_type": "markdown",
     "metadata": {},
     "source": [
      "<H2>Ephemeris - calculating the position of objects on the sky</H2>\n",
      "(code adapted from Ken Gibbs' example, 2014)"
     ]
    },
    {
     "cell_type": "code",
     "collapsed": false,
     "input": [
      "import ephem        # package provides ephemeris info\n",
      "\n",
      "#ephem.day = 24*ephem.hour  # not sure why this is needed.\n",
      "\n",
      "# tell ephem where the observer is located\n",
      "drao = ephem.Observer()\n",
      "drao.lat = '49:19:15.6'\n",
      "drao.lon = '-119:37:26.4'\n",
      "drao.elevation = 545\n",
      "\n",
      "# lets find the location of the Sun and CassA\n",
      "Sun = ephem.Sun()\n",
      "Sun.compute(drao)\n",
      "Cas_A = ephem.readdb('Cas-A,f|J, 23:23:26.0, 58:48:00,99.00,2000')\n",
      "Cas_A.compute(drao)\n",
      "\n",
      "print \"The next transit (local) time for the Sun is \", ephem.localtime(drao.next_transit(Sun))\n",
      "print \"The next transit (local) time for Cas A is \", ephem.localtime(drao.next_transit(Cas_A))\n",
      "\n",
      "# Let's make a plot of the sun and Cas A transit times for all of 2014\n",
      "#  Note: these transit times will be in LOCAL time, which means the local time of the computer running the code.\n",
      "startDate = ephem.Date('2014/1/1 08:00:00.0')   # midnight at DRAO\n",
      "endDate = ephem.Date(startDate+90*ephem.day)\n",
      "times = []\n",
      "sunTransits = []\n",
      "cas_ATransits = []\n",
      "\n",
      "for day in range(0,365,2):\n",
      "    drao.date = ephem.Date(startDate+day*ephem.day)\n",
      "    t = drao.date.datetime()\n",
      "    times.append(t.date())\n",
      "    \n",
      "    sunTranTime = ephem.localtime(drao.next_transit(Sun))\n",
      "    sunTranHr = sunTranTime.hour + sunTranTime.minute/60. + sunTranTime.second/3600.\n",
      "    sunTransits.append(sunTranHr)\n",
      "\n",
      "    cas_ATranTime = ephem.localtime(drao.next_transit(Cas_A))\n",
      "    cas_ATranHr = cas_ATranTime.hour + cas_ATranTime.minute/60. + cas_ATranTime.second/3600.\n",
      "    cas_ATransits.append(cas_ATranHr)\n",
      "\n",
      "fig = figure(figsize=(15,5))\n",
      "ax = fig.add_subplot(111) # subplot, but with only one plot. This is just to get an axis returned.\n",
      "ax.plot_date(times, sunTransits, 'o',label='Sun',linewidth=1.0,color='black') \n",
      "ax.plot_date(times, cas_ATransits, 'o',label='Cas-A',linewidth=1.5,color='blue') \n",
      " \n",
      "\n",
      "ax.set_xlim([times[0],times[len(times)-1]])\n",
      "\n",
      "#import matplotlib.dates as mdates\n",
      "#ax.xaxis.set_major_locator(mdates.MonthLocator())\n",
      "#ax.xaxis.set_minor_locator(mdates.WeekdayLocator())\n",
      "#ax.xaxis.set_major_formatter(mdates.DateFormatter('%b'))\n",
      "\n",
      "ax.set_ylim(0,24)\n",
      "import matplotlib.ticker as ticker\n",
      "ax.yaxis.set_major_locator(ticker.MultipleLocator(6))   # put a label every 6 hours.\n",
      "ax.yaxis.set_minor_locator(ticker.MultipleLocator(1))   # and a minor marker every hour.\n",
      "\n",
      "# let's rotate all the x-axis labels, so they fit below the axis.\n",
      "labels = ax.get_xticklabels()\n",
      "for label in labels:\n",
      "  label.set_rotation(30)\n",
      "\n",
      "ylabel('Local Time Hour (24hr)' )\n",
      "legend(loc='upper right',shadow=True)\n",
      "grid()\n",
      "\n",
      "#show()"
     ],
     "language": "python",
     "metadata": {},
     "outputs": [
      {
       "output_type": "stream",
       "stream": "stdout",
       "text": [
        "The next transit (local) time for the Sun is  2014-08-08 16:04:06.000004\n",
        "The next transit (local) time for Cas A is  2014-08-09 06:11:19.000005\n"
       ]
      },
      {
       "ename": "AttributeError",
       "evalue": "'module' object has no attribute 'day'",
       "output_type": "pyerr",
       "traceback": [
        "\u001b[0;31m---------------------------------------------------------------------------\u001b[0m\n\u001b[0;31mAttributeError\u001b[0m                            Traceback (most recent call last)",
        "\u001b[0;32m<ipython-input-4-4e7593d88630>\u001b[0m in \u001b[0;36m<module>\u001b[0;34m()\u001b[0m\n\u001b[1;32m     21\u001b[0m \u001b[0;31m#  Note: these transit times will be in LOCAL time, which means the local time of the computer running the code.\u001b[0m\u001b[0;34m\u001b[0m\u001b[0;34m\u001b[0m\u001b[0m\n\u001b[1;32m     22\u001b[0m \u001b[0mstartDate\u001b[0m \u001b[0;34m=\u001b[0m \u001b[0mephem\u001b[0m\u001b[0;34m.\u001b[0m\u001b[0mDate\u001b[0m\u001b[0;34m(\u001b[0m\u001b[0;34m'2014/1/1 08:00:00.0'\u001b[0m\u001b[0;34m)\u001b[0m   \u001b[0;31m# midnight at DRAO\u001b[0m\u001b[0;34m\u001b[0m\u001b[0m\n\u001b[0;32m---> 23\u001b[0;31m \u001b[0mendDate\u001b[0m \u001b[0;34m=\u001b[0m \u001b[0mephem\u001b[0m\u001b[0;34m.\u001b[0m\u001b[0mDate\u001b[0m\u001b[0;34m(\u001b[0m\u001b[0mstartDate\u001b[0m\u001b[0;34m+\u001b[0m\u001b[0;36m90\u001b[0m\u001b[0;34m*\u001b[0m\u001b[0mephem\u001b[0m\u001b[0;34m.\u001b[0m\u001b[0mday\u001b[0m\u001b[0;34m)\u001b[0m\u001b[0;34m\u001b[0m\u001b[0m\n\u001b[0m\u001b[1;32m     24\u001b[0m \u001b[0mtimes\u001b[0m \u001b[0;34m=\u001b[0m \u001b[0;34m[\u001b[0m\u001b[0;34m]\u001b[0m\u001b[0;34m\u001b[0m\u001b[0m\n\u001b[1;32m     25\u001b[0m \u001b[0msunTransits\u001b[0m \u001b[0;34m=\u001b[0m \u001b[0;34m[\u001b[0m\u001b[0;34m]\u001b[0m\u001b[0;34m\u001b[0m\u001b[0m\n",
        "\u001b[0;31mAttributeError\u001b[0m: 'module' object has no attribute 'day'"
       ]
      }
     ],
     "prompt_number": 4
    },
    {
     "cell_type": "markdown",
     "metadata": {},
     "source": [
      "Here are some other useful objects:"
     ]
    },
    {
     "cell_type": "code",
     "collapsed": true,
     "input": [
      "Sun = ephem.Sun()\n",
      "Sun.compute(drao)\n",
      "\n",
      "Cas_A = ephem.readdb('Cas-A,f|J, 23:23:26.0, 58:48:00,99.00,2000')\n",
      "Cas_A.compute(drao)\n",
      "\n",
      "Crab = ephem.readdb('Crab,f|R, 05:34:31.9, 22:00:52,8.40,2000')\n",
      "Crab.compute(drao)\n",
      "\n",
      "Cygnus_A = ephem.readdb('Cygnus-A,f|J, 19:59:28.3, 40:44:02.1,99.00,2000')\n",
      "Cygnus_A.compute(drao)\n",
      "\n",
      "M_87 = ephem.readdb('M-87,f|H|J, 12:30:49.2, 12:23:28.0,99.00,2000')\n",
      "M_87.compute(drao)\n",
      "\n",
      "Perseus_B = ephem.readdb('Perseus B|3C84,f|J, 03:19:48.2, 41:30:42.1,99.00,2000')\n",
      "Perseus_B.compute(drao)"
     ],
     "language": "python",
     "metadata": {},
     "outputs": []
    },
    {
     "cell_type": "code",
     "collapsed": false,
     "input": [
      "# here's a basic UTC to LST converter from Kiyo. Much better to use the astropy routines instead!\n",
      "def get_LST(utc): # from an almanac\n",
      "  # first get gmt in useful format for converting to lst\n",
      "  utcf = (utc - 1356912000)/(24.*60.*60) \n",
      "  utcd = int((utc - 1356912000)/(24.*60.*60))\n",
      "  utct = (utcf - utcd)*24.\n",
      "  \n",
      "  # get gmst in hours\n",
      "  gmst = 6.6547660 + 0.0657098245*utcd + 1.00273791*utct\n",
      " \n",
      "  # get local sidereal time in hours for longitude: lon = '-119:37:26.4'\n",
      "  longt = -119 - (37.2/60.) # degrees\n",
      "  longt = longt*(24/360.) # hours\n",
      "  lst = gmst+longt\n",
      "  if lst > 24.:\n",
      "     lst = lst - 24.\n",
      "  return lst \n"
     ],
     "language": "python",
     "metadata": {},
     "outputs": []
    },
    {
     "cell_type": "markdown",
     "metadata": {},
     "source": [
      "<H1>Astropy Units and Constants</H1>"
     ]
    },
    {
     "cell_type": "code",
     "collapsed": false,
     "input": [
      "from astropy import units   # see http://docs.astropy.org/en/stable/units/index.html\n",
      "wavelength = 0.21 * units.m\n",
      "print wavelength.to(units.cm)\n",
      "print [1., 2., 3.] * units.m\n",
      "print wavelength.to(units.cm)**2\n"
     ],
     "language": "python",
     "metadata": {},
     "outputs": []
    },
    {
     "cell_type": "code",
     "collapsed": false,
     "input": [
      "from astropy import constants    # see http://docs.astropy.org/en/stable/constants/index.html\n",
      "\n",
      "print \"the speed of light \", constants.c\n",
      "print \"\\n   0.9 times the speed of light is\", 0.9 * constants.c\n",
      "\n",
      "print constants.hbar\n"
     ],
     "language": "python",
     "metadata": {},
     "outputs": [
      {
       "output_type": "stream",
       "stream": "stdout",
       "text": [
        "the speed of light    Name   = Speed of light in vacuum\n",
        "  Value  = 299792458.0\n",
        "  Error  = 0.0\n",
        "  Units  = m / s\n",
        "  Reference = CODATA 2010\n",
        "\n",
        "   0.9 times the speed of light is 269813212.2 m / s\n",
        "  Name   = Reduced Planck constant\n",
        "  Value  = 1.05457172534e-34\n",
        "  Error  = 4.61549334966e-42\n",
        "  Units  = J s\n",
        "  Reference = CODATA 2010\n"
       ]
      }
     ],
     "prompt_number": 12
    },
    {
     "cell_type": "markdown",
     "metadata": {},
     "source": [
      "<H3>Photon Noise - radiometer equation vs. shot noise</H3>\n",
      "Photons are bosons that are subject Bose-Einstein statistics. The relevant quantity is $$\\frac{1}{e^{h\\nu/kT}} .$$\n",
      "Below the frequency where $kT = h\\nu$, the photons are coherent, and the radiometer equation applies,\n",
      "$$ \\sigma_T = \\frac{T_{sys}}{\\sqrt{ B t } } $$\n",
      "where $\\sigma_T$ is the uncertainty in the measurement of a sky temperature, $T_{sys}$ is the system temperature including both the receiver and the sky, $B$ is the bandwidth, and $t$ is the measurement time.\n",
      "\n",
      "\n",
      "In the Rayleigh-Jeans limit at these \"low\" frequencies, the uncertainty equation for coherent detection is\n",
      "$$   \\Delta n \\Delta phi \\ge \\frac{1}{2} .$$\n",
      "Since coherent detection will involve applification of the input signal, increasing the number of photons $N$ while attempting to preserve the phase.  Noiseless amplification would violate the uncertainty principle, and so is not possible. To preserve this principle, the amplification must introduce quantum noise, $$ T_{noise}=h\\nu/k_B $$\n",
      "where $T_{noise}$ is the receiver noise temperature.\n",
      "\n",
      "\n",
      "\n",
      "Above this frequency photon shot noise is the relevant thing and the noise goes as $\\sqrt{\\#_{photons}}$."
     ]
    },
    {
     "cell_type": "code",
     "collapsed": false,
     "input": [
      "nu = 1e9 * linspace(1,1000,1000) # frequency in Hz.\n",
      "T = nu * constants.h / constants.k_B   # you can make array that include units...\n",
      "plot(nu/1e9,T.value)   # the .value resolves the array into a basic numerical array value, so it can be plotted \n",
      "                       #  or operated on by other functions that want simple numbers as input.\n",
      "xlabel(\"frequency [GHz]\")\n",
      "ylabel(\"T [K]\")\n",
      "title(\"Temperature where shot noise takes over\")"
     ],
     "language": "python",
     "metadata": {},
     "outputs": [
      {
       "metadata": {},
       "output_type": "pyout",
       "prompt_number": 21,
       "text": [
        "<matplotlib.text.Text at 0x10f7bf650>"
       ]
      },
      {
       "metadata": {},
       "output_type": "display_data",
       "png": "[encoded data removed]",
       "text": [
        "<matplotlib.figure.Figure at 0x10f81bbd0>"
       ]
      }
     ],
     "prompt_number": 21
    },
    {
     "cell_type": "markdown",
     "metadata": {},
     "source": [
      "At 3K, the cross over happens at 50 GHz (400 GHz at 20K). In this region (where CMB experiments typically operate), a fudge factor referred to as \"the bunching factor\" is typically applied.\n",
      "\n",
      "[from Kevin M. and Tijmen deH.'s explanations]"
     ]
    },
    {
     "cell_type": "markdown",
     "metadata": {},
     "source": [
      "<H2> Astropy.Cosmology</H2>"
     ]
    },
    {
     "cell_type": "code",
     "collapsed": true,
     "input": [
      "from astropy.cosmology import WMAP9 as cosmo    #other cosmologies of interest include Planck13\n",
      "print cosmo.H(0)\n",
      "print \"critical density at z=0: \", cosmo.critical_density(0)\n",
      "print cosmo\n"
     ],
     "language": "python",
     "metadata": {},
     "outputs": [
      {
       "output_type": "stream",
       "stream": "stdout",
       "text": [
        "69.32 km / (Mpc s)\n",
        "critical density at z=0:  9.02654646573e-30 g / cm3\n",
        "FlatLambdaCDM(name=\"WMAP9\", H0=69.3 km / (Mpc s), Om0=0.286, Tcmb0=2.725 K, Neff=3.04, m_nu=[ 0.  0.  0.] eV)\n"
       ]
      }
     ],
     "prompt_number": 5
    },
    {
     "cell_type": "code",
     "collapsed": false,
     "input": [
      "# its easy to create your own cosmologies:\n",
      "from astropy.cosmology import FlatLambdaCDM\n",
      "cosmo = FlatLambdaCDM(H0=70, Om0=0.3)\n",
      "print cosmo\n",
      "\n",
      "redshifts = [0, 0.8, 2.5]\n",
      "print \"redshift list: \", redshifts\n",
      "print \"comoving distance: \", cosmo.comoving_distance(redshifts)  # prints the comoving distance at z=redshifts\n",
      "print \"age of the universe: \", cosmo.age(redshifts)\n",
      "print \"lookback time in Gyr: \", cosmo.lookback_time(redshifts)  \n",
      "print \"dark energy fraction: \", cosmo.Ode(redshifts) \n",
      "print \"matter fraction: \", cosmo.Om(redshifts)"
     ],
     "language": "python",
     "metadata": {},
     "outputs": [
      {
       "output_type": "stream",
       "stream": "stdout",
       "text": [
        "FlatLambdaCDM(H0=70 km / (Mpc s), Om0=0.3, Tcmb0=2.725 K, Neff=3.04, m_nu=[ 0.  0.  0.] eV)\n",
        "redshift list:  [0, 0.8, 2.5]\n",
        "comoving distance:  "
       ]
      },
      {
       "output_type": "stream",
       "stream": "stdout",
       "text": [
        "[    0.          2787.46329904  5826.4159532 ] Mpc\n",
        "age of the universe:  [ 13.46170166   6.6345977    2.56987757] Gyr\n",
        "lookback time in Gyr:  [  0.           6.82710396  10.89182409] Gyr\n",
        "dark energy fraction:  [ 0.69991476  0.28563174  0.05155831]\n",
        "matter fraction:  [ 0.3         0.71400307  0.94749938]\n"
       ]
      }
     ],
     "prompt_number": 6
    },
    {
     "cell_type": "code",
     "collapsed": false,
     "input": [
      "redshifts = linspace(0,4,100)\n",
      "age = cosmo.age(redshifts)\n",
      "\n",
      "fig = figure( figsize=(12,4) )\n",
      "subplot(1,3,1)\n",
      "plot(redshifts, cosmo.Ode(redshifts), label=\"Dark Energy\")\n",
      "plot(redshifts, cosmo.Om(redshifts), label=\"Matter\")\n",
      "#xlabel('redshift (z)')\n",
      "#ylabel('Energy Density')\n",
      "#title( str(cosmo) )\n",
      "legend()\n",
      "grid(True)\n",
      "show()\n",
      "\n",
      "subplot(1,3,2)\n",
      "#plot(redshifts, 60*100e3/cosmo.kpc_comoving_per_arcmin(redshifts), label=\"Comoving 100 Mpc in degrees\")\n",
      "plot(redshifts, cosmo.Om(redshifts), label=\"Matter\")\n",
      "#plot(redshifts, cosmo.comoving_transverse_distance(redshifts), label=\"Comoving 100 Mpc in degrees\")\n",
      "#plot(redshifts, cosmo.kpc_proper_per_arcmin(redshifts), label=\"Proper 100 Mpc in degrees\")\n",
      "\n",
      "#Tcmb0\n",
      "#Tnu0\n"
     ],
     "language": "python",
     "metadata": {},
     "outputs": [
      {
       "metadata": {},
       "output_type": "display_data",
       "png": "[encoded data removed]",
       "text": [
        "<matplotlib.figure.Figure at 0x10e6995d0>"
       ]
      },
      {
       "metadata": {},
       "output_type": "pyout",
       "prompt_number": 7,
       "text": [
        "[<matplotlib.lines.Line2D at 0x10e6309d0>]"
       ]
      },
      {
       "metadata": {},
       "output_type": "display_data",
       "png": "[encoded data removed]",
       "text": [
        "<matplotlib.figure.Figure at 0x10d4273d0>"
       ]
      }
     ],
     "prompt_number": 7
    },
    {
     "cell_type": "code",
     "collapsed": false,
     "input": [
      "help(cosmo)\n"
     ],
     "language": "python",
     "metadata": {},
     "outputs": []
    },
    {
     "cell_type": "code",
     "collapsed": false,
     "input": [],
     "language": "python",
     "metadata": {},
     "outputs": []
    }
   ],
   "metadata": {}
  }
 ]
}