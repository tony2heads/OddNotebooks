{
 "cells": [
  {
   "cell_type": "markdown",
   "metadata": {},
   "source": [
    "# iPython notebook"
   ]
  },
  {
   "cell_type": "markdown",
   "metadata": {},
   "source": [
    "This is my first iPython notebook."
   ]
  },
  {
   "cell_type": "markdown",
   "metadata": {},
   "source": [
    "Here is an image of M42 I like: <img src=\"https://en.wikipedia.org/wiki/Orion_Nebula#/media/File:Orion_Nebula_-_Hubble_2006_mosaic_18000.jpg\" />"
   ]
  },
  {
   "cell_type": "code",
   "execution_count": null,
   "metadata": {},
   "outputs": [],
   "source": [
    "x = range(10)\n",
    "print x"
   ]
  },
  {
   "cell_type": "markdown",
   "metadata": {},
   "source": [
    "What does a iPython file look like?"
   ]
  },
  {
   "cell_type": "raw",
   "metadata": {},
   "source": [
    "{\n",
    " \"metadata\": {\n",
    "  \"name\": \"\",\n",
    "  \"signature\": \"sha256:b3b168079107c38a981e284aea2962278bc0f131208efc11fc054d8457da277d\"\n",
    " },\n",
    " \"nbformat\": 3,\n",
    " \"nbformat_minor\": 0,\n",
    " \"worksheets\": [\n",
    "  {\n",
    "   \"cells\": [\n",
    "    {\n",
    "     \"cell_type\": \"heading\",\n",
    "     \"level\": 1,\n",
    "     \"metadata\": {},\n",
    "     \"source\": [\n",
    "      \"iPython notebook\"\n",
    "     ]\n",
    "    },\n",
    "    {\n",
    "     \"cell_type\": \"markdown\",\n",
    "     \"metadata\": {},\n",
    "     \"source\": [\n",
    "      \"This is my first iPython notebook.\"\n",
    "     ]\n",
    "    },\n",
    "    {\n",
    "     \"cell_type\": \"markdown\",\n",
    "     \"metadata\": {},\n",
    "     \"source\": [\n",
    "      \"Here is an image of M42 I like: <img src=\\\"https://en.wikipedia.org/wiki/Orion_Nebula#/media/File:Orion_Nebula_-_Hubble_2006_mosaic_18000.jpg\\\" />\"\n",
    "     ]\n",
    "    },\n",
    "    {\n",
    "     \"cell_type\": \"code\",\n",
    "     \"collapsed\": false,\n",
    "     \"input\": [\n",
    "      \"x = range(10)\\n\",\n",
    "      \"print x\"\n",
    "     ],\n",
    "     \"language\": \"python\",\n",
    "     \"metadata\": {},\n",
    "     \"outputs\": []\n",
    "    },\n",
    "    {\n",
    "     \"cell_type\": \"markdown\",\n",
    "     \"metadata\": {},\n",
    "     \"source\": [\n",
    "      \"What does a iPython file look like?\"\n",
    "     ]\n",
    "    },"
   ]
  },
  {
   "cell_type": "code",
   "execution_count": 1,
   "metadata": {},
   "outputs": [
    {
     "name": "stdout",
     "output_type": "stream",
     "text": [
      "<built-in function range>\n"
     ]
    }
   ],
   "source": [
    "x = range(4)\n",
    "print range"
   ]
  },
  {
   "cell_type": "markdown",
   "metadata": {},
   "source": [
    "# Git and GitHub"
   ]
  },
  {
   "cell_type": "markdown",
   "metadata": {},
   "source": [
    "Imagine that you've just spent three weeks writing a crucial piece of software for your research and your laptop suddenly dies on you. Fortunately, you were savvy enough to make (occasional) backups but then you realize that they are all based on your old design and that none of them incorporate the radical revisioning you dreamt up two nights ago at 3 am and have spent the last 40 hours implementing, surviving only on adrenaline, cold pizza and thick coffee. It's OK, though, I'm sure that you'll remember all those changes..."
   ]
  },
  {
   "cell_type": "markdown",
   "metadata": {},
   "source": [
    "Version control systems exist to manage software development, keeping track of (commented) changes you make to a code base and allowing you to backtrack, branch off, and refactor to your heart's content (assuming, of course, that you remember to keep the local copy synched with that in the master repository). There are many such systems out there, for example,  <a href=\"http://subversion.apache.org\">Subversion (SVN)</a>, <a href=\"http://mercurial.selenic.com\">Mercurial</a>, and <a href=\"http://bazaar.canonical.com\">Bazaar</a>, all with their own advantages and idiosyncracies, but the one we will talk about here (and encourage you to use this week) is <b>Git</b>. Although you can run your own local git repository (amd you may want to do so at your home institution), we're going to make use of <i>GitHub</i>, which is web-based (and hosted) repository that has a nice browser interface."
   ]
  },
  {
   "cell_type": "markdown",
   "metadata": {},
   "source": [
    "So the first thing you'll need to do is install the appropriate <i>git</i> package for your operating system from <a href=\"https://git-scm.com/downloads\">here</a> (assuming it's not already installed). The second thing to do is register for an account on at <a href=\"http://github.com\">GitHub</a> - you may just want to have one GitHub account for your project so now is the time to choose whom is the most responsible member of your group and get them to sign up. \n",
    "\n",
    "Once that is all done, you want to initialize git on your computer:\n",
    "\n",
    "<code>> git config --global user.name \"Your Name Here\"</code>\n",
    "\n",
    "<code>> git config --global user.email \"your_email@youremail.com\"</code>"
   ]
  },
  {
   "cell_type": "markdown",
   "metadata": {},
   "source": [
    "The next part is a bit tricky and consists of generating and registering a SSH key with GitHub so that you are not constantly nagged for passwords every time you want to interact with it. If you were just going to be using git locally, this step would not be necessary (unless you're really concerned with security). The instructions for doing this step are <a href=\"https://help.github.com/articles/generating-ssh-keys/\">here</a>. \n",
    "\n",
    "OK, now we are going to create the repositories for your code base (project): the master repository one at GitHub and the local one on your machine. First, go to <a href=\"http://github.com\">GitHub</a> (you may have to login) and click the tiny book icon next to your username (if all the icons look the same, go to the <a href=\"https://github.com/new\">New Repository page</a>. Give it a short memorable name, make it public (since we encourage open software), and click the green \"Create Repository\" button.\n",
    "\n",
    "Although GitHub will serve as the master location for your code, the bulk of any development will happen on your machine and we mirror the repository you just created (let's assume you named it \"MyProject\") as a local directory:\n",
    "\n",
    "<code>> mkdir /some/directory/MyProject</code>\n",
    "\n",
    "Now you'll need to switch to this directory and initialize it for git:\n",
    "\n",
    "<code>> cd /some/directory/MyProject</code>\n",
    "\n",
    "<code>> git init</code><br/>\n",
    "<code>Initialized empty Git repository in /some/directory/MyProject/.git/</code>\n",
    "\n",
    "And there you go, you're ready to start writing your code. Obviously at some point, you're going to want to sync the local repository with the master one (otherwise why are we bothering with this). This is a three-stage process (and if you can remember 'add-commit-push' then it is straightforward). Firstly, you need to tell git which files in your local directory you want in the master repository - you may decide initially that you want everything in it but you'll soon find that you end up with all sorts of extra stuff in the local repository that you don't need in the master, such as temporary files for testing, random notes, coffee shop receipts, etc. So for each file that you want to <b>add</b>:\n",
    "\n",
    "<code>> git add some_algorithm.py</code>\n",
    "\n",
    "Next you need to tell git to take a snapshot of the code you've just told it about. It's at this point that you also tell git something about this particular version of the code, for example, whether it's an initial version or which bug this change fixes or new feature it adds. These comments are visible on the public view of your code on the GitHub site so it's a good idea to be as informative as possible, otherwise:"
   ]
  },
  {
   "cell_type": "markdown",
   "metadata": {},
   "source": [
    "<figure>\n",
    "<img src=\"http://imgs.xkcd.com/comics/git_commit.png\">\n",
    "<figcaption></figcaption>\n",
    "</figure>"
   ]
  },
  {
   "cell_type": "markdown",
   "metadata": {},
   "source": [
    "As the cartoon shows, the command to do this is <b>commit</b> with a <b>-m</b> flag to add an inline comment. If you do not specify the flag then git will take you to a temporary file for you to add commit messages so it's easiest to just add them as inline text:\n",
    "\n",
    "<code>> git commit -m \"Fixed the memory leak bug #15\"</code>\n",
    "\n",
    "Finally, you need to <b>push</b> this all up to GitHub:\n",
    "\n",
    "<code>> git push</code>\n",
    "\n",
    "and the two repositories are now in sync (at least as far as the code you care about is concerned). If at any point you want to check which files are in the repository, which changes still need to be committed (and which branch of the repository you’re currently working on) then you can use:\n",
    "\n",
    "<code>> git status</code>\n",
    "\n",
    "Let's say now that you want a local copy of one of your colleague's codes (because they've implemented a fabulous algorithm that you want to <strike>steal</strike> also use) then you can check this out with:\n",
    "\n",
    "<code>> git checkout fastcode</code>\n",
    "\n",
    "assuming that it's the branch of your repository called \"fastcode\" and\n",
    "\n",
    "<code>>git clone http://github.com/otherProject.git</code>\n",
    "\n",
    "if it's in an entirely different repository (you can get the URL for this from the GitHub web page for this repository.\n",
    "\n",
    "There are (a lot of) other git commands to manage branches, etc. and the GitHub repository has material on all of these but you  always check out the syntax of a particular one locally with:\n",
    "\n",
    "<code>> git help <i>command-name</i></code>"
   ]
  }
 ],
 "metadata": {
  "kernelspec": {
   "display_name": "Python 2",
   "language": "python",
   "name": "python2"
  },
  "language_info": {
   "codemirror_mode": {
    "name": "ipython",
    "version": 2
   },
   "file_extension": ".py",
   "mimetype": "text/x-python",
   "name": "python",
   "nbconvert_exporter": "python",
   "pygments_lexer": "ipython2",
   "version": "2.7.13"
  }
 },
 "nbformat": 4,
 "nbformat_minor": 1
}
