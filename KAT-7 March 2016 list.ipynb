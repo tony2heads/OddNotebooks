{
 "cells": [
  {
   "cell_type": "code",
   "execution_count": 136,
   "metadata": {
    "collapsed": false
   },
   "outputs": [],
   "source": [
    "import numpy as np"
   ]
  },
  {
   "cell_type": "code",
   "execution_count": 137,
   "metadata": {
    "collapsed": false
   },
   "outputs": [],
   "source": [
    "import katarchive\n",
    "\n",
    "import datetime\n",
    "\n",
    "import logging\n",
    "logging.root.setLevel(logging.ERROR)\n"
   ]
  },
  {
   "cell_type": "code",
   "execution_count": 138,
   "metadata": {
    "collapsed": true
   },
   "outputs": [],
   "source": [
    "def findh5(det):   # uses detail list to get h5 name\n",
    "    pos=det.find(\"Name:\")\n",
    "    if pos >0  :\n",
    "        pr2=det[pos+37:pos+53].split()\n",
    "        h5name=pr2[0].lstrip(\"/ng\")\n",
    "    return h5name"
   ]
  },
  {
   "cell_type": "code",
   "execution_count": 139,
   "metadata": {
    "collapsed": false
   },
   "outputs": [],
   "source": [
    "def findproj(text):\n",
    "    found='Unknown'        # default\n",
    "    chx=text.find('prop')\n",
    "    if chx >0  :\n",
    "        pr2=text[chx+11:chx+38].split()\n",
    "        code=pr2[0]\n",
    "        found=code.replace(\"=\",\"\")\n",
    "    else:\n",
    "        if text.find('maser') >0:\n",
    "            found=\"Maser monitoring\"\n",
    "            #print text\n",
    "    return found"
   ]
  },
  {
   "cell_type": "code",
   "execution_count": 140,
   "metadata": {
    "collapsed": true
   },
   "outputs": [],
   "source": [
    "def listpr(x):\n",
    "    \"\"\"\n",
    "    takes a list and prints as string\n",
    "    \"\"\"\n",
    "    li=\" \".join(map(str,x))\n",
    "    return li"
   ]
  },
  {
   "cell_type": "code",
   "execution_count": 141,
   "metadata": {
    "collapsed": false
   },
   "outputs": [
    {
     "name": "stdout",
     "output_type": "stream",
     "text": [
      "2016-03-31 13:07:26.298066 2016-03-17 13:07:26.298066\n"
     ]
    }
   ],
   "source": [
    "today=datetime.datetime.today()\n",
    "ago=datetime.timedelta(-14)   # 14 days is a fortnight\n",
    "lastweek=today+ago\n",
    "print today,lastweek\n",
    "begin=lastweek.strftime(format=\"%d/%m/%Y\")\n",
    "end=today.strftime(format=\"%d/%m/%Y\")"
   ]
  },
  {
   "cell_type": "code",
   "execution_count": 142,
   "metadata": {
    "collapsed": false
   },
   "outputs": [
    {
     "name": "stdout",
     "output_type": "stream",
     "text": [
      "Searched using: CAS.ProductTypeName:(KatFile) AND CAS.ProductTransferStatus:RECEIVED AND StartTime:[2016-03-16T22:00:00Z TO 2016-03-31T21:59:59Z]\n",
      "Returning 101 results\n"
     ]
    }
   ],
   "source": [
    "f = katarchive.search_archive(startdate=begin)\n",
    "start = datetime.datetime.strptime(f[-1].__str__().split('\\'')[3],'%Y-%m-%d %H:%M:%S %Z')\n",
    "end = datetime.datetime.strptime(f[0].__str__().split('\\'')[3],'%Y-%m-%d %H:%M:%S %Z')"
   ]
  },
  {
   "cell_type": "code",
   "execution_count": 143,
   "metadata": {
    "collapsed": false
   },
   "outputs": [],
   "source": [
    "#print 'First file in run: ' , start.isoformat()\n",
    "#print 'Last file in run: ' , end.isoformat()"
   ]
  },
  {
   "cell_type": "code",
   "execution_count": 144,
   "metadata": {
    "collapsed": false
   },
   "outputs": [
    {
     "name": "stdout",
     "output_type": "stream",
     "text": [
      "2 20131211NO-01 32460.45 PKS1510-089 5\n",
      "2 COMM_Atten 56.0 Auto atten 5\n",
      "2 COMM_RFI_SP 9073.1 RFI Scan in c16n25M4k 5\n",
      "2 COMM_Atten 40.27 Auto atten 5\n",
      "2 COMM_Atten 105.01 Auto atten 5\n",
      "2 20130822NO-01 14740.2 W2332_5056 5\n",
      "2 COMM_Atten 106.01 Auto atten 5\n",
      "2 COMM_Atten 105.01 Auto atten 5\n",
      "2 COMM_Point_LM 18108.44 Pointing Observation 5\n",
      "2 COMM_Atten 106.01 Auto atten 5\n",
      "2 COMM_Bandpass_TF 21670.3 Bandpass Calibrators 5\n",
      "2 COMM_Atten 110.01 Auto atten 5\n",
      "2 20140729RT-01 21575.3 N3_Observe_2_1822Mhz 5\n",
      "2 COMM_Atten 66.01 Auto atten 5\n",
      "2 20150825LR-01 32140.44 reticulum2 5\n",
      "2 COMM_RFI_SP 7393.59 Basic RFI Scan: RFI SCAN 5\n",
      "2 COMM_Atten 95.01 Auto atten 5\n",
      "2 20140729RT-01 21785.3 S2_Observe_2 6\n",
      "2 COMM_Atten 92.01 Auto atten 6\n",
      "2 COMM_Image_NO 7470.1 Imaging Calibration 6\n",
      "2 COMM_Atten 109.01 Auto atten 6\n",
      "2 COMM_Bandpass_TF 7380.1 Bandpass Calibrators 6\n",
      "2 COMM_Atten 66.01 Auto atten 6\n",
      "2 20150825LR-01 32650.45 reticulum2 6\n",
      "2 COMM_Atten 40.0 Auto atten 6\n",
      "2 20130822NO-01 14620.2 W2332_5056 6\n",
      "2 COMM_Atten 112.01 Auto atten 6\n",
      "2 20140729RT-01 21775.3 S2_Observe_2 6\n",
      "2 COMM_Atten 124.01 Auto atten 6\n",
      "2 20141125NO-01 7680.11 ATEL6733 6\n",
      "2 COMM_Atten 109.01 Auto atten 6\n",
      "2 COMM_Bandpass_TF 7370.1 Bandpass Calibrators 6\n",
      "2 COMM_Atten 66.01 Auto atten 6\n",
      "2 20150825LR-01 22520.31 reticulum2 6\n",
      "2 COMM_Atten 41.0 Auto atten 6\n",
      "2 COMM_Bandpass_TF 18270.25 Bandpass Calibrators 6\n",
      "2 COMM_Atten 164.01 Auto atten 6\n",
      "2 20141111IM-01 14900.21 LS5039_2 6\n",
      "2 COMM_Atten 124.01 Auto atten 6\n",
      "2 20140729RT-01 22140.31 N3_Observe_2_1822Mhz 6\n",
      "2 COMM_Atten 112.01 Auto atten 6\n",
      "2 COMM_Image_NO 7430.1 Imaging Calibration 6\n",
      "2 COMM_Image_NO 1280.02 Imaging Calibration 6\n",
      "2 COMM_Atten 112.01 Auto atten 6\n",
      "2 20150825LR-01 1260.02 reticulum2 6\n",
      "2 20150825LR-01 1310.02 reticulum2 6\n",
      "2 COMM_Atten 41.0 Auto atten 6\n",
      "2 COMM_Bandpass_TF 5730.08 Bandpass Calibrators 6\n",
      "2 COMM_Atten 114.01 Auto atten 6\n",
      "2 20141219SS-01 14780.2 W2332 Low 6\n",
      "2 COMM_Atten 134.01 Auto atten 6\n",
      "2 20141002MB-01 14810.2 SS433 6\n",
      "2 20140729RT-01 21735.3 N3_Observe_2 6\n",
      "2 COMM_Atten 45.0 Auto atten 6\n",
      "2 COMM_Atten 150.01 Auto atten 6\n",
      "2 20141002MB-01 14510.2 SS433 6\n",
      "2 COMM_Atten 122.01 Auto atten 6\n",
      "2 20140729RT-01 20270.28  AutoAttenuation for 167ob96417942  6\n",
      "2 COMM_Point_LM 2003.16 Pointing Observation 6\n",
      "2 COMM_Atten 44.0 Auto atten 6\n",
      "2 COMM_Atten 111.01 Auto atten 6\n",
      "2 COMM_RFI_SP 5976.47 Basic RFI Scan: RFI SCAN 6\n",
      "2 COMM_Atten 111.01 Auto atten 6\n",
      "2 COMM_Image_NO 7540.1 Imaging Calibration 6\n",
      "2 COMM_Atten 110.01 Auto atten 6\n",
      "2 20150217RT-01 210.0 NGC_1097 - 1350MHz 6\n",
      "2 COMM_Atten 112.01 Auto atten 6\n",
      "2 20141219SS-01 6470.09 W2332 Low 6\n",
      "2 COMM_Atten 80.01 Auto atten 6\n",
      "2 20150821LR-01 11100.15 GRB151021A 6\n",
      "2 COMM_Atten 42.0 Auto atten 6\n",
      "2 COMM_Delay_TF 11436.91 Delay Calibration 6\n",
      "2 COMM_Atten 111.01 Auto atten 6\n",
      "2 COMM_Atten 111.01 Auto atten 6\n",
      "2 20150217RT-01 22020.3 NGC_1097 - 1600MHz 6\n",
      "2 COMM_Atten 113.01 Auto atten 6\n",
      "2 COMM_Tipping_NO 3853.31 Tipping Curve 6\n",
      "2 COMM_Point_LM 1828.15 Pointing Observation 6\n",
      "2 COMM_Atten 103.01 Auto atten 6\n",
      "2 20140729RT-01 21640.3 N3_Observe_1_1822Mhz 6\n",
      "2 COMM_Atten 111.01 Auto atten 6\n",
      "2 COMM_Bandpass_TF 10800.15 Bandpass Calibrators 6\n",
      "2 COMM_Atten 45.0 Auto atten 6\n",
      "2 COMM_Atten 80.53 Auto atten 6\n",
      "2 COMM_Atten 44.0 Auto atten 6\n",
      "2 COMM_Atten 116.01 Auto atten 6\n",
      "2 COMM_Point_LM 1949.15 Pointing Observation 5\n",
      "2 COMM_Atten 39.0 Auto atten 5\n",
      "2 COMM_Atten 106.01 Auto atten 5\n",
      "2 COMM_RFI_SP 5884.47 Basic RFI Scan: RFI SCAN 5\n",
      "2 COMM_Atten 39.0 Auto atten 5\n",
      "2 COMM_Atten 39.0 Auto atten 5\n",
      "2 COMM_Atten 106.01 Auto atten 5\n",
      "2 20150217RT-01 24970.35 NGC_1097 - 1850MHz 5\n",
      "2 COMM_Atten 40.0 Auto atten 5\n",
      "2 COMM_Atten 39.0 Auto atten 5\n",
      "2 COMM_Atten 39.0 Auto atten 5\n",
      "2 COMM_Atten 39.0 Auto atten 5\n",
      "2 COMM_Atten 146.01 Auto atten 5\n",
      "2 20141002MB-01 9600.13 SS433 5\n",
      "2 COMM_Atten 106.01 Auto atten 5\n"
     ]
    }
   ],
   "source": [
    "for fi in f:\n",
    "    txts=fi.metadata.InstructionSet\n",
    "    p=findproj(txts)\n",
    "    print fi.metadata.ExperimentID, p, fi.metadata.Duration, fi.metadata.Description, len(fi.metadata.Antennas)\n"
   ]
  },
  {
   "cell_type": "markdown",
   "metadata": {},
   "source": [
    "Only select observations that are longer than 1 hrs then extract the project id from the script parameters. If there is no project id then allocated No_project_id "
   ]
  },
  {
   "cell_type": "code",
   "execution_count": 145,
   "metadata": {
    "collapsed": false
   },
   "outputs": [],
   "source": [
    "sbd = [] #Experiment ID\n",
    "pid = [] #project ID\n",
    "fnd = [] #Filename\n",
    "dud = [] #Duration\n",
    "antsd = [] #number of antennas\n",
    "scrd = [] #script  -NOT USED NOW\n",
    "\n",
    "for fi in f:\n",
    "    if fi.metadata.Duration < 3600: #only pick hour long or greater observations for analysis\n",
    "        continue\n",
    "    # now try extract the project-id from the instruction-set string\n",
    "    \"\"\"\n",
    "    script = fi.metadata.InstructionSet\n",
    "    scrd.append(script)\n",
    "    spl = script.split()\n",
    "    \"\"\"\n",
    "    txts=fi.metadata.InstructionSet\n",
    "    p=findproj(txts)\n",
    "    if p == \"Unknown\":\n",
    "        p=\"Maser Monitoring\"\n",
    "    sbd.append(fi.metadata.ExperimentID)\n",
    "    pid.append(p)\n",
    "    fnd.append(fi.metadata.Filename)\n",
    "    dud.append(fi.metadata.Duration)\n",
    "    antsd.append(len(fi.metadata.Antennas))\n"
   ]
  },
  {
   "cell_type": "code",
   "execution_count": 146,
   "metadata": {
    "collapsed": false
   },
   "outputs": [
    {
     "name": "stdout",
     "output_type": "stream",
     "text": [
      "Percentage system usage:  53.0 %\n"
     ]
    }
   ],
   "source": [
    "pi = np.array(pid)\n",
    "sb = np.array(sbd)\n",
    "du = np.array(dud)\n",
    "ants = np.array(antsd)\n",
    "\n",
    "p_cent = (sum(du)/((end.toordinal()-start.toordinal())*24*3600))*100\n",
    "\n",
    "print 'Percentage system usage: ', np.floor(p_cent),'%'\n"
   ]
  },
  {
   "cell_type": "code",
   "execution_count": 147,
   "metadata": {
    "collapsed": false
   },
   "outputs": [
    {
     "name": "stdout",
     "output_type": "stream",
     "text": [
      "20141111IM-01 4.14\n",
      "COMM_Delay_TF 3.18\n",
      "COMM_Tipping_NO 1.07\n",
      "20150217RT-01 13.05\n",
      "20130822NO-01 8.16\n",
      "COMM_Bandpass_TF 19.78\n",
      "20141002MB-01 10.81\n",
      "20140729RT-01 41.92\n",
      "20150825LR-01 24.25\n",
      "20141219SS-01 5.9\n",
      "COMM_Image_NO 6.23\n",
      "COMM_RFI_SP 7.87\n",
      "COMM_Point_LM 5.03\n",
      "20131211NO-01 9.02\n",
      "20150821LR-01 3.08\n",
      "20141125NO-01 2.13\n"
     ]
    }
   ],
   "source": [
    "a_id = []\n",
    "a_time = []\n",
    "for p in set(pi):\n",
    "    ind = pi == p\n",
    "    print p,round(sum(du[ind])/3600,2)\n",
    "    a_id.append(p)\n",
    "    a_time.append(round(sum(du[ind])/3600,2))"
   ]
  },
  {
   "cell_type": "code",
   "execution_count": 148,
   "metadata": {
    "collapsed": false
   },
   "outputs": [
    {
     "name": "stdout",
     "output_type": "stream",
     "text": [
      "20130822NO-01      8.2 5\n",
      "20131211NO-01      9.0 6\n",
      "20140729RT-01     41.9 5\n",
      "20141002MB-01     10.8 5\n",
      "20141111IM-01      4.1 5\n",
      "20141125NO-01      2.1 6\n",
      "20141219SS-01      5.9 6\n",
      "20150217RT-01     13.1 5\n",
      "20150821LR-01      3.1 6\n",
      "20150825LR-01     24.2 6\n",
      "COMM_Bandpass_TF  19.8 5\n",
      "COMM_Delay_TF      3.2 5\n",
      "COMM_Image_NO      6.2 6\n",
      "COMM_Point_LM      5.0 6\n",
      "COMM_RFI_SP        7.9 6\n",
      "COMM_Tipping_NO    1.1 5\n"
     ]
    }
   ],
   "source": [
    "ind = np.argsort(a_id)\n",
    "for i in ind:\n",
    "    print (\"%-16s %5.1f %d\") %(a_id[i],a_time[i],ants[i])"
   ]
  },
  {
   "cell_type": "markdown",
   "metadata": {},
   "source": [
    "Find the unique project ids and determine the total observation duration."
   ]
  },
  {
   "cell_type": "markdown",
   "metadata": {},
   "source": [
    "Sort ID and time for display"
   ]
  },
  {
   "cell_type": "code",
   "execution_count": 149,
   "metadata": {
    "collapsed": false
   },
   "outputs": [
    {
     "name": "stdout",
     "output_type": "stream",
     "text": [
      "30 1459371606.h5 PKS1510-089 ant1 ant2 ant3 ant4 ant5\n",
      "30 1459371442.h5 Auto atten ant1 ant2 ant3 ant4 ant5\n",
      "30 1459360568.h5 RFI Scan in c16n25M4k ant1 ant2 ant3 ant4 ant5\n",
      "30 1459360374.h5 Auto atten ant1 ant2 ant3 ant4 ant5\n",
      "30 1459359889.h5 Auto atten ant1 ant2 ant3 ant4 ant5\n",
      "30 1459326145.h5 W2332_5056 ant1 ant2 ant3 ant4 ant5\n",
      "30 1459325892.h5 Auto atten ant1 ant2 ant3 ant4 ant5\n",
      "29 1459265092.h5 Auto atten ant1 ant2 ant3 ant4 ant5\n",
      "29 1459246394.h5 Pointing Observation ant1 ant2 ant3 ant4 ant5\n",
      "29 1459246087.h5 Auto atten ant1 ant2 ant3 ant4 ant5\n",
      "29 1459217810.h5 Bandpass Calibrators ant1 ant2 ant3 ant4 ant5\n",
      "29 1459217669.h5 Auto atten ant1 ant2 ant3 ant4 ant5\n",
      "28 1459196058.h5 N3_Observe_2_1822Mhz ant1 ant2 ant3 ant4 ant5\n",
      "28 1459195960.h5 Auto atten ant1 ant2 ant3 ant4 ant5\n",
      "28 1459163772.h5 reticulum2 ant1 ant2 ant3 ant4 ant5\n",
      "28 1459156314.h5 Basic RFI Scan: RFI SCAN ant1 ant2 ant3 ant4 ant5\n",
      "28 1459155735.h5 Auto atten ant1 ant2 ant3 ant4 ant5\n",
      "28 1459125195.h5 S2_Observe_2 ant1 ant2 ant3 ant4 ant5 ant6\n",
      "28 1459125068.h5 Auto atten ant1 ant2 ant3 ant4 ant5 ant6\n",
      "28 1459117552.h5 Imaging Calibration ant1 ant2 ant3 ant4 ant5 ant6\n",
      "28 1459117412.h5 Auto atten ant1 ant2 ant3 ant4 ant5 ant6\n",
      "27 1459109989.h5 Bandpass Calibrators ant1 ant2 ant3 ant4 ant5 ant6\n",
      "27 1459109890.h5 Auto atten ant1 ant2 ant3 ant4 ant5 ant6\n",
      "27 1459077190.h5 reticulum2 ant1 ant2 ant3 ant4 ant5 ant6\n",
      "27 1459076945.h5 Auto atten ant1 ant2 ant3 ant4 ant5 ant6\n",
      "27 1459061071.h5 W2332_5056 ant1 ant2 ant3 ant4 ant5 ant6\n",
      "27 1459060926.h5 Auto atten ant1 ant2 ant3 ant4 ant5 ant6\n",
      "27 1459039116.h5 S2_Observe_2 ant1 ant2 ant3 ant4 ant5 ant6\n",
      "27 1459038957.h5 Auto atten ant1 ant2 ant3 ant4 ant5 ant6\n",
      "27 1459031231.h5 ATEL6733 ant1 ant2 ant3 ant4 ant5 ant6\n",
      "27 1459031089.h5 Auto atten ant1 ant2 ant3 ant4 ant5 ant6\n",
      "26 1459023673.h5 Bandpass Calibrators ant1 ant2 ant3 ant4 ant5 ant6\n",
      "26 1459023572.h5 Auto atten ant1 ant2 ant3 ant4 ant5 ant6\n",
      "26 1459000994.h5 reticulum2 ant1 ant2 ant3 ant4 ant5 ant6\n",
      "26 1458999528.h5 Auto atten ant1 ant2 ant3 ant4 ant5 ant6\n",
      "26 1458972006.h5 Bandpass Calibrators ant1 ant2 ant3 ant4 ant5 ant6\n",
      "26 1458971771.h5 Auto atten ant1 ant2 ant3 ant4 ant5 ant6\n",
      "26 1458956547.h5 LS5039_2 ant1 ant2 ant3 ant4 ant5 ant6\n",
      "26 1458956388.h5 Auto atten ant1 ant2 ant3 ant4 ant5 ant6\n",
      "25 1458934209.h5 N3_Observe_2_1822Mhz ant1 ant2 ant3 ant4 ant5 ant6\n",
      "25 1458933970.h5 Auto atten ant1 ant2 ant3 ant4 ant5 ant6\n",
      "25 1458925304.h5 Imaging Calibration ant1 ant2 ant3 ant4 ant5 ant6\n",
      "25 1458910157.h5 Imaging Calibration ant1 ant2 ant3 ant4 ant5 ant6\n",
      "25 1458909974.h5 Auto atten ant1 ant2 ant3 ant4 ant5 ant6\n",
      "25 1458907128.h5 reticulum2 ant1 ant2 ant3 ant4 ant5 ant6\n",
      "25 1458904870.h5 reticulum2 ant1 ant2 ant3 ant4 ant5 ant6\n",
      "25 1458904627.h5 Auto atten ant1 ant2 ant3 ant4 ant5 ant6\n",
      "25 1458897293.h5 Bandpass Calibrators ant1 ant2 ant3 ant4 ant5 ant6\n",
      "25 1458897143.h5 Auto atten ant1 ant2 ant3 ant4 ant5 ant6\n",
      "25 1458882313.h5 W2332 Low ant1 ant2 ant3 ant4 ant5 ant6\n",
      "25 1458882147.h5 Auto atten ant1 ant2 ant3 ant4 ant5 ant6\n",
      "25 1458867291.h5 SS433 ant1 ant2 ant3 ant4 ant5 ant6\n",
      "24 1458845520.h5 N3_Observe_2 ant1 ant2 ant3 ant4 ant5 ant6\n",
      "24 1458844434.h5 Auto atten ant1 ant2 ant3 ant4 ant5 ant6\n",
      "24 1458843732.h5 Auto atten ant1 ant2 ant3 ant4 ant5 ant6\n",
      "24 1458788411.h5 SS433 ant1 ant2 ant3 ant4 ant5 ant6\n",
      "24 1458788247.h5 Auto atten ant1 ant2 ant3 ant4 ant5 ant6\n",
      "23 1458766687.h5  AutoAttenuation for 167ob96417942  ant1 ant2 ant3 ant4 ant5 ant6\n",
      "23 1458712636.h5 Pointing Observation ant1 ant2 ant3 ant4 ant5 ant6\n",
      "23 1458712199.h5 Auto atten ant1 ant2 ant3 ant4 ant5 ant6\n",
      "23 1458711583.h5 Auto atten ant1 ant2 ant3 ant4 ant5 ant6\n",
      "22 1458631344.h5 Basic RFI Scan: RFI SCAN ant1 ant2 ant3 ant4 ant5 ant6\n",
      "22 1458631180.h5 Auto atten ant1 ant2 ant3 ant4 ant5 ant6\n",
      "22 1458623136.h5 Imaging Calibration ant1 ant2 ant3 ant4 ant5 ant6\n",
      "22 1458622952.h5 Auto atten ant1 ant2 ant3 ant4 ant5 ant6\n",
      "21 1458588610.h5 NGC_1097 - 1350MHz ant1 ant2 ant3 ant4 ant5 ant6\n",
      "21 1458588369.h5 Auto atten ant1 ant2 ant3 ant4 ant5 ant6\n",
      "21 1458573476.h5 W2332 Low ant1 ant2 ant3 ant4 ant5 ant6\n",
      "21 1458573365.h5 Auto atten ant1 ant2 ant3 ant4 ant5 ant6\n",
      "21 1458561944.h5 GRB151021A ant1 ant2 ant3 ant4 ant5 ant6\n",
      "21 1458561840.h5 Auto atten ant1 ant2 ant3 ant4 ant5 ant6\n",
      "21 1458547602.h5 Delay Calibration ant1 ant2 ant3 ant4 ant5 ant6\n",
      "21 1458547420.h5 Auto atten ant1 ant2 ant3 ant4 ant5 ant6\n",
      "20 1458498372.h5 Auto atten ant1 ant2 ant3 ant4 ant5 ant6\n",
      "20 1458475752.h5 NGC_1097 - 1600MHz ant1 ant2 ant3 ant4 ant5 ant6\n",
      "20 1458475344.h5 Auto atten ant1 ant2 ant3 ant4 ant5 ant6\n",
      "20 1458471404.h5 Tipping Curve ant1 ant2 ant3 ant4 ant5 ant6\n",
      "19 1458374236.h5 Pointing Observation ant1 ant2 ant3 ant4 ant5 ant6\n",
      "19 1458373927.h5 Auto atten ant1 ant2 ant3 ant4 ant5 ant6\n",
      "18 1458328565.h5 N3_Observe_1_1822Mhz ant1 ant2 ant3 ant4 ant5 ant6\n",
      "18 1458328330.h5 Auto atten ant1 ant2 ant3 ant4 ant5 ant6\n",
      "18 1458316130.h5 Bandpass Calibrators ant1 ant2 ant3 ant4 ant5 ant6\n",
      "18 1458315930.h5 Auto atten ant1 ant2 ant3 ant4 ant5 ant6\n",
      "18 1458315668.h5 Auto atten ant1 ant2 ant3 ant4 ant5 ant6\n",
      "18 1458309942.h5 Auto atten ant1 ant2 ant3 ant4 ant5 ant6\n",
      "18 1458305932.h5 Auto atten ant1 ant2 ant3 ant4 ant5 ant6\n",
      "18 1458285625.h5 Pointing Observation ant2 ant3 ant4 ant5 ant6\n",
      "18 1458285540.h5 Auto atten ant2 ant3 ant4 ant5 ant6\n",
      "18 1458285330.h5 Auto atten ant2 ant3 ant4 ant5 ant6\n",
      "18 1458279142.h5 Basic RFI Scan: RFI SCAN ant2 ant3 ant4 ant5 ant6\n",
      "18 1458279068.h5 Auto atten ant2 ant3 ant4 ant5 ant6\n",
      "18 1458278956.h5 Auto atten ant2 ant3 ant4 ant5 ant6\n",
      "18 1458278745.h5 Auto atten ant2 ant3 ant4 ant5 ant6\n",
      "17 1458202149.h5 NGC_1097 - 1850MHz ant2 ant3 ant4 ant5 ant6\n",
      "17 1458201924.h5 Auto atten ant2 ant3 ant4 ant5 ant6\n",
      "17 1458201685.h5 Auto atten ant2 ant3 ant4 ant5 ant6\n",
      "17 1458201527.h5 Auto atten ant2 ant3 ant4 ant5 ant6\n",
      "17 1458201323.h5 Auto atten ant2 ant3 ant4 ant5 ant6\n",
      "17 1458200983.h5 Auto atten ant2 ant3 ant4 ant5 ant6\n",
      "17 1458191116.h5 SS433 ant2 ant3 ant4 ant5 ant6\n",
      "17 1458190940.h5 Auto atten ant2 ant3 ant4 ant5 ant6\n"
     ]
    }
   ],
   "source": [
    "for fi in f:\n",
    "    x= repr(fi)\n",
    "    pr=x.split(\",\")\n",
    "    print pr[1][10:12],findh5(fi.metadata.Details) , fi.metadata.Description, listpr(fi.metadata.Antennas)"
   ]
  },
  {
   "cell_type": "code",
   "execution_count": 150,
   "metadata": {
    "collapsed": false
   },
   "outputs": [],
   "source": [
    "f.sort(key=lambda k: k.metadata.StartTime)"
   ]
  },
  {
   "cell_type": "code",
   "execution_count": 156,
   "metadata": {
    "collapsed": false
   },
   "outputs": [
    {
     "name": "stdout",
     "output_type": "stream",
     "text": [
      "/var/kat/archive/data/comm/2016/03/17/1458191116.h5  20141002MB-01      SS433\n",
      "/var/kat/archive/data/comm/2016/03/17/1458202149.h5  20150217RT-01      NGC_1097 - 1850MHz\n",
      "/var/kat/archive/data/comm/2016/03/18/1458316130.h5  COMM_Bandpass_TF   Bandpass Calibrators\n",
      "/var/kat/archive/data/comm/2016/03/18/1458328565.h5  20140729RT-01      N3_Observe_1_1822Mhz\n",
      "/var/kat/archive/data/comm/2016/03/20/1458475752.h5  20150217RT-01      NGC_1097 - 1600MHz\n",
      "/var/kat/archive/data/comm/2016/03/21/1458561944.h5  20150821LR-01      GRB151021A\n",
      "/var/kat/archive/data/comm/2016/03/21/1458573476.h5  20141219SS-01      W2332 Low\n",
      "/var/kat/archive/data/comm/2016/03/21/1458588610.h5  20150217RT-01      NGC_1097 - 1350MHz\n",
      "/var/kat/archive/data/comm/2016/03/22/1458623136.h5  COMM_Image_NO      Imaging Calibration\n",
      "/var/kat/archive/data/comm/2016/03/24/1458788411.h5  20141002MB-01      SS433\n",
      "/var/kat/archive/data/comm/2016/03/24/1458845520.h5  20140729RT-01      N3_Observe_2\n",
      "/var/kat/archive/data/comm/2016/03/25/1458867291.h5  20141002MB-01      SS433\n",
      "/var/kat/archive/data/comm/2016/03/25/1458882313.h5  20141219SS-01      W2332 Low\n",
      "/var/kat/archive/data/comm/2016/03/25/1458897293.h5  COMM_Bandpass_TF   Bandpass Calibrators\n",
      "/var/kat/archive/data/comm/2016/03/25/1458904870.h5  20150825LR-01      reticulum2\n",
      "/var/kat/archive/data/comm/2016/03/25/1458907128.h5  20150825LR-01      reticulum2\n",
      "/var/kat/archive/data/comm/2016/03/25/1458910157.h5  COMM_Image_NO      Imaging Calibration\n",
      "/var/kat/archive/data/comm/2016/03/25/1458925304.h5  COMM_Image_NO      Imaging Calibration\n",
      "/var/kat/archive/data/comm/2016/03/25/1458934209.h5  20140729RT-01      N3_Observe_2_1822Mhz\n",
      "/var/kat/archive/data/comm/2016/03/26/1458956547.h5  20141111IM-01      LS5039_2\n",
      "/var/kat/archive/data/comm/2016/03/26/1458972006.h5  COMM_Bandpass_TF   Bandpass Calibrators\n",
      "/var/kat/archive/data/comm/2016/03/26/1459000994.h5  20150825LR-01      reticulum2\n",
      "/var/kat/archive/data/comm/2016/03/26/1459023673.h5  COMM_Bandpass_TF   Bandpass Calibrators\n",
      "/var/kat/archive/data/comm/2016/03/26/1459031231.h5  20141125NO-01      ATEL6733\n",
      "/var/kat/archive/data/comm/2016/03/27/1459039116.h5  20140729RT-01      S2_Observe_2\n",
      "/var/kat/archive/data/comm/2016/03/27/1459061071.h5  20130822NO-01      W2332_5056\n",
      "/var/kat/archive/data/comm/2016/03/27/1459077190.h5  20150825LR-01      reticulum2\n",
      "/var/kat/archive/data/comm/2016/03/27/1459109989.h5  COMM_Bandpass_TF   Bandpass Calibrators\n",
      "/var/kat/archive/data/comm/2016/03/27/1459117552.h5  COMM_Image_NO      Imaging Calibration\n",
      "/var/kat/archive/data/comm/2016/03/28/1459125195.h5  20140729RT-01      S2_Observe_2\n",
      "/var/kat/archive/data/comm/2016/03/28/1459163772.h5  20150825LR-01      reticulum2\n",
      "/var/kat/archive/data/comm/2016/03/28/1459196058.h5  20140729RT-01      N3_Observe_2_1822Mhz\n",
      "/var/kat/archive/data/comm/2016/03/29/1459217810.h5  COMM_Bandpass_TF   Bandpass Calibrators\n",
      "/var/kat/archive/data/comm/2016/03/30/1459326145.h5  20130822NO-01      W2332_5056\n",
      "/var/kat/archive/data/comm/2016/03/30/1459371606.h5  20131211NO-01      PKS1510-089\n"
     ]
    }
   ],
   "source": [
    "for fi in f:\n",
    "    x= repr(fi)\n",
    "    pr=x.split(\",\")\n",
    "    nrant=len(fi.metadata.Antennas) # number of antennas\n",
    "    proj=findproj(fi.metadata.InstructionSet)\n",
    "    if fi.metadata.Description.find('Auto') <0 and  fi.metadata.Description.find('RFI') <0 and \\\n",
    "      fi.metadata.Description.find('Pointing') <0  and  fi.metadata.Description.find('Delay') <0  and \\\n",
    "      fi.metadata.Description.find('Tipping') <0  and nrant>4 :  # not auto attenuate, more than 5 antenna\n",
    "        print(\"%s/%s  %-18s %s\") %(fi.metadata.FileLocation,findh5(fi.metadata.Details),proj,fi.metadata.Description )"
   ]
  }
 ],
 "metadata": {
  "kernelspec": {
   "display_name": "Python 2",
   "language": "python",
   "name": "python2"
  },
  "language_info": {
   "codemirror_mode": {
    "name": "ipython",
    "version": 2
   },
   "file_extension": ".py",
   "mimetype": "text/x-python",
   "name": "python",
   "nbconvert_exporter": "python",
   "pygments_lexer": "ipython2",
   "version": "2.7.6"
  }
 },
 "nbformat": 4,
 "nbformat_minor": 0
}
