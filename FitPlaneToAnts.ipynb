{
 "cells": [
  {
   "cell_type": "markdown",
   "metadata": {},
   "source": [
    "# try to fit a plane to antenna positions\n",
    "z = a*x + b*y + c"
   ]
  },
  {
   "cell_type": "code",
   "execution_count": 1,
   "metadata": {},
   "outputs": [
    {
     "data": {
      "text/plain": [
       "'\\nx y z values:\\n\\nm000 :( -8.264 , -207.29 , 1.1965 )\\nm001 :( 1.1205 , -171.762 , 1.0705 )\\nm002 :( -32.113 , -224.236 , 1.2445 )\\nm003 :( -66.518 , -202.276 , 0.885 )\\nm004 :( -123.624 , -252.946 , 1.113 )\\nm005 :( -102.088 , -283.12 , 1.475 )\\nm006 :( -18.2315 , -295.428 , 1.788 )\\nm008 :( -93.527 , -535.026 , 3.0445 )\\nm009 :( 32.3565 , -371.0555 , 2.74 )\\nm010 :( 88.095 , -511.872 , 3.7855 )\\nm011 :( 84.0115 , -352.078 , 2.751 )\\nm012 :( 140.019 , -368.267 , 3.0485 )\\nm013 :( 236.7915 , -393.46 , 3.724 )\\nm014 :( 280.669 , -285.792 , 3.1465 )\\nm015 :( 210.6435 , -219.1415 , 2.338 )\\nm016 :( 288.159 , -185.873 , 2.395 )\\nm017 :( 199.6235 , -112.263 , 1.5545 )\\nm018 :( 105.7265 , -245.8695 , 2.129 )\\nm019 :( 170.7865 , -285.223 , 2.6705 )\\nm021 :( -295.9655 , -327.241 , 0.717 )\\nm022 :( -373.0015 , 0.544 , -1.751 )\\nm023 :( -322.306 , -142.1845 , -0.5755 )\\nm024 :( -351.0455 , 150.088 , -2.555 )\\nm025 :( -181.9775 , 225.617 , -2.332 )\\nm026 :( -99.0035 , 17.045 , -0.589 )\\nm027 :( 40.4745 , -23.112 , 0.294 )\\nm028 :( -51.179 , -87.17 , 0.2355 )\\nm029 :( -88.7615 , -124.111 , 0.2995 )\\nm030 :( 171.2805 , 113.949 , -0.122 )\\nm031 :( 246.5665 , 93.756 , 0.0685 )\\nm032 :( 461.2745 , 175.505 , -0.033 )\\nm033 :( 580.692 , 863.9625 , -3.813 )\\nm034 :( 357.808 , -28.3055 , 1.572 )\\nm036 :( 388.2565 , -290.759 , 3.412 )\\nm037 :( 380.2855 , -459.3085 , 4.7715 )\\nm038 :( 213.308 , -569.08 , 4.546 )\\nm039 :( 253.7475 , -592.1465 , 5.041 )\\nm040 :( -26.858 , -712.219 , 4.4325 )\\nm041 :( -287.545 , -661.678 , 2.5485 )\\nm043 :( -629.8525 , -128.326 , -2.136 )\\nm044 :( -896.164 , 600.4965 , -8.0395 )\\nm045 :( -1832.8595 , 266.75 , -7.2925 )\\nm046 :( -1467.341 , 1751.923 , -14.4775 )\\nm047 :( -578.295 , -517.297 , 0.2125 )\\nm049 :( -3605.9585 , 436.472 , -4.6925 )\\nm050 :( -2052.3385 , -843.708 , -2.056 )\\nm051 :( -850.255 , -769.3605 , 0.2075 )\\nm052 :( -593.192 , -1148.652 , 3.15 )\\nm053 :( 9.3645 , -1304.462 , 7.632 )\\nm054 :( 871.9795 , -499.812 , 5.9635 )\\nm055 :( 1201.782 , 96.4905 , 2.6245 )\\nm056 :( 1598.4025 , 466.6675 , -0.410 )\\nm057 :( 294.663 , 3259.914 , -18.051 )\\nm058 :( 2805.778 , 2686.8665 , -11.075 )\\nm059 :( 3686.4365 , 758.885 , 4.409 )\\nm060 :( 3419.683 , -1840.485 , 16.286 )\\nm061 :( -16.4085 , -2323.779 , 13.904 )\\nm062 :( -1440.6315 , -2503.773 , 14.2825 )\\nm063 :( -3419.5895 , -1840.4645 , 8.993 )\\n'"
      ]
     },
     "execution_count": 1,
     "metadata": {},
     "output_type": "execute_result"
    }
   ],
   "source": [
    "\"\"\"\n",
    "x y z values:\n",
    "\n",
    "m000 :( -8.264 , -207.29 , 1.1965 )\n",
    "m001 :( 1.1205 , -171.762 , 1.0705 )\n",
    "m002 :( -32.113 , -224.236 , 1.2445 )\n",
    "m003 :( -66.518 , -202.276 , 0.885 )\n",
    "m004 :( -123.624 , -252.946 , 1.113 )\n",
    "m005 :( -102.088 , -283.12 , 1.475 )\n",
    "m006 :( -18.2315 , -295.428 , 1.788 )\n",
    "m008 :( -93.527 , -535.026 , 3.0445 )\n",
    "m009 :( 32.3565 , -371.0555 , 2.74 )\n",
    "m010 :( 88.095 , -511.872 , 3.7855 )\n",
    "m011 :( 84.0115 , -352.078 , 2.751 )\n",
    "m012 :( 140.019 , -368.267 , 3.0485 )\n",
    "m013 :( 236.7915 , -393.46 , 3.724 )\n",
    "m014 :( 280.669 , -285.792 , 3.1465 )\n",
    "m015 :( 210.6435 , -219.1415 , 2.338 )\n",
    "m016 :( 288.159 , -185.873 , 2.395 )\n",
    "m017 :( 199.6235 , -112.263 , 1.5545 )\n",
    "m018 :( 105.7265 , -245.8695 , 2.129 )\n",
    "m019 :( 170.7865 , -285.223 , 2.6705 )\n",
    "m021 :( -295.9655 , -327.241 , 0.717 )\n",
    "m022 :( -373.0015 , 0.544 , -1.751 )\n",
    "m023 :( -322.306 , -142.1845 , -0.5755 )\n",
    "m024 :( -351.0455 , 150.088 , -2.555 )\n",
    "m025 :( -181.9775 , 225.617 , -2.332 )\n",
    "m026 :( -99.0035 , 17.045 , -0.589 )\n",
    "m027 :( 40.4745 , -23.112 , 0.294 )\n",
    "m028 :( -51.179 , -87.17 , 0.2355 )\n",
    "m029 :( -88.7615 , -124.111 , 0.2995 )\n",
    "m030 :( 171.2805 , 113.949 , -0.122 )\n",
    "m031 :( 246.5665 , 93.756 , 0.0685 )\n",
    "m032 :( 461.2745 , 175.505 , -0.033 )\n",
    "m033 :( 580.692 , 863.9625 , -3.813 )\n",
    "m034 :( 357.808 , -28.3055 , 1.572 )\n",
    "m036 :( 388.2565 , -290.759 , 3.412 )\n",
    "m037 :( 380.2855 , -459.3085 , 4.7715 )\n",
    "m038 :( 213.308 , -569.08 , 4.546 )\n",
    "m039 :( 253.7475 , -592.1465 , 5.041 )\n",
    "m040 :( -26.858 , -712.219 , 4.4325 )\n",
    "m041 :( -287.545 , -661.678 , 2.5485 )\n",
    "m043 :( -629.8525 , -128.326 , -2.136 )\n",
    "m044 :( -896.164 , 600.4965 , -8.0395 )\n",
    "m045 :( -1832.8595 , 266.75 , -7.2925 )\n",
    "m046 :( -1467.341 , 1751.923 , -14.4775 )\n",
    "m047 :( -578.295 , -517.297 , 0.2125 )\n",
    "m049 :( -3605.9585 , 436.472 , -4.6925 )\n",
    "m050 :( -2052.3385 , -843.708 , -2.056 )\n",
    "m051 :( -850.255 , -769.3605 , 0.2075 )\n",
    "m052 :( -593.192 , -1148.652 , 3.15 )\n",
    "m053 :( 9.3645 , -1304.462 , 7.632 )\n",
    "m054 :( 871.9795 , -499.812 , 5.9635 )\n",
    "m055 :( 1201.782 , 96.4905 , 2.6245 )\n",
    "m056 :( 1598.4025 , 466.6675 , -0.410 )\n",
    "m057 :( 294.663 , 3259.914 , -18.051 )\n",
    "m058 :( 2805.778 , 2686.8665 , -11.075 )\n",
    "m059 :( 3686.4365 , 758.885 , 4.409 )\n",
    "m060 :( 3419.683 , -1840.485 , 16.286 )\n",
    "m061 :( -16.4085 , -2323.779 , 13.904 )\n",
    "m062 :( -1440.6315 , -2503.773 , 14.2825 )\n",
    "m063 :( -3419.5895 , -1840.4645 , 8.993 )\n",
    "\"\"\""
   ]
  },
  {
   "cell_type": "code",
   "execution_count": 2,
   "metadata": {},
   "outputs": [
    {
     "name": "stdout",
     "output_type": "stream",
     "text": [
      "Populating the interactive namespace from numpy and matplotlib\n"
     ]
    }
   ],
   "source": [
    "from mpl_toolkits.mplot3d import Axes3D\n",
    "import numpy as np\n",
    "import scipy.optimize\n",
    "%pylab inline"
   ]
  },
  {
   "cell_type": "code",
   "execution_count": 3,
   "metadata": {
    "collapsed": true
   },
   "outputs": [],
   "source": [
    "def plane(x, y, params):\n",
    "    a = params[0]\n",
    "    b = params[1]\n",
    "    c = params[2]\n",
    "    z = a*x + b*y + c\n",
    "    return z\n",
    "\n",
    "def error(params, points):\n",
    "    result = 0\n",
    "    for (x,y,z) in points:\n",
    "        plane_z = plane(x, y, params)\n",
    "        diff = abs(plane_z - z)\n",
    "        result += diff**2\n",
    "    return result"
   ]
  },
  {
   "cell_type": "code",
   "execution_count": 4,
   "metadata": {
    "collapsed": true
   },
   "outputs": [],
   "source": [
    "import functools"
   ]
  },
  {
   "cell_type": "code",
   "execution_count": 5,
   "metadata": {
    "collapsed": true
   },
   "outputs": [],
   "source": [
    "def cross(a, b):\n",
    "    return [a[1]*b[2] - a[2]*b[1],\n",
    "            a[2]*b[0] - a[0]*b[2],\n",
    "            a[0]*b[1] - a[1]*b[0]]"
   ]
  },
  {
   "cell_type": "code",
   "execution_count": 6,
   "metadata": {},
   "outputs": [],
   "source": [
    "points=[( -8.264 , -207.29 , 1.1965 ),\\\n",
    "    ( 1.1205 , -171.762 , 1.0705 ),\\\n",
    "    ( -32.113 , -224.236 , 1.2445 ),\\\n",
    "    ( -66.518 , -202.276 , 0.885 ),\\\n",
    "    ( -123.624 , -252.946 , 1.113 ),\\\n",
    "    ( -102.088 , -283.12 , 1.475 ),\\\n",
    "    ( -18.2315 , -295.428 , 1.788 ),\\\n",
    "    ( -93.527 , -535.026 , 3.0445 ),\\\n",
    "    ( 32.3565 , -371.0555 , 2.74 ),\\\n",
    "    ( 88.095 , -511.872 , 3.7855 ),\\\n",
    "    ( 84.0115 , -352.078 , 2.751 ),\\\n",
    "    ( 140.019 , -368.267 , 3.0485 ),\\\n",
    "    ( 236.7915 , -393.46 , 3.724 ),\\\n",
    "    ( 280.669 , -285.792 , 3.1465 ),\\\n",
    "    ( 210.6435 , -219.1415 , 2.338 ),\\\n",
    "    ( 288.159 , -185.873 , 2.395 ),\\\n",
    "    ( 199.6235 , -112.263 , 1.5545 ),\\\n",
    "    ( 105.7265 , -245.8695 , 2.129 ),\\\n",
    "    ( 170.7865 , -285.223 , 2.6705 ),\\\n",
    "    ( -295.9655 , -327.241 , 0.717 ),\\\n",
    "    ( -373.0015 , 0.544 , -1.751 ),\\\n",
    "    ( -322.306 , -142.1845 , -0.5755 ),\\\n",
    "    ( -351.0455 , 150.088 , -2.555 ),\\\n",
    "    ( -181.9775 , 225.617 , -2.332 ),\\\n",
    "    ( -99.0035 , 17.045 , -0.589 ),\\\n",
    "    ( 40.4745 , -23.112 , 0.294 ),\\\n",
    "    ( -51.179 , -87.17 , 0.2355 ),\\\n",
    "    ( -88.7615 , -124.111 , 0.2995 ),\\\n",
    "    ( 171.2805 , 113.949 , -0.122 ),\\\n",
    "    ( 246.5665 , 93.756 , 0.0685 ),\\\n",
    "    ( 461.2745 , 175.505 , -0.033 ),\\\n",
    "    ( 580.692 , 863.9625 , -3.813 ),\\\n",
    "    ( 357.808 , -28.3055 , 1.572 ),\\\n",
    "    ( 388.2565 , -290.759 , 3.412 ),\\\n",
    "    ( 380.2855 , -459.3085 , 4.7715 ),\\\n",
    "    ( 213.308 , -569.08 , 4.546 ),\\\n",
    "    ( 253.7475 , -592.1465 , 5.041 ),\\\n",
    "    ( -26.858 , -712.219 , 4.4325 ),\\\n",
    "    ( -287.545 , -661.678 , 2.5485 ),\\\n",
    "    ( -629.8525 , -128.326 , -2.136 ),\\\n",
    "    ( -896.164 , 600.4965 , -8.0395 ),\\\n",
    "    ( -1832.8595 , 266.75 , -7.2925 ),\\\n",
    "    ( -1467.341 , 1751.923 , -14.4775 ),\\\n",
    "    ( -578.295 , -517.297 , 0.2125 ),\\\n",
    "    ( -3605.9585 , 436.472 , -4.6925 ),\\\n",
    "    ( -2052.3385 , -843.708 , -2.056 ),\\\n",
    "    ( -850.255 , -769.3605 , 0.2075 ),\\\n",
    "    ( -593.192 , -1148.652 , 3.15 ),\\\n",
    "    ( 9.3645 , -1304.462 , 7.632 ),\\\n",
    "    ( 871.9795 , -499.812 , 5.9635 ),\\\n",
    "    ( 1201.782 , 96.4905 , 2.6245 ),\\\n",
    "    ( 1598.4025 , 466.6675 , -0.410 ),\\\n",
    "    ( 294.663 , 3259.914 , -18.051 ),\\\n",
    "    ( 2805.778 , 2686.8665 , -11.075 ),\\\n",
    "    ( 3686.4365 , 758.885 , 4.409 ),\\\n",
    "    ( 3419.683 , -1840.485 , 16.286 ),\\\n",
    "    ( -16.4085 , -2323.779 , 13.904 ),\\\n",
    "    ( -1440.6315 , -2503.773 , 14.2825 ),\\\n",
    "    ( -3419.5895 , -1840.4645 , 8.993 )]"
   ]
  },
  {
   "cell_type": "code",
   "execution_count": 7,
   "metadata": {},
   "outputs": [
    {
     "data": {
      "text/plain": [
       "(1.1205, -171.762, 1.0705)"
      ]
     },
     "execution_count": 7,
     "metadata": {},
     "output_type": "execute_result"
    }
   ],
   "source": [
    "points[1]"
   ]
  },
  {
   "cell_type": "code",
   "execution_count": 8,
   "metadata": {
    "collapsed": true
   },
   "outputs": [],
   "source": [
    "fun = functools.partial(error, points=points)\n",
    "params0 = [0, 0, 0]\n",
    "res = scipy.optimize.minimize(fun, params0)"
   ]
  },
  {
   "cell_type": "code",
   "execution_count": 11,
   "metadata": {},
   "outputs": [
    {
     "data": {
      "image/png": "[encoded data removed]",
      "text/plain": [
       "<matplotlib.figure.Figure at 0x7f6035dc0210>"
      ]
     },
     "metadata": {},
     "output_type": "display_data"
    }
   ],
   "source": [
    "a = res.x[0]\n",
    "b = res.x[1]\n",
    "c = res.x[2]\n",
    "\n",
    "xs, ys, zs = zip(*points)\n",
    "\n",
    "fig = plt.figure()\n",
    "ax = fig.add_subplot(111, projection='3d')\n",
    "\n",
    "ax.scatter(xs, ys, zs)\n",
    "\n",
    "point  = np.array([0.0, 0.0, c])\n",
    "normal = np.array(cross([1,0,a], [0,1,b]))\n",
    "d = -point.dot(normal)\n",
    "xx, yy = np.meshgrid([-5,10], [-5,10])\n",
    "z = (-normal[0] * xx - normal[1] * yy - d) * 1. /normal[2]\n",
    "ax.plot_surface(xx, yy, z, alpha=0.2, color=[0,1,0])\n",
    "\n",
    "ax.set_xlim(-6000,6000)\n",
    "ax.set_ylim(-6000,6000)\n",
    "ax.set_zlim(  -20,20)\n",
    "\n",
    "plt.show()"
   ]
  },
  {
   "cell_type": "code",
   "execution_count": 14,
   "metadata": {},
   "outputs": [
    {
     "name": "stdout",
     "output_type": "stream",
     "text": [
      "[ 0.00183282 -0.00605362  0.02428473]\n"
     ]
    }
   ],
   "source": [
    "print res.x"
   ]
  },
  {
   "cell_type": "code",
   "execution_count": 28,
   "metadata": {},
   "outputs": [],
   "source": [
    "matrx= np.array(points)"
   ]
  },
  {
   "cell_type": "code",
   "execution_count": 29,
   "metadata": {},
   "outputs": [],
   "source": [
    "A=matrx[:,:2]"
   ]
  },
  {
   "cell_type": "code",
   "execution_count": 30,
   "metadata": {},
   "outputs": [
    {
     "name": "stdout",
     "output_type": "stream",
     "text": [
      "[  1.1965   1.0705   1.2445   0.885    1.113    1.475    1.788    3.0445\n",
      "   2.74     3.7855   2.751    3.0485   3.724    3.1465   2.338    2.395\n",
      "   1.5545   2.129    2.6705   0.717   -1.751   -0.5755  -2.555   -2.332\n",
      "  -0.589    0.294    0.2355   0.2995  -0.122    0.0685  -0.033   -3.813\n",
      "   1.572    3.412    4.7715   4.546    5.041    4.4325   2.5485  -2.136\n",
      "  -8.0395  -7.2925 -14.4775   0.2125  -4.6925  -2.056    0.2075   3.15\n",
      "   7.632    5.9635   2.6245  -0.41   -18.051  -11.075    4.409   16.286\n",
      "  13.904   14.2825   8.993 ]\n"
     ]
    }
   ],
   "source": [
    "B=matrx[:,2]\n",
    "print B"
   ]
  },
  {
   "cell_type": "code",
   "execution_count": 44,
   "metadata": {},
   "outputs": [],
   "source": [
    "C,res,rank,sing =scipy.linalg.lstsq(A,B,cond=0.001)"
   ]
  },
  {
   "cell_type": "code",
   "execution_count": 47,
   "metadata": {},
   "outputs": [
    {
     "name": "stdout",
     "output_type": "stream",
     "text": [
      "[ 0.00183345 -0.00605922]\n",
      "114.18938630588939\n",
      "2\n",
      "[9202.06037453 6709.03662177]\n"
     ]
    }
   ],
   "source": [
    "print C\n",
    "print res\n",
    "print rank\n",
    "print sing"
   ]
  },
  {
   "cell_type": "code",
   "execution_count": 62,
   "metadata": {},
   "outputs": [
    {
     "name": "stdout",
     "output_type": "stream",
     "text": [
      "[ 0.04436407 -0.02770187  0.05531762  0.21867724  0.19299682  0.05331294\n",
      " -0.03136333  0.02586299 -0.43236902 -0.52243702 -0.46365092 -0.56037116\n",
      " -0.90579352 -0.90023034 -0.62396876 -0.74042899 -0.50827374 -0.44537818\n",
      " -0.6291423   0.72318675  1.06382354  0.84609467  1.00195882  0.63129\n",
      "  0.30420246 -0.07975127  0.19884798  0.28977593 -0.25440753 -0.18452046\n",
      " -0.18469888 -0.3572681  -0.74446706 -0.93837771 -1.29121365 -0.70672917\n",
      " -0.9878203  -0.16625125  0.93355268  1.75875131  2.75788618  2.31574367\n",
      "  1.17191427  1.86164036 -4.56353068  3.40534882  2.89532302  2.72234626\n",
      "  0.28919158 -1.33629683 -1.00574789  0.51295277 -1.16128567 -0.06105669\n",
      " -2.24834782  1.13572717  0.14620396 -1.75291691 -4.11087297]\n",
      "3.4053488209652945 -4.563530676285164\n"
     ]
    }
   ],
   "source": [
    "offs=np.matmul(A,C) -B\n",
    "print offs\n",
    "print np.max(offs), np.min(offs)"
   ]
  },
  {
   "cell_type": "code",
   "execution_count": 61,
   "metadata": {},
   "outputs": [
    {
     "name": "stdout",
     "output_type": "stream",
     "text": [
      "3686.4365 3259.914\n"
     ]
    }
   ],
   "source": [
    "print np.max(A[0:,]), np.max(A[:,1:])"
   ]
  },
  {
   "cell_type": "markdown",
   "metadata": {},
   "source": []
  }
 ],
 "metadata": {
  "kernelspec": {
   "display_name": "Python 2",
   "language": "python",
   "name": "python2"
  },
  "language_info": {
   "codemirror_mode": {
    "name": "ipython",
    "version": 2
   },
   "file_extension": ".py",
   "mimetype": "text/x-python",
   "name": "python",
   "nbconvert_exporter": "python",
   "pygments_lexer": "ipython2",
   "version": "2.7.6"
  }
 },
 "nbformat": 4,
 "nbformat_minor": 2
}
