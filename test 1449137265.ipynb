{
 "cells": [
  {
   "cell_type": "code",
   "execution_count": 1,
   "metadata": {
    "collapsed": true
   },
   "outputs": [],
   "source": [
    "n=\"/var/kat/archive/data/RTS/telescope_products/2015/12/03/1449137265.h5\""
   ]
  },
  {
   "cell_type": "code",
   "execution_count": 2,
   "metadata": {
    "collapsed": false
   },
   "outputs": [
    {
     "name": "stdout",
     "output_type": "stream",
     "text": [
      "Populating the interactive namespace from numpy and matplotlib\n"
     ]
    }
   ],
   "source": [
    "%pylab inline"
   ]
  },
  {
   "cell_type": "code",
   "execution_count": 3,
   "metadata": {
    "collapsed": false
   },
   "outputs": [],
   "source": [
    "from katsdpscripts.reduction.analyse_point_source_scans import analyse_point_source_scans\n",
    "\n"
   ]
  },
  {
   "cell_type": "code",
   "execution_count": 4,
   "metadata": {
    "collapsed": true
   },
   "outputs": [],
   "source": [
    "class my_opts:\n",
    "    def __init__(self, **kwds):\n",
    "        self.__dict__.update(kwds)"
   ]
  },
  {
   "cell_type": "code",
   "execution_count": 5,
   "metadata": {
    "collapsed": true
   },
   "outputs": [],
   "source": [
    "opts = my_opts(outfilebase=None, keepfilename=None, baseline='m063,m062', \\\n",
    "        mc_iterations=1, time_offset=0.0, pointing_model=None, freq_chans=None, old_loader=None, nd_models=None, \\\n",
    "        ku_band=True, channel_mask=None,keep_all=None,remove_spikes=False,batch=True,plot_spectrum=False)"
   ]
  },
  {
   "cell_type": "code",
   "execution_count": 6,
   "metadata": {
    "collapsed": false
   },
   "outputs": [
    {
     "name": "stderr",
     "output_type": "stream",
     "text": [
      "INFO:root:Loading dataset '/var/kat/archive/data/RTS/telescope_products/2015/12/03/1449137265.h5'\n",
      "INFO:scape.kathdf5:Loading baseline 'm063,m062'\n",
      "DEBUG:katpoint.catalogue:Added '1226+023' [radec] (and 1 aliases)\n",
      "DEBUG:katpoint.catalogue:Added '1253-055' [radec] (and 1 aliases)\n",
      "DEBUG:katpoint.catalogue:Added '1921-293' [radec] (and 1 aliases)\n",
      "INFO:scape.kathdf5:Defaulting to 'coupler' noise diode (either no or both diodes are firing)\n",
      "WARNING:scape.kathdf5:Cannot find coupler noise diode H polarisation model for antenna m063 - using default.\n",
      "WARNING:scape.kathdf5:Cannot find coupler noise diode V polarisation model for antenna m063 - using default.\n",
      "INFO:root:==== Processing compound scan 1 of 1: 'm063 1449137265 1226+023 2015-12-03 10:12:14.811' ====\n",
      "WARNING:scape.dataset:No noise diode model found in data set - gain calibration not done\n",
      "WARNING:scape.dataset:No noise diode model found in data set - gain calibration not done\n",
      "DEBUG:scape.compoundscan:Fitting beam and initial baseline of degree (1, 3) to pol 'absHH' of target '1226+023':\n",
      "DEBUG:scape.beam_baseline:Iteration 0: residual = inf, beam height = 2.208, width = 0.146 deg, inner region = 64/359\n",
      "DEBUG:scape.beam_baseline:Iteration 1: residual = 1.52, beam height = 2.238, width = 0.161 deg, inner region = 64/359\n",
      "DEBUG:scape.beam_baseline:Iteration 2: residual = 0.00, beam height = 2.238, width = 0.161 deg, inner region = 64/359\n",
      "DEBUG:scape.beam_baseline:Refinement: beam height = 2.161, width = 0.179 deg, first null = 0.289 deg, based on 3 of 6 scans\n",
      "DEBUG:scape.compoundscan:Fitting beam and initial baseline of degree (1, 3) to pol 'absVV' of target '1226+023':\n",
      "DEBUG:scape.beam_baseline:Iteration 0: residual = inf, beam height = 2.419, width = 0.144 deg, inner region = 64/359\n",
      "DEBUG:scape.beam_baseline:Iteration 1: residual = 1.41, beam height = 2.439, width = 0.159 deg, inner region = 63/359\n",
      "DEBUG:scape.beam_baseline:Iteration 2: residual = 0.00, beam height = 2.439, width = 0.159 deg, inner region = 63/359\n",
      "DEBUG:scape.beam_baseline:Iteration 3: residual = 0.00, beam height = 2.439, width = 0.159 deg, inner region = 63/359\n",
      "DEBUG:scape.beam_baseline:Refinement: beam height = 2.395, width = 0.173 deg, first null = 0.286 deg, based on 3 of 6 scans\n",
      "DEBUG:scape.compoundscan:Fitting beam and initial baseline of degree (1, 3) to pol 'absI' of target '1226+023':\n",
      "DEBUG:scape.beam_baseline:Iteration 0: residual = inf, beam height = 4.626, width = 0.145 deg, inner region = 64/359\n",
      "DEBUG:scape.beam_baseline:Iteration 1: residual = 1.58, beam height = 4.676, width = 0.160 deg, inner region = 63/359\n",
      "DEBUG:scape.beam_baseline:Iteration 2: residual = 0.00, beam height = 4.676, width = 0.160 deg, inner region = 63/359\n",
      "DEBUG:scape.beam_baseline:Iteration 3: residual = 0.00, beam height = 4.676, width = 0.160 deg, inner region = 63/359\n",
      "DEBUG:scape.beam_baseline:Refinement: beam height = 4.528, width = 0.175 deg, first null = 0.288 deg, based on 3 of 6 scans\n",
      "WARNING:scape.dataset:No noise diode model found in data set - gain calibration not done\n",
      "INFO:root:==== Processing compound scan 2 of 1: 'm063 1449137265 1253-055 2015-12-03 10:19:08.636' ====\n",
      "WARNING:scape.dataset:No noise diode model found in data set - gain calibration not done\n",
      "WARNING:scape.dataset:No noise diode model found in data set - gain calibration not done\n",
      "DEBUG:scape.compoundscan:Fitting beam and initial baseline of degree (1, 3) to pol 'absHH' of target '1253-055':\n",
      "DEBUG:scape.beam_baseline:Iteration 0: residual = inf, beam height = 4.759, width = 0.145 deg, inner region = 71/360\n",
      "DEBUG:scape.beam_baseline:Iteration 1: residual = 2.06, beam height = 4.870, width = 0.162 deg, inner region = 71/360\n",
      "DEBUG:scape.beam_baseline:Iteration 2: residual = 0.00, beam height = 4.870, width = 0.162 deg, inner region = 71/360\n",
      "DEBUG:scape.beam_baseline:Refinement: beam height = 4.685, width = 0.179 deg, first null = 0.291 deg, based on 4 of 6 scans\n",
      "DEBUG:scape.compoundscan:Fitting beam and initial baseline of degree (1, 3) to pol 'absVV' of target '1253-055':\n",
      "DEBUG:scape.beam_baseline:Iteration 0: residual = inf, beam height = 3.417, width = 0.145 deg, inner region = 71/360\n",
      "DEBUG:scape.beam_baseline:Iteration 1: residual = 1.77, beam height = 3.503, width = 0.161 deg, inner region = 71/360\n",
      "DEBUG:scape.beam_baseline:Iteration 2: residual = 0.00, beam height = 3.503, width = 0.161 deg, inner region = 71/360\n",
      "DEBUG:scape.beam_baseline:Refinement: beam height = 3.412, width = 0.171 deg, first null = 0.288 deg, based on 4 of 6 scans\n",
      "DEBUG:scape.compoundscan:Fitting beam and initial baseline of degree (1, 3) to pol 'absI' of target '1253-055':\n",
      "DEBUG:scape.beam_baseline:Iteration 0: residual = inf, beam height = 8.175, width = 0.145 deg, inner region = 71/360\n",
      "DEBUG:scape.beam_baseline:Iteration 1: residual = 1.99, beam height = 8.372, width = 0.162 deg, inner region = 71/360\n",
      "DEBUG:scape.beam_baseline:Iteration 2: residual = 0.00, beam height = 8.372, width = 0.162 deg, inner region = 71/360\n",
      "DEBUG:scape.beam_baseline:Refinement: beam height = 8.155, width = 0.171 deg, first null = 0.291 deg, based on 4 of 6 scans\n",
      "WARNING:scape.dataset:No noise diode model found in data set - gain calibration not done\n"
     ]
    },
    {
     "name": "stdout",
     "output_type": "stream",
     "text": [
      "keep_all=None,main_compscan.beam.is_valid=True , keep=True \n",
      "keep_all=None,main_compscan.beam.is_valid=True , keep=True \n"
     ]
    },
    {
     "data": {
      "text/plain": [
       "(<katpoint.Antenna 'm063' diam=13.5m at 0x7f93e64273d0>,\n",
       " rec.array([ ('1449137265', '1226+023', '2015-12-03 10:12:14.811', 288.90468023027665, 25.247255791056556, -0.06276702068987561, 0.0, -0.33509607713818923, 0.0, 'counts', 4.527921430755519, 0.0, 0.17542159397060203, 0.0, 0.0574592716531418, 0.0, 3.0, 2.1605078320701883, 0.17945808573680266, 0.013450537492633781, 3.0, 2.394746789241752, 0.17340251000668627, 0.011471585268298097, 3.0, 12500.5, 20.283707356882182, 32.29623955431754, 894.5360724233983, 8.857144846796649, 4.841789693593314, -50.728279542061586, 17.60102183071851, 80.9573306471907, 1449137534.8112562),\n",
       "        ('1449137265', '1253-055', '2015-12-03 10:19:08.636', 284.75993019661615, 33.83046375714904, -0.04790255418299694, 0.0, -0.3399459070893158, 0.0, 'counts', 8.155201561823866, 0.0, 0.17113119892265805, 0.0, 0.034837741136067746, 0.0, 4.0, 4.68456972101948, 0.17927427954806976, 0.01073705747936358, 4.0, 3.411784641334678, 0.1710918313768181, 0.011296542675023872, 4.0, 12500.5, 23.016845832451462, 32.50098611111109, 894.4366666666664, 8.579486111111105, 5.945874999999998, -67.80642053779987, 7.452909469473861, 81.28048055720234, 1449137948.6361845)], \n",
       "       dtype=[('dataset', 'S10'), ('target', 'S8'), ('timestamp_ut', 'S23'), ('azimuth', '<f8'), ('elevation', '<f8'), ('delta_azimuth', '<f8'), ('delta_azimuth_std', '<f8'), ('delta_elevation', '<f8'), ('delta_elevation_std', '<f8'), ('data_unit', 'S6'), ('beam_height_I', '<f8'), ('beam_height_I_std', '<f8'), ('beam_width_I', '<f8'), ('beam_width_I_std', '<f8'), ('baseline_height_I', '<f8'), ('baseline_height_I_std', '<f8'), ('refined_I', '<f8'), ('beam_height_HH', '<f8'), ('beam_width_HH', '<f8'), ('baseline_height_HH', '<f8'), ('refined_HH', '<f8'), ('beam_height_VV', '<f8'), ('beam_width_VV', '<f8'), ('baseline_height_VV', '<f8'), ('refined_VV', '<f8'), ('frequency', '<f8'), ('flux', '<f8'), ('temperature', '<f8'), ('pressure', '<f8'), ('humidity', '<f8'), ('wind_speed', '<f8'), ('wind_direction', '<f8'), ('sun_az', '<f8'), ('sun_el', '<f8'), ('timestamp', '<f8')]))"
      ]
     },
     "execution_count": 6,
     "metadata": {},
     "output_type": "execute_result"
    }
   ],
   "source": [
    "analyse_point_source_scans(n,opts)"
   ]
  }
 ],
 "metadata": {
  "kernelspec": {
   "display_name": "Python 2",
   "language": "python",
   "name": "python2"
  },
  "language_info": {
   "codemirror_mode": {
    "name": "ipython",
    "version": 2
   },
   "file_extension": ".py",
   "mimetype": "text/x-python",
   "name": "python",
   "nbconvert_exporter": "python",
   "pygments_lexer": "ipython2",
   "version": "2.7.6"
  }
 },
 "nbformat": 4,
 "nbformat_minor": 0
}
