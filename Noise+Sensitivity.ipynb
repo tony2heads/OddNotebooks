{
 "cells": [
  {
   "cell_type": "code",
   "execution_count": 78,
   "metadata": {
    "collapsed": true
   },
   "outputs": [],
   "source": [
    "\"\"\"\n",
    "stuff you will find useful dealing with antennas\n",
    "\"\"\"\n",
    "import math\n",
    "# some constants\n",
    "c=2.998e8 # velocity of light in m/s\n",
    "k=1.38e-23 # Boltzmann constant in J/K\n",
    "Jy=1e-26 #W/m**2/Hz\n"
   ]
  },
  {
   "cell_type": "markdown",
   "metadata": {},
   "source": [
    "# Math\n",
    "\n",
    "$\\lambda = \\frac{c}{\\nu}$\n",
    "\n",
    "$A=\\pi \\frac{D^2}{4}$\n",
    "\n",
    "$\\theta = \\frac{\\lambda}{B}$"
   ]
  },
  {
   "cell_type": "markdown",
   "metadata": {},
   "source": [
    "# For a single dish\n",
    "\n",
    "$SEFD = \\frac{T_{sys}}{K}$\n",
    "where\n",
    "$K=\\frac{A \\eta_A}{2k}$\n",
    "\n",
    "for dish area A and efficiency $\\eta_A$\n",
    "\n",
    "##It is convenient to  convert SEFD to Jy\n",
    "\n",
    "# For an array of N of the same dishes\n",
    "USABLE observing bandwidth $\\Delta\\nu$\n",
    "\n",
    "integration time $\\tau$\n",
    "\n",
    "system efficiency $\\eta_s$\n",
    "\n",
    "$\\Delta I = \\frac{SEFD} { \\eta_s \\sqrt{N(N-1)~ \\tau ~\\Delta\\nu}}$\n",
    "\n"
   ]
  },
  {
   "cell_type": "code",
   "execution_count": 79,
   "metadata": {
    "collapsed": true
   },
   "outputs": [],
   "source": [
    "\"\"\"\n",
    "More general stuff you will need for MeerKAT\n",
    "\"\"\"\n",
    "\n",
    "D=13.5 # dish diameter D\n"
   ]
  },
  {
   "cell_type": "markdown",
   "metadata": {},
   "source": [
    "#Some estimates from Isak#\n",
    "\n",
    "<table> \n",
    "<tr> <th>Subsystem</th> <th>900MHz</th> <th>1600MHz</th> </tr>\n",
    "<tr> <td>Sky (zenith pointing) </td> <td> 6.6K</td> <td> 4.9K</td><tr> \n",
    "<tr> <td>Dish (transmission for a panelled dish)  </td> <td> 1.0K</td> <td> 1.0K</td><tr> \n",
    "<tr> <td>Receiver </td> <td> 7.2K</td> <td> 8.2K</td><tr> \n",
    "<tr> <td>Digitizer </td> <td> 0.5K</td> <td> 0.5K</td><tr> \n",
    "<tr> <td>TReceiver + TSky + TDigitiser </td> <td> 15.3K</td> <td> 14.6K</td><tr> \n",
    "\n",
    "</table>"
   ]
  },
  {
   "cell_type": "markdown",
   "metadata": {},
   "source": [
    "# Assumptions\n",
    "* All dishes have same Tsys (15K)\n",
    "* All dishes have same efficiency $\\eta_A$ = 0.75\n",
    "* System efficiency  $\\eta_s$ = 0.95 "
   ]
  },
  {
   "cell_type": "code",
   "execution_count": 83,
   "metadata": {
    "collapsed": false
   },
   "outputs": [
    {
     "name": "stdout",
     "output_type": "stream",
     "text": [
      "SEFD 385.64 Jy\n",
      "per dish A_e/Tsys 7.2\n"
     ]
    }
   ],
   "source": [
    "Tsys=15\n",
    "e_A=0.75\n",
    "A = math.pi*D*D/4\n",
    "K=A*e_A/(2*k)\n",
    "SEFD=Tsys/(K*Jy) # converted to Jy\n",
    "print \"SEFD %.2f Jy\" %(SEFD)\n",
    "\n",
    "print \"per dish A_e/Tsys %.1f\" %(A*e_A/Tsys)"
   ]
  },
  {
   "cell_type": "code",
   "execution_count": 84,
   "metadata": {
    "collapsed": false
   },
   "outputs": [
    {
     "name": "stdout",
     "output_type": "stream",
     "text": [
      "Noise 1.3e-06 JY\n",
      "A_e/Tsys 435\n"
     ]
    }
   ],
   "source": [
    "\"\"\"\n",
    "Array part\n",
    "\"\"\"\n",
    "N=64 # dishes\n",
    "e_s= 0.95\n",
    "BW=400e9 # bandwidth in Hz -Just the usable bit after flagging\n",
    "t=60 # time in seconds\n",
    "dI = SEFD /(e_s*math.sqrt(N*(N-1)*BW *t))\n",
    "print \"Noise %.2g JY\" % (dI)\n",
    "\n",
    "print \"A_e/Tsys %.0f\" %(e_s*N*A*e_A/Tsys)\n"
   ]
  },
  {
   "cell_type": "code",
   "execution_count": 85,
   "metadata": {
    "collapsed": false
   },
   "outputs": [
    {
     "name": "stdout",
     "output_type": "stream",
     "text": [
      "resolution 22 arcseconds\n",
      "sensitivity 2.8e-09 Jy/square arcsec\n"
     ]
    }
   ],
   "source": [
    "\"\"\"\"\n",
    "Resolution part-  depends on wavelength and baseline lengths.\n",
    "\n",
    "Note: various fudges here\n",
    "- bandwidth is high, so there is no one wavelength\n",
    "- real mapping involves choices of weighting function etc\n",
    "\"\"\"\n",
    "f =  1420e6 #Hz\n",
    "lam= c/f   #m\n",
    "Bmax= 4000 #m\n",
    "Bmin= 20 #m\n",
    "Btyp=Bmax/2  # wild approximation\n",
    "resolution  = lam/Btyp #radians\n",
    "#print lam, Btyp, resolution\n",
    "resol = 60*60*math.degrees(resolution)\n",
    "print \"resolution %.0f arcseconds\" %(resol)\n",
    "print \"sensitivity %.2g Jy/square arcsec\" %(dI/(resol*resol))"
   ]
  },
  {
   "cell_type": "markdown",
   "metadata": {},
   "source": [
    "# Rayleigh-Jeans law\n",
    "## valid for radio regime - not optical\n",
    "\n",
    "$B_{\\nu} = \\frac{2 k T \\nu^2}{c^2}$\n",
    "\n",
    "\n",
    "$T =  \\frac{ B_{\\nu} c^2}{2 k \\nu^2}$\n"
   ]
  },
  {
   "cell_type": "code",
   "execution_count": 88,
   "metadata": {
    "collapsed": false
   },
   "outputs": [
    {
     "name": "stdout",
     "output_type": "stream",
     "text": [
      "Sensitivity 0.0024 K\n"
     ]
    }
   ],
   "source": [
    "#Now to convert to brightness sensitivty for the resolution we have at that resolution\n",
    "# this is ABOVE the smooth background \n",
    "flx = dI * Jy # to W/m**2Hz\n",
    "sterad=math.pi*resolution**2/4.0\n",
    "B=flx/sterad\n",
    "\n",
    "T=B*c*c/(2*k*f*f)\n",
    "print \"Sensitivity %.2g K\" %(T)\n",
    "\n"
   ]
  },
  {
   "cell_type": "markdown",
   "metadata": {
    "collapsed": true
   },
   "source": [
    "# Formulae from papers:\n",
    "\n",
    "$T= 1.3\\times 10^6 (1+z) \\frac{B}{\\theta^2 \\nu^2}$\n",
    "where\n",
    "* $\\theta$ is angular size in arcsec\n",
    "* S is flux density\n",
    "* $\\nu$ is freq in GHz\n",
    "\n",
    "## various other authors \n",
    "give 1.22 to 1.8 for the inital constant\n"
   ]
  },
  {
   "cell_type": "code",
   "execution_count": null,
   "metadata": {
    "collapsed": true
   },
   "outputs": [],
   "source": []
  }
 ],
 "metadata": {
  "kernelspec": {
   "display_name": "Python 2",
   "language": "python",
   "name": "python2"
  },
  "language_info": {
   "codemirror_mode": {
    "name": "ipython",
    "version": 2
   },
   "file_extension": ".py",
   "mimetype": "text/x-python",
   "name": "python",
   "nbconvert_exporter": "python",
   "pygments_lexer": "ipython2",
   "version": "2.7.3"
  }
 },
 "nbformat": 4,
 "nbformat_minor": 0
}
