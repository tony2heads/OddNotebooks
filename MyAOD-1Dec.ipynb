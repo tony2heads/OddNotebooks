{
 "cells": [
  {
   "cell_type": "code",
   "execution_count": 1,
   "metadata": {
    "collapsed": true
   },
   "outputs": [],
   "source": [
    "#%matplotlib inline\n",
    "import numpy as np"
   ]
  },
  {
   "cell_type": "code",
   "execution_count": 2,
   "metadata": {
    "collapsed": true
   },
   "outputs": [],
   "source": [
    "#import matplotlib.pyplot as plt"
   ]
  },
  {
   "cell_type": "code",
   "execution_count": 3,
   "metadata": {
    "collapsed": true
   },
   "outputs": [],
   "source": [
    "import katarchive\n",
    "\n",
    "import datetime\n",
    "import string\n",
    "import logging\n",
    "logging.root.setLevel(logging.ERROR)\n"
   ]
  },
  {
   "cell_type": "code",
   "execution_count": 4,
   "metadata": {
    "collapsed": true
   },
   "outputs": [],
   "source": [
    "katarchive.product_filter.only_ar1()\n",
    "\n",
    "begin=\"01/12/2017\"\n",
    "end=\"04/12/2017\"  \n"
   ]
  },
  {
   "cell_type": "code",
   "execution_count": 5,
   "metadata": {},
   "outputs": [
    {
     "name": "stdout",
     "output_type": "stream",
     "text": [
      "2017_12_01\n"
     ]
    }
   ],
   "source": [
    "date=begin[-4:]+\"_\"+begin[3:5]+\"_\"+begin[:2]\n",
    "print date"
   ]
  },
  {
   "cell_type": "code",
   "execution_count": 6,
   "metadata": {
    "collapsed": true
   },
   "outputs": [],
   "source": [
    "Outfile=open('AOD_'+date+'.csv', 'w')"
   ]
  },
  {
   "cell_type": "code",
   "execution_count": 7,
   "metadata": {
    "collapsed": true
   },
   "outputs": [],
   "source": [
    "def channels(details):\n",
    "    ch32k=\"32768\"\n",
    "    mode=\"4k\" # default\n",
    "    if ch32k in details:\n",
    "        mode=\"32k\"\n",
    "    return mode\n"
   ]
  },
  {
   "cell_type": "code",
   "execution_count": 8,
   "metadata": {},
   "outputs": [
    {
     "name": "stdout",
     "output_type": "stream",
     "text": [
      "Searched using: CAS.ProductTypeName:(MeerKATAR1TelescopeProduct) AND CAS.ProductTransferStatus:RECEIVED AND StartTime:[2017-11-30T22:00:00Z TO 2017-12-04T21:59:59Z]\n",
      "Returning 50 results\n",
      "[['1512366452.h5', '2017-12-04 07:47:50 SAST', 'Sarah', 2578528963], ['1512365418.h5', '2017-12-04 07:31:42 SAST', 'Sarah', 2578938809], ['1512365015.h5', '2017-12-04 07:23:34 SAST', 'Lindsay', 656172050], ['1512364008.h5', '2017-12-04 07:07:35 SAST', 'Sarah', 2589897831], ['1512363018.h5', '2017-12-04 06:51:03 SAST', 'Sarah', 2578299443], ['1512362619.h5', '2017-12-04 06:43:35 SAST', 'Lindsay', 656038283], ['1512361633.h5', '2017-12-04 06:27:36 SAST', 'Sarah', 2600867993], ['1512360629.h5', '2017-12-04 06:11:20 SAST', 'Sarah', 2600641765], ['1512360025.h5', '2017-12-04 06:00:24 SAST', 'Lindsay', 684498289], ['1512320427.h5', '2017-12-03 19:00:26 SAST', 'LADUMA', 780332109372], ['1512318018.h5', '2017-12-03 18:20:51 SAST', 'Sarah', 1726313750], ['1512317650.h5', '2017-12-03 18:14:11 SAST', 'Lindsay', 633417462], ['1512315617.h5', '2017-12-03 17:43:16 SAST', 'Sarah', 5090422083], ['1512315160.h5', '2017-12-03 17:32:36 SAST', 'Lindsay', 756796185], ['1512313218.h5', '2017-12-03 17:01:41 SAST', 'Sarah', 5112175757], ['1512312825.h5', '2017-12-03 16:53:41 SAST', 'Lindsay', 723059145], ['1512310818.h5', '2017-12-03 16:22:46 SAST', 'Sarah', 5112304784], ['1512310225.h5', '2017-12-03 16:10:22 SAST', 'Lindsay', 655833078], ['1512309317.h5', '2017-12-03 15:56:14 SAST', 'Sarah', 1726662948], ['1512308418.h5', '2017-12-03 15:41:03 SAST', 'Sarah', 1726309873], ['1512307935.h5', '2017-12-03 15:32:15 SAST', 'Lindsay', 700757040], ['1512306629.h5', '2017-12-03 15:11:19 SAST', 'Sarah', 3430399013], ['1512306290.h5', '2017-12-03 15:04:48 SAST', 'Lindsay', 576442059], ['1512305939.h5', '2017-12-03 14:58:56 SAST', 'Lindsay', 888484480], ['1512290630.h5', '2017-12-03 10:43:50 SAST', 'Lindsay', 19310297391], ['1512252338.h5', '2017-12-03 00:07:40 SAST', 'Maciej Serylak', 40226362485], ['1512252026.h5', '2017-12-03 00:00:26 SAST', 'Lindsay', 2250095101], ['1512251724.h5', '2017-12-02 23:55:26 SAST', 'Lindsay', 2669078616], ['1512228627.h5', '2017-12-02 17:30:24 SAST', 'Tony', 61217236675], ['1512226819.h5', '2017-12-02 17:00:57 SAST', 'Sarah', 3430405886], ['1512226445.h5', '2017-12-02 16:54:01 SAST', 'Lindsay', 655829924], ['1512224418.h5', '2017-12-02 16:23:06 SAST', 'Sarah', 5112107013], ['1512224015.h5', '2017-12-02 16:13:30 SAST', 'Lindsay', 734332691], ['1512222018.h5', '2017-12-02 15:42:35 SAST', 'Sarah', 5105975964], ['1512221575.h5', '2017-12-02 15:32:51 SAST', 'Lindsay', 706224635], ['1512220268.h5', '2017-12-02 15:11:56 SAST', 'Sarah', 3430484072], ['1512220010.h5', '2017-12-02 15:06:44 SAST', 'Lindsay', 633805356], ['1512217827.h5', '2017-12-02 14:30:21 SAST', 'Lindsay', 559721432], ['1512217226.h5', '2017-12-02 14:20:21 SAST', 'Lindsay', 710712101], ['1512179126.h5', '2017-12-02 03:45:25 SAST', 'SMakhathini', 415509597843], ['1512178226.h5', '2017-12-02 03:30:29 SAST', 'Lindsay', 2557398651], ['1512151498.h5', '2017-12-01 20:04:58 SAST', 'Tony', 284794388263], ['1512146522.h5', '2017-12-01 18:42:05 SAST', 'Mattieu', 1017715618], ['1512138821.h5', '2017-12-01 16:33:46 SAST', 'Lindsay', 1225862784], ['1512111161.h5', '2017-12-01 08:52:40 SAST', 'Observer', 45564422], ['1512110777.h5', '2017-12-01 08:46:16 SAST', 'Observer', 46968788], ['1512110115.h5', '2017-12-01 08:35:12 SAST', 'Observer', 50421631], ['1512109518.h5', '2017-12-01 08:25:12 SAST', 'Observer', 41289989], ['1512099045.h5', '2017-12-01 05:30:59 SAST', 'Mattieu', 1575580989], ['1512095242.h5', '2017-12-01 04:27:36 SAST', 'Mattieu', 984799371]]\n"
     ]
    }
   ],
   "source": [
    "f=katarchive.search_archive(startdate=begin,enddate=end)\n",
    "print f"
   ]
  },
  {
   "cell_type": "code",
   "execution_count": 9,
   "metadata": {
    "collapsed": true
   },
   "outputs": [],
   "source": [
    "f.sort(key=lambda k: k.metadata.StartTime)"
   ]
  },
  {
   "cell_type": "code",
   "execution_count": 10,
   "metadata": {
    "scrolled": false
   },
   "outputs": [
    {
     "name": "stdout",
     "output_type": "stream",
     "text": [
      "QA,Mattieu,2017-12-01 02:27:36.405 UTC,20171201-0001,MKAIV-916: L-band holography array performance,4k,16, 0.917,/var/kat/archive3/data/MeerKATAR1/telescope_products/2017/12/01/1512095242.h5\n",
      "QA,Mattieu,2017-12-01 03:30:59.085 UTC,20171201-0002,MKAIV-916: L-band holography array performance,4k,16, 1.467,/var/kat/archive3/data/MeerKATAR1/telescope_products/2017/12/01/1512099045.h5\n",
      "QA,Observer,2017-12-01 06:25:12.730 UTC,20171201-0003,Observation script no-delay track without beams,4k,03, 0.038,/var/kat/archive3/data/MeerKATAR1/telescope_products/2017/12/01/1512109518.h5\n",
      "QA,Observer,2017-12-01 06:35:12.555 UTC,20171201-0005,Observation script no-delay track without beams,4k,03, 0.047,/var/kat/archive3/data/MeerKATAR1/telescope_products/2017/12/01/1512110115.h5\n",
      "QA,Observer,2017-12-01 06:46:16.319 UTC,20171201-0006,Observation script no-delay track without beams,4k,03, 0.044,/var/kat/archive3/data/MeerKATAR1/telescope_products/2017/12/01/1512110777.h5\n",
      "QA,Observer,2017-12-01 06:52:40.157 UTC,20171201-0004,Observation script  with delay track without beams,4k,03, 0.042,/var/kat/archive3/data/MeerKATAR1/telescope_products/2017/12/01/1512111161.h5\n",
      "QA,Lindsay,2017-12-01 14:33:46.216 UTC,20171201-0026,MKAIV-308 Basic health,4k,16, 1.142,/var/kat/archive3/data/MeerKATAR1/telescope_products/2017/12/01/1512138821.h5\n",
      "QA,Mattieu,2017-12-01 16:42:05.788 UTC,20171201-0042,MKAIV-916: L-band holography array performance,4k,16, 0.948,/var/kat/archive3/data/MeerKATAR1/telescope_products/2017/12/01/1512146522.h5\n",
      "QA,Tony,2017-12-01 18:04:58.951 UTC,20171201-0043,MKAIV-111 AR1 pointing,4k,16,265.235,/var/kat/archive3/data/MeerKATAR1/telescope_products/2017/12/01/1512151498.h5\n",
      "QA,Lindsay,2017-12-02 01:30:29.642 UTC,20171201-0044,MKAIV-584 Generic AR1 delaycal,4k,16, 2.382,/var/kat/archive3/data/MeerKATAR1/telescope_products/2017/12/02/1512178226.h5\n",
      "QA,SMakhathini,2017-12-02 01:45:25.263 UTC,20171201-0045,20170824FC-01 NGC4993 16 antenna long baselines (Imaging),4k,16,386.973,/var/kat/archive3/data/MeerKATAR1/telescope_products/2017/12/02/1512179126.h5\n",
      "QA,Lindsay,2017-12-02 12:20:21.545 UTC,20171201-0048,MKAIV-584 Generic AR1 delaycal,4k,16, 0.662,/var/kat/archive3/data/MeerKATAR1/telescope_products/2017/12/02/1512217226.h5\n",
      "QA,Lindsay,2017-12-02 12:30:21.291 UTC,20171201-0029,MKAIV-405 Generic AR1 Phaseup,4k,16, 0.521,/var/kat/archive3/data/MeerKATAR1/telescope_products/2017/12/02/1512217827.h5\n",
      "QA,Lindsay,2017-12-02 13:06:44.182 UTC,20171201-0032,MKAIV-405 Generic AR1 Phaseup,4k,16, 0.590,/var/kat/archive3/data/MeerKATAR1/telescope_products/2017/12/02/1512220010.h5\n",
      "QA,Sarah,2017-12-02 13:11:56.051 UTC,20171201-0030,MKAIV-387: CBF J1302-6350,4k,16, 3.195,/var/kat/archive3/data/MeerKATAR1/telescope_products/2017/12/02/1512220268.h5\n",
      "QA,Lindsay,2017-12-02 13:32:51.519 UTC,20171201-0035,MKAIV-405 Generic AR1 Phaseup,4k,16, 0.658,/var/kat/archive3/data/MeerKATAR1/telescope_products/2017/12/02/1512221575.h5\n",
      "QA,Sarah,2017-12-02 13:42:35.272 UTC,20171201-0036,MKAIV-387: CBF J1744-1134,4k,16, 4.755,/var/kat/archive3/data/MeerKATAR1/telescope_products/2017/12/02/1512222018.h5\n",
      "QA,Lindsay,2017-12-02 14:13:30.488 UTC,20171201-0037,MKAIV-405 Generic AR1 Phaseup,4k,16, 0.684,/var/kat/archive3/data/MeerKATAR1/telescope_products/2017/12/02/1512224015.h5\n",
      "QA,Sarah,2017-12-02 14:23:06.244 UTC,20171201-0038,MKAIV-387: CBF J2241-5236,4k,16, 4.761,/var/kat/archive3/data/MeerKATAR1/telescope_products/2017/12/02/1512224418.h5\n",
      "QA,Lindsay,2017-12-02 14:54:01.459 UTC,20171201-0039,MKAIV-405 Generic AR1 Phaseup,4k,16, 0.611,/var/kat/archive3/data/MeerKATAR1/telescope_products/2017/12/02/1512226445.h5\n",
      "QA,Sarah,2017-12-02 15:00:57.283 UTC,20171201-0040,MKAIV-387: CBF J1909-3744,4k,16, 3.195,/var/kat/archive3/data/MeerKATAR1/telescope_products/2017/12/02/1512226819.h5\n",
      "QA,Tony,2017-12-02 15:30:24.536 UTC,20171201-0047,COMM-166 Calibrator Imaging observation,4k,16,57.013,/var/kat/archive3/data/MeerKATAR1/telescope_products/2017/12/02/1512228627.h5\n",
      "QA,Lindsay,2017-12-02 21:55:26.828 UTC,20171201-0052,MKAIV-584 Generic AR1 delaycal,4k,16, 2.486,/var/kat/archive3/data/MeerKATAR1/telescope_products/2017/12/02/1512251724.h5\n",
      "QA,Lindsay,2017-12-02 22:00:26.701 UTC,20171201-0050,MKAIV-405 Generic AR1 Phaseup,4k,16, 2.096,/var/kat/archive3/data/MeerKATAR1/telescope_products/2017/12/02/1512252026.h5\n",
      "QA,Maciej Serylak,2017-12-02 22:07:40.518 UTC,20171201-0051,COMM-173 Drift-scan (4K) Tau A,4k,16,37.464,/var/kat/archive3/data/MeerKATAR1/telescope_products/2017/12/02/1512252338.h5\n",
      "QA,Lindsay,2017-12-03 08:43:50.784 UTC,20171203-0001,MKAIV-232 Baseline Calibration (Delay model calculation),4k,16,17.984,/var/kat/archive3/data/MeerKATAR1/telescope_products/2017/12/03/1512290630.h5\n",
      "QA,Lindsay,2017-12-03 12:58:56.309 UTC,20171203-0002,MKAIV-584 Generic AR1 delaycal,4k,16, 0.827,/var/kat/archive3/data/MeerKATAR1/telescope_products/2017/12/03/1512305939.h5\n",
      "QA,Lindsay,2017-12-03 13:04:48.160 UTC,20171201-0053,MKAIV-405 Generic AR1 Phaseup,4k,16, 0.537,/var/kat/archive3/data/MeerKATAR1/telescope_products/2017/12/03/1512306290.h5\n",
      "QA,Sarah,2017-12-03 13:11:19.994 UTC,20171203-0009,MKAIV-387: CBF J1302-6350,4k,16, 3.195,/var/kat/archive3/data/MeerKATAR1/telescope_products/2017/12/03/1512306629.h5\n",
      "QA,Lindsay,2017-12-03 13:32:15.463 UTC,20171203-0008,MKAIV-405 Generic AR1 Phaseup,4k,16, 0.653,/var/kat/archive3/data/MeerKATAR1/telescope_products/2017/12/03/1512307935.h5\n",
      "QA,Sarah,2017-12-03 13:41:03.240 UTC,20171201-0054,MKAIV-387: CBF J1909-3744,4k,16, 1.608,/var/kat/archive3/data/MeerKATAR1/telescope_products/2017/12/03/1512308418.h5\n",
      "QA,Sarah,2017-12-03 13:56:14.854 UTC,20171201-0055,MKAIV-387: CBF J1559-4438,4k,16, 1.608,/var/kat/archive3/data/MeerKATAR1/telescope_products/2017/12/03/1512309317.h5\n",
      "QA,Lindsay,2017-12-03 14:10:22.496 UTC,20171201-0059,MKAIV-405 Generic AR1 Phaseup,4k,16, 0.611,/var/kat/archive3/data/MeerKATAR1/telescope_products/2017/12/03/1512310225.h5\n",
      "QA,Sarah,2017-12-03 14:22:46.181 UTC,20171201-0060,MKAIV-387: CBF J1744-1134,4k,16, 4.761,/var/kat/archive3/data/MeerKATAR1/telescope_products/2017/12/03/1512310818.h5\n",
      "QA,Lindsay,2017-12-03 14:53:41.396 UTC,20171201-0061,MKAIV-405 Generic AR1 Phaseup,4k,16, 0.673,/var/kat/archive3/data/MeerKATAR1/telescope_products/2017/12/03/1512312825.h5\n",
      "QA,Sarah,2017-12-03 15:01:41.193 UTC,20171201-0062,MKAIV-387: CBF J1939 2134,4k,16, 4.761,/var/kat/archive3/data/MeerKATAR1/telescope_products/2017/12/03/1512313218.h5\n",
      "QA,Lindsay,2017-12-03 15:32:36.408 UTC,20171201-0063,MKAIV-405 Generic AR1 Phaseup,4k,16, 0.705,/var/kat/archive3/data/MeerKATAR1/telescope_products/2017/12/03/1512315160.h5\n",
      "QA,Sarah,2017-12-03 15:43:16.138 UTC,20171201-0064,MKAIV-387: CBF J2241-5236,4k,16, 4.741,/var/kat/archive3/data/MeerKATAR1/telescope_products/2017/12/03/1512315617.h5\n",
      "QA,Lindsay,2017-12-03 16:14:11.353 UTC,20171201-0065,MKAIV-405 Generic AR1 Phaseup,4k,16, 0.590,/var/kat/archive3/data/MeerKATAR1/telescope_products/2017/12/03/1512317650.h5\n",
      "QA,Sarah,2017-12-03 16:20:51.184 UTC,20171201-0066,MKAIV-387: CBF J2129-5721,4k,16, 1.608,/var/kat/archive3/data/MeerKATAR1/telescope_products/2017/12/03/1512318018.h5\n",
      "QA,LADUMA,2017-12-03 17:00:26.008 UTC,20171203-0004,COMM-224 LADUMA,32k,16,726.741,/var/kat/archive3/data/MeerKATAR1/telescope_products/2017/12/03/1512320427.h5\n",
      "QA,Lindsay,2017-12-04 04:00:24.987 UTC,20171201-0067,MKAIV-405 Generic AR1 Phaseup,4k,16, 0.637,/var/kat/archive3/data/MeerKATAR1/telescope_products/2017/12/04/1512360025.h5\n",
      "QA,Sarah,2017-12-04 04:11:20.710 UTC,20171201-0068,MKAIV-387: CBF J0835-4510,4k,16, 2.422,/var/kat/archive3/data/MeerKATAR1/telescope_products/2017/12/04/1512360629.h5\n",
      "QA,Sarah,2017-12-04 04:27:36.297 UTC,20171201-0069,MKAIV-387: CBF J0738-4042,4k,16, 2.422,/var/kat/archive3/data/MeerKATAR1/telescope_products/2017/12/04/1512361633.h5\n",
      "QA,Lindsay,2017-12-04 04:43:35.891 UTC,20171201-0070,MKAIV-405 Generic AR1 Phaseup,4k,16, 0.611,/var/kat/archive3/data/MeerKATAR1/telescope_products/2017/12/04/1512362619.h5\n",
      "QA,Sarah,2017-12-04 04:51:03.702 UTC,20171201-0071,MKAIV-387: CBF J0742-2822,4k,16, 2.401,/var/kat/archive3/data/MeerKATAR1/telescope_products/2017/12/04/1512363018.h5\n",
      "QA,Sarah,2017-12-04 05:07:35.282 UTC,20171201-0072,MKAIV-387: CBF J0953 0755,4k,16, 2.412,/var/kat/archive3/data/MeerKATAR1/telescope_products/2017/12/04/1512364008.h5\n",
      "QA,Lindsay,2017-12-04 05:23:34.876 UTC,20171201-0073,MKAIV-405 Generic AR1 Phaseup,4k,16, 0.611,/var/kat/archive3/data/MeerKATAR1/telescope_products/2017/12/04/1512365015.h5\n",
      "QA,Sarah,2017-12-04 05:31:42.670 UTC,20171201-0074,MKAIV-387: CBF J1302-6350,4k,16, 2.402,/var/kat/archive3/data/MeerKATAR1/telescope_products/2017/12/04/1512365418.h5\n",
      "QA,Sarah,2017-12-04 05:47:50.261 UTC,20171201-0075,MKAIV-387: CBF J1327-6222,4k,16, 2.401,/var/kat/archive3/data/MeerKATAR1/telescope_products/2017/12/04/1512366452.h5\n"
     ]
    }
   ],
   "source": [
    "for fi in f:\n",
    "    txts=fi.metadata.InstructionSet\n",
    "    arch=fi.metadata.FileLocation+\"/\"+fi.metadata.Filename\n",
    "    tgt=fi.metadata.Targets[-1].replace(' ','')\n",
    "    name=fi.metadata.Observer\n",
    "    UT=fi.metadata.Details.splitlines()[5][14:41]\n",
    "    block=fi.metadata.ExperimentID\n",
    "    desc=string.replace(fi.metadata.Description,\",\",\";\")\n",
    "    chan=channels(fi.metadata.Details)\n",
    "    nants=len(fi.metadata.Antennas) # Number of ants\n",
    "    size=(fi.metadata.FileSize)/(1024.0*1024*1024) #Number of Gigabyte\n",
    "    if tgt=='None':\n",
    "        tgt='XXXXXX NONE XXXXXX'\n",
    "    \"\"\"\n",
    "    #listing=(\"%s %s3s, %s %s\") %(fi.metadata.FileLocation,fi.metadata.Filename,\\\n",
    "    channels(fi.metadata.Details),antstr,tgt)\n",
    "    \"\"\"\n",
    "    listing=(\"QA,%s,%s,%s,%s,%s,%02d,%6.3f,%s\")%(name,UT,block,desc,chan,nants,size,arch) \n",
    "    print listing\n",
    "    Outfile.write(listing+\"\\n\")"
   ]
  },
  {
   "cell_type": "code",
   "execution_count": 11,
   "metadata": {
    "collapsed": true
   },
   "outputs": [],
   "source": [
    "Outfile.close()"
   ]
  },
  {
   "cell_type": "code",
   "execution_count": 12,
   "metadata": {},
   "outputs": [
    {
     "data": {
      "text/plain": [
       "'2017-12-04 05:47:50.261 UTC'"
      ]
     },
     "execution_count": 12,
     "metadata": {},
     "output_type": "execute_result"
    }
   ],
   "source": [
    "fi.metadata.Details.splitlines()[5][14:41]"
   ]
  }
 ],
 "metadata": {
  "kernelspec": {
   "display_name": "Python 2",
   "language": "python",
   "name": "python2"
  },
  "language_info": {
   "codemirror_mode": {
    "name": "ipython",
    "version": 2
   },
   "file_extension": ".py",
   "mimetype": "text/x-python",
   "name": "python",
   "nbconvert_exporter": "python",
   "pygments_lexer": "ipython2",
   "version": "2.7.6"
  }
 },
 "nbformat": 4,
 "nbformat_minor": 1
}
