{
 "cells": [
  {
   "cell_type": "code",
   "execution_count": 34,
   "metadata": {},
   "outputs": [],
   "source": [
    "#%matplotlib inline\n",
    "import numpy as np"
   ]
  },
  {
   "cell_type": "code",
   "execution_count": 35,
   "metadata": {
    "collapsed": true
   },
   "outputs": [],
   "source": [
    "#import matplotlib.pyplot as plt"
   ]
  },
  {
   "cell_type": "code",
   "execution_count": 36,
   "metadata": {},
   "outputs": [],
   "source": [
    "import katarchive\n",
    "\n",
    "import datetime\n",
    "import string\n",
    "import logging\n",
    "logging.root.setLevel(logging.ERROR)\n"
   ]
  },
  {
   "cell_type": "code",
   "execution_count": 37,
   "metadata": {},
   "outputs": [],
   "source": [
    "katarchive.product_filter.only_ar1()\n",
    "\n",
    "begin=\"17/05/2017\"\n",
    "end=\"24/05/2017\"  "
   ]
  },
  {
   "cell_type": "code",
   "execution_count": 38,
   "metadata": {},
   "outputs": [],
   "source": [
    "Outfile=open('AOD'+'_begin_'+'.csv', 'w')"
   ]
  },
  {
   "cell_type": "code",
   "execution_count": 39,
   "metadata": {},
   "outputs": [],
   "source": [
    "def channels(details):\n",
    "    ch32k=\"32768\"\n",
    "    mode=\"4k\" # default\n",
    "    if ch32k in details:\n",
    "        mode=\"32k\"\n",
    "    return mode\n"
   ]
  },
  {
   "cell_type": "code",
   "execution_count": 40,
   "metadata": {},
   "outputs": [
    {
     "name": "stdout",
     "output_type": "stream",
     "text": [
      "Searched using: CAS.ProductTypeName:(MeerKATAR1TelescopeProduct) AND CAS.ProductTransferStatus:RECEIVED AND StartTime:[2017-05-16T22:00:00Z TO 2017-05-24T21:59:59Z]\n",
      "Returning 61 results\n",
      "[['1495097122.h5', '2017-05-18 10:45:32 SAST', '', 1805333], ['1495095907.h5', '2017-05-18 10:25:43 SAST', 'ruby', 3247610], ['1495094583.h5', '2017-05-18 10:03:24 SAST', 'ruby', 9111577], ['1495094241.h5', '2017-05-18 09:57:22 SAST', 'ruby', 8202440], ['1495093843.h5', '2017-05-18 09:51:03 SAST', 'ruby', 8573623], ['1495093383.h5', '2017-05-18 09:43:05 SAST', 'ruby', 8673877], ['1495089810.h5', '2017-05-18 08:43:34 SAST', 'Buntu', 589839392], ['1495087372.h5', '2017-05-18 08:02:53 SAST', 'Tony', 5566416323], ['1495087265.h5', '2017-05-18 08:01:08 SAST', 'Buntu', 157935432], ['1495087133.h5', '2017-05-18 07:58:58 SAST', 'Buntu', 157398629], ['1495086822.h5', '2017-05-18 07:53:45 SAST', 'Buntu', 290999809], ['1495086626.h5', '2017-05-18 07:50:29 SAST', 'Buntu', 290311812], ['1495086455.h5', '2017-05-18 07:47:38 SAST', 'Lindsay', 379116501], ['1495086087.h5', '2017-05-18 07:41:28 SAST', 'Tony', 683601667], ['1495085801.h5', '2017-05-18 07:36:45 SAST', 'Lindsay', 384375906], ['1495084282.h5', '2017-05-18 07:11:23 SAST', 'Buntu', 3682965787], ['1495083877.h5', '2017-05-18 07:04:39 SAST', 'Lindsay', 716845217], ['1495071923.h5', '2017-05-18 03:46:02 SAST', '', 2065752222], ['1495071023.h5', '2017-05-18 03:30:25 SAST', '', 1159411965], ['1495069228.h5', '2017-05-18 03:01:16 SAST', '', 2036712560], ['1495068323.h5', '2017-05-18 02:45:25 SAST', '', 1025558998], ['1495067427.h5', '2017-05-18 02:31:17 SAST', '', 2023657570], ['1495065742.h5', '2017-05-18 02:02:26 SAST', '', 1115655142], ['1495064424.h5', '2017-05-18 01:41:00 SAST', '', 3664843521], ['1495063825.h5', '2017-05-18 01:30:29 SAST', '', 1251435778], ['1495063227.h5', '2017-05-18 01:21:11 SAST', '', 1089251421], ['1495062625.h5', '2017-05-18 01:10:30 SAST', '', 1206256729], ['1495060825.h5', '2017-05-18 00:41:08 SAST', '', 3568454919], ['1495060224.h5', '2017-05-18 00:30:27 SAST', '', 1155023292], ['1495059624.h5', '2017-05-18 00:21:07 SAST', '', 1015186813], ['1495059026.h5', '2017-05-18 00:10:29 SAST', '', 1109881076], ['1495057224.h5', '2017-05-17 23:41:10 SAST', '', 3472089160], ['1495056623.h5', '2017-05-17 23:30:27 SAST', '', 1058639700], ['1495056038.h5', '2017-05-17 23:21:21 SAST', '', 896458635], ['1495055408.h5', '2017-05-17 23:10:09 SAST', 'Maciej Serylak', 946377874], ['1495054809.h5', '2017-05-17 23:00:14 SAST', 'Lindsay', 180462808], ['1495051630.h5', '2017-05-17 22:07:15 SAST', 'Lindsay', 2671152244], ['1495036948.h5', '2017-05-17 18:02:29 SAST', 'Tony', 40878054016], ['1495036075.h5', '2017-05-17 17:47:58 SAST', 'Lindsay', 362016813], ['1495034023.h5', '2017-05-17 17:13:56 SAST', 'Lindsay', 3905586446], ['1495026070.h5', '2017-05-17 15:01:38 SAST', 'ruby', 3770158], ['1495022951.h5', '2017-05-17 14:12:07 SAST', 'ruby', 1582888], ['1495016874.h5', '2017-05-17 12:27:55 SAST', 'lance', 127027619], ['1495014714.h5', '2017-05-17 11:51:56 SAST', 'lance', 124984954], ['1495006560.h5', '2017-05-17 09:39:21 SAST', 'ruby', 5275170], ['1495006204.h5', '2017-05-17 09:30:40 SAST', 'ruby', 6440462], ['1495005190.h5', '2017-05-17 09:13:32 SAST', 'CAM', 10890602], ['1495004693.h5', '2017-05-17 09:05:29 SAST', 'ruby', 10559667], ['1495003734.h5', '2017-05-17 08:49:13 SAST', 'ruby', 3922929], ['1495003067.h5', '2017-05-17 08:38:33 SAST', 'ruby', 3736640], ['1495001957.h5', '2017-05-17 08:19:18 SAST', 'Tony', 15717107133], ['1495001633.h5', '2017-05-17 08:13:54 SAST', 'Lindsay', 867678641], ['1495000206.h5', '2017-05-17 07:50:08 SAST', 'Lindsay', 3936523790], ['1494978010.h5', '2017-05-17 01:41:04 SAST', 'Maciej Serylak', 3702592328], ['1494977408.h5', '2017-05-17 01:30:19 SAST', 'Maciej Serylak', 1311368795], ['1494976811.h5', '2017-05-17 01:21:08 SAST', 'Maciej Serylak', 1148834640], ['1494976207.h5', '2017-05-17 01:10:17 SAST', 'Maciej Serylak', 1265791694], ['1494974412.h5', '2017-05-17 00:41:09 SAST', 'Maciej Serylak', 3627736713], ['1494973812.h5', '2017-05-17 00:30:22 SAST', 'Maciej Serylak', 1236478472], ['1494973213.h5', '2017-05-17 00:21:13 SAST', 'Maciej Serylak', 1051799609], ['1494972610.h5', '2017-05-17 00:10:21 SAST', 'Maciej Serylak', 1168777790]]\n"
     ]
    }
   ],
   "source": [
    "f=katarchive.search_archive(startdate=begin,enddate=end)\n",
    "print f"
   ]
  },
  {
   "cell_type": "code",
   "execution_count": 41,
   "metadata": {
    "collapsed": true
   },
   "outputs": [],
   "source": [
    "f.sort(key=lambda k: k.metadata.StartTime)"
   ]
  },
  {
   "cell_type": "code",
   "execution_count": 42,
   "metadata": {},
   "outputs": [
    {
     "name": "stdout",
     "output_type": "stream",
     "text": [
      "QA,Maciej Serylak,2017-05-16 22:10:21.045 UTC,20170516-0030,MKAIV 215: Phase-up (4K) PKS 1934-63,4k,16, 1.089,/var/kat/archive2/data/MeerKATAR1/telescope_products/2017/05/16/1494972610.h5\n",
      "QA,Maciej Serylak,2017-05-16 22:21:13.769 UTC,20170516-0031,COMM-AR1 CBF J1644-4559,4k,16, 0.980,/var/kat/archive2/data/MeerKATAR1/telescope_products/2017/05/16/1494973213.h5\n",
      "QA,Maciej Serylak,2017-05-16 22:30:22.537 UTC,20170516-0032,MKAIV 215: Phase-up (4K) PKS 1934-63,4k,16, 1.152,/var/kat/archive2/data/MeerKATAR1/telescope_products/2017/05/16/1494973812.h5\n",
      "QA,Maciej Serylak,2017-05-16 22:41:09.263 UTC,20170516-0033,COMM-AR1 CBF J1622-4950,4k,16, 3.379,/var/kat/archive2/data/MeerKATAR1/telescope_products/2017/05/16/1494974412.h5\n",
      "QA,Maciej Serylak,2017-05-16 23:10:17.524 UTC,20170516-0034,MKAIV 215: Phase-up (4K) PKS 1934-63,4k,16, 1.179,/var/kat/archive2/data/MeerKATAR1/telescope_products/2017/05/16/1494976207.h5\n",
      "QA,Maciej Serylak,2017-05-16 23:21:08.748 UTC,20170516-0035,COMM-AR1 CBF J1644-4559,4k,16, 1.070,/var/kat/archive2/data/MeerKATAR1/telescope_products/2017/05/16/1494976811.h5\n",
      "QA,Maciej Serylak,2017-05-16 23:30:19.015 UTC,20170516-0036,MKAIV 215: Phase-up (4K) PKS 1934-63,4k,16, 1.221,/var/kat/archive2/data/MeerKATAR1/telescope_products/2017/05/16/1494977408.h5\n",
      "QA,Maciej Serylak,2017-05-16 23:41:04.742 UTC,20170516-0037,COMM-AR1 CBF J1622-4950,4k,16, 3.448,/var/kat/archive2/data/MeerKATAR1/telescope_products/2017/05/16/1494978010.h5\n",
      "QA,Lindsay,2017-05-17 05:50:08.916 UTC,20170517-0003,MKAIV-308 Basic health,4k,16, 3.666,/var/kat/archive2/data/MeerKATAR1/telescope_products/2017/05/17/1495000206.h5\n",
      "QA,Lindsay,2017-05-17 06:13:54.313 UTC,20170517-0005,MKAIV-405 Generic AR1 Phaseup,4k,16, 0.808,/var/kat/archive2/data/MeerKATAR1/telescope_products/2017/05/17/1495001633.h5\n",
      "QA,Tony,2017-05-17 06:19:18.176 UTC,20170517-0006,MKAIV-386A AR1 Bandpass Calibrators LST 00-06,4k,16,14.638,/var/kat/archive2/data/MeerKATAR1/telescope_products/2017/05/17/1495001957.h5\n",
      "QA,ruby,2017-05-17 06:38:33.638 UTC,20170517-0007,'Power detected search mode single pol',4k,01, 0.003,/var/kat/archive2/data/MeerKATAR1/telescope_products/2017/05/17/1495003067.h5\n",
      "QA,ruby,2017-05-17 06:49:13.584 UTC,20170517-0008,Semi-stokes search mode four pol,4k,01, 0.004,/var/kat/archive2/data/MeerKATAR1/telescope_products/2017/05/17/1495003734.h5\n",
      "QA,ruby,2017-05-17 07:05:29.656 UTC,20170517-0009,AR1: beamformer Dev driftscan (halfband),4k,01, 0.010,/var/kat/archive2/data/MeerKATAR1/telescope_products/2017/05/17/1495004693.h5\n",
      "QA,CAM,2017-05-17 07:13:32.952 UTC,20170517-0010,AR1: beamformer Dev driftscan (halfband),4k,01, 0.010,/var/kat/archive2/data/MeerKATAR1/telescope_products/2017/05/17/1495005190.h5\n",
      "QA,ruby,2017-05-17 07:30:40.517 UTC,20170517-0011,COMM-173: Beamformer,4k,01, 0.006,/var/kat/archive2/data/MeerKATAR1/telescope_products/2017/05/17/1495006204.h5\n",
      "QA,ruby,2017-05-17 07:39:21.797 UTC,20170517-0012,COMM-173: Beamformer,4k,01, 0.005,/var/kat/archive2/data/MeerKATAR1/telescope_products/2017/05/17/1495006560.h5\n",
      "QA,lance,2017-05-17 09:51:56.371 UTC,20170517-0013,Spiral Holography test correction on,4k,02, 0.116,/var/kat/archive2/data/MeerKATAR1/telescope_products/2017/05/17/1495014714.h5\n",
      "QA,lance,2017-05-17 10:27:55.458 UTC,20170517-0014,Spiral Holography test correction on,4k,02, 0.118,/var/kat/archive2/data/MeerKATAR1/telescope_products/2017/05/17/1495016874.h5\n",
      "QA,ruby,2017-05-17 12:12:07.923 UTC,20170517-0015,COMM-173: Beamformer,4k,01, 0.001,/var/kat/archive2/data/MeerKATAR1/telescope_products/2017/05/17/1495022951.h5\n",
      "QA,ruby,2017-05-17 13:01:38.883 UTC,20170517-0016,F-engine data capture,4k,01, 0.004,/var/kat/archive2/data/MeerKATAR1/telescope_products/2017/05/17/1495026070.h5\n",
      "QA,Lindsay,2017-05-17 15:13:56.396 UTC,20170517-0017,MKAIV-308 Basic health,4k,16, 3.637,/var/kat/archive2/data/MeerKATAR1/telescope_products/2017/05/17/1495034023.h5\n",
      "QA,Lindsay,2017-05-17 15:47:58.532 UTC,20170517-0019,MKAIV-584 Generic AR1 delaycal,4k,16, 0.337,/var/kat/archive2/data/MeerKATAR1/telescope_products/2017/05/17/1495036075.h5\n",
      "QA,Tony,2017-05-17 16:02:29.663 UTC,20170517-0018,MKAIV-295B AR1 Imaging Calibrator LST 06-12,4k,16,38.071,/var/kat/archive2/data/MeerKATAR1/telescope_products/2017/05/17/1495036948.h5\n",
      "QA,Lindsay,2017-05-17 20:07:15.450 UTC,20170517-0020,Hotload and Coldload observation:MKAIV-209 Tsys and Tnd,4k,16, 2.488,/var/kat/archive2/data/MeerKATAR1/telescope_products/2017/05/17/1495051630.h5\n",
      "QA,Lindsay,2017-05-17 21:00:14.218 UTC,20170517-0034,MKAIV-584 Generic AR1 delaycal,4k,16, 0.168,/var/kat/archive2/data/MeerKATAR1/telescope_products/2017/05/17/1495054809.h5\n",
      "QA,Maciej Serylak,2017-05-17 21:10:09.466 UTC,20170517-0022,MKAIV 215: Phase-up (4K) PKS 1934-63,4k,16, 0.881,/var/kat/archive2/data/MeerKATAR1/telescope_products/2017/05/17/1495055408.h5\n",
      "QA,,2017-05-17 21:21:21.682 UTC,,,4k,16, 0.835,/var/kat/archive2/data/MeerKATAR1/telescope_products/2017/05/17/1495056038.h5\n",
      "QA,,2017-05-17 21:30:27.451 UTC,,,4k,16, 0.986,/var/kat/archive2/data/MeerKATAR1/telescope_products/2017/05/17/1495056623.h5\n",
      "QA,,2017-05-17 21:41:10.679 UTC,,,4k,16, 3.234,/var/kat/archive2/data/MeerKATAR1/telescope_products/2017/05/17/1495057224.h5\n",
      "QA,,2017-05-17 22:10:29.435 UTC,,,4k,16, 1.034,/var/kat/archive2/data/MeerKATAR1/telescope_products/2017/05/17/1495059026.h5\n",
      "QA,,2017-05-17 22:21:07.165 UTC,,,4k,16, 0.945,/var/kat/archive2/data/MeerKATAR1/telescope_products/2017/05/17/1495059624.h5\n",
      "QA,,2017-05-17 22:30:27.928 UTC,,,4k,16, 1.076,/var/kat/archive2/data/MeerKATAR1/telescope_products/2017/05/17/1495060224.h5\n",
      "QA,,2017-05-17 22:41:08.157 UTC,,,4k,16, 3.323,/var/kat/archive2/data/MeerKATAR1/telescope_products/2017/05/17/1495060825.h5\n",
      "QA,,2017-05-17 23:10:30.411 UTC,,,4k,16, 1.123,/var/kat/archive2/data/MeerKATAR1/telescope_products/2017/05/17/1495062625.h5\n",
      "QA,,2017-05-17 23:21:11.140 UTC,,,4k,16, 1.014,/var/kat/archive2/data/MeerKATAR1/telescope_products/2017/05/17/1495063227.h5\n",
      "QA,,2017-05-17 23:30:29.404 UTC,,,4k,16, 1.165,/var/kat/archive2/data/MeerKATAR1/telescope_products/2017/05/17/1495063825.h5\n",
      "QA,,2017-05-17 23:41:00.137 UTC,,,4k,16, 3.413,/var/kat/archive2/data/MeerKATAR1/telescope_products/2017/05/17/1495064424.h5\n",
      "QA,,2017-05-18 00:02:26.093 UTC,,,4k,16, 1.039,/var/kat/archive2/data/MeerKATAR1/telescope_products/2017/05/18/1495065742.h5\n",
      "QA,,2017-05-18 00:31:17.361 UTC,,,4k,16, 1.885,/var/kat/archive2/data/MeerKATAR1/telescope_products/2017/05/18/1495067427.h5\n",
      "QA,,2017-05-18 00:45:25.002 UTC,,,4k,16, 0.955,/var/kat/archive2/data/MeerKATAR1/telescope_products/2017/05/18/1495068323.h5\n",
      "QA,,2017-05-18 01:01:16.600 UTC,,,4k,16, 1.897,/var/kat/archive2/data/MeerKATAR1/telescope_products/2017/05/18/1495069228.h5\n",
      "QA,,2017-05-18 01:30:25.860 UTC,,,4k,16, 1.080,/var/kat/archive2/data/MeerKATAR1/telescope_products/2017/05/18/1495071023.h5\n",
      "QA,,2017-05-18 01:46:02.963 UTC,,,4k,16, 1.924,/var/kat/archive2/data/MeerKATAR1/telescope_products/2017/05/18/1495071923.h5\n",
      "QA,Lindsay,2017-05-18 05:04:39.448 UTC,20170518-0001,MKAIV-308 Basic health,4k,16, 0.668,/var/kat/archive2/data/MeerKATAR1/telescope_products/2017/05/18/1495083877.h5\n",
      "QA,Buntu,2017-05-18 05:11:23.277 UTC,20170518-0002,MKAIV-308 Basic health,4k,16, 3.430,/var/kat/archive2/data/MeerKATAR1/telescope_products/2017/05/18/1495084282.h5\n",
      "QA,Lindsay,2017-05-18 05:36:45.133 UTC,20170518-0004,MKAIV-584 Generic AR1 delaycal,4k,16, 0.358,/var/kat/archive2/data/MeerKATAR1/telescope_products/2017/05/18/1495085801.h5\n",
      "QA,Tony,2017-05-18 05:41:28.013 UTC,20170518-0005,MKAIV-386A AR1 Bandpass Calibrators LST 00-06,4k,16, 0.637,/var/kat/archive2/data/MeerKATAR1/telescope_products/2017/05/18/1495086087.h5\n",
      "QA,Lindsay,2017-05-18 05:47:38.357 UTC,20170518-0006,MKAIV-584 Generic AR1 delaycal,4k,16, 0.353,/var/kat/archive2/data/MeerKATAR1/telescope_products/2017/05/18/1495086455.h5\n",
      "QA,Buntu,2017-05-18 05:50:29.284 UTC,20170518-0009,MKAIV-584 Generic AR1 delaycal,4k,16, 0.270,/var/kat/archive2/data/MeerKATAR1/telescope_products/2017/05/18/1495086626.h5\n",
      "QA,Buntu,2017-05-18 05:53:45.701 UTC,20170518-0010,MKAIV-584 Generic AR1 delaycal,4k,16, 0.271,/var/kat/archive2/data/MeerKATAR1/telescope_products/2017/05/18/1495086822.h5\n",
      "QA,Buntu,2017-05-18 05:58:58.157 UTC,20170518-0011,MKAIV-584 Generic AR1 delaycal,4k,16, 0.147,/var/kat/archive2/data/MeerKATAR1/telescope_products/2017/05/18/1495087133.h5\n",
      "QA,Buntu,2017-05-18 06:01:08.602 UTC,20170518-0012,MKAIV-584 Generic AR1 delaycal,4k,16, 0.147,/var/kat/archive2/data/MeerKATAR1/telescope_products/2017/05/18/1495087265.h5\n",
      "QA,Tony,2017-05-18 06:02:53.558 UTC,20170518-0008,MKAIV-386 Bandpass calibrators with 10 min track,4k,16, 5.184,/var/kat/archive2/data/MeerKATAR1/telescope_products/2017/05/18/1495087372.h5\n",
      "QA,Buntu,2017-05-18 06:43:34.995 UTC,20170518-0013,MKAIV-584 Generic AR1 delaycal,4k,16, 0.549,/var/kat/archive2/data/MeerKATAR1/telescope_products/2017/05/18/1495089810.h5\n",
      "QA,ruby,2017-05-18 07:43:05.743 UTC,20170518-0015,MKAIV 215: Phase-up (4K) PKS 0408-65,4k,01, 0.008,/var/kat/archive2/data/MeerKATAR1/telescope_products/2017/05/18/1495093383.h5\n",
      "QA,ruby,2017-05-18 07:51:03.541 UTC,20170518-0016,PKS 0408 boresight: F-engine data capture,4k,01, 0.008,/var/kat/archive2/data/MeerKATAR1/telescope_products/2017/05/18/1495093843.h5\n",
      "QA,ruby,2017-05-18 07:57:22.381 UTC,20170518-0017,MKAIV 215: Phase-up (4K) PKS 0408-65,4k,01, 0.008,/var/kat/archive2/data/MeerKATAR1/telescope_products/2017/05/18/1495094241.h5\n",
      "QA,ruby,2017-05-18 08:03:24.228 UTC,20170518-0018,PKS 0408 0.25 deg offset: F-engine data capture,4k,01, 0.008,/var/kat/archive2/data/MeerKATAR1/telescope_products/2017/05/18/1495094583.h5\n",
      "QA,ruby,2017-05-18 08:25:43.161 UTC,20170518-0019,COMM-173: Beamformer,4k,01, 0.003,/var/kat/archive2/data/MeerKATAR1/telescope_products/2017/05/18/1495095907.h5\n",
      "QA,,2017-05-18 08:45:32.681 UTC,,,4k,01, 0.002,/var/kat/archive2/data/MeerKATAR1/telescope_products/2017/05/18/1495097122.h5\n"
     ]
    }
   ],
   "source": [
    "for fi in f:\n",
    "    txts=fi.metadata.InstructionSet\n",
    "    arch=fi.metadata.FileLocation+\"/\"+fi.metadata.Filename\n",
    "    tgt=fi.metadata.Targets[-1].replace(' ','')\n",
    "    name=fi.metadata.Observer\n",
    "    UT=fi.metadata.Details.splitlines()[5][14:41]\n",
    "    block=fi.metadata.ExperimentID\n",
    "    desc=string.replace(fi.metadata.Description,\",\",\";\")\n",
    "    chan=channels(fi.metadata.Details)\n",
    "    nants=len(fi.metadata.Antennas) # Number of ants\n",
    "    size=(fi.metadata.FileSize)/(1024.0*1024*1024) #Number of Gigabyte\n",
    "    if tgt=='None':\n",
    "        tgt='XXXXXX NONE XXXXXX'\n",
    "    \"\"\"\n",
    "    #listing=(\"%s %s3s, %s %s\") %(fi.metadata.FileLocation,fi.metadata.Filename,\\\n",
    "    channels(fi.metadata.Details),antstr,tgt)\n",
    "    \"\"\"\n",
    "    listing=(\"QA,%s,%s,%s,%s,%s,%02d,%6.3f,%s\")%(name,UT,block,desc,chan,nants,size,arch) \n",
    "    print listing\n",
    "    Outfile.write(listing+\"\\n\")"
   ]
  },
  {
   "cell_type": "code",
   "execution_count": 43,
   "metadata": {
    "collapsed": true
   },
   "outputs": [],
   "source": [
    "Outfile.close()"
   ]
  },
  {
   "cell_type": "code",
   "execution_count": 44,
   "metadata": {},
   "outputs": [
    {
     "data": {
      "text/plain": [
       "'2017-05-18 08:45:32.681 UTC'"
      ]
     },
     "execution_count": 44,
     "metadata": {},
     "output_type": "execute_result"
    }
   ],
   "source": [
    "fi.metadata.Details.splitlines()[5][14:41]"
   ]
  }
 ],
 "metadata": {
  "kernelspec": {
   "display_name": "Python 2",
   "language": "python",
   "name": "python2"
  },
  "language_info": {
   "codemirror_mode": {
    "name": "ipython",
    "version": 2
   },
   "file_extension": ".py",
   "mimetype": "text/x-python",
   "name": "python",
   "nbconvert_exporter": "python",
   "pygments_lexer": "ipython2",
   "version": "2.7.6"
  }
 },
 "nbformat": 4,
 "nbformat_minor": 1
}
