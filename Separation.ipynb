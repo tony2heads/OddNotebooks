{
 "cells": [
  {
   "cell_type": "code",
   "execution_count": 1,
   "metadata": {
    "collapsed": true
   },
   "outputs": [],
   "source": [
    "import ephem\n",
    "import math\n",
    "import operator\n",
    "\n",
    "# Setup KAT site\n",
    "kat = ephem.Observer()\n",
    "kat.lat = '-30.71317'\n",
    "kat.long = '21.44389'\n",
    "kat.elevation = 1038\n",
    "kat.temp=25\n",
    "kat.pressure=890\n",
    "kat.horizon=\"20:00:00\"\n",
    "kat.date = ephem.now()\n",
    "\n"
   ]
  },
  {
   "cell_type": "code",
   "execution_count": 2,
   "metadata": {
    "collapsed": true
   },
   "outputs": [],
   "source": [
    "testsource=ephem.FixedBody()\n",
    "\n",
    "testsource.name=\"J2052-3640\"\n",
    "\n",
    "testsource._ra =\"20:52:00\"\n",
    "testsource._dec=\"-36:40:00\"\n",
    "testsource.compute(kat)\n",
    "# Get sources\n"
   ]
  },
  {
   "cell_type": "markdown",
   "metadata": {},
   "source": [
    "# AR1 version\n",
    "\n",
    "Update the file when needed"
   ]
  },
  {
   "cell_type": "code",
   "execution_count": 3,
   "metadata": {},
   "outputs": [
    {
     "name": "stdout",
     "output_type": "stream",
     "text": [
      "cal 29.1954888188\n"
     ]
    }
   ],
   "source": [
    "calp=ephem.FixedBody()\n",
    "calp.name=\"cal\"\n",
    "calp._ra=\"19:39:25.03\"  # J2000 position\n",
    "calp._dec=\"-63:42:45.7\" #J2000 position\n",
    "calp.compute(kat) \n",
    "print calp.name, math.degrees(ephem.separation(calp,testsource))\n"
   ]
  },
  {
   "cell_type": "code",
   "execution_count": 4,
   "metadata": {},
   "outputs": [
    {
     "name": "stdout",
     "output_type": "stream",
     "text": [
      "Sun RA 10:33:54.25  Dec 9:02:14.1\n",
      "Distance to Sun  144.0 deg\n"
     ]
    }
   ],
   "source": [
    "sun=ephem.Sun()\n",
    "sun.compute(kat)\n",
    "print \"Sun RA\", sun.a_ra,\" Dec\",sun.a_dec\n",
    "sunsep= math.degrees(ephem.separation(sun,testsource))\n",
    "print (\"Distance to Sun %6.1f deg\") %(sunsep)"
   ]
  }
 ],
 "metadata": {
  "kernelspec": {
   "display_name": "Python 2",
   "language": "python",
   "name": "python2"
  },
  "language_info": {
   "codemirror_mode": {
    "name": "ipython",
    "version": 2
   },
   "file_extension": ".py",
   "mimetype": "text/x-python",
   "name": "python",
   "nbconvert_exporter": "python",
   "pygments_lexer": "ipython2",
   "version": "2.7.17"
  }
 },
 "nbformat": 4,
 "nbformat_minor": 1
}
