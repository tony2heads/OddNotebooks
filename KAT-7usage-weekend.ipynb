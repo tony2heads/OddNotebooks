{
 "cells": [
  {
   "cell_type": "code",
   "execution_count": 1,
   "metadata": {
    "collapsed": false
   },
   "outputs": [
    {
     "name": "stderr",
     "output_type": "stream",
     "text": [
      "/usr/local/lib/python2.7/dist-packages/PIL/Image.py:84: RuntimeWarning: The _imaging extension was built for another  version of Pillow or PIL\n",
      "  warnings.warn(str(v), RuntimeWarning)\n"
     ]
    }
   ],
   "source": [
    "%matplotlib inline\n",
    "import numpy as np"
   ]
  },
  {
   "cell_type": "code",
   "execution_count": 2,
   "metadata": {
    "collapsed": true
   },
   "outputs": [],
   "source": [
    "import matplotlib.pyplot as plt"
   ]
  },
  {
   "cell_type": "code",
   "execution_count": 3,
   "metadata": {
    "collapsed": false
   },
   "outputs": [],
   "source": [
    "import katarchive\n",
    "\n",
    "import datetime\n",
    "\n",
    "import logging\n",
    "logging.root.setLevel(logging.ERROR)\n"
   ]
  },
  {
   "cell_type": "code",
   "execution_count": 4,
   "metadata": {
    "collapsed": false
   },
   "outputs": [],
   "source": [
    "def findproj(text):\n",
    "    found='Unknown'        # default\n",
    "    chx=text.find('prop')\n",
    "    if chx >0  :\n",
    "        pr2=text[chx+11:chx+38].split()\n",
    "        code=pr2[0]\n",
    "        found=code.replace(\"=\",\"\")\n",
    "    else:\n",
    "        if text.find('maser') >0:\n",
    "            found=\"Maser monitoring\"\n",
    "            #print text\n",
    "    return found"
   ]
  },
  {
   "cell_type": "code",
   "execution_count": 5,
   "metadata": {
    "collapsed": false
   },
   "outputs": [
    {
     "name": "stdout",
     "output_type": "stream",
     "text": [
      "2016-06-20 12:11:54.743127 2016-06-17 12:11:54.743127\n"
     ]
    }
   ],
   "source": [
    "today=datetime.datetime.today()\n",
    "ago=datetime.timedelta(-3)\n",
    "last=today+ago\n",
    "print today,last\n",
    "begin=last.strftime(format=\"%d/%m/%Y\")\n",
    "end=today.strftime(format=\"%d/%m/%Y\")"
   ]
  },
  {
   "cell_type": "code",
   "execution_count": 6,
   "metadata": {
    "collapsed": false
   },
   "outputs": [
    {
     "name": "stdout",
     "output_type": "stream",
     "text": [
      "Searched using: CAS.ProductTypeName:(KatFile) AND CAS.ProductTransferStatus:RECEIVED AND StartTime:[2016-06-16T22:00:00Z TO 2016-06-20T21:59:59Z]\n",
      "Returning 25 results\n",
      "[['1', '2016-06-19 04:00:21 SAST', 'Nadeem', [874181229]], ['1', '2016-06-19 03:56:12 SAST', 'operator', [60809951]], ['1', '2016-06-19 03:15:14 SAST', 'Lindsay', [1031900349]], ['1', '2016-06-19 03:11:17 SAST', 'operator', [85998440]], ['1', '2016-06-18 23:00:23 SAST', 'Tony', [869678341]], ['1', '2016-06-18 22:57:33 SAST', 'operator', [56868021]], ['1', '2016-06-18 19:45:15 SAST', 'sharmila/ruby', [5161412718]], ['1', '2016-06-18 19:40:25 SAST', 'operator', [355604484]], ['1', '2016-06-18 12:45:20 SAST', 'Tony', [1432598435]], ['1', '2016-06-18 12:41:15 SAST', 'operator', [62492599]], ['1', '2016-06-18 08:30:22 SAST', 'Tony', [870295016]], ['1', '2016-06-18 08:26:16 SAST', 'operator', [63059998]], ['1', '2016-06-18 04:15:18 SAST', 'Nadeem', [860465797]], ['1', '2016-06-18 04:11:19 SAST', 'operator', [60809705]], ['1', '2016-06-17 23:00:19 SAST', 'Tony', [359851963]], ['1', '2016-06-17 22:57:32 SAST', 'operator', [56333764]], ['1', '2016-06-17 19:49:12 SAST', 'sharmila/ruby', [5163787123]], ['1', '2016-06-17 19:44:24 SAST', 'operator', [263584994]], ['1', '2016-06-17 16:45:20 SAST', 'Nadeem', [612138524]], ['1', '2016-06-17 16:41:10 SAST', 'operator', [61368328]], ['1', '2016-06-17 15:56:14 SAST', 'operator', [22192180]], ['1', '2016-06-17 09:13:00 SAST', 'Sean', [5877422827]], ['1', '2016-06-17 09:09:46 SAST', 'operator', [60781639]], ['1', '2016-06-17 01:20:51 SAST', 'Nadeem', [441553904]], ['1', '2016-06-17 01:16:25 SAST', 'operator', [60795307]]]\n"
     ]
    }
   ],
   "source": [
    "print katarchive.search_archive(startdate=begin,enddate=end)\n"
   ]
  },
  {
   "cell_type": "code",
   "execution_count": 7,
   "metadata": {
    "collapsed": false
   },
   "outputs": [
    {
     "name": "stdout",
     "output_type": "stream",
     "text": [
      "Searched using: CAS.ProductTypeName:(KatFile) AND CAS.ProductTransferStatus:RECEIVED AND StartTime:[2016-06-16T22:00:00Z TO 2016-06-20T21:59:59Z]\n",
      "Returning 25 results\n"
     ]
    }
   ],
   "source": [
    "f = katarchive.search_archive(startdate=begin)\n",
    "start = datetime.datetime.strptime(f[-1].__str__().split('\\'')[3],'%Y-%m-%d %H:%M:%S %Z')\n",
    "end = datetime.datetime.strptime(f[0].__str__().split('\\'')[3],'%Y-%m-%d %H:%M:%S %Z')"
   ]
  },
  {
   "cell_type": "code",
   "execution_count": 8,
   "metadata": {
    "collapsed": false
   },
   "outputs": [],
   "source": [
    "#print 'First file in run: ' , start.isoformat()\n",
    "#print 'Last file in run: ' , end.isoformat()"
   ]
  },
  {
   "cell_type": "code",
   "execution_count": 9,
   "metadata": {
    "collapsed": false
   },
   "outputs": [
    {
     "name": "stdout",
     "output_type": "stream",
     "text": [
      "2 20150210SS-01 14640.2 Field11Feb_High 5\n",
      "2 COMM_Atten 107.01 Auto atten 5\n",
      "2 COMM_Point_LM 1842.15 Pointing Observation 5\n",
      "2 COMM_Atten 152.01 Auto atten 5\n",
      "2 COMM_Bandpass_TF 14570.2 Bandpass Calibrators 5\n",
      "2 COMM_Atten 100.01 Auto atten 5\n",
      "2 Maser monitoring 10932.03 G9.62 0.20 daily monitoring 5\n",
      "2 COMM_Atten 150.99 Auto atten 5\n",
      "2 COMM_Bandpass_TF 24010.33 Bandpass Calibrators 5\n",
      "2 COMM_Atten 110.01 Auto atten 5\n",
      "2 COMM_Bandpass_TF 14580.2 Bandpass Calibrators 5\n",
      "2 COMM_Atten 111.01 Auto atten 5\n",
      "2 20150210SS-01 14410.2 Field11Feb_Low 5\n",
      "2 COMM_Atten 107.01 Auto atten 5\n",
      "2 20150619TF-01 6020.08 3C279 5\n",
      "2 COMM_Atten 99.01 Auto atten 5\n",
      "2 Maser monitoring 10937.07 G9.62 0.20 daily monitoring 5\n",
      "2 COMM_Atten 111.74 Auto atten 5\n",
      "2 COMM_Image_NO 10250.14 Imaging Calibration 5\n",
      "2 COMM_Atten 108.01 Auto atten 5\n",
      "2 COMM_Atten 38.0 Auto atten 5\n",
      "2 COMM_RFI_SP 10501.83 Basic RFI Scan: RFI SCAN 5\n",
      "2 COMM_Atten 107.01 Auto atten 5\n",
      "2 COMM_Image_NO 7390.1 Imaging Calibration 5\n",
      "2 COMM_Atten 107.01 Auto atten 5\n"
     ]
    }
   ],
   "source": [
    "for fi in f:\n",
    "    txts=fi.metadata.InstructionSet\n",
    "    p=findproj(txts)\n",
    "    print fi.metadata.ExperimentID, p, fi.metadata.Duration, fi.metadata.Description, len(fi.metadata.Antennas)\n"
   ]
  },
  {
   "cell_type": "markdown",
   "metadata": {},
   "source": [
    "Only select observations that are longer than 1 hrs then extract the project id from the script parameters. If there is no project id then allocated No_project_id "
   ]
  },
  {
   "cell_type": "code",
   "execution_count": 10,
   "metadata": {
    "collapsed": false
   },
   "outputs": [],
   "source": [
    "sbd = [] #Experiment ID\n",
    "pid = [] #project ID\n",
    "fnd = [] #Filename\n",
    "dud = [] #Duration\n",
    "antsd = [] #number of antennas\n",
    "scrd = [] #script  -NOT USED NOW\n",
    "\n",
    "for fi in f:\n",
    "    if fi.metadata.Duration < 3600: #only pick hour long or greater observations for analysis\n",
    "        continue\n",
    "    # now try extract the project-id from the instruction-set string\n",
    "    \"\"\"\n",
    "    script = fi.metadata.InstructionSet\n",
    "    scrd.append(script)\n",
    "    spl = script.split()\n",
    "    \"\"\"\n",
    "    txts=fi.metadata.InstructionSet\n",
    "    p=findproj(txts)\n",
    "    if p == \"Unknown\":\n",
    "        p=\"Maser Monitoring\"\n",
    "    sbd.append(fi.metadata.ExperimentID)\n",
    "    pid.append(p)\n",
    "    fnd.append(fi.metadata.Filename)\n",
    "    dud.append(fi.metadata.Duration)\n",
    "    antsd.append(len(fi.metadata.Antennas))\n"
   ]
  },
  {
   "cell_type": "code",
   "execution_count": 11,
   "metadata": {
    "collapsed": false
   },
   "outputs": [
    {
     "name": "stdout",
     "output_type": "stream",
     "text": [
      "Percentage system usage:  80.0 %\n"
     ]
    }
   ],
   "source": [
    "pi = np.array(pid)\n",
    "sb = np.array(sbd)\n",
    "du = np.array(dud)\n",
    "ants = np.array(antsd)\n",
    "\n",
    "p_cent = (sum(du)/((end.toordinal()-start.toordinal())*24*3600))*100\n",
    "\n",
    "print 'Percentage system usage: ', np.floor(p_cent),'%'\n"
   ]
  },
  {
   "cell_type": "code",
   "execution_count": 12,
   "metadata": {
    "collapsed": false
   },
   "outputs": [
    {
     "name": "stdout",
     "output_type": "stream",
     "text": [
      "COMM_Bandpass_TF 14.77\n",
      "20150619TF-01 1.67\n",
      "COMM_RFI_SP 2.92\n",
      "20150210SS-01 8.07\n",
      "COMM_Image_NO 4.9\n",
      "Maser monitoring 6.07\n"
     ]
    }
   ],
   "source": [
    "a_id = []\n",
    "a_time = []\n",
    "for p in set(pi):\n",
    "    ind = pi == p\n",
    "    print p,round(sum(du[ind])/3600,2)\n",
    "    a_id.append(p)\n",
    "    a_time.append(round(sum(du[ind])/3600,2))"
   ]
  },
  {
   "cell_type": "code",
   "execution_count": 13,
   "metadata": {
    "collapsed": false
   },
   "outputs": [
    {
     "name": "stdout",
     "output_type": "stream",
     "text": [
      "20150210SS-01      8.1 5\n",
      "20150619TF-01      1.7 5\n",
      "COMM_Bandpass_TF  14.8 5\n",
      "COMM_Image_NO      4.9 5\n",
      "COMM_RFI_SP        2.9 5\n",
      "Maser monitoring   6.1 5\n"
     ]
    }
   ],
   "source": [
    "ind = np.argsort(a_id)\n",
    "for i in ind:\n",
    "    print (\"%-16s %5.1f %d\") %(a_id[i],a_time[i],ants[i])"
   ]
  },
  {
   "cell_type": "markdown",
   "metadata": {},
   "source": [
    "Find the unique project ids and determine the total observation duration."
   ]
  },
  {
   "cell_type": "markdown",
   "metadata": {},
   "source": [
    "Sort ID and time for display"
   ]
  },
  {
   "cell_type": "markdown",
   "metadata": {},
   "source": [
    "Plot as pie-chart"
   ]
  },
  {
   "cell_type": "code",
   "execution_count": 14,
   "metadata": {
    "collapsed": true
   },
   "outputs": [],
   "source": [
    "cmap = plt.cm.prism\n",
    "colors = cmap(np.linspace(0., 1., 7))"
   ]
  },
  {
   "cell_type": "code",
   "execution_count": 15,
   "metadata": {
    "collapsed": false
   },
   "outputs": [
    {
     "data": {
      "image/png": "[encoded data removed]",
      "text/plain": [
       "<matplotlib.figure.Figure at 0x7f19b9a4a5d0>"
      ]
     },
     "metadata": {},
     "output_type": "display_data"
    }
   ],
   "source": [
    "plt.figure(figsize=(15,15))\n",
    "plt.pie(a_time,labels=a_id,colors=colors,autopct='%1.1f%%');"
   ]
  },
  {
   "cell_type": "code",
   "execution_count": 16,
   "metadata": {
    "collapsed": true
   },
   "outputs": [],
   "source": [
    "plt.show()"
   ]
  },
  {
   "cell_type": "code",
   "execution_count": 17,
   "metadata": {
    "collapsed": false
   },
   "outputs": [
    {
     "data": {
      "text/plain": [
       "u'/home/kat/scripts/observation/auto_attenuate.py -f 1822 -t radec,0,-90 --mode=bc16n400M1k --proposal-id COMM_Atten program-block-id=00ob2100000 --sb-id-code=20160616-0002 --description= AutoAttenuation for 00ob2100000  --observer=operator --config-label=Auto2016-03-01T11h45m26.0Z'"
      ]
     },
     "execution_count": 17,
     "metadata": {},
     "output_type": "execute_result"
    }
   ],
   "source": [
    "fi.metadata.InstructionSet"
   ]
  },
  {
   "cell_type": "code",
   "execution_count": null,
   "metadata": {
    "collapsed": true
   },
   "outputs": [],
   "source": []
  }
 ],
 "metadata": {
  "kernelspec": {
   "display_name": "Python 2",
   "language": "python",
   "name": "python2"
  },
  "language_info": {
   "codemirror_mode": {
    "name": "ipython",
    "version": 2
   },
   "file_extension": ".py",
   "mimetype": "text/x-python",
   "name": "python",
   "nbconvert_exporter": "python",
   "pygments_lexer": "ipython2",
   "version": "2.7.6"
  }
 },
 "nbformat": 4,
 "nbformat_minor": 0
}
