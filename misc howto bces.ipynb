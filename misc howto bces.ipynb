{
 "cells": [
  {
   "cell_type": "markdown",
   "metadata": {},
   "source": [
    "Examples of how to use the BCES fitting code\n",
    "===================\n",
    "\n",
    "BCES python module [available on Github](https://github.com/rsnemmen/BCES).\n",
    "\n",
    "Tested with Python 2x and 3x."
   ]
  },
  {
   "cell_type": "code",
   "execution_count": 1,
   "metadata": {},
   "outputs": [
    {
     "name": "stdout",
     "output_type": "stream",
     "text": [
      "Populating the interactive namespace from numpy and matplotlib\n"
     ]
    }
   ],
   "source": [
    "%pylab inline"
   ]
  },
  {
   "cell_type": "code",
   "execution_count": 3,
   "metadata": {},
   "outputs": [
    {
     "name": "stdout",
     "output_type": "stream",
     "text": [
      "/Users/nemmen/Dropbox/work/codes/python/bces\n"
     ]
    }
   ],
   "source": [
    "cd '/Users/nemmen/work/codes/python/bces'"
   ]
  },
  {
   "cell_type": "code",
   "execution_count": 4,
   "metadata": {
    "scrolled": true
   },
   "outputs": [],
   "source": [
    "import bces\n",
    "import seaborn"
   ]
  },
  {
   "cell_type": "markdown",
   "metadata": {},
   "source": [
    "# Example 1\n",
    "\n",
    "Data with errors in $x$ and $y$, no correlation between uncertainties"
   ]
  },
  {
   "cell_type": "markdown",
   "metadata": {},
   "source": [
    "Reads data (real data taken from this [paper](http://science.sciencemag.org/content/338/6113/1445.full])). The [datafile](https://github.com/rsnemmen/BCES/blob/master/data.npz) is available in the github repository"
   ]
  },
  {
   "cell_type": "code",
   "execution_count": 5,
   "metadata": {},
   "outputs": [],
   "source": [
    "data=load('data.npz')\n",
    "xdata=data['x']\n",
    "ydata=data['y']\n",
    "errx=data['errx']\n",
    "erry=data['erry']\n",
    "cov=data['cov']"
   ]
  },
  {
   "cell_type": "markdown",
   "metadata": {},
   "source": [
    "Fitting, results such that $y = Ax + B$. *covab* is the resulting covariance matrix which can be used to draw confidence regions.\n",
    "\n",
    "You need to select the desired BCES method for plotting by setting the variable $i$ below. The methods available are:\n",
    "\n",
    "| $i$  | Method  |  Description |\n",
    "|---|---| --- |\n",
    "| 0  | $y|x$  | Assumes $x$ as the independent variable |\n",
    "| 1  |  $x|y$ | Assumes $y$ as the independent variable |\n",
    "| 2  | bissector  | Line that bisects the $y|x$ and $x|y$. *Do not use this method*, cf. [Hogg, D. et al. 2010, arXiv:1008.4686](http://labs.adsabs.harvard.edu/adsabs/abs/2010arXiv1008.4686H/). |\n",
    "| 3  | orthogonal  | Orthogonal least squares: line that minimizes orthogonal distances. Should be used when it is not clear which variable should be treated as the independent one |\n",
    "\n",
    "Please read the [original BCES paper](http://labs.adsabs.harvard.edu/adsabs/abs/1996ApJ...470..706A/) to understand what these different lines mean."
   ]
  },
  {
   "cell_type": "code",
   "execution_count": 6,
   "metadata": {
    "collapsed": true
   },
   "outputs": [],
   "source": [
    "# Selects the desired BCES method for plotting\n",
    "i=0 \n",
    "\n",
    "# number of bootstrapping trials\n",
    "nboot=10000"
   ]
  },
  {
   "cell_type": "code",
   "execution_count": 11,
   "metadata": {},
   "outputs": [
    {
     "name": "stdout",
     "output_type": "stream",
     "text": [
      "BCES, 10000 trials... \n",
      "3.314720 s\n",
      "CPU times: user 16.7 ms, sys: 25.3 ms, total: 42 ms\n",
      "Wall time: 3.32 s\n"
     ]
    }
   ],
   "source": [
    "%%time\n",
    "# Performs the BCES fit (parallel)\n",
    "a,b,erra,errb,covab=bces.bcesp(xdata,errx,ydata,erry,cov,nboot)"
   ]
  },
  {
   "cell_type": "markdown",
   "metadata": {},
   "source": [
    "Plot"
   ]
  },
  {
   "cell_type": "code",
   "execution_count": 12,
   "metadata": {
    "scrolled": true
   },
   "outputs": [
    {
     "data": {
      "text/plain": [
       "<matplotlib.text.Text at 0x11548ada0>"
      ]
     },
     "execution_count": 12,
     "metadata": {},
     "output_type": "execute_result"
    },
    {
     "data": {
      "image/png": "[encoded data removed]",
      "text/plain": [
       "<matplotlib.figure.Figure at 0x115427da0>"
      ]
     },
     "metadata": {},
     "output_type": "display_data"
    }
   ],
   "source": [
    "errorbar(xdata,ydata,xerr=errx,yerr=erry,fmt='o')\n",
    "x=numpy.linspace(xdata.min(),xdata.max())\n",
    "plot(x,a[i]*x+b[i],'-k',label=\"BCES $y|x$\")\n",
    "legend(loc='best')\n",
    "xlabel('$x$')\n",
    "ylabel('$y$')"
   ]
  },
  {
   "cell_type": "markdown",
   "metadata": {},
   "source": [
    "# Example 2\n",
    "\n",
    "Fake data with random uncertainties in $x$ and $y$. Example prepared by Rogerio Riffel."
   ]
  },
  {
   "cell_type": "markdown",
   "metadata": {},
   "source": [
    "Prepares fake data"
   ]
  },
  {
   "cell_type": "code",
   "execution_count": 13,
   "metadata": {
    "collapsed": true
   },
   "outputs": [],
   "source": [
    "x=np.arange(1,20)\n",
    "y=3*x + 4\n",
    "\n",
    "xer=np.sqrt((x- np.random.normal(x))**2)\n",
    "yer=np.sqrt((y- np.random.normal(y))**2)\n",
    "\n",
    "# reescrevendo x e y para serem random\n",
    "y=numpy.random.normal(y)\n",
    "x=numpy.random.normal(x)"
   ]
  },
  {
   "cell_type": "code",
   "execution_count": 14,
   "metadata": {
    "scrolled": true
   },
   "outputs": [
    {
     "name": "stdout",
     "output_type": "stream",
     "text": [
      "BCES, 10000 trials... \n",
      "3.160105 s\n"
     ]
    }
   ],
   "source": [
    "# simple linear regression\n",
    "(aa,bb)=numpy.polyfit(x,y,deg=1)\n",
    "yfit=x*aa+bb\n",
    "\n",
    "# BCES fit\n",
    "cov=zeros(len(x))   # no correlation between error measurements\n",
    "nboot=10000   # number of bootstrapping trials\n",
    "a,b,aerr,berr,covab=bces.bcesp(x,xer,y,yer,cov,nboot)\n",
    "ybces=a[3]*x+b[3]  # the integer corresponds to the desired BCES method for plotting (3-ort, 0-y|x, 1-x|y, *don't use bissector*)"
   ]
  },
  {
   "cell_type": "markdown",
   "metadata": {},
   "source": [
    "Plot"
   ]
  },
  {
   "cell_type": "code",
   "execution_count": 15,
   "metadata": {},
   "outputs": [
    {
     "data": {
      "text/plain": [
       "<matplotlib.text.Text at 0x1180b1c50>"
      ]
     },
     "execution_count": 15,
     "metadata": {},
     "output_type": "execute_result"
    },
    {
     "data": {
      "image/png": "[encoded data removed]",
      "text/plain": [
       "<matplotlib.figure.Figure at 0x115402630>"
      ]
     },
     "metadata": {},
     "output_type": "display_data"
    }
   ],
   "source": [
    "plot(x,y,'o')\n",
    "errorbar(x,y,xer,yer,ls='None')\n",
    "plot(x,yfit,label='Simple regression')\n",
    "plot(x,ybces,label='BCES orthogonal')\n",
    "legend(loc='best')\n",
    "xlabel('$x$')\n",
    "ylabel('$y$')"
   ]
  },
  {
   "cell_type": "markdown",
   "metadata": {},
   "source": [
    "# TODO\n",
    "\n",
    "* include example showing use of confidence contours in fit (\"bowtie\" plot)"
   ]
  }
 ],
 "metadata": {
  "anaconda-cloud": {},
  "kernelspec": {
   "display_name": "Python 2",
   "language": "python",
   "name": "python2"
  },
  "language_info": {
   "codemirror_mode": {
    "name": "ipython",
    "version": 2
   },
   "file_extension": ".py",
   "mimetype": "text/x-python",
   "name": "python",
   "nbconvert_exporter": "python",
   "pygments_lexer": "ipython2",
   "version": "2.7.6"
  }
 },
 "nbformat": 4,
 "nbformat_minor": 1
}
