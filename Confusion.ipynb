{
 "metadata": {
  "name": "",
  "signature": "sha256:f02e23da6882819b9a1b1487823b280114feecf5d23244f04bf0753d59ea5a1b"
 },
 "nbformat": 3,
 "nbformat_minor": 0,
 "worksheets": [
  {
   "cells": [
    {
     "cell_type": "markdown",
     "metadata": {},
     "source": [
      "#Confusion"
     ]
    },
    {
     "cell_type": "markdown",
     "metadata": {},
     "source": [
      "\n",
      "Confusion noise from Condon (74) and Harper et al AME constraints in LDN 1622 with the GBT\n",
      "\u03b8 in arcminutes\n",
      "S in mJy\n",
      "\u03bd in GHz\n",
      "S=0.2\u03b82\u03bd\u22120.7\n"
     ]
    },
    {
     "cell_type": "code",
     "collapsed": false,
     "input": [
      "import math\n",
      "theta=2.0\n",
      "nu=1.8\n",
      "s=0.2*theta**2 /nu**-0.7\n",
      "print s,'mJy'"
     ],
     "language": "python",
     "metadata": {},
     "outputs": [
      {
       "output_type": "stream",
       "stream": "stdout",
       "text": [
        "1.20720420788 mJy\n"
       ]
      }
     ],
     "prompt_number": 25
    },
    {
     "cell_type": "code",
     "collapsed": false,
     "input": [
      "def conf3(theta,f): #from Bernardi et al 2014 LEDA preprint\n",
      "    sig= 200*(theta/16.)**2 *(f/0.150)**(-0.7) # to mJy\n",
      "    return sig\n",
      "print conf3(3,1.8)"
     ],
     "language": "python",
     "metadata": {},
     "outputs": [
      {
       "output_type": "stream",
       "stream": "stdout",
       "text": [
        "1.23482572227\n"
       ]
      }
     ],
     "prompt_number": 26
    },
    {
     "cell_type": "markdown",
     "metadata": {},
     "source": [
      "#Long version of Condon (SKA memo 114)\n",
      "\n",
      "$n(S) =8.23 S^{-2.4} $ sources per steradian at flux density S from VLA surveys \n",
      "$\\gamma =2.4$\n",
      "$k=8.23$\n",
      "$\\Omega_e = \\frac {\\Omega_{beam}}{\\gamma-1}$\n",
      "\n",
      "$\\sigma_c  = {\\frac{q^{3-\\gamma}}{3-\\gamma}}^{\\frac{1}{1-\\gamma}}  {k \\Omega_e}^{\\frac{1}{1-\\gamma}}$"
     ]
    },
    {
     "cell_type": "code",
     "collapsed": false,
     "input": [
      "def conf2(beam,k=8.23,g=2.4,q=5): #beam in arcmin\n",
      "    x=60./206265. # arcmin/radian\n",
      "    omega= 1.133*beam*x**2\n",
      "    pow=1./(g-1)\n",
      "    omegae=omega*pow\n",
      "    sig=((q**(3-g))/(3-g))**(pow)\n",
      "    sig=sig*(k*omegae)**(pow)\n",
      "    return sig*1000 #from Jy to mJy\n",
      "    "
     ],
     "language": "python",
     "metadata": {},
     "outputs": [],
     "prompt_number": 27
    },
    {
     "cell_type": "markdown",
     "metadata": {},
     "source": [
      "# Values from \"Resolving the Radio Source Background \n",
      "##Condon et al preprint p 7\n",
      "1 to 10 $\\mu Jy$\n",
      "\n",
      "$$n(S) = 1.2\\times 10^5 S^{-1.5} Jy^{-1} Sr{-1}$$\n",
      "\n",
      "and he quotes Wilman et al 2008 as\n",
      "\n",
      "$$n(S) = 3.45\\times 10^4 S^{-1.6} Jy^{-1} Sr{-1}$$"
     ]
    },
    {
     "cell_type": "code",
     "collapsed": false,
     "input": [
      "print conf2(beam=3.0,k=1.2e5,g=1.5,q=5)\n",
      "print conf2(beam=3.0,k=3.45e4,g=1.6,q=5)"
     ],
     "language": "python",
     "metadata": {},
     "outputs": [
      {
       "output_type": "stream",
       "stream": "stdout",
       "text": [
        "264.700733352\n",
        "26.191919682\n"
       ]
      }
     ],
     "prompt_number": 28
    },
    {
     "cell_type": "code",
     "collapsed": false,
     "input": [
      "# From fig 1 of Condon preprint about 1mJy\n",
      "g=2.0\n",
      "#log S**2*n is about 2.2 S=1e-3\n",
      "#10**2.2 = k*1e-6\n",
      "k=1e6*10**(2.2)\n",
      "g=2.\n",
      "print conf2(3.0,k,g,5)"
     ],
     "language": "python",
     "metadata": {},
     "outputs": [
      {
       "output_type": "stream",
       "stream": "stdout",
       "text": [
        "227914.831358\n"
       ]
      }
     ],
     "prompt_number": 29
    },
    {
     "cell_type": "code",
     "collapsed": false,
     "input": [
      "sigc=conf2(3.0,q=10)"
     ],
     "language": "python",
     "metadata": {},
     "outputs": [],
     "prompt_number": 30
    },
    {
     "cell_type": "code",
     "collapsed": false,
     "input": [
      "print sigc"
     ],
     "language": "python",
     "metadata": {},
     "outputs": [
      {
       "output_type": "stream",
       "stream": "stdout",
       "text": [
        "0.291226444956\n"
       ]
      }
     ],
     "prompt_number": 31
    },
    {
     "cell_type": "code",
     "collapsed": false,
     "input": [
      "print conf2(3.0,6.0,2.5,5.0)"
     ],
     "language": "python",
     "metadata": {},
     "outputs": [
      {
       "output_type": "stream",
       "stream": "stdout",
       "text": [
        "0.298024326255\n"
       ]
      }
     ],
     "prompt_number": 32
    },
    {
     "cell_type": "code",
     "collapsed": false,
     "input": [
      "def n1(s):\n",
      "    n=8.23*s**(-2.4) # sources above s per steradian\n",
      "    na=n*(3*60./206265.)**2 # sources above s per beam\n",
      "    return na\n",
      "\n",
      "def n2(s):\n",
      "    n=6.0*s**(-2.5)\n",
      "    na=n*(3*60./206265.)**2 \n",
      "    return na\n",
      "\n",
      "print n1(0.2), n2(0.2)"
     ],
     "language": "python",
     "metadata": {},
     "outputs": [
      {
       "output_type": "stream",
       "stream": "stdout",
       "text": [
        "0.000298278378539 0.000255428991795\n"
       ]
      }
     ],
     "prompt_number": 33
    },
    {
     "cell_type": "code",
     "collapsed": false,
     "input": [
      "# adjust from 1.4 to 1.8GHz"
     ],
     "language": "python",
     "metadata": {},
     "outputs": [],
     "prompt_number": 34
    },
    {
     "cell_type": "code",
     "collapsed": false,
     "input": [
      "# Bernardi et al 2010\n",
      "# quoted by Greenhill, removing his typo\n",
      "def bernardi(beam,f):\n",
      "    x=beam*1.5 #from 3arcmin to 2 arcmin\n",
      "    nu=f/0.150 # from GHz to 150MHz\n",
      "    con=3*x*nu**(-0.7)\n",
      "    return con\n"
     ],
     "language": "python",
     "metadata": {},
     "outputs": [],
     "prompt_number": 35
    },
    {
     "cell_type": "code",
     "collapsed": false,
     "input": [
      "print bernardi(1.8,3)"
     ],
     "language": "python",
     "metadata": {},
     "outputs": [
      {
       "output_type": "stream",
       "stream": "stdout",
       "text": [
        "0.994864701154\n"
       ]
      }
     ],
     "prompt_number": 36
    },
    {
     "cell_type": "code",
     "collapsed": false,
     "input": [
      "#Completely separately from Tegmark M, Efstathiou G. 1996. MNRAS 281:1297-1314\n",
      "allsky =4*math.pi\n",
      "sources= 6e6 # sources from FIRST above 0.75mJy\n",
      "perster=sources/allsky\n",
      "#sources per steradian from Tegmark + Efstathiou above mJy about 3e5\n",
      "print \"Sources per steradian\",perster\n",
      "beam=(math.radians(3./60.))**2 # 3 arcminute beam\n",
      "beam=beam*math.pi/4\n",
      "print \"Beam in ster\",beam\n",
      "perbeam=perster*beam\n",
      "print \"Sources per beam\" ,perbeam"
     ],
     "language": "python",
     "metadata": {},
     "outputs": [
      {
       "output_type": "stream",
       "stream": "stdout",
       "text": [
        "Sources per steradian 477464.829276\n",
        "Beam in ster 5.98114905098e-07\n",
        "Sources per beam 0.28557883105\n"
       ]
      }
     ],
     "prompt_number": 37
    },
    {
     "cell_type": "code",
     "collapsed": false,
     "input": [
      "print \"Sources above 1mJy per beam\",beam*3e5"
     ],
     "language": "python",
     "metadata": {},
     "outputs": [
      {
       "output_type": "stream",
       "stream": "stdout",
       "text": [
        "Sources above 1mJy per beam 0.17943447153\n"
       ]
      }
     ],
     "prompt_number": 39
    },
    {
     "cell_type": "markdown",
     "metadata": {},
     "source": [
      "#ATLBS\n",
      "## number of sources >1mJy\n",
      "##R. Subrahmanyan, R. D. Ekers, L. Saripalli, and E. M. Sadler\n",
      "2010MNRAS.402.2792S\n",
      "##counts\n",
      "| range | av | number|\n",
      "|---|---|---|\n",
      "| 0.4\u20130.8  |    0.59 |364 |\n",
      "| 0.8\u20131.6|      1.10 |289 |\n",
      "| 1.6\u20133.2|      2.22 | 140|\n",
      "| 3.2\u20136.4|      4.63 |104 |\n",
      "| 6.4\u201312.8|     8.83 |70 |\n",
      "|12.8\u201325.6|    17.3 |46| \n",
      "| 25.6\u201351.2|    36.3| 30 |\n",
      "|51.2\u2013102.4|   76.5 |11 |\n",
      "|102.4\u2013204.8| 144.5 |7 |\n",
      "|204.8\u2013409.6| 268.4 |2 |\n",
      "\n"
     ]
    },
    {
     "cell_type": "code",
     "collapsed": false,
     "input": [
      "%pylab inline\n",
      "from numpy import log10\n",
      "s=log10((204.8, 102.4, 51.2, 25.6, 12.8, 6.4, 3.2, 1.6, 0.8, 0.4)) -3 # subtract 3 to get Jy scale\n",
      "#print len(s)\n",
      "n=log10((2.,(2+7),(2+7+11),(2+7+11+30),(2+7+11+30+46),(2+7+11+30+46+70),\\\n",
      "        (2+7+11+30+46+70+104),(2+7+11+30+46+70+104+140),(2+7+11+30+46+70+104+140+289),\\\n",
      "        (2+7+11+30+46+70+104+140+289+364)))\\\n",
      "        -log10(8.42)\n",
      "#print len(s),len(n)\n",
      "pylab.figure(1,figsize=(12,10))\n",
      "pylab.plot(s,n,label='N/S plot') \n",
      "pylab.grid()\n",
      "pylab.legend()\n",
      "pylab.show()"
     ],
     "language": "python",
     "metadata": {},
     "outputs": [
      {
       "output_type": "stream",
       "stream": "stdout",
       "text": [
        "Populating the interactive namespace from numpy and matplotlib\n"
       ]
      },
      {
       "metadata": {},
       "output_type": "display_data",
       "png": "[encoded data removed]",
       "text": [
        "<matplotlib.figure.Figure at 0x3112090>"
       ]
      }
     ],
     "prompt_number": 3
    },
    {
     "cell_type": "code",
     "collapsed": false,
     "input": [
      "# number of sources >1mJy\n",
      "N=2+7+11+30+46+70+104+140+289\n",
      "area=8.42\n",
      "print \" sources per sq deg >1mJy\", N/area"
     ],
     "language": "python",
     "metadata": {},
     "outputs": [
      {
       "output_type": "stream",
       "stream": "stdout",
       "text": [
        "  sources per sq deg >1mJy 83.0166270784\n"
       ]
      }
     ],
     "prompt_number": 5
    },
    {
     "cell_type": "code",
     "collapsed": false,
     "input": [],
     "language": "python",
     "metadata": {},
     "outputs": []
    }
   ],
   "metadata": {}
  }
 ]
}