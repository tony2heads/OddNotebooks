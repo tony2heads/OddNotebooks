{
 "cells": [
  {
   "cell_type": "code",
   "execution_count": null,
   "metadata": {
    "collapsed": false
   },
   "outputs": [],
   "source": [
    "%matplotlib inline"
   ]
  },
  {
   "cell_type": "code",
   "execution_count": null,
   "metadata": {
    "collapsed": false
   },
   "outputs": [],
   "source": [
    "# -*- coding: utf-8 -*-"
   ]
  },
  {
   "cell_type": "markdown",
   "metadata": {},
   "source": [
    "<div class=\"document\" id=\"deconvolution-of-lena\">\n",
    "<h1 class=\"title\">Deconvolution of Lena</h1>\n",
    "<p>In this example, we deconvolve a noisy version of Lena using Wiener\n",
    "and unsupervised Wiener algorithms. This algorithms are based on\n",
    "linear models that can't restore sharp edge as much as non-linear\n",
    "methods (like TV restoration) but are much faster.</p>\n",
    "<div class=\"section\" id=\"wiener-filter\">\n",
    "<h1>Wiener filter</h1>\n",
    "<p>The inverse filter based on the PSF (Point Spread Function),\n",
    "the prior regularisation (penalisation of high frequency) and the\n",
    "tradeoff between the data and prior adequacy. The regularization\n",
    "parameter must be hand tuned.</p>\n",
    "</div>\n",
    "<div class=\"section\" id=\"unsupervised-wiener\">\n",
    "<h1>Unsupervised Wiener</h1>\n",
    "<p>This algorithm has a self-tuned regularisation parameters based on\n",
    "data learning. This is not common and based on the following\n",
    "publication. The algorithm is based on a iterative Gibbs sampler that\n",
    "draw alternatively samples of posterior conditionnal law of the image,\n",
    "the noise power and the image frequency power.</p>\n",
    "<table class=\"docutils footnote\" frame=\"void\" id=\"id1\" rules=\"none\">\n",
    "<colgroup><col class=\"label\" /><col /></colgroup>\n",
    "<tbody valign=\"top\">\n",
    "<tr><td class=\"label\">[1]</td><td>François Orieux, Jean-François Giovannelli, and Thomas\n",
    "Rodet, &quot;Bayesian estimation of regularization and point\n",
    "spread function parameters for Wiener-Hunt deconvolution&quot;,\n",
    "J. Opt. Soc. Am. A 27, 1593-1607 (2010)</td></tr>\n",
    "</tbody>\n",
    "</table>\n",
    "</div>\n",
    "</div>\n"
   ]
  },
  {
   "cell_type": "code",
   "execution_count": null,
   "metadata": {
    "collapsed": false
   },
   "outputs": [],
   "source": [
    "import numpy as np\n",
    "import matplotlib.pyplot as plt\n",
    "\n",
    "from skimage import color, data, restoration\n",
    "\n",
    "lena = color.rgb2gray(data.lena())\n",
    "from scipy.signal import convolve2d as conv2\n",
    "psf = np.ones((5, 5)) / 25\n",
    "lena = conv2(lena, psf, 'same')\n",
    "lena += 0.1 * lena.std() * np.random.standard_normal(lena.shape)\n",
    "\n",
    "deconvolved, _ = restoration.unsupervised_wiener(lena, psf)\n",
    "\n",
    "fig, ax = plt.subplots(nrows=1, ncols=2, figsize=(8, 5))\n",
    "\n",
    "plt.gray()\n",
    "\n",
    "ax[0].imshow(lena, vmin=deconvolved.min(), vmax=deconvolved.max())\n",
    "ax[0].axis('off')\n",
    "ax[0].set_title('Data')\n",
    "\n",
    "ax[1].imshow(deconvolved)\n",
    "ax[1].axis('off')\n",
    "ax[1].set_title('Self tuned restoration')\n",
    "\n",
    "fig.subplots_adjust(wspace=0.02, hspace=0.2,\n",
    "                    top=0.9, bottom=0.05, left=0, right=1)\n",
    "\n",
    "plt.show()"
   ]
  }
 ],
 "metadata": {
  "kernelspec": {
   "display_name": "Python 2",
   "language": "python",
   "name": "python2"
  },
  "language_info": {
   "codemirror_mode": {
    "name": "ipython",
    "version": 2
   },
   "file_extension": ".py",
   "mimetype": "text/x-python",
   "name": "python",
   "nbconvert_exporter": "python",
   "pygments_lexer": "ipython2",
   "version": "2.7.3"
  }
 },
 "nbformat": 4,
 "nbformat_minor": 0
}
