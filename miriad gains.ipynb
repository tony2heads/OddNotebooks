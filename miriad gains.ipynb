{
 "cells": [
  {
   "cell_type": "code",
   "execution_count": 1,
   "metadata": {
    "collapsed": false,
    "deletable": true,
    "editable": true
   },
   "outputs": [
    {
     "ename": "ImportError",
     "evalue": "No module named miriad",
     "output_type": "error",
     "traceback": [
      "\u001b[0;31m---------------------------------------------------------------------------\u001b[0m",
      "\u001b[0;31mImportError\u001b[0m                               Traceback (most recent call last)",
      "\u001b[0;32m<ipython-input-1-03dbb13508bd>\u001b[0m in \u001b[0;36m<module>\u001b[0;34m()\u001b[0m\n\u001b[1;32m      2\u001b[0m \u001b[0;31m# claw 26feb09\u001b[0m\u001b[0;34m\u001b[0m\u001b[0;34m\u001b[0m\u001b[0m\n\u001b[1;32m      3\u001b[0m \u001b[0;34m\u001b[0m\u001b[0m\n\u001b[0;32m----> 4\u001b[0;31m \u001b[0;32mimport\u001b[0m \u001b[0mmiriad\u001b[0m\u001b[0;34m,\u001b[0m \u001b[0mnumpy\u001b[0m\u001b[0;34m,\u001b[0m \u001b[0mpylab\u001b[0m\u001b[0;34m\u001b[0m\u001b[0m\n\u001b[0m\u001b[1;32m      5\u001b[0m \u001b[0;32mfrom\u001b[0m \u001b[0mmirtask\u001b[0m \u001b[0;32mimport\u001b[0m \u001b[0mreadgains\u001b[0m\u001b[0;34m\u001b[0m\u001b[0m\n\u001b[1;32m      6\u001b[0m \u001b[0;34m\u001b[0m\u001b[0m\n",
      "\u001b[0;31mImportError\u001b[0m: No module named miriad"
     ]
    }
   ],
   "source": [
    "# A little script of how to plot gains with miriad-python\n",
    "# claw 26feb09\n",
    "\n",
    "import miriad, numpy, pylab\n",
    "from mirtask import readgains\n",
    "\n",
    "# read in data\n",
    "ds = miriad.Data ('/home/tony/Desktop/KATmaps/ATEL4770/2013-02-02/J1427-421.mir/').open ('rw')\n",
    "# this is just an example\n",
    "gr = readgains.GainsReader (ds)\n",
    "gr.prep ()\n",
    "\n",
    "# read data into array\n",
    "(time, gains) = gr.readAll()\n",
    "\n",
    "# each time has an average gain for reach antenna in a 86-element array (43 dual pol?).  only 2x7 populated for this obs.\n",
    "len(time), len(gains)\n",
    "len(gains[0])\n",
    "\n",
    "print len(gains[0])\n",
    "ant=1\n",
    "pol='H'\n",
    "gn=2*(ant-1)\n",
    "if pol == 'V':\n",
    "    gn=gn+1\n",
    "\n",
    "# plot phase\n",
    "pylab.plot(time,numpy.degrees(numpy.arctan2(gains[:,gn].real,gains[:,gn].imag)),'x')   # with odd jump\n",
    "#plot amp\n",
    "pylab.plot(time, numpy.sqrt((gains[:,gn].real)**2 + (gains[:,gn].imag)**2),'o')   #\n",
    "pylab.show()\n",
    "# something funny with python plot...  the phase plot isn't identical to that of miriad.  seems inverted and scaled relative to miriad.\n"
   ]
  },
  {
   "cell_type": "code",
   "execution_count": null,
   "metadata": {
    "collapsed": false,
    "deletable": true,
    "editable": true
   },
   "outputs": [],
   "source": [
    "#%loadpy /home/tony/Desktop/CLaw/plotgain.py"
   ]
  },
  {
   "cell_type": "code",
   "execution_count": null,
   "metadata": {
    "collapsed": false,
    "deletable": true,
    "editable": true
   },
   "outputs": [],
   "source": [
    "print len(gains[0])"
   ]
  },
  {
   "cell_type": "code",
   "execution_count": null,
   "metadata": {
    "collapsed": false,
    "deletable": true,
    "editable": true
   },
   "outputs": [],
   "source": [
    "print numpy.sqrt([3])"
   ]
  },
  {
   "cell_type": "code",
   "execution_count": null,
   "metadata": {
    "collapsed": false,
    "deletable": true,
    "editable": true
   },
   "outputs": [],
   "source": []
  }
 ],
 "metadata": {
  "kernelspec": {
   "display_name": "Python 2",
   "language": "python",
   "name": "python2"
  },
  "language_info": {
   "codemirror_mode": {
    "name": "ipython",
    "version": 2
   },
   "file_extension": ".py",
   "mimetype": "text/x-python",
   "name": "python",
   "nbconvert_exporter": "python",
   "pygments_lexer": "ipython2",
   "version": "2.7.6"
  }
 },
 "nbformat": 4,
 "nbformat_minor": 0
}
