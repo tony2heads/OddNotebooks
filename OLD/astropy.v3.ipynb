{
 "metadata": {
  "kernelspec": {
   "display_name": "Python 2",
   "language": "python",
   "name": "python2"
  },
  "language_info": {
   "codemirror_mode": {
    "name": "ipython",
    "version": 2
   },
   "file_extension": ".py",
   "mimetype": "text/x-python",
   "name": "python",
   "nbconvert_exporter": "python",
   "pygments_lexer": "ipython2",
   "version": "2.7.3"
  },
  "name": ""
 },
 "nbformat": 3,
 "nbformat_minor": 0,
 "worksheets": [
  {
   "cells": [
    {
     "cell_type": "code",
     "collapsed": false,
     "input": [
      "from astropy import units as u\n",
      "from astropy import constants as c\n",
      "print c.G"
     ],
     "language": "python",
     "metadata": {},
     "outputs": [
      {
       "output_type": "stream",
       "stream": "stdout",
       "text": [
        "  Name   = Gravitational constant\n",
        "  Value  = 6.67384e-11\n",
        "  Error  = 8e-15\n",
        "  Units  = m3 / (kg s2)\n",
        "  Reference = CODATA 2010\n"
       ]
      }
     ],
     "prompt_number": 41
    },
    {
     "cell_type": "code",
     "collapsed": false,
     "input": [
      "F=(c.G* (3*c.M_sun)*(2*u.kg)/(1.5*u.au)**2)\n",
      "x=F.to(u.N)\n",
      "print x,F"
     ],
     "language": "python",
     "metadata": {},
     "outputs": [
      {
       "output_type": "stream",
       "stream": "stdout",
       "text": [
        "0.0158179542881 N 3.53998270507e+20 kg m3 / (AU2 s2)\n"
       ]
      }
     ],
     "prompt_number": 42
    },
    {
     "cell_type": "code",
     "collapsed": false,
     "input": [
      "from astropy.time import Time\n",
      "t=Time(\"2010-06-01 00:00:00\",format=\"iso\",scale=\"utc\")\n",
      "print t, t.jd, t.tt, t.tt.jd"
     ],
     "language": "python",
     "metadata": {},
     "outputs": [
      {
       "output_type": "stream",
       "stream": "stdout",
       "text": [
        "2010-06-01 00:00:00.000 2455348.5 2010-06-01 00:01:06.184 2455348.50077\n"
       ]
      }
     ],
     "prompt_number": 43
    },
    {
     "cell_type": "code",
     "collapsed": false,
     "input": [
      "import astropy.coordinates as coords\n",
      "c=coords.SkyCoord(\"00h42m44.3s +41d16m9s\")\n",
      "print c.ra,c.dec, c.ra.hms\n",
      "print c.galactic.l, c.galactic.b\n",
      "m32=coords.get_icrs_coordinates(\"M32\") #simbad lookup\n",
      "print m32"
     ],
     "language": "python",
     "metadata": {},
     "outputs": [
      {
       "output_type": "stream",
       "stream": "stdout",
       "text": [
        "10d41m04.5s 41d16m09s hms_tuple(h=0.0, m=42.0, s=44.30000000000021)\n",
        "121d10m27.4987s -21d34m22.0925s\n",
        "<SkyCoord (ICRS): ra=10.6742708 deg, dec=40.8651694 deg>\n"
       ]
      }
     ],
     "prompt_number": 44
    },
    {
     "cell_type": "code",
     "collapsed": false,
     "input": [
      "g = c.transform_to('galactic')\n",
      "lat=g.l.to_string(u.degree, sep=\":\", precision=3)\n",
      "print lat"
     ],
     "language": "python",
     "metadata": {},
     "outputs": [
      {
       "output_type": "stream",
       "stream": "stdout",
       "text": [
        "121:10:27.499\n"
       ]
      }
     ],
     "prompt_number": 45
    },
    {
     "cell_type": "code",
     "collapsed": false,
     "input": [
      "from astropy.cosmology import FlatLambdaCDM\n",
      "cosmo=FlatLambdaCDM(H0=70, Om0=0.3)\n",
      "print cosmo,cosmo.age(0)\n",
      "print cosmo.comoving_volume(6.5) #z=6.5\n",
      "print cosmo.kpc_proper_per_arcmin(4)*10/60 #10 arcseconds at z=4"
     ],
     "language": "python",
     "metadata": {},
     "outputs": [
      {
       "output_type": "stream",
       "stream": "stdout",
       "text": [
        "FlatLambdaCDM(H0=70 km / (Mpc s), Om0=0.3, Tcmb0=2.725 K, Neff=3.04, m_nu=[ 0.  0.  0.] eV) 13.461701658 Gyr\n",
        "2.52169619813e+12 Mpc3\n",
        "69.5074535899 kpc / arcmin\n"
       ]
      }
     ],
     "prompt_number": 46
    },
    {
     "cell_type": "code",
     "collapsed": false,
     "input": [
      "c.transform_to('galactic')"
     ],
     "language": "python",
     "metadata": {},
     "outputs": [
      {
       "metadata": {},
       "output_type": "pyout",
       "prompt_number": 47,
       "text": [
        "<SkyCoord (Galactic): l=121.174305193 deg, b=-21.5728034839 deg>"
       ]
      }
     ],
     "prompt_number": 47
    },
    {
     "cell_type": "code",
     "collapsed": true,
     "input": [],
     "language": "python",
     "metadata": {},
     "outputs": [],
     "prompt_number": null
    },
    {
     "cell_type": "code",
     "collapsed": true,
     "input": [],
     "language": "python",
     "metadata": {},
     "outputs": [],
     "prompt_number": null
    }
   ],
   "metadata": {}
  }
 ]
}