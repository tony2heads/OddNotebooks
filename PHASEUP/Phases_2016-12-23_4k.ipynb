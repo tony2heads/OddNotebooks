{
 "cells": [
  {
   "cell_type": "code",
   "execution_count": 35,
   "metadata": {
    "collapsed": true
   },
   "outputs": [],
   "source": [
    "import time\n"
   ]
  },
  {
   "cell_type": "code",
   "execution_count": 36,
   "metadata": {
    "collapsed": true
   },
   "outputs": [],
   "source": [
    "import katdal\n",
    "import numpy as np\n",
    "import pickle"
   ]
  },
  {
   "cell_type": "code",
   "execution_count": 37,
   "metadata": {
    "collapsed": true
   },
   "outputs": [],
   "source": [
    "np.set_printoptions(precision=1,suppress=True)"
   ]
  },
  {
   "cell_type": "code",
   "execution_count": 38,
   "metadata": {
    "collapsed": true
   },
   "outputs": [],
   "source": [
    "def target(h):\n",
    "    h.catalogue.remove('Nothing')\n",
    "    if len(h.catalogue) >0 :\n",
    "        tgt=str(h.catalogue.targets[0])[0:12]\n",
    "    else:\n",
    "        tgt=\"Nothing:Bad DATA\"\n",
    "    return tgt"
   ]
  },
  {
   "cell_type": "code",
   "execution_count": 39,
   "metadata": {
    "collapsed": true
   },
   "outputs": [],
   "source": [
    "def get_ants(h):\n",
    "    a_list=[]\n",
    "    aa=h.file['TelescopeState']['cal_antlist']\n",
    "    for i,ai in enumerate(aa):\n",
    "        a_list.append(pickle.loads(ai[1]))\n",
    "    a_array=np.array(a_list)\n",
    "    labels=a_array[0]\n",
    "    return labels"
   ]
  },
  {
   "cell_type": "code",
   "execution_count": 40,
   "metadata": {
    "collapsed": true
   },
   "outputs": [],
   "source": [
    "def phases(h):\n",
    "    g = h.file['TelescopeState']['cal_product_G']\n",
    "    g_list = []\n",
    "    for i, gi in enumerate(g):\n",
    "        g_list.append(pickle.loads(gi[1]))\n",
    "    g_array = np.array(g_list)\n",
    "    HH=g_array[:,0,:]\n",
    "    VV=g_array[:,1,:]\n",
    "    HHbefore=np.rad2deg(np.angle(HH)[0])\n",
    "    HHafter=np.rad2deg(np.angle(HH)[-1])\n",
    "    VVbefore=np.rad2deg(np.angle(VV)[0])\n",
    "    VVafter=np.rad2deg(np.angle(VV)[-1])\n",
    "    return HHbefore, HHafter,VVbefore,VVafter"
   ]
  },
  {
   "cell_type": "code",
   "execution_count": 41,
   "metadata": {
    "collapsed": true
   },
   "outputs": [],
   "source": [
    "def get_ut(f):\n",
    "    nn=int(f[-13:-3])\n",
    "    print nn\n",
    "    ut=time.asctime(time.gmtime(nn))\n",
    "    return ut"
   ]
  },
  {
   "cell_type": "code",
   "execution_count": 42,
   "metadata": {
    "collapsed": true
   },
   "outputs": [],
   "source": [
    "files=['/var/kat/archive2/data/MeerKATAR1/telescope_products/2016/12/23/1482495059.h5',\\\n",
    "      '/var/kat/archive2/data/MeerKATAR1/telescope_products/2016/12/23/1482496748.h5',\\\n",
    "      '/var/kat/archive2/data/MeerKATAR1/telescope_products/2016/12/24/1482566016.h5',\n",
    "      '/var/kat/archive2/data/MeerKATAR1/telescope_products/2016/12/24/1482566945.h5']"
   ]
  },
  {
   "cell_type": "code",
   "execution_count": 43,
   "metadata": {
    "collapsed": false
   },
   "outputs": [
    {
     "name": "stdout",
     "output_type": "stream",
     "text": [
      "1482495059\n",
      "Fri Dec 23 12:10:59 2016 1482495059 PKS 1934-63 \n",
      "['m003' 'm006' 'm008' 'm010' 'm014' 'm015' 'm022' 'm062' 'm063']\n",
      "[  0.  -40.4  46.4 -14.8  54.6 -23.3 -37.8  16.  -20.6] \n",
      "[  0.  -40.5  44.7 -16.3  55.1 -22.8 -38.7  17.3 -19.8] \n",
      "\n",
      "[  0.  -97.9 -13.5 -37.9 -45.8 -79.  -83.6 -74.1 -37.6] \n",
      "[  0.  -98.1 -15.3 -39.5 -45.4 -78.5 -84.6 -72.7 -36.8]\n",
      "1482496748\n",
      "Fri Dec 23 12:39:08 2016 1482496748 PKS 1934-63 \n",
      "['m003' 'm006' 'm008' 'm010' 'm014' 'm015' 'm022' 'm062' 'm063']\n",
      "[  0.  -28.   45.3 -10.8  56.4 -11.4 -22.6  25.9  -8.9] \n",
      "[  0.  -27.7  45.1  -9.9  56.6 -10.8 -23.5  23.5  -8.8] \n",
      "\n",
      "[  0.  -85.6 -18.  -28.4 -43.2 -66.6 -67.8 -62.4 -35.9] \n",
      "[  0.  -85.3 -18.2 -27.4 -42.9 -66.  -68.7 -64.8 -35.8]\n",
      "1482566016\n",
      "Sat Dec 24 07:53:36 2016 1482566016 PKS 1934-63 \n",
      "['m003' 'm006' 'm008' 'm010' 'm014' 'm015' 'm022' 'm062' 'm063']\n",
      "[  0.  -28.   45.3 -10.8  56.4 -11.4 -22.6  25.9  -8.9] \n",
      "[  0.   -8.6  -5.6  -6.4 -13.7  -3.4  -4.   47.  -70.9] \n",
      "\n",
      "[  0.  -85.6 -18.  -28.4 -43.2 -66.6 -67.8 -62.4 -35.9] \n",
      "[  0.    7.9   0.3   0.5  -6.7  -0.8   8.5  47.9 -64.1]\n",
      "1482566945\n",
      "Sat Dec 24 08:09:05 2016 1482566945 PKS 1934-63 \n",
      "['m003' 'm006' 'm008' 'm010' 'm014' 'm015' 'm022' 'm062' 'm063']\n",
      "[  0.  -28.   45.3 -10.8  56.4 -11.4 -22.6  25.9  -8.9] \n",
      "[  0.   -8.6  -5.6  -6.4 -13.7  -3.4  -4.   47.  -70.9] \n",
      "\n",
      "[  0.  -85.6 -18.  -28.4 -43.2 -66.6 -67.8 -62.4 -35.9] \n",
      "[  0.    7.9   0.3   0.5  -6.7  -0.8   8.5  47.9 -64.1]\n"
     ]
    }
   ],
   "source": [
    "for f in files:\n",
    "    h=katdal.open(f)\n",
    "    p=phases(h)\n",
    "    print get_ut(f), f[-13:-3], target(h)\n",
    "    print get_ants(h)\n",
    "    print p[0],\"\\n\",p[1],\"\\n\\n\",p[2],\"\\n\",p[3]\n",
    "    "
   ]
  }
 ],
 "metadata": {
  "kernelspec": {
   "display_name": "Python 2",
   "language": "python",
   "name": "python2"
  },
  "language_info": {
   "codemirror_mode": {
    "name": "ipython",
    "version": 2
   },
   "file_extension": ".py",
   "mimetype": "text/x-python",
   "name": "python",
   "nbconvert_exporter": "python",
   "pygments_lexer": "ipython2",
   "version": "2.7.6"
  }
 },
 "nbformat": 4,
 "nbformat_minor": 0
}
