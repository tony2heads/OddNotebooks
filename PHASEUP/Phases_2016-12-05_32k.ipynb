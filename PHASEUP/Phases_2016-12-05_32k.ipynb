{
 "cells": [
  {
   "cell_type": "code",
   "execution_count": 15,
   "metadata": {
    "collapsed": true
   },
   "outputs": [],
   "source": [
    "import katdal\n",
    "import numpy as np\n",
    "import pickle"
   ]
  },
  {
   "cell_type": "code",
   "execution_count": 16,
   "metadata": {
    "collapsed": true
   },
   "outputs": [],
   "source": [
    "import time"
   ]
  },
  {
   "cell_type": "code",
   "execution_count": 17,
   "metadata": {
    "collapsed": true
   },
   "outputs": [],
   "source": [
    "np.set_printoptions(precision=1,suppress=True)"
   ]
  },
  {
   "cell_type": "code",
   "execution_count": 18,
   "metadata": {
    "collapsed": true
   },
   "outputs": [],
   "source": [
    "def target(h):\n",
    "    h.catalogue.remove('Nothing')\n",
    "    if len(h.catalogue) >0 :\n",
    "        tgt=str(h.catalogue.targets[0])[0:12]\n",
    "    else:\n",
    "        tgt=\"Nothing:Bad DATA\"\n",
    "    return tgt"
   ]
  },
  {
   "cell_type": "code",
   "execution_count": 19,
   "metadata": {
    "collapsed": true
   },
   "outputs": [],
   "source": [
    "def get_ut(f):\n",
    "    nn=int(f[-13:-3])\n",
    "    print nn\n",
    "    ut=time.asctime(time.gmtime(nn))\n",
    "    return ut"
   ]
  },
  {
   "cell_type": "code",
   "execution_count": 20,
   "metadata": {
    "collapsed": true
   },
   "outputs": [],
   "source": [
    "def get_ants(h):\n",
    "    a_list=[]\n",
    "    aa=h.file['TelescopeState']['cal_antlist']\n",
    "    for i,ai in enumerate(aa):\n",
    "        a_list.append(pickle.loads(ai[1]))\n",
    "    a_array=np.array(a_list)\n",
    "    labels=a_array[0]\n",
    "    return labels"
   ]
  },
  {
   "cell_type": "code",
   "execution_count": 21,
   "metadata": {
    "collapsed": true
   },
   "outputs": [],
   "source": [
    "def phases(h):\n",
    "    g = h.file['TelescopeState']['cal_product_G']\n",
    "    g_list = []\n",
    "    for i, gi in enumerate(g):\n",
    "        g_list.append(pickle.loads(gi[1]))\n",
    "    g_array = np.array(g_list)\n",
    "    HH=g_array[:,0,:]\n",
    "    VV=g_array[:,1,:]\n",
    "    HHbefore=np.rad2deg(np.angle(HH)[0])\n",
    "    HHafter=np.rad2deg(np.angle(HH)[-1])\n",
    "    VVbefore=np.rad2deg(np.angle(VV)[0])\n",
    "    VVafter=np.rad2deg(np.angle(VV)[-1])\n",
    "    return HHbefore, HHafter,VVbefore,VVafter"
   ]
  },
  {
   "cell_type": "code",
   "execution_count": 22,
   "metadata": {
    "collapsed": true
   },
   "outputs": [],
   "source": [
    "files=['/var/kat/archive2/data/MeerKATAR1/telescope_products/2016/12/05/1480951380.h5',\\\n",
    "      '/var/kat/archive2/data/MeerKATAR1/telescope_products/2016/12/05/1480952018.h5',\\\n",
    "      '/var/kat/archive2/data/MeerKATAR1/telescope_products/2016/12/05/1480952745.h5',\\\n",
    "      '/var/kat/archive2/data/MeerKATAR1/telescope_products/2016/12/05/1480964718.h5',\n",
    "      '/var/kat/archive2/data/MeerKATAR1/telescope_products/2016/12/05/1480977085.h5']"
   ]
  },
  {
   "cell_type": "code",
   "execution_count": 23,
   "metadata": {
    "collapsed": false
   },
   "outputs": [
    {
     "name": "stdout",
     "output_type": "stream",
     "text": [
      "1480951380\n",
      "Mon Dec  5 15:23:00 2016 1480951380 PKS 1934-63 \n",
      "['m006' 'm007' 'm008' 'm010' 'm014' 'm015' 'm025' 'm031' 'm062' 'm063']\n",
      "[   8.8  -21.3    3.4    0.    10.9  -42.1 -104.9  -97.9  -16.7  -33.2] \n",
      "[   8.8  -21.2    3.2    0.    10.4  -42.2 -104.9  -98.   -16.8  -33.3] \n",
      "\n",
      "[  32.6   24.9   26.8    0.   -84.9 -122.5 -170.5  171.4 -152.8  -80.3] \n",
      "[  32.7   25.    26.9   -0.   -85.3 -122.5 -170.5  171.4 -152.8  -80.3]\n",
      "1480952018\n",
      "Mon Dec  5 15:33:38 2016 1480952018 PKS 1934-63 \n",
      "['m006' 'm007' 'm008' 'm010' 'm014' 'm015' 'm025' 'm031' 'm062' 'm063']\n",
      "[   8.8  -21.3    3.4    0.    10.9  -42.1 -104.9  -97.9  -16.7  -33.2] \n",
      "[-15.9 -20.6   6.8   0.   48.3  12.2 -61.7 -49.9  44.8  33. ] \n",
      "\n",
      "[  32.6   24.9   26.8    0.   -84.9 -122.5 -170.5  171.4 -152.8  -80.3] \n",
      "[  27.7   33.3   28.6    0.   -27.8  -64.8 -111.6  -46.9   26.4   11.3]\n",
      "1480952745\n",
      "Mon Dec  5 15:45:45 2016 1480952745 PKS 1934-63 \n",
      "['m006' 'm007' 'm008' 'm010' 'm014' 'm015' 'm025' 'm031' 'm062' 'm063']\n",
      "[   8.8  -21.3    3.4    0.    10.9  -42.1 -104.9  -97.9  -16.7  -33.2] \n",
      "[ 22.4   8.9  24.8   0.   81.1  53.  -34.  -15.8  83.   65.4] \n",
      "\n",
      "[  32.6   24.9   26.8    0.   -84.9 -122.5 -170.5  171.4 -152.8  -80.3] \n",
      "[  20.    25.3    5.1    0.  -179.3  153.1   95.5  170.2  134.6 -147.3]\n",
      "1480964718\n",
      "Mon Dec  5 19:05:18 2016 1480964718 PKS 0408-65 \n",
      "['m006' 'm007' 'm008' 'm010' 'm014' 'm015' 'm025' 'm031' 'm062' 'm063']\n",
      "[   8.8  -21.3    3.4    0.    10.9  -42.1 -104.9  -97.9  -16.7  -33.2] \n",
      "[-22.8  -9.7 -22.1   0.  -21.1 -26.    2.  -19.3 -16.1 -18.9] \n",
      "\n",
      "[  32.6   24.9   26.8    0.   -84.9 -122.5 -170.5  171.4 -152.8  -80.3] \n",
      "[  -2.2    4.8   14.1    0.  -158.1 -157.2 -141.6 -163.8 -150.4 -147.7]\n",
      "1480977085\n",
      "Mon Dec  5 22:31:25 2016 1480977085 PKS 0408-65 \n",
      "['m006' 'm007' 'm008' 'm010' 'm014' 'm015' 'm025' 'm031' 'm062' 'm063']\n",
      "[   8.8  -21.3    3.4    0.    10.9  -42.1 -104.9  -97.9  -16.7  -33.2] \n",
      "[-22.8  -9.7 -22.1   0.  -21.1 -26.    2.  -19.3 -16.1 -18.9] \n",
      "\n",
      "[  32.6   24.9   26.8    0.   -84.9 -122.5 -170.5  171.4 -152.8  -80.3] \n",
      "[  -2.2    4.8   14.1    0.  -158.1 -157.2 -141.6 -163.8 -150.4 -147.7]\n"
     ]
    }
   ],
   "source": [
    "for f in files:\n",
    "    h=katdal.open(f)\n",
    "    p=phases(h)\n",
    "    print get_ut(f),f[-13:-3], target(h)\n",
    "    print get_ants(h)\n",
    "    print p[0],\"\\n\",p[1],\"\\n\\n\",p[2],\"\\n\",p[3]\n",
    "    "
   ]
  }
 ],
 "metadata": {
  "kernelspec": {
   "display_name": "Python 2",
   "language": "python",
   "name": "python2"
  },
  "language_info": {
   "codemirror_mode": {
    "name": "ipython",
    "version": 2
   },
   "file_extension": ".py",
   "mimetype": "text/x-python",
   "name": "python",
   "nbconvert_exporter": "python",
   "pygments_lexer": "ipython2",
   "version": "2.7.6"
  }
 },
 "nbformat": 4,
 "nbformat_minor": 0
}
