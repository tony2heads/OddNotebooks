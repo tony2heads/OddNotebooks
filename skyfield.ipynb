{
 "cells": [
  {
   "cell_type": "code",
   "execution_count": 1,
   "metadata": {
    "collapsed": false
   },
   "outputs": [
    {
     "data": {
      "text/plain": [
       "'\\nstart this replacement for ephem\\nsudo pip install skyfield\\nsee \\nhttp://rhodesmill.org/skyfield/positions.html\\n'"
      ]
     },
     "execution_count": 1,
     "metadata": {},
     "output_type": "execute_result"
    }
   ],
   "source": [
    "\"\"\"\n",
    "start this replacement for ephem\n",
    "sudo pip install skyfield\n",
    "see \n",
    "http://rhodesmill.org/skyfield/positions.html\n",
    "\"\"\""
   ]
  },
  {
   "cell_type": "code",
   "execution_count": 2,
   "metadata": {
    "collapsed": false
   },
   "outputs": [
    {
     "name": "stdout",
     "output_type": "stream",
     "text": [
      "02h 59m 15.13s\n",
      "+17deg 07' 47.1\"\n",
      "2.44688872034 AU\n"
     ]
    }
   ],
   "source": [
    "from skyfield.api import earth, mars, now,sun\n",
    "ra, dec, distance = earth(now()).observe(mars).radec()\n",
    "\n",
    "print ra\n",
    "print dec\n",
    "print distance"
   ]
  },
  {
   "cell_type": "code",
   "execution_count": 3,
   "metadata": {
    "collapsed": false
   },
   "outputs": [
    {
     "name": "stdout",
     "output_type": "stream",
     "text": [
      "53deg 34' 12.3\"\n",
      "124deg 11' 41.3\"\n"
     ]
    }
   ],
   "source": [
    "boston = earth.topos('42.3583 N', '71.0636 W')\n",
    "alt, az, d = boston(now()).observe(mars).apparent().altaz()\n",
    "\n",
    "print alt\n",
    "print az"
   ]
  },
  {
   "cell_type": "code",
   "execution_count": 4,
   "metadata": {
    "collapsed": false
   },
   "outputs": [
    {
     "name": "stdout",
     "output_type": "stream",
     "text": [
      "[-0.16287311  0.88787399  0.38473904]\n",
      "[-4.71061475  2.32932129  1.11328106]\n"
     ]
    }
   ],
   "source": [
    "from skyfield.api import earth, jupiter\n",
    "print earth(utc=(1980, 1, 1)).position.AU\n",
    "print jupiter(utc=(1980, 1, 1)).position.AU"
   ]
  },
  {
   "cell_type": "code",
   "execution_count": 5,
   "metadata": {
    "collapsed": false
   },
   "outputs": [
    {
     "name": "stdout",
     "output_type": "stream",
     "text": [
      "[-4.54763822  1.44160883  0.72860876]\n",
      "10h 49m 38.71s\n",
      "+08deg 41' 00.6\"\n",
      "4.82598384993\n",
      "[-0.17461758  0.88567056  0.38384886]\n"
     ]
    }
   ],
   "source": [
    "astro = earth(utc=(1980, 1, 1)).observe(jupiter)\n",
    "print astro.position.AU\n",
    "ra, dec, distance = astro.radec()\n",
    "print ra.hstr()\n",
    "print dec.dstr()\n",
    "print distance.AU\n",
    "apparent = astro.apparent()\n",
    "print earth(utc=(2014, 1, 1)).position.AU\n",
    "ra, dec, distance = apparent.radec(epoch='date')"
   ]
  },
  {
   "cell_type": "code",
   "execution_count": 6,
   "metadata": {
    "collapsed": false
   },
   "outputs": [
    {
     "name": "stdout",
     "output_type": "stream",
     "text": [
      "-23deg 22' 47.8\"\n",
      "51deg 43' 29.6\"\n",
      "4.82600082194\n"
     ]
    }
   ],
   "source": [
    "boston = earth.topos('42.3583 N', '71.0603 W')\n",
    "astro = boston(utc=(1980, 1, 1)).observe(jupiter)\n",
    "alt, az, distance = astro.apparent().altaz()\n",
    "print alt.dstr()\n",
    "print az.dstr()\n",
    "print distance.AU"
   ]
  },
  {
   "cell_type": "code",
   "execution_count": 7,
   "metadata": {
    "collapsed": false
   },
   "outputs": [
    {
     "name": "stdout",
     "output_type": "stream",
     "text": [
      "2456675.50041\n"
     ]
    }
   ],
   "source": [
    "from skyfield.api import JulianDate\n",
    "jd=JulianDate(utc=(2014, 1, 18))\n",
    "print jd.tai"
   ]
  },
  {
   "cell_type": "code",
   "execution_count": 8,
   "metadata": {
    "collapsed": false
   },
   "outputs": [
    {
     "name": "stdout",
     "output_type": "stream",
     "text": [
      "[-0.17461758  0.88567056  0.38384886]\n",
      "[-0.17461758  0.88567056  0.38384886]\n"
     ]
    }
   ],
   "source": [
    "from skyfield.api import earth\n",
    "\n",
    "jd = JulianDate(utc=(2014, 1, 1))\n",
    "print earth(jd).position.AU\n",
    "\n",
    "print earth(utc=(2014, 1, 1)).position.AU"
   ]
  },
  {
   "cell_type": "code",
   "execution_count": 9,
   "metadata": {
    "collapsed": false
   },
   "outputs": [],
   "source": [
    "kat=earth.topos('30.72148 S','21.41068 E')"
   ]
  },
  {
   "cell_type": "code",
   "execution_count": 10,
   "metadata": {
    "collapsed": false
   },
   "outputs": [
    {
     "name": "stdout",
     "output_type": "stream",
     "text": [
      "<skyfield.jpllib.Ephemeris object at 0x36d7190>\n"
     ]
    }
   ],
   "source": [
    "kat.elevation=1038\n",
    "print kat.ephemeris"
   ]
  },
  {
   "cell_type": "code",
   "execution_count": 17,
   "metadata": {
    "collapsed": false
   },
   "outputs": [
    {
     "name": "stdout",
     "output_type": "stream",
     "text": [
      "02deg 33' 51.5\" 286deg 39' 17.6\"\n",
      "02h 06m 45.17s +12deg 49' 49.9\"\n"
     ]
    }
   ],
   "source": [
    "alt,az,d= kat(now()).observe(sun).apparent().altaz()\n",
    "print alt, az\n",
    "\n",
    "ra,dec,d = kat(now()).observe(sun).apparent().radec()\n",
    "print ra,dec"
   ]
  },
  {
   "cell_type": "code",
   "execution_count": 18,
   "metadata": {
    "collapsed": false
   },
   "outputs": [
    {
     "name": "stdout",
     "output_type": "stream",
     "text": [
      "02deg 33' 51.5\" 286deg 39' 17.6\" 1.00573102244 AU 02h 06m 45.17s +12deg 49' 49.9\" 4.82600082194 AU\n"
     ]
    }
   ],
   "source": [
    "print alt,az,d,ra,dec,distance"
   ]
  },
  {
   "cell_type": "code",
   "execution_count": 19,
   "metadata": {
    "collapsed": false
   },
   "outputs": [
    {
     "name": "stdout",
     "output_type": "stream",
     "text": [
      "[ 0.80033371  0.31381946 -0.51086524] [ 0.36505033 -0.93098779  0.        ] [ 0.4756093   0.18649152  0.85966081] 0.373686861091 -0.536190977086\n"
     ]
    }
   ],
   "source": [
    "print kat.up ,kat.west,kat.north, kat.longitude, kat.latitude"
   ]
  },
  {
   "cell_type": "code",
   "execution_count": 23,
   "metadata": {
    "collapsed": false
   },
   "outputs": [],
   "source": [
    "#from skyfield import coordinates as c\n",
    "from skyfield import starlib as src"
   ]
  },
  {
   "cell_type": "code",
   "execution_count": 27,
   "metadata": {
    "collapsed": false
   },
   "outputs": [],
   "source": [
    "x=src.Star(ra_hours=13.4,dec_degrees=-11.3)\n"
   ]
  },
  {
   "cell_type": "code",
   "execution_count": 30,
   "metadata": {
    "collapsed": false
   },
   "outputs": [
    {
     "name": "stdout",
     "output_type": "stream",
     "text": [
      "201deg 00' 00.0\" -11deg 18' 00.0\"\n"
     ]
    }
   ],
   "source": [
    "x.ra, x.dec #degrees!\n",
    "print x.ra, x.dec"
   ]
  },
  {
   "cell_type": "code",
   "execution_count": 31,
   "metadata": {
    "collapsed": false
   },
   "outputs": [],
   "source": [
    "o=x.observe_from(kat(now()))"
   ]
  },
  {
   "cell_type": "code",
   "execution_count": 32,
   "metadata": {
    "collapsed": false
   },
   "outputs": [
    {
     "name": "stdout",
     "output_type": "stream",
     "text": [
      "13h 24m 00.00s -11deg 18' 00.0\" 2.06264806247e+14 AU\n",
      "[ 0.00912619 -0.01323987 -0.00569901]\n"
     ]
    }
   ],
   "source": [
    "print o.radec()[0] , o.radec()[1], o.radec()[2]\n",
    "print o.velocity.AU_per_d"
   ]
  },
  {
   "cell_type": "code",
   "execution_count": 33,
   "metadata": {
    "collapsed": false
   },
   "outputs": [
    {
     "name": "stdout",
     "output_type": "stream",
     "text": [
      "1731.45684028\n"
     ]
    }
   ],
   "source": [
    "#astronomical unit\n",
    "AU=149597871. #km\n",
    "day=86400. #s\n",
    "print AU/day"
   ]
  },
  {
   "cell_type": "code",
   "execution_count": 34,
   "metadata": {
    "collapsed": false
   },
   "outputs": [
    {
     "data": {
      "text/plain": [
       "array([ 15.80161007, -22.92426899,  -9.86759058])"
      ]
     },
     "execution_count": 34,
     "metadata": {},
     "output_type": "execute_result"
    }
   ],
   "source": [
    "o.velocity.AU_per_d*AU/day"
   ]
  },
  {
   "cell_type": "code",
   "execution_count": 35,
   "metadata": {
    "collapsed": false
   },
   "outputs": [
    {
     "name": "stdout",
     "output_type": "stream",
     "text": [
      "[-30.13662418  -5.19261737  -2.15936024] (2014, 1, 1)\n",
      "[-10.60724784 -26.21181991 -11.18920372] (2014, 3, 1)\n",
      "[ 27.97301985  -9.32368551  -4.04534479] (2014, 6, 1)\n",
      "[ 10.51923357  25.70509408  10.96886246] (2014, 9, 1)\n"
     ]
    }
   ],
   "source": [
    "dates=[(2014, 1, 1), (2014, 3, 1),(2014,6,1),(2014,9,1) ]\n",
    "kms=149597871./86400 # from AU per day to km/s\n",
    "#print dates[0]\n",
    "for days in dates:\n",
    "    o=x.observe_from(kat(utc=days))\n",
    "    print o.velocity.AU_per_d*kms,days\n"
   ]
  },
  {
   "cell_type": "code",
   "execution_count": null,
   "metadata": {
    "collapsed": true
   },
   "outputs": [],
   "source": []
  },
  {
   "cell_type": "code",
   "execution_count": null,
   "metadata": {
    "collapsed": false
   },
   "outputs": [],
   "source": []
  }
 ],
 "metadata": {
  "kernelspec": {
   "display_name": "Python 2",
   "language": "python",
   "name": "python2"
  },
  "language_info": {
   "codemirror_mode": {
    "name": "ipython",
    "version": 2
   },
   "file_extension": ".py",
   "mimetype": "text/x-python",
   "name": "python",
   "nbconvert_exporter": "python",
   "pygments_lexer": "ipython2",
   "version": "2.7.3"
  }
 },
 "nbformat": 4,
 "nbformat_minor": 0
}
