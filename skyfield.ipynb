{
 "cells": [
  {
   "cell_type": "code",
   "execution_count": 3,
   "metadata": {},
   "outputs": [
    {
     "data": {
      "text/plain": [
       "'\\nstart this replacement for ephem\\nsudo pip install skyfield\\nsee \\nhttp://rhodesmill.org/skyfield/positions.html\\n'"
      ]
     },
     "execution_count": 3,
     "metadata": {},
     "output_type": "execute_result"
    }
   ],
   "source": [
    "\"\"\"\n",
    "start this replacement for ephem\n",
    "sudo pip install skyfield\n",
    "see \n",
    "http://rhodesmill.org/skyfield/positions.html\n",
    "\"\"\""
   ]
  },
  {
   "cell_type": "code",
   "execution_count": 15,
   "metadata": {},
   "outputs": [
    {
     "name": "stdout",
     "output_type": "stream",
     "text": [
      "17h 43m 19.17s\n",
      "-23deg 30' 35.7\"\n",
      "1.86516 au\n"
     ]
    }
   ],
   "source": [
    "from skyfield.api import earth, mars, now,sun\n",
    "from skyfield.api import load\n",
    "\n",
    "planets = load('de405.bsp')\n",
    "earth,mars=planets['earth'],planets['mars']\n",
    "#ts = load.timescale()\n",
    "ts = load.timescale(builtin=True)\n",
    "t = ts.now()\n",
    "ra, dec, distance = earth.at(t).observe(mars).radec()\n",
    "\n",
    "print ra\n",
    "print dec\n",
    "print distance"
   ]
  },
  {
   "cell_type": "code",
   "execution_count": 16,
   "metadata": {},
   "outputs": [
    {
     "ename": "AttributeError",
     "evalue": "'Geocentric' object has no attribute 'observe'",
     "output_type": "error",
     "traceback": [
      "\u001b[0;31m---------------------------------------------------------------------------\u001b[0m",
      "\u001b[0;31mAttributeError\u001b[0m                            Traceback (most recent call last)",
      "\u001b[0;32m<ipython-input-16-b2ed6eabd171>\u001b[0m in \u001b[0;36m<module>\u001b[0;34m()\u001b[0m\n\u001b[1;32m      1\u001b[0m \u001b[0;32mfrom\u001b[0m \u001b[0mskyfield\u001b[0m\u001b[0;34m.\u001b[0m\u001b[0mapi\u001b[0m \u001b[0;32mimport\u001b[0m \u001b[0mTopos\u001b[0m\u001b[0;34m,\u001b[0m \u001b[0mload\u001b[0m\u001b[0;34m,\u001b[0m \u001b[0mearth\u001b[0m\u001b[0;34m\u001b[0m\u001b[0m\n\u001b[1;32m      2\u001b[0m \u001b[0mboston\u001b[0m \u001b[0;34m=\u001b[0m \u001b[0mTopos\u001b[0m\u001b[0;34m(\u001b[0m\u001b[0;34m'42.3583 N'\u001b[0m\u001b[0;34m,\u001b[0m \u001b[0;34m'71.0636 W'\u001b[0m\u001b[0;34m)\u001b[0m\u001b[0;34m\u001b[0m\u001b[0m\n\u001b[0;32m----> 3\u001b[0;31m \u001b[0malt\u001b[0m\u001b[0;34m,\u001b[0m \u001b[0maz\u001b[0m\u001b[0;34m,\u001b[0m \u001b[0md\u001b[0m \u001b[0;34m=\u001b[0m \u001b[0mboston\u001b[0m\u001b[0;34m.\u001b[0m\u001b[0mat\u001b[0m\u001b[0;34m(\u001b[0m\u001b[0mt\u001b[0m\u001b[0;34m)\u001b[0m\u001b[0;34m.\u001b[0m\u001b[0mobserve\u001b[0m\u001b[0;34m(\u001b[0m\u001b[0mmars\u001b[0m\u001b[0;34m)\u001b[0m\u001b[0;34m.\u001b[0m\u001b[0mapparent\u001b[0m\u001b[0;34m(\u001b[0m\u001b[0;34m)\u001b[0m\u001b[0;34m.\u001b[0m\u001b[0maltaz\u001b[0m\u001b[0;34m(\u001b[0m\u001b[0;34m)\u001b[0m\u001b[0;34m\u001b[0m\u001b[0m\n\u001b[0m\u001b[1;32m      4\u001b[0m \u001b[0;34m\u001b[0m\u001b[0m\n\u001b[1;32m      5\u001b[0m \u001b[0;32mprint\u001b[0m \u001b[0malt\u001b[0m\u001b[0;34m\u001b[0m\u001b[0m\n",
      "\u001b[0;31mAttributeError\u001b[0m: 'Geocentric' object has no attribute 'observe'"
     ]
    }
   ],
   "source": [
    "from skyfield.api import Topos, load, earth\n",
    "boston = Topos('42.3583 N', '71.0636 W')\n",
    "alt, az, d = boston.at(t).observe(mars).apparent().altaz()\n",
    "\n",
    "print alt\n",
    "print az"
   ]
  },
  {
   "cell_type": "code",
   "execution_count": 10,
   "metadata": {},
   "outputs": [
    {
     "ename": "DeprecationError",
     "evalue": "Skyfield no longer auto-loads the planets.\n\nIf you simply want your old Skyfield script to start working again,\ndowngrade to Skyfield version 0.4 using a command like:\n\n        pip install skyfield==0.4\n\nTo upgrade your script to a modern version of Skyfield, find each place\nthat you loaded a body from the skyfield.api module and called it:\n\n        from skyfield.api import earth\n        position = earth(t)\n\nInstead, load the ephemeris like DE421 explicitly, look up the body in\nthe ephemeris, and use the method at() to generate a position:\n\n        from skyfield.api import load\n        planets = load('de421.bsp')\n        earth = planets['earth']\n        position = earth.at(t)\n\nMore documentation can be found at: http://rhodesmill.org/skyfield/",
     "output_type": "error",
     "traceback": [
      "\u001b[0;31m---------------------------------------------------------------------------\u001b[0m",
      "\u001b[0;31mDeprecationError\u001b[0m                          Traceback (most recent call last)",
      "\u001b[0;32m<ipython-input-10-6fb490ce0756>\u001b[0m in \u001b[0;36m<module>\u001b[0;34m()\u001b[0m\n\u001b[1;32m      1\u001b[0m \u001b[0;32mfrom\u001b[0m \u001b[0mskyfield\u001b[0m\u001b[0;34m.\u001b[0m\u001b[0mapi\u001b[0m \u001b[0;32mimport\u001b[0m \u001b[0mearth\u001b[0m\u001b[0;34m,\u001b[0m \u001b[0mjupiter\u001b[0m\u001b[0;34m\u001b[0m\u001b[0m\n\u001b[0;32m----> 2\u001b[0;31m \u001b[0;32mprint\u001b[0m \u001b[0mearth\u001b[0m\u001b[0;34m(\u001b[0m\u001b[0mutc\u001b[0m\u001b[0;34m=\u001b[0m\u001b[0;34m(\u001b[0m\u001b[0;36m1980\u001b[0m\u001b[0;34m,\u001b[0m \u001b[0;36m1\u001b[0m\u001b[0;34m,\u001b[0m \u001b[0;36m1\u001b[0m\u001b[0;34m)\u001b[0m\u001b[0;34m)\u001b[0m\u001b[0;34m.\u001b[0m\u001b[0mposition\u001b[0m\u001b[0;34m.\u001b[0m\u001b[0mAU\u001b[0m\u001b[0;34m\u001b[0m\u001b[0m\n\u001b[0m\u001b[1;32m      3\u001b[0m \u001b[0;32mprint\u001b[0m \u001b[0mjupiter\u001b[0m\u001b[0;34m(\u001b[0m\u001b[0mutc\u001b[0m\u001b[0;34m=\u001b[0m\u001b[0;34m(\u001b[0m\u001b[0;36m1980\u001b[0m\u001b[0;34m,\u001b[0m \u001b[0;36m1\u001b[0m\u001b[0;34m,\u001b[0m \u001b[0;36m1\u001b[0m\u001b[0;34m)\u001b[0m\u001b[0;34m)\u001b[0m\u001b[0;34m.\u001b[0m\u001b[0mposition\u001b[0m\u001b[0;34m.\u001b[0m\u001b[0mAU\u001b[0m\u001b[0;34m\u001b[0m\u001b[0m\n",
      "\u001b[0;32m/usr/local/lib/python2.7/dist-packages/skyfield/api.pyc\u001b[0m in \u001b[0;36m__call__\u001b[0;34m(self, *args, **kw)\u001b[0m\n\u001b[1;32m     54\u001b[0m         \u001b[0mplanets\u001b[0m \u001b[0;34m=\u001b[0m \u001b[0mload\u001b[0m\u001b[0;34m(\u001b[0m\u001b[0;34m'de421.bsp'\u001b[0m\u001b[0;34m)\u001b[0m\u001b[0;34m\u001b[0m\u001b[0m\n\u001b[1;32m     55\u001b[0m         \u001b[0;34m{\u001b[0m\u001b[0mbody\u001b[0m\u001b[0;34m}\u001b[0m \u001b[0;34m=\u001b[0m \u001b[0mplanets\u001b[0m\u001b[0;34m[\u001b[0m\u001b[0;34m'{body}'\u001b[0m\u001b[0;34m]\u001b[0m\u001b[0;34m\u001b[0m\u001b[0m\n\u001b[0;32m---> 56\u001b[0;31m         \u001b[0mposition\u001b[0m \u001b[0;34m=\u001b[0m \u001b[0;34m{\u001b[0m\u001b[0mbody\u001b[0m\u001b[0;34m}\u001b[0m\u001b[0;34m.\u001b[0m\u001b[0mat\u001b[0m\u001b[0;34m(\u001b[0m\u001b[0mt\u001b[0m\u001b[0;34m)\u001b[0m\u001b[0;34m\u001b[0m\u001b[0m\n\u001b[0m\u001b[1;32m     57\u001b[0m \u001b[0;34m\u001b[0m\u001b[0m\n\u001b[1;32m     58\u001b[0m More documentation can be found at: http://rhodesmill.org/skyfield/\"\"\"\n",
      "\u001b[0;31mDeprecationError\u001b[0m: Skyfield no longer auto-loads the planets.\n\nIf you simply want your old Skyfield script to start working again,\ndowngrade to Skyfield version 0.4 using a command like:\n\n        pip install skyfield==0.4\n\nTo upgrade your script to a modern version of Skyfield, find each place\nthat you loaded a body from the skyfield.api module and called it:\n\n        from skyfield.api import earth\n        position = earth(t)\n\nInstead, load the ephemeris like DE421 explicitly, look up the body in\nthe ephemeris, and use the method at() to generate a position:\n\n        from skyfield.api import load\n        planets = load('de421.bsp')\n        earth = planets['earth']\n        position = earth.at(t)\n\nMore documentation can be found at: http://rhodesmill.org/skyfield/"
     ]
    }
   ],
   "source": [
    "from skyfield.api import earth, jupiter\n",
    "print earth(utc=(1980, 1, 1)).position.AU\n",
    "print jupiter(utc=(1980, 1, 1)).position.AU"
   ]
  },
  {
   "cell_type": "code",
   "execution_count": null,
   "metadata": {},
   "outputs": [],
   "source": [
    "astro = earth(utc=(1980, 1, 1)).observe(jupiter)\n",
    "print astro.position.AU\n",
    "ra, dec, distance = astro.radec()\n",
    "print ra.hstr()\n",
    "print dec.dstr()\n",
    "print distance.AU\n",
    "apparent = astro.apparent()\n",
    "print earth(utc=(2014, 1, 1)).position.AU\n",
    "ra, dec, distance = apparent.radec(epoch='date')"
   ]
  },
  {
   "cell_type": "code",
   "execution_count": null,
   "metadata": {},
   "outputs": [],
   "source": [
    "boston = earth.topos('42.3583 N', '71.0603 W')\n",
    "astro = boston(utc=(1980, 1, 1)).observe(jupiter)\n",
    "alt, az, distance = astro.apparent().altaz()\n",
    "print alt.dstr()\n",
    "print az.dstr()\n",
    "print distance.AU"
   ]
  },
  {
   "cell_type": "code",
   "execution_count": null,
   "metadata": {},
   "outputs": [],
   "source": [
    "from skyfield.api import JulianDate\n",
    "jd=JulianDate(utc=(2014, 1, 18))\n",
    "print jd.tai"
   ]
  },
  {
   "cell_type": "code",
   "execution_count": null,
   "metadata": {},
   "outputs": [],
   "source": [
    "from skyfield.api import earth\n",
    "\n",
    "jd = JulianDate(utc=(2014, 1, 1))\n",
    "print earth(jd).position.AU\n",
    "\n",
    "print earth(utc=(2014, 1, 1)).position.AU"
   ]
  },
  {
   "cell_type": "code",
   "execution_count": null,
   "metadata": {},
   "outputs": [],
   "source": [
    "kat=earth.topos('30.72148 S','21.41068 E')"
   ]
  },
  {
   "cell_type": "code",
   "execution_count": null,
   "metadata": {},
   "outputs": [],
   "source": [
    "kat.elevation=1038\n",
    "print kat.ephemeris"
   ]
  },
  {
   "cell_type": "code",
   "execution_count": null,
   "metadata": {},
   "outputs": [],
   "source": [
    "alt,az,d= kat(now()).observe(sun).apparent().altaz()\n",
    "print alt, az\n",
    "\n",
    "ra,dec,d = kat(now()).observe(sun).apparent().radec()\n",
    "print ra,dec"
   ]
  },
  {
   "cell_type": "code",
   "execution_count": null,
   "metadata": {},
   "outputs": [],
   "source": [
    "print alt,az,d,ra,dec,distance"
   ]
  },
  {
   "cell_type": "code",
   "execution_count": null,
   "metadata": {},
   "outputs": [],
   "source": [
    "print kat.up ,kat.west,kat.north, kat.longitude, kat.latitude"
   ]
  },
  {
   "cell_type": "code",
   "execution_count": null,
   "metadata": {},
   "outputs": [],
   "source": [
    "#from skyfield import coordinates as c\n",
    "from skyfield import starlib as src"
   ]
  },
  {
   "cell_type": "code",
   "execution_count": null,
   "metadata": {},
   "outputs": [],
   "source": [
    "x=src.Star(ra_hours=13.4,dec_degrees=-11.3)\n"
   ]
  },
  {
   "cell_type": "code",
   "execution_count": null,
   "metadata": {},
   "outputs": [],
   "source": [
    "x.ra, x.dec #degrees!\n",
    "print x.ra, x.dec"
   ]
  },
  {
   "cell_type": "code",
   "execution_count": null,
   "metadata": {},
   "outputs": [],
   "source": [
    "o=x.observe_from(kat(now()))"
   ]
  },
  {
   "cell_type": "code",
   "execution_count": null,
   "metadata": {},
   "outputs": [],
   "source": [
    "print o.radec()[0] , o.radec()[1], o.radec()[2]\n",
    "print o.velocity.AU_per_d"
   ]
  },
  {
   "cell_type": "code",
   "execution_count": null,
   "metadata": {},
   "outputs": [],
   "source": [
    "#astronomical unit\n",
    "AU=149597871. #km\n",
    "day=86400. #s\n",
    "print AU/day"
   ]
  },
  {
   "cell_type": "code",
   "execution_count": null,
   "metadata": {},
   "outputs": [],
   "source": [
    "o.velocity.AU_per_d*AU/day"
   ]
  },
  {
   "cell_type": "code",
   "execution_count": null,
   "metadata": {},
   "outputs": [],
   "source": [
    "dates=[(2014, 1, 1), (2014, 3, 1),(2014,6,1),(2014,9,1) ]\n",
    "kms=149597871./86400 # from AU per day to km/s\n",
    "#print dates[0]\n",
    "for days in dates:\n",
    "    o=x.observe_from(kat(utc=days))\n",
    "    print o.velocity.AU_per_d*kms,days\n"
   ]
  },
  {
   "cell_type": "code",
   "execution_count": null,
   "metadata": {},
   "outputs": [],
   "source": []
  },
  {
   "cell_type": "code",
   "execution_count": null,
   "metadata": {},
   "outputs": [],
   "source": []
  }
 ],
 "metadata": {
  "kernelspec": {
   "display_name": "Python 2",
   "language": "python",
   "name": "python2"
  },
  "language_info": {
   "codemirror_mode": {
    "name": "ipython",
    "version": 2
   },
   "file_extension": ".py",
   "mimetype": "text/x-python",
   "name": "python",
   "nbconvert_exporter": "python",
   "pygments_lexer": "ipython2",
   "version": "2.7.17"
  }
 },
 "nbformat": 4,
 "nbformat_minor": 1
}
