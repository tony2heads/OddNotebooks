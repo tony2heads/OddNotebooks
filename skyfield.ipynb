{
 "cells": [
  {
   "cell_type": "code",
   "execution_count": 3,
   "metadata": {
    "collapsed": false,
    "deletable": true,
    "editable": true
   },
   "outputs": [
    {
     "data": {
      "text/plain": [
       "'\\nstart this replacement for ephem\\nsudo pip install skyfield\\nsee \\nhttp://rhodesmill.org/skyfield/positions.html\\n'"
      ]
     },
     "execution_count": 3,
     "metadata": {},
     "output_type": "execute_result"
    }
   ],
   "source": [
    "\"\"\"\n",
    "start this replacement for ephem\n",
    "sudo pip install skyfield\n",
    "see \n",
    "http://rhodesmill.org/skyfield/positions.html\n",
    "\"\"\""
   ]
  },
  {
   "cell_type": "code",
   "execution_count": 4,
   "metadata": {
    "collapsed": false,
    "deletable": true,
    "editable": true
   },
   "outputs": [
    {
     "ename": "DeprecationError",
     "evalue": "Skyfield no longer supports a standalone now() function\n\nIf you need to quickly get an old Skyfield script working again, simply\ndowngrade to Skyfield version 0.6.1 using a command like:\n\n        pip install skyfield==0.6.1\n\nSkyfield used to provide a now() method returning the current time:\n\n        t = now()                      # the old way\n\nBut this forced Skyfield to maintain secret global copies of several\ntime scale data files, that need to be downloaded and kept up to date.\nSkyfield now makes the collection of data files explicit, and calls the\nbundle of files a \"Timescale\" object.  You can create one with the\n\"load.timescale()\" method and then call its now() method:\n\n        from skyfield.api import load\n        ts = load.timescale()\n        t = ts.now()                   # the new way",
     "output_type": "error",
     "traceback": [
      "\u001b[0;31m---------------------------------------------------------------------------\u001b[0m",
      "\u001b[0;31mDeprecationError\u001b[0m                          Traceback (most recent call last)",
      "\u001b[0;32m<ipython-input-4-6e44d27447d9>\u001b[0m in \u001b[0;36m<module>\u001b[0;34m()\u001b[0m\n\u001b[1;32m      1\u001b[0m \u001b[0;32mfrom\u001b[0m \u001b[0mskyfield\u001b[0m\u001b[0;34m.\u001b[0m\u001b[0mapi\u001b[0m \u001b[0;32mimport\u001b[0m \u001b[0mearth\u001b[0m\u001b[0;34m,\u001b[0m \u001b[0mmars\u001b[0m\u001b[0;34m,\u001b[0m \u001b[0mnow\u001b[0m\u001b[0;34m,\u001b[0m\u001b[0msun\u001b[0m\u001b[0;34m\u001b[0m\u001b[0m\n\u001b[0;32m----> 2\u001b[0;31m \u001b[0mra\u001b[0m\u001b[0;34m,\u001b[0m \u001b[0mdec\u001b[0m\u001b[0;34m,\u001b[0m \u001b[0mdistance\u001b[0m \u001b[0;34m=\u001b[0m \u001b[0mearth\u001b[0m\u001b[0;34m(\u001b[0m\u001b[0mnow\u001b[0m\u001b[0;34m(\u001b[0m\u001b[0;34m)\u001b[0m\u001b[0;34m)\u001b[0m\u001b[0;34m.\u001b[0m\u001b[0mobserve\u001b[0m\u001b[0;34m(\u001b[0m\u001b[0mmars\u001b[0m\u001b[0;34m)\u001b[0m\u001b[0;34m.\u001b[0m\u001b[0mradec\u001b[0m\u001b[0;34m(\u001b[0m\u001b[0;34m)\u001b[0m\u001b[0;34m\u001b[0m\u001b[0m\n\u001b[0m\u001b[1;32m      3\u001b[0m \u001b[0;34m\u001b[0m\u001b[0m\n\u001b[1;32m      4\u001b[0m \u001b[0;32mprint\u001b[0m \u001b[0mra\u001b[0m\u001b[0;34m\u001b[0m\u001b[0m\n\u001b[1;32m      5\u001b[0m \u001b[0;32mprint\u001b[0m \u001b[0mdec\u001b[0m\u001b[0;34m\u001b[0m\u001b[0m\n",
      "\u001b[0;32m/usr/local/lib/python2.7/dist-packages/skyfield/api.pyc\u001b[0m in \u001b[0;36mnow\u001b[0;34m()\u001b[0m\n\u001b[1;32m    113\u001b[0m         \u001b[0;32mfrom\u001b[0m \u001b[0mskyfield\u001b[0m\u001b[0;34m.\u001b[0m\u001b[0mapi\u001b[0m \u001b[0;32mimport\u001b[0m \u001b[0mload\u001b[0m\u001b[0;34m\u001b[0m\u001b[0m\n\u001b[1;32m    114\u001b[0m         \u001b[0mts\u001b[0m \u001b[0;34m=\u001b[0m \u001b[0mload\u001b[0m\u001b[0;34m.\u001b[0m\u001b[0mtimescale\u001b[0m\u001b[0;34m(\u001b[0m\u001b[0;34m)\u001b[0m\u001b[0;34m\u001b[0m\u001b[0m\n\u001b[0;32m--> 115\u001b[0;31m         \u001b[0mt\u001b[0m \u001b[0;34m=\u001b[0m \u001b[0mts\u001b[0m\u001b[0;34m.\u001b[0m\u001b[0mnow\u001b[0m\u001b[0;34m(\u001b[0m\u001b[0;34m)\u001b[0m                   \u001b[0;31m# the new way\"\"\")\u001b[0m\u001b[0;34m\u001b[0m\u001b[0m\n\u001b[0m\u001b[1;32m    116\u001b[0m \u001b[0;34m\u001b[0m\u001b[0m\n\u001b[1;32m    117\u001b[0m \u001b[0;32mclass\u001b[0m \u001b[0mJulianDate\u001b[0m\u001b[0;34m(\u001b[0m\u001b[0mobject\u001b[0m\u001b[0;34m)\u001b[0m\u001b[0;34m:\u001b[0m\u001b[0;34m\u001b[0m\u001b[0m\n",
      "\u001b[0;31mDeprecationError\u001b[0m: Skyfield no longer supports a standalone now() function\n\nIf you need to quickly get an old Skyfield script working again, simply\ndowngrade to Skyfield version 0.6.1 using a command like:\n\n        pip install skyfield==0.6.1\n\nSkyfield used to provide a now() method returning the current time:\n\n        t = now()                      # the old way\n\nBut this forced Skyfield to maintain secret global copies of several\ntime scale data files, that need to be downloaded and kept up to date.\nSkyfield now makes the collection of data files explicit, and calls the\nbundle of files a \"Timescale\" object.  You can create one with the\n\"load.timescale()\" method and then call its now() method:\n\n        from skyfield.api import load\n        ts = load.timescale()\n        t = ts.now()                   # the new way"
     ]
    }
   ],
   "source": [
    "from skyfield.api import earth, mars, now,sun\n",
    "ra, dec, distance = earth(now()).observe(mars).radec()\n",
    "\n",
    "print ra\n",
    "print dec\n",
    "print distance"
   ]
  },
  {
   "cell_type": "code",
   "execution_count": null,
   "metadata": {
    "collapsed": false,
    "deletable": true,
    "editable": true
   },
   "outputs": [],
   "source": [
    "boston = earth.topos('42.3583 N', '71.0636 W')\n",
    "alt, az, d = boston(now()).observe(mars).apparent().altaz()\n",
    "\n",
    "print alt\n",
    "print az"
   ]
  },
  {
   "cell_type": "code",
   "execution_count": null,
   "metadata": {
    "collapsed": false,
    "deletable": true,
    "editable": true
   },
   "outputs": [],
   "source": [
    "from skyfield.api import earth, jupiter\n",
    "print earth(utc=(1980, 1, 1)).position.AU\n",
    "print jupiter(utc=(1980, 1, 1)).position.AU"
   ]
  },
  {
   "cell_type": "code",
   "execution_count": null,
   "metadata": {
    "collapsed": false,
    "deletable": true,
    "editable": true
   },
   "outputs": [],
   "source": [
    "astro = earth(utc=(1980, 1, 1)).observe(jupiter)\n",
    "print astro.position.AU\n",
    "ra, dec, distance = astro.radec()\n",
    "print ra.hstr()\n",
    "print dec.dstr()\n",
    "print distance.AU\n",
    "apparent = astro.apparent()\n",
    "print earth(utc=(2014, 1, 1)).position.AU\n",
    "ra, dec, distance = apparent.radec(epoch='date')"
   ]
  },
  {
   "cell_type": "code",
   "execution_count": null,
   "metadata": {
    "collapsed": false,
    "deletable": true,
    "editable": true
   },
   "outputs": [],
   "source": [
    "boston = earth.topos('42.3583 N', '71.0603 W')\n",
    "astro = boston(utc=(1980, 1, 1)).observe(jupiter)\n",
    "alt, az, distance = astro.apparent().altaz()\n",
    "print alt.dstr()\n",
    "print az.dstr()\n",
    "print distance.AU"
   ]
  },
  {
   "cell_type": "code",
   "execution_count": null,
   "metadata": {
    "collapsed": false,
    "deletable": true,
    "editable": true
   },
   "outputs": [],
   "source": [
    "from skyfield.api import JulianDate\n",
    "jd=JulianDate(utc=(2014, 1, 18))\n",
    "print jd.tai"
   ]
  },
  {
   "cell_type": "code",
   "execution_count": null,
   "metadata": {
    "collapsed": false,
    "deletable": true,
    "editable": true
   },
   "outputs": [],
   "source": [
    "from skyfield.api import earth\n",
    "\n",
    "jd = JulianDate(utc=(2014, 1, 1))\n",
    "print earth(jd).position.AU\n",
    "\n",
    "print earth(utc=(2014, 1, 1)).position.AU"
   ]
  },
  {
   "cell_type": "code",
   "execution_count": null,
   "metadata": {
    "collapsed": false,
    "deletable": true,
    "editable": true
   },
   "outputs": [],
   "source": [
    "kat=earth.topos('30.72148 S','21.41068 E')"
   ]
  },
  {
   "cell_type": "code",
   "execution_count": null,
   "metadata": {
    "collapsed": false,
    "deletable": true,
    "editable": true
   },
   "outputs": [],
   "source": [
    "kat.elevation=1038\n",
    "print kat.ephemeris"
   ]
  },
  {
   "cell_type": "code",
   "execution_count": null,
   "metadata": {
    "collapsed": false,
    "deletable": true,
    "editable": true
   },
   "outputs": [],
   "source": [
    "alt,az,d= kat(now()).observe(sun).apparent().altaz()\n",
    "print alt, az\n",
    "\n",
    "ra,dec,d = kat(now()).observe(sun).apparent().radec()\n",
    "print ra,dec"
   ]
  },
  {
   "cell_type": "code",
   "execution_count": null,
   "metadata": {
    "collapsed": false,
    "deletable": true,
    "editable": true
   },
   "outputs": [],
   "source": [
    "print alt,az,d,ra,dec,distance"
   ]
  },
  {
   "cell_type": "code",
   "execution_count": null,
   "metadata": {
    "collapsed": false,
    "deletable": true,
    "editable": true
   },
   "outputs": [],
   "source": [
    "print kat.up ,kat.west,kat.north, kat.longitude, kat.latitude"
   ]
  },
  {
   "cell_type": "code",
   "execution_count": null,
   "metadata": {
    "collapsed": false,
    "deletable": true,
    "editable": true
   },
   "outputs": [],
   "source": [
    "#from skyfield import coordinates as c\n",
    "from skyfield import starlib as src"
   ]
  },
  {
   "cell_type": "code",
   "execution_count": null,
   "metadata": {
    "collapsed": false,
    "deletable": true,
    "editable": true
   },
   "outputs": [],
   "source": [
    "x=src.Star(ra_hours=13.4,dec_degrees=-11.3)\n"
   ]
  },
  {
   "cell_type": "code",
   "execution_count": null,
   "metadata": {
    "collapsed": false,
    "deletable": true,
    "editable": true
   },
   "outputs": [],
   "source": [
    "x.ra, x.dec #degrees!\n",
    "print x.ra, x.dec"
   ]
  },
  {
   "cell_type": "code",
   "execution_count": null,
   "metadata": {
    "collapsed": false,
    "deletable": true,
    "editable": true
   },
   "outputs": [],
   "source": [
    "o=x.observe_from(kat(now()))"
   ]
  },
  {
   "cell_type": "code",
   "execution_count": null,
   "metadata": {
    "collapsed": false,
    "deletable": true,
    "editable": true
   },
   "outputs": [],
   "source": [
    "print o.radec()[0] , o.radec()[1], o.radec()[2]\n",
    "print o.velocity.AU_per_d"
   ]
  },
  {
   "cell_type": "code",
   "execution_count": null,
   "metadata": {
    "collapsed": false,
    "deletable": true,
    "editable": true
   },
   "outputs": [],
   "source": [
    "#astronomical unit\n",
    "AU=149597871. #km\n",
    "day=86400. #s\n",
    "print AU/day"
   ]
  },
  {
   "cell_type": "code",
   "execution_count": null,
   "metadata": {
    "collapsed": false,
    "deletable": true,
    "editable": true
   },
   "outputs": [],
   "source": [
    "o.velocity.AU_per_d*AU/day"
   ]
  },
  {
   "cell_type": "code",
   "execution_count": null,
   "metadata": {
    "collapsed": false,
    "deletable": true,
    "editable": true
   },
   "outputs": [],
   "source": [
    "dates=[(2014, 1, 1), (2014, 3, 1),(2014,6,1),(2014,9,1) ]\n",
    "kms=149597871./86400 # from AU per day to km/s\n",
    "#print dates[0]\n",
    "for days in dates:\n",
    "    o=x.observe_from(kat(utc=days))\n",
    "    print o.velocity.AU_per_d*kms,days\n"
   ]
  },
  {
   "cell_type": "code",
   "execution_count": null,
   "metadata": {
    "collapsed": true,
    "deletable": true,
    "editable": true
   },
   "outputs": [],
   "source": []
  },
  {
   "cell_type": "code",
   "execution_count": null,
   "metadata": {
    "collapsed": false,
    "deletable": true,
    "editable": true
   },
   "outputs": [],
   "source": []
  }
 ],
 "metadata": {
  "kernelspec": {
   "display_name": "Python 2",
   "language": "python",
   "name": "python2"
  },
  "language_info": {
   "codemirror_mode": {
    "name": "ipython",
    "version": 2
   },
   "file_extension": ".py",
   "mimetype": "text/x-python",
   "name": "python",
   "nbconvert_exporter": "python",
   "pygments_lexer": "ipython2",
   "version": "2.7.6"
  }
 },
 "nbformat": 4,
 "nbformat_minor": 0
}
