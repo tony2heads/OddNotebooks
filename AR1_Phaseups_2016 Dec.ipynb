{
 "cells": [
  {
   "cell_type": "code",
   "execution_count": 1,
   "metadata": {
    "collapsed": false
   },
   "outputs": [],
   "source": [
    "%matplotlib inline\n",
    "import numpy as np"
   ]
  },
  {
   "cell_type": "code",
   "execution_count": 2,
   "metadata": {
    "collapsed": true
   },
   "outputs": [],
   "source": [
    "import matplotlib.pyplot as plt"
   ]
  },
  {
   "cell_type": "code",
   "execution_count": 3,
   "metadata": {
    "collapsed": false
   },
   "outputs": [],
   "source": [
    "import katarchive\n",
    "\n",
    "import datetime\n",
    "\n",
    "import logging\n",
    "logging.root.setLevel(logging.ERROR)\n"
   ]
  },
  {
   "cell_type": "code",
   "execution_count": 4,
   "metadata": {
    "collapsed": false
   },
   "outputs": [],
   "source": [
    "katarchive.product_filter.only_ar1()\n",
    "\n",
    "begin=\"01/12/2016\"\n",
    "end=\"31/12/2016\"  \n"
   ]
  },
  {
   "cell_type": "code",
   "execution_count": 5,
   "metadata": {
    "collapsed": false
   },
   "outputs": [],
   "source": [
    "Outfile=open('Dec_Phaseups.txt', 'w')"
   ]
  },
  {
   "cell_type": "code",
   "execution_count": 6,
   "metadata": {
    "collapsed": false
   },
   "outputs": [],
   "source": [
    "def channels(details):\n",
    "    ch32k=\"32768\"\n",
    "    mode=\"4k\" # default\n",
    "    if ch32k in details:\n",
    "        mode=\"32k\"\n",
    "    return mode\n"
   ]
  },
  {
   "cell_type": "code",
   "execution_count": 7,
   "metadata": {
    "collapsed": false
   },
   "outputs": [
    {
     "name": "stdout",
     "output_type": "stream",
     "text": [
      "Searched using: CAS.ProductTypeName:(MeerKATAR1TelescopeProduct) AND CAS.ProductTransferStatus:RECEIVED AND Description:Phaseup AND StartTime:[2016-11-30T22:00:00Z TO 2016-12-31T21:59:59Z]\n",
      "Returning 106 results\n",
      "[['1483192805.h5', '2016-12-31 16:00:07 SAST', 'AR1', 1223970389], ['1483104972.h5', '2016-12-30 15:36:13 SAST', 'Moloko', 783692394], ['1483104488.h5', '2016-12-30 15:28:09 SAST', 'Moloko', 755699894], ['1483099342.h5', '2016-12-30 14:02:23 SAST', 'Moloko', 927736397], ['1483063207.h5', '2016-12-30 04:00:15 SAST', 'AR1', 8051683225], ['1483028409.h5', '2016-12-29 18:20:20 SAST', 'AR1', 8077404322], ['1483013569.h5', '2016-12-29 14:12:57 SAST', 'AR1', 7012744302], ['1483012987.h5', '2016-12-29 14:03:18 SAST', 'Moloko', 6920079572], ['1483012433.h5', '2016-12-29 13:55:00 SAST', 'Moloko', 5360002573], ['1482971407.h5', '2016-12-29 02:30:09 SAST', 'AR1', 1148001631], ['1482926692.h5', '2016-12-28 14:04:53 SAST', 'Fannie', 651220494], ['1482701892.h5', '2016-12-25 23:38:18 SAST', 'AR1', 3488201837], ['1482672276.h5', '2016-12-25 15:24:36 SAST', 'AR1', 2999894830], ['1482627609.h5', '2016-12-25 03:00:10 SAST', 'AR1', 869745381], ['1482566945.h5', '2016-12-24 10:09:07 SAST', 'AR1', 1782853623], ['1482566016.h5', '2016-12-24 09:53:38 SAST', 'AR1', 1778709688], ['1482496748.h5', '2016-12-23 14:39:08 SAST', 'AR1', 508930853], ['1482495059.h5', '2016-12-23 14:10:59 SAST', 'Fannie', 508624981], ['1482492909.h5', '2016-12-23 13:35:10 SAST', 'Fannie', 890534825], ['1482491009.h5', '2016-12-23 13:03:29 SAST', 'Fannie', 954723539], ['1482433773.h5', '2016-12-22 21:09:47 SAST', 'Fannie', 11093134430], ['1482404095.h5', '2016-12-22 12:54:59 SAST', 'Fannie', 7729691325], ['1482401946.h5', '2016-12-22 12:19:10 SAST', 'Fannie', 9232745581], ['1482401573.h5', '2016-12-22 12:13:52 SAST', 'Fannie', 4719483891], ['1482393086.h5', '2016-12-22 09:51:32 SAST', 'Fannie', 1356108059], ['1482359330.h5', '2016-12-22 00:28:55 SAST', 'Fannie', 1178512495], ['1482330032.h5', '2016-12-21 16:20:37 SAST', 'Moloko', 949830548], ['1482329065.h5', '2016-12-21 16:04:30 SAST', 'Moloko', 891719737], ['1482328574.h5', '2016-12-21 15:57:24 SAST', 'Fannie', 539785619], ['1482318688.h5', '2016-12-21 13:13:56 SAST', 'Fannie', 555303776], ['1482303672.h5', '2016-12-21 09:01:16 SAST', 'Fannie', 1404312754], ['1482239202.h5', '2016-12-20 15:07:00 SAST', 'Fannie', 12012537771], ['1482236389.h5', '2016-12-20 14:19:53 SAST', 'Fannie', 11180868790], ['1482146285.h5', '2016-12-19 13:18:06 SAST', 'Fannie', 11202974628], ['1482134850.h5', '2016-12-19 10:09:42 SAST', 'Fannie', 236352776], ['1482080405.h5', '2016-12-18 19:00:08 SAST', 'Simphiwe', 3110735661], ['1482043506.h5', '2016-12-18 08:45:10 SAST', 'Simphiwe', 3048679983], ['1481976006.h5', '2016-12-17 14:00:08 SAST', 'Simphiwe', 1113159491], ['1481893206.h5', '2016-12-16 15:00:07 SAST', 'Simphiwe', 983751447], ['1481853606.h5', '2016-12-16 04:00:09 SAST', 'Simphiwe', 1412593759], ['1481815509.h5', '2016-12-15 17:25:54 SAST', 'Simphiwe', 815026857], ['1481805899.h5', '2016-12-15 14:45:10 SAST', 'Audrey', 10879131530], ['1481805347.h5', '2016-12-15 14:35:47 SAST', 'Audrey', 9372880508], ['1481802817.h5', '2016-12-15 13:53:42 SAST', 'Audrey', 893248185], ['1481801244.h5', '2016-12-15 13:29:51 SAST', 'Audrey', 270562129], ['1481734568.h5', '2016-12-14 18:56:24 SAST', 'Simphiwe', 10866211270], ['1481733959.h5', '2016-12-14 18:46:16 SAST', 'Simphiwe', 11433194582], ['1481733369.h5', '2016-12-14 18:37:41 SAST', 'Simphiwe', 8411699997], ['1481726459.h5', '2016-12-14 16:41:04 SAST', 'Simphiwe', 942815500], ['1481656695.h5', '2016-12-13 21:18:20 SAST', 'Simphiwe', 9232721540], ['1481656266.h5', '2016-12-13 21:14:51 SAST', 'Simphiwe', 3283291297], ['1481633837.h5', '2016-12-13 14:57:22 SAST', 'Audrey', 508648323], ['1481632443.h5', '2016-12-13 14:34:08 SAST', 'Audrey', 1152989742], ['1481631856.h5', '2016-12-13 14:24:20 SAST', 'Audrey', 589939932], ['1481556063.h5', '2016-12-12 17:21:08 SAST', 'Simphiwe', 401953158], ['1481555033.h5', '2016-12-12 17:03:57 SAST', 'Simphiwe', 943727561], ['1481262305.h5', '2016-12-09 07:45:13 SAST', 'Lindsay', 6855902409], ['1481258066.h5', '2016-12-09 06:35:13 SAST', 'Lindsay', 4329664078], ['1481230314.h5', '2016-12-08 22:51:59 SAST', 'Lindsay', 614977573], ['1481138981.h5', '2016-12-07 21:29:44 SAST', 'Lindsay', 650256349], ['1481132710.h5', '2016-12-07 19:45:12 SAST', 'Simphiwe', 508846356], ['1481132387.h5', '2016-12-07 19:41:17 SAST', 'Lindsay', 304811618], ['1481123656.h5', '2016-12-07 17:14:18 SAST', 'Simphiwe', 5041223239], ['1481115095.h5', '2016-12-07 14:51:37 SAST', 'Moloko', 4981913149], ['1481111310.h5', '2016-12-07 13:48:38 SAST', 'Moloko', 5664519820], ['1481110232.h5', '2016-12-07 13:30:40 SAST', 'Moloko', 5646471797], ['1481109568.h5', '2016-12-07 13:19:40 SAST', 'Moloko', 5569156067], ['1481108482.h5', '2016-12-07 13:01:34 SAST', 'Moloko', 5610412003], ['1481107824.h5', '2016-12-07 12:51:20 SAST', 'Moloko', 4507623734], ['1481093131.h5', '2016-12-07 08:45:37 SAST', 'Moloko', 4022409109], ['1481092435.h5', '2016-12-07 08:33:57 SAST', 'Moloko', 3753369452], ['1481089510.h5', '2016-12-07 07:45:16 SAST', 'Moloko', 4037764348], ['1481089045.h5', '2016-12-07 07:37:27 SAST', 'Moloko', 3753454967], ['1481067697.h5', '2016-12-07 01:41:50 SAST', 'Lindsay', 7473083182], ['1481045852.h5', '2016-12-06 19:37:34 SAST', 'Lindsay', 604321697], ['1481043301.h5', '2016-12-06 18:55:03 SAST', 'Moloko', 516231349], ['1481042596.h5', '2016-12-06 18:45:41 SAST', 'Moloko', 178753766], ['1481028928.h5', '2016-12-06 14:55:37 SAST', 'Lindsay', 4615471687], ['1481016661.h5', '2016-12-06 11:31:12 SAST', 'Lindsay', 4537399514], ['1481004224.h5', '2016-12-06 08:03:45 SAST', 'Lindsay', 4703601780], ['1480977085.h5', '2016-12-06 00:31:34 SAST', 'Lindsay', 17704555810], ['1480964718.h5', '2016-12-05 21:05:31 SAST', 'Moloko', 17637370647], ['1480952745.h5', '2016-12-05 17:45:55 SAST', 'Moloko', 7011398269], ['1480952018.h5', '2016-12-05 17:33:46 SAST', 'Moloko', 6991350172], ['1480951380.h5', '2016-12-05 17:23:57 SAST', 'Moloko', 5648730308], ['1480945624.h5', '2016-12-05 15:47:07 SAST', 'Moloko', 688826870], ['1480945041.h5', '2016-12-05 15:37:23 SAST', 'Moloko', 678129753], ['1480942388.h5', '2016-12-05 14:53:10 SAST', 'Moloko', 620787323], ['1480941922.h5', '2016-12-05 14:47:48 SAST', 'Lindsay', 272592232], ['1480940003.h5', '2016-12-05 14:13:24 SAST', 'Buntu', 729850596], ['1480936523.h5', '2016-12-05 13:15:26 SAST', 'Buntu', 717959045], ['1480934843.h5', '2016-12-05 12:47:25 SAST', 'Lindsay', 629375825], ['1480924242.h5', '2016-12-05 09:50:44 SAST', 'Buntu', 960767319], ['1480922164.h5', '2016-12-05 09:17:45 SAST', 'Lindsay', 7468338791], ['1480869907.h5', '2016-12-04 18:45:09 SAST', 'Lindsay', 949376437], ['1480843118.h5', '2016-12-04 11:18:40 SAST', 'Buntu', 7641550529], ['1480842341.h5', '2016-12-04 11:05:43 SAST', 'Lindsay', 799134297], ['1480770083.h5', '2016-12-03 15:01:27 SAST', 'Lindsay', 982961846], ['1480757201.h5', '2016-12-03 11:26:44 SAST', 'Buntu', 754598093], ['1480756852.h5', '2016-12-03 11:22:23 SAST', 'Lindsay', 380830926], ['1480690009.h5', '2016-12-02 16:46:52 SAST', 'Moloko', 527507523], ['1480689420.h5', '2016-12-02 16:37:02 SAST', 'Lindsay', 515851568], ['1480672315.h5', '2016-12-02 11:51:57 SAST', 'Lindsay', 8183178782], ['1480643105.h5', '2016-12-02 03:45:09 SAST', 'Lindsay', 382218396], ['1480586494.h5', '2016-12-01 12:01:36 SAST', 'Lindsay', 407684893], ['1480578055.h5', '2016-12-01 09:40:57 SAST', 'Lindsay', 1151445657]]\n"
     ]
    }
   ],
   "source": [
    "f=katarchive.search_archive(description=\"Phaseup\",startdate=begin,enddate=end)\n",
    "print f"
   ]
  },
  {
   "cell_type": "code",
   "execution_count": 8,
   "metadata": {
    "collapsed": true
   },
   "outputs": [],
   "source": [
    "f.sort(key=lambda k: k.metadata.StartTime)"
   ]
  },
  {
   "cell_type": "code",
   "execution_count": 9,
   "metadata": {
    "collapsed": false
   },
   "outputs": [
    {
     "name": "stdout",
     "output_type": "stream",
     "text": [
      "/var/kat/archive2/data/MeerKATAR1/telescope_products/2016/12/01/1480578055.h5  4k 06,07,08,10,14,15,25,31,62,63 3C286\n",
      "/var/kat/archive2/data/MeerKATAR1/telescope_products/2016/12/01/1480586494.h5  4k 06,07,14,15,25,31,62,63 PKS1934-63\n",
      "/var/kat/archive2/data/MeerKATAR1/telescope_products/2016/12/02/1480643105.h5  4k 06,07,08,14,15,25,31 PKS0408-65\n",
      "/var/kat/archive2/data/MeerKATAR1/telescope_products/2016/12/02/1480672315.h5 32k 01,06,07,08,10,14,15,25,31,63 PKS1934-63\n",
      "/var/kat/archive2/data/MeerKATAR1/telescope_products/2016/12/02/1480689420.h5  4k 01,06,07,08,10,14,15,25,31 PKS1934-63\n",
      "/var/kat/archive2/data/MeerKATAR1/telescope_products/2016/12/02/1480690009.h5  4k 01,06,07,08,10,14,15,25,31 PKS1934-63\n",
      "/var/kat/archive2/data/MeerKATAR1/telescope_products/2016/12/03/1480756852.h5  4k 01,06,07,08,10,14,15,25,31,62,63 XXXXXX NONE XXXXXX\n",
      "/var/kat/archive2/data/MeerKATAR1/telescope_products/2016/12/03/1480757201.h5  4k 01,06,07,08,10,14,15,25,31,62,63 PKS1934-63\n",
      "/var/kat/archive2/data/MeerKATAR1/telescope_products/2016/12/03/1480770083.h5  4k 01,06,07,08,10,14,15,25,31,62,63 PKS1934-63\n",
      "/var/kat/archive2/data/MeerKATAR1/telescope_products/2016/12/04/1480842341.h5  4k 01,06,07,08,10,14,15,25,31,62,63 PKS1934-63\n",
      "/var/kat/archive2/data/MeerKATAR1/telescope_products/2016/12/04/1480843118.h5 32k 01,06,07,08,10,14,15,25,31,62,63 PKS1934-63\n",
      "/var/kat/archive2/data/MeerKATAR1/telescope_products/2016/12/04/1480869907.h5  4k 01,06,07,08,10,14,15,25,31,62,63 PKS1934-63\n",
      "/var/kat/archive2/data/MeerKATAR1/telescope_products/2016/12/05/1480922164.h5 32k 01,06,07,08,10,14,15,25,31,62,63 3C286\n",
      "/var/kat/archive2/data/MeerKATAR1/telescope_products/2016/12/05/1480924242.h5  4k 01,06,07,08,10,14,15,25,31,62,63 PKS1934-63\n",
      "/var/kat/archive2/data/MeerKATAR1/telescope_products/2016/12/05/1480934843.h5  4k 06,07,08,10,14,15,25,31,62,63 PKS1934-63\n",
      "/var/kat/archive2/data/MeerKATAR1/telescope_products/2016/12/05/1480936523.h5  4k 06,07,08,10,14,15,25,31,62,63 PKS1934-63\n",
      "/var/kat/archive2/data/MeerKATAR1/telescope_products/2016/12/05/1480940003.h5  4k 06,07,08,10,14,15,25,31,62,63 PKS1934-63\n",
      "/var/kat/archive2/data/MeerKATAR1/telescope_products/2016/12/05/1480941922.h5  4k 06,07,08,10,14,15,25,31,62,63 XXXXXX NONE XXXXXX\n",
      "/var/kat/archive2/data/MeerKATAR1/telescope_products/2016/12/05/1480942388.h5  4k 06,07,08,10,14,15,25,31,62,63 PKS1934-63\n",
      "/var/kat/archive2/data/MeerKATAR1/telescope_products/2016/12/05/1480945041.h5  4k 06,07,08,10,14,15,25,31,62,63 PKS1934-63\n",
      "/var/kat/archive2/data/MeerKATAR1/telescope_products/2016/12/05/1480945624.h5  4k 06,07,08,10,14,15,25,31,62,63 PKS1934-63\n",
      "/var/kat/archive2/data/MeerKATAR1/telescope_products/2016/12/05/1480951380.h5 32k 06,07,08,10,14,15,25,31,62,63 PKS1934-63\n",
      "/var/kat/archive2/data/MeerKATAR1/telescope_products/2016/12/05/1480952018.h5 32k 06,07,08,10,14,15,25,31,62,63 PKS1934-63\n",
      "/var/kat/archive2/data/MeerKATAR1/telescope_products/2016/12/05/1480952745.h5 32k 06,07,08,10,14,15,25,31,62,63 PKS1934-63\n",
      "/var/kat/archive2/data/MeerKATAR1/telescope_products/2016/12/05/1480964718.h5 32k 06,07,08,10,14,15,25,31,62,63 PKS0408-65\n",
      "/var/kat/archive2/data/MeerKATAR1/telescope_products/2016/12/05/1480977085.h5 32k 06,07,08,10,14,15,25,31,62,63 PKS0408-65\n",
      "/var/kat/archive2/data/MeerKATAR1/telescope_products/2016/12/06/1481004224.h5 32k 06,07,08,10,14,15,25,62 3C286\n",
      "/var/kat/archive2/data/MeerKATAR1/telescope_products/2016/12/06/1481016661.h5 32k 06,07,08,10,14,15,25,62 PKS1934-63\n",
      "/var/kat/archive2/data/MeerKATAR1/telescope_products/2016/12/06/1481028928.h5 32k 06,07,08,10,14,15,25,62 PKS1934-63\n",
      "/var/kat/archive2/data/MeerKATAR1/telescope_products/2016/12/06/1481042596.h5  4k 01,06,07,08,10,14,15,25,62 XXXXXX NONE XXXXXX\n",
      "/var/kat/archive2/data/MeerKATAR1/telescope_products/2016/12/06/1481043301.h5  4k 01,06,07,08,10,14,15,25,62 PKS1934-63\n",
      "/var/kat/archive2/data/MeerKATAR1/telescope_products/2016/12/06/1481045852.h5  4k 01,06,07,08,10,14,15,25,62 PKS0408-65\n",
      "/var/kat/archive2/data/MeerKATAR1/telescope_products/2016/12/06/1481067697.h5 32k 01,06,07,08,10,14,15,25,62 PKS0408-65\n",
      "/var/kat/archive2/data/MeerKATAR1/telescope_products/2016/12/07/1481089045.h5 32k 06,07,08,10,14,15,25,62 3C286\n",
      "/var/kat/archive2/data/MeerKATAR1/telescope_products/2016/12/07/1481089510.h5 32k 06,07,08,10,14,15,25,62 3C286\n",
      "/var/kat/archive2/data/MeerKATAR1/telescope_products/2016/12/07/1481092435.h5 32k 06,07,08,10,14,15,25,62 3C286\n",
      "/var/kat/archive2/data/MeerKATAR1/telescope_products/2016/12/07/1481093131.h5 32k 06,07,08,10,14,15,25,62 3C286\n",
      "/var/kat/archive2/data/MeerKATAR1/telescope_products/2016/12/07/1481107824.h5 32k 01,06,07,08,10,14,15,25,62 PKS1934-63\n",
      "/var/kat/archive2/data/MeerKATAR1/telescope_products/2016/12/07/1481108482.h5 32k 01,06,07,08,10,14,15,25,62 PKS1934-63\n",
      "/var/kat/archive2/data/MeerKATAR1/telescope_products/2016/12/07/1481109568.h5 32k 01,06,07,08,10,14,15,25,62 PKS1934-63\n",
      "/var/kat/archive2/data/MeerKATAR1/telescope_products/2016/12/07/1481110232.h5 32k 01,06,07,08,10,14,15,25,62 PKS1934-63\n",
      "/var/kat/archive2/data/MeerKATAR1/telescope_products/2016/12/07/1481111310.h5 32k 01,06,07,08,10,14,15,25,62 PKS1934-63\n",
      "/var/kat/archive2/data/MeerKATAR1/telescope_products/2016/12/07/1481115095.h5 32k 01,06,07,08,10,14,15,25,62 PKS1934-63\n",
      "/var/kat/archive2/data/MeerKATAR1/telescope_products/2016/12/07/1481123656.h5 32k 01,06,07,08,10,14,15,25,62 PKS1934-63\n",
      "/var/kat/archive2/data/MeerKATAR1/telescope_products/2016/12/07/1481132387.h5  4k 01,06,07,08,10,14,15,25,62 XXXXXX NONE XXXXXX\n",
      "/var/kat/archive2/data/MeerKATAR1/telescope_products/2016/12/07/1481132710.h5  4k 01,06,07,08,10,14,15,25,62 PKS0408-65\n",
      "/var/kat/archive2/data/MeerKATAR1/telescope_products/2016/12/07/1481138981.h5  4k 01,06,07,08,10,14,15,25,62 PKS0408-65\n",
      "/var/kat/archive2/data/MeerKATAR1/telescope_products/2016/12/08/1481230314.h5  4k 06,07,08,10,14,15,25,31,62 PKS0408-65\n",
      "/var/kat/archive2/data/MeerKATAR1/telescope_products/2016/12/09/1481258066.h5 32k 06,07,08,10,14,15,25,31,62 PKS0408-65\n",
      "/var/kat/archive2/data/MeerKATAR1/telescope_products/2016/12/09/1481262305.h5 32k 06,07,08,10,14,15,25,31,62 3C286\n",
      "/var/kat/archive2/data/MeerKATAR1/telescope_products/2016/12/12/1481555033.h5  4k 06,07,10,14,15,25,31,62,63 PKS1934-63\n",
      "/var/kat/archive2/data/MeerKATAR1/telescope_products/2016/12/12/1481556063.h5  4k 06,07,10,14,15,25,31,62 PKS1934-63\n",
      "/var/kat/archive2/data/MeerKATAR1/telescope_products/2016/12/13/1481631856.h5  4k 06,10,14,15,21,22,25,31,62,63 PKS1934-63\n",
      "/var/kat/archive2/data/MeerKATAR1/telescope_products/2016/12/13/1481632443.h5  4k 06,10,14,15,21,22,25,31,62,63 PKS1934-63\n",
      "/var/kat/archive2/data/MeerKATAR1/telescope_products/2016/12/13/1481633837.h5  4k 06,10,14,15,21,22,31,62,63 PKS1934-63\n",
      "/var/kat/archive2/data/MeerKATAR1/telescope_products/2016/12/13/1481656266.h5 32k 06,07,08,10,14,15,21,22,25,31,62,63 XXXXXX NONE XXXXXX\n",
      "/var/kat/archive2/data/MeerKATAR1/telescope_products/2016/12/13/1481656695.h5 32k 06,07,08,10,14,15,21,22,25,31,62,63 PKS0408-65\n",
      "/var/kat/archive2/data/MeerKATAR1/telescope_products/2016/12/14/1481726459.h5  4k 06,07,08,10,14,15,21,22,25,31,62,63 PKS1934-63\n",
      "/var/kat/archive2/data/MeerKATAR1/telescope_products/2016/12/14/1481733369.h5 32k 06,07,08,10,14,15,21,22,25,31,62,63 PKS1934-63\n",
      "/var/kat/archive2/data/MeerKATAR1/telescope_products/2016/12/14/1481733959.h5 32k 06,07,08,10,14,15,21,22,25,31,62,63 PKS1934-63\n",
      "/var/kat/archive2/data/MeerKATAR1/telescope_products/2016/12/14/1481734568.h5 32k 06,07,08,10,14,15,21,22,25,31,62,63 PKS0408-65\n",
      "/var/kat/archive2/data/MeerKATAR1/telescope_products/2016/12/15/1481801244.h5  4k 06,07,08,10,14,15,21,22,25,31,62,63 XXXXXX NONE XXXXXX\n",
      "/var/kat/archive2/data/MeerKATAR1/telescope_products/2016/12/15/1481802817.h5  4k 06,07,08,10,14,15,21,22,25,31,62,63 PKS1934-63\n",
      "/var/kat/archive2/data/MeerKATAR1/telescope_products/2016/12/15/1481805347.h5 32k 06,07,08,10,14,15,21,22,25,31,62,63 PKS1934-63\n",
      "/var/kat/archive2/data/MeerKATAR1/telescope_products/2016/12/15/1481805899.h5 32k 06,07,08,10,14,15,21,22,25,31,62,63 PKS1934-63\n",
      "/var/kat/archive2/data/MeerKATAR1/telescope_products/2016/12/15/1481815509.h5  4k 06,07,08,10,14,15,21,22,25,31,62,63 PKS1934-63\n",
      "/var/kat/archive2/data/MeerKATAR1/telescope_products/2016/12/16/1481853606.h5  4k 06,07,08,10,14,15,21,22,25,31,62,63 PKS0408-65\n",
      "/var/kat/archive2/data/MeerKATAR1/telescope_products/2016/12/16/1481893206.h5  4k 06,07,08,10,14,15,21,22,25,31,62,63 PKS1934-63\n",
      "/var/kat/archive2/data/MeerKATAR1/telescope_products/2016/12/17/1481976006.h5  4k 06,07,08,10,14,15,21,22,25,31,62,63 XXXXXX NONE XXXXXX\n",
      "/var/kat/archive2/data/MeerKATAR1/telescope_products/2016/12/18/1482043506.h5  4k 06,07,08,10,14,15,21,22,25,31,62,63 XXXXXX NONE XXXXXX\n",
      "/var/kat/archive2/data/MeerKATAR1/telescope_products/2016/12/18/1482080405.h5  4k 06,07,08,10,14,15,21,22,25,31,62,63 XXXXXX NONE XXXXXX\n",
      "/var/kat/archive2/data/MeerKATAR1/telescope_products/2016/12/19/1482134850.h5  4k 06,10,14,15,21,22,25,31,62,63 XXXXXX NONE XXXXXX\n",
      "/var/kat/archive2/data/MeerKATAR1/telescope_products/2016/12/19/1482146285.h5 32k 06,07,08,10,14,15,21,22,25,62,63 PKS1934-63\n",
      "/var/kat/archive2/data/MeerKATAR1/telescope_products/2016/12/20/1482236389.h5 32k 03,06,08,10,14,15,21,22,25,31,62,63 PKS1934-63\n",
      "/var/kat/archive2/data/MeerKATAR1/telescope_products/2016/12/20/1482239202.h5 32k 03,06,08,10,14,15,21,22,25,31,62,63 PKS1934-63\n",
      "/var/kat/archive2/data/MeerKATAR1/telescope_products/2016/12/21/1482303672.h5  4k 03,06,08,10,14,15,21,22,25,31,62,63 PKS1934-63\n",
      "/var/kat/archive2/data/MeerKATAR1/telescope_products/2016/12/21/1482318688.h5  4k 01,03,06,08,10,14,15,21,22,25,31,62,63 PKS1934-63\n",
      "/var/kat/archive2/data/MeerKATAR1/telescope_products/2016/12/21/1482328574.h5  4k 03,06,08,10,14,15,21,22,25,31,62,63 XXXXXX NONE XXXXXX\n",
      "/var/kat/archive2/data/MeerKATAR1/telescope_products/2016/12/21/1482329065.h5  4k 03,06,08,10,14,15,21,22,25,31,62,63 PKS1934-63\n",
      "/var/kat/archive2/data/MeerKATAR1/telescope_products/2016/12/21/1482330032.h5  4k 03,06,08,10,14,15,21,22,25,31,62,63 PKS1934-63\n",
      "/var/kat/archive2/data/MeerKATAR1/telescope_products/2016/12/21/1482359330.h5  4k 03,06,08,10,14,15,21,22,25,31,62,63 PKS0408-65\n",
      "/var/kat/archive2/data/MeerKATAR1/telescope_products/2016/12/22/1482393086.h5  4k 03,06,08,10,14,15,21,22,25,31,62,63 PKS1934-63\n",
      "/var/kat/archive2/data/MeerKATAR1/telescope_products/2016/12/22/1482401573.h5 32k 03,06,08,10,14,15,21,22,25,31,62,63 PKS1934-63\n",
      "/var/kat/archive2/data/MeerKATAR1/telescope_products/2016/12/22/1482401946.h5 32k 03,06,08,10,14,15,21,22,25,31,62,63 PKS1934-63\n",
      "/var/kat/archive2/data/MeerKATAR1/telescope_products/2016/12/22/1482404095.h5 32k 03,06,08,10,14,15,21,22,25,62,63 PKS1934-63\n",
      "/var/kat/archive2/data/MeerKATAR1/telescope_products/2016/12/22/1482433773.h5 32k 03,06,08,10,14,15,21,22,25,62,63 PKS0408-65\n",
      "/var/kat/archive2/data/MeerKATAR1/telescope_products/2016/12/23/1482491009.h5  4k 03,06,08,10,14,15,21,22,25,31,62,63 PKS1934-63\n",
      "/var/kat/archive2/data/MeerKATAR1/telescope_products/2016/12/23/1482492909.h5  4k 03,06,08,10,14,15,21,22,25,31,62,63 PKS1934-63\n",
      "/var/kat/archive2/data/MeerKATAR1/telescope_products/2016/12/23/1482495059.h5  4k 03,06,08,10,14,15,22,62,63 PKS1934-63\n",
      "/var/kat/archive2/data/MeerKATAR1/telescope_products/2016/12/23/1482496748.h5  4k 03,06,08,10,14,15,22,62,63 PKS1934-63\n",
      "/var/kat/archive2/data/MeerKATAR1/telescope_products/2016/12/24/1482566016.h5  4k 03,06,08,10,14,15,22,62,63 PKS1934-63\n",
      "/var/kat/archive2/data/MeerKATAR1/telescope_products/2016/12/24/1482566945.h5  4k 03,06,08,10,14,15,22,62,63 PKS1934-63\n",
      "/var/kat/archive2/data/MeerKATAR1/telescope_products/2016/12/25/1482627609.h5  4k 03,06,08,10,14,15,22,62,63 XXXXXX NONE XXXXXX\n",
      "/var/kat/archive2/data/MeerKATAR1/telescope_products/2016/12/25/1482672276.h5 32k 03,06,10,14,15,22,63 PKS1934-63\n",
      "/var/kat/archive2/data/MeerKATAR1/telescope_products/2016/12/25/1482701892.h5 32k 03,06,10,14,15,22,63 PKS0408-65\n",
      "/var/kat/archive2/data/MeerKATAR1/telescope_products/2016/12/28/1482926692.h5  4k 03,06,10,14,15,21,22,25,31,63 PKS1934-63\n",
      "/var/kat/archive2/data/MeerKATAR1/telescope_products/2016/12/29/1482971407.h5  4k 03,06,10,14,15,21,22,25,31,63 PKS0408-65\n",
      "/var/kat/archive2/data/MeerKATAR1/telescope_products/2016/12/29/1483012433.h5 32k 03,06,10,14,15,21,22,25,31,62 PKS1934-63\n",
      "/var/kat/archive2/data/MeerKATAR1/telescope_products/2016/12/29/1483012987.h5 32k 03,06,10,14,15,21,22,25,31,62 PKS1934-63\n",
      "/var/kat/archive2/data/MeerKATAR1/telescope_products/2016/12/29/1483013569.h5 32k 03,06,10,14,15,21,22,25,31,62 PKS1934-63\n",
      "/var/kat/archive2/data/MeerKATAR1/telescope_products/2016/12/29/1483028409.h5 32k 03,06,10,14,15,21,22,25,31,62 PKS0408-65\n",
      "/var/kat/archive2/data/MeerKATAR1/telescope_products/2016/12/30/1483063207.h5 32k 03,06,10,14,15,21,22,25,31,62 PKS0408-65\n",
      "/var/kat/archive2/data/MeerKATAR1/telescope_products/2016/12/30/1483099342.h5  4k 03,06,08,10,14,15,21,22,25,31,62,63 PKS1934-63\n",
      "/var/kat/archive2/data/MeerKATAR1/telescope_products/2016/12/30/1483104488.h5  4k 03,06,10,14,15,21,22,25,31,62,63 PKS1934-63\n",
      "/var/kat/archive2/data/MeerKATAR1/telescope_products/2016/12/30/1483104972.h5  4k 03,06,10,14,15,21,22,25,31,62,63 PKS1934-63\n",
      "/var/kat/archive2/data/MeerKATAR1/telescope_products/2016/12/31/1483192805.h5  4k 03,06,10,14,15,21,22,25,31,62,63 XXXXXX NONE XXXXXX\n"
     ]
    }
   ],
   "source": [
    "for fi in f:\n",
    "    txts=fi.metadata.InstructionSet\n",
    "    fi.metadata.Description,fi.metadata.Filename\n",
    "    antstr=\",\".join(fi.metadata.Antennas).replace('m0','')\n",
    "    tgt=fi.metadata.Targets[-1].replace(' ','')\n",
    "    if tgt=='None':\n",
    "        tgt='XXXXXX NONE XXXXXX'\n",
    "    listing=(\"%s/%s %3s %s %s\") %(fi.metadata.FileLocation,fi.metadata.Filename,channels(fi.metadata.Details),\\\n",
    "                                  antstr,tgt)\n",
    "    print listing\n",
    "    Outfile.write(listing+\"\\n\")"
   ]
  },
  {
   "cell_type": "code",
   "execution_count": null,
   "metadata": {
    "collapsed": true
   },
   "outputs": [],
   "source": []
  },
  {
   "cell_type": "code",
   "execution_count": 10,
   "metadata": {
    "collapsed": true
   },
   "outputs": [],
   "source": [
    "Outfile.close()"
   ]
  }
 ],
 "metadata": {
  "kernelspec": {
   "display_name": "Python 2",
   "language": "python",
   "name": "python2"
  },
  "language_info": {
   "codemirror_mode": {
    "name": "ipython",
    "version": 2
   },
   "file_extension": ".py",
   "mimetype": "text/x-python",
   "name": "python",
   "nbconvert_exporter": "python",
   "pygments_lexer": "ipython2",
   "version": "2.7.6"
  }
 },
 "nbformat": 4,
 "nbformat_minor": 0
}
