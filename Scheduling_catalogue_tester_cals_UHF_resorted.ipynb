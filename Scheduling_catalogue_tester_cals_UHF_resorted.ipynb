{
 "cells": [
  {
   "cell_type": "code",
   "execution_count": 10,
   "metadata": {},
   "outputs": [
    {
     "name": "stdout",
     "output_type": "stream",
     "text": [
      "Populating the interactive namespace from numpy and matplotlib\n"
     ]
    },
    {
     "name": "stderr",
     "output_type": "stream",
     "text": [
      "/usr/local/lib/python2.7/dist-packages/IPython/core/magics/pylab.py:161: UserWarning: pylab import has clobbered these variables: ['colors']\n",
      "`%matplotlib` prevents importing * from pylab and numpy\n",
      "  \"\\n`%matplotlib` prevents importing * from pylab and numpy\"\n"
     ]
    }
   ],
   "source": [
    "%pylab inline"
   ]
  },
  {
   "cell_type": "code",
   "execution_count": 11,
   "metadata": {
    "collapsed": true
   },
   "outputs": [],
   "source": [
    "import katpoint\n",
    "import numpy as np\n",
    "import matplotlib.pyplot as plt\n",
    "from matplotlib.ticker import MaxNLocator, MultipleLocator\n",
    "import matplotlib.dates as mdates\n",
    "from matplotlib.font_manager import FontProperties\n",
    "from astropy.time import Time\n",
    "import os\n",
    "from IPython.core.display import display, HTML"
   ]
  },
  {
   "cell_type": "code",
   "execution_count": 12,
   "metadata": {
    "collapsed": true
   },
   "outputs": [],
   "source": [
    "#create a variety of coloured markers.  After a while the plots get really crowded,\n",
    "#but you can add on to this if you like.\n",
    "markers = []\n",
    "colors = ['b','g','r','c','m','y','k']\n",
    "pointtypes = ['o','*','x','^','s','p','h','+','D','d','v','H','d','v']\n",
    "for point in  pointtypes:\n",
    "    for color in colors:\n",
    "        markers.append(str(color+point))"
   ]
  },
  {
   "cell_type": "markdown",
   "metadata": {},
   "source": [
    "This notebook can be used each week to plan the scheduling of observations on MeerKAT. \n",
    "\n",
    "It will generate an obs table, with times in SAST, that can be used to block off times in the Google calendar\n",
    "\n",
    "See https://en.wikipedia.org/wiki/Sidereal_time for a discussion of siderial time\n",
    "\n",
    "Some useful points to check your scheduling sanity:\n",
    "* The RA of a target is equal to the LST when the target is at its highest elevation (when it tranits)... this is useful because if you are doing scheduling the best is to observe equally on either side of this time\n",
    "* LST will change by roughy 4 mins per day ... so a target will transit 4 mins earlier each day\n",
    "* MeerKAT LST matches SAST on roughly 30 Sep each year ... it is 6 hrs after SAST on about 30 Dec, 12 hrs difference in March and 6 hrs before in June \n",
    "\n",
    "You can also look at the following pyephem doc page for more ways to use the ant.ref_observer object. http://rhodesmill.org/pyephem/quick.html"
   ]
  },
  {
   "cell_type": "markdown",
   "metadata": {},
   "source": [
    "Link to the MeerKAT observation calendar\n",
    "\n",
    "https://calendar.google.com/calendar/embed?src=ska.ac.za_hd1ilp7tkoffoa9f2gh0j6l0q8%40group.calendar.google.com&ctz=Africa/Johannesburg"
   ]
  },
  {
   "cell_type": "code",
   "execution_count": 13,
   "metadata": {
    "collapsed": true
   },
   "outputs": [],
   "source": [
    "ant = katpoint.Antenna('Ref, -30:42:39.8, 21:26:38.0, 1035.0') # the MeerKAT reference point\n",
    "ant.ref_observer.horizon = '20:00:00' # horizon set to 20 degrees\n",
    "SAST = matplotlib.dateutil.relativedelta.relativedelta(hours=2) # useful to convert to SAST (UTC + 2)"
   ]
  },
  {
   "cell_type": "code",
   "execution_count": 14,
   "metadata": {
    "collapsed": true
   },
   "outputs": [],
   "source": [
    "# catalogue cell\n",
    "\n",
    "cat = katpoint.Catalogue()\n",
    "cat.antenna = ant\n",
    "#cat.add(file('/home/kat/katsdpcatalogues/COSMOS.csv'))\n",
    "#cat.add(file('/home/kat/katsdpcatalogues/DEEP2_off.csv'))\n",
    "#cat.add(file('/home/kat/katsdpcatalogues/ThunderKAT_4U1728-34.csv'))\n",
    "#cat.add(file('/home/tony/Desktop/PythonScripts/KAT/SCI-20180624FC-01_Abell168.csv'))\n",
    "cat.add(file('/home/tony/Desktop/PythonScripts/KAT/cals_UHF_resorted.csv'))"
   ]
  },
  {
   "cell_type": "code",
   "execution_count": 15,
   "metadata": {
    "collapsed": true
   },
   "outputs": [],
   "source": [
    "# start time cell\n",
    "\n",
    "# select the timestamp to be used to generate the obs table \n",
    "# comment out one of the following two lines\n",
    "#start_timestamp = katpoint.Timestamp() # use NOW as the start time for the obs table\n",
    "start_timestamp = katpoint.Timestamp('2019-04-30 02:00:00') # use a specific time as the start time (in UTC ... )"
   ]
  },
  {
   "cell_type": "code",
   "execution_count": 16,
   "metadata": {
    "collapsed": true
   },
   "outputs": [],
   "source": [
    "# pyephem version of the katpoint timestamp for the ref_observer object\n",
    "start_ed = start_timestamp.to_ephem_date()"
   ]
  },
  {
   "cell_type": "code",
   "execution_count": 17,
   "metadata": {},
   "outputs": [
    {
     "data": {
      "text/html": [
       "<table><tr><td colspan='4'>Obs table for 2019-04-30 04:00</td></tr><tr><td>Target<td>Next Rise<td>Next Transit<td>Next Set</tr><tr><td> J0137+3309 | ['3C48'] <td> 2019-04-30 09:40 <td> 2019-04-30 11:40 <td> 2019-04-30 13:40 </tr><tr><td> J0405-1308 | ['0403-132'] <td> 2019-04-30 09:11 <td> 2019-04-30 14:08 <td> 2019-04-30 19:04 </tr><tr><td> J0408-6545 | ['0408-658'] <td> 2019-04-30 06:49 <td> 2019-04-30 14:10 <td> 2019-04-30 21:30 </tr><tr><td> J0534+1927 | ['0531+194'] <td> 2019-04-30 12:14 <td> 2019-04-30 15:37 <td> 2019-04-30 18:59 </tr><tr><td colspan='4'>These times are in SAST</td></tr></table>"
      ],
      "text/plain": [
       "<IPython.core.display.HTML object>"
      ]
     },
     "metadata": {},
     "output_type": "display_data"
    }
   ],
   "source": [
    "# generate an html table for displaying\n",
    "# only the first 16 characters [:16] are shown for the time string\n",
    "# for readability\n",
    "\n",
    "h = '<table>'\n",
    "h += \"<tr><td colspan='4'>Obs table for %s</td></tr>\"%str(start_timestamp+7200)[:16]\n",
    "h += \"<tr><td>Target<td>Next Rise<td>Next Transit<td>Next Set</tr>\"\n",
    "for tar in cat.targets:\n",
    "    try:\n",
    "        rise_time = str((ant.ref_observer.next_rising(tar.body,start_ed).datetime()+SAST))[:16]\n",
    "    except:\n",
    "        rise_time = 'source does not rise'\n",
    "        \n",
    "    try:\n",
    "        transit_time = str((ant.ref_observer.next_transit(tar.body,start_ed).datetime()+SAST))[:16]\n",
    "    except:\n",
    "        transit_time = 'source does not transit'\n",
    "    try:\n",
    "        set_time = str((ant.ref_observer.next_setting(tar.body,start_ed).datetime()+SAST))[:16]\n",
    "    except:\n",
    "        set_time = 'source does not set'\n",
    "    h += '<tr><td> %s | %s <td> %s <td> %s <td> %s </tr>'%(tar.name,tar.aliases,\n",
    "                                rise_time,\n",
    "                                transit_time,\n",
    "                                set_time)\n",
    "h += \"<tr><td colspan='4'>These times are in SAST</td></tr>\"\n",
    "h += \"</table>\"\n",
    "display(HTML(h))"
   ]
  },
  {
   "cell_type": "code",
   "execution_count": 18,
   "metadata": {},
   "outputs": [
    {
     "name": "stdout",
     "output_type": "stream",
     "text": [
      "J0137+3309 is above 20 degrees between LST 23.66 and 3.57 \n",
      "J0405-1308 is above 20 degrees between LST 23.16 and 8.99 \n",
      "J0408-6545 is above 20 degrees between LST 20.85 and 11.49 \n",
      "J0534+1927 is above 20 degrees between LST 2.27 and 8.89 \n"
     ]
    },
    {
     "data": {
      "text/plain": [
       "<matplotlib.text.Text at 0x7f05ff872550>"
      ]
     },
     "execution_count": 18,
     "metadata": {},
     "output_type": "execute_result"
    },
    {
     "data": {
      "image/png": "[encoded data removed]",
      "text/plain": [
       "<matplotlib.figure.Figure at 0x7f0601dd89d0>"
      ]
     },
     "metadata": {},
     "output_type": "display_data"
    }
   ],
   "source": [
    "target = cat.targets[0]\n",
    "t = start_timestamp.secs + np.arange(0, 24. * 60. * 60., 360.)\n",
    "lst = katpoint.rad2deg(target.antenna.local_sidereal_time(t)) / 15\n",
    "\n",
    "fig, ax1 = plt.subplots()\n",
    "fig.set_size_inches(12, 4)\n",
    "plt.subplots_adjust(right=0.8)\n",
    "lines = list()\n",
    "labels = list()\n",
    "count = 0\n",
    "fontP = FontProperties()\n",
    "fontP.set_size('small')\n",
    "\n",
    "for target in cat.targets:\n",
    "    count = count + 1\n",
    "    elev = katpoint.rad2deg(target.azel(t)[1])\n",
    "    timestamps = Time(t, format='unix')\n",
    "    myplot,= plt.plot_date(timestamps.datetime,elev, markers[count-1], linewidth = 0, label=target.name)\n",
    "    lines.append(myplot)\n",
    "    labels.append(target.name)\n",
    "    lst_rise = lst[np.where(elev>20)[0][0]]\n",
    "    lst_set = lst[np.where(elev>20)[0][-1]]\n",
    "    print('%s is above 20 degrees between LST %.2f and %.2f '%(target.name, lst_rise, lst_set))\n",
    "ax1.xaxis.set_major_formatter(mdates.DateFormatter(\"%H:%M\"))\n",
    "ax1.xaxis.set_major_locator(mdates.HourLocator(byhour=range(24),interval=1))\n",
    "labels = ax1.get_xticklabels()\n",
    "plt.setp(labels, rotation=30, fontsize=10)\n",
    "plt.ylim(20,90)\n",
    "plt.grid()\n",
    "plt.legend()\n",
    "plt.ylabel('Elevation (deg)')\n",
    "plt.xlabel ('Time (UTC) starting from %s'%start_timestamp)\n",
    "ax2 = ax1.twiny()\n",
    "ax2.xaxis.set_major_locator(MaxNLocator(24))\n",
    "minorLocator = MultipleLocator(0.25)\n",
    "ax2.xaxis.set_minor_locator(minorLocator)\n",
    "new_ticks = plt.xticks(\n",
    "    np.linspace(0,1,24),\n",
    "    np.round(lst[np.linspace(1, len(lst), num=24, dtype = int)-1], 2),\n",
    "    rotation = 'vertical')\n",
    "plt.xlabel('Local Sidereal Time (hours)')\n"
   ]
  },
  {
   "cell_type": "code",
   "execution_count": null,
   "metadata": {
    "collapsed": true
   },
   "outputs": [],
   "source": []
  }
 ],
 "metadata": {
  "kernelspec": {
   "display_name": "Python 2",
   "language": "python",
   "name": "python2"
  },
  "language_info": {
   "codemirror_mode": {
    "name": "ipython",
    "version": 2
   },
   "file_extension": ".py",
   "mimetype": "text/x-python",
   "name": "python",
   "nbconvert_exporter": "python",
   "pygments_lexer": "ipython2",
   "version": "2.7.17"
  }
 },
 "nbformat": 4,
 "nbformat_minor": 1
}
