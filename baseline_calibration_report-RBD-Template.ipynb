{
 "cells": [
  {
   "cell_type": "code",
   "execution_count": null,
   "metadata": {},
   "outputs": [],
   "source": [
    "#!wget http://stgr1.sdp.mkat.chpc.kat.ac.za:7480/1523636247/1523636247_sdp_l0.full.rdb\n",
    "#!wget http://stgr1.sdp.mkat.chpc.kat.ac.za:7480/1541202384/1541202384_sdp_l0.full.rdb"
   ]
  },
  {
   "cell_type": "code",
   "execution_count": null,
   "metadata": {},
   "outputs": [],
   "source": [
    "filename ='1541202384_sdp_l0.full.rdb'\n",
    "%set_env filename = $filename"
   ]
  },
  {
   "cell_type": "code",
   "execution_count": null,
   "metadata": {},
   "outputs": [],
   "source": [
    "%pylab inline"
   ]
  },
  {
   "cell_type": "code",
   "execution_count": null,
   "metadata": {},
   "outputs": [],
   "source": [
    "import scape\n",
    "import katdal\n",
    "import katpoint\n",
    "import katsdpscripts\n",
    "import glob\n",
    "import re\n",
    "import pandas as pd \n",
    "\n",
    "import csv\n",
    "import operator"
   ]
  },
  {
   "cell_type": "code",
   "execution_count": null,
   "metadata": {},
   "outputs": [],
   "source": [
    "from os import system"
   ]
  },
  {
   "cell_type": "code",
   "execution_count": null,
   "metadata": {
    "scrolled": true
   },
   "outputs": [],
   "source": [
    "print \"Scape version: %s\"%scape.__version__\n",
    "print \"katdal version: %s\"%katdal.__version__\n",
    "print \"katpoint version: %s\"%katpoint.__version__\n",
    "print \"katsdpscripts version: %s\"%katsdpscripts.__version__"
   ]
  },
  {
   "cell_type": "code",
   "execution_count": null,
   "metadata": {},
   "outputs": [],
   "source": [
    "import logging\n",
    "logging.root.setLevel('INFO')"
   ]
  },
  {
   "cell_type": "code",
   "execution_count": null,
   "metadata": {},
   "outputs": [],
   "source": [
    "d = katdal.open(filename);\n",
    "ant_list,ants = [],[]\n",
    "[ant_list.append(ant.name) for ant in d.ants]\n",
    "print(ant_list)"
   ]
  },
  {
   "cell_type": "code",
   "execution_count": null,
   "metadata": {},
   "outputs": [],
   "source": [
    "ant_list.remove('m010') #BAD\n",
    "ant_list.remove('m028') # very low correlation\n",
    "ant_list.remove('m036') # missed some\n",
    "ants=','.join(ant_list)\n",
    "print ants\n",
    "%set_env ants=$ants"
   ]
  },
  {
   "cell_type": "code",
   "execution_count": null,
   "metadata": {},
   "outputs": [],
   "source": [
    "ref_ant='m005'\n",
    "%set_env ref_ant=$ref_ant"
   ]
  },
  {
   "cell_type": "code",
   "execution_count": null,
   "metadata": {},
   "outputs": [],
   "source": [
    "matplotlib.rcParams['font.size']=6.0"
   ]
  },
  {
   "cell_type": "code",
   "execution_count": null,
   "metadata": {},
   "outputs": [],
   "source": [
    "import logging\n",
    "logging.root.setLevel('INFO')"
   ]
  },
  {
   "cell_type": "code",
   "execution_count": null,
   "metadata": {
    "scrolled": false
   },
   "outputs": [],
   "source": [
    "figure(1,figsize=(15,240))\n",
    "figure(2,figsize=(15,15))\n",
    "figure(3,figsize=(15,240))\n",
    "figure(4,figsize=(15,15))\n",
    "%run /var/kat/katsdpscripts/reduction/baseline_cal_reduction.py -f 2200,2914 -p 'H' -r $ref_ant \\\n",
    " -a $ants $filename\n"
   ]
  },
  {
   "cell_type": "code",
   "execution_count": null,
   "metadata": {
    "scrolled": false
   },
   "outputs": [],
   "source": [
    "figure(1,figsize=(15,240))\n",
    "figure(2,figsize=(15,15))\n",
    "figure(3,figsize=(15,240))\n",
    "figure(4,figsize=(15,15))\n",
    "%run -e /var/kat/katsdpscripts/reduction/baseline_cal_reduction.py -f 2200,2914 -p 'V' -r $ref_ant \\\n",
    " -a $ants $filename\n"
   ]
  },
  {
   "cell_type": "code",
   "execution_count": null,
   "metadata": {},
   "outputs": [],
   "source": [
    "res_h = !python /var/kat/katsdpscripts/reduction/baseline_cal_reduction.py -f 2200,2914 -p 'H' -r $ref_ant \\\n",
    "  -a $ants  $filename\n",
    "print \"Done H\""
   ]
  },
  {
   "cell_type": "code",
   "execution_count": null,
   "metadata": {},
   "outputs": [],
   "source": [
    "res_v = !python /var/kat/katsdpscripts/reduction/baseline_cal_reduction.py -f 2200,2914 -p 'V' -r $ref_ant \\\n",
    "  -a $ants $filename\n",
    "print \"Done V\""
   ]
  },
  {
   "cell_type": "code",
   "execution_count": null,
   "metadata": {},
   "outputs": [],
   "source": [
    "delays_h = {}\n",
    "for i,r in enumerate(res_h):\n",
    "    if r.startswith('Antenna'):\n",
    "        ant = r[8:12]\n",
    "        delays_h[ant] = {}\n",
    "        delays_h[ant]['E'] = float(res_h[i+2].split(':')[1].lstrip().split(' ')[0])\n",
    "        delays_h[ant]['N'] = float(res_h[i+3].split(':')[1].lstrip().split(' ')[0])\n",
    "        delays_h[ant]['U'] = float(res_h[i+4].split(':')[1].lstrip().split(' ')[0])\n",
    "        delays_h[ant]['D'] = float(res_h[i+5].split(':')[1].lstrip().split(' ')[0])\n",
    "delays_h"
   ]
  },
  {
   "cell_type": "code",
   "execution_count": null,
   "metadata": {},
   "outputs": [],
   "source": [
    "delays_v = {}\n",
    "for i,r in enumerate(res_v):\n",
    "    if r.startswith('Antenna'):\n",
    "        ant = r[8:12]\n",
    "        delays_v[ant] = {}\n",
    "        delays_v[ant]['E'] = float(res_v[i+2].split(':')[1].lstrip().split(' ')[0])\n",
    "        delays_v[ant]['N'] = float(res_v[i+3].split(':')[1].lstrip().split(' ')[0])\n",
    "        delays_v[ant]['U'] = float(res_v[i+4].split(':')[1].lstrip().split(' ')[0])\n",
    "        delays_v[ant]['D'] = float(res_v[i+5].split(':')[1].lstrip().split(' ')[0])\n",
    "delays_v"
   ]
  },
  {
   "cell_type": "markdown",
   "metadata": {
    "collapsed": true
   },
   "source": [
    "# Cross check between polarizations for derived positions"
   ]
  },
  {
   "cell_type": "code",
   "execution_count": null,
   "metadata": {},
   "outputs": [],
   "source": [
    "for a in sorted(delays_v):\n",
    "    print a,\n",
    "    print(\"diff E %06.3f\") %(delays_h[a]['E'] - delays_v[a]['E']),\n",
    "    print(\"diff N %06.3f\") %(delays_h[a]['N'] - delays_v[a]['N']),\n",
    "    print(\"diff U %06.3f\") %(delays_h[a]['U'] - delays_v[a]['U']),\n",
    "    print(\"diff D %06.3f\") %(delays_h[a]['D'] - delays_v[a]['D'])\n",
    "    \n",
    "# expect differences between E,N and U less than 1cm and Delays less than 3m "
   ]
  },
  {
   "cell_type": "code",
   "execution_count": null,
   "metadata": {},
   "outputs": [],
   "source": [
    "np.set_printoptions(precision=4,floatmode='fixed')"
   ]
  },
  {
   "cell_type": "code",
   "execution_count": null,
   "metadata": {},
   "outputs": [],
   "source": [
    "# write solutions to file\n",
    "matchRe = re.findall('[0-9]{10,}', filename)\n",
    "filename='delay_file_'+''.join(matchRe)+'.txt'\n",
    "\n",
    "with open(filename, 'w') as f:\n",
    "    for h,v in zip(delays_h,delays_v):\n",
    "        print >> f, h,v, np.around(np.mean([delays_h[h]['E'],delays_v[v]['E']]),decimals=4) , \\\n",
    "                    np.around(np.mean([delays_h[h]['N'],delays_v[v]['N']]),decimals=4), \\\n",
    "                    np.around(np.mean([delays_h[h]['U'],delays_v[v]['U']]),decimals=4), \\\n",
    "                    delays_h[h]['D'],delays_v[v]['D']\n",
    "    f.close()"
   ]
  },
  {
   "cell_type": "code",
   "execution_count": null,
   "metadata": {},
   "outputs": [],
   "source": [
    "# sort delay file by antenna name and load antennaLOC\n",
    "sample = open(filename, 'r')\n",
    "sorter = csv.reader(sample, delimiter=' ')\n",
    "sort = sorted(sorter, key=operator.itemgetter(1))\n",
    "\n",
    "with open('ant_loc.csv', 'r') as f:\n",
    "    tocs = f.read()"
   ]
  },
  {
   "cell_type": "code",
   "execution_count": null,
   "metadata": {},
   "outputs": [],
   "source": [
    "cols = ['Ants', 'Delay', 'East', 'North', 'UP', 'TOC']\n",
    "df = pd.DataFrame(columns=cols)\n",
    "for line in sort:\n",
    "    p = re.compile(line[0]+',\\s+\\d{4}\\.\\d{1,3}')\n",
    "    toc = float(p.search(tocs).group()[6:])\n",
    "    df = df.append(pd.Series(\n",
    "                             [\n",
    "                                line[0],\n",
    "                                line[-2],\n",
    "                                line[2],\n",
    "                                line[3],\n",
    "                                line[4], \n",
    "                                toc\n",
    "                             ], \n",
    "                              index=['Ants', 'Delay', 'East', 'North', 'UP', 'TOC']\n",
    "                            ), ignore_index = True)"
   ]
  },
  {
   "cell_type": "code",
   "execution_count": null,
   "metadata": {},
   "outputs": [],
   "source": [
    "deltaTOC, deltaUP = [], []\n",
    "deltaTOC.append(0)\n",
    "deltaUP.append(0)\n",
    "for i in range(1, len(df.TOC[1:])+1):\n",
    "    deltaTOC.append(df.TOC[i] - df.TOC[i-1])\n",
    "    deltaUP.append(float(df.UP[i]) - float(df.UP[i-1]))\n",
    "\n",
    "em  = [' ' for i in range(len(deltaUP))]\n",
    "df[' '] =  pd.Series(em,  index = df.index)\n",
    "\n",
    "df['delta UP']  = pd.Series(deltaUP,  index = df.index)\n",
    "df['delta TOC'] = pd.Series(deltaTOC, index = df.index)\n",
    "\n",
    "print('\\nDelay Solutions and antenna locations\\n')\n",
    "df"
   ]
  },
  {
   "cell_type": "code",
   "execution_count": null,
   "metadata": {},
   "outputs": [],
   "source": [
    "# send file to ops server to process and push to github\n",
    "\n",
    "opsServer='ops.kat.ac.za'\n",
    "rPath='/home/kat/ops_team_sw/utilities/update_delay_models'\n",
    "cmd = \"sshpass -p {} scp -r {} kat@{}:{}\".format('kat', filename, opsServer, rPath)\n",
    "system(cmd)\n"
   ]
  }
 ],
 "metadata": {
  "kernelspec": {
   "display_name": "Python 2",
   "language": "python",
   "name": "python2"
  },
  "language_info": {
   "codemirror_mode": {
    "name": "ipython",
    "version": 2
   },
   "file_extension": ".py",
   "mimetype": "text/x-python",
   "name": "python",
   "nbconvert_exporter": "python",
   "pygments_lexer": "ipython2",
   "version": "2.7.12"
  }
 },
 "nbformat": 4,
 "nbformat_minor": 1
}
