{
 "cells": [
  {
   "cell_type": "code",
   "execution_count": 39,
   "metadata": {
    "collapsed": true
   },
   "outputs": [],
   "source": [
    "import numpy as np"
   ]
  },
  {
   "cell_type": "code",
   "execution_count": 40,
   "metadata": {
    "collapsed": true
   },
   "outputs": [],
   "source": [
    "def dphi(f,TECU):\n",
    "    \"\"\"\n",
    "    given a frequency and integral on line-of-sight electons\n",
    "    calulate phase shift\n",
    "    \"\"\"\n",
    "    f=f*1e6 # from MHz to Hz\n",
    "    phase=8.44e-7*1e16*TECU/f\n",
    "    return phase"
   ]
  },
  {
   "cell_type": "code",
   "execution_count": 41,
   "metadata": {},
   "outputs": [
    {
     "name": "stdout",
     "output_type": "stream",
     "text": [
      "11.8873239437 Radian\n"
     ]
    }
   ],
   "source": [
    "print dphi(1420,2), \"Radian\"\n",
    "    "
   ]
  },
  {
   "cell_type": "markdown",
   "metadata": {},
   "source": [
    "# Ionospheric Pierce Point (IPP)\n",
    "\n",
    "from a receiver at $(\\lambda,\\phi)$ pointing to source at (az,el) with a shell height H and earth radius R\n",
    "for latitudes between 70S and 70N\n",
    "\n",
    "$$\\psi = \\frac{\\pi}{2} - el-arcsin( \\frac{R}{R+H} cos(el))$$\n",
    "\n",
    "$$sin(\\phi_{ipp})  = sin(\\phi)cos(\\psi) + cos(\\phi)sin(\\psi)cos(az)$$\n",
    "\n",
    "$$\\lambda_{ipp} = \\lambda + arcsin(\\frac{sin(\\psi)sin(az)}{cos(\\phi_{ipp})})$$"
   ]
  },
  {
   "cell_type": "code",
   "execution_count": 42,
   "metadata": {},
   "outputs": [
    {
     "name": "stdout",
     "output_type": "stream",
     "text": [
      "0.947978596908\n"
     ]
    }
   ],
   "source": [
    "lat=-30.711055555  # latitude of MeerKAT\n",
    "lon=21.43388888    #longitude of MeerKAT\n",
    "height=350.00 # height of layer above earth\n",
    "r_e=6378.00 #km earth radius\n",
    "factor=(r_e/(r_e+height))\n",
    "print factor"
   ]
  },
  {
   "cell_type": "code",
   "execution_count": 43,
   "metadata": {
    "collapsed": true
   },
   "outputs": [],
   "source": [
    "def psi(el,factor):\n",
    "    psi=np.pi/2 -el -np.arcsin(factor*np.cos(el))\n",
    "    return psi\n",
    "    "
   ]
  },
  {
   "cell_type": "code",
   "execution_count": 44,
   "metadata": {
    "scrolled": true
   },
   "outputs": [
    {
     "name": "stdout",
     "output_type": "stream",
     "text": [
      "0.040637674995325335\n"
     ]
    }
   ],
   "source": [
    "print psi(0.9,factor)"
   ]
  },
  {
   "cell_type": "code",
   "execution_count": 45,
   "metadata": {
    "collapsed": true
   },
   "outputs": [],
   "source": [
    "def lat_ipp(lat,psi,az):\n",
    "    sin_ipp=np.sin(lat)*np.cos(psi)+np.cos(lat)*np.sin(psi)*np.cos(az)\n",
    "    return np.arcsin(sin_ipp)\n",
    "\n",
    "def lon_ipp(lon,psi,az,lat_ipp):\n",
    "    \"\"\"\n",
    "    Assumes we are outside of polar regions\n",
    "    which are above lat 70N or below lat 70S\n",
    "    \"\"\"\n",
    "    l=lon+np.arcsin( (np.sin(psi)*np.sin(az))/np.cos(lat_ipp))\n",
    "    return l\n"
   ]
  },
  {
   "cell_type": "code",
   "execution_count": 46,
   "metadata": {},
   "outputs": [
    {
     "name": "stdout",
     "output_type": "stream",
     "text": [
      "1.5707963267948966\n",
      "elevation 20.000 psi  7.025 latitude -30.456 logitude 29.590\n",
      "elevation 25.000 psi  5.778 latitude -30.538 logitude 28.146\n",
      "elevation 30.000 psi  4.818 latitude -30.591 logitude 27.033\n",
      "elevation 35.000 psi  4.055 latitude -30.626 logitude 26.148\n",
      "elevation 40.000 psi  3.432 latitude -30.650 logitude 25.424\n",
      "elevation 45.000 psi  2.908 latitude -30.667 logitude 24.815\n",
      "elevation 50.000 psi  2.458 latitude -30.680 logitude 24.292\n",
      "elevation 55.000 psi  2.062 latitude -30.689 logitude 23.831\n",
      "elevation 60.000 psi  1.706 latitude -30.696 logitude 23.418\n",
      "elevation 65.000 psi  1.382 latitude -30.701 logitude 23.041\n",
      "elevation 70.000 psi  1.081 latitude -30.705 logitude 22.691\n",
      "elevation 75.000 psi  0.797 latitude -30.708 logitude 22.361\n",
      "elevation 80.000 psi  0.525 latitude -30.710 logitude 22.045\n",
      "elevation 85.000 psi  0.261 latitude -30.711 logitude 21.737\n"
     ]
    }
   ],
   "source": [
    "az=np.radians(90.)\n",
    "la=np.radians(lat)\n",
    "lo=np.radians(lon)\n",
    "print az\n",
    "for eldeg in np.arange(20,90,5):\n",
    "    el=np.radians(eldeg)\n",
    "    ps=psi(el,factor)\n",
    "    lai=lat_ipp(la,ps,az)\n",
    "    loi=lon_ipp(lo,ps,az,lai)\n",
    "    print(\"elevation %6.3f psi %6.3f latitude %6.3f logitude %6.3f\")\\\n",
    "    %(np.degrees(el), np.degrees(ps), np.degrees(lai), np.degrees(loi))\n",
    "    #print np.degrees((el,ps,lai,loi))"
   ]
  },
  {
   "cell_type": "markdown",
   "metadata": {},
   "source": [
    "# From Effects Of The Ionosphere On Ground-Based Global 21 CM Signal Detection\n",
    "\n",
    "$$\\delta\\theta = \\frac{2d}{3R_E} ({\\frac{\\nu_p}{\\nu}}^2) (1+ \\frac{h_m}{R_E})({(sin^2(el) + \\frac{2h_m}{R_E}})^{3/2} cos(el)$$\n"
   ]
  },
  {
   "cell_type": "code",
   "execution_count": 47,
   "metadata": {},
   "outputs": [
    {
     "name": "stdout",
     "output_type": "stream",
     "text": [
      "4.95654065501e-05 1.04703668862 0.2110511556747537 0.9396926207859084\n",
      "0.020388597191271302 arcsec\n"
     ]
    }
   ],
   "source": [
    "f_p=10 # MHz plasma frequency\n",
    "# Usually in the range 1-10MHz\n",
    "f=1420.4 #MHz\n",
    "eldeg=20.0 #degrees\n",
    "el=np.radians(eldeg)\n",
    "R_E=6378.0 #km earth radius\n",
    "h_m=300.0 #km height of F layer\n",
    "d=200.0 #km thickness of ionosphere\n",
    "\n",
    "print (f_p/f)**2,(1+h_m/R_E),np.sin(el)**2+ 2*h_m/R_E,np.cos(el)\n",
    "\n",
    "def dtheta(R,d,f_p,f,h,eldeg):\n",
    "    el=np.radians(eldeg)\n",
    "    dt=(2*d)/(3*R)\n",
    "    dt=dt*((f_p/f)**2)\n",
    "    dt=dt*(1+h/R)\n",
    "    dt=dt*(((np.sin(el)**2+ 2*h/R))**(1.5))\n",
    "    dt=dt*np.cos(el)\n",
    "    dt=np.degrees(dt)\n",
    "    return dt\n",
    "\n",
    "print 3600*dtheta(R_E,d,f_p,f,h_m,eldeg),\"arcsec\""
   ]
  },
  {
   "cell_type": "markdown",
   "metadata": {},
   "source": [
    "# from Griday MSc thesis\n",
    "\n",
    "$$\\Delta\\rho = \\frac{40.308}{f^2}TEC$$\n",
    "\n",
    "* $\\Delta\\rho$ is the change in path length from geometric path in m\n",
    "* f in MHz\n",
    "* vertial TEC is of order 6-20 (typically 10) higher in summer and lower in winter\n",
    "* 1TEC=1e16m^2\n",
    "* during solar flare up to 40!!\n",
    "* also low at night (below 6) and high in day\n",
    "* TEC is TECU along the sight line (of order 10/sin(elev))"
   ]
  },
  {
   "cell_type": "markdown",
   "metadata": {},
   "source": [
    "# IERS technical note 36\n",
    "\n",
    "$$\\delta = -\\frac{s_1}{f^2} -\\frac{s_2}{f^4} - \\frac{s_3}{f^f}$$\n",
    "where $\\theta$ is angle to earth's magnetic field\n",
    "\n",
    "$s_1 = 40.309 \\int{N_e dl}$\n",
    "\n",
    "$s_2 = 1.1284\\times 10^{12}\\int{N_e B\\cos(\\theta)} $\n",
    "\n",
    "$s_3 = 812.42\\int{{N_e}^2 dl} + 1.5793\\times 10^{22} \\int{N_e B^2(1+\\cos^2(\\theta)) dl}$\n",
    "\n",
    "all expessed in SI units\n",
    "\n",
    "typically $B cos(\\theta) \\approx 10^4 nT$"
   ]
  },
  {
   "cell_type": "code",
   "execution_count": 48,
   "metadata": {},
   "outputs": [
    {
     "name": "stdout",
     "output_type": "stream",
     "text": [
      "88.39086005\n"
     ]
    }
   ],
   "source": [
    "TEC=5\n",
    "f=151e6\n",
    "print 40.308*1e16*TEC/f**2"
   ]
  },
  {
   "cell_type": "code",
   "execution_count": 49,
   "metadata": {},
   "outputs": [
    {
     "name": "stdout",
     "output_type": "stream",
     "text": [
      "48.7833149733\n"
     ]
    }
   ],
   "source": [
    "def delay(f,TECU):\n",
    "    \"\"\"\n",
    "    given a freq in MHz \n",
    "    and a slant (or vertical) TEC in TECU\n",
    "    gives delay in metres\n",
    "    \"\"\"\n",
    "    d=4.0308e5*TECU/(f**2)\n",
    "    return d\n",
    "\n",
    "print delay(1574.42,300)"
   ]
  },
  {
   "cell_type": "markdown",
   "metadata": {},
   "source": [
    "# from Ionosphere VLA 74MHz\n",
    " $$ \\phi = 114\\times\\frac{74}{\\nu}TEC$$\n",
    " * $\\phi$ in radians\n",
    " * $\\nu$ in MHz\n",
    " \n",
    " \n",
    " ## Another from Hemboldt\n",
    " $$ \\phi = 84.36\\times\\frac{100}{\\nu}TEC$$\n",
    " or\n",
    " $$ \\phi = \\frac{8436}{\\nu}TEC$$\n",
    " or even\n",
    " $$ \\phi = \\frac{8.436}{\\nu_{GHz}} TEC$$\n",
    " \n",
    " \n",
    " \n",
    " \n",
    " ## shift from refraction depends on difference in phase\n",
    " $$\\theta = \\frac{\\lambda \\Delta\\phi}{2\\pi B}$$\n",
    " \n",
    " * $\\theta$ radians\n",
    " * B is basline in M\n",
    " * $\\lambda$ wavelength\n",
    " "
   ]
  },
  {
   "cell_type": "code",
   "execution_count": 50,
   "metadata": {
    "collapsed": true
   },
   "outputs": [],
   "source": [
    "def refrac(freq,tec1,tec2):\n",
    "    \"\"\"\n",
    "    freq in MHz\n",
    "    differences in TEC should be mostly small (<<0.1)\n",
    "    returns arcseconds\n",
    "    \"\"\"\n",
    "    f74=freq/74.\n",
    "    deltatec=tec1-tec2\n",
    "    theta=deltatec/(6.95e-5*f74*f74)\n",
    "    return theta"
   ]
  },
  {
   "cell_type": "code",
   "execution_count": 51,
   "metadata": {
    "scrolled": true
   },
   "outputs": [
    {
     "name": "stdout",
     "output_type": "stream",
     "text": [
      "-0.195266306668\n",
      "-71.9424460432\n"
     ]
    },
    {
     "data": {
      "text/plain": [
       "'\\nFYI a  median VLA 74MHz B array differential refraction across 5 degrees is about 25 arcsec at high elevations\\nand about 40arcec at elevations beow 40deg\\nsee PROBING FINE-SCALE IONOSPHERIC STRUCTURE WITH THE VERY LARGE ARRAY RADIO TELESCOPE\\n\\ntavelling TIDs have amplitudes of a few (1-5) percent\\n'"
      ]
     },
     "execution_count": 51,
     "metadata": {},
     "output_type": "execute_result"
    }
   ],
   "source": [
    "print refrac(1420.4,6.2,6.205)\n",
    "print refrac(74,6.2,6.205)\n",
    "\"\"\"\n",
    "FYI a  median VLA 74MHz B array differential refraction across 5 degrees is about 25 arcsec at high elevations\n",
    "and about 40arcec at elevations beow 40deg\n",
    "see PROBING FINE-SCALE IONOSPHERIC STRUCTURE WITH THE VERY LARGE ARRAY RADIO TELESCOPE\n",
    "\n",
    "tavelling TIDs have amplitudes of a few (1-5) percent\n",
    "\"\"\""
   ]
  },
  {
   "cell_type": "markdown",
   "metadata": {},
   "source": [
    "# another version\n",
    "\n",
    "$$\\Delta\\theta = -\\frac{1}{8\\pi^2}\\frac{e^2}{\\epsilon_0 m_e}\\frac{1}{\\nu^2}\\nabla{STEC} [radian]$$\n",
    "\n",
    "where STEC is the slant TEC "
   ]
  },
  {
   "cell_type": "code",
   "execution_count": 52,
   "metadata": {
    "collapsed": true
   },
   "outputs": [],
   "source": [
    "def slant(elev,R=6378.0,H=350.0):\n",
    "    \"\"\"\n",
    "    R=earth radius (km)\n",
    "    H= Shell height (km)\n",
    "    elev= elevation in deg\n",
    "    \"\"\"\n",
    "    h=R/(R+H)\n",
    "    x=np.cos(np.radians(elev))\n",
    "    s=1./np.sqrt(1.0 - (h*x)**2)\n",
    "    #print h\n",
    "    #print x\n",
    "    return s"
   ]
  },
  {
   "cell_type": "code",
   "execution_count": 53,
   "metadata": {},
   "outputs": [
    {
     "name": "stdout",
     "output_type": "stream",
     "text": [
      "-193.68468331271734\n"
     ]
    }
   ],
   "source": [
    "# suppose zenith TEC is T and slant tec = T/sin(elev)\n",
    "elev=20.0 #degrees\n",
    "\n",
    "#better version for slant factor\n",
    "\n",
    "T=6.0\n",
    "print refrac(1712., T, T*slant(20,6378.0,350.0))"
   ]
  },
  {
   "cell_type": "code",
   "execution_count": null,
   "metadata": {},
   "outputs": [],
   "source": []
  }
 ],
 "metadata": {
  "kernelspec": {
   "display_name": "Python 2",
   "language": "python",
   "name": "python2"
  },
  "language_info": {
   "codemirror_mode": {
    "name": "ipython",
    "version": 2
   },
   "file_extension": ".py",
   "mimetype": "text/x-python",
   "name": "python",
   "nbconvert_exporter": "python",
   "pygments_lexer": "ipython2",
   "version": "2.7.17"
  }
 },
 "nbformat": 4,
 "nbformat_minor": 2
}
