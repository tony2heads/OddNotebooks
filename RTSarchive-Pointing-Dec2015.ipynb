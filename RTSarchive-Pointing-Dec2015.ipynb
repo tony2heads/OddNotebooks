{
 "cells": [
  {
   "cell_type": "code",
   "execution_count": 1,
   "metadata": {
    "collapsed": false
   },
   "outputs": [],
   "source": [
    "import katarchive\n",
    "import datetime\n"
   ]
  },
  {
   "cell_type": "code",
   "execution_count": 2,
   "metadata": {
    "collapsed": true
   },
   "outputs": [],
   "source": [
    "katarchive.product_filter.only_rts()"
   ]
  },
  {
   "cell_type": "code",
   "execution_count": 3,
   "metadata": {
    "collapsed": false
   },
   "outputs": [],
   "source": [
    "def findh5(det):   # uses detail list to get h5 name\n",
    "    pos=det.find(\"Name:\")\n",
    "    if pos >0  :\n",
    "        pr2=det[pos+37:pos+53].split()\n",
    "        h5name=pr2[0].lstrip(\"/ng\")\n",
    "    return h5name"
   ]
  },
  {
   "cell_type": "code",
   "execution_count": 4,
   "metadata": {
    "collapsed": false
   },
   "outputs": [],
   "source": [
    "def listpr(x):\n",
    "    \"\"\"\n",
    "    takes a list and prints as string\n",
    "    \"\"\"\n",
    "    li=\" \".join(map(str,x))\n",
    "    return li"
   ]
  },
  {
   "cell_type": "code",
   "execution_count": 5,
   "metadata": {
    "collapsed": true
   },
   "outputs": [],
   "source": [
    "start=\"1/12/2016\"\n",
    "end=\"31/12/2016\" "
   ]
  },
  {
   "cell_type": "code",
   "execution_count": 6,
   "metadata": {
    "collapsed": false
   },
   "outputs": [
    {
     "name": "stdout",
     "output_type": "stream",
     "text": [
      "Searched using: CAS.ProductTypeName:(RTSTelescopeProduct) AND CAS.ProductTransferStatus:RECEIVED AND Description:Point AND StartTime:[2016-11-30T22:00:00Z TO 2016-12-31T21:59:59Z]\n",
      "Returning 6 results\n"
     ]
    }
   ],
   "source": [
    "#Look for pointing\n",
    "\n",
    "f=katarchive.search_archive(description=\"Point\",startdate=start,enddate=end)\n",
    "\n",
    "#start = datetime.datetime.strptime(f[-1].__str__().split('\\'')[3],'%Y-%m-%d %H:%M:%S %Z')\n",
    "#end = datetime.datetime.strptime(f[0].__str__().split('\\'')[3],'%Y-%m-%d %H:%M:%S %Z')"
   ]
  },
  {
   "cell_type": "code",
   "execution_count": 7,
   "metadata": {
    "collapsed": true
   },
   "outputs": [],
   "source": [
    "f.sort(key=lambda k: k.metadata.StartTime)"
   ]
  },
  {
   "cell_type": "code",
   "execution_count": 8,
   "metadata": {
    "collapsed": false
   },
   "outputs": [
    {
     "name": "stdout",
     "output_type": "stream",
     "text": [
      "RTS: 2.7.1 Ku-band Offset Pointing\n",
      "m017\n",
      "/var/kat/archive/data/RTS/telescope_products/2016/12/08 1481182160.h5\n",
      "/home/kat/RTS/2.7-Pointing/offset_test_scan.py /home/kat/RTS/sources_bright_Ku.csv -f 12500.5 -m 28800 -n off --fine --number-sources=10000 --sb-id-code=20161206-0002 --description=RTS: 2.7.1 Ku-band Offset Pointing --observer=pkotze --config-label=e2da567,63569fc \n",
      "\n",
      "offset_14 offset_7 offset_12 offset_13 offset_10 offset_11 offset_9 1830-210 OP158.3 offset_8 3C279 offset_4 offset_5 offset_6 3C273 offset_1 offset_2 offset_3\n",
      "........................................................................................\n",
      "RTS: 2.7 L-band Pointing L Band\n",
      "m018 m020\n",
      "/var/kat/archive/data/RTS/telescope_products/2016/12/13 1481614149.h5\n",
      "/home/kat/RTS/2.7-Pointing/point_source_scan.py /home/kat/RTS/sources_pnt_L.csv -n off -m 33000 --horizon=16 -f 1284 --sb-id-code=20161213-0002 --description=RTS: 2.7 L-band Pointing L Band --observer=benjamin --config-label=94f31f8,a86cf83 \n",
      "\n",
      "3C 286 3C 279 3C 358 PKS 2153-69 3C 273 Her A PKS 2104-25 PKS 1814-63 3C 353 PKS 1934-63 PKS 1610-60 Vir A\n",
      "........................................................................................\n",
      "RTS: 2.7 L-band Pointing L Band\n",
      "m018 m020\n",
      "/var/kat/archive/data/RTS/telescope_products/2016/12/13 1481628884.h5\n",
      "/home/kat/RTS/2.7-Pointing/point_source_scan.py /home/kat/RTS/sources_pnt_L.csv -n off -m 33000 --horizon=16 -f 1284 --sb-id-code=20161213-0005 --description=RTS: 2.7 L-band Pointing L Band --observer=benjamin --config-label=e9e3371,a86cf83 \n",
      "\n",
      "3C 409 3C 358 PKS 2153-69 PKS 0410-75 Her A PKS 2104-25 PKS 1814-63 3C 433 3C 353 PKS 1934-63 PKS 1610-60 3C 454.3\n",
      "........................................................................................\n",
      "RTS: 2.7 L-band Pointing L Band\n",
      "m018 m020\n",
      "/var/kat/archive/data/RTS/telescope_products/2016/12/13 1481638619.h5\n",
      "/home/kat/RTS/2.7-Pointing/point_source_scan.py /home/kat/RTS/sources_pnt_L.csv -n off -m 33000 --horizon=16 -f 1284 --sb-id-code=20161213-0006 --description=RTS: 2.7 L-band Pointing L Band --observer=benjamin --config-label=079f7a6,a86cf83 \n",
      "\n",
      "3C 409 3C 358 PKS 2153-69 3C 454.3 For A PKS 2104-25 3C 48 Pic A PKS 0410-75 3C 433 3C 353 PKS 1934-63 PKS 0521-36 Ori A PKS 0408-65 PKS 1610-60 PKS 1814-63\n",
      "........................................................................................\n",
      "RTS: 2.7 Ku-band Pointing\n",
      "m017 m018 m020\n",
      "/var/kat/archive/data/RTS/telescope_products/2016/12/15 1481795194.h5\n",
      "/home/kat/RTS/2.7-Pointing/point_source_scan.py /home/kat/RTS/sources_pnt_Ku.csv -f 12500.5 -n off -m 33000 --style=fine --sb-id-code=20161215-0001 --description=RTS: 2.7 Ku-band Pointing --observer=RTS --config-label=30db002,a86cf83 \n",
      "\n",
      "1622-253 2052-474 1334-127 1730-130 1421-490 4C09.57 2E3390 1613-586 1741-038 NGC6328 1908-201 2E3408 3C279 4C05.64 1830-210 1920-211 OV236 1954-388\n",
      "........................................................................................\n",
      "RTS: 2.7 Ku-band Pointing\n",
      "m017 m018 m020\n",
      "/var/kat/archive/data/RTS/telescope_products/2016/12/15 1481805641.h5\n",
      "/home/kat/RTS/2.7-Pointing/point_source_scan.py /home/kat/RTS/sources_pnt_Ku.csv -f 12500.5 -n off -m 33000 --style=fine --sb-id-code=20161215-0004 --description=RTS: 2.7 Ku-band Pointing --observer=benjamin --config-label=2380d11,a86cf83 \n",
      "\n",
      "1622-253 1730-130 NRAO5 1421-490 NGC6328 2E3408 0208-512 1613-586\n",
      "........................................................................................\n"
     ]
    }
   ],
   "source": [
    "for fi in f:\n",
    "    print fi.metadata.Description\n",
    "    print listpr(fi.metadata.Antennas)\n",
    "    print fi.metadata.FileLocation, findh5(fi.metadata.Details)\n",
    "    print fi.metadata.InstructionSet,\"\\n\"\n",
    "    print listpr(fi.metadata.Targets)\n",
    "    print \".\"*88\n",
    "    "
   ]
  },
  {
   "cell_type": "code",
   "execution_count": 9,
   "metadata": {
    "collapsed": false
   },
   "outputs": [
    {
     "data": {
      "text/plain": [
       "[['1481182160.h5', '2016-12-08 09:29:22 SAST', 'pkotze', 1086917419],\n",
       " ['1481614149.h5', '2016-12-13 09:29:11 SAST', 'benjamin', 5416178674],\n",
       " ['1481628884.h5', '2016-12-13 13:34:46 SAST', 'benjamin', 3510500173],\n",
       " ['1481638619.h5', '2016-12-13 16:17:01 SAST', 'benjamin', 7450960018],\n",
       " ['1481795194.h5', '2016-12-15 11:46:36 SAST', 'RTS', 5534685998],\n",
       " ['1481805641.h5', '2016-12-15 14:40:43 SAST', 'benjamin', 2375029312]]"
      ]
     },
     "execution_count": 9,
     "metadata": {},
     "output_type": "execute_result"
    }
   ],
   "source": [
    "f"
   ]
  },
  {
   "cell_type": "code",
   "execution_count": 10,
   "metadata": {
    "collapsed": false
   },
   "outputs": [
    {
     "name": "stdout",
     "output_type": "stream",
     "text": [
      "08 1481182160 RTS: 2.7.1 Ku-band Offset Pointing m017\n",
      "13 1481614149 RTS: 2.7 L-band Pointing L Band m018 m020\n",
      "13 1481628884 RTS: 2.7 L-band Pointing L Band m018 m020\n",
      "13 1481638619 RTS: 2.7 L-band Pointing L Band m018 m020\n",
      "15 1481795194 RTS: 2.7 Ku-band Pointing m017 m018 m020\n",
      "15 1481805641 RTS: 2.7 Ku-band Pointing m017 m018 m020\n"
     ]
    }
   ],
   "source": [
    "for fi in f:\n",
    "    x= repr(fi)\n",
    "    pr=x.split(\",\")\n",
    "    print pr[1][10:12],findh5(fi.metadata.Details)[:-3] , fi.metadata.Description, listpr(fi.metadata.Antennas)"
   ]
  },
  {
   "cell_type": "code",
   "execution_count": 11,
   "metadata": {
    "collapsed": false
   },
   "outputs": [
    {
     "name": "stdout",
     "output_type": "stream",
     "text": [
      "Searched using: CAS.ProductTypeName:(RTSTelescopeProduct) AND CAS.ProductTransferStatus:RECEIVED AND Description:Interferometric_Pointing AND StartTime:[2016-11-30T22:00:00Z TO 2016-12-31T21:59:59Z]\n",
      "Returning 0 results\n"
     ]
    },
    {
     "data": {
      "text/plain": [
       "[]"
      ]
     },
     "execution_count": 11,
     "metadata": {},
     "output_type": "execute_result"
    }
   ],
   "source": [
    "\n",
    "f2=katarchive.search_archive(description=\"Interferometric_Pointing\",startdate=start,enddate=end)\n",
    "\n",
    "f2.sort(key=lambda k: k.metadata.StartTime)\n",
    "f2"
   ]
  },
  {
   "cell_type": "code",
   "execution_count": 12,
   "metadata": {
    "collapsed": false
   },
   "outputs": [],
   "source": [
    "for fi in f2:\n",
    "    print fi.metadata.Description\n",
    "    print listpr(fi.metadata.Antennas)\n",
    "    print fi.metadata.FileLocation, findh5(fi.metadata.Details)\n",
    "    print fi.metadata.InstructionSet,\"\\n\"\n",
    "    print listpr(fi.metadata.Targets)\n",
    "    print \".\"*88"
   ]
  },
  {
   "cell_type": "code",
   "execution_count": 13,
   "metadata": {
    "collapsed": false,
    "scrolled": true
   },
   "outputs": [
    {
     "data": {
      "text/plain": [
       "[]"
      ]
     },
     "execution_count": 13,
     "metadata": {},
     "output_type": "execute_result"
    }
   ],
   "source": [
    "f2.sort(key=lambda k: k.metadata.StartTime)\n",
    "f2"
   ]
  },
  {
   "cell_type": "code",
   "execution_count": 14,
   "metadata": {
    "collapsed": false
   },
   "outputs": [],
   "source": [
    "for fi in f2:\n",
    "    x= repr(fi)\n",
    "    pr=x.split(\",\")\n",
    "    print pr[1][10:12],findh5(fi.metadata.Details)[:-3],fi.metadata.Description,listpr(fi.metadata.Antennas)"
   ]
  }
 ],
 "metadata": {
  "kernelspec": {
   "display_name": "Python 2",
   "language": "python",
   "name": "python2"
  },
  "language_info": {
   "codemirror_mode": {
    "name": "ipython",
    "version": 2
   },
   "file_extension": ".py",
   "mimetype": "text/x-python",
   "name": "python",
   "nbconvert_exporter": "python",
   "pygments_lexer": "ipython2",
   "version": "2.7.6"
  }
 },
 "nbformat": 4,
 "nbformat_minor": 0
}
