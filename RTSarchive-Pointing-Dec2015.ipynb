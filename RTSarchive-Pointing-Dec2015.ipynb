{
 "cells": [
  {
   "cell_type": "code",
   "execution_count": 49,
   "metadata": {
    "collapsed": true
   },
   "outputs": [],
   "source": [
    "import katarchive\n",
    "import datetime\n"
   ]
  },
  {
   "cell_type": "code",
   "execution_count": 50,
   "metadata": {
    "collapsed": true
   },
   "outputs": [],
   "source": [
    "#%matplotlib inline\n",
    "import numpy as np"
   ]
  },
  {
   "cell_type": "code",
   "execution_count": 51,
   "metadata": {
    "collapsed": true
   },
   "outputs": [],
   "source": [
    "#import matplotlib.pyplot as plt"
   ]
  },
  {
   "cell_type": "code",
   "execution_count": 52,
   "metadata": {
    "collapsed": false
   },
   "outputs": [],
   "source": [
    "import katdal as katfile\n",
    "#import katfile\n",
    "import datetime\n",
    "\n",
    "#import logging\n",
    "#logging.root.setLevel(logging.ERROR)"
   ]
  },
  {
   "cell_type": "code",
   "execution_count": 53,
   "metadata": {
    "collapsed": true
   },
   "outputs": [],
   "source": [
    "katarchive.product_filter.only_rts()"
   ]
  },
  {
   "cell_type": "code",
   "execution_count": 54,
   "metadata": {
    "collapsed": false,
    "scrolled": true
   },
   "outputs": [],
   "source": [
    "#print katarchive.search_archive(startdate='1/11/2015',enddate='31/11/2015')"
   ]
  },
  {
   "cell_type": "code",
   "execution_count": 55,
   "metadata": {
    "collapsed": true
   },
   "outputs": [],
   "source": [
    "start=\"1/12/2015\"\n",
    "end=\"31/12/2015\""
   ]
  },
  {
   "cell_type": "code",
   "execution_count": 56,
   "metadata": {
    "collapsed": false
   },
   "outputs": [
    {
     "name": "stdout",
     "output_type": "stream",
     "text": [
      "Searched using: CAS.ProductTypeName:(RTSTelescopeProduct) AND CAS.ProductTransferStatus:RECEIVED AND Description:Point AND StartTime:[2015-11-30T22:00:00Z TO 2015-12-31T21:59:59Z]\n",
      "Returning 3 results\n"
     ]
    }
   ],
   "source": [
    "#Look for pointing\n",
    "\n",
    "f=katarchive.search_archive(description=\"Point\",startdate=start,enddate=end)\n",
    "\n",
    "start = datetime.datetime.strptime(f[-1].__str__().split('\\'')[3],'%Y-%m-%d %H:%M:%S %Z')\n",
    "end = datetime.datetime.strptime(f[0].__str__().split('\\'')[3],'%Y-%m-%d %H:%M:%S %Z')"
   ]
  },
  {
   "cell_type": "code",
   "execution_count": 57,
   "metadata": {
    "collapsed": false
   },
   "outputs": [
    {
     "name": "stdout",
     "output_type": "stream",
     "text": [
      "First file in run:  2015-12-02T16:14:54\n",
      "Last file in run:  2015-12-06T21:15:53\n"
     ]
    }
   ],
   "source": [
    "print 'First file in run: ' , start.isoformat()\n",
    "print 'Last file in run: ' , end.isoformat()"
   ]
  },
  {
   "cell_type": "code",
   "execution_count": 58,
   "metadata": {
    "collapsed": true
   },
   "outputs": [],
   "source": [
    "f.sort(key=lambda k: k.metadata.StartTime)"
   ]
  },
  {
   "cell_type": "code",
   "execution_count": 59,
   "metadata": {
    "collapsed": false
   },
   "outputs": [
    {
     "name": "stdout",
     "output_type": "stream",
     "text": [
      "RTS: 2.7 Ku-band Pointing\n",
      "/var/kat/archive/data/RTS/telescope_products/2015/12/02\n",
      "1449065684.h5\n",
      "[u'm062', u'm063']\n",
      "[u'0003-066', u'0130-171', u'2251 158', u'0106 013', u'0208-512']\n",
      "/home/kat/RTS/2.7-Pointing/point_source_scan.py /home/kat/RTS/sources_pnt_Ku.csv -f 12500.5 -r 1 -n off -m 33000 --fine --product=c856M4k --horizon=16 --stow-when-done --proposal-id=COMM-RTS --sb-id-code=20151202-0017 --description=RTS: 2.7 Ku-band Pointing --observer=RTS\n",
      "........................................................................................\n",
      "RTS: 2.7 Ku-band Pointing\n",
      "/var/kat/archive/data/RTS/telescope_products/2015/12/02\n",
      "1449081010.h5\n",
      "[u'm062', u'm063']\n",
      "[u'0430 052', u'0420-014', u'0130-171', u'0605-085', u'2255-282', u'0003-066', u'0454-463', u'3C138', u'0458-020', u'0451-282', u'0653-033', u'1127-145', u'1055 018', u'0238-084', u'0537-441', u'0637-752', u'0208-512', u'CenB', u'0727-115', u'0607-157', u'0521-365', u'2355-534', u'0402-362', u'0426-380', u'2153-699', u'3C123', u'0332-403', u'0454-234', u'0252-549', u'1057-797', u'J1152-0841', u'0823 033', u'0648-165', u'0106 013', u'0723-008']\n",
      "/home/kat/RTS/2.7-Pointing/point_source_scan.py /home/kat/RTS/sources_pnt_Ku.csv -f 12500.5 -r 1 -n off -m 25000 --fine --product=c856M4k --horizon=16 --stow-when-done --proposal-id=COMM-RTS --sb-id-code=20151202-0021 --description=RTS: 2.7 Ku-band Pointing --observer=RTS\n",
      "........................................................................................\n",
      "RTS: 2.7 L-band Pointing\n",
      "/var/kat/archive/data/RTS/telescope_products/2015/12/06\n",
      "1449429351.h5\n",
      "[u'm062', u'm063']\n",
      "[u'3C 161', u'3C 279', u'PKS 2153-69', u'3C 48', u'3C 273', u'For A', u'Pic A', u'PKS 0410-75', u'Vir A', u'Ori A', u'PKS 0521-36', u'PKS 0408-65', u'PKS 1610-60', u'Tau A', u'Hyd A', u'3C 123']\n",
      "/home/kat/RTS/2.7-Pointing/point_source_scan.py /home/kat/RTS/sources_pnt_L.csv -r 1 -n coupler,10,10,180 -m 30000 --product=c856M4k -f -1284 --horizon=16 --proposal-id=COMM-RTS --sb-id-code=20151206-0005 --description=RTS: 2.7 L-band Pointing --observer=RTS\n",
      "........................................................................................\n"
     ]
    }
   ],
   "source": [
    "for fi in f:\n",
    "    print fi.metadata.Description\n",
    "    print fi.metadata.FileLocation\n",
    "    print fi.metadata.Filename\n",
    "    print fi.metadata.Antennas\n",
    "    print fi.metadata.Targets\n",
    "    print fi.metadata.InstructionSet\n",
    "    print \".\"*88\n",
    "    "
   ]
  },
  {
   "cell_type": "code",
   "execution_count": 60,
   "metadata": {
    "collapsed": false
   },
   "outputs": [
    {
     "data": {
      "text/plain": [
       "[['1449065684.h5', '2015-12-02 16:14:54 SAST', 'RTS', 6742026292],\n",
       " ['1449081010.h5', '2015-12-02 20:30:11 SAST', 'RTS', 11174684950],\n",
       " ['1449429351.h5', '2015-12-06 21:15:53 SAST', 'RTS', 13585327115]]"
      ]
     },
     "execution_count": 60,
     "metadata": {},
     "output_type": "execute_result"
    }
   ],
   "source": [
    "f"
   ]
  },
  {
   "cell_type": "code",
   "execution_count": 61,
   "metadata": {
    "collapsed": false
   },
   "outputs": [
    {
     "data": {
      "text/plain": [
       "[['1449065684.h5', '2015-12-02 16:14:54 SAST', 'RTS', 6742026292],\n",
       " ['1449081010.h5', '2015-12-02 20:30:11 SAST', 'RTS', 11174684950],\n",
       " ['1449429351.h5', '2015-12-06 21:15:53 SAST', 'RTS', 13585327115]]"
      ]
     },
     "execution_count": 61,
     "metadata": {},
     "output_type": "execute_result"
    }
   ],
   "source": [
    "f.sort(key=lambda k: k.metadata.StartTime)\n",
    "f"
   ]
  },
  {
   "cell_type": "code",
   "execution_count": 62,
   "metadata": {
    "collapsed": false
   },
   "outputs": [
    {
     "name": "stdout",
     "output_type": "stream",
     "text": [
      "Searched using: CAS.ProductTypeName:(RTSTelescopeProduct) AND CAS.ProductTransferStatus:RECEIVED AND Description:Interferometric_Pointing AND StartTime:[2015-11-30T22:00:00Z TO 2015-12-31T21:59:59Z]\n",
      "Returning 3 results\n"
     ]
    },
    {
     "data": {
      "text/plain": [
       "[['1449137265.h5', '2015-12-03 12:07:47 SAST', 'RTS', 394273918],\n",
       " ['1449138207.h5', '2015-12-03 12:23:28 SAST', 'RTS', 1172868718],\n",
       " ['1449140896.h5', '2015-12-03 13:08:17 SAST', 'RTS', 1253914666]]"
      ]
     },
     "execution_count": 62,
     "metadata": {},
     "output_type": "execute_result"
    }
   ],
   "source": [
    "start=\"1/12/2015\"\n",
    "end=\"31/12/2015\"\n",
    "f2=katarchive.search_archive(description=\"Interferometric_Pointing\",startdate=start,enddate=end)\n",
    "\n",
    "f2.sort(key=lambda k: k.metadata.StartTime)\n",
    "f2"
   ]
  },
  {
   "cell_type": "code",
   "execution_count": 63,
   "metadata": {
    "collapsed": false
   },
   "outputs": [
    {
     "name": "stdout",
     "output_type": "stream",
     "text": [
      "RTS: 3.4 Interferometric_Pointing\n",
      "/var/kat/archive/data/RTS/telescope_products/2015/12/03\n",
      "1449137265.h5\n",
      "[u'm062', u'm063']\n",
      "[u'1226 023', u'1921-293', u'1253-055']\n",
      "/home/kat/RTS/3.4-Interferometric_Pointing/radial_holography_scan.py --scan-ants=m063 --num-scans=6 --scan-duration=60 --scan-extent=2 --dump-rate=1 -n OFF -m 28800 /home/kat/RTS/strong_ku_calibrators.csv -f -12499.5 --stow-when-done --proposal-id=COMM-RTS --sb-id-code=20151203-0003 --description=RTS: 3.4 Interferometric_Pointing --observer=RTS\n",
      "........................................................................................\n",
      "RTS: 3.4 Interferometric_Pointing 0.75 deg scan\n",
      "/var/kat/archive/data/RTS/telescope_products/2015/12/03\n",
      "1449138207.h5\n",
      "[u'm062', u'm063']\n",
      "[u'1226 023', u'1921-293', u'1253-055']\n",
      "/home/kat/RTS/3.4-Interferometric_Pointing/radial_holography_scan.py --scan-ants=m063 --num-scans=6 --scan-duration=60 --scan-extent=0.75 --dump-rate=1 -n OFF -m 28800 /home/kat/RTS/strong_ku_calibrators.csv -f -12499.5 --stow-when-done --proposal-id=COMM-RTS --sb-id-code=20151203-0006 --description=RTS: 3.4 Interferometric_Pointing 0.75 deg scan --observer=RTS\n",
      "........................................................................................\n",
      "RTS: 3.4 Interferometric_Pointing 0.75 deg scan m062 scanning\n",
      "/var/kat/archive/data/RTS/telescope_products/2015/12/03\n",
      "1449140896.h5\n",
      "[u'm062', u'm063']\n",
      "[u'1921-293', u'1253-055']\n",
      "/home/kat/RTS/3.4-Interferometric_Pointing/radial_holography_scan.py --scan-ants=m062 --num-scans=6 --scan-duration=60 --scan-extent=0.75 --dump-rate=1 -n OFF -m 28800 /home/kat/RTS/strong_ku_calibrators.csv -f -12499.5 --stow-when-done --proposal-id=COMM-RTS --sb-id-code=20151203-0007 --description=RTS: 3.4 Interferometric_Pointing 0.75 deg scan m062 scanning --observer=RTS\n",
      "........................................................................................\n"
     ]
    }
   ],
   "source": [
    "for fi in f2:\n",
    "    print fi.metadata.Description\n",
    "    print fi.metadata.FileLocation\n",
    "    print fi.metadata.Filename\n",
    "    print fi.metadata.Antennas\n",
    "    print fi.metadata.Targets\n",
    "    print fi.metadata.InstructionSet\n",
    "    print \".\"*88\n",
    "    "
   ]
  }
 ],
 "metadata": {
  "kernelspec": {
   "display_name": "Python 2",
   "language": "python",
   "name": "python2"
  },
  "language_info": {
   "codemirror_mode": {
    "name": "ipython",
    "version": 2
   },
   "file_extension": ".py",
   "mimetype": "text/x-python",
   "name": "python",
   "nbconvert_exporter": "python",
   "pygments_lexer": "ipython2",
   "version": "2.7.3"
  }
 },
 "nbformat": 4,
 "nbformat_minor": 0
}
