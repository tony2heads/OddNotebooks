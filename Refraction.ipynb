{
 "cells": [
  {
   "cell_type": "markdown",
   "metadata": {},
   "source": [
    "# Units etc\n",
    "\n",
    "$P_s$ surface pressure (mBar)\n",
    "\n",
    "$P_w$ partial pressure of water (mBar)\n",
    "\n",
    "$T_s$ surface temp (K)\n",
    "\n",
    "$N_0$ is (refractive index -1) times 10**6"
   ]
  },
  {
   "cell_type": "markdown",
   "metadata": {},
   "source": [
    "# Brussard and Watson (1995)\n",
    "\n",
    "$$ N_0 = 77.6 \\frac{P_s}{T_s} -5.6  \\frac{P_w}{T_s} +3.75\\times 10^5 \\frac{P_w}{{T_s}^2}$$ \n"
   ]
  },
  {
   "cell_type": "markdown",
   "metadata": {},
   "source": [
    "# Smith and Weintrab (1953) \n",
    "\n",
    "$$ N_0 = 77.6 \\frac{P_s}{T_s} -12.8 \\frac{P_w}{T_s} +3.776\\times 10^5 \\frac{P_w}{{T_s}^2}$$"
   ]
  },
  {
   "cell_type": "code",
   "execution_count": 1,
   "metadata": {
    "collapsed": true
   },
   "outputs": [],
   "source": [
    "# P_w\n",
    "import numpy as np\n",
    "\n",
    "def pw(T,RH):\n",
    "    \"\"\"\n",
    "    Given T in Kelvin and Relativ Humidity (%)\n",
    "    calculate water vapoir pressure\n",
    "    From Crane (1976) Methods of Experimental physics (12 part B)\n",
    "    \"\"\"\n",
    "    e_sat= 6.105*np.exp(25.22*(T-273.)/T  - 5.31*np.log(T/273.)) # saturation pressure\n",
    "    Pw=RH*e_sat/100.\n",
    "    return Pw\n",
    "\n",
    "def pw_buck(Ps,T,RH):\n",
    "    \"\"\"\n",
    "    Buck 1981\n",
    "    \"\"\"\n",
    "    e_sat=(1.0007 - 3.46e-6*Ps)*6.1121*np.exp((17.502*(T-273.15))/(T-32.18))\n",
    "    Pw=RH*e_sat/100.\n",
    "    return Pw\n",
    "    "
   ]
  },
  {
   "cell_type": "markdown",
   "metadata": {},
   "source": [
    "#  30% humidity at 300K (27C)"
   ]
  },
  {
   "cell_type": "code",
   "execution_count": 2,
   "metadata": {
    "scrolled": true
   },
   "outputs": [
    {
     "name": "stdout",
     "output_type": "stream",
     "text": [
      "10.74183139232577 10.575335824383483 millibars\n"
     ]
    }
   ],
   "source": [
    "print pw(300,30.), pw_buck(900.,300,30.), \"millibars\""
   ]
  },
  {
   "cell_type": "code",
   "execution_count": 3,
   "metadata": {
    "collapsed": true
   },
   "outputs": [],
   "source": [
    "def bw(Ps,Pw,T):\n",
    "    \"\"\"\n",
    "    N0 from Brussard and Watson\n",
    "    \"\"\"\n",
    "    N= 77.6*Ps/T -5.6*Pw/T +3.75e5*Pw/T**2\n",
    "    return N\n",
    "\n",
    "def sw(Ps,Pw,T):\n",
    "    \"\"\"\n",
    "    N0 from Smith and Weintraub\n",
    "    \"\"\"\n",
    "    N= 77.6*Ps/T -12.8*Pw/T +3.776e5*Pw/T**2\n",
    "    return N\n"
   ]
  },
  {
   "cell_type": "code",
   "execution_count": 4,
   "metadata": {},
   "outputs": [
    {
     "name": "stdout",
     "output_type": "stream",
     "text": [
      "276.7688 276.820622222\n"
     ]
    }
   ],
   "source": [
    "print bw(900,10.6,300), sw(900,10.6,300)"
   ]
  },
  {
   "cell_type": "markdown",
   "metadata": {},
   "source": [
    "# Ulich model\n",
    "\n",
    "Based on *Brussard and Watson*\n",
    "\n",
    "$$ R  = 16.01\\frac{P_s}{T_s} -1.15 \\frac{P_w}{T_s} + 7.734937\\times10^4 \\frac{P_w}{{T_s}^2}$$\n",
    "\n",
    "R is in arcseconds"
   ]
  },
  {
   "cell_type": "code",
   "execution_count": 5,
   "metadata": {
    "collapsed": true
   },
   "outputs": [],
   "source": [
    "def refac_u(Ps,Pw,T):\n",
    "    \"\"\"\n",
    "    Refraction constant in arsec\n",
    "    from Ulich (1981)\n",
    "    based on Brussard and Watson\n",
    "    el in degrees \n",
    "    \"\"\"\n",
    "    r0= 16.01*Ps/T - 1.15*Pw/T +7.734937e4*Pw/T**2\n",
    "    return r0\n",
    "\n",
    "\n",
    "def el_factor(el):\n",
    "    \"\"\"\n",
    "    Elevation dependance used by Ulich\n",
    "    \"\"\"\n",
    "    E=np.radians(el)\n",
    "    E_off=np.radians(87.5)\n",
    "    f=np.cos(E)/(np.sin(E)+0.00175*np.tan(E_off-E))\n",
    "    return f\n"
   ]
  },
  {
   "cell_type": "code",
   "execution_count": 6,
   "metadata": {},
   "outputs": [
    {
     "name": "stdout",
     "output_type": "stream",
     "text": [
      "56.5860411111\n"
     ]
    }
   ],
   "source": [
    "print refac_u(900,10,300)"
   ]
  },
  {
   "cell_type": "code",
   "execution_count": 7,
   "metadata": {
    "scrolled": true
   },
   "outputs": [
    {
     "name": "stdout",
     "output_type": "stream",
     "text": [
      "153.57184263076988 Arcsec\n"
     ]
    }
   ],
   "source": [
    "factor=el_factor(20.)\n",
    "const=refac_u(900,10,300)\n",
    "offset=factor*const\n",
    "print offset, \"Arcsec\""
   ]
  },
  {
   "cell_type": "code",
   "execution_count": 8,
   "metadata": {
    "collapsed": true
   },
   "outputs": [],
   "source": [
    "# model used by katpoint\n",
    "\n",
    "def refraction_offset_vlbi(el, temperature_C, pressure_hPa, humidity_percent):\n",
    "    \"\"\"Calculate refraction correction using model in VLBI Field System.\n",
    "    This uses the refraction model in the VLBI Field System to calculate a\n",
    "    correction to a given elevation angle to account for refractive bending in\n",
    "    the atmosphere, based on surface weather measurements. Each input parameter\n",
    "    can either be a scalar value or an array of values, as long as all arrays\n",
    "    are of the same shape.\n",
    "    Parameters\n",
    "    ----------\n",
    "    el : float or array\n",
    "        Requested elevation angle(s), in radians\n",
    "    temperature_C : float or array\n",
    "        Ambient air temperature at surface, in degrees Celsius\n",
    "    pressure_hPa : float or array\n",
    "        Total barometric pressure at surface, in hectopascal (hPa) or millibars\n",
    "    humidity_percent : float or array\n",
    "        Relative humidity at surface, as a percentage in range [0, 100]\n",
    "    Returns\n",
    "    -------\n",
    "    el_offset : float or array\n",
    "        Refraction offset(s) in radians, which needs to be *added* to\n",
    "        elevation angle(s) to correct it\n",
    "    Notes\n",
    "    -----\n",
    "    The code is based on poclb/refrwn.c in Field System version 9.9.2, which\n",
    "    was added on 2006-11-15. This is a C version (with typos fixed) of the\n",
    "    Fortran version in polb/refr.f. As noted in the Field System\n",
    "    documentation [1]_, the refraction model originated with the Haystack\n",
    "    pointing system, but the documentation for this algorithm seems to have\n",
    "    been lost. It agrees well with the DSN refraction model, though.\n",
    "    References\n",
    "    ----------\n",
    "    .. [1] Himwich, \"Station Programs,\" Mark IV Field System Reference Manual,\n",
    "       Version 8.2, 1 September 1993, available at\n",
    "       `<ftp://gemini.gsfc.nasa.gov/pub/fsdocs/stprog.pdf>`_\n",
    "    \"\"\"\n",
    "    p = (0.458675e1, 0.322009e0, 0.103452e-1, 0.274777e-3, 0.157115e-5)\n",
    "    cvt = 1.33289\n",
    "    a = 40.\n",
    "    b = 2.7\n",
    "    c = 4.\n",
    "    d = 42.5\n",
    "    e = 0.4\n",
    "    f = 2.64\n",
    "    g = 0.57295787e-4\n",
    "\n",
    "    deg2rad=0.017453292519943295\n",
    "    rad2deg=57.295779513082323\n",
    "    \n",
    "    \n",
    "    # Compute SN (surface refractivity) (via dewpoint and water vapor partial pressure? [LS])\n",
    "    rhumi = (100. - humidity_percent) * 0.9\n",
    "    dewpt = temperature_C - rhumi * (0.136667 + rhumi * 1.33333e-3 + temperature_C * 1.5e-3)\n",
    "    pp = p[0] + p[1] * dewpt + p[2] * dewpt ** 2 + p[3] * dewpt ** 3 + p[4] * dewpt ** 4\n",
    "    temperature_K = temperature_C + 273.\n",
    "    # This looks like Smith & Weintraub (1953) or Crane (1976) [LS]\n",
    "    sn = 77.6 * (pressure_hPa + (4810.0 * cvt * pp) / temperature_K) / temperature_K\n",
    "\n",
    "# removed clipping section as irrelevant, we can't go below 15deg\n",
    "    \n",
    "    el_deg = rad2deg*el\n",
    "    aphi = a / ((el_deg + b) ** c)\n",
    "    dele = -d / ((el_deg + e) ** f)\n",
    "    zenith_angle = deg2rad*(90. - el_deg)\n",
    "    bphi = g * (np.tan(zenith_angle) + dele)\n",
    "    # Threw out an (el < 0.01) check here, which will never succeed because el is clipped to be above 1.0 [LS]\n",
    "    return 3600*(bphi * sn - aphi) # arcseconds  for me\n",
    "\n"
   ]
  },
  {
   "cell_type": "code",
   "execution_count": 9,
   "metadata": {},
   "outputs": [
    {
     "name": "stdout",
     "output_type": "stream",
     "text": [
      "160.19841999528742 arcsec\n"
     ]
    }
   ],
   "source": [
    "print refraction_offset_vlbi(np.radians(20), 27., 900., 30.), \"arcsec\""
   ]
  },
  {
   "cell_type": "code",
   "execution_count": 10,
   "metadata": {},
   "outputs": [
    {
     "name": "stdout",
     "output_type": "stream",
     "text": [
      "Populating the interactive namespace from numpy and matplotlib\n"
     ]
    }
   ],
   "source": [
    "%pylab inline"
   ]
  },
  {
   "cell_type": "code",
   "execution_count": 11,
   "metadata": {},
   "outputs": [
    {
     "name": "stdout",
     "output_type": "stream",
     "text": [
      "10.668967418711311\n"
     ]
    },
    {
     "data": {
      "image/png": "[encoded data removed]",
      "text/plain": [
       "<matplotlib.figure.Figure at 0x7f65384df550>"
      ]
     },
     "metadata": {},
     "output_type": "display_data"
    }
   ],
   "source": [
    "za=np.arange(0.,75.,1.) # degrees\n",
    "#print za\n",
    "el=90-za\n",
    "elr=np.radians(el)\n",
    "T=27. # Celsius\n",
    "kelvin=T+273.15\n",
    "press=900. #mbar\n",
    "rh=30. # relative humidity %\n",
    "# Now calculate and plot\n",
    "\n",
    "hum=pw_buck(press,kelvin,rh) # absolute humidity\n",
    "ul_ref=refac_u(press,hum,kelvin)*el_factor(el)\n",
    "print hum\n",
    "pylab.figure(figsize=(15.,15.))\n",
    "pylab.plot(za,refraction_offset_vlbi(elr,T,press,rh),label=\"VLBI\")\n",
    "pylab.plot(za, ul_ref,label=\"Ulich\")\n",
    "pylab.xlabel(\"ZA/deg\")\n",
    "pylab.ylabel(\"refraction/arcsec\")\n",
    "pylab.legend()\n",
    "pylab.grid()\n",
    "pylab.show()"
   ]
  }
 ],
 "metadata": {
  "kernelspec": {
   "display_name": "Python 2",
   "language": "python",
   "name": "python2"
  },
  "language_info": {
   "codemirror_mode": {
    "name": "ipython",
    "version": 2
   },
   "file_extension": ".py",
   "mimetype": "text/x-python",
   "name": "python",
   "nbconvert_exporter": "python",
   "pygments_lexer": "ipython2",
   "version": "2.7.17"
  }
 },
 "nbformat": 4,
 "nbformat_minor": 2
}
