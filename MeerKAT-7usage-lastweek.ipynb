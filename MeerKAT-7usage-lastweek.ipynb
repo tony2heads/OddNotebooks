{
 "cells": [
  {
   "cell_type": "code",
   "execution_count": 1,
   "metadata": {},
   "outputs": [],
   "source": [
    "%matplotlib inline\n",
    "import numpy as np"
   ]
  },
  {
   "cell_type": "code",
   "execution_count": 2,
   "metadata": {},
   "outputs": [],
   "source": [
    "import matplotlib.pyplot as plt"
   ]
  },
  {
   "cell_type": "code",
   "execution_count": 3,
   "metadata": {},
   "outputs": [
    {
     "ename": "ImportError",
     "evalue": "No module named katarchive",
     "output_type": "error",
     "traceback": [
      "\u001b[0;31m---------------------------------------------------------------------------\u001b[0m",
      "\u001b[0;31mImportError\u001b[0m                               Traceback (most recent call last)",
      "\u001b[0;32m<ipython-input-3-691ebc3e6f3e>\u001b[0m in \u001b[0;36m<module>\u001b[0;34m()\u001b[0m\n\u001b[0;32m----> 1\u001b[0;31m \u001b[0;32mimport\u001b[0m \u001b[0mkatarchive\u001b[0m\u001b[0;34m\u001b[0m\u001b[0m\n\u001b[0m\u001b[1;32m      2\u001b[0m \u001b[0;34m\u001b[0m\u001b[0m\n\u001b[1;32m      3\u001b[0m \u001b[0;32mimport\u001b[0m \u001b[0mdatetime\u001b[0m\u001b[0;34m\u001b[0m\u001b[0m\n\u001b[1;32m      4\u001b[0m \u001b[0;34m\u001b[0m\u001b[0m\n\u001b[1;32m      5\u001b[0m \u001b[0;32mimport\u001b[0m \u001b[0mlogging\u001b[0m\u001b[0;34m\u001b[0m\u001b[0m\n",
      "\u001b[0;31mImportError\u001b[0m: No module named katarchive"
     ]
    }
   ],
   "source": [
    "import katarchive\n",
    "\n",
    "import datetime\n",
    "\n",
    "import logging\n",
    "logging.root.setLevel(logging.ERROR)\n"
   ]
  },
  {
   "cell_type": "code",
   "execution_count": null,
   "metadata": {},
   "outputs": [],
   "source": [
    "def findproj(text):\n",
    "    found='Unknown'        # default\n",
    "    chx=text.find('prop')\n",
    "    if chx >0  :\n",
    "        pr2=text[chx+11:chx+38].split()\n",
    "        code=pr2[0]\n",
    "        found=code.replace(\"=\",\"\")\n",
    "    else:\n",
    "        if text.find('maser') >0:\n",
    "            found=\"Maser monitoring\"\n",
    "            #print text\n",
    "    return found"
   ]
  },
  {
   "cell_type": "code",
   "execution_count": null,
   "metadata": {},
   "outputs": [],
   "source": [
    "today=datetime.datetime.today()\n",
    "ago=datetime.timedelta(-7)\n",
    "lastweek=today+ago\n",
    "print today,lastweek\n",
    "begin=lastweek.strftime(format=\"%d/%m/%Y\")\n",
    "end=today.strftime(format=\"%d/%m/%Y\")"
   ]
  },
  {
   "cell_type": "code",
   "execution_count": null,
   "metadata": {},
   "outputs": [],
   "source": [
    "print katarchive.search_archive(startdate=begin,enddate=end)\n"
   ]
  },
  {
   "cell_type": "code",
   "execution_count": null,
   "metadata": {},
   "outputs": [],
   "source": [
    "f = katarchive.search_archive(startdate=begin)\n",
    "start = datetime.datetime.strptime(f[-1].__str__().split('\\'')[3],'%Y-%m-%d %H:%M:%S %Z')\n",
    "end = datetime.datetime.strptime(f[0].__str__().split('\\'')[3],'%Y-%m-%d %H:%M:%S %Z')"
   ]
  },
  {
   "cell_type": "code",
   "execution_count": null,
   "metadata": {},
   "outputs": [],
   "source": [
    "#print 'First file in run: ' , start.isoformat()\n",
    "#print 'Last file in run: ' , end.isoformat()"
   ]
  },
  {
   "cell_type": "code",
   "execution_count": null,
   "metadata": {},
   "outputs": [],
   "source": [
    "for fi in f:\n",
    "    txts=fi.metadata.InstructionSet\n",
    "    p=findproj(txts)\n",
    "    print fi.metadata.ExperimentID, p, fi.metadata.Duration, fi.metadata.Description, len(fi.metadata.Antennas)\n"
   ]
  },
  {
   "cell_type": "markdown",
   "metadata": {},
   "source": [
    "Only select observations that are longer than 1 hrs then extract the project id from the script parameters. If there is no project id then allocated No_project_id "
   ]
  },
  {
   "cell_type": "code",
   "execution_count": null,
   "metadata": {},
   "outputs": [],
   "source": [
    "sbd = [] #Experiment ID\n",
    "pid = [] #project ID\n",
    "fnd = [] #Filename\n",
    "dud = [] #Duration\n",
    "antsd = [] #number of antennas\n",
    "scrd = [] #script  -NOT USED NOW\n",
    "\n",
    "for fi in f:\n",
    "    if fi.metadata.Duration < 3600: #only pick hour long or greater observations for analysis\n",
    "        continue\n",
    "    # now try extract the project-id from the instruction-set string\n",
    "    \"\"\"\n",
    "    script = fi.metadata.InstructionSet\n",
    "    scrd.append(script)\n",
    "    spl = script.split()\n",
    "    \"\"\"\n",
    "    txts=fi.metadata.InstructionSet\n",
    "    p=findproj(txts)\n",
    "    if p == \"Unknown\":\n",
    "        p=\"Maser Monitoring\"\n",
    "    sbd.append(fi.metadata.ExperimentID)\n",
    "    pid.append(p)\n",
    "    fnd.append(fi.metadata.Filename)\n",
    "    dud.append(fi.metadata.Duration)\n",
    "    antsd.append(len(fi.metadata.Antennas))\n"
   ]
  },
  {
   "cell_type": "code",
   "execution_count": null,
   "metadata": {},
   "outputs": [],
   "source": [
    "pi = np.array(pid)\n",
    "sb = np.array(sbd)\n",
    "du = np.array(dud)\n",
    "ants = np.array(antsd)\n",
    "\n",
    "p_cent = (sum(du)/((end.toordinal()-start.toordinal())*24*3600))*100\n",
    "\n",
    "print 'Percentage system usage: ', np.floor(p_cent),'%'\n"
   ]
  },
  {
   "cell_type": "code",
   "execution_count": null,
   "metadata": {},
   "outputs": [],
   "source": [
    "a_id = []\n",
    "a_time = []\n",
    "for p in set(pi):\n",
    "    ind = pi == p\n",
    "    print p,round(sum(du[ind])/3600,2)\n",
    "    a_id.append(p)\n",
    "    a_time.append(round(sum(du[ind])/3600,2))"
   ]
  },
  {
   "cell_type": "code",
   "execution_count": null,
   "metadata": {},
   "outputs": [],
   "source": [
    "ind = np.argsort(a_id)\n",
    "for i in ind:\n",
    "    print (\"%-16s %5.1f %d\") %(a_id[i],a_time[i],ants[i])"
   ]
  },
  {
   "cell_type": "markdown",
   "metadata": {},
   "source": [
    "Find the unique project ids and determine the total observation duration."
   ]
  },
  {
   "cell_type": "markdown",
   "metadata": {},
   "source": [
    "Sort ID and time for display"
   ]
  },
  {
   "cell_type": "markdown",
   "metadata": {},
   "source": [
    "Plot as pie-chart"
   ]
  },
  {
   "cell_type": "code",
   "execution_count": null,
   "metadata": {},
   "outputs": [],
   "source": [
    "cmap = plt.cm.prism\n",
    "colors = cmap(np.linspace(0., 1., 7))"
   ]
  },
  {
   "cell_type": "code",
   "execution_count": null,
   "metadata": {},
   "outputs": [],
   "source": [
    "plt.figure(figsize=(15,15))\n",
    "plt.pie(a_time,labels=a_id,colors=colors,autopct='%1.1f%%');"
   ]
  },
  {
   "cell_type": "code",
   "execution_count": null,
   "metadata": {},
   "outputs": [],
   "source": [
    "plt.show()"
   ]
  },
  {
   "cell_type": "code",
   "execution_count": null,
   "metadata": {},
   "outputs": [],
   "source": [
    "fi.metadata.InstructionSet"
   ]
  },
  {
   "cell_type": "code",
   "execution_count": null,
   "metadata": {},
   "outputs": [],
   "source": []
  }
 ],
 "metadata": {
  "kernelspec": {
   "display_name": "Python 2",
   "language": "python",
   "name": "python2"
  },
  "language_info": {
   "codemirror_mode": {
    "name": "ipython",
    "version": 2
   },
   "file_extension": ".py",
   "mimetype": "text/x-python",
   "name": "python",
   "nbconvert_exporter": "python",
   "pygments_lexer": "ipython2",
   "version": "2.7.17"
  }
 },
 "nbformat": 4,
 "nbformat_minor": 1
}
