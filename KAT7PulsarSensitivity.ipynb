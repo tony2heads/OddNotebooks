{
 "metadata": {
  "name": ""
 },
 "nbformat": 3,
 "nbformat_minor": 0,
 "worksheets": [
  {
   "cells": [
    {
     "cell_type": "code",
     "collapsed": false,
     "input": [
      "import numpy as np\n",
      "from matplotlib import pylab as plt\n",
      "import pyfits\n",
      "%matplotlib inline"
     ],
     "language": "python",
     "metadata": {},
     "outputs": [],
     "prompt_number": 8
    },
    {
     "cell_type": "code",
     "collapsed": false,
     "input": [
      "Gal1420Fits = '/home/sbuchner/KAT7/TBGAL_CONVL.FITS'\n",
      "plscatfile='/home/sbuchner/nassp/psrcat201410.csv'"
     ],
     "language": "python",
     "metadata": {},
     "outputs": [],
     "prompt_number": 14
    },
    {
     "cell_type": "markdown",
     "metadata": {},
     "source": [
      "The mean flux is given by\n",
      "\\begin{equation}\n",
      "S_{mean} = \\frac{(S/ N) \\space T_{sys}}{G  N_{dish}  \\sqrt{n_{p}t_{int} B} }\\sqrt{\\dfrac{W}{P-W}}\n",
      "\\end{equation}\n",
      "\n",
      "(see Lorimer, D. R., & Kramer, M. 2005, Handbook of Pulsar Astronomy (Cambridge: Cambridge Univ. Press) equation A1.21)\n",
      "\n",
      "* $S_{mean}$ is the mean flux density of the pulsar in Jy\n",
      "* $S/N$ is the signal to noise ratio of the folded pulse profile\n",
      "* $T_{sys}$ is the system temperature - this should include contributions from the sky and the receiver\n",
      "* $G$  is the antenna gain of one antenna in $Jy.K^{-1}$\n",
      "* $N_{dish}$ is the number of antennae combined in the beamformer\n",
      "* $n_{p}$ is the number of polarizations\n",
      "* $t_{int}$ is the integration time in s\n",
      "* $B$ is the bandwidth in MHz\n",
      "* P is the pulsar period in seconds\n",
      "* W is the pulse width in seconds\n",
      "\n",
      "If a known pulsar of flux S is observed with $N_{dish}$ $\\times$ KAT7 antennas for $t_{int}$ seconds then the observed snr is \n",
      "\n",
      "\n",
      "\n",
      "\\begin{equation}\n",
      "\\frac{S}{N} =\\dfrac {S_{\\nu}}{T_{sys}}{G  N_{dish}  \\sqrt{n_{p}t_{int} B} }\\sqrt{\\dfrac{P-W}{W}}\n",
      "\\end{equation}\n"
     ]
    },
    {
     "cell_type": "heading",
     "level": 2,
     "metadata": {},
     "source": [
      "Finding Tsky"
     ]
    },
    {
     "cell_type": "code",
     "collapsed": false,
     "input": [
      "# read in the 1420 MHz smooth values and assuming a spectral index\n",
      "# calculate the sky brightness temperature at 1822 MHz\n",
      "\n",
      "hdulist=pyfits.open(Gal1420Fits)\n",
      "Data=np.flipud(np.fliplr(hdulist[0].data))\n",
      "\n",
      "def GetTSky(ra,dec):\n",
      "\n",
      "    Tsky = Data[dec,ra]*(1822.0/1420.0)**(-(2+0.727))\n",
      "\n",
      "    return Tsky\n",
      "#print \"TSky = \",Tsky\n",
      "\n"
     ],
     "language": "python",
     "metadata": {},
     "outputs": [],
     "prompt_number": 47
    },
    {
     "cell_type": "code",
     "collapsed": false,
     "input": [
      "# As an example - find the TSky near Vela\n",
      "\n",
      "print GetTSky(128,-45)"
     ],
     "language": "python",
     "metadata": {},
     "outputs": [
      {
       "output_type": "stream",
       "stream": "stdout",
       "text": [
        "5.39966319782\n"
       ]
      }
     ],
     "prompt_number": 48
    },
    {
     "cell_type": "heading",
     "level": 2,
     "metadata": {},
     "source": [
      "ATNF pulsar catalogue"
     ]
    },
    {
     "cell_type": "markdown",
     "metadata": {},
     "source": [
      "The ATNF pulsar catalogue contains details of all published pulsars.\n",
      "\n",
      "\n",
      "http://www.atnf.csiro.au/people/pulsar/psrcat/\n",
      "\n",
      "I have downloaded all of the pulsars visible from KAT-7 - those that appear above an elevation of 15 degrees."
     ]
    },
    {
     "cell_type": "markdown",
     "metadata": {},
     "source": [
      "The table consists of the following columns\n",
      "0. PSRJ: Pulsar Jname\n",
      "1. P0 Barycentric period of the pulsar (sec)\n",
      "2. P1    Period derivative\n",
      "3. W50    Width of pulse at 50% (msec)\n",
      "4. S1400 Flux at 1400MHz (mJy)\n",
      "5. DM Dispersion measure (cm^{-3} pc)\n",
      "6. RAJD Right Ascension (J2000) (deg)\n",
      "7. DECJD Declination (J2000) (deg)\n",
      "8. GL    Galactic Longitude (deg) \n",
      "9. GB    Galactic Latitude (deg)\n",
      "10. BINARY Binary model"
     ]
    },
    {
     "cell_type": "code",
     "collapsed": false,
     "input": [
      "#load the catalogue into the numpy array pls\n",
      "\n",
      "pls=np.loadtxt(plscatfile,unpack=True,dtype=str)\n",
      "\n",
      "# read the columns into variables\n",
      "\n",
      "NAME =pls[0]\n",
      "Ps = np.array(pls[1],dtype = float)\n",
      "Pdot = np.array(pls[2],dtype=float)\n",
      "W50s = np.array(pls[3],dtype=float)*1E-3\n",
      "Flux1400 = np.array(pls[4],dtype=float)\n",
      "DM = np.array(pls[5],dtype=float)\n",
      "RA = np.array(pls[6],dtype=float)\n",
      "DEC = np.array(pls[7],dtype=float)\n",
      "GLONG = np.array(pls[8],dtype=float)\n",
      "GLAT = np.array(pls[9],dtype=float)\n",
      "BIN = np.array(pls[10]!='*',dtype=int)"
     ],
     "language": "python",
     "metadata": {},
     "outputs": [],
     "prompt_number": 34
    },
    {
     "cell_type": "code",
     "collapsed": false,
     "input": [
      "# As an example find the parameters for Vela J0835-4510\n",
      "\n",
      "Name = 'J0835-4510'\n",
      "\n",
      "print \"Flux1400 MHz = %.2f Jy\" %Flux1400[NAME== Name][0]\n",
      "print \"Period = %.3f ms\" %(Ps[NAME==Name][0]*1000)\n",
      "print \"Width = %.3f ms\" %(W50s[NAME==Name][0]*1000)\n",
      "print \"RA = %.3f\" %(RA[NAME==Name][0])\n",
      "print \"Dec = %.3f\" %(DEC[NAME==Name][0])\n",
      "rapls=RA[NAME==Name][0]\n",
      "decpls=DEC[NAME==Name][0]\n",
      "Tsky = GetTSky(rapls,decpls)\n",
      "print \"Tsky = %.3f\" %Tsky"
     ],
     "language": "python",
     "metadata": {},
     "outputs": [
      {
       "output_type": "stream",
       "stream": "stdout",
       "text": [
        "Flux1400 MHz = 1100.00 Jy\n",
        "Period = 89.328 ms\n",
        "Width = 2.100 ms\n",
        "RA = 128.836\n",
        "Dec = -45.176\n",
        "Tsky = 5.400\n"
       ]
      }
     ],
     "prompt_number": 53
    },
    {
     "cell_type": "heading",
     "level": 2,
     "metadata": {},
     "source": [
      "KAT-7 gain"
     ]
    },
    {
     "cell_type": "code",
     "collapsed": false,
     "input": [
      "\n",
      "# calculate the Gain of the KAT-7 antenna\n",
      "e = 0.5                 # assume an aperature effeciency of 50%\n",
      "d = 12                  # dish diameter\n",
      "\n",
      "G = e * (0.5 * d)**2 * np.pi /2761\n",
      "\n",
      "print \"Gain = \",G"
     ],
     "language": "python",
     "metadata": {},
     "outputs": [
      {
       "output_type": "stream",
       "stream": "stdout",
       "text": [
        "Gain =  0.0204812270064\n"
       ]
      }
     ],
     "prompt_number": 37
    },
    {
     "cell_type": "heading",
     "level": 1,
     "metadata": {},
     "source": [
      "Calculate expected S/N"
     ]
    },
    {
     "cell_type": "markdown",
     "metadata": {},
     "source": [
      "Calculate the expected $S/N$ for an observation\n",
      " \n",
      "Specify\n",
      " \n",
      "* the assumed pulsar spectral index SI\n",
      "* the number of dishes\n",
      "* the pulsar name\n",
      "* the integration length\n",
      "* the bandwidth"
     ]
    },
    {
     "cell_type": "code",
     "collapsed": false,
     "input": [
      "def FindSNR(Name,Ndish,SI,tint,B):\n",
      "    \n",
      "    \n",
      "    # Values for period, width and flux are in the ATNF pulsar catalogue\n",
      "\n",
      "    print \"Name = %s \"%Name\n",
      "    Flux=Flux1400[NAME== Name][0]\n",
      "    P=Ps[NAME==Name][0]\n",
      "    W=W50s[NAME==Name][0]\n",
      "\n",
      "    print Flux,P,W\n",
      "\n",
      "    # To calculate the flux at 1822 MHz a spectral insex, SI must be assumed\n",
      "\n",
      "    Flux1822=Flux*(1822.0/1400)**SI\n",
      "\n",
      "    # Parameters for KAT-7\n",
      "\n",
      "    Tsys = 30               # System temperature\n",
      "    Npol = 2\n",
      "\n",
      "    Tcmb = 2.7\n",
      "    \n",
      "    rapls=RA[NAME==Name][0]\n",
      "    decpls=DEC[NAME==Name][0]\n",
      "    Tsky = GetTSky(rapls,decpls)\n",
      "\n",
      "\n",
      "    print \"Tsky = %.2f \" %Tsky\n",
      "    \n",
      "    \n",
      "    SNR=Flux1822/(Tsys+Tsky+Tcmb)*(Ndish*G*np.sqrt(Npol*B*tint))/np.sqrt((W)/(P-W))\n",
      "    \n",
      "    return SNR\n"
     ],
     "language": "python",
     "metadata": {},
     "outputs": [],
     "prompt_number": 84
    },
    {
     "cell_type": "heading",
     "level": 1,
     "metadata": {},
     "source": [
      "Calculate flux from measure S/N and compare with theoretical"
     ]
    },
    {
     "cell_type": "markdown",
     "metadata": {},
     "source": [
      "Calculate $S_{mean}$ for measured SNR"
     ]
    },
    {
     "cell_type": "code",
     "collapsed": false,
     "input": [
      "def FindFlux(Name,Ndish,SI,tint,B,Snr):\n",
      "    \n",
      "    \n",
      "    # Values for period, width and flux are in the ATNF pulsar catalogue\n",
      "\n",
      "\n",
      "    Flux=Flux1400[NAME== Name][0]\n",
      "    P=Ps[NAME==Name][0]\n",
      "    W=W50s[NAME==Name][0]\n",
      "\n",
      "\n",
      "    # To calculate the flux at 1822 MHz a spectral insex, SI must be assumed\n",
      "\n",
      "    Flux1822=Flux*(1822.0/1400)**SI\n",
      "\n",
      "    # Parameters for KAT-7\n",
      "\n",
      "    Tsys = 30               # System temperature\n",
      "    Npol = 2\n",
      "\n",
      "    Tcmb = 2.7\n",
      "    \n",
      "    rapls=RA[NAME==Name][0]\n",
      "    decpls=DEC[NAME==Name][0]\n",
      "    Tsky = GetTSky(rapls,decpls)\n",
      "\n",
      "\n",
      "    Flux = ((Snr*(Tsys+Tsky+Tcmb))/(Ndish*G*np.sqrt(Npol*B*tint)))*np.sqrt((W)/(P-W))\n",
      "\n",
      "    \n",
      "    return (Flux,Flux1822)"
     ],
     "language": "python",
     "metadata": {},
     "outputs": [],
     "prompt_number": 105
    },
    {
     "cell_type": "heading",
     "level": 1,
     "metadata": {},
     "source": [
      "S/N as a function of integration time"
     ]
    },
    {
     "cell_type": "markdown",
     "metadata": {},
     "source": [
      "Here I plot the $S/N$ as a function of integration time\n",
      "\n",
      "Specify\n",
      "\n",
      "* the assumed pulsar spectral index SI\n",
      "* the number of dishes\n",
      "* the pulsar name"
     ]
    },
    {
     "cell_type": "code",
     "collapsed": false,
     "input": [
      "def PlotSNRvsTint(Name, Ndish,SI):\n",
      "    \n",
      "    # get pulsar parameters from ATNF catalogue\n",
      "    # Values for period, width and flux are in the ATNF pulsar catalogue\n",
      "\n",
      "    print \"Name = %s \"%Name\n",
      "    Flux=Flux1400[NAME== Name][0]\n",
      "    P=Ps[NAME==Name][0]\n",
      "    W=W50s[NAME==Name][0]\n",
      "\n",
      "    print Flux,P,W\n",
      "\n",
      "    # To calculate the flux at 1822 MHz a spectral insex, SI must be assumed\n",
      "\n",
      "    Flux1822=Flux*(1822.0/1400)**SI\n",
      "\n",
      "    # Parameters for KAT-7\n",
      "\n",
      "\n",
      "    B = 200                 # Bandwidth in MHz\n",
      "    Tsys = 30               # System temperature\n",
      "    Npol = 2\n",
      "    \n",
      "    Tvals = np.arange(10,1200,10)    # array containing integration times\n",
      "\n",
      "    SI = -1.8\n",
      "    \n",
      "\n",
      "    Tcmb = 2.7\n",
      "    \n",
      "    rapls=RA[NAME==Name][0]\n",
      "    decpls=DEC[NAME==Name][0]\n",
      "    Tsky = GetTSky(rapls,decpls)\n",
      "\n",
      "\n",
      "    print \"Tsky = %.2f \" %Tsky\n",
      "    \n",
      "    \n",
      "    SNR=Flux1822/(Tsys+Tsky+Tcmb)*(Ndish*G*np.sqrt(Npol*B*Tvals))/np.sqrt((W)/(P-W))\n",
      "    \n",
      "\n",
      "\n",
      "\n",
      "    figure=plt.figure(figsize=(15,10))\n",
      "    plt.title(Name)\n",
      "    plt.ylabel(\"S/N\")\n",
      "    plt.xlabel(\"Integration time /[s])\")\n",
      "\n",
      "    plt.plot(Tvals,SNR,label=\"KAT7\")\n"
     ],
     "language": "python",
     "metadata": {},
     "outputs": [],
     "prompt_number": 82
    },
    {
     "cell_type": "code",
     "collapsed": false,
     "input": [
      "# As an example plot the S/N as a fn of integration time for Vela\n",
      "\n",
      "Ndish = 7\n",
      "SI = -1.8\n",
      "PlotSNRvsTint('J0835-4510', Ndish,SI)"
     ],
     "language": "python",
     "metadata": {},
     "outputs": [
      {
       "output_type": "stream",
       "stream": "stdout",
       "text": [
        "Name = J0835-4510 \n",
        "1100.0 0.089328 0.0021\n",
        "Tsky = 5.40 \n"
       ]
      },
      {
       "metadata": {},
       "output_type": "display_data",
       "png": "[encoded data removed]",
       "text": [
        "<matplotlib.figure.Figure at 0x7fb4b584b750>"
       ]
      }
     ],
     "prompt_number": 83
    },
    {
     "cell_type": "markdown",
     "metadata": {},
     "source": [
      "?"
     ]
    },
    {
     "cell_type": "code",
     "collapsed": false,
     "input": [
      "# As an example calculate the expected S/N for a Vela observation\n",
      "\n",
      "# For an observation J0835-4510.20150319-18-58-12.ant123457.FDT made using 7 dishes\n",
      "\n",
      "tint = 586.26\n",
      "snr_meas=5533.0\n",
      "\n",
      "Name = 'J0835-4510'\n",
      "SI = -1.8\n",
      "Ndish = 7\n",
      "B = 200\n",
      "snr=FindSNR(Name,Ndish,SI,tint,B)\n",
      "\n",
      "print \"Measured S/N = %.2f\" %snr_meas\n",
      "print \"Theoretical S/N = %.2f\" %snr\n",
      "print \"performance = %.2f\" %(float(snr_meas/snr)*100)\n",
      "\n",
      "(Flux,Flux1822)=FindFlux(Name,Ndish,SI,tint,B,snr_meas)\n",
      "\n",
      "print \"Measured flux from snr = %.2f\" %Flux\n",
      "print \"Theoretical flux = %.2f\" %Flux1822\n",
      "print \"performance = %.2f\" %(float(Flux/Flux1822)*100)\n",
      "\n",
      "\n"
     ],
     "language": "python",
     "metadata": {},
     "outputs": [
      {
       "output_type": "stream",
       "stream": "stdout",
       "text": [
        "Name = J0835-4510 \n",
        "1100.0 0.089328 0.0021\n",
        "Tsky = 5.40 \n",
        "Measured S/N = 5533.00\n",
        "Theoretical S/N = 8040.12\n",
        "performance = 68.82\n",
        "Measured flux from snr = 471.12\n",
        "Theoretical flux = 684.60\n",
        "performance = 68.82\n"
       ]
      }
     ],
     "prompt_number": 111
    },
    {
     "cell_type": "code",
     "collapsed": false,
     "input": [
      "# As an example calculate the expected S/N for a Vela observation\n",
      "\n",
      "# For an observation J0835-4510.20150319-18-58-12.ant123457.FDT made using 7 dishes\n",
      "\n",
      "tint = 598.954\n",
      "snr_meas=474.452362060547\n",
      "\n",
      "Name = 'J0437-4715'\n",
      "SI = -1.8\n",
      "Ndish = 7\n",
      "B = 200\n",
      "snr=FindSNR(Name,Ndish,SI,tint,B)\n",
      "\n",
      "print \"Measured S/N = %.2f\" %snr_meas\n",
      "print \"Theoretical S/N = %.2f\" %snr\n",
      "print \"performance = %.2f\" %(float(snr_meas/snr)*100)\n",
      "\n",
      "(Flux,Flux1822)=FindFlux(Name,Ndish,SI,tint,B,snr_meas)\n",
      "\n",
      "print \"Measured flux from snr = %.2f\" %Flux\n",
      "print \"Theoretical flux = %.2f\" %Flux1822\n",
      "print \"performance = %.2f\" %(float(Flux/Flux1822)*100)\n"
     ],
     "language": "python",
     "metadata": {},
     "outputs": [
      {
       "output_type": "stream",
       "stream": "stdout",
       "text": [
        "Name = J0437-4715 \n",
        "149.0 0.005757 0.000141\n",
        "Tsky = 5.34 \n",
        "Measured S/N = 474.45\n",
        "Theoretical S/N = 1079.53\n",
        "performance = 43.95\n",
        "Measured flux from snr = 40.76\n",
        "Theoretical flux = 92.73\n",
        "performance = 43.95\n"
       ]
      }
     ],
     "prompt_number": 109
    },
    {
     "cell_type": "code",
     "collapsed": false,
     "input": [],
     "language": "python",
     "metadata": {},
     "outputs": []
    }
   ],
   "metadata": {}
  }
 ]
}