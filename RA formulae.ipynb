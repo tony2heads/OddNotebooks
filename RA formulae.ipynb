{
 "metadata": {
  "name": "RA formulae"
 }, 
 "nbformat": 2, 
 "worksheets": [
  {
   "cells": [
    {
     "cell_type": "markdown", 
     "source": [
      "$\\theta$ in arcsec, ", 
      "", 
      "$S$ in Jy, ", 
      "", 
      "$\\nu$ in GHz, ", 
      "", 
      "$\\alpha$ in sense $S \\propto \\nu^{-\\alpha}$, (typically 0.75)", 
      "", 
      "B in Tesla"
     ]
    }, 
    {
     "cell_type": "markdown", 
     "source": [
      "$T_b =10^{12} K$ ", 
      "", 
      "when ", 
      "", 
      "$\\nu ^{2+\\alpha}  =1.387\\times 10^{-6} \\frac {S_{obs} {\\nu_{obs}}^{\\alpha}}{\\theta^2}$"
     ]
    }, 
    {
     "cell_type": "markdown", 
     "source": [
      "$\\nu_{selfabs} = 2.86\\times 10^{-4} B (1+z){\\frac{S \\nu^{\\alpha}}{\\theta^2}}^2$"
     ]
    }, 
    {
     "cell_type": "markdown", 
     "source": [
      "Ageing break time ", 
      "", 
      "$\\nu_{break} =\\frac {1}{(B/{gauss})^3 (t/(years)^2}$", 
      "", 
      "$t/sec = 1.06 \\times 10^6 \\frac {1}{\\sqrt ({\\nu_{emitted} /Hz) {(B/tesla)} ^3}}$ "
     ]
    }
   ]
  }
 ]
}