{
 "cells": [
  {
   "cell_type": "code",
   "execution_count": 1,
   "metadata": {},
   "outputs": [],
   "source": [
    "import ephem\n",
    "import math\n",
    "import operator\n",
    "\n",
    "# Setup KAT site\n",
    "kat = ephem.Observer()\n",
    "kat.lat = '-30.71317'\n",
    "kat.long = '21.44389'\n",
    "kat.elevation = 1038\n",
    "kat.temp=25\n",
    "kat.pressure=890\n",
    "kat.horizon=\"20:00:00\"\n",
    "kat.date = ephem.now()\n",
    "\n"
   ]
  },
  {
   "cell_type": "code",
   "execution_count": 2,
   "metadata": {},
   "outputs": [],
   "source": [
    "testsource=ephem.FixedBody()\n",
    "testsource.name=\"J0534+1927\"\n",
    "testsource._ra =\"05:34:44.5183\"\n",
    "testsource._dec=\"+19:27:21.7\"\n",
    "testsource.compute(kat)\n",
    "# Get sources\n"
   ]
  },
  {
   "cell_type": "code",
   "execution_count": 3,
   "metadata": {},
   "outputs": [
    {
     "name": "stdout",
     "output_type": "stream",
     "text": [
      "TauA 2.55915350257\n"
     ]
    }
   ],
   "source": [
    "crab=ephem.FixedBody()\n",
    "crab.name=\"TauA\"\n",
    "crab._ra=\"05:34:31.94\"  # J2000 position\n",
    "crab._dec=\"22:00:52.2\" #J2000 position\n",
    "crab.compute(kat) \n",
    "print crab.name, math.degrees(ephem.separation(crab,testsource))\n"
   ]
  },
  {
   "cell_type": "code",
   "execution_count": 4,
   "metadata": {},
   "outputs": [
    {
     "name": "stdout",
     "output_type": "stream",
     "text": [
      "Distance to Crab    2.6 deg\n"
     ]
    }
   ],
   "source": [
    "sep= math.degrees(ephem.separation(crab,testsource))\n",
    "print (\"Distance to Crab %6.1f deg\") %(sep)"
   ]
  }
 ],
 "metadata": {
  "kernelspec": {
   "display_name": "Python 2",
   "language": "python",
   "name": "python2"
  },
  "language_info": {
   "codemirror_mode": {
    "name": "ipython",
    "version": 2
   },
   "file_extension": ".py",
   "mimetype": "text/x-python",
   "name": "python",
   "nbconvert_exporter": "python",
   "pygments_lexer": "ipython2",
   "version": "2.7.17"
  }
 },
 "nbformat": 4,
 "nbformat_minor": 1
}
