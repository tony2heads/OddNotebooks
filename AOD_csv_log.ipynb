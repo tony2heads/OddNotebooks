{
 "cells": [
  {
   "cell_type": "markdown",
   "metadata": {},
   "source": [
    "# AOD logger\n",
    "\n",
    "Generate a csv file with information about observations recorded on MeerKAT\n",
    "\n",
    "Written by Sarah Buchner 2017"
   ]
  },
  {
   "cell_type": "code",
   "execution_count": 1,
   "metadata": {},
   "outputs": [
    {
     "name": "stderr",
     "output_type": "stream",
     "text": [
      "/usr/local/lib/python2.7/dist-packages/h5py/__init__.py:36: FutureWarning: Conversion of the second argument of issubdtype from `float` to `np.floating` is deprecated. In future, it will be treated as `np.float64 == np.dtype(float).type`.\n",
      "  from ._conv import register_converters as _register_converters\n"
     ]
    }
   ],
   "source": [
    "import pysolr\n",
    "from IPython.core.display import display, HTML\n",
    "\n",
    "import katdal\n",
    "import katpoint\n",
    "\n",
    "import os\n",
    "import glob\n",
    "\n",
    "import csv\n",
    "\n",
    "archive = pysolr.Solr('http://192.168.1.50:8983/solr/kat_core')"
   ]
  },
  {
   "cell_type": "markdown",
   "metadata": {},
   "source": [
    "## Setup variables\n",
    "\n",
    "set up start and end date\n",
    "optionally set up observer or instruction set"
   ]
  },
  {
   "cell_type": "code",
   "execution_count": 2,
   "metadata": {
    "collapsed": true
   },
   "outputs": [],
   "source": [
    "extra_search=[]\n",
    "extra_components=[]\n",
    "\n",
    "# uncomment these lines to add additional searches\n",
    "\n",
    "#extra_components.append('InstructionSet:*beamform*')\n",
    "#extra_components.append('Observer:*arah*')\n",
    "#extra_search = ' AND '.join(extra_components)\n",
    "\n",
    "startdate = '2018-03-04T00:00:00Z'\n",
    "enddate = '2018-03-07T00:00:00Z'\n",
    "\n",
    "\n",
    "outputfilenm=\"AODLog.csv\""
   ]
  },
  {
   "cell_type": "markdown",
   "metadata": {},
   "source": [
    "# Get links to observation report"
   ]
  },
  {
   "cell_type": "code",
   "execution_count": 3,
   "metadata": {
    "collapsed": true
   },
   "outputs": [],
   "source": [
    "def get_obsreport_link(scheduleID):\n",
    "\n",
    "    reduction = archive.search('CAS.ProductTypeName:MeerKATAR1ReductionProduct AND ExperimentID:%s' % scheduleID, sort=\"StartTime desc\") \n",
    "    obsrep=\"None\"\n",
    "    if reduction.hits > 0:\n",
    "        for r in reduction.docs:\n",
    "            ReductionName=str(r[\"ReductionName\"])\n",
    "            if \"Observation\" in ReductionName:\n",
    "                redfiles = r[\"CAS.ReferenceDatastore\"] \n",
    "                for fl in redfiles:\n",
    "                    if fl.endswith('html') or fl.endswith('pdf'):\n",
    "                        link=fl[5:]\n",
    "                        obsrep=link.replace('/var/kat','http://kat-archive.kat.ac.za')\n",
    "    return obsrep"
   ]
  },
  {
   "cell_type": "code",
   "execution_count": 4,
   "metadata": {},
   "outputs": [
    {
     "name": "stdout",
     "output_type": "stream",
     "text": [
      "Searching archive for CAS.ProductTypeName:MeerKATAR1TelescopeProduct AND StartTime:[\"2018-03-04T00:00:00Z\" TO \"2018-03-07T00:00:00Z\"]\n",
      "Found 29 hits\n"
     ]
    }
   ],
   "source": [
    "search_string=[]\n",
    "\n",
    "search_components = []\n",
    "\n",
    "if extra_search != []:\n",
    "    search_components.append(extra_search)\n",
    "\n",
    "search_components.append('CAS.ProductTypeName:MeerKATAR1TelescopeProduct')\n",
    "\n",
    "\n",
    "search_components.append('StartTime:[\"%s\" TO \"%s\"]'%(startdate,enddate))\n",
    "search_string = ' AND '.join(search_components)\n",
    "\n",
    "\n",
    "print \"Searching archive for %s\" %search_string\n",
    "ar_res = archive.search( search_string ,rows=15000,**{'sort':'StartTime asc'})\n",
    "print \"Found %d hits\" %ar_res.hits\n",
    "\n",
    "ObsCount=ar_res.hits"
   ]
  },
  {
   "cell_type": "code",
   "execution_count": 5,
   "metadata": {},
   "outputs": [
    {
     "name": "stdout",
     "output_type": "stream",
     "text": [
      "Writing observation log to AODLog.csv\n",
      "Processing 20180303-0089: 1 of 29\n",
      "Processing 20180304-0001: 2 of 29\n",
      "Processing 20180304-0003: 3 of 29\n",
      "Processing 20180304-0002: 4 of 29\n",
      "Processing 20180304-0004: 5 of 29\n",
      "Processing 20180304-0020: 6 of 29\n",
      "Processing 20180304-0022: 7 of 29\n",
      "Processing 20180304-0006: 8 of 29\n",
      "Processing 20180304-0007: 9 of 29\n",
      "Processing 20180305-0002: 10 of 29\n",
      "Processing 20180305-0003: 11 of 29\n",
      "Processing 20180305-0004: 12 of 29\n",
      "Processing 20180305-0001: 13 of 29\n",
      "Processing 20180304-0008: 14 of 29\n",
      "Processing 20180303-0085: 15 of 29\n",
      "Processing 20180305-0005: 16 of 29\n",
      "Processing 20180304-0009: 17 of 29\n",
      "Processing 20180304-0010: 18 of 29\n",
      "Processing 20180304-0012: 19 of 29\n",
      "Processing 20180304-0013: 20 of 29\n",
      "Processing 20180304-0016: 21 of 29\n",
      "Processing 20180304-0017: 22 of 29\n",
      "Processing 20180305-0006: 23 of 29\n",
      "Processing 20180305-0007: 24 of 29\n",
      "Processing 20180304-0018: 25 of 29\n",
      "Processing 20180305-0009: 26 of 29\n",
      "Processing 20180305-0010: 27 of 29\n",
      "Processing 20180305-0011: 28 of 29\n",
      "Processing 20180306-0002: 29 of 29\n"
     ]
    }
   ],
   "source": [
    "outputfile=open(outputfilenm,\"w\")\n",
    "\n",
    "print \"Writing observation log to %s\" %(outputfilenm)\n",
    "\n",
    "\n",
    "outputfile.write(\"SB;Observer;StartTime;description;duration;FreqChannels;DumpPeriod;NAnts;Ants;progress_report;archivelink;obsrep;QA1;VisFile;instructionSet\\n\")\n",
    "                 \n",
    "Count = 0\n",
    "for r in ar_res.docs:\n",
    "\n",
    "    Count = Count + 1\n",
    "    # check for meta-data\n",
    "    try:\n",
    "        SB = r['ScheduleBlockIdCode']\n",
    "        print \"Processing %s: %d of %d\" %(SB,Count,ObsCount)\n",
    "\n",
    "    except:\n",
    "        continue\n",
    "    \n",
    "\n",
    "\n",
    "    \n",
    "    if r.has_key('Observer'):\n",
    "        Observer = r['Observer']\n",
    "    else:\n",
    "        Observer = 'No observer'\n",
    "    \n",
    "    if r.has_key('Targets'):\n",
    "        Target = r['Targets'][0]\n",
    "    else:\n",
    "        Target = 'No target'\n",
    "        \n",
    "\n",
    "    if r.has_key('InstructionSet'):\n",
    "        instructions = r['InstructionSet']\n",
    "    else:\n",
    "        instructions = \"No instructions\"\n",
    "        \n",
    "    if r.has_key('Description'):\n",
    "        description = r['Description']\n",
    "    else:\n",
    "        description = \"No instructions\"\n",
    "    \n",
    "    QA1=' '             \n",
    "    if r.has_key('QA1'):\n",
    "        QA1 = r['QA1']\n",
    "    FreqChannels=r['NumFreqChannels']\n",
    "    DumpPeriod=r['DumpPeriod']\n",
    "    duration=r['Duration']\n",
    "    Start=r['StartTime']\n",
    "    #description=r['Description']\n",
    "    Ants=' '.join(r['Antennas'])\n",
    "    NAnts=len(r['Antennas'])\n",
    "    VisFile=r['CAS.ReferenceDatastore'][0][5:]\n",
    "    progress='http://obs.mkat.karoo.kat.ac.za:8081/tailtask/%s/progress'%(SB)\n",
    "    archivelink = 'http://kat-archive.kat.ac.za:8080/archive_search/#{\"ei\":\"%s\",\"so\":true,\"a\":true,\"b\":true,\"ob\":false,\"rs\":{}}'%(SB)\n",
    "    obsrep=get_obsreport_link(SB)\n",
    "\n",
    "\n",
    "\n",
    "\n",
    "    try:\n",
    "        outputfile.write(\"%s;%s;%s;%s;\" %(SB,Observer,Start,description))\n",
    "                                      \n",
    "        outputfile.write(\"%d;%d;%d;%d;%s;%s;\" %(duration,FreqChannels,round(DumpPeriod),NAnts,Ants,progress))\n",
    "        outputfile.write(\"%s;%s;%s;%s;\" %(archivelink,obsrep,QA1,VisFile))\n",
    "\n",
    "        outputfile.write(\"%s\\n\" %(instructions))\n",
    "    except:\n",
    "        print \"issues with %s\" %(SB)\n",
    "    \n",
    "    \n",
    "  \n",
    "outputfile.close()  \n",
    "        "
   ]
  },
  {
   "cell_type": "code",
   "execution_count": null,
   "metadata": {
    "collapsed": true
   },
   "outputs": [],
   "source": []
  },
  {
   "cell_type": "code",
   "execution_count": null,
   "metadata": {
    "collapsed": true
   },
   "outputs": [],
   "source": []
  }
 ],
 "metadata": {
  "kernelspec": {
   "display_name": "Python 2",
   "language": "python",
   "name": "python2"
  },
  "language_info": {
   "codemirror_mode": {
    "name": "ipython",
    "version": 2
   },
   "file_extension": ".py",
   "mimetype": "text/x-python",
   "name": "python",
   "nbconvert_exporter": "python",
   "pygments_lexer": "ipython2",
   "version": "2.7.6"
  }
 },
 "nbformat": 4,
 "nbformat_minor": 2
}
