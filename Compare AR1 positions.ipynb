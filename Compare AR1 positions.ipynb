{
 "cells": [
  {
   "cell_type": "code",
   "execution_count": 127,
   "metadata": {
    "collapsed": true
   },
   "outputs": [],
   "source": [
    "import katdal"
   ]
  },
  {
   "cell_type": "code",
   "execution_count": 128,
   "metadata": {
    "collapsed": true
   },
   "outputs": [],
   "source": [
    "n_bad=\"/var/kat/archive2/data/MeerKATAR1/telescope_products/2016/07/26/1469542750.h5\""
   ]
  },
  {
   "cell_type": "code",
   "execution_count": 129,
   "metadata": {
    "collapsed": true
   },
   "outputs": [],
   "source": [
    "h5=katdal.open(n_bad)"
   ]
  },
  {
   "cell_type": "code",
   "execution_count": 130,
   "metadata": {
    "collapsed": false
   },
   "outputs": [
    {
     "name": "stdout",
     "output_type": "stream",
     "text": [
      "===============================================================================\n",
      "Name: /var/kat/archive2/data/MeerKATAR1/telescope_products/2016/07/26/1469542750.h5 (version 3.0)\n",
      "===============================================================================\n",
      "Observer: tony  Experiment ID: 20160726-0030\n",
      "Description: 'AR1:   MKAIV-215 - Phase-up 1934 OPEN  Phase-up 1934'\n",
      "Observed from 2016-07-26 16:22:32.900 SAST to 2016-07-26 16:22:56.890 SAST\n",
      "Dump rate / period: 0.25011 Hz / 3.998 s\n",
      "Subarrays: 1\n",
      "  ID  Antennas                            Inputs  Corrprods\n",
      "   0  m024,m025,m063,m003,m008,m015,m062,m010,m006  18      180\n",
      "Spectral Windows: 1\n",
      "  ID  Product    CentreFreq(MHz)  Bandwidth(MHz)  Channels  ChannelWidth(kHz)\n",
      "   0  bc856M32k   1284.000         856.000         32768       26.123\n",
      "-------------------------------------------------------------------------------\n",
      "Data selected according to the following criteria:\n",
      "  subarray=0\n",
      "  ants=['m008', 'm003', 'm006', 'm063', 'm015', 'm010', 'm025', 'm024', 'm062']\n",
      "  spw=0\n",
      "-------------------------------------------------------------------------------\n",
      "Shape: (6 dumps, 32768 channels, 180 correlation products) => Size: 283.116 MB\n",
      "Antennas: m024,m025,m063,m003,*m008,m015,m062,m010,m006  Inputs: 18  Autocorr: yes  Crosscorr: yes\n",
      "Channels: 32768 (index 0 - 32767,  856.000 MHz - 1711.974 MHz), each  26.123 kHz wide\n",
      "Targets: 1 selected out of 1 in catalogue\n",
      "  ID  Name     Type      RA(J2000)     DEC(J2000)  Tags  Dumps  ModelFlux(Jy)\n",
      "   0  Nothing  special             -            -            6  \n",
      "Scans: 1 selected out of 1 total       Compscans: 1 selected out of 1 total\n",
      "  Date        Timerange(UTC)       ScanState  CompScanLabel  Dumps  Target\n",
      "  26-Jul-2016/14:22:34 - 14:22:54    0:stop     0:track          6    0:Nothing\n"
     ]
    }
   ],
   "source": [
    "print h5"
   ]
  },
  {
   "cell_type": "code",
   "execution_count": 131,
   "metadata": {
    "collapsed": false
   },
   "outputs": [
    {
     "name": "stdout",
     "output_type": "stream",
     "text": [
      "[<katpoint.Antenna 'm024' diam=13.5m at 0x7fa7e2e8b750>, <katpoint.Antenna 'm025' diam=13.5m at 0x7fa7e2d5bc50>, <katpoint.Antenna 'm063' diam=13.5m at 0x7fa7e2d20450>, <katpoint.Antenna 'm003' diam=13.5m at 0x7fa7e2d20c10>, <katpoint.Antenna 'm008' diam=13.5m at 0x7fa7e2cf1410>, <katpoint.Antenna 'm015' diam=13.5m at 0x7fa7e2cf1bd0>, <katpoint.Antenna 'm062' diam=13.5m at 0x7fa7e2cfd3d0>, <katpoint.Antenna 'm010' diam=13.5m at 0x7fa7e2cfdb90>, <katpoint.Antenna 'm006' diam=13.5m at 0x7fa7e2d06390>]\n"
     ]
    }
   ],
   "source": [
    "print h5.ants"
   ]
  },
  {
   "cell_type": "code",
   "execution_count": 132,
   "metadata": {
    "collapsed": false
   },
   "outputs": [
    {
     "name": "stdout",
     "output_type": "stream",
     "text": [
      "m003 [-66.518, -202.2855, 0.8475, -91.12, -110.864, 0.0]\n",
      "m006 [-18.2245, -295.43, 1.7495, -105.536, -105.017, 0.0]\n",
      "m008 [-93.5155, -535.027, 3.006, -105.05, -105.26, 0.0]\n",
      "m010 [88.1025, -511.8735, 3.745, -97.871, -97.499, 0.0]\n",
      "m015 [210.6505, -219.151, 2.314, -70.122, -69.627, 0.0]\n",
      "m024 [-351.0405, 150.0775, -2.596, -107.097, -106.625, 0.0]\n",
      "m025 [-181.974, 225.606, -2.367, 88.699, 88.699, 0.0]\n",
      "m062 [-1440.594, -2503.772, 14.321, -58.976, -59.231, 0.0]\n",
      "m063 [-3419.5495, -1840.5245, 8.8035, -316.69, -316.924, 0.0]\n"
     ]
    }
   ],
   "source": [
    "h5.ants.sort()\n",
    "for antn in h5.ants:\n",
    "    print antn.name, antn.delay_model.values()"
   ]
  },
  {
   "cell_type": "code",
   "execution_count": 133,
   "metadata": {
    "collapsed": false
   },
   "outputs": [],
   "source": [
    "#n_good=\"/var/kat/archive2/data/MeerKATAR1/telescope_products/2016/07/06/1467801567.h5\"\n",
    "#n_good=\"/var/kat/archive2/data/MeerKATAR1/telescope_products/2016/06/15/1465993539.h5\"\n",
    "n_good='/var/kat/archive2/data/MeerKATAR1/telescope_products/2016/06/30/1467318862.h5'"
   ]
  },
  {
   "cell_type": "code",
   "execution_count": 134,
   "metadata": {
    "collapsed": false
   },
   "outputs": [
    {
     "name": "stderr",
     "output_type": "stream",
     "text": [
      "WARNING:katdal.h5datav3:Irregular timestamps detected in file '/var/kat/archive2/data/MeerKATAR1/telescope_products/2016/06/30/1467318862.h5': expected 105.750 dumps based on dump period and start/end times, got 106 instead\n"
     ]
    }
   ],
   "source": [
    "h5_good=katdal.open(n_good)\n",
    "#print h5_good"
   ]
  },
  {
   "cell_type": "code",
   "execution_count": 136,
   "metadata": {
    "collapsed": false
   },
   "outputs": [
    {
     "name": "stdout",
     "output_type": "stream",
     "text": [
      "m003 [-66.518, -202.2855, 0.8475, -91.12, -110.864, 0.0]\n",
      "m006 [-18.2245, -295.43, 1.7495, -105.536, -105.017, 0.0]\n",
      "m008 [-93.5155, -535.027, 3.006, -105.05, -105.26, 0.0]\n",
      "m010 [88.1025, -511.8735, 3.745, -97.871, -97.499, 0.0]\n",
      "m015 [210.6505, -219.151, 2.314, -70.122, -69.627, 0.0]\n",
      "m024 [-351.0405, 150.0775, -2.596, -107.097, -106.625, 0.0]\n",
      "m025 [-181.974, 225.606, -2.367, 88.699, 88.699, 0.0]\n",
      "m062 [-1440.594, -2503.772, 14.321, -58.976, -59.231, 0.0]\n",
      "m063 [-3419.5495, -1840.5245, 8.8035, -316.69, -316.924, 0.0]\n"
     ]
    }
   ],
   "source": [
    "h5_good.ants.sort()\n",
    "for antn in h5_good.ants:\n",
    "    if antn.name in ['m003','m006','m008','m010','m015','m024','m025','m062','m063']:\n",
    "        print antn.name, antn.delay_model.values()"
   ]
  },
  {
   "cell_type": "code",
   "execution_count": null,
   "metadata": {
    "collapsed": true
   },
   "outputs": [],
   "source": []
  }
 ],
 "metadata": {
  "kernelspec": {
   "display_name": "Python 2",
   "language": "python",
   "name": "python2"
  },
  "language_info": {
   "codemirror_mode": {
    "name": "ipython",
    "version": 2
   },
   "file_extension": ".py",
   "mimetype": "text/x-python",
   "name": "python",
   "nbconvert_exporter": "python",
   "pygments_lexer": "ipython2",
   "version": "2.7.6"
  }
 },
 "nbformat": 4,
 "nbformat_minor": 0
}
