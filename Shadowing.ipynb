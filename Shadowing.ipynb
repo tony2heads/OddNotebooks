{
 "cells": [
  {
   "cell_type": "markdown",
   "metadata": {},
   "source": [
    "for a baseline B and elevation angle $\\theta$ projected baseline length is\n",
    "$$b=B.sin(\\theta)$$"
   ]
  },
  {
   "cell_type": "code",
   "execution_count": 3,
   "metadata": {},
   "outputs": [],
   "source": [
    "import numpy as np\n",
    "%matplotlib inline"
   ]
  },
  {
   "cell_type": "code",
   "execution_count": 4,
   "metadata": {},
   "outputs": [],
   "source": [
    "B= 36 #m for shortest baselein\n",
    "th=15 #deg\n",
    "def bl(B,th):\n",
    "    c=np.sin(np.radians(th))\n",
    "    b=B*c\n",
    "    return b\n"
   ]
  },
  {
   "cell_type": "code",
   "execution_count": 5,
   "metadata": {},
   "outputs": [
    {
     "name": "stdout",
     "output_type": "stream",
     "text": [
      "9.317485623690747\n"
     ]
    }
   ],
   "source": [
    "print bl(B,th)"
   ]
  },
  {
   "cell_type": "code",
   "execution_count": 6,
   "metadata": {},
   "outputs": [
    {
     "name": "stdout",
     "output_type": "stream",
     "text": [
      "13.485837362972832\n"
     ]
    }
   ],
   "source": [
    "print bl(B,22.)"
   ]
  },
  {
   "cell_type": "markdown",
   "metadata": {},
   "source": [
    "# No shadowing if shortest projected baseline is biggeer than the dish diameter\n",
    " $bl > 13.5 sin(\\theta)$\n",
    " \n",
    " $sin(\\theta) > 13.5/36$"
   ]
  },
  {
   "cell_type": "code",
   "execution_count": 9,
   "metadata": {},
   "outputs": [
    {
     "name": "stdout",
     "output_type": "stream",
     "text": [
      "elevation must be more than   22.0 degrees\n"
     ]
    }
   ],
   "source": [
    "theta=np.degrees(np.arcsin(13.5/36))\n",
    "print \"elevation must be more than %6.1f degrees\" %(theta)"
   ]
  }
 ],
 "metadata": {
  "kernelspec": {
   "display_name": "Python 2",
   "language": "python",
   "name": "python2"
  },
  "language_info": {
   "codemirror_mode": {
    "name": "ipython",
    "version": 2
   },
   "file_extension": ".py",
   "mimetype": "text/x-python",
   "name": "python",
   "nbconvert_exporter": "python",
   "pygments_lexer": "ipython2",
   "version": "2.7.17"
  }
 },
 "nbformat": 4,
 "nbformat_minor": 2
}
