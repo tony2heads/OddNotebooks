{
 "metadata": {
  "name": "",
  "signature": "sha256:2a437bff0bb1f85683b35087d0803fbf55e927332ffc92b777593d44fcd3f7d4"
 },
 "nbformat": 3,
 "nbformat_minor": 0,
 "worksheets": [
  {
   "cells": [
    {
     "cell_type": "markdown",
     "metadata": {},
     "source": [
      "radial velocity \n",
      "$V_o = 19.5 \\frac{km}{s}$ \n",
      "\n",
      "towards RA = 18.0h Dec=30deg at epoch 1900\n",
      "\n",
      "if source is $RA=\\alpha , dec=\\delta$ \n",
      "and Sun at $\\alpha_o , dec=\\delta_o$ epoch 1900\n",
      "\n",
      "$V_{solar} = 19.5 ( cos(\\alpha_o) cos(\\delta_o) cos(\\alpha) cos(\\delta) + sin(\\alpha_o) cos(\\delta_o) sin(\\alpha) sin(\\delta) + sin(\\delta_o) sin(\\delta) ) $ km/s\n",
      "\n",
      "Rotational motion of earth is 0.465 km/s at the equator and if geocentric latitude is $\\phi'$ \n",
      "\n",
      "$V_e = 0.465 sin(HA)cos(dec)sin(\\phi')$ km/s\n",
      "\n",
      "Orbital motion \n",
      "\n",
      "$V_{orb}=-29.974  cos(\\beta) sin(\\lambda_{sun} - \\lambda) + V_e sin(\\Gamma- \\lambda)cos(\\beta)$\n",
      "\n",
      "where $\\lambda$ and $\\beta$ are ecliptic cordinates \n",
      "$\\Gamma$ is longitude of sun at perigee\n",
      "\n",
      "\n",
      "$\\Gamma = 280^o 13' 15.00\" +6189.03\" T + 1.63\" T^2 + 0.012\" T^3$ \n",
      "where T is the number of tropical centuries since 1900\n"
     ]
    },
    {
     "cell_type": "markdown",
     "metadata": {},
     "source": []
    },
    {
     "cell_type": "code",
     "collapsed": false,
     "input": [
      "\"\"\"\n",
      "taken from some old FORTRAN code \n",
      "Inputs:\n",
      "\n",
      "RA\n",
      "Dec\n",
      "Lat\n",
      "Long\n",
      "Date\n",
      "\n",
      "\"\"\"\n",
      "import numpy as n\n",
      "import time\n",
      "\n",
      "# some vals\n",
      "ra=182.32\n",
      "dec=11.287\n",
      "lat=-39.0\n",
      "lon=22\n",
      "datein='2014/06/01'\n",
      "timein='22:32:33'   #UT please!\n"
     ],
     "language": "python",
     "metadata": {},
     "outputs": [],
     "prompt_number": 40
    },
    {
     "cell_type": "code",
     "collapsed": false,
     "input": [
      "def julda(datein,timein):\n",
      "    ti=time.strptime(datein+\" \"+timein,\"%Y/%m/%d %H:%M:%S\")\n",
      "    #  \n",
      "    #print ti\n",
      "    year=ti[0]\n",
      "    month=ti[1]\n",
      "    day=ti[2]\n",
      "\n",
      "    #\n",
      "    frac=(ti[3]+  (ti[4] +ti[5]/60.0)/60.0)/24.0\n",
      "    # Very rough\n",
      "    #Use reference epoch\n",
      "    ref=mktime((1995,10,9,12,0,0,0,0,0))   #Use reference 9oct1995 12UT\n",
      "    #\n",
      "    t=mktime(ti)\n",
      "    j=(t-ref)/(24*3600.0)\n",
      "    julianday=j+2450000.0                   #Julian day at ref=2450000\n",
      "    #\n",
      "    dayofyear=ti[7]\n",
      "    #print \"Julian Day is \", julianday\n",
      "    #print weekdays[weekday]\n",
      "    #print \"Day of year \",ti[7]\n",
      "    #print \"Check 25 Dec 1981 is 2444963.5\"\n",
      "    return julianday,dayofyear\n",
      "\n",
      "\n",
      "\n"
     ],
     "language": "python",
     "metadata": {},
     "outputs": [],
     "prompt_number": 41
    },
    {
     "cell_type": "code",
     "collapsed": false,
     "input": [
      "julda('1995/10/09','12:00:00')"
     ],
     "language": "python",
     "metadata": {},
     "outputs": [
      {
       "metadata": {},
       "output_type": "pyout",
       "prompt_number": 42,
       "text": [
        "(2450000.0, 282)"
       ]
      }
     ],
     "prompt_number": 42
    },
    {
     "cell_type": "code",
     "collapsed": false,
     "input": [
      "print julda('1981/12/25','00:00:00')\n",
      "date='1981/12/25'\n",
      "year=int(date.split(\"/\")[0])\n",
      "endlastyear=str(year-1)+\"/12/31\"\n",
      "print julda(endlastyear,\"12:00:00\")"
     ],
     "language": "python",
     "metadata": {},
     "outputs": [
      {
       "output_type": "stream",
       "stream": "stdout",
       "text": [
        "(2444963.5, 359)\n",
        "(2444605.0, 366)\n"
       ]
      }
     ],
     "prompt_number": 44
    },
    {
     "cell_type": "code",
     "collapsed": false,
     "input": [
      "def move(date,time,ra,dec): # ra,dec in radians\n",
      "    sind=n.sin(dec)\n",
      "    cosd=n.cos(dec)\n",
      "    tnd=sind/cosd  # tan(dec)\n",
      "    csr=n.cos(ra)\n",
      "    snr=n.sin(ra)\n",
      "    year=date.split(\"/\")[0]\n",
      "    jul,daynum=julda(date,time)\n",
      "    \"\"\"\n",
      "    \n",
      "    loads more to come when I decode what the fortran is doing\n",
      "    \n",
      "    \"\"\"\n"
     ],
     "language": "python",
     "metadata": {},
     "outputs": [],
     "prompt_number": 45
    },
    {
     "cell_type": "code",
     "collapsed": false,
     "input": [],
     "language": "python",
     "metadata": {},
     "outputs": []
    }
   ],
   "metadata": {}
  }
 ]
}