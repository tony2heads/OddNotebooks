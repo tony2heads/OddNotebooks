{
 "cells": [
  {
   "cell_type": "code",
   "execution_count": 1,
   "metadata": {
    "collapsed": true
   },
   "outputs": [],
   "source": [
    "\"\"\"\n",
    "stuff you will find useful dealing with antennas\n",
    "\"\"\"\n",
    "\n",
    "from math import *\n",
    "# some constants\n",
    "c=2.998e8 # velocity of light in m/s\n",
    "k=1.38e-23 # Boltzmann constant in J/K\n",
    "Jy=1e-26 #W/m**2/Hz\n",
    "\n",
    "def dB(G):\n",
    "    # give a gain and return decibel version\n",
    "    B=log10(G)\n",
    "    db=10*B\n",
    "    return(db)\n",
    "\n",
    "def S(T,freq,omega):\n",
    "    # give a flux density from source brightness temp, frequency and solid angle\n",
    "    B=2*kT*freq**2/c**2 # \n",
    "    s=B*omega # still in MKS units W/m**2/Hz\n",
    "    return(s)\n",
    "    \n",
    "    \n"
   ]
  },
  {
   "cell_type": "markdown",
   "metadata": {},
   "source": [
    "$$ \\lambda  = \\frac{c}{\\nu} \\\\\n",
    "\\theta = \\frac{\\lambda}{D} \\\\\n",
    "A= \\pi \\frac{D^2}{4}  $$"
   ]
  },
  {
   "cell_type": "code",
   "execution_count": 2,
   "metadata": {},
   "outputs": [
    {
     "data": {
      "text/latex": [
       "\\begin{aligned}\n",
       "\\lambda = \\frac{c}{\\nu} \\\\\n",
       "\\theta = \\frac{\\lambda}{D} \\\\\n",
       "A_{geom} = \\pi\\frac{D^2}{4} \\\\\n",
       "\\end{aligned}"
      ],
      "text/plain": [
       "<IPython.core.display.Latex object>"
      ]
     },
     "metadata": {},
     "output_type": "display_data"
    }
   ],
   "source": [
    "%%latex\n",
    "\\begin{aligned}\n",
    "\\lambda = \\frac{c}{\\nu} \\\\\n",
    "\\theta = \\frac{\\lambda}{D} \\\\\n",
    "A_{geom} = \\pi\\frac{D^2}{4} \\\\\n",
    "\\end{aligned}"
   ]
  },
  {
   "cell_type": "code",
   "execution_count": 3,
   "metadata": {},
   "outputs": [
    {
     "data": {
      "text/latex": [
       "$$\\lambda = \\frac{c}{\\nu} \\\\ \\theta = \\frac{\\lambda}{D} \\\\ A_{geom}  = \\pi \\frac{D^2}{4}$$"
      ],
      "text/plain": [
       "<IPython.core.display.Math object>"
      ]
     },
     "execution_count": 3,
     "metadata": {},
     "output_type": "execute_result"
    }
   ],
   "source": [
    "from IPython.display import Math\n",
    "Math(r'\\lambda = \\frac{c}{\\nu} \\\\ \\theta = \\frac{\\lambda}{D} \\\\ A_{geom}  = \\pi \\frac{D^2}{4}')"
   ]
  },
  {
   "cell_type": "code",
   "execution_count": 4,
   "metadata": {},
   "outputs": [
    {
     "name": "stdout",
     "output_type": "stream",
     "text": [
      "0.761404020302 degrees\n",
      "Area 113.097335529 m^2   diam 12.0 m   wavelength 0.159468085106 m   HPBW 0.761404020302 Degrees\n"
     ]
    }
   ],
   "source": [
    "#Observe a source at 1.8GHz with a 12m dish\n",
    "freq=1.88e9  # Hz\n",
    "diameter=12.0 # m\n",
    "area=pi*diameter**2/4.0 #m**2\n",
    "wavel=c/freq        # in m\n",
    "HPBW=wavel/diameter # in radians\n",
    "print degrees(HPBW),\"degrees\"\n",
    "print \"Area\", area,\"m^2   diam\", diameter, 'm   wavelength',wavel,'m   HPBW',degrees(HPBW),\"Degrees\""
   ]
  },
  {
   "cell_type": "code",
   "execution_count": 5,
   "metadata": {},
   "outputs": [
    {
     "name": "stdout",
     "output_type": "stream",
     "text": [
      "0.000321215981772 39121.2496496 79.1681348705 0.0202233748517\n",
      "1.15871402651\n"
     ]
    }
   ],
   "source": [
    "#actual efficiency about 70% - mostly taper\n",
    "Ae=area*0.7 #m**2\n",
    "omega_a=wavel**2/Ae\n",
    "gain=4*pi/omega_a # Gain along pointing axis\n",
    "hpbw=sqrt(omega_a*4/pi)\n",
    "print omega_a,gain,Ae,hpbw\n",
    "print degrees(hpbw)"
   ]
  },
  {
   "cell_type": "code",
   "execution_count": 6,
   "metadata": {
    "collapsed": true
   },
   "outputs": [],
   "source": [
    "#Note that reducing efficiency WIDENS beam "
   ]
  },
  {
   "cell_type": "code",
   "execution_count": 7,
   "metadata": {},
   "outputs": [
    {
     "name": "stdout",
     "output_type": "stream",
     "text": [
      "Kelvin per Jansky 0.0286841068371\n",
      "Jansky per Kelvin 34.8625113439\n"
     ]
    }
   ],
   "source": [
    "\"\"\"\n",
    "We can also express antenna gain in K/Jy\n",
    "from How many K we would get for a 1Jy in front of it\n",
    "\"\"\"\n",
    "KperJy=Ae*1*Jy/(2*k)\n",
    "print \"Kelvin per Jansky\", KperJy\n",
    "print \"Jansky per Kelvin\", 1.0/KperJy"
   ]
  },
  {
   "cell_type": "code",
   "execution_count": 8,
   "metadata": {},
   "outputs": [
    {
     "name": "stdout",
     "output_type": "stream",
     "text": [
      "Ae/Tsys 5.27787565803 m**2/K    SEFD 522.937670159 Jy\n"
     ]
    }
   ],
   "source": [
    "\"\"\"\n",
    "Other measurements of sensitivity need system temperature measurements\n",
    "\"\"\"\n",
    "Tsys=15   #K\n",
    "SEFD = Tsys/KperJy  # System Equivalent Flux Density\n",
    "# This represents how many Jy to equal system temperature\n",
    "print \"Ae/Tsys\",Ae/Tsys,\"m**2/K    SEFD\",SEFD,\"Jy\""
   ]
  },
  {
   "cell_type": "markdown",
   "metadata": {},
   "source": [
    "# From EMSS"
   ]
  },
  {
   "cell_type": "markdown",
   "metadata": {},
   "source": [
    "#Some estimates from Isak#\n",
    "<img src=\"files/plot.jpg\">\n",
    "\n",
    "\n",
    "<table> \n",
    "<tr> <th>Subsystem</th> <th>900MHz</th> <th>1600MHz</th> </tr>\n",
    "<tr> <td>Sky (zenith pointing) </td> <td> 6.6K</td> <td> 4.9K</td><tr> \n",
    "<tr> <td>Dish (transmission for a panelled dish)  </td> <td> 1.0K</td> <td> 1.0K</td><tr> \n",
    "<tr> <td>Receiver </td> <td> 7.2K</td> <td> 8.2K</td><tr> \n",
    "<tr> <td>Digitizer </td> <td> 0.5K</td> <td> 0.5K</td><tr> \n",
    "<tr> <td>TReceiver + TSky + TDigitiser </td> <td> 15.3K</td> <td> 14.6K</td><tr> \n",
    "\n",
    "</table>"
   ]
  },
  {
   "cell_type": "code",
   "execution_count": null,
   "metadata": {},
   "outputs": [],
   "source": []
  },
  {
   "cell_type": "code",
   "execution_count": 9,
   "metadata": {},
   "outputs": [
    {
     "name": "stdout",
     "output_type": "stream",
     "text": [
      "At 900MHz Area = 79.56   Array area=  5091.84\n",
      "Kelvin per Jansky= 0.0288260869565   Array has  1.84486956522\n",
      "Jansky per Kelvin= 34.6907993967\n",
      "array SEFD  8.29326923077 Jy\n",
      "A_e/Tsys for array 332.8\n",
      "-----------------\n",
      "At 1600MHz Area = 90.52   Array area= 5793.28\n",
      "Kelvin per Jansky= 0.0327971014493   Array has  2.09901449275\n",
      "Jansky per Kelvin= 30.4904993372\n",
      "array SEFD  6.95564516129 Jy\n",
      "A_e/Tsys for array 396.8\n",
      "=================\n",
      "geometric for  13.5 m diameter is 143.138976862\n"
     ]
    }
   ],
   "source": [
    "narray=64\n",
    "\n",
    "\"\"\"\n",
    "900MHz\n",
    "\"\"\"\n",
    "AoverT=5.2\n",
    "T=15.3\n",
    "A=AoverT*T\n",
    "print \"At 900MHz Area =\",A,\"  Array area= \",A*narray\n",
    "KperJy=A*1*Jy/(2*k)\n",
    "print \"Kelvin per Jansky=\", KperJy,\"  Array has \",KperJy*narray\n",
    "print \"Jansky per Kelvin=\", 1.0/KperJy\n",
    "print \"array SEFD \",T/(narray*KperJy), \"Jy\"\n",
    "print \"A_e/Tsys for array\",AoverT*narray\n",
    "print \"-----------------\"\n",
    "\n",
    "\n",
    "\"\"\"\n",
    "1600MHz\n",
    "\"\"\"\n",
    "AoverT=6.2\n",
    "T=14.6\n",
    "A=AoverT*T\n",
    "print \"At 1600MHz Area =\",A,\"  Array area=\",A*narray\n",
    "KperJy=A*1*Jy/(2*k)\n",
    "print \"Kelvin per Jansky=\", KperJy,\"  Array has \",KperJy*narray\n",
    "print \"Jansky per Kelvin=\", 1.0/KperJy\n",
    "print \"array SEFD \",T/(narray*KperJy), \"Jy\"\n",
    "print \"A_e/Tsys for array\",AoverT*narray\n",
    "print \"=================\"\n",
    "\n",
    "\"\"\"\n",
    "General\n",
    "\"\"\"\n",
    "d=13.5 # assumed\n",
    "r=d/2.0\n",
    "pi=3.1415962\n",
    "print \"geometric for \",d,\"m diameter is\", pi*r*r\n"
   ]
  },
  {
   "cell_type": "code",
   "execution_count": 10,
   "metadata": {},
   "outputs": [
    {
     "name": "stdout",
     "output_type": "stream",
     "text": [
      "Kelvin per Jy for WSRT 1.49396558424\n",
      "Kelvin per Jy for VLA 2.88121934103\n",
      "A_e/Tsys for VLA 265.072179375\n"
     ]
    }
   ],
   "source": [
    "Awsrt=14*0.6*12.5*12.5*pi # effective area of 14 25m dishes at 60%efficiency\n",
    "print \"Kelvin per Jy for WSRT\",Awsrt*Jy/(2*k) # should be about 1.4\n",
    "T=30 #K\n",
    "\n",
    "Avla=27*0.6*12.5*12.5*pi # effective area of 27 25m dishes at 60%efficiency\n",
    "print \"Kelvin per Jy for VLA\",Avla*Jy/(2*k) # should be about 2.7\n",
    "T=30 #K at Lband\n",
    "AoverT = Avla/T\n",
    "print \"A_e/Tsys for VLA\", AoverT"
   ]
  },
  {
   "cell_type": "markdown",
   "metadata": {},
   "source": [
    "Ruze equation\n",
    "\n",
    "$$efficiency  =  e^{({\\frac{-4 \\pi \\epsilon}{\\lambda}})^2}$$"
   ]
  },
  {
   "cell_type": "code",
   "execution_count": 25,
   "metadata": {},
   "outputs": [],
   "source": [
    "def ruze(eps,freq):\n",
    "    \"\"\"\n",
    "    epsilon in mm\n",
    "    freq in GHz\n",
    "    \"\"\"\n",
    "    lam=299.98/freq #mm\n",
    "    print lam,\"mm\"\n",
    "    f=(4*pi*eps)/lam\n",
    "    eff=exp(-f*f)\n",
    "    return eff\n",
    "    "
   ]
  },
  {
   "cell_type": "code",
   "execution_count": 26,
   "metadata": {},
   "outputs": [
    {
     "name": "stdout",
     "output_type": "stream",
     "text": [
      "25.6393162393 mm\n"
     ]
    },
    {
     "data": {
      "text/plain": [
       "0.5824608290451206"
      ]
     },
     "execution_count": 26,
     "metadata": {},
     "output_type": "execute_result"
    }
   ],
   "source": [
    "ruze(1.5,11.7)"
   ]
  }
 ],
 "metadata": {
  "kernelspec": {
   "display_name": "Python 2",
   "language": "python",
   "name": "python2"
  },
  "language_info": {
   "codemirror_mode": {
    "name": "ipython",
    "version": 2
   },
   "file_extension": ".py",
   "mimetype": "text/x-python",
   "name": "python",
   "nbconvert_exporter": "python",
   "pygments_lexer": "ipython2",
   "version": "2.7.6"
  }
 },
 "nbformat": 4,
 "nbformat_minor": 1
}
