{
 "cells": [
  {
   "cell_type": "code",
   "execution_count": 1,
   "metadata": {
    "collapsed": false
   },
   "outputs": [],
   "source": [
    "#%loadpy /home/tony/Desktop/CLaw/srctransit.py"
   ]
  },
  {
   "cell_type": "code",
   "execution_count": 2,
   "metadata": {
    "collapsed": false
   },
   "outputs": [
    {
     "name": "stdout",
     "output_type": "stream",
     "text": [
      "Current sidereal time: 0:11:01.30\n",
      "Next rising:  2015-05-07 21:36:18.000003\n",
      "Next transit:  2015-05-07 12:35:14.000003\n",
      "Next setting:  2015-05-08 05:03:48.000004\n"
     ]
    }
   ],
   "source": [
    "#!/usr/bin/env python\n",
    "# claw 8feb12\n",
    "# Script to take ra,dec and print next rise, transit, set times\n",
    "# ra,dec should be colon-delimited sexagesimal\n",
    "\n",
    "import ephem,sys\n",
    "\"\"\"\n",
    "if len(sys.argv) != 3:\n",
    "    print '**Syntax**'\n",
    "    print 'srctransit.py hh:mm:ss dd:mm:ss'\n",
    "    exit(1)\n",
    "\"\"\"\n",
    "# define stuff\n",
    "telescope = 'kat'\n",
    "#ra = sys.argv[1]\n",
    "#dec = sys.argv[2]\n",
    "ra='19:31;41'\n",
    "dec='-31:32:31'\n",
    "\n",
    "if telescope == 'vla':\n",
    "    obs = ephem.Observer()\n",
    "    obs.lat = '34.'\n",
    "    obs.long = '-107.5'\n",
    "    obs.elevation = 2700 # rough\n",
    "elif telescope == 'ata':\n",
    "    obs = ephem.Observer()\n",
    "    obs.lat = '40.817'\n",
    "    obs.long = '-121.47'\n",
    "    obs.elevation = 2000  # guess\n",
    "elif telescope=='kat':\n",
    "    obs=ephem.Observer()\n",
    "    obs.lat='-30.72148'\n",
    "    obs.long='21.41068'\n",
    "    obs.elevation=1038 # about\n",
    "\n",
    "# current \n",
    "obs.date = ephem.now()\n",
    "print 'Current sidereal time:', obs.sidereal_time()\n",
    "\n",
    "# set up source\n",
    "src = ephem.FixedBody()\n",
    "src._ra = ra\n",
    "src._dec = dec\n",
    "src.compute(obs)\n",
    "\n",
    "# get transit properties -- note times are normally in UT!\n",
    "print 'Next rising: ', ephem.localtime(obs.next_rising(src))\n",
    "print 'Next transit: ', ephem.localtime(obs.next_setting(src))\n",
    "print 'Next setting: ', ephem.localtime(obs.next_transit(src))\n"
   ]
  },
  {
   "cell_type": "code",
   "execution_count": 3,
   "metadata": {
    "collapsed": false
   },
   "outputs": [],
   "source": [
    "\n",
    "sol=ephem.Sun()\n",
    "sol.compute(obs)\n",
    "#obs.next_rising(sol)\n"
   ]
  },
  {
   "cell_type": "code",
   "execution_count": 4,
   "metadata": {
    "collapsed": false
   },
   "outputs": [
    {
     "name": "stdout",
     "output_type": "stream",
     "text": [
      "2:55:05.43 16:41:39.2\n"
     ]
    }
   ],
   "source": [
    "\n",
    "print sol.a_ra ,  sol.a_dec\n"
   ]
  },
  {
   "cell_type": "code",
   "execution_count": 5,
   "metadata": {
    "collapsed": false
   },
   "outputs": [
    {
     "name": "stdout",
     "output_type": "stream",
     "text": [
      "28:10:58.4 45:42:22.0\n"
     ]
    }
   ],
   "source": [
    "print sol.alt, sol.az"
   ]
  },
  {
   "cell_type": "code",
   "execution_count": 6,
   "metadata": {
    "collapsed": false
   },
   "outputs": [
    {
     "name": "stdout",
     "output_type": "stream",
     "text": [
      "894.61086508 15.0\n"
     ]
    }
   ],
   "source": [
    "obs.compute_pressure()\n",
    "print obs.pressure, obs.temp"
   ]
  },
  {
   "cell_type": "code",
   "execution_count": 7,
   "metadata": {
    "collapsed": false
   },
   "outputs": [
    {
     "name": "stdout",
     "output_type": "stream",
     "text": [
      "2015/5/7 10:30:40\n"
     ]
    }
   ],
   "source": [
    "print sol.transit_time"
   ]
  },
  {
   "cell_type": "code",
   "execution_count": null,
   "metadata": {
    "collapsed": false
   },
   "outputs": [],
   "source": []
  }
 ],
 "metadata": {
  "kernelspec": {
   "display_name": "Python 2",
   "language": "python",
   "name": "python2"
  },
  "language_info": {
   "codemirror_mode": {
    "name": "ipython",
    "version": 2
   },
   "file_extension": ".py",
   "mimetype": "text/x-python",
   "name": "python",
   "nbconvert_exporter": "python",
   "pygments_lexer": "ipython2",
   "version": "2.7.3"
  }
 },
 "nbformat": 4,
 "nbformat_minor": 0
}
