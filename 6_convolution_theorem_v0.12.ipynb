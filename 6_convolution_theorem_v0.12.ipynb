{
 "cells": [
  {
   "cell_type": "markdown",
   "metadata": {},
   "source": [
    "#6. The convolution theorem#"
   ]
  },
  {
   "cell_type": "markdown",
   "metadata": {},
   "source": [
    "Lets create an example of the convolution theorem.\n",
    "\n",
    "First import the necessary modules:"
   ]
  },
  {
   "cell_type": "code",
   "execution_count": null,
   "metadata": {},
   "outputs": [],
   "source": [
    "%matplotlib inline\n",
    "import numpy as np\n",
    "import matplotlib.pylab as plt"
   ]
  },
  {
   "cell_type": "markdown",
   "metadata": {},
   "source": [
    "Make our convenience functions using the fourier transform provided by numpy (don't worry about the details of this now!):"
   ]
  },
  {
   "cell_type": "code",
   "execution_count": null,
   "metadata": {},
   "outputs": [],
   "source": [
    "def ft(y):\n",
    "    \"\"\"Returns the fourier transform of y\"\"\"\n",
    "    return np.fft.fftshift(np.fft.fft(np.fft.fftshift(y)))\n",
    "\n",
    "def ift(y):\n",
    "    \"\"\"Returns the inverse fourier transform of y\"\"\"\n",
    "    return np.fft.fftshift(np.fft.ifft(np.fft.fftshift(y)))\n",
    "\n",
    "def ftfreqs(N,dt):\n",
    "    \"\"\"Returns the Fourier frequencies\"\"\"\n",
    "    return np.fft.fftshift(np.fft.fftfreq(N,dt))"
   ]
  },
  {
   "cell_type": "markdown",
   "metadata": {},
   "source": [
    "Lets define some of the frequently used functions again, so we can play with them:"
   ]
  },
  {
   "cell_type": "code",
   "execution_count": null,
   "metadata": {},
   "outputs": [],
   "source": [
    "# constant function of amplitude A\n",
    "def constant(t,A):\n",
    "    return A*np.ones(len(t))"
   ]
  },
  {
   "cell_type": "code",
   "execution_count": null,
   "metadata": {},
   "outputs": [],
   "source": [
    "# spike of amplitude A at given value of t\n",
    "def spike(t,t0,A):\n",
    "    output = np.zeros(len(t))\n",
    "    output[t==t0] = A\n",
    "    print sum(t==t0)\n",
    "    return output"
   ]
  },
  {
   "cell_type": "code",
   "execution_count": null,
   "metadata": {},
   "outputs": [],
   "source": [
    "# top-hat function\n",
    "def tophat(t,width,A):\n",
    "    output = np.zeros(len(t))\n",
    "    output[abs(t)<width/2.0] = A\n",
    "    return output"
   ]
  },
  {
   "cell_type": "code",
   "execution_count": null,
   "metadata": {},
   "outputs": [],
   "source": [
    "# sinc function\n",
    "def sincfunc(t,scale):\n",
    "    return np.sinc(t/scale)"
   ]
  },
  {
   "cell_type": "code",
   "execution_count": null,
   "metadata": {},
   "outputs": [],
   "source": [
    "# gaussian function\n",
    "def gaussian(t,sigma):\n",
    "    return (1./(np.sqrt(2.*np.pi)*sigma))*np.exp(-t**2.0/(2.0*sigma**2.0))"
   ]
  },
  {
   "cell_type": "code",
   "execution_count": null,
   "metadata": {},
   "outputs": [],
   "source": [
    "# comb function\n",
    "def comb(t,t_space,A):\n",
    "    output = np.zeros(len(t))\n",
    "    mod_array = np.array([round(i,2)%t_space for i in t])\n",
    "    output[mod_array==0] = A\n",
    "    return output"
   ]
  },
  {
   "cell_type": "markdown",
   "metadata": {},
   "source": [
    "##The convolution theorem##\n",
    "\n",
    "Remember the convolution theorem:\n",
    "<br/>\n",
    "<br/>\n",
    "$$ h * g \\;\\; \\Leftrightarrow \\;\\; H \\; . \\; G $$\n",
    "<br/>\n",
    "or, equivalently:\n",
    "<br/>\n",
    "<br/>\n",
    "$$ H * G \\;\\; \\Leftrightarrow \\;\\; h \\; . \\; g $$\n",
    "\n",
    "<br/>\n",
    "\n",
    "For this example, lets use:\n",
    "\n",
    "h - cosine function\n",
    "<br/>\n",
    "g - sinc function\n",
    "\n",
    "Then lets:\n",
    "\n",
    "* Fourier transforms $h(t)$ and $g(t)$ to get $H(f)$ and $G(f)$\n",
    "* Convolve the Fourier transforms: $Y(f) = H(f) * G(f)$\n",
    "* Take the reverse Fourier transform of $Y(f)$ to get $y(t)$\n",
    "* See what we get!"
   ]
  },
  {
   "cell_type": "code",
   "execution_count": null,
   "metadata": {},
   "outputs": [],
   "source": [
    "delta_t = 0.02\n",
    "t = np.arange(-1200,1200,delta_t)              # set x-axis value\n",
    "\n",
    "freqs = ftfreqs(len(t),delta_t)                # get our Fourier transform frequency values"
   ]
  },
  {
   "cell_type": "code",
   "execution_count": null,
   "metadata": {},
   "outputs": [],
   "source": [
    "h = 5.0*np.cos(2.*np.pi*t*0.5)                    # create function f(t)\n",
    "H = ft(h)                                      # Fourier transform\n",
    "\n",
    "fig, ax = plt.subplots(1,2,figsize=[13,3])     # create plot\n",
    "\n",
    "ax[0].plot(t,h.real)\n",
    "ax[0].set_xlabel('Time')\n",
    "ax[0].set_ylabel('h(t) (real)')\n",
    "\n",
    "ax[1].plot(freqs,H.real)\n",
    "ax[1].set_xlabel('Frequency')\n",
    "ax[1].set_ylabel('H(f) (real)')\n",
    "\n",
    "ax[0].set_xlim(-50.,50.)\n",
    "ax[1].set_xlim(-0.7,0.7)"
   ]
  },
  {
   "cell_type": "code",
   "execution_count": null,
   "metadata": {},
   "outputs": [],
   "source": [
    "g = sincfunc(t,20.)                            # create function f(t)\n",
    "G = ft(g)                                      # Fourier transform\n",
    "\n",
    "fig, ax = plt.subplots(1,2,figsize=[13,3])     # create plot\n",
    "\n",
    "ax[0].plot(t,g)\n",
    "ax[0].set_xlabel('Time')\n",
    "ax[0].set_ylabel('g(t) (real)')\n",
    "\n",
    "ax[1].plot(freqs,G.real)\n",
    "ax[1].set_xlabel('Frequency')\n",
    "ax[1].set_ylabel('G(f) (real)')\n",
    "\n",
    "ax[0].set_xlim(-150.,150.)\n",
    "ax[1].set_xlim(-0.7,0.7)"
   ]
  },
  {
   "cell_type": "code",
   "execution_count": null,
   "metadata": {},
   "outputs": [],
   "source": [
    "# lets convolve our Fourier transformed functions, using the numpy convolve function:\n",
    "Y = np.convolve(H,G,mode='same')\n",
    "# then reverse Fourier transform:\n",
    "y = ift(Y)"
   ]
  },
  {
   "cell_type": "code",
   "execution_count": null,
   "metadata": {},
   "outputs": [],
   "source": [
    "fig, ax = plt.subplots(1,2,figsize=[13,3])     # create plot\n",
    "\n",
    "ax[0].plot(t,y.real)\n",
    "ax[0].set_xlabel('Time')\n",
    "ax[0].set_ylabel('y(t) (real)')\n",
    "\n",
    "ax[1].plot(freqs,Y.real)\n",
    "ax[1].set_xlabel('Frequency')\n",
    "ax[1].set_ylabel('Y(f) (real)')\n",
    "\n",
    "ax[0].set_xlim(-80.,80.)\n",
    "ax[1].set_xlim(-0.7,0.7)"
   ]
  },
  {
   "cell_type": "markdown",
   "metadata": {},
   "source": [
    "Is that what you expect?\n",
    "\n",
    "Lets plot all the plots together, so we can think about them:"
   ]
  },
  {
   "cell_type": "code",
   "execution_count": null,
   "metadata": {},
   "outputs": [],
   "source": [
    "fig, ax = plt.subplots(3,2,figsize=[13,9]) \n",
    "\n",
    "# plot h and H\n",
    "ax[0,0].plot(t,h)\n",
    "ax[0,0].set_ylabel('h(t) (real)')\n",
    "\n",
    "ax[0,1].plot(freqs,H.real)\n",
    "ax[0,1].set_ylabel('H(f) (real)')\n",
    "\n",
    "ax[0,0].set_xlim(-50.,50.)\n",
    "ax[0,1].set_xlim(-0.7,0.7)\n",
    "\n",
    "# plot g and G\n",
    "ax[1,0].plot(t,g)\n",
    "ax[1,0].set_ylabel('g(t) (real)')\n",
    "\n",
    "ax[1,1].plot(freqs,G.real)\n",
    "ax[1,1].set_ylabel('G(f) (real)')\n",
    "\n",
    "ax[1,0].set_xlim(-100.,100.)\n",
    "ax[1,1].set_xlim(-0.7,0.7)\n",
    "\n",
    "# plot y and Y\n",
    "ax[2,0].plot(t,y)\n",
    "ax[2,0].set_xlabel('Time')\n",
    "ax[2,0].set_ylabel('y(t) (real)')\n",
    "\n",
    "ax[2,1].plot(freqs,Y.real)\n",
    "ax[2,1].set_xlabel('Frequency')\n",
    "ax[2,1].set_ylabel('Y(f) (real)')\n",
    "\n",
    "ax[2,0].set_xlim(-100.,100.)\n",
    "ax[2,1].set_xlim(-0.7,0.7)"
   ]
  },
  {
   "cell_type": "markdown",
   "metadata": {},
   "source": [
    "Can you explain these results?\n",
    "\n",
    "How about playing with some of the other functions we defined at the beginning... :)"
   ]
  },
  {
   "cell_type": "code",
   "execution_count": null,
   "metadata": {},
   "outputs": [],
   "source": []
  },
  {
   "cell_type": "code",
   "execution_count": null,
   "metadata": {},
   "outputs": [],
   "source": []
  }
 ],
 "metadata": {
  "kernelspec": {
   "display_name": "Python 2",
   "language": "python",
   "name": "python2"
  }
 },
 "nbformat": 4,
 "nbformat_minor": 1
}
