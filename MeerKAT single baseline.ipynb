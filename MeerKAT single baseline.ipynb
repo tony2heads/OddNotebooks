{
 "cells": [
  {
   "cell_type": "code",
   "execution_count": 2,
   "metadata": {
    "collapsed": false
   },
   "outputs": [],
   "source": [
    "\"\"\"\n",
    "Odd formulae\n",
    "To do with sensitivity, beam etc,\n",
    "\"\"\"\n",
    "import math as m\n",
    "\n",
    "lat=-30.7 #degrees south\n",
    "\n",
    "slat=m.sin(m.radians(lat))\n",
    "clat=m.cos(m.radians(lat))\n",
    "#\n",
    "\n",
    "dec=-50.\n",
    "ha=-33.\n",
    "\n",
    "sdec=m.sin(m.radians(dec))\n",
    "cdec=m.cos(m.radians(dec))\n",
    "cha=m.cos(m.radians(ha))\n",
    "sha=m.sin(m.radians(ha))\n",
    "#print clat,slat,sdec,cdec,cha,sha"
   ]
  },
  {
   "cell_type": "code",
   "execution_count": null,
   "metadata": {
    "collapsed": false
   },
   "outputs": [],
   "source": []
  },
  {
   "cell_type": "code",
   "execution_count": 3,
   "metadata": {
    "collapsed": false
   },
   "outputs": [
    {
     "name": "stdout",
     "output_type": "stream",
     "text": [
      "Azimuth 141.369 Elevation 58.719 Parallactic angle -64.413\n"
     ]
    }
   ],
   "source": [
    "parallac=m.atan2(sha*clat,(cdec*slat-sdec*clat*cha))\n",
    "x=sdec*slat+cdec*cha*clat\n",
    "elev=m.asin(x)\n",
    "az=cdec*sha/m.sqrt(1-x*x)\n",
    "#az=(elev-sdec*slat)/(cdec*clat)\n",
    "az=az+m.pi\n",
    "#print m.degrees(parallac), m.degrees(elev), m.degrees(az)\n",
    "print (\"Azimuth %6.3f Elevation %6.3f Parallactic angle %6.3f\") %(m.degrees(az),m.degrees(elev) , m.degrees(parallac))"
   ]
  },
  {
   "cell_type": "code",
   "execution_count": 4,
   "metadata": {
    "collapsed": false
   },
   "outputs": [
    {
     "name": "stdout",
     "output_type": "stream",
     "text": [
      "Minimum elevation reached at HA 103.847\n",
      "Total time up  13.85hr\n"
     ]
    }
   ],
   "source": [
    "min=15. #minimum elevation\n",
    "\n",
    "smin=m.sin(m.radians(min))\n",
    "y=(smin-sdec*slat)/(cdec*clat)\n",
    "#print y\n",
    "if y <1.0 and y > -1.0:\n",
    "    amin=m.acos(y)\n",
    "    print (\"Minimum elevation reached at HA %6.3f\") %(m.degrees(amin))\n",
    "    print (\"Total time up %6.2fhr\") %((m.degrees(amin))*2/15)\n",
    "else:\n",
    "    print(\"Circumpolar\")"
   ]
  },
  {
   "cell_type": "markdown",
   "metadata": {},
   "source": [
    "# For single AR1 baseline\n",
    "- half bandwidth\n",
    "- Lband somewhere\n",
    "- compact part only"
   ]
  },
  {
   "cell_type": "code",
   "execution_count": 5,
   "metadata": {
    "collapsed": false
   },
   "outputs": [
    {
     "name": "stdout",
     "output_type": "stream",
     "text": [
      "Wavelength  21.41cm  \t resolution  44.17\"\n"
     ]
    }
   ],
   "source": [
    "\"\"\"\n",
    "Bandwidth,integration, baselines, freq\n",
    "delay beams, fringe beams\n",
    "\n",
    "\"\"\"\n",
    "# a few constants\n",
    "ar= 3600*m.degrees(1) #arcseconds per radian - about 206265\n",
    "day=23.9344696*3600 # sideral day in sec\n",
    "c=299792.458 #km/s\n",
    "#print ar,day,c\n",
    "\n",
    "\n",
    "\n",
    "bw=400. #MHz\n",
    "t=2. #sec     short scan\n",
    "d=1.0 #km\n",
    "f=1.4 #GHz\n",
    "\n",
    "lam=0.0001*c/f #wavelength/cm\n",
    "\n",
    "res=lam*0.00001*ar/d  #arcsec\n",
    "print (\"Wavelength %6.2fcm  \\t resolution %6.2f\\\"\") %(lam,res) "
   ]
  },
  {
   "cell_type": "code",
   "execution_count": 6,
   "metadata": {
    "collapsed": false
   },
   "outputs": [
    {
     "name": "stdout",
     "output_type": "stream",
     "text": [
      "154.591583159\n"
     ]
    }
   ],
   "source": [
    "delaybeam=c*ar*0.000001/(d*bw)  #arcseconds\n",
    "print delaybeam"
   ]
  },
  {
   "cell_type": "markdown",
   "metadata": {},
   "source": [
    "If field size is $\\theta$ basline B wavelength $\\lambda$  then the maximum difference in fringe rate (Hz) and there are DAY seconds per day\n",
    "\n",
    "$df = \\frac{B}{\\lambda} \\theta \\frac{2\\pi}{DAY}$\n",
    "\n"
   ]
  },
  {
   "cell_type": "code",
   "execution_count": 7,
   "metadata": {
    "collapsed": false
   },
   "outputs": [
    {
     "name": "stdout",
     "output_type": "stream",
     "text": [
      "Peak difference in fringe rate 0.006 Hz\n",
      "Maximum integration time  42.1s\n",
      "field size for no smearing at integration time  2.0s is  21.03deg\n"
     ]
    }
   ],
   "source": [
    "theta=3600 #arcseonds\n",
    "df=d*theta*2*m.pi*1e5/(lam*ar*day)\n",
    "print (\"Peak difference in fringe rate %5.3f Hz\") %(df) \n",
    "#maximum integration time = quarter period\n",
    "tmax=0.25/df\n",
    "print (\"Maximum integration time %5.1fs\") %(tmax)\n",
    "\"\"\"\n",
    "or the other way about\n",
    "\n",
    "df=d*theta*2*m.pi*1e5/(lam*ar*day) = 0.25/tmax\n",
    "\"\"\"\n",
    "\n",
    "size= 0.25 *lam*ar*day/(d*2*m.pi*1e5*t)\n",
    "print (\"field size for no smearing at integration time %4.1fs is %6.2fdeg\") %(t,size/3600)\n"
   ]
  },
  {
   "cell_type": "code",
   "execution_count": 8,
   "metadata": {
    "collapsed": false
   },
   "outputs": [
    {
     "name": "stdout",
     "output_type": "stream",
     "text": [
      "Delay beam estimates 154.59 154.59 arcsec\n"
     ]
    }
   ],
   "source": [
    "delaybm2=61838/(d*bw)\n",
    "print (\"Delay beam estimates %6.2f %6.2f arcsec\") %( delaybeam, delaybm2)"
   ]
  },
  {
   "cell_type": "code",
   "execution_count": 9,
   "metadata": {
    "collapsed": false
   },
   "outputs": [
    {
     "name": "stdout",
     "output_type": "stream",
     "text": [
      "5349.90910169 Arcsec\n"
     ]
    }
   ],
   "source": [
    "wbig= m.sqrt(res/(ar)*m.pi)*ar\n",
    "print wbig, \"Arcsec\""
   ]
  },
  {
   "cell_type": "code",
   "execution_count": 10,
   "metadata": {
    "collapsed": false
   },
   "outputs": [
    {
     "name": "stdout",
     "output_type": "stream",
     "text": [
      "Delay beam   0.04deg  and W significant at   1.49deg \n"
     ]
    }
   ],
   "source": [
    "print(\"Delay beam %6.2fdeg  and W significant at %6.2fdeg \") %(delaybeam/3600,wbig/3600)"
   ]
  },
  {
   "cell_type": "code",
   "execution_count": 11,
   "metadata": {
    "collapsed": false
   },
   "outputs": [
    {
     "name": "stdout",
     "output_type": "stream",
     "text": [
      "Max aveaging time   42.2s For 1/4 period of fringe beating\n"
     ]
    }
   ],
   "source": [
    "\"\"\"\n",
    "Field size, averaging period\n",
    "\"\"\"\n",
    "field=3600            #1 degree\n",
    "period= 7090*lam/(d*field)\n",
    "print(\"Max aveaging time %6.1fs For 1/4 period of fringe beating\") %(period)"
   ]
  },
  {
   "cell_type": "code",
   "execution_count": 12,
   "metadata": {
    "collapsed": false
   },
   "outputs": [
    {
     "name": "stdout",
     "output_type": "stream",
     "text": [
      "Gain 0.0357K/Jy \t SEFD  559.9Jy\t Ae/Tsys   5.01K/m^2\n"
     ]
    }
   ],
   "source": [
    "\"\"\"\n",
    "Telescope diam, Tsys,Efficiency\n",
    "\n",
    "\"\"\"\n",
    "diam=13.5  #m\n",
    "eff=0.7    #fractional efficiency\n",
    "Tsys=20       #K\n",
    "gain=diam*diam*0.00028*eff #K/Jy - uses various things like boltzmann constant, speed of light\n",
    "sefd=Tsys/gain #Jy\n",
    "ae_tsys = m.pi*diam*diam*eff/(4*Tsys)\n",
    "print (\"Gain %6.4fK/Jy \\t SEFD %6.1fJy\\t Ae/Tsys %6.2fK/m^2\") %(gain,sefd,ae_tsys)   # for a single dish"
   ]
  },
  {
   "cell_type": "code",
   "execution_count": 13,
   "metadata": {
    "collapsed": false
   },
   "outputs": [
    {
     "name": "stdout",
     "output_type": "stream",
     "text": [
      "Sensitivity  21.77mJy\n"
     ]
    }
   ],
   "source": [
    "\"\"\"\n",
    "sensitivity per baseline, per integration, per bandwidth\n",
    "\"\"\"\n",
    "mjy=1.1*sefd/(m.sqrt(bw*t)) # in one integration per bandwidth\n",
    "print(\"Sensitivity %6.2fmJy\") %(mjy)"
   ]
  },
  {
   "cell_type": "code",
   "execution_count": 14,
   "metadata": {
    "collapsed": false
   },
   "outputs": [
    {
     "name": "stdout",
     "output_type": "stream",
     "text": [
      "Gain =   2.29K/Jy  \tSEFD =   8.75 \t  Ae/Tsys  320.63 \t Sensitivity per integration 0.4850mJy \n"
     ]
    }
   ],
   "source": [
    "\"\"\"\n",
    "array values\n",
    "\"\"\"\n",
    "nants=64\n",
    "\n",
    "print(\"Gain = %6.2fK/Jy  \\tSEFD = %6.2f \\t  Ae/Tsys  %6.2f \\t Sensitivity per integration %6.4fmJy \") \\\n",
    "%(gain*nants,sefd/nants, ae_tsys*nants, mjy/m.sqrt(nants*(nants-1)/2) )"
   ]
  },
  {
   "cell_type": "code",
   "execution_count": null,
   "metadata": {
    "collapsed": false
   },
   "outputs": [],
   "source": []
  }
 ],
 "metadata": {
  "kernelspec": {
   "display_name": "Python 2",
   "language": "python",
   "name": "python2"
  },
  "language_info": {
   "codemirror_mode": {
    "name": "ipython",
    "version": 2
   },
   "file_extension": ".py",
   "mimetype": "text/x-python",
   "name": "python",
   "nbconvert_exporter": "python",
   "pygments_lexer": "ipython2",
   "version": "2.7.6"
  }
 },
 "nbformat": 4,
 "nbformat_minor": 0
}
