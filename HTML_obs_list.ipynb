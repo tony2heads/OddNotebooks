{
 "cells": [
  {
   "cell_type": "code",
   "execution_count": 70,
   "metadata": {},
   "outputs": [],
   "source": [
    "import pysolr\n",
    "from IPython.core.display import display, HTML\n",
    "archive = pysolr.Solr('http://kat-archive.kat.ac.za:8983/solr/kat_core')\n",
    "search_str = []\n",
    "search_str.append('CAS.ProductTypeName:MeerKATTelescopeProduct')"
   ]
  },
  {
   "cell_type": "code",
   "execution_count": 71,
   "metadata": {},
   "outputs": [],
   "source": [
    "def ID(r):\n",
    "    id=r['Details']\n",
    "    return id\n",
    "#print(ID(r))"
   ]
  },
  {
   "cell_type": "code",
   "execution_count": 72,
   "metadata": {},
   "outputs": [],
   "source": [
    "search_str.append('StartTime:[2020-06-20T00:00:00Z TO 2020-06-01T00:00:00Z]')"
   ]
  },
  {
   "cell_type": "code",
   "execution_count": 73,
   "metadata": {},
   "outputs": [
    {
     "name": "stdout",
     "output_type": "stream",
     "text": [
      "CAS.ProductTypeName:MeerKATTelescopeProduct AND StartTime:[2020-06-20T00:00:00Z TO 2020-06-01T00:00:00Z]\n"
     ]
    }
   ],
   "source": [
    "search_string = ' AND '.join(search_str)\n",
    "print (search_string)"
   ]
  },
  {
   "cell_type": "code",
   "execution_count": 74,
   "metadata": {},
   "outputs": [],
   "source": [
    "ar_res = archive.search(search_string ,rows=10000,**{'sort':'StartTime desc'})\n",
    "h = '<table>'\n",
    "h += \"<tr><th>Owner<th>UT Start<th>Schedule block<th>Description<th>chan<th>ants<th>size<th>Archive</tr>\"\n",
    "#print(archive.search(search_string))"
   ]
  },
  {
   "cell_type": "code",
   "execution_count": 75,
   "metadata": {},
   "outputs": [],
   "source": [
    "for r in ar_res.docs[::-1]:\n",
    "    print (r['Details'])\n",
    "    print(r['Details'].split('\\n')[3].split())\n",
    "    link = 'http://kat-archive.kat.ac.za:8080/archive_search/#{\"ei\":\"%s\",\"so\":true,\\\n",
    "    \"r\":true,\"k\":true,\"a\":true,\"b\":true,\"ob\":\"1\",\"rs\":{}}'%(ID(r))\n",
    "    h += '<tr> <td> %s <td> %s <td> <a href=\\'%s\\'>%s</a> <td>\\\n",
    "    %s <td> %d <td> %d <td> %5.2f <td> %s  </tr>'%(r['Observer'],r['StartTime'],\\\n",
    "    link,ID(r),r['Description'],\n",
    "    r['NumFreqChannels'],len(r['Antennas']),r['FileSize'][0]/1024.0**3,\\\n",
    "    r['CAS.ReferenceDatastore'][0][5:])"
   ]
  },
  {
   "cell_type": "code",
   "execution_count": 78,
   "metadata": {},
   "outputs": [
    {
     "ename": "NameError",
     "evalue": "name 'r' is not defined",
     "output_type": "error",
     "traceback": [
      "\u001b[0;31m---------------------------------------------------------------------------\u001b[0m",
      "\u001b[0;31mNameError\u001b[0m                                 Traceback (most recent call last)",
      "\u001b[0;32m<ipython-input-78-9d9b6cac8c89>\u001b[0m in \u001b[0;36m<module>\u001b[0;34m\u001b[0m\n\u001b[0;32m----> 1\u001b[0;31m \u001b[0mr\u001b[0m\u001b[0;34m.\u001b[0m\u001b[0mkeys\u001b[0m\u001b[0;34m(\u001b[0m\u001b[0;34m)\u001b[0m\u001b[0;34m\u001b[0m\u001b[0;34m\u001b[0m\u001b[0m\n\u001b[0m",
      "\u001b[0;31mNameError\u001b[0m: name 'r' is not defined"
     ]
    }
   ],
   "source": [
    "r.keys()"
   ]
  },
  {
   "cell_type": "code",
   "execution_count": 76,
   "metadata": {
    "scrolled": true
   },
   "outputs": [
    {
     "data": {
      "text/html": [
       "<table><tr><th>Owner<th>UT Start<th>Schedule block<th>Description<th>chan<th>ants<th>size<th>Archive</tr></table>"
      ],
      "text/plain": [
       "<IPython.core.display.HTML object>"
      ]
     },
     "metadata": {},
     "output_type": "display_data"
    }
   ],
   "source": [
    "h += \"</table>\"\n",
    "display(HTML(h))\n",
    "h += \"<tr><th>Owner<th>UT Start<th>Schedule block<th>Description<th>chan<th>ants\\\n",
    "<th>size<th>Archive</tr>\"\n",
    "from bs4 import BeautifulSoup\n",
    "soup = BeautifulSoup(h)\n"
   ]
  },
  {
   "cell_type": "code",
   "execution_count": 77,
   "metadata": {},
   "outputs": [],
   "source": [
    "with open(\"2017-08-30.html\", \"wb\") as file:\n",
    "    file.write(soup.prettify(\"utf-8\"))\n"
   ]
  }
 ],
 "metadata": {
  "kernelspec": {
   "display_name": "Python 3",
   "language": "python",
   "name": "python3"
  },
  "language_info": {
   "codemirror_mode": {
    "name": "ipython",
    "version": 3
   },
   "file_extension": ".py",
   "mimetype": "text/x-python",
   "name": "python",
   "nbconvert_exporter": "python",
   "pygments_lexer": "ipython3",
   "version": "3.6.9"
  }
 },
 "nbformat": 4,
 "nbformat_minor": 2
}
