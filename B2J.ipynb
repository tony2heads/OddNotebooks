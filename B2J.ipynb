{
 "metadata": {
  "name": "",
  "signature": "sha256:5bd569ac32ffad545c994a7c960d99b300c341c711a219f2975310a11426b0d3"
 },
 "nbformat": 3,
 "nbformat_minor": 0,
 "worksheets": [
  {
   "cells": [
    {
     "cell_type": "code",
     "collapsed": true,
     "input": [
      "#%loadpy /home/tony/Desktop/PythonScripts/Coords/B2J.py"
     ],
     "language": "python",
     "metadata": {},
     "outputs": [],
     "prompt_number": 55
    },
    {
     "cell_type": "code",
     "collapsed": false,
     "input": [
      "#!/usr/bin/env python\n",
      "\"\"\"\n",
      "A routine to convert B1950 to J2000\n",
      "expects a line with B1950 coordinates\n",
      "in quotes\n",
      "\"\"\"\n",
      "#import sys\n",
      "import coords as C\n",
      "#import Position\n",
      "\n",
      "\"\"\"\n",
      "inpar = len(sys.argv)\n",
      "\n",
      "if inpar > 2:\n",
      "    posstring=sys.argv[1:]\n",
      "    string=posstring[0]+\" \"+posstring[1]\n",
      "else:\n",
      "    string=raw_input('Give B1950 coordinates: ')\n",
      "\"\"\"\n",
      "string = \"22:51:29.521 15:52:54.31\" # 3C454.3\n",
      "#print string\n",
      "b=C.Position(string,equinox=\"B1950\").b1950()\n",
      "print \"b is \",b\n",
      "j=C.Position(string,equinox=\"B1950\").j2000() # produces a tuple in degrees\n",
      "print \"j is \",j\n",
      "J=C.Position(j,equinox=\"J2000\").hmsdms()\n",
      "print J\n",
      "\n",
      "\"\"\"\n",
      "   other useful functions\n",
      "\"\"\"\n",
      "gal=C.Position(string,equinox=\"B1950\").galactic() # a tuple\n",
      "print gal\n",
      "pos1=C.Position(string)\n",
      "pos2=C.Position(J)\n",
      "sep12=pos1.angsep(pos2)\n",
      "sep21=pos2.angsep(pos1)\n",
      "print \"Difference\",sep12,sep21\n",
      "print (b[0]-j[0])*3600,(b[1]-j[1])*3600"
     ],
     "language": "python",
     "metadata": {},
     "outputs": [
      {
       "output_type": "stream",
       "stream": "stdout",
       "text": [
        "b is  (342.8730041666666, 15.881752777777779)\n",
        "j is  (343.4906369624413, 16.148177408307436)\n",
        "22:53:57.753 +16:08:53.439\n",
        "(86.11105744596361, -38.1837875327855)\n",
        "Difference 0.650705 degrees 0.650705 degrees\n",
        "-2223.47806479 -959.128669907\n"
       ]
      }
     ],
     "prompt_number": 65
    },
    {
     "cell_type": "code",
     "collapsed": false,
     "input": [
      "ad=C.AstroDate()  # in UTC\n",
      "print ad"
     ],
     "language": "python",
     "metadata": {},
     "outputs": [
      {
       "output_type": "stream",
       "stream": "stdout",
       "text": [
        "2014-05-26 10:45:48.000157\n"
       ]
      }
     ],
     "prompt_number": 57
    },
    {
     "cell_type": "code",
     "collapsed": false,
     "input": [
      "print ad.jd , ad.mjd"
     ],
     "language": "python",
     "metadata": {},
     "outputs": [
      {
       "output_type": "stream",
       "stream": "stdout",
       "text": [
        "2456803.94847 56803.4484722\n"
       ]
      }
     ],
     "prompt_number": 58
    },
    {
     "cell_type": "code",
     "collapsed": false,
     "input": [
      "ad.datespec"
     ],
     "language": "python",
     "metadata": {},
     "outputs": [
      {
       "metadata": {},
       "output_type": "pyout",
       "prompt_number": 59,
       "text": [
        "datetime.datetime(2014, 5, 26, 10, 45, 48, 157)"
       ]
      }
     ],
     "prompt_number": 59
    },
    {
     "cell_type": "code",
     "collapsed": false,
     "input": [
      "C.Position(string,equinox=\"J2000\").ecliptic()"
     ],
     "language": "python",
     "metadata": {},
     "outputs": [
      {
       "metadata": {},
       "output_type": "pyout",
       "prompt_number": 60,
       "text": [
        "(350.668766578547, 21.32986876073339)"
       ]
      }
     ],
     "prompt_number": 60
    },
    {
     "cell_type": "code",
     "collapsed": false,
     "input": [
      "print C.Position(string).dd()\n",
      "print C.Position(string).hmsdms()\n",
      "#print C.Position(string,equinox='B1950').j2000().hmsdms()"
     ],
     "language": "python",
     "metadata": {},
     "outputs": [
      {
       "output_type": "stream",
       "stream": "stdout",
       "text": [
        "(342.87300416666665, 15.881752777777779)\n",
        "22:51:29.521 +15:52:54.310\n"
       ]
      }
     ],
     "prompt_number": 61
    }
   ],
   "metadata": {}
  }
 ]
}