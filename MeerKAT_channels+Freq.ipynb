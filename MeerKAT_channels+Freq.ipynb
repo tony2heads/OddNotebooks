{
 "cells": [
  {
   "cell_type": "markdown",
   "metadata": {},
   "source": [
    "# MeerKAT Lband\n",
    "* 4k mode has 4096 channels from 856 to 1712MHz\n",
    "* 32k mode has 32768 channels from  856 to 1712MHz\n"
   ]
  },
  {
   "cell_type": "markdown",
   "metadata": {},
   "source": [
    "# clean bits\n",
    "* from 1293 - 1419.4MHz \n",
    " * channels 2090-2695 in 4k\n",
    " * channels 16728-21567 in 32k"
   ]
  },
  {
   "cell_type": "code",
   "execution_count": 28,
   "metadata": {
    "collapsed": true
   },
   "outputs": [],
   "source": [
    "def freq4k(channel):\n",
    "    freq=856. + (channel*856./4096)\n",
    "    return freq"
   ]
  },
  {
   "cell_type": "code",
   "execution_count": 29,
   "metadata": {
    "collapsed": true
   },
   "outputs": [],
   "source": [
    "def freq32k(channel):\n",
    "    freq=856. + (channel*856./32768)\n",
    "    return freq"
   ]
  },
  {
   "cell_type": "code",
   "execution_count": 30,
   "metadata": {
    "collapsed": true
   },
   "outputs": [],
   "source": [
    "def channel(freq):\n",
    "    chan4=int((freq-856.)*4096/856.)\n",
    "    chan32=int((freq-856.)*32768/856.)\n",
    "    return chan4,chan32"
   ]
  },
  {
   "cell_type": "code",
   "execution_count": 31,
   "metadata": {
    "collapsed": false
   },
   "outputs": [
    {
     "name": "stdout",
     "output_type": "stream",
     "text": [
      "1418.16796875 MHz\n"
     ]
    }
   ],
   "source": [
    "print freq4k(2690),\"MHz\""
   ]
  },
  {
   "cell_type": "code",
   "execution_count": 32,
   "metadata": {
    "collapsed": false
   },
   "outputs": [
    {
     "name": "stdout",
     "output_type": "stream",
     "text": [
      "channels (2695, 21567)\n"
     ]
    }
   ],
   "source": [
    "print \"channels\",channel(1419.4)"
   ]
  },
  {
   "cell_type": "code",
   "execution_count": 33,
   "metadata": {
    "collapsed": false
   },
   "outputs": [
    {
     "name": "stdout",
     "output_type": "stream",
     "text": [
      "1292.77734375 MHz\n"
     ]
    }
   ],
   "source": [
    "print freq4k(2090),\"MHz\""
   ]
  }
 ],
 "metadata": {
  "kernelspec": {
   "display_name": "Python 2",
   "language": "python",
   "name": "python2"
  },
  "language_info": {
   "codemirror_mode": {
    "name": "ipython",
    "version": 2
   },
   "file_extension": ".py",
   "mimetype": "text/x-python",
   "name": "python",
   "nbconvert_exporter": "python",
   "pygments_lexer": "ipython2",
   "version": "2.7.6"
  }
 },
 "nbformat": 4,
 "nbformat_minor": 0
}
