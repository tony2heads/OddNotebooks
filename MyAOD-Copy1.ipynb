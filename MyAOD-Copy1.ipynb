{
 "cells": [
  {
   "cell_type": "code",
   "execution_count": 1,
   "metadata": {
    "collapsed": true
   },
   "outputs": [],
   "source": [
    "#%matplotlib inline\n",
    "import numpy as np"
   ]
  },
  {
   "cell_type": "code",
   "execution_count": 2,
   "metadata": {
    "collapsed": true
   },
   "outputs": [],
   "source": [
    "#import matplotlib.pyplot as plt"
   ]
  },
  {
   "cell_type": "code",
   "execution_count": 3,
   "metadata": {
    "collapsed": true
   },
   "outputs": [],
   "source": [
    "import katarchive\n",
    "\n",
    "import datetime\n",
    "import string\n",
    "import logging\n",
    "logging.root.setLevel(logging.ERROR)\n"
   ]
  },
  {
   "cell_type": "code",
   "execution_count": 4,
   "metadata": {},
   "outputs": [
    {
     "ename": "AttributeError",
     "evalue": "Products instance has no attribute 'only_MeerKAT'",
     "output_type": "error",
     "traceback": [
      "\u001b[0;31m---------------------------------------------------------------------------\u001b[0m",
      "\u001b[0;31mAttributeError\u001b[0m                            Traceback (most recent call last)",
      "\u001b[0;32m<ipython-input-4-cc504443f62d>\u001b[0m in \u001b[0;36m<module>\u001b[0;34m()\u001b[0m\n\u001b[0;32m----> 1\u001b[0;31m \u001b[0mkatarchive\u001b[0m\u001b[0;34m.\u001b[0m\u001b[0mproduct_filter\u001b[0m\u001b[0;34m.\u001b[0m\u001b[0monly_MeerKAT\u001b[0m\u001b[0;34m(\u001b[0m\u001b[0;34m)\u001b[0m\u001b[0;34m\u001b[0m\u001b[0m\n\u001b[0m\u001b[1;32m      2\u001b[0m \u001b[0;34m\u001b[0m\u001b[0m\n\u001b[1;32m      3\u001b[0m \u001b[0mbegin\u001b[0m\u001b[0;34m=\u001b[0m\u001b[0;34m\"27/04/2018\"\u001b[0m\u001b[0;34m\u001b[0m\u001b[0m\n\u001b[1;32m      4\u001b[0m \u001b[0mend\u001b[0m\u001b[0;34m=\u001b[0m\u001b[0;34m\"05/05/2018\"\u001b[0m\u001b[0;34m\u001b[0m\u001b[0m\n",
      "\u001b[0;31mAttributeError\u001b[0m: Products instance has no attribute 'only_MeerKAT'"
     ]
    }
   ],
   "source": [
    "katarchive.product_filter.only_ar1()\n",
    "\n",
    "begin=\"27/04/2018\"\n",
    "end=\"05/05/2018\"  \n"
   ]
  },
  {
   "cell_type": "code",
   "execution_count": null,
   "metadata": {},
   "outputs": [],
   "source": [
    "date=begin[-4:]+\"_\"+begin[3:5]+\"_\"+begin[:2]\n",
    "print date"
   ]
  },
  {
   "cell_type": "code",
   "execution_count": null,
   "metadata": {
    "collapsed": true
   },
   "outputs": [],
   "source": [
    "Outfile=open('AOD_'+date+'.csv', 'w')"
   ]
  },
  {
   "cell_type": "code",
   "execution_count": null,
   "metadata": {
    "collapsed": true
   },
   "outputs": [],
   "source": [
    "def channels(details):\n",
    "    ch32k=\"32768\"\n",
    "    mode=\"4k\" # default\n",
    "    if ch32k in details:\n",
    "        mode=\"32k\"\n",
    "    return mode\n"
   ]
  },
  {
   "cell_type": "code",
   "execution_count": null,
   "metadata": {},
   "outputs": [],
   "source": [
    "f=katarchive.search_archive(startdate=begin,enddate=end)\n",
    "print f"
   ]
  },
  {
   "cell_type": "code",
   "execution_count": null,
   "metadata": {
    "collapsed": true
   },
   "outputs": [],
   "source": [
    "f.sort(key=lambda k: k.metadata.StartTime)"
   ]
  },
  {
   "cell_type": "code",
   "execution_count": null,
   "metadata": {
    "scrolled": false
   },
   "outputs": [],
   "source": [
    "for fi in f:\n",
    "    txts=fi.metadata.InstructionSet\n",
    "    arch=fi.metadata.FileLocation+\"/\"+fi.metadata.Filename\n",
    "    tgt=fi.metadata.Targets[-1].replace(' ','')\n",
    "    name=fi.metadata.Observer\n",
    "    UT=fi.metadata.Details.splitlines()[5][14:41]\n",
    "    block=fi.metadata.ExperimentID\n",
    "    desc=string.replace(fi.metadata.Description,\",\",\";\")\n",
    "    chan=channels(fi.metadata.Details)\n",
    "    nants=len(fi.metadata.Antennas) # Number of ants\n",
    "    size=(fi.metadata.FileSize)/(1024.0*1024*1024) #Number of Gigabyte\n",
    "    if tgt=='None':\n",
    "        tgt='XXXXXX NONE XXXXXX'\n",
    "    \"\"\"\n",
    "    #listing=(\"%s %s3s, %s %s\") %(fi.metadata.FileLocation,fi.metadata.Filename,\\\n",
    "    channels(fi.metadata.Details),antstr,tgt)\n",
    "    \"\"\"\n",
    "    listing=(\"QA,%s,%s,%s,%s,%s,%02d,%6.3f,%s\")%(name,UT,block,desc,chan,nants,size,arch) \n",
    "    print listing\n",
    "    Outfile.write(listing+\"\\n\")"
   ]
  },
  {
   "cell_type": "code",
   "execution_count": null,
   "metadata": {
    "collapsed": true
   },
   "outputs": [],
   "source": [
    "Outfile.close()"
   ]
  },
  {
   "cell_type": "code",
   "execution_count": null,
   "metadata": {},
   "outputs": [],
   "source": [
    "fi.metadata.Details.splitlines()[5][14:41]"
   ]
  }
 ],
 "metadata": {
  "kernelspec": {
   "display_name": "Python 2",
   "language": "python",
   "name": "python2"
  },
  "language_info": {
   "codemirror_mode": {
    "name": "ipython",
    "version": 2
   },
   "file_extension": ".py",
   "mimetype": "text/x-python",
   "name": "python",
   "nbconvert_exporter": "python",
   "pygments_lexer": "ipython2",
   "version": "2.7.6"
  }
 },
 "nbformat": 4,
 "nbformat_minor": 1
}
