{
 "metadata": {
  "name": "Observation statistics - querying the archive in ipython"
 },
 "nbformat": 3,
 "nbformat_minor": 0,
 "worksheets": [
  {
   "cells": [
    {
     "cell_type": "markdown",
     "metadata": {},
     "source": "If you have a lot of observations you might want to create a spreadsheet of all of your observations to help you keep track of everything.\n\nSometimes, our daily monitoring gets started too late and data quality is compromised.  It is useful to know the LST start time of the observation and the duration.  \n\nIn the example below I am going to show how to query the archive on the description field, go through all observations, find the start time, duration of observation and number of antennas used.  I will then calculate the LST of the start of the observation using katpoint.\n\nSharmila Goedhart"
    },
    {
     "cell_type": "code",
     "collapsed": false,
     "input": "import katarchive\nimport katpoint\nimport datetime\nimport time\nimport numpy as np",
     "language": "python",
     "metadata": {},
     "outputs": [],
     "prompt_number": 1
    },
    {
     "cell_type": "code",
     "collapsed": false,
     "input": "obs_list = katarchive.search_archive(description=\"*G9.62*\")",
     "language": "python",
     "metadata": {},
     "outputs": [
      {
       "output_type": "stream",
       "stream": "stdout",
       "text": "Searched using: CAS.ProductTypeName:KatFile AND CAS.ProductTransferStatus:RECEIVED AND Description:*G9.62*\nReturning 88 results\n"
      }
     ],
     "prompt_number": 35
    },
    {
     "cell_type": "markdown",
     "metadata": {},
     "source": "There are currently some difficulties in finding special characters _-+ in the description names.  Unfortunately we often use these characters in our source fields. The trick is to use lots of wild cards until you find all your files.\n\nThe archive can be searched on `observer, target, description, filename, startdate, enddate` or any combination of these parameters.\n\nLets have a look at the metadata returned by the archive search for one of the observations."
    },
    {
     "cell_type": "code",
     "collapsed": false,
     "input": "obs = obs_list[0]\nprint obs.metadata",
     "language": "python",
     "metadata": {},
     "outputs": [
      {
       "output_type": "stream",
       "stream": "stdout",
       "text": "Metaadata for 7 \nFilename: 1412431176.h5\nExperimentID: 20141004-0003\nStartTime: 2014-10-04 15:59:42 SAST\nDuration: 3:04:27\nObserver: sharmila/ruby\nDescription: G9.62 0.20 daily monitoring\nInstructionSet: /home/kat/comm/scripts/new_obs/runobs.py /home/kat/comm/ruby/masers/G9.62 0.20/G9.62 0.20_mon_2014-10-04.obs --project-id=20140513SG-01 -f 1665.5 --sb-id-code=20141004-0003 --description=G9.62 0.20 daily monitoring --observer=sharmila/ruby\nTargets: ['Ra: 0:00:00.00 Dec: -90:00:00.0', '1730-130', 'G9.62 0.20', '1934-638']\nAntennas: 123457\nFileSize: 7.2 GB\nCenterFrequency: 1.7 GHz\n"
      }
     ],
     "prompt_number": 36
    },
    {
     "cell_type": "markdown",
     "metadata": {},
     "source": "Now to compute the LST.  The simplest way is to use `katpoint`, set the target as `Zenith` and create an antenna object. We have to convert the start time to a katpoint timestamp first."
    },
    {
     "cell_type": "code",
     "collapsed": false,
     "input": "start = obs.metadata.StartTime\ncat = katpoint.Catalogue(add_specials=True)\ncat.antenna = katpoint.Antenna('ant1, -30:43:17.3, 21:24:38.5, 1038.0, 12.0, 18.4 -8.7 0.0, -0:05:30.6 0 -0:00:03.3 0:02:14.2 0:00:01.6 -0:01:30.6 0:08:42.1, 1.22')\ntarget = cat['Zenith']\nd = datetime.datetime.strptime(obs.metadata.StartTime, '%Y-%m-%d %H:%M:%S %Z')\nt = katpoint.Timestamp(time.mktime(d.timetuple())).secs\nlst = katpoint.rad2deg(target.antenna.local_sidereal_time(t)) / 15.\nprint lst\n",
     "language": "python",
     "metadata": {},
     "outputs": [
      {
       "output_type": "stream",
       "stream": "stdout",
       "text": "16.3012755988\n"
      }
     ],
     "prompt_number": 37
    },
    {
     "cell_type": "markdown",
     "metadata": {},
     "source": "The code below will create a tab-seperated file which can be loaded into a spreadsheet."
    },
    {
     "cell_type": "code",
     "collapsed": false,
     "input": "obs_list = katarchive.search_archive(description=\"*G9.62*\")\nf = open('obs_details.csv', 'w')\nf.write('H5 name \\t start time \\t LST \\t Duration (hours) \\t n_ants\\n')\ncat = katpoint.Catalogue(add_specials=True)\ncat.antenna = katpoint.Antenna('ant1, -30:43:17.3, 21:24:38.5, 1038.0, 12.0, 18.4 -8.7 0.0, -0:05:30.6 0 -0:00:03.3 0:02:14.2 0:00:01.6 -0:01:30.6 0:08:42.1, 1.22')\ntarget = cat['Zenith']\nfor obs in obs_list:\n    d = datetime.datetime.strptime(obs.metadata.StartTime, '%Y-%m-%d %H:%M:%S %Z')\n    t = katpoint.Timestamp(time.mktime(d.timetuple())).secs\n    lst = katpoint.rad2deg(target.antenna.local_sidereal_time(t)) / 15.\n    details =  obs.metadata.Filename + '\\t' + obs.metadata.StartTime + '\\t' + \"%4.2f\"%lst + '\\t' +  \"%4.2f\"%(obs.metadata.Duration/3600.) + '\\t'+ np.str(len(obs.metadata.Antennas))+'\\n'\n    f.write(details)\nf.close()\n",
     "language": "python",
     "metadata": {},
     "outputs": [
      {
       "output_type": "stream",
       "stream": "stdout",
       "text": "Searched using: CAS.ProductTypeName:KatFile AND CAS.ProductTransferStatus:RECEIVED AND Description:*G9.62*\nReturning 73 results\n"
      }
     ],
     "prompt_number": 15
    },
    {
     "cell_type": "code",
     "collapsed": false,
     "input": "total_time = 0\nfor obs in obs_list:\n    total_time = total_time + obs.metadata.Duration/60.\n    ",
     "language": "python",
     "metadata": {},
     "outputs": [],
     "prompt_number": 38
    },
    {
     "cell_type": "code",
     "collapsed": false,
     "input": "print total_time/60., 'hours'",
     "language": "python",
     "metadata": {},
     "outputs": [
      {
       "output_type": "stream",
       "stream": "stdout",
       "text": "243.849833333 hours\n"
      }
     ],
     "prompt_number": 41
    },
    {
     "cell_type": "code",
     "collapsed": false,
     "input": "",
     "language": "python",
     "metadata": {},
     "outputs": []
    }
   ],
   "metadata": {}
  }
 ]
}