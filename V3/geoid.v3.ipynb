{
 "metadata": {
  "name": ""
 },
 "nbformat": 3,
 "nbformat_minor": 0,
 "worksheets": [
  {
   "cells": [
    {
     "cell_type": "code",
     "collapsed": false,
     "input": [
      "#%loadpy /home/tony/Desktop/PythonScripts/Coords/geoid.py"
     ],
     "language": "python",
     "metadata": {},
     "outputs": [],
     "prompt_number": 10
    },
    {
     "cell_type": "code",
     "collapsed": false,
     "input": [
      "#!/usr/bin/env python\n",
      "from math import *\n",
      "\n",
      "\"\"\"\n",
      "See wikipedia and WGS84\n",
      "\"\"\"\n",
      "a = 6378137.0 #semi major axis (m)\n",
      "b = 6356752.3142 #semi minor axis (m)\n",
      "e2= 0.00669437999014 #square of ellipticity\n",
      "\n",
      "# parameters for KAT\n",
      "lat=radians(-30.71317)\n",
      "lon=radians(21.44389)\n",
      "height = 1054\n",
      "\n",
      "def geocentric(lat):\n",
      "    \"\"\"\n",
      "    turns geodetic to geocentric latitude (both in rad)\n",
      "    \"\"\"\n",
      "    g=atan((1-e2)*tan(lat))\n",
      "    return g\n",
      "\n",
      "\n",
      "def rad(l):\n",
      "    \"\"\"\n",
      "    Radius of earth (m) at geodetic latitude l (radians)\n",
      "    \"\"\"\n",
      "    p=a**2*cos(l)\n",
      "    q=b**2*sin(l)\n",
      "    x=a*cos(l)\n",
      "    y=b*sin(l)\n",
      "    R=sqrt( (p**2+q**2)/ (x**2+y**2))\n",
      "    return R\n",
      "\n",
      "def normal(lat):\n",
      "    \"\"\"\n",
      "    normal (in metres) for a geodetic latitude (in radians)\n",
      "    \"\"\"\n",
      "    n=a/sqrt(1-e2*(sin(lat))**2)\n",
      "    return n\n",
      "\n",
      "def xyz(lat,lon,height):\n",
      "    \"\"\"\n",
      "    give lat,lon,height in radians,radians and metres\n",
      "    lat, lon are geodetic\n",
      "    xyz in ECEF frame\n",
      "    height in metres    \n",
      "    \"\"\"\n",
      "    N = normal(lat)\n",
      "    x=(N+height)*cos(lat)*cos(lon) # round east through Greenwich \n",
      "    y=(N+height)*cos(lat)*sin(lon) # orthogonal to x and z\n",
      "    z=(N*(1-e2)+height)*sin(lat)  #north\n",
      "    return x,y,z\n",
      "\n",
      "\n",
      "def xyz2(lat,lon):\n",
      "    \"\"\"\n",
      "    lat converted to geocentric\n",
      "    no account for elevation\n",
      "    uses radius of earth at that latitude\n",
      "    \"\"\"\n",
      "    R=rad(lat)\n",
      "    latc=geocentric(lat)\n",
      "    x=R*cos(latc)*cos(lon)\n",
      "    y=R*cos(latc)*sin(lon)\n",
      "    z=R*sin(latc)\n",
      "    return x,y,z\n",
      "\n",
      "\n",
      "def uen(north,east,up,lat):\n",
      "    \"\"\"\n",
      "    North, East, Up relative coordinates for a latitude in radians\n",
      "    \"\"\"\n",
      "    x=up*cos(lat)-north*sin(lat)\n",
      "    y=east\n",
      "    z=north*cos(lat)+up*sin(lat)\n",
      "    return (x,y,z)\n",
      "\n",
      "\n",
      "\n",
      "if __name__ == '__main__':\n",
      "    print (\"X  %.2f Y  %.2f Z  %.2f\") %(xyz(lat,lon,height))\n",
      "    print (\"X2 %.2f Y2 %.2f Z2 %.2f\") %(xyz2(lat,lon))\n",
      "    print \"R\",rad(lat),\"norm\",normal(lat)\n",
      "\n"
     ],
     "language": "python",
     "metadata": {},
     "outputs": [
      {
       "output_type": "stream",
       "stream": "stdout",
       "text": [
        "X  5109222.55 Y  2006798.66 Z  -3239133.05\n",
        "X2 5108379.12 Y2 2006467.38 Z2 -3238594.73\n",
        "R 6372593.22468 norm 6383713.27444\n"
       ]
      }
     ],
     "prompt_number": 11
    },
    {
     "cell_type": "code",
     "collapsed": false,
     "input": [
      "north=25.095\n",
      "east=-9.095\n",
      "up=-0.045\n",
      "print uen(north,east,up,lat)"
     ],
     "language": "python",
     "metadata": {},
     "outputs": [
      {
       "output_type": "stream",
       "stream": "stdout",
       "text": [
        "(12.778346030629024, -9.095, 21.59803052876598)\n"
       ]
      }
     ],
     "prompt_number": 12
    },
    {
     "cell_type": "code",
     "collapsed": false,
     "input": [
      "print normal(lat)"
     ],
     "language": "python",
     "metadata": {},
     "outputs": [
      {
       "output_type": "stream",
       "stream": "stdout",
       "text": [
        "6383713.27444\n"
       ]
      }
     ],
     "prompt_number": 14
    },
    {
     "cell_type": "code",
     "collapsed": false,
     "input": [
      "print degrees(geocentric(lat))"
     ],
     "language": "python",
     "metadata": {},
     "outputs": [
      {
       "output_type": "stream",
       "stream": "stdout",
       "text": [
        "-30.5444542256\n"
       ]
      }
     ],
     "prompt_number": 13
    },
    {
     "cell_type": "code",
     "collapsed": false,
     "input": [],
     "language": "python",
     "metadata": {},
     "outputs": [],
     "prompt_number": 13
    }
   ],
   "metadata": {}
  }
 ]
}