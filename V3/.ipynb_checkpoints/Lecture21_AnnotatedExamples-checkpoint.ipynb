{
 "metadata": {
  "celltoolbar": "Raw Cell Format",
  "name": "",
  "signature": "sha256:066eb107e6a7d6c726c9ba7fd68cc92c0b3e8fe20b240c4994e86be9588c6cc5"
 },
 "nbformat": 3,
 "nbformat_minor": 0,
 "worksheets": [
  {
   "cells": [
    {
     "cell_type": "markdown",
     "metadata": {},
     "source": [
      "Annotated notes from Lecture 21\n",
      "\n",
      "__GOALS:__\n",
      "\n",
      " *   Learn the tools needed for the data fitting homework assignment\n",
      " *   Learn some generally useful data fitting techniques\n",
      "\n",
      "__TUTORIAL TODAY:__  \n",
      "Load up this ipython notebook and change the values of `m` and `b` in the \"Fitting Lines to Data\" section, `A` and `B` in \"Curve Fitting\", and then again `a` and `b` in \"Fitting a Power Law\"\n"
     ]
    },
    {
     "cell_type": "code",
     "collapsed": false,
     "input": [
      "# You can ignore this, it's just for aesthetic purposes\n",
      "matplotlib.rcParams['figure.figsize'] = (8,5)\n",
      "rcParams['savefig.dpi'] = 100"
     ],
     "language": "python",
     "metadata": {},
     "outputs": [
      {
       "ename": "NameError",
       "evalue": "name 'matplotlib' is not defined",
       "output_type": "pyerr",
       "traceback": [
        "\u001b[1;31m---------------------------------------------------------------------------\u001b[0m\n\u001b[1;31mNameError\u001b[0m                                 Traceback (most recent call last)",
        "\u001b[1;32m<ipython-input-1-2efd98053092>\u001b[0m in \u001b[0;36m<module>\u001b[1;34m()\u001b[0m\n\u001b[0;32m      1\u001b[0m \u001b[1;31m# You can ignore this, it's just for aesthetic purposes\u001b[0m\u001b[1;33m\u001b[0m\u001b[1;33m\u001b[0m\u001b[0m\n\u001b[1;32m----> 2\u001b[1;33m \u001b[0mmatplotlib\u001b[0m\u001b[1;33m.\u001b[0m\u001b[0mrcParams\u001b[0m\u001b[1;33m[\u001b[0m\u001b[1;34m'figure.figsize'\u001b[0m\u001b[1;33m]\u001b[0m \u001b[1;33m=\u001b[0m \u001b[1;33m(\u001b[0m\u001b[1;36m8\u001b[0m\u001b[1;33m,\u001b[0m\u001b[1;36m5\u001b[0m\u001b[1;33m)\u001b[0m\u001b[1;33m\u001b[0m\u001b[0m\n\u001b[0m\u001b[0;32m      3\u001b[0m \u001b[0mrcParams\u001b[0m\u001b[1;33m[\u001b[0m\u001b[1;34m'savefig.dpi'\u001b[0m\u001b[1;33m]\u001b[0m \u001b[1;33m=\u001b[0m \u001b[1;36m100\u001b[0m\u001b[1;33m\u001b[0m\u001b[0m\n",
        "\u001b[1;31mNameError\u001b[0m: name 'matplotlib' is not defined"
       ]
      }
     ],
     "prompt_number": 1
    },
    {
     "cell_type": "markdown",
     "metadata": {},
     "source": [
      "Fitting Lines to Data\n",
      "=====================\n",
      "We'll cover very basic line fitting, largely ignoring the subtleties of the statistics in favor of showing you *how* to perform simple fits of models to data."
     ]
    },
    {
     "cell_type": "code",
     "collapsed": false,
     "input": [
      "# These import commands set up the environment so we have access to numpy and pylab functions\n",
      "import numpy as np\n",
      "import pylab as pl\n",
      "\n",
      "# Data Fitting\n",
      "# First, we'll generate some fake data to use\n",
      "x = np.linspace(0,10,50) # 50 x points from 0 to 10\n",
      "\n",
      "# Remember, you can look at the help for linspace too:\n",
      "# help(np.linspace)"
     ],
     "language": "python",
     "metadata": {},
     "outputs": []
    },
    {
     "cell_type": "code",
     "collapsed": false,
     "input": [
      "# y = m x + b\n",
      "y = 2.5 * x + 1.2"
     ],
     "language": "python",
     "metadata": {},
     "outputs": []
    },
    {
     "cell_type": "code",
     "collapsed": false,
     "input": [
      "# let's plot that\n",
      "pl.clf()\n",
      "pl.plot(x,y)"
     ],
     "language": "python",
     "metadata": {},
     "outputs": []
    },
    {
     "cell_type": "code",
     "collapsed": false,
     "input": [
      "# looks like a simple line.  But we want to see the individual data points\n",
      "pl.plot(x,y,marker='s')"
     ],
     "language": "python",
     "metadata": {},
     "outputs": []
    },
    {
     "cell_type": "code",
     "collapsed": false,
     "input": [
      "# We need to add noise first\n",
      "noise = pl.randn(y.size)\n",
      "# Like IDL, python has a 'randn' function that is centered at 0 with a standard deviation of 1.  \n",
      "# IDL's 'randomu' is 'pl.rand' instead\n",
      "# What's y.size?\n",
      "print y.size\n",
      "print len(y)"
     ],
     "language": "python",
     "metadata": {},
     "outputs": []
    },
    {
     "cell_type": "markdown",
     "metadata": {},
     "source": [
      "`y.size` is the number of elements in y, just like `len(y)` or, in IDL, `n_elements(y)`"
     ]
    },
    {
     "cell_type": "code",
     "collapsed": false,
     "input": [
      "# We can add arrays in python just like in IDL\n",
      "noisy_flux = y + noise\n",
      "# We'll plot it too, but this time without any lines\n",
      "# between the points, and we'll use black dots\n",
      "# ('k' is a shortcut for 'black', '.' means 'point')\n",
      "pl.clf() # clear the figure\n",
      "pl.plot(x,noisy_flux,'k.')\n",
      "# We need labels, of course\n",
      "pl.xlabel(\"Time\")\n",
      "pl.ylabel(\"Flux\")\n"
     ],
     "language": "python",
     "metadata": {},
     "outputs": []
    },
    {
     "cell_type": "markdown",
     "metadata": {},
     "source": [
      "Now we're onto the fitting stage.\n",
      "We're going to fit a function of the form\n",
      "$$y = m*x + b$$\n",
      "which is the same as\n",
      "$$f(x) = p[1]*x + p[0]$$\n",
      "to the data.\n",
      "This is called \"linear regression\", but it is also a special case of a more\n",
      "general concept: this is a first-order polynomial.\n",
      "\"First Order\" means that the highest exponent of x in the equation is 1\n"
     ]
    },
    {
     "cell_type": "code",
     "collapsed": false,
     "input": [
      "# We'll use polyfit to find the values of the coefficients.  The third\n",
      "# parameter is the \"order\"\n",
      "p = np.polyfit(x,noisy_flux,1)\n",
      "# help(polyfit) if you want to find out more"
     ],
     "language": "python",
     "metadata": {},
     "outputs": []
    },
    {
     "cell_type": "code",
     "collapsed": false,
     "input": [
      "# print our fit parameters.  They are not exact because there's noise in the data!\n",
      "# note that this is an array!\n",
      "print p\n",
      "print type(p) # you can ask python to tell you what type a variable is"
     ],
     "language": "python",
     "metadata": {},
     "outputs": []
    },
    {
     "cell_type": "code",
     "collapsed": false,
     "input": [
      "# Great!  We've got our fit.  Let's overplot the data and the fit now\n",
      "pl.clf() # clear the figure\n",
      "pl.plot(x,noisy_flux,'k.') # repeated from above\n",
      "pl.plot(x,p[0]*x+p[1],'r-') # A red solid line\n",
      "pl.xlabel(\"Time\") # labels again\n",
      "pl.ylabel(\"Flux\")"
     ],
     "language": "python",
     "metadata": {},
     "outputs": []
    },
    {
     "cell_type": "code",
     "collapsed": false,
     "input": [
      "# Cool, but there's another (better) way to do this.  We'll use the polyval\n",
      "# function instead of writing out the m x + b equation ourselves\n",
      "pl.clf() # clear the figure\n",
      "pl.plot(x,noisy_flux,'k.') # repeated from above\n",
      "pl.plot(x,np.polyval(p,x),'r-') # A red solid line\n",
      "pl.xlabel(\"Time\") # labels again\n",
      "pl.ylabel(\"Flux\")"
     ],
     "language": "python",
     "metadata": {},
     "outputs": []
    },
    {
     "cell_type": "code",
     "collapsed": false,
     "input": [
      "# help(polyval) if you want to find out more"
     ],
     "language": "python",
     "metadata": {},
     "outputs": []
    },
    {
     "cell_type": "markdown",
     "metadata": {},
     "source": [
      "Let's do the same thing with a noisier data set.  I'm going to leave out most of the comments this time."
     ]
    },
    {
     "cell_type": "code",
     "collapsed": false,
     "input": [
      "noisy_flux = y+noise*10\n",
      "p = polyfit(x,noisy_flux,1)\n",
      "print p"
     ],
     "language": "python",
     "metadata": {},
     "outputs": []
    },
    {
     "cell_type": "code",
     "collapsed": false,
     "input": [
      "# plot it\n",
      "pl.clf() # clear the figure\n",
      "pl.plot(x,noisy_flux,'k.') # repeated from above\n",
      "pl.plot(x,np.polyval(p,x),'r-',label=\"Best fit\") # A red solid line\n",
      "pl.plot(x,2.5*x+1.2,'b--',label=\"Input\") # a blue dashed line showing the REAL line\n",
      "pl.legend(loc='best') # make a legend in the best location\n",
      "pl.xlabel(\"Time\") # labels again\n",
      "pl.ylabel(\"Flux\")"
     ],
     "language": "python",
     "metadata": {},
     "outputs": []
    },
    {
     "cell_type": "markdown",
     "metadata": {},
     "source": [
      "Despite the noisy data, our fit is still pretty good!  One last plotting trick, then we'll move on."
     ]
    },
    {
     "cell_type": "code",
     "collapsed": false,
     "input": [
      "pl.clf() # clear the figure\n",
      "pl.errorbar(x,noisy_flux,yerr=10,marker='.',color='k',linestyle='none') # errorbar requires some extras to look nice\n",
      "pl.plot(x,np.polyval(p,x),'r-',label=\"Best fit\") # A red solid line\n",
      "pl.plot(x,2.5*x+1.2,'b--',label=\"Input\") # a blue dashed line showing the REAL line\n",
      "pl.legend(loc='best') # make a legend in the best location\n",
      "pl.xlabel(\"Time\") # labels again\n",
      "pl.ylabel(\"Flux\")"
     ],
     "language": "python",
     "metadata": {},
     "outputs": []
    },
    {
     "cell_type": "markdown",
     "metadata": {},
     "source": [
      "Curve Fitting\n",
      "=============\n",
      "\n",
      "We'll now move on to more complicated curves.  What if the data looks more like a sine curve?  We'll create \"fake data\" in basically the same way as above."
     ]
    },
    {
     "cell_type": "code",
     "collapsed": false,
     "input": [
      "# this time we want our \"independent variable\" to be in radians\n",
      "x = np.linspace(0,2*np.pi,50)\n",
      "y = np.sin(x)\n",
      "pl.clf()\n",
      "pl.plot(x,y)"
     ],
     "language": "python",
     "metadata": {},
     "outputs": []
    },
    {
     "cell_type": "code",
     "collapsed": false,
     "input": [
      "# We'll make it noisy again\n",
      "noise = pl.randn(y.size)\n",
      "noisy_flux = y + noise\n",
      "pl.plot(x,noisy_flux,'k.') # no clear this time"
     ],
     "language": "python",
     "metadata": {},
     "outputs": []
    },
    {
     "cell_type": "markdown",
     "metadata": {},
     "source": [
      "That looks like kind of a mess.  Let's see how well we can fit it.\n",
      "The function we're trying to fit has the form:\n",
      "$$f(x) = A * sin(x - B)$$\n",
      "where $A$ is a \"scale\" parameter and $B$ is the side-to-side offset (or the \"delay\" if the x-axis is time).  For our data, they are $A=1$ and $B=0$ respectively, because we made $y=sin(x)$"
     ]
    },
    {
     "cell_type": "code",
     "collapsed": false,
     "input": [
      "# curve_fit is the function we need for this, but it's in another package called scipy\n",
      "from scipy.optimize import curve_fit\n",
      "# we need to know what it does:\n",
      "help(curve_fit)"
     ],
     "language": "python",
     "metadata": {},
     "outputs": []
    },
    {
     "cell_type": "markdown",
     "metadata": {},
     "source": [
      "Look at the returns:\n",
      "\n",
      "\n",
      "    Returns\n",
      "    -------\n",
      "    popt : array\n",
      "        Optimal values for the parameters so that the sum of the squared error\n",
      "        of ``f(xdata, *popt) - ydata`` is minimized\n",
      "    pcov : 2d array\n",
      "        The estimated covariance of popt.  The diagonals provide the variance\n",
      "        of the parameter estimate.\n",
      "    \n",
      "\n",
      "So the first set of returns is the \"best-fit parameters\", while the second set is the \"covariance matrix\""
     ]
    },
    {
     "cell_type": "code",
     "collapsed": false,
     "input": [
      "def sinfunc(x,a,b):\n",
      "    return a*np.sin(x-b)\n",
      "fitpars, covmat = curve_fit(sinfunc,x,noisy_flux)\n",
      "# The diagonals of the covariance matrix are variances\n",
      "# variance = standard deviation squared, so we'll take the square roots to get the standard devations!\n",
      "# You can get the diagonals of a 2D array easily:\n",
      "variances = covmat.diagonal()\n",
      "std_devs = np.sqrt(variances)\n",
      "print fitpars,std_devs"
     ],
     "language": "python",
     "metadata": {},
     "outputs": []
    },
    {
     "cell_type": "code",
     "collapsed": false,
     "input": [
      "# Let's plot our best fit, see how well we did\n",
      "# These two lines are equivalent:\n",
      "pl.plot(x, sinfunc(x, fitpars[0], fitpars[1]), 'r-')\n",
      "pl.plot(x, sinfunc(x, *fitpars), 'r-')"
     ],
     "language": "python",
     "metadata": {},
     "outputs": []
    },
    {
     "cell_type": "markdown",
     "metadata": {},
     "source": [
      "Again, this is pretty good despite the noisiness."
     ]
    },
    {
     "cell_type": "markdown",
     "metadata": {},
     "source": [
      "Fitting a Power Law\n",
      "===================\n",
      "\n",
      "Power laws occur all the time in physis, so it's a good idea to learn how to use them.\n",
      "\n",
      "What's a power law?  Any function of the form:\n",
      "$$f(t) = a t^b$$\n",
      "where $x$ is your independent variable, $a$ is a scale parameter, and $b$ is the exponent (the power).\n",
      "\n",
      "When fitting power laws, it's very useful to take advantage of the fact that \"a power law is linear in log-space\".\n",
      "That means, if you take the log of both sides of the equation (which is allowed) and change variables, you get a \n",
      "linear equation!\n",
      "$$\\ln(f(t)) = \\ln(a t^b) = \\ln(a) + b \\ln(t)$$\n",
      "We'll use the substitutions $y=\\ln(f(t))$, $A=\\ln(a)$, and $x=\\ln(t)$, so that\n",
      "$$y=a+bx$$\n",
      "which looks just like our linear equation from before (albeit with different letters for the fit parameters).\n",
      "\n",
      "We'll now go through the same fitting exercise as before, but using powerlaws instead of lines."
     ]
    },
    {
     "cell_type": "code",
     "collapsed": false,
     "input": [
      "t = np.linspace(0.1,10)  \n",
      "a = 1.5\n",
      "b = 2.5\n",
      "z = a*t**b "
     ],
     "language": "python",
     "metadata": {},
     "outputs": []
    },
    {
     "cell_type": "code",
     "collapsed": false,
     "input": [
      "pl.clf()\n",
      "pl.plot(t,z)"
     ],
     "language": "python",
     "metadata": {},
     "outputs": []
    },
    {
     "cell_type": "code",
     "collapsed": false,
     "input": [
      "# Change the variables\n",
      "# np.log is the natural log\n",
      "y = np.log(z)\n",
      "x = np.log(t)\n",
      "pl.clf()\n",
      "pl.plot(x,y)\n",
      "pl.ylabel(\"log(z)\")\n",
      "pl.xlabel(\"log(t)\")"
     ],
     "language": "python",
     "metadata": {},
     "outputs": []
    },
    {
     "cell_type": "markdown",
     "metadata": {},
     "source": [
      "It's a straight line.  Now, for our \"fake data\", we'll add the noise *before* transforming from \"linear\" to \"log\" space"
     ]
    },
    {
     "cell_type": "code",
     "collapsed": false,
     "input": [
      "noisy_z = z + pl.randn(z.size)*10\n",
      "pl.clf()\n",
      "pl.plot(t,z)\n",
      "pl.plot(t,noisy_z,'k.')"
     ],
     "language": "python",
     "metadata": {},
     "outputs": []
    },
    {
     "cell_type": "code",
     "collapsed": false,
     "input": [
      "noisy_y = np.log(noisy_z)\n",
      "pl.clf()\n",
      "pl.plot(x,y)\n",
      "pl.plot(x,noisy_y,'k.')\n",
      "pl.ylabel(\"log(z)\")\n",
      "pl.xlabel(\"log(t)\")"
     ],
     "language": "python",
     "metadata": {},
     "outputs": []
    },
    {
     "cell_type": "markdown",
     "metadata": {},
     "source": [
      "Note how different this looks from the \"noisy line\" we plotted earlier.  Power laws are much more sensitive to noise!  In fact, there are some data points that don't even show up on this plot because you can't take the log of a negative number.  Any points where the random noise was negative enough that the curve dropped below zero ended up being \"NAN\", or \"Not a Number\".  Luckily, our plotter knows to ignore those numbers, but `polyfit` doesnt."
     ]
    },
    {
     "cell_type": "code",
     "collapsed": false,
     "input": [
      "print noisy_y"
     ],
     "language": "python",
     "metadata": {},
     "outputs": []
    },
    {
     "cell_type": "code",
     "collapsed": false,
     "input": [
      "# try to polyfit a line\n",
      "pars = np.polyfit(x,noisy_y,1)\n",
      "print pars"
     ],
     "language": "python",
     "metadata": {},
     "outputs": []
    },
    {
     "cell_type": "markdown",
     "metadata": {},
     "source": [
      "In order to get around this problem, we need to *mask the data*.  That means we have to tell the code to ignore all the data points where `noisy_y` is `nan`.\n",
      "\n",
      "My favorite way to do this is to take advantage of a curious fact:  $1=1$, but `nan`!=`nan`"
     ]
    },
    {
     "cell_type": "code",
     "collapsed": false,
     "input": [
      "print 1 == 1\n",
      "print np.nan == np.nan"
     ],
     "language": "python",
     "metadata": {},
     "outputs": []
    },
    {
     "cell_type": "markdown",
     "metadata": {},
     "source": [
      "So if we find all the places were `noisy_y` != `noisy_y`, we can get rid of them.  Or we can just use the places where `noisy_y` equals itself."
     ]
    },
    {
     "cell_type": "code",
     "collapsed": false,
     "input": [
      "OK = noisy_y == noisy_y\n",
      "print OK"
     ],
     "language": "python",
     "metadata": {},
     "outputs": []
    },
    {
     "cell_type": "markdown",
     "metadata": {},
     "source": [
      "This `OK` array is a \"boolean mask\".  We can use it as an \"index array\", which is pretty neat.  "
     ]
    },
    {
     "cell_type": "code",
     "collapsed": false,
     "input": [
      "print \"There are %i OK values\" % (OK.sum())\n",
      "masked_noisy_y = noisy_y[OK]\n",
      "masked_x = x[OK]\n",
      "print \"masked_noisy_y has length\",len(masked_noisy_y)"
     ],
     "language": "python",
     "metadata": {},
     "outputs": []
    },
    {
     "cell_type": "code",
     "collapsed": false,
     "input": [
      "# now polyfit again\n",
      "pars = np.polyfit(masked_x,masked_noisy_y,1)\n",
      "print pars"
     ],
     "language": "python",
     "metadata": {},
     "outputs": []
    },
    {
     "cell_type": "code",
     "collapsed": false,
     "input": [
      "# cool, it worked.  But the fit looks a little weird!\n",
      "fitted_y = polyval(pars,x)\n",
      "pl.plot(x, fitted_y, 'r--')"
     ],
     "language": "python",
     "metadata": {},
     "outputs": []
    },
    {
     "cell_type": "markdown",
     "metadata": {},
     "source": [
      "The noise seems to have affected our fit. "
     ]
    },
    {
     "cell_type": "code",
     "collapsed": false,
     "input": [
      "# Convert bag to linear-space to see what it \"really\" looks like\n",
      "fitted_z = np.exp(fitted_y)\n",
      "pl.clf()\n",
      "pl.plot(t,z)\n",
      "pl.plot(t,noisy_z,'k.')\n",
      "pl.plot(t,fitted_z,'r--')\n",
      "pl.xlabel('t')\n",
      "pl.ylabel('z')"
     ],
     "language": "python",
     "metadata": {},
     "outputs": []
    },
    {
     "cell_type": "markdown",
     "metadata": {},
     "source": [
      "That's pretty bad.  A \"least-squares\" approach, as with `curve_fit`, is probably going to be the better choice.  However, in the absence of noise (i.e., on your homework), this approach *should* work"
     ]
    },
    {
     "cell_type": "code",
     "collapsed": false,
     "input": [
      "def powerlaw(x,a,b):\n",
      "    return a*(x**b)\n",
      "pars,covar =  curve_fit(powerlaw,t,noisy_z)\n",
      "pl.clf()\n",
      "pl.plot(t,z)\n",
      "pl.plot(t,noisy_z,'k.')\n",
      "pl.plot(t,powerlaw(t,*pars),'r--')\n",
      "pl.xlabel('t')\n",
      "pl.ylabel('z')"
     ],
     "language": "python",
     "metadata": {},
     "outputs": []
    },
    {
     "cell_type": "markdown",
     "metadata": {},
     "source": [
      "Tricks with Arrays\n",
      "==================\n",
      "\n",
      "We need to cover a few syntactic things comparing IDL and python.\n",
      "\n",
      "In IDL, if you wanted the maximum value in an array, you would do:  \n",
      "`maxval = max(array, location_of_max)`\n",
      "\n",
      "\n",
      "In python, it's more straightforward:  \n",
      "`location_of_max = array.argmax()`  \n",
      "or   \n",
      "`location_of_max = np.argmax(array)`  \n",
      "\n",
      "Now, say we want to determine the location of the maximum of a number of different functions.  The functions we'll use are:  \n",
      "`sin(x)`  \n",
      "`sin`$^2$`(x)`  \n",
      "`sin`$^3$`(x)`  \n",
      "`sin(x)cos(x)`  \n",
      "\n",
      "We'll define these functions, then loop over them. "
     ]
    },
    {
     "cell_type": "code",
     "collapsed": false,
     "input": [
      "# sin(x) is already defined\n",
      "def sin2x(x):\n",
      "    \"\"\" sin^2 of x \"\"\"\n",
      "    return np.sin(x)**2\n",
      "def sin3x(x):\n",
      "    \"\"\" sin^3 of x \"\"\"\n",
      "    return np.sin(x)**3\n",
      "def sincos(x):\n",
      "    \"\"\" sin(x)*cos(x) \"\"\"\n",
      "    return np.sin(x)*np.cos(x)\n",
      "list_of_functions = [np.sin, sin2x, sin3x, sincos]"
     ],
     "language": "python",
     "metadata": {},
     "outputs": []
    },
    {
     "cell_type": "code",
     "collapsed": false,
     "input": [
      "# we want 0-2pi for these functions\n",
      "t = np.linspace(0,2*np.pi)\n",
      "# this is the cool part: we can make a variable function\n",
      "for fun in list_of_functions:\n",
      "    # the functions know their own names (in a \"secret hidden variable\" called __name__)\n",
      "    print \"The maximum of \",fun.__name__,\" is \", fun(t).max()"
     ],
     "language": "python",
     "metadata": {},
     "outputs": []
    },
    {
     "cell_type": "code",
     "collapsed": false,
     "input": [
      "# OK, but we wanted the location of the maximum....\n",
      "for fun in list_of_functions:\n",
      "    print \"The location of the maximum of \",fun.__name__,\" is \", fun(t).argmax()"
     ],
     "language": "python",
     "metadata": {},
     "outputs": []
    },
    {
     "cell_type": "code",
     "collapsed": false,
     "input": [
      "# well, that's not QUITE what we want, but it's close\n",
      "# We want to know the value of t, not the index!\n",
      "for fun in list_of_functions:\n",
      "    print \"The location of the maximum of \",fun.__name__,\" is \", t[fun(t).argmax()]"
     ],
     "language": "python",
     "metadata": {},
     "outputs": []
    },
    {
     "cell_type": "code",
     "collapsed": false,
     "input": [
      "# Finally, what if we want to store all that in an array?\n",
      "# Well, here's a cool trick: you can sort of invert the for loop\n",
      "# This is called a \"list comprehension\":\n",
      "maxlocs = [ t[fun(t).argmax()] for fun in list_of_functions ]\n",
      "print maxlocs"
     ],
     "language": "python",
     "metadata": {},
     "outputs": []
    },
    {
     "cell_type": "code",
     "collapsed": false,
     "input": [
      "# Confused?  OK.  Try this one:\n",
      "print range(6)\n",
      "print [ii**2 for ii in range(6)]"
     ],
     "language": "python",
     "metadata": {},
     "outputs": []
    },
    {
     "cell_type": "markdown",
     "metadata": {},
     "source": [
      "Recursion\n",
      "=========\n",
      "\n",
      "The next big programming topic is called *recursion*.\n",
      "\n",
      "*Recursion*\n",
      "-----------\n",
      "The next little programming topic is called recursion.\n",
      "\n",
      "<img src=\"http://i.qkme.me/35tnta.jpg\">\n",
      "\n",
      "For better or worse, you must visit <a href=\"http://en.wikipedia.org/wiki/Recursion#Recursive_humor\">the wiki page on recursion</a>\n",
      "\n",
      "Recursion is when a function calls itself.  But, a recursive function *must* have an \"end condition\" to avoid an infinite loop.\n",
      "If you try to make an infinite loop, you will get a \"stack overflow\" (python will give you an error)."
     ]
    },
    {
     "cell_type": "code",
     "collapsed": false,
     "input": [
      "def fail(x):\n",
      "    \"\"\" an infinite recursion. Will fail \"\"\"\n",
      "    return fail(x)\n",
      "# WARNING: this will definitely fail, but it may take a long time! \n",
      "# print fail(1)"
     ],
     "language": "python",
     "metadata": {},
     "outputs": []
    },
    {
     "cell_type": "markdown",
     "metadata": {},
     "source": [
      "Recursion is a useful mathematical tool.  There are some problems that are best solved via recursion.  The most commonly used example is the fibonacci sequence:  \n",
      "0 1 1 2 3 5 8 13 21 ....  \n",
      "this sequence is defined by the recursive relation  \n",
      "$$F_n = F_{n-1} + F_{n-2}$$  \n",
      "or $$f(n) = f(n-1) + f(n-2)$$\n",
      "\n",
      "It has the base conditions:\n",
      "$$f(0) = 0$$\n",
      "$$f(1) = 1$$\n",
      "\n",
      "This one is pretty easy to define in code.  But I'll leave it as an exercise.\n",
      "\n",
      "The following code shows a hierarchy of what will happen if you call `fibonacci(5)`.  Don't worry about trying to understand the 'digraph' code, it's just a graph visualization tool."
     ]
    },
    {
     "cell_type": "code",
     "collapsed": false,
     "input": [
      "%install_ext https://raw.github.com/tkf/ipython-hierarchymagic/master/hierarchymagic.py"
     ],
     "language": "python",
     "metadata": {},
     "outputs": []
    },
    {
     "cell_type": "code",
     "collapsed": false,
     "input": [
      "%load_ext hierarchymagic"
     ],
     "language": "python",
     "metadata": {},
     "outputs": []
    },
    {
     "cell_type": "code",
     "collapsed": false,
     "input": [
      "%%dot --format svg -- \n",
      "digraph G { \n",
      "    f5 [label=\"f(5)\"];\n",
      "    Lf1 [label=\"f(1)\"];\n",
      "LLf0 [label=\"f(0)\"];\n",
      "Lf2 [label=\"f(2)\"];\n",
      "Lf3 [label=\"f(3)\"];\n",
      "RRf1  [label=\"f(1)\"];\n",
      "RRMf1 [label=\"f(1)\"];\n",
      "RRf0 [label=\"f(0)\"];\n",
      "LLf1 [label=\"f(1)\"];\n",
      "RMf0 [label=\"f(0)\"];\n",
      "RMf1 [label=\"f(1)\"];\n",
      "Rf2 [label=\"f(2)\"];\n",
      "RMf2 [label=\"f(2)\"];\n",
      "Rf3 [label=\"f(3)\"];\n",
      "Rf4 [label=\"f(4)\"];\n",
      "    f5->Lf3; f5->Rf4;  \n",
      "    Lf3->Lf2; Lf3->Lf1;\n",
      "    Rf4->Rf3; Rf4->Rf2;\n",
      "    Rf2->RRf1; Rf2->RRf0;\n",
      "    Lf2->LLf1; Lf2->LLf0;\n",
      "    Rf3->RMf2; Rf3->RMf1;\n",
      "    RMf2->RMf0; RMf2->RRMf1;\n",
      "}"
     ],
     "language": "python",
     "metadata": {},
     "outputs": []
    },
    {
     "cell_type": "code",
     "collapsed": false,
     "input": [
      "# EXERCISE: Write a recursive Fibonacci function!\n",
      "def fibonacci(n):\n",
      "    return\n",
      "    # put your code here!"
     ],
     "language": "python",
     "metadata": {},
     "outputs": []
    },
    {
     "cell_type": "code",
     "collapsed": false,
     "input": [
      "# EXERCISE: Write a recursive factorial function\n",
      "# Recall: factorial(x) = factorial(x-1) * x\n",
      "# factorial(1) = 1\n",
      "def factorial(x):\n",
      "    return"
     ],
     "language": "python",
     "metadata": {},
     "outputs": []
    },
    {
     "cell_type": "code",
     "collapsed": false,
     "input": [
      "# This is the test for the fibonacci code.  \n",
      "# Run this after you've written your fibonnacci sequence code\n",
      "# it will fail if your code is wrong!\n",
      "for ii,ff in zip(range(9),[0,1,1,2,3,5,8,13,21]):\n",
      "    assert fibonacci(ii) == ff\n",
      "print \"Success!\""
     ],
     "language": "python",
     "metadata": {},
     "outputs": []
    },
    {
     "cell_type": "code",
     "collapsed": false,
     "input": [
      "# This is the test for the factorial code.  \n",
      "# Run this after you've written your factorial code\n",
      "# it will fail if your code is wrong!\n",
      "for ii,ff in zip(range(1,9),[1,2,6,24,120,720,5040,40320]):\n",
      "    assert factorial(ii) == ff\n",
      "print \"Success!\""
     ],
     "language": "python",
     "metadata": {},
     "outputs": []
    },
    {
     "cell_type": "code",
     "collapsed": false,
     "input": [],
     "language": "python",
     "metadata": {},
     "outputs": []
    }
   ],
   "metadata": {}
  }
 ]
}