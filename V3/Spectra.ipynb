{
 "metadata": {
  "name": "",
  "signature": "sha256:c93b207be204fc97d980343e02c84d4f7269a07f8e335bf2e4a5f627575d6346"
 },
 "nbformat": 3,
 "nbformat_minor": 0,
 "worksheets": [
  {
   "cells": [
    {
     "cell_type": "markdown",
     "metadata": {},
     "source": [
      "spectral index $\\alpha$"
     ]
    },
    {
     "cell_type": "code",
     "collapsed": false,
     "input": [
      "from math import *\n",
      "\n",
      "S1=53.0\n",
      "S2=38.9\n",
      "f1=1668.\n",
      "f2=4800.\n",
      "\n",
      "a=(log10(S1) -log10(S2))/(log10(f1)- log10(f2))\n",
      "print a\n",
      "a2=log10(S2/S1)/(log10(f2/f1))\n",
      "print a2"
     ],
     "language": "python",
     "metadata": {},
     "outputs": [
      {
       "output_type": "stream",
       "stream": "stdout",
       "text": [
        " -0.292621011802\n",
        "-0.292621011802\n"
       ]
      }
     ],
     "prompt_number": 9
    },
    {
     "cell_type": "code",
     "collapsed": false,
     "input": [
      "print S1*(f2/f1)**(a2) , S2*(f1/f2)**(a2)"
     ],
     "language": "python",
     "metadata": {},
     "outputs": [
      {
       "output_type": "stream",
       "stream": "stdout",
       "text": [
        "38.9 53.0\n"
       ]
      }
     ],
     "prompt_number": 10
    },
    {
     "cell_type": "code",
     "collapsed": false,
     "input": [],
     "language": "python",
     "metadata": {},
     "outputs": []
    }
   ],
   "metadata": {}
  }
 ]
}