{
 "metadata": {
  "name": ""
 },
 "nbformat": 3,
 "nbformat_minor": 0,
 "worksheets": [
  {
   "cells": [
    {
     "cell_type": "heading",
     "level": 1,
     "metadata": {},
     "source": [
      "7. Convolution#"
     ]
    },
    {
     "cell_type": "markdown",
     "metadata": {},
     "source": [
      "In this notebook we do a convolution \"by hand\", by doing the flipping and shifting implied in the definition of the convolution.\n",
      "\n",
      "(Althought this notebook will work in notebook version 0.12 (nbversion 2), the animation is much smoother in notebook version 2.x +)\n",
      "\n",
      "First import the necessary modules:"
     ]
    },
    {
     "cell_type": "code",
     "collapsed": true,
     "input": [
      "import matplotlib.pylab as plt\n",
      "%matplotlib inline\n",
      "import numpy as np\n",
      "import time \n",
      "from IPython.core.display import clear_output,display"
     ],
     "language": "python",
     "metadata": {},
     "outputs": [],
     "prompt_number": 1
    },
    {
     "cell_type": "markdown",
     "metadata": {},
     "source": [
      "Create x-axis array for our functions:"
     ]
    },
    {
     "cell_type": "code",
     "collapsed": true,
     "input": [
      "n = np.arange(-15.,16.,1.)\n",
      "Ng = len(n)\n",
      "Nh = len(n)"
     ],
     "language": "python",
     "metadata": {},
     "outputs": [],
     "prompt_number": 2
    },
    {
     "cell_type": "markdown",
     "metadata": {},
     "source": [
      "Lets create some simple functions to convolve. You can change this to create your own functions later."
     ]
    },
    {
     "cell_type": "code",
     "collapsed": true,
     "input": [
      "g = np.zeros(Ng)\n",
      "h = np.zeros(Nh)\n",
      "\n",
      "g[8] = 5.\n",
      "g[9] = 4.\n",
      "g[10] = 3.5\n",
      "g[11] = 3.\n",
      "g[12] = 2.5\n",
      "g[13] = 3.\n",
      "g[14] = 3.5\n",
      "g[15] = 4.\n",
      "\n",
      "h[16] = -2.\n",
      "h[17] = -2.\n",
      "h[18] = -2.\n",
      "h[19] = 1.\n",
      "h[20] = 1.\n",
      "h[21] = 1.\n",
      "h[22] = 1.\n",
      "h[23] = 1."
     ],
     "language": "python",
     "metadata": {},
     "outputs": [],
     "prompt_number": 3
    },
    {
     "cell_type": "markdown",
     "metadata": {},
     "source": [
      "Plot out functions:"
     ]
    },
    {
     "cell_type": "code",
     "collapsed": false,
     "input": [
      "fig, ax1 = plt.subplots(1,2,figsize=[13,3])     # create plot\n",
      "\n",
      "ax1[0].stem(n,g,'g-o')\n",
      "ax1[0].set_xlabel('n')\n",
      "ax1[0].set_ylabel('g[n]')\n",
      "\n",
      "ax1[1].stem(n,h,'b-o')\n",
      "ax1[1].set_xlabel('n')\n",
      "ax1[1].set_ylabel('h[n]')"
     ],
     "language": "python",
     "metadata": {},
     "outputs": [
      {
       "metadata": {},
       "output_type": "pyout",
       "prompt_number": 4,
       "text": [
        "<matplotlib.text.Text at 0x3dc2450>"
       ]
      },
      {
       "metadata": {},
       "output_type": "display_data",
       "png": "[encoded data removed]",
       "text": [
        "<matplotlib.figure.Figure at 0x3caf190>"
       ]
      }
     ],
     "prompt_number": 4
    },
    {
     "cell_type": "markdown",
     "metadata": {},
     "source": [
      "The definition of a convolution is:\n",
      "\n",
      "$$ g(t) * h(t) = \\int_{-\\infty}^\\infty g(x) h(t-x) dx $$\n",
      "\n",
      "The discrete version of the convolution, for function h and g with a finite number of elements, is:\n",
      "\n",
      "$$ g[n] * h[n] = \\sum_{m=-M}^M g[m] h[n-m] $$\n",
      "\n",
      "where g[m] has supprot over m=-M to M.\n",
      "\n",
      "Lets determine the convolution of g and h from the definition.\n",
      "<br/>\n",
      "First flip h around:"
     ]
    },
    {
     "cell_type": "code",
     "collapsed": true,
     "input": [
      "h_flipped = np.zeros(Nh)\n",
      "\n",
      "for i in np.arange(0,Nh,1):\n",
      "    h_flipped[i] = h[(Nh-1)-i]"
     ],
     "language": "python",
     "metadata": {},
     "outputs": [],
     "prompt_number": 5
    },
    {
     "cell_type": "markdown",
     "metadata": {},
     "source": [
      "And plot g and h_flipped:"
     ]
    },
    {
     "cell_type": "code",
     "collapsed": false,
     "input": [
      "fig, ax1 = plt.subplots(1,2,figsize=[13,3])     # create plot\n",
      "\n",
      "ax1[0].stem(n,g,'g-o')\n",
      "ax1[0].set_xlabel('n')\n",
      "ax1[0].set_ylabel('g[n]')\n",
      "\n",
      "ax1[1].stem(n,h_flipped,'b-o')\n",
      "ax1[1].set_xlabel('n')\n",
      "ax1[1].set_ylabel('h_flipped[n]')"
     ],
     "language": "python",
     "metadata": {},
     "outputs": [
      {
       "metadata": {},
       "output_type": "pyout",
       "prompt_number": 6,
       "text": [
        "<matplotlib.text.Text at 0x4371350>"
       ]
      },
      {
       "metadata": {},
       "output_type": "display_data",
       "png": "[encoded data removed]",
       "text": [
        "<matplotlib.figure.Figure at 0x3dbbd90>"
       ]
      }
     ],
     "prompt_number": 6
    },
    {
     "cell_type": "markdown",
     "metadata": {},
     "source": [
      "Lets set the limits for our convolution.\n",
      "\n",
      "We want to watch the convolution being performed as we shift our functions over each other. So in this example we will perform the convolution over the full overlap range of the two functions."
     ]
    },
    {
     "cell_type": "code",
     "collapsed": true,
     "input": [
      "min_conv_n = min(n)-Ng/2\n",
      "max_conv_n = max(n)+Ng/2\n",
      "conv_n_range = np.arange(min_conv_n,max_conv_n+1,1)"
     ],
     "language": "python",
     "metadata": {},
     "outputs": [],
     "prompt_number": 7
    },
    {
     "cell_type": "code",
     "collapsed": false,
     "input": [
      "# set the time step to be longer if you want there to be a longer pause between plots\n",
      "time_step = 0.01\n",
      "\n",
      "# create plot to track our convolution\n",
      "fig, ax = plt.subplots(1,2,figsize=[14,4])    \n",
      "\n",
      "# create our array to put the results on the convolution into\n",
      "conv = [] \n",
      "\n",
      "# now shift h_flipped over g, and multiply\n",
      "for cn in conv_n_range:\n",
      "    \n",
      "    # use index k to track the overlap\n",
      "    # in terms of convolution shift, k=0 corresponds to the maximum h index shifted to the minimum g index\n",
      "    #   i.e. t=15 shifted to t=-15 \n",
      "    k = int(cn)+30\n",
      "  \n",
      "    # work out min and max indices of the \"shifting\" function h\n",
      "    if k<=(Nh-1):\n",
      "        h_low = (Nh-1)-k\n",
      "    else:\n",
      "        h_low = 0\n",
      "    \n",
      "    if k<(Ng-1):\n",
      "        h_high = Nh-1\n",
      "    else:\n",
      "        h_high = (Nh-1)-(k-(Ng-1))\n",
      "        \n",
      "    # work out min and max indices of the \"static\" function g\n",
      "    if k<=(Nh-1):\n",
      "       g_high = (Ng-1) - h_low \n",
      "    else:\n",
      "       g_high = Ng-1\n",
      "\n",
      "    if k<(Ng-1):\n",
      "        g_low = 0\n",
      "    else:\n",
      "        g_low = (Ng-1) - h_high\n",
      "        \n",
      "    # the indices that overlap between the two for this shift:\n",
      "    h_indices = np.arange(h_low, h_high+1) \n",
      "    g_indices = np.arange(g_low, g_high+1)\n",
      "    \n",
      "    # multiply the overlapping function region together, index by index\n",
      "    multiply_array = np.zeros(len(h_indices))\n",
      "    for i, [gi, hi] in enumerate(zip(g_indices,h_indices)):\n",
      "        multiply_array[i] = g[gi] * h_flipped[hi]\n",
      "      \n",
      "    # sum over thultiplied values and put into our convolution array  \n",
      "    conv.append(sum(multiply_array))    \n",
      "    \n",
      "    # plot the shifted functions\n",
      "    ax[0].stem(n,g,'g-o',basefmt='k-')\n",
      "    ax[0].stem(np.arange(len(h_indices))+n[0]+g_low,h_flipped[h_indices],'b-o',basefmt='') \n",
      "    ax[0].set_ylim(min(min(g),min(h)),max(max(g),max(h)))\n",
      "        \n",
      "    # plot the convolution as is builds up\n",
      "    ax[1].stem(np.arange(min_conv_n,cn+1),conv,'r-o',basefmt='k-')\n",
      "    ax[1].set_xlim(min_conv_n,max_conv_n)\n",
      "    \n",
      "    # show the plot, then get ready for the next plot\n",
      "    plt.draw()\n",
      "    time.sleep(time_step)\n",
      "    clear_output()\n",
      "    display(fig)\n",
      "    ax[0].cla()\n",
      "    ax[1].cla()\n",
      "    \n",
      "plt.close()"
     ],
     "language": "python",
     "metadata": {},
     "outputs": [
      {
       "metadata": {},
       "output_type": "display_data",
       "png": "[encoded data removed]",
       "text": [
        "<matplotlib.figure.Figure at 0x4804290>"
       ]
      }
     ],
     "prompt_number": 8
    },
    {
     "cell_type": "markdown",
     "metadata": {},
     "source": [
      "Lets check this against the numpy convolve function:"
     ]
    },
    {
     "cell_type": "code",
     "collapsed": true,
     "input": [
      "# we use mode full to convolve over the full extent of the functions, as we did above\n",
      "numpy_conv = np.convolve(g,h,mode='full')"
     ],
     "language": "python",
     "metadata": {},
     "outputs": [],
     "prompt_number": 9
    },
    {
     "cell_type": "code",
     "collapsed": false,
     "input": [
      "# create plot\n",
      "fig, ax = plt.subplots(1,1,figsize=[13,6])\n",
      "\n",
      "ax.stem(conv_n_range,numpy_conv,linefmt='g:',markerfmt='go',basefmt='k-')\n",
      "markerline, stemlines, baseline = ax.stem(conv_n_range,conv,linefmt='r:',markerfmt='r.',basefmt='k-')\n",
      "#setp(markerline, 'fillstyle', 'none')\n",
      "\n",
      "ax.set_xlabel('n')\n",
      "ax.set_ylabel('h[n] * g[n]')"
     ],
     "language": "python",
     "metadata": {},
     "outputs": [
      {
       "metadata": {},
       "output_type": "pyout",
       "prompt_number": 12,
       "text": [
        "<matplotlib.text.Text at 0x542b3d0>"
       ]
      },
      {
       "metadata": {},
       "output_type": "display_data",
       "png": "[encoded data removed]",
       "text": [
        "<matplotlib.figure.Figure at 0x59bc110>"
       ]
      }
     ],
     "prompt_number": 12
    },
    {
     "cell_type": "markdown",
     "metadata": {},
     "source": [
      "In the plot above, the numpy convolution is green points and the convolution we calculated manually is open red cirrcles - which overlap."
     ]
    },
    {
     "cell_type": "code",
     "collapsed": true,
     "input": [],
     "language": "python",
     "metadata": {},
     "outputs": [],
     "prompt_number": null
    }
   ],
   "metadata": {}
  }
 ]
}