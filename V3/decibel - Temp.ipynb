{
 "metadata": {
  "name": "",
  "signature": "sha256:2168895193d084d2b035b0ac54cd3d00264aacd0a908bfd638b090c022ca2281"
 },
 "nbformat": 3,
 "nbformat_minor": 0,
 "worksheets": [
  {
   "cells": [
    {
     "cell_type": "code",
     "collapsed": false,
     "input": [
      "\"\"\"\n",
      "dB to Tsys\n",
      "\"\"\"\n",
      "import math\n",
      "T0=290  # room temp in K\n",
      "dB=.8 # noise figure in dB\n",
      "F= 10**(dB/10.)\n",
      "T=(F-1)*T0\n",
      "print \"Temp\",T, \"K    Noise figure\",F\n"
     ],
     "language": "python",
     "metadata": {},
     "outputs": [
      {
       "output_type": "stream",
       "stream": "stdout",
       "text": [
        "Temp 58.656686039 K    Noise figure 1.20226443462\n"
       ]
      }
     ],
     "prompt_number": 1
    },
    {
     "cell_type": "code",
     "collapsed": false,
     "input": [],
     "language": "python",
     "metadata": {},
     "outputs": []
    }
   ],
   "metadata": {}
  }
 ]
}