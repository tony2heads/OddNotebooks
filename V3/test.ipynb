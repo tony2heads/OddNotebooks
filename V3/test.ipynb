{
 "metadata": {
  "name": "test"
 },
 "nbformat": 3,
 "nbformat_minor": 0,
 "worksheets": [
  {
   "cells": [
    {
     "cell_type": "code",
     "collapsed": false,
     "input": [
      "print 3*7"
     ],
     "language": "python",
     "metadata": {},
     "outputs": [
      {
       "output_type": "stream",
       "stream": "stdout",
       "text": [
        "21\n"
       ]
      }
     ],
     "prompt_number": 1
    },
    {
     "cell_type": "markdown",
     "metadata": {},
     "source": [
      "$e^{i \\pi}$"
     ]
    },
    {
     "cell_type": "code",
     "collapsed": false,
     "input": [
      "for n in range(65):\n",
      "    print n, n*(n-1)/2\n"
     ],
     "language": "python",
     "metadata": {},
     "outputs": [
      {
       "output_type": "stream",
       "stream": "stdout",
       "text": [
        "0 0\n",
        "1 0\n",
        "2 1\n",
        "3 3\n",
        "4 6\n",
        "5 10\n",
        "6 15\n",
        "7 21\n",
        "8 28\n",
        "9 36\n",
        "10 45\n",
        "11 55\n",
        "12 66\n",
        "13 78\n",
        "14 91\n",
        "15 105\n",
        "16 120\n",
        "17 136\n",
        "18 153\n",
        "19 171\n",
        "20 190\n",
        "21 210\n",
        "22 231\n",
        "23 253\n",
        "24 276\n",
        "25 300\n",
        "26 325\n",
        "27 351\n",
        "28 378\n",
        "29 406\n",
        "30 435\n",
        "31 465\n",
        "32 496\n",
        "33 528\n",
        "34 561\n",
        "35 595\n",
        "36 630\n",
        "37 666\n",
        "38 703\n",
        "39 741\n",
        "40 780\n",
        "41 820\n",
        "42 861\n",
        "43 903\n",
        "44 946\n",
        "45 990\n",
        "46 1035\n",
        "47 1081\n",
        "48 1128\n",
        "49 1176\n",
        "50 1225\n",
        "51 1275\n",
        "52 1326\n",
        "53 1378\n",
        "54 1431\n",
        "55 1485\n",
        "56 1540\n",
        "57 1596\n",
        "58 1653\n",
        "59 1711\n",
        "60 1770\n",
        "61 1830\n",
        "62 1891\n",
        "63 1953\n",
        "64 2016\n"
       ]
      }
     ],
     "prompt_number": 4
    },
    {
     "cell_type": "code",
     "collapsed": false,
     "input": [],
     "language": "python",
     "metadata": {},
     "outputs": []
    }
   ],
   "metadata": {}
  }
 ]
}