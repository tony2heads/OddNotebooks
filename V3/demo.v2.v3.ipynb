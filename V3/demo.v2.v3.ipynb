{
 "metadata": {
  "name": ""
 },
 "nbformat": 3,
 "nbformat_minor": 0,
 "worksheets": [
  {
   "cells": [
    {
     "cell_type": "code",
     "collapsed": true,
     "input": [
      "from scipy import *\n",
      "\n",
      "from pylab import *"
     ],
     "language": "python",
     "metadata": {},
     "outputs": [],
     "prompt_number": 1
    },
    {
     "cell_type": "code",
     "collapsed": false,
     "input": [
      "print 'hello, world!'"
     ],
     "language": "python",
     "metadata": {},
     "outputs": [
      {
       "output_type": "stream",
       "stream": "stdout",
       "text": [
        "hello, world!\n"
       ]
      }
     ],
     "prompt_number": 2
    },
    {
     "cell_type": "code",
     "collapsed": false,
     "input": [
      "for i in range(5):\n",
      "\n",
      "    print 'i is', i\n",
      "\n",
      "    \n",
      "\n",
      "import re\n",
      "\n",
      "re.split('\\d', 'the 1 is 2 for 3 foo')"
     ],
     "language": "python",
     "metadata": {},
     "outputs": [
      {
       "output_type": "stream",
       "stream": "stdout",
       "text": [
        "i is 0\n",
        "\n",
        "i is 1\n",
        "\n",
        "i is 2\n",
        "\n",
        "i is 3\n",
        "\n",
        "i is 4\n"
       ]
      },
      {
       "metadata": {},
       "output_type": "pyout",
       "prompt_number": 3,
       "text": [
        "['the ', ' is ', ' for ', ' foo']"
       ]
      }
     ],
     "prompt_number": 3
    },
    {
     "cell_type": "code",
     "collapsed": true,
     "input": [
      "x = linspace(0, 3*pi, 500)\n",
      "\n",
      "plot(x, sin(x**2))\n",
      "\n",
      "title('A simple chirp');"
     ],
     "language": "python",
     "metadata": {},
     "outputs": [],
     "prompt_number": 4
    },
    {
     "cell_type": "code",
     "collapsed": false,
     "input": [
      "the_world_is_flat = 1\n",
      "\n",
      "if the_world_is_flat:\n",
      "\n",
      "    print \"Be careful not to fall off!\""
     ],
     "language": "python",
     "metadata": {},
     "outputs": [
      {
       "output_type": "stream",
       "stream": "stdout",
       "text": [
        "Be careful not to fall off!\n"
       ]
      }
     ],
     "prompt_number": 5
    },
    {
     "cell_type": "code",
     "collapsed": false,
     "input": [
      "# You can do tab completions, ask for help, and get details:\n",
      "\n",
      "open"
     ],
     "language": "python",
     "metadata": {},
     "outputs": [
      {
       "metadata": {},
       "output_type": "pyout",
       "prompt_number": 6,
       "text": [
        "<function open>"
       ]
      }
     ],
     "prompt_number": 6
    },
    {
     "cell_type": "code",
     "collapsed": true,
     "input": [
      "# ## Markdown cells can contain formatted text and code\n",
      "\n",
      "# \n",
      "\n",
      "# You can *italicize*, **boldface**\n",
      "\n",
      "# \n",
      "\n",
      "# * build\n",
      "\n",
      "# * lists\n",
      "\n",
      "# \n",
      "\n",
      "# and embed code meant for illustration instead of execution in Python:\n",
      "\n",
      "# \n",
      "\n",
      "#     def f(x):\n",
      "\n",
      "#         \"\"\"a docstring\"\"\"\n",
      "\n",
      "#         return x**2\n",
      "\n",
      "# \n",
      "\n",
      "# or other languages:\n",
      "\n",
      "# \n",
      "\n",
      "#     if (i=0; i<n; i++) {\n",
      "\n",
      "#       printf(\"hello %d\\n\", i);\n",
      "\n",
      "#       x += 4;\n",
      "\n",
      "#     }"
     ],
     "language": "python",
     "metadata": {},
     "outputs": [],
     "prompt_number": 7
    },
    {
     "cell_type": "code",
     "collapsed": false,
     "input": [
      "import time, sys\n",
      "\n",
      "for i in range(8):\n",
      "\n",
      "    print i,\n",
      "\n",
      "    time.sleep(0.5)"
     ],
     "language": "python",
     "metadata": {},
     "outputs": [
      {
       "output_type": "stream",
       "stream": "stdout",
       "text": [
        "0 1 2 3 4 5 6 7\n"
       ]
      }
     ],
     "prompt_number": 8
    },
    {
     "cell_type": "markdown",
     "metadata": {},
     "source": [
      "\n",
      "\n",
      "# Courtesy of MathJax, you can include mathematical expressions both inline: \n",
      "\n",
      "# $e^{i\\pi} + 1 = 0$  and displayed:\n",
      "\n",
      "# \n",
      "\n",
      "# $$e^x=\\sum_{i=0}^\\infty \\frac{1}{i!}x^i$$"
     ]
    },
    {
     "cell_type": "code",
     "collapsed": false,
     "input": [
      "\n",
      "\n",
      "!pwd\n",
      "\n",
      "\n",
      "\n",
      "message = 'The IPython notebook is great!'\n",
      "\n",
      "# note: the echo command does not run on Windows, it's a unix command.\n",
      "\n",
      "!echo $message"
     ],
     "language": "python",
     "metadata": {},
     "outputs": [
      {
       "output_type": "stream",
       "stream": "stdout",
       "text": [
        "/home/tony/Desktop/PythonScripts/Notebooks\r\n",
        "The IPython notebook is great!\r\n"
       ]
      }
     ],
     "prompt_number": 9
    },
    {
     "cell_type": "code",
     "collapsed": false,
     "input": [
      "from IPython.core.display import HTML\n",
      "\n",
      "HTML('<iframe src=http://en.mobile.wikipedia.org/?useformat=mobile width=700 height=350>')"
     ],
     "language": "python",
     "metadata": {},
     "outputs": [
      {
       "html": [
        "<iframe src=http://en.mobile.wikipedia.org/?useformat=mobile width=700 height=350>"
       ],
       "metadata": {},
       "output_type": "pyout",
       "prompt_number": 10,
       "text": [
        "<IPython.core.display.HTML at 0x296d690>"
       ]
      }
     ],
     "prompt_number": 10
    },
    {
     "cell_type": "code",
     "collapsed": false,
     "input": [
      "\n",
      "\n",
      "\n",
      "\n",
      "from IPython.core.display import Math\n",
      "\n",
      "Math(r'F(k) = \\int_{-\\infty}^{\\infty} f(x) e^{2\\pi i k} dx')\n",
      "\n",
      "\n",
      "\n",
      "# <markdowncell>\n",
      "\n",
      "\n",
      "\n",
      "# With the `Latex` class, you have to include the delimiters yourself.  This allows you to use other LaTeX modes such as `eqnarray`:\n",
      "\n",
      "\n",
      "\n",
      "# <codecell>\n",
      "\n",
      "\n",
      "\n",
      "#from IPython.core.display import Latex\n",
      "\n",
      "#Latex(r\"\"\"\\begin{eqnarray}\n",
      "\n",
      "#\\nabla \\times \\vec{\\mathbf{B}} -\\, \\frac1c\\, \\frac{\\partial\\vec{\\mathbf{E}}}{\\partial t} & = \\frac{4\\pi}{c}\\vec{\\mathbf{j}} \\\\\n",
      "\n",
      "#\\nabla \\cdot \\vec{\\mathbf{E}} & = 4 \\pi \\rho \\\\\n",
      "\n",
      "#\\nabla \\times \\vec{\\mathbf{E}}\\, +\\, \\frac1c\\, \\frac{\\partial\\vec{\\mathbf{B}}}{\\partial t} & = \\vec{\\mathbf{0}} \\\\\n",
      "\n",
      "#\\nabla \\cdot \\vec{\\mathbf{B}} & = 0 \n",
      "\n",
      "#\\end{eqnarray}\"\"\")\n",
      "\n",
      "\n",
      "\n",
      "# <markdowncell>\n",
      "\n",
      "\n",
      "\n",
      "# # SymPy: Open Source Symbolic Mathematics\n",
      "\n",
      "# \n",
      "\n",
      "# This notebook uses the [SymPy](http://sympy.org) package to perform symbolic manipulations,\n",
      "\n",
      "# and combined with numpy and matplotlib, also displays numerical visualizations of symbolically\n",
      "\n",
      "# constructed expressions.\n",
      "\n",
      "# \n",
      "\n",
      "# We first load sympy with pretty-print support, and define some symbols:\n",
      "\n",
      "\n",
      "\n",
      "# <codecell>\n",
      "\n",
      "\n",
      "\n",
      "#%load_ext sympyprinting\n",
      "\n",
      "\n",
      "\n",
      "#from __future__ import division\n",
      "\n",
      "#import sympy as sym\n",
      "\n",
      "#from sympy import *\n",
      "\n",
      "#x, y, z = symbols(\"x y z\")\n",
      "\n",
      "\n",
      "\n",
      "# <codecell>\n",
      "\n",
      "\n",
      "\n",
      "#Rational(3,2)*pi + exp(I*x) / (x**2 + y)\n",
      "\n",
      "\n",
      "\n",
      "# <markdowncell>\n",
      "\n",
      "\n",
      "\n",
      "# # Loading external codes\n",
      "\n",
      "# * Drag and drop a ``.py`` in the dashboard\n",
      "\n",
      "# * Use ``%loadpy`` with any local or remote url: [the Matplotlib Gallery!](http://matplotlib.sourceforge.net/gallery.html)\n",
      "\n",
      "# \n",
      "\n",
      "# In this notebook we've kept the output saved so you can see the result, but you should run the next\n",
      "\n",
      "# cell yourself (with an active internet connection).\n",
      "\n",
      "\n",
      "\n",
      "# <codecell>\n",
      "\n",
      "\n",
      "\n",
      "%loadpy http://matplotlib.sourceforge.net/mpl_examples/pylab_examples/integral_demo.py\n",
      "\n",
      "\n",
      "\n",
      "# <codecell>"
     ],
     "language": "python",
     "metadata": {},
     "outputs": [],
     "prompt_number": 11
    },
    {
     "cell_type": "code",
     "collapsed": false,
     "input": [
      "#!/usr/bin/env python\n",
      "\n",
      "\n",
      "\n",
      "# implement the example graphs/integral from pyx\n",
      "\n",
      "from pylab import *\n",
      "\n",
      "from matplotlib.patches import Polygon\n",
      "\n",
      "\n",
      "\n",
      "def func(x):\n",
      "\n",
      "    return (x-3)*(x-5)*(x-7)+85\n",
      "\n",
      "\n",
      "\n",
      "ax = subplot(111)\n",
      "\n",
      "\n",
      "\n",
      "a, b = 2, 9 # integral area\n",
      "\n",
      "x = arange(0, 10, 0.01)\n",
      "\n",
      "y = func(x)\n",
      "\n",
      "plot(x, y, linewidth=1)\n",
      "\n",
      "\n",
      "\n",
      "# make the shaded region\n",
      "\n",
      "ix = arange(a, b, 0.01)\n",
      "\n",
      "iy = func(ix)\n",
      "\n",
      "verts = [(a,0)] + list(zip(ix,iy)) + [(b,0)]\n",
      "\n",
      "poly = Polygon(verts, facecolor='0.8', edgecolor='k')\n",
      "\n",
      "ax.add_patch(poly)\n",
      "\n",
      "\n",
      "\n",
      "text(0.5 * (a + b), 30,\n",
      "\n",
      "     r\"$\\int_a^b f(x)\\mathrm{d}x$\", horizontalalignment='center',\n",
      "\n",
      "     fontsize=20)\n",
      "\n",
      "\n",
      "\n",
      "axis([0,10, 0, 180])\n",
      "\n",
      "figtext(0.9, 0.05, 'x')\n",
      "\n",
      "figtext(0.1, 0.9, 'y')\n",
      "\n",
      "ax.set_xticks((a,b))\n",
      "\n",
      "ax.set_xticklabels(('a','b'))\n",
      "\n",
      "ax.set_yticks([])\n",
      "\n",
      "show()\n"
     ],
     "language": "python",
     "metadata": {},
     "outputs": [],
     "prompt_number": null
    },
    {
     "cell_type": "code",
     "collapsed": true,
     "input": [
      "#!/usr/bin/env python\n",
      "\n",
      "\n",
      "\n",
      "# implement the example graphs/integral from pyx\n",
      "\n",
      "from pylab import *\n",
      "\n",
      "from matplotlib.patches import Polygon\n",
      "\n",
      "\n",
      "\n",
      "def func(x):\n",
      "\n",
      "    return (x-3)*(x-5)*(x-7)+85\n",
      "\n",
      "\n",
      "\n",
      "ax = subplot(111)\n",
      "\n",
      "\n",
      "\n",
      "a, b = 2, 9 # integral area\n",
      "\n",
      "x = arange(0, 10, 0.01)\n",
      "\n",
      "y = func(x)\n",
      "\n",
      "plot(x, y, linewidth=1)\n",
      "\n",
      "\n",
      "\n",
      "# make the shaded region\n",
      "\n",
      "ix = arange(a, b, 0.01)\n",
      "\n",
      "iy = func(ix)\n",
      "\n",
      "verts = [(a,0)] + list(zip(ix,iy)) + [(b,0)]\n",
      "\n",
      "poly = Polygon(verts, facecolor='0.8', edgecolor='k')\n",
      "\n",
      "ax.add_patch(poly)\n",
      "\n",
      "\n",
      "\n",
      "text(0.5 * (a + b), 30,\n",
      "\n",
      "     r\"$\\int_a^b f(x)\\mathrm{d}x$\", horizontalalignment='center',\n",
      "\n",
      "     fontsize=20)\n",
      "\n",
      "\n",
      "\n",
      "axis([0,10, 0, 180])\n",
      "\n",
      "figtext(0.9, 0.05, 'x')\n",
      "\n",
      "figtext(0.1, 0.9, 'y')\n",
      "\n",
      "ax.set_xticks((a,b))\n",
      "\n",
      "ax.set_xticklabels(('a','b'))\n",
      "\n",
      "ax.set_yticks([])\n",
      "\n",
      "show()"
     ],
     "language": "python",
     "metadata": {},
     "outputs": [],
     "prompt_number": 12
    },
    {
     "cell_type": "code",
     "collapsed": true,
     "input": [],
     "language": "python",
     "metadata": {},
     "outputs": [],
     "prompt_number": 12
    }
   ],
   "metadata": {}
  }
 ]
}