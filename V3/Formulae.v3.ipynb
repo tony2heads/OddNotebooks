{
 "metadata": {
  "name": ""
 },
 "nbformat": 3,
 "nbformat_minor": 0,
 "worksheets": [
  {
   "cells": [
    {
     "cell_type": "markdown",
     "metadata": {},
     "source": [
      "\n",
      "T is Temp / Kelvin\n",
      "\n",
      "$\\theta$ is FWHM size / arcseconds\n",
      "\n",
      "B is baseline /  km \n",
      "\n",
      "S is flux density / Jy\n",
      "\n",
      "$\\nu$ is freq /GHz\n",
      "\n",
      "$\\lambda$ is wavelength /cm"
     ]
    },
    {
     "cell_type": "markdown",
     "metadata": {},
     "source": [
      "$$\n",
      "T_{min} = \\frac{SB^2}{2k} \\\\\n",
      "T=  1.3\\times 10^6 (1+z) \\frac {S_{\\nu}} {\\nu^2 \\theta_{maj} \\theta_{min}} \n",
      "$$\n",
      "\n",
      "also\n",
      "$$T=  1.22\\times 10^6 (1+z) \\frac {S_{\\nu}} {\\nu^2 \\theta_{maj} \\theta_{min}} \n",
      "\\\\\n",
      "T= \\frac{2000 (1+z) \\lambda^2 S} {\\theta_1 \\theta_2}\n",
      "$$"
     ]
    },
    {
     "cell_type": "markdown",
     "metadata": {},
     "source": [
      "Galactic typically\n",
      "$$T_{sky} = 5.0 ( {\\frac{\\nu} {0.71GHz}}) ^{-2.6} K $$"
     ]
    },
    {
     "cell_type": "markdown",
     "metadata": {},
     "source": [
      "Self absorption\n",
      "\n",
      "Spectral index $\\alpha$ in sense $S \\propto \\nu ^{-\\alpha}$ \n",
      "\n",
      "$$ \\nu_{SA}^{2+\\alpha} = 1.386 \\times 10^{-6} \\frac{S_{obs} \\nu_{obs}^{\\alpha}} {\\theta^2} $$\n",
      "\n",
      "There is also the version with magnetic field. If we take values at the self absorption peak\n",
      "\n",
      "$$\\frac{B}{gauss}  = 9.1 \\times 10^{-2} ({\\frac {\\nu_{peak}}{5GHz}})^5 \n",
      "({\\frac {S_{peak}}{Jy}})^{-2} ({\\frac {\\theta_{peak}}{mas}})^4$$\n",
      "\n",
      "Fitting to a reference value (denoted by 0)\n",
      "\n",
      "$$S_{\\nu} = S_0 ({\\frac{ \\nu} {\\nu_0}})^{\\alpha_{thick}} (1- exp(-{\\tau_{\\nu_0} {(\\frac{\\nu}{\\nu_0})}^{\\alpha_{thick} - \\alpha_{thin}}}) ) $$\n",
      "expectations:\n",
      "$$\\alpha_{thick} = 2.5  \\\\  \\alpha_{thin} = -2$$\n"
     ]
    },
    {
     "cell_type": "markdown",
     "metadata": {},
     "source": [
      "Confusion noise from Condon (74) and Harper et al *AME constraints in LDN 1622 with the GBT*\n",
      "\n",
      "$\\theta$ in arcminutes\n",
      "\n",
      "S in mJy\n",
      "\n",
      "$\\nu$ in GHz\n",
      "\n",
      "$$S=0.2 \\theta^2 \\nu^{-0.7}$$"
     ]
    },
    {
     "cell_type": "code",
     "collapsed": false,
     "input": [
      "theta=2.0\n",
      "nu=1.8\n",
      "s=0.2*theta**2 /nu**-0.7\n",
      "print s,'mJy'"
     ],
     "language": "python",
     "metadata": {},
     "outputs": [
      {
       "output_type": "stream",
       "stream": "stdout",
       "text": [
        "1.20720420788 mJy\n"
       ]
      }
     ],
     "prompt_number": 3
    },
    {
     "cell_type": "code",
     "collapsed": false,
     "input": [],
     "language": "python",
     "metadata": {},
     "outputs": [],
     "prompt_number": null
    }
   ],
   "metadata": {}
  }
 ]
}