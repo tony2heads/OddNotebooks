{
 "metadata": {
  "kernelspec": {
   "display_name": "Python 2",
   "language": "python",
   "name": "python2"
  },
  "language_info": {
   "codemirror_mode": {
    "name": "ipython",
    "version": 2
   },
   "file_extension": ".py",
   "mimetype": "text/x-python",
   "name": "python",
   "nbconvert_exporter": "python",
   "pygments_lexer": "ipython2",
   "version": "2.7.3"
  },
  "name": ""
 },
 "nbformat": 3,
 "nbformat_minor": 0,
 "worksheets": [
  {
   "cells": [
    {
     "cell_type": "code",
     "collapsed": false,
     "input": [
      "from time import *\n",
      "from ephem import *\n",
      "import math\n",
      "#\n",
      "today=strftime(\"%Y/%m/%d\")\n",
      "horizon='20:00' # can also give in radians,\n",
      "\n",
      "KAT=Observer()\n",
      "KAT.long,KAT.lat='21:24:38.46','-30:43:17.34' # positive East,North\n",
      "KAT.date=today\n",
      "KAT.epoch=today\n",
      "# print KAT.epoch\n",
      "KAT.elev=1038            #metres above MSL\n",
      "KAT.temp=14             # temperature in C\n",
      "KAT.pressure=0         # pressure in mbar set to zero to ignore refraction\n",
      "KAT.horizon=horizon    # minimum elevation\n",
      "dd=KAT.date.tuple()\n",
      "print \"Date %d/%d/%d UT %02d:%02d  LST %s Horizon %s\"\\\n",
      "      %(dd[0],dd[1],dd[2],dd[3],dd[4],KAT.sidereal_time(),str(KAT.horizon))\n",
      "print \"Source\"+17*\" \"+\"Position\"+8*\" \"+\"UT Rise\"+2*\" \"+\"UT Transit\"+3*\" \"+\"UT Set\"+\"   Hours Up\"\n",
      "#\n",
      "sun=Sun()\n",
      "sun.compute(KAT)\n",
      "#print \"Sun  Alt\",  sun.alt, \"Az\", sun.az\n",
      "print \"Sun          %12s %12s %-9s %-9s %-9s \" \\\n",
      "      %(sun.ra,sun.dec,str(KAT.next_rising(sun))[-8:],str(KAT.next_transit(sun))[-8:],str(KAT.next_setting(sun))[-8:])\n",
      "#\n",
      "moon=Moon()\n",
      "moon.compute(KAT)\n",
      "#print \"Moon Alt\", moon.alt,\"Az\", moon.az\n",
      "\n",
      "print \"Moon          %-12s%12s %-9s %-9s %-9s \" \\\n",
      "            % (moon.ra,moon.dec,str(KAT.next_rising(moon))[-8:],str(KAT.next_transit(moon))[-8:],str(KAT.next_setting(moon))[-8:])\n",
      "print \n",
      "#\n",
      "#\n",
      "#inp=(\"testsource, J2000, 01:02:14.3213,-11:33:11.9\", \"test2, B1950, 17:31:43, -83:13:44\")\n",
      "inp=(\"dec40, J2000,7:00:00,40:00:00\", \"dec20, J2000, 7:00:00,20:00:00\", \"dec0, J2000, 7:00:00,00:00:00\"\\\n",
      "     , \"dec-20, J2000,7:00:00,-20:00:00\", \"dec-40, J2000,7:00:00,-40:00:00\", \"dec-60, J2000,7:00:00,-60:00:00\")\n",
      "for line in inp:\n",
      "  if line[0] != \"#\":\n",
      "    s=line.split(\",\") # split the line into strings\n",
      "    source=s[0]\n",
      "# next item is 'radec...'    \n",
      "    ra=s[2]\n",
      "    dec=s[3]\n",
      "    dbline='\"'+source+\",f|J|Q,\"+ra+\",\"+dec+\",,2000\"+'\"'\n",
      "#    print dbline\n",
      "    p=readdb(dbline)\n",
      "#    p=FixedBody()\n",
      "#    p._ra,p._dec=ra,dec\n",
      "#    p._epoch='2000'\n",
      "    p.compute(KAT)\n",
      "    if p.neverup == True:\n",
      "       print \"%-11s  %12s %12s           Never Rises           \" %(source,p.ra,p.dec)\n",
      "    if p.circumpolar == True:\n",
      "       transit=str(KAT.next_transit(p))[-8:]\n",
      "       print \"%-11s  %12s %12s          %9s  Circumpolar \"  %(source,p.ra,p.dec,transit)\n",
      "    if p.neverup == False and p.circumpolar == False:  # Source rises and sets\n",
      "#      print source, p.ra, p.dec, p.alt, p.az,\n",
      "      rises=str(KAT.next_rising(p))[-8:]\n",
      "      transit=str(KAT.next_transit(p))[-8:]\n",
      "      sets=str(KAT.next_setting(p))[-8:]\n",
      "      uptime=((KAT.next_setting(p)-KAT.next_rising(p))%1)*24  # \n",
      "#calculation is in days, so make modulo 1 day, times 24 for hours.\n",
      "      print \"%-12s %12s %12s %-9s %-9s %-9s  %5.2f \" % (source,p.ra,p.dec,rises,transit,sets,uptime)\n",
      "#    for n in range(3,len(s)):    #comments at the end of the input line\n",
      "#         print s[n],\n",
      "#    print \"\"\n"
     ],
     "language": "python",
     "metadata": {},
     "outputs": [
      {
       "output_type": "stream",
       "stream": "stdout",
       "text": [
        "Date 2015/5/7 UT 00:00  LST 16:23:43.75 Horizon 20:00:00.0\n",
        "Source                 Position        UT Rise  UT Transit   UT Set   Hours Up\n",
        "Sun            2:54:40.75   16:39:47.7 06:55:16  10:30:54  14:06:14  \n",
        "Moon          17:18:28.63  -17:58:00.1 20:32:37  00:55:55  06:12:48  \n",
        "\n",
        "dec40          7:01:02.86   39:58:36.9           Never Rises           \n",
        "dec20          7:00:53.68   19:58:31.0 11:14:17  14:34:46  17:55:15    6.68 \n",
        "dec0           7:00:46.57   -0:01:35.0 10:09:05  14:34:39  19:00:13    8.85 \n",
        "dec-20         7:00:39.36  -20:01:40.3 09:23:08  14:34:31  19:45:55   10.38 \n",
        "dec-40         7:00:29.84  -40:01:44.2 08:40:01  14:34:22  20:28:43   11.81 \n",
        "dec-60         7:00:11.77  -60:01:46.2 07:41:03  14:34:04  21:27:05   13.77 \n"
       ]
      }
     ],
     "prompt_number": 54
    },
    {
     "cell_type": "code",
     "collapsed": false,
     "input": [
      "print p.alt,p.az"
     ],
     "language": "python",
     "metadata": {},
     "outputs": [
      {
       "output_type": "stream",
       "stream": "stdout",
       "text": [
        "20:00:00.0 148:52:45.6\n"
       ]
      }
     ],
     "prompt_number": 55
    },
    {
     "cell_type": "code",
     "collapsed": false,
     "input": [
      "KAT"
     ],
     "language": "python",
     "metadata": {},
     "outputs": [
      {
       "metadata": {},
       "output_type": "pyout",
       "prompt_number": 56,
       "text": [
        "<ephem.Observer date='2015/5/7 00:00:00' epoch='2015/5/7 00:00:00' lon=21:24:38.5 lat=-30:43:17.3 elevation=1038.0m horizon=20:00:00.0 temp=14.0C pressure=0.0mBar>"
       ]
      }
     ],
     "prompt_number": 56
    },
    {
     "cell_type": "code",
     "collapsed": true,
     "input": [
      "def LST(ut):\n",
      "    \"\"\" \n",
      "    Requires date and time in YYYY/MM/DD hh:mm:ss format\n",
      "    Set the time string to Hours:Minutes:Seconds\n",
      "    \"\"\"\n",
      "    KAT.date=ut\n",
      "    lst=str(KAT.sidereal_time())[:8]\n",
      "    return lst\n"
     ],
     "language": "python",
     "metadata": {},
     "outputs": [],
     "prompt_number": 57
    },
    {
     "cell_type": "code",
     "collapsed": true,
     "input": [
      "def JD(ut):\n",
      "    \"\"\" \n",
      "    Requires date and time in YYYY/MM/DD hh:mm:ss format\n",
      "    returns jd\n",
      "    \"\"\"\n",
      "    jd=julian_date(ut)\n",
      "    return jd"
     ],
     "language": "python",
     "metadata": {},
     "outputs": [],
     "prompt_number": 58
    },
    {
     "cell_type": "code",
     "collapsed": false,
     "input": [
      "ut=today+\" 13:47:20\"\n",
      "print LST(ut)\n",
      "print JD(ut)"
     ],
     "language": "python",
     "metadata": {},
     "outputs": [
      {
       "output_type": "stream",
       "stream": "stdout",
       "text": [
        "6:13:19.\n",
        "2457150.07454\n"
       ]
      }
     ],
     "prompt_number": 59
    },
    {
     "cell_type": "code",
     "collapsed": false,
     "input": [
      "KAT.date=now()\n",
      "print LST(KAT.date)"
     ],
     "language": "python",
     "metadata": {},
     "outputs": [
      {
       "output_type": "stream",
       "stream": "stdout",
       "text": [
        "0:33:35.\n"
       ]
      }
     ],
     "prompt_number": 60
    },
    {
     "cell_type": "code",
     "collapsed": false,
     "input": [
      "str(localtime(now()))"
     ],
     "language": "python",
     "metadata": {},
     "outputs": [
      {
       "metadata": {},
       "output_type": "pyout",
       "prompt_number": 61,
       "text": [
        "'2015-05-07 10:08:31.000003'"
       ]
      }
     ],
     "prompt_number": 61
    },
    {
     "cell_type": "code",
     "collapsed": false,
     "input": [
      "now()"
     ],
     "language": "python",
     "metadata": {},
     "outputs": [
      {
       "metadata": {},
       "output_type": "pyout",
       "prompt_number": 62,
       "text": [
        "42129.83924768519"
       ]
      }
     ],
     "prompt_number": 62
    },
    {
     "cell_type": "code",
     "collapsed": false,
     "input": [
      "JD(ut)-now()-JD(\"1899/12/31 12:00:00\")"
     ],
     "language": "python",
     "metadata": {},
     "outputs": [
      {
       "metadata": {},
       "output_type": "pyout",
       "prompt_number": 63,
       "text": [
        "0.23528935154899955"
       ]
      }
     ],
     "prompt_number": 63
    },
    {
     "cell_type": "code",
     "collapsed": false,
     "input": [
      "JD(\"2015/05/06 12:00:00\")"
     ],
     "language": "python",
     "metadata": {},
     "outputs": [
      {
       "metadata": {},
       "output_type": "pyout",
       "prompt_number": 64,
       "text": [
        "2457149.0"
       ]
      }
     ],
     "prompt_number": 64
    },
    {
     "cell_type": "code",
     "collapsed": false,
     "input": [
      "print JD(\"1899/12/31 12:00:00\"), LST(\"1899/12/31 12:00:00\")"
     ],
     "language": "python",
     "metadata": {},
     "outputs": [
      {
       "output_type": "stream",
       "stream": "stdout",
       "text": [
        "2415020.0 20:04:25\n"
       ]
      }
     ],
     "prompt_number": 65
    },
    {
     "cell_type": "code",
     "collapsed": false,
     "input": [
      "str(now()) # UT time now"
     ],
     "language": "python",
     "metadata": {},
     "outputs": [
      {
       "metadata": {},
       "output_type": "pyout",
       "prompt_number": 66,
       "text": [
        "'2015/5/7 08:08:31'"
       ]
      }
     ],
     "prompt_number": 66
    },
    {
     "cell_type": "code",
     "collapsed": false,
     "input": [
      "2457149.08403 -42129.084490740745"
     ],
     "language": "python",
     "metadata": {},
     "outputs": [
      {
       "metadata": {},
       "output_type": "pyout",
       "prompt_number": 67,
       "text": [
        "2415019.9995392594"
       ]
      }
     ],
     "prompt_number": 67
    }
   ],
   "metadata": {}
  }
 ]
}