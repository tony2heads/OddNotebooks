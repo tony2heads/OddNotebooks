{
 "metadata": {
  "kernelspec": {
   "display_name": "Python 2",
   "language": "python",
   "name": "python2"
  },
  "language_info": {
   "codemirror_mode": {
    "name": "ipython",
    "version": 2
   },
   "file_extension": ".py",
   "mimetype": "text/x-python",
   "name": "python",
   "nbconvert_exporter": "python",
   "pygments_lexer": "ipython2",
   "version": "2.7.3"
  },
  "name": ""
 },
 "nbformat": 3,
 "nbformat_minor": 0,
 "worksheets": [
  {
   "cells": [
    {
     "cell_type": "code",
     "collapsed": false,
     "input": [
      "#%loadpy /home/tony/Desktop/SouthAfrica/transit.py"
     ],
     "language": "python",
     "metadata": {},
     "outputs": [],
     "prompt_number": 1
    },
    {
     "cell_type": "code",
     "collapsed": false,
     "input": [
      "#!/usr/bin/env python\n",
      "import ephem\n",
      "import numpy as np\n",
      "kat = ephem.Observer()\n",
      "kat.lat = '-30.71317'\n",
      "kat.long = '21.44389'\n",
      "kat.elevation = 1038\n",
      "kat.temp=25\n",
      "kat.pressure=900\n",
      "kat.date = ephem.now()\n",
      "\n",
      "# current\n",
      "print \"Local Time  \", ephem.localtime(ephem.now())\n",
      "print \"Julian date \", ephem.julian_date()\n",
      "print \"Sideral Time\", kat.sidereal_time()\n",
      "\n",
      "# 19h39m25.0s -63d42m46\n",
      "# set up source\n",
      "src = ephem.FixedBody()\n",
      "src._ra = '19:39:25.02671'         # default epoch (J2000)\n",
      "src._dec = '-63:42:45.63'\n",
      "src.name = \"PKS 1934-638\"\n",
      "src.compute(kat)\n",
      "\n",
      "# get transit properties -- note times are normally in UT!\n",
      "# Note ORDER is important !\n",
      "# next really does mean next after that time\n",
      "\n",
      "print (\"%s at Alt %s Az %s\") %(src.name,src.alt,src.az)\n",
      "\n",
      "print \"Transit    \",ephem.localtime(kat.next_transit(src))\n",
      "print \" src trans \",ephem.localtime(src.transit_time)\n",
      "print \"Transit Alt\",src.transit_alt\n",
      "if src.circumpolar == False:\n",
      "    print \"Rise       \",ephem.localtime(kat.next_rising(src))\n",
      "    print \" src rise  \",ephem.localtime(src.rise_time)\n",
      "    print \"Set        \",ephem.localtime(kat.next_setting(src))\n",
      "    print \" src set   \",ephem.localtime(src.set_time)\n",
      "else:\n",
      "    print \"Circumpolar\""
     ],
     "language": "python",
     "metadata": {},
     "outputs": [
      {
       "output_type": "stream",
       "stream": "stdout",
       "text": [
        "Local Time   2015-04-23 15:09:40.000003\n",
        "Julian date  2457136.04838\n",
        "Sideral Time 4:40:29.70\n",
        "PKS 1934-638 at Alt 10:56:03.3 Az 198:39:06.4\n",
        "Transit     2015-04-24 06:07:32.000004\n",
        " src trans  2015-04-24 06:07:32.000004\n",
        "Transit Alt 57:03:05.9\n",
        "Circumpolar\n"
       ]
      }
     ],
     "prompt_number": 2
    },
    {
     "cell_type": "code",
     "collapsed": false,
     "input": [],
     "language": "python",
     "metadata": {},
     "outputs": [],
     "prompt_number": null
    },
    {
     "cell_type": "code",
     "collapsed": false,
     "input": [
      "sun=ephem.Sun()\n",
      "sun.compute(kat)\n",
      "print sun.az, sun.alt, sun.set_time, sun.set_az, sun.rise_az"
     ],
     "language": "python",
     "metadata": {},
     "outputs": [
      {
       "output_type": "stream",
       "stream": "stdout",
       "text": [
        "312:49:09.4 32:37:40.2 2015/4/23 16:04:23 284:22:38.0 75:47:56.4\n"
       ]
      }
     ],
     "prompt_number": 3
    },
    {
     "cell_type": "code",
     "collapsed": false,
     "input": [
      "np.degrees(src.az) ,np.degrees(src.alt)\n"
     ],
     "language": "python",
     "metadata": {},
     "outputs": [
      {
       "metadata": {},
       "output_type": "pyout",
       "prompt_number": 4,
       "text": [
        "(180.00000500895632, 57.051651476673143)"
       ]
      }
     ],
     "prompt_number": 4
    },
    {
     "cell_type": "code",
     "collapsed": false,
     "input": [
      "import numpy as np\n",
      "az='180:00:00' ; el='31:00:00'\n",
      "print np.degrees(kat.radec_of(az,el))\n",
      "az=np.radians(180.0) ; el=np.radians(30.8135)\n",
      "print np.degrees(kat.radec_of(az,el))"
     ],
     "language": "python",
     "metadata": {},
     "outputs": [
      {
       "output_type": "stream",
       "stream": "stdout",
       "text": [
        "[ 89.48400956 -89.74478395]\n",
        "[ 127.6857988   -89.89902453]\n"
       ]
      }
     ],
     "prompt_number": 5
    },
    {
     "cell_type": "code",
     "collapsed": false,
     "input": [
      "RA=[]\n",
      "DEC=[]\n",
      "for eld in range(10,90,10):\n",
      "    el=np.radians(eld)\n",
      "   #print el\n",
      "    for azd in range(-180,180,1):\n",
      "        az=np.radians(azd)\n",
      "        #print az\n",
      "        #print np.degrees(kat.radec_of(az,el))\n",
      "        RA.append(np.degrees(kat.radec_of(az,el))[0])\n",
      "        DEC.append(np.degrees(kat.radec_of(az,el))[1])\n",
      "        #print RA,DEC"
     ],
     "language": "python",
     "metadata": {},
     "outputs": [],
     "prompt_number": 6
    },
    {
     "cell_type": "code",
     "collapsed": false,
     "input": [
      "%pylab inline\n",
      "ra=np.array(RA)\n",
      "dec=np.array(DEC)\n",
      "pylab.plot(ra,dec)\n",
      "pylab.xlim([0,360])\n",
      "pylab.ylim([-90,60])\n",
      "pylab.show()"
     ],
     "language": "python",
     "metadata": {},
     "outputs": [
      {
       "output_type": "stream",
       "stream": "stdout",
       "text": [
        "Populating the interactive namespace from numpy and matplotlib\n"
       ]
      },
      {
       "metadata": {},
       "output_type": "display_data",
       "png": "[encoded data removed]",
       "text": [
        "<matplotlib.figure.Figure at 0x3712810>"
       ]
      }
     ],
     "prompt_number": 7
    },
    {
     "cell_type": "code",
     "collapsed": false,
     "input": [],
     "language": "python",
     "metadata": {},
     "outputs": [],
     "prompt_number": null
    },
    {
     "cell_type": "code",
     "collapsed": false,
     "input": [],
     "language": "python",
     "metadata": {},
     "outputs": [],
     "prompt_number": null
    },
    {
     "cell_type": "code",
     "collapsed": false,
     "input": [],
     "language": "python",
     "metadata": {},
     "outputs": [],
     "prompt_number": null
    },
    {
     "cell_type": "code",
     "collapsed": false,
     "input": [],
     "language": "python",
     "metadata": {},
     "outputs": [],
     "prompt_number": null
    }
   ],
   "metadata": {}
  }
 ]
}