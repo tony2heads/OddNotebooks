{
 "metadata": {
  "name": "phys"
 },
 "nbformat": 3,
 "nbformat_minor": 0,
 "worksheets": [
  {
   "cells": [
    {
     "cell_type": "markdown",
     "metadata": {},
     "source": [
      "$ e^{i \\pi }$"
     ]
    },
    {
     "cell_type": "code",
     "collapsed": false,
     "input": [
      "k=1.38e-23\n",
      "Jy=1.e-26\n",
      "c=2.998e8\n",
      "h=6.626e-34\n",
      "pc=3.08e16 #m\n",
      "#\n",
      "T=7000"
     ],
     "language": "python",
     "metadata": {},
     "outputs": [],
     "prompt_number": 47
    },
    {
     "cell_type": "code",
     "collapsed": false,
     "input": [
      "nu=2.8e9\n",
      "lam=c/nu\n",
      "print h*nu/k*T , 1-exp(-h*nu/k*T),lam,nu"
     ],
     "language": "python",
     "metadata": {},
     "outputs": [
      {
       "output_type": "stream",
       "stream": "stdout",
       "text": [
        "941.084057971 1.0 0.107071428571 2800000000.0\n"
       ]
      }
     ],
     "prompt_number": 48
    },
    {
     "cell_type": "markdown",
     "metadata": {},
     "source": [
      "$\\frac{h \\nu}{kT}$"
     ]
    },
    {
     "cell_type": "code",
     "collapsed": false,
     "input": [
      "deg=8e-7\n",
      "theta=deg*pi/180\n",
      "omega=pi*theta*theta\n",
      "print deg,theta,omega,T,lam\n",
      "#S=1e-6\n",
      "S=2*k*T*omega/(Jy*lam*lam)\n",
      "print S"
     ],
     "language": "python",
     "metadata": {},
     "outputs": [
      {
       "output_type": "stream",
       "stream": "stdout",
       "text": [
        "8e-07 1.3962634016e-08 6.12469662821e-16 7000 0.107071428571\n",
        "1.03215402289e-06\n"
       ]
      }
     ],
     "prompt_number": 49
    },
    {
     "cell_type": "code",
     "collapsed": false,
     "input": [
      "mas= deg*3600*1000\n",
      "print mas"
     ],
     "language": "python",
     "metadata": {},
     "outputs": [
      {
       "output_type": "stream",
       "stream": "stdout",
       "text": [
        "2.88\n"
       ]
      }
     ],
     "prompt_number": 50
    },
    {
     "cell_type": "code",
     "collapsed": false,
     "input": [
      "S=1e-6\n",
      "omega=S*c**2/(2e26*k*T*nu**2)\n",
      "theta=sqrt(omega/pi)\n",
      "deg=180*theta/pi\n",
      "mas=deg*3600*1000\n",
      "print nu,omega,theta,mas"
     ],
     "language": "python",
     "metadata": {},
     "outputs": [
      {
       "output_type": "stream",
       "stream": "stdout",
       "text": [
        "2800000000.0 5.93389793806e-16 1.37434288927e-08 2.83478569773\n"
       ]
      }
     ],
     "prompt_number": 51
    },
    {
     "cell_type": "code",
     "collapsed": false,
     "input": [
      "sigma=6.65e-29\n",
      "pc=3.08e16\n",
      "d=1000*pc\n",
      "n=1e5\n",
      "tau=sigma*d*n\n",
      "print tau"
     ],
     "language": "python",
     "metadata": {},
     "outputs": [
      {
       "output_type": "stream",
       "stream": "stdout",
       "text": [
        "0.00020482\n"
       ]
      }
     ],
     "prompt_number": 52
    },
    {
     "cell_type": "code",
     "collapsed": false,
     "input": [
      "tau=1\n",
      "r=50*pc\n",
      "n=tau/(sigma*r)\n",
      "print (\"n is %e m^-3\") %(n)\n",
      "me=9.109e-31\n",
      "mp=1.67e-27\n",
      "Msun=1.989e30\n",
      "m=4*pi*r**3*n*(me+mp)/3\n",
      "print (\"M=%e or in Msun %e\") %(m, m/Msun)"
     ],
     "language": "python",
     "metadata": {},
     "outputs": [
      {
       "output_type": "stream",
       "stream": "stdout",
       "text": [
        "n is 9.764671e+09 m^-3\n",
        "M=2.496098e+38 or in Msun 1.254951e+08\n"
       ]
      }
     ],
     "prompt_number": 53
    },
    {
     "cell_type": "code",
     "collapsed": false,
     "input": [
      "nu=1.4e9\n",
      "lam=c/nu\n",
      "#print lam\n",
      "S=127*Jy\n",
      "omega=(60*30*pi*pi)/(60*60*180*180)\n",
      "T=(S*c*c)/(2*omega*k*nu*nu)\n",
      "sc=2*k*T*omega*1e26/(lam*lam)\n",
      "print (\"omega=%e T=%f ch=%e\") %(omega,T,sc)"
     ],
     "language": "python",
     "metadata": {},
     "outputs": [
      {
       "output_type": "stream",
       "stream": "stdout",
       "text": [
        "omega=1.523087e-04 T=13.854061 ch=1.270000e+02\n"
       ]
      }
     ],
     "prompt_number": 54
    },
    {
     "cell_type": "code",
     "collapsed": false,
     "input": [
      "nu1=1.4e9\n",
      "nu2=8.4e9\n",
      "df=log10(nu1) -log10(nu2)\n",
      "S14=127\n",
      "S28=38\n",
      "ds=log10(S14) - log10(S28)\n",
      "al=ds/df\n",
      "#a2=(log10(S1)-log10(S2))/(log10(nu1)-log10(nu2))\n",
      "print al"
     ],
     "language": "python",
     "metadata": {},
     "outputs": [
      {
       "output_type": "stream",
       "stream": "stdout",
       "text": [
        "-0.673416799216\n"
       ]
      }
     ],
     "prompt_number": 55
    },
    {
     "cell_type": "code",
     "collapsed": false,
     "input": [
      "d=2000*3.08e16\n",
      "L1=S14*Jy*d*d*8/6\n",
      "print d, L1"
     ],
     "language": "python",
     "metadata": {},
     "outputs": [
      {
       "output_type": "stream",
       "stream": "stdout",
       "text": [
        "6.16e+19 6.42545493333e+15\n"
       ]
      }
     ],
     "prompt_number": 56
    },
    {
     "cell_type": "code",
     "collapsed": false,
     "input": [
      "S1=S14*(1.0/1.4)**(-0.673)\n",
      "L0=L1*S1/S14\n",
      "print S1, L0"
     ],
     "language": "python",
     "metadata": {},
     "outputs": [
      {
       "output_type": "stream",
       "stream": "stdout",
       "text": [
        "159.275100933 8.05838569328e+15\n"
       ]
      }
     ],
     "prompt_number": 57
    },
    {
     "cell_type": "code",
     "collapsed": false,
     "input": [
      "x=L0*1e9\n",
      "fact=(100**(al+1)-0.01**(al+1))/(al+1)\n",
      "print al,fact,x,x*fact"
     ],
     "language": "python",
     "metadata": {},
     "outputs": [
      {
       "output_type": "stream",
       "stream": "stdout",
       "text": [
        "-0.673416799216 13.0970496918 8.05838569328e+24 1.05541077861e+26\n"
       ]
      }
     ],
     "prompt_number": 58
    },
    {
     "cell_type": "code",
     "collapsed": false,
     "input": [
      "side=d*1*pi/180\n",
      "V=d*d*d*1*1*.5*pi*pi*pi/(180*180*180)\n",
      "print side,V"
     ],
     "language": "python",
     "metadata": {},
     "outputs": [
      {
       "output_type": "stream",
       "stream": "stdout",
       "text": [
        "1.07512281923e+18 6.21361361281e+53\n"
       ]
      }
     ],
     "prompt_number": 59
    },
    {
     "cell_type": "code",
     "collapsed": false,
     "input": [
      "E=3e6*2**(4./7) * V**(3./7) * 1e9**(2./7) * L0**(4./7)\n",
      "print E\n"
     ],
     "language": "python",
     "metadata": {},
     "outputs": [
      {
       "output_type": "stream",
       "stream": "stdout",
       "text": [
        "2.31282065167e+41\n"
       ]
      }
     ],
     "prompt_number": 60
    },
    {
     "cell_type": "code",
     "collapsed": false,
     "input": [
      "E2= 7444*(x*fact)**(4./7) * (side/2)**(9./7)* 2**(4./7)\n",
      "print E2"
     ],
     "language": "python",
     "metadata": {},
     "outputs": [
      {
       "output_type": "stream",
       "stream": "stdout",
       "text": [
        "5.13587884498e+41\n"
       ]
      }
     ],
     "prompt_number": 61
    },
    {
     "cell_type": "code",
     "collapsed": false,
     "input": [
      "omega=5.9e-16 #sterad\n",
      "theta=sqrt(omega/pi)\n",
      "d=theta*180/pi\n",
      "s=theta*206265\n",
      "print omega,theta,d,s\n",
      "r=s*7800\n",
      "print r\n"
     ],
     "language": "python",
     "metadata": {},
     "outputs": [
      {
       "output_type": "stream",
       "stream": "stdout",
       "text": [
        "5.9e-16 1.37041173685e-08 7.85188087164e-07 0.002826679769\n",
        "22.0481021982\n"
       ]
      }
     ],
     "prompt_number": 62
    },
    {
     "cell_type": "code",
     "collapsed": false,
     "input": [
      "Vpc =6.2e53/(pc*pc*pc)\n",
      "print Vpc"
     ],
     "language": "python",
     "metadata": {},
     "outputs": [
      {
       "output_type": "stream",
       "stream": "stdout",
       "text": [
        "21219.7146756\n"
       ]
      }
     ],
     "prompt_number": 63
    }
   ],
   "metadata": {}
  }
 ]
}