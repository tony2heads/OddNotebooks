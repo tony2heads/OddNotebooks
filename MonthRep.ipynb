{
 "cells": [
  {
   "cell_type": "code",
   "execution_count": 33,
   "metadata": {
    "collapsed": false
   },
   "outputs": [
    {
     "name": "stdout",
     "output_type": "stream",
     "text": [
      "Populating the interactive namespace from numpy and matplotlib\n"
     ]
    },
    {
     "name": "stderr",
     "output_type": "stream",
     "text": [
      "WARNING: pylab import has clobbered these variables: ['f']\n",
      "`%matplotlib` prevents importing * from pylab and numpy\n"
     ]
    }
   ],
   "source": [
    "%pylab inline\n",
    "\n",
    "import katarchive\n",
    "import katdal as katfile\n",
    "import datetime\n",
    "import katpoint\n",
    "import calendar\n",
    "\n",
    "import logging\n",
    "\n",
    "# needed to supress search outputs\n",
    "from contextlib import contextmanager\n",
    "import sys, os\n",
    "\n",
    "katarchive.product_filter.only_kat7()\n",
    " \n",
    "@contextmanager\n",
    "def suppress_stdout():\n",
    "    with open(os.devnull, \"w\") as devnull:\n",
    "        old_stdout = sys.stdout\n",
    "        sys.stdout = devnull\n",
    "        try:  \n",
    "            yield\n",
    "        finally:\n",
    "            sys.stdout = old_stdout"
   ]
  },
  {
   "cell_type": "code",
   "execution_count": 34,
   "metadata": {
    "collapsed": true
   },
   "outputs": [],
   "source": [
    "def findh5(det):   # uses detail list to get h5 name\n",
    "    pos=det.find(\"Name:\")\n",
    "    if pos >0  :\n",
    "        pr2=det[pos+37:pos+50].split()\n",
    "        h5name=pr2[0].lstrip(\"/ng\")\n",
    "    return h5name"
   ]
  },
  {
   "cell_type": "code",
   "execution_count": 35,
   "metadata": {
    "collapsed": false
   },
   "outputs": [
    {
     "name": "stdout",
     "output_type": "stream",
     "text": [
      "Searched using: CAS.ProductTypeName:(KatFile) AND CAS.ProductTransferStatus:RECEIVED AND StartTime:[2016-04-30T22:00:00Z TO 2016-05-31T21:59:59Z]\n",
      "Returning 290 results\n"
     ]
    }
   ],
   "source": [
    "f = katarchive.search_archive(startdate='01/05/2016',enddate='31/05/2016')\n",
    "start = datetime.datetime.strptime(f[-1].metadata.StartTime,'%Y-%m-%d %H:%M:%S %Z')\n",
    "end = datetime.datetime.strptime(f[0].metadata.StartTime,'%Y-%m-%d %H:%M:%S %Z')"
   ]
  },
  {
   "cell_type": "code",
   "execution_count": 36,
   "metadata": {
    "collapsed": true
   },
   "outputs": [],
   "source": [
    "f.sort(key=lambda k: k.metadata.StartTime)"
   ]
  },
  {
   "cell_type": "code",
   "execution_count": 53,
   "metadata": {
    "collapsed": false
   },
   "outputs": [
    {
     "name": "stdout",
     "output_type": "stream",
     "text": [
      "2016-05-03 15:56:09 SAST\n",
      "2016-05-03 15:40:06 SAST\n"
     ]
    }
   ],
   "source": [
    "print f[0].metadata.StartTime\n",
    "print f[-1].metadata.StartTime\n"
   ]
  },
  {
   "cell_type": "code",
   "execution_count": 38,
   "metadata": {
    "collapsed": false
   },
   "outputs": [
    {
     "name": "stdout",
     "output_type": "stream",
     "text": [
      "1462282802  ---  2016-05-03 15:40:02 SAST\n",
      "1462283355  ---  2016-05-03 15:49:15 SAST\n"
     ]
    }
   ],
   "source": [
    "#first_timestamp = int(f[-1].metadata.Filename[:-3])\n",
    "#last_timestamp = int(f[0].metadata.Filename[:-3]) + int(f[0].metadata.Duration)\n",
    "first_timestamp=int(findh5(f[0].metadata.Details))\n",
    "last_timestamp=int(findh5(f[1].metadata.Details))+ int(f[0].metadata.Duration)\n",
    "\n",
    "print first_timestamp,\" --- \", katpoint.Timestamp(first_timestamp).local()\n",
    "print last_timestamp,\" --- \", katpoint.Timestamp(last_timestamp).local()\n",
    "year = katpoint.Timestamp(first_timestamp).local().split()[0].split('-')[0]\n",
    "month = katpoint.Timestamp(first_timestamp).local().split()[0].split('-')[1]"
   ]
  },
  {
   "cell_type": "code",
   "execution_count": 39,
   "metadata": {
    "collapsed": false
   },
   "outputs": [
    {
     "name": "stdout",
     "output_type": "stream",
     "text": [
      "Percentage system usage: 69.18%\n"
     ]
    }
   ],
   "source": [
    "program_id = []\n",
    "duration = []\n",
    "antennas = []\n",
    "for fi in f:\n",
    "    # now try extract the project-id from the instruction-set string\n",
    "    script = fi.metadata.InstructionSet.encode('ascii','ignore') \n",
    "    spl = script.split()\n",
    "    for i,s in enumerate(spl):\n",
    "        if '--project-id' in s or '--proposal-id' in s:\n",
    "            if '=' in s: #some people use --project-id=yyyymmddNN-01 and some --project-id yyyymmddNN-01\n",
    "                if s[-1] == '=':\n",
    "                    p = spl[i+1]\n",
    "                    break\n",
    "                p = s.split('=')[-1]\n",
    "                break\n",
    "            else:\n",
    "                if spl[i+1][0] == '=' and len(spl[i+1]) > 1:\n",
    "                    p = spl[i+1][1:]\n",
    "                    break\n",
    "                elif spl[i+1][0] == '=' and len(spl[i+1]) == 1:\n",
    "                    p = spl[i+2]\n",
    "                    break\n",
    "                p = spl[i+1]\n",
    "            break\n",
    "        else:\n",
    "            p = 'No-project-id' \n",
    "    program_id.append(p)\n",
    "    duration.append(fi.metadata.Duration)\n",
    "    antennas.append(len(fi.metadata.Antennas))\n",
    "program_id = array(program_id)\n",
    "duration = array(duration)\n",
    "antennas = array(antennas)\n",
    "p_cent = (sum(duration)/((end.toordinal()-start.toordinal())*24*3600))*100\n",
    "\n",
    "print 'Percentage system usage: %4.2f%%'%p_cent"
   ]
  },
  {
   "cell_type": "code",
   "execution_count": 40,
   "metadata": {
    "collapsed": false
   },
   "outputs": [
    {
     "name": "stdout",
     "output_type": "stream",
     "text": [
      "Percentage system usage with 1 antennas: 0.03%\n",
      "Percentage system usage with 2 antennas: 1.21%\n",
      "Percentage system usage with 3 antennas: 0.00%\n",
      "Percentage system usage with 4 antennas: 0.00%\n",
      "Percentage system usage with 5 antennas: 15.33%\n",
      "Percentage system usage with 6 antennas: 52.61%\n",
      "Percentage system usage with 7 antennas: 0.00%\n"
     ]
    }
   ],
   "source": [
    "for i in range(1,8):\n",
    "    ind = antennas == i\n",
    "    p_cent = (sum(duration[ind])/((end.toordinal()-start.toordinal())*24*3600))*100\n",
    "    print 'Percentage system usage with %i antennas: %4.2f%%'%(i, p_cent)"
   ]
  },
  {
   "cell_type": "code",
   "execution_count": 56,
   "metadata": {
    "collapsed": false
   },
   "outputs": [
    {
     "data": {
      "text/plain": [
       "<matplotlib.text.Text at 0x7f830426d050>"
      ]
     },
     "execution_count": 56,
     "metadata": {},
     "output_type": "execute_result"
    },
    {
     "name": "stderr",
     "output_type": "stream",
     "text": [
      "/usr/lib/pymodules/python2.7/matplotlib/collections.py:548: FutureWarning: elementwise comparison failed; returning scalar instead, but in the future will perform elementwise comparison\n",
      "  if self._edgecolors == 'face':\n"
     ]
    },
    {
     "data": {
      "image/png": "[encoded data removed]",
      "text/plain": [
       "<matplotlib.figure.Figure at 0x7f83053f9350>"
      ]
     },
     "metadata": {},
     "output_type": "display_data"
    }
   ],
   "source": [
    "month = int(month)\n",
    "#day = int(day)\n",
    "year = int(year)\n",
    "mdays = calendar.monthrange(year,month)[1]\n",
    "\n",
    "if month == 1:\n",
    "    l_year = year - 1\n",
    "    last_m = 12\n",
    "else:\n",
    "    l_year = year\n",
    "    last_m = month - 1\n",
    "\n",
    "last_mdays = calendar.monthrange(l_year,last_m)[1]\n",
    "\n",
    "c = ['r','r','r','r','r','k','b','g']\n",
    "percent = []\n",
    "days = range(1,mdays + 1)\n",
    "\n",
    "# read the last file in the previous month and see if it ran over to the first day\n",
    "# if it did run over then calculate by how much\n",
    "with suppress_stdout():\n",
    "    f = katarchive.search_archive(startdate=str(last_mdays)+'/'+str(last_m)+'/'+str(l_year),enddate=str(last_mdays)+'/'+str(last_m)+'/'+str(l_year));\n",
    "if len(f)>0:\n",
    "    ts = katpoint.Timestamp(int(f[0].metadata.Filename[:-3])).to_mjd()\n",
    "    du = f[0].metadata.Duration\n",
    "    temp = np.floor(ts) + 1 - 7200.0/86400\n",
    "    start = ((ts + du/86400) - temp) * 86400\n",
    "    l = len(f[0].metadata.Antennas) # how many antennas were used in the observation\n",
    "else:\n",
    "    start = 0\n",
    "    l = 0\n",
    "\n",
    "# cycle through all the days in the month\n",
    "for d in days:\n",
    "    col = [c[l]]\n",
    "    # return the file statistics for the day of interest from the archive\n",
    "    with suppress_stdout():\n",
    "        f = katarchive.search_archive(startdate=str(d)+'/'+str(month)+'/'+str(year),enddate=str(d)+'/'+str(month)+'/'+str(year));\n",
    "    if len(f) == 0: #if there are no files recorded on that day\n",
    "        percent.append(0)\n",
    "        plt.figure(2,figsize=(15,10))\n",
    "        plt.subplot(mdays,1,d)\n",
    "        ax = plt.gca()\n",
    "        ax.set_xticks([])\n",
    "        ax.set_yticks([])\n",
    "        plt.ylabel(str(d)+': 0%',rotation='horizontal')\n",
    "        continue\n",
    "    t = start if start > 0 else 0 # the overlap from the previous day\n",
    "    yranges=[(0,start/86400)] # start time and duration in fractions of a day\n",
    "    # process all but the last file ... the archive returns the files in reverse order !\n",
    "    for m in f[1:]:\n",
    "        #ts = katpoint.Timestamp(int(m.metadata.Filename[:-3])).to_mjd() + 7200.0/86400\n",
    "        ts=katpoint.Timestamp(int(findh5(m.metadata.Details))).to_mjd() + 7200.0/86400\n",
    "        du = m.metadata.Duration/86400.\n",
    "        l = len(m.metadata.Antennas)\n",
    "        col.append(c[l])\n",
    "        yranges.append((ts%1,du)) # mod the MJD with 1 to get the fractional part\n",
    "        t = t + du * 86400\n",
    "    # process the last file to see if it runs over into the next day\n",
    "    ts=katpoint.Timestamp(int(findh5(m.metadata.Details))).to_mjd() + 7200.0/86400\n",
    "    du = f[0].metadata.Duration\n",
    "    temp = np.floor(ts) + 1 - 7200.0/86400\n",
    "    start = ((ts + du/86400) - temp) * 86400\n",
    "    p = t + du if start < 0 else t + du - start \n",
    "    s = du if start < 0 else du - start\n",
    "    yranges.append(((ts+7200.0/86400)%1,s/86400.)) # a list of start times and durations in fractions of a day\n",
    "    l = len(f[0].metadata.Antennas)\n",
    "    col.append(c[l])\n",
    "    percent.append(100*p/86400)\n",
    "    # plot the data\n",
    "    plt.figure(2,figsize=(15,8))\n",
    "    plt.subplot(mdays,1,d)\n",
    "    plt.subplots_adjust(wspace=0., hspace=0.)\n",
    "    ax = plt.gca()\n",
    "    ax.broken_barh(yranges,(0,1), facecolors=col) # plot the data as bars \n",
    "    ax.set_xticks([])\n",
    "    ax.set_yticks([])\n",
    "    plt.xlim(0,1)\n",
    "    plt.ylim(0,1)\n",
    "    ax.yaxis.set_label_coords(-0.05, 0)\n",
    "    plt.ylabel(str(d)+': '+str(np.rint(100*p/86400))+'%',rotation='horizontal')\n",
    "plt.subplot(mdays,1,mdays)\n",
    "plt.xlabel('Time/[SAST]')\n",
    "plt.xticks(np.arange(0,1,0.25),['0','6','12','18','24'])\n",
    "plt.subplot(mdays,1,1)\n",
    "plt.title('System usage for '+calendar.month_name[month]+' in '+str(year)+' ... Average usage: '+str(np.floor(np.sum(percent)/len(percent)))+'%')\n",
    "plt.subplots_adjust(bottom=0.1, right=0.8, top=0.9)\n",
    "cax = plt.axes([0.85, 0.1, 0.05, 0.8])\n",
    "cmap = mpl.colors.ListedColormap(['r', 'k', 'b', 'g'])\n",
    "cmap.set_over('0.25')\n",
    "cmap.set_under('0.75')\n",
    "bounds = [1, 4, 5, 6, 7]\n",
    "norm = mpl.colors.BoundaryNorm(bounds, cmap.N)\n",
    "cb2 = mpl.colorbar.ColorbarBase(cax, cmap=cmap,\n",
    "                    norm=norm,\n",
    "                    # to use 'extend', you must\n",
    "                    # specify two extra boundaries:\n",
    "                    boundaries=bounds,\n",
    "                    #extend='both',\n",
    "                    ticks=bounds, # optional\n",
    "                    spacing='proportional',\n",
    "                    orientation='vertical')\n",
    "cb2.set_label('Number of ants used')\n",
    "plt.suptitle('Day:%',x=0.1,y=0.92)"
   ]
  }
 ],
 "metadata": {
  "kernelspec": {
   "display_name": "Python 2",
   "language": "python",
   "name": "python2"
  },
  "language_info": {
   "codemirror_mode": {
    "name": "ipython",
    "version": 2
   },
   "file_extension": ".py",
   "mimetype": "text/x-python",
   "name": "python",
   "nbconvert_exporter": "python",
   "pygments_lexer": "ipython2",
   "version": "2.7.6"
  }
 },
 "nbformat": 4,
 "nbformat_minor": 0
}
