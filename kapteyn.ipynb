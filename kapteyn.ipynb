{
 "metadata": {
  "name": "kapteyn"
 }, 
 "nbformat": 2, 
 "worksheets": [
  {
   "cells": [
    {
     "cell_type": "code", 
     "collapsed": false, 
     "input": [
      "import numpy as np", 
      "from kapteyn.celestial import *", 
      "import kapteyn.wcs as wcs", 
      "xyz = np.asmatrix( (0,0,1.0), 'd' ).T", 
      "xyz2 = dotrans(skymatrix(j2000,icrs), xyz)", 
      "print xyz2", 
      "#[[ -8.05614894e-08],", 
      "#[ -3.30604145e-08],", 
      "#[  1.00000000e+00]]", 
      "", 
      "print xyz2[0,0]*(180/n.pi)*3600000", 
      "#-16.6170004827", 
      "print xyz2[1,0]*(180/n.pi)*3600000", 
      "#-6.8191988238"
     ], 
     "language": "python", 
     "outputs": [
      {
       "output_type": "stream", 
       "stream": "stdout", 
       "text": [
        "[[ -8.05614917e-08]", 
        " [ -3.30604088e-08]", 
        " [  1.00000000e+00]]", 
        "-16.6170004827", 
        "-6.8191988238"
       ]
      }
     ], 
     "prompt_number": 8
    }, 
    {
     "cell_type": "code", 
     "collapsed": false, 
     "input": [
      "m = skymatrix((eq,'b1950',fk4), gal)[0]", 
      "print np.array2string(np.array(m), precision=12)", 
      "#[-0.066988739415 -0.872755765852 -0.483538914632]", 
      "#[ 0.492728466075 -0.45034695802   0.744584633283]", 
      "#[-0.867600811151 -0.188374601723  0.460199784784]"
     ], 
     "language": "python", 
     "outputs": [
      {
       "output_type": "stream", 
       "stream": "stdout", 
       "text": [
        "[[-0.066988739415 -0.872755765852 -0.483538914632]", 
        " [ 0.492728466075 -0.45034695802   0.744584633283]", 
        " [-0.867600811151 -0.188374601723  0.460199784784]]"
       ]
      }
     ], 
     "prompt_number": 9
    }, 
    {
     "cell_type": "code", 
     "collapsed": false, 
     "input": [
      "world_eq = (192.25, 27.4)   # FK4 coordinates of galactic pole", 
      "tran = wcs.Transformation(\"equatorial fk4_no_e B1950.0\", \"galactic\")", 
      "print tran(world_eq)"
     ], 
     "language": "python", 
     "outputs": [
      {
       "output_type": "stream", 
       "stream": "stdout", 
       "text": [
        "(0.0, 90.0)"
       ]
      }
     ], 
     "prompt_number": 10
    }, 
    {
     "cell_type": "code", 
     "collapsed": false, 
     "input": [
      "world_eq = np.array([192.25, 27.4])     # FK4 coordinates of galactic pole", 
      "tran1 = wcs.Transformation(\"equatorial fk4_no_e B1950.0\", \"galactic\")", 
      "tran2 = wcs.Transformation((wcs.equatorial, wcs.fk4_no_e, 'B1950.0'), wcs.galactic)", 
      "print tran1(world_eq)-tran2(world_eq)", 
      "#[ 0.  0.]"
     ], 
     "language": "python", 
     "outputs": [
      {
       "output_type": "stream", 
       "stream": "stdout", 
       "text": [
        "[ 0.  0.]"
       ]
      }
     ], 
     "prompt_number": 13
    }, 
    {
     "cell_type": "code", 
     "collapsed": false, 
     "input": [
      "for s in skyrefsystems.skyrefs_list:", 
      "    print s.fullname, s.description, s.idnum"
     ], 
     "language": "python", 
     "outputs": [
      {
       "output_type": "stream", 
       "stream": "stdout", 
       "text": [
        "EQUATORIAL Equatorial 0", 
        "ECLIPTIC Ecliptic 1", 
        "GALACTIC Galactic II 2", 
        "SUPERGALACTIC Supergalactic 3", 
        "FK4 Fourth Fundamental Catalogue 4", 
        "FK4_NO_E FK4 without E-terms 5", 
        "FK5 Fifth Fundamental Catalogue  6", 
        "ICRS International Celestial Reference System 7", 
        "DYNJ2000 Dynamic J2000 8"
       ]
      }
     ], 
     "prompt_number": 15
    }, 
    {
     "cell_type": "code", 
     "collapsed": false, 
     "input": [
      "ra = 359.9999", 
      "dec = 0.0000123", 
      "print lon2hms(ra),  lat2dms(dec) # default precision", 
      "#    00h 00m  0.0s +00d 00m  0.0s", 
      "print lon2hms(ra, 2),  lat2dms(dec, 2)", 
      "#    23h 59m 59.98s +00d 00m  0.04s", 
      "print lon2hms(ra, 4),  lat2dms(dec, 4)", 
      "#    23h 59m 59.9760s +00d 00m  0.0443s"
     ], 
     "language": "python", 
     "outputs": [
      {
       "output_type": "stream", 
       "stream": "stdout", 
       "text": [
        "00h00m00.0s  00d00m00.0s", 
        "23h59m59.98s  00d00m00.04s", 
        "23h59m59.9760s  00d00m00.0443s"
       ]
      }
     ], 
     "prompt_number": 20
    }, 
    {
     "cell_type": "code", 
     "collapsed": false, 
     "input": [
      "print MatrixEpoch12Epoch2(1940, 1960, fk4, fk5, 1950)", 
      "#matrix([[  9.99988107e-01,  -4.47301372e-03,  -1.94362889e-03],", 
      "#        [  4.47301372e-03,   9.99989996e-01,  -4.34712255e-06],", 
      "#        [  1.94362889e-03,  -4.34680782e-06,   9.99998111e-01]])"
     ], 
     "language": "python", 
     "outputs": [
      {
       "output_type": "stream", 
       "stream": "stdout", 
       "text": [
        "[[  9.99988107e-01  -4.47301372e-03  -1.94362889e-03]", 
        " [  4.47301372e-03   9.99989996e-01  -4.34712255e-06]", 
        " [  1.94362889e-03  -4.34680782e-06   9.99998111e-01]]"
       ]
      }
     ], 
     "prompt_number": 22
    }, 
    {
     "cell_type": "code", 
     "collapsed": false, 
     "input": [
      "\"\"\"", 
      "This function illustrates the core use of module celestial. First it converts ", 
      "the input of world coordinates into a matrix. This matrix is converted to spatial", 
      "positions (X,Y,Z) with function longlat2xyz(). The function dotrans() transforms", 
      "these positions (X,Y,Z) to positions (X2,Y2,Z2) in the output sky system. ", 
      "Then the function xyz2longlat() converts these positions into longitudes ", 
      "and latitudes and finally a matrix with these values is returned", 
      "\"\"\"", 
      "", 
      "M = sky2sky( (eq, fk5), gal, (0,0,1.0), (10,20,20) )", 
      "print M", 
      "#matrix([[ 102.6262244 ,  -50.83256452],", 
      "#        [ 106.78021643,  -41.25289649],", 
      "#        [ 107.9914125 ,  -41.49143448]])", 
      "print M[2,0]", 
      "#107.99141249678289", 
      "print M[0]         # Extract first transformed long, lat", 
      "#matrix([[ 102.6262244 ,  -50.83256452]])", 
      "print M[:,1]       # Extract second column with latitudes", 
      "#matrix([[-50.83256452],", 
      "#        [-41.25289649],", 
      "#        [-41.49143448]])"
     ], 
     "language": "python", 
     "outputs": [
      {
       "output_type": "stream", 
       "stream": "stdout", 
       "text": [
        "[[ 102.6262244   -50.83256452]", 
        " [ 106.78021643  -41.25289649]", 
        " [ 107.9914125   -41.49143448]]", 
        "107.991412497", 
        "[[ 102.6262244   -50.83256452]]", 
        "[[-50.83256452]", 
        " [-41.25289649]", 
        " [-41.49143448]]"
       ]
      }
     ], 
     "prompt_number": 23
    }, 
    {
     "cell_type": "code", 
     "collapsed": false, 
     "input": [
      "# F for FITS style", 
      "#j for ", 
      "#B for ", 
      "", 
      "print epochs('F2008-03-31T8:09')  # should return:", 
      "#    (2008.2474210134737, 2008.2459673739454, 2454556.8395833336)", 
      "print epochs('F2007-01-14T13:18:59.9')", 
      "#    (2007.0378545262108, 2007.0364267212976, 2454115.0548599539)", 
      "print epochs(\"j2007.0364267212976\")", 
      "#    (2007.0378545262108, 2007.0364267212976, 2454115.0548599539)", 
      "print epochs(\"b2007.0378545262108\")", 
      "#    (2007.0378545262108, 2007.0364267212976, 2454115.0548599539)"
     ], 
     "language": "python", 
     "outputs": [
      {
       "output_type": "stream", 
       "stream": "stdout", 
       "text": [
        "(2008.2474210134737, 2008.2459673739454, 2454556.8395833336)", 
        "(2007.0378545262108, 2007.0364267212976, 2454115.054859954)", 
        "(2007.0378545262108, 2007.0364267212976, 2454115.054859954)", 
        "(2007.0378545262108, 2007.0364267212976, 2454115.054859954)"
       ]
      }
     ], 
     "prompt_number": 25
    }, 
    {
     "cell_type": "code", 
     "collapsed": false, 
     "input": [
      "ep = ['J2000', 'j2000', 'j 2000.5', 'B 2000', 'JD2450123.7',", 
      "      'mJD 24034', 'MJD50123.2', 'rJD50123.2', 'Rjd 23433',", 
      "      'F29/11/57', 'F2000-01-01', 'F2002-04-04T09:42:42.1']", 
      "", 
      "for epoch in ep:", 
      "   B, J, JD = wcs.epochs(epoch)", 
      "   print \"%24s = B%f, J%f, JD %f\" % (epoch, B, J, JD)"
     ], 
     "language": "python", 
     "outputs": [
      {
       "output_type": "stream", 
       "stream": "stdout", 
       "text": [
        "                   J2000 = B2000.001278, J2000.000000, JD 2451545.000000", 
        "                   j2000 = B2000.001278, J2000.000000, JD 2451545.000000", 
        "                j 2000.5 = B2000.501288, J2000.500000, JD 2451727.625000", 
        "                  B 2000 = B2000.000000, J1999.998723, JD 2451544.533398", 
        "             JD2450123.7 = B1996.109887, J1996.108693, JD 2450123.700000", 
        "               mJD 24034 = B1924.680025, J1924.680356, JD 2424034.500000", 
        "              MJD50123.2 = B1996.109887, J1996.108693, JD 2450123.700000", 
        "              rJD50123.2 = B1996.108518, J1996.107324, JD 2450123.200000", 
        "               Rjd 23433 = B1923.033172, J1923.033539, JD 2423433.000000", 
        "               F29/11/57 = B1957.910029, J1957.909651, JD 2436171.500000", 
        "             F2000-01-01 = B1999.999909, J1999.998631, JD 2451544.500000", 
        "  F2002-04-04T09:42:42.1 = B2002.257054, J2002.255728, JD 2452368.904654"
       ]
      }
     ], 
     "prompt_number": 26
    }, 
    {
     "cell_type": "code", 
     "collapsed": true, 
     "input": [], 
     "language": "python", 
     "outputs": []
    }
   ]
  }
 ]
}