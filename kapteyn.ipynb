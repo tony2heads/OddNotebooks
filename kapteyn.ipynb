{
 "cells": [
  {
   "cell_type": "code",
   "execution_count": 8,
   "metadata": {
    "collapsed": false
   },
   "outputs": [
    {
     "name": "stdout",
     "output_type": "stream",
     "text": [
      "[[ -8.05614917e-08]\n",
      " [ -3.30604088e-08]\n",
      " [  1.00000000e+00]]\n",
      "-16.6170004827\n",
      "-6.8191988238"
     ]
    }
   ],
   "source": [
    "import numpy as np\n",
    "from kapteyn.celestial import *\n",
    "import kapteyn.wcs as wcs\n",
    "xyz = np.asmatrix( (0,0,1.0), 'd' ).T\n",
    "xyz2 = dotrans(skymatrix(j2000,icrs), xyz)\n",
    "print xyz2\n",
    "#[[ -8.05614894e-08],\n",
    "#[ -3.30604145e-08],\n",
    "#[  1.00000000e+00]]\n",
    "\n",
    "print xyz2[0,0]*(180/n.pi)*3600000\n",
    "#-16.6170004827\n",
    "print xyz2[1,0]*(180/n.pi)*3600000\n",
    "#-6.8191988238"
   ]
  },
  {
   "cell_type": "code",
   "execution_count": 9,
   "metadata": {
    "collapsed": false
   },
   "outputs": [
    {
     "name": "stdout",
     "output_type": "stream",
     "text": [
      "[[-0.066988739415 -0.872755765852 -0.483538914632]\n",
      " [ 0.492728466075 -0.45034695802   0.744584633283]\n",
      " [-0.867600811151 -0.188374601723  0.460199784784]]"
     ]
    }
   ],
   "source": [
    "m = skymatrix((eq,'b1950',fk4), gal)[0]\n",
    "print np.array2string(np.array(m), precision=12)\n",
    "#[-0.066988739415 -0.872755765852 -0.483538914632]\n",
    "#[ 0.492728466075 -0.45034695802   0.744584633283]\n",
    "#[-0.867600811151 -0.188374601723  0.460199784784]"
   ]
  },
  {
   "cell_type": "code",
   "execution_count": 10,
   "metadata": {
    "collapsed": false
   },
   "outputs": [
    {
     "name": "stdout",
     "output_type": "stream",
     "text": [
      "(0.0, 90.0)"
     ]
    }
   ],
   "source": [
    "world_eq = (192.25, 27.4)   # FK4 coordinates of galactic pole\n",
    "tran = wcs.Transformation(\"equatorial fk4_no_e B1950.0\", \"galactic\")\n",
    "print tran(world_eq)"
   ]
  },
  {
   "cell_type": "code",
   "execution_count": 13,
   "metadata": {
    "collapsed": false
   },
   "outputs": [
    {
     "name": "stdout",
     "output_type": "stream",
     "text": [
      "[ 0.  0.]"
     ]
    }
   ],
   "source": [
    "world_eq = np.array([192.25, 27.4])     # FK4 coordinates of galactic pole\n",
    "tran1 = wcs.Transformation(\"equatorial fk4_no_e B1950.0\", \"galactic\")\n",
    "tran2 = wcs.Transformation((wcs.equatorial, wcs.fk4_no_e, 'B1950.0'), wcs.galactic)\n",
    "print tran1(world_eq)-tran2(world_eq)\n",
    "#[ 0.  0.]"
   ]
  },
  {
   "cell_type": "code",
   "execution_count": 15,
   "metadata": {
    "collapsed": false
   },
   "outputs": [
    {
     "name": "stdout",
     "output_type": "stream",
     "text": [
      "EQUATORIAL Equatorial 0\n",
      "ECLIPTIC Ecliptic 1\n",
      "GALACTIC Galactic II 2\n",
      "SUPERGALACTIC Supergalactic 3\n",
      "FK4 Fourth Fundamental Catalogue 4\n",
      "FK4_NO_E FK4 without E-terms 5\n",
      "FK5 Fifth Fundamental Catalogue  6\n",
      "ICRS International Celestial Reference System 7\n",
      "DYNJ2000 Dynamic J2000 8"
     ]
    }
   ],
   "source": [
    "for s in skyrefsystems.skyrefs_list:\n",
    "    print s.fullname, s.description, s.idnum"
   ]
  },
  {
   "cell_type": "code",
   "execution_count": 20,
   "metadata": {
    "collapsed": false
   },
   "outputs": [
    {
     "name": "stdout",
     "output_type": "stream",
     "text": [
      "00h00m00.0s  00d00m00.0s\n",
      "23h59m59.98s  00d00m00.04s\n",
      "23h59m59.9760s  00d00m00.0443s"
     ]
    }
   ],
   "source": [
    "ra = 359.9999\n",
    "dec = 0.0000123\n",
    "print lon2hms(ra),  lat2dms(dec) # default precision\n",
    "#    00h 00m  0.0s +00d 00m  0.0s\n",
    "print lon2hms(ra, 2),  lat2dms(dec, 2)\n",
    "#    23h 59m 59.98s +00d 00m  0.04s\n",
    "print lon2hms(ra, 4),  lat2dms(dec, 4)\n",
    "#    23h 59m 59.9760s +00d 00m  0.0443s"
   ]
  },
  {
   "cell_type": "code",
   "execution_count": 22,
   "metadata": {
    "collapsed": false
   },
   "outputs": [
    {
     "name": "stdout",
     "output_type": "stream",
     "text": [
      "[[  9.99988107e-01  -4.47301372e-03  -1.94362889e-03]\n",
      " [  4.47301372e-03   9.99989996e-01  -4.34712255e-06]\n",
      " [  1.94362889e-03  -4.34680782e-06   9.99998111e-01]]"
     ]
    }
   ],
   "source": [
    "print MatrixEpoch12Epoch2(1940, 1960, fk4, fk5, 1950)\n",
    "#matrix([[  9.99988107e-01,  -4.47301372e-03,  -1.94362889e-03],\n",
    "#        [  4.47301372e-03,   9.99989996e-01,  -4.34712255e-06],\n",
    "#        [  1.94362889e-03,  -4.34680782e-06,   9.99998111e-01]])"
   ]
  },
  {
   "cell_type": "code",
   "execution_count": 23,
   "metadata": {
    "collapsed": false
   },
   "outputs": [
    {
     "name": "stdout",
     "output_type": "stream",
     "text": [
      "[[ 102.6262244   -50.83256452]\n",
      " [ 106.78021643  -41.25289649]\n",
      " [ 107.9914125   -41.49143448]]\n",
      "107.991412497\n",
      "[[ 102.6262244   -50.83256452]]\n",
      "[[-50.83256452]\n",
      " [-41.25289649]\n",
      " [-41.49143448]]"
     ]
    }
   ],
   "source": [
    "\"\"\"\n",
    "This function illustrates the core use of module celestial. First it converts \n",
    "the input of world coordinates into a matrix. This matrix is converted to spatial\n",
    "positions (X,Y,Z) with function longlat2xyz(). The function dotrans() transforms\n",
    "these positions (X,Y,Z) to positions (X2,Y2,Z2) in the output sky system. \n",
    "Then the function xyz2longlat() converts these positions into longitudes \n",
    "and latitudes and finally a matrix with these values is returned\n",
    "\"\"\"\n",
    "\n",
    "M = sky2sky( (eq, fk5), gal, (0,0,1.0), (10,20,20) )\n",
    "print M\n",
    "#matrix([[ 102.6262244 ,  -50.83256452],\n",
    "#        [ 106.78021643,  -41.25289649],\n",
    "#        [ 107.9914125 ,  -41.49143448]])\n",
    "print M[2,0]\n",
    "#107.99141249678289\n",
    "print M[0]         # Extract first transformed long, lat\n",
    "#matrix([[ 102.6262244 ,  -50.83256452]])\n",
    "print M[:,1]       # Extract second column with latitudes\n",
    "#matrix([[-50.83256452],\n",
    "#        [-41.25289649],\n",
    "#        [-41.49143448]])"
   ]
  },
  {
   "cell_type": "code",
   "execution_count": 25,
   "metadata": {
    "collapsed": false
   },
   "outputs": [
    {
     "name": "stdout",
     "output_type": "stream",
     "text": [
      "(2008.2474210134737, 2008.2459673739454, 2454556.8395833336)\n",
      "(2007.0378545262108, 2007.0364267212976, 2454115.054859954)\n",
      "(2007.0378545262108, 2007.0364267212976, 2454115.054859954)\n",
      "(2007.0378545262108, 2007.0364267212976, 2454115.054859954)"
     ]
    }
   ],
   "source": [
    "# F for FITS style\n",
    "#j for \n",
    "#B for \n",
    "\n",
    "print epochs('F2008-03-31T8:09')  # should return:\n",
    "#    (2008.2474210134737, 2008.2459673739454, 2454556.8395833336)\n",
    "print epochs('F2007-01-14T13:18:59.9')\n",
    "#    (2007.0378545262108, 2007.0364267212976, 2454115.0548599539)\n",
    "print epochs(\"j2007.0364267212976\")\n",
    "#    (2007.0378545262108, 2007.0364267212976, 2454115.0548599539)\n",
    "print epochs(\"b2007.0378545262108\")\n",
    "#    (2007.0378545262108, 2007.0364267212976, 2454115.0548599539)"
   ]
  },
  {
   "cell_type": "code",
   "execution_count": 26,
   "metadata": {
    "collapsed": false
   },
   "outputs": [
    {
     "name": "stdout",
     "output_type": "stream",
     "text": [
      "                   J2000 = B2000.001278, J2000.000000, JD 2451545.000000\n",
      "                   j2000 = B2000.001278, J2000.000000, JD 2451545.000000\n",
      "                j 2000.5 = B2000.501288, J2000.500000, JD 2451727.625000\n",
      "                  B 2000 = B2000.000000, J1999.998723, JD 2451544.533398\n",
      "             JD2450123.7 = B1996.109887, J1996.108693, JD 2450123.700000\n",
      "               mJD 24034 = B1924.680025, J1924.680356, JD 2424034.500000\n",
      "              MJD50123.2 = B1996.109887, J1996.108693, JD 2450123.700000\n",
      "              rJD50123.2 = B1996.108518, J1996.107324, JD 2450123.200000\n",
      "               Rjd 23433 = B1923.033172, J1923.033539, JD 2423433.000000\n",
      "               F29/11/57 = B1957.910029, J1957.909651, JD 2436171.500000\n",
      "             F2000-01-01 = B1999.999909, J1999.998631, JD 2451544.500000\n",
      "  F2002-04-04T09:42:42.1 = B2002.257054, J2002.255728, JD 2452368.904654"
     ]
    }
   ],
   "source": [
    "ep = ['J2000', 'j2000', 'j 2000.5', 'B 2000', 'JD2450123.7',\n",
    "      'mJD 24034', 'MJD50123.2', 'rJD50123.2', 'Rjd 23433',\n",
    "      'F29/11/57', 'F2000-01-01', 'F2002-04-04T09:42:42.1']\n",
    "\n",
    "for epoch in ep:\n",
    "   B, J, JD = wcs.epochs(epoch)\n",
    "   print \"%24s = B%f, J%f, JD %f\" % (epoch, B, J, JD)"
   ]
  },
  {
   "cell_type": "code",
   "execution_count": null,
   "metadata": {
    "collapsed": true
   },
   "outputs": [],
   "source": []
  }
 ],
 "metadata": {
  "kernelspec": {
   "display_name": "Python 2",
   "language": "python",
   "name": "python2"
  },
  "language_info": {
   "codemirror_mode": {
    "name": "ipython",
    "version": 2
   },
   "file_extension": ".py",
   "mimetype": "text/x-python",
   "name": "python",
   "nbconvert_exporter": "python",
   "pygments_lexer": "ipython2",
   "version": "2.7.3"
  }
 },
 "nbformat": 4,
 "nbformat_minor": 0
}
