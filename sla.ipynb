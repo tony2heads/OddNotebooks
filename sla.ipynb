{
 "metadata": {
  "name": "",
  "signature": "sha256:6e5ad61f095556bb1fc52074544acc41f357119e0f3b77446c63a8c248d23e83"
 },
 "nbformat": 3,
 "nbformat_minor": 0,
 "worksheets": [
  {
   "cells": [
    {
     "cell_type": "code",
     "collapsed": false,
     "input": [
      "#%loadpy /home/tony/Desktop/PythonScripts/Coords/slalib_velocity_frames_example.py"
     ],
     "language": "python",
     "metadata": {},
     "outputs": [],
     "prompt_number": 28
    },
    {
     "cell_type": "code",
     "collapsed": false,
     "input": [
      "import numpy as np\n",
      "#import units\n",
      "import pyslalib\n",
      "import dateutil\n",
      "\n",
      "def header_to_vlsr(header,**kwargs):\n",
      "    \"\"\"\n",
      "    Attempt to determine the vlsr offset using default header keywords\n",
      "    \"\"\"\n",
      "  \n",
      "    if 'RA' in header:\n",
      "        ra = sexagesimal_to_decimal(header['RA'],ra=True)\n",
      "        dec = sexagesimal_to_decimal(header['DEC'],ra=False)\n",
      "    elif 'CRVAL1' in header and 'RA' in header['CTYPE1']:\n",
      "        ra = header['CRVAL1']\n",
      "        dec = header['CRVAL2']\n",
      "    latitude = header['LATITUDE']\n",
      "    if 'UT1' in header:\n",
      "        datestr =  header['UT1']\n",
      "    elif 'DATE-OBS' in header:\n",
      "        datestr =  header['DATE-OBS']\n",
      "    else:\n",
      "        print \"Not sure what date keywords exist...\"\n",
      "    jd = date_to_JD(datestr)\n",
      "    if 'EQUINOX' in header:\n",
      "        epoch = header['EQUINOX']\n",
      "    elif 'EPOCH' in header:\n",
      "        epoch = header['EPOCH']\n",
      "    else:\n",
      "        epoch = 2000.\n",
      "  \n",
      "    lst = sexagesimal_to_decimal(header['LST'])\n",
      "  \n",
      "    print ra,dec,latitude,lst,jd,epoch\n",
      "    return topo_to_lsr(ra,dec,latitude,lst,jd,epoch)\n",
      "  \n",
      "def date_to_JD(datestr, **kwargs):  \n",
      "    date = dateutil.parser.parse(datestr, **kwargs)\n",
      "    day = date.day + (date.hour/24.) + (date.minute/60.)/24. + (date.second/3600.)/24.\n",
      "    JD = pyslalib.slalib.sla_cldj(date.year,date.month,day)\n",
      "    return JD\n",
      "  \n",
      "def sexagesimal_to_decimal(string, delimiter=\":\", ra=False):\n",
      "    hh,mm,ss = [float(x) for x in string.split(delimiter)]\n",
      "    decim = hh+mm/60.+ss/3600.\n",
      "    if ra:\n",
      "        decim *= 15.\n",
      "    return decim\n",
      "  \n",
      "def topo_to_geo(ra,dec,latitude,lst,height=None):\n",
      "    \"\"\"\n",
      "    :ra: Decimal right ascension (degrees)\n",
      "    :dec: Decimal declination (degrees)\n",
      "    :latitude: Observatory latitude in degrees\n",
      "    :lst: Local sidereal time (hours)\n",
      "  \n",
      "    .. warning: this option was implemented but returns inconsistent results\n",
      "        and has therefore been disabled\n",
      "    :height: (optional) Height above the reference spheroid in meters\n",
      "        (if height is specified, a more precise version of the code is used)\n",
      "    \"\"\"\n",
      "    ra_rad = ra*np.pi/180.\n",
      "    dec_rad = dec*np.pi/180.\n",
      "    latitude_rad = latitude*np.pi/180.\n",
      "    lst_rad = lst*15.*np.pi/180.\n",
      "    if height is None:\n",
      "        return pyslalib.slalib.sla_rverot(ra_rad,dec_rad,latitude_rad,lst_rad)\n",
      "    else:\n",
      "        return pyslalib.slalib.sla_rverot(ra_rad,dec_rad,latitude_rad,lst_rad)\n",
      "        vearth_6d = pyslalib.slalib.sla_pvobs(latitude_rad, height, lst_rad)\n",
      "        vradec_3d = pyslalib.slalib.sla_dcs2c(ra_rad, dec_rad)\n",
      "        projected_vearth = -1*pyslalib.slalib.sla_dvdv(vearth_6d[3:],vradec_3d)\n",
      "        return projected_vearth * units.astronomical_unit_cm*units.length_dict['cm']/units.length_dict['km']\n",
      "  \n",
      "  \n",
      "def geo_to_bary(ra,dec,jd,epoch):\n",
      "    \"\"\"\n",
      "    For a given ra/dec, return the conversion from geocentric velocity to heliocentric\n",
      "  \n",
      "    :ra: Decimal right ascension (degrees)\n",
      "    :dec: Decimal declination (degrees)\n",
      "    :jd: Modified (2000 = 51544) julian date\n",
      "    :epoch: Epoch of observations (e.g., 2000, 2008.202)\n",
      "  \n",
      "    follows instructions given here:\n",
      "    http://star-www.rl.ac.uk/docs/sun67.htx/node230.html\n",
      "  \n",
      "    *  Star vector, J2000\n",
      "        CALL sla_DCS2C(RM,DM,V)\n",
      "  \n",
      "    *  Earth/Sun velocity and position, J2000\n",
      "        CALL sla_EVP(TDB,2000D0,DVB,DPB,DVH,DPH)\n",
      "  \n",
      "    *  Radial velocity correction due to Earth orbit (km/s)\n",
      "        VCORB = -sla_DVDV(V,DVH)*149.597870D6\n",
      "  \n",
      "    \"\"\"\n",
      "    velocity_3d = pyslalib.slalib.sla_dcs2c(ra*np.pi/180.,dec*np.pi/180.)\n",
      "    dvb, dpb, dvh, dph = pyslalib.slalib.sla_evp(jd,epoch)\n",
      "  \n",
      "    vcorb = -pyslalib.slalib.sla_dvdv(velocity_3d,dvb)*149.597870e6\n",
      "  \n",
      "    return vcorb\n",
      "  \n",
      "def geo_to_helio(ra,dec,jd,epoch):\n",
      "    \"\"\"\n",
      "    For a given ra/dec, return the conversion from geocentric velocity to heliocentric\n",
      "  \n",
      "    :ra: Decimal right ascension (degrees)\n",
      "    :dec: Decimal declination (degrees)\n",
      "    :jd: Modified (2000 = 51544) julian date\n",
      "    :epoch: Epoch of observations (e.g., 2000, 2008.202)\n",
      "  \n",
      "    follows instructions given here:\n",
      "    http://star-www.rl.ac.uk/docs/sun67.htx/node230.html\n",
      "  \n",
      "    *  Star vector, J2000\n",
      "        CALL sla_DCS2C(RM,DM,V)\n",
      "  \n",
      "    *  Earth/Sun velocity and position, J2000\n",
      "        CALL sla_EVP(TDB,2000D0,DVB,DPB,DVH,DPH)\n",
      "  \n",
      "    *  Radial velocity correction due to Earth orbit (km/s)\n",
      "        VCORB = -sla_DVDV(V,DVH)*149.597870D6\n",
      "  \n",
      "    \"\"\"\n",
      "    velocity_3d = pyslalib.slalib.sla_dcs2c(ra*np.pi/180.,dec*np.pi/180.)\n",
      "    dvb, dpb, dvh, dph = pyslalib.slalib.sla_evp(jd,epoch)\n",
      "  \n",
      "    vcorb = -pyslalib.slalib.sla_dvdv(velocity_3d,dvh)*149.597870e6\n",
      "  \n",
      "    return vcorb\n",
      "  \n",
      "def helio_to_lsr(ra, dec):\n",
      "    \"\"\"\n",
      "    \"\"\"\n",
      "    return pyslalib.slalib.sla_rvlsrk(ra/180.*np.pi, dec/180.*np.pi)\n",
      "  \n",
      "def topo_to_lsr(ra, dec, latitude, lst, jd, epoch, height=None):\n",
      "    print \"helio->lsr: \",helio_to_lsr(ra,dec)\n",
      "    print \"geo->helio: \",geo_to_helio(ra,dec,jd,epoch)\n",
      "    print \"topo->geo: \",topo_to_geo(ra,dec,latitude,lst,height=height)\n",
      "    return helio_to_lsr(ra,dec) + geo_to_helio(ra,dec,jd,epoch) + topo_to_geo(ra,dec,latitude,lst,height=height)\n",
      "  \n",
      "def frame_grid(ra=0.0,dec=0.0,latitude=0.0,jd=51544,lst=0,vtopo=0.0,epoch=2000,):\n",
      "    frame_names = ['TOPO','GEO','BARY','HELI','LSRK']\n",
      "    frame1_to_frame2 = dict([(n1,None) for n1 in frame_names])\n",
      "    for frame1 in frame_names:\n",
      "        frame1_to_frame2[frame1] = dict([(n2,None) for n2 in frame_names])\n",
      "        for frame2 in frame_names:\n",
      "            if frame1 == frame2:\n",
      "                frame1_to_frame2[frame1][frame2] = 0.0\n",
      "            elif frame1 == 'TOPO' and frame2 == 'GEO':\n",
      "                frame1_to_frame2[frame1][frame2] = topo_to_geo(ra,dec,latitude,lst)\n",
      "  \n",
      "  \n",
      "if __name__ == \"__main__\":\n",
      "    #import pytest\n",
      "    #@pytest.mark.parametrize\n",
      "    def test_vlsr(ra, dec, utyr, utmon, utday, epoch, latitude, elevation):\n",
      "        pass"
     ],
     "language": "python",
     "metadata": {},
     "outputs": [],
     "prompt_number": 29
    },
    {
     "cell_type": "code",
     "collapsed": true,
     "input": [
      "ra=310.3  # decimal degrees\n",
      "dec=-89.9\n",
      "year=2015\n",
      "month=1\n",
      "day=15\n",
      "latitude=-30.7\n",
      "elevation=1038.\n",
      "epoch=2000\n",
      "lst=10.2 # local sidereal time\n",
      "jd=pyslalib.slalib.sla_cldj(year,month,day)\n",
      "print jd # MJD\n",
      "print topo_to_lsr(ra, dec, latitude, lst, jd, epoch, height=None) # 4 values, topocentric"
     ],
     "language": "python",
     "metadata": {},
     "outputs": [
      {
       "output_type": "stream",
       "stream": "stdout",
       "text": [
        "(57037.0, 0)\n",
        "helio->lsr:  9.97801589966\n",
        "geo->helio:  -4.89977412819\n",
        "topo->geo:  -0.230462625623\n",
        "4.84777914584\n"
       ]
      }
     ],
     "prompt_number": 38
    },
    {
     "cell_type": "code",
     "collapsed": false,
     "input": [
      "print 9.978015-4.899774 -0.230462"
     ],
     "language": "python",
     "metadata": {},
     "outputs": [
      {
       "output_type": "stream",
       "stream": "stdout",
       "text": [
        "4.847779\n"
       ]
      }
     ],
     "prompt_number": 37
    },
    {
     "cell_type": "code",
     "collapsed": false,
     "input": [
      "x= pyslalib.slalib.sla_dafin(\"18 22 11.4\",1)\n",
      "d=18. +22/60. +11.5/3600\n",
      "print d, np.deg2rad(d),x\n"
     ],
     "language": "python",
     "metadata": {},
     "outputs": [
      {
       "output_type": "stream",
       "stream": "stdout",
       "text": [
        "18.3698611111 0.320614559523 (11, 0.32061407470927167, 0)\n"
       ]
      }
     ],
     "prompt_number": 31
    },
    {
     "cell_type": "code",
     "collapsed": false,
     "input": [
      "np.rad2deg(0.32061407470927167) # radians to degrees"
     ],
     "language": "python",
     "metadata": {},
     "outputs": [
      {
       "metadata": {},
       "output_type": "pyout",
       "prompt_number": 32,
       "text": [
        "18.369833333333332"
       ]
      }
     ],
     "prompt_number": 32
    },
    {
     "cell_type": "code",
     "collapsed": false,
     "input": [
      "pyslalib.slalib.sla_daf2r(180,00,00) #DD MM SS to radians"
     ],
     "language": "python",
     "metadata": {},
     "outputs": [
      {
       "metadata": {},
       "output_type": "pyout",
       "prompt_number": 33,
       "text": [
        "(3.141592653589793, 0)"
       ]
      }
     ],
     "prompt_number": 33
    },
    {
     "cell_type": "code",
     "collapsed": false,
     "input": [
      " sexagesimal_to_decimal(\"19:29:59\",ra=True)"
     ],
     "language": "python",
     "metadata": {},
     "outputs": [
      {
       "metadata": {},
       "output_type": "pyout",
       "prompt_number": 34,
       "text": [
        "292.4958333333334"
       ]
      }
     ],
     "prompt_number": 34
    },
    {
     "cell_type": "code",
     "collapsed": false,
     "input": [],
     "language": "python",
     "metadata": {},
     "outputs": [],
     "prompt_number": 34
    }
   ],
   "metadata": {}
  }
 ]
}