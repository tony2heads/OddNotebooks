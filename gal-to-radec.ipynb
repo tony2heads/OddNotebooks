{
 "cells": [
  {
   "cell_type": "code",
   "execution_count": 44,
   "metadata": {
    "collapsed": false
   },
   "outputs": [],
   "source": [
    "from astropy.coordinates import SkyCoord as sky\n",
    "import astropy.units as unit"
   ]
  },
  {
   "cell_type": "markdown",
   "metadata": {},
   "source": [
    "# Values from IAR HI survey\n",
    "\n",
    "Bajaja et al A&A 440, 767–773 (2005)\n",
    "\n",
    "cold sky positons listed on the last page"
   ]
  },
  {
   "cell_type": "code",
   "execution_count": 45,
   "metadata": {
    "collapsed": false
   },
   "outputs": [
    {
     "name": "stdout",
     "output_type": "stream",
     "text": [
      "04h45m55.3048s -53d09m30.3518s\n"
     ]
    }
   ],
   "source": [
    "cold5=sky(l=261.0*unit.degree,b=-40.0*unit.degree, frame='galactic')\n",
    "print cold5.icrs.to_string(\"hmsdms\")"
   ]
  },
  {
   "cell_type": "code",
   "execution_count": 46,
   "metadata": {
    "collapsed": true
   },
   "outputs": [],
   "source": [
    "cold=sky(l=[233.23,347.31,221.98,11.44,261.0  ]*unit.degree,b=[-27.54,-75.54,-52.01,-59.92,-40.0 ]*unit.degree, frame='galactic')"
   ]
  },
  {
   "cell_type": "code",
   "execution_count": 47,
   "metadata": {
    "collapsed": false
   },
   "outputs": [
    {
     "name": "stdout",
     "output_type": "stream",
     "text": [
      "[u'05h39m10.8519s -28d59m07.9323s', u'00h00m58.9646s -36d53m49.2617s', u'03h42m29.481s -26d27m23.6451s', u'22h34m39.8769s -33d55m03.7148s', u'04h45m55.3048s -53d09m30.3518s']\n"
     ]
    }
   ],
   "source": [
    "print cold.icrs.to_string(\"hmsdms\")"
   ]
  },
  {
   "cell_type": "code",
   "execution_count": 48,
   "metadata": {
    "collapsed": true
   },
   "outputs": [],
   "source": [
    "rd=cold.icrs.to_string(\"hmsdms\")\n"
   ]
  },
  {
   "cell_type": "code",
   "execution_count": 64,
   "metadata": {
    "collapsed": false
   },
   "outputs": [
    {
     "name": "stdout",
     "output_type": "stream",
     "text": [
      "Cold1 05:39:10.8519,-28:59:07.9323\n",
      "Cold2 00:00:58.9646,-36:53:49.2617\n",
      "Cold3 03:42:29.481,-26:27:23.6451\n",
      "Cold4 22:34:39.8769,-33:55:03.7148\n",
      "Cold5 04:45:55.3048,-53:09:30.3518\n"
     ]
    }
   ],
   "source": [
    "count=1\n",
    "for x in rd:\n",
    "    ss=x.strip(\"s\").replace(\"s \",\",\").replace(\"m\",\":\").replace(\"d\",\":\").replace(\"h\",\":\")\n",
    "    # remove trailing \"s\", put a comma in the middle, replace dhms with \":\", \n",
    "    print \"Cold%i %s\" %(count,ss)\n",
    "    count=count+1\n",
    "    "
   ]
  },
  {
   "cell_type": "markdown",
   "metadata": {},
   "source": [
    "Cold5 is the coldest, no strong galactic synchrotrom"
   ]
  },
  {
   "cell_type": "markdown",
   "metadata": {},
   "source": [
    "#Standard positions\n",
    "Williams, D. R. W. Astronomy and Astrophysics Supplement, Vol. 8, p.505\n"
   ]
  },
  {
   "cell_type": "code",
   "execution_count": 65,
   "metadata": {
    "collapsed": true
   },
   "outputs": [],
   "source": [
    "wil=sky(l=[1.91,132.,207.0,356.0 ]*unit.degree,b=[41.42,-1.,-15.0,-4.0 ]*unit.degree, frame='galactic')"
   ]
  },
  {
   "cell_type": "code",
   "execution_count": 67,
   "metadata": {
    "collapsed": false
   },
   "outputs": [
    {
     "name": "stdout",
     "output_type": "stream",
     "text": [
      "Standard6 15:31:33.6807,-02:25:23.5561\n",
      "Standard7 02:06:12.5957,+60:32:54.9011\n",
      "Standard8 05:47:21.3434,-01:40:18.4145\n",
      "Standard9 17:52:05.3736,-34:25:15.3749\n"
     ]
    }
   ],
   "source": [
    "s=wil.icrs.to_string(\"hmsdms\")\n",
    "i=6\n",
    "for x in s:\n",
    "    ss=x.strip(\"s\").replace(\"s \",\",\").replace(\"m\",\":\").replace(\"d\",\":\").replace(\"h\",\":\")\n",
    "    # remove trailing \"s\", put a comma in the middle, replace dhms with \":\", \n",
    "    print \"Standard%i %s\" %(count,ss)\n",
    "    count=count+1"
   ]
  }
 ],
 "metadata": {
  "kernelspec": {
   "display_name": "Python 2",
   "language": "python",
   "name": "python2"
  },
  "language_info": {
   "codemirror_mode": {
    "name": "ipython",
    "version": 2
   },
   "file_extension": ".py",
   "mimetype": "text/x-python",
   "name": "python",
   "nbconvert_exporter": "python",
   "pygments_lexer": "ipython2",
   "version": "2.7.3"
  }
 },
 "nbformat": 4,
 "nbformat_minor": 0
}
