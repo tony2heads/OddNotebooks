{
 "cells": [
  {
   "cell_type": "code",
   "execution_count": 1,
   "metadata": {
    "collapsed": false
   },
   "outputs": [],
   "source": [
    "#filename='/var/kat/archive2/data/MeerKATAR1/telescope_products/2016/11/14/1479107412.h5'\n",
    "filename='/var/kat/archive2/data/MeerKATAR1/telescope_products/2016/12/21/1482330484.h5'"
   ]
  },
  {
   "cell_type": "code",
   "execution_count": 2,
   "metadata": {
    "collapsed": false
   },
   "outputs": [
    {
     "name": "stdout",
     "output_type": "stream",
     "text": [
      "Populating the interactive namespace from numpy and matplotlib\n"
     ]
    }
   ],
   "source": [
    "#!/usr/bin/env python\n",
    "import katdal\n",
    "import numpy as np\n",
    "import os\n",
    "import textwrap\n",
    "import time\n",
    "from datetime import timedelta \n",
    "%pylab inline\n",
    "from pylab import axes, figure, legend, plot,plt, savefig, sys, text, title,xlabel, xticks, ylabel, ylim, yticks\n",
    "from matplotlib.ticker import AutoMinorLocator\n"
   ]
  },
  {
   "cell_type": "code",
   "execution_count": 3,
   "metadata": {
    "collapsed": true
   },
   "outputs": [],
   "source": [
    "def hours(t): # given an array of UTC timestamp turn to UT hours\n",
    "    gmt=time.gmtime(t[0]) # take first one for offsets\n",
    "    yy= gmt.tm_year\n",
    "    mm=gmt.tm_mon\n",
    "    dd=gmt.tm_mday\n",
    "    wd=gmt.tm_wday\n",
    "    yd=gmt.tm_yday\n",
    "    ut0 = time.mktime((yy,mm,dd,0,0,0,0,gmt.tm_wday,gmt.tm_isdst)) # start of UT dat\n",
    "    hour=(t-ut0)/3600.\n",
    "    return hour"
   ]
  },
  {
   "cell_type": "code",
   "execution_count": 4,
   "metadata": {
    "collapsed": false
   },
   "outputs": [],
   "source": [
    "def make_frontpage(file_ptr):\n",
    "    if float(file_ptr.version) >= 2.0:\n",
    "        instruction_set = file_ptr.obs_params['script_name'] +' '+f.obs_params['script_arguments'] # AR1\n",
    "    else:\n",
    "        instruction_set = 'Unknown'\n",
    "\n",
    "    scp='Instruction_set : %s' % (instruction_set,)\n",
    "    scp='\\n'.join(textwrap.wrap(scp, 126)) #add new line after every 126 charecters\n",
    "    scp='\\n'+scp+'\\n' #add space before and after instruction set\n",
    "\n",
    "    mystring_seperated=str(file_ptr).split('\\n')\n",
    "\n",
    "    startdate = time.strftime('%d %b %y', time.localtime(file_ptr.start_time))\n",
    "\n",
    "    lststart=(\"%2.0f:%2.0f\"%(np.modf(file_ptr.lst[0])[1], np.modf(file_ptr.lst[0])[0]*60))\n",
    "    lststop=(\"%2.0f:%2.0f\"%(np.modf(file_ptr.lst[len(file_ptr.lst)-1])[1], np.modf(file_ptr.lst[len(file_ptr.lst)-1])[0]*60))\n",
    "    frontpage = []\n",
    "    frontpage.append('Description: %s' % (file_ptr.obs_params['description'],))\n",
    "    #frontpage.append('Name: %s' % (file_ptr.obs_params['project_id'],))\n",
    "    frontpage.append('Proposal: %s' %  (file_ptr.obs_params['proposal_id'],))\n",
    "    frontpage.append('Experiment ID: %s' % (file_ptr.obs_params['experiment_id'],))\n",
    "    frontpage.append(scp)\n",
    "    frontpage.append('Observer: %s' % (file_ptr.obs_params['observer'],))\n",
    "    frontpage.append(mystring_seperated[5])\n",
    "    frontpage.append('Observed on: %s from %s LST to %s LST' % (startdate, lststart, lststop))\n",
    "    frontpage.append('\\n')\n",
    "    frontpage.append('Dump rate / period: %s Hz / %s s' % (str((round(1/file_ptr.dump_period,6))), str(round(file_ptr.dump_period,4))))\n",
    "    #frontpage.append(mystring_seperated[7])\n",
    "    #frontpage.append(mystring_seperated[8])\n",
    "    #frontpage.append(mystring_seperated[9])\n",
    "    frontpage.append('Number of Dumps: %s' % (str(len(file_ptr.dumps))))\n",
    "    frontpage.append('\\n')\n",
    "    #frontpage.append(mystring_seperated[11])\n",
    "    #frontpage.append(mystring_seperated[12])\n",
    "    #frontpage.append(mystring_seperated[21])\n",
    "    # \n",
    "    frontpage.append('\\n')\n",
    "    return '\\n'.join(frontpage)\n"
   ]
  },
  {
   "cell_type": "code",
   "execution_count": 5,
   "metadata": {
    "collapsed": true
   },
   "outputs": [],
   "source": [
    "\n",
    "def plot_time_series(ants,pol,count,startime):\n",
    "    #Time Series\n",
    "    figure(figsize=(13,10), facecolor='w', edgecolor='k')\n",
    "    xlabel(\"LST on \"+starttime,fontweight=\"bold\")\n",
    "    ylabel(\"Amplitude\",fontweight=\"bold\")\n",
    "    for ant in ants:\n",
    "        print (\"plotting \"+ant.name+\"_\" +pol+pol+ \" time series\")\n",
    "        f.select(ants=ant,corrprods='auto',pol=pol)\n",
    "        if count==0:\n",
    "            plot(f.lst,mean(abs(f.vis[:]),1),label=(ant.name+'_'+pol+pol))\n",
    "            locs,labels=xticks()\n",
    "            for i in range(len(locs)):\n",
    "                labels[i]=(\"%2.0f:%2.0f\"%(np.modf(locs[i])[1], np.modf(locs[i])[0]*60))\n",
    "            xticks(locs,labels)\n",
    "        elif count==1:\n",
    "            plot(f.lst,mean(abs(f.vis[:]),1),label=(ant.name+'_'+pol+pol))\n",
    "            locs,labels=xticks()\n",
    "            for i in range(len(locs)):\n",
    "                labels[i]=(\"%2.0f:%2.0f\"%(np.modf(locs[i])[1], np.modf(locs[i])[0]*60))\n",
    "            xticks(locs,labels)\n",
    "      \n",
    "    legend(loc='upper center', bbox_to_anchor=(0.5, 1.1), ncol=4, fancybox=True, shadow=False)\n",
    "\n"
   ]
  },
  {
   "cell_type": "code",
   "execution_count": 6,
   "metadata": {
    "collapsed": true
   },
   "outputs": [],
   "source": [
    "def plot_spectrum(pol, datafile, starttime, ant):\n",
    "    #Spectrum function\n",
    "    fig=figure(figsize=(13,10), facecolor='w', edgecolor='k')\n",
    "    ab = []\n",
    "    for  count in (0,1):\n",
    "        ab.append(fig.add_subplot(2,1,(count+1)))\n",
    "        ab[-1].set_ylim(2,16)\n",
    "        if len(f.channels)<1025:\n",
    "            ab[-1].set_xlim(195,805)\n",
    "        else:\n",
    "            ab[-1].set_xlim(0,len(f.channels))\n",
    "        ab[-1].set_xlabel(\"Channels\", fontweight=\"bold\")\n",
    "        ab[-1].set_ylabel(\"Amplitude\", fontweight=\"bold\")\n",
    "        f.select(ants=ant,corrprods='auto',pol=pol[count])\n",
    "        abs_vis=np.abs(f.vis[:])\n",
    "        if (10*np.log10((abs_vis.max(axis=0)).max())) >16:\n",
    "            ab[-1].set_ylim(2,ymax=0.5+(10*np.log10((abs_vis.max(axis=0)).max())))\n",
    "        label_format = '%s_%s%s' % (ant.name, pol[count], pol[count])\n",
    "        #print \"Starting to plot the %s spectrum.\" % (label_format,)\n",
    "        plotcolours=['g','b','m']\n",
    "        colours=0\n",
    "        for stat in ('mean', 'min', 'max'):\n",
    "            ab[-1].plot(f.channels, 10*np.log10(getattr(abs_vis,stat)(axis=0)), label=('%s_%s' % (label_format, stat)),color=plotcolours[colours] )\n",
    "            colours+=1\n",
    "        ab[-1].legend(loc='upper center', bbox_to_anchor=(0.5, 1.1), ncol=4, fancybox=True, shadow=False)\n",
    "        minorLocator   = AutoMinorLocator()\n",
    "        ab[-1].xaxis.set_minor_locator(minorLocator)\n",
    "        tick_params(which='both', color='k')\n",
    "        tick_params(which='major', length=6,width=2)\n",
    "        tick_params(which='minor', width=1,length=4)\n",
    "\n",
    "        ab.append(ab[-1].twinx())\n",
    "        #flag=f.flags()[:]\n",
    "        # total_sum=0\n",
    "        perc=[]\n",
    "        #for i in range(len(f.channels)):\n",
    "            #f_chan=flag[:,i,0].squeeze()\n",
    "            #suming=f_chan.sum()\n",
    "            #perc.append(100*(suming/float(f_chan.size)))\n",
    "        #ab[-1].bar(f.channels,perc,color='r',edgecolor='none')\n",
    "        minorLocator   = AutoMinorLocator()\n",
    "        ab[-1].xaxis.set_minor_locator(minorLocator)\n",
    "        #ab[-1].set_ylabel(\"% flagged\", fontweight=\"bold\")\n",
    "        ab[-1].set_ylim(0,100)\n",
    "        \"\"\"\n",
    "        if len(f.channels)<1025:\n",
    "            ab[-1].set_xlim(195,805)\n",
    "        else:\n",
    "            ab[-1].set_xlim(0,len(f.channels))\n",
    "        \"\"\"\n",
    "        ab[-1].set_xlim(0,len(f.channels))"
   ]
  },
  {
   "cell_type": "code",
   "execution_count": 7,
   "metadata": {
    "collapsed": true
   },
   "outputs": [],
   "source": [
    "def plot_bpcal_selection(f):\n",
    "    fig = plt.figure(figsize=(21,15))\n",
    "    try:\n",
    "        for pol in ('h','v'):\n",
    "            f.select(targets=f.catalogue.filter(tags='bpcal'), corrprods='cross', pol=pol, scans='track')\n",
    "            crosscorr = [(f.inputs.index(inpA), f.inputs.index(inpB)) for inpA, inpB in f.corr_products]\n",
    "            #extract the fringes\n",
    "            fringes = np.angle(f.vis[:,:,:])\n",
    "            #For plotting the fringes\n",
    "            fig.subplots_adjust(wspace=0., hspace=0.)\n",
    "            #debug_here()\n",
    "            for n, (indexA, indexB) in enumerate(crosscorr):\n",
    "                subplot_index = (len(f.ants) * indexA + indexB + 1) if pol == 'h' else (indexA + len(f.ants) * indexB + 1)\n",
    "                ax = fig.add_subplot(len(f.ants), len(f.ants), subplot_index)\n",
    "                ax.imshow(fringes[:,:,n],aspect=fringes.shape[1]/fringes.shape[0])\n",
    "                ax.set_xticks([])\n",
    "                ax.set_yticks([])\n",
    "                if pol == 'h':\n",
    "                    if indexA == 0:\n",
    "                        ax.xaxis.set_label_position('top')\n",
    "                        ax.set_xlabel(f.inputs[indexB][3:],size='xx-large')\n",
    "                    if indexB == len(f.ants) - 1:\n",
    "                       ax.yaxis.set_label_position('right')\n",
    "                       ax.set_ylabel(f.inputs[indexA][3:], rotation='horizontal',size = 'xx-large')\n",
    "                else:\n",
    "                    if indexA == 0:\n",
    "                        ax.set_ylabel(f.inputs[indexB][3:], rotation='horizontal',size='xx-large')\n",
    "                    if indexB == len(f.ants) - 1:\n",
    "                        ax.set_xlabel(f.inputs[indexA][3:],size='xx-large')\n",
    "\n",
    "    except KeyError, error:\n",
    "            print 'Failed to read scans from File: %s with Key Error: %s' % (f, error)\n",
    "    except ValueError, error:\n",
    "            print 'Failed to read scans from File: %s with Value Error: %s' % (f, error)"
   ]
  },
  {
   "cell_type": "code",
   "execution_count": 8,
   "metadata": {
    "collapsed": true
   },
   "outputs": [],
   "source": [
    "def plot_target_selection(f):\n",
    "    fig = plt.figure(figsize=(21,15))\n",
    "    try:\n",
    "        for pol in ('h','v'):\n",
    "            f.select(targets=f.catalogue.filter(tags='target'), corrprods='cross', pol=pol, scans='track')\n",
    "            crosscorr = [(f.inputs.index(inpA), f.inputs.index(inpB)) for inpA, inpB in f.corr_products]\n",
    "            #extract the fringes\n",
    "            power = 10 * np.log10(np.abs((f.vis[:,:,:])))\n",
    "            #For plotting the fringes\n",
    "            fig.subplots_adjust(wspace=0., hspace=0.)\n",
    "            #debug_here()\n",
    "            for n, (indexA, indexB) in enumerate(crosscorr):\n",
    "                subplot_index = (len(f.ants) * indexA + indexB + 1) if pol == 'h' else (indexA + len(f.ants) * indexB + 1)\n",
    "                ax = fig.add_subplot(len(f.ants), len(f.ants), subplot_index)\n",
    "                ax.plot(f.channel_freqs,np.mean(power[:,:,n],0))\n",
    "                ax.set_xticks([])\n",
    "                ax.set_yticks([])\n",
    "                if pol == 'h':\n",
    "                    if indexA == 0:\n",
    "                        ax.xaxis.set_label_position('top')\n",
    "                        ax.set_xlabel(f.inputs[indexB][3:],size='xx-large')\n",
    "                    if indexB == len(f.ants) - 1:\n",
    "                        ax.yaxis.set_label_position('right')\n",
    "                        ax.set_ylabel(f.inputs[indexA][3:], rotation='horizontal',size = 'xx-large')\n",
    "                else:\n",
    "                    if indexA == 0:\n",
    "                        ax.set_ylabel(f.inputs[indexB][3:], rotation='horizontal',size='xx-large')\n",
    "                    if indexB == len(f.ants) - 1:\n",
    "                        ax.set_xlabel(f.inputs[indexA][3:],size='xx-large')\n",
    "            #plt.savefig(pp,format='pdf')\n",
    "    except KeyError , error:\n",
    "        print 'Failed to read scans from File: ',f, ' with Key Error:',error\n",
    "    except ValueError , error:\n",
    "        print 'Failed to read scans from File: ',f,' with Value Error:',error\n",
    "\n",
    "################################################################################\n"
   ]
  },
  {
   "cell_type": "code",
   "execution_count": 9,
   "metadata": {
    "collapsed": false
   },
   "outputs": [],
   "source": [
    "def plot_environmental_sensors(f):\n",
    "    print \"Getting wind and temperature sensors\"\n",
    "    fig=figure(figsize=(13,10))\n",
    "    ax1 = fig.add_subplot(211)\n",
    "    temp=[]\n",
    "    hum=[] \n",
    "    press=[]\n",
    "    wind=[]\n",
    "    atime=[]\n",
    "    htime=[]\n",
    "    ptime=[]\n",
    "    wtime=[]\n",
    "    \n",
    "    t_sens=f.file['TelescopeState'][u'anc_air_temperature']\n",
    "    for n in range(len(t_sens)):\n",
    "        tval=t_sens[n][1][1:-2]   # 2nd value is a string\n",
    "        temp.append(float(tval))\n",
    "        atime.append(float(t_sens[n][0]))        \n",
    "    #print \"Temperatures\", n\n",
    "    # filled airtemp, next pressure    \n",
    "    p_sens=f.file['TelescopeState'][u'anc_air_pressure']\n",
    "    for n in range(len(p_sens)):\n",
    "        pval=p_sens[n][1][1:-2]   # 2nd value is a string\n",
    "        press.append(float(pval))\n",
    "        ptime.append(float(p_sens[n][0]))\n",
    "    #print \"Pressures:\",n\n",
    "    # filled pressure, next humidity       \n",
    "    \n",
    "    h_sens=f.file['TelescopeState'][u'anc_air_relative_humidity']\n",
    "    for n in range(len(h_sens)):\n",
    "        hval=h_sens[n][1][1:-2]   # 2nd value is a string\n",
    "        hum.append(float(hval))\n",
    "        htime.append(float(h_sens[n][0]))\n",
    "    #print \"Humidities:\" ,n\n",
    "    #filled humidity, next speed\n",
    "    w_sens=f.file['TelescopeState'][u'anc_mean_wind_speed']\n",
    "    for n in range(len(w_sens)):\n",
    "        wval=w_sens[n][1][1:-2]   # 2nd value is a string\n",
    "        wind.append(float(wval))\n",
    "        wtime.append(float(w_sens[n][0]))\n",
    "    #print \"Winds:\",n\n",
    "    \n",
    "    \"\"\"\n",
    "    Convert them all to numpy arrays from lists\n",
    "\n",
    "    \"\"\"\n",
    "    airtemp=np.array(temp)\n",
    "    pressure=np.array(press)\n",
    "    humidity=np.array(hum)\n",
    "    windspeed=np.array(wind)\n",
    "    atime=np.array(atime)\n",
    "    ptime=np.array(ptime)\n",
    "    htime=np.array(htime)\n",
    "    wtime=np.array(wtime)\n",
    "    p10=0.1*pressure\n",
    "    \n",
    "    atime=hours(atime)\n",
    "    ptime=hours(ptime)\n",
    "    htime=hours(htime)\n",
    "    wtime=hours(wtime)\n",
    "    \n",
    "    ax1.plot(atime,airtemp,'g-')\n",
    "    \n",
    "    ylim(ymin=-1,ymax=35)\n",
    "    mintemp=min(airtemp)\n",
    "    maxtemp=max(airtemp)\n",
    "    if maxtemp>=35:\n",
    "        ylim(ymax=(maxtemp+1))\n",
    "    if mintemp<=(-1.0):\n",
    "        ylim(ymin=(mintemp-1))\n",
    "    locs,labels=xticks()\n",
    "    for i in range(len(locs)):\n",
    "        labels[i]=(\"%2.0f:%2.0f\"%(np.modf(locs[i])[1], np.modf(locs[i])[0]*60))\n",
    "    xticks(locs,labels)\n",
    "    ax1.grid(axis='y', linewidth=0.15, linestyle='-', color='k')\n",
    "    ax1.set_xlabel(\"UT on \"+starttime, fontweight=\"bold\")\n",
    "    ax1.set_ylabel('Temperature (Deg C)', color='g',fontweight=\"bold\")\n",
    "    for tl in ax1.get_yticklabels():\n",
    "        tl.set_color('g')\n",
    "\n",
    "    #Relative to Absolute\n",
    "    rh=humidity\n",
    "    t=airtemp\n",
    "    Pws=[]\n",
    "    Pw=[]\n",
    "    ah=[]\n",
    "    for m in range(len(rh)):\n",
    "        Pws.append(6.1162*(10**((7.5892*t[m])/(t[m]+240.71))))\n",
    "    for m in range(len(rh)):\n",
    "        Pw.append(Pws[m]*(rh[m]/100))\n",
    "    for m in range(len(rh)):\n",
    "        ah.append(2.11679*((Pw[m]*100)/(273.16+t[m])))\n",
    "\n",
    "    ax2=ax1.twinx()\n",
    "    ax2.plot(htime,ah,'c-')\n",
    "    ylim(ymin=1,ymax=8)\n",
    "    minah=min(ah)\n",
    "    maxah=max(ah)\n",
    "    if maxah>=8:\n",
    "        ylim(ymax=(maxah+1))\n",
    "    if minah<=(1.0):\n",
    "        ylim(ymin=(minah-1))\n",
    "    locs,labels=xticks()\n",
    "    ax2.grid(axis='y', linewidth=0.15, linestyle='-', color='k')\n",
    "    ax2.set_ylabel('Absolute Humidity g/m^3', fontweight=\"bold\",color='c')\n",
    "    for tl in ax2.get_yticklabels():\n",
    "        tl.set_color('c')\n",
    "\n",
    "    ax3=fig.add_subplot(212)\n",
    "    ax3.grid(axis='y', linewidth=0.15, linestyle='-', color='k')\n",
    "    ax3.plot(ptime,p10,'r-')   #p10 is presssure divided by 10\n",
    "    \n",
    "    ylim(ymin=87,ymax=92)\n",
    "    minairpress=min(p10)\n",
    "    maxairpress=max(p10)\n",
    "    if maxairpress>=92:\n",
    "        ylim(ymax=(maxairpress+1))\n",
    "    if minairpress<=87:\n",
    "        ylim(ymin=(minairpress-1))\n",
    "    for i in range(len(locs)):\n",
    "        labels[i]=(\"%2.0f:%2.0f\"%(np.modf(locs[i])[1], np.modf(locs[i])[0]*60))\n",
    "    xticks(locs,labels)\n",
    "    ax3.grid(axis='y', linewidth=0.15, linestyle='-', color='k')\n",
    "    ax3.set_ylabel('Air Pressure (kPa)', fontweight=\"bold\",color='r')\n",
    "    for tl in ax3.get_yticklabels():\n",
    "        tl.set_color('r')\n",
    "    ax4=ax3.twinx()\n",
    "    ax4.plot(wtime,windspeed,'b-')\n",
    "    wspeed=windspeed\n",
    "    ylim(ymin=-0.5,ymax=16)\n",
    "    minwind=min(wspeed)\n",
    "    maxwind=max(wspeed)\n",
    "    if maxwind>=16:\n",
    "        ylim(ymax=(maxwind+1))\n",
    "    if minwind<=-0.5:\n",
    "        ylim(ymin=(minwind-1))\n",
    "    ax4.set_xlabel(\"UT on \"+starttime,fontweight=\"bold\")\n",
    "    ax4.set_ylabel('Wind Speed (m/s)',fontweight=\"bold\", color='b')\n",
    "    for tl in ax4.get_yticklabels():\n",
    "        tl.set_color('b')"
   ]
  },
  {
   "cell_type": "code",
   "execution_count": 10,
   "metadata": {
    "collapsed": false
   },
   "outputs": [
    {
     "name": "stderr",
     "output_type": "stream",
     "text": [
      "WARNING:katdal.h5datav3:Reapplied k7_capture baseline mask to fix unexpected number of baseline labels\n"
     ]
    },
    {
     "name": "stdout",
     "output_type": "stream",
     "text": [
      "Opening /var/kat/archive2/data/MeerKATAR1/telescope_products/2016/12/21/1482330484.h5 using katfile, this might take a while\n"
     ]
    }
   ],
   "source": [
    "print \"Opening %s using katfile, this might take a while\" % (filename,)\n",
    "f=katdal.open(filename)"
   ]
  },
  {
   "cell_type": "code",
   "execution_count": 11,
   "metadata": {
    "collapsed": false
   },
   "outputs": [],
   "source": [
    "starttime = time.strftime('%d %b %y', time.localtime(f.start_time))\n"
   ]
  },
  {
   "cell_type": "code",
   "execution_count": 12,
   "metadata": {
    "collapsed": false
   },
   "outputs": [],
   "source": [
    "#plot_environmental_sensors(f)"
   ]
  },
  {
   "cell_type": "code",
   "execution_count": 13,
   "metadata": {
    "collapsed": false,
    "scrolled": false
   },
   "outputs": [
    {
     "name": "stdout",
     "output_type": "stream",
     "text": [
      "===============================================================================\n",
      "Name: /var/kat/archive2/data/MeerKATAR1/telescope_products/2016/12/21/1482330484.h5 (version 3.0)\n",
      "===============================================================================\n",
      "Observer: AR1  Experiment ID: 20161221-0005\n",
      "Description: 'Three calibrator imaging'\n",
      "Observed from 2016-12-21 16:28:10.145 SAST to 2016-12-22 00:28:05.963 SAST\n",
      "Dump rate / period: 0.25011 Hz / 3.998 s\n",
      "Subarrays: 1\n",
      "  ID  Antennas                            Inputs  Corrprods\n",
      "   0  m003,m006,m008,m010,m014,m015,m021,m022,m025,m031,m062,m063  24      312\n",
      "Spectral Windows: 1\n",
      "  ID  Product    CentreFreq(MHz)  Bandwidth(MHz)  Channels  ChannelWidth(kHz)\n",
      "   0  bc856M4k    1284.000         856.000          4096      208.984\n",
      "-------------------------------------------------------------------------------\n",
      "Data selected according to the following criteria:\n",
      "  subarray=0\n",
      "  ants=['m008', 'm003', 'm014', 'm006', 'm063', 'm015', 'm021', 'm010', 'm022', 'm025', 'm031', 'm062']\n",
      "  spw=0\n",
      "-------------------------------------------------------------------------------\n",
      "Shape: (7202 dumps, 4096 channels, 312 correlation products) => Size: 73.630 GB\n",
      "Antennas: m003,m006,*m008,m010,m014,m015,m021,m022,m025,m031,m062,m063  Inputs: 24  Autocorr: yes  Crosscorr: yes\n",
      "Channels: 4096 (index 0 - 4095,  856.000 MHz - 1711.791 MHz), each 208.984 kHz wide\n",
      "Targets: 2 selected out of 2 in catalogue\n",
      "  ID  Name         Type      RA(J2000)     DEC(J2000)  Tags                       Dumps  ModelFlux(Jy)\n",
      "   0  PKS 1934-63  radec     19:39:25.03  -63:42:45.7  bfcal single_accumulation   2198      14.46\n",
      "   1  PKS 0408-65  radec      4:08:20.38  -65:45:09.1  bfcal single_accumulation   5004      14.81\n",
      "Scans: 142 selected out of 142 total       Compscans: 90 selected out of 90 total\n",
      "  Date        Timerange(UTC)       ScanState  CompScanLabel  Dumps  Target\n",
      "  21-Dec-2016/14:28:12 - 14:28:16    0:slew     0:track          2    0:PKS 1934-63\n",
      "              14:28:20 - 14:33:16    1:track    0:track         75    0:PKS 1934-63\n",
      "              14:33:20 - 14:33:52    2:slew     1:track          9    1:PKS 0408-65\n",
      "              14:33:55 - 14:38:55    3:track    1:track         76    1:PKS 0408-65\n",
      "              14:38:59 - 14:39:31    4:slew     2:track          9    0:PKS 1934-63\n",
      "              14:39:35 - 14:44:31    5:track    2:track         75    0:PKS 1934-63\n",
      "              14:44:35 - 14:45:07    6:slew     3:track          9    1:PKS 0408-65\n",
      "              14:45:11 - 14:50:07    7:track    3:track         75    1:PKS 0408-65\n",
      "              14:50:11 - 14:50:43    8:slew     4:track          9    0:PKS 1934-63\n",
      "              14:50:47 - 14:55:43    9:track    4:track         75    0:PKS 1934-63\n",
      "              14:55:47 - 14:56:23   10:slew     5:track         10    1:PKS 0408-65\n",
      "              14:56:27 - 15:01:19   11:track    5:track         74    1:PKS 0408-65\n",
      "              15:01:23 - 15:01:59   12:slew     6:track         10    0:PKS 1934-63\n",
      "              15:02:03 - 15:06:59   13:track    6:track         75    0:PKS 1934-63\n",
      "              15:07:03 - 15:07:35   14:slew     7:track          9    1:PKS 0408-65\n",
      "              15:07:39 - 15:12:35   15:track    7:track         75    1:PKS 0408-65\n",
      "              15:12:39 - 15:13:15   16:slew     8:track         10    0:PKS 1934-63\n",
      "              15:13:18 - 15:18:14   17:track    8:track         75    0:PKS 1934-63\n",
      "              15:18:18 - 15:18:54   18:slew     9:track         10    1:PKS 0408-65\n",
      "              15:18:58 - 15:23:50   19:track    9:track         74    1:PKS 0408-65\n",
      "              15:23:54 - 15:24:30   20:slew    10:track         10    0:PKS 1934-63\n",
      "              15:24:34 - 15:29:30   21:track   10:track         75    0:PKS 1934-63\n",
      "              15:29:34 - 15:30:10   22:slew    11:track         10    1:PKS 0408-65\n",
      "              15:30:14 - 15:35:10   23:track   11:track         75    1:PKS 0408-65\n",
      "              15:35:14 - 15:35:50   24:slew    12:track         10    0:PKS 1934-63\n",
      "              15:35:54 - 15:40:50   25:track   12:track         75    0:PKS 1934-63\n",
      "              15:40:54 - 15:41:26   26:slew    13:track          9    1:PKS 0408-65\n",
      "              15:41:30 - 15:46:26   27:track   13:track         75    1:PKS 0408-65\n",
      "              15:46:30 - 15:47:06   28:slew    14:track         10    0:PKS 1934-63\n",
      "              15:47:10 - 15:52:06   29:track   14:track         75    0:PKS 1934-63\n",
      "              15:52:10 - 15:52:45   30:slew    15:track         10    1:PKS 0408-65\n",
      "              15:52:49 - 15:57:45   31:track   15:track         75    1:PKS 0408-65\n",
      "              15:57:49 - 15:58:25   32:slew    16:track         10    0:PKS 1934-63\n",
      "              15:58:29 - 16:03:25   33:track   16:track         75    0:PKS 1934-63\n",
      "              16:03:29 - 16:04:05   34:slew    17:track         10    1:PKS 0408-65\n",
      "              16:04:09 - 16:09:05   35:track   17:track         75    1:PKS 0408-65\n",
      "              16:09:09 - 16:09:45   36:slew    18:track         10    0:PKS 1934-63\n",
      "              16:09:49 - 16:14:45   37:track   18:track         75    0:PKS 1934-63\n",
      "              16:14:49 - 16:15:25   38:slew    19:track         10    1:PKS 0408-65\n",
      "              16:15:29 - 16:20:25   39:track   19:track         75    1:PKS 0408-65\n",
      "              16:20:29 - 16:21:05   40:slew    20:track         10    0:PKS 1934-63\n",
      "              16:21:09 - 16:26:05   41:track   20:track         75    0:PKS 1934-63\n",
      "              16:26:09 - 16:26:45   42:slew    21:track         10    1:PKS 0408-65\n",
      "              16:26:49 - 16:31:45   43:track   21:track         75    1:PKS 0408-65\n",
      "              16:31:49 - 16:32:24   44:slew    22:track         10    0:PKS 1934-63\n",
      "              16:32:28 - 16:37:24   45:track   22:track         75    0:PKS 1934-63\n",
      "              16:37:28 - 16:38:04   46:slew    23:track         10    1:PKS 0408-65\n",
      "              16:38:08 - 16:43:04   47:track   23:track         75    1:PKS 0408-65\n",
      "              16:43:08 - 16:43:44   48:slew    24:track         10    0:PKS 1934-63\n",
      "              16:43:48 - 16:48:44   49:track   24:track         75    0:PKS 1934-63\n",
      "              16:48:48 - 16:49:24   50:slew    25:track         10    1:PKS 0408-65\n",
      "              16:49:28 - 16:54:24   51:track   25:track         75    1:PKS 0408-65\n",
      "              16:54:28 - 16:55:04   52:slew    26:track         10    0:PKS 1934-63\n",
      "              16:55:08 - 17:00:00   53:track   26:track         74    0:PKS 1934-63\n",
      "              17:00:04 - 17:00:40   54:slew    27:track         10    1:PKS 0408-65\n",
      "              17:00:44 - 17:05:40   55:track   27:track         75    1:PKS 0408-65\n",
      "              17:05:44 - 17:06:20   56:slew    28:track         10    0:PKS 1934-63\n",
      "              17:06:24 - 17:11:20   57:track   28:track         75    0:PKS 1934-63\n",
      "              17:11:24 - 17:11:59   58:slew    29:track         10    1:PKS 0408-65\n",
      "              17:12:03 - 17:16:59   59:track   29:track         75    1:PKS 0408-65\n",
      "              17:17:03 - 17:17:39   60:slew    30:track         10    0:PKS 1934-63\n",
      "              17:17:43 - 17:22:35   61:track   30:track         74    0:PKS 1934-63\n",
      "              17:22:39 - 17:23:15   62:slew    31:track         10    1:PKS 0408-65\n",
      "              17:23:19 - 17:28:15   63:track   31:track         75    1:PKS 0408-65\n",
      "              17:28:19 - 17:28:55   64:slew    32:track         10    0:PKS 1934-63\n",
      "              17:28:59 - 17:33:55   65:track   32:track         75    0:PKS 1934-63\n",
      "              17:33:59 - 17:34:31   66:slew    33:track          9    1:PKS 0408-65\n",
      "              17:34:35 - 17:39:31   67:track   33:track         75    1:PKS 0408-65\n",
      "              17:39:35 - 17:40:11   68:slew    34:track         10    0:PKS 1934-63\n",
      "              17:40:15 - 17:45:11   69:track   34:track         75    0:PKS 1934-63\n",
      "              17:45:15 - 17:45:47   70:slew    35:track          9    1:PKS 0408-65\n",
      "              17:45:51 - 17:50:47   71:track   35:track         75    1:PKS 0408-65\n",
      "              17:50:51 - 17:51:26   72:slew    36:track         10    0:PKS 1934-63\n",
      "              17:51:30 - 17:56:26   73:track   36:track         75    0:PKS 1934-63\n",
      "              17:56:30 - 17:57:02   74:slew    37:track          9    1:PKS 0408-65\n",
      "              17:57:06 - 18:02:02   75:track   37:track         75    1:PKS 0408-65\n",
      "              18:02:06 - 18:02:38   76:slew    38:track          9    0:PKS 1934-63\n",
      "              18:02:42 - 18:07:38   77:track   38:track         75    0:PKS 1934-63\n",
      "              18:07:42 - 18:08:14   78:slew    39:track          9    1:PKS 0408-65\n",
      "              18:08:18 - 18:13:14   79:track   39:track         75    1:PKS 0408-65\n",
      "              18:13:18 - 18:13:50   80:slew    40:track          9    0:PKS 1934-63\n",
      "              18:13:54 - 18:18:50   81:track   40:track         75    0:PKS 1934-63\n",
      "              18:18:54 - 18:19:26   82:slew    41:track          9    1:PKS 0408-65\n",
      "              18:19:30 - 18:24:26   83:track   41:track         75    1:PKS 0408-65\n",
      "              18:24:30 - 18:25:02   84:slew    42:track          9    0:PKS 1934-63\n",
      "              18:25:06 - 18:30:02   85:track   42:track         75    0:PKS 1934-63\n",
      "              18:30:06 - 18:30:37   86:slew    43:track          9    1:PKS 0408-65\n",
      "              18:30:41 - 18:35:41   87:track   43:track         76    1:PKS 0408-65\n",
      "              18:35:45 - 18:36:17   88:slew    44:track          9    0:PKS 1934-63\n",
      "              18:36:21 - 18:41:21   89:track   44:track         76    0:PKS 1934-63\n",
      "              18:41:25 - 18:41:57   90:slew    45:track          9    1:PKS 0408-65\n",
      "              18:42:01 - 18:46:57   91:track   45:track         75    1:PKS 0408-65\n",
      "              18:47:01 - 18:47:37   92:slew    46:track         10    0:PKS 1934-63\n",
      "              18:47:41 - 18:52:41   93:track   46:track         76    0:PKS 1934-63\n",
      "              18:52:45 - 18:53:17   94:slew    47:track          9    1:PKS 0408-65\n",
      "              18:53:21 - 18:58:21   95:track   47:track         76    1:PKS 0408-65\n",
      "              18:58:25 - 18:59:01   96:slew    48:track         10    0:PKS 1934-63\n",
      "              18:59:05 - 19:04:05   97:track   48:track         76    0:PKS 1934-63\n",
      "              19:04:09 - 19:04:45   98:slew    49:track         10    1:PKS 0408-65\n",
      "              19:04:49 - 19:09:44   99:track   49:track         75    1:PKS 0408-65\n",
      "              19:09:48 - 19:10:28  100:slew    50:track         11    0:PKS 1934-63\n",
      "              19:10:32 - 19:15:28  101:track   50:track         75    0:PKS 1934-63\n",
      "              19:15:32 - 19:16:12  102:slew    51:track         11    1:PKS 0408-65\n",
      "              19:16:16 - 19:21:16  103:track   51:track         76    1:PKS 0408-65\n",
      "              19:21:20 - 19:26:16  104:track   52:track         75    1:PKS 0408-65\n",
      "              19:26:20 - 19:31:16  105:track   53:track         75    1:PKS 0408-65\n",
      "              19:31:20 - 19:36:16  106:track   54:track         75    1:PKS 0408-65\n",
      "              19:36:20 - 19:41:16  107:track   55:track         75    1:PKS 0408-65\n",
      "              19:41:20 - 19:46:16  108:track   56:track         75    1:PKS 0408-65\n",
      "              19:46:20 - 19:51:15  109:track   57:track         75    1:PKS 0408-65\n",
      "              19:51:19 - 19:56:15  110:track   58:track         75    1:PKS 0408-65\n",
      "              19:56:19 - 20:01:15  111:track   59:track         75    1:PKS 0408-65\n",
      "              20:01:19 - 20:06:15  112:track   60:track         75    1:PKS 0408-65\n",
      "              20:06:19 - 20:11:19  113:track   61:track         76    1:PKS 0408-65\n",
      "              20:11:23 - 20:16:19  114:track   62:track         75    1:PKS 0408-65\n",
      "              20:16:23 - 20:21:19  115:track   63:track         75    1:PKS 0408-65\n",
      "              20:21:23 - 20:26:19  116:track   64:track         75    1:PKS 0408-65\n",
      "              20:26:23 - 20:31:18  117:track   65:track         75    1:PKS 0408-65\n",
      "              20:31:22 - 20:36:18  118:track   66:track         75    1:PKS 0408-65\n",
      "              20:36:22 - 20:41:18  119:track   67:track         75    1:PKS 0408-65\n",
      "              20:41:22 - 20:46:18  120:track   68:track         75    1:PKS 0408-65\n",
      "              20:46:22 - 20:51:18  121:track   69:track         75    1:PKS 0408-65\n",
      "              20:51:22 - 20:56:18  122:track   70:track         75    1:PKS 0408-65\n",
      "              20:56:22 - 21:01:18  123:track   71:track         75    1:PKS 0408-65\n",
      "              21:01:22 - 21:06:22  124:track   72:track         76    1:PKS 0408-65\n",
      "              21:06:26 - 21:11:21  125:track   73:track         75    1:PKS 0408-65\n",
      "              21:11:25 - 21:16:21  126:track   74:track         75    1:PKS 0408-65\n",
      "              21:16:25 - 21:21:21  127:track   75:track         75    1:PKS 0408-65\n",
      "              21:21:25 - 21:26:21  128:track   76:track         75    1:PKS 0408-65\n",
      "              21:26:25 - 21:31:21  129:track   77:track         75    1:PKS 0408-65\n",
      "              21:31:25 - 21:36:21  130:track   78:track         75    1:PKS 0408-65\n",
      "              21:36:25 - 21:41:21  131:track   79:track         75    1:PKS 0408-65\n",
      "              21:41:25 - 21:46:21  132:track   80:track         75    1:PKS 0408-65\n",
      "              21:46:25 - 21:51:20  133:track   81:track         75    1:PKS 0408-65\n",
      "              21:51:24 - 21:56:20  134:track   82:track         75    1:PKS 0408-65\n",
      "              21:56:24 - 22:01:24  135:track   83:track         76    1:PKS 0408-65\n",
      "              22:01:28 - 22:06:24  136:track   84:track         75    1:PKS 0408-65\n",
      "              22:06:28 - 22:11:24  137:track   85:track         75    1:PKS 0408-65\n",
      "              22:11:28 - 22:16:24  138:track   86:track         75    1:PKS 0408-65\n",
      "              22:16:28 - 22:21:24  139:track   87:track         75    1:PKS 0408-65\n",
      "              22:21:28 - 22:26:24  140:track   88:track         75    1:PKS 0408-65\n",
      "              22:26:28 - 22:28:03  141:track   89:track         25    1:PKS 0408-65\n"
     ]
    },
    {
     "data": {
      "image/png": "[encoded data removed]",
      "text/plain": [
       "<matplotlib.figure.Figure at 0x7f1690191bd0>"
      ]
     },
     "metadata": {},
     "output_type": "display_data"
    }
   ],
   "source": [
    "#start a figure\n",
    "figure(figsize = (13,6))\n",
    "axes(frame_on=False)\n",
    "xticks([])\n",
    "yticks([])\n",
    "title(filename+\" Observation Report\",fontsize=14, fontweight=\"bold\")\n",
    "\n",
    "frontpage = make_frontpage(f)\n",
    "text(0,0,frontpage,fontsize=12)\n",
    "print f"
   ]
  },
  {
   "cell_type": "code",
   "execution_count": null,
   "metadata": {
    "collapsed": false
   },
   "outputs": [
    {
     "name": "stdout",
     "output_type": "stream",
     "text": [
      "[<katpoint.Antenna 'm003' diam=13.5m at 0x7f16570fc790>, <katpoint.Antenna 'm006' diam=13.5m at 0x7f16571156d0>, <katpoint.Antenna 'm008' diam=13.5m at 0x7f1657104750>, <katpoint.Antenna 'm010' diam=13.5m at 0x7f165710ced0>, <katpoint.Antenna 'm014' diam=13.5m at 0x7f16570f67d0>, <katpoint.Antenna 'm015' diam=13.5m at 0x7f1657104f10>, <katpoint.Antenna 'm021' diam=13.5m at 0x7f16570ec110>, <katpoint.Antenna 'm022' diam=13.5m at 0x7f16570ecfd0>, <katpoint.Antenna 'm025' diam=13.5m at 0x7f16570ec810>, <katpoint.Antenna 'm031' diam=13.5m at 0x7f16570fcf50>, <katpoint.Antenna 'm062' diam=13.5m at 0x7f165710c710>, <katpoint.Antenna 'm063' diam=13.5m at 0x7f16570f6f90>]\n"
     ]
    }
   ],
   "source": [
    "count=0\n",
    "ants=f.ants\n",
    "pol=['h','v']\n",
    "print ants"
   ]
  },
  {
   "cell_type": "code",
   "execution_count": null,
   "metadata": {
    "collapsed": false
   },
   "outputs": [],
   "source": [
    "for ant in ants:\n",
    "    plot_spectrum(pol,filename,starttime,ant)"
   ]
  },
  {
   "cell_type": "code",
   "execution_count": null,
   "metadata": {
    "collapsed": false
   },
   "outputs": [],
   "source": [
    "print len(f.channels)"
   ]
  },
  {
   "cell_type": "code",
   "execution_count": null,
   "metadata": {
    "collapsed": false
   },
   "outputs": [],
   "source": [
    "f.select()\n",
    "if f.catalogue.filter(tags='bpcal'):\n",
    "    print \"Plotting bpcal fringes.\"\n",
    "    plot_bpcal_selection(f)\n",
    "else:\n",
    "    print \"No bpcal tags found in catalog, we wont plot bpcal fringes.\""
   ]
  },
  {
   "cell_type": "code",
   "execution_count": null,
   "metadata": {
    "collapsed": false
   },
   "outputs": [],
   "source": [
    "if f.catalogue.filter(tags='target'):\n",
    "    print \"Plotting target correlation spectra.\"\n",
    "    plot_target_selection(f)\n",
    "else:\n",
    "    print \"No target tags found in catalog, we wont plot the target cross correlation spectra.\""
   ]
  },
  {
   "cell_type": "code",
   "execution_count": null,
   "metadata": {
    "collapsed": false
   },
   "outputs": [],
   "source": [
    "\n",
    "starttime = time.strftime('%d %b %y', time.localtime(f.start_time))\n",
    "plot_time_series(ants, pol[0], count, starttime)\n",
    "count=count+1\n",
    "plot_time_series(ants, pol[1], count, starttime)"
   ]
  },
  {
   "cell_type": "code",
   "execution_count": null,
   "metadata": {
    "collapsed": false
   },
   "outputs": [],
   "source": [
    "f.file['TelescopeModel'].keys()"
   ]
  },
  {
   "cell_type": "code",
   "execution_count": null,
   "metadata": {
    "collapsed": false
   },
   "outputs": [],
   "source": [
    "pas = f.file['TelescopeModel'][u'obs'][u'params']\n"
   ]
  },
  {
   "cell_type": "code",
   "execution_count": null,
   "metadata": {
    "collapsed": false
   },
   "outputs": [],
   "source": [
    "m1= f.file['TelescopeModel'][u'm001']\n",
    "print m1.keys()"
   ]
  },
  {
   "cell_type": "code",
   "execution_count": null,
   "metadata": {
    "collapsed": false
   },
   "outputs": [],
   "source": [
    "kl= f.file[\"TelescopeState\"].keys()\n",
    "kl"
   ]
  },
  {
   "cell_type": "code",
   "execution_count": null,
   "metadata": {
    "collapsed": false
   },
   "outputs": [],
   "source": [
    "print f.file[\"TelescopeState\"][u'cal_param_kcross_chanave']"
   ]
  }
 ],
 "metadata": {
  "kernelspec": {
   "display_name": "Python 2",
   "language": "python",
   "name": "python2"
  },
  "language_info": {
   "codemirror_mode": {
    "name": "ipython",
    "version": 2
   },
   "file_extension": ".py",
   "mimetype": "text/x-python",
   "name": "python",
   "nbconvert_exporter": "python",
   "pygments_lexer": "ipython2",
   "version": "2.7.6"
  }
 },
 "nbformat": 4,
 "nbformat_minor": 0
}
