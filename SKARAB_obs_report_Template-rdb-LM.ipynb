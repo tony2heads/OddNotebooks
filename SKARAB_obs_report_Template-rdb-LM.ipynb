{
 "cells": [
  {
   "cell_type": "markdown",
   "metadata": {},
   "source": [
    "# AR1 Observation report"
   ]
  },
  {
   "cell_type": "code",
   "execution_count": 1,
   "metadata": {},
   "outputs": [
    {
     "name": "stdout",
     "output_type": "stream",
     "text": [
      "katsdpscripts version: 0.1.dev3221+master.3208525\n",
      "\n",
      " Starting  m007 \n",
      "\n"
     ]
    },
    {
     "ename": "AttributeError",
     "evalue": "'module' object has no attribute 'DataSet'",
     "output_type": "error",
     "traceback": [
      "\u001b[0;31m---------------------------------------------------------------------------\u001b[0m",
      "\u001b[0;31mAttributeError\u001b[0m                            Traceback (most recent call last)",
      "\u001b[0;32m<ipython-input-1-81bc52857c60>\u001b[0m in \u001b[0;36m<module>\u001b[0;34m()\u001b[0m\n\u001b[0;32m----> 1\u001b[0;31m \u001b[0;32mimport\u001b[0m \u001b[0mkatdal\u001b[0m\u001b[0;34m\u001b[0m\u001b[0m\n\u001b[0m\u001b[1;32m      2\u001b[0m \u001b[0;32mimport\u001b[0m \u001b[0mkatsdptelstate\u001b[0m\u001b[0;34m\u001b[0m\u001b[0m\n",
      "\u001b[0;32mbuild/bdist.linux-x86_64/egg/katdal/__init__.py\u001b[0m in \u001b[0;36m<module>\u001b[0;34m()\u001b[0m\n\u001b[1;32m    221\u001b[0m \u001b[0;32mfrom\u001b[0m \u001b[0m__future__\u001b[0m \u001b[0;32mimport\u001b[0m \u001b[0mprint_function\u001b[0m\u001b[0;34m,\u001b[0m \u001b[0mdivision\u001b[0m\u001b[0;34m,\u001b[0m \u001b[0mabsolute_import\u001b[0m\u001b[0;34m\u001b[0m\u001b[0m\n\u001b[1;32m    222\u001b[0m \u001b[0;32mfrom\u001b[0m \u001b[0mfuture\u001b[0m \u001b[0;32mimport\u001b[0m \u001b[0mstandard_library\u001b[0m\u001b[0;34m\u001b[0m\u001b[0m\n\u001b[0;32m--> 223\u001b[0;31m \u001b[0mstandard_library\u001b[0m\u001b[0;34m.\u001b[0m\u001b[0minstall_aliases\u001b[0m\u001b[0;34m(\u001b[0m\u001b[0;34m)\u001b[0m  \u001b[0;31m# noqa: E402\u001b[0m\u001b[0;34m\u001b[0m\u001b[0m\n\u001b[0m\u001b[1;32m    224\u001b[0m \u001b[0;32mfrom\u001b[0m \u001b[0mpast\u001b[0m\u001b[0;34m.\u001b[0m\u001b[0mbuiltins\u001b[0m \u001b[0;32mimport\u001b[0m \u001b[0mbasestring\u001b[0m\u001b[0;34m\u001b[0m\u001b[0m\n\u001b[1;32m    225\u001b[0m \u001b[0;34m\u001b[0m\u001b[0m\n",
      "\u001b[0;32m/usr/lib/python2.7/dist-packages/future/standard_library/__init__.pyc\u001b[0m in \u001b[0;36minstall_aliases\u001b[0;34m()\u001b[0m\n\u001b[1;32m    481\u001b[0m     \u001b[0;31m# Patch the test module so it appears to have the same structure on Py2 as on Py3\u001b[0m\u001b[0;34m\u001b[0m\u001b[0;34m\u001b[0m\u001b[0m\n\u001b[1;32m    482\u001b[0m     \u001b[0;32mtry\u001b[0m\u001b[0;34m:\u001b[0m\u001b[0;34m\u001b[0m\u001b[0m\n\u001b[0;32m--> 483\u001b[0;31m         \u001b[0;32mimport\u001b[0m \u001b[0mtest\u001b[0m\u001b[0;34m\u001b[0m\u001b[0m\n\u001b[0m\u001b[1;32m    484\u001b[0m     \u001b[0;32mexcept\u001b[0m \u001b[0mImportError\u001b[0m\u001b[0;34m:\u001b[0m\u001b[0;34m\u001b[0m\u001b[0m\n\u001b[1;32m    485\u001b[0m         \u001b[0;32mpass\u001b[0m\u001b[0;34m\u001b[0m\u001b[0m\n",
      "\u001b[0;32m/home/tony/Desktop/PythonScripts/Notebooks/test.py\u001b[0m in \u001b[0;36m<module>\u001b[0;34m()\u001b[0m\n\u001b[1;32m     14\u001b[0m     \u001b[0;32mprint\u001b[0m \u001b[0;34m\"\\n Starting \"\u001b[0m\u001b[0;34m,\u001b[0m\u001b[0mbaseline\u001b[0m\u001b[0;34m,\u001b[0m\u001b[0;34m\"\\n\"\u001b[0m\u001b[0;34m\u001b[0m\u001b[0m\n\u001b[1;32m     15\u001b[0m     \u001b[0mopts\u001b[0m \u001b[0;34m=\u001b[0m \u001b[0mmy_opts\u001b[0m\u001b[0;34m(\u001b[0m\u001b[0moutfilebase\u001b[0m\u001b[0;34m=\u001b[0m\u001b[0mNone\u001b[0m\u001b[0;34m,\u001b[0m \u001b[0mkeepfilename\u001b[0m\u001b[0;34m=\u001b[0m\u001b[0mNone\u001b[0m\u001b[0;34m,\u001b[0m \u001b[0mbaseline\u001b[0m\u001b[0;34m=\u001b[0m\u001b[0mbaseline\u001b[0m\u001b[0;34m,\u001b[0m \u001b[0mmc_iterations\u001b[0m\u001b[0;34m=\u001b[0m\u001b[0;36m1\u001b[0m\u001b[0;34m,\u001b[0m \u001b[0mfreq_centre\u001b[0m\u001b[0;34m=\u001b[0m\u001b[0;36m1284.0\u001b[0m\u001b[0;34m,\u001b[0m     \u001b[0mfreq_chans\u001b[0m\u001b[0;34m=\u001b[0m\u001b[0;34m\"200,4000\"\u001b[0m\u001b[0;34m,\u001b[0m \u001b[0mchannel_mask\u001b[0m\u001b[0;34m=\u001b[0m\u001b[0;34m'/var/kat/katsdpscripts/RTS/rfi_mask.pickle'\u001b[0m\u001b[0;34m,\u001b[0m     \u001b[0mtime_offset\u001b[0m\u001b[0;34m=\u001b[0m\u001b[0;36m0.0\u001b[0m\u001b[0;34m,\u001b[0m \u001b[0mpointing_model\u001b[0m\u001b[0;34m=\u001b[0m\u001b[0mNone\u001b[0m\u001b[0;34m,\u001b[0m \u001b[0mold_loader\u001b[0m\u001b[0;34m=\u001b[0m\u001b[0mNone\u001b[0m\u001b[0;34m,\u001b[0m \u001b[0mnd_models\u001b[0m\u001b[0;34m=\u001b[0m\u001b[0mNone\u001b[0m\u001b[0;34m,\u001b[0m     \u001b[0mku_band\u001b[0m\u001b[0;34m=\u001b[0m\u001b[0mFalse\u001b[0m\u001b[0;34m,\u001b[0m \u001b[0mkeep_all\u001b[0m\u001b[0;34m=\u001b[0m\u001b[0mFalse\u001b[0m\u001b[0;34m,\u001b[0m\u001b[0mremove_spikes\u001b[0m\u001b[0;34m=\u001b[0m\u001b[0mFalse\u001b[0m\u001b[0;34m,\u001b[0m\u001b[0mbatch\u001b[0m\u001b[0;34m=\u001b[0m\u001b[0mTrue\u001b[0m\u001b[0;34m,\u001b[0m\u001b[0mplot_spectrum\u001b[0m\u001b[0;34m=\u001b[0m\u001b[0mFalse\u001b[0m\u001b[0;34m)\u001b[0m\u001b[0;34m\u001b[0m\u001b[0m\n\u001b[0;32m---> 16\u001b[0;31m     \u001b[0manalyse_point_source_scans\u001b[0m\u001b[0;34m(\u001b[0m\u001b[0mh5name\u001b[0m\u001b[0;34m,\u001b[0m\u001b[0mopts\u001b[0m\u001b[0;34m)\u001b[0m\u001b[0;34m\u001b[0m\u001b[0m\n\u001b[0m\u001b[1;32m     17\u001b[0m     \u001b[0;32mprint\u001b[0m \u001b[0;34m\"\\n\\n***************Done\"\u001b[0m\u001b[0;34m,\u001b[0m\u001b[0mbaseline\u001b[0m\u001b[0;34m,\u001b[0m\u001b[0;34m\"*************\\n\"\u001b[0m\u001b[0;34m\u001b[0m\u001b[0m\n\u001b[1;32m     18\u001b[0m \u001b[0;32mprint\u001b[0m \u001b[0;34m\"\\nDONE ALL\"\u001b[0m\u001b[0;34m\u001b[0m\u001b[0m\n",
      "\u001b[0;32m/usr/local/lib/python2.7/dist-packages/katsdpscripts-0.1.dev3221+master.3208525-py2.7-linux-x86_64.egg/katsdpscripts/reduction/analyse_point_source_scans.pyc\u001b[0m in \u001b[0;36manalyse_point_source_scans\u001b[0;34m(filename, opts)\u001b[0m\n\u001b[1;32m    367\u001b[0m     \u001b[0;31m# Load data set\u001b[0m\u001b[0;34m\u001b[0m\u001b[0;34m\u001b[0m\u001b[0m\n\u001b[1;32m    368\u001b[0m     \u001b[0mlogger\u001b[0m\u001b[0;34m.\u001b[0m\u001b[0minfo\u001b[0m\u001b[0;34m(\u001b[0m\u001b[0;34m\"Loading dataset '%s'\"\u001b[0m \u001b[0;34m%\u001b[0m \u001b[0;34m(\u001b[0m\u001b[0mfilename\u001b[0m\u001b[0;34m,\u001b[0m\u001b[0;34m)\u001b[0m\u001b[0;34m)\u001b[0m\u001b[0;34m\u001b[0m\u001b[0m\n\u001b[0;32m--> 369\u001b[0;31m     dataset = scape.DataSet(filename, baseline=opts.baseline, nd_models=opts.nd_models,\n\u001b[0m\u001b[1;32m    370\u001b[0m                             time_offset=opts.time_offset, katfile=not opts.old_loader, **kwargs)\n\u001b[1;32m    371\u001b[0m \u001b[0;34m\u001b[0m\u001b[0m\n",
      "\u001b[0;31mAttributeError\u001b[0m: 'module' object has no attribute 'DataSet'"
     ]
    }
   ],
   "source": [
    "import katdal\n",
    "import katsdptelstate"
   ]
  },
  {
   "cell_type": "code",
   "execution_count": null,
   "metadata": {},
   "outputs": [],
   "source": [
    "\n",
    "rdb=\"http://stgr1.sdp.mkat.chpc.kat.ac.za:7480/1524852817/1524852817_sdp_l0.rdb\"\n",
    "\n"
   ]
  },
  {
   "cell_type": "code",
   "execution_count": null,
   "metadata": {},
   "outputs": [],
   "source": [
    "data = katdal.open(rdb)\n",
    "\n",
    "ind = []\n",
    "\n",
    "for c in data.corr_products:\n",
    "\n",
    "    if ('m000h' in c[0]) and (c[-1].endswith('h')):\n",
    "\n",
    "        ind.append(True)\n",
    "\n",
    "    else:\n",
    "\n",
    "        ind.append(False)\n",
    "\n",
    "ants = data.corr_products[ind]\n",
    "\n",
    "data.select(targets=[0,2],scans='track',corrprods=ind,pol='h',channels=slice(2000,3800))\n",
    "\n",
    "vis = data.vis[:]\n",
    "\n",
    "for i in range(1,61):\n",
    "\n",
    "    subplot(6,10,i)\n",
    "\n",
    "    imshow(angle(vis[:,:,i]),aspect = 'auto')\n",
    "\n",
    "    xticks([])\n",
    "\n",
    "    yticks([])\n",
    "\n",
    "    title(ants[i][-1])"
   ]
  }
 ],
 "metadata": {
  "kernelspec": {
   "display_name": "Python 2",
   "language": "python",
   "name": "python2"
  },
  "language_info": {
   "codemirror_mode": {
    "name": "ipython",
    "version": 2
   },
   "file_extension": ".py",
   "mimetype": "text/x-python",
   "name": "python",
   "nbconvert_exporter": "python",
   "pygments_lexer": "ipython2",
   "version": "2.7.17"
  }
 },
 "nbformat": 4,
 "nbformat_minor": 1
}
