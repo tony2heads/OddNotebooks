{
 "metadata": {
  "name": "",
  "signature": "sha256:b13436f162fc09ef1cdc504d788f0f0b4e98149b5902b382fc33052e4f08bbb9"
 },
 "nbformat": 3,
 "nbformat_minor": 0,
 "worksheets": [
  {
   "cells": [
    {
     "cell_type": "code",
     "collapsed": true,
     "input": [
      "from pytpm import tpm,convert\n",
      "ra_j2000 = tpm.HMS(hh=12, mm=22, ss=54.899).to_radians()\n",
      "dec_j2000 = tpm.DMS(dd=15, mm=49, ss=20.57).to_radians()\n",
      "v6=convert.cat2v6(ra_j2000,dec_j2000)"
     ],
     "language": "python",
     "metadata": {},
     "outputs": [],
     "prompt_number": 1
    },
    {
     "cell_type": "code",
     "collapsed": false,
     "input": [
      "v6_fk4 = convert.convertv6(v6, s1=6, s2=5, epoch=tpm.J2000,equinox=tpm.J2000)\n",
      "d=convert.v62cat(v6_fk4,C=tpm.CB)\n",
      "print tpm.HMS(r=d['alpha']),tpm.DMS(r=d['delta'])"
     ],
     "language": "python",
     "metadata": {},
     "outputs": [
      {
       "output_type": "stream",
       "stream": "stdout",
       "text": [
        " 12H 20M 22.935S +16D 05' 58.024\"\n"
       ]
      }
     ],
     "prompt_number": 2
    },
    {
     "cell_type": "code",
     "collapsed": false,
     "input": [
      "v6_fk4_ep1950 = convert.proper_motion(v6_fk4, tpm.B1950, tpm.J2000)\n",
      "d = convert.v62cat(v6_fk4_ep1950, C=tpm.CB)\n",
      "print tpm.HMS(r=d['alpha']),tpm.DMS(r=d['delta'])"
     ],
     "language": "python",
     "metadata": {},
     "outputs": [
      {
       "output_type": "stream",
       "stream": "stdout",
       "text": [
        " 12H 20M 22.943S +16D 05' 58.241\"\n"
       ]
      }
     ],
     "prompt_number": 3
    },
    {
     "cell_type": "code",
     "collapsed": false,
     "input": [
      "#v6 = convert.cat2v6(ra_j2000, dec_j2000)\n",
      "v6_gal = convert.convertv6(v6, s1=6, s2=4, epoch=tpm.J2000,equinox=tpm.J2000)\n",
      "d = convert.v62cat(v6_gal)\n",
      "print tpm.r2d(d['alpha']),tpm.r2d(d['delta'])"
     ],
     "language": "python",
     "metadata": {},
     "outputs": [
      {
       "output_type": "stream",
       "stream": "stdout",
       "text": [
        "271.136139562 76.8988689751\n"
       ]
      }
     ],
     "prompt_number": 4
    },
    {
     "cell_type": "code",
     "collapsed": false,
     "input": [
      "gal_lon = tpm.d2r(271.1361)\n",
      "gal_lat = tpm.d2r(76.8989)\n",
      "v6 = convert.cat2v6(gal_lon, gal_lat)\n",
      "v6_fk5 = convert.convertv6(v6, s1=4, s2=6, epoch=tpm.J2000)\n",
      "d = convert.v62cat(v6_fk5)\n",
      "print tpm.HMS(r=d['alpha']),tpm.DMS(r=d['delta'])"
     ],
     "language": "python",
     "metadata": {},
     "outputs": [
      {
       "output_type": "stream",
       "stream": "stdout",
       "text": [
        " 12H 22M 54.900S +15D 49' 20.683\"\n"
       ]
      }
     ],
     "prompt_number": 5
    },
    {
     "cell_type": "code",
     "collapsed": false,
     "input": [
      "utc = tpm.gcal2j(2010, 1, 1) - 0.5  # midnight\n",
      "tdb = tpm.utc2tdb(utc)\n",
      "tt=tdb\n",
      "ra_j2000 = tpm.HMS(hh=12, mm=22, ss=54.899).to_radians()\n",
      "dec_j2000 = tpm.DMS(dd=15, mm=49, ss=20.57).to_radians()\n",
      "v6 = convert.cat2v6(ra_j2000, dec_j2000)\n",
      "v6 = convert.proper_motion(v6, tt, tpm.J2000)\n",
      "v6_gc = convert.convertv6(v6, s1=6, s2=11, utc=utc)\n",
      "d = convert.v62cat(v6_gc)\n",
      "print tpm.r2d(d['alpha']),tpm.r2d(d['delta'])"
     ],
     "language": "python",
     "metadata": {},
     "outputs": [
      {
       "output_type": "stream",
       "stream": "stdout",
       "text": [
        "185.860038856 15.7631353482\n"
       ]
      }
     ],
     "prompt_number": 6
    },
    {
     "cell_type": "code",
     "collapsed": false,
     "input": [
      "tstate = tpm.TSTATE()\n",
      "tpm.tpm_data(tstate, tpm.TPM_INIT)\n",
      "tstate.utc = utc\n",
      "tstate.delta_ut = tpm.delta_UT(utc)\n",
      "tstate.delta_at = tpm.delta_AT(utc)\n",
      "tstate.lon = tpm.d2r(-111.598333) #longitude\n",
      "tstate.lat = tpm.d2r(31.956389)   #latitude\n",
      "tpm.tpm_data(tstate, tpm.TPM_ALL)\n",
      "last = tpm.r2d(tpm.r2r(tstate.last))\n",
      "last = last - tpm.r2d(d['alpha']) # modulo 360degrees\n",
      "print last"
     ],
     "language": "python",
     "metadata": {},
     "outputs": [
      {
       "output_type": "stream",
       "stream": "stdout",
       "text": [
        "163.08964177\n"
       ]
      }
     ],
     "prompt_number": 7
    },
    {
     "cell_type": "code",
     "collapsed": true,
     "input": [],
     "language": "python",
     "metadata": {},
     "outputs": [],
     "prompt_number": 7
    }
   ],
   "metadata": {}
  }
 ]
}