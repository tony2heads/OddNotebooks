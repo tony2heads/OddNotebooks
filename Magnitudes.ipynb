{
 "metadata": {
  "name": "",
  "signature": "sha256:614efb20d8d071d82767eeda8677d1496dc7c3e49f941549abf8fde3a4199a87"
 },
 "nbformat": 3,
 "nbformat_minor": 0,
 "worksheets": [
  {
   "cells": [
    {
     "cell_type": "code",
     "collapsed": false,
     "input": [
      "# Lookup table by band is wanted\n",
      "import math\n",
      "\n",
      "F={'U':1.88e-23, 'B':4.44e-23, 'V':3.81e-23, 'R':3.01e-23, 'I':2.43e-23, 'J':1.77e-23, 'K':6.3e-24,\\\n",
      "   'L':3.1e-24, 'M':1.8e-24, 'N':4.3e-25 }"
     ],
     "language": "python",
     "metadata": {},
     "outputs": [],
     "prompt_number": 53
    },
    {
     "cell_type": "code",
     "collapsed": false,
     "input": [
      "print F['U']"
     ],
     "language": "python",
     "metadata": {},
     "outputs": [
      {
       "output_type": "stream",
       "stream": "stdout",
       "text": [
        "1.88e-23\n"
       ]
      }
     ],
     "prompt_number": 54
    },
    {
     "cell_type": "code",
     "collapsed": false,
     "input": [
      "def jansky(mag,band):\n",
      "    jy=F[band]*10**(26-0.4*mag)\n",
      "    return jy\n",
      "\n",
      "for band in ('U','B','V','R','I'):\n",
      "    print(\"%s %.3e\") %(band, jansky(16,band))"
     ],
     "language": "python",
     "metadata": {},
     "outputs": [
      {
       "output_type": "stream",
       "stream": "stdout",
       "text": [
        "U 7.484e-04\n",
        "B 1.768e-03\n",
        "V 1.517e-03\n",
        "R 1.198e-03\n",
        "I 9.674e-04\n"
       ]
      }
     ],
     "prompt_number": 55
    },
    {
     "cell_type": "code",
     "collapsed": false,
     "input": [
      "def magnitude(jy,band):\n",
      "    f=F[band]\n",
      "    mag=2.5*(26+math.log10(f)- math.log10(jy))\n",
      "    return mag\n"
     ],
     "language": "python",
     "metadata": {},
     "outputs": [],
     "prompt_number": 56
    },
    {
     "cell_type": "code",
     "collapsed": false,
     "input": [
      "for band in ('U','B','V','R','I'):\n",
      "    print band, magnitude(1e-3,band)"
     ],
     "language": "python",
     "metadata": {},
     "outputs": [
      {
       "output_type": "stream",
       "stream": "stdout",
       "text": [
        "U 15.6853946232\n",
        "B 16.6184574253\n",
        "V 16.4523124392\n",
        "R 16.196416239\n",
        "I 15.964015684\n"
       ]
      }
     ],
     "prompt_number": 57
    },
    {
     "cell_type": "code",
     "collapsed": false,
     "input": [
      "def mab(jy):\n",
      "    F=1e-23*jy\n",
      "    magab=-48.6-2.5*math.log10(F)\n",
      "    return magab\n"
     ],
     "language": "python",
     "metadata": {},
     "outputs": [],
     "prompt_number": 58
    },
    {
     "cell_type": "code",
     "collapsed": false,
     "input": [
      "print mab(1.0e-3)"
     ],
     "language": "python",
     "metadata": {},
     "outputs": [
      {
       "output_type": "stream",
       "stream": "stdout",
       "text": [
        "16.4\n"
       ]
      }
     ],
     "prompt_number": 59
    },
    {
     "cell_type": "code",
     "collapsed": false,
     "input": [
      "F.keys()"
     ],
     "language": "python",
     "metadata": {},
     "outputs": [
      {
       "metadata": {},
       "output_type": "pyout",
       "prompt_number": 60,
       "text": [
        "['N', 'B', 'U', 'V', 'I', 'R', 'J', 'M', 'K', 'L']"
       ]
      }
     ],
     "prompt_number": 60
    },
    {
     "cell_type": "code",
     "collapsed": false,
     "input": [
      "sorted(F.keys())"
     ],
     "language": "python",
     "metadata": {},
     "outputs": [
      {
       "metadata": {},
       "output_type": "pyout",
       "prompt_number": 61,
       "text": [
        "['B', 'I', 'J', 'K', 'L', 'M', 'N', 'R', 'U', 'V']"
       ]
      }
     ],
     "prompt_number": 61
    },
    {
     "cell_type": "code",
     "collapsed": false,
     "input": [
      "for x,y in F.iteritems():\n",
      "    print x,y"
     ],
     "language": "python",
     "metadata": {},
     "outputs": [
      {
       "output_type": "stream",
       "stream": "stdout",
       "text": [
        "N 4.3e-25\n",
        "B 4.44e-23\n",
        "U 1.88e-23\n",
        "V 3.81e-23\n",
        "I 2.43e-23\n",
        "R 3.01e-23\n",
        "J 1.77e-23\n",
        "M 1.8e-24\n",
        "K 6.3e-24\n",
        "L 3.1e-24\n"
       ]
      }
     ],
     "prompt_number": 62
    },
    {
     "cell_type": "code",
     "collapsed": false,
     "input": [],
     "language": "python",
     "metadata": {},
     "outputs": [],
     "prompt_number": 62
    }
   ],
   "metadata": {}
  }
 ]
}