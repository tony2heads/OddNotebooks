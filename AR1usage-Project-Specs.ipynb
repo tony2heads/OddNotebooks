{
 "cells": [
  {
   "cell_type": "code",
   "execution_count": 1,
   "metadata": {
    "collapsed": true
   },
   "outputs": [],
   "source": [
    "%matplotlib inline\n",
    "import numpy as np"
   ]
  },
  {
   "cell_type": "code",
   "execution_count": 2,
   "metadata": {
    "collapsed": true
   },
   "outputs": [],
   "source": [
    "import matplotlib.pyplot as plt"
   ]
  },
  {
   "cell_type": "code",
   "execution_count": 3,
   "metadata": {
    "collapsed": true
   },
   "outputs": [],
   "source": [
    "import katarchive\n",
    "#import katdal as katfile\n",
    "#import katfile\n",
    "import datetime\n",
    "\n",
    "import logging\n",
    "logging.root.setLevel(logging.ERROR)\n",
    "katarchive.product_filter.only_ar1()\n"
   ]
  },
  {
   "cell_type": "code",
   "execution_count": 4,
   "metadata": {
    "collapsed": true
   },
   "outputs": [],
   "source": [
    "def findproj(text):\n",
    "    chx=text.find('--pro')  # matches 'project-id and proposal-id'\n",
    "    if chx >0  :\n",
    "        pr2=text[chx+13:chx+40].split()\n",
    "        code=pr2[0]\n",
    "        found=code.replace(\"=\",\"\")\n",
    "    else:\n",
    "        found='Unknown'\n",
    "    return found\n"
   ]
  },
  {
   "cell_type": "code",
   "execution_count": 5,
   "metadata": {
    "collapsed": true
   },
   "outputs": [],
   "source": [
    "def channels(details):\n",
    "    ch32k=\"32768\"\n",
    "    mode=\"4k\" # default\n",
    "    if ch32k in details:\n",
    "        mode=\"32k\"\n",
    "    return mode\n"
   ]
  },
  {
   "cell_type": "code",
   "execution_count": 6,
   "metadata": {
    "collapsed": true
   },
   "outputs": [],
   "source": [
    "begindate=\"20/03/2017\"\n",
    "#projectname=\"20130905MS-01\"\n",
    "projectname=\"OPUS-131\"\n",
    "#projectname=\"20150317AR-01\"\n",
    "lastday=\"21/03/2017\" # arbitary in future"
   ]
  },
  {
   "cell_type": "code",
   "execution_count": 7,
   "metadata": {
    "collapsed": true
   },
   "outputs": [],
   "source": [
    "#today=datetime.datetime.today()\n",
    "#print today\n",
    "#end=today.strftime(format=\"%d/%m/%Y\")\n"
   ]
  },
  {
   "cell_type": "code",
   "execution_count": 8,
   "metadata": {
    "collapsed": true
   },
   "outputs": [],
   "source": [
    "#print katarchive.search_archive(startdate=begindate,enddate=end)\n"
   ]
  },
  {
   "cell_type": "code",
   "execution_count": 9,
   "metadata": {},
   "outputs": [
    {
     "name": "stdout",
     "output_type": "stream",
     "text": [
      "Searched using: CAS.ProductTypeName:(MeerKATAR1TelescopeProduct) AND CAS.ProductTransferStatus:RECEIVED AND StartTime:[2017-03-19T22:00:00Z TO 2017-03-21T21:59:59Z]\n",
      "Returning 6 results\n"
     ]
    }
   ],
   "source": [
    "f = katarchive.search_archive(startdate=begindate,enddate=lastday)\n",
    "start = datetime.datetime.strptime(f[-1].__str__().split('\\'')[3],'%Y-%m-%d %H:%M:%S %Z')\n",
    "end = datetime.datetime.strptime(f[0].__str__().split('\\'')[3],'%Y-%m-%d %H:%M:%S %Z')"
   ]
  },
  {
   "cell_type": "code",
   "execution_count": 10,
   "metadata": {
    "scrolled": true
   },
   "outputs": [
    {
     "name": "stdout",
     "output_type": "stream",
     "text": [
      "First file in run:  2017-03-20T15:32:32\n",
      "Last file in run:  2017-03-21T20:30:10\n"
     ]
    }
   ],
   "source": [
    "print 'First file in run: ' , start.isoformat()\n",
    "print 'Last file in run: ' , end.isoformat()"
   ]
  },
  {
   "cell_type": "code",
   "execution_count": 11,
   "metadata": {
    "collapsed": true
   },
   "outputs": [],
   "source": [
    "def findproj(text):\n",
    "    chx=text.find('--pro')  # matches 'project-id and proposal-id'\n",
    "    if chx >0  :\n",
    "        pr2=text[chx+13:chx+40].split()\n",
    "        code=pr2[0]\n",
    "        found=code.replace(\"=\",\"\")\n",
    "    else:\n",
    "        found='Unknown'\n",
    "    return found\n"
   ]
  },
  {
   "cell_type": "code",
   "execution_count": 12,
   "metadata": {
    "collapsed": true
   },
   "outputs": [],
   "source": [
    "def fproj(f,p):\n",
    "    total=0.0\n",
    "    for fi in f:\n",
    "        txts=fi.metadata.InstructionSet\n",
    "        p=findproj(txts)\n",
    "        #print txts\n",
    "        #print p\n",
    "        if  projectname in p:  \n",
    "            #print \"Found\",p,\"=======================\"\n",
    "            total=total+fi.metadata.Duration\n",
    "            print (\"%s %s %6.2f\") %(p,fi.metadata.StartTime, fi.metadata.Duration/3600.)\n",
    "    print \"Total\",total/3600., \"Hours\"\n"
   ]
  },
  {
   "cell_type": "code",
   "execution_count": 13,
   "metadata": {},
   "outputs": [
    {
     "name": "stdout",
     "output_type": "stream",
     "text": [
      "OPUS-131 2017-03-21 08:00:13 SAST  12.00\n",
      "OPUS-131 2017-03-20 21:00:12 SAST   7.15\n",
      "OPUS-131 2017-03-20 15:45:52 SAST   4.39\n",
      "OPUS-131 2017-03-20 15:32:32 SAST   0.20\n",
      "Total 23.7477305556 Hours\n"
     ]
    }
   ],
   "source": [
    "fproj(f,\"20170914RD-01\")"
   ]
  },
  {
   "cell_type": "markdown",
   "metadata": {},
   "source": [
    "Only select observations that are longer than 1 hrs then extract the project id from the script parameters. If there is no project id then allocated No_project_id "
   ]
  },
  {
   "cell_type": "code",
   "execution_count": 15,
   "metadata": {},
   "outputs": [
    {
     "name": "stdout",
     "output_type": "stream",
     "text": [
      "Total 0.0 Hours\n"
     ]
    }
   ],
   "source": [
    "total=0.0\n",
    "for fi in f:\n",
    "    txts=fi.metadata.InstructionSet\n",
    "    p=findproj(txts)\n",
    "    #print p\n",
    "    if  projectname in p:  \n",
    "        #print \"Found\",p,\"=======================\"\n",
    "        total=total+fi.metadata.Duration\n",
    "        print (\"%s %s %6.2f\") %(p,fi.metadata.StartTime, fi.metadata.Duration/3600.)\n",
    "        \n",
    "print \"Total\",total/3600., \"Hours\"\n"
   ]
  },
  {
   "cell_type": "code",
   "execution_count": 16,
   "metadata": {},
   "outputs": [
    {
     "name": "stdout",
     "output_type": "stream",
     "text": [
      "0.204358333333\n"
     ]
    }
   ],
   "source": [
    "print fi.metadata.Duration/3600.\n"
   ]
  },
  {
   "cell_type": "code",
   "execution_count": 26,
   "metadata": {},
   "outputs": [
    {
     "name": "stdout",
     "output_type": "stream",
     "text": [
      "/home/kat/katsdpscripts/AR1/observations/track.py /home/kat/katsdpscripts/AR1/catalogues/three_calib.csv --horizon=20 -t 300 -n off -m 36000 --repeat --description=MKAIV-449 Three calibrator Imaging --proposal-id=20170313LM-01 --program-block-id=45ob742487746 --sb-id-code=20170321-0002 --description=MKAIV-449 Three calibrator Imaging --observer=Audrey --config-label=473b323,d9ec0fc\n",
      "/home/kat/katsdpscripts/AR1/observations/image.py /home/kat/katsdpscripts/AR1/catalogues/DEEP2.csv --horizon=20 -t 300 -g 120 -b 300 -i 7200 -m 43200 --description=MKAIV-393 Imaging observation DEEP2 --proposal-id=OPUS-131 --program-block-id=MKAIV-393 --sb-id-code=20170320-0006 --description=MKAIV-393 Imaging observation DEEP2 --observer=Tom --config-label=473b323,d9ec0fc\n",
      "/home/kat/katsdpscripts/AR1/observations/track.py /home/kat/katsdpscripts/AR1/catalogues/gaincal_l_5jy.csv --horizon=20 -t 120 -n off -m 12600 --repeat --description=MKAIV-232 Baseline Calibration (Delay model calculation) --proposal-id=MKAIV-232 --program-block-id=MKAIV-232 --sb-id-code=20170321-0001 --description=MKAIV-232 Baseline Calibration (Delay model calculation) --observer=Lindsay --config-label=473b323,d9ec0fc\n",
      "/home/kat/katsdpscripts/AR1/observations/image.py /home/kat/katsdpscripts/AR1/catalogues/cals.csv --horizon=20 -t 600 -g 120 -b 600 -i 10800 -m 39600 --description=MKAIV-347 Imaging observation SCP --proposal-id=OPUS-131 --program-block-id=MKAIV-347 --sb-id-code=20170320-0005 --description=MKAIV-347 Imaging observation SCP --observer=Tom --config-label=473b323,d9ec0fc\n",
      "/home/kat/katsdpscripts/AR1/observations/image.py /home/kat/katsdpscripts/AR1/catalogues/DEEP2.csv -t 300 -g 120 -b 300 -i 7200 -m 15600 --horizon=18 --description=MKAIV-393 Imaging observation DEEP2 --proposal-id=OPUS-131 --program-block-id=MKAIV-393 --sb-id-code=20170320-0004 --description=MKAIV-393 Imaging observation DEEP2 --observer=Tom --config-label=473b323,d9ec0fc\n"
     ]
    }
   ],
   "source": [
    "sbd = [] #Experiment ID\n",
    "pid = [] #project ID\n",
    "fnd = [] #Filename\n",
    "dud = [] #Duration\n",
    "antsd = [] #number of antennas\n",
    "scrd = [] #script  -NOT USED NOW\n",
    "\n",
    "for fi in f:\n",
    "    if fi.metadata.Duration < 3600: #only pick hour long or greater observations for analysis\n",
    "        continue\n",
    "    # now try extract the project-id from the instruction-set string\n",
    "    \"\"\"\n",
    "    script = fi.metadata.InstructionSet\n",
    "    scrd.append(script)\n",
    "    spl = script.split()\n",
    "    \"\"\"\n",
    "    print fi.metadata.InstructionSet\n",
    "    txts=fi.metadata.InstructionSet\n",
    "    p=findproj(txts)\n",
    "    if p == \"0170914RD-01\": # for typo\n",
    "        p=\"20170914RD-01\"\n",
    "    sbd.append(fi.metadata.ExperimentID)\n",
    "    pid.append(p)\n",
    "    fnd.append(fi.metadata.Filename)\n",
    "    dud.append(fi.metadata.Duration)\n",
    "    antsd.append(len(fi.metadata.Antennas))\n"
   ]
  },
  {
   "cell_type": "code",
   "execution_count": 18,
   "metadata": {},
   "outputs": [
    {
     "name": "stdout",
     "output_type": "stream",
     "text": [
      "Percentage system usage:  154.0 %\n"
     ]
    }
   ],
   "source": [
    "pi = np.array(pid)\n",
    "sb = np.array(sbd)\n",
    "du = np.array(dud)\n",
    "ants = np.array(antsd)\n",
    "\n",
    "p_cent = (sum(du)/((end.toordinal()-start.toordinal())*24*3600))*100\n",
    "\n",
    "print 'Percentage system usage: ', np.floor(p_cent),'%'\n"
   ]
  },
  {
   "cell_type": "code",
   "execution_count": 19,
   "metadata": {},
   "outputs": [
    {
     "name": "stdout",
     "output_type": "stream",
     "text": [
      "20170313LM-01 10.0\n",
      "OPUS-131 23.54\n",
      "MKAIV-232 3.54\n"
     ]
    }
   ],
   "source": [
    "a_id = []\n",
    "a_time = []\n",
    "for p in set(pi):\n",
    "    ind = pi == p\n",
    "    print p,round(sum(du[ind])/3600,2)\n",
    "    a_id.append(p)\n",
    "    a_time.append(round(sum(du[ind])/3600,2))"
   ]
  },
  {
   "cell_type": "code",
   "execution_count": 20,
   "metadata": {},
   "outputs": [
    {
     "name": "stdout",
     "output_type": "stream",
     "text": [
      "20170313LM-01     10.0 20\n",
      "MKAIV-232          3.5 20\n",
      "OPUS-131          23.5 20\n"
     ]
    }
   ],
   "source": [
    "ind = np.argsort(a_id)\n",
    "for i in ind:\n",
    "    print (\"%-16s %5.1f %d\") %(a_id[i],a_time[i],ants[i])"
   ]
  },
  {
   "cell_type": "markdown",
   "metadata": {},
   "source": [
    "Find the unique project ids and determine the total observation duration."
   ]
  },
  {
   "cell_type": "markdown",
   "metadata": {},
   "source": [
    "Sort ID and time for display"
   ]
  },
  {
   "cell_type": "markdown",
   "metadata": {},
   "source": [
    "Plot as pie-chart"
   ]
  },
  {
   "cell_type": "code",
   "execution_count": 21,
   "metadata": {},
   "outputs": [
    {
     "data": {
      "image/png": "[encoded data removed]",
      "text/plain": [
       "<matplotlib.figure.Figure at 0x7fce49159550>"
      ]
     },
     "metadata": {},
     "output_type": "display_data"
    }
   ],
   "source": [
    "plt.figure(figsize=(15,15))\n",
    "plt.pie(a_time,labels=a_id,autopct='%1.1f%%');"
   ]
  },
  {
   "cell_type": "code",
   "execution_count": 22,
   "metadata": {
    "collapsed": true
   },
   "outputs": [],
   "source": [
    "plt.show()"
   ]
  },
  {
   "cell_type": "code",
   "execution_count": 23,
   "metadata": {},
   "outputs": [
    {
     "data": {
      "text/plain": [
       "5"
      ]
     },
     "execution_count": 23,
     "metadata": {},
     "output_type": "execute_result"
    }
   ],
   "source": [
    "len(antsd)"
   ]
  },
  {
   "cell_type": "code",
   "execution_count": 24,
   "metadata": {},
   "outputs": [
    {
     "name": "stdout",
     "output_type": "stream",
     "text": [
      "1 0\n",
      "2 0\n",
      "3 0\n",
      "4 0\n",
      "5 0\n",
      "6 0\n",
      "7 0\n",
      "[0, 0, 0, 0, 0, 0, 0]\n",
      "7\n"
     ]
    }
   ],
   "source": [
    "allobs=0\n",
    "numberofn=[]\n",
    "for nant in range(1,8):                 # from 1 to 7 antennas\n",
    "    print nant, antsd.count(nant)       # how many have that count\n",
    "    numberofn.append(antsd.count(nant))\n",
    "    allobs=allobs+antsd.count(nant)\n",
    "print numberofn\n",
    "print nant\n",
    "            "
   ]
  },
  {
   "cell_type": "code",
   "execution_count": 25,
   "metadata": {},
   "outputs": [
    {
     "data": {
      "image/png": "[encoded data removed]",
      "text/plain": [
       "<matplotlib.figure.Figure at 0x7fce48fd95d0>"
      ]
     },
     "metadata": {},
     "output_type": "display_data"
    }
   ],
   "source": [
    "labs=[]\n",
    "for n in range(7):\n",
    "    labs.append(str(n+1)+\" Antennas\")\n",
    "\n",
    "#cmap = plt.cm.prism\n",
    "#colors = cmap(np.linspace(0., 1., 7))\n",
    "colors=['yellowgreen', 'gold', 'lightskyblue', 'lightcoral','khaki','orange','cyan']\n",
    "y=np.array(numberofn)\n",
    "plt.figure(figsize=(15,15))\n",
    "plt.pie(y,labels=labs,colors=colors, autopct='%1.1f%%')\n",
    "plt.show()"
   ]
  },
  {
   "cell_type": "code",
   "execution_count": null,
   "metadata": {
    "collapsed": true
   },
   "outputs": [],
   "source": []
  },
  {
   "cell_type": "code",
   "execution_count": null,
   "metadata": {
    "collapsed": true
   },
   "outputs": [],
   "source": []
  }
 ],
 "metadata": {
  "kernelspec": {
   "display_name": "Python 2",
   "language": "python",
   "name": "python2"
  },
  "language_info": {
   "codemirror_mode": {
    "name": "ipython",
    "version": 2
   },
   "file_extension": ".py",
   "mimetype": "text/x-python",
   "name": "python",
   "nbconvert_exporter": "python",
   "pygments_lexer": "ipython2",
   "version": "2.7.6"
  }
 },
 "nbformat": 4,
 "nbformat_minor": 1
}
