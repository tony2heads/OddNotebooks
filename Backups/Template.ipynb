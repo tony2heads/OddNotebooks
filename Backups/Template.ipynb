{
 "cells": [
  {
   "cell_type": "code",
   "execution_count": null,
   "metadata": {},
   "outputs": [],
   "source": [
    "from katsdpscripts.reduction.analyse_point_source_scans import analyse_point_source_scans"
   ]
  },
  {
   "cell_type": "code",
   "execution_count": null,
   "metadata": {},
   "outputs": [],
   "source": [
    "import katsdpscripts"
   ]
  },
  {
   "cell_type": "code",
   "execution_count": null,
   "metadata": {},
   "outputs": [],
   "source": [
    "#print \"Scape version: %s\"%scape.__version__\n",
    "#print \"katdal version: %s\"%katdal.__version__\n",
    "#print \"katpoint version: %s\"%katpoint.__version__\n",
    "print \"katsdpscripts version: %s\"%katsdpscripts.__version__"
   ]
  },
  {
   "cell_type": "code",
   "execution_count": null,
   "metadata": {},
   "outputs": [],
   "source": [
    "class my_opts:\n",
    "    def __init__(self, **kwds):\n",
    "        self.__dict__.update(kwds)"
   ]
  },
  {
   "cell_type": "markdown",
   "metadata": {},
   "source": [
    "# done with  1sec dump period"
   ]
  },
  {
   "cell_type": "code",
   "execution_count": null,
   "metadata": {},
   "outputs": [],
   "source": [
    "h5name='/var/kat/archive3/data/MeerKATAR1/telescope_products/2018/02/08/1518116899.h5'\n",
    "ants=['m018', 'm003', 'm002', 'm000', 'm006', 'm005', 'm015', 'm021', 'm010', 'm022', 'm025', 'm016', 'm027', \\\n",
    "      'm029', 'm017', 'm024']\n",
    "ants.sort()\n",
    "print ants"
   ]
  },
  {
   "cell_type": "code",
   "execution_count": null,
   "metadata": {
    "scrolled": false
   },
   "outputs": [],
   "source": [
    "for baseline in ants :\n",
    "    print \"\\n Starting \",baseline,\"\\n\"\n",
    "    opts = my_opts(outfilebase=None, keepfilename=None, baseline=baseline, mc_iterations=1, freq_centre=1284.0, \\\n",
    "    freq_chans=\"200,4000\", channel_mask='/var/kat/katsdpscripts/RTS/rfi_mask.pickle', \\\n",
    "    time_offset=0.0, pointing_model=None, old_loader=None, nd_models=None, \\\n",
    "    ku_band=False, keep_all=False,remove_spikes=False,batch=True,plot_spectrum=False)\n",
    "    analyse_point_source_scans(h5name,opts)\n",
    "    print \"\\n\\n***************Done\",baseline,\"*************\\n\"\n",
    "print \"\\nDONE ALL\""
   ]
  },
  {
   "cell_type": "code",
   "execution_count": null,
   "metadata": {},
   "outputs": [],
   "source": [
    "!ls -l 1518116899*.csv"
   ]
  }
 ],
 "metadata": {
  "kernelspec": {
   "display_name": "Python 2",
   "language": "python",
   "name": "python2"
  },
  "language_info": {
   "codemirror_mode": {
    "name": "ipython",
    "version": 2
   },
   "file_extension": ".py",
   "mimetype": "text/x-python",
   "name": "python",
   "nbconvert_exporter": "python",
   "pygments_lexer": "ipython2",
   "version": "2.7.12"
  }
 },
 "nbformat": 4,
 "nbformat_minor": 1
}
