{
 "cells": [
  {
   "cell_type": "code",
   "execution_count": 39,
   "metadata": {},
   "outputs": [
    {
     "name": "stdout",
     "output_type": "stream",
     "text": [
      "Populating the interactive namespace from numpy and matplotlib\n"
     ]
    }
   ],
   "source": [
    "%pylab inline"
   ]
  },
  {
   "cell_type": "code",
   "execution_count": 40,
   "metadata": {},
   "outputs": [],
   "source": [
    "import scape\n",
    "import katdal\n",
    "import katpoint\n",
    "import katsdpscripts\n",
    "import glob\n",
    "import re\n",
    "import pandas as pd \n",
    "\n",
    "import csv\n",
    "import operator"
   ]
  },
  {
   "cell_type": "code",
   "execution_count": 41,
   "metadata": {},
   "outputs": [],
   "source": [
    "from os import system"
   ]
  },
  {
   "cell_type": "code",
   "execution_count": 42,
   "metadata": {
    "scrolled": true
   },
   "outputs": [
    {
     "name": "stdout",
     "output_type": "stream",
     "text": [
      "Scape version: 0.1.dev616+master.e836eb2\n",
      "katdal version: 0.9.6.dev686+master.513f3ca\n",
      "katpoint version: 0.8.dev355+master.341001f\n",
      "katsdpscripts version: 0.1.dev2823+master.4932837\n"
     ]
    }
   ],
   "source": [
    "print \"Scape version: %s\"%scape.__version__\n",
    "print \"katdal version: %s\"%katdal.__version__\n",
    "print \"katpoint version: %s\"%katpoint.__version__\n",
    "print \"katsdpscripts version: %s\"%katsdpscripts.__version__"
   ]
  },
  {
   "cell_type": "code",
   "execution_count": 43,
   "metadata": {},
   "outputs": [],
   "source": [
    "h5_filename0 ='/var/kat/archive3/data/MeerKATAR1/telescope_products/2018/04/30/1525046573.h5'\n",
    "#/var/kat/archive3/data/MeerKATAR1/telescope_products/2018/04/30/1525057673.h5 ='/var/kat/archive3/data/MeerKATAR1/telescope_products/2018/04/30/1525057673.h5'\n",
    "#%set_env h5_filename0 = h5_filename0\n",
    "#%set_env /var/kat/archive3/data/MeerKATAR1/telescope_products/2018/04/30/1525057673.h5 = $/var/kat/archive3/data/MeerKATAR1/telescope_products/2018/04/30/1525057673.h5\n",
    "#last=\"/var/kat/archive3/data/MeerKATAR1/telescope_products/2018/04/30/1525057673.h5\""
   ]
  },
  {
   "cell_type": "code",
   "execution_count": 44,
   "metadata": {},
   "outputs": [
    {
     "name": "stdout",
     "output_type": "stream",
     "text": [
      "DEBUG: Found int_time=3.998308486 in telstate['sdp_l0_int_time']\n",
      "DEBUG: Found scale_factor_timestamp=1712000000.0 in telstate[u'i0_scale_factor_timestamp']\n",
      "DEBUG: Found sync_time=1525035378.0 in telstate[u'i0_sync_time']\n",
      "DEBUG: Found n_chans=4096 in telstate['sdp_l0_n_chans']\n",
      "DEBUG: Found bandwidth=856000000.0 in telstate['sdp_l0_bandwidth']\n",
      "DEBUG: Found center_freq=1284000000.0 in telstate['sdp_l0_center_freq']\n",
      "['m000', 'm003', 'm004', 'm005', 'm006', 'm007', 'm008', 'm009', 'm011', 'm012', 'm013', 'm014', 'm015', 'm016', 'm017', 'm018', 'm019', 'm020', 'm021', 'm023', 'm024', 'm027', 'm028', 'm029', 'm030', 'm032', 'm033', 'm034', 'm037', 'm039', 'm040', 'm042', 'm043', 'm044', 'm045', 'm046', 'm047', 'm048', 'm049', 'm050', 'm051', 'm052', 'm054', 'm055', 'm056', 'm057', 'm058', 'm059', 'm061', 'm062', 'm063']\n",
      "51\n"
     ]
    }
   ],
   "source": [
    "d = katdal.open(h5_filename0)\n",
    "ant_list,ants = [],[]\n",
    "[ant_list.append(ant.name) for ant in d.ants]\n",
    "print(ant_list)\n",
    "print len(ant_list)"
   ]
  },
  {
   "cell_type": "code",
   "execution_count": 45,
   "metadata": {},
   "outputs": [
    {
     "name": "stdout",
     "output_type": "stream",
     "text": [
      "env: ref_ant=m005\n"
     ]
    }
   ],
   "source": [
    "ref_ant='m005'\n",
    "%set_env ref_ant=$ref_ant"
   ]
  },
  {
   "cell_type": "code",
   "execution_count": 46,
   "metadata": {},
   "outputs": [],
   "source": [
    "matplotlib.rcParams['font.size']=6.0"
   ]
  },
  {
   "cell_type": "code",
   "execution_count": 47,
   "metadata": {},
   "outputs": [
    {
     "name": "stdout",
     "output_type": "stream",
     "text": [
      "m000,m003,m004,m005,m006,m007,m008,m009,m011,m012,m013,m014,m015,m016,m017,m018,m019,m020,m021,m023,m024,m027,m028,m029,m030,m032,m033,m034,m037,m039,m040,m042,m043,m044,m045,m046,m047,m048,m049,m050,m051,m052,m054,m055,m056,m057,m058,m059,m061,m062,m063\n",
      "env: ants=m000,m003,m004,m005,m006,m007,m008,m009,m011,m012,m013,m014,m015,m016,m017,m018,m019,m020,m021,m023,m024,m027,m028,m029,m030,m032,m033,m034,m037,m039,m040,m042,m043,m044,m045,m046,m047,m048,m049,m050,m051,m052,m054,m055,m056,m057,m058,m059,m061,m062,m063\n"
     ]
    }
   ],
   "source": [
    "#ant_list.remove('m020') # not tracking most of the time\n",
    "ants=','.join(ant_list)\n",
    "print ants\n",
    "%set_env ants=$ants"
   ]
  },
  {
   "cell_type": "code",
   "execution_count": 48,
   "metadata": {},
   "outputs": [
    {
     "name": "stdout",
     "output_type": "stream",
     "text": [
      "Usage: baseline_cal_reduction.py [options] <data file> [<data file> ...]\n",
      "\n",
      "Options:\n",
      "  -h, --help            show this help message and exit\n",
      "  -a ANTS, --ants=ANTS  Comma-separated subset of antennas to use in fit (e.g.\n",
      "                        'ant1,ant2'), default is all antennas\n",
      "  -f FREQ_CHANS, --freq-chans=FREQ_CHANS\n",
      "                        Range of frequency channels to keep (zero-based\n",
      "                        inclusive 'first_chan,last_chan', default is\n",
      "                        [0.25*num_chans, 0.75*num_chans))\n",
      "  -p POL, --pol=POL     Polarisation term to use ('H' or 'V'), default is H\n",
      "  -r REF_ANT, --ref=REF_ANT\n",
      "                        Reference antenna, default is first antenna in file\n",
      "  -s MAX_SIGMA, --max-sigma=MAX_SIGMA\n",
      "                        Threshold on std deviation of normalised group delay,\n",
      "                        default is 0.2\n",
      "  -t TIME_OFFSET, --time-offset=TIME_OFFSET\n",
      "                        Time offset to add to DBE timestamps, in seconds\n",
      "                        (default = 0.0)\n",
      "  -x EXCLUDE, --exclude=EXCLUDE\n",
      "                        Comma-separated list of sources to exclude from fit\n"
     ]
    }
   ],
   "source": [
    "%run /var/kat/katsdpscripts/reduction/baseline_cal_reduction.py -h"
   ]
  },
  {
   "cell_type": "code",
   "execution_count": 49,
   "metadata": {
    "scrolled": true
   },
   "outputs": [
    {
     "name": "stdout",
     "output_type": "stream",
     "text": [
      "DEBUG: Found int_time=3.998308486 in telstate['sdp_l0_int_time']\n",
      "DEBUG: Found scale_factor_timestamp=1712000000.0 in telstate[u'i0_scale_factor_timestamp']\n",
      "DEBUG: Found sync_time=1525035378.0 in telstate[u'i0_sync_time']\n",
      "DEBUG: Found n_chans=4096 in telstate['sdp_l0_n_chans']\n",
      "DEBUG: Found bandwidth=856000000.0 in telstate['sdp_l0_bandwidth']\n",
      "DEBUG: Found center_freq=1284000000.0 in telstate['sdp_l0_center_freq']\n",
      "DEBUG: Found int_time=3.998308486 in telstate['sdp_l0_int_time']\n",
      "DEBUG: Found scale_factor_timestamp=1712000000.0 in telstate[u'i0_scale_factor_timestamp']\n",
      "DEBUG: Found sync_time=1525035378.0 in telstate[u'i0_sync_time']\n",
      "DEBUG: Found n_chans=4096 in telstate['sdp_l0_n_chans']\n",
      "DEBUG: Found bandwidth=856000000.0 in telstate['sdp_l0_bandwidth']\n",
      "DEBUG: Found center_freq=1284000000.0 in telstate['sdp_l0_center_freq']\n"
     ]
    }
   ],
   "source": [
    "d2=katdal.open(('/var/kat/archive3/data/MeerKATAR1/telescope_products/2018/04/30/1525046573.h5',\\\n",
    "        '/var/kat/archive3/data/MeerKATAR1/telescope_products/2018/04/30/1525057673.h5'))"
   ]
  },
  {
   "cell_type": "code",
   "execution_count": 50,
   "metadata": {},
   "outputs": [
    {
     "ename": "IndexError",
     "evalue": "invalid index to scalar variable.",
     "output_type": "error",
     "traceback": [
      "\u001b[0;31m\u001b[0m",
      "\u001b[0;31mIndexError\u001b[0mTraceback (most recent call last)",
      "\u001b[0;32m<ipython-input-50-c9bc30dbd430>\u001b[0m in \u001b[0;36m<module>\u001b[0;34m()\u001b[0m\n\u001b[0;32m----> 1\u001b[0;31m \u001b[0;32mfor\u001b[0m \u001b[0mscan_ind\u001b[0m\u001b[0;34m,\u001b[0m \u001b[0mstate\u001b[0m\u001b[0;34m,\u001b[0m \u001b[0mtarget\u001b[0m \u001b[0;32min\u001b[0m \u001b[0md2\u001b[0m\u001b[0;34m.\u001b[0m\u001b[0mscans\u001b[0m\u001b[0;34m(\u001b[0m\u001b[0;34m)\u001b[0m\u001b[0;34m:\u001b[0m\u001b[0;34m\u001b[0m\u001b[0m\n\u001b[0m\u001b[1;32m      2\u001b[0m     \u001b[0mnum_ts\u001b[0m \u001b[0;34m=\u001b[0m \u001b[0mdata\u001b[0m\u001b[0;34m.\u001b[0m\u001b[0mshape\u001b[0m\u001b[0;34m[\u001b[0m\u001b[0;36m0\u001b[0m\u001b[0;34m]\u001b[0m\u001b[0;34m\u001b[0m\u001b[0m\n\u001b[1;32m      3\u001b[0m     \u001b[0;32mprint\u001b[0m \u001b[0mnum_ts\u001b[0m\u001b[0;34m\u001b[0m\u001b[0m\n\u001b[1;32m      4\u001b[0m     \u001b[0;32mif\u001b[0m \u001b[0mstate\u001b[0m \u001b[0;34m!=\u001b[0m \u001b[0;34m'track'\u001b[0m\u001b[0;34m:\u001b[0m\u001b[0;34m\u001b[0m\u001b[0m\n\u001b[1;32m      5\u001b[0m         \u001b[0;32mprint\u001b[0m \u001b[0;34m\"scan %3d (%4d samples) skipped '%s'\"\u001b[0m \u001b[0;34m%\u001b[0m \u001b[0;34m(\u001b[0m\u001b[0mscan_ind\u001b[0m\u001b[0;34m,\u001b[0m \u001b[0mnum_ts\u001b[0m\u001b[0;34m,\u001b[0m \u001b[0mstate\u001b[0m\u001b[0;34m)\u001b[0m\u001b[0;34m\u001b[0m\u001b[0m\n",
      "\u001b[0;32m/usr/local/lib/python2.7/dist-packages/katdal/dataset.pyc\u001b[0m in \u001b[0;36mscans\u001b[0;34m(self)\u001b[0m\n\u001b[1;32m    884\u001b[0m         \u001b[0;32mfor\u001b[0m \u001b[0mscan\u001b[0m \u001b[0;32min\u001b[0m \u001b[0mscans\u001b[0m\u001b[0;34m:\u001b[0m\u001b[0;34m\u001b[0m\u001b[0m\n\u001b[1;32m    885\u001b[0m             \u001b[0;31m# Add scan selection on top of existing selection\u001b[0m\u001b[0;34m\u001b[0m\u001b[0;34m\u001b[0m\u001b[0m\n\u001b[0;32m--> 886\u001b[0;31m             \u001b[0mself\u001b[0m\u001b[0;34m.\u001b[0m\u001b[0mselect\u001b[0m\u001b[0;34m(\u001b[0m\u001b[0mscans\u001b[0m\u001b[0;34m=\u001b[0m\u001b[0mscan\u001b[0m\u001b[0;34m,\u001b[0m \u001b[0mreset\u001b[0m\u001b[0;34m=\u001b[0m\u001b[0;34m''\u001b[0m\u001b[0;34m)\u001b[0m\u001b[0;34m\u001b[0m\u001b[0m\n\u001b[0m\u001b[1;32m    887\u001b[0m             \u001b[0mstate\u001b[0m \u001b[0;34m=\u001b[0m \u001b[0mstate_data\u001b[0m\u001b[0;34m.\u001b[0m\u001b[0munique_values\u001b[0m\u001b[0;34m[\u001b[0m\u001b[0mstate_data\u001b[0m\u001b[0;34m.\u001b[0m\u001b[0mindices\u001b[0m\u001b[0;34m[\u001b[0m\u001b[0mscan\u001b[0m\u001b[0;34m]\u001b[0m\u001b[0;34m]\u001b[0m\u001b[0;34m\u001b[0m\u001b[0m\n\u001b[1;32m    888\u001b[0m             \u001b[0mtarget\u001b[0m \u001b[0;34m=\u001b[0m \u001b[0mself\u001b[0m\u001b[0;34m.\u001b[0m\u001b[0mcatalogue\u001b[0m\u001b[0;34m.\u001b[0m\u001b[0mtargets\u001b[0m\u001b[0;34m[\u001b[0m\u001b[0mself\u001b[0m\u001b[0;34m.\u001b[0m\u001b[0mtarget_indices\u001b[0m\u001b[0;34m[\u001b[0m\u001b[0;36m0\u001b[0m\u001b[0;34m]\u001b[0m\u001b[0;34m]\u001b[0m\u001b[0;34m\u001b[0m\u001b[0m\n",
      "\u001b[0;32m/usr/local/lib/python2.7/dist-packages/katdal/dataset.pyc\u001b[0m in \u001b[0;36mselect\u001b[0;34m(self, **kwargs)\u001b[0m\n\u001b[1;32m    744\u001b[0m                     \u001b[0;32mif\u001b[0m \u001b[0misinstance\u001b[0m\u001b[0;34m(\u001b[0m\u001b[0mscan\u001b[0m\u001b[0;34m,\u001b[0m \u001b[0mint\u001b[0m\u001b[0;34m)\u001b[0m\u001b[0;34m:\u001b[0m\u001b[0;34m\u001b[0m\u001b[0m\n\u001b[1;32m    745\u001b[0m                         \u001b[0mscan_keep\u001b[0m \u001b[0;34m|=\u001b[0m \u001b[0;34m(\u001b[0m\u001b[0mscan_index_sensor\u001b[0m \u001b[0;34m==\u001b[0m \u001b[0mscan\u001b[0m\u001b[0;34m)\u001b[0m\u001b[0;34m\u001b[0m\u001b[0m\n\u001b[0;32m--> 746\u001b[0;31m                     \u001b[0;32melif\u001b[0m \u001b[0mscan\u001b[0m\u001b[0;34m[\u001b[0m\u001b[0;36m0\u001b[0m\u001b[0;34m]\u001b[0m \u001b[0;34m==\u001b[0m \u001b[0;34m'~'\u001b[0m\u001b[0;34m:\u001b[0m\u001b[0;34m\u001b[0m\u001b[0m\n\u001b[0m\u001b[1;32m    747\u001b[0m                         \u001b[0mscan_keep\u001b[0m \u001b[0;34m|=\u001b[0m \u001b[0;34m~\u001b[0m\u001b[0;34m(\u001b[0m\u001b[0mscan_sensor\u001b[0m \u001b[0;34m==\u001b[0m \u001b[0mscan\u001b[0m\u001b[0;34m[\u001b[0m\u001b[0;36m1\u001b[0m\u001b[0;34m:\u001b[0m\u001b[0;34m]\u001b[0m\u001b[0;34m)\u001b[0m\u001b[0;34m\u001b[0m\u001b[0m\n\u001b[1;32m    748\u001b[0m                     \u001b[0;32melse\u001b[0m\u001b[0;34m:\u001b[0m\u001b[0;34m\u001b[0m\u001b[0m\n",
      "\u001b[0;31mIndexError\u001b[0m: invalid index to scalar variable."
     ]
    }
   ],
   "source": [
    "for scan_ind, state, target in d2.scans():\n",
    "    num_ts = data.shape[0]\n",
    "    print num_ts\n",
    "    if state != 'track':\n",
    "        print \"scan %3d (%4d samples) skipped '%s'\" % (scan_ind, num_ts, state)\n",
    "        continue\n",
    "    if num_ts < 2:\n",
    "        print \"scan %3d (%4d samples) skipped - too short\" % (scan_ind, num_ts)\n",
    "        continue\n",
    "    if target.name in excluded_targets:\n",
    "        print \"scan %3d (%4d samples) skipped - excluded '%s'\" % (scan_ind, num_ts, target.name)\n",
    "        continue\n"
   ]
  },
  {
   "cell_type": "code",
   "execution_count": null,
   "metadata": {
    "scrolled": false
   },
   "outputs": [],
   "source": [
    "figure(1,figsize=(15,240))\n",
    "figure(2,figsize=(15,15))\n",
    "figure(3,figsize=(15,240))\n",
    "figure(4,figsize=(15,15))\n",
    "%run /var/kat/katsdpscripts/reduction/baseline_cal_reduction.py -f 2200,2914 -p 'H' -r $ref_ant \\\n",
    " -a $ants -x '1709-281' /var/kat/archive3/data/MeerKATAR1/telescope_products/2018/04/30/1525046573.h5 \\\n",
    "    /var/kat/archive3/data/MeerKATAR1/telescope_products/2018/04/30/1525057673.h5"
   ]
  },
  {
   "cell_type": "code",
   "execution_count": null,
   "metadata": {
    "scrolled": false
   },
   "outputs": [],
   "source": [
    "figure(1,figsize=(15,240))\n",
    "figure(2,figsize=(15,15))\n",
    "figure(3,figsize=(15,240))\n",
    "figure(4,figsize=(15,15))\n",
    "%run -e /var/kat/katsdpscripts/reduction/baseline_cal_reduction.py -f 2200,2914 -p 'V' -r $ref_ant \\\n",
    " -a $ants -x '1709-281' /var/kat/archive3/data/MeerKATAR1/telescope_products/2018/04/30/1525046573.h5 \\\n",
    "    /var/kat/archive3/data/MeerKATAR1/telescope_products/2018/04/30/1525057673.h5"
   ]
  },
  {
   "cell_type": "code",
   "execution_count": null,
   "metadata": {},
   "outputs": [],
   "source": [
    "res_h = !python /var/kat/katsdpscripts/reduction/baseline_cal_reduction.py -f 2200,2914 -p 'H' -r $ref_ant \\\n",
    "  -a $ants -x '1709-281' /var/kat/archive3/data/MeerKATAR1/telescope_products/2018/04/30/1525046573.h5 \\\n",
    "    /var/kat/archive3/data/MeerKATAR1/telescope_products/2018/04/30/1525057673.h5 \n",
    "print \"Done \""
   ]
  },
  {
   "cell_type": "code",
   "execution_count": null,
   "metadata": {},
   "outputs": [],
   "source": [
    "res_v = !python /var/kat/katsdpscripts/reduction/baseline_cal_reduction.py -f 2200,2914 -p 'V' -r $ref_ant \\\n",
    "  -a $ants -x '1709-281' /var/kat/archive3/data/MeerKATAR1/telescope_products/2018/04/30/1525046573.h5 \\\n",
    "    /var/kat/archive3/data/MeerKATAR1/telescope_products/2018/04/30/1525057673.h5 \n",
    "print \"Done V\""
   ]
  },
  {
   "cell_type": "code",
   "execution_count": null,
   "metadata": {},
   "outputs": [],
   "source": [
    "delays_h = {}\n",
    "for i,r in enumerate(res_h):\n",
    "    if r.startswith('Antenna'):\n",
    "        ant = r[8:12]\n",
    "        delays_h[ant] = {}\n",
    "        delays_h[ant]['E'] = float(res_h[i+2].split(':')[1].lstrip().split(' ')[0])\n",
    "        delays_h[ant]['N'] = float(res_h[i+3].split(':')[1].lstrip().split(' ')[0])\n",
    "        delays_h[ant]['U'] = float(res_h[i+4].split(':')[1].lstrip().split(' ')[0])\n",
    "        delays_h[ant]['D'] = float(res_h[i+5].split(':')[1].lstrip().split(' ')[0])\n",
    "delays_h"
   ]
  },
  {
   "cell_type": "code",
   "execution_count": null,
   "metadata": {},
   "outputs": [],
   "source": [
    "delays_v = {}\n",
    "for i,r in enumerate(res_v):\n",
    "    if r.startswith('Antenna'):\n",
    "        ant = r[8:12]\n",
    "        delays_v[ant] = {}\n",
    "        delays_v[ant]['E'] = float(res_v[i+2].split(':')[1].lstrip().split(' ')[0])\n",
    "        delays_v[ant]['N'] = float(res_v[i+3].split(':')[1].lstrip().split(' ')[0])\n",
    "        delays_v[ant]['U'] = float(res_v[i+4].split(':')[1].lstrip().split(' ')[0])\n",
    "        delays_v[ant]['D'] = float(res_v[i+5].split(':')[1].lstrip().split(' ')[0])\n",
    "delays_v"
   ]
  },
  {
   "cell_type": "markdown",
   "metadata": {
    "collapsed": true
   },
   "source": [
    "# Cross check between polarizations for derived positions"
   ]
  },
  {
   "cell_type": "code",
   "execution_count": null,
   "metadata": {},
   "outputs": [],
   "source": [
    "for a in sorted(delays_v):\n",
    "    print a,\n",
    "    print(\"diff E %06.3f\") %(delays_h[a]['E'] - delays_v[a]['E']),\n",
    "    print(\"diff N %06.3f\") %(delays_h[a]['N'] - delays_v[a]['N']),\n",
    "    print(\"diff U %06.3f\") %(delays_h[a]['U'] - delays_v[a]['U']),\n",
    "    print(\"diff D %06.3f\") %(delays_h[a]['D'] - delays_v[a]['D'])\n",
    "    \n",
    "# expect differences between E,N and U less than 1cm and Delays less than 3m "
   ]
  },
  {
   "cell_type": "code",
   "execution_count": null,
   "metadata": {},
   "outputs": [],
   "source": [
    "# write solutions to file\n",
    "matchRe = re.findall('[0-9]{10,}', h5_filename)\n",
    "filename='delay_file_'+''.join(matchRe)+'.txt'\n",
    "\n",
    "with open(filename, 'w') as f:\n",
    "    for h,v in zip(delays_h,delays_v):\n",
    "        print >> f, h,v, mean([delays_h[h]['E'],delays_v[v]['E']]) , \\\n",
    "                    mean([delays_h[h]['N'],delays_v[v]['N']]), \\\n",
    "                    mean([delays_h[h]['U'],delays_v[v]['U']]), \\\n",
    "                    delays_h[h]['D'],delays_v[v]['D']\n",
    "    f.close()"
   ]
  },
  {
   "cell_type": "code",
   "execution_count": null,
   "metadata": {},
   "outputs": [],
   "source": [
    "# sort delay file by antenna name and load antennaLOC\n",
    "sample = open(filename, 'r')\n",
    "sorter = csv.reader(sample, delimiter=' ')\n",
    "sort = sorted(sorter, key=operator.itemgetter(1))\n",
    "\n",
    "with open('ant_loc.csv', 'r') as f:\n",
    "    tocs = f.read()"
   ]
  },
  {
   "cell_type": "code",
   "execution_count": null,
   "metadata": {},
   "outputs": [],
   "source": [
    "cols = ['Ants', 'Delay', 'East', 'North', 'UP', 'TOC']\n",
    "df = pd.DataFrame(columns=cols)\n",
    "for line in sort:\n",
    "    p = re.compile(line[0]+',\\s+\\d{4}\\.\\d{1,3}')\n",
    "    toc = float(p.search(tocs).group()[6:])\n",
    "    df = df.append(pd.Series(\n",
    "                             [\n",
    "                                line[0],\n",
    "                                line[-2],\n",
    "                                line[2],\n",
    "                                line[3],\n",
    "                                line[4], \n",
    "                                toc\n",
    "                             ], \n",
    "                              index=['Ants', 'Delay', 'East', 'North', 'UP', 'TOC']\n",
    "                            ), ignore_index = True)"
   ]
  },
  {
   "cell_type": "code",
   "execution_count": null,
   "metadata": {},
   "outputs": [],
   "source": [
    "deltaTOC, deltaUP = [], []\n",
    "deltaTOC.append(0)\n",
    "deltaUP.append(0)\n",
    "for i in range(1, len(df.TOC[1:])+1):\n",
    "    deltaTOC.append(df.TOC[i] - df.TOC[i-1])\n",
    "    deltaUP.append(float(df.UP[i]) - float(df.UP[i-1]))\n",
    "\n",
    "em  = [' ' for i in range(len(deltaUP))]\n",
    "df[' '] =  pd.Series(em,  index = df.index)\n",
    "\n",
    "df['delta UP']  = pd.Series(deltaUP,  index = df.index)\n",
    "df['delta TOC'] = pd.Series(deltaTOC, index = df.index)\n",
    "\n",
    "print('\\nDelay Solutions and antenna locations\\n')\n",
    "df"
   ]
  },
  {
   "cell_type": "code",
   "execution_count": null,
   "metadata": {},
   "outputs": [],
   "source": [
    "# send file to ops server to process and push to github\n",
    "\n",
    "opsServer='ops.kat.ac.za'\n",
    "rPath='/home/kat/ops_team_sw/utilities/update_delay_models'\n",
    "cmd = \"sshpass -p {} scp -r {} kat@{}:{}\".format('kat', filename, opsServer, rPath)\n",
    "system(cmd)\n"
   ]
  }
 ],
 "metadata": {
  "kernelspec": {
   "display_name": "Python 2",
   "language": "python",
   "name": "python2"
  },
  "language_info": {
   "codemirror_mode": {
    "name": "ipython",
    "version": 2
   },
   "file_extension": ".py",
   "mimetype": "text/x-python",
   "name": "python",
   "nbconvert_exporter": "python",
   "pygments_lexer": "ipython2",
   "version": "2.7.12"
  }
 },
 "nbformat": 4,
 "nbformat_minor": 1
}
