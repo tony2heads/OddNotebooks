{
 "cells": [
  {
   "cell_type": "code",
   "execution_count": null,
   "metadata": {},
   "outputs": [],
   "source": [
    "%pylab inline"
   ]
  },
  {
   "cell_type": "code",
   "execution_count": null,
   "metadata": {},
   "outputs": [],
   "source": [
    "import scape\n",
    "import katdal\n",
    "import katpoint\n",
    "import katsdpscripts\n",
    "import glob"
   ]
  },
  {
   "cell_type": "code",
   "execution_count": null,
   "metadata": {},
   "outputs": [],
   "source": [
    "print \"Scape version: %s\"%scape.__version__\n",
    "print \"katdal version: %s\"%katdal.__version__\n",
    "print \"katpoint version: %s\"%katpoint.__version__\n",
    "print \"katsdpscripts version: %s\"%katsdpscripts.__version__"
   ]
  },
  {
   "cell_type": "code",
   "execution_count": null,
   "metadata": {},
   "outputs": [],
   "source": [
    "h5_filename = '/var/kat/archive3/data/MeerKATAR1/telescope_products/2018/02/27/1519747734.h5'\n",
    "%set_env h5_filename = $h5_filename"
   ]
  },
  {
   "cell_type": "code",
   "execution_count": null,
   "metadata": {},
   "outputs": [],
   "source": [
    "run -i /var/kat/katsdpscripts/reduction/analyse_interferometric_pointing.py -h"
   ]
  },
  {
   "cell_type": "code",
   "execution_count": null,
   "metadata": {
    "scrolled": false
   },
   "outputs": [],
   "source": [
    "run -i /var/kat/katsdpscripts/reduction/analyse_interferometric_pointing.py \\\n",
    "-c /var/kat/katsdpscripts/RTS/rfi_mask.pickle  $h5_filename"
   ]
  },
  {
   "cell_type": "code",
   "execution_count": null,
   "metadata": {},
   "outputs": [],
   "source": [
    "tmp = h5_filename.split('/')[-1].split('.')[0]\n",
    "gl = glob.glob(\"%s*.csv\"%tmp)"
   ]
  },
  {
   "cell_type": "code",
   "execution_count": null,
   "metadata": {},
   "outputs": [],
   "source": [
    "print h5.antlist"
   ]
  },
  {
   "cell_type": "code",
   "execution_count": null,
   "metadata": {},
   "outputs": [],
   "source": [
    "!pwd\n",
    "for g in sorted(gl):\n",
    "    print g"
   ]
  },
  {
   "cell_type": "markdown",
   "metadata": {},
   "source": [
    "# Delete wildly discepant points"
   ]
  },
  {
   "cell_type": "code",
   "execution_count": null,
   "metadata": {},
   "outputs": [],
   "source": [
    "#!sed -i /Nothing/d 1516731881*.csv"
   ]
  },
  {
   "cell_type": "code",
   "execution_count": null,
   "metadata": {},
   "outputs": [],
   "source": [
    "#!sed -i /2018-01-27\\ 15:/d 1517050827_interferometric_pointing*.csv\n",
    "#!sed -i /3C138,\\ 2018-02-27\\ 20:04/d 1519747734_interferometric_pointing*.csv\n",
    "#!sed -i /1127-145,\\ 2018-02-27\\ 18:54/d 1519747734_interferometric_pointing*.csv"
   ]
  },
  {
   "cell_type": "code",
   "execution_count": null,
   "metadata": {},
   "outputs": [],
   "source": [
    "matplotlib.rcParams['figure.figsize'] = (15.0, 10.0)"
   ]
  },
  {
   "cell_type": "code",
   "execution_count": null,
   "metadata": {
    "scrolled": false
   },
   "outputs": [],
   "source": [
    "for fl in sorted(gl):\n",
    "    figure(figsize=[15.0,10.0])\n",
    "    %run /var/kat/katsdpscripts/reduction/fit_pointing_model.py -m 1.0 $fl\n",
    "    "
   ]
  }
 ],
 "metadata": {
  "kernelspec": {
   "display_name": "Python 2",
   "language": "python",
   "name": "python2"
  },
  "language_info": {
   "codemirror_mode": {
    "name": "ipython",
    "version": 2
   },
   "file_extension": ".py",
   "mimetype": "text/x-python",
   "name": "python",
   "nbconvert_exporter": "python",
   "pygments_lexer": "ipython2",
   "version": "2.7.12"
  }
 },
 "nbformat": 4,
 "nbformat_minor": 1
}
