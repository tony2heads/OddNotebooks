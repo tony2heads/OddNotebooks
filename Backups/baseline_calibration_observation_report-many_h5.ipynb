{
 "cells": [
  {
   "cell_type": "code",
   "execution_count": 1,
   "metadata": {},
   "outputs": [
    {
     "name": "stdout",
     "output_type": "stream",
     "text": [
      "Populating the interactive namespace from numpy and matplotlib\n"
     ]
    }
   ],
   "source": [
    "%pylab inline"
   ]
  },
  {
   "cell_type": "code",
   "execution_count": 2,
   "metadata": {},
   "outputs": [
    {
     "name": "stdout",
     "output_type": "stream",
     "text": [
      "INFO: Generating grammar tables from /usr/lib/python2.7/lib2to3/Grammar.txt\n",
      "INFO: Generating grammar tables from /usr/lib/python2.7/lib2to3/PatternGrammar.txt\n"
     ]
    }
   ],
   "source": [
    "import scape\n",
    "import katdal\n",
    "import katpoint\n",
    "import katsdpscripts\n",
    "import glob\n",
    "import re\n",
    "import pandas as pd \n",
    "\n",
    "import csv\n",
    "import operator"
   ]
  },
  {
   "cell_type": "code",
   "execution_count": 3,
   "metadata": {},
   "outputs": [],
   "source": [
    "from os import system"
   ]
  },
  {
   "cell_type": "code",
   "execution_count": 4,
   "metadata": {
    "scrolled": true
   },
   "outputs": [
    {
     "name": "stdout",
     "output_type": "stream",
     "text": [
      "Scape version: 0.1.dev616+master.e836eb2\n",
      "katdal version: 0.9.6.dev686+master.513f3ca\n",
      "katpoint version: 0.8.dev355+master.341001f\n",
      "katsdpscripts version: 0.1.dev2823+master.4932837\n"
     ]
    }
   ],
   "source": [
    "print \"Scape version: %s\"%scape.__version__\n",
    "print \"katdal version: %s\"%katdal.__version__\n",
    "print \"katpoint version: %s\"%katpoint.__version__\n",
    "print \"katsdpscripts version: %s\"%katsdpscripts.__version__"
   ]
  },
  {
   "cell_type": "code",
   "execution_count": 12,
   "metadata": {},
   "outputs": [
    {
     "name": "stdout",
     "output_type": "stream",
     "text": [
      "/var/kat/archive3/data/MeerKATAR1/telescope_products/2018/04/29/1525041053.h5 /var/kat/archive3/data/MeerKATAR1/telescope_products/2018/04/30/1525046573.h5 /var/kat/archive3/data/MeerKATAR1/telescope_products/2018/04/30/1525052159.h5 /var/kat/archive3/data/MeerKATAR1/telescope_products/2018/04/30/1525057673.h5\n",
      "env: h5_filename=/var/kat/archive3/data/MeerKATAR1/telescope_products/2018/04/29/1525041053.h5 /var/kat/archive3/data/MeerKATAR1/telescope_products/2018/04/30/1525046573.h5 /var/kat/archive3/data/MeerKATAR1/telescope_products/2018/04/30/1525052159.h5 /var/kat/archive3/data/MeerKATAR1/telescope_products/2018/04/30/1525057673.h5\n"
     ]
    }
   ],
   "source": [
    "h5_filename ='/var/kat/archive3/data/MeerKATAR1/telescope_products/2018/04/29/1525041053.h5 '+\\\n",
    "'/var/kat/archive3/data/MeerKATAR1/telescope_products/2018/04/30/1525046573.h5 '+\\\n",
    "'/var/kat/archive3/data/MeerKATAR1/telescope_products/2018/04/30/1525052159.h5 '+\\\n",
    "'/var/kat/archive3/data/MeerKATAR1/telescope_products/2018/04/30/1525057673.h5'\n",
    "print h5_filename\n",
    "%set_env h5_filename = $h5_filename"
   ]
  },
  {
   "cell_type": "code",
   "execution_count": 13,
   "metadata": {},
   "outputs": [],
   "source": [
    "lasth5='/var/kat/archive3/data/MeerKATAR1/telescope_products/2018/04/30/1525057673.h5'"
   ]
  },
  {
   "cell_type": "code",
   "execution_count": 14,
   "metadata": {},
   "outputs": [
    {
     "name": "stdout",
     "output_type": "stream",
     "text": [
      "DEBUG: Found int_time=3.998308486 in telstate['sdp_l0_int_time']\n",
      "DEBUG: Found scale_factor_timestamp=1712000000.0 in telstate[u'i0_scale_factor_timestamp']\n",
      "DEBUG: Found sync_time=1525035378.0 in telstate[u'i0_sync_time']\n",
      "DEBUG: Found n_chans=4096 in telstate['sdp_l0_n_chans']\n",
      "DEBUG: Found bandwidth=856000000.0 in telstate['sdp_l0_bandwidth']\n",
      "DEBUG: Found center_freq=1284000000.0 in telstate['sdp_l0_center_freq']\n",
      "['m000', 'm003', 'm004', 'm005', 'm006', 'm007', 'm008', 'm009', 'm011', 'm012', 'm013', 'm014', 'm015', 'm016', 'm017', 'm018', 'm019', 'm020', 'm021', 'm023', 'm024', 'm027', 'm028', 'm029', 'm030', 'm032', 'm033', 'm034', 'm037', 'm039', 'm040', 'm042', 'm043', 'm044', 'm045', 'm046', 'm047', 'm048', 'm049', 'm050', 'm051', 'm052', 'm054', 'm055', 'm056', 'm057', 'm058', 'm059', 'm061', 'm062', 'm063']\n"
     ]
    }
   ],
   "source": [
    "d = katdal.open(lasth5);\n",
    "ant_list,ants = [],[]\n",
    "[ant_list.append(ant.name) for ant in d.ants]\n",
    "print(ant_list)"
   ]
  },
  {
   "cell_type": "code",
   "execution_count": 15,
   "metadata": {},
   "outputs": [
    {
     "name": "stdout",
     "output_type": "stream",
     "text": [
      "m000,m003,m004,m005,m006,m007,m008,m009,m011,m012,m013,m014,m015,m016,m017,m018,m019,m020,m021,m023,m024,m027,m028,m029,m030,m032,m033,m034,m037,m039,m040,m042,m043,m044,m045,m046,m047,m048,m049,m050,m051,m052,m054,m055,m056,m057,m058,m059,m061,m062,m063\n",
      "env: ants=m000,m003,m004,m005,m006,m007,m008,m009,m011,m012,m013,m014,m015,m016,m017,m018,m019,m020,m021,m023,m024,m027,m028,m029,m030,m032,m033,m034,m037,m039,m040,m042,m043,m044,m045,m046,m047,m048,m049,m050,m051,m052,m054,m055,m056,m057,m058,m059,m061,m062,m063\n"
     ]
    }
   ],
   "source": [
    "#ant_list.remove('m020') # not tracking most of the time\n",
    "ants=','.join(ant_list)\n",
    "print ants\n",
    "%set_env ants=$ants"
   ]
  },
  {
   "cell_type": "code",
   "execution_count": 16,
   "metadata": {},
   "outputs": [
    {
     "name": "stdout",
     "output_type": "stream",
     "text": [
      "env: ref_ant=m005\n"
     ]
    }
   ],
   "source": [
    "ref_ant='m005'\n",
    "%set_env ref_ant=$ref_ant"
   ]
  },
  {
   "cell_type": "code",
   "execution_count": 17,
   "metadata": {},
   "outputs": [],
   "source": [
    "matplotlib.rcParams['font.size']=6.0"
   ]
  },
  {
   "cell_type": "code",
   "execution_count": 18,
   "metadata": {
    "scrolled": false
   },
   "outputs": [
    {
     "name": "stdout",
     "output_type": "stream",
     "text": [
      "\n",
      "Loading and processing data...\n",
      "\n",
      "DEBUG: Found int_time=3.998308486 in telstate['sdp_l0_int_time']\n",
      "DEBUG: Found scale_factor_timestamp=1712000000.0 in telstate[u'i0_scale_factor_timestamp']\n",
      "DEBUG: Found sync_time=1525035378.0 in telstate[u'i0_sync_time']\n",
      "DEBUG: Found n_chans=4096 in telstate['sdp_l0_n_chans']\n",
      "DEBUG: Found bandwidth=856000000.0 in telstate['sdp_l0_bandwidth']\n",
      "DEBUG: Found center_freq=1284000000.0 in telstate['sdp_l0_center_freq']\n",
      "DEBUG: Found int_time=3.998308486 in telstate['sdp_l0_int_time']\n",
      "DEBUG: Found scale_factor_timestamp=1712000000.0 in telstate[u'i0_scale_factor_timestamp']\n",
      "DEBUG: Found sync_time=1525035378.0 in telstate[u'i0_sync_time']\n",
      "DEBUG: Found n_chans=4096 in telstate['sdp_l0_n_chans']\n",
      "DEBUG: Found bandwidth=856000000.0 in telstate['sdp_l0_bandwidth']\n",
      "DEBUG: Found center_freq=1284000000.0 in telstate['sdp_l0_center_freq']\n",
      "DEBUG: Found int_time=3.998308486 in telstate['sdp_l0_int_time']\n",
      "DEBUG: Found scale_factor_timestamp=1712000000.0 in telstate[u'i0_scale_factor_timestamp']\n",
      "DEBUG: Found sync_time=1525035378.0 in telstate[u'i0_sync_time']\n",
      "DEBUG: Found n_chans=4096 in telstate['sdp_l0_n_chans']\n",
      "DEBUG: Found bandwidth=856000000.0 in telstate['sdp_l0_bandwidth']\n",
      "DEBUG: Found center_freq=1284000000.0 in telstate['sdp_l0_center_freq']\n",
      "DEBUG: Found int_time=3.998308486 in telstate['sdp_l0_int_time']\n",
      "DEBUG: Found scale_factor_timestamp=1712000000.0 in telstate[u'i0_scale_factor_timestamp']\n",
      "DEBUG: Found sync_time=1525035378.0 in telstate[u'i0_sync_time']\n"
     ]
    },
    {
     "ename": "IOError",
     "evalue": "Can't read data (Addr overflow, addr = 223276975188, size=4096, eoa=222239029334)",
     "output_type": "error",
     "traceback": [
      "\u001b[0;31m\u001b[0m",
      "\u001b[0;31mIOError\u001b[0mTraceback (most recent call last)",
      "\u001b[0;32m/var/kat/katsdpscripts/reduction/baseline_cal_reduction.py\u001b[0m in \u001b[0;36m<module>\u001b[0;34m()\u001b[0m\n\u001b[1;32m     55\u001b[0m \u001b[0;34m\u001b[0m\u001b[0m\n\u001b[1;32m     56\u001b[0m \u001b[0;32mprint\u001b[0m \u001b[0;34m\"\\nLoading and processing data...\\n\"\u001b[0m\u001b[0;34m\u001b[0m\u001b[0m\n\u001b[0;32m---> 57\u001b[0;31m \u001b[0mdata\u001b[0m \u001b[0;34m=\u001b[0m \u001b[0mkatdal\u001b[0m\u001b[0;34m.\u001b[0m\u001b[0mopen\u001b[0m\u001b[0;34m(\u001b[0m\u001b[0margs\u001b[0m\u001b[0;34m,\u001b[0m \u001b[0mref_ant\u001b[0m\u001b[0;34m=\u001b[0m\u001b[0mopts\u001b[0m\u001b[0;34m.\u001b[0m\u001b[0mref_ant\u001b[0m\u001b[0;34m,\u001b[0m \u001b[0mtime_offset\u001b[0m\u001b[0;34m=\u001b[0m\u001b[0mopts\u001b[0m\u001b[0;34m.\u001b[0m\u001b[0mtime_offset\u001b[0m\u001b[0;34m)\u001b[0m\u001b[0;34m\u001b[0m\u001b[0m\n\u001b[0m\u001b[1;32m     58\u001b[0m \u001b[0mcenter_freq\u001b[0m \u001b[0;34m=\u001b[0m \u001b[0mdata\u001b[0m\u001b[0;34m.\u001b[0m\u001b[0mfreqs\u001b[0m\u001b[0;34m[\u001b[0m\u001b[0mdata\u001b[0m\u001b[0;34m.\u001b[0m\u001b[0mshape\u001b[0m\u001b[0;34m[\u001b[0m\u001b[0;36m1\u001b[0m\u001b[0;34m]\u001b[0m \u001b[0;34m//\u001b[0m \u001b[0;36m2\u001b[0m\u001b[0;34m]\u001b[0m\u001b[0;34m\u001b[0m\u001b[0m\n\u001b[1;32m     59\u001b[0m \u001b[0;34m\u001b[0m\u001b[0m\n",
      "\u001b[0;32m/usr/local/lib/python2.7/dist-packages/katdal/__init__.pyc\u001b[0m in \u001b[0;36mopen\u001b[0;34m(filename, ref_ant, time_offset, **kwargs)\u001b[0m\n\u001b[1;32m    328\u001b[0m                                        ref_ant, time_offset, **kwargs)\n\u001b[1;32m    329\u001b[0m         \u001b[0;32melse\u001b[0m\u001b[0;34m:\u001b[0m\u001b[0;34m\u001b[0m\u001b[0m\n\u001b[0;32m--> 330\u001b[0;31m             \u001b[0mdataset\u001b[0m \u001b[0;34m=\u001b[0m \u001b[0m_file_action\u001b[0m\u001b[0;34m(\u001b[0m\u001b[0;34m'__call__'\u001b[0m\u001b[0;34m,\u001b[0m \u001b[0mf\u001b[0m\u001b[0;34m,\u001b[0m \u001b[0mref_ant\u001b[0m\u001b[0;34m,\u001b[0m \u001b[0mtime_offset\u001b[0m\u001b[0;34m,\u001b[0m \u001b[0;34m**\u001b[0m\u001b[0mkwargs\u001b[0m\u001b[0;34m)\u001b[0m\u001b[0;34m\u001b[0m\u001b[0m\n\u001b[0m\u001b[1;32m    331\u001b[0m         \u001b[0mdatasets\u001b[0m\u001b[0;34m.\u001b[0m\u001b[0mappend\u001b[0m\u001b[0;34m(\u001b[0m\u001b[0mdataset\u001b[0m\u001b[0;34m)\u001b[0m\u001b[0;34m\u001b[0m\u001b[0m\n\u001b[1;32m    332\u001b[0m     \u001b[0;32mreturn\u001b[0m \u001b[0mdatasets\u001b[0m\u001b[0;34m[\u001b[0m\u001b[0;36m0\u001b[0m\u001b[0;34m]\u001b[0m \u001b[0;32mif\u001b[0m \u001b[0misinstance\u001b[0m\u001b[0;34m(\u001b[0m\u001b[0mfilename\u001b[0m\u001b[0;34m,\u001b[0m \u001b[0mbasestring\u001b[0m\u001b[0;34m)\u001b[0m \u001b[0;32melse\u001b[0m\u001b[0;31m \u001b[0m\u001b[0;31m\\\u001b[0m\u001b[0;34m\u001b[0m\u001b[0m\n",
      "\u001b[0;32m/usr/local/lib/python2.7/dist-packages/katdal/__init__.pyc\u001b[0m in \u001b[0;36m_file_action\u001b[0;34m(action, filename, *args, **kwargs)\u001b[0m\n\u001b[1;32m    281\u001b[0m     \u001b[0;32mfor\u001b[0m \u001b[0mformat\u001b[0m \u001b[0;32min\u001b[0m \u001b[0mformats\u001b[0m\u001b[0;34m:\u001b[0m\u001b[0;34m\u001b[0m\u001b[0m\n\u001b[1;32m    282\u001b[0m         \u001b[0;32mtry\u001b[0m\u001b[0;34m:\u001b[0m\u001b[0;34m\u001b[0m\u001b[0m\n\u001b[0;32m--> 283\u001b[0;31m             \u001b[0mresult\u001b[0m \u001b[0;34m=\u001b[0m \u001b[0mgetattr\u001b[0m\u001b[0;34m(\u001b[0m\u001b[0mformat\u001b[0m\u001b[0;34m,\u001b[0m \u001b[0maction\u001b[0m\u001b[0;34m)\u001b[0m\u001b[0;34m(\u001b[0m\u001b[0mfilename\u001b[0m\u001b[0;34m,\u001b[0m \u001b[0;34m*\u001b[0m\u001b[0margs\u001b[0m\u001b[0;34m,\u001b[0m \u001b[0;34m**\u001b[0m\u001b[0mkwargs\u001b[0m\u001b[0;34m)\u001b[0m\u001b[0;34m\u001b[0m\u001b[0m\n\u001b[0m\u001b[1;32m    284\u001b[0m             \u001b[0;32mbreak\u001b[0m\u001b[0;34m\u001b[0m\u001b[0m\n\u001b[1;32m    285\u001b[0m         \u001b[0;32mexcept\u001b[0m \u001b[0mWrongVersion\u001b[0m\u001b[0;34m:\u001b[0m\u001b[0;34m\u001b[0m\u001b[0m\n",
      "\u001b[0;32m/usr/local/lib/python2.7/dist-packages/katdal/h5datav3.pyc\u001b[0m in \u001b[0;36m__init__\u001b[0;34m(self, filename, ref_ant, time_offset, mode, time_scale, time_origin, rotate_bls, centre_freq, band, keepdims, **kwargs)\u001b[0m\n\u001b[1;32m    262\u001b[0m         \u001b[0;32mfor\u001b[0m \u001b[0msensor_name\u001b[0m\u001b[0;34m,\u001b[0m \u001b[0msensor_data\u001b[0m \u001b[0;32min\u001b[0m \u001b[0mcache\u001b[0m\u001b[0;34m.\u001b[0m\u001b[0miteritems\u001b[0m\u001b[0;34m(\u001b[0m\u001b[0;34m)\u001b[0m\u001b[0;34m:\u001b[0m\u001b[0;34m\u001b[0m\u001b[0m\n\u001b[1;32m    263\u001b[0m             \u001b[0;32mif\u001b[0m \u001b[0msensor_name\u001b[0m\u001b[0;34m.\u001b[0m\u001b[0mendswith\u001b[0m\u001b[0;34m(\u001b[0m\u001b[0mregular_sensors\u001b[0m\u001b[0;34m)\u001b[0m \u001b[0;32mand\u001b[0m \u001b[0msensor_data\u001b[0m\u001b[0;34m:\u001b[0m\u001b[0;34m\u001b[0m\u001b[0m\n\u001b[0;32m--> 264\u001b[0;31m                 \u001b[0msensor_times\u001b[0m \u001b[0;34m=\u001b[0m \u001b[0msensor_data\u001b[0m\u001b[0;34m[\u001b[0m\u001b[0;34m'timestamp'\u001b[0m\u001b[0;34m]\u001b[0m\u001b[0;34m\u001b[0m\u001b[0m\n\u001b[0m\u001b[1;32m    265\u001b[0m                 \u001b[0mproposed_sensor_start_time\u001b[0m \u001b[0;34m=\u001b[0m \u001b[0msensor_times\u001b[0m\u001b[0;34m[\u001b[0m\u001b[0;36m0\u001b[0m\u001b[0;34m]\u001b[0m\u001b[0;34m\u001b[0m\u001b[0m\n\u001b[1;32m    266\u001b[0m                 \u001b[0msensor_duration\u001b[0m \u001b[0;34m=\u001b[0m \u001b[0msensor_times\u001b[0m\u001b[0;34m[\u001b[0m\u001b[0;34m-\u001b[0m\u001b[0;36m1\u001b[0m\u001b[0;34m]\u001b[0m \u001b[0;34m-\u001b[0m \u001b[0mproposed_sensor_start_time\u001b[0m\u001b[0;34m\u001b[0m\u001b[0m\n",
      "\u001b[0;32m/usr/local/lib/python2.7/dist-packages/katdal/sensordata.pyc\u001b[0m in \u001b[0;36m__getitem__\u001b[0;34m(self, key)\u001b[0m\n\u001b[1;32m    237\u001b[0m         \u001b[0;34m\"\"\"Extract timestamp and value of each sensor data point.\"\"\"\u001b[0m\u001b[0;34m\u001b[0m\u001b[0m\n\u001b[1;32m    238\u001b[0m         \u001b[0;32mif\u001b[0m \u001b[0mkey\u001b[0m \u001b[0;34m==\u001b[0m \u001b[0;34m'timestamp'\u001b[0m\u001b[0;34m:\u001b[0m\u001b[0;34m\u001b[0m\u001b[0m\n\u001b[0;32m--> 239\u001b[0;31m             \u001b[0;32mreturn\u001b[0m \u001b[0mnp\u001b[0m\u001b[0;34m.\u001b[0m\u001b[0masarray\u001b[0m\u001b[0;34m(\u001b[0m\u001b[0mself\u001b[0m\u001b[0;34m.\u001b[0m\u001b[0m_data\u001b[0m\u001b[0;34m[\u001b[0m\u001b[0mkey\u001b[0m\u001b[0;34m]\u001b[0m\u001b[0;34m)\u001b[0m\u001b[0;34m\u001b[0m\u001b[0m\n\u001b[0m\u001b[1;32m    240\u001b[0m         \u001b[0;32melif\u001b[0m \u001b[0mkey\u001b[0m \u001b[0;34m==\u001b[0m \u001b[0;34m'value'\u001b[0m\u001b[0;34m:\u001b[0m\u001b[0;34m\u001b[0m\u001b[0m\n\u001b[1;32m    241\u001b[0m             \u001b[0;31m# Unpack everything first, otherwise old files will be a mess\u001b[0m\u001b[0;34m\u001b[0m\u001b[0;34m\u001b[0m\u001b[0m\n",
      "\u001b[0;32mh5py/_objects.pyx\u001b[0m in \u001b[0;36mh5py._objects.with_phil.wrapper (/tmp/pip-4rPeHA-build/h5py/_objects.c:2684)\u001b[0;34m()\u001b[0m\n",
      "\u001b[0;32mh5py/_objects.pyx\u001b[0m in \u001b[0;36mh5py._objects.with_phil.wrapper (/tmp/pip-4rPeHA-build/h5py/_objects.c:2642)\u001b[0;34m()\u001b[0m\n",
      "\u001b[0;32m/usr/local/lib/python2.7/dist-packages/h5py/_hl/dataset.pyc\u001b[0m in \u001b[0;36m__getitem__\u001b[0;34m(self, args)\u001b[0m\n\u001b[1;32m    480\u001b[0m         \u001b[0mmspace\u001b[0m \u001b[0;34m=\u001b[0m \u001b[0mh5s\u001b[0m\u001b[0;34m.\u001b[0m\u001b[0mcreate_simple\u001b[0m\u001b[0;34m(\u001b[0m\u001b[0mmshape\u001b[0m\u001b[0;34m)\u001b[0m\u001b[0;34m\u001b[0m\u001b[0m\n\u001b[1;32m    481\u001b[0m         \u001b[0mfspace\u001b[0m \u001b[0;34m=\u001b[0m \u001b[0mselection\u001b[0m\u001b[0;34m.\u001b[0m\u001b[0mid\u001b[0m\u001b[0;34m\u001b[0m\u001b[0m\n\u001b[0;32m--> 482\u001b[0;31m         \u001b[0mself\u001b[0m\u001b[0;34m.\u001b[0m\u001b[0mid\u001b[0m\u001b[0;34m.\u001b[0m\u001b[0mread\u001b[0m\u001b[0;34m(\u001b[0m\u001b[0mmspace\u001b[0m\u001b[0;34m,\u001b[0m \u001b[0mfspace\u001b[0m\u001b[0;34m,\u001b[0m \u001b[0marr\u001b[0m\u001b[0;34m,\u001b[0m \u001b[0mmtype\u001b[0m\u001b[0;34m,\u001b[0m \u001b[0mdxpl\u001b[0m\u001b[0;34m=\u001b[0m\u001b[0mself\u001b[0m\u001b[0;34m.\u001b[0m\u001b[0m_dxpl\u001b[0m\u001b[0;34m)\u001b[0m\u001b[0;34m\u001b[0m\u001b[0m\n\u001b[0m\u001b[1;32m    483\u001b[0m \u001b[0;34m\u001b[0m\u001b[0m\n\u001b[1;32m    484\u001b[0m         \u001b[0;31m# Patch up the output for NumPy\u001b[0m\u001b[0;34m\u001b[0m\u001b[0;34m\u001b[0m\u001b[0m\n",
      "\u001b[0;32mh5py/_objects.pyx\u001b[0m in \u001b[0;36mh5py._objects.with_phil.wrapper (/tmp/pip-4rPeHA-build/h5py/_objects.c:2684)\u001b[0;34m()\u001b[0m\n",
      "\u001b[0;32mh5py/_objects.pyx\u001b[0m in \u001b[0;36mh5py._objects.with_phil.wrapper (/tmp/pip-4rPeHA-build/h5py/_objects.c:2642)\u001b[0;34m()\u001b[0m\n",
      "\u001b[0;32mh5py/h5d.pyx\u001b[0m in \u001b[0;36mh5py.h5d.DatasetID.read (/tmp/pip-4rPeHA-build/h5py/h5d.c:3228)\u001b[0;34m()\u001b[0m\n",
      "\u001b[0;32mh5py/_proxy.pyx\u001b[0m in \u001b[0;36mh5py._proxy.dset_rw (/tmp/pip-4rPeHA-build/h5py/_proxy.c:2138)\u001b[0;34m()\u001b[0m\n",
      "\u001b[0;32mh5py/_proxy.pyx\u001b[0m in \u001b[0;36mh5py._proxy.H5PY_H5Dread (/tmp/pip-4rPeHA-build/h5py/_proxy.c:1505)\u001b[0;34m()\u001b[0m\n",
      "\u001b[0;31mIOError\u001b[0m: Can't read data (Addr overflow, addr = 223276975188, size=4096, eoa=222239029334)"
     ]
    },
    {
     "data": {
      "text/plain": [
       "<matplotlib.figure.Figure at 0x7ffb3ef1e690>"
      ]
     },
     "metadata": {},
     "output_type": "display_data"
    },
    {
     "data": {
      "text/plain": [
       "<matplotlib.figure.Figure at 0x7ffb3ee3acd0>"
      ]
     },
     "metadata": {},
     "output_type": "display_data"
    },
    {
     "data": {
      "text/plain": [
       "<matplotlib.figure.Figure at 0x7ffb3ef1e5d0>"
      ]
     },
     "metadata": {},
     "output_type": "display_data"
    },
    {
     "data": {
      "text/plain": [
       "<matplotlib.figure.Figure at 0x7ffb3ef15290>"
      ]
     },
     "metadata": {},
     "output_type": "display_data"
    }
   ],
   "source": [
    "figure(1,figsize=(15,240))\n",
    "figure(2,figsize=(15,15))\n",
    "figure(3,figsize=(15,15))\n",
    "figure(4,figsize=(15,15))\n",
    "%run /var/kat/katsdpscripts/reduction/baseline_cal_reduction.py -f 2200,2914 -p 'H' -r $ref_ant \\\n",
    " -a $ants $h5_filename\n"
   ]
  },
  {
   "cell_type": "code",
   "execution_count": 19,
   "metadata": {
    "scrolled": false
   },
   "outputs": [
    {
     "name": "stdout",
     "output_type": "stream",
     "text": [
      "\n",
      "Loading and processing data...\n",
      "\n",
      "DEBUG: Found int_time=3.998308486 in telstate['sdp_l0_int_time']\n",
      "DEBUG: Found scale_factor_timestamp=1712000000.0 in telstate[u'i0_scale_factor_timestamp']\n",
      "DEBUG: Found sync_time=1525035378.0 in telstate[u'i0_sync_time']\n",
      "DEBUG: Found n_chans=4096 in telstate['sdp_l0_n_chans']\n",
      "DEBUG: Found bandwidth=856000000.0 in telstate['sdp_l0_bandwidth']\n",
      "DEBUG: Found center_freq=1284000000.0 in telstate['sdp_l0_center_freq']\n",
      "DEBUG: Found int_time=3.998308486 in telstate['sdp_l0_int_time']\n",
      "DEBUG: Found scale_factor_timestamp=1712000000.0 in telstate[u'i0_scale_factor_timestamp']\n",
      "DEBUG: Found sync_time=1525035378.0 in telstate[u'i0_sync_time']\n",
      "DEBUG: Found n_chans=4096 in telstate['sdp_l0_n_chans']\n",
      "DEBUG: Found bandwidth=856000000.0 in telstate['sdp_l0_bandwidth']\n",
      "DEBUG: Found center_freq=1284000000.0 in telstate['sdp_l0_center_freq']\n",
      "DEBUG: Found int_time=3.998308486 in telstate['sdp_l0_int_time']\n",
      "DEBUG: Found scale_factor_timestamp=1712000000.0 in telstate[u'i0_scale_factor_timestamp']\n",
      "DEBUG: Found sync_time=1525035378.0 in telstate[u'i0_sync_time']\n",
      "DEBUG: Found n_chans=4096 in telstate['sdp_l0_n_chans']\n",
      "DEBUG: Found bandwidth=856000000.0 in telstate['sdp_l0_bandwidth']\n",
      "DEBUG: Found center_freq=1284000000.0 in telstate['sdp_l0_center_freq']\n",
      "DEBUG: Found int_time=3.998308486 in telstate['sdp_l0_int_time']\n",
      "DEBUG: Found scale_factor_timestamp=1712000000.0 in telstate[u'i0_scale_factor_timestamp']\n",
      "DEBUG: Found sync_time=1525035378.0 in telstate[u'i0_sync_time']\n"
     ]
    },
    {
     "ename": "IOError",
     "evalue": "Can't read data (Addr overflow, addr = 223276975188, size=4096, eoa=222239029334)",
     "output_type": "error",
     "traceback": [
      "\u001b[0;31m\u001b[0m",
      "\u001b[0;31mIOError\u001b[0mTraceback (most recent call last)",
      "\u001b[0;32m/var/kat/katsdpscripts/reduction/baseline_cal_reduction.py\u001b[0m in \u001b[0;36m<module>\u001b[0;34m()\u001b[0m\n\u001b[1;32m     55\u001b[0m \u001b[0;34m\u001b[0m\u001b[0m\n\u001b[1;32m     56\u001b[0m \u001b[0;32mprint\u001b[0m \u001b[0;34m\"\\nLoading and processing data...\\n\"\u001b[0m\u001b[0;34m\u001b[0m\u001b[0m\n\u001b[0;32m---> 57\u001b[0;31m \u001b[0mdata\u001b[0m \u001b[0;34m=\u001b[0m \u001b[0mkatdal\u001b[0m\u001b[0;34m.\u001b[0m\u001b[0mopen\u001b[0m\u001b[0;34m(\u001b[0m\u001b[0margs\u001b[0m\u001b[0;34m,\u001b[0m \u001b[0mref_ant\u001b[0m\u001b[0;34m=\u001b[0m\u001b[0mopts\u001b[0m\u001b[0;34m.\u001b[0m\u001b[0mref_ant\u001b[0m\u001b[0;34m,\u001b[0m \u001b[0mtime_offset\u001b[0m\u001b[0;34m=\u001b[0m\u001b[0mopts\u001b[0m\u001b[0;34m.\u001b[0m\u001b[0mtime_offset\u001b[0m\u001b[0;34m)\u001b[0m\u001b[0;34m\u001b[0m\u001b[0m\n\u001b[0m\u001b[1;32m     58\u001b[0m \u001b[0mcenter_freq\u001b[0m \u001b[0;34m=\u001b[0m \u001b[0mdata\u001b[0m\u001b[0;34m.\u001b[0m\u001b[0mfreqs\u001b[0m\u001b[0;34m[\u001b[0m\u001b[0mdata\u001b[0m\u001b[0;34m.\u001b[0m\u001b[0mshape\u001b[0m\u001b[0;34m[\u001b[0m\u001b[0;36m1\u001b[0m\u001b[0;34m]\u001b[0m \u001b[0;34m//\u001b[0m \u001b[0;36m2\u001b[0m\u001b[0;34m]\u001b[0m\u001b[0;34m\u001b[0m\u001b[0m\n\u001b[1;32m     59\u001b[0m \u001b[0;34m\u001b[0m\u001b[0m\n",
      "\u001b[0;32m/usr/local/lib/python2.7/dist-packages/katdal/__init__.pyc\u001b[0m in \u001b[0;36mopen\u001b[0;34m(filename, ref_ant, time_offset, **kwargs)\u001b[0m\n\u001b[1;32m    328\u001b[0m                                        ref_ant, time_offset, **kwargs)\n\u001b[1;32m    329\u001b[0m         \u001b[0;32melse\u001b[0m\u001b[0;34m:\u001b[0m\u001b[0;34m\u001b[0m\u001b[0m\n\u001b[0;32m--> 330\u001b[0;31m             \u001b[0mdataset\u001b[0m \u001b[0;34m=\u001b[0m \u001b[0m_file_action\u001b[0m\u001b[0;34m(\u001b[0m\u001b[0;34m'__call__'\u001b[0m\u001b[0;34m,\u001b[0m \u001b[0mf\u001b[0m\u001b[0;34m,\u001b[0m \u001b[0mref_ant\u001b[0m\u001b[0;34m,\u001b[0m \u001b[0mtime_offset\u001b[0m\u001b[0;34m,\u001b[0m \u001b[0;34m**\u001b[0m\u001b[0mkwargs\u001b[0m\u001b[0;34m)\u001b[0m\u001b[0;34m\u001b[0m\u001b[0m\n\u001b[0m\u001b[1;32m    331\u001b[0m         \u001b[0mdatasets\u001b[0m\u001b[0;34m.\u001b[0m\u001b[0mappend\u001b[0m\u001b[0;34m(\u001b[0m\u001b[0mdataset\u001b[0m\u001b[0;34m)\u001b[0m\u001b[0;34m\u001b[0m\u001b[0m\n\u001b[1;32m    332\u001b[0m     \u001b[0;32mreturn\u001b[0m \u001b[0mdatasets\u001b[0m\u001b[0;34m[\u001b[0m\u001b[0;36m0\u001b[0m\u001b[0;34m]\u001b[0m \u001b[0;32mif\u001b[0m \u001b[0misinstance\u001b[0m\u001b[0;34m(\u001b[0m\u001b[0mfilename\u001b[0m\u001b[0;34m,\u001b[0m \u001b[0mbasestring\u001b[0m\u001b[0;34m)\u001b[0m \u001b[0;32melse\u001b[0m\u001b[0;31m \u001b[0m\u001b[0;31m\\\u001b[0m\u001b[0;34m\u001b[0m\u001b[0m\n",
      "\u001b[0;32m/usr/local/lib/python2.7/dist-packages/katdal/__init__.pyc\u001b[0m in \u001b[0;36m_file_action\u001b[0;34m(action, filename, *args, **kwargs)\u001b[0m\n\u001b[1;32m    281\u001b[0m     \u001b[0;32mfor\u001b[0m \u001b[0mformat\u001b[0m \u001b[0;32min\u001b[0m \u001b[0mformats\u001b[0m\u001b[0;34m:\u001b[0m\u001b[0;34m\u001b[0m\u001b[0m\n\u001b[1;32m    282\u001b[0m         \u001b[0;32mtry\u001b[0m\u001b[0;34m:\u001b[0m\u001b[0;34m\u001b[0m\u001b[0m\n\u001b[0;32m--> 283\u001b[0;31m             \u001b[0mresult\u001b[0m \u001b[0;34m=\u001b[0m \u001b[0mgetattr\u001b[0m\u001b[0;34m(\u001b[0m\u001b[0mformat\u001b[0m\u001b[0;34m,\u001b[0m \u001b[0maction\u001b[0m\u001b[0;34m)\u001b[0m\u001b[0;34m(\u001b[0m\u001b[0mfilename\u001b[0m\u001b[0;34m,\u001b[0m \u001b[0;34m*\u001b[0m\u001b[0margs\u001b[0m\u001b[0;34m,\u001b[0m \u001b[0;34m**\u001b[0m\u001b[0mkwargs\u001b[0m\u001b[0;34m)\u001b[0m\u001b[0;34m\u001b[0m\u001b[0m\n\u001b[0m\u001b[1;32m    284\u001b[0m             \u001b[0;32mbreak\u001b[0m\u001b[0;34m\u001b[0m\u001b[0m\n\u001b[1;32m    285\u001b[0m         \u001b[0;32mexcept\u001b[0m \u001b[0mWrongVersion\u001b[0m\u001b[0;34m:\u001b[0m\u001b[0;34m\u001b[0m\u001b[0m\n",
      "\u001b[0;32m/usr/local/lib/python2.7/dist-packages/katdal/h5datav3.pyc\u001b[0m in \u001b[0;36m__init__\u001b[0;34m(self, filename, ref_ant, time_offset, mode, time_scale, time_origin, rotate_bls, centre_freq, band, keepdims, **kwargs)\u001b[0m\n\u001b[1;32m    262\u001b[0m         \u001b[0;32mfor\u001b[0m \u001b[0msensor_name\u001b[0m\u001b[0;34m,\u001b[0m \u001b[0msensor_data\u001b[0m \u001b[0;32min\u001b[0m \u001b[0mcache\u001b[0m\u001b[0;34m.\u001b[0m\u001b[0miteritems\u001b[0m\u001b[0;34m(\u001b[0m\u001b[0;34m)\u001b[0m\u001b[0;34m:\u001b[0m\u001b[0;34m\u001b[0m\u001b[0m\n\u001b[1;32m    263\u001b[0m             \u001b[0;32mif\u001b[0m \u001b[0msensor_name\u001b[0m\u001b[0;34m.\u001b[0m\u001b[0mendswith\u001b[0m\u001b[0;34m(\u001b[0m\u001b[0mregular_sensors\u001b[0m\u001b[0;34m)\u001b[0m \u001b[0;32mand\u001b[0m \u001b[0msensor_data\u001b[0m\u001b[0;34m:\u001b[0m\u001b[0;34m\u001b[0m\u001b[0m\n\u001b[0;32m--> 264\u001b[0;31m                 \u001b[0msensor_times\u001b[0m \u001b[0;34m=\u001b[0m \u001b[0msensor_data\u001b[0m\u001b[0;34m[\u001b[0m\u001b[0;34m'timestamp'\u001b[0m\u001b[0;34m]\u001b[0m\u001b[0;34m\u001b[0m\u001b[0m\n\u001b[0m\u001b[1;32m    265\u001b[0m                 \u001b[0mproposed_sensor_start_time\u001b[0m \u001b[0;34m=\u001b[0m \u001b[0msensor_times\u001b[0m\u001b[0;34m[\u001b[0m\u001b[0;36m0\u001b[0m\u001b[0;34m]\u001b[0m\u001b[0;34m\u001b[0m\u001b[0m\n\u001b[1;32m    266\u001b[0m                 \u001b[0msensor_duration\u001b[0m \u001b[0;34m=\u001b[0m \u001b[0msensor_times\u001b[0m\u001b[0;34m[\u001b[0m\u001b[0;34m-\u001b[0m\u001b[0;36m1\u001b[0m\u001b[0;34m]\u001b[0m \u001b[0;34m-\u001b[0m \u001b[0mproposed_sensor_start_time\u001b[0m\u001b[0;34m\u001b[0m\u001b[0m\n",
      "\u001b[0;32m/usr/local/lib/python2.7/dist-packages/katdal/sensordata.pyc\u001b[0m in \u001b[0;36m__getitem__\u001b[0;34m(self, key)\u001b[0m\n\u001b[1;32m    237\u001b[0m         \u001b[0;34m\"\"\"Extract timestamp and value of each sensor data point.\"\"\"\u001b[0m\u001b[0;34m\u001b[0m\u001b[0m\n\u001b[1;32m    238\u001b[0m         \u001b[0;32mif\u001b[0m \u001b[0mkey\u001b[0m \u001b[0;34m==\u001b[0m \u001b[0;34m'timestamp'\u001b[0m\u001b[0;34m:\u001b[0m\u001b[0;34m\u001b[0m\u001b[0m\n\u001b[0;32m--> 239\u001b[0;31m             \u001b[0;32mreturn\u001b[0m \u001b[0mnp\u001b[0m\u001b[0;34m.\u001b[0m\u001b[0masarray\u001b[0m\u001b[0;34m(\u001b[0m\u001b[0mself\u001b[0m\u001b[0;34m.\u001b[0m\u001b[0m_data\u001b[0m\u001b[0;34m[\u001b[0m\u001b[0mkey\u001b[0m\u001b[0;34m]\u001b[0m\u001b[0;34m)\u001b[0m\u001b[0;34m\u001b[0m\u001b[0m\n\u001b[0m\u001b[1;32m    240\u001b[0m         \u001b[0;32melif\u001b[0m \u001b[0mkey\u001b[0m \u001b[0;34m==\u001b[0m \u001b[0;34m'value'\u001b[0m\u001b[0;34m:\u001b[0m\u001b[0;34m\u001b[0m\u001b[0m\n\u001b[1;32m    241\u001b[0m             \u001b[0;31m# Unpack everything first, otherwise old files will be a mess\u001b[0m\u001b[0;34m\u001b[0m\u001b[0;34m\u001b[0m\u001b[0m\n",
      "\u001b[0;32mh5py/_objects.pyx\u001b[0m in \u001b[0;36mh5py._objects.with_phil.wrapper (/tmp/pip-4rPeHA-build/h5py/_objects.c:2684)\u001b[0;34m()\u001b[0m\n",
      "\u001b[0;32mh5py/_objects.pyx\u001b[0m in \u001b[0;36mh5py._objects.with_phil.wrapper (/tmp/pip-4rPeHA-build/h5py/_objects.c:2642)\u001b[0;34m()\u001b[0m\n",
      "\u001b[0;32m/usr/local/lib/python2.7/dist-packages/h5py/_hl/dataset.pyc\u001b[0m in \u001b[0;36m__getitem__\u001b[0;34m(self, args)\u001b[0m\n\u001b[1;32m    480\u001b[0m         \u001b[0mmspace\u001b[0m \u001b[0;34m=\u001b[0m \u001b[0mh5s\u001b[0m\u001b[0;34m.\u001b[0m\u001b[0mcreate_simple\u001b[0m\u001b[0;34m(\u001b[0m\u001b[0mmshape\u001b[0m\u001b[0;34m)\u001b[0m\u001b[0;34m\u001b[0m\u001b[0m\n\u001b[1;32m    481\u001b[0m         \u001b[0mfspace\u001b[0m \u001b[0;34m=\u001b[0m \u001b[0mselection\u001b[0m\u001b[0;34m.\u001b[0m\u001b[0mid\u001b[0m\u001b[0;34m\u001b[0m\u001b[0m\n\u001b[0;32m--> 482\u001b[0;31m         \u001b[0mself\u001b[0m\u001b[0;34m.\u001b[0m\u001b[0mid\u001b[0m\u001b[0;34m.\u001b[0m\u001b[0mread\u001b[0m\u001b[0;34m(\u001b[0m\u001b[0mmspace\u001b[0m\u001b[0;34m,\u001b[0m \u001b[0mfspace\u001b[0m\u001b[0;34m,\u001b[0m \u001b[0marr\u001b[0m\u001b[0;34m,\u001b[0m \u001b[0mmtype\u001b[0m\u001b[0;34m,\u001b[0m \u001b[0mdxpl\u001b[0m\u001b[0;34m=\u001b[0m\u001b[0mself\u001b[0m\u001b[0;34m.\u001b[0m\u001b[0m_dxpl\u001b[0m\u001b[0;34m)\u001b[0m\u001b[0;34m\u001b[0m\u001b[0m\n\u001b[0m\u001b[1;32m    483\u001b[0m \u001b[0;34m\u001b[0m\u001b[0m\n\u001b[1;32m    484\u001b[0m         \u001b[0;31m# Patch up the output for NumPy\u001b[0m\u001b[0;34m\u001b[0m\u001b[0;34m\u001b[0m\u001b[0m\n",
      "\u001b[0;32mh5py/_objects.pyx\u001b[0m in \u001b[0;36mh5py._objects.with_phil.wrapper (/tmp/pip-4rPeHA-build/h5py/_objects.c:2684)\u001b[0;34m()\u001b[0m\n",
      "\u001b[0;32mh5py/_objects.pyx\u001b[0m in \u001b[0;36mh5py._objects.with_phil.wrapper (/tmp/pip-4rPeHA-build/h5py/_objects.c:2642)\u001b[0;34m()\u001b[0m\n",
      "\u001b[0;32mh5py/h5d.pyx\u001b[0m in \u001b[0;36mh5py.h5d.DatasetID.read (/tmp/pip-4rPeHA-build/h5py/h5d.c:3228)\u001b[0;34m()\u001b[0m\n",
      "\u001b[0;32mh5py/_proxy.pyx\u001b[0m in \u001b[0;36mh5py._proxy.dset_rw (/tmp/pip-4rPeHA-build/h5py/_proxy.c:2138)\u001b[0;34m()\u001b[0m\n",
      "\u001b[0;32mh5py/_proxy.pyx\u001b[0m in \u001b[0;36mh5py._proxy.H5PY_H5Dread (/tmp/pip-4rPeHA-build/h5py/_proxy.c:1505)\u001b[0;34m()\u001b[0m\n",
      "\u001b[0;31mIOError\u001b[0m: Can't read data (Addr overflow, addr = 223276975188, size=4096, eoa=222239029334)"
     ]
    },
    {
     "data": {
      "text/plain": [
       "<matplotlib.figure.Figure at 0x7ffb3b162d50>"
      ]
     },
     "metadata": {},
     "output_type": "display_data"
    },
    {
     "data": {
      "text/plain": [
       "<matplotlib.figure.Figure at 0x7ffb3b162d90>"
      ]
     },
     "metadata": {},
     "output_type": "display_data"
    },
    {
     "data": {
      "text/plain": [
       "<matplotlib.figure.Figure at 0x7ffb3b162c90>"
      ]
     },
     "metadata": {},
     "output_type": "display_data"
    },
    {
     "data": {
      "text/plain": [
       "<matplotlib.figure.Figure at 0x7ffb3b174950>"
      ]
     },
     "metadata": {},
     "output_type": "display_data"
    }
   ],
   "source": [
    "figure(1,figsize=(15,240))\n",
    "figure(2,figsize=(15,15))\n",
    "figure(3,figsize=(15,15))\n",
    "figure(4,figsize=(15,15))\n",
    "%run -e /var/kat/katsdpscripts/reduction/baseline_cal_reduction.py -f 2200,2914 -p 'V' -r $ref_ant \\\n",
    " -a $ants $h5_filename\n"
   ]
  },
  {
   "cell_type": "code",
   "execution_count": 20,
   "metadata": {},
   "outputs": [
    {
     "name": "stdout",
     "output_type": "stream",
     "text": [
      "Done H\n"
     ]
    }
   ],
   "source": [
    "res_h = !python /var/kat/katsdpscripts/reduction/baseline_cal_reduction.py -f 2200,2914 -p 'H' -r $ref_ant \\\n",
    "  -a $ants  $h5_filename\n",
    "print \"Done H\""
   ]
  },
  {
   "cell_type": "code",
   "execution_count": 21,
   "metadata": {},
   "outputs": [
    {
     "name": "stdout",
     "output_type": "stream",
     "text": [
      "Done V\n"
     ]
    }
   ],
   "source": [
    "res_v = !python /var/kat/katsdpscripts/reduction/baseline_cal_reduction.py -f 2200,2914 -p 'V' -r $ref_ant \\\n",
    "  -a $ants $h5_filename\n",
    "print \"Done V\""
   ]
  },
  {
   "cell_type": "code",
   "execution_count": 22,
   "metadata": {},
   "outputs": [
    {
     "data": {
      "text/plain": [
       "{}"
      ]
     },
     "execution_count": 22,
     "metadata": {},
     "output_type": "execute_result"
    }
   ],
   "source": [
    "delays_h = {}\n",
    "for i,r in enumerate(res_h):\n",
    "    if r.startswith('Antenna'):\n",
    "        ant = r[8:12]\n",
    "        delays_h[ant] = {}\n",
    "        delays_h[ant]['E'] = float(res_h[i+2].split(':')[1].lstrip().split(' ')[0])\n",
    "        delays_h[ant]['N'] = float(res_h[i+3].split(':')[1].lstrip().split(' ')[0])\n",
    "        delays_h[ant]['U'] = float(res_h[i+4].split(':')[1].lstrip().split(' ')[0])\n",
    "        delays_h[ant]['D'] = float(res_h[i+5].split(':')[1].lstrip().split(' ')[0])\n",
    "delays_h"
   ]
  },
  {
   "cell_type": "code",
   "execution_count": 23,
   "metadata": {},
   "outputs": [
    {
     "data": {
      "text/plain": [
       "{}"
      ]
     },
     "execution_count": 23,
     "metadata": {},
     "output_type": "execute_result"
    }
   ],
   "source": [
    "delays_v = {}\n",
    "for i,r in enumerate(res_v):\n",
    "    if r.startswith('Antenna'):\n",
    "        ant = r[8:12]\n",
    "        delays_v[ant] = {}\n",
    "        delays_v[ant]['E'] = float(res_v[i+2].split(':')[1].lstrip().split(' ')[0])\n",
    "        delays_v[ant]['N'] = float(res_v[i+3].split(':')[1].lstrip().split(' ')[0])\n",
    "        delays_v[ant]['U'] = float(res_v[i+4].split(':')[1].lstrip().split(' ')[0])\n",
    "        delays_v[ant]['D'] = float(res_v[i+5].split(':')[1].lstrip().split(' ')[0])\n",
    "delays_v"
   ]
  },
  {
   "cell_type": "markdown",
   "metadata": {
    "collapsed": true
   },
   "source": [
    "# Cross check between polarizations for derived positions"
   ]
  },
  {
   "cell_type": "code",
   "execution_count": 24,
   "metadata": {},
   "outputs": [],
   "source": [
    "for a in sorted(delays_v):\n",
    "    print a,\n",
    "    print(\"diff E %06.3f\") %(delays_h[a]['E'] - delays_v[a]['E']),\n",
    "    print(\"diff N %06.3f\") %(delays_h[a]['N'] - delays_v[a]['N']),\n",
    "    print(\"diff U %06.3f\") %(delays_h[a]['U'] - delays_v[a]['U']),\n",
    "    print(\"diff D %06.3f\") %(delays_h[a]['D'] - delays_v[a]['D'])\n",
    "    \n",
    "# expect differences between E,N and U less than 1cm and Delays less than 3m "
   ]
  },
  {
   "cell_type": "code",
   "execution_count": 25,
   "metadata": {},
   "outputs": [],
   "source": [
    "# write solutions to file\n",
    "matchRe = re.findall('[0-9]{10,}', h5_filename)\n",
    "filename='delay_file_'+''.join(matchRe)+'.txt'\n",
    "\n",
    "with open(filename, 'w') as f:\n",
    "    for h,v in zip(delays_h,delays_v):\n",
    "        print >> f, h,v, mean([delays_h[h]['E'],delays_v[v]['E']]) , \\\n",
    "                    mean([delays_h[h]['N'],delays_v[v]['N']]), \\\n",
    "                    mean([delays_h[h]['U'],delays_v[v]['U']]), \\\n",
    "                    delays_h[h]['D'],delays_v[v]['D']\n",
    "    f.close()"
   ]
  },
  {
   "cell_type": "code",
   "execution_count": 26,
   "metadata": {},
   "outputs": [],
   "source": [
    "# sort delay file by antenna name and load antennaLOC\n",
    "sample = open(filename, 'r')\n",
    "sorter = csv.reader(sample, delimiter=' ')\n",
    "sort = sorted(sorter, key=operator.itemgetter(1))\n",
    "\n",
    "with open('ant_loc.csv', 'r') as f:\n",
    "    tocs = f.read()"
   ]
  },
  {
   "cell_type": "code",
   "execution_count": 27,
   "metadata": {},
   "outputs": [],
   "source": [
    "cols = ['Ants', 'Delay', 'East', 'North', 'UP', 'TOC']\n",
    "df = pd.DataFrame(columns=cols)\n",
    "for line in sort:\n",
    "    p = re.compile(line[0]+',\\s+\\d{4}\\.\\d{1,3}')\n",
    "    toc = float(p.search(tocs).group()[6:])\n",
    "    df = df.append(pd.Series(\n",
    "                             [\n",
    "                                line[0],\n",
    "                                line[-2],\n",
    "                                line[2],\n",
    "                                line[3],\n",
    "                                line[4], \n",
    "                                toc\n",
    "                             ], \n",
    "                              index=['Ants', 'Delay', 'East', 'North', 'UP', 'TOC']\n",
    "                            ), ignore_index = True)"
   ]
  },
  {
   "cell_type": "code",
   "execution_count": 28,
   "metadata": {},
   "outputs": [
    {
     "name": "stdout",
     "output_type": "stream",
     "text": [
      "\n",
      "Delay Solutions and antenna locations\n",
      "\n"
     ]
    },
    {
     "data": {
      "text/html": [
       "<div>\n",
       "<table border=\"1\" class=\"dataframe\">\n",
       "  <thead>\n",
       "    <tr style=\"text-align: right;\">\n",
       "      <th></th>\n",
       "      <th>Ants</th>\n",
       "      <th>Delay</th>\n",
       "      <th>East</th>\n",
       "      <th>North</th>\n",
       "      <th>UP</th>\n",
       "      <th>TOC</th>\n",
       "      <th></th>\n",
       "      <th>delta UP</th>\n",
       "      <th>delta TOC</th>\n",
       "    </tr>\n",
       "  </thead>\n",
       "  <tbody>\n",
       "  </tbody>\n",
       "</table>\n",
       "</div>"
      ],
      "text/plain": [
       "Empty DataFrame\n",
       "Columns: [Ants, Delay, East, North, UP, TOC,  , delta UP, delta TOC]\n",
       "Index: []"
      ]
     },
     "execution_count": 28,
     "metadata": {},
     "output_type": "execute_result"
    }
   ],
   "source": [
    "deltaTOC, deltaUP = [], []\n",
    "deltaTOC.append(0)\n",
    "deltaUP.append(0)\n",
    "for i in range(1, len(df.TOC[1:])+1):\n",
    "    deltaTOC.append(df.TOC[i] - df.TOC[i-1])\n",
    "    deltaUP.append(float(df.UP[i]) - float(df.UP[i-1]))\n",
    "\n",
    "em  = [' ' for i in range(len(deltaUP))]\n",
    "df[' '] =  pd.Series(em,  index = df.index)\n",
    "\n",
    "df['delta UP']  = pd.Series(deltaUP,  index = df.index)\n",
    "df['delta TOC'] = pd.Series(deltaTOC, index = df.index)\n",
    "\n",
    "print('\\nDelay Solutions and antenna locations\\n')\n",
    "df"
   ]
  },
  {
   "cell_type": "code",
   "execution_count": 29,
   "metadata": {},
   "outputs": [
    {
     "data": {
      "text/plain": [
       "32512"
      ]
     },
     "execution_count": 29,
     "metadata": {},
     "output_type": "execute_result"
    }
   ],
   "source": [
    "# send file to ops server to process and push to github\n",
    "\n",
    "opsServer='ops.kat.ac.za'\n",
    "rPath='/home/kat/ops_team_sw/utilities/update_delay_models'\n",
    "cmd = \"sshpass -p {} scp -r {} kat@{}:{}\".format('kat', filename, opsServer, rPath)\n",
    "system(cmd)\n"
   ]
  }
 ],
 "metadata": {
  "kernelspec": {
   "display_name": "Python 2",
   "language": "python",
   "name": "python2"
  },
  "language_info": {
   "codemirror_mode": {
    "name": "ipython",
    "version": 2
   },
   "file_extension": ".py",
   "mimetype": "text/x-python",
   "name": "python",
   "nbconvert_exporter": "python",
   "pygments_lexer": "ipython2",
   "version": "2.7.12"
  }
 },
 "nbformat": 4,
 "nbformat_minor": 1
}
