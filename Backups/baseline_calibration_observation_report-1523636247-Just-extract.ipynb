{
 "cells": [
  {
   "cell_type": "code",
   "execution_count": null,
   "metadata": {},
   "outputs": [],
   "source": [
    "%pylab inline"
   ]
  },
  {
   "cell_type": "code",
   "execution_count": null,
   "metadata": {},
   "outputs": [],
   "source": [
    "import scape\n",
    "import katdal\n",
    "import katpoint\n",
    "import katsdpscripts\n",
    "import glob\n",
    "import re\n",
    "import pandas as pd \n",
    "\n",
    "import csv\n",
    "import operator"
   ]
  },
  {
   "cell_type": "code",
   "execution_count": null,
   "metadata": {},
   "outputs": [],
   "source": [
    "from os import system"
   ]
  },
  {
   "cell_type": "code",
   "execution_count": null,
   "metadata": {
    "scrolled": true
   },
   "outputs": [],
   "source": [
    "print \"Scape version: %s\"%scape.__version__\n",
    "print \"katdal version: %s\"%katdal.__version__\n",
    "print \"katpoint version: %s\"%katpoint.__version__\n",
    "print \"katsdpscripts version: %s\"%katsdpscripts.__version__"
   ]
  },
  {
   "cell_type": "code",
   "execution_count": null,
   "metadata": {},
   "outputs": [],
   "source": [
    "h5_filename ='/var/kat/archive3/data/MeerKATAR1/telescope_products/2018/04/13/1523636247.h5'\n",
    "\n",
    "%set_env h5_filename = $h5_filename"
   ]
  },
  {
   "cell_type": "code",
   "execution_count": null,
   "metadata": {},
   "outputs": [],
   "source": [
    "res_h='\n",
    "\n",
    "\n",
    "\n",
    "\n",
    "'\n",
    "print res_h\n"
   ]
  },
  {
   "cell_type": "code",
   "execution_count": null,
   "metadata": {},
   "outputs": [],
   "source": [
    "res_h.splitlines()"
   ]
  },
  {
   "cell_type": "code",
   "execution_count": null,
   "metadata": {},
   "outputs": [],
   "source": [
    "delays_h={}\n",
    "for line in res_h.splitlines():\n",
    "    if line.startswith('Antenna'):\n",
    "        ant=line[8:12]\n",
    "        delays_h[ant] = {}\n",
    "    if line.startswith('E (m)'):\n",
    "        delays_h[ant]['E']=float(line.split(':')[1].lstrip().split(' ')[0])\n",
    "    if line.startswith('N (m)'):\n",
    "        delays_h[ant]['N']=float(line.split(':')[1].lstrip().split(' ')[0])\n",
    "    if line.startswith('U (m)'):\n",
    "        delays_h[ant]['U']=float(line.split(':')[1].lstrip().split(' ')[0])\n",
    "    if line.startswith('Cable'):\n",
    "        delays_h[ant]['D']=float(line.split(':')[1].lstrip().split(' ')[0])\n",
    "#print delays_h"
   ]
  },
  {
   "cell_type": "code",
   "execution_count": null,
   "metadata": {},
   "outputs": [],
   "source": [
    "res_v='\n",
    "\n",
    "'\n",
    "print res_v"
   ]
  },
  {
   "cell_type": "code",
   "execution_count": null,
   "metadata": {},
   "outputs": [],
   "source": [
    "delays_v={}\n",
    "for line in res_v.splitlines():\n",
    "    if line.startswith('Antenna'):\n",
    "        ant=line[8:12]\n",
    "        delays_v[ant] = {}\n",
    "    if line.startswith('E (m)'):\n",
    "        delays_v[ant]['E']=float(line.split(':')[1].lstrip().split(' ')[0])\n",
    "    if line.startswith('N (m)'):\n",
    "        delays_v[ant]['N']=float(line.split(':')[1].lstrip().split(' ')[0])\n",
    "    if line.startswith('U (m)'):\n",
    "        delays_v[ant]['U']=float(line.split(':')[1].lstrip().split(' ')[0])\n",
    "    if line.startswith('Cable'):\n",
    "        delays_v[ant]['D']=float(line.split(':')[1].lstrip().split(' ')[0])\n",
    "print delays_v"
   ]
  },
  {
   "cell_type": "markdown",
   "metadata": {
    "collapsed": true
   },
   "source": [
    "# Cross check between polarizations for derived positions"
   ]
  },
  {
   "cell_type": "code",
   "execution_count": null,
   "metadata": {},
   "outputs": [],
   "source": [
    "for a in sorted(delays_v):\n",
    "    print a,\n",
    "    print(\"diff E %06.3f\") %(delays_h[a]['E'] - delays_v[a]['E']),\n",
    "    print(\"diff N %06.3f\") %(delays_h[a]['N'] - delays_v[a]['N']),\n",
    "    print(\"diff U %06.3f\") %(delays_h[a]['U'] - delays_v[a]['U']),\n",
    "    print(\"diff D %06.3f\") %(delays_h[a]['D'] - delays_v[a]['D'])\n",
    "    \n",
    "# expect differences between E,N and U less than 1cm and Delays less than 3m "
   ]
  },
  {
   "cell_type": "code",
   "execution_count": null,
   "metadata": {},
   "outputs": [],
   "source": [
    "# write solutions to file\n",
    "matchRe = re.findall('[0-9]{10,}', h5_filename)\n",
    "filename='delay_file_'+''.join(matchRe)+'.txt'\n",
    "\n",
    "with open(filename, 'w') as f:\n",
    "    for h,v in zip(delays_h,delays_v):\n",
    "        print >> f, h,v, mean([delays_h[h]['E'],delays_v[v]['E']]) , \\\n",
    "                    mean([delays_h[h]['N'],delays_v[v]['N']]), \\\n",
    "                    mean([delays_h[h]['U'],delays_v[v]['U']]), \\\n",
    "                    delays_h[h]['D'],delays_v[v]['D']\n",
    "    f.close()"
   ]
  },
  {
   "cell_type": "code",
   "execution_count": null,
   "metadata": {},
   "outputs": [],
   "source": [
    "# sort delay file by antenna name and load antennaLOC\n",
    "sample = open(filename, 'r')\n",
    "sorter = csv.reader(sample, delimiter=' ')\n",
    "sort = sorted(sorter, key=operator.itemgetter(1))\n",
    "\n",
    "with open('ant_loc.csv', 'r') as f:\n",
    "    tocs = f.read()"
   ]
  },
  {
   "cell_type": "code",
   "execution_count": null,
   "metadata": {},
   "outputs": [],
   "source": [
    "cols = ['Ants', 'Delay', 'East', 'North', 'UP', 'TOC']\n",
    "df = pd.DataFrame(columns=cols)\n",
    "for line in sort:\n",
    "    p = re.compile(line[0]+',\\s+\\d{4}\\.\\d{1,3}')\n",
    "    toc = float(p.search(tocs).group()[6:])\n",
    "    df = df.append(pd.Series(\n",
    "                             [\n",
    "                                line[0],\n",
    "                                line[-2],\n",
    "                                line[2],\n",
    "                                line[3],\n",
    "                                line[4], \n",
    "                                toc\n",
    "                             ], \n",
    "                              index=['Ants', 'Delay', 'East', 'North', 'UP', 'TOC']\n",
    "                            ), ignore_index = True)"
   ]
  },
  {
   "cell_type": "code",
   "execution_count": null,
   "metadata": {},
   "outputs": [],
   "source": [
    "deltaTOC, deltaUP = [], []\n",
    "deltaTOC.append(0)\n",
    "deltaUP.append(0)\n",
    "for i in range(1, len(df.TOC[1:])+1):\n",
    "    deltaTOC.append(df.TOC[i] - df.TOC[i-1])\n",
    "    deltaUP.append(float(df.UP[i]) - float(df.UP[i-1]))\n",
    "\n",
    "em  = [' ' for i in range(len(deltaUP))]\n",
    "df[' '] =  pd.Series(em,  index = df.index)\n",
    "\n",
    "df['delta UP']  = pd.Series(deltaUP,  index = df.index)\n",
    "df['delta TOC'] = pd.Series(deltaTOC, index = df.index)\n",
    "\n",
    "print('\\nDelay Solutions and antenna locations\\n')\n",
    "df"
   ]
  },
  {
   "cell_type": "code",
   "execution_count": null,
   "metadata": {},
   "outputs": [],
   "source": [
    "# send file to ops server to process and push to github\n",
    "\n",
    "opsServer='ops.kat.ac.za'\n",
    "rPath='/home/kat/ops_team_sw/utilities/update_delay_models'\n",
    "cmd = \"sshpass -p {} scp -r {} kat@{}:{}\".format('kat', filename, opsServer, rPath)\n",
    "system(cmd)\n"
   ]
  }
 ],
 "metadata": {
  "kernelspec": {
   "display_name": "Python 2",
   "language": "python",
   "name": "python2"
  },
  "language_info": {
   "codemirror_mode": {
    "name": "ipython",
    "version": 2
   },
   "file_extension": ".py",
   "mimetype": "text/x-python",
   "name": "python",
   "nbconvert_exporter": "python",
   "pygments_lexer": "ipython2",
   "version": "2.7.12"
  }
 },
 "nbformat": 4,
 "nbformat_minor": 1
}
